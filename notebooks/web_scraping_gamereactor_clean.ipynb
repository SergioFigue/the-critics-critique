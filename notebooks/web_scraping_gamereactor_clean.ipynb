{
 "cells": [
  {
   "cell_type": "markdown",
   "metadata": {},
   "source": [
    "## Scraping GAMEREACTOR"
   ]
  },
  {
   "cell_type": "code",
   "execution_count": 1,
   "metadata": {},
   "outputs": [],
   "source": [
    "import requests\n",
    "from bs4 import BeautifulSoup\n",
    "import time\n",
    "import pandas as pd\n",
    "import numpy as np\n",
    "import newspaper\n",
    "from newspaper import Article\n",
    "from newspaper import Source\n",
    "from newspaper import fulltext"
   ]
  },
  {
   "cell_type": "markdown",
   "metadata": {},
   "source": [
    "## Scraping Articles Site "
   ]
  },
  {
   "cell_type": "code",
   "execution_count": 2,
   "metadata": {},
   "outputs": [
    {
     "data": {
      "text/plain": [
       "b' <!DOCTYPE html>\\n<html lang=\"es\">\\n<head>\\n\\n\\n<script>(function(w,d,s,l,i){w[l]=w[l]||[];w[l].push({\\'gtm.start\\':\\n\\tnew Date().getTime(),event:\\'gtm.js\\'});var f=d.getElementsByTagName(s)[0],\\n\\tj=d.createElement(s),dl=l!=\\'dataLayer\\'?\\'&l=\\'+l:\\'\\';j.async=true;j.src=\\n\\t\\'https://www.googletagmanager.com/gtm.js?id=\\'+i+dl;f.parentNode.insertBefore(j,f);\\n\\t})(window,document,\\'script\\',\\'dataLayer\\',\\'GTM-P9ZBFRD\\');</script>\\n\\n\\n<meta charset=\"utf-8\">\\n<meta name=\"viewport\" content=\"width=device-width, initial-scale=1.0,'"
      ]
     },
     "execution_count": 2,
     "metadata": {},
     "output_type": "execute_result"
    }
   ],
   "source": [
    "url = 'https://www.gamereactor.es/analisis/'\n",
    "html = requests.get(url).content\n",
    "html[:500]"
   ]
  },
  {
   "cell_type": "code",
   "execution_count": 3,
   "metadata": {},
   "outputs": [],
   "source": [
    "soup = BeautifulSoup(html, 'lxml')\n",
    "articles = soup.find('section', {'id':'textlist'}).find_all('article')"
   ]
  },
  {
   "cell_type": "code",
   "execution_count": 4,
   "metadata": {},
   "outputs": [
    {
     "data": {
      "text/plain": [
       "['Squad',\n",
       " 'Super Mario Bros. 35 - Battle Royale',\n",
       " \"Crash Bandicoot 4: It's About Time\"]"
      ]
     },
     "execution_count": 4,
     "metadata": {},
     "output_type": "execute_result"
    }
   ],
   "source": [
    "#Extraer títulos\n",
    "\n",
    "titles = [article.find('h3').text for article in articles]\n",
    "    \n",
    "titles[0:3]"
   ]
  },
  {
   "cell_type": "code",
   "execution_count": 5,
   "metadata": {},
   "outputs": [
    {
     "name": "stdout",
     "output_type": "stream",
     "text": [
      "['https://www.gamereactor.es/squad-analisis/?sid=861df4c8cdc5927d8dfd6d1e7bb4f699', 'https://www.gamereactor.es/super-mario-bros-35-battle-royale/?sid=861df4c8cdc5927d8dfd6d1e7bb4f699', 'https://www.gamereactor.es/crash-bandicoot-4-its-about-time-analisis/?sid=861df4c8cdc5927d8dfd6d1e7bb4f699', 'https://www.gamereactor.es/star-wars-squadrons-analisis/?sid=861df4c8cdc5927d8dfd6d1e7bb4f699', 'https://www.gamereactor.es/art-of-rally-analisis/?sid=861df4c8cdc5927d8dfd6d1e7bb4f699']\n"
     ]
    }
   ],
   "source": [
    "#Extraer links\n",
    "\n",
    "links = [f\"https://www.gamereactor.es{article.find_all('a')[1]['href']}\" for article in articles]\n",
    "\n",
    "print(links[0:5])\n"
   ]
  },
  {
   "cell_type": "code",
   "execution_count": 6,
   "metadata": {},
   "outputs": [
    {
     "data": {
      "text/plain": [
       "['Mike Holmes', 'Sergio Figueroa', 'Eirik Hyldbakk Furu']"
      ]
     },
     "execution_count": 6,
     "metadata": {},
     "output_type": "execute_result"
    }
   ],
   "source": [
    "#Not totally useful, discarded\n",
    "\n",
    "authors = []\n",
    "for article in articles:\n",
    "    full_authors = article.find_all('a', {'class': 'username'})\n",
    "    for author in full_authors:\n",
    "        authors.append(author.text)\n",
    "    \n",
    "authors[0:3]"
   ]
  },
  {
   "cell_type": "markdown",
   "metadata": {},
   "source": [
    "## Page parsing and link retrieving function for Gamereactor"
   ]
  },
  {
   "cell_type": "code",
   "execution_count": 2,
   "metadata": {},
   "outputs": [],
   "source": [
    "def gamereactor_link_retrieve(num_pages):\n",
    "    links = []\n",
    "    titles = []\n",
    "    \n",
    "    # pages parser\n",
    "    for i in range(num_pages):\n",
    "        url = f'https://www.gamereactor.es/analisis/?page={i+26}'\n",
    "\n",
    "        # building soup    \n",
    "        html = requests.get(url).content\n",
    "        soup = BeautifulSoup(html, 'lxml')\n",
    "        articles = soup.find('section', {'id':'textlist'}).find_all('article')\n",
    "    \n",
    "        # links retrieve\n",
    "        for article in articles:\n",
    "            links.append(f\"https://www.gamereactor.es{article.find_all('a')[1]['href']}\")\n",
    "            titles.append(article.find('h3').text)\n",
    "        \n",
    "    #print(links)           \n",
    "    return links, titles"
   ]
  },
  {
   "cell_type": "code",
   "execution_count": 3,
   "metadata": {},
   "outputs": [],
   "source": [
    "num_pages = 21\n",
    "\n",
    "links, titles = gamereactor_link_retrieve(num_pages)"
   ]
  },
  {
   "cell_type": "code",
   "execution_count": null,
   "metadata": {},
   "outputs": [],
   "source": []
  },
  {
   "cell_type": "markdown",
   "metadata": {},
   "source": [
    "## Scraping Single Review"
   ]
  },
  {
   "cell_type": "code",
   "execution_count": 42,
   "metadata": {},
   "outputs": [
    {
     "data": {
      "text/plain": [
       "b' <!DOCTYPE html>\\n<html lang=\"es\">\\n<head>\\n\\n\\n<script'"
      ]
     },
     "execution_count": 42,
     "metadata": {},
     "output_type": "execute_result"
    }
   ],
   "source": [
    "review_url = 'https://www.gamereactor.es/star-wars-squadrons-analisis/?sid=861df4c8cdc5927d8dfd6d1e7bb4f699'\n",
    "review_html = requests.get(review_url).content\n",
    "review_html[:50]"
   ]
  },
  {
   "cell_type": "code",
   "execution_count": 43,
   "metadata": {},
   "outputs": [],
   "source": [
    "soup = BeautifulSoup(review_html, 'lxml')"
   ]
  },
  {
   "cell_type": "code",
   "execution_count": 44,
   "metadata": {},
   "outputs": [],
   "source": [
    "#Text + cleaning\n",
    "article = soup.find('div', {'class': 'breadtext'}).find('div')\n",
    "p_tags = article.find_all('p')\n",
    "review = [tag.text for tag in p_tags]\n",
    "review = ' '.join(review)"
   ]
  },
  {
   "cell_type": "code",
   "execution_count": 45,
   "metadata": {},
   "outputs": [
    {
     "data": {
      "text/plain": [
       "'Squadrons es una nueva esperanza de EA para sacarl'"
      ]
     },
     "execution_count": 45,
     "metadata": {},
     "output_type": "execute_result"
    }
   ],
   "source": [
    "review[0:50]"
   ]
  },
  {
   "cell_type": "code",
   "execution_count": 46,
   "metadata": {},
   "outputs": [
    {
     "data": {
      "text/plain": [
       "'Mike Holmes'"
      ]
     },
     "execution_count": 46,
     "metadata": {},
     "output_type": "execute_result"
    }
   ],
   "source": [
    "# Author\n",
    "\n",
    "author = soup.find('li', {'class': 'publishAuthor bullet'}).text\n",
    "                   \n",
    "author"
   ]
  },
  {
   "cell_type": "code",
   "execution_count": 49,
   "metadata": {},
   "outputs": [
    {
     "data": {
      "text/plain": [
       "'[ANÁLISIS] Star Wars: Squadrons'"
      ]
     },
     "execution_count": 49,
     "metadata": {},
     "output_type": "execute_result"
    }
   ],
   "source": [
    "# Game\n",
    "\n",
    "News_article = Article(review_url)\n",
    "News_article.download()\n",
    "News_article.parse()\n",
    "News_article.title\n"
   ]
  },
  {
   "cell_type": "code",
   "execution_count": 51,
   "metadata": {},
   "outputs": [
    {
     "name": "stdout",
     "output_type": "stream",
     "text": [
      " PC, PS4, Xbox One Acción Electronic Arts\n"
     ]
    }
   ],
   "source": [
    "# Genre, Company and Platform\n",
    "\n",
    "infobox = soup.find_all('ul', {'class': 'infobox'})[0].contents\n",
    "\n",
    "for box in infobox:\n",
    "    \n",
    "    if 'Probado en:' in box.contents[0].text or 'Plataforma:' in box.contents[0].text:\n",
    "        platform = box.contents[1]\n",
    "        \n",
    "    if 'Género:' in box.contents[0].text:\n",
    "        genre = box.find('a').text\n",
    "        \n",
    "    if 'Editor:' in box.contents[0].text:\n",
    "        company = box.find('a').text\n",
    "\n",
    "print(platform, genre, company)        \n"
   ]
  },
  {
   "cell_type": "code",
   "execution_count": 137,
   "metadata": {},
   "outputs": [],
   "source": [
    "# Score\n",
    "\n",
    "score = soup.find('div', {'class': 'bigScoreWrapper'}).find('img')['alt']\n",
    "score = float(score)"
   ]
  },
  {
   "cell_type": "code",
   "execution_count": 138,
   "metadata": {},
   "outputs": [
    {
     "data": {
      "text/plain": [
       "8.0"
      ]
     },
     "execution_count": 138,
     "metadata": {},
     "output_type": "execute_result"
    }
   ],
   "source": [
    "score"
   ]
  },
  {
   "cell_type": "markdown",
   "metadata": {},
   "source": [
    "## Create columns"
   ]
  },
  {
   "cell_type": "code",
   "execution_count": 13,
   "metadata": {},
   "outputs": [],
   "source": [
    "\n",
    "def gamereactor_dict(links, titles):\n",
    "    reviews_dict = {}\n",
    "    i = 0\n",
    "    \n",
    "\n",
    "    for link, title in zip(links, titles):\n",
    "        try:\n",
    "            #Request content and wait\n",
    "            review_html = requests.get(link).content\n",
    "\n",
    "            #Avoid get banned and timeout\n",
    "            time.sleep(2)\n",
    "\n",
    "            #Make a Soup and a Newspaper paper & build\n",
    "            soup = BeautifulSoup(review_html, 'lxml')\n",
    "            #News_article = Article(link) - Unnecesary\n",
    "            #News_article.download() - Unnecesary\n",
    "            #News_article.parse() - Unnecesary\n",
    "            #paper = newspaper.build(link) - Unnecesary\n",
    "\n",
    "            #Site name - From Newspaper\n",
    "            #site = paper.brand - Unnecesary\n",
    "\n",
    "            #URL - From Newspaper\n",
    "            #url_link = paper.url - Unnecesary\n",
    "\n",
    "            #Author - From Scraping\n",
    "            author = soup.find('li', {'class': 'publishAuthor bullet'}).text\n",
    "\n",
    "            #Game - From Scraping\n",
    "            #game = News_article.title\n",
    "            game = title\n",
    "\n",
    "            #Company, Genre & Platform - From Scraping\n",
    "\n",
    "            genre = 'None'\n",
    "            company = 'None'\n",
    "            platform = 'None'\n",
    "\n",
    "            infobox = soup.find_all('ul', {'class': 'infobox'})[0].contents\n",
    "            for box in infobox:\n",
    "\n",
    "                if 'Probado en:' in box.contents[0].text or 'Plataforma:' in box.contents[0].text:\n",
    "                    platform = box.contents[1]\n",
    "\n",
    "                if 'Género:' in box.contents[0].text:\n",
    "                    genre = box.find('a').text\n",
    "\n",
    "                if 'Editor:' in box.contents[0].text:\n",
    "                    company = box.find('a').text\n",
    "\n",
    "\n",
    "            #Text & Cleaning - From Scraping\n",
    "            article = soup.find('div', {'class': 'breadtext'}).find('div')\n",
    "            p_tags = article.find_all('p')\n",
    "            review = [tag.text for tag in p_tags]\n",
    "            review = ' '.join(review)\n",
    "\n",
    "            #Score & Clean & Transform - From Scraping\n",
    "            score = soup.find('div', {'class': 'bigScoreWrapper'}).find('img')['alt']\n",
    "            score = float(score)\n",
    "\n",
    "            #Add to a dict\n",
    "            reviews_dict[i] = {'site': 'Gamereactor',\n",
    "                               'url_link': link,\n",
    "                               'author': author,\n",
    "                               'game': game,\n",
    "                               'company': company,\n",
    "                               'genre': genre,\n",
    "                               'platform': platform,\n",
    "                               'text': review,\n",
    "                               'score': score}\n",
    "\n",
    "        except AttributeError:\n",
    "            pass\n",
    "        \n",
    "        i = i+1\n",
    "        if i % 25 == 0:\n",
    "            print(i, ':', link)\n",
    "\n",
    "\n",
    "    return reviews_dict"
   ]
  },
  {
   "cell_type": "code",
   "execution_count": 14,
   "metadata": {},
   "outputs": [
    {
     "name": "stdout",
     "output_type": "stream",
     "text": [
      "25 : https://www.gamereactor.es/lego-dimensions-analisis/?sid=87156f03e2862d810c253c7147e123e0\n",
      "50 : https://www.gamereactor.es/everybodys-gone-to-the-rapture-analisis/?sid=2e1f4c198c797b64de0650a4ff00d285\n",
      "75 : https://www.gamereactor.es/halo-3-odst-para-xbox-one/?sid=2e1f4c198c797b64de0650a4ff00d285\n",
      "100 : https://www.gamereactor.es/convoy-analisis/?sid=a24a6edae5446e2906db97d9a8ecd2b7\n",
      "125 : https://www.gamereactor.es/assassins-creed-rogue-para-pc/?sid=a24a6edae5446e2906db97d9a8ecd2b7\n",
      "150 : https://www.gamereactor.es/far-cry-4-escapa-de-la-prision-de-durgesh/?sid=ad8b53687a650d1408e49fb725cc67a6\n",
      "175 : https://www.gamereactor.es/super-smash-bros-for-wii-u-analisis/?sid=ad8b53687a650d1408e49fb725cc67a6\n",
      "200 : https://www.gamereactor.es/sunset-overdrive-analisis/?sid=fdb839c83fda7b89f0698ce5c16226aa\n",
      "225 : https://www.gamereactor.es/wasteland-2-analisis/?sid=fdb839c83fda7b89f0698ce5c16226aa\n",
      "250 : https://www.gamereactor.es/oddworld-newntasty-analisis/?sid=750877eda9be5a7b3590c34cbf5dcdb2\n",
      "275 : https://www.gamereactor.es/short-peace-ranko-tsukigimes-longest-day-analisis/?sid=750877eda9be5a7b3590c34cbf5dcdb2\n",
      "300 : https://www.gamereactor.es/trials-fusion-analisis/?sid=8687a56358ee56d0f73056fff12d0ac7\n",
      "325 : https://www.gamereactor.es/yoshis-new-island-analisis/?sid=8687a56358ee56d0f73056fff12d0ac7\n",
      "350 : https://www.gamereactor.es/lightning-returns-final-fantasy-xiii-analisis/?sid=b9e9826189a0c75ad63afb5b2e28099f\n",
      "375 : https://www.gamereactor.es/hora-de-aventuras-explora-la-mazmorra-porque-yo-paso-analisis/?sid=b9e9826189a0c75ad63afb5b2e28099f\n",
      "400 : https://www.gamereactor.es/lego-marvel-super-heroes-analisis/?sid=0ea81d38f86ef35da5737c27c9b77f66\n",
      "425 : https://www.gamereactor.es/dragons-crown-analisis/?sid=0ea81d38f86ef35da5737c27c9b77f66\n",
      "450 : https://www.gamereactor.es/outlast-analisis/?sid=5172bd44fe471cec68b792d8f8d72d9e\n",
      "475 : https://www.gamereactor.es/pikmin-3-analisis/?sid=5172bd44fe471cec68b792d8f8d72d9e\n",
      "500 : https://www.gamereactor.es/fuse-analisis/?sid=a8843954eab8b4a3155b4c6280aa8a4f\n",
      "525 : https://www.gamereactor.es/battleblock-theater-analisis/?sid=a8843954eab8b4a3155b4c6280aa8a4f\n",
      "550 : https://www.gamereactor.es/el-puno-de-la-estrella-del-norte-kens-rage-2-analisis/?sid=081f792c4c3afa2eea26c126c2bc368e\n",
      "575 : https://www.gamereactor.es/ni-no-kuni-la-ira-de-la-bruja-blanca-analisis/?sid=081f792c4c3afa2eea26c126c2bc368e\n",
      "600 : https://www.gamereactor.es/call-of-duty-black-ops-declassified-analisis/?sid=fb316adbeb4958dc7924476fadab4587\n",
      "625 : https://www.gamereactor.es/super-monkey-ball-banana-splitz-analisis/?sid=fb316adbeb4958dc7924476fadab4587\n",
      "650 : https://www.gamereactor.es/borderlands-2-analisis/?sid=7e0b8e36459d9988b7928d4093a0e8c4\n",
      "675 : https://www.gamereactor.es/mutant-mudds-analisis/?sid=7e0b8e36459d9988b7928d4093a0e8c4\n",
      "700 : https://www.gamereactor.es/sonic-the-hedgehog-4-episode-ii-analisis/?sid=9bffd74f0960ba035f293def7e3d68ed\n",
      "725 : https://www.gamereactor.es/fez-analisis/?sid=9bffd74f0960ba035f293def7e3d68ed\n",
      "750 : https://www.gamereactor.es/lego-harry-potter-anos-57-analisis-12841/?sid=728725c2555764482e73a2f60b2122e6\n",
      "775 : https://www.gamereactor.es/wipeout-2048-analisis/?sid=728725c2555764482e73a2f60b2122e6\n",
      "800 : https://www.gamereactor.es/shinobi-analisis/?sid=ecaca8d64650bbf53c12c50aaaa0c07e\n",
      "825 : https://www.gamereactor.es/saints-row-the-third-analisis/?sid=ecaca8d64650bbf53c12c50aaaa0c07e\n",
      "850 : https://www.gamereactor.es/another-world-analisis/?sid=1810e250cee4dca8bcff2ef51604735b\n",
      "875 : https://www.gamereactor.es/pro-evolution-soccer-2012-analisis/?sid=1810e250cee4dca8bcff2ef51604735b\n",
      "900 : https://www.gamereactor.es/captain-america-sentinel-of-liberty-analisis/?sid=528a775d7f957efde5b5c22750056fcc\n",
      "925 : https://www.gamereactor.es/dirt-3-analisis/?sid=528a775d7f957efde5b5c22750056fcc\n",
      "950 : https://www.gamereactor.es/dead-space-2-severed/?sid=5ef9c0b7d5dbf89daa3290a3795ddfec\n",
      "975 : https://www.gamereactor.es/marvel-vs-capcom-3/?sid=5ef9c0b7d5dbf89daa3290a3795ddfec\n",
      "1000 : https://www.gamereactor.es/infinity-blade-analisis/?sid=7037b698a12e868601879dd2f59efa2e\n"
     ]
    }
   ],
   "source": [
    "#result = gamereactor_dict(links[3:], titles[3:])"
   ]
  },
  {
   "cell_type": "code",
   "execution_count": null,
   "metadata": {},
   "outputs": [],
   "source": []
  },
  {
   "cell_type": "markdown",
   "metadata": {},
   "source": [
    "### Create DataFrame"
   ]
  },
  {
   "cell_type": "code",
   "execution_count": 15,
   "metadata": {},
   "outputs": [
    {
     "data": {
      "text/html": [
       "<div>\n",
       "<style scoped>\n",
       "    .dataframe tbody tr th:only-of-type {\n",
       "        vertical-align: middle;\n",
       "    }\n",
       "\n",
       "    .dataframe tbody tr th {\n",
       "        vertical-align: top;\n",
       "    }\n",
       "\n",
       "    .dataframe thead th {\n",
       "        text-align: right;\n",
       "    }\n",
       "</style>\n",
       "<table border=\"1\" class=\"dataframe\">\n",
       "  <thead>\n",
       "    <tr style=\"text-align: right;\">\n",
       "      <th></th>\n",
       "      <th>site</th>\n",
       "      <th>url_link</th>\n",
       "      <th>author</th>\n",
       "      <th>game</th>\n",
       "      <th>company</th>\n",
       "      <th>genre</th>\n",
       "      <th>platform</th>\n",
       "      <th>text</th>\n",
       "      <th>score</th>\n",
       "    </tr>\n",
       "  </thead>\n",
       "  <tbody>\n",
       "    <tr>\n",
       "      <th>0</th>\n",
       "      <td>Gamereactor</td>\n",
       "      <td>https://www.gamereactor.es/dishonored-definiti...</td>\n",
       "      <td>Fabrizia Malgieri</td>\n",
       "      <td>Dishonored: Definitive Edition</td>\n",
       "      <td>Bethesda Softworks</td>\n",
       "      <td>Acción</td>\n",
       "      <td>PC, PS3, PS4, Xbox 360, Xbox One</td>\n",
       "      <td>Ya sea en literatura o en formato audiovisual,...</td>\n",
       "      <td>8.0</td>\n",
       "    </tr>\n",
       "    <tr>\n",
       "      <th>1</th>\n",
       "      <td>Gamereactor</td>\n",
       "      <td>https://www.gamereactor.es/life-is-strange-tem...</td>\n",
       "      <td>Bengt Lemne</td>\n",
       "      <td>Life is Strange - Temporada completa</td>\n",
       "      <td>Square Enix</td>\n",
       "      <td>Aventura</td>\n",
       "      <td>PC, Xbox One, Xbox 360, PS4, PS3, iOS, Android</td>\n",
       "      <td>Ahora que ha salido el episodio final de Life ...</td>\n",
       "      <td>9.0</td>\n",
       "    </tr>\n",
       "    <tr>\n",
       "      <th>2</th>\n",
       "      <td>Gamereactor</td>\n",
       "      <td>https://www.gamereactor.es/warhammer-the-end-t...</td>\n",
       "      <td>Cecilia Fjällström</td>\n",
       "      <td>Warhammer: The End Times - Vermintide</td>\n",
       "      <td>Fatshark</td>\n",
       "      <td>Acción</td>\n",
       "      <td>PC, PS4, Xbox One</td>\n",
       "      <td>Un rugido furioso resuena por los estrechos ca...</td>\n",
       "      <td>9.0</td>\n",
       "    </tr>\n",
       "    <tr>\n",
       "      <th>3</th>\n",
       "      <td>Gamereactor</td>\n",
       "      <td>https://www.gamereactor.es/assassins-creed-syn...</td>\n",
       "      <td>Ricardo C. Esteves</td>\n",
       "      <td>Assassin's Creed: Syndicate</td>\n",
       "      <td>Ubisoft</td>\n",
       "      <td>Acción</td>\n",
       "      <td>PC, PS4, Xbox One</td>\n",
       "      <td>Al parecer, sí que se puede tener demasiado de...</td>\n",
       "      <td>8.0</td>\n",
       "    </tr>\n",
       "    <tr>\n",
       "      <th>4</th>\n",
       "      <td>Gamereactor</td>\n",
       "      <td>https://www.gamereactor.es/the-legend-of-zelda...</td>\n",
       "      <td>Fabrizia Malgieri</td>\n",
       "      <td>The Legend of Zelda: Tri Force Heroes</td>\n",
       "      <td>Nintendo</td>\n",
       "      <td>Acción</td>\n",
       "      <td>Nintendo 3DS</td>\n",
       "      <td>The Legend of Zelda siempre ha destacado en el...</td>\n",
       "      <td>8.0</td>\n",
       "    </tr>\n",
       "    <tr>\n",
       "      <th>...</th>\n",
       "      <td>...</td>\n",
       "      <td>...</td>\n",
       "      <td>...</td>\n",
       "      <td>...</td>\n",
       "      <td>...</td>\n",
       "      <td>...</td>\n",
       "      <td>...</td>\n",
       "      <td>...</td>\n",
       "      <td>...</td>\n",
       "    </tr>\n",
       "    <tr>\n",
       "      <th>1008</th>\n",
       "      <td>Gamereactor</td>\n",
       "      <td>https://www.gamereactor.es/gran-turismo-5-anal...</td>\n",
       "      <td>Petter Hegevall (Gamereactor Suecia)</td>\n",
       "      <td>Gran Turismo 5</td>\n",
       "      <td>Sony</td>\n",
       "      <td>Carreras</td>\n",
       "      <td>PS3</td>\n",
       "      <td>Vaya pedazo de espera. Cinco años y ocho meses...</td>\n",
       "      <td>7.0</td>\n",
       "    </tr>\n",
       "    <tr>\n",
       "      <th>1009</th>\n",
       "      <td>Gamereactor</td>\n",
       "      <td>https://www.gamereactor.es/dance-central-anali...</td>\n",
       "      <td>Jonas Elfving (Gamereactor Suecia)</td>\n",
       "      <td>Dance Central</td>\n",
       "      <td>Microsoft</td>\n",
       "      <td>Party Game</td>\n",
       "      <td>Xbox 360</td>\n",
       "      <td>Lo creáis o no, solía ser todo un bailarín en ...</td>\n",
       "      <td>8.0</td>\n",
       "    </tr>\n",
       "    <tr>\n",
       "      <th>1010</th>\n",
       "      <td>Gamereactor</td>\n",
       "      <td>https://www.gamereactor.es/disney-epic-mickey-...</td>\n",
       "      <td>Rasmus Lund-Hansen (Gamereactor Dinamarca)</td>\n",
       "      <td>Disney Epic Mickey</td>\n",
       "      <td>Disney Interactive Studios</td>\n",
       "      <td>Plataformas</td>\n",
       "      <td>Wii</td>\n",
       "      <td>Si me hubieras preguntado mi opinión sobre Dis...</td>\n",
       "      <td>9.0</td>\n",
       "    </tr>\n",
       "    <tr>\n",
       "      <th>1011</th>\n",
       "      <td>Gamereactor</td>\n",
       "      <td>https://www.gamereactor.es/assassins-creed-la-...</td>\n",
       "      <td>Petter Mårtensson</td>\n",
       "      <td>Assassin's Creed: La Hermandad</td>\n",
       "      <td>Ubisoft</td>\n",
       "      <td>Acción</td>\n",
       "      <td>PC, PS3, Xbox 360, Mac</td>\n",
       "      <td>Cuando se redactó este artículo no habíamos po...</td>\n",
       "      <td>9.0</td>\n",
       "    </tr>\n",
       "    <tr>\n",
       "      <th>1012</th>\n",
       "      <td>Gamereactor</td>\n",
       "      <td>https://www.gamereactor.es/call-of-duty-black-...</td>\n",
       "      <td>Daniel Guanio (Gamereactor Noruega)</td>\n",
       "      <td>Call of Duty: Black Ops</td>\n",
       "      <td>Activision</td>\n",
       "      <td>Acción</td>\n",
       "      <td>PC, PS3, Xbox 360, Wii, Nintendo DS, Mac</td>\n",
       "      <td>Y eso que es complicada de llevar. Esta antorc...</td>\n",
       "      <td>9.0</td>\n",
       "    </tr>\n",
       "  </tbody>\n",
       "</table>\n",
       "<p>1013 rows × 9 columns</p>\n",
       "</div>"
      ],
      "text/plain": [
       "             site                                           url_link  \\\n",
       "0     Gamereactor  https://www.gamereactor.es/dishonored-definiti...   \n",
       "1     Gamereactor  https://www.gamereactor.es/life-is-strange-tem...   \n",
       "2     Gamereactor  https://www.gamereactor.es/warhammer-the-end-t...   \n",
       "3     Gamereactor  https://www.gamereactor.es/assassins-creed-syn...   \n",
       "4     Gamereactor  https://www.gamereactor.es/the-legend-of-zelda...   \n",
       "...           ...                                                ...   \n",
       "1008  Gamereactor  https://www.gamereactor.es/gran-turismo-5-anal...   \n",
       "1009  Gamereactor  https://www.gamereactor.es/dance-central-anali...   \n",
       "1010  Gamereactor  https://www.gamereactor.es/disney-epic-mickey-...   \n",
       "1011  Gamereactor  https://www.gamereactor.es/assassins-creed-la-...   \n",
       "1012  Gamereactor  https://www.gamereactor.es/call-of-duty-black-...   \n",
       "\n",
       "                                          author  \\\n",
       "0                              Fabrizia Malgieri   \n",
       "1                                    Bengt Lemne   \n",
       "2                             Cecilia Fjällström   \n",
       "3                             Ricardo C. Esteves   \n",
       "4                              Fabrizia Malgieri   \n",
       "...                                          ...   \n",
       "1008        Petter Hegevall (Gamereactor Suecia)   \n",
       "1009          Jonas Elfving (Gamereactor Suecia)   \n",
       "1010  Rasmus Lund-Hansen (Gamereactor Dinamarca)   \n",
       "1011                           Petter Mårtensson   \n",
       "1012         Daniel Guanio (Gamereactor Noruega)   \n",
       "\n",
       "                                       game                     company  \\\n",
       "0            Dishonored: Definitive Edition          Bethesda Softworks   \n",
       "1      Life is Strange - Temporada completa                 Square Enix   \n",
       "2     Warhammer: The End Times - Vermintide                    Fatshark   \n",
       "3               Assassin's Creed: Syndicate                     Ubisoft   \n",
       "4     The Legend of Zelda: Tri Force Heroes                    Nintendo   \n",
       "...                                     ...                         ...   \n",
       "1008                         Gran Turismo 5                        Sony   \n",
       "1009                          Dance Central                   Microsoft   \n",
       "1010                     Disney Epic Mickey  Disney Interactive Studios   \n",
       "1011         Assassin's Creed: La Hermandad                     Ubisoft   \n",
       "1012                Call of Duty: Black Ops                  Activision   \n",
       "\n",
       "            genre                                         platform  \\\n",
       "0          Acción                 PC, PS3, PS4, Xbox 360, Xbox One   \n",
       "1        Aventura   PC, Xbox One, Xbox 360, PS4, PS3, iOS, Android   \n",
       "2          Acción                                PC, PS4, Xbox One   \n",
       "3          Acción                                PC, PS4, Xbox One   \n",
       "4          Acción                                     Nintendo 3DS   \n",
       "...           ...                                              ...   \n",
       "1008     Carreras                                              PS3   \n",
       "1009   Party Game                                         Xbox 360   \n",
       "1010  Plataformas                                              Wii   \n",
       "1011       Acción                           PC, PS3, Xbox 360, Mac   \n",
       "1012       Acción         PC, PS3, Xbox 360, Wii, Nintendo DS, Mac   \n",
       "\n",
       "                                                   text  score  \n",
       "0     Ya sea en literatura o en formato audiovisual,...    8.0  \n",
       "1     Ahora que ha salido el episodio final de Life ...    9.0  \n",
       "2     Un rugido furioso resuena por los estrechos ca...    9.0  \n",
       "3     Al parecer, sí que se puede tener demasiado de...    8.0  \n",
       "4     The Legend of Zelda siempre ha destacado en el...    8.0  \n",
       "...                                                 ...    ...  \n",
       "1008  Vaya pedazo de espera. Cinco años y ocho meses...    7.0  \n",
       "1009  Lo creáis o no, solía ser todo un bailarín en ...    8.0  \n",
       "1010  Si me hubieras preguntado mi opinión sobre Dis...    9.0  \n",
       "1011  Cuando se redactó este artículo no habíamos po...    9.0  \n",
       "1012  Y eso que es complicada de llevar. Esta antorc...    9.0  \n",
       "\n",
       "[1013 rows x 9 columns]"
      ]
     },
     "execution_count": 15,
     "metadata": {},
     "output_type": "execute_result"
    }
   ],
   "source": [
    "gamereactor = pd.DataFrame.from_dict(result, orient='index')\n",
    "\n",
    "gamereactor"
   ]
  },
  {
   "cell_type": "code",
   "execution_count": 16,
   "metadata": {},
   "outputs": [],
   "source": [
    "#gamereactor.to_csv('../data/gamereactor_1250_last.csv', index=False)"
   ]
  },
  {
   "cell_type": "code",
   "execution_count": null,
   "metadata": {},
   "outputs": [],
   "source": []
  }
 ],
 "metadata": {
  "kernelspec": {
   "display_name": "Python [conda env:lab_env]",
   "language": "python",
   "name": "conda-env-lab_env-py"
  },
  "language_info": {
   "codemirror_mode": {
    "name": "ipython",
    "version": 3
   },
   "file_extension": ".py",
   "mimetype": "text/x-python",
   "name": "python",
   "nbconvert_exporter": "python",
   "pygments_lexer": "ipython3",
   "version": "3.7.3"
  }
 },
 "nbformat": 4,
 "nbformat_minor": 4
}
