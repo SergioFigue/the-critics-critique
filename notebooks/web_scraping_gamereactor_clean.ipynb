{
 "cells": [
  {
   "cell_type": "markdown",
   "metadata": {},
   "source": [
    "# Scraping GAMEREACTOR"
   ]
  },
  {
   "cell_type": "code",
   "execution_count": 1,
   "metadata": {},
   "outputs": [],
   "source": [
    "import requests\n",
    "from bs4 import BeautifulSoup\n",
    "import time\n",
    "import pandas as pd\n",
    "import numpy as np\n",
    "import newspaper\n",
    "from newspaper import Article\n",
    "from newspaper import Source\n",
    "from newspaper import fulltext"
   ]
  },
  {
   "cell_type": "markdown",
   "metadata": {},
   "source": [
    "## Scraping Articles Site "
   ]
  },
  {
   "cell_type": "code",
   "execution_count": 2,
   "metadata": {},
   "outputs": [
    {
     "data": {
      "text/plain": [
       "b' <!DOCTYPE html>\\n<html lang=\"es\">\\n<head>\\n\\n\\n<script>(function(w,d,s,l,i){w[l]=w[l]||[];w[l].push({\\'gtm.start\\':\\n\\tnew Date().getTime(),event:\\'gtm.js\\'});var f=d.getElementsByTagName(s)[0],\\n\\tj=d.createElement(s),dl=l!=\\'dataLayer\\'?\\'&l=\\'+l:\\'\\';j.async=true;j.src=\\n\\t\\'https://www.googletagmanager.com/gtm.js?id=\\'+i+dl;f.parentNode.insertBefore(j,f);\\n\\t})(window,document,\\'script\\',\\'dataLayer\\',\\'GTM-P9ZBFRD\\');</script>\\n\\n\\n<meta charset=\"utf-8\">\\n<meta name=\"viewport\" content=\"width=device-width, initial-scale=1.0,'"
      ]
     },
     "execution_count": 2,
     "metadata": {},
     "output_type": "execute_result"
    }
   ],
   "source": [
    "url = 'https://www.gamereactor.es/analisis/'\n",
    "html = requests.get(url).content\n",
    "html[:500]"
   ]
  },
  {
   "cell_type": "code",
   "execution_count": 3,
   "metadata": {},
   "outputs": [],
   "source": [
    "soup = BeautifulSoup(html, 'lxml')\n",
    "articles = soup.find('section', {'id':'textlist'}).find_all('article')"
   ]
  },
  {
   "cell_type": "code",
   "execution_count": 9,
   "metadata": {},
   "outputs": [
    {
     "data": {
      "text/plain": [
       "['Super Mario Bros. 35 - Battle Royale',\n",
       " \"Crash Bandicoot 4: It's About Time\",\n",
       " 'Star Wars: Squadrons']"
      ]
     },
     "execution_count": 9,
     "metadata": {},
     "output_type": "execute_result"
    }
   ],
   "source": [
    "#Extraer títulos\n",
    "\n",
    "titles = [article.find('h3').text for article in articles]\n",
    "    \n",
    "titles[0:3]"
   ]
  },
  {
   "cell_type": "code",
   "execution_count": 8,
   "metadata": {},
   "outputs": [
    {
     "name": "stdout",
     "output_type": "stream",
     "text": [
      "['https://www.gamereactor.es/super-mario-bros-35-battle-royale/?sid=1aded7c96af22385dd9c8d18e1388a85', 'https://www.gamereactor.es/crash-bandicoot-4-its-about-time-analisis/?sid=1aded7c96af22385dd9c8d18e1388a85', 'https://www.gamereactor.es/star-wars-squadrons-analisis/?sid=1aded7c96af22385dd9c8d18e1388a85', 'https://www.gamereactor.es/art-of-rally-analisis/?sid=1aded7c96af22385dd9c8d18e1388a85', 'https://www.gamereactor.es/kirby-fighters-2-analisis/?sid=1aded7c96af22385dd9c8d18e1388a85']\n"
     ]
    }
   ],
   "source": [
    "#Extraer links\n",
    "\n",
    "links = [f\"https://www.gamereactor.es{article.find_all('a')[1]['href']}\" for article in articles]\n",
    "\n",
    "print(links[0:5])\n"
   ]
  },
  {
   "cell_type": "code",
   "execution_count": 7,
   "metadata": {},
   "outputs": [
    {
     "data": {
      "text/plain": [
       "['Sergio Figueroa', 'Eirik Hyldbakk Furu', 'Mike Holmes']"
      ]
     },
     "execution_count": 7,
     "metadata": {},
     "output_type": "execute_result"
    }
   ],
   "source": [
    "#Not totally useful, discarded\n",
    "\n",
    "authors = []\n",
    "for article in articles:\n",
    "    full_authors = article.find_all('a', {'class': 'username'})\n",
    "    for author in full_authors:\n",
    "        authors.append(author.text)\n",
    "    \n",
    "authors[0:3]"
   ]
  },
  {
   "cell_type": "markdown",
   "metadata": {},
   "source": [
    "## Page parsing and link retrieving function for Gamereactor"
   ]
  },
  {
   "cell_type": "code",
   "execution_count": 10,
   "metadata": {},
   "outputs": [],
   "source": [
    "def gamereactor_link_retrieve(num_pages):\n",
    "    links = []\n",
    "    \n",
    "    # pages parser\n",
    "    for i in range(num_pages):\n",
    "        url = f'https://www.gamereactor.es/analisis/?page={i+1}'\n",
    "\n",
    "        # building soup    \n",
    "        html = requests.get(url).content\n",
    "        soup = BeautifulSoup(html, 'lxml')\n",
    "        articles = soup.find('section', {'id':'textlist'}).find_all('article')\n",
    "    \n",
    "\n",
    "        # links retrieve\n",
    "        for article in articles:\n",
    "            links.append(f\"https://www.gamereactor.es{article.find_all('a')[1]['href']}\")\n",
    "        \n",
    "    #print(links)           \n",
    "    return links\n"
   ]
  },
  {
   "cell_type": "code",
   "execution_count": 13,
   "metadata": {},
   "outputs": [
    {
     "name": "stdout",
     "output_type": "stream",
     "text": [
      "['https://www.gamereactor.es/peaky-blinders-mastermind-la-precuela/?sid=41207817edbc809d2c015b9bb6369924', 'https://www.gamereactor.es/mortal-shell-un-souls-endurecido/?sid=41207817edbc809d2c015b9bb6369924', 'https://www.gamereactor.es/hyper-scape-analisis/?sid=41207817edbc809d2c015b9bb6369924', 'https://www.gamereactor.es/microsoft-flight-simulator-vuelo-de-altura/?sid=41207817edbc809d2c015b9bb6369924', 'https://www.gamereactor.es/total-war-saga-troy-analisis/?sid=41207817edbc809d2c015b9bb6369924', 'https://www.gamereactor.es/hearthstone-academia-scholomance/?sid=67de3796f24dd764b65b1d94b3e6c008', 'https://www.gamereactor.es/fast-furious-crossroads-analisis/?sid=67de3796f24dd764b65b1d94b3e6c008', 'https://www.gamereactor.es/fall-guys-ultimate-knockout-analisis/?sid=67de3796f24dd764b65b1d94b3e6c008', 'https://www.gamereactor.es/horizon-zero-dawn-complete-edition-para-pc/?sid=67de3796f24dd764b65b1d94b3e6c008', 'https://www.gamereactor.es/skully-analisis/?sid=67de3796f24dd764b65b1d94b3e6c008']\n"
     ]
    }
   ],
   "source": [
    "num_pages = 2\n",
    "\n",
    "links = gamereactor_link_retrieve(num_pages)\n",
    "\n",
    "print(links[45:55])"
   ]
  },
  {
   "cell_type": "markdown",
   "metadata": {},
   "source": [
    "## Scraping Single Review"
   ]
  },
  {
   "cell_type": "code",
   "execution_count": null,
   "metadata": {},
   "outputs": [],
   "source": []
  },
  {
   "cell_type": "code",
   "execution_count": 130,
   "metadata": {},
   "outputs": [
    {
     "data": {
      "text/plain": [
       "b' <!DOCTYPE html>\\n<html lang=\"es\">\\n<head>\\n\\n\\n<script'"
      ]
     },
     "execution_count": 130,
     "metadata": {},
     "output_type": "execute_result"
    }
   ],
   "source": [
    "review_url = 'https://www.gamereactor.es/crash-bandicoot-4-its-about-time-analisis/'\n",
    "review_html = requests.get(review_url).content\n",
    "review_html[:50]"
   ]
  },
  {
   "cell_type": "code",
   "execution_count": 131,
   "metadata": {},
   "outputs": [],
   "source": [
    "soup = BeautifulSoup(review_html, 'lxml')"
   ]
  },
  {
   "cell_type": "code",
   "execution_count": 132,
   "metadata": {},
   "outputs": [],
   "source": [
    "#Text + cleaning\n",
    "article = soup.find('div', {'class': 'breadtext'}).find('div')\n",
    "p_tags = article.find_all('p')\n",
    "review = [tag.text for tag in p_tags]\n",
    "review = ' '.join(review)"
   ]
  },
  {
   "cell_type": "code",
   "execution_count": 133,
   "metadata": {},
   "outputs": [
    {
     "data": {
      "text/plain": [
       "'Aunque creo que Ford se pasó un poco con la caña que dio a Crash Bandicoot: Nsane Trilogy, no se puede negar que a las remasterizaciones de hace unos años les falta profundidad y les sobra imprecisión en el control y repetición de eventos para estar a altura de los mejores plataformas de hoy en día. Eso no fue impedimento para recibir con alegría la noticia de que habría Crash Bandicoot 4. Además, Toys for Bob prometió tomar en consideración las críticas y el feedback recibido. Tras muchas horas de juego a It\\'s About Time hay que agradecer que lo hayan hecho, a pesar de que aún queden ciertos inconvenientes del pasado. Nada más arrancar quedan presenten parte de los cambios más significativos, como puede ser el nuevo estilo visual y el rollo aún más chulesco. Todos los objetos, ya aparezcan en un vídeo cinematográfico o en la propia partida, saltan a la vista con un arco iris de color y mucho gusto por el detalle. Hay una similitud muy positiva con ese formato que recuerda a los Looney Tunes. Es un juego que desborda clase y que marca por ello. Ya sea por cómo se ven y suenan los escenarios, por la personalidad de sus protagonistas o por ese humor absurdo un poco a lo Mr. Bean del propio Crash. Estos elementos tienen fuerza por sí mismos como para insuflar vida propia a la franquicia y justificar la cuarta entrega, pero la cosa va a más. Porque toda esa energía y variedad se proyecta en el gameplay. Atrás quedan esos días en los que todo consistía en correr haciendo exactamente lo mismo mientras algo te perseguía o en avanzar por áreas tan lineales que lo más peligroso era sentir claustrofobia. Te das cuenta de lo mucho que se han esforzado en arreglar ese defecto de la trilogía original al ver que absolutamente todos los niveles te proponen retos distintos, cada uno desde su propia perspectiva. Aún así, moverse por entornos semejantes puede llegar a ser monótono. Así que hay que estar eternamente agradecidos a Neo Cortex y a Nefarious Tropy por abrir esas brechas a otras dimensiones al huír en el final de Warped (¡spoiler!) La mayor parte de las dimensiones están formadas por unos pocos niveles, así que no te llegas a cansar de las vistas de la playa o de la selva, porque enseguida ya estás en otro mundo como una fábrica futurista o un cala pirata. Dejamos aquí las presentaciones porque es mejor descubrirlas por uno mismo. Lugares nunca visto, amenazas seguras, ¿dice el refrán? Los enemigos se han vuelto más letales y tienen menos puntos débiles, los escenarios son más grandes y completos y las secciones de plataformas exigen mayor precisión junto a un timing preciso. Como todos los elementos son más complejos, también se nota una evolución en la exploración. Al principio no estaba seguro de si me gustaba el nuevo modo \"Moderno\" -que te otorga vidas infinitas-, pero luego lo comprendí: no está ahí solo para hacerlo más amigable para los más pequeños y gente con menos experiencia, es que es la única forma de poder disfrutar al máximo del contenido con la nueva libertad que presenta Crash Bandicoot 4. Ni sé la de veces que he descubierto una gema oculta, un cofre o una referencia graciosa por hacer las cosas de otra forma, coger una ruta alternativa o interactuar con algún objeto. No me lo esperaba y estoy encantado. Como ya irás suponiendo, el nuevo Crash no es más fácil que los antiguos. Conseguir todas las gemas y skins exige romper todas las cajas de cada pantalla sin morir más de tres veces, o sin morir ninguna si vas a por el premio especial. Así que no quienes vayan al 100% se van a tener que esforzar mucho. Si estás pensando en por qué ibas a tener que morir tú en un plataformas como este, te diré que gran parte de la culpa está precisamente en la enorme variedad de situaciones. Como una batalla contra un jefe a lo Guitar Hero, persecuciones en momentos inesperados o el uso de obstáculos con mayor ingenio para sacar más partido a esos segmentos y a las lianas. Hay algunas zonas de difícil acceso que están ahí para que tú, que estás pensando que esto está chupao, lo pases mal. Pero intentarlo merece la pena porque al llegar a ellas se consigue el acceso a los niveles Flashback. Digamos que son los lugares en los que Cortex estuvo experimentando con Crash tiempo atrás, así que tienen un toque de locura y otro de castigo. Tanto halago al trabajo de Toys for Bob, ¡y todavía no hemos hablado de las máscaras! Aunque el concepto venga de lejos, la utilidad es nueva, porque esta vez hay más y sirven para ganar habilidades especiales que tienen su uso en zonas concretas. Lani-Loli pone a prueba tu coordinación al habilitar la desaparición de objetos; Kupuna-Wa permite ralentizar el tiempo y eso da mucho juego; Ika Ika altera la gravedad; y \\'Akano... bueno, quien llegue lejos que lo descubra. Consiguen alterar bien el ritmo, a pesar de que están muy restringidas y eso limita su potencial. Este repaso a lo que ofrece Crash Bandicoot 4, si te fijas, no para de abrir alternativas y vías. Pues aún queda otra que es la de los personajes. Además de Crash y Coco, que se juegan de forma parecida, hay otros como Neo Cortex para los que han diseñado sus propias zonas en función de lo que saben hacer. Tratamos este tema en profundidad en las impresiones, y en este análisis hay que multiplicarlo con la introducción de Dingodile, Tawna y alguno más. Claro que no todos están al mismo nivel. Arrancaba el texto diciendo que It\\'s About Time ha aprendido de casi todos los errores de la trilogía remasterizada. Casi todos. Porque vuelve a tropezar en alguna piedra del pasado y, bienvenidos sean los cambios, pero también traen sus riesgos. Como por ejemplo, que muchas pantallas hechas para secundarios no dejan de ser versiones mínimamente alternativas de las que ya habías vivido con Crash o con Coco. Son más las que dejan sensación de reciclado que las que de verdad te convencen de que estás jugando algo distinto. En cuanto a los errores de toda la vida, me siguen sin convencer los controles y cómo se relaciona con la sensación de profundidad, y eso que hay un indicador debajo del personaje. La de cajas que me habré dejado atrás por un error de cálculo. Tengas al que tengas en tus manos, ninguno va tan fino como esperas, así que nunca vas con la confianza y la seguridad que transmiten otros plataformas por mucho que hayas repetido el mismo espacio un millar de veces. Queda claro que las mejoras superan claramente a los desperfectos que han aparecido y reparan gran parte de los que arrastraba la serie Crash Bandicoot. Ese humor tan característico no pasa de moda a pesar de que yo sí he pasado de grupo social y el mundo de juego es lustroso, rico y más ancho que nunca, así que esta vez se disfruta de verdad. Con un nivel de dificultad más ajustado y un control no tan domesticado, el reto está servido durante horas con este Crash Bandicoot 4: It\\'s About Time que es evolución y tradición en su justa medida.'"
      ]
     },
     "execution_count": 133,
     "metadata": {},
     "output_type": "execute_result"
    }
   ],
   "source": [
    "review"
   ]
  },
  {
   "cell_type": "code",
   "execution_count": 134,
   "metadata": {},
   "outputs": [
    {
     "data": {
      "text/plain": [
       "'Eirik Hyldbakk Furu'"
      ]
     },
     "execution_count": 134,
     "metadata": {},
     "output_type": "execute_result"
    }
   ],
   "source": [
    "# Author\n",
    "\n",
    "author = soup.find('li', {'class': 'publishAuthor bullet'}).text\n",
    "                   \n",
    "author"
   ]
  },
  {
   "cell_type": "code",
   "execution_count": 135,
   "metadata": {},
   "outputs": [
    {
     "data": {
      "text/plain": [
       "\"Crash Bandicoot 4: It's About Time\""
      ]
     },
     "execution_count": 135,
     "metadata": {},
     "output_type": "execute_result"
    }
   ],
   "source": [
    "# Game\n",
    "\n",
    "News_article = Article(review_url)\n",
    "News_article.download()\n",
    "News_article.parse()\n",
    "News_article.title\n"
   ]
  },
  {
   "cell_type": "code",
   "execution_count": 136,
   "metadata": {},
   "outputs": [
    {
     "name": "stdout",
     "output_type": "stream",
     "text": [
      " PS4, Xbox One Plataformas Activision\n"
     ]
    }
   ],
   "source": [
    "# Genre, Company and Platform\n",
    "\n",
    "infobox = soup.find_all('ul', {'class': 'infobox'})[0].contents\n",
    "\n",
    "for box in infobox:\n",
    "    \n",
    "    if 'Probado en:' in box.contents[0].text:\n",
    "        platform = box.contents[1]\n",
    "        \n",
    "    if 'Género:' in box.contents[0].text:\n",
    "        genre = box.find('a').text\n",
    "        \n",
    "    if 'Editor:' in box.contents[0].text:\n",
    "        company = box.find('a').text\n",
    "\n",
    "print(platform, genre, company)        \n"
   ]
  },
  {
   "cell_type": "code",
   "execution_count": 137,
   "metadata": {},
   "outputs": [],
   "source": [
    "# Score\n",
    "\n",
    "score = soup.find('div', {'class': 'bigScoreWrapper'}).find('img')['alt']\n",
    "score = float(score)"
   ]
  },
  {
   "cell_type": "code",
   "execution_count": 138,
   "metadata": {},
   "outputs": [
    {
     "data": {
      "text/plain": [
       "8.0"
      ]
     },
     "execution_count": 138,
     "metadata": {},
     "output_type": "execute_result"
    }
   ],
   "source": [
    "score"
   ]
  },
  {
   "cell_type": "markdown",
   "metadata": {},
   "source": [
    "## Create columns"
   ]
  },
  {
   "cell_type": "code",
   "execution_count": 96,
   "metadata": {},
   "outputs": [],
   "source": [
    "\n",
    "def gamereactor_dict(links):\n",
    "    reviews_dict = {}\n",
    "    i = 0\n",
    "\n",
    "    for link in links:\n",
    "\n",
    "        #Request content and wait\n",
    "        review_html = requests.get(link).content\n",
    "        \n",
    "        #Avoid get banned and timeout\n",
    "        time.sleep(5)\n",
    "\n",
    "        #Make a Soup and a Newspaper paper & build\n",
    "        soup = BeautifulSoup(review_html, 'lxml')\n",
    "        News_article = Article(link)\n",
    "        News_article.download()\n",
    "        News_article.parse()\n",
    "        paper = newspaper.build(link)\n",
    "\n",
    "        #Site name - From Newspaper\n",
    "        site = paper.brand\n",
    "\n",
    "        #URL - From Newspaper\n",
    "        url_link = paper.url\n",
    "\n",
    "        #Author - From Scraping\n",
    "        author = author = soup.find('li', {'class': 'publishAuthor bullet'}).text\n",
    "\n",
    "        #Game - From Scraping\n",
    "        game = News_article.title\n",
    "        \n",
    "        #Company, Genre & Platform - From Scraping\n",
    "        \n",
    "        genre = 'None'\n",
    "        company = 'None'\n",
    "        platform = 'None'\n",
    "        \n",
    "        infobox = soup.find_all('ul', {'class': 'infobox'})[0].contents\n",
    "        for box in infobox:\n",
    "\n",
    "            if 'Probado en:' in box.contents[0].text:\n",
    "                platform = box.contents[1]\n",
    "\n",
    "            if 'Género:' in box.contents[0].text:\n",
    "                genre = box.find('a').text\n",
    "\n",
    "            if 'Editor:' in box.contents[0].text:\n",
    "                company = box.find('a').text\n",
    "                            \n",
    "\n",
    "        #Text & Cleaning - From Scraping\n",
    "        article = soup.find('div', {'class': 'breadtext'}).find('div')\n",
    "        p_tags = article.find_all('p')\n",
    "        review = [tag.text for tag in p_tags]\n",
    "        review = ' '.join(review)\n",
    "\n",
    "        #Score & Clean & Transform - From Scraping\n",
    "        score = soup.find('div', {'class': 'bigScoreWrapper'}).find('img')['alt']\n",
    "        score = float(score)\n",
    "\n",
    "        #Add to a dict\n",
    "        reviews_dict[i] = {'site': site,\n",
    "                           'url_link': url_link,\n",
    "                           'author': author,\n",
    "                           'game': game,\n",
    "                           'company': company,\n",
    "                           'genre': genre,\n",
    "                           'platform': platform,\n",
    "                           'text': review,\n",
    "                           'score': score}\n",
    "        \n",
    "        i = i+1\n",
    "\n",
    "    return reviews_dict"
   ]
  },
  {
   "cell_type": "code",
   "execution_count": 97,
   "metadata": {},
   "outputs": [
    {
     "name": "stdout",
     "output_type": "stream",
     "text": [
      "{0: {'site': 'revogamers', 'url_link': 'https://www.revogamers.net/analisis-w/analisis-de-kirby-fighters-2-56351/', 'author': 'Javier Aranda', 'game': ' Kirby Fighters 2', 'company': 'HAL Laboratory', 'genre': 'Lucha', 'platform': 'Nintendo Switch', 'text': 'Kirby ha demostrado en más de una ocasión que sus modos de juego adicionales a las historias de sus títulos son capaces de convertirse en lanzamientos por sí mismos. Lo hemos visto en 3DS y también en Switch. Ahora llega Kirby Fighters 2, con los gráficos de Kirby Star Allies y muchas novedades respecto a su precuela.  En Kirby siempre ha habido muchos combates, por lo que no es de extrañar que este «Smash Bros» con la jugabilidad propia de la saga de la bola redonda volviese a aparecer en algún momento. Al igual que todos sus títulos, tiene una dificultad muy accesible para todo tipo de jugadores, aunque también tiene extras algo más complejos que, sin llegar a ser una pesadilla, suben el nivel de reto considerablemente. Lo principal que tenemos aquí son combates de hasta cuatro jugadores (todos contra todos o por parejas) en la misma consola, en juego local o en línea. Este último es algo más lento para encontrar jugadores que el visto en el free to play de Kirby, pero todos los combates que hemos jugado transcurren a buen ritmo y, gracias a que una vez que morimos reaparecemos como fantasmas, nunca hay grandes períodos de tiempo en los que solo miramos como ocurre en otros títulos del género. Pero sabe también ofrecer diversión para una o dos personas con un «modo historia» en el que tenemos que recorrer,\\xa0acompañados de Waddle Dee, varias plantas de una torre con ciertas limitaciones de vida y con varias mejoras entre las que podemos elegir tras acabar cada combate. Sirve principalmente com otoma de contacto para ir subiendo niveles de jugador, algo que nos va desbloqueando nuevos poderes de Kirby, apariencias, mejoras para desbloquear y algún extra más. Si nos sabe a poco, podemos también ir al modo En Solitario, en el que tenemos que hacer frente a varios enemigos seguidos a modo de supervivencia sin ayuda de ningún compañero humano o de CPU.  Jugar a este título es muy fácil, y si se conoce la saga es inmediato. Aquí Kirby no consigue habilidades al absorber enemigos, sino que, al igual que ocurre en los modos «Arena» de sus juegos, podemos elegir una habilidad para tenerla equipada de serie y con ella hacer frente a todo lo que nos viene. Todos\\xa0 los movimientos y ataques se realizan con combinaciones sencillas del stick y los botones B y A, aunque también disponemos de un escudo con los botones superiores y de un «agarre» con la boca (novedad interesante) pulsando Y. El mecanismo jugable es extremadamente sencillo, por lo que los más acérrimos a los juegos de lucha bien complejos con muchos combos y velocidad de combate no van a encontrar aquí un aliado. Es más, este título tiene como público principal a los seguidores de la saga, o bien a aquellos que busquen una experiencia Smash más relajada o de iniciación. El juego da para muchas horas, siempre y cuando hagamos uso del multijugador, ya que, a no ser que seamos amantes de desbloquear todo y completar el juego con todos los poderes, las experiencias para un jugador se pueden quedar cortas. A nivel gráfico y sonoro, estamos ante todo lo que hemos visto ya en Kirby para Switch, y puede que incluso algo mejor en algunas animaciones (y con el disfraz de lucha libre como novedad). No es un estilo muy puntero, pero sí resultón, colorido y cercano. Además, es también una especie de homenaje a la saga, pues existen un montón de escenarios y melodías clásicos de la franquicia, que rebosan felicidad – y acción – por todas partes.  Kirby Fighters 2 es más que una secuela continuista. Es un producto mucho más completo, que sabe satisfacer mejor al jugador en solitario y también a la comunidad online. Puede que si no se es fan de la franquicia o un jugador novato sepa a poco, pero para el resto es una mina de contenido a desbloquear y muchas horas de combates. Quizás muchos hubieramos preferido que este título fuese un modo dentro de un nuevo título principal de la serie, pero mientras este llega es un aperitivo interesante.', 'score': 7.5}, 1: {'site': 'revogamers', 'url_link': 'https://www.revogamers.net/analisis-w/analisis-de-lost-ember-55953/', 'author': 'Carlos Firás', 'game': ' Lost Ember', 'company': 'None', 'genre': 'None', 'platform': 'Nintendo Switch', 'text': 'Llega a nuestras Nintendo Switch un juego que te invita a formar parte de la naturaleza como nunca antes se había hecho. Eso es lo que nos propone Lost Ember, transformarnos en animales y recorrer los mejores paisajes naturales, conocer los secretos que en ellos se esconden. Volar, nadar, brincar y aullar. ¿Te atreves a conocer a tu animal interior?  Lost Ember es un juego de exploración en el que utilizamos las cualidades de los animales para abrirnos paso por el entorno. En el juego encarnamos a Loba, una loba que a su vez es la encarnación de una Yanrana, habitante de una antigua sociedad enorme que vivió tiempos mejores. En Lost Ember recorremos enormes paisajes preciosistas en busca de conocer la verdad sobre el misterioso ocaso de esta civilización. De esta forma, comienza un viaje hacia lo desconocido, en donde no solo conocemos lo sucedido en esta sociedad, sino que también nos conoceremos a nosotros mismos. Todo a través de enormes paisajes en donde la más pura naturaleza a tomado el control. Esto nos garantiza verdaderas estampas que van a tardar en ser borradas de nuestra memoria.  Loba, como portadora espiritual que es, tiene la habilidad de poseer cualquier animal que se encuentre a nuestro alrededor. Esto nos sirve para abrirnos paso frente a los obstáculos que nos vamos a encontrar en nuestra búsqueda de la verdad, \\xa0siendo esta la principal mecánica jugable de Lost Ember. Contamos con la posibilidad de poseer una amplia variedad de animales como aves para cruzar precipicios, peces para avanzar por ríos, topos para cruzar por debajo de altas fortificaciones, hasta cabras montesas para escalar por montañas. Incluso podemos poseer animales que tienen nula importancia para poder avanzar en la historia, solo por el placer de verles relacionarse con el entorno. Lo que también nos va a valer para conocer nuevas especies, ¿alguna vez os habíais imagino controlar un wombat? Nuestra loba correrá por los bellos escenarios en los que nuestras acciones y lo natural se vuelven uno con secuencias jugables espléndidamente coreografiadas. Básicamente lo que hacemos en Lost Ember es avanzar y contemplar. Es una experiencia minimalista en cuanto jugabilidad. En donde la capacidad de transmitir mediante el movimiento y el diseño artístico toma el protagonismo.  Artísticamente Lost Ember es una de las cosas más bellas que te puedes echar a la cara. Su diseño artístico, la creación de entornos y los majestuosos escenarios naturales entran por los ojos y llegan hasta el alma. Sonoramente también es precioso y nos deja una hermosa banda sonora para el recuerdo. Lástima que técnicamente no acompañe ya que el juego sale en Switch con varios problemas, los cuales no tienen pinta que se vayan a solventar, puesto que son los mismos que están presentes en las versiones de otros sistemas salidos a la venta allá por el 2019. Problemas como bajadas de la tasa de imágenes, congelaciones, personajes atrapados en escenarios o texturas que cargan frente a nosotros o que directamente no cargan. Otro punto negativo puede ser su duración, especialmente porque el juego cuesta 30 euros de entrada, por lo que las poco más de tres horas que podemos tardar en conocer la historia pueden saber a muy poco. Pero vale la pena perderse para explorar los escenarios y encontrar el centenar de secretos que tiene el juego escondido para nosotros.  Lost Ember es un juego que recomendamos probar. Puede ser calificado, a nuestro parecer injustamente, como un walking simulator. Pero lo cierto es que el título se siente más bien como una experiencia sensitiva. Se lleva una penalización por los problemas técnicos, pero estos no nos van a impedir experimentar sensaciones que no vas a encontrar en ninguna otra obra.', 'score': 7.5}, 2: {'site': 'revogamers', 'url_link': 'https://www.revogamers.net/analisis-w/analisis-de-deleveled-56312/', 'author': 'Arturo Albero', 'game': ' Deleveled', 'company': 'None', 'genre': 'None', 'platform': 'Nintendo Switch', 'text': 'Deleveled es un juego de puzles distribuido por The Quantum Astrophysicists Guild, que hace un uso ingenioso de recursos muy sencillos. Con una estética tan retro como moderna, cada nivel es un reto para nuestro ingenio.  Como habréis observado, el nombre Deleveled es un palíndromo. Es decir, da igual que lo leas de izquierda a derecha que de derecha a izquierda, siempre será igual. Es como si esa V central partiera en dos el nombre y actuara como espejo. Lo mismo sucede dentro de cada nivel. El escenario está dividido por una línea horizontal y nosotros tomamos el control de dos cubos, cada uno a un lado de la línea. Se mueven de forma simultánea con nuestra palanca. Cuando tocan la línea central, si caían de cierta altura, rebotan sobre la misma, como si los dos cubos se repelieran. Eso sí, si llegan a tocarse de forma literal, se desintegran. De esta forma, los cubos han de avanzar hasta la línea de meta (que es otro cubo). Conforme avanzamos, los niveles se van llenando de obstáculos que tenemos que sortear. Empezamos teniendo que saltar bloques, después hay que evitar pinchos o caídas al vacío, más adelante tenemos que bloquear uno de los cubos para hacer que no estén exactamente a la misma altura y finalmente tendremos que activar interruptores con cada cubo, pulsando el botón A, con la condición de que solo se pueden activar si están los dos cubos en un interruptor. Si nos quedamos bloqueados, podemos desintegrar de forma manual los cubos y volver al principio. Esta acción cuenta como una muerte y en cada nivel tenemos un número limitado de muertes si queremos conseguir la estrella que nos permita acceder a los niveles secretos. Ya os digo que no es nada fácil en según qué niveles hacerlos sin fallar un par de veces (suficientes para ver desaparecer nuestras opciones de conseguir la estrella). Con estas sencillas mecánicas y un diseño de niveles admirable se consiguen maravillas. Los puzles son muy variados y la dificultad escala de forma progresiva pero inexorable. Un verdadero reto para los amantes de los puzles. No lo es tanto para los no tan avezados en el género, ya que como suele ocurrir con este tipo de juegos, por muy ingeniosa que sea la mecánica principal, suelen envejecer rápido si su único atractivo es el propio puzle. Y es precisamente este el caso de Deleveled. A nivel visual es muy sencillo, simulando un aspecto retro acompañado por la música, pero con unos diseños minimalistas y, realmente, bastante modernos. Por eso decía antes que la estética es tan retro como moderna. Conforme avanzamos de mundo, cambia el color de los elementos. Los niveles están agrupados por mundos, como en un juego de móviles de hace unos años (bien podría haberlo sido). Como veis, Deleveled es en realidad una apuesta muy sencilla y no hay mucho más que decir de él. Es divertido, sobre todo si te gustan los puzles, pero precisamente por ser un juego de puzles también su jugabilidad corre el riesgo de envejecer muy rápido. Todo depende de cuánto te gusten este tipo de juegos, pero la apuesta de Deleveled es sin duda bastante buena. ', 'score': 6.5}, 3: {'site': 'revogamers', 'url_link': 'https://www.revogamers.net/analisis-w/analisis-de-roguecube-55049/', 'author': 'Javier Aranda', 'game': ' RogueCube', 'company': 'Ratalaika Games', 'genre': 'Acción, Arcade', 'platform': 'Nintendo Switch', 'text': 'Se hace ya raro no ver una semana sin un estreno de un indie que llegue a consolas de la mano de Ratalaika Games. El estudio español ha traído una gran cantidad (y lo que le queda) de títulos a la híbrida de Nintendo, y uno de los últimos en aterrizar en ella ha sido RogueCube, un título de acción pixel para matar el tiempo cuando nos apetezca.  La propuesta de este título es la de muchos otros de los últimos años, usar un stick para moverse y otro para apuntar. El objetivo es combatir en arenas creadas procedimentalmente contra otros cubos en varios niveles para conseguir vértices para salir victorioso. En general es algo corto, pero se hace rejugable si la propuesta nos atrapa. Disponemos además de varios personajes seleccionables para jugar, y cada uno de ellos cuenta con características que lo hacen especial, como el daño que hace o la cantidad de munición que puede cargar. Además pueden usarse dos armas diferentes y cambiar entre ellas con un botón, algo necesario según el momento y la munición que tengamos.  El concepto general por tanto de este juego es muy similar al de los modos multijugador de los juegos de disparos en primera persona, en los que combatimos contra otros oponentes en arenas cerradas con un objetivo en mente. Por ello, pese a que hay «un modo historia» del que disfrutar en solitario, lo ideal es jugar con gente, puesto que es lo que hace que realmente cada partida sea única y tenga sentido el concepto del título a largo plazo. A nivel artístico estamos ante una propuesta muy sencilla, pero efectiva. Sabe distinguir muy bien todos los elementos que hay en pantalla, aunauqe también es cierto que los escenarios, quizás por su propia concepción procedimental, se sienten muy iguales entre sí.  RogueCube es un título para partidas rápidas entre amigos, cuando se busca un filler con el que empezar o acabar la noche de vicio, o bien cuando solo se dispone de unos pocos minutos para jugar. En solitario ofrece una pequeña campaña, pero su verdadero valor está en el multijugador. \\xa0', 'score': 6.0}, 4: {'site': 'revogamers', 'url_link': 'https://www.revogamers.net/analisis-w/analisis-de-the-eternal-castle-remastered-56099/', 'author': 'Carlos Firás', 'game': ' The Eternal Castle [REMASTERED]', 'company': 'None', 'genre': 'None', 'platform': 'Nintendo Switch', 'text': 'Llega a nuestras Nintendo Switch un título que nos va a transportar al pasado. Hablamos de The Eternal Castle [REMASTERED], creado a partir de recuerdos de uno de sus desarrolladores sobre un juego que jugaba mucho de pequeño, del cual no recuerda su nombre pero que sin duda una marca que le acompaña toda la vida. Un sentimiento que muchos compartimos en cierta manera. De ese sentimiento nace The Eternal Castle [REMASTERED].  The Eternal Castle [REMASTERED] es un juego de plataformas y acción de desplazamiento lateral que imita a grandes clásicos tanto en lo jugable como en lo artístico. Y decimos que imita porque realmente no es una remasterización de ningún juego que haya existido anteriormente, como nos quiere hacer creer el título. Se trata de un homenaje a esos clásicos como Prince of Persia o Flashback. Un homenaje, todo hay que decirlo, de muy buen gusto, que sabe captar la esencia y aportar las mejoras que da la tecnología y la sabiduría actual. The Eternal Castle [REMASTERED] se divide en cinco niveles que, salvo el primero y el último, podemos jugar en el orden que prefiramos. En ellos corremos, saltamos plataformas, nos movemos a gachas, combatimos con puños y patadas, o utilizando las armas que nos encontramos en los escenarios. Esta jugabilidad, pausada, se siente muy añeja, gracias a la demora de respuesta de los comandos y en el continuo ensayo y error al que nos somete el título.  Es un juego complicado en cierta medida, puesto que no nos dicen en ningún momento qué es lo que tenemos que hacer o cómo, sino que lo averiguamos por la manera en que se insinúa a través de las imágenes en pantalla. Lo que no siempre es posible, ya que su peculiar apartado artístico muchas veces camufla los elementos del escenario complicando su visibilidad. Por otra parte, The Eternal Castle [REMASTERED] se delata a sí mismo como un juego moderno por varias de sus cualidades. La primera y más llamativa de todas son sus animaciones. El juego se mueve de maravilla, imposible en otros tiempo, incluso demasiado bien para lo que solemos ver en la actualidad. También está la inteligencia artificial de los enemigos, que responden a nuestros movimientos e incluso se compenetran cuando se juntan. Pero sin duda lo que más nos ha llamado la atención en The Eternal Castle [REMASTERED] en su capacidad para sorprender y hacernos vivir nuevas situaciones una detrás de otra. No existen dos pantallas iguales. Siempre encontramos nuevos ambientes, nuevos peligros, nuevos puzles. Realmente se siente una aventura única de principio a fin.  The Eternal Castle [REMASTERED] hace uso solamente de cuatro colores para componer su arte. Con esto se consigue una más que lograda apariencia retro, además de dotar al título de una personalidad peculiar, que puede que no sea del agrado de todo el mundo. Los escenarios están llenos de detalle y vida, pero, aunque forme parte de su identidad, el peculiar apartado artístico no siempre permite visualizar con claridad lo que hay en pantalla. En lo sonoro también recoge ese aire retro, semi electrónico semi punk, en el que predominan los efectos de sonido, dejando lo melódico para los momentos más memorables. En cuanto a la duración se nos puede hacer más o menos largo (o corto) dependiendo de nuestra pericia, pero con unas 3 o 4 horas tendremos suficiente para poder superar esta aventura.  The Eternal Castle [REMASTERED] tiene el mérito de haber creado bajo esa atmósfera tan retro algo que se siente genuino y único. Es obvio que no es un juego que entre por los ojos para muchos y os llegue a echar a atrás. Pero dentro de él se encuentra una auténtica aventura que no para de dejarnos momentos ricos en variedad e imaginación. Un ejercicio de nostalgia con resultado positivo.', 'score': 8.0}}\n"
     ]
    }
   ],
   "source": [
    "result = revogamers_dict(links[0:5])\n",
    "print(result)"
   ]
  },
  {
   "cell_type": "markdown",
   "metadata": {},
   "source": [
    "### Create DataFrame"
   ]
  },
  {
   "cell_type": "code",
   "execution_count": 33,
   "metadata": {},
   "outputs": [
    {
     "data": {
      "text/html": [
       "<div>\n",
       "<style scoped>\n",
       "    .dataframe tbody tr th:only-of-type {\n",
       "        vertical-align: middle;\n",
       "    }\n",
       "\n",
       "    .dataframe tbody tr th {\n",
       "        vertical-align: top;\n",
       "    }\n",
       "\n",
       "    .dataframe thead th {\n",
       "        text-align: right;\n",
       "    }\n",
       "</style>\n",
       "<table border=\"1\" class=\"dataframe\">\n",
       "  <thead>\n",
       "    <tr style=\"text-align: right;\">\n",
       "      <th></th>\n",
       "      <th>title</th>\n",
       "      <th>author</th>\n",
       "      <th>review</th>\n",
       "      <th>url</th>\n",
       "    </tr>\n",
       "  </thead>\n",
       "  <tbody>\n",
       "    <tr>\n",
       "      <th>0</th>\n",
       "      <td>Análisis Bounty Battle; el título de lucha de ...</td>\n",
       "      <td>NaN</td>\n",
       "      <td>Después del anuncio de su retraso indefinido e...</td>\n",
       "      <td>https://as.com/meristation/2020/09/22/analisis...</td>\n",
       "    </tr>\n",
       "    <tr>\n",
       "      <th>1</th>\n",
       "      <td>eFootball PES 2021, análisis. Rueda el balón, ...</td>\n",
       "      <td>NaN</td>\n",
       "      <td>La temporada futbolística acabó de manera atíp...</td>\n",
       "      <td>https://as.com/meristation/2020/09/22/analisis...</td>\n",
       "    </tr>\n",
       "    <tr>\n",
       "      <th>2</th>\n",
       "      <td>Milky Way Prince: The Vampire Prince, análisis...</td>\n",
       "      <td>NaN</td>\n",
       "      <td>El amor es uno de los temas universales que pe...</td>\n",
       "      <td>https://as.com/meristation/2020/09/21/analisis...</td>\n",
       "    </tr>\n",
       "    <tr>\n",
       "      <th>3</th>\n",
       "      <td>Spinch, análisis PC y Switch: Una experiencia ...</td>\n",
       "      <td>NaN</td>\n",
       "      <td>No hay duda de que el género de las plataforma...</td>\n",
       "      <td>https://as.com/meristation/2020/09/20/analisis...</td>\n",
       "    </tr>\n",
       "    <tr>\n",
       "      <th>4</th>\n",
       "      <td>Spelunky 2, análisis: el videojuego más hardco...</td>\n",
       "      <td>NaN</td>\n",
       "      <td>Mucho ha llovido desde el lanzamiento de Spelu...</td>\n",
       "      <td>https://as.com/meristation/2020/09/19/analisis...</td>\n",
       "    </tr>\n",
       "  </tbody>\n",
       "</table>\n",
       "</div>"
      ],
      "text/plain": [
       "                                               title  author  \\\n",
       "0  Análisis Bounty Battle; el título de lucha de ...     NaN   \n",
       "1  eFootball PES 2021, análisis. Rueda el balón, ...     NaN   \n",
       "2  Milky Way Prince: The Vampire Prince, análisis...     NaN   \n",
       "3  Spinch, análisis PC y Switch: Una experiencia ...     NaN   \n",
       "4  Spelunky 2, análisis: el videojuego más hardco...     NaN   \n",
       "\n",
       "                                              review  \\\n",
       "0  Después del anuncio de su retraso indefinido e...   \n",
       "1  La temporada futbolística acabó de manera atíp...   \n",
       "2  El amor es uno de los temas universales que pe...   \n",
       "3  No hay duda de que el género de las plataforma...   \n",
       "4  Mucho ha llovido desde el lanzamiento de Spelu...   \n",
       "\n",
       "                                                 url  \n",
       "0  https://as.com/meristation/2020/09/22/analisis...  \n",
       "1  https://as.com/meristation/2020/09/22/analisis...  \n",
       "2  https://as.com/meristation/2020/09/21/analisis...  \n",
       "3  https://as.com/meristation/2020/09/20/analisis...  \n",
       "4  https://as.com/meristation/2020/09/19/analisis...  "
      ]
     },
     "execution_count": 33,
     "metadata": {},
     "output_type": "execute_result"
    }
   ],
   "source": [
    "revogamers = pd.DataFrame({'title': titles, \n",
    "                           'author': np.nan, \n",
    "                           'review': reviews_col, \n",
    "                           'url': links \n",
    "                           })\n",
    "\n",
    "revogamesr.head()"
   ]
  },
  {
   "cell_type": "code",
   "execution_count": 34,
   "metadata": {},
   "outputs": [],
   "source": [
    "#meristation.to_csv('../data/meristation_data.csv', index=False)"
   ]
  },
  {
   "cell_type": "code",
   "execution_count": null,
   "metadata": {},
   "outputs": [],
   "source": []
  }
 ],
 "metadata": {
  "kernelspec": {
   "display_name": "Python [conda env:lab_env]",
   "language": "python",
   "name": "conda-env-lab_env-py"
  },
  "language_info": {
   "codemirror_mode": {
    "name": "ipython",
    "version": 3
   },
   "file_extension": ".py",
   "mimetype": "text/x-python",
   "name": "python",
   "nbconvert_exporter": "python",
   "pygments_lexer": "ipython3",
   "version": "3.7.3"
  }
 },
 "nbformat": 4,
 "nbformat_minor": 4
}
