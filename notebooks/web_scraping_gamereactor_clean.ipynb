{
 "cells": [
  {
   "cell_type": "markdown",
   "metadata": {},
   "source": [
    "# Scraping GAMEREACTOR"
   ]
  },
  {
   "cell_type": "code",
   "execution_count": 1,
   "metadata": {},
   "outputs": [],
   "source": [
    "import requests\n",
    "from bs4 import BeautifulSoup\n",
    "import time\n",
    "import pandas as pd\n",
    "import numpy as np\n",
    "import newspaper\n",
    "from newspaper import Article\n",
    "from newspaper import Source\n",
    "from newspaper import fulltext"
   ]
  },
  {
   "cell_type": "markdown",
   "metadata": {},
   "source": [
    "## Scraping Articles Site "
   ]
  },
  {
   "cell_type": "code",
   "execution_count": 2,
   "metadata": {},
   "outputs": [
    {
     "data": {
      "text/plain": [
       "b' <!DOCTYPE html>\\n<html lang=\"es\">\\n<head>\\n\\n\\n<script>(function(w,d,s,l,i){w[l]=w[l]||[];w[l].push({\\'gtm.start\\':\\n\\tnew Date().getTime(),event:\\'gtm.js\\'});var f=d.getElementsByTagName(s)[0],\\n\\tj=d.createElement(s),dl=l!=\\'dataLayer\\'?\\'&l=\\'+l:\\'\\';j.async=true;j.src=\\n\\t\\'https://www.googletagmanager.com/gtm.js?id=\\'+i+dl;f.parentNode.insertBefore(j,f);\\n\\t})(window,document,\\'script\\',\\'dataLayer\\',\\'GTM-P9ZBFRD\\');</script>\\n\\n\\n<meta charset=\"utf-8\">\\n<meta name=\"viewport\" content=\"width=device-width, initial-scale=1.0,'"
      ]
     },
     "execution_count": 2,
     "metadata": {},
     "output_type": "execute_result"
    }
   ],
   "source": [
    "url = 'https://www.gamereactor.es/analisis/'\n",
    "html = requests.get(url).content\n",
    "html[:500]"
   ]
  },
  {
   "cell_type": "code",
   "execution_count": 3,
   "metadata": {},
   "outputs": [],
   "source": [
    "soup = BeautifulSoup(html, 'lxml')\n",
    "articles = soup.find('section', {'id':'textlist'}).find_all('article')"
   ]
  },
  {
   "cell_type": "code",
   "execution_count": 9,
   "metadata": {},
   "outputs": [
    {
     "data": {
      "text/plain": [
       "['Super Mario Bros. 35 - Battle Royale',\n",
       " \"Crash Bandicoot 4: It's About Time\",\n",
       " 'Star Wars: Squadrons']"
      ]
     },
     "execution_count": 9,
     "metadata": {},
     "output_type": "execute_result"
    }
   ],
   "source": [
    "#Extraer títulos\n",
    "\n",
    "titles = [article.find('h3').text for article in articles]\n",
    "    \n",
    "titles[0:3]"
   ]
  },
  {
   "cell_type": "code",
   "execution_count": 8,
   "metadata": {},
   "outputs": [
    {
     "name": "stdout",
     "output_type": "stream",
     "text": [
      "['https://www.gamereactor.es/super-mario-bros-35-battle-royale/?sid=1aded7c96af22385dd9c8d18e1388a85', 'https://www.gamereactor.es/crash-bandicoot-4-its-about-time-analisis/?sid=1aded7c96af22385dd9c8d18e1388a85', 'https://www.gamereactor.es/star-wars-squadrons-analisis/?sid=1aded7c96af22385dd9c8d18e1388a85', 'https://www.gamereactor.es/art-of-rally-analisis/?sid=1aded7c96af22385dd9c8d18e1388a85', 'https://www.gamereactor.es/kirby-fighters-2-analisis/?sid=1aded7c96af22385dd9c8d18e1388a85']\n"
     ]
    }
   ],
   "source": [
    "#Extraer links\n",
    "\n",
    "links = [f\"https://www.gamereactor.es{article.find_all('a')[1]['href']}\" for article in articles]\n",
    "\n",
    "print(links[0:5])\n"
   ]
  },
  {
   "cell_type": "code",
   "execution_count": 7,
   "metadata": {},
   "outputs": [
    {
     "data": {
      "text/plain": [
       "['Sergio Figueroa', 'Eirik Hyldbakk Furu', 'Mike Holmes']"
      ]
     },
     "execution_count": 7,
     "metadata": {},
     "output_type": "execute_result"
    }
   ],
   "source": [
    "#Not totally useful, discarded\n",
    "\n",
    "authors = []\n",
    "for article in articles:\n",
    "    full_authors = article.find_all('a', {'class': 'username'})\n",
    "    for author in full_authors:\n",
    "        authors.append(author.text)\n",
    "    \n",
    "authors[0:3]"
   ]
  },
  {
   "cell_type": "markdown",
   "metadata": {},
   "source": [
    "## Page parsing and link retrieving function for Gamereactor"
   ]
  },
  {
   "cell_type": "code",
   "execution_count": 10,
   "metadata": {},
   "outputs": [],
   "source": [
    "def gamereactor_link_retrieve(num_pages):\n",
    "    links = []\n",
    "    \n",
    "    # pages parser\n",
    "    for i in range(num_pages):\n",
    "        url = f'https://www.gamereactor.es/analisis/?page={i+1}'\n",
    "\n",
    "        # building soup    \n",
    "        html = requests.get(url).content\n",
    "        soup = BeautifulSoup(html, 'lxml')\n",
    "        articles = soup.find('section', {'id':'textlist'}).find_all('article')\n",
    "    \n",
    "\n",
    "        # links retrieve\n",
    "        for article in articles:\n",
    "            links.append(f\"https://www.gamereactor.es{article.find_all('a')[1]['href']}\")\n",
    "        \n",
    "    #print(links)           \n",
    "    return links\n"
   ]
  },
  {
   "cell_type": "code",
   "execution_count": 13,
   "metadata": {},
   "outputs": [
    {
     "name": "stdout",
     "output_type": "stream",
     "text": [
      "['https://www.gamereactor.es/peaky-blinders-mastermind-la-precuela/?sid=41207817edbc809d2c015b9bb6369924', 'https://www.gamereactor.es/mortal-shell-un-souls-endurecido/?sid=41207817edbc809d2c015b9bb6369924', 'https://www.gamereactor.es/hyper-scape-analisis/?sid=41207817edbc809d2c015b9bb6369924', 'https://www.gamereactor.es/microsoft-flight-simulator-vuelo-de-altura/?sid=41207817edbc809d2c015b9bb6369924', 'https://www.gamereactor.es/total-war-saga-troy-analisis/?sid=41207817edbc809d2c015b9bb6369924', 'https://www.gamereactor.es/hearthstone-academia-scholomance/?sid=67de3796f24dd764b65b1d94b3e6c008', 'https://www.gamereactor.es/fast-furious-crossroads-analisis/?sid=67de3796f24dd764b65b1d94b3e6c008', 'https://www.gamereactor.es/fall-guys-ultimate-knockout-analisis/?sid=67de3796f24dd764b65b1d94b3e6c008', 'https://www.gamereactor.es/horizon-zero-dawn-complete-edition-para-pc/?sid=67de3796f24dd764b65b1d94b3e6c008', 'https://www.gamereactor.es/skully-analisis/?sid=67de3796f24dd764b65b1d94b3e6c008']\n"
     ]
    }
   ],
   "source": [
    "num_pages = 2\n",
    "\n",
    "links = gamereactor_link_retrieve(num_pages)\n",
    "\n",
    "print(links[45:55])"
   ]
  },
  {
   "cell_type": "markdown",
   "metadata": {},
   "source": [
    "## Scraping Single Review"
   ]
  },
  {
   "cell_type": "code",
   "execution_count": null,
   "metadata": {},
   "outputs": [],
   "source": []
  },
  {
   "cell_type": "code",
   "execution_count": 130,
   "metadata": {},
   "outputs": [
    {
     "data": {
      "text/plain": [
       "b' <!DOCTYPE html>\\n<html lang=\"es\">\\n<head>\\n\\n\\n<script'"
      ]
     },
     "execution_count": 130,
     "metadata": {},
     "output_type": "execute_result"
    }
   ],
   "source": [
    "review_url = 'https://www.gamereactor.es/crash-bandicoot-4-its-about-time-analisis/'\n",
    "review_html = requests.get(review_url).content\n",
    "review_html[:50]"
   ]
  },
  {
   "cell_type": "code",
   "execution_count": 131,
   "metadata": {},
   "outputs": [],
   "source": [
    "soup = BeautifulSoup(review_html, 'lxml')"
   ]
  },
  {
   "cell_type": "code",
   "execution_count": 132,
   "metadata": {},
   "outputs": [],
   "source": [
    "#Text + cleaning\n",
    "article = soup.find('div', {'class': 'breadtext'}).find('div')\n",
    "p_tags = article.find_all('p')\n",
    "review = [tag.text for tag in p_tags]\n",
    "review = ' '.join(review)"
   ]
  },
  {
   "cell_type": "code",
   "execution_count": 133,
   "metadata": {},
   "outputs": [
    {
     "data": {
      "text/plain": [
       "'Aunque creo que Ford se pasó un poco con la caña que dio a Crash Bandicoot: Nsane Trilogy, no se puede negar que a las remasterizaciones de hace unos años les falta profundidad y les sobra imprecisión en el control y repetición de eventos para estar a altura de los mejores plataformas de hoy en día. Eso no fue impedimento para recibir con alegría la noticia de que habría Crash Bandicoot 4. Además, Toys for Bob prometió tomar en consideración las críticas y el feedback recibido. Tras muchas horas de juego a It\\'s About Time hay que agradecer que lo hayan hecho, a pesar de que aún queden ciertos inconvenientes del pasado. Nada más arrancar quedan presenten parte de los cambios más significativos, como puede ser el nuevo estilo visual y el rollo aún más chulesco. Todos los objetos, ya aparezcan en un vídeo cinematográfico o en la propia partida, saltan a la vista con un arco iris de color y mucho gusto por el detalle. Hay una similitud muy positiva con ese formato que recuerda a los Looney Tunes. Es un juego que desborda clase y que marca por ello. Ya sea por cómo se ven y suenan los escenarios, por la personalidad de sus protagonistas o por ese humor absurdo un poco a lo Mr. Bean del propio Crash. Estos elementos tienen fuerza por sí mismos como para insuflar vida propia a la franquicia y justificar la cuarta entrega, pero la cosa va a más. Porque toda esa energía y variedad se proyecta en el gameplay. Atrás quedan esos días en los que todo consistía en correr haciendo exactamente lo mismo mientras algo te perseguía o en avanzar por áreas tan lineales que lo más peligroso era sentir claustrofobia. Te das cuenta de lo mucho que se han esforzado en arreglar ese defecto de la trilogía original al ver que absolutamente todos los niveles te proponen retos distintos, cada uno desde su propia perspectiva. Aún así, moverse por entornos semejantes puede llegar a ser monótono. Así que hay que estar eternamente agradecidos a Neo Cortex y a Nefarious Tropy por abrir esas brechas a otras dimensiones al huír en el final de Warped (¡spoiler!) La mayor parte de las dimensiones están formadas por unos pocos niveles, así que no te llegas a cansar de las vistas de la playa o de la selva, porque enseguida ya estás en otro mundo como una fábrica futurista o un cala pirata. Dejamos aquí las presentaciones porque es mejor descubrirlas por uno mismo. Lugares nunca visto, amenazas seguras, ¿dice el refrán? Los enemigos se han vuelto más letales y tienen menos puntos débiles, los escenarios son más grandes y completos y las secciones de plataformas exigen mayor precisión junto a un timing preciso. Como todos los elementos son más complejos, también se nota una evolución en la exploración. Al principio no estaba seguro de si me gustaba el nuevo modo \"Moderno\" -que te otorga vidas infinitas-, pero luego lo comprendí: no está ahí solo para hacerlo más amigable para los más pequeños y gente con menos experiencia, es que es la única forma de poder disfrutar al máximo del contenido con la nueva libertad que presenta Crash Bandicoot 4. Ni sé la de veces que he descubierto una gema oculta, un cofre o una referencia graciosa por hacer las cosas de otra forma, coger una ruta alternativa o interactuar con algún objeto. No me lo esperaba y estoy encantado. Como ya irás suponiendo, el nuevo Crash no es más fácil que los antiguos. Conseguir todas las gemas y skins exige romper todas las cajas de cada pantalla sin morir más de tres veces, o sin morir ninguna si vas a por el premio especial. Así que no quienes vayan al 100% se van a tener que esforzar mucho. Si estás pensando en por qué ibas a tener que morir tú en un plataformas como este, te diré que gran parte de la culpa está precisamente en la enorme variedad de situaciones. Como una batalla contra un jefe a lo Guitar Hero, persecuciones en momentos inesperados o el uso de obstáculos con mayor ingenio para sacar más partido a esos segmentos y a las lianas. Hay algunas zonas de difícil acceso que están ahí para que tú, que estás pensando que esto está chupao, lo pases mal. Pero intentarlo merece la pena porque al llegar a ellas se consigue el acceso a los niveles Flashback. Digamos que son los lugares en los que Cortex estuvo experimentando con Crash tiempo atrás, así que tienen un toque de locura y otro de castigo. Tanto halago al trabajo de Toys for Bob, ¡y todavía no hemos hablado de las máscaras! Aunque el concepto venga de lejos, la utilidad es nueva, porque esta vez hay más y sirven para ganar habilidades especiales que tienen su uso en zonas concretas. Lani-Loli pone a prueba tu coordinación al habilitar la desaparición de objetos; Kupuna-Wa permite ralentizar el tiempo y eso da mucho juego; Ika Ika altera la gravedad; y \\'Akano... bueno, quien llegue lejos que lo descubra. Consiguen alterar bien el ritmo, a pesar de que están muy restringidas y eso limita su potencial. Este repaso a lo que ofrece Crash Bandicoot 4, si te fijas, no para de abrir alternativas y vías. Pues aún queda otra que es la de los personajes. Además de Crash y Coco, que se juegan de forma parecida, hay otros como Neo Cortex para los que han diseñado sus propias zonas en función de lo que saben hacer. Tratamos este tema en profundidad en las impresiones, y en este análisis hay que multiplicarlo con la introducción de Dingodile, Tawna y alguno más. Claro que no todos están al mismo nivel. Arrancaba el texto diciendo que It\\'s About Time ha aprendido de casi todos los errores de la trilogía remasterizada. Casi todos. Porque vuelve a tropezar en alguna piedra del pasado y, bienvenidos sean los cambios, pero también traen sus riesgos. Como por ejemplo, que muchas pantallas hechas para secundarios no dejan de ser versiones mínimamente alternativas de las que ya habías vivido con Crash o con Coco. Son más las que dejan sensación de reciclado que las que de verdad te convencen de que estás jugando algo distinto. En cuanto a los errores de toda la vida, me siguen sin convencer los controles y cómo se relaciona con la sensación de profundidad, y eso que hay un indicador debajo del personaje. La de cajas que me habré dejado atrás por un error de cálculo. Tengas al que tengas en tus manos, ninguno va tan fino como esperas, así que nunca vas con la confianza y la seguridad que transmiten otros plataformas por mucho que hayas repetido el mismo espacio un millar de veces. Queda claro que las mejoras superan claramente a los desperfectos que han aparecido y reparan gran parte de los que arrastraba la serie Crash Bandicoot. Ese humor tan característico no pasa de moda a pesar de que yo sí he pasado de grupo social y el mundo de juego es lustroso, rico y más ancho que nunca, así que esta vez se disfruta de verdad. Con un nivel de dificultad más ajustado y un control no tan domesticado, el reto está servido durante horas con este Crash Bandicoot 4: It\\'s About Time que es evolución y tradición en su justa medida.'"
      ]
     },
     "execution_count": 133,
     "metadata": {},
     "output_type": "execute_result"
    }
   ],
   "source": [
    "review"
   ]
  },
  {
   "cell_type": "code",
   "execution_count": 134,
   "metadata": {},
   "outputs": [
    {
     "data": {
      "text/plain": [
       "'Eirik Hyldbakk Furu'"
      ]
     },
     "execution_count": 134,
     "metadata": {},
     "output_type": "execute_result"
    }
   ],
   "source": [
    "# Author\n",
    "\n",
    "author = soup.find('li', {'class': 'publishAuthor bullet'}).text\n",
    "                   \n",
    "author"
   ]
  },
  {
   "cell_type": "code",
   "execution_count": 135,
   "metadata": {},
   "outputs": [
    {
     "data": {
      "text/plain": [
       "\"Crash Bandicoot 4: It's About Time\""
      ]
     },
     "execution_count": 135,
     "metadata": {},
     "output_type": "execute_result"
    }
   ],
   "source": [
    "# Game\n",
    "\n",
    "News_article = Article(review_url)\n",
    "News_article.download()\n",
    "News_article.parse()\n",
    "News_article.title\n"
   ]
  },
  {
   "cell_type": "code",
   "execution_count": 136,
   "metadata": {},
   "outputs": [
    {
     "name": "stdout",
     "output_type": "stream",
     "text": [
      " PS4, Xbox One Plataformas Activision\n"
     ]
    }
   ],
   "source": [
    "# Genre, Company and Platform\n",
    "\n",
    "infobox = soup.find_all('ul', {'class': 'infobox'})[0].contents\n",
    "\n",
    "for box in infobox:\n",
    "    \n",
    "    if 'Probado en:' in box.contents[0].text:\n",
    "        platform = box.contents[1]\n",
    "        \n",
    "    if 'Género:' in box.contents[0].text:\n",
    "        genre = box.find('a').text\n",
    "        \n",
    "    if 'Editor:' in box.contents[0].text:\n",
    "        company = box.find('a').text\n",
    "\n",
    "print(platform, genre, company)        \n"
   ]
  },
  {
   "cell_type": "code",
   "execution_count": 137,
   "metadata": {},
   "outputs": [],
   "source": [
    "# Score\n",
    "\n",
    "score = soup.find('div', {'class': 'bigScoreWrapper'}).find('img')['alt']\n",
    "score = float(score)"
   ]
  },
  {
   "cell_type": "code",
   "execution_count": 138,
   "metadata": {},
   "outputs": [
    {
     "data": {
      "text/plain": [
       "8.0"
      ]
     },
     "execution_count": 138,
     "metadata": {},
     "output_type": "execute_result"
    }
   ],
   "source": [
    "score"
   ]
  },
  {
   "cell_type": "markdown",
   "metadata": {},
   "source": [
    "## Create columns"
   ]
  },
  {
   "cell_type": "code",
   "execution_count": 140,
   "metadata": {},
   "outputs": [],
   "source": [
    "\n",
    "def gamereactor_dict(links):\n",
    "    reviews_dict = {}\n",
    "    i = 0\n",
    "\n",
    "    for link in links:\n",
    "\n",
    "        #Request content and wait\n",
    "        review_html = requests.get(link).content\n",
    "        \n",
    "        #Avoid get banned and timeout\n",
    "        time.sleep(2)\n",
    "\n",
    "        #Make a Soup and a Newspaper paper & build\n",
    "        soup = BeautifulSoup(review_html, 'lxml')\n",
    "        News_article = Article(link)\n",
    "        News_article.download()\n",
    "        News_article.parse()\n",
    "        paper = newspaper.build(link)\n",
    "\n",
    "        #Site name - From Newspaper\n",
    "        site = paper.brand\n",
    "\n",
    "        #URL - From Newspaper\n",
    "        url_link = paper.url\n",
    "\n",
    "        #Author - From Scraping\n",
    "        author = author = soup.find('li', {'class': 'publishAuthor bullet'}).text\n",
    "\n",
    "        #Game - From Scraping\n",
    "        game = News_article.title\n",
    "        \n",
    "        #Company, Genre & Platform - From Scraping\n",
    "        \n",
    "        genre = 'None'\n",
    "        company = 'None'\n",
    "        platform = 'None'\n",
    "        \n",
    "        infobox = soup.find_all('ul', {'class': 'infobox'})[0].contents\n",
    "        for box in infobox:\n",
    "\n",
    "            if 'Probado en:' in box.contents[0].text:\n",
    "                platform = box.contents[1]\n",
    "\n",
    "            if 'Género:' in box.contents[0].text:\n",
    "                genre = box.find('a').text\n",
    "\n",
    "            if 'Editor:' in box.contents[0].text:\n",
    "                company = box.find('a').text\n",
    "                            \n",
    "\n",
    "        #Text & Cleaning - From Scraping\n",
    "        article = soup.find('div', {'class': 'breadtext'}).find('div')\n",
    "        p_tags = article.find_all('p')\n",
    "        review = [tag.text for tag in p_tags]\n",
    "        review = ' '.join(review)\n",
    "\n",
    "        #Score & Clean & Transform - From Scraping\n",
    "        score = soup.find('div', {'class': 'bigScoreWrapper'}).find('img')['alt']\n",
    "        score = float(score)\n",
    "\n",
    "        #Add to a dict\n",
    "        reviews_dict[i] = {'site': site,\n",
    "                           'url_link': url_link,\n",
    "                           'author': author,\n",
    "                           'game': game,\n",
    "                           'company': company,\n",
    "                           'genre': genre,\n",
    "                           'platform': platform,\n",
    "                           'text': review,\n",
    "                           'score': score}\n",
    "        \n",
    "        i = i+1\n",
    "\n",
    "    return reviews_dict"
   ]
  },
  {
   "cell_type": "code",
   "execution_count": 141,
   "metadata": {},
   "outputs": [
    {
     "name": "stdout",
     "output_type": "stream",
     "text": [
      "{0: {'site': 'gamereactor', 'url_link': 'https://www.gamereactor.es/super-mario-bros-35-battle-royale/?sid=41207817edbc809d2c015b9bb6369924', 'author': 'Sergio Figueroa', 'game': 'Super Mario Bros. 35', 'company': 'Nintendo', 'genre': 'Plataformas', 'platform': ' Nintendo Switch', 'text': 'No se habían olvidado de él, lo que pasaba es que era una fiesta sorpresa. El 35º cumpleaños de Super Mario Bros. comenzó con aquel Direct repleto de anuncios que miraban el pasado y se sigue celebrando con el paso de las semanas, lanzamiento a lanzamiento. Tras el calmado Super Mario 3D All-Stars, toca ponerse las pilas con el eléctrico Super Mario Bros. 35. Un clásico cuyo gameplay no pasa de moda es capaz de dar aún más de sí con unos retoques de lo más modernos, los del battle royale. Es el regalo de Nintendo para sus fans, o más bien para sus clientes, pues solo se puede acceder a él \"gratis\" si se está pagando la suscripción a Nintendo Switch Online. Nace como nació Tetris 99, del que lo hereda absolutamente todo. Y supuestamente va a morir el 31 de marzo de 2021, aunque eso ya se verá cuando llegue la fecha. Porque tiene potencial para quedarse y quién sabe si para venderse por separado con un poco de engorde. Lo que ofrece en estos momentos es un único modo de juego con un poco de aderezo. En Super Mario Bros. 35 lo único que hay que hacer es correr para adelante superando las pantallas de siempre del juego de NES. La diferencia es que, a la vez, hay otras 34 personas más haciendo lo mismo, y aunque unos y otros no se ven mutuamente reflejados en la pantalla del vecino, sus acciones sí. Es una carrera contrarreloj por la supervivencia, pues solo puede quedar vivo uno, como buen battle royale. Como siempre, hay tres formas de morir: por los enemigos, por los precipicios o por el tiempo. Aquí es donde entra en acción la rivalidad, pues los enemigos que mates se los mandas directamente a otro jugador. Como en Tetris 99, a cualquiera de forma aleatoria, a uno escogido por criterios (al que te ataca o al que menos tiempo tenga) o al que te caiga peor si lo seleccionas a mano. Esa decisión es uno de los pilares de la estrategia avanzada, pues afecta mucho a la intensidad de tu partida, pero también se puede obviar y ganar sin hacerla caso. Podría parecer que en un plataformas como este es casi imposible encontrar una forma de competir que no sea a velocidad, pero Arika ha encontrado la forma como lo hizo con Tetris. El estudio ha hecho encaje de bolillos con los factores tiempo y enemigos para que salga algo distinto, y se nota que han estado midiendo al milímetro los efectos y sus consecuencias, nivelándolo muchísimo. Cada enemigo muerto no solo pasa a la pantalla del rival para incordiar, sino que también suma segundos a tu reloj, por lo que es imprescindible ir masacrando. Pero, además, los combos dan más tiempo, por lo que una técnica como matar a bolazos de fuego que es útil al principio deja de serlo después, cuando quedan menos rivales y los segundos dejan de ser tal cosa y bajan mucho más rápido. A Super Mario Bros. 35 hay que jugar como siempre, pero con más agresividad. No puedes pararte demasiado a medir un salto o coger algo porque ese tiempo luego se puede echar en falta. Pero, a la vez, hay que ir siempre bien equipado con una seta o una flor para no ser tan vulnerable. Ahí entran en escena las monedas. Además de los bloques interrogación o secretos de cada pantalla, que son exactamente tal y como en el juego original (antes de que te echen bichos extra, que aparecen sombreados para indicar que originalmente no estaban ahí), puedes sacarte uno extra de la manga por cada 20 monedas. Mi estrategia, con la que llevo un 50% de victorias, es ir cogiendo muchas monedas y agotando el bloque en cuanto pierdo la flor para ver si me sale otra o una estrella con la que avanzar y recargar de nuevo la caja, pues 20 monedas no son nada. Al principio, las partidas son muy normalitas, pues tener unos cuantos goombas o tortugas de más no afecta demasiado a un jugador experto. Pero cuando queda poca gente empiezan a aparecer hermanos martillo, calamares y Bowser donde no los esperas y eso va animando más la partida. ¿Con cuidado y sacrificando tiempo o a lo loco? Así van muriendo los mejores. El sistema de control es el de siempre, así que se vuelve a echar en falta la cruceta, pero con los botones basta y siempre son mejores que el stick, que es la opción B. Poco más, porque este es el único modo de juego, aunque esté partido en dos. Además del modo principal, hay un modo Batalla Especial en el que solo cambia cómo se ordenan las pantallas; es para eventos temporales. Y, por otra parte, hay un ranking online de coleccionistas de monedas en el que se ven auténticas barbaridades que dicen mucho de lo duros que han sido algunos duelos. Porque la partida, si está muy igualada entre dos o tres personas, se puede ir lejos. También hay un modo práctica en el que puedes escoger cualquier pantalla para probarla (si la has desbloqueado), así que, en esencia, también tienes Super Mario Bros. de NES a tu alcance. Tan sencillo y a la vez tan entretenido. Super Mario Bros. 35 es el juego de siempre con un poco más de picante. Justo lo que necesitaba para volver a estar al día, pues como lo pruebes te va a picar bien y se va a convertir en un pasatiempos recurrente durante estos meses. Y encima es un \"regalo\". Felicidades Mario, así hay que envejecer.', 'score': 7.0}, 1: {'site': 'gamereactor', 'url_link': 'https://www.gamereactor.es/crash-bandicoot-4-its-about-time-analisis/?sid=41207817edbc809d2c015b9bb6369924', 'author': 'Eirik Hyldbakk Furu', 'game': \"Crash Bandicoot 4: It's About Time\", 'company': 'Activision', 'genre': 'Plataformas', 'platform': ' PS4, Xbox One', 'text': 'Aunque creo que Ford se pasó un poco con la caña que dio a Crash Bandicoot: Nsane Trilogy, no se puede negar que a las remasterizaciones de hace unos años les falta profundidad y les sobra imprecisión en el control y repetición de eventos para estar a altura de los mejores plataformas de hoy en día. Eso no fue impedimento para recibir con alegría la noticia de que habría Crash Bandicoot 4. Además, Toys for Bob prometió tomar en consideración las críticas y el feedback recibido. Tras muchas horas de juego a It\\'s About Time hay que agradecer que lo hayan hecho, a pesar de que aún queden ciertos inconvenientes del pasado. Nada más arrancar quedan presenten parte de los cambios más significativos, como puede ser el nuevo estilo visual y el rollo aún más chulesco. Todos los objetos, ya aparezcan en un vídeo cinematográfico o en la propia partida, saltan a la vista con un arco iris de color y mucho gusto por el detalle. Hay una similitud muy positiva con ese formato que recuerda a los Looney Tunes. Es un juego que desborda clase y que marca por ello. Ya sea por cómo se ven y suenan los escenarios, por la personalidad de sus protagonistas o por ese humor absurdo un poco a lo Mr. Bean del propio Crash. Estos elementos tienen fuerza por sí mismos como para insuflar vida propia a la franquicia y justificar la cuarta entrega, pero la cosa va a más. Porque toda esa energía y variedad se proyecta en el gameplay. Atrás quedan esos días en los que todo consistía en correr haciendo exactamente lo mismo mientras algo te perseguía o en avanzar por áreas tan lineales que lo más peligroso era sentir claustrofobia. Te das cuenta de lo mucho que se han esforzado en arreglar ese defecto de la trilogía original al ver que absolutamente todos los niveles te proponen retos distintos, cada uno desde su propia perspectiva. Aún así, moverse por entornos semejantes puede llegar a ser monótono. Así que hay que estar eternamente agradecidos a Neo Cortex y a Nefarious Tropy por abrir esas brechas a otras dimensiones al huír en el final de Warped (¡spoiler!) La mayor parte de las dimensiones están formadas por unos pocos niveles, así que no te llegas a cansar de las vistas de la playa o de la selva, porque enseguida ya estás en otro mundo como una fábrica futurista o un cala pirata. Dejamos aquí las presentaciones porque es mejor descubrirlas por uno mismo. Lugares nunca visto, amenazas seguras, ¿dice el refrán? Los enemigos se han vuelto más letales y tienen menos puntos débiles, los escenarios son más grandes y completos y las secciones de plataformas exigen mayor precisión junto a un timing preciso. Como todos los elementos son más complejos, también se nota una evolución en la exploración. Al principio no estaba seguro de si me gustaba el nuevo modo \"Moderno\" -que te otorga vidas infinitas-, pero luego lo comprendí: no está ahí solo para hacerlo más amigable para los más pequeños y gente con menos experiencia, es que es la única forma de poder disfrutar al máximo del contenido con la nueva libertad que presenta Crash Bandicoot 4. Ni sé la de veces que he descubierto una gema oculta, un cofre o una referencia graciosa por hacer las cosas de otra forma, coger una ruta alternativa o interactuar con algún objeto. No me lo esperaba y estoy encantado. Como ya irás suponiendo, el nuevo Crash no es más fácil que los antiguos. Conseguir todas las gemas y skins exige romper todas las cajas de cada pantalla sin morir más de tres veces, o sin morir ninguna si vas a por el premio especial. Así que no quienes vayan al 100% se van a tener que esforzar mucho. Si estás pensando en por qué ibas a tener que morir tú en un plataformas como este, te diré que gran parte de la culpa está precisamente en la enorme variedad de situaciones. Como una batalla contra un jefe a lo Guitar Hero, persecuciones en momentos inesperados o el uso de obstáculos con mayor ingenio para sacar más partido a esos segmentos y a las lianas. Hay algunas zonas de difícil acceso que están ahí para que tú, que estás pensando que esto está chupao, lo pases mal. Pero intentarlo merece la pena porque al llegar a ellas se consigue el acceso a los niveles Flashback. Digamos que son los lugares en los que Cortex estuvo experimentando con Crash tiempo atrás, así que tienen un toque de locura y otro de castigo. Tanto halago al trabajo de Toys for Bob, ¡y todavía no hemos hablado de las máscaras! Aunque el concepto venga de lejos, la utilidad es nueva, porque esta vez hay más y sirven para ganar habilidades especiales que tienen su uso en zonas concretas. Lani-Loli pone a prueba tu coordinación al habilitar la desaparición de objetos; Kupuna-Wa permite ralentizar el tiempo y eso da mucho juego; Ika Ika altera la gravedad; y \\'Akano... bueno, quien llegue lejos que lo descubra. Consiguen alterar bien el ritmo, a pesar de que están muy restringidas y eso limita su potencial. Este repaso a lo que ofrece Crash Bandicoot 4, si te fijas, no para de abrir alternativas y vías. Pues aún queda otra que es la de los personajes. Además de Crash y Coco, que se juegan de forma parecida, hay otros como Neo Cortex para los que han diseñado sus propias zonas en función de lo que saben hacer. Tratamos este tema en profundidad en las impresiones, y en este análisis hay que multiplicarlo con la introducción de Dingodile, Tawna y alguno más. Claro que no todos están al mismo nivel. Arrancaba el texto diciendo que It\\'s About Time ha aprendido de casi todos los errores de la trilogía remasterizada. Casi todos. Porque vuelve a tropezar en alguna piedra del pasado y, bienvenidos sean los cambios, pero también traen sus riesgos. Como por ejemplo, que muchas pantallas hechas para secundarios no dejan de ser versiones mínimamente alternativas de las que ya habías vivido con Crash o con Coco. Son más las que dejan sensación de reciclado que las que de verdad te convencen de que estás jugando algo distinto. En cuanto a los errores de toda la vida, me siguen sin convencer los controles y cómo se relaciona con la sensación de profundidad, y eso que hay un indicador debajo del personaje. La de cajas que me habré dejado atrás por un error de cálculo. Tengas al que tengas en tus manos, ninguno va tan fino como esperas, así que nunca vas con la confianza y la seguridad que transmiten otros plataformas por mucho que hayas repetido el mismo espacio un millar de veces. Queda claro que las mejoras superan claramente a los desperfectos que han aparecido y reparan gran parte de los que arrastraba la serie Crash Bandicoot. Ese humor tan característico no pasa de moda a pesar de que yo sí he pasado de grupo social y el mundo de juego es lustroso, rico y más ancho que nunca, así que esta vez se disfruta de verdad. Con un nivel de dificultad más ajustado y un control no tan domesticado, el reto está servido durante horas con este Crash Bandicoot 4: It\\'s About Time que es evolución y tradición en su justa medida.', 'score': 8.0}, 2: {'site': 'gamereactor', 'url_link': 'https://www.gamereactor.es/star-wars-squadrons-analisis/?sid=41207817edbc809d2c015b9bb6369924', 'author': 'Mike Holmes', 'game': '[ANÁLISIS] Star Wars: Squadrons', 'company': 'Electronic Arts', 'genre': 'Acción', 'platform': 'None', 'text': 'Squadrons es una nueva esperanza de EA para sacarle el mejor partido a su licencia para hacer videojuegos de Star Wars, y tras passarme la campaña y librar unas cuantas batallas multijugador antes del lanzamiento esta misma semana, celebro poder contaros que este nuevo juego de naves está en muy buena forma, si bien no alcanza la potencia necesaria como para hacerse el corredor de Kessel en menos de 12 parsecs. Lo primero es lo primero: me puse el casco y me abroché los cinturones para vivir la campaña de cabo a rabo. Durante sus 14 misiones conducidas por la trama (16 si incluyes el prólogo de dos partes), invita al jugador a irse poniendo de ambos bandos de la división imperial. Así, la historia puede ofrecer las perspectivas de la Nueva República (que son básicamente la Alianza Rebelde con un nuevo nombre desde que se cargan la Estrella de la Muerte y al Emperador Palpatine) y de lo que queda del Imperio. El relato está bastante bien, pero al ver que podría haber sido una evaluación brillante y llena de matices sobre la humanidad que muestran los soldados de ambas facciones, no alcanza ese nivel de emoción y complejidad. De hecho, aunque hay momentos entretenidos, la facción del malvado Imperio b̶r̶i̶t̶á̶n̶i̶c̶o̶ termina pareciendo más caricaturesca que auténtica. Las conversaciones in-game entre pilotos son, de largo, el recurso mejor empleado para describir las personalidades de tus aliados. Vale que puedes darte una vuelta por el hangar y charlar con los PNJ entre misiones, pero no son conversaciones reales ni hay opciones de diálogo; simplemente ves cómo un personaje solitario te suelta un monólogo o te conformas con presenciar la conversación de otras dos personas. Está bien, y algunas de las historias de trasfondo enlazan muy bien con los acontecimientos que todos conocemos, pero la ausencia de un intercambio real entre tru personaje y los demás hace que este juego sea tan interactivo a nivel narrativo como una audioguía. Las misiones de la campaña en sí no son nada de la otra galaxia en cuanto a shooter espaciales se refiere, pero como le ha pasado a esta licencia con otros géneros, el envoltorio de Star Wars hace mucho, mucho para mejorar sensaciones y ambientación. De hecho, diría que todos esos elementos tan familiares me ayudaron a mantener mi interés y seguir la campaña con una implicación que no creo que hubieran conseguido con una nueva IP de la que no conociera el universo. La campaña me llevó unas 10-12 horas de juego, aunque estoy seguro de que algunos se la pasarán mucho más rápido. Dicho esto, si te planteas completar todos los objetivos secundarios, escuchar todos los monólogos de todos los otros personajes entre misiones, o superar el modo \"difícil\", podrías extender ese tiempo de juego total unas horas. Dicho esto, en mi opinión la dificultad \"normal\", con la experiencia de piloto estelar estándar (es decir, manteniendo algunas indicaciones en la interfaz y evitando el modo sin ayudas que está dedicado a los fans más puristas de los simuladores de vuelo) ofrece una experiencia bien equilibrada, con un par de picos de dificultad por el camino. En el Modo Trama vuelas para dos escuadrones, el Vanguard de la Nueva República y el Titan del Imperio. Cada nave de las facciones tiene una especialidad y deja una sensación diferente a los mandos. Por ejemplo, los Cazas Tie y Ala-X son más todoterreno para hacer un poco de todo, pero luego cada bando también cuenta con interceptores, bombarderos y naves de apoyo. Igual que en juegos como Elite: Dangerous, es muy fácil reequilibrar los sistemas de la nave para que se ajuste mejor a tus necesidades inmediatas, por lo que si estás recibiendo daño y necesitas más potencia en tus escudos o motores, con un botón estarás derivando energía para potenciar ese sistema. Del mismo modo, si encaras un ataque frontal, puedes canalizar la potencia adicional a los láseres para máximo impacto. Entre misiones, también puedes intercambiar varios sistemas de naves para ser más efectivo en ciertas tareas. Parece una configuración bien balanceada, pues cada pieza nueva viene con sus pros y sus contras que deberás sopesar.  El multijugador consiste en dos modos, el típico duelo a muerte por equipos (Refriega) y uno más estructurado denominado Batallas de Flotas. Sinceramente, creo que por ahora me gusta más la simplicidad de los combates estándar, pero las Batallas de Flotas introducen un interesante cambio de ritmo, sobre todo si formas parte de un buen equipo que sepa comunicarse. De hecho, aunque sean unos pocos comentarios por el intercomunicador, ya marca una gran diferencia, pues no solo ap orta a la inmersión, sino que dota a tu equipo de una ventaja táctica crucial. Volviendo al modo Refriega, es muy intenso y espectacular, y te permite centrarte en los fundamentos de la batalla -así lo prefiero yo- porque en cuestión de segundos estás entrando y saliendo del peligro, alineando disparos con la mejor puntería posible y sintiéndote... pues eso, todo un piloto estelar. Las Batallas de Flotas se van moviendo por varias fases en la misma partida, y toca ir equilibrando la moral del equipo con el ataque a diversos objetivos. Cuando la moral está bien alta, todo el equipo puede pasar a la siguiente tanda de objetivos, lo que genera una sensación de tira y afloja muy curiosa en la acción. Las partidas también son más largas, pero eso de que estén divididas por fases significa un flujo de juego muy distinto, aunque a veces parezca que están reteniendo vuestro ataque porque sí. La selección de planetas y localizaciones está bastante bien, incluyendo algunos telones de fondo ciertamente apabullantes. Los mejores, además, se reutilizan en el multijugador, desde detalladas bases metálicas que destacan sobre el oscuro espacial hasta campos de asteroides o una zona repleta de efectos ambientales chulísimos. Naturalmente, las naves son las verdaderas protagonistas del show, y quizá son mi aspecto favorito de todo el juego, desde sus diseños emblemáticos hasta sus interiores auténticos y elaborados. Como fan de los antiguos juegos de naves (como Star Wars: Tie Fighter), no podría pedir mucho más en cuanto a presencia y sensaciones, y como era de esperar los efectos de sonido, la banda sonora y el trabajo de audio en general no son más que la guinda del pastel audiovisual. Existe un sistema de ranking que sirve para soportar la porción multijugador del juego. Aquí, lógicamente, cuanto mejor lo hagas, más escalarás en las clasificaciones mundiales online. Puedes ver tus estadísticas generales o intentar una serie de desafíos concretos para conseguir marcar puntos adicionales que luego puedes gastar en múltiples accesorios puramente estéticos. Lo que es más, también puedes invertir una moneda in-game diferente para desbloquear nuevas partes de las naves o mejorar su capacidad. Por último, es posible decorar el casco de las naves y también de sus cabinas. Como todo esto va sin microtransacciones y los accesorios parecen muy molones, todo es bienvenido. Un añadido de valor para los que quieran perfeccionar su pilotaje fuera de la campaña y el multijugador es la zona de entrenamiento en la que puedes ajustar el reto según tus necesidades. De hecho, si no necesitas el contexto argumental o el pique con otros jugadores, aquí también puedes pasarlo muy bien. Quizá deberían desarrollar esta porción del juego un poco más; en un universo ideal los jugadores tendrían más control y podrían hacer sus propias misiones de desafío para luego compartirlas con la comunidad. A lo mejor está en los planes post-lanzamiento, pero algo así habría potenciado la rejugabilidad ya de salida. Aunque el juego está bastante pulido a nivel técnico, como cabe esperar de las compañías implicadas, hay que decir que no viene sin fallos. Tuve que reiniciar un par de checkpoints porque no se completaban los objetivos, en una ocasión no pude controlar mi nave y en la Misión 12 todo el juego se quedó colgado, forzando un reinicio. La verdad es que perdí unos minutos de progreso y poco más, así que fue más una puñeta que una molestia constante, pero advertí que el juego se queda un poco pillado nada más cumplir los objetivos (seguro que tiene que ver con el punto de guardado), aunque no descarto que todo esto también tuviera que ver con mi PC. Quitando algunas imperfecciones técnicas, Star Wars: Squadrons me ha mantenido entretenido durante toda su campaña y también me lo he pasado genial en su multijugador, sobre todo en el modo más sencillo de las Refriegas. Teniendo en cuenta que no es un lanzamiento a precio completo, tiene contenido suficiente para echar unas buenas horas, aunque pensaba que a EA Motive se le habrían ocurrido algunas ideas adicionales para ampliar el interés de los modos multiplayer, en pos de la variedad y la longevidad. Dicho esto, la esencia del juego, la experiencia en la cabina, es la gran baza de Squadrons, tanto que creo que podría ser la base para algo más grande en el futuro.', 'score': 7.0}, 3: {'site': 'gamereactor', 'url_link': 'https://www.gamereactor.es/art-of-rally-analisis/?sid=41207817edbc809d2c015b9bb6369924', 'author': 'Petter Hegevall', 'game': 'Art of Rally', 'company': 'Funselektor Labs Inc', 'genre': 'Carreras', 'platform': ' PC', 'text': 'Este estilo tan estilo con el que Art of Rally representa este deporte te hace pararte a pensar. Se conduce con el teclado, como hace 25 años, con una sola mano. Su tempo lento te va metiendo en un especie de hipnosis ambiental, como si el cerebro se enchufara directamente al PC. Qué pocos juegos de coches consiguen esta sensación tan relajante, aunque en el fondo se trate de ir todo lo rápido posible con un coche de rallies grupo B de los años 80 sobre la engañosa gravilla, el peligroso hielo o el asfalto. Y sí es como Funselektor Labs, que ya tienen en su haber Absolute Drift, han conseguido este feel tan único y diferenciado, que difícilmente se puede equiparar a cualquier otra cosa del presente. Art of Rally trata de sacar las entrañas del deporte de motor hasta encontrar su esencia pura. Consiste en apurar en cada ángulo tanto como se pueda y en moderar la velocidad en función de la recuperación. Hay que empezar a girar antes de que llegue la curva si quieres conseguir buena velocidad, y es importante conducir con firmeza, porque un error minúsculo cuesta unas décimas de segundo muy valiosas. No te da la sensación de que vayas muy rápido, para nada, pero ahí está la gracia. Te ta tiempo a reaccionar, a planear y como Funselektor Labs ha pasado del ritmo al colocar la cámara a unos 50 metros de altura, la visibilidad es muy buena. A veces me recuerda a los clásicos RC Pro-Am de NES, Super Off-Road de SNES o Super Cars 3 de Amiga, sin olvidarse de mi preferido de la generación 26 bits como fue el Micro Machines II: Turbo Tournament. Todo se consigue con las flechas de dirección y la barra espaciadora (que es el freno), así que es muy fácil conducir a una sola mano mientras te echas una gominola a la boca con la otra. Que es lo que he estado haciendo mientras lo probaba. La sensación del pilotaje es tan simple como la propia composición. El coche derrapa a la mínima y, como decía, hay que dominarlo con mucho temple en el pedal del acelerador y un buen timing en el del freno. Es imprescindible anticipar los derrapes girando las ruedas delanteras en la dirección opuesta a la que quiere ir el coche, contravolanteando y equilibrando los pesos del propio vehículo abriendo gas. Súper básico y también súper fácil de aprender, pero cuánto cuesta cogerle el truco. No es una crítica, es perfecto. Y la estructura de juego es igual de sencilla. Empieza con un circuito de entrenamiento que también es el escenario central y, una vez que te has acostumbrado a las sensaciones del coche, hay que ir a por el modo carrera, que te lleva de tournée por varias partes del planeta para que compitas en los rallies y vayas ganando coches como recompensa. Están los clásicos de la generación como son los Peugeot 206, Audi S1, Lancia HF Integrale Delta y Stratos u Opel Kadett GT, pero el estudio no cuenta con las licencias así que tenido que desdibujarlos un poco (un poquito) y cambiarlos el nombre. En los títulos del género de gran presupuesto como Dirt Rally 2.0 o WRC 9 le pondría pegas, pero en Art of Rally es bastante apropiado y han logrado que quede mono. Lo bueno es que son bastante distintos entre sí en comportamiento al volante y eso sí que no me lo esperaba. Así que es importante aprender cómo se comporta cada uno desde el principio para poder conseguir tiempos competitivos en distancias largas. Los gráficos son sensacionales. Minimalistas pero con mucho estilo y con una paleta de color que es para comérselo. Qué pocos estudios se atreverían a algo así hoy en día. Si se junta con esa música excelente a base de betas y sweeping en una calidad 5.1 impresionante, resulta que el estudio ha conseguido una calidad audiovisual fuera de lo corriente para un presupuesto tan limitado. Art of Rally no está aquí para competir con Dirt y WRC, si no que es un juego de rally a su manera, de alma retro y mucho estilo, con el que vas a pasártelo bien sin complicaciones.', 'score': 7.0}, 4: {'site': 'gamereactor', 'url_link': 'https://www.gamereactor.es/kirby-fighters-2-analisis/?sid=41207817edbc809d2c015b9bb6369924', 'author': 'Alberto Garrido', 'game': 'Análisis de Kirby Fighters 2: ¿Hacía falta otra entrega?', 'company': 'Nintendo', 'genre': 'Acción', 'platform': ' Nintendo Switch', 'text': 'Se filtró su lanzamiento unas horas antes de su anuncio oficial, y el pasado día 24 llegaba por sorpresa Kirby Fighters 2, un título de peleas del estilo Smash con el personaje rosado favorito de Nintendo como protagonista absoluto. Y decimos absoluto porque los combates los protagoniza casi exclusivamente Kirby en cada una de sus versiones y estilos de combate. Para que os hagáis una idea, sería más o menos como si nos hubiéramos tragado al resto de los personajes de Super Smash Bros. Ultimate. Su llegada no se esperaba. Se trata de la secuela de uno de los modos de juego del Kirby:Triple Deluxe que salió en Nintendo 3DS allá por 2014. Ese modo de juego también se comercializó por separado unos meses más tarde recibiendo el nombre Kirby Fighters Deluxe. Y la Gran N ha decidido relanzar la franquicia en su consola híbrida con una continuación que mantiene la esencia de la primera parte y la extiende a nuevos estilos de combate y una jugabilidad mejorada para la ocasión. El modo de juego clásico es un combate de hasta 4 jugadores controlando las distintas versiones de Kirby y algunos personajes de la franquicia como Waddle Dee o Gooey. En un estilo similar al visto en los Super Smash Brothers, además de nuestra habilidad especial de personaje usaremos tanto el escenario como los distintos ítemes que aparecen para derrotar al adversario. Cañones, bombas e incluso objetos de ataque conjunto como la Estrella Cañón para hacer un daño crítico. Si por el contrario eres tú quien resulta derrotado pero tu aliado sigue en pie, puedes apoyarle peleando como fantasma y si consigues golpear al enemigo, vuelves a la partida con un poquito de vida. A medida que vas acumulando victorias obtienes puntos de luchador, con los que vas desbloqueando nuevos \"kirbies\", escenarios, objetos coleccionables e ítemes para usar en combate. En cuanto a los personajes, en Hal Laboratory han sabido darle un estilo muy marcado a cada personaje en función de su forma de pelear, pese al aspecto similar de base. Está Espada, Martillo, Varita, Yoyó... Dependiendo del estilo de juego que quieras, seguro que te decantas más por unos que por otros. Por destacar una opción personal, hemos dado bastantes palos con el nuevo integrante del plantel, Kirby Lucha Libre (con una máscara al más puro estilo mexicano). No es demasiado rápido, pero puede agarrar al contrario y mediante un combo de llaves noquearlo en unos segundos. En cuanto a los escenarios hay mucha variedad, aunque siguen presentes algunos clásicos como Dream Land. Lo malo es que parece que tienen todos el mismo tamaño y no ofrecen mucha verticalidad (que es un poco raro, siendo Kirby un personaje que se pasa la mitad del tiempo hinchado como un globo y flotando sobre los adversarios). Siguiendo con los modos de juego, en la parte multijugador podemos jugar con hasta 3 amigos más en la misma consola Switch. En línea podemos jugar en equipos de 2 contra 2 tanto al azar como con los amigos que tengamos en nuestro perfil de Switch. Hemos tenido dos experiencias con el emparejamiento de jugadores aleatorios muy distintas. Si bien en una no tuvimos problemas y el sistema nos encontraba salas y podíamos combatir uno detrás de otro, en la siguiente ocasión que quisimos no conseguía hacer el emparejamiento por más que lo intentamos. Una pena que no se puedan completar los equipos con personajes manejados por la IA. Kirby Fighters 2 cuenta con un modo Historia llamado Rivales Jurados, que pude jugarse solo o en cooperativo. Consiste en enfrentarse al Rey Dedede y a Meta-Knight que se encuentran en lo alto de una torre, y para llegar a ella debemos atravesar todo sus pisos, donde nos iremos enfrentando tanto a copias de Kirby como a otros personajes de la franquicia. Cada tramo de la torre será un capítulo con sus combates y su jefe propio, y en el que tendremos que gestionar los objetos conseguidos al final de cada pelea para recuperar salud o mejorar el ataque o los objetos para la siguiente ronda. Además, sólo se regenera una cantidad de salud tras el combate, así que hay que ir mirando con mucho cuidado qué bonificación de las tres a elegir escogemos. En este modo, que recuerda un poco a Mortal Kombat, es en el que más puntos de luchador obtendremos para desbloquear a todos los personajes. También hay un modo pensado para jugarse en solitario, al estilo Arcade de juegos de lucha clásicos en el que nos enfrentamos a 9 rondas de combate y el objetivo es derrotar al adversario en el menos tiempo posible. Cuenta con distintos modos de dificultad y el desafío de completarlo con cada personaje nos llevará bastantes horas. En conjunto, Kirby Fighters 2 es una propuesta menor frente a Super Smash Bros. Ultimate y es totalmente consciente de ello (sale a 19,99€ en la eShop de Nintendo Switch). No cuenta con mejoras ni novedades transcendentales frente a lo visto en el juego de lucha más vendido de la historia, e incluso se echa de menos un \"remapeado\" de los controles básicos, que no se pueden cambiar. Se hace un poco incómodo combinar ataques (botón B) mientras estamos en salto (botón A). El Y lo utilizamos para agarrar y tragar al enemigo, y el X (donde yo sí pondría el salto) queda desierto y no se utiliza. Haber dado esa opción tan sencilla de configurar controles haría la experiencia más satisfactoria. Por suerte la música es estupenda y siempre levanta la moral escuchar los temas de la saga Kirby como Green Greens o Gourmet Race, con un apartado sonoro notable. Si lo que quieres es echar unos cuantos combates desenfadados con amigos y sois fanáticos de la bolita rosa, es una opción más que ya tenéis disponible. Pero será difícil que este juego menor se haga notar y encuentre su espacio propio frente a un gigante relativamente similar que lo aventaja en todo.', 'score': 6.0}}\n"
     ]
    }
   ],
   "source": [
    "result = gamereactor_dict(links[0:5])\n",
    "print(result)"
   ]
  },
  {
   "cell_type": "code",
   "execution_count": 145,
   "metadata": {},
   "outputs": [
    {
     "data": {
      "text/plain": [
       "{'site': 'gamereactor',\n",
       " 'url_link': 'https://www.gamereactor.es/art-of-rally-analisis/?sid=41207817edbc809d2c015b9bb6369924',\n",
       " 'author': 'Petter Hegevall',\n",
       " 'game': 'Art of Rally',\n",
       " 'company': 'Funselektor Labs Inc',\n",
       " 'genre': 'Carreras',\n",
       " 'platform': ' PC',\n",
       " 'text': 'Este estilo tan estilo con el que Art of Rally representa este deporte te hace pararte a pensar. Se conduce con el teclado, como hace 25 años, con una sola mano. Su tempo lento te va metiendo en un especie de hipnosis ambiental, como si el cerebro se enchufara directamente al PC. Qué pocos juegos de coches consiguen esta sensación tan relajante, aunque en el fondo se trate de ir todo lo rápido posible con un coche de rallies grupo B de los años 80 sobre la engañosa gravilla, el peligroso hielo o el asfalto. Y sí es como Funselektor Labs, que ya tienen en su haber Absolute Drift, han conseguido este feel tan único y diferenciado, que difícilmente se puede equiparar a cualquier otra cosa del presente. Art of Rally trata de sacar las entrañas del deporte de motor hasta encontrar su esencia pura. Consiste en apurar en cada ángulo tanto como se pueda y en moderar la velocidad en función de la recuperación. Hay que empezar a girar antes de que llegue la curva si quieres conseguir buena velocidad, y es importante conducir con firmeza, porque un error minúsculo cuesta unas décimas de segundo muy valiosas. No te da la sensación de que vayas muy rápido, para nada, pero ahí está la gracia. Te ta tiempo a reaccionar, a planear y como Funselektor Labs ha pasado del ritmo al colocar la cámara a unos 50 metros de altura, la visibilidad es muy buena. A veces me recuerda a los clásicos RC Pro-Am de NES, Super Off-Road de SNES o Super Cars 3 de Amiga, sin olvidarse de mi preferido de la generación 26 bits como fue el Micro Machines II: Turbo Tournament. Todo se consigue con las flechas de dirección y la barra espaciadora (que es el freno), así que es muy fácil conducir a una sola mano mientras te echas una gominola a la boca con la otra. Que es lo que he estado haciendo mientras lo probaba. La sensación del pilotaje es tan simple como la propia composición. El coche derrapa a la mínima y, como decía, hay que dominarlo con mucho temple en el pedal del acelerador y un buen timing en el del freno. Es imprescindible anticipar los derrapes girando las ruedas delanteras en la dirección opuesta a la que quiere ir el coche, contravolanteando y equilibrando los pesos del propio vehículo abriendo gas. Súper básico y también súper fácil de aprender, pero cuánto cuesta cogerle el truco. No es una crítica, es perfecto. Y la estructura de juego es igual de sencilla. Empieza con un circuito de entrenamiento que también es el escenario central y, una vez que te has acostumbrado a las sensaciones del coche, hay que ir a por el modo carrera, que te lleva de tournée por varias partes del planeta para que compitas en los rallies y vayas ganando coches como recompensa. Están los clásicos de la generación como son los Peugeot 206, Audi S1, Lancia HF Integrale Delta y Stratos u Opel Kadett GT, pero el estudio no cuenta con las licencias así que tenido que desdibujarlos un poco (un poquito) y cambiarlos el nombre. En los títulos del género de gran presupuesto como Dirt Rally 2.0 o WRC 9 le pondría pegas, pero en Art of Rally es bastante apropiado y han logrado que quede mono. Lo bueno es que son bastante distintos entre sí en comportamiento al volante y eso sí que no me lo esperaba. Así que es importante aprender cómo se comporta cada uno desde el principio para poder conseguir tiempos competitivos en distancias largas. Los gráficos son sensacionales. Minimalistas pero con mucho estilo y con una paleta de color que es para comérselo. Qué pocos estudios se atreverían a algo así hoy en día. Si se junta con esa música excelente a base de betas y sweeping en una calidad 5.1 impresionante, resulta que el estudio ha conseguido una calidad audiovisual fuera de lo corriente para un presupuesto tan limitado. Art of Rally no está aquí para competir con Dirt y WRC, si no que es un juego de rally a su manera, de alma retro y mucho estilo, con el que vas a pasártelo bien sin complicaciones.',\n",
       " 'score': 7.0}"
      ]
     },
     "execution_count": 145,
     "metadata": {},
     "output_type": "execute_result"
    }
   ],
   "source": [
    "result[3]"
   ]
  },
  {
   "cell_type": "code",
   "execution_count": 33,
   "metadata": {},
   "outputs": [
    {
     "data": {
      "text/html": [
       "<div>\n",
       "<style scoped>\n",
       "    .dataframe tbody tr th:only-of-type {\n",
       "        vertical-align: middle;\n",
       "    }\n",
       "\n",
       "    .dataframe tbody tr th {\n",
       "        vertical-align: top;\n",
       "    }\n",
       "\n",
       "    .dataframe thead th {\n",
       "        text-align: right;\n",
       "    }\n",
       "</style>\n",
       "<table border=\"1\" class=\"dataframe\">\n",
       "  <thead>\n",
       "    <tr style=\"text-align: right;\">\n",
       "      <th></th>\n",
       "      <th>title</th>\n",
       "      <th>author</th>\n",
       "      <th>review</th>\n",
       "      <th>url</th>\n",
       "    </tr>\n",
       "  </thead>\n",
       "  <tbody>\n",
       "    <tr>\n",
       "      <th>0</th>\n",
       "      <td>Análisis Bounty Battle; el título de lucha de ...</td>\n",
       "      <td>NaN</td>\n",
       "      <td>Después del anuncio de su retraso indefinido e...</td>\n",
       "      <td>https://as.com/meristation/2020/09/22/analisis...</td>\n",
       "    </tr>\n",
       "    <tr>\n",
       "      <th>1</th>\n",
       "      <td>eFootball PES 2021, análisis. Rueda el balón, ...</td>\n",
       "      <td>NaN</td>\n",
       "      <td>La temporada futbolística acabó de manera atíp...</td>\n",
       "      <td>https://as.com/meristation/2020/09/22/analisis...</td>\n",
       "    </tr>\n",
       "    <tr>\n",
       "      <th>2</th>\n",
       "      <td>Milky Way Prince: The Vampire Prince, análisis...</td>\n",
       "      <td>NaN</td>\n",
       "      <td>El amor es uno de los temas universales que pe...</td>\n",
       "      <td>https://as.com/meristation/2020/09/21/analisis...</td>\n",
       "    </tr>\n",
       "    <tr>\n",
       "      <th>3</th>\n",
       "      <td>Spinch, análisis PC y Switch: Una experiencia ...</td>\n",
       "      <td>NaN</td>\n",
       "      <td>No hay duda de que el género de las plataforma...</td>\n",
       "      <td>https://as.com/meristation/2020/09/20/analisis...</td>\n",
       "    </tr>\n",
       "    <tr>\n",
       "      <th>4</th>\n",
       "      <td>Spelunky 2, análisis: el videojuego más hardco...</td>\n",
       "      <td>NaN</td>\n",
       "      <td>Mucho ha llovido desde el lanzamiento de Spelu...</td>\n",
       "      <td>https://as.com/meristation/2020/09/19/analisis...</td>\n",
       "    </tr>\n",
       "  </tbody>\n",
       "</table>\n",
       "</div>"
      ],
      "text/plain": [
       "                                               title  author  \\\n",
       "0  Análisis Bounty Battle; el título de lucha de ...     NaN   \n",
       "1  eFootball PES 2021, análisis. Rueda el balón, ...     NaN   \n",
       "2  Milky Way Prince: The Vampire Prince, análisis...     NaN   \n",
       "3  Spinch, análisis PC y Switch: Una experiencia ...     NaN   \n",
       "4  Spelunky 2, análisis: el videojuego más hardco...     NaN   \n",
       "\n",
       "                                              review  \\\n",
       "0  Después del anuncio de su retraso indefinido e...   \n",
       "1  La temporada futbolística acabó de manera atíp...   \n",
       "2  El amor es uno de los temas universales que pe...   \n",
       "3  No hay duda de que el género de las plataforma...   \n",
       "4  Mucho ha llovido desde el lanzamiento de Spelu...   \n",
       "\n",
       "                                                 url  \n",
       "0  https://as.com/meristation/2020/09/22/analisis...  \n",
       "1  https://as.com/meristation/2020/09/22/analisis...  \n",
       "2  https://as.com/meristation/2020/09/21/analisis...  \n",
       "3  https://as.com/meristation/2020/09/20/analisis...  \n",
       "4  https://as.com/meristation/2020/09/19/analisis...  "
      ]
     },
     "execution_count": 33,
     "metadata": {},
     "output_type": "execute_result"
    }
   ],
   "source": [
    "gamereactor = pd.DataFrame({'title': titles, \n",
    "                           'author': np.nan, \n",
    "                           'review': reviews_col, \n",
    "                           'url': links \n",
    "                           })\n",
    "\n",
    "gamereactor.head()"
   ]
  },
  {
   "cell_type": "code",
   "execution_count": 34,
   "metadata": {},
   "outputs": [],
   "source": [
    "#meristation.to_csv('../data/meristation_data.csv', index=False)"
   ]
  },
  {
   "cell_type": "code",
   "execution_count": null,
   "metadata": {},
   "outputs": [],
   "source": []
  }
 ],
 "metadata": {
  "kernelspec": {
   "display_name": "Python [conda env:lab_env]",
   "language": "python",
   "name": "conda-env-lab_env-py"
  },
  "language_info": {
   "codemirror_mode": {
    "name": "ipython",
    "version": 3
   },
   "file_extension": ".py",
   "mimetype": "text/x-python",
   "name": "python",
   "nbconvert_exporter": "python",
   "pygments_lexer": "ipython3",
   "version": "3.7.3"
  }
 },
 "nbformat": 4,
 "nbformat_minor": 4
}
