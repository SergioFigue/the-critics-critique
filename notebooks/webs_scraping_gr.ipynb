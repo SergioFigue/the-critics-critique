{
 "cells": [
  {
   "cell_type": "markdown",
   "metadata": {},
   "source": [
    "<div style=\"float:right; padding-top: 15px; padding-right: 15px\">\n",
    "    <div>\n",
    "        <a href=\"https://whiteboxml.com\">\n",
    "            <img src=\"https://whiteboxml.com/static/img/logo/black_bg_white.svg\" width=\"250\">\n",
    "        </a>\n",
    "    </div>\n",
    "</div>"
   ]
  },
  {
   "cell_type": "markdown",
   "metadata": {},
   "source": [
    "# Web Scraping"
   ]
  },
  {
   "cell_type": "markdown",
   "metadata": {},
   "source": [
    "## 1. Introduction"
   ]
  },
  {
   "cell_type": "markdown",
   "metadata": {},
   "source": [
    "Web scraping refers to the automatic extraction of information from a web page. This information is often a page's content, but it can also include information in the page's headers, links present on the page, or any other information embedded in the page's HTML. Because of this, scraping has become one of the most popular ways to extract data from the web. \n",
    "\n",
    "_\"With basic knowledge of HTML and the help of a few Python libraries, you can obtain information from just about any page on the Internet\"_"
   ]
  },
  {
   "cell_type": "code",
   "execution_count": 45,
   "metadata": {},
   "outputs": [],
   "source": [
    "import requests\n",
    "from bs4 import BeautifulSoup\n",
    "import time\n",
    "import pandas as pd"
   ]
  },
  {
   "cell_type": "markdown",
   "metadata": {},
   "source": [
    "## 2. Scraping a Simple Web Page"
   ]
  },
  {
   "cell_type": "code",
   "execution_count": 79,
   "metadata": {},
   "outputs": [
    {
     "data": {
      "text/plain": [
       "b' <!DOCTYPE html>\\n<html lang=\"es\">\\n<head>\\n\\n\\n<script>(function(w,d,s,l,i){w[l]=w[l]||[];w[l].push({\\'gtm.start\\':\\n\\tnew Date().getTime(),event:\\'gtm.js\\'});var f=d.getElementsByTagName(s)[0],\\n\\tj=d.createElement(s),dl=l!=\\'dataLayer\\'?\\'&l=\\'+l:\\'\\';j.async=true;j.src=\\n\\t\\'https://www.googletagmanager.com/gtm.js?id=\\'+i+dl;f.parentNode.insertBefore(j,f);\\n\\t})(window,document,\\'script\\',\\'dataLayer\\',\\'GTM-P9ZBFRD\\');</script>\\n\\n\\n<meta charset=\"utf-8\">\\n<meta name=\"viewport\" content=\"width=device-width, initial-scale=1.0,'"
      ]
     },
     "execution_count": 79,
     "metadata": {},
     "output_type": "execute_result"
    }
   ],
   "source": [
    "\n",
    "#Scraping del menú de análisis\n",
    "import requests\n",
    "\n",
    "url = 'https://www.gamereactor.es/analisis/'\n",
    "html = requests.get(url).content\n",
    "html[:500]"
   ]
  },
  {
   "cell_type": "markdown",
   "metadata": {},
   "source": [
    "### 2.1 Beautiful Soup"
   ]
  },
  {
   "cell_type": "code",
   "execution_count": 80,
   "metadata": {},
   "outputs": [],
   "source": [
    "from bs4 import BeautifulSoup\n",
    "\n",
    "# lxml is the parsing module\n",
    "soup = BeautifulSoup(html, 'lxml')\n",
    "article = soup.find('section', {'id':'textlist'})\n"
   ]
  },
  {
   "cell_type": "code",
   "execution_count": 81,
   "metadata": {},
   "outputs": [
    {
     "data": {
      "text/plain": [
       "\"tags = article.find_all('a')\\nlink_parsed = []\\n\\nfor tag in tags:\\n    link = tag['href']\\n#    author = tag.find_all('a', {'class': ['username']})\\n    link_parsed.append(link)\\n#    print(author)\\n#   print(title)\\n\\nlink_parsed = []\\n\\nfor tag in tags:\\n    link = tag['href']\\n#    author = tag.find_all('a', {'class': ['username']})\\n    link_parsed.append(link)\\n#    print(author)\\n#   print(title)\\n\""
      ]
     },
     "execution_count": 81,
     "metadata": {},
     "output_type": "execute_result"
    }
   ],
   "source": [
    "#Residuos\n",
    "\n",
    "'''tags = article.find_all('a')\n",
    "link_parsed = []\n",
    "\n",
    "for tag in tags:\n",
    "    link = tag['href']\n",
    "#    author = tag.find_all('a', {'class': ['username']})\n",
    "    link_parsed.append(link)\n",
    "#    print(author)\n",
    "#   print(title)\n",
    "\n",
    "link_parsed = []\n",
    "\n",
    "for tag in tags:\n",
    "    link = tag['href']\n",
    "#    author = tag.find_all('a', {'class': ['username']})\n",
    "    link_parsed.append(link)\n",
    "#    print(author)\n",
    "#   print(title)\n",
    "\n",
    "links_list = []\n",
    "for game in links_refactored:\n",
    "    print(game[1])\n",
    "    links_list.append(game[1])\n",
    "#refactorización en bloques de tres\n",
    "row_split = 3\n",
    "links_refactored = [link_parsed[x:x+row_split] for x in range(0, len(link_parsed), row_split)]\n",
    "links_refactored[0][1]\n",
    "\n",
    "import furl\n",
    "\n",
    "tests = 'http://www.gamereactor.es/archivo?sid=0f2f862e61f71946f2f07ebdce16ec4f'\n",
    "\n",
    "final_list = []\n",
    "\n",
    "for linkin in links_list:\n",
    "    new_link = 'https:www.gamereactor.es' + linkin\n",
    "    new_link = furl.furl(new_link).remove().url\n",
    "    final_list.append(new_link)\n",
    "'''    "
   ]
  },
  {
   "cell_type": "code",
   "execution_count": 82,
   "metadata": {},
   "outputs": [],
   "source": [
    "#selección de tags\n",
    "\n",
    "articles = soup.find('section', {'id':'textlist'}).find_all('article')"
   ]
  },
  {
   "cell_type": "code",
   "execution_count": 95,
   "metadata": {},
   "outputs": [
    {
     "data": {
      "text/plain": [
       "['https://www.gamereactor.es/kingdoms-of-amalur-rereckoning-analisis/?sid=9b5fe5842fcb20c5aaaa7d413c5cd78d',\n",
       " 'https://www.gamereactor.es/tennis-world-tour-2-iguales/?sid=9b5fe5842fcb20c5aaaa7d413c5cd78d',\n",
       " 'https://www.gamereactor.es/hades-analisis/?sid=9b5fe5842fcb20c5aaaa7d413c5cd78d',\n",
       " 'https://www.gamereactor.es/necronator-dead-wrong/?sid=9b5fe5842fcb20c5aaaa7d413c5cd78d',\n",
       " 'https://www.gamereactor.es/los-sims-4-star-wars-viaje-a-batuu-analisis/?sid=9b5fe5842fcb20c5aaaa7d413c5cd78d',\n",
       " 'https://www.gamereactor.es/spelunky-2-hasta-la-muerte/?sid=9b5fe5842fcb20c5aaaa7d413c5cd78d',\n",
       " 'https://www.gamereactor.es/crysis-remastered-analisis/?sid=9b5fe5842fcb20c5aaaa7d413c5cd78d',\n",
       " 'https://www.gamereactor.es/super-mario-3d-allstars-analisis/?sid=9b5fe5842fcb20c5aaaa7d413c5cd78d',\n",
       " 'https://www.gamereactor.es/13-sentinels-aegis-rim-analisis/?sid=9b5fe5842fcb20c5aaaa7d413c5cd78d',\n",
       " 'https://www.gamereactor.es/efootball-pes-2021-season-update/?sid=9b5fe5842fcb20c5aaaa7d413c5cd78d',\n",
       " 'https://www.gamereactor.es/pathfinder-kingmaker-para-ps4-y-xbox-one/?sid=9b5fe5842fcb20c5aaaa7d413c5cd78d',\n",
       " 'https://www.gamereactor.es/samurai-jack-battle-through-time-analisis/?sid=9b5fe5842fcb20c5aaaa7d413c5cd78d',\n",
       " 'https://www.gamereactor.es/super-bomberman-r-online-nacido-para-el-battle-royale/?sid=9b5fe5842fcb20c5aaaa7d413c5cd78d',\n",
       " 'https://www.gamereactor.es/tell-me-why-juego-completo/?sid=9b5fe5842fcb20c5aaaa7d413c5cd78d',\n",
       " 'https://www.gamereactor.es/nba-2k21-analisis/?sid=9b5fe5842fcb20c5aaaa7d413c5cd78d',\n",
       " 'https://www.gamereactor.es/marvels-avengers-analisis/?sid=9b5fe5842fcb20c5aaaa7d413c5cd78d',\n",
       " 'https://www.gamereactor.es/what-happened-analisis/?sid=9b5fe5842fcb20c5aaaa7d413c5cd78d',\n",
       " 'https://www.gamereactor.es/struggling-analisis/?sid=9b5fe5842fcb20c5aaaa7d413c5cd78d',\n",
       " 'https://www.gamereactor.es/tony-hawks-pro-skater-1-2-analisis/?sid=9b5fe5842fcb20c5aaaa7d413c5cd78d',\n",
       " 'https://www.gamereactor.es/control-awe/?sid=9b5fe5842fcb20c5aaaa7d413c5cd78d',\n",
       " 'https://www.gamereactor.es/fight-crab-pelea-de-cangrejos/?sid=9b5fe5842fcb20c5aaaa7d413c5cd78d',\n",
       " 'https://www.gamereactor.es/wrc-9-analisis/?sid=9b5fe5842fcb20c5aaaa7d413c5cd78d',\n",
       " 'https://www.gamereactor.es/iron-harvest-la-guerra-nunca-acaba/?sid=9b5fe5842fcb20c5aaaa7d413c5cd78d',\n",
       " 'https://www.gamereactor.es/crusader-kings-iii-analisis/?sid=9b5fe5842fcb20c5aaaa7d413c5cd78d',\n",
       " 'https://www.gamereactor.es/spiritfarer-analisis/?sid=9b5fe5842fcb20c5aaaa7d413c5cd78d',\n",
       " 'https://www.gamereactor.es/captain-tsubasa-rise-of-new-champions-analisis/?sid=9b5fe5842fcb20c5aaaa7d413c5cd78d',\n",
       " 'https://www.gamereactor.es/wasteland-3-analisis/?sid=9b5fe5842fcb20c5aaaa7d413c5cd78d',\n",
       " 'https://www.gamereactor.es/rimworld-royalty/?sid=9b5fe5842fcb20c5aaaa7d413c5cd78d',\n",
       " 'https://www.gamereactor.es/project-cars-3-analisis/?sid=9b5fe5842fcb20c5aaaa7d413c5cd78d',\n",
       " 'https://www.gamereactor.es/remnant-from-the-ashes-subject-2923/?sid=9b5fe5842fcb20c5aaaa7d413c5cd78d',\n",
       " 'https://www.gamereactor.es/onward-para-oculus-quest/?sid=9b5fe5842fcb20c5aaaa7d413c5cd78d',\n",
       " 'https://www.gamereactor.es/risk-of-rain-2-una-batalla-inagotable/?sid=9b5fe5842fcb20c5aaaa7d413c5cd78d',\n",
       " 'https://www.gamereactor.es/pga-tour-2k21-analisis/?sid=9b5fe5842fcb20c5aaaa7d413c5cd78d',\n",
       " 'https://www.gamereactor.es/battletoads-2020/?sid=9b5fe5842fcb20c5aaaa7d413c5cd78d',\n",
       " 'https://www.gamereactor.es/peaky-blinders-mastermind-la-precuela/?sid=9b5fe5842fcb20c5aaaa7d413c5cd78d',\n",
       " 'https://www.gamereactor.es/mortal-shell-un-souls-endurecido/?sid=9b5fe5842fcb20c5aaaa7d413c5cd78d',\n",
       " 'https://www.gamereactor.es/hyper-scape-analisis/?sid=9b5fe5842fcb20c5aaaa7d413c5cd78d',\n",
       " 'https://www.gamereactor.es/microsoft-flight-simulator-vuelo-de-altura/?sid=9b5fe5842fcb20c5aaaa7d413c5cd78d',\n",
       " 'https://www.gamereactor.es/total-war-saga-troy-analisis/?sid=9b5fe5842fcb20c5aaaa7d413c5cd78d',\n",
       " 'https://www.gamereactor.es/hearthstone-academia-scholomance/?sid=9b5fe5842fcb20c5aaaa7d413c5cd78d',\n",
       " 'https://www.gamereactor.es/fast-furious-crossroads-analisis/?sid=9b5fe5842fcb20c5aaaa7d413c5cd78d',\n",
       " 'https://www.gamereactor.es/fall-guys-ultimate-knockout-analisis/?sid=9b5fe5842fcb20c5aaaa7d413c5cd78d',\n",
       " 'https://www.gamereactor.es/horizon-zero-dawn-complete-edition-para-pc/?sid=9b5fe5842fcb20c5aaaa7d413c5cd78d',\n",
       " 'https://www.gamereactor.es/skully-analisis/?sid=9b5fe5842fcb20c5aaaa7d413c5cd78d',\n",
       " 'https://www.gamereactor.es/beyond-blue-un-videojuego-documental/?sid=9b5fe5842fcb20c5aaaa7d413c5cd78d',\n",
       " 'https://www.gamereactor.es/fairy-tail-analisis/?sid=9b5fe5842fcb20c5aaaa7d413c5cd78d',\n",
       " 'https://www.gamereactor.es/carrion-asquerosa-venganza/?sid=9b5fe5842fcb20c5aaaa7d413c5cd78d',\n",
       " 'https://www.gamereactor.es/rock-of-ages-3-make-break-a-pedradas-con-la-historia/?sid=9b5fe5842fcb20c5aaaa7d413c5cd78d',\n",
       " 'https://www.gamereactor.es/mutazione/?sid=9b5fe5842fcb20c5aaaa7d413c5cd78d',\n",
       " 'https://www.gamereactor.es/destroy-all-humans-analisis/?sid=9b5fe5842fcb20c5aaaa7d413c5cd78d']"
      ]
     },
     "execution_count": 95,
     "metadata": {},
     "output_type": "execute_result"
    }
   ],
   "source": [
    "#extracción de links\n",
    "\n",
    "links = [f\"https://www.gamereactor.es{article.find_all('a')[1]['href']}\" for article in articles]\n",
    "    \n",
    "links"
   ]
  },
  {
   "cell_type": "code",
   "execution_count": 84,
   "metadata": {},
   "outputs": [
    {
     "data": {
      "text/plain": [
       "<article class=\"areview\" style=\"\">\n",
       "<div class=\"commentsbox_rwd\">\n",
       "<div class=\"commentsbox share-count-image-textList\"><img alt=\"Interaciones\" class=\"imageInter\" src=\"/lay/interactions_icon/interactions_double.PNG\" style=\"\tfloat: left;\n",
       "\t\t\t\twidth: 38px;\n",
       "\t\t\t\theight: 20px;\n",
       "\t\t\t\tmargin-top: -3px;\n",
       "\t\t\t\tmargin-right: 2px;\"/><div class=\"label-count\">0</div>\n",
       "<a href=\"/kingdoms-of-amalur-rereckoning-analisis/?sid=9b5fe5842fcb20c5aaaa7d413c5cd78d#comments\" rel=\"nofollow\"></a></div>\n",
       "</div>\n",
       "<a href=\"/kingdoms-of-amalur-rereckoning-analisis/?sid=9b5fe5842fcb20c5aaaa7d413c5cd78d\"><img alt=\"Kingdoms of Amalur: Re-Reckoning\" class=\"lazy\" data-original=\"/media/82/kingdomsamalur_3178253_145x107.jpg\" src=\"/lay/i.gif\" style=\"width:145px;height:107px;\"/><noscript>\n",
       "<img alt=\"Kingdoms of Amalur: Re-Reckoning\" src=\"/media/82/kingdomsamalur_3178253_145x107.jpg\" style=\"width:145px;height:107px;\"/>\n",
       "</noscript><img alt=\"Score\" class=\"score\" src=\"/lay/redesign/score_c35_07.png\" style=\"margin-top:6px;\"/> <h3>Kingdoms of Amalur: Re-Reckoning</h3>\n",
       "</a>\n",
       "<div class=\"systems\">PC / PS4 / Xbox One</div>\n",
       "<p></p>\n",
       "<div class=\"publishauthor\">\n",
       "Autor: <a class=\"username\" href=\"https://www.gamereactor.eu/equipo/RoyWoodhouse/\" rel=\"nofollow\">Roy Woodhouse</a> <time datetime=\"2020-09-22\">Publicado el 22 de septiembre 2020</time>\n",
       "</div>\n",
       "</article>"
      ]
     },
     "execution_count": 84,
     "metadata": {},
     "output_type": "execute_result"
    }
   ],
   "source": [
    "articles[0]"
   ]
  },
  {
   "cell_type": "code",
   "execution_count": 86,
   "metadata": {},
   "outputs": [
    {
     "data": {
      "text/plain": [
       "['Roy Woodhouse',\n",
       " 'Daniel Andersen',\n",
       " 'Ricardo C. Esteves',\n",
       " 'Ben Lyons',\n",
       " 'Fabrizia Malgieri',\n",
       " 'Mike Holmes',\n",
       " 'Petter Hegevall',\n",
       " 'Sergio Figueroa',\n",
       " 'Stefan Briesenick',\n",
       " 'Islem Sharouda',\n",
       " 'Roy Woodhouse',\n",
       " 'Petter Hegevall',\n",
       " 'Mike Holmes',\n",
       " 'Fabrizia Malgieri',\n",
       " 'Eirik Hyldbakk Furu',\n",
       " 'Roy Woodhouse',\n",
       " 'Ben Lyons',\n",
       " 'Petter Hegevall',\n",
       " 'Ricardo C. Esteves',\n",
       " 'Ben Lyons',\n",
       " 'Petter Hegevall',\n",
       " 'Kim Olsen',\n",
       " 'Mike Holmes',\n",
       " 'Stefan Briesenick',\n",
       " 'Ricardo C. Esteves',\n",
       " 'Roy Woodhouse',\n",
       " 'Mike Holmes',\n",
       " 'Petter Hegevall',\n",
       " 'Ben Lyons',\n",
       " 'Kalle Max Hofmann',\n",
       " 'Mike Holmes',\n",
       " 'Daniel Andersen',\n",
       " 'Ben Lyons',\n",
       " 'Ricardo C. Esteves',\n",
       " 'Kieran Harris',\n",
       " 'Magnus Groth-Andersen',\n",
       " 'Lorenzo Mosna',\n",
       " 'Marco Vrolijk',\n",
       " 'Ricardo C. Esteves',\n",
       " 'Petter Hegevall',\n",
       " 'Mike Holmes',\n",
       " 'Mike Holmes',\n",
       " 'Kieran Harris',\n",
       " 'Mike Holmes',\n",
       " 'Roy Woodhouse',\n",
       " 'Mike Holmes',\n",
       " 'Roy Woodhouse',\n",
       " 'Ben Lyons']"
      ]
     },
     "execution_count": 86,
     "metadata": {},
     "output_type": "execute_result"
    }
   ],
   "source": [
    "#Extracción de autores en lista\n",
    "#{'class': ['storylink', 'sitestr', 'hnuser', 'score', 'age']})\n",
    "\n",
    "authors = []\n",
    "for article in articles:\n",
    "    full_authors = article.find_all('a', {'class': 'username'})\n",
    "    for author in full_authors:\n",
    "        authors.append(author.text)\n",
    "    \n",
    "authors"
   ]
  },
  {
   "cell_type": "code",
   "execution_count": 106,
   "metadata": {},
   "outputs": [],
   "source": [
    "authors [14:14] = ['Sergio Figueroa']\n",
    "authors [48:48] = ['Sam Bishop']"
   ]
  },
  {
   "cell_type": "code",
   "execution_count": 107,
   "metadata": {},
   "outputs": [
    {
     "data": {
      "text/plain": [
       "['Roy Woodhouse',\n",
       " 'Daniel Andersen',\n",
       " 'Ricardo C. Esteves',\n",
       " 'Ben Lyons',\n",
       " 'Fabrizia Malgieri',\n",
       " 'Mike Holmes',\n",
       " 'Petter Hegevall',\n",
       " 'Sergio Figueroa',\n",
       " 'Stefan Briesenick',\n",
       " 'Islem Sharouda',\n",
       " 'Roy Woodhouse',\n",
       " 'Petter Hegevall',\n",
       " 'Mike Holmes',\n",
       " 'Fabrizia Malgieri',\n",
       " 'Sergio Figueroa',\n",
       " 'Eirik Hyldbakk Furu',\n",
       " 'Roy Woodhouse',\n",
       " 'Ben Lyons',\n",
       " 'Petter Hegevall',\n",
       " 'Ricardo C. Esteves',\n",
       " 'Ben Lyons',\n",
       " 'Petter Hegevall',\n",
       " 'Kim Olsen',\n",
       " 'Mike Holmes',\n",
       " 'Stefan Briesenick',\n",
       " 'Ricardo C. Esteves',\n",
       " 'Roy Woodhouse',\n",
       " 'Mike Holmes',\n",
       " 'Petter Hegevall',\n",
       " 'Ben Lyons',\n",
       " 'Kalle Max Hofmann',\n",
       " 'Mike Holmes',\n",
       " 'Daniel Andersen',\n",
       " 'Ben Lyons',\n",
       " 'Ricardo C. Esteves',\n",
       " 'Kieran Harris',\n",
       " 'Magnus Groth-Andersen',\n",
       " 'Lorenzo Mosna',\n",
       " 'Marco Vrolijk',\n",
       " 'Ricardo C. Esteves',\n",
       " 'Petter Hegevall',\n",
       " 'Mike Holmes',\n",
       " 'Mike Holmes',\n",
       " 'Kieran Harris',\n",
       " 'Mike Holmes',\n",
       " 'Roy Woodhouse',\n",
       " 'Mike Holmes',\n",
       " 'Roy Woodhouse',\n",
       " 'Sam Bishop',\n",
       " 'Ben Lyons']"
      ]
     },
     "execution_count": 107,
     "metadata": {},
     "output_type": "execute_result"
    }
   ],
   "source": [
    "authors"
   ]
  },
  {
   "cell_type": "code",
   "execution_count": 94,
   "metadata": {},
   "outputs": [
    {
     "data": {
      "text/plain": [
       "['Kingdoms of Amalur: Re-Reckoning',\n",
       " 'Tennis World Tour 2 - Iguales',\n",
       " 'Hades',\n",
       " 'Necronator: Dead Wrong',\n",
       " 'Los Sims 4 Star Wars: Viaje a Batuu',\n",
       " 'Spelunky 2 - Hasta la muerte',\n",
       " 'Crysis Remastered',\n",
       " 'Super Mario 3D All-Stars',\n",
       " '13 Sentinels: Aegis Rim',\n",
       " 'eFootball PES 2021- Season Update',\n",
       " 'Pathfinder: Kingmaker para PS4 y Xbox One',\n",
       " 'Samurai Jack: Battle Through Time',\n",
       " 'Super Bomberman R Online - Nacido para el battle royale',\n",
       " 'Tell Me Why - Juego Completo',\n",
       " 'NBA 2K21',\n",
       " \"Marvel's Avengers\",\n",
       " 'What Happened',\n",
       " 'Struggling',\n",
       " \"Tony Hawk's Pro Skater 1 + 2\",\n",
       " 'Control - AWE',\n",
       " 'Fight Crab - Pelea de Cangrejos',\n",
       " 'WRC 9',\n",
       " 'Iron Harvest - La guerra nunca acaba',\n",
       " 'Crusader Kings III',\n",
       " 'Spiritfarer',\n",
       " 'Captain Tsubasa: Rise of New Champions',\n",
       " 'Wasteland 3',\n",
       " 'RimWorld - Royalty',\n",
       " 'Project Cars 3',\n",
       " 'Remnant: From the Ashes - Subject 2923',\n",
       " 'Onward para Oculus Quest',\n",
       " 'Risk of Rain 2 - Una batalla inagotable',\n",
       " 'PGA Tour 2K21',\n",
       " 'Battletoads - 2020',\n",
       " 'Peaky Blinders: Mastermind - La precuela',\n",
       " 'Mortal Shell - Un Souls endurecido',\n",
       " 'Hyper Scape',\n",
       " 'Microsoft Flight Simulator - Vuelo de altura',\n",
       " 'Total War Saga: Troy',\n",
       " 'Hearthstone: Academia Scholomance',\n",
       " 'Fast & Furious Crossroads',\n",
       " 'Fall Guys: Ultimate Knockout',\n",
       " 'Horizon: Zero Dawn - Complete Edition para PC',\n",
       " 'Skully',\n",
       " 'Beyond Blue - Un videojuego documental',\n",
       " 'Fairy Tail',\n",
       " 'Carrion - Asquerosa venganza',\n",
       " 'Rock of Ages 3: Make & Break - A pedradas con la historia',\n",
       " 'Mutazione',\n",
       " 'Destroy All Humans!']"
      ]
     },
     "execution_count": 94,
     "metadata": {},
     "output_type": "execute_result"
    }
   ],
   "source": [
    "#Scrap de títulos\n",
    "titles = [article.find('h3').text for article in articles]\n",
    "    \n",
    "titles"
   ]
  },
  {
   "cell_type": "code",
   "execution_count": null,
   "metadata": {},
   "outputs": [],
   "source": []
  },
  {
   "cell_type": "markdown",
   "metadata": {},
   "source": [
    "# SCRAPING REVIEWS"
   ]
  },
  {
   "cell_type": "code",
   "execution_count": 35,
   "metadata": {},
   "outputs": [
    {
     "data": {
      "text/plain": [
       "b' <!DOCTYPE html>\\n<html lang=\"es\">\\n<head>\\n\\n\\n<script'"
      ]
     },
     "execution_count": 35,
     "metadata": {},
     "output_type": "execute_result"
    }
   ],
   "source": [
    "import requests\n",
    "\n",
    "#Scrape de un análisis\n",
    "review_url = 'https://www.gamereactor.es/pathfinder-kingmaker-para-ps4-y-xbox-one/?sid=0f2f862e61f71946f2f07ebdce16ec4f'\n",
    "review_html = requests.get(review_url).content\n",
    "review_html[:50]\n"
   ]
  },
  {
   "cell_type": "code",
   "execution_count": 36,
   "metadata": {},
   "outputs": [],
   "source": [
    "from bs4 import BeautifulSoup\n",
    "soup = BeautifulSoup(review_html, 'lxml')\n",
    "article = soup.find('div', {'class': 'breadtext'}).find('div')\n",
    "\n",
    "p_tags = article.find_all('p')"
   ]
  },
  {
   "cell_type": "code",
   "execution_count": 37,
   "metadata": {},
   "outputs": [],
   "source": [
    "review = [tag.text for tag in p_tags]\n",
    "review = '-'.join(review)"
   ]
  },
  {
   "cell_type": "code",
   "execution_count": 38,
   "metadata": {},
   "outputs": [
    {
     "data": {
      "text/plain": [
       "\"A simple vista, Pathfinder: Kingmaker parece un CRPG más. Tienes que superar esa impresión inicial y meterte en él para descubrir que hay mucho más. Es lo que nos pasó cuando lo jugamos en PC y ya os lo contamos en este análisis. Ahora que se ha estrenado la versión para consolas, lo hemos revisitado en PS4 y vamos a tratar de responder a esa pregunta que siempre surge: ¿lo han adaptado bien?-Para quienes aún lo conozcan, el videojuego está basado en el juego de mesa Pathfinder, semejante a D&D. Nació gracias a una campaña de financiación colectiva millonaria prometiendo mantener el estilo de RPG clásico y eso es justo lo que ofrece, con sus muchas conversaciones, misiones y encargos enfocados con perspectiva isométrica.-A la nueva versión se le nota a la legua que el diseño original es de PC, pero hay muchos motivos como para estar satisfecho. Y también hay otros tantos que te hacen pasar un mal rato. El caso más claro está en el mando, pues los controles funcionan bien generalmente, pero de vez en cuando tenían un comportamiento raro.-Otro problema es que durante las primeras horas no te abandona la sensación de estar un poco perdido. No soy de esa gente que quiera flechas, indicadores y carteles, todo mascadito, pero tampoco dar vueltas sin ningún sentido o errar porque falta alguna explicación. Los CRPG suelen exigirte que explores y vayas descubriendo las cosas por ti mismo, pero es que aquí todo está tan camuflado que he tenido que tirar de guías en más de una ocasión. Que además buscar estando en una consola es más pesado que hacerlo estando ya en el PC. Puede ser que la razón esté en un tutorial hecho como con prisas, con ventanas emergentes para decir de vez en cuándo por dónde ir o qué hacer. Pero no siempre eran satisfactorias y había que leer un poco más en el móvil. Estar cambiando de aparato constantemente te saca de la partida.-La lectura en las versiones de PC y de consola tampoco suele la misma, porque yo al menos, y la mayoría de gente también, me siendo bastante más cerca del monitor que de la tele. Con el tamaño de letras predefinidido no siempre es cómodo leer. Y eso que al menos hay una parte del diálogo grabada en audio, pero aún así hay mucho texto.-El otro motivo de queja son los crasheos constantes, aunque al menos sé que esto ha sido en mayor medida por culpa de jugarlo con una versión previa al lanzamiento. Un juego de consola no debe romperse tanto como lo hacía este, sobre todo cuando había muchos personajes en pantalla, y me fastidió bastante. Así que ese parche de día uno es totalmente indispensable. Da a entender que han llegado a la fecha por los pelos.-Comenzaba diciendo que hay muchas cosas que disfrutar en Pathfinder: Kingmaker para PS4 y Xbox One, así que vamos a ello. Lo primero, lo bien hecho que está ese mundo. Puede que la historia no tenga nada de especial, pero está bien contada y puesta en escena y eso es esencial para trasladarse a ese universo. La misión principal es quitarte de en medio a un tirano local y hacerse con ese territorio. Después hasta puedes hacerse una base, algo que mola mucho pero que también fue un poco traumático por lo mal explicado que está.-Como buen heredero de un juego de rol de mesa, los dados, los personajes con los que te vas encontrando y las criaturas que matas tienen mucho que decir. Hay que salir al mundo de misión, a ver con quién te cruzas para ver qué migas haces y, al final, sentir que estás viviendo una gran aventura en la que eres parte activa y creativa. Sinceramente, todo esto sí que lo consigue Pathfinder.-Si los fallos técnicos están reparados (que espero que cuando leas esto ya sean cosa del pasado, al menos la mayoría) y tienes la paciencia que se necesita para encontrar la información complementaria que tan bien le vendría ofrecer, es un CRPG épico. Lo empiezas a saborear especialmente cuando toda la cuesta arriba ha quedado atrás y no te quedan más dudas, solo partida.-Desde un punto de vista más estético, el diseño es fantástico. Como estar ante un viejo Diablo o Baldur's Gate, pero sin nada de retro. El combate se puede afrontar tanto por turnos como a tiempo real. A mi no me gusto el estilo ARGP porque poco a poco sentía que iba perdiendo el control de lo que iba haciendo, y me divertí mucho más con los turnos. Aunque me tiene todavía un poco mosca que las tiradas de dados fueran mayoritariamente tan favorables, cuando me considero un tipo con poca fortuna.-A pesar de las críticas, me lo pasé bien jugando Pathfinder: Kingmaker en PlayStation 4. En cierto modo, tiene una potencia interior y muy buenas tablas para tirar de ti y que no te hagan mella esos defectos en técnica y explicaciones que, por otra parte, no se pueden pasar por alto. La versión PC debe ser preferente, pero los RPG de fantasía siguen siendo bienvenidos.\""
      ]
     },
     "execution_count": 38,
     "metadata": {},
     "output_type": "execute_result"
    }
   ],
   "source": [
    "review"
   ]
  },
  {
   "cell_type": "code",
   "execution_count": 39,
   "metadata": {},
   "outputs": [],
   "source": [
    "#Scrape de 20 análisis y guardarlos en una lista"
   ]
  },
  {
   "cell_type": "code",
   "execution_count": 104,
   "metadata": {},
   "outputs": [],
   "source": [
    "reviews_col = []\n",
    "\n",
    "for link in links:\n",
    "    \n",
    "    #Request content and wait\n",
    "    review_url = link\n",
    "    review_html = requests.get(review_url).content\n",
    "    time.sleep(3)\n",
    "    \n",
    "    #Extract text\n",
    "    soup = BeautifulSoup(review_html, 'lxml')\n",
    "    article = soup.find('div', {'class': 'breadtext'}).find('div')\n",
    "    p_tags = article.find_all('p')\n",
    "    \n",
    "    #Clean text\n",
    "    review = [tag.text for tag in p_tags]\n",
    "    review = '-'.join(review)\n",
    "    \n",
    "    #Add to a list\n",
    "    reviews_col.append(review)"
   ]
  },
  {
   "cell_type": "code",
   "execution_count": null,
   "metadata": {},
   "outputs": [],
   "source": []
  },
  {
   "cell_type": "markdown",
   "metadata": {},
   "source": [
    "# CREATE THE DATAFRAME"
   ]
  },
  {
   "cell_type": "code",
   "execution_count": 108,
   "metadata": {},
   "outputs": [
    {
     "data": {
      "text/html": [
       "<div>\n",
       "<style scoped>\n",
       "    .dataframe tbody tr th:only-of-type {\n",
       "        vertical-align: middle;\n",
       "    }\n",
       "\n",
       "    .dataframe tbody tr th {\n",
       "        vertical-align: top;\n",
       "    }\n",
       "\n",
       "    .dataframe thead th {\n",
       "        text-align: right;\n",
       "    }\n",
       "</style>\n",
       "<table border=\"1\" class=\"dataframe\">\n",
       "  <thead>\n",
       "    <tr style=\"text-align: right;\">\n",
       "      <th></th>\n",
       "      <th>title</th>\n",
       "      <th>author</th>\n",
       "      <th>review</th>\n",
       "      <th>url</th>\n",
       "    </tr>\n",
       "  </thead>\n",
       "  <tbody>\n",
       "    <tr>\n",
       "      <th>0</th>\n",
       "      <td>Kingdoms of Amalur: Re-Reckoning</td>\n",
       "      <td>Roy Woodhouse</td>\n",
       "      <td>Sé que no todo el mundo lo recibió igual de bi...</td>\n",
       "      <td>https://www.gamereactor.es/kingdoms-of-amalur-...</td>\n",
       "    </tr>\n",
       "    <tr>\n",
       "      <th>1</th>\n",
       "      <td>Tennis World Tour 2 - Iguales</td>\n",
       "      <td>Daniel Andersen</td>\n",
       "      <td>Habían pasado muchos años sin que los fans de ...</td>\n",
       "      <td>https://www.gamereactor.es/tennis-world-tour-2...</td>\n",
       "    </tr>\n",
       "    <tr>\n",
       "      <th>2</th>\n",
       "      <td>Hades</td>\n",
       "      <td>Ricardo C. Esteves</td>\n",
       "      <td>El periplo por un limbo llamado acceso anticip...</td>\n",
       "      <td>https://www.gamereactor.es/hades-analisis/?sid...</td>\n",
       "    </tr>\n",
       "    <tr>\n",
       "      <th>3</th>\n",
       "      <td>Necronator: Dead Wrong</td>\n",
       "      <td>Ben Lyons</td>\n",
       "      <td>Hace unos meses le eché un vistazo a un RTS có...</td>\n",
       "      <td>https://www.gamereactor.es/necronator-dead-wro...</td>\n",
       "    </tr>\n",
       "    <tr>\n",
       "      <th>4</th>\n",
       "      <td>Los Sims 4 Star Wars: Viaje a Batuu</td>\n",
       "      <td>Fabrizia Malgieri</td>\n",
       "      <td>Los Sims y Star Wars por fin se unen. Un sueño...</td>\n",
       "      <td>https://www.gamereactor.es/los-sims-4-star-war...</td>\n",
       "    </tr>\n",
       "  </tbody>\n",
       "</table>\n",
       "</div>"
      ],
      "text/plain": [
       "                                 title              author  \\\n",
       "0     Kingdoms of Amalur: Re-Reckoning       Roy Woodhouse   \n",
       "1        Tennis World Tour 2 - Iguales     Daniel Andersen   \n",
       "2                                Hades  Ricardo C. Esteves   \n",
       "3               Necronator: Dead Wrong           Ben Lyons   \n",
       "4  Los Sims 4 Star Wars: Viaje a Batuu   Fabrizia Malgieri   \n",
       "\n",
       "                                              review  \\\n",
       "0  Sé que no todo el mundo lo recibió igual de bi...   \n",
       "1  Habían pasado muchos años sin que los fans de ...   \n",
       "2  El periplo por un limbo llamado acceso anticip...   \n",
       "3  Hace unos meses le eché un vistazo a un RTS có...   \n",
       "4  Los Sims y Star Wars por fin se unen. Un sueño...   \n",
       "\n",
       "                                                 url  \n",
       "0  https://www.gamereactor.es/kingdoms-of-amalur-...  \n",
       "1  https://www.gamereactor.es/tennis-world-tour-2...  \n",
       "2  https://www.gamereactor.es/hades-analisis/?sid...  \n",
       "3  https://www.gamereactor.es/necronator-dead-wro...  \n",
       "4  https://www.gamereactor.es/los-sims-4-star-war...  "
      ]
     },
     "execution_count": 108,
     "metadata": {},
     "output_type": "execute_result"
    }
   ],
   "source": [
    "import pandas as pd\n",
    "\n",
    "gamereactor = pd.DataFrame({'title': titles, \n",
    "                           'author': authors, \n",
    "                           'review': reviews_col, \n",
    "                           'url': links \n",
    "                           })\n",
    "\n",
    "gamereactor.head()"
   ]
  },
  {
   "cell_type": "code",
   "execution_count": 112,
   "metadata": {},
   "outputs": [],
   "source": [
    "#gamereactor.to_csv('../data/gamereactor_data.csv', index=False)"
   ]
  },
  {
   "cell_type": "code",
   "execution_count": null,
   "metadata": {},
   "outputs": [],
   "source": []
  },
  {
   "cell_type": "code",
   "execution_count": null,
   "metadata": {},
   "outputs": [],
   "source": []
  },
  {
   "cell_type": "code",
   "execution_count": null,
   "metadata": {},
   "outputs": [],
   "source": []
  },
  {
   "cell_type": "code",
   "execution_count": 34,
   "metadata": {},
   "outputs": [
    {
     "data": {
      "text/html": [
       "<div>\n",
       "<style scoped>\n",
       "    .dataframe tbody tr th:only-of-type {\n",
       "        vertical-align: middle;\n",
       "    }\n",
       "\n",
       "    .dataframe tbody tr th {\n",
       "        vertical-align: top;\n",
       "    }\n",
       "\n",
       "    .dataframe thead th {\n",
       "        text-align: right;\n",
       "    }\n",
       "</style>\n",
       "<table border=\"1\" class=\"dataframe\">\n",
       "  <thead>\n",
       "    <tr style=\"text-align: right;\">\n",
       "      <th></th>\n",
       "      <th>title</th>\n",
       "      <th>publication</th>\n",
       "      <th>points</th>\n",
       "      <th>author</th>\n",
       "      <th>time_ago</th>\n",
       "    </tr>\n",
       "  </thead>\n",
       "  <tbody>\n",
       "    <tr>\n",
       "      <th>0</th>\n",
       "      <td>ai-jobs.net now with jobmarks for AI/ML/DS jobs</td>\n",
       "      <td>ai-jobs.net</td>\n",
       "      <td>2</td>\n",
       "      <td>pat</td>\n",
       "      <td>1 days ago</td>\n",
       "    </tr>\n",
       "    <tr>\n",
       "      <th>1</th>\n",
       "      <td>📚 The online courses you must take to be a bet...</td>\n",
       "      <td>medium.com</td>\n",
       "      <td>4</td>\n",
       "      <td>thegurus</td>\n",
       "      <td>3 days ago</td>\n",
       "    </tr>\n",
       "    <tr>\n",
       "      <th>2</th>\n",
       "      <td>How to build fair ML models?</td>\n",
       "      <td>medium.com</td>\n",
       "      <td>3</td>\n",
       "      <td>acingai</td>\n",
       "      <td>3 days ago</td>\n",
       "    </tr>\n",
       "    <tr>\n",
       "      <th>3</th>\n",
       "      <td>Join the NLP Summit for FREE</td>\n",
       "      <td>johnsnowlabs.com</td>\n",
       "      <td>6</td>\n",
       "      <td>dsselevate</td>\n",
       "      <td>10 days ago</td>\n",
       "    </tr>\n",
       "    <tr>\n",
       "      <th>4</th>\n",
       "      <td>Find remote work in Data Science</td>\n",
       "      <td>dsremote.work</td>\n",
       "      <td>7</td>\n",
       "      <td>pat</td>\n",
       "      <td>12 days ago</td>\n",
       "    </tr>\n",
       "  </tbody>\n",
       "</table>\n",
       "</div>"
      ],
      "text/plain": [
       "                                               title       publication  \\\n",
       "0    ai-jobs.net now with jobmarks for AI/ML/DS jobs       ai-jobs.net   \n",
       "1  📚 The online courses you must take to be a bet...        medium.com   \n",
       "2                       How to build fair ML models?        medium.com   \n",
       "3                       Join the NLP Summit for FREE  johnsnowlabs.com   \n",
       "4                   Find remote work in Data Science     dsremote.work   \n",
       "\n",
       "   points      author     time_ago  \n",
       "0       2         pat   1 days ago  \n",
       "1       4    thegurus   3 days ago  \n",
       "2       3     acingai   3 days ago  \n",
       "3       6  dsselevate  10 days ago  \n",
       "4       7         pat  12 days ago  "
      ]
     },
     "execution_count": 34,
     "metadata": {},
     "output_type": "execute_result"
    }
   ],
   "source": [
    "import re\n",
    "\n",
    "# df['points'] = df['points'].str.replace(r'\\D', '').astype(int)\n",
    "df['points'] = df['points'].apply(lambda x: re.sub('\\D', '', x)).astype(int)\n",
    "\n",
    "df.head()"
   ]
  },
  {
   "cell_type": "code",
   "execution_count": 38,
   "metadata": {},
   "outputs": [
    {
     "data": {
      "text/plain": [
       "title          object\n",
       "publication    object\n",
       "points          int64\n",
       "author         object\n",
       "time_ago       object\n",
       "dtype: object"
      ]
     },
     "execution_count": 38,
     "metadata": {},
     "output_type": "execute_result"
    }
   ],
   "source": [
    "df.dtypes"
   ]
  },
  {
   "cell_type": "markdown",
   "metadata": {},
   "source": [
    "### 2.2 Pandas read_html"
   ]
  },
  {
   "cell_type": "code",
   "execution_count": 44,
   "metadata": {},
   "outputs": [
    {
     "data": {
      "text/plain": [
       "[                                                   0\n",
       " 0       DataTau  new |  ask |  show |  submit  login\n",
       " 1  1.  ai-jobs.net now with jobmarks for AI/ML/DS...\n",
       " 2  Made with ❤️ by The Gurus |  Support |  Contac...,\n",
       "     0                                      1      2\n",
       " 0 NaN  DataTau  new |  ask |  show |  submit  login,\n",
       "        0   1                                                  2\n",
       " 0    1.0 NaN  ai-jobs.net now with jobmarks for AI/ML/DS job...\n",
       " 1    NaN NaN            2 points by  pat  1 days ago |  discuss\n",
       " 2    NaN NaN                                                NaN\n",
       " 3    2.0 NaN  📚 The online courses you must take to be a bet...\n",
       " 4    NaN NaN       4 points by  thegurus  3 days ago |  discuss\n",
       " ..   ...  ..                                                ...\n",
       " 87  30.0 NaN  Sunbiz Forum Review; Register With #500 and Ea...\n",
       " 88   NaN NaN        1 point by  kennybbb  2 days ago |  discuss\n",
       " 89   NaN NaN                                                NaN\n",
       " 90   NaN NaN                                                NaN\n",
       " 91   NaN NaN                                               More\n",
       " \n",
       " [92 rows x 3 columns]]"
      ]
     },
     "execution_count": 44,
     "metadata": {},
     "output_type": "execute_result"
    }
   ],
   "source": [
    "pd.read_html(url)"
   ]
  },
  {
   "cell_type": "code",
   "execution_count": 46,
   "metadata": {},
   "outputs": [
    {
     "data": {
      "text/plain": [
       "list"
      ]
     },
     "execution_count": 46,
     "metadata": {},
     "output_type": "execute_result"
    }
   ],
   "source": [
    "type(pd.read_html(url))"
   ]
  },
  {
   "cell_type": "code",
   "execution_count": 47,
   "metadata": {},
   "outputs": [
    {
     "data": {
      "text/plain": [
       "3"
      ]
     },
     "execution_count": 47,
     "metadata": {},
     "output_type": "execute_result"
    }
   ],
   "source": [
    "len(pd.read_html(url))"
   ]
  },
  {
   "cell_type": "code",
   "execution_count": 48,
   "metadata": {},
   "outputs": [
    {
     "data": {
      "text/plain": [
       "pandas.core.frame.DataFrame"
      ]
     },
     "execution_count": 48,
     "metadata": {},
     "output_type": "execute_result"
    }
   ],
   "source": [
    "type(pd.read_html(url)[0])"
   ]
  },
  {
   "cell_type": "code",
   "execution_count": 49,
   "metadata": {},
   "outputs": [
    {
     "data": {
      "text/plain": [
       "[       0   1                                                  2\n",
       " 0    1.0 NaN  ai-jobs.net now with jobmarks for AI/ML/DS job...\n",
       " 1    NaN NaN            2 points by  pat  1 days ago |  discuss\n",
       " 2    NaN NaN                                                NaN\n",
       " 3    2.0 NaN  📚 The online courses you must take to be a bet...\n",
       " 4    NaN NaN       4 points by  thegurus  3 days ago |  discuss\n",
       " ..   ...  ..                                                ...\n",
       " 87  30.0 NaN  Sunbiz Forum Review; Register With #500 and Ea...\n",
       " 88   NaN NaN        1 point by  kennybbb  2 days ago |  discuss\n",
       " 89   NaN NaN                                                NaN\n",
       " 90   NaN NaN                                                NaN\n",
       " 91   NaN NaN                                               More\n",
       " \n",
       " [92 rows x 3 columns]]"
      ]
     },
     "execution_count": 49,
     "metadata": {},
     "output_type": "execute_result"
    }
   ],
   "source": [
    "pd.read_html(url, attrs={'class':'itemlist'})"
   ]
  },
  {
   "cell_type": "code",
   "execution_count": 50,
   "metadata": {},
   "outputs": [
    {
     "data": {
      "text/html": [
       "<div>\n",
       "<style scoped>\n",
       "    .dataframe tbody tr th:only-of-type {\n",
       "        vertical-align: middle;\n",
       "    }\n",
       "\n",
       "    .dataframe tbody tr th {\n",
       "        vertical-align: top;\n",
       "    }\n",
       "\n",
       "    .dataframe thead th {\n",
       "        text-align: right;\n",
       "    }\n",
       "</style>\n",
       "<table border=\"1\" class=\"dataframe\">\n",
       "  <thead>\n",
       "    <tr style=\"text-align: right;\">\n",
       "      <th></th>\n",
       "      <th>0</th>\n",
       "      <th>1</th>\n",
       "      <th>2</th>\n",
       "    </tr>\n",
       "  </thead>\n",
       "  <tbody>\n",
       "    <tr>\n",
       "      <th>0</th>\n",
       "      <td>1.0</td>\n",
       "      <td>NaN</td>\n",
       "      <td>ai-jobs.net now with jobmarks for AI/ML/DS job...</td>\n",
       "    </tr>\n",
       "    <tr>\n",
       "      <th>1</th>\n",
       "      <td>NaN</td>\n",
       "      <td>NaN</td>\n",
       "      <td>2 points by  pat  1 days ago |  discuss</td>\n",
       "    </tr>\n",
       "    <tr>\n",
       "      <th>2</th>\n",
       "      <td>NaN</td>\n",
       "      <td>NaN</td>\n",
       "      <td>NaN</td>\n",
       "    </tr>\n",
       "    <tr>\n",
       "      <th>3</th>\n",
       "      <td>2.0</td>\n",
       "      <td>NaN</td>\n",
       "      <td>📚 The online courses you must take to be a bet...</td>\n",
       "    </tr>\n",
       "    <tr>\n",
       "      <th>4</th>\n",
       "      <td>NaN</td>\n",
       "      <td>NaN</td>\n",
       "      <td>4 points by  thegurus  3 days ago |  discuss</td>\n",
       "    </tr>\n",
       "    <tr>\n",
       "      <th>...</th>\n",
       "      <td>...</td>\n",
       "      <td>...</td>\n",
       "      <td>...</td>\n",
       "    </tr>\n",
       "    <tr>\n",
       "      <th>87</th>\n",
       "      <td>30.0</td>\n",
       "      <td>NaN</td>\n",
       "      <td>Sunbiz Forum Review; Register With #500 and Ea...</td>\n",
       "    </tr>\n",
       "    <tr>\n",
       "      <th>88</th>\n",
       "      <td>NaN</td>\n",
       "      <td>NaN</td>\n",
       "      <td>1 point by  kennybbb  2 days ago |  discuss</td>\n",
       "    </tr>\n",
       "    <tr>\n",
       "      <th>89</th>\n",
       "      <td>NaN</td>\n",
       "      <td>NaN</td>\n",
       "      <td>NaN</td>\n",
       "    </tr>\n",
       "    <tr>\n",
       "      <th>90</th>\n",
       "      <td>NaN</td>\n",
       "      <td>NaN</td>\n",
       "      <td>NaN</td>\n",
       "    </tr>\n",
       "    <tr>\n",
       "      <th>91</th>\n",
       "      <td>NaN</td>\n",
       "      <td>NaN</td>\n",
       "      <td>More</td>\n",
       "    </tr>\n",
       "  </tbody>\n",
       "</table>\n",
       "<p>92 rows × 3 columns</p>\n",
       "</div>"
      ],
      "text/plain": [
       "       0   1                                                  2\n",
       "0    1.0 NaN  ai-jobs.net now with jobmarks for AI/ML/DS job...\n",
       "1    NaN NaN            2 points by  pat  1 days ago |  discuss\n",
       "2    NaN NaN                                                NaN\n",
       "3    2.0 NaN  📚 The online courses you must take to be a bet...\n",
       "4    NaN NaN       4 points by  thegurus  3 days ago |  discuss\n",
       "..   ...  ..                                                ...\n",
       "87  30.0 NaN  Sunbiz Forum Review; Register With #500 and Ea...\n",
       "88   NaN NaN        1 point by  kennybbb  2 days ago |  discuss\n",
       "89   NaN NaN                                                NaN\n",
       "90   NaN NaN                                                NaN\n",
       "91   NaN NaN                                               More\n",
       "\n",
       "[92 rows x 3 columns]"
      ]
     },
     "execution_count": 50,
     "metadata": {},
     "output_type": "execute_result"
    }
   ],
   "source": [
    "pd.read_html(url, attrs={'class':'itemlist'})[0]"
   ]
  },
  {
   "cell_type": "code",
   "execution_count": 54,
   "metadata": {},
   "outputs": [
    {
     "name": "stdout",
     "output_type": "stream",
     "text": [
      "page 1 parsed!\n",
      "page 2 parsed!\n",
      "page 3 parsed!\n",
      "page 4 parsed!\n",
      "page 5 parsed!\n",
      "page 6 parsed!\n",
      "page 7 parsed!\n",
      "page 8 parsed!\n",
      "page 9 parsed!\n",
      "page 10 parsed!\n"
     ]
    }
   ],
   "source": [
    "# for scraping the rest of DataTau\n",
    "\n",
    "num_pages = 10\n",
    "\n",
    "def function_to_parse_single_page(url):\n",
    "    pass\n",
    "\n",
    "\n",
    "for i in range(num_pages):\n",
    "    url = f'https://datatau.net/new/{i+1}'\n",
    "    \n",
    "    function_to_parse_single_page(url)\n",
    "    \n",
    "    print(f'page {i+1} parsed!')"
   ]
  },
  {
   "cell_type": "markdown",
   "metadata": {},
   "source": [
    "<div style=\"padding-top: 25px; float: right\">\n",
    "    <div>    \n",
    "        <i>&nbsp;&nbsp;© Copyright by</i>\n",
    "    </div>\n",
    "    <div>\n",
    "        <a href=\"https://whiteboxml.com\">\n",
    "            <img src=\"https://whiteboxml.com/static/img/logo/black_bg_white.svg\" width=\"125\">\n",
    "        </a>\n",
    "    </div>\n",
    "</div>"
   ]
  }
 ],
 "metadata": {
  "kernelspec": {
   "display_name": "Python [conda env:lab_env]",
   "language": "python",
   "name": "conda-env-lab_env-py"
  },
  "language_info": {
   "codemirror_mode": {
    "name": "ipython",
    "version": 3
   },
   "file_extension": ".py",
   "mimetype": "text/x-python",
   "name": "python",
   "nbconvert_exporter": "python",
   "pygments_lexer": "ipython3",
   "version": "3.7.3"
  }
 },
 "nbformat": 4,
 "nbformat_minor": 4
}
