{
 "cells": [
  {
   "cell_type": "markdown",
   "metadata": {},
   "source": [
    "# The Critics Critique Results Analysis"
   ]
  },
  {
   "cell_type": "markdown",
   "metadata": {},
   "source": [
    "## 0. import Libraries"
   ]
  },
  {
   "cell_type": "code",
   "execution_count": 111,
   "metadata": {},
   "outputs": [],
   "source": [
    "import pandas as pd\n",
    "import numpy as np\n",
    "import matplotlib.pyplot as plt\n",
    "import seaborn as sns\n",
    "import plotly.express as px"
   ]
  },
  {
   "cell_type": "code",
   "execution_count": 2,
   "metadata": {},
   "outputs": [],
   "source": [
    "pd.options.display.max_rows = 4000"
   ]
  },
  {
   "cell_type": "markdown",
   "metadata": {},
   "source": [
    "## 1. Import Data"
   ]
  },
  {
   "cell_type": "code",
   "execution_count": 3,
   "metadata": {},
   "outputs": [],
   "source": [
    "scored_texts = pd.read_csv('../data/scored_texts.csv')"
   ]
  },
  {
   "cell_type": "code",
   "execution_count": 15,
   "metadata": {},
   "outputs": [
    {
     "data": {
      "text/html": [
       "<div>\n",
       "<style scoped>\n",
       "    .dataframe tbody tr th:only-of-type {\n",
       "        vertical-align: middle;\n",
       "    }\n",
       "\n",
       "    .dataframe tbody tr th {\n",
       "        vertical-align: top;\n",
       "    }\n",
       "\n",
       "    .dataframe thead th {\n",
       "        text-align: right;\n",
       "    }\n",
       "</style>\n",
       "<table border=\"1\" class=\"dataframe\">\n",
       "  <thead>\n",
       "    <tr style=\"text-align: right;\">\n",
       "      <th></th>\n",
       "      <th>site</th>\n",
       "      <th>url_link</th>\n",
       "      <th>author</th>\n",
       "      <th>game</th>\n",
       "      <th>company</th>\n",
       "      <th>genre</th>\n",
       "      <th>platform</th>\n",
       "      <th>text</th>\n",
       "      <th>score</th>\n",
       "      <th>stars</th>\n",
       "      <th>stars_mean</th>\n",
       "      <th>score_label</th>\n",
       "      <th>score_adj</th>\n",
       "    </tr>\n",
       "  </thead>\n",
       "  <tbody>\n",
       "    <tr>\n",
       "      <th>0</th>\n",
       "      <td>meristation</td>\n",
       "      <td>https://as.com/meristation/2008/12/22/analisis...</td>\n",
       "      <td>Javier de Pascual</td>\n",
       "      <td>Metal Gear Solid Mobile</td>\n",
       "      <td>Konami</td>\n",
       "      <td>Acción, Tactical</td>\n",
       "      <td>NGE</td>\n",
       "      <td>Por alguna extraña razón, cuando el jugón trad...</td>\n",
       "      <td>8.5</td>\n",
       "      <td>[{'label': '3 stars', 'score': 0.4069659113883...</td>\n",
       "      <td>3.17</td>\n",
       "      <td>'4 starts'</td>\n",
       "      <td>4.25</td>\n",
       "    </tr>\n",
       "    <tr>\n",
       "      <th>1</th>\n",
       "      <td>meristation</td>\n",
       "      <td>https://as.com/meristation/2012/12/19/analisis...</td>\n",
       "      <td>Pablo González</td>\n",
       "      <td>THE DENPA MEN: They Came By Wave</td>\n",
       "      <td>None</td>\n",
       "      <td>RPG</td>\n",
       "      <td>3DS</td>\n",
       "      <td>Nintendo 3DS ha apostado desde su primer día e...</td>\n",
       "      <td>7.2</td>\n",
       "      <td>[{'label': '4 stars', 'score': 0.4059227108955...</td>\n",
       "      <td>4.00</td>\n",
       "      <td>'4 starts'</td>\n",
       "      <td>3.60</td>\n",
       "    </tr>\n",
       "    <tr>\n",
       "      <th>2</th>\n",
       "      <td>meristation</td>\n",
       "      <td>https://as.com/meristation/2019/09/03/analisis...</td>\n",
       "      <td>David Arroyo</td>\n",
       "      <td>Telling Lies</td>\n",
       "      <td>Annapurna Interactive</td>\n",
       "      <td>Aventura</td>\n",
       "      <td>PC PS4 XBO NSW</td>\n",
       "      <td>Hablar de Telling Lies es un poco complicado. ...</td>\n",
       "      <td>8.0</td>\n",
       "      <td>[{'label': '3 stars', 'score': 0.4342378377914...</td>\n",
       "      <td>3.62</td>\n",
       "      <td>'4 starts'</td>\n",
       "      <td>4.00</td>\n",
       "    </tr>\n",
       "    <tr>\n",
       "      <th>3</th>\n",
       "      <td>meristation</td>\n",
       "      <td>https://as.com/meristation/2014/10/06/analisis...</td>\n",
       "      <td>Salva Fernàndez</td>\n",
       "      <td>Titanfall: IMC Rising</td>\n",
       "      <td>None</td>\n",
       "      <td>Acción, First Person Shooter</td>\n",
       "      <td>PC 360 XBO</td>\n",
       "      <td>Titanfall recibe el último contenido descargab...</td>\n",
       "      <td>7.0</td>\n",
       "      <td>[{'label': '3 stars', 'score': 0.4690837860107...</td>\n",
       "      <td>3.40</td>\n",
       "      <td>'4 starts'</td>\n",
       "      <td>3.50</td>\n",
       "    </tr>\n",
       "    <tr>\n",
       "      <th>4</th>\n",
       "      <td>meristation</td>\n",
       "      <td>https://as.com/meristation/2014/04/16/analisis...</td>\n",
       "      <td>None</td>\n",
       "      <td>Moebius: Empire Rising</td>\n",
       "      <td>None</td>\n",
       "      <td>Aventura Gráfica</td>\n",
       "      <td>PC OSX IPH IPD AND</td>\n",
       "      <td>“Aquellos que no pueden recordar el pasado, es...</td>\n",
       "      <td>6.8</td>\n",
       "      <td>[{'label': '4 stars', 'score': 0.4857680797576...</td>\n",
       "      <td>3.08</td>\n",
       "      <td>'3 starts'</td>\n",
       "      <td>3.40</td>\n",
       "    </tr>\n",
       "  </tbody>\n",
       "</table>\n",
       "</div>"
      ],
      "text/plain": [
       "          site                                           url_link  \\\n",
       "0  meristation  https://as.com/meristation/2008/12/22/analisis...   \n",
       "1  meristation  https://as.com/meristation/2012/12/19/analisis...   \n",
       "2  meristation  https://as.com/meristation/2019/09/03/analisis...   \n",
       "3  meristation  https://as.com/meristation/2014/10/06/analisis...   \n",
       "4  meristation  https://as.com/meristation/2014/04/16/analisis...   \n",
       "\n",
       "              author                              game                company  \\\n",
       "0  Javier de Pascual           Metal Gear Solid Mobile                 Konami   \n",
       "1     Pablo González  THE DENPA MEN: They Came By Wave                   None   \n",
       "2       David Arroyo                      Telling Lies  Annapurna Interactive   \n",
       "3    Salva Fernàndez             Titanfall: IMC Rising                   None   \n",
       "4               None            Moebius: Empire Rising                   None   \n",
       "\n",
       "                                              genre            platform  \\\n",
       "0              Acción, Tactical                                     NGE   \n",
       "1                           RPG                                     3DS   \n",
       "2                      Aventura                          PC PS4 XBO NSW   \n",
       "3  Acción, First Person Shooter                              PC 360 XBO   \n",
       "4              Aventura Gráfica                      PC OSX IPH IPD AND   \n",
       "\n",
       "                                                text  score  \\\n",
       "0  Por alguna extraña razón, cuando el jugón trad...    8.5   \n",
       "1  Nintendo 3DS ha apostado desde su primer día e...    7.2   \n",
       "2  Hablar de Telling Lies es un poco complicado. ...    8.0   \n",
       "3  Titanfall recibe el último contenido descargab...    7.0   \n",
       "4  “Aquellos que no pueden recordar el pasado, es...    6.8   \n",
       "\n",
       "                                               stars  stars_mean score_label  \\\n",
       "0  [{'label': '3 stars', 'score': 0.4069659113883...        3.17  '4 starts'   \n",
       "1  [{'label': '4 stars', 'score': 0.4059227108955...        4.00  '4 starts'   \n",
       "2  [{'label': '3 stars', 'score': 0.4342378377914...        3.62  '4 starts'   \n",
       "3  [{'label': '3 stars', 'score': 0.4690837860107...        3.40  '4 starts'   \n",
       "4  [{'label': '4 stars', 'score': 0.4857680797576...        3.08  '3 starts'   \n",
       "\n",
       "   score_adj  \n",
       "0       4.25  \n",
       "1       3.60  \n",
       "2       4.00  \n",
       "3       3.50  \n",
       "4       3.40  "
      ]
     },
     "execution_count": 15,
     "metadata": {},
     "output_type": "execute_result"
    }
   ],
   "source": [
    "scored_texts.head()"
   ]
  },
  {
   "cell_type": "markdown",
   "metadata": {},
   "source": [
    "## 2. Data Exploration"
   ]
  },
  {
   "cell_type": "code",
   "execution_count": 4,
   "metadata": {},
   "outputs": [],
   "source": [
    "scored_texts['platform'] = scored_texts['platform'].replace({'Xbox 360': '360',\n",
    "                                             'XOne': 'Xbox One', \n",
    "                                             'iOS': 'iPhone', \n",
    "                                             '3DS': 'Nintendo 3DS', \n",
    "                                             'WiiU': 'Wii U',\n",
    "                                             'Nintendo Switch': 'Nintendo Switch',\n",
    "                                             '\\xa0· ': '',\n",
    "                                             'X360': '360',\n",
    "                                             'XBO': 'Xbox One', \n",
    "                                             'IPH': 'iPhone', \n",
    "                                             'IPD': 'iPad', \n",
    "                                             'AND': 'Android', \n",
    "                                             'WiiU': 'Wii U', \n",
    "                                             'NSW': 'Switch',\n",
    "                                             'PSV': 'Vita',\n",
    "                                             'GB': 'Game Boy',\n",
    "                                             'STD': 'Stadia',\n",
    "                                             'OSX': 'Mac',\n",
    "                                             'PSVITA': 'Vita',\n",
    "                                             'NDS': 'DS',\n",
    "                                             'Ipad': 'iPad', \n",
    "                                             'Nintendo DS': 'DS',             \n",
    "                                             'Móviles': 'Android'               \n",
    "                                              }, regex=True)"
   ]
  },
  {
   "cell_type": "code",
   "execution_count": 5,
   "metadata": {},
   "outputs": [],
   "source": [
    "scored_texts['game'].replace({' - Análisis': '', 'Análisis de ': ''}, regex=True, inplace=True)"
   ]
  },
  {
   "cell_type": "code",
   "execution_count": 6,
   "metadata": {},
   "outputs": [],
   "source": [
    "scored_texts['author'] = scored_texts['author'].replace({'(\\D+)\\\\n': '', '(\\D+) - @': ''}, regex=True)"
   ]
  },
  {
   "cell_type": "code",
   "execution_count": 7,
   "metadata": {},
   "outputs": [],
   "source": [
    "#Counting games per platform: Nintendo Switch - 3819, PS4 - 5589, Xbox One - 4276, PS3 - 3772, Nintendo 3DS - 1196, Xbox 360 - 3520, PC - 8511, Android - 1071 y iPhone - 1847\n",
    "\n",
    "#scored_texts[scored_texts['platform'].str.contains(\"Xbox\")].value_counts()"
   ]
  },
  {
   "cell_type": "code",
   "execution_count": 10,
   "metadata": {},
   "outputs": [],
   "source": [
    "scored_texts['company'] = scored_texts['company'].replace({'Bandai Namco Entertainment': 'Bandai Namco', \n",
    "                                                           'Sony Computer Entertainment': 'Sony',\n",
    "                                                           'Xbox Game Studios': 'Microsoft',\n",
    "                                                           'Namco Bandai': 'Bandai Namco',\n",
    "                                                           'Electronic Arts': 'EA',\n",
    "                                                           'EA Sports': 'EA',\n",
    "                                                           'THQ Nordic': 'THQ',\n",
    "                                                           'Nordic Games': 'THQ',\n",
    "                                                           'Microsoft Game Studios': 'Microsoft',\n",
    "                                                           'Microsoft Studios': 'Microsoft',\n",
    "                                                           'Warner Bros. Interactive Entertainment': 'Warner Bros.',\n",
    "                                                           'Bethesda Softworks': 'Bethesda',\n",
    "                                                           'Team 17': 'Team17',\n",
    "                                                           'Blizzard Entertainment': 'Blizzard',\n",
    "                                                           '2K Games': 'Take-Two Interactive',\n",
    "                                                           '2K Sports': 'Take-Two Interactive',\n",
    "                                                           '2K': 'Take-Two Interactive',\n",
    "                                                           'Sony Interactive Entertainment': 'Sony',\n",
    "                                                           'Sony Europe': 'Sony',\n",
    "                                                           'Square-Enix': 'Square Enix',\n",
    "                                                           'Koch Media': 'Deep Silver',\n",
    "                                                           'Tecmo Koei': 'KoeTec',\n",
    "                                                           'Koei Tecmo': 'KoeTec',\n",
    "                                                           'Koei': 'KoeTec',\n",
    "                                                           'Tecmo':'KoeTec',\n",
    "                                                           'Tecmo Koei Europe': 'KoeTec',\n",
    "                                                           'Tecmo': 'KoeTec',\n",
    "                                                           'The Pokémon Company': 'Nintendo',\n",
    "                                                           'Rockstar Games': 'Rockstar',\n",
    "                                                           'Nacon': 'Bigben Interactive',\n",
    "                                                           'Sega': 'SEGA',\n",
    "                                                           'Private Division': 'Take-Two Interactive',\n",
    "                                                           'Take 2': 'Take-Two Interactive'\n",
    "                                                           \n",
    "                                                          }, regex=True)"
   ]
  },
  {
   "cell_type": "code",
   "execution_count": 19,
   "metadata": {},
   "outputs": [
    {
     "data": {
      "text/html": [
       "<div>\n",
       "<style scoped>\n",
       "    .dataframe tbody tr th:only-of-type {\n",
       "        vertical-align: middle;\n",
       "    }\n",
       "\n",
       "    .dataframe tbody tr th {\n",
       "        vertical-align: top;\n",
       "    }\n",
       "\n",
       "    .dataframe thead th {\n",
       "        text-align: right;\n",
       "    }\n",
       "</style>\n",
       "<table border=\"1\" class=\"dataframe\">\n",
       "  <thead>\n",
       "    <tr style=\"text-align: right;\">\n",
       "      <th></th>\n",
       "      <th>site</th>\n",
       "      <th>url_link</th>\n",
       "      <th>author</th>\n",
       "      <th>game</th>\n",
       "      <th>company</th>\n",
       "      <th>genre</th>\n",
       "      <th>platform</th>\n",
       "      <th>text</th>\n",
       "      <th>score</th>\n",
       "      <th>stars</th>\n",
       "      <th>stars_mean</th>\n",
       "      <th>score_label</th>\n",
       "      <th>score_adj</th>\n",
       "    </tr>\n",
       "  </thead>\n",
       "  <tbody>\n",
       "    <tr>\n",
       "      <th>0</th>\n",
       "      <td>meristation</td>\n",
       "      <td>https://as.com/meristation/2008/12/22/analisis...</td>\n",
       "      <td>Javier de Pascual</td>\n",
       "      <td>Metal Gear Solid Mobile</td>\n",
       "      <td>Konami</td>\n",
       "      <td>Acción, Tactical</td>\n",
       "      <td>NGE</td>\n",
       "      <td>Por alguna extraña razón, cuando el jugón trad...</td>\n",
       "      <td>8.5</td>\n",
       "      <td>[{'label': '3 stars', 'score': 0.4069659113883...</td>\n",
       "      <td>3.17</td>\n",
       "      <td>'4 starts'</td>\n",
       "      <td>4.25</td>\n",
       "    </tr>\n",
       "    <tr>\n",
       "      <th>1</th>\n",
       "      <td>meristation</td>\n",
       "      <td>https://as.com/meristation/2012/12/19/analisis...</td>\n",
       "      <td>Pablo González</td>\n",
       "      <td>THE DENPA MEN: They Came By Wave</td>\n",
       "      <td>None</td>\n",
       "      <td>RPG</td>\n",
       "      <td>Nintendo 3DS</td>\n",
       "      <td>Nintendo 3DS ha apostado desde su primer día e...</td>\n",
       "      <td>7.2</td>\n",
       "      <td>[{'label': '4 stars', 'score': 0.4059227108955...</td>\n",
       "      <td>4.00</td>\n",
       "      <td>'4 starts'</td>\n",
       "      <td>3.60</td>\n",
       "    </tr>\n",
       "    <tr>\n",
       "      <th>2</th>\n",
       "      <td>meristation</td>\n",
       "      <td>https://as.com/meristation/2019/09/03/analisis...</td>\n",
       "      <td>David Arroyo</td>\n",
       "      <td>Telling Lies</td>\n",
       "      <td>Annapurna Interactive</td>\n",
       "      <td>Aventura</td>\n",
       "      <td>PC PS4 Xbox One Switch</td>\n",
       "      <td>Hablar de Telling Lies es un poco complicado. ...</td>\n",
       "      <td>8.0</td>\n",
       "      <td>[{'label': '3 stars', 'score': 0.4342378377914...</td>\n",
       "      <td>3.62</td>\n",
       "      <td>'4 starts'</td>\n",
       "      <td>4.00</td>\n",
       "    </tr>\n",
       "    <tr>\n",
       "      <th>3</th>\n",
       "      <td>meristation</td>\n",
       "      <td>https://as.com/meristation/2014/10/06/analisis...</td>\n",
       "      <td>Salva Fernàndez</td>\n",
       "      <td>Titanfall: IMC Rising</td>\n",
       "      <td>None</td>\n",
       "      <td>Acción, First Person Shooter</td>\n",
       "      <td>PC 360 Xbox One</td>\n",
       "      <td>Titanfall recibe el último contenido descargab...</td>\n",
       "      <td>7.0</td>\n",
       "      <td>[{'label': '3 stars', 'score': 0.4690837860107...</td>\n",
       "      <td>3.40</td>\n",
       "      <td>'4 starts'</td>\n",
       "      <td>3.50</td>\n",
       "    </tr>\n",
       "    <tr>\n",
       "      <th>4</th>\n",
       "      <td>meristation</td>\n",
       "      <td>https://as.com/meristation/2014/04/16/analisis...</td>\n",
       "      <td>None</td>\n",
       "      <td>Moebius: Empire Rising</td>\n",
       "      <td>None</td>\n",
       "      <td>Aventura Gráfica</td>\n",
       "      <td>PC Mac iPhone iPad Android</td>\n",
       "      <td>“Aquellos que no pueden recordar el pasado, es...</td>\n",
       "      <td>6.8</td>\n",
       "      <td>[{'label': '4 stars', 'score': 0.4857680797576...</td>\n",
       "      <td>3.08</td>\n",
       "      <td>'3 starts'</td>\n",
       "      <td>3.40</td>\n",
       "    </tr>\n",
       "    <tr>\n",
       "      <th>...</th>\n",
       "      <td>...</td>\n",
       "      <td>...</td>\n",
       "      <td>...</td>\n",
       "      <td>...</td>\n",
       "      <td>...</td>\n",
       "      <td>...</td>\n",
       "      <td>...</td>\n",
       "      <td>...</td>\n",
       "      <td>...</td>\n",
       "      <td>...</td>\n",
       "      <td>...</td>\n",
       "      <td>...</td>\n",
       "      <td>...</td>\n",
       "    </tr>\n",
       "    <tr>\n",
       "      <th>15546</th>\n",
       "      <td>meristation</td>\n",
       "      <td>https://as.com/meristation/2009/02/23/analisis...</td>\n",
       "      <td>Pablo González</td>\n",
       "      <td>Eledees: The Adventures of Kai and Zero</td>\n",
       "      <td>None</td>\n",
       "      <td>Puzzle</td>\n",
       "      <td>DS</td>\n",
       "      <td>Konami fue una compañía bastante inteligente c...</td>\n",
       "      <td>7.5</td>\n",
       "      <td>[{'label': '3 stars', 'score': 0.3707822263240...</td>\n",
       "      <td>3.57</td>\n",
       "      <td>'4 starts'</td>\n",
       "      <td>3.75</td>\n",
       "    </tr>\n",
       "    <tr>\n",
       "      <th>15547</th>\n",
       "      <td>Vandal</td>\n",
       "      <td>https://vandal.elespanol.com/analisis/switch/t...</td>\n",
       "      <td>Sergio Martín</td>\n",
       "      <td>The Stretchers</td>\n",
       "      <td>Nintendo</td>\n",
       "      <td>Puzle</td>\n",
       "      <td>Switch</td>\n",
       "      <td>El equipo de Tarsier Studios, responsables ent...</td>\n",
       "      <td>7.7</td>\n",
       "      <td>[{'label': '3 stars', 'score': 0.3597940206527...</td>\n",
       "      <td>3.25</td>\n",
       "      <td>'4 starts'</td>\n",
       "      <td>3.85</td>\n",
       "    </tr>\n",
       "    <tr>\n",
       "      <th>15548</th>\n",
       "      <td>3D Juegos</td>\n",
       "      <td>https://www.3djuegos.com/juegos/analisis/3486/...</td>\n",
       "      <td>Jesús Bella</td>\n",
       "      <td>Deadly Creatures</td>\n",
       "      <td>None</td>\n",
       "      <td>None</td>\n",
       "      <td>Wii</td>\n",
       "      <td>Si estás harto de ponerte siempre del lado de ...</td>\n",
       "      <td>8.0</td>\n",
       "      <td>[{'label': '3 stars', 'score': 0.4155605137348...</td>\n",
       "      <td>3.50</td>\n",
       "      <td>'4 starts'</td>\n",
       "      <td>4.00</td>\n",
       "    </tr>\n",
       "    <tr>\n",
       "      <th>15549</th>\n",
       "      <td>3D Juegos</td>\n",
       "      <td>https://www.3djuegos.com/juegos/analisis/11213...</td>\n",
       "      <td>Sergio Martín</td>\n",
       "      <td>Dragon Ball Z Ultimate Tenkaichi</td>\n",
       "      <td>None</td>\n",
       "      <td>None</td>\n",
       "      <td>PS3 360</td>\n",
       "      <td>Namco Bandai y Spike vuelven a la carga con la...</td>\n",
       "      <td>7.0</td>\n",
       "      <td>[{'label': '4 stars', 'score': 0.4572119116783...</td>\n",
       "      <td>4.00</td>\n",
       "      <td>'4 starts'</td>\n",
       "      <td>3.50</td>\n",
       "    </tr>\n",
       "    <tr>\n",
       "      <th>15550</th>\n",
       "      <td>3D Juegos</td>\n",
       "      <td>https://www.3djuegos.com/juegos/analisis/1886/...</td>\n",
       "      <td>Jesús Bella</td>\n",
       "      <td>Infinite Undiscovery</td>\n",
       "      <td>None</td>\n",
       "      <td>None</td>\n",
       "      <td>360</td>\n",
       "      <td>Con el objetivo de descubrir el infinito en el...</td>\n",
       "      <td>6.9</td>\n",
       "      <td>[{'label': '3 stars', 'score': 0.4130981266498...</td>\n",
       "      <td>3.20</td>\n",
       "      <td>'3 starts'</td>\n",
       "      <td>3.45</td>\n",
       "    </tr>\n",
       "  </tbody>\n",
       "</table>\n",
       "<p>15538 rows × 13 columns</p>\n",
       "</div>"
      ],
      "text/plain": [
       "              site                                           url_link  \\\n",
       "0      meristation  https://as.com/meristation/2008/12/22/analisis...   \n",
       "1      meristation  https://as.com/meristation/2012/12/19/analisis...   \n",
       "2      meristation  https://as.com/meristation/2019/09/03/analisis...   \n",
       "3      meristation  https://as.com/meristation/2014/10/06/analisis...   \n",
       "4      meristation  https://as.com/meristation/2014/04/16/analisis...   \n",
       "...            ...                                                ...   \n",
       "15546  meristation  https://as.com/meristation/2009/02/23/analisis...   \n",
       "15547       Vandal  https://vandal.elespanol.com/analisis/switch/t...   \n",
       "15548    3D Juegos  https://www.3djuegos.com/juegos/analisis/3486/...   \n",
       "15549    3D Juegos  https://www.3djuegos.com/juegos/analisis/11213...   \n",
       "15550    3D Juegos  https://www.3djuegos.com/juegos/analisis/1886/...   \n",
       "\n",
       "                  author                                     game  \\\n",
       "0      Javier de Pascual                  Metal Gear Solid Mobile   \n",
       "1         Pablo González         THE DENPA MEN: They Came By Wave   \n",
       "2           David Arroyo                             Telling Lies   \n",
       "3        Salva Fernàndez                    Titanfall: IMC Rising   \n",
       "4                   None                   Moebius: Empire Rising   \n",
       "...                  ...                                      ...   \n",
       "15546     Pablo González  Eledees: The Adventures of Kai and Zero   \n",
       "15547      Sergio Martín                           The Stretchers   \n",
       "15548        Jesús Bella                         Deadly Creatures   \n",
       "15549      Sergio Martín         Dragon Ball Z Ultimate Tenkaichi   \n",
       "15550        Jesús Bella                     Infinite Undiscovery   \n",
       "\n",
       "                     company  \\\n",
       "0                     Konami   \n",
       "1                       None   \n",
       "2      Annapurna Interactive   \n",
       "3                       None   \n",
       "4                       None   \n",
       "...                      ...   \n",
       "15546                   None   \n",
       "15547               Nintendo   \n",
       "15548                   None   \n",
       "15549                   None   \n",
       "15550                   None   \n",
       "\n",
       "                                                  genre  \\\n",
       "0                  Acción, Tactical                       \n",
       "1                               RPG                       \n",
       "2                          Aventura                       \n",
       "3      Acción, First Person Shooter                       \n",
       "4                  Aventura Gráfica                       \n",
       "...                                                 ...   \n",
       "15546                        Puzzle                       \n",
       "15547                                             Puzle   \n",
       "15548                                              None   \n",
       "15549                                              None   \n",
       "15550                                              None   \n",
       "\n",
       "                         platform  \\\n",
       "0                             NGE   \n",
       "1                    Nintendo 3DS   \n",
       "2          PC PS4 Xbox One Switch   \n",
       "3                 PC 360 Xbox One   \n",
       "4      PC Mac iPhone iPad Android   \n",
       "...                           ...   \n",
       "15546                          DS   \n",
       "15547                      Switch   \n",
       "15548                         Wii   \n",
       "15549                     PS3 360   \n",
       "15550                         360   \n",
       "\n",
       "                                                    text  score  \\\n",
       "0      Por alguna extraña razón, cuando el jugón trad...    8.5   \n",
       "1      Nintendo 3DS ha apostado desde su primer día e...    7.2   \n",
       "2      Hablar de Telling Lies es un poco complicado. ...    8.0   \n",
       "3      Titanfall recibe el último contenido descargab...    7.0   \n",
       "4      “Aquellos que no pueden recordar el pasado, es...    6.8   \n",
       "...                                                  ...    ...   \n",
       "15546  Konami fue una compañía bastante inteligente c...    7.5   \n",
       "15547  El equipo de Tarsier Studios, responsables ent...    7.7   \n",
       "15548  Si estás harto de ponerte siempre del lado de ...    8.0   \n",
       "15549  Namco Bandai y Spike vuelven a la carga con la...    7.0   \n",
       "15550  Con el objetivo de descubrir el infinito en el...    6.9   \n",
       "\n",
       "                                                   stars  stars_mean  \\\n",
       "0      [{'label': '3 stars', 'score': 0.4069659113883...        3.17   \n",
       "1      [{'label': '4 stars', 'score': 0.4059227108955...        4.00   \n",
       "2      [{'label': '3 stars', 'score': 0.4342378377914...        3.62   \n",
       "3      [{'label': '3 stars', 'score': 0.4690837860107...        3.40   \n",
       "4      [{'label': '4 stars', 'score': 0.4857680797576...        3.08   \n",
       "...                                                  ...         ...   \n",
       "15546  [{'label': '3 stars', 'score': 0.3707822263240...        3.57   \n",
       "15547  [{'label': '3 stars', 'score': 0.3597940206527...        3.25   \n",
       "15548  [{'label': '3 stars', 'score': 0.4155605137348...        3.50   \n",
       "15549  [{'label': '4 stars', 'score': 0.4572119116783...        4.00   \n",
       "15550  [{'label': '3 stars', 'score': 0.4130981266498...        3.20   \n",
       "\n",
       "      score_label  score_adj  \n",
       "0      '4 starts'       4.25  \n",
       "1      '4 starts'       3.60  \n",
       "2      '4 starts'       4.00  \n",
       "3      '4 starts'       3.50  \n",
       "4      '3 starts'       3.40  \n",
       "...           ...        ...  \n",
       "15546  '4 starts'       3.75  \n",
       "15547  '4 starts'       3.85  \n",
       "15548  '4 starts'       4.00  \n",
       "15549  '4 starts'       3.50  \n",
       "15550  '3 starts'       3.45  \n",
       "\n",
       "[15538 rows x 13 columns]"
      ]
     },
     "execution_count": 19,
     "metadata": {},
     "output_type": "execute_result"
    }
   ],
   "source": [
    "scored_texts"
   ]
  },
  {
   "cell_type": "code",
   "execution_count": null,
   "metadata": {},
   "outputs": [],
   "source": [
    "Acti_blizzard_list = scored_texts[scored_texts['company'].str.contains('Activision Blizzard')].index.to_list()"
   ]
  },
  {
   "cell_type": "markdown",
   "metadata": {},
   "source": [
    "### Drop reviews with score < 2"
   ]
  },
  {
   "cell_type": "code",
   "execution_count": 16,
   "metadata": {},
   "outputs": [],
   "source": [
    "min_score_filter = scored_texts['score'] < 2"
   ]
  },
  {
   "cell_type": "code",
   "execution_count": 17,
   "metadata": {},
   "outputs": [],
   "source": [
    "scored_texts.drop(scored_texts[min_score_filter].index, inplace = True) "
   ]
  },
  {
   "cell_type": "code",
   "execution_count": 18,
   "metadata": {},
   "outputs": [
    {
     "data": {
      "text/html": [
       "<div>\n",
       "<style scoped>\n",
       "    .dataframe tbody tr th:only-of-type {\n",
       "        vertical-align: middle;\n",
       "    }\n",
       "\n",
       "    .dataframe tbody tr th {\n",
       "        vertical-align: top;\n",
       "    }\n",
       "\n",
       "    .dataframe thead th {\n",
       "        text-align: right;\n",
       "    }\n",
       "</style>\n",
       "<table border=\"1\" class=\"dataframe\">\n",
       "  <thead>\n",
       "    <tr style=\"text-align: right;\">\n",
       "      <th></th>\n",
       "      <th>site</th>\n",
       "      <th>url_link</th>\n",
       "      <th>author</th>\n",
       "      <th>game</th>\n",
       "      <th>company</th>\n",
       "      <th>genre</th>\n",
       "      <th>platform</th>\n",
       "      <th>text</th>\n",
       "      <th>score</th>\n",
       "      <th>stars</th>\n",
       "      <th>stars_mean</th>\n",
       "      <th>score_label</th>\n",
       "      <th>score_adj</th>\n",
       "    </tr>\n",
       "  </thead>\n",
       "  <tbody>\n",
       "  </tbody>\n",
       "</table>\n",
       "</div>"
      ],
      "text/plain": [
       "Empty DataFrame\n",
       "Columns: [site, url_link, author, game, company, genre, platform, text, score, stars, stars_mean, score_label, score_adj]\n",
       "Index: []"
      ]
     },
     "execution_count": 18,
     "metadata": {},
     "output_type": "execute_result"
    }
   ],
   "source": [
    "scored_texts[scored_texts['score'] < 2]"
   ]
  },
  {
   "cell_type": "code",
   "execution_count": 20,
   "metadata": {},
   "outputs": [],
   "source": [
    "#scored_texts.to_csv('../data/scored_texts_final.csv', index=False)"
   ]
  },
  {
   "cell_type": "markdown",
   "metadata": {},
   "source": [
    "## 3. Data Analysis by Site"
   ]
  },
  {
   "cell_type": "markdown",
   "metadata": {},
   "source": [
    "### 3.1 Score Deviation per Site\n",
    "As the difference in percentage between adjusted score and computed score."
   ]
  },
  {
   "cell_type": "code",
   "execution_count": 3,
   "metadata": {},
   "outputs": [],
   "source": [
    "scored_texts_analytics = pd.read_csv('../data/scored_texts_analytics.csv')"
   ]
  },
  {
   "cell_type": "code",
   "execution_count": 4,
   "metadata": {},
   "outputs": [
    {
     "data": {
      "text/html": [
       "<div>\n",
       "<style scoped>\n",
       "    .dataframe tbody tr th:only-of-type {\n",
       "        vertical-align: middle;\n",
       "    }\n",
       "\n",
       "    .dataframe tbody tr th {\n",
       "        vertical-align: top;\n",
       "    }\n",
       "\n",
       "    .dataframe thead th {\n",
       "        text-align: right;\n",
       "    }\n",
       "</style>\n",
       "<table border=\"1\" class=\"dataframe\">\n",
       "  <thead>\n",
       "    <tr style=\"text-align: right;\">\n",
       "      <th></th>\n",
       "      <th>site</th>\n",
       "      <th>author</th>\n",
       "      <th>game</th>\n",
       "      <th>score</th>\n",
       "      <th>score_adj</th>\n",
       "      <th>stars_mean</th>\n",
       "      <th>company</th>\n",
       "      <th>platform</th>\n",
       "      <th>genre</th>\n",
       "      <th>score_deviation</th>\n",
       "    </tr>\n",
       "  </thead>\n",
       "  <tbody>\n",
       "    <tr>\n",
       "      <th>0</th>\n",
       "      <td>meristation</td>\n",
       "      <td>Javier de Pascual</td>\n",
       "      <td>Metal Gear Solid Mobile</td>\n",
       "      <td>8.5</td>\n",
       "      <td>4.25</td>\n",
       "      <td>3.17</td>\n",
       "      <td>Konami</td>\n",
       "      <td>NGE</td>\n",
       "      <td>Acción, Tactical</td>\n",
       "      <td>-25.411765</td>\n",
       "    </tr>\n",
       "    <tr>\n",
       "      <th>1</th>\n",
       "      <td>meristation</td>\n",
       "      <td>Pablo González</td>\n",
       "      <td>THE DENPA MEN: They Came By Wave</td>\n",
       "      <td>7.2</td>\n",
       "      <td>3.60</td>\n",
       "      <td>4.00</td>\n",
       "      <td>None</td>\n",
       "      <td>Nintendo 3DS</td>\n",
       "      <td>RPG</td>\n",
       "      <td>11.111111</td>\n",
       "    </tr>\n",
       "    <tr>\n",
       "      <th>2</th>\n",
       "      <td>meristation</td>\n",
       "      <td>David Arroyo</td>\n",
       "      <td>Telling Lies</td>\n",
       "      <td>8.0</td>\n",
       "      <td>4.00</td>\n",
       "      <td>3.62</td>\n",
       "      <td>Annapurna Interactive</td>\n",
       "      <td>PC PS4 Xbox One Switch</td>\n",
       "      <td>Aventura</td>\n",
       "      <td>-9.500000</td>\n",
       "    </tr>\n",
       "    <tr>\n",
       "      <th>3</th>\n",
       "      <td>meristation</td>\n",
       "      <td>Salva Fernàndez</td>\n",
       "      <td>Titanfall: IMC Rising</td>\n",
       "      <td>7.0</td>\n",
       "      <td>3.50</td>\n",
       "      <td>3.40</td>\n",
       "      <td>None</td>\n",
       "      <td>PC 360 Xbox One</td>\n",
       "      <td>Acción, First Person Shooter</td>\n",
       "      <td>-2.857143</td>\n",
       "    </tr>\n",
       "    <tr>\n",
       "      <th>4</th>\n",
       "      <td>meristation</td>\n",
       "      <td>None</td>\n",
       "      <td>Moebius: Empire Rising</td>\n",
       "      <td>6.8</td>\n",
       "      <td>3.40</td>\n",
       "      <td>3.08</td>\n",
       "      <td>None</td>\n",
       "      <td>PC Mac iPhone iPad Android</td>\n",
       "      <td>Aventura Gráfica</td>\n",
       "      <td>-9.411765</td>\n",
       "    </tr>\n",
       "    <tr>\n",
       "      <th>...</th>\n",
       "      <td>...</td>\n",
       "      <td>...</td>\n",
       "      <td>...</td>\n",
       "      <td>...</td>\n",
       "      <td>...</td>\n",
       "      <td>...</td>\n",
       "      <td>...</td>\n",
       "      <td>...</td>\n",
       "      <td>...</td>\n",
       "      <td>...</td>\n",
       "    </tr>\n",
       "    <tr>\n",
       "      <th>15533</th>\n",
       "      <td>meristation</td>\n",
       "      <td>Pablo González</td>\n",
       "      <td>Eledees: The Adventures of Kai and Zero</td>\n",
       "      <td>7.5</td>\n",
       "      <td>3.75</td>\n",
       "      <td>3.57</td>\n",
       "      <td>None</td>\n",
       "      <td>DS</td>\n",
       "      <td>Puzzle</td>\n",
       "      <td>-4.800000</td>\n",
       "    </tr>\n",
       "    <tr>\n",
       "      <th>15534</th>\n",
       "      <td>Vandal</td>\n",
       "      <td>Sergio Martín</td>\n",
       "      <td>The Stretchers</td>\n",
       "      <td>7.7</td>\n",
       "      <td>3.85</td>\n",
       "      <td>3.25</td>\n",
       "      <td>Nintendo</td>\n",
       "      <td>Switch</td>\n",
       "      <td>Puzle</td>\n",
       "      <td>-15.584416</td>\n",
       "    </tr>\n",
       "    <tr>\n",
       "      <th>15535</th>\n",
       "      <td>3D Juegos</td>\n",
       "      <td>Jesús Bella</td>\n",
       "      <td>Deadly Creatures</td>\n",
       "      <td>8.0</td>\n",
       "      <td>4.00</td>\n",
       "      <td>3.50</td>\n",
       "      <td>None</td>\n",
       "      <td>Wii</td>\n",
       "      <td>None</td>\n",
       "      <td>-12.500000</td>\n",
       "    </tr>\n",
       "    <tr>\n",
       "      <th>15536</th>\n",
       "      <td>3D Juegos</td>\n",
       "      <td>Sergio Martín</td>\n",
       "      <td>Dragon Ball Z Ultimate Tenkaichi</td>\n",
       "      <td>7.0</td>\n",
       "      <td>3.50</td>\n",
       "      <td>4.00</td>\n",
       "      <td>None</td>\n",
       "      <td>PS3 360</td>\n",
       "      <td>None</td>\n",
       "      <td>14.285714</td>\n",
       "    </tr>\n",
       "    <tr>\n",
       "      <th>15537</th>\n",
       "      <td>3D Juegos</td>\n",
       "      <td>Jesús Bella</td>\n",
       "      <td>Infinite Undiscovery</td>\n",
       "      <td>6.9</td>\n",
       "      <td>3.45</td>\n",
       "      <td>3.20</td>\n",
       "      <td>None</td>\n",
       "      <td>360</td>\n",
       "      <td>None</td>\n",
       "      <td>-7.246377</td>\n",
       "    </tr>\n",
       "  </tbody>\n",
       "</table>\n",
       "<p>15538 rows × 10 columns</p>\n",
       "</div>"
      ],
      "text/plain": [
       "              site             author  \\\n",
       "0      meristation  Javier de Pascual   \n",
       "1      meristation     Pablo González   \n",
       "2      meristation       David Arroyo   \n",
       "3      meristation    Salva Fernàndez   \n",
       "4      meristation               None   \n",
       "...            ...                ...   \n",
       "15533  meristation     Pablo González   \n",
       "15534       Vandal      Sergio Martín   \n",
       "15535    3D Juegos        Jesús Bella   \n",
       "15536    3D Juegos      Sergio Martín   \n",
       "15537    3D Juegos        Jesús Bella   \n",
       "\n",
       "                                          game  score  score_adj  stars_mean  \\\n",
       "0                      Metal Gear Solid Mobile    8.5       4.25        3.17   \n",
       "1             THE DENPA MEN: They Came By Wave    7.2       3.60        4.00   \n",
       "2                                 Telling Lies    8.0       4.00        3.62   \n",
       "3                        Titanfall: IMC Rising    7.0       3.50        3.40   \n",
       "4                       Moebius: Empire Rising    6.8       3.40        3.08   \n",
       "...                                        ...    ...        ...         ...   \n",
       "15533  Eledees: The Adventures of Kai and Zero    7.5       3.75        3.57   \n",
       "15534                           The Stretchers    7.7       3.85        3.25   \n",
       "15535                         Deadly Creatures    8.0       4.00        3.50   \n",
       "15536         Dragon Ball Z Ultimate Tenkaichi    7.0       3.50        4.00   \n",
       "15537                     Infinite Undiscovery    6.9       3.45        3.20   \n",
       "\n",
       "                     company                    platform  \\\n",
       "0                     Konami                         NGE   \n",
       "1                       None                Nintendo 3DS   \n",
       "2      Annapurna Interactive      PC PS4 Xbox One Switch   \n",
       "3                       None             PC 360 Xbox One   \n",
       "4                       None  PC Mac iPhone iPad Android   \n",
       "...                      ...                         ...   \n",
       "15533                   None                          DS   \n",
       "15534               Nintendo                      Switch   \n",
       "15535                   None                         Wii   \n",
       "15536                   None                     PS3 360   \n",
       "15537                   None                         360   \n",
       "\n",
       "                                                  genre  score_deviation  \n",
       "0                  Acción, Tactical                           -25.411765  \n",
       "1                               RPG                            11.111111  \n",
       "2                          Aventura                            -9.500000  \n",
       "3      Acción, First Person Shooter                            -2.857143  \n",
       "4                  Aventura Gráfica                            -9.411765  \n",
       "...                                                 ...              ...  \n",
       "15533                        Puzzle                            -4.800000  \n",
       "15534                                             Puzle       -15.584416  \n",
       "15535                                              None       -12.500000  \n",
       "15536                                              None        14.285714  \n",
       "15537                                              None        -7.246377  \n",
       "\n",
       "[15538 rows x 10 columns]"
      ]
     },
     "execution_count": 4,
     "metadata": {},
     "output_type": "execute_result"
    }
   ],
   "source": [
    "scored_texts_analytics"
   ]
  },
  {
   "cell_type": "code",
   "execution_count": 5,
   "metadata": {},
   "outputs": [],
   "source": [
    "#scored_texts_analytics = scored_texts_analytics[['site', 'author', 'game', 'score', 'score_adj', 'stars_mean', 'company', 'platform', 'genre']]"
   ]
  },
  {
   "cell_type": "code",
   "execution_count": 6,
   "metadata": {},
   "outputs": [],
   "source": [
    "#scored_texts_analytics.to_csv('../data/scored_texts_analytics.csv', index=False)"
   ]
  },
  {
   "cell_type": "code",
   "execution_count": 4,
   "metadata": {},
   "outputs": [],
   "source": [
    "#scored_texts_analytics['score_deviation'] = (scored_texts_analytics['stars_mean'] - scored_texts_analytics['score_adj']) / scored_texts_analytics['score_adj'] * 100"
   ]
  },
  {
   "cell_type": "code",
   "execution_count": 6,
   "metadata": {},
   "outputs": [
    {
     "data": {
      "text/plain": [
       "site\n",
       "3D Juegos     -5.435291\n",
       "Gamereactor   -5.286295\n",
       "Vandal        -4.516404\n",
       "meristation   -3.674755\n",
       "revogamers     0.666360\n",
       "Name: score_deviation, dtype: float64"
      ]
     },
     "execution_count": 6,
     "metadata": {},
     "output_type": "execute_result"
    }
   ],
   "source": [
    "scored_texts_analytics.groupby('site')['score_deviation'].mean()"
   ]
  },
  {
   "cell_type": "code",
   "execution_count": 18,
   "metadata": {},
   "outputs": [
    {
     "data": {
      "text/plain": [
       "['meristation', 'Vandal', 'revogamers', 'Gamereactor', '3D Juegos']"
      ]
     },
     "execution_count": 18,
     "metadata": {},
     "output_type": "execute_result"
    }
   ],
   "source": []
  },
  {
   "cell_type": "markdown",
   "metadata": {},
   "source": [
    "### 3.2 Plot Score Deviation"
   ]
  },
  {
   "cell_type": "code",
   "execution_count": 44,
   "metadata": {},
   "outputs": [
    {
     "ename": "NameError",
     "evalue": "name 'df' is not defined",
     "output_type": "error",
     "traceback": [
      "\u001b[0;31m---------------------------------------------------------------------------\u001b[0m",
      "\u001b[0;31mNameError\u001b[0m                                 Traceback (most recent call last)",
      "\u001b[0;32m<ipython-input-44-cc2020f71512>\u001b[0m in \u001b[0;36m<module>\u001b[0;34m\u001b[0m\n\u001b[1;32m      6\u001b[0m \u001b[0;34m\u001b[0m\u001b[0m\n\u001b[1;32m      7\u001b[0m     \u001b[0msns\u001b[0m\u001b[0;34m.\u001b[0m\u001b[0mdespine\u001b[0m\u001b[0;34m(\u001b[0m\u001b[0mbottom\u001b[0m\u001b[0;34m=\u001b[0m\u001b[0;32mTrue\u001b[0m\u001b[0;34m,\u001b[0m \u001b[0mleft\u001b[0m\u001b[0;34m=\u001b[0m\u001b[0;32mTrue\u001b[0m\u001b[0;34m)\u001b[0m\u001b[0;34m\u001b[0m\u001b[0;34m\u001b[0m\u001b[0m\n\u001b[0;32m----> 8\u001b[0;31m     \u001b[0msns\u001b[0m\u001b[0;34m.\u001b[0m\u001b[0mpointplot\u001b[0m\u001b[0;34m(\u001b[0m\u001b[0mx\u001b[0m\u001b[0;34m=\u001b[0m\u001b[0;34m\"site\"\u001b[0m\u001b[0;34m,\u001b[0m \u001b[0my\u001b[0m\u001b[0;34m=\u001b[0m\u001b[0;34m\"score_deviation\"\u001b[0m\u001b[0;34m,\u001b[0m \u001b[0mdata\u001b[0m\u001b[0;34m=\u001b[0m\u001b[0mdf\u001b[0m\u001b[0;34m,\u001b[0m \u001b[0mjoin\u001b[0m\u001b[0;34m=\u001b[0m\u001b[0;32mFalse\u001b[0m\u001b[0;34m,\u001b[0m \u001b[0mpalette\u001b[0m\u001b[0;34m=\u001b[0m\u001b[0;34m\"dark\"\u001b[0m\u001b[0;34m,\u001b[0m \u001b[0mmarkers\u001b[0m\u001b[0;34m=\u001b[0m\u001b[0;34m\"d\"\u001b[0m\u001b[0;34m)\u001b[0m\u001b[0;34m\u001b[0m\u001b[0;34m\u001b[0m\u001b[0m\n\u001b[0m\u001b[1;32m      9\u001b[0m \u001b[0;34m\u001b[0m\u001b[0m\n\u001b[1;32m     10\u001b[0m     sns.stripplot(x=\"site\", y=\"score_deviation\", hue=\"score\",\n",
      "\u001b[0;31mNameError\u001b[0m: name 'df' is not defined"
     ]
    },
    {
     "data": {
      "image/png": "[encoded data removed]",
      "text/plain": [
       "<Figure size 1440x432 with 1 Axes>"
      ]
     },
     "metadata": {
      "needs_background": "light"
     },
     "output_type": "display_data"
    }
   ],
   "source": [
    "sites_list = list(scored_texts_analytics['site'].unique())\n",
    "\n",
    "#for site in sites_list:\n",
    "\n",
    "    fig, ax = plt.subplots(figsize=(20,6))\n",
    "\n",
    "    sns.despine(bottom=True, left=True)\n",
    "    sns.pointplot(x=\"site\", y=\"score_deviation\", data=df, join=False, palette=\"dark\", markers=\"d\")\n",
    "\n",
    "    sns.stripplot(x=\"site\", y=\"score_deviation\", hue=\"score\",\n",
    "                  data=df, dodge=True, alpha=.5, zorder=0.5)\n",
    "\n",
    "    handles, labels = ax.get_legend_handles_labels()\n",
    "    ax.legend(handles[::10], labels[::10], title=\"Score Deviation(%) per site\", title_fontsize=14, frameon=True, bbox_to_anchor=(0., 1.02, 1., .102), loc='lower left',\n",
    "               ncol=20, mode=\"expand\", borderaxespad=0., fontsize=8)\n",
    "    plt.show()"
   ]
  },
  {
   "cell_type": "code",
   "execution_count": 45,
   "metadata": {},
   "outputs": [
    {
     "data": {
      "image/png": "[encoded data removed]",
      "text/plain": [
       "<Figure size 1440x432 with 1 Axes>"
      ]
     },
     "metadata": {
      "needs_background": "light"
     },
     "output_type": "display_data"
    }
   ],
   "source": [
    "fig, ax = plt.subplots(figsize=(20,6))\n",
    "\n",
    "sns.despine(bottom=True, left=True)\n",
    "sns.stripplot(x=\"score\", y=\"score_deviation\", hue=\"site\",\n",
    "              data=scored_texts_analytics, dodge=True, alpha=.25, zorder=1)\n",
    "\n",
    "handles, labels = ax.get_legend_handles_labels()\n",
    "ax.legend(handles[:], labels[:], title=\"Website\", title_fontsize=14,\n",
    "          handletextpad=0, columnspacing=1,\n",
    "          loc=\"best\", ncol=1, frameon=True)\n",
    "ax.xaxis.set_major_locator(plt.LinearLocator())\n",
    "plt.show()"
   ]
  },
  {
   "cell_type": "markdown",
   "metadata": {},
   "source": [
    "### 3.3 Site Tops"
   ]
  },
  {
   "cell_type": "code",
   "execution_count": 27,
   "metadata": {},
   "outputs": [
    {
     "data": {
      "text/plain": [
       "site\n",
       "3D Juegos      7.613345\n",
       "Gamereactor    7.438635\n",
       "Vandal         7.607977\n",
       "meristation    7.456373\n",
       "revogamers     7.210833\n",
       "Name: score, dtype: float64"
      ]
     },
     "execution_count": 27,
     "metadata": {},
     "output_type": "execute_result"
    }
   ],
   "source": [
    "scored_texts_analytics.groupby('site')['score'].mean()"
   ]
  },
  {
   "cell_type": "code",
   "execution_count": 32,
   "metadata": {},
   "outputs": [],
   "source": [
    "#Plotear\n",
    "\n",
    "#scored_texts_analytics.groupby('site')['score'].value_counts()"
   ]
  },
  {
   "cell_type": "code",
   "execution_count": 33,
   "metadata": {},
   "outputs": [
    {
     "data": {
      "text/plain": [
       "site\n",
       "3D Juegos      3.564439\n",
       "Gamereactor    3.438378\n",
       "Vandal         3.567523\n",
       "meristation    3.522975\n",
       "revogamers     3.546580\n",
       "Name: stars_mean, dtype: float64"
      ]
     },
     "execution_count": 33,
     "metadata": {},
     "output_type": "execute_result"
    }
   ],
   "source": [
    "scored_texts_analytics.groupby('site')['stars_mean'].mean()"
   ]
  },
  {
   "cell_type": "code",
   "execution_count": null,
   "metadata": {},
   "outputs": [],
   "source": []
  },
  {
   "cell_type": "markdown",
   "metadata": {},
   "source": [
    "## 4. Data Analysis by Company"
   ]
  },
  {
   "cell_type": "markdown",
   "metadata": {},
   "source": [
    "### 4.1 Score Deviation per Top Companies"
   ]
  },
  {
   "cell_type": "code",
   "execution_count": 81,
   "metadata": {},
   "outputs": [],
   "source": [
    "#scored_texts['company'].value_counts().head(75)"
   ]
  },
  {
   "cell_type": "code",
   "execution_count": 84,
   "metadata": {},
   "outputs": [],
   "source": [
    "q_companies_filter = scored_texts_analytics.groupby('company').filter(lambda x: len(x) >= 20)"
   ]
  },
  {
   "cell_type": "code",
   "execution_count": 85,
   "metadata": {},
   "outputs": [],
   "source": [
    "q_companies = q_companies_filter.groupby('company')['score_deviation'].mean()"
   ]
  },
  {
   "cell_type": "code",
   "execution_count": 94,
   "metadata": {},
   "outputs": [
    {
     "data": {
      "text/plain": [
       "company\n",
       "Ratalaika Games       14.548144\n",
       "Atari                 10.026678\n",
       "Bigben Interactive     5.197232\n",
       "D3 Publisher           4.834162\n",
       "Microids               3.582731\n",
       "Milestone              2.236477\n",
       "Curve Digital          1.616641\n",
       "Rising Star Games      0.742658\n",
       "Gameloft               0.188556\n",
       "Kalypso Media         -0.882083\n",
       "Name: score_deviation, dtype: float64"
      ]
     },
     "execution_count": 94,
     "metadata": {},
     "output_type": "execute_result"
    }
   ],
   "source": [
    "q_companies.sort_values(ascending=False).head(10)"
   ]
  },
  {
   "cell_type": "code",
   "execution_count": 122,
   "metadata": {},
   "outputs": [],
   "source": [
    "count_companies = q_companies_filter.groupby('company')[['game']].count().reset_index()"
   ]
  },
  {
   "cell_type": "code",
   "execution_count": 137,
   "metadata": {},
   "outputs": [
    {
     "data": {
      "text/html": [
       "<div>\n",
       "<style scoped>\n",
       "    .dataframe tbody tr th:only-of-type {\n",
       "        vertical-align: middle;\n",
       "    }\n",
       "\n",
       "    .dataframe tbody tr th {\n",
       "        vertical-align: top;\n",
       "    }\n",
       "\n",
       "    .dataframe thead th {\n",
       "        text-align: right;\n",
       "    }\n",
       "</style>\n",
       "<table border=\"1\" class=\"dataframe\">\n",
       "  <thead>\n",
       "    <tr style=\"text-align: right;\">\n",
       "      <th></th>\n",
       "      <th>company</th>\n",
       "      <th>score_deviation</th>\n",
       "      <th>score</th>\n",
       "    </tr>\n",
       "  </thead>\n",
       "  <tbody>\n",
       "    <tr>\n",
       "      <th>0</th>\n",
       "      <td>505 Games</td>\n",
       "      <td>-0.896789</td>\n",
       "      <td>7.080000</td>\n",
       "    </tr>\n",
       "    <tr>\n",
       "      <th>1</th>\n",
       "      <td>Activision</td>\n",
       "      <td>-3.252107</td>\n",
       "      <td>7.449425</td>\n",
       "    </tr>\n",
       "    <tr>\n",
       "      <th>2</th>\n",
       "      <td>Annapurna Interactive</td>\n",
       "      <td>-9.281125</td>\n",
       "      <td>8.378261</td>\n",
       "    </tr>\n",
       "    <tr>\n",
       "      <th>3</th>\n",
       "      <td>Arc System Works</td>\n",
       "      <td>-7.403412</td>\n",
       "      <td>7.827586</td>\n",
       "    </tr>\n",
       "    <tr>\n",
       "      <th>4</th>\n",
       "      <td>Atari</td>\n",
       "      <td>10.026678</td>\n",
       "      <td>6.615000</td>\n",
       "    </tr>\n",
       "    <tr>\n",
       "      <th>5</th>\n",
       "      <td>Atlus</td>\n",
       "      <td>-7.306968</td>\n",
       "      <td>8.084722</td>\n",
       "    </tr>\n",
       "    <tr>\n",
       "      <th>6</th>\n",
       "      <td>Bandai Namco</td>\n",
       "      <td>-1.841226</td>\n",
       "      <td>7.332208</td>\n",
       "    </tr>\n",
       "    <tr>\n",
       "      <th>7</th>\n",
       "      <td>Bethesda</td>\n",
       "      <td>-5.895799</td>\n",
       "      <td>7.679675</td>\n",
       "    </tr>\n",
       "    <tr>\n",
       "      <th>8</th>\n",
       "      <td>Bigben Interactive</td>\n",
       "      <td>5.197232</td>\n",
       "      <td>6.468421</td>\n",
       "    </tr>\n",
       "    <tr>\n",
       "      <th>9</th>\n",
       "      <td>Blizzard</td>\n",
       "      <td>-11.019936</td>\n",
       "      <td>8.400000</td>\n",
       "    </tr>\n",
       "    <tr>\n",
       "      <th>10</th>\n",
       "      <td>Capcom</td>\n",
       "      <td>-6.780566</td>\n",
       "      <td>7.780370</td>\n",
       "    </tr>\n",
       "    <tr>\n",
       "      <th>11</th>\n",
       "      <td>Chillingo</td>\n",
       "      <td>-1.773826</td>\n",
       "      <td>7.380769</td>\n",
       "    </tr>\n",
       "    <tr>\n",
       "      <th>12</th>\n",
       "      <td>Codemasters</td>\n",
       "      <td>-6.907959</td>\n",
       "      <td>7.691892</td>\n",
       "    </tr>\n",
       "    <tr>\n",
       "      <th>13</th>\n",
       "      <td>Curve Digital</td>\n",
       "      <td>1.616641</td>\n",
       "      <td>6.931034</td>\n",
       "    </tr>\n",
       "    <tr>\n",
       "      <th>14</th>\n",
       "      <td>D3 Publisher</td>\n",
       "      <td>4.834162</td>\n",
       "      <td>6.390000</td>\n",
       "    </tr>\n",
       "    <tr>\n",
       "      <th>15</th>\n",
       "      <td>Daedalic Entertainment</td>\n",
       "      <td>-6.911070</td>\n",
       "      <td>7.413208</td>\n",
       "    </tr>\n",
       "    <tr>\n",
       "      <th>16</th>\n",
       "      <td>Deep Silver</td>\n",
       "      <td>-2.796682</td>\n",
       "      <td>7.227820</td>\n",
       "    </tr>\n",
       "    <tr>\n",
       "      <th>17</th>\n",
       "      <td>Devolver Digital</td>\n",
       "      <td>-6.227646</td>\n",
       "      <td>7.721818</td>\n",
       "    </tr>\n",
       "    <tr>\n",
       "      <th>18</th>\n",
       "      <td>Disney Interactive Studios</td>\n",
       "      <td>-1.663781</td>\n",
       "      <td>7.011111</td>\n",
       "    </tr>\n",
       "    <tr>\n",
       "      <th>19</th>\n",
       "      <td>EA</td>\n",
       "      <td>-7.237147</td>\n",
       "      <td>7.821975</td>\n",
       "    </tr>\n",
       "    <tr>\n",
       "      <th>20</th>\n",
       "      <td>Eidos Interactive</td>\n",
       "      <td>-2.226952</td>\n",
       "      <td>7.545833</td>\n",
       "    </tr>\n",
       "    <tr>\n",
       "      <th>21</th>\n",
       "      <td>Focus Home Interactive</td>\n",
       "      <td>-4.186185</td>\n",
       "      <td>7.206316</td>\n",
       "    </tr>\n",
       "    <tr>\n",
       "      <th>22</th>\n",
       "      <td>Gameloft</td>\n",
       "      <td>0.188556</td>\n",
       "      <td>7.621875</td>\n",
       "    </tr>\n",
       "    <tr>\n",
       "      <th>23</th>\n",
       "      <td>Kalypso Media</td>\n",
       "      <td>-0.882083</td>\n",
       "      <td>7.023810</td>\n",
       "    </tr>\n",
       "    <tr>\n",
       "      <th>24</th>\n",
       "      <td>KoeTec</td>\n",
       "      <td>-2.120047</td>\n",
       "      <td>7.261184</td>\n",
       "    </tr>\n",
       "    <tr>\n",
       "      <th>25</th>\n",
       "      <td>Konami</td>\n",
       "      <td>-4.377924</td>\n",
       "      <td>7.270186</td>\n",
       "    </tr>\n",
       "    <tr>\n",
       "      <th>26</th>\n",
       "      <td>Level-5</td>\n",
       "      <td>-3.955390</td>\n",
       "      <td>7.469565</td>\n",
       "    </tr>\n",
       "    <tr>\n",
       "      <th>27</th>\n",
       "      <td>Microids</td>\n",
       "      <td>3.582731</td>\n",
       "      <td>6.635000</td>\n",
       "    </tr>\n",
       "    <tr>\n",
       "      <th>28</th>\n",
       "      <td>Microsoft</td>\n",
       "      <td>-7.725685</td>\n",
       "      <td>7.883197</td>\n",
       "    </tr>\n",
       "    <tr>\n",
       "      <th>29</th>\n",
       "      <td>Milestone</td>\n",
       "      <td>2.236477</td>\n",
       "      <td>7.090625</td>\n",
       "    </tr>\n",
       "    <tr>\n",
       "      <th>30</th>\n",
       "      <td>NIS America</td>\n",
       "      <td>-2.877082</td>\n",
       "      <td>7.258462</td>\n",
       "    </tr>\n",
       "    <tr>\n",
       "      <th>31</th>\n",
       "      <td>Nintendo</td>\n",
       "      <td>-7.188605</td>\n",
       "      <td>7.952517</td>\n",
       "    </tr>\n",
       "    <tr>\n",
       "      <th>32</th>\n",
       "      <td>None</td>\n",
       "      <td>-4.002425</td>\n",
       "      <td>7.492526</td>\n",
       "    </tr>\n",
       "    <tr>\n",
       "      <th>33</th>\n",
       "      <td>Paradox Interactive</td>\n",
       "      <td>-7.404905</td>\n",
       "      <td>7.740299</td>\n",
       "    </tr>\n",
       "    <tr>\n",
       "      <th>34</th>\n",
       "      <td>Ratalaika Games</td>\n",
       "      <td>14.548144</td>\n",
       "      <td>5.961290</td>\n",
       "    </tr>\n",
       "    <tr>\n",
       "      <th>35</th>\n",
       "      <td>Rebellion</td>\n",
       "      <td>-1.663863</td>\n",
       "      <td>7.095000</td>\n",
       "    </tr>\n",
       "    <tr>\n",
       "      <th>36</th>\n",
       "      <td>Rising Star Games</td>\n",
       "      <td>0.742658</td>\n",
       "      <td>6.922727</td>\n",
       "    </tr>\n",
       "    <tr>\n",
       "      <th>37</th>\n",
       "      <td>Rockstar</td>\n",
       "      <td>-19.263836</td>\n",
       "      <td>9.163415</td>\n",
       "    </tr>\n",
       "    <tr>\n",
       "      <th>38</th>\n",
       "      <td>SEGA</td>\n",
       "      <td>-4.677507</td>\n",
       "      <td>7.698883</td>\n",
       "    </tr>\n",
       "    <tr>\n",
       "      <th>39</th>\n",
       "      <td>Sony</td>\n",
       "      <td>-7.377453</td>\n",
       "      <td>7.813176</td>\n",
       "    </tr>\n",
       "    <tr>\n",
       "      <th>40</th>\n",
       "      <td>Square Enix</td>\n",
       "      <td>-6.353752</td>\n",
       "      <td>7.759819</td>\n",
       "    </tr>\n",
       "    <tr>\n",
       "      <th>41</th>\n",
       "      <td>THQ</td>\n",
       "      <td>-1.479061</td>\n",
       "      <td>7.265359</td>\n",
       "    </tr>\n",
       "    <tr>\n",
       "      <th>42</th>\n",
       "      <td>Take-Two Interactive</td>\n",
       "      <td>-10.035210</td>\n",
       "      <td>8.079710</td>\n",
       "    </tr>\n",
       "    <tr>\n",
       "      <th>43</th>\n",
       "      <td>Team17</td>\n",
       "      <td>-2.622281</td>\n",
       "      <td>7.625455</td>\n",
       "    </tr>\n",
       "    <tr>\n",
       "      <th>44</th>\n",
       "      <td>Telltale Games</td>\n",
       "      <td>-8.908471</td>\n",
       "      <td>7.610989</td>\n",
       "    </tr>\n",
       "    <tr>\n",
       "      <th>45</th>\n",
       "      <td>Ubisoft</td>\n",
       "      <td>-4.516736</td>\n",
       "      <td>7.538372</td>\n",
       "    </tr>\n",
       "    <tr>\n",
       "      <th>46</th>\n",
       "      <td>Warner Bros.</td>\n",
       "      <td>-4.553849</td>\n",
       "      <td>7.562238</td>\n",
       "    </tr>\n",
       "  </tbody>\n",
       "</table>\n",
       "</div>"
      ],
      "text/plain": [
       "                       company  score_deviation     score\n",
       "0                    505 Games        -0.896789  7.080000\n",
       "1                   Activision        -3.252107  7.449425\n",
       "2        Annapurna Interactive        -9.281125  8.378261\n",
       "3             Arc System Works        -7.403412  7.827586\n",
       "4                        Atari        10.026678  6.615000\n",
       "5                        Atlus        -7.306968  8.084722\n",
       "6                 Bandai Namco        -1.841226  7.332208\n",
       "7                     Bethesda        -5.895799  7.679675\n",
       "8           Bigben Interactive         5.197232  6.468421\n",
       "9                     Blizzard       -11.019936  8.400000\n",
       "10                      Capcom        -6.780566  7.780370\n",
       "11                   Chillingo        -1.773826  7.380769\n",
       "12                 Codemasters        -6.907959  7.691892\n",
       "13               Curve Digital         1.616641  6.931034\n",
       "14                D3 Publisher         4.834162  6.390000\n",
       "15      Daedalic Entertainment        -6.911070  7.413208\n",
       "16                 Deep Silver        -2.796682  7.227820\n",
       "17            Devolver Digital        -6.227646  7.721818\n",
       "18  Disney Interactive Studios        -1.663781  7.011111\n",
       "19                          EA        -7.237147  7.821975\n",
       "20           Eidos Interactive        -2.226952  7.545833\n",
       "21      Focus Home Interactive        -4.186185  7.206316\n",
       "22                    Gameloft         0.188556  7.621875\n",
       "23               Kalypso Media        -0.882083  7.023810\n",
       "24                      KoeTec        -2.120047  7.261184\n",
       "25                      Konami        -4.377924  7.270186\n",
       "26                     Level-5        -3.955390  7.469565\n",
       "27                    Microids         3.582731  6.635000\n",
       "28                   Microsoft        -7.725685  7.883197\n",
       "29                   Milestone         2.236477  7.090625\n",
       "30                 NIS America        -2.877082  7.258462\n",
       "31                    Nintendo        -7.188605  7.952517\n",
       "32                        None        -4.002425  7.492526\n",
       "33         Paradox Interactive        -7.404905  7.740299\n",
       "34             Ratalaika Games        14.548144  5.961290\n",
       "35                   Rebellion        -1.663863  7.095000\n",
       "36           Rising Star Games         0.742658  6.922727\n",
       "37                    Rockstar       -19.263836  9.163415\n",
       "38                        SEGA        -4.677507  7.698883\n",
       "39                        Sony        -7.377453  7.813176\n",
       "40                 Square Enix        -6.353752  7.759819\n",
       "41                         THQ        -1.479061  7.265359\n",
       "42        Take-Two Interactive       -10.035210  8.079710\n",
       "43                      Team17        -2.622281  7.625455\n",
       "44              Telltale Games        -8.908471  7.610989\n",
       "45                     Ubisoft        -4.516736  7.538372\n",
       "46                Warner Bros.        -4.553849  7.562238"
      ]
     },
     "execution_count": 137,
     "metadata": {},
     "output_type": "execute_result"
    }
   ],
   "source": [
    "q_companies_filter.groupby('company')[['score_deviation', 'score']].mean().reset_index()"
   ]
  },
  {
   "cell_type": "code",
   "execution_count": 127,
   "metadata": {},
   "outputs": [],
   "source": [
    "companies_df = pd.merge(count_companies, s_companies, on=\"company\")"
   ]
  },
  {
   "cell_type": "code",
   "execution_count": 134,
   "metadata": {},
   "outputs": [],
   "source": [
    "companies_df.drop(companies_df[companies_df['company'] == 'None'].index, inplace = True) "
   ]
  },
  {
   "cell_type": "code",
   "execution_count": 141,
   "metadata": {},
   "outputs": [
    {
     "data": {
      "text/plain": [
       "'fig, ax = plt.subplots(figsize=(20,6))\\n\\nsns.despine(bottom=True, left=True)\\nsns.stripplot(x=\"score\", y=\"score_deviation\", hue=\"company\",\\n              data=s_companies, dodge=True, alpha=.25, zorder=1)\\n\\nhandles, labels = ax.get_legend_handles_labels()\\nax.legend(handles[:5], labels[:5], title=\"Website\", title_fontsize=14,\\n          handletextpad=0, columnspacing=1,\\n          loc=\"best\", ncol=20, frameon=True)\\nax.xaxis.set_major_locator(plt.LinearLocator())\\nax.set_xlim([0, roundup(y_max)])\\nplt.show()'"
      ]
     },
     "execution_count": 141,
     "metadata": {},
     "output_type": "execute_result"
    }
   ],
   "source": [
    "'''fig, ax = plt.subplots(figsize=(20,6))\n",
    "\n",
    "sns.despine(bottom=True, left=True)\n",
    "sns.stripplot(x=\"score\", y=\"score_deviation\", hue=\"company\",\n",
    "              data=s_companies, dodge=True, alpha=.25, zorder=1)\n",
    "\n",
    "handles, labels = ax.get_legend_handles_labels()\n",
    "ax.legend(handles[:5], labels[:5], title=\"Website\", title_fontsize=14,\n",
    "          handletextpad=0, columnspacing=1,\n",
    "          loc=\"best\", ncol=20, frameon=True)\n",
    "ax.xaxis.set_major_locator(plt.LinearLocator())\n",
    "ax.set_xlim([0, roundup(y_max)])\n",
    "plt.show()'''\n",
    "\n",
    "#Deprecated"
   ]
  },
  {
   "cell_type": "code",
   "execution_count": 135,
   "metadata": {},
   "outputs": [
    {
     "data": {
      "application/vnd.plotly.v1+json": {
       "config": {
        "plotlyServerURL": "https://plot.ly"
       },
       "data": [
        {
         "hovertemplate": "company=505 Games<br>score=%{x}<br>score_deviation=%{y}<br>game=%{marker.size}<extra></extra>",
         "legendgroup": "505 Games",
         "marker": {
          "color": "#636efa",
          "size": [
           100
          ],
          "sizemode": "area",
          "sizeref": 1.49,
          "symbol": "circle"
         },
         "mode": "markers",
         "name": "505 Games",
         "orientation": "v",
         "showlegend": true,
         "type": "scatter",
         "x": [
          7.080000000000002
         ],
         "xaxis": "x",
         "y": [
          -0.896788679185942
         ],
         "yaxis": "y"
        },
        {
         "hovertemplate": "company=Activision<br>score=%{x}<br>score_deviation=%{y}<br>game=%{marker.size}<extra></extra>",
         "legendgroup": "Activision",
         "marker": {
          "color": "#EF553B",
          "size": [
           174
          ],
          "sizemode": "area",
          "sizeref": 1.49,
          "symbol": "circle"
         },
         "mode": "markers",
         "name": "Activision",
         "orientation": "v",
         "showlegend": true,
         "type": "scatter",
         "x": [
          7.449425287356321
         ],
         "xaxis": "x",
         "y": [
          -3.2521069097539446
         ],
         "yaxis": "y"
        },
        {
         "hovertemplate": "company=Annapurna Interactive<br>score=%{x}<br>score_deviation=%{y}<br>game=%{marker.size}<extra></extra>",
         "legendgroup": "Annapurna Interactive",
         "marker": {
          "color": "#00cc96",
          "size": [
           23
          ],
          "sizemode": "area",
          "sizeref": 1.49,
          "symbol": "circle"
         },
         "mode": "markers",
         "name": "Annapurna Interactive",
         "orientation": "v",
         "showlegend": true,
         "type": "scatter",
         "x": [
          8.378260869565217
         ],
         "xaxis": "x",
         "y": [
          -9.281125351310962
         ],
         "yaxis": "y"
        },
        {
         "hovertemplate": "company=Arc System Works<br>score=%{x}<br>score_deviation=%{y}<br>game=%{marker.size}<extra></extra>",
         "legendgroup": "Arc System Works",
         "marker": {
          "color": "#ab63fa",
          "size": [
           29
          ],
          "sizemode": "area",
          "sizeref": 1.49,
          "symbol": "circle"
         },
         "mode": "markers",
         "name": "Arc System Works",
         "orientation": "v",
         "showlegend": true,
         "type": "scatter",
         "x": [
          7.827586206896552
         ],
         "xaxis": "x",
         "y": [
          -7.40341159785607
         ],
         "yaxis": "y"
        },
        {
         "hovertemplate": "company=Atari<br>score=%{x}<br>score_deviation=%{y}<br>game=%{marker.size}<extra></extra>",
         "legendgroup": "Atari",
         "marker": {
          "color": "#FFA15A",
          "size": [
           20
          ],
          "sizemode": "area",
          "sizeref": 1.49,
          "symbol": "circle"
         },
         "mode": "markers",
         "name": "Atari",
         "orientation": "v",
         "showlegend": true,
         "type": "scatter",
         "x": [
          6.615
         ],
         "xaxis": "x",
         "y": [
          10.026677887427283
         ],
         "yaxis": "y"
        },
        {
         "hovertemplate": "company=Atlus<br>score=%{x}<br>score_deviation=%{y}<br>game=%{marker.size}<extra></extra>",
         "legendgroup": "Atlus",
         "marker": {
          "color": "#19d3f3",
          "size": [
           72
          ],
          "sizemode": "area",
          "sizeref": 1.49,
          "symbol": "circle"
         },
         "mode": "markers",
         "name": "Atlus",
         "orientation": "v",
         "showlegend": true,
         "type": "scatter",
         "x": [
          8.084722222222222
         ],
         "xaxis": "x",
         "y": [
          -7.3069676177959515
         ],
         "yaxis": "y"
        },
        {
         "hovertemplate": "company=Bandai Namco<br>score=%{x}<br>score_deviation=%{y}<br>game=%{marker.size}<extra></extra>",
         "legendgroup": "Bandai Namco",
         "marker": {
          "color": "#FF6692",
          "size": [
           385
          ],
          "sizemode": "area",
          "sizeref": 1.49,
          "symbol": "circle"
         },
         "mode": "markers",
         "name": "Bandai Namco",
         "orientation": "v",
         "showlegend": true,
         "type": "scatter",
         "x": [
          7.332207792207792
         ],
         "xaxis": "x",
         "y": [
          -1.8412263643646378
         ],
         "yaxis": "y"
        },
        {
         "hovertemplate": "company=Bethesda<br>score=%{x}<br>score_deviation=%{y}<br>game=%{marker.size}<extra></extra>",
         "legendgroup": "Bethesda",
         "marker": {
          "color": "#B6E880",
          "size": [
           123
          ],
          "sizemode": "area",
          "sizeref": 1.49,
          "symbol": "circle"
         },
         "mode": "markers",
         "name": "Bethesda",
         "orientation": "v",
         "showlegend": true,
         "type": "scatter",
         "x": [
          7.679674796747966
         ],
         "xaxis": "x",
         "y": [
          -5.895798559833009
         ],
         "yaxis": "y"
        },
        {
         "hovertemplate": "company=Bigben Interactive<br>score=%{x}<br>score_deviation=%{y}<br>game=%{marker.size}<extra></extra>",
         "legendgroup": "Bigben Interactive",
         "marker": {
          "color": "#FF97FF",
          "size": [
           38
          ],
          "sizemode": "area",
          "sizeref": 1.49,
          "symbol": "circle"
         },
         "mode": "markers",
         "name": "Bigben Interactive",
         "orientation": "v",
         "showlegend": true,
         "type": "scatter",
         "x": [
          6.468421052631579
         ],
         "xaxis": "x",
         "y": [
          5.197232428385678
         ],
         "yaxis": "y"
        },
        {
         "hovertemplate": "company=Blizzard<br>score=%{x}<br>score_deviation=%{y}<br>game=%{marker.size}<extra></extra>",
         "legendgroup": "Blizzard",
         "marker": {
          "color": "#FECB52",
          "size": [
           48
          ],
          "sizemode": "area",
          "sizeref": 1.49,
          "symbol": "circle"
         },
         "mode": "markers",
         "name": "Blizzard",
         "orientation": "v",
         "showlegend": true,
         "type": "scatter",
         "x": [
          8.4
         ],
         "xaxis": "x",
         "y": [
          -11.019935711276412
         ],
         "yaxis": "y"
        },
        {
         "hovertemplate": "company=Capcom<br>score=%{x}<br>score_deviation=%{y}<br>game=%{marker.size}<extra></extra>",
         "legendgroup": "Capcom",
         "marker": {
          "color": "#636efa",
          "size": [
           270
          ],
          "sizemode": "area",
          "sizeref": 1.49,
          "symbol": "circle"
         },
         "mode": "markers",
         "name": "Capcom",
         "orientation": "v",
         "showlegend": true,
         "type": "scatter",
         "x": [
          7.780370370370371
         ],
         "xaxis": "x",
         "y": [
          -6.780565738878026
         ],
         "yaxis": "y"
        },
        {
         "hovertemplate": "company=Chillingo<br>score=%{x}<br>score_deviation=%{y}<br>game=%{marker.size}<extra></extra>",
         "legendgroup": "Chillingo",
         "marker": {
          "color": "#EF553B",
          "size": [
           26
          ],
          "sizemode": "area",
          "sizeref": 1.49,
          "symbol": "circle"
         },
         "mode": "markers",
         "name": "Chillingo",
         "orientation": "v",
         "showlegend": true,
         "type": "scatter",
         "x": [
          7.380769230769231
         ],
         "xaxis": "x",
         "y": [
          -1.773825948323765
         ],
         "yaxis": "y"
        },
        {
         "hovertemplate": "company=Codemasters<br>score=%{x}<br>score_deviation=%{y}<br>game=%{marker.size}<extra></extra>",
         "legendgroup": "Codemasters",
         "marker": {
          "color": "#00cc96",
          "size": [
           74
          ],
          "sizemode": "area",
          "sizeref": 1.49,
          "symbol": "circle"
         },
         "mode": "markers",
         "name": "Codemasters",
         "orientation": "v",
         "showlegend": true,
         "type": "scatter",
         "x": [
          7.691891891891893
         ],
         "xaxis": "x",
         "y": [
          -6.907958832481603
         ],
         "yaxis": "y"
        },
        {
         "hovertemplate": "company=Curve Digital<br>score=%{x}<br>score_deviation=%{y}<br>game=%{marker.size}<extra></extra>",
         "legendgroup": "Curve Digital",
         "marker": {
          "color": "#ab63fa",
          "size": [
           29
          ],
          "sizemode": "area",
          "sizeref": 1.49,
          "symbol": "circle"
         },
         "mode": "markers",
         "name": "Curve Digital",
         "orientation": "v",
         "showlegend": true,
         "type": "scatter",
         "x": [
          6.931034482758621
         ],
         "xaxis": "x",
         "y": [
          1.6166409424609582
         ],
         "yaxis": "y"
        },
        {
         "hovertemplate": "company=D3 Publisher<br>score=%{x}<br>score_deviation=%{y}<br>game=%{marker.size}<extra></extra>",
         "legendgroup": "D3 Publisher",
         "marker": {
          "color": "#FFA15A",
          "size": [
           20
          ],
          "sizemode": "area",
          "sizeref": 1.49,
          "symbol": "circle"
         },
         "mode": "markers",
         "name": "D3 Publisher",
         "orientation": "v",
         "showlegend": true,
         "type": "scatter",
         "x": [
          6.39
         ],
         "xaxis": "x",
         "y": [
          4.834162245800178
         ],
         "yaxis": "y"
        },
        {
         "hovertemplate": "company=Daedalic Entertainment<br>score=%{x}<br>score_deviation=%{y}<br>game=%{marker.size}<extra></extra>",
         "legendgroup": "Daedalic Entertainment",
         "marker": {
          "color": "#19d3f3",
          "size": [
           53
          ],
          "sizemode": "area",
          "sizeref": 1.49,
          "symbol": "circle"
         },
         "mode": "markers",
         "name": "Daedalic Entertainment",
         "orientation": "v",
         "showlegend": true,
         "type": "scatter",
         "x": [
          7.413207547169811
         ],
         "xaxis": "x",
         "y": [
          -6.911070262042958
         ],
         "yaxis": "y"
        },
        {
         "hovertemplate": "company=Deep Silver<br>score=%{x}<br>score_deviation=%{y}<br>game=%{marker.size}<extra></extra>",
         "legendgroup": "Deep Silver",
         "marker": {
          "color": "#FF6692",
          "size": [
           133
          ],
          "sizemode": "area",
          "sizeref": 1.49,
          "symbol": "circle"
         },
         "mode": "markers",
         "name": "Deep Silver",
         "orientation": "v",
         "showlegend": true,
         "type": "scatter",
         "x": [
          7.22781954887218
         ],
         "xaxis": "x",
         "y": [
          -2.796682207419627
         ],
         "yaxis": "y"
        },
        {
         "hovertemplate": "company=Devolver Digital<br>score=%{x}<br>score_deviation=%{y}<br>game=%{marker.size}<extra></extra>",
         "legendgroup": "Devolver Digital",
         "marker": {
          "color": "#B6E880",
          "size": [
           110
          ],
          "sizemode": "area",
          "sizeref": 1.49,
          "symbol": "circle"
         },
         "mode": "markers",
         "name": "Devolver Digital",
         "orientation": "v",
         "showlegend": true,
         "type": "scatter",
         "x": [
          7.721818181818182
         ],
         "xaxis": "x",
         "y": [
          -6.2276463968089795
         ],
         "yaxis": "y"
        },
        {
         "hovertemplate": "company=Disney Interactive Studios<br>score=%{x}<br>score_deviation=%{y}<br>game=%{marker.size}<extra></extra>",
         "legendgroup": "Disney Interactive Studios",
         "marker": {
          "color": "#FF97FF",
          "size": [
           27
          ],
          "sizemode": "area",
          "sizeref": 1.49,
          "symbol": "circle"
         },
         "mode": "markers",
         "name": "Disney Interactive Studios",
         "orientation": "v",
         "showlegend": true,
         "type": "scatter",
         "x": [
          7.011111111111112
         ],
         "xaxis": "x",
         "y": [
          -1.663780554957026
         ],
         "yaxis": "y"
        },
        {
         "hovertemplate": "company=EA<br>score=%{x}<br>score_deviation=%{y}<br>game=%{marker.size}<extra></extra>",
         "legendgroup": "EA",
         "marker": {
          "color": "#FECB52",
          "size": [
           405
          ],
          "sizemode": "area",
          "sizeref": 1.49,
          "symbol": "circle"
         },
         "mode": "markers",
         "name": "EA",
         "orientation": "v",
         "showlegend": true,
         "type": "scatter",
         "x": [
          7.821975308641977
         ],
         "xaxis": "x",
         "y": [
          -7.237147365023997
         ],
         "yaxis": "y"
        },
        {
         "hovertemplate": "company=Eidos Interactive<br>score=%{x}<br>score_deviation=%{y}<br>game=%{marker.size}<extra></extra>",
         "legendgroup": "Eidos Interactive",
         "marker": {
          "color": "#636efa",
          "size": [
           24
          ],
          "sizemode": "area",
          "sizeref": 1.49,
          "symbol": "circle"
         },
         "mode": "markers",
         "name": "Eidos Interactive",
         "orientation": "v",
         "showlegend": true,
         "type": "scatter",
         "x": [
          7.545833333333333
         ],
         "xaxis": "x",
         "y": [
          -2.2269524959742335
         ],
         "yaxis": "y"
        },
        {
         "hovertemplate": "company=Focus Home Interactive<br>score=%{x}<br>score_deviation=%{y}<br>game=%{marker.size}<extra></extra>",
         "legendgroup": "Focus Home Interactive",
         "marker": {
          "color": "#EF553B",
          "size": [
           95
          ],
          "sizemode": "area",
          "sizeref": 1.49,
          "symbol": "circle"
         },
         "mode": "markers",
         "name": "Focus Home Interactive",
         "orientation": "v",
         "showlegend": true,
         "type": "scatter",
         "x": [
          7.206315789473682
         ],
         "xaxis": "x",
         "y": [
          -4.186184883517346
         ],
         "yaxis": "y"
        },
        {
         "hovertemplate": "company=Gameloft<br>score=%{x}<br>score_deviation=%{y}<br>game=%{marker.size}<extra></extra>",
         "legendgroup": "Gameloft",
         "marker": {
          "color": "#00cc96",
          "size": [
           32
          ],
          "sizemode": "area",
          "sizeref": 1.49,
          "symbol": "circle"
         },
         "mode": "markers",
         "name": "Gameloft",
         "orientation": "v",
         "showlegend": true,
         "type": "scatter",
         "x": [
          7.621875
         ],
         "xaxis": "x",
         "y": [
          0.18855644371148433
         ],
         "yaxis": "y"
        },
        {
         "hovertemplate": "company=Kalypso Media<br>score=%{x}<br>score_deviation=%{y}<br>game=%{marker.size}<extra></extra>",
         "legendgroup": "Kalypso Media",
         "marker": {
          "color": "#ab63fa",
          "size": [
           42
          ],
          "sizemode": "area",
          "sizeref": 1.49,
          "symbol": "circle"
         },
         "mode": "markers",
         "name": "Kalypso Media",
         "orientation": "v",
         "showlegend": true,
         "type": "scatter",
         "x": [
          7.023809523809524
         ],
         "xaxis": "x",
         "y": [
          -0.8820833203849568
         ],
         "yaxis": "y"
        },
        {
         "hovertemplate": "company=KoeTec<br>score=%{x}<br>score_deviation=%{y}<br>game=%{marker.size}<extra></extra>",
         "legendgroup": "KoeTec",
         "marker": {
          "color": "#FFA15A",
          "size": [
           152
          ],
          "sizemode": "area",
          "sizeref": 1.49,
          "symbol": "circle"
         },
         "mode": "markers",
         "name": "KoeTec",
         "orientation": "v",
         "showlegend": true,
         "type": "scatter",
         "x": [
          7.2611842105263165
         ],
         "xaxis": "x",
         "y": [
          -2.1200465804760604
         ],
         "yaxis": "y"
        },
        {
         "hovertemplate": "company=Konami<br>score=%{x}<br>score_deviation=%{y}<br>game=%{marker.size}<extra></extra>",
         "legendgroup": "Konami",
         "marker": {
          "color": "#19d3f3",
          "size": [
           161
          ],
          "sizemode": "area",
          "sizeref": 1.49,
          "symbol": "circle"
         },
         "mode": "markers",
         "name": "Konami",
         "orientation": "v",
         "showlegend": true,
         "type": "scatter",
         "x": [
          7.270186335403728
         ],
         "xaxis": "x",
         "y": [
          -4.377924494768665
         ],
         "yaxis": "y"
        },
        {
         "hovertemplate": "company=Level-5<br>score=%{x}<br>score_deviation=%{y}<br>game=%{marker.size}<extra></extra>",
         "legendgroup": "Level-5",
         "marker": {
          "color": "#FF6692",
          "size": [
           23
          ],
          "sizemode": "area",
          "sizeref": 1.49,
          "symbol": "circle"
         },
         "mode": "markers",
         "name": "Level-5",
         "orientation": "v",
         "showlegend": true,
         "type": "scatter",
         "x": [
          7.469565217391305
         ],
         "xaxis": "x",
         "y": [
          -3.9553898898696302
         ],
         "yaxis": "y"
        },
        {
         "hovertemplate": "company=Microids<br>score=%{x}<br>score_deviation=%{y}<br>game=%{marker.size}<extra></extra>",
         "legendgroup": "Microids",
         "marker": {
          "color": "#B6E880",
          "size": [
           20
          ],
          "sizemode": "area",
          "sizeref": 1.49,
          "symbol": "circle"
         },
         "mode": "markers",
         "name": "Microids",
         "orientation": "v",
         "showlegend": true,
         "type": "scatter",
         "x": [
          6.635
         ],
         "xaxis": "x",
         "y": [
          3.582731029031913
         ],
         "yaxis": "y"
        },
        {
         "hovertemplate": "company=Microsoft<br>score=%{x}<br>score_deviation=%{y}<br>game=%{marker.size}<extra></extra>",
         "legendgroup": "Microsoft",
         "marker": {
          "color": "#FF97FF",
          "size": [
           244
          ],
          "sizemode": "area",
          "sizeref": 1.49,
          "symbol": "circle"
         },
         "mode": "markers",
         "name": "Microsoft",
         "orientation": "v",
         "showlegend": true,
         "type": "scatter",
         "x": [
          7.883196721311478
         ],
         "xaxis": "x",
         "y": [
          -7.725684824258828
         ],
         "yaxis": "y"
        },
        {
         "hovertemplate": "company=Milestone<br>score=%{x}<br>score_deviation=%{y}<br>game=%{marker.size}<extra></extra>",
         "legendgroup": "Milestone",
         "marker": {
          "color": "#FECB52",
          "size": [
           32
          ],
          "sizemode": "area",
          "sizeref": 1.49,
          "symbol": "circle"
         },
         "mode": "markers",
         "name": "Milestone",
         "orientation": "v",
         "showlegend": true,
         "type": "scatter",
         "x": [
          7.090625
         ],
         "xaxis": "x",
         "y": [
          2.2364773042758843
         ],
         "yaxis": "y"
        },
        {
         "hovertemplate": "company=NIS America<br>score=%{x}<br>score_deviation=%{y}<br>game=%{marker.size}<extra></extra>",
         "legendgroup": "NIS America",
         "marker": {
          "color": "#636efa",
          "size": [
           65
          ],
          "sizemode": "area",
          "sizeref": 1.49,
          "symbol": "circle"
         },
         "mode": "markers",
         "name": "NIS America",
         "orientation": "v",
         "showlegend": true,
         "type": "scatter",
         "x": [
          7.258461538461538
         ],
         "xaxis": "x",
         "y": [
          -2.8770819520090396
         ],
         "yaxis": "y"
        },
        {
         "hovertemplate": "company=Nintendo<br>score=%{x}<br>score_deviation=%{y}<br>game=%{marker.size}<extra></extra>",
         "legendgroup": "Nintendo",
         "marker": {
          "color": "#EF553B",
          "size": [
           596
          ],
          "sizemode": "area",
          "sizeref": 1.49,
          "symbol": "circle"
         },
         "mode": "markers",
         "name": "Nintendo",
         "orientation": "v",
         "showlegend": true,
         "type": "scatter",
         "x": [
          7.952516778523491
         ],
         "xaxis": "x",
         "y": [
          -7.1886052994714404
         ],
         "yaxis": "y"
        },
        {
         "hovertemplate": "company=Paradox Interactive<br>score=%{x}<br>score_deviation=%{y}<br>game=%{marker.size}<extra></extra>",
         "legendgroup": "Paradox Interactive",
         "marker": {
          "color": "#00cc96",
          "size": [
           67
          ],
          "sizemode": "area",
          "sizeref": 1.49,
          "symbol": "circle"
         },
         "mode": "markers",
         "name": "Paradox Interactive",
         "orientation": "v",
         "showlegend": true,
         "type": "scatter",
         "x": [
          7.740298507462687
         ],
         "xaxis": "x",
         "y": [
          -7.404904667647044
         ],
         "yaxis": "y"
        },
        {
         "hovertemplate": "company=Ratalaika Games<br>score=%{x}<br>score_deviation=%{y}<br>game=%{marker.size}<extra></extra>",
         "legendgroup": "Ratalaika Games",
         "marker": {
          "color": "#ab63fa",
          "size": [
           31
          ],
          "sizemode": "area",
          "sizeref": 1.49,
          "symbol": "circle"
         },
         "mode": "markers",
         "name": "Ratalaika Games",
         "orientation": "v",
         "showlegend": true,
         "type": "scatter",
         "x": [
          5.961290322580646
         ],
         "xaxis": "x",
         "y": [
          14.548143823286136
         ],
         "yaxis": "y"
        },
        {
         "hovertemplate": "company=Rebellion<br>score=%{x}<br>score_deviation=%{y}<br>game=%{marker.size}<extra></extra>",
         "legendgroup": "Rebellion",
         "marker": {
          "color": "#FFA15A",
          "size": [
           20
          ],
          "sizemode": "area",
          "sizeref": 1.49,
          "symbol": "circle"
         },
         "mode": "markers",
         "name": "Rebellion",
         "orientation": "v",
         "showlegend": true,
         "type": "scatter",
         "x": [
          7.095000000000001
         ],
         "xaxis": "x",
         "y": [
          -1.663862518901611
         ],
         "yaxis": "y"
        },
        {
         "hovertemplate": "company=Rising Star Games<br>score=%{x}<br>score_deviation=%{y}<br>game=%{marker.size}<extra></extra>",
         "legendgroup": "Rising Star Games",
         "marker": {
          "color": "#19d3f3",
          "size": [
           44
          ],
          "sizemode": "area",
          "sizeref": 1.49,
          "symbol": "circle"
         },
         "mode": "markers",
         "name": "Rising Star Games",
         "orientation": "v",
         "showlegend": true,
         "type": "scatter",
         "x": [
          6.922727272727273
         ],
         "xaxis": "x",
         "y": [
          0.7426581415256819
         ],
         "yaxis": "y"
        },
        {
         "hovertemplate": "company=Rockstar<br>score=%{x}<br>score_deviation=%{y}<br>game=%{marker.size}<extra></extra>",
         "legendgroup": "Rockstar",
         "marker": {
          "color": "#FF6692",
          "size": [
           41
          ],
          "sizemode": "area",
          "sizeref": 1.49,
          "symbol": "circle"
         },
         "mode": "markers",
         "name": "Rockstar",
         "orientation": "v",
         "showlegend": true,
         "type": "scatter",
         "x": [
          9.163414634146342
         ],
         "xaxis": "x",
         "y": [
          -19.263835871139747
         ],
         "yaxis": "y"
        },
        {
         "hovertemplate": "company=SEGA<br>score=%{x}<br>score_deviation=%{y}<br>game=%{marker.size}<extra></extra>",
         "legendgroup": "SEGA",
         "marker": {
          "color": "#B6E880",
          "size": [
           358
          ],
          "sizemode": "area",
          "sizeref": 1.49,
          "symbol": "circle"
         },
         "mode": "markers",
         "name": "SEGA",
         "orientation": "v",
         "showlegend": true,
         "type": "scatter",
         "x": [
          7.698882681564245
         ],
         "xaxis": "x",
         "y": [
          -4.677507450346215
         ],
         "yaxis": "y"
        },
        {
         "hovertemplate": "company=Sony<br>score=%{x}<br>score_deviation=%{y}<br>game=%{marker.size}<extra></extra>",
         "legendgroup": "Sony",
         "marker": {
          "color": "#FF97FF",
          "size": [
           425
          ],
          "sizemode": "area",
          "sizeref": 1.49,
          "symbol": "circle"
         },
         "mode": "markers",
         "name": "Sony",
         "orientation": "v",
         "showlegend": true,
         "type": "scatter",
         "x": [
          7.813176470588233
         ],
         "xaxis": "x",
         "y": [
          -7.377452920294839
         ],
         "yaxis": "y"
        },
        {
         "hovertemplate": "company=Square Enix<br>score=%{x}<br>score_deviation=%{y}<br>game=%{marker.size}<extra></extra>",
         "legendgroup": "Square Enix",
         "marker": {
          "color": "#FECB52",
          "size": [
           331
          ],
          "sizemode": "area",
          "sizeref": 1.49,
          "symbol": "circle"
         },
         "mode": "markers",
         "name": "Square Enix",
         "orientation": "v",
         "showlegend": true,
         "type": "scatter",
         "x": [
          7.759818731117822
         ],
         "xaxis": "x",
         "y": [
          -6.353752144157512
         ],
         "yaxis": "y"
        },
        {
         "hovertemplate": "company=THQ<br>score=%{x}<br>score_deviation=%{y}<br>game=%{marker.size}<extra></extra>",
         "legendgroup": "THQ",
         "marker": {
          "color": "#636efa",
          "size": [
           153
          ],
          "sizemode": "area",
          "sizeref": 1.49,
          "symbol": "circle"
         },
         "mode": "markers",
         "name": "THQ",
         "orientation": "v",
         "showlegend": true,
         "type": "scatter",
         "x": [
          7.265359477124184
         ],
         "xaxis": "x",
         "y": [
          -1.4790611772630817
         ],
         "yaxis": "y"
        },
        {
         "hovertemplate": "company=Take-Two Interactive<br>score=%{x}<br>score_deviation=%{y}<br>game=%{marker.size}<extra></extra>",
         "legendgroup": "Take-Two Interactive",
         "marker": {
          "color": "#EF553B",
          "size": [
           207
          ],
          "sizemode": "area",
          "sizeref": 1.49,
          "symbol": "circle"
         },
         "mode": "markers",
         "name": "Take-Two Interactive",
         "orientation": "v",
         "showlegend": true,
         "type": "scatter",
         "x": [
          8.079710144927537
         ],
         "xaxis": "x",
         "y": [
          -10.035210239905394
         ],
         "yaxis": "y"
        },
        {
         "hovertemplate": "company=Team17<br>score=%{x}<br>score_deviation=%{y}<br>game=%{marker.size}<extra></extra>",
         "legendgroup": "Team17",
         "marker": {
          "color": "#00cc96",
          "size": [
           55
          ],
          "sizemode": "area",
          "sizeref": 1.49,
          "symbol": "circle"
         },
         "mode": "markers",
         "name": "Team17",
         "orientation": "v",
         "showlegend": true,
         "type": "scatter",
         "x": [
          7.625454545454546
         ],
         "xaxis": "x",
         "y": [
          -2.622281389761526
         ],
         "yaxis": "y"
        },
        {
         "hovertemplate": "company=Telltale Games<br>score=%{x}<br>score_deviation=%{y}<br>game=%{marker.size}<extra></extra>",
         "legendgroup": "Telltale Games",
         "marker": {
          "color": "#ab63fa",
          "size": [
           91
          ],
          "sizemode": "area",
          "sizeref": 1.49,
          "symbol": "circle"
         },
         "mode": "markers",
         "name": "Telltale Games",
         "orientation": "v",
         "showlegend": true,
         "type": "scatter",
         "x": [
          7.610989010989009
         ],
         "xaxis": "x",
         "y": [
          -8.908471020306209
         ],
         "yaxis": "y"
        },
        {
         "hovertemplate": "company=Ubisoft<br>score=%{x}<br>score_deviation=%{y}<br>game=%{marker.size}<extra></extra>",
         "legendgroup": "Ubisoft",
         "marker": {
          "color": "#FFA15A",
          "size": [
           344
          ],
          "sizemode": "area",
          "sizeref": 1.49,
          "symbol": "circle"
         },
         "mode": "markers",
         "name": "Ubisoft",
         "orientation": "v",
         "showlegend": true,
         "type": "scatter",
         "x": [
          7.538372093023256
         ],
         "xaxis": "x",
         "y": [
          -4.516735703779384
         ],
         "yaxis": "y"
        },
        {
         "hovertemplate": "company=Warner Bros.<br>score=%{x}<br>score_deviation=%{y}<br>game=%{marker.size}<extra></extra>",
         "legendgroup": "Warner Bros.",
         "marker": {
          "color": "#19d3f3",
          "size": [
           143
          ],
          "sizemode": "area",
          "sizeref": 1.49,
          "symbol": "circle"
         },
         "mode": "markers",
         "name": "Warner Bros.",
         "orientation": "v",
         "showlegend": true,
         "type": "scatter",
         "x": [
          7.5622377622377615
         ],
         "xaxis": "x",
         "y": [
          -4.5538485739450225
         ],
         "yaxis": "y"
        }
       ],
       "layout": {
        "autosize": true,
        "legend": {
         "itemsizing": "constant",
         "title": {
          "text": "company"
         },
         "tracegroupgap": 0
        },
        "margin": {
         "t": 60
        },
        "paper_bgcolor": "rgba(0, 0, 0, 0)",
        "plot_bgcolor": "rgba(0, 0, 0, 0)",
        "template": {
         "data": {
          "bar": [
           {
            "error_x": {
             "color": "#2a3f5f"
            },
            "error_y": {
             "color": "#2a3f5f"
            },
            "marker": {
             "line": {
              "color": "#E5ECF6",
              "width": 0.5
             }
            },
            "type": "bar"
           }
          ],
          "barpolar": [
           {
            "marker": {
             "line": {
              "color": "#E5ECF6",
              "width": 0.5
             }
            },
            "type": "barpolar"
           }
          ],
          "carpet": [
           {
            "aaxis": {
             "endlinecolor": "#2a3f5f",
             "gridcolor": "white",
             "linecolor": "white",
             "minorgridcolor": "white",
             "startlinecolor": "#2a3f5f"
            },
            "baxis": {
             "endlinecolor": "#2a3f5f",
             "gridcolor": "white",
             "linecolor": "white",
             "minorgridcolor": "white",
             "startlinecolor": "#2a3f5f"
            },
            "type": "carpet"
           }
          ],
          "choropleth": [
           {
            "colorbar": {
             "outlinewidth": 0,
             "ticks": ""
            },
            "type": "choropleth"
           }
          ],
          "contour": [
           {
            "colorbar": {
             "outlinewidth": 0,
             "ticks": ""
            },
            "colorscale": [
             [
              0,
              "#0d0887"
             ],
             [
              0.1111111111111111,
              "#46039f"
             ],
             [
              0.2222222222222222,
              "#7201a8"
             ],
             [
              0.3333333333333333,
              "#9c179e"
             ],
             [
              0.4444444444444444,
              "#bd3786"
             ],
             [
              0.5555555555555556,
              "#d8576b"
             ],
             [
              0.6666666666666666,
              "#ed7953"
             ],
             [
              0.7777777777777778,
              "#fb9f3a"
             ],
             [
              0.8888888888888888,
              "#fdca26"
             ],
             [
              1,
              "#f0f921"
             ]
            ],
            "type": "contour"
           }
          ],
          "contourcarpet": [
           {
            "colorbar": {
             "outlinewidth": 0,
             "ticks": ""
            },
            "type": "contourcarpet"
           }
          ],
          "heatmap": [
           {
            "colorbar": {
             "outlinewidth": 0,
             "ticks": ""
            },
            "colorscale": [
             [
              0,
              "#0d0887"
             ],
             [
              0.1111111111111111,
              "#46039f"
             ],
             [
              0.2222222222222222,
              "#7201a8"
             ],
             [
              0.3333333333333333,
              "#9c179e"
             ],
             [
              0.4444444444444444,
              "#bd3786"
             ],
             [
              0.5555555555555556,
              "#d8576b"
             ],
             [
              0.6666666666666666,
              "#ed7953"
             ],
             [
              0.7777777777777778,
              "#fb9f3a"
             ],
             [
              0.8888888888888888,
              "#fdca26"
             ],
             [
              1,
              "#f0f921"
             ]
            ],
            "type": "heatmap"
           }
          ],
          "heatmapgl": [
           {
            "colorbar": {
             "outlinewidth": 0,
             "ticks": ""
            },
            "colorscale": [
             [
              0,
              "#0d0887"
             ],
             [
              0.1111111111111111,
              "#46039f"
             ],
             [
              0.2222222222222222,
              "#7201a8"
             ],
             [
              0.3333333333333333,
              "#9c179e"
             ],
             [
              0.4444444444444444,
              "#bd3786"
             ],
             [
              0.5555555555555556,
              "#d8576b"
             ],
             [
              0.6666666666666666,
              "#ed7953"
             ],
             [
              0.7777777777777778,
              "#fb9f3a"
             ],
             [
              0.8888888888888888,
              "#fdca26"
             ],
             [
              1,
              "#f0f921"
             ]
            ],
            "type": "heatmapgl"
           }
          ],
          "histogram": [
           {
            "marker": {
             "colorbar": {
              "outlinewidth": 0,
              "ticks": ""
             }
            },
            "type": "histogram"
           }
          ],
          "histogram2d": [
           {
            "colorbar": {
             "outlinewidth": 0,
             "ticks": ""
            },
            "colorscale": [
             [
              0,
              "#0d0887"
             ],
             [
              0.1111111111111111,
              "#46039f"
             ],
             [
              0.2222222222222222,
              "#7201a8"
             ],
             [
              0.3333333333333333,
              "#9c179e"
             ],
             [
              0.4444444444444444,
              "#bd3786"
             ],
             [
              0.5555555555555556,
              "#d8576b"
             ],
             [
              0.6666666666666666,
              "#ed7953"
             ],
             [
              0.7777777777777778,
              "#fb9f3a"
             ],
             [
              0.8888888888888888,
              "#fdca26"
             ],
             [
              1,
              "#f0f921"
             ]
            ],
            "type": "histogram2d"
           }
          ],
          "histogram2dcontour": [
           {
            "colorbar": {
             "outlinewidth": 0,
             "ticks": ""
            },
            "colorscale": [
             [
              0,
              "#0d0887"
             ],
             [
              0.1111111111111111,
              "#46039f"
             ],
             [
              0.2222222222222222,
              "#7201a8"
             ],
             [
              0.3333333333333333,
              "#9c179e"
             ],
             [
              0.4444444444444444,
              "#bd3786"
             ],
             [
              0.5555555555555556,
              "#d8576b"
             ],
             [
              0.6666666666666666,
              "#ed7953"
             ],
             [
              0.7777777777777778,
              "#fb9f3a"
             ],
             [
              0.8888888888888888,
              "#fdca26"
             ],
             [
              1,
              "#f0f921"
             ]
            ],
            "type": "histogram2dcontour"
           }
          ],
          "mesh3d": [
           {
            "colorbar": {
             "outlinewidth": 0,
             "ticks": ""
            },
            "type": "mesh3d"
           }
          ],
          "parcoords": [
           {
            "line": {
             "colorbar": {
              "outlinewidth": 0,
              "ticks": ""
             }
            },
            "type": "parcoords"
           }
          ],
          "pie": [
           {
            "automargin": true,
            "type": "pie"
           }
          ],
          "scatter": [
           {
            "marker": {
             "colorbar": {
              "outlinewidth": 0,
              "ticks": ""
             }
            },
            "type": "scatter"
           }
          ],
          "scatter3d": [
           {
            "line": {
             "colorbar": {
              "outlinewidth": 0,
              "ticks": ""
             }
            },
            "marker": {
             "colorbar": {
              "outlinewidth": 0,
              "ticks": ""
             }
            },
            "type": "scatter3d"
           }
          ],
          "scattercarpet": [
           {
            "marker": {
             "colorbar": {
              "outlinewidth": 0,
              "ticks": ""
             }
            },
            "type": "scattercarpet"
           }
          ],
          "scattergeo": [
           {
            "marker": {
             "colorbar": {
              "outlinewidth": 0,
              "ticks": ""
             }
            },
            "type": "scattergeo"
           }
          ],
          "scattergl": [
           {
            "marker": {
             "colorbar": {
              "outlinewidth": 0,
              "ticks": ""
             }
            },
            "type": "scattergl"
           }
          ],
          "scattermapbox": [
           {
            "marker": {
             "colorbar": {
              "outlinewidth": 0,
              "ticks": ""
             }
            },
            "type": "scattermapbox"
           }
          ],
          "scatterpolar": [
           {
            "marker": {
             "colorbar": {
              "outlinewidth": 0,
              "ticks": ""
             }
            },
            "type": "scatterpolar"
           }
          ],
          "scatterpolargl": [
           {
            "marker": {
             "colorbar": {
              "outlinewidth": 0,
              "ticks": ""
             }
            },
            "type": "scatterpolargl"
           }
          ],
          "scatterternary": [
           {
            "marker": {
             "colorbar": {
              "outlinewidth": 0,
              "ticks": ""
             }
            },
            "type": "scatterternary"
           }
          ],
          "surface": [
           {
            "colorbar": {
             "outlinewidth": 0,
             "ticks": ""
            },
            "colorscale": [
             [
              0,
              "#0d0887"
             ],
             [
              0.1111111111111111,
              "#46039f"
             ],
             [
              0.2222222222222222,
              "#7201a8"
             ],
             [
              0.3333333333333333,
              "#9c179e"
             ],
             [
              0.4444444444444444,
              "#bd3786"
             ],
             [
              0.5555555555555556,
              "#d8576b"
             ],
             [
              0.6666666666666666,
              "#ed7953"
             ],
             [
              0.7777777777777778,
              "#fb9f3a"
             ],
             [
              0.8888888888888888,
              "#fdca26"
             ],
             [
              1,
              "#f0f921"
             ]
            ],
            "type": "surface"
           }
          ],
          "table": [
           {
            "cells": {
             "fill": {
              "color": "#EBF0F8"
             },
             "line": {
              "color": "white"
             }
            },
            "header": {
             "fill": {
              "color": "#C8D4E3"
             },
             "line": {
              "color": "white"
             }
            },
            "type": "table"
           }
          ]
         },
         "layout": {
          "annotationdefaults": {
           "arrowcolor": "#2a3f5f",
           "arrowhead": 0,
           "arrowwidth": 1
          },
          "coloraxis": {
           "colorbar": {
            "outlinewidth": 0,
            "ticks": ""
           }
          },
          "colorscale": {
           "diverging": [
            [
             0,
             "#8e0152"
            ],
            [
             0.1,
             "#c51b7d"
            ],
            [
             0.2,
             "#de77ae"
            ],
            [
             0.3,
             "#f1b6da"
            ],
            [
             0.4,
             "#fde0ef"
            ],
            [
             0.5,
             "#f7f7f7"
            ],
            [
             0.6,
             "#e6f5d0"
            ],
            [
             0.7,
             "#b8e186"
            ],
            [
             0.8,
             "#7fbc41"
            ],
            [
             0.9,
             "#4d9221"
            ],
            [
             1,
             "#276419"
            ]
           ],
           "sequential": [
            [
             0,
             "#0d0887"
            ],
            [
             0.1111111111111111,
             "#46039f"
            ],
            [
             0.2222222222222222,
             "#7201a8"
            ],
            [
             0.3333333333333333,
             "#9c179e"
            ],
            [
             0.4444444444444444,
             "#bd3786"
            ],
            [
             0.5555555555555556,
             "#d8576b"
            ],
            [
             0.6666666666666666,
             "#ed7953"
            ],
            [
             0.7777777777777778,
             "#fb9f3a"
            ],
            [
             0.8888888888888888,
             "#fdca26"
            ],
            [
             1,
             "#f0f921"
            ]
           ],
           "sequentialminus": [
            [
             0,
             "#0d0887"
            ],
            [
             0.1111111111111111,
             "#46039f"
            ],
            [
             0.2222222222222222,
             "#7201a8"
            ],
            [
             0.3333333333333333,
             "#9c179e"
            ],
            [
             0.4444444444444444,
             "#bd3786"
            ],
            [
             0.5555555555555556,
             "#d8576b"
            ],
            [
             0.6666666666666666,
             "#ed7953"
            ],
            [
             0.7777777777777778,
             "#fb9f3a"
            ],
            [
             0.8888888888888888,
             "#fdca26"
            ],
            [
             1,
             "#f0f921"
            ]
           ]
          },
          "colorway": [
           "#636efa",
           "#EF553B",
           "#00cc96",
           "#ab63fa",
           "#FFA15A",
           "#19d3f3",
           "#FF6692",
           "#B6E880",
           "#FF97FF",
           "#FECB52"
          ],
          "font": {
           "color": "#2a3f5f"
          },
          "geo": {
           "bgcolor": "white",
           "lakecolor": "white",
           "landcolor": "#E5ECF6",
           "showlakes": true,
           "showland": true,
           "subunitcolor": "white"
          },
          "hoverlabel": {
           "align": "left"
          },
          "hovermode": "closest",
          "mapbox": {
           "style": "light"
          },
          "paper_bgcolor": "white",
          "plot_bgcolor": "#E5ECF6",
          "polar": {
           "angularaxis": {
            "gridcolor": "white",
            "linecolor": "white",
            "ticks": ""
           },
           "bgcolor": "#E5ECF6",
           "radialaxis": {
            "gridcolor": "white",
            "linecolor": "white",
            "ticks": ""
           }
          },
          "scene": {
           "xaxis": {
            "backgroundcolor": "#E5ECF6",
            "gridcolor": "white",
            "gridwidth": 2,
            "linecolor": "white",
            "showbackground": true,
            "ticks": "",
            "zerolinecolor": "white"
           },
           "yaxis": {
            "backgroundcolor": "#E5ECF6",
            "gridcolor": "white",
            "gridwidth": 2,
            "linecolor": "white",
            "showbackground": true,
            "ticks": "",
            "zerolinecolor": "white"
           },
           "zaxis": {
            "backgroundcolor": "#E5ECF6",
            "gridcolor": "white",
            "gridwidth": 2,
            "linecolor": "white",
            "showbackground": true,
            "ticks": "",
            "zerolinecolor": "white"
           }
          },
          "shapedefaults": {
           "line": {
            "color": "#2a3f5f"
           }
          },
          "ternary": {
           "aaxis": {
            "gridcolor": "white",
            "linecolor": "white",
            "ticks": ""
           },
           "baxis": {
            "gridcolor": "white",
            "linecolor": "white",
            "ticks": ""
           },
           "bgcolor": "#E5ECF6",
           "caxis": {
            "gridcolor": "white",
            "linecolor": "white",
            "ticks": ""
           }
          },
          "title": {
           "x": 0.05
          },
          "xaxis": {
           "automargin": true,
           "gridcolor": "white",
           "linecolor": "white",
           "ticks": "",
           "title": {
            "standoff": 15
           },
           "zerolinecolor": "white",
           "zerolinewidth": 2
          },
          "yaxis": {
           "automargin": true,
           "gridcolor": "white",
           "linecolor": "white",
           "ticks": "",
           "title": {
            "standoff": 15
           },
           "zerolinecolor": "white",
           "zerolinewidth": 2
          }
         }
        },
        "xaxis": {
         "anchor": "y",
         "autorange": true,
         "domain": [
          0,
          1
         ],
         "range": [
          5.773437141168922,
          9.352602365466435
         ],
         "title": {
          "text": "score"
         },
         "type": "linear"
        },
        "yaxis": {
         "anchor": "x",
         "autorange": true,
         "domain": [
          0,
          1
         ],
         "range": [
          -21.71291606907907,
          16.929782673496693
         ],
         "title": {
          "text": "score_deviation"
         },
         "type": "linear"
        }
       }
      },
      "image/png": "[encoded data removed]",
      "text/html": [
       "<div>                            <div id=\"939e58aa-de35-4711-b435-eccf6415bbe8\" class=\"plotly-graph-div\" style=\"height:525px; width:100%;\"></div>            <script type=\"text/javascript\">                require([\"plotly\"], function(Plotly) {                    window.PLOTLYENV=window.PLOTLYENV || {};                                    if (document.getElementById(\"939e58aa-de35-4711-b435-eccf6415bbe8\")) {                    Plotly.newPlot(                        \"939e58aa-de35-4711-b435-eccf6415bbe8\",                        [{\"hovertemplate\": \"company=505 Games<br>score=%{x}<br>score_deviation=%{y}<br>game=%{marker.size}<extra></extra>\", \"legendgroup\": \"505 Games\", \"marker\": {\"color\": \"#636efa\", \"size\": [100], \"sizemode\": \"area\", \"sizeref\": 1.49, \"symbol\": \"circle\"}, \"mode\": \"markers\", \"name\": \"505 Games\", \"orientation\": \"v\", \"showlegend\": true, \"type\": \"scatter\", \"x\": [7.080000000000002], \"xaxis\": \"x\", \"y\": [-0.896788679185942], \"yaxis\": \"y\"}, {\"hovertemplate\": \"company=Activision<br>score=%{x}<br>score_deviation=%{y}<br>game=%{marker.size}<extra></extra>\", \"legendgroup\": \"Activision\", \"marker\": {\"color\": \"#EF553B\", \"size\": [174], \"sizemode\": \"area\", \"sizeref\": 1.49, \"symbol\": \"circle\"}, \"mode\": \"markers\", \"name\": \"Activision\", \"orientation\": \"v\", \"showlegend\": true, \"type\": \"scatter\", \"x\": [7.449425287356321], \"xaxis\": \"x\", \"y\": [-3.2521069097539446], \"yaxis\": \"y\"}, {\"hovertemplate\": \"company=Annapurna Interactive<br>score=%{x}<br>score_deviation=%{y}<br>game=%{marker.size}<extra></extra>\", \"legendgroup\": \"Annapurna Interactive\", \"marker\": {\"color\": \"#00cc96\", \"size\": [23], \"sizemode\": \"area\", \"sizeref\": 1.49, \"symbol\": \"circle\"}, \"mode\": \"markers\", \"name\": \"Annapurna Interactive\", \"orientation\": \"v\", \"showlegend\": true, \"type\": \"scatter\", \"x\": [8.378260869565217], \"xaxis\": \"x\", \"y\": [-9.281125351310962], \"yaxis\": \"y\"}, {\"hovertemplate\": \"company=Arc System Works<br>score=%{x}<br>score_deviation=%{y}<br>game=%{marker.size}<extra></extra>\", \"legendgroup\": \"Arc System Works\", \"marker\": {\"color\": \"#ab63fa\", \"size\": [29], \"sizemode\": \"area\", \"sizeref\": 1.49, \"symbol\": \"circle\"}, \"mode\": \"markers\", \"name\": \"Arc System Works\", \"orientation\": \"v\", \"showlegend\": true, \"type\": \"scatter\", \"x\": [7.827586206896552], \"xaxis\": \"x\", \"y\": [-7.40341159785607], \"yaxis\": \"y\"}, {\"hovertemplate\": \"company=Atari<br>score=%{x}<br>score_deviation=%{y}<br>game=%{marker.size}<extra></extra>\", \"legendgroup\": \"Atari\", \"marker\": {\"color\": \"#FFA15A\", \"size\": [20], \"sizemode\": \"area\", \"sizeref\": 1.49, \"symbol\": \"circle\"}, \"mode\": \"markers\", \"name\": \"Atari\", \"orientation\": \"v\", \"showlegend\": true, \"type\": \"scatter\", \"x\": [6.615], \"xaxis\": \"x\", \"y\": [10.026677887427283], \"yaxis\": \"y\"}, {\"hovertemplate\": \"company=Atlus<br>score=%{x}<br>score_deviation=%{y}<br>game=%{marker.size}<extra></extra>\", \"legendgroup\": \"Atlus\", \"marker\": {\"color\": \"#19d3f3\", \"size\": [72], \"sizemode\": \"area\", \"sizeref\": 1.49, \"symbol\": \"circle\"}, \"mode\": \"markers\", \"name\": \"Atlus\", \"orientation\": \"v\", \"showlegend\": true, \"type\": \"scatter\", \"x\": [8.084722222222222], \"xaxis\": \"x\", \"y\": [-7.3069676177959515], \"yaxis\": \"y\"}, {\"hovertemplate\": \"company=Bandai Namco<br>score=%{x}<br>score_deviation=%{y}<br>game=%{marker.size}<extra></extra>\", \"legendgroup\": \"Bandai Namco\", \"marker\": {\"color\": \"#FF6692\", \"size\": [385], \"sizemode\": \"area\", \"sizeref\": 1.49, \"symbol\": \"circle\"}, \"mode\": \"markers\", \"name\": \"Bandai Namco\", \"orientation\": \"v\", \"showlegend\": true, \"type\": \"scatter\", \"x\": [7.332207792207792], \"xaxis\": \"x\", \"y\": [-1.8412263643646378], \"yaxis\": \"y\"}, {\"hovertemplate\": \"company=Bethesda<br>score=%{x}<br>score_deviation=%{y}<br>game=%{marker.size}<extra></extra>\", \"legendgroup\": \"Bethesda\", \"marker\": {\"color\": \"#B6E880\", \"size\": [123], \"sizemode\": \"area\", \"sizeref\": 1.49, \"symbol\": \"circle\"}, \"mode\": \"markers\", \"name\": \"Bethesda\", \"orientation\": \"v\", \"showlegend\": true, \"type\": \"scatter\", \"x\": [7.679674796747966], \"xaxis\": \"x\", \"y\": [-5.895798559833009], \"yaxis\": \"y\"}, {\"hovertemplate\": \"company=Bigben Interactive<br>score=%{x}<br>score_deviation=%{y}<br>game=%{marker.size}<extra></extra>\", \"legendgroup\": \"Bigben Interactive\", \"marker\": {\"color\": \"#FF97FF\", \"size\": [38], \"sizemode\": \"area\", \"sizeref\": 1.49, \"symbol\": \"circle\"}, \"mode\": \"markers\", \"name\": \"Bigben Interactive\", \"orientation\": \"v\", \"showlegend\": true, \"type\": \"scatter\", \"x\": [6.468421052631579], \"xaxis\": \"x\", \"y\": [5.197232428385678], \"yaxis\": \"y\"}, {\"hovertemplate\": \"company=Blizzard<br>score=%{x}<br>score_deviation=%{y}<br>game=%{marker.size}<extra></extra>\", \"legendgroup\": \"Blizzard\", \"marker\": {\"color\": \"#FECB52\", \"size\": [48], \"sizemode\": \"area\", \"sizeref\": 1.49, \"symbol\": \"circle\"}, \"mode\": \"markers\", \"name\": \"Blizzard\", \"orientation\": \"v\", \"showlegend\": true, \"type\": \"scatter\", \"x\": [8.4], \"xaxis\": \"x\", \"y\": [-11.019935711276412], \"yaxis\": \"y\"}, {\"hovertemplate\": \"company=Capcom<br>score=%{x}<br>score_deviation=%{y}<br>game=%{marker.size}<extra></extra>\", \"legendgroup\": \"Capcom\", \"marker\": {\"color\": \"#636efa\", \"size\": [270], \"sizemode\": \"area\", \"sizeref\": 1.49, \"symbol\": \"circle\"}, \"mode\": \"markers\", \"name\": \"Capcom\", \"orientation\": \"v\", \"showlegend\": true, \"type\": \"scatter\", \"x\": [7.780370370370371], \"xaxis\": \"x\", \"y\": [-6.780565738878026], \"yaxis\": \"y\"}, {\"hovertemplate\": \"company=Chillingo<br>score=%{x}<br>score_deviation=%{y}<br>game=%{marker.size}<extra></extra>\", \"legendgroup\": \"Chillingo\", \"marker\": {\"color\": \"#EF553B\", \"size\": [26], \"sizemode\": \"area\", \"sizeref\": 1.49, \"symbol\": \"circle\"}, \"mode\": \"markers\", \"name\": \"Chillingo\", \"orientation\": \"v\", \"showlegend\": true, \"type\": \"scatter\", \"x\": [7.380769230769231], \"xaxis\": \"x\", \"y\": [-1.773825948323765], \"yaxis\": \"y\"}, {\"hovertemplate\": \"company=Codemasters<br>score=%{x}<br>score_deviation=%{y}<br>game=%{marker.size}<extra></extra>\", \"legendgroup\": \"Codemasters\", \"marker\": {\"color\": \"#00cc96\", \"size\": [74], \"sizemode\": \"area\", \"sizeref\": 1.49, \"symbol\": \"circle\"}, \"mode\": \"markers\", \"name\": \"Codemasters\", \"orientation\": \"v\", \"showlegend\": true, \"type\": \"scatter\", \"x\": [7.691891891891893], \"xaxis\": \"x\", \"y\": [-6.907958832481603], \"yaxis\": \"y\"}, {\"hovertemplate\": \"company=Curve Digital<br>score=%{x}<br>score_deviation=%{y}<br>game=%{marker.size}<extra></extra>\", \"legendgroup\": \"Curve Digital\", \"marker\": {\"color\": \"#ab63fa\", \"size\": [29], \"sizemode\": \"area\", \"sizeref\": 1.49, \"symbol\": \"circle\"}, \"mode\": \"markers\", \"name\": \"Curve Digital\", \"orientation\": \"v\", \"showlegend\": true, \"type\": \"scatter\", \"x\": [6.931034482758621], \"xaxis\": \"x\", \"y\": [1.6166409424609582], \"yaxis\": \"y\"}, {\"hovertemplate\": \"company=D3 Publisher<br>score=%{x}<br>score_deviation=%{y}<br>game=%{marker.size}<extra></extra>\", \"legendgroup\": \"D3 Publisher\", \"marker\": {\"color\": \"#FFA15A\", \"size\": [20], \"sizemode\": \"area\", \"sizeref\": 1.49, \"symbol\": \"circle\"}, \"mode\": \"markers\", \"name\": \"D3 Publisher\", \"orientation\": \"v\", \"showlegend\": true, \"type\": \"scatter\", \"x\": [6.39], \"xaxis\": \"x\", \"y\": [4.834162245800178], \"yaxis\": \"y\"}, {\"hovertemplate\": \"company=Daedalic Entertainment<br>score=%{x}<br>score_deviation=%{y}<br>game=%{marker.size}<extra></extra>\", \"legendgroup\": \"Daedalic Entertainment\", \"marker\": {\"color\": \"#19d3f3\", \"size\": [53], \"sizemode\": \"area\", \"sizeref\": 1.49, \"symbol\": \"circle\"}, \"mode\": \"markers\", \"name\": \"Daedalic Entertainment\", \"orientation\": \"v\", \"showlegend\": true, \"type\": \"scatter\", \"x\": [7.413207547169811], \"xaxis\": \"x\", \"y\": [-6.911070262042958], \"yaxis\": \"y\"}, {\"hovertemplate\": \"company=Deep Silver<br>score=%{x}<br>score_deviation=%{y}<br>game=%{marker.size}<extra></extra>\", \"legendgroup\": \"Deep Silver\", \"marker\": {\"color\": \"#FF6692\", \"size\": [133], \"sizemode\": \"area\", \"sizeref\": 1.49, \"symbol\": \"circle\"}, \"mode\": \"markers\", \"name\": \"Deep Silver\", \"orientation\": \"v\", \"showlegend\": true, \"type\": \"scatter\", \"x\": [7.22781954887218], \"xaxis\": \"x\", \"y\": [-2.796682207419627], \"yaxis\": \"y\"}, {\"hovertemplate\": \"company=Devolver Digital<br>score=%{x}<br>score_deviation=%{y}<br>game=%{marker.size}<extra></extra>\", \"legendgroup\": \"Devolver Digital\", \"marker\": {\"color\": \"#B6E880\", \"size\": [110], \"sizemode\": \"area\", \"sizeref\": 1.49, \"symbol\": \"circle\"}, \"mode\": \"markers\", \"name\": \"Devolver Digital\", \"orientation\": \"v\", \"showlegend\": true, \"type\": \"scatter\", \"x\": [7.721818181818182], \"xaxis\": \"x\", \"y\": [-6.2276463968089795], \"yaxis\": \"y\"}, {\"hovertemplate\": \"company=Disney Interactive Studios<br>score=%{x}<br>score_deviation=%{y}<br>game=%{marker.size}<extra></extra>\", \"legendgroup\": \"Disney Interactive Studios\", \"marker\": {\"color\": \"#FF97FF\", \"size\": [27], \"sizemode\": \"area\", \"sizeref\": 1.49, \"symbol\": \"circle\"}, \"mode\": \"markers\", \"name\": \"Disney Interactive Studios\", \"orientation\": \"v\", \"showlegend\": true, \"type\": \"scatter\", \"x\": [7.011111111111112], \"xaxis\": \"x\", \"y\": [-1.663780554957026], \"yaxis\": \"y\"}, {\"hovertemplate\": \"company=EA<br>score=%{x}<br>score_deviation=%{y}<br>game=%{marker.size}<extra></extra>\", \"legendgroup\": \"EA\", \"marker\": {\"color\": \"#FECB52\", \"size\": [405], \"sizemode\": \"area\", \"sizeref\": 1.49, \"symbol\": \"circle\"}, \"mode\": \"markers\", \"name\": \"EA\", \"orientation\": \"v\", \"showlegend\": true, \"type\": \"scatter\", \"x\": [7.821975308641977], \"xaxis\": \"x\", \"y\": [-7.237147365023997], \"yaxis\": \"y\"}, {\"hovertemplate\": \"company=Eidos Interactive<br>score=%{x}<br>score_deviation=%{y}<br>game=%{marker.size}<extra></extra>\", \"legendgroup\": \"Eidos Interactive\", \"marker\": {\"color\": \"#636efa\", \"size\": [24], \"sizemode\": \"area\", \"sizeref\": 1.49, \"symbol\": \"circle\"}, \"mode\": \"markers\", \"name\": \"Eidos Interactive\", \"orientation\": \"v\", \"showlegend\": true, \"type\": \"scatter\", \"x\": [7.545833333333333], \"xaxis\": \"x\", \"y\": [-2.2269524959742335], \"yaxis\": \"y\"}, {\"hovertemplate\": \"company=Focus Home Interactive<br>score=%{x}<br>score_deviation=%{y}<br>game=%{marker.size}<extra></extra>\", \"legendgroup\": \"Focus Home Interactive\", \"marker\": {\"color\": \"#EF553B\", \"size\": [95], \"sizemode\": \"area\", \"sizeref\": 1.49, \"symbol\": \"circle\"}, \"mode\": \"markers\", \"name\": \"Focus Home Interactive\", \"orientation\": \"v\", \"showlegend\": true, \"type\": \"scatter\", \"x\": [7.206315789473682], \"xaxis\": \"x\", \"y\": [-4.186184883517346], \"yaxis\": \"y\"}, {\"hovertemplate\": \"company=Gameloft<br>score=%{x}<br>score_deviation=%{y}<br>game=%{marker.size}<extra></extra>\", \"legendgroup\": \"Gameloft\", \"marker\": {\"color\": \"#00cc96\", \"size\": [32], \"sizemode\": \"area\", \"sizeref\": 1.49, \"symbol\": \"circle\"}, \"mode\": \"markers\", \"name\": \"Gameloft\", \"orientation\": \"v\", \"showlegend\": true, \"type\": \"scatter\", \"x\": [7.621875], \"xaxis\": \"x\", \"y\": [0.18855644371148433], \"yaxis\": \"y\"}, {\"hovertemplate\": \"company=Kalypso Media<br>score=%{x}<br>score_deviation=%{y}<br>game=%{marker.size}<extra></extra>\", \"legendgroup\": \"Kalypso Media\", \"marker\": {\"color\": \"#ab63fa\", \"size\": [42], \"sizemode\": \"area\", \"sizeref\": 1.49, \"symbol\": \"circle\"}, \"mode\": \"markers\", \"name\": \"Kalypso Media\", \"orientation\": \"v\", \"showlegend\": true, \"type\": \"scatter\", \"x\": [7.023809523809524], \"xaxis\": \"x\", \"y\": [-0.8820833203849568], \"yaxis\": \"y\"}, {\"hovertemplate\": \"company=KoeTec<br>score=%{x}<br>score_deviation=%{y}<br>game=%{marker.size}<extra></extra>\", \"legendgroup\": \"KoeTec\", \"marker\": {\"color\": \"#FFA15A\", \"size\": [152], \"sizemode\": \"area\", \"sizeref\": 1.49, \"symbol\": \"circle\"}, \"mode\": \"markers\", \"name\": \"KoeTec\", \"orientation\": \"v\", \"showlegend\": true, \"type\": \"scatter\", \"x\": [7.2611842105263165], \"xaxis\": \"x\", \"y\": [-2.1200465804760604], \"yaxis\": \"y\"}, {\"hovertemplate\": \"company=Konami<br>score=%{x}<br>score_deviation=%{y}<br>game=%{marker.size}<extra></extra>\", \"legendgroup\": \"Konami\", \"marker\": {\"color\": \"#19d3f3\", \"size\": [161], \"sizemode\": \"area\", \"sizeref\": 1.49, \"symbol\": \"circle\"}, \"mode\": \"markers\", \"name\": \"Konami\", \"orientation\": \"v\", \"showlegend\": true, \"type\": \"scatter\", \"x\": [7.270186335403728], \"xaxis\": \"x\", \"y\": [-4.377924494768665], \"yaxis\": \"y\"}, {\"hovertemplate\": \"company=Level-5<br>score=%{x}<br>score_deviation=%{y}<br>game=%{marker.size}<extra></extra>\", \"legendgroup\": \"Level-5\", \"marker\": {\"color\": \"#FF6692\", \"size\": [23], \"sizemode\": \"area\", \"sizeref\": 1.49, \"symbol\": \"circle\"}, \"mode\": \"markers\", \"name\": \"Level-5\", \"orientation\": \"v\", \"showlegend\": true, \"type\": \"scatter\", \"x\": [7.469565217391305], \"xaxis\": \"x\", \"y\": [-3.9553898898696302], \"yaxis\": \"y\"}, {\"hovertemplate\": \"company=Microids<br>score=%{x}<br>score_deviation=%{y}<br>game=%{marker.size}<extra></extra>\", \"legendgroup\": \"Microids\", \"marker\": {\"color\": \"#B6E880\", \"size\": [20], \"sizemode\": \"area\", \"sizeref\": 1.49, \"symbol\": \"circle\"}, \"mode\": \"markers\", \"name\": \"Microids\", \"orientation\": \"v\", \"showlegend\": true, \"type\": \"scatter\", \"x\": [6.635], \"xaxis\": \"x\", \"y\": [3.582731029031913], \"yaxis\": \"y\"}, {\"hovertemplate\": \"company=Microsoft<br>score=%{x}<br>score_deviation=%{y}<br>game=%{marker.size}<extra></extra>\", \"legendgroup\": \"Microsoft\", \"marker\": {\"color\": \"#FF97FF\", \"size\": [244], \"sizemode\": \"area\", \"sizeref\": 1.49, \"symbol\": \"circle\"}, \"mode\": \"markers\", \"name\": \"Microsoft\", \"orientation\": \"v\", \"showlegend\": true, \"type\": \"scatter\", \"x\": [7.883196721311478], \"xaxis\": \"x\", \"y\": [-7.725684824258828], \"yaxis\": \"y\"}, {\"hovertemplate\": \"company=Milestone<br>score=%{x}<br>score_deviation=%{y}<br>game=%{marker.size}<extra></extra>\", \"legendgroup\": \"Milestone\", \"marker\": {\"color\": \"#FECB52\", \"size\": [32], \"sizemode\": \"area\", \"sizeref\": 1.49, \"symbol\": \"circle\"}, \"mode\": \"markers\", \"name\": \"Milestone\", \"orientation\": \"v\", \"showlegend\": true, \"type\": \"scatter\", \"x\": [7.090625], \"xaxis\": \"x\", \"y\": [2.2364773042758843], \"yaxis\": \"y\"}, {\"hovertemplate\": \"company=NIS America<br>score=%{x}<br>score_deviation=%{y}<br>game=%{marker.size}<extra></extra>\", \"legendgroup\": \"NIS America\", \"marker\": {\"color\": \"#636efa\", \"size\": [65], \"sizemode\": \"area\", \"sizeref\": 1.49, \"symbol\": \"circle\"}, \"mode\": \"markers\", \"name\": \"NIS America\", \"orientation\": \"v\", \"showlegend\": true, \"type\": \"scatter\", \"x\": [7.258461538461538], \"xaxis\": \"x\", \"y\": [-2.8770819520090396], \"yaxis\": \"y\"}, {\"hovertemplate\": \"company=Nintendo<br>score=%{x}<br>score_deviation=%{y}<br>game=%{marker.size}<extra></extra>\", \"legendgroup\": \"Nintendo\", \"marker\": {\"color\": \"#EF553B\", \"size\": [596], \"sizemode\": \"area\", \"sizeref\": 1.49, \"symbol\": \"circle\"}, \"mode\": \"markers\", \"name\": \"Nintendo\", \"orientation\": \"v\", \"showlegend\": true, \"type\": \"scatter\", \"x\": [7.952516778523491], \"xaxis\": \"x\", \"y\": [-7.1886052994714404], \"yaxis\": \"y\"}, {\"hovertemplate\": \"company=Paradox Interactive<br>score=%{x}<br>score_deviation=%{y}<br>game=%{marker.size}<extra></extra>\", \"legendgroup\": \"Paradox Interactive\", \"marker\": {\"color\": \"#00cc96\", \"size\": [67], \"sizemode\": \"area\", \"sizeref\": 1.49, \"symbol\": \"circle\"}, \"mode\": \"markers\", \"name\": \"Paradox Interactive\", \"orientation\": \"v\", \"showlegend\": true, \"type\": \"scatter\", \"x\": [7.740298507462687], \"xaxis\": \"x\", \"y\": [-7.404904667647044], \"yaxis\": \"y\"}, {\"hovertemplate\": \"company=Ratalaika Games<br>score=%{x}<br>score_deviation=%{y}<br>game=%{marker.size}<extra></extra>\", \"legendgroup\": \"Ratalaika Games\", \"marker\": {\"color\": \"#ab63fa\", \"size\": [31], \"sizemode\": \"area\", \"sizeref\": 1.49, \"symbol\": \"circle\"}, \"mode\": \"markers\", \"name\": \"Ratalaika Games\", \"orientation\": \"v\", \"showlegend\": true, \"type\": \"scatter\", \"x\": [5.961290322580646], \"xaxis\": \"x\", \"y\": [14.548143823286136], \"yaxis\": \"y\"}, {\"hovertemplate\": \"company=Rebellion<br>score=%{x}<br>score_deviation=%{y}<br>game=%{marker.size}<extra></extra>\", \"legendgroup\": \"Rebellion\", \"marker\": {\"color\": \"#FFA15A\", \"size\": [20], \"sizemode\": \"area\", \"sizeref\": 1.49, \"symbol\": \"circle\"}, \"mode\": \"markers\", \"name\": \"Rebellion\", \"orientation\": \"v\", \"showlegend\": true, \"type\": \"scatter\", \"x\": [7.095000000000001], \"xaxis\": \"x\", \"y\": [-1.663862518901611], \"yaxis\": \"y\"}, {\"hovertemplate\": \"company=Rising Star Games<br>score=%{x}<br>score_deviation=%{y}<br>game=%{marker.size}<extra></extra>\", \"legendgroup\": \"Rising Star Games\", \"marker\": {\"color\": \"#19d3f3\", \"size\": [44], \"sizemode\": \"area\", \"sizeref\": 1.49, \"symbol\": \"circle\"}, \"mode\": \"markers\", \"name\": \"Rising Star Games\", \"orientation\": \"v\", \"showlegend\": true, \"type\": \"scatter\", \"x\": [6.922727272727273], \"xaxis\": \"x\", \"y\": [0.7426581415256819], \"yaxis\": \"y\"}, {\"hovertemplate\": \"company=Rockstar<br>score=%{x}<br>score_deviation=%{y}<br>game=%{marker.size}<extra></extra>\", \"legendgroup\": \"Rockstar\", \"marker\": {\"color\": \"#FF6692\", \"size\": [41], \"sizemode\": \"area\", \"sizeref\": 1.49, \"symbol\": \"circle\"}, \"mode\": \"markers\", \"name\": \"Rockstar\", \"orientation\": \"v\", \"showlegend\": true, \"type\": \"scatter\", \"x\": [9.163414634146342], \"xaxis\": \"x\", \"y\": [-19.263835871139747], \"yaxis\": \"y\"}, {\"hovertemplate\": \"company=SEGA<br>score=%{x}<br>score_deviation=%{y}<br>game=%{marker.size}<extra></extra>\", \"legendgroup\": \"SEGA\", \"marker\": {\"color\": \"#B6E880\", \"size\": [358], \"sizemode\": \"area\", \"sizeref\": 1.49, \"symbol\": \"circle\"}, \"mode\": \"markers\", \"name\": \"SEGA\", \"orientation\": \"v\", \"showlegend\": true, \"type\": \"scatter\", \"x\": [7.698882681564245], \"xaxis\": \"x\", \"y\": [-4.677507450346215], \"yaxis\": \"y\"}, {\"hovertemplate\": \"company=Sony<br>score=%{x}<br>score_deviation=%{y}<br>game=%{marker.size}<extra></extra>\", \"legendgroup\": \"Sony\", \"marker\": {\"color\": \"#FF97FF\", \"size\": [425], \"sizemode\": \"area\", \"sizeref\": 1.49, \"symbol\": \"circle\"}, \"mode\": \"markers\", \"name\": \"Sony\", \"orientation\": \"v\", \"showlegend\": true, \"type\": \"scatter\", \"x\": [7.813176470588233], \"xaxis\": \"x\", \"y\": [-7.377452920294839], \"yaxis\": \"y\"}, {\"hovertemplate\": \"company=Square Enix<br>score=%{x}<br>score_deviation=%{y}<br>game=%{marker.size}<extra></extra>\", \"legendgroup\": \"Square Enix\", \"marker\": {\"color\": \"#FECB52\", \"size\": [331], \"sizemode\": \"area\", \"sizeref\": 1.49, \"symbol\": \"circle\"}, \"mode\": \"markers\", \"name\": \"Square Enix\", \"orientation\": \"v\", \"showlegend\": true, \"type\": \"scatter\", \"x\": [7.759818731117822], \"xaxis\": \"x\", \"y\": [-6.353752144157512], \"yaxis\": \"y\"}, {\"hovertemplate\": \"company=THQ<br>score=%{x}<br>score_deviation=%{y}<br>game=%{marker.size}<extra></extra>\", \"legendgroup\": \"THQ\", \"marker\": {\"color\": \"#636efa\", \"size\": [153], \"sizemode\": \"area\", \"sizeref\": 1.49, \"symbol\": \"circle\"}, \"mode\": \"markers\", \"name\": \"THQ\", \"orientation\": \"v\", \"showlegend\": true, \"type\": \"scatter\", \"x\": [7.265359477124184], \"xaxis\": \"x\", \"y\": [-1.4790611772630817], \"yaxis\": \"y\"}, {\"hovertemplate\": \"company=Take-Two Interactive<br>score=%{x}<br>score_deviation=%{y}<br>game=%{marker.size}<extra></extra>\", \"legendgroup\": \"Take-Two Interactive\", \"marker\": {\"color\": \"#EF553B\", \"size\": [207], \"sizemode\": \"area\", \"sizeref\": 1.49, \"symbol\": \"circle\"}, \"mode\": \"markers\", \"name\": \"Take-Two Interactive\", \"orientation\": \"v\", \"showlegend\": true, \"type\": \"scatter\", \"x\": [8.079710144927537], \"xaxis\": \"x\", \"y\": [-10.035210239905394], \"yaxis\": \"y\"}, {\"hovertemplate\": \"company=Team17<br>score=%{x}<br>score_deviation=%{y}<br>game=%{marker.size}<extra></extra>\", \"legendgroup\": \"Team17\", \"marker\": {\"color\": \"#00cc96\", \"size\": [55], \"sizemode\": \"area\", \"sizeref\": 1.49, \"symbol\": \"circle\"}, \"mode\": \"markers\", \"name\": \"Team17\", \"orientation\": \"v\", \"showlegend\": true, \"type\": \"scatter\", \"x\": [7.625454545454546], \"xaxis\": \"x\", \"y\": [-2.622281389761526], \"yaxis\": \"y\"}, {\"hovertemplate\": \"company=Telltale Games<br>score=%{x}<br>score_deviation=%{y}<br>game=%{marker.size}<extra></extra>\", \"legendgroup\": \"Telltale Games\", \"marker\": {\"color\": \"#ab63fa\", \"size\": [91], \"sizemode\": \"area\", \"sizeref\": 1.49, \"symbol\": \"circle\"}, \"mode\": \"markers\", \"name\": \"Telltale Games\", \"orientation\": \"v\", \"showlegend\": true, \"type\": \"scatter\", \"x\": [7.610989010989009], \"xaxis\": \"x\", \"y\": [-8.908471020306209], \"yaxis\": \"y\"}, {\"hovertemplate\": \"company=Ubisoft<br>score=%{x}<br>score_deviation=%{y}<br>game=%{marker.size}<extra></extra>\", \"legendgroup\": \"Ubisoft\", \"marker\": {\"color\": \"#FFA15A\", \"size\": [344], \"sizemode\": \"area\", \"sizeref\": 1.49, \"symbol\": \"circle\"}, \"mode\": \"markers\", \"name\": \"Ubisoft\", \"orientation\": \"v\", \"showlegend\": true, \"type\": \"scatter\", \"x\": [7.538372093023256], \"xaxis\": \"x\", \"y\": [-4.516735703779384], \"yaxis\": \"y\"}, {\"hovertemplate\": \"company=Warner Bros.<br>score=%{x}<br>score_deviation=%{y}<br>game=%{marker.size}<extra></extra>\", \"legendgroup\": \"Warner Bros.\", \"marker\": {\"color\": \"#19d3f3\", \"size\": [143], \"sizemode\": \"area\", \"sizeref\": 1.49, \"symbol\": \"circle\"}, \"mode\": \"markers\", \"name\": \"Warner Bros.\", \"orientation\": \"v\", \"showlegend\": true, \"type\": \"scatter\", \"x\": [7.5622377622377615], \"xaxis\": \"x\", \"y\": [-4.5538485739450225], \"yaxis\": \"y\"}],                        {\"legend\": {\"itemsizing\": \"constant\", \"title\": {\"text\": \"company\"}, \"tracegroupgap\": 0}, \"margin\": {\"t\": 60}, \"paper_bgcolor\": \"rgba(0, 0, 0, 0)\", \"plot_bgcolor\": \"rgba(0, 0, 0, 0)\", \"template\": {\"data\": {\"bar\": [{\"error_x\": {\"color\": \"#2a3f5f\"}, \"error_y\": {\"color\": \"#2a3f5f\"}, \"marker\": {\"line\": {\"color\": \"#E5ECF6\", \"width\": 0.5}}, \"type\": \"bar\"}], \"barpolar\": [{\"marker\": {\"line\": {\"color\": \"#E5ECF6\", \"width\": 0.5}}, \"type\": \"barpolar\"}], \"carpet\": [{\"aaxis\": {\"endlinecolor\": \"#2a3f5f\", \"gridcolor\": \"white\", \"linecolor\": \"white\", \"minorgridcolor\": \"white\", \"startlinecolor\": \"#2a3f5f\"}, \"baxis\": {\"endlinecolor\": \"#2a3f5f\", \"gridcolor\": \"white\", \"linecolor\": \"white\", \"minorgridcolor\": \"white\", \"startlinecolor\": \"#2a3f5f\"}, \"type\": \"carpet\"}], \"choropleth\": [{\"colorbar\": {\"outlinewidth\": 0, \"ticks\": \"\"}, \"type\": \"choropleth\"}], \"contour\": [{\"colorbar\": {\"outlinewidth\": 0, \"ticks\": \"\"}, \"colorscale\": [[0.0, \"#0d0887\"], [0.1111111111111111, \"#46039f\"], [0.2222222222222222, \"#7201a8\"], [0.3333333333333333, \"#9c179e\"], [0.4444444444444444, \"#bd3786\"], [0.5555555555555556, \"#d8576b\"], [0.6666666666666666, \"#ed7953\"], [0.7777777777777778, \"#fb9f3a\"], [0.8888888888888888, \"#fdca26\"], [1.0, \"#f0f921\"]], \"type\": \"contour\"}], \"contourcarpet\": [{\"colorbar\": {\"outlinewidth\": 0, \"ticks\": \"\"}, \"type\": \"contourcarpet\"}], \"heatmap\": [{\"colorbar\": {\"outlinewidth\": 0, \"ticks\": \"\"}, \"colorscale\": [[0.0, \"#0d0887\"], [0.1111111111111111, \"#46039f\"], [0.2222222222222222, \"#7201a8\"], [0.3333333333333333, \"#9c179e\"], [0.4444444444444444, \"#bd3786\"], [0.5555555555555556, \"#d8576b\"], [0.6666666666666666, \"#ed7953\"], [0.7777777777777778, \"#fb9f3a\"], [0.8888888888888888, \"#fdca26\"], [1.0, \"#f0f921\"]], \"type\": \"heatmap\"}], \"heatmapgl\": [{\"colorbar\": {\"outlinewidth\": 0, \"ticks\": \"\"}, \"colorscale\": [[0.0, \"#0d0887\"], [0.1111111111111111, \"#46039f\"], [0.2222222222222222, \"#7201a8\"], [0.3333333333333333, \"#9c179e\"], [0.4444444444444444, \"#bd3786\"], [0.5555555555555556, \"#d8576b\"], [0.6666666666666666, \"#ed7953\"], [0.7777777777777778, \"#fb9f3a\"], [0.8888888888888888, \"#fdca26\"], [1.0, \"#f0f921\"]], \"type\": \"heatmapgl\"}], \"histogram\": [{\"marker\": {\"colorbar\": {\"outlinewidth\": 0, \"ticks\": \"\"}}, \"type\": \"histogram\"}], \"histogram2d\": [{\"colorbar\": {\"outlinewidth\": 0, \"ticks\": \"\"}, \"colorscale\": [[0.0, \"#0d0887\"], [0.1111111111111111, \"#46039f\"], [0.2222222222222222, \"#7201a8\"], [0.3333333333333333, \"#9c179e\"], [0.4444444444444444, \"#bd3786\"], [0.5555555555555556, \"#d8576b\"], [0.6666666666666666, \"#ed7953\"], [0.7777777777777778, \"#fb9f3a\"], [0.8888888888888888, \"#fdca26\"], [1.0, \"#f0f921\"]], \"type\": \"histogram2d\"}], \"histogram2dcontour\": [{\"colorbar\": {\"outlinewidth\": 0, \"ticks\": \"\"}, \"colorscale\": [[0.0, \"#0d0887\"], [0.1111111111111111, \"#46039f\"], [0.2222222222222222, \"#7201a8\"], [0.3333333333333333, \"#9c179e\"], [0.4444444444444444, \"#bd3786\"], [0.5555555555555556, \"#d8576b\"], [0.6666666666666666, \"#ed7953\"], [0.7777777777777778, \"#fb9f3a\"], [0.8888888888888888, \"#fdca26\"], [1.0, \"#f0f921\"]], \"type\": \"histogram2dcontour\"}], \"mesh3d\": [{\"colorbar\": {\"outlinewidth\": 0, \"ticks\": \"\"}, \"type\": \"mesh3d\"}], \"parcoords\": [{\"line\": {\"colorbar\": {\"outlinewidth\": 0, \"ticks\": \"\"}}, \"type\": \"parcoords\"}], \"pie\": [{\"automargin\": true, \"type\": \"pie\"}], \"scatter\": [{\"marker\": {\"colorbar\": {\"outlinewidth\": 0, \"ticks\": \"\"}}, \"type\": \"scatter\"}], \"scatter3d\": [{\"line\": {\"colorbar\": {\"outlinewidth\": 0, \"ticks\": \"\"}}, \"marker\": {\"colorbar\": {\"outlinewidth\": 0, \"ticks\": \"\"}}, \"type\": \"scatter3d\"}], \"scattercarpet\": [{\"marker\": {\"colorbar\": {\"outlinewidth\": 0, \"ticks\": \"\"}}, \"type\": \"scattercarpet\"}], \"scattergeo\": [{\"marker\": {\"colorbar\": {\"outlinewidth\": 0, \"ticks\": \"\"}}, \"type\": \"scattergeo\"}], \"scattergl\": [{\"marker\": {\"colorbar\": {\"outlinewidth\": 0, \"ticks\": \"\"}}, \"type\": \"scattergl\"}], \"scattermapbox\": [{\"marker\": {\"colorbar\": {\"outlinewidth\": 0, \"ticks\": \"\"}}, \"type\": \"scattermapbox\"}], \"scatterpolar\": [{\"marker\": {\"colorbar\": {\"outlinewidth\": 0, \"ticks\": \"\"}}, \"type\": \"scatterpolar\"}], \"scatterpolargl\": [{\"marker\": {\"colorbar\": {\"outlinewidth\": 0, \"ticks\": \"\"}}, \"type\": \"scatterpolargl\"}], \"scatterternary\": [{\"marker\": {\"colorbar\": {\"outlinewidth\": 0, \"ticks\": \"\"}}, \"type\": \"scatterternary\"}], \"surface\": [{\"colorbar\": {\"outlinewidth\": 0, \"ticks\": \"\"}, \"colorscale\": [[0.0, \"#0d0887\"], [0.1111111111111111, \"#46039f\"], [0.2222222222222222, \"#7201a8\"], [0.3333333333333333, \"#9c179e\"], [0.4444444444444444, \"#bd3786\"], [0.5555555555555556, \"#d8576b\"], [0.6666666666666666, \"#ed7953\"], [0.7777777777777778, \"#fb9f3a\"], [0.8888888888888888, \"#fdca26\"], [1.0, \"#f0f921\"]], \"type\": \"surface\"}], \"table\": [{\"cells\": {\"fill\": {\"color\": \"#EBF0F8\"}, \"line\": {\"color\": \"white\"}}, \"header\": {\"fill\": {\"color\": \"#C8D4E3\"}, \"line\": {\"color\": \"white\"}}, \"type\": \"table\"}]}, \"layout\": {\"annotationdefaults\": {\"arrowcolor\": \"#2a3f5f\", \"arrowhead\": 0, \"arrowwidth\": 1}, \"coloraxis\": {\"colorbar\": {\"outlinewidth\": 0, \"ticks\": \"\"}}, \"colorscale\": {\"diverging\": [[0, \"#8e0152\"], [0.1, \"#c51b7d\"], [0.2, \"#de77ae\"], [0.3, \"#f1b6da\"], [0.4, \"#fde0ef\"], [0.5, \"#f7f7f7\"], [0.6, \"#e6f5d0\"], [0.7, \"#b8e186\"], [0.8, \"#7fbc41\"], [0.9, \"#4d9221\"], [1, \"#276419\"]], \"sequential\": [[0.0, \"#0d0887\"], [0.1111111111111111, \"#46039f\"], [0.2222222222222222, \"#7201a8\"], [0.3333333333333333, \"#9c179e\"], [0.4444444444444444, \"#bd3786\"], [0.5555555555555556, \"#d8576b\"], [0.6666666666666666, \"#ed7953\"], [0.7777777777777778, \"#fb9f3a\"], [0.8888888888888888, \"#fdca26\"], [1.0, \"#f0f921\"]], \"sequentialminus\": [[0.0, \"#0d0887\"], [0.1111111111111111, \"#46039f\"], [0.2222222222222222, \"#7201a8\"], [0.3333333333333333, \"#9c179e\"], [0.4444444444444444, \"#bd3786\"], [0.5555555555555556, \"#d8576b\"], [0.6666666666666666, \"#ed7953\"], [0.7777777777777778, \"#fb9f3a\"], [0.8888888888888888, \"#fdca26\"], [1.0, \"#f0f921\"]]}, \"colorway\": [\"#636efa\", \"#EF553B\", \"#00cc96\", \"#ab63fa\", \"#FFA15A\", \"#19d3f3\", \"#FF6692\", \"#B6E880\", \"#FF97FF\", \"#FECB52\"], \"font\": {\"color\": \"#2a3f5f\"}, \"geo\": {\"bgcolor\": \"white\", \"lakecolor\": \"white\", \"landcolor\": \"#E5ECF6\", \"showlakes\": true, \"showland\": true, \"subunitcolor\": \"white\"}, \"hoverlabel\": {\"align\": \"left\"}, \"hovermode\": \"closest\", \"mapbox\": {\"style\": \"light\"}, \"paper_bgcolor\": \"white\", \"plot_bgcolor\": \"#E5ECF6\", \"polar\": {\"angularaxis\": {\"gridcolor\": \"white\", \"linecolor\": \"white\", \"ticks\": \"\"}, \"bgcolor\": \"#E5ECF6\", \"radialaxis\": {\"gridcolor\": \"white\", \"linecolor\": \"white\", \"ticks\": \"\"}}, \"scene\": {\"xaxis\": {\"backgroundcolor\": \"#E5ECF6\", \"gridcolor\": \"white\", \"gridwidth\": 2, \"linecolor\": \"white\", \"showbackground\": true, \"ticks\": \"\", \"zerolinecolor\": \"white\"}, \"yaxis\": {\"backgroundcolor\": \"#E5ECF6\", \"gridcolor\": \"white\", \"gridwidth\": 2, \"linecolor\": \"white\", \"showbackground\": true, \"ticks\": \"\", \"zerolinecolor\": \"white\"}, \"zaxis\": {\"backgroundcolor\": \"#E5ECF6\", \"gridcolor\": \"white\", \"gridwidth\": 2, \"linecolor\": \"white\", \"showbackground\": true, \"ticks\": \"\", \"zerolinecolor\": \"white\"}}, \"shapedefaults\": {\"line\": {\"color\": \"#2a3f5f\"}}, \"ternary\": {\"aaxis\": {\"gridcolor\": \"white\", \"linecolor\": \"white\", \"ticks\": \"\"}, \"baxis\": {\"gridcolor\": \"white\", \"linecolor\": \"white\", \"ticks\": \"\"}, \"bgcolor\": \"#E5ECF6\", \"caxis\": {\"gridcolor\": \"white\", \"linecolor\": \"white\", \"ticks\": \"\"}}, \"title\": {\"x\": 0.05}, \"xaxis\": {\"automargin\": true, \"gridcolor\": \"white\", \"linecolor\": \"white\", \"ticks\": \"\", \"title\": {\"standoff\": 15}, \"zerolinecolor\": \"white\", \"zerolinewidth\": 2}, \"yaxis\": {\"automargin\": true, \"gridcolor\": \"white\", \"linecolor\": \"white\", \"ticks\": \"\", \"title\": {\"standoff\": 15}, \"zerolinecolor\": \"white\", \"zerolinewidth\": 2}}}, \"xaxis\": {\"anchor\": \"y\", \"domain\": [0.0, 1.0], \"title\": {\"text\": \"score\"}}, \"yaxis\": {\"anchor\": \"x\", \"domain\": [0.0, 1.0], \"title\": {\"text\": \"score_deviation\"}}},                        {\"responsive\": true}                    ).then(function(){\n",
       "                            \n",
       "var gd = document.getElementById('939e58aa-de35-4711-b435-eccf6415bbe8');\n",
       "var x = new MutationObserver(function (mutations, observer) {{\n",
       "        var display = window.getComputedStyle(gd).display;\n",
       "        if (!display || display === 'none') {{\n",
       "            console.log([gd, 'removed!']);\n",
       "            Plotly.purge(gd);\n",
       "            observer.disconnect();\n",
       "        }}\n",
       "}});\n",
       "\n",
       "// Listen for the removal of the full notebook cells\n",
       "var notebookContainer = gd.closest('#notebook-container');\n",
       "if (notebookContainer) {{\n",
       "    x.observe(notebookContainer, {childList: true});\n",
       "}}\n",
       "\n",
       "// Listen for the clearing of the current output cell\n",
       "var outputEl = gd.closest('.output');\n",
       "if (outputEl) {{\n",
       "    x.observe(outputEl, {childList: true});\n",
       "}}\n",
       "\n",
       "                        })                };                });            </script>        </div>"
      ]
     },
     "metadata": {},
     "output_type": "display_data"
    }
   ],
   "source": [
    "#size='petal_length', hover_data=['petal_width']\n",
    "fig = px.scatter(companies_df, x=\"score\", y=\"score_deviation\", color=\"company\", size='game')\n",
    "fig.update_layout({'plot_bgcolor': 'rgba(0, 0, 0, 0)', 'paper_bgcolor': 'rgba(0, 0, 0, 0)'})\n",
    "fig.show()"
   ]
  },
  {
   "cell_type": "code",
   "execution_count": 68,
   "metadata": {},
   "outputs": [
    {
     "data": {
      "text/html": [
       "<div>\n",
       "<style scoped>\n",
       "    .dataframe tbody tr th:only-of-type {\n",
       "        vertical-align: middle;\n",
       "    }\n",
       "\n",
       "    .dataframe tbody tr th {\n",
       "        vertical-align: top;\n",
       "    }\n",
       "\n",
       "    .dataframe thead th {\n",
       "        text-align: right;\n",
       "    }\n",
       "</style>\n",
       "<table border=\"1\" class=\"dataframe\">\n",
       "  <thead>\n",
       "    <tr style=\"text-align: right;\">\n",
       "      <th></th>\n",
       "      <th>site</th>\n",
       "      <th>author</th>\n",
       "      <th>game</th>\n",
       "      <th>score</th>\n",
       "      <th>score_adj</th>\n",
       "      <th>score_label</th>\n",
       "      <th>stars_mean</th>\n",
       "      <th>company</th>\n",
       "      <th>platform</th>\n",
       "      <th>genre</th>\n",
       "      <th>score_deviation</th>\n",
       "    </tr>\n",
       "  </thead>\n",
       "  <tbody>\n",
       "    <tr>\n",
       "      <th>1917</th>\n",
       "      <td>Vandal</td>\n",
       "      <td>Fran G. Matas</td>\n",
       "      <td>Song of Horror</td>\n",
       "      <td>6.9</td>\n",
       "      <td>3.45</td>\n",
       "      <td>'3 starts'</td>\n",
       "      <td>2.86</td>\n",
       "      <td>ðŸš€ Raiser Games</td>\n",
       "      <td>PC Xbox One PS4</td>\n",
       "      <td>Aventura Terror</td>\n",
       "      <td>-17.101449</td>\n",
       "    </tr>\n",
       "    <tr>\n",
       "      <th>10013</th>\n",
       "      <td>revogamers</td>\n",
       "      <td>Javier Aranda</td>\n",
       "      <td>City of Brass</td>\n",
       "      <td>6.5</td>\n",
       "      <td>3.25</td>\n",
       "      <td>'3 starts'</td>\n",
       "      <td>3.67</td>\n",
       "      <td>Úppercut Games</td>\n",
       "      <td>Nintendo Switch</td>\n",
       "      <td>Acción</td>\n",
       "      <td>12.923077</td>\n",
       "    </tr>\n",
       "    <tr>\n",
       "      <th>12017</th>\n",
       "      <td>Vandal</td>\n",
       "      <td>Ramón Nafria</td>\n",
       "      <td>Arrest of a stone Buddha</td>\n",
       "      <td>7.0</td>\n",
       "      <td>3.50</td>\n",
       "      <td>'4 starts'</td>\n",
       "      <td>3.20</td>\n",
       "      <td>yeo</td>\n",
       "      <td>PC Switch</td>\n",
       "      <td>Aventura de acción</td>\n",
       "      <td>-8.571429</td>\n",
       "    </tr>\n",
       "    <tr>\n",
       "      <th>6985</th>\n",
       "      <td>Vandal</td>\n",
       "      <td>Alberto González</td>\n",
       "      <td>Monument Valley 2</td>\n",
       "      <td>9.5</td>\n",
       "      <td>4.75</td>\n",
       "      <td>'5 starts'</td>\n",
       "      <td>3.83</td>\n",
       "      <td>ustwo Games</td>\n",
       "      <td>iPhone Android</td>\n",
       "      <td>Puzle</td>\n",
       "      <td>-19.368421</td>\n",
       "    </tr>\n",
       "    <tr>\n",
       "      <th>5326</th>\n",
       "      <td>Vandal</td>\n",
       "      <td>Alberto González</td>\n",
       "      <td>Monument Valley</td>\n",
       "      <td>9.5</td>\n",
       "      <td>4.75</td>\n",
       "      <td>'5 starts'</td>\n",
       "      <td>3.00</td>\n",
       "      <td>ustwo</td>\n",
       "      <td>iPhone Android</td>\n",
       "      <td>Puzle</td>\n",
       "      <td>-36.842105</td>\n",
       "    </tr>\n",
       "    <tr>\n",
       "      <th>...</th>\n",
       "      <td>...</td>\n",
       "      <td>...</td>\n",
       "      <td>...</td>\n",
       "      <td>...</td>\n",
       "      <td>...</td>\n",
       "      <td>...</td>\n",
       "      <td>...</td>\n",
       "      <td>...</td>\n",
       "      <td>...</td>\n",
       "      <td>...</td>\n",
       "      <td>...</td>\n",
       "    </tr>\n",
       "    <tr>\n",
       "      <th>11490</th>\n",
       "      <td>meristation</td>\n",
       "      <td>Cristian Ciuraneta</td>\n",
       "      <td>World of Goo</td>\n",
       "      <td>9.0</td>\n",
       "      <td>4.50</td>\n",
       "      <td>'4 starts'</td>\n",
       "      <td>4.67</td>\n",
       "      <td>2D Boy</td>\n",
       "      <td>Android iPad iPhone</td>\n",
       "      <td>Puzzle</td>\n",
       "      <td>3.777778</td>\n",
       "    </tr>\n",
       "    <tr>\n",
       "      <th>14267</th>\n",
       "      <td>meristation</td>\n",
       "      <td>None</td>\n",
       "      <td>Men of War: Assault Squad</td>\n",
       "      <td>8.0</td>\n",
       "      <td>4.00</td>\n",
       "      <td>'4 starts'</td>\n",
       "      <td>4.11</td>\n",
       "      <td>1C Company</td>\n",
       "      <td>PC</td>\n",
       "      <td>Strategy, Real-Time</td>\n",
       "      <td>2.750000</td>\n",
       "    </tr>\n",
       "    <tr>\n",
       "      <th>7769</th>\n",
       "      <td>meristation</td>\n",
       "      <td>None</td>\n",
       "      <td>Theatre of War 2: Africa 1943</td>\n",
       "      <td>7.0</td>\n",
       "      <td>3.50</td>\n",
       "      <td>'4 starts'</td>\n",
       "      <td>3.92</td>\n",
       "      <td>1C Company</td>\n",
       "      <td>PC</td>\n",
       "      <td>Strategy, Real-Time</td>\n",
       "      <td>12.000000</td>\n",
       "    </tr>\n",
       "    <tr>\n",
       "      <th>15084</th>\n",
       "      <td>Vandal</td>\n",
       "      <td>Ramón Varela</td>\n",
       "      <td>Beat Cop</td>\n",
       "      <td>6.8</td>\n",
       "      <td>3.40</td>\n",
       "      <td>'3 starts'</td>\n",
       "      <td>2.60</td>\n",
       "      <td>11 bit studios</td>\n",
       "      <td>PC Android Switch Xbox One PS4</td>\n",
       "      <td>Aventura narrativa</td>\n",
       "      <td>-23.529412</td>\n",
       "    </tr>\n",
       "    <tr>\n",
       "      <th>4101</th>\n",
       "      <td>meristation</td>\n",
       "      <td>None</td>\n",
       "      <td>Moonlighter</td>\n",
       "      <td>8.2</td>\n",
       "      <td>4.10</td>\n",
       "      <td>'4 starts'</td>\n",
       "      <td>3.88</td>\n",
       "      <td>11 Bit Studios</td>\n",
       "      <td>Switch Xbox One PC PS4</td>\n",
       "      <td>Acción, RPG</td>\n",
       "      <td>-5.365854</td>\n",
       "    </tr>\n",
       "  </tbody>\n",
       "</table>\n",
       "<p>4706 rows × 11 columns</p>\n",
       "</div>"
      ],
      "text/plain": [
       "              site              author                           game  score  \\\n",
       "1917        Vandal       Fran G. Matas                 Song of Horror    6.9   \n",
       "10013   revogamers       Javier Aranda                  City of Brass    6.5   \n",
       "12017       Vandal        Ramón Nafria       Arrest of a stone Buddha    7.0   \n",
       "6985        Vandal    Alberto González              Monument Valley 2    9.5   \n",
       "5326        Vandal    Alberto González                Monument Valley    9.5   \n",
       "...            ...                 ...                            ...    ...   \n",
       "11490  meristation  Cristian Ciuraneta                   World of Goo    9.0   \n",
       "14267  meristation                None      Men of War: Assault Squad    8.0   \n",
       "7769   meristation                None  Theatre of War 2: Africa 1943    7.0   \n",
       "15084       Vandal        Ramón Varela                       Beat Cop    6.8   \n",
       "4101   meristation                None                    Moonlighter    8.2   \n",
       "\n",
       "       score_adj score_label  stars_mean            company  \\\n",
       "1917        3.45  '3 starts'        2.86  ðŸš€ Raiser Games   \n",
       "10013       3.25  '3 starts'        3.67     Úppercut Games   \n",
       "12017       3.50  '4 starts'        3.20                yeo   \n",
       "6985        4.75  '5 starts'        3.83        ustwo Games   \n",
       "5326        4.75  '5 starts'        3.00              ustwo   \n",
       "...          ...         ...         ...                ...   \n",
       "11490       4.50  '4 starts'        4.67             2D Boy   \n",
       "14267       4.00  '4 starts'        4.11         1C Company   \n",
       "7769        3.50  '4 starts'        3.92         1C Company   \n",
       "15084       3.40  '3 starts'        2.60     11 bit studios   \n",
       "4101        4.10  '4 starts'        3.88     11 Bit Studios   \n",
       "\n",
       "                             platform  \\\n",
       "1917                  PC Xbox One PS4   \n",
       "10013                 Nintendo Switch   \n",
       "12017                       PC Switch   \n",
       "6985                   iPhone Android   \n",
       "5326                   iPhone Android   \n",
       "...                               ...   \n",
       "11490             Android iPad iPhone   \n",
       "14267                              PC   \n",
       "7769                               PC   \n",
       "15084  PC Android Switch Xbox One PS4   \n",
       "4101           Switch Xbox One PC PS4   \n",
       "\n",
       "                                         genre  score_deviation  \n",
       "1917                           Aventura Terror       -17.101449  \n",
       "10013                                   Acción        12.923077  \n",
       "12017                       Aventura de acción        -8.571429  \n",
       "6985                                     Puzle       -19.368421  \n",
       "5326                                     Puzle       -36.842105  \n",
       "...                                        ...              ...  \n",
       "11490               Puzzle                             3.777778  \n",
       "14267  Strategy, Real-Time                             2.750000  \n",
       "7769   Strategy, Real-Time                            12.000000  \n",
       "15084                       Aventura narrativa       -23.529412  \n",
       "4101           Acción, RPG                            -5.365854  \n",
       "\n",
       "[4706 rows x 11 columns]"
      ]
     },
     "execution_count": 68,
     "metadata": {},
     "output_type": "execute_result"
    }
   ],
   "source": [
    "scored_texts_analytics.sort_values(['score_deviation'],ascending=False).groupby('company').head(3)"
   ]
  },
  {
   "cell_type": "code",
   "execution_count": 73,
   "metadata": {},
   "outputs": [
    {
     "data": {
      "text/plain": [
       "company\n",
       "Funbox Media          200.000000\n",
       "Creashock Studios     200.000000\n",
       "Punchers Impact       144.666667\n",
       "The Fun Pimps         144.666667\n",
       "stillalive studios    122.000000\n",
       "GameMill              122.000000\n",
       "IDC/Games             108.000000\n",
       "Freedom Factory       100.000000\n",
       "Microprose            100.000000\n",
       "VectorCell            100.000000\n",
       "Name: score_deviation, dtype: float64"
      ]
     },
     "execution_count": 73,
     "metadata": {},
     "output_type": "execute_result"
    }
   ],
   "source": [
    "scored_texts_analytics.groupby('company')['score_deviation'].mean().sort_values(ascending=False).head(10)"
   ]
  },
  {
   "cell_type": "markdown",
   "metadata": {},
   "source": [
    "## 5. Data Analysis by Genre"
   ]
  },
  {
   "cell_type": "code",
   "execution_count": 100,
   "metadata": {},
   "outputs": [],
   "source": [
    "#Totally unuseful because there is a mix\n",
    "#scored_texts_analytics.groupby('genre')['score_deviation'].min().sort_values(ascending=False).head(50)"
   ]
  },
  {
   "cell_type": "code",
   "execution_count": 103,
   "metadata": {},
   "outputs": [],
   "source": [
    "aventura = scored_texts_analytics[scored_texts_analytics['genre'].str.contains('Aventura')]"
   ]
  },
  {
   "cell_type": "code",
   "execution_count": 1,
   "metadata": {},
   "outputs": [],
   "source": [
    "#aventura.groupby('s')['score_deviation'].min().sort_values(ascending=True).head(50)"
   ]
  },
  {
   "cell_type": "markdown",
   "metadata": {},
   "source": [
    "## 6. Data Analysis by Author"
   ]
  },
  {
   "cell_type": "code",
   "execution_count": 29,
   "metadata": {},
   "outputs": [],
   "source": [
    "#q_authors = scored_texts_analytics['author'].value_counts()[scored_texts_analytics['author'].value_counts() >= 3]"
   ]
  },
  {
   "cell_type": "code",
   "execution_count": 37,
   "metadata": {},
   "outputs": [],
   "source": [
    "q_authors_filter = scored_texts_analytics.groupby('author').filter(lambda x: len(x) >= 3)"
   ]
  },
  {
   "cell_type": "code",
   "execution_count": 38,
   "metadata": {},
   "outputs": [],
   "source": [
    "q_authors = q_authors_filter.groupby('author')['score_deviation'].mean()"
   ]
  },
  {
   "cell_type": "code",
   "execution_count": 83,
   "metadata": {},
   "outputs": [
    {
     "data": {
      "image/png": "[encoded data removed]",
      "text/plain": [
       "<Figure size 1440x432 with 1 Axes>"
      ]
     },
     "metadata": {
      "needs_background": "light"
     },
     "output_type": "display_data"
    }
   ],
   "source": [
    "fig, ax = plt.subplots(figsize=(20,6))  \n",
    "\n",
    "N, bins, patches = plt.hist(q_authors, 30)\n",
    "\n",
    "cmap = plt.get_cmap('jet')\n",
    "low = cmap(0.5)\n",
    "medium =cmap(0.2)\n",
    "high = cmap(0.7)\n",
    "\n",
    "for i in range(0,3):\n",
    "    patches[i].set_facecolor(low)\n",
    "for i in range(4,13):\n",
    "    patches[i].set_facecolor(medium)\n",
    "for i in range(14,30):\n",
    "    patches[i].set_facecolor(high)\n",
    "\n",
    "plt.xlabel(\"Mean score devitation\", fontsize=16)  \n",
    "plt.ylabel(\"Authors count\", fontsize=16)\n",
    "plt.xticks(fontsize=14)  \n",
    "plt.yticks(fontsize=14)\n",
    "plt.title('Mean score deviation per author', fontsize=16)\n",
    "\n",
    "\n",
    "ax.spines[\"top\"].set_visible(False)  \n",
    "ax.spines[\"right\"].set_visible(False)"
   ]
  },
  {
   "cell_type": "code",
   "execution_count": 6,
   "metadata": {},
   "outputs": [
    {
     "name": "stdout",
     "output_type": "stream",
     "text": [
      "Nota media de Sergio 7.223880597014926, David: 7.67479674796748 y Juan: 8.007352941176471\n"
     ]
    }
   ],
   "source": [
    "print(f\"Nota media de Sergio {scored_texts_analytics[scored_texts_analytics['author'].str.contains('Sergio Figueroa')]['score'].mean()}, David: {scored_texts_analytics[scored_texts_analytics['author'].str.contains('David Caballero')]['score'].mean()} y Juan: {scored_texts_analytics[scored_texts_analytics['author'].str.contains('Juan A. Fonseca')]['score'].mean()}\")"
   ]
  },
  {
   "cell_type": "code",
   "execution_count": null,
   "metadata": {},
   "outputs": [],
   "source": [
    "scored_texts_analytics[scored_texts_analytics['author'].str.contains(author)]['score'].mean()"
   ]
  },
  {
   "cell_type": "markdown",
   "metadata": {},
   "source": [
    "## 7. Data Analysis by platform\n",
    "First, group by platforms because there are a lot of different groups not matching directly in group by"
   ]
  },
  {
   "cell_type": "code",
   "execution_count": 161,
   "metadata": {},
   "outputs": [],
   "source": [
    "switch_df = scored_texts_analytics[scored_texts_analytics['platform'].str.contains(\"Switch\")]"
   ]
  },
  {
   "cell_type": "code",
   "execution_count": 219,
   "metadata": {},
   "outputs": [],
   "source": [
    "switch_plot = switch_df[['score','stars_mean']].mean()"
   ]
  },
  {
   "cell_type": "code",
   "execution_count": 248,
   "metadata": {},
   "outputs": [
    {
     "data": {
      "text/html": [
       "<div>\n",
       "<style scoped>\n",
       "    .dataframe tbody tr th:only-of-type {\n",
       "        vertical-align: middle;\n",
       "    }\n",
       "\n",
       "    .dataframe tbody tr th {\n",
       "        vertical-align: top;\n",
       "    }\n",
       "\n",
       "    .dataframe thead th {\n",
       "        text-align: right;\n",
       "    }\n",
       "</style>\n",
       "<table border=\"1\" class=\"dataframe\">\n",
       "  <thead>\n",
       "    <tr style=\"text-align: right;\">\n",
       "      <th></th>\n",
       "      <th>score</th>\n",
       "      <th>mean</th>\n",
       "    </tr>\n",
       "  </thead>\n",
       "  <tbody>\n",
       "    <tr>\n",
       "      <th>PS4</th>\n",
       "      <td>2</td>\n",
       "      <td>3</td>\n",
       "    </tr>\n",
       "    <tr>\n",
       "      <th>xbox</th>\n",
       "      <td>2</td>\n",
       "      <td>5</td>\n",
       "    </tr>\n",
       "  </tbody>\n",
       "</table>\n",
       "</div>"
      ],
      "text/plain": [
       "      score  mean\n",
       "PS4       2     3\n",
       "xbox      2     5"
      ]
     },
     "execution_count": 248,
     "metadata": {},
     "output_type": "execute_result"
    }
   ],
   "source": [
    "df1"
   ]
  },
  {
   "cell_type": "code",
   "execution_count": 269,
   "metadata": {},
   "outputs": [
    {
     "data": {
      "application/vnd.plotly.v1+json": {
       "config": {
        "plotlyServerURL": "https://plot.ly"
       },
       "data": [
        {
         "hovertemplate": "variable=ps4<br>index=%{x}<br>value=%{y}<extra></extra>",
         "legendgroup": "ps4",
         "line": {
          "color": "#636efa",
          "dash": "solid"
         },
         "mode": "lines",
         "name": "ps4",
         "orientation": "v",
         "showlegend": true,
         "type": "scatter",
         "x": [
          "score",
          "stars_mean"
         ],
         "xaxis": "x",
         "y": [
          7.608196134574085,
          3.5256460272011383
         ],
         "yaxis": "y"
        },
        {
         "hovertemplate": "variable=switch<br>index=%{x}<br>value=%{y}<extra></extra>",
         "legendgroup": "switch",
         "line": {
          "color": "#EF553B",
          "dash": "solid"
         },
         "mode": "lines",
         "name": "switch",
         "orientation": "v",
         "showlegend": true,
         "type": "scatter",
         "x": [
          "score",
          "stars_mean"
         ],
         "xaxis": "x",
         "y": [
          7.539161205766702,
          3.5606500655308015
         ],
         "yaxis": "y"
        },
        {
         "hovertemplate": "variable=xbox<br>index=%{x}<br>value=%{y}<extra></extra>",
         "legendgroup": "xbox",
         "line": {
          "color": "#00cc96",
          "dash": "solid"
         },
         "mode": "lines",
         "name": "xbox",
         "orientation": "v",
         "showlegend": true,
         "type": "scatter",
         "x": [
          "score",
          "stars_mean"
         ],
         "xaxis": "x",
         "y": [
          7.630565949485487,
          3.5295884003741764
         ],
         "yaxis": "y"
        },
        {
         "hovertemplate": "variable=pc<br>index=%{x}<br>value=%{y}<extra></extra>",
         "legendgroup": "pc",
         "line": {
          "color": "#ab63fa",
          "dash": "solid"
         },
         "mode": "lines",
         "name": "pc",
         "orientation": "v",
         "showlegend": true,
         "type": "scatter",
         "x": [
          "score",
          "stars_mean"
         ],
         "xaxis": "x",
         "y": [
          7.578979543851399,
          3.51802022102045
         ],
         "yaxis": "y"
        }
       ],
       "layout": {
        "autosize": true,
        "legend": {
         "title": {
          "text": "variable"
         },
         "tracegroupgap": 0
        },
        "margin": {
         "t": 60
        },
        "template": {
         "data": {
          "bar": [
           {
            "error_x": {
             "color": "#2a3f5f"
            },
            "error_y": {
             "color": "#2a3f5f"
            },
            "marker": {
             "line": {
              "color": "#E5ECF6",
              "width": 0.5
             }
            },
            "type": "bar"
           }
          ],
          "barpolar": [
           {
            "marker": {
             "line": {
              "color": "#E5ECF6",
              "width": 0.5
             }
            },
            "type": "barpolar"
           }
          ],
          "carpet": [
           {
            "aaxis": {
             "endlinecolor": "#2a3f5f",
             "gridcolor": "white",
             "linecolor": "white",
             "minorgridcolor": "white",
             "startlinecolor": "#2a3f5f"
            },
            "baxis": {
             "endlinecolor": "#2a3f5f",
             "gridcolor": "white",
             "linecolor": "white",
             "minorgridcolor": "white",
             "startlinecolor": "#2a3f5f"
            },
            "type": "carpet"
           }
          ],
          "choropleth": [
           {
            "colorbar": {
             "outlinewidth": 0,
             "ticks": ""
            },
            "type": "choropleth"
           }
          ],
          "contour": [
           {
            "colorbar": {
             "outlinewidth": 0,
             "ticks": ""
            },
            "colorscale": [
             [
              0,
              "#0d0887"
             ],
             [
              0.1111111111111111,
              "#46039f"
             ],
             [
              0.2222222222222222,
              "#7201a8"
             ],
             [
              0.3333333333333333,
              "#9c179e"
             ],
             [
              0.4444444444444444,
              "#bd3786"
             ],
             [
              0.5555555555555556,
              "#d8576b"
             ],
             [
              0.6666666666666666,
              "#ed7953"
             ],
             [
              0.7777777777777778,
              "#fb9f3a"
             ],
             [
              0.8888888888888888,
              "#fdca26"
             ],
             [
              1,
              "#f0f921"
             ]
            ],
            "type": "contour"
           }
          ],
          "contourcarpet": [
           {
            "colorbar": {
             "outlinewidth": 0,
             "ticks": ""
            },
            "type": "contourcarpet"
           }
          ],
          "heatmap": [
           {
            "colorbar": {
             "outlinewidth": 0,
             "ticks": ""
            },
            "colorscale": [
             [
              0,
              "#0d0887"
             ],
             [
              0.1111111111111111,
              "#46039f"
             ],
             [
              0.2222222222222222,
              "#7201a8"
             ],
             [
              0.3333333333333333,
              "#9c179e"
             ],
             [
              0.4444444444444444,
              "#bd3786"
             ],
             [
              0.5555555555555556,
              "#d8576b"
             ],
             [
              0.6666666666666666,
              "#ed7953"
             ],
             [
              0.7777777777777778,
              "#fb9f3a"
             ],
             [
              0.8888888888888888,
              "#fdca26"
             ],
             [
              1,
              "#f0f921"
             ]
            ],
            "type": "heatmap"
           }
          ],
          "heatmapgl": [
           {
            "colorbar": {
             "outlinewidth": 0,
             "ticks": ""
            },
            "colorscale": [
             [
              0,
              "#0d0887"
             ],
             [
              0.1111111111111111,
              "#46039f"
             ],
             [
              0.2222222222222222,
              "#7201a8"
             ],
             [
              0.3333333333333333,
              "#9c179e"
             ],
             [
              0.4444444444444444,
              "#bd3786"
             ],
             [
              0.5555555555555556,
              "#d8576b"
             ],
             [
              0.6666666666666666,
              "#ed7953"
             ],
             [
              0.7777777777777778,
              "#fb9f3a"
             ],
             [
              0.8888888888888888,
              "#fdca26"
             ],
             [
              1,
              "#f0f921"
             ]
            ],
            "type": "heatmapgl"
           }
          ],
          "histogram": [
           {
            "marker": {
             "colorbar": {
              "outlinewidth": 0,
              "ticks": ""
             }
            },
            "type": "histogram"
           }
          ],
          "histogram2d": [
           {
            "colorbar": {
             "outlinewidth": 0,
             "ticks": ""
            },
            "colorscale": [
             [
              0,
              "#0d0887"
             ],
             [
              0.1111111111111111,
              "#46039f"
             ],
             [
              0.2222222222222222,
              "#7201a8"
             ],
             [
              0.3333333333333333,
              "#9c179e"
             ],
             [
              0.4444444444444444,
              "#bd3786"
             ],
             [
              0.5555555555555556,
              "#d8576b"
             ],
             [
              0.6666666666666666,
              "#ed7953"
             ],
             [
              0.7777777777777778,
              "#fb9f3a"
             ],
             [
              0.8888888888888888,
              "#fdca26"
             ],
             [
              1,
              "#f0f921"
             ]
            ],
            "type": "histogram2d"
           }
          ],
          "histogram2dcontour": [
           {
            "colorbar": {
             "outlinewidth": 0,
             "ticks": ""
            },
            "colorscale": [
             [
              0,
              "#0d0887"
             ],
             [
              0.1111111111111111,
              "#46039f"
             ],
             [
              0.2222222222222222,
              "#7201a8"
             ],
             [
              0.3333333333333333,
              "#9c179e"
             ],
             [
              0.4444444444444444,
              "#bd3786"
             ],
             [
              0.5555555555555556,
              "#d8576b"
             ],
             [
              0.6666666666666666,
              "#ed7953"
             ],
             [
              0.7777777777777778,
              "#fb9f3a"
             ],
             [
              0.8888888888888888,
              "#fdca26"
             ],
             [
              1,
              "#f0f921"
             ]
            ],
            "type": "histogram2dcontour"
           }
          ],
          "mesh3d": [
           {
            "colorbar": {
             "outlinewidth": 0,
             "ticks": ""
            },
            "type": "mesh3d"
           }
          ],
          "parcoords": [
           {
            "line": {
             "colorbar": {
              "outlinewidth": 0,
              "ticks": ""
             }
            },
            "type": "parcoords"
           }
          ],
          "pie": [
           {
            "automargin": true,
            "type": "pie"
           }
          ],
          "scatter": [
           {
            "marker": {
             "colorbar": {
              "outlinewidth": 0,
              "ticks": ""
             }
            },
            "type": "scatter"
           }
          ],
          "scatter3d": [
           {
            "line": {
             "colorbar": {
              "outlinewidth": 0,
              "ticks": ""
             }
            },
            "marker": {
             "colorbar": {
              "outlinewidth": 0,
              "ticks": ""
             }
            },
            "type": "scatter3d"
           }
          ],
          "scattercarpet": [
           {
            "marker": {
             "colorbar": {
              "outlinewidth": 0,
              "ticks": ""
             }
            },
            "type": "scattercarpet"
           }
          ],
          "scattergeo": [
           {
            "marker": {
             "colorbar": {
              "outlinewidth": 0,
              "ticks": ""
             }
            },
            "type": "scattergeo"
           }
          ],
          "scattergl": [
           {
            "marker": {
             "colorbar": {
              "outlinewidth": 0,
              "ticks": ""
             }
            },
            "type": "scattergl"
           }
          ],
          "scattermapbox": [
           {
            "marker": {
             "colorbar": {
              "outlinewidth": 0,
              "ticks": ""
             }
            },
            "type": "scattermapbox"
           }
          ],
          "scatterpolar": [
           {
            "marker": {
             "colorbar": {
              "outlinewidth": 0,
              "ticks": ""
             }
            },
            "type": "scatterpolar"
           }
          ],
          "scatterpolargl": [
           {
            "marker": {
             "colorbar": {
              "outlinewidth": 0,
              "ticks": ""
             }
            },
            "type": "scatterpolargl"
           }
          ],
          "scatterternary": [
           {
            "marker": {
             "colorbar": {
              "outlinewidth": 0,
              "ticks": ""
             }
            },
            "type": "scatterternary"
           }
          ],
          "surface": [
           {
            "colorbar": {
             "outlinewidth": 0,
             "ticks": ""
            },
            "colorscale": [
             [
              0,
              "#0d0887"
             ],
             [
              0.1111111111111111,
              "#46039f"
             ],
             [
              0.2222222222222222,
              "#7201a8"
             ],
             [
              0.3333333333333333,
              "#9c179e"
             ],
             [
              0.4444444444444444,
              "#bd3786"
             ],
             [
              0.5555555555555556,
              "#d8576b"
             ],
             [
              0.6666666666666666,
              "#ed7953"
             ],
             [
              0.7777777777777778,
              "#fb9f3a"
             ],
             [
              0.8888888888888888,
              "#fdca26"
             ],
             [
              1,
              "#f0f921"
             ]
            ],
            "type": "surface"
           }
          ],
          "table": [
           {
            "cells": {
             "fill": {
              "color": "#EBF0F8"
             },
             "line": {
              "color": "white"
             }
            },
            "header": {
             "fill": {
              "color": "#C8D4E3"
             },
             "line": {
              "color": "white"
             }
            },
            "type": "table"
           }
          ]
         },
         "layout": {
          "annotationdefaults": {
           "arrowcolor": "#2a3f5f",
           "arrowhead": 0,
           "arrowwidth": 1
          },
          "coloraxis": {
           "colorbar": {
            "outlinewidth": 0,
            "ticks": ""
           }
          },
          "colorscale": {
           "diverging": [
            [
             0,
             "#8e0152"
            ],
            [
             0.1,
             "#c51b7d"
            ],
            [
             0.2,
             "#de77ae"
            ],
            [
             0.3,
             "#f1b6da"
            ],
            [
             0.4,
             "#fde0ef"
            ],
            [
             0.5,
             "#f7f7f7"
            ],
            [
             0.6,
             "#e6f5d0"
            ],
            [
             0.7,
             "#b8e186"
            ],
            [
             0.8,
             "#7fbc41"
            ],
            [
             0.9,
             "#4d9221"
            ],
            [
             1,
             "#276419"
            ]
           ],
           "sequential": [
            [
             0,
             "#0d0887"
            ],
            [
             0.1111111111111111,
             "#46039f"
            ],
            [
             0.2222222222222222,
             "#7201a8"
            ],
            [
             0.3333333333333333,
             "#9c179e"
            ],
            [
             0.4444444444444444,
             "#bd3786"
            ],
            [
             0.5555555555555556,
             "#d8576b"
            ],
            [
             0.6666666666666666,
             "#ed7953"
            ],
            [
             0.7777777777777778,
             "#fb9f3a"
            ],
            [
             0.8888888888888888,
             "#fdca26"
            ],
            [
             1,
             "#f0f921"
            ]
           ],
           "sequentialminus": [
            [
             0,
             "#0d0887"
            ],
            [
             0.1111111111111111,
             "#46039f"
            ],
            [
             0.2222222222222222,
             "#7201a8"
            ],
            [
             0.3333333333333333,
             "#9c179e"
            ],
            [
             0.4444444444444444,
             "#bd3786"
            ],
            [
             0.5555555555555556,
             "#d8576b"
            ],
            [
             0.6666666666666666,
             "#ed7953"
            ],
            [
             0.7777777777777778,
             "#fb9f3a"
            ],
            [
             0.8888888888888888,
             "#fdca26"
            ],
            [
             1,
             "#f0f921"
            ]
           ]
          },
          "colorway": [
           "#636efa",
           "#EF553B",
           "#00cc96",
           "#ab63fa",
           "#FFA15A",
           "#19d3f3",
           "#FF6692",
           "#B6E880",
           "#FF97FF",
           "#FECB52"
          ],
          "font": {
           "color": "#2a3f5f"
          },
          "geo": {
           "bgcolor": "white",
           "lakecolor": "white",
           "landcolor": "#E5ECF6",
           "showlakes": true,
           "showland": true,
           "subunitcolor": "white"
          },
          "hoverlabel": {
           "align": "left"
          },
          "hovermode": "closest",
          "mapbox": {
           "style": "light"
          },
          "paper_bgcolor": "white",
          "plot_bgcolor": "#E5ECF6",
          "polar": {
           "angularaxis": {
            "gridcolor": "white",
            "linecolor": "white",
            "ticks": ""
           },
           "bgcolor": "#E5ECF6",
           "radialaxis": {
            "gridcolor": "white",
            "linecolor": "white",
            "ticks": ""
           }
          },
          "scene": {
           "xaxis": {
            "backgroundcolor": "#E5ECF6",
            "gridcolor": "white",
            "gridwidth": 2,
            "linecolor": "white",
            "showbackground": true,
            "ticks": "",
            "zerolinecolor": "white"
           },
           "yaxis": {
            "backgroundcolor": "#E5ECF6",
            "gridcolor": "white",
            "gridwidth": 2,
            "linecolor": "white",
            "showbackground": true,
            "ticks": "",
            "zerolinecolor": "white"
           },
           "zaxis": {
            "backgroundcolor": "#E5ECF6",
            "gridcolor": "white",
            "gridwidth": 2,
            "linecolor": "white",
            "showbackground": true,
            "ticks": "",
            "zerolinecolor": "white"
           }
          },
          "shapedefaults": {
           "line": {
            "color": "#2a3f5f"
           }
          },
          "ternary": {
           "aaxis": {
            "gridcolor": "white",
            "linecolor": "white",
            "ticks": ""
           },
           "baxis": {
            "gridcolor": "white",
            "linecolor": "white",
            "ticks": ""
           },
           "bgcolor": "#E5ECF6",
           "caxis": {
            "gridcolor": "white",
            "linecolor": "white",
            "ticks": ""
           }
          },
          "title": {
           "x": 0.05
          },
          "xaxis": {
           "automargin": true,
           "gridcolor": "white",
           "linecolor": "white",
           "ticks": "",
           "title": {
            "standoff": 15
           },
           "zerolinecolor": "white",
           "zerolinewidth": 2
          },
          "yaxis": {
           "automargin": true,
           "gridcolor": "white",
           "linecolor": "white",
           "ticks": "",
           "title": {
            "standoff": 15
           },
           "zerolinecolor": "white",
           "zerolinewidth": 2
          }
         }
        },
        "xaxis": {
         "anchor": "y",
         "autorange": true,
         "domain": [
          0,
          1
         ],
         "range": [
          0,
          1
         ],
         "title": {
          "text": "index"
         },
         "type": "category"
        },
        "yaxis": {
         "anchor": "x",
         "autorange": true,
         "domain": [
          0,
          1
         ],
         "range": [
          3.289545458327948,
          7.85904071217799
         ],
         "title": {
          "text": "value"
         },
         "type": "linear"
        }
       }
      },
      "image/png": "[encoded data removed]",
      "text/html": [
       "<div>                            <div id=\"b4c430e6-a037-4503-b34e-e07040cfecee\" class=\"plotly-graph-div\" style=\"height:525px; width:100%;\"></div>            <script type=\"text/javascript\">                require([\"plotly\"], function(Plotly) {                    window.PLOTLYENV=window.PLOTLYENV || {};                                    if (document.getElementById(\"b4c430e6-a037-4503-b34e-e07040cfecee\")) {                    Plotly.newPlot(                        \"b4c430e6-a037-4503-b34e-e07040cfecee\",                        [{\"hovertemplate\": \"variable=ps4<br>index=%{x}<br>value=%{y}<extra></extra>\", \"legendgroup\": \"ps4\", \"line\": {\"color\": \"#636efa\", \"dash\": \"solid\"}, \"mode\": \"lines\", \"name\": \"ps4\", \"orientation\": \"v\", \"showlegend\": true, \"type\": \"scatter\", \"x\": [\"score\", \"stars_mean\"], \"xaxis\": \"x\", \"y\": [7.608196134574085, 3.5256460272011383], \"yaxis\": \"y\"}, {\"hovertemplate\": \"variable=switch<br>index=%{x}<br>value=%{y}<extra></extra>\", \"legendgroup\": \"switch\", \"line\": {\"color\": \"#EF553B\", \"dash\": \"solid\"}, \"mode\": \"lines\", \"name\": \"switch\", \"orientation\": \"v\", \"showlegend\": true, \"type\": \"scatter\", \"x\": [\"score\", \"stars_mean\"], \"xaxis\": \"x\", \"y\": [7.539161205766702, 3.5606500655308015], \"yaxis\": \"y\"}, {\"hovertemplate\": \"variable=xbox<br>index=%{x}<br>value=%{y}<extra></extra>\", \"legendgroup\": \"xbox\", \"line\": {\"color\": \"#00cc96\", \"dash\": \"solid\"}, \"mode\": \"lines\", \"name\": \"xbox\", \"orientation\": \"v\", \"showlegend\": true, \"type\": \"scatter\", \"x\": [\"score\", \"stars_mean\"], \"xaxis\": \"x\", \"y\": [7.630565949485487, 3.5295884003741764], \"yaxis\": \"y\"}, {\"hovertemplate\": \"variable=pc<br>index=%{x}<br>value=%{y}<extra></extra>\", \"legendgroup\": \"pc\", \"line\": {\"color\": \"#ab63fa\", \"dash\": \"solid\"}, \"mode\": \"lines\", \"name\": \"pc\", \"orientation\": \"v\", \"showlegend\": true, \"type\": \"scatter\", \"x\": [\"score\", \"stars_mean\"], \"xaxis\": \"x\", \"y\": [7.578979543851399, 3.51802022102045], \"yaxis\": \"y\"}],                        {\"legend\": {\"title\": {\"text\": \"variable\"}, \"tracegroupgap\": 0}, \"margin\": {\"t\": 60}, \"template\": {\"data\": {\"bar\": [{\"error_x\": {\"color\": \"#2a3f5f\"}, \"error_y\": {\"color\": \"#2a3f5f\"}, \"marker\": {\"line\": {\"color\": \"#E5ECF6\", \"width\": 0.5}}, \"type\": \"bar\"}], \"barpolar\": [{\"marker\": {\"line\": {\"color\": \"#E5ECF6\", \"width\": 0.5}}, \"type\": \"barpolar\"}], \"carpet\": [{\"aaxis\": {\"endlinecolor\": \"#2a3f5f\", \"gridcolor\": \"white\", \"linecolor\": \"white\", \"minorgridcolor\": \"white\", \"startlinecolor\": \"#2a3f5f\"}, \"baxis\": {\"endlinecolor\": \"#2a3f5f\", \"gridcolor\": \"white\", \"linecolor\": \"white\", \"minorgridcolor\": \"white\", \"startlinecolor\": \"#2a3f5f\"}, \"type\": \"carpet\"}], \"choropleth\": [{\"colorbar\": {\"outlinewidth\": 0, \"ticks\": \"\"}, \"type\": \"choropleth\"}], \"contour\": [{\"colorbar\": {\"outlinewidth\": 0, \"ticks\": \"\"}, \"colorscale\": [[0.0, \"#0d0887\"], [0.1111111111111111, \"#46039f\"], [0.2222222222222222, \"#7201a8\"], [0.3333333333333333, \"#9c179e\"], [0.4444444444444444, \"#bd3786\"], [0.5555555555555556, \"#d8576b\"], [0.6666666666666666, \"#ed7953\"], [0.7777777777777778, \"#fb9f3a\"], [0.8888888888888888, \"#fdca26\"], [1.0, \"#f0f921\"]], \"type\": \"contour\"}], \"contourcarpet\": [{\"colorbar\": {\"outlinewidth\": 0, \"ticks\": \"\"}, \"type\": \"contourcarpet\"}], \"heatmap\": [{\"colorbar\": {\"outlinewidth\": 0, \"ticks\": \"\"}, \"colorscale\": [[0.0, \"#0d0887\"], [0.1111111111111111, \"#46039f\"], [0.2222222222222222, \"#7201a8\"], [0.3333333333333333, \"#9c179e\"], [0.4444444444444444, \"#bd3786\"], [0.5555555555555556, \"#d8576b\"], [0.6666666666666666, \"#ed7953\"], [0.7777777777777778, \"#fb9f3a\"], [0.8888888888888888, \"#fdca26\"], [1.0, \"#f0f921\"]], \"type\": \"heatmap\"}], \"heatmapgl\": [{\"colorbar\": {\"outlinewidth\": 0, \"ticks\": \"\"}, \"colorscale\": [[0.0, \"#0d0887\"], [0.1111111111111111, \"#46039f\"], [0.2222222222222222, \"#7201a8\"], [0.3333333333333333, \"#9c179e\"], [0.4444444444444444, \"#bd3786\"], [0.5555555555555556, \"#d8576b\"], [0.6666666666666666, \"#ed7953\"], [0.7777777777777778, \"#fb9f3a\"], [0.8888888888888888, \"#fdca26\"], [1.0, \"#f0f921\"]], \"type\": \"heatmapgl\"}], \"histogram\": [{\"marker\": {\"colorbar\": {\"outlinewidth\": 0, \"ticks\": \"\"}}, \"type\": \"histogram\"}], \"histogram2d\": [{\"colorbar\": {\"outlinewidth\": 0, \"ticks\": \"\"}, \"colorscale\": [[0.0, \"#0d0887\"], [0.1111111111111111, \"#46039f\"], [0.2222222222222222, \"#7201a8\"], [0.3333333333333333, \"#9c179e\"], [0.4444444444444444, \"#bd3786\"], [0.5555555555555556, \"#d8576b\"], [0.6666666666666666, \"#ed7953\"], [0.7777777777777778, \"#fb9f3a\"], [0.8888888888888888, \"#fdca26\"], [1.0, \"#f0f921\"]], \"type\": \"histogram2d\"}], \"histogram2dcontour\": [{\"colorbar\": {\"outlinewidth\": 0, \"ticks\": \"\"}, \"colorscale\": [[0.0, \"#0d0887\"], [0.1111111111111111, \"#46039f\"], [0.2222222222222222, \"#7201a8\"], [0.3333333333333333, \"#9c179e\"], [0.4444444444444444, \"#bd3786\"], [0.5555555555555556, \"#d8576b\"], [0.6666666666666666, \"#ed7953\"], [0.7777777777777778, \"#fb9f3a\"], [0.8888888888888888, \"#fdca26\"], [1.0, \"#f0f921\"]], \"type\": \"histogram2dcontour\"}], \"mesh3d\": [{\"colorbar\": {\"outlinewidth\": 0, \"ticks\": \"\"}, \"type\": \"mesh3d\"}], \"parcoords\": [{\"line\": {\"colorbar\": {\"outlinewidth\": 0, \"ticks\": \"\"}}, \"type\": \"parcoords\"}], \"pie\": [{\"automargin\": true, \"type\": \"pie\"}], \"scatter\": [{\"marker\": {\"colorbar\": {\"outlinewidth\": 0, \"ticks\": \"\"}}, \"type\": \"scatter\"}], \"scatter3d\": [{\"line\": {\"colorbar\": {\"outlinewidth\": 0, \"ticks\": \"\"}}, \"marker\": {\"colorbar\": {\"outlinewidth\": 0, \"ticks\": \"\"}}, \"type\": \"scatter3d\"}], \"scattercarpet\": [{\"marker\": {\"colorbar\": {\"outlinewidth\": 0, \"ticks\": \"\"}}, \"type\": \"scattercarpet\"}], \"scattergeo\": [{\"marker\": {\"colorbar\": {\"outlinewidth\": 0, \"ticks\": \"\"}}, \"type\": \"scattergeo\"}], \"scattergl\": [{\"marker\": {\"colorbar\": {\"outlinewidth\": 0, \"ticks\": \"\"}}, \"type\": \"scattergl\"}], \"scattermapbox\": [{\"marker\": {\"colorbar\": {\"outlinewidth\": 0, \"ticks\": \"\"}}, \"type\": \"scattermapbox\"}], \"scatterpolar\": [{\"marker\": {\"colorbar\": {\"outlinewidth\": 0, \"ticks\": \"\"}}, \"type\": \"scatterpolar\"}], \"scatterpolargl\": [{\"marker\": {\"colorbar\": {\"outlinewidth\": 0, \"ticks\": \"\"}}, \"type\": \"scatterpolargl\"}], \"scatterternary\": [{\"marker\": {\"colorbar\": {\"outlinewidth\": 0, \"ticks\": \"\"}}, \"type\": \"scatterternary\"}], \"surface\": [{\"colorbar\": {\"outlinewidth\": 0, \"ticks\": \"\"}, \"colorscale\": [[0.0, \"#0d0887\"], [0.1111111111111111, \"#46039f\"], [0.2222222222222222, \"#7201a8\"], [0.3333333333333333, \"#9c179e\"], [0.4444444444444444, \"#bd3786\"], [0.5555555555555556, \"#d8576b\"], [0.6666666666666666, \"#ed7953\"], [0.7777777777777778, \"#fb9f3a\"], [0.8888888888888888, \"#fdca26\"], [1.0, \"#f0f921\"]], \"type\": \"surface\"}], \"table\": [{\"cells\": {\"fill\": {\"color\": \"#EBF0F8\"}, \"line\": {\"color\": \"white\"}}, \"header\": {\"fill\": {\"color\": \"#C8D4E3\"}, \"line\": {\"color\": \"white\"}}, \"type\": \"table\"}]}, \"layout\": {\"annotationdefaults\": {\"arrowcolor\": \"#2a3f5f\", \"arrowhead\": 0, \"arrowwidth\": 1}, \"coloraxis\": {\"colorbar\": {\"outlinewidth\": 0, \"ticks\": \"\"}}, \"colorscale\": {\"diverging\": [[0, \"#8e0152\"], [0.1, \"#c51b7d\"], [0.2, \"#de77ae\"], [0.3, \"#f1b6da\"], [0.4, \"#fde0ef\"], [0.5, \"#f7f7f7\"], [0.6, \"#e6f5d0\"], [0.7, \"#b8e186\"], [0.8, \"#7fbc41\"], [0.9, \"#4d9221\"], [1, \"#276419\"]], \"sequential\": [[0.0, \"#0d0887\"], [0.1111111111111111, \"#46039f\"], [0.2222222222222222, \"#7201a8\"], [0.3333333333333333, \"#9c179e\"], [0.4444444444444444, \"#bd3786\"], [0.5555555555555556, \"#d8576b\"], [0.6666666666666666, \"#ed7953\"], [0.7777777777777778, \"#fb9f3a\"], [0.8888888888888888, \"#fdca26\"], [1.0, \"#f0f921\"]], \"sequentialminus\": [[0.0, \"#0d0887\"], [0.1111111111111111, \"#46039f\"], [0.2222222222222222, \"#7201a8\"], [0.3333333333333333, \"#9c179e\"], [0.4444444444444444, \"#bd3786\"], [0.5555555555555556, \"#d8576b\"], [0.6666666666666666, \"#ed7953\"], [0.7777777777777778, \"#fb9f3a\"], [0.8888888888888888, \"#fdca26\"], [1.0, \"#f0f921\"]]}, \"colorway\": [\"#636efa\", \"#EF553B\", \"#00cc96\", \"#ab63fa\", \"#FFA15A\", \"#19d3f3\", \"#FF6692\", \"#B6E880\", \"#FF97FF\", \"#FECB52\"], \"font\": {\"color\": \"#2a3f5f\"}, \"geo\": {\"bgcolor\": \"white\", \"lakecolor\": \"white\", \"landcolor\": \"#E5ECF6\", \"showlakes\": true, \"showland\": true, \"subunitcolor\": \"white\"}, \"hoverlabel\": {\"align\": \"left\"}, \"hovermode\": \"closest\", \"mapbox\": {\"style\": \"light\"}, \"paper_bgcolor\": \"white\", \"plot_bgcolor\": \"#E5ECF6\", \"polar\": {\"angularaxis\": {\"gridcolor\": \"white\", \"linecolor\": \"white\", \"ticks\": \"\"}, \"bgcolor\": \"#E5ECF6\", \"radialaxis\": {\"gridcolor\": \"white\", \"linecolor\": \"white\", \"ticks\": \"\"}}, \"scene\": {\"xaxis\": {\"backgroundcolor\": \"#E5ECF6\", \"gridcolor\": \"white\", \"gridwidth\": 2, \"linecolor\": \"white\", \"showbackground\": true, \"ticks\": \"\", \"zerolinecolor\": \"white\"}, \"yaxis\": {\"backgroundcolor\": \"#E5ECF6\", \"gridcolor\": \"white\", \"gridwidth\": 2, \"linecolor\": \"white\", \"showbackground\": true, \"ticks\": \"\", \"zerolinecolor\": \"white\"}, \"zaxis\": {\"backgroundcolor\": \"#E5ECF6\", \"gridcolor\": \"white\", \"gridwidth\": 2, \"linecolor\": \"white\", \"showbackground\": true, \"ticks\": \"\", \"zerolinecolor\": \"white\"}}, \"shapedefaults\": {\"line\": {\"color\": \"#2a3f5f\"}}, \"ternary\": {\"aaxis\": {\"gridcolor\": \"white\", \"linecolor\": \"white\", \"ticks\": \"\"}, \"baxis\": {\"gridcolor\": \"white\", \"linecolor\": \"white\", \"ticks\": \"\"}, \"bgcolor\": \"#E5ECF6\", \"caxis\": {\"gridcolor\": \"white\", \"linecolor\": \"white\", \"ticks\": \"\"}}, \"title\": {\"x\": 0.05}, \"xaxis\": {\"automargin\": true, \"gridcolor\": \"white\", \"linecolor\": \"white\", \"ticks\": \"\", \"title\": {\"standoff\": 15}, \"zerolinecolor\": \"white\", \"zerolinewidth\": 2}, \"yaxis\": {\"automargin\": true, \"gridcolor\": \"white\", \"linecolor\": \"white\", \"ticks\": \"\", \"title\": {\"standoff\": 15}, \"zerolinecolor\": \"white\", \"zerolinewidth\": 2}}}, \"xaxis\": {\"anchor\": \"y\", \"domain\": [0.0, 1.0], \"title\": {\"text\": \"index\"}}, \"yaxis\": {\"anchor\": \"x\", \"domain\": [0.0, 1.0], \"title\": {\"text\": \"value\"}}},                        {\"responsive\": true}                    ).then(function(){\n",
       "                            \n",
       "var gd = document.getElementById('b4c430e6-a037-4503-b34e-e07040cfecee');\n",
       "var x = new MutationObserver(function (mutations, observer) {{\n",
       "        var display = window.getComputedStyle(gd).display;\n",
       "        if (!display || display === 'none') {{\n",
       "            console.log([gd, 'removed!']);\n",
       "            Plotly.purge(gd);\n",
       "            observer.disconnect();\n",
       "        }}\n",
       "}});\n",
       "\n",
       "// Listen for the removal of the full notebook cells\n",
       "var notebookContainer = gd.closest('#notebook-container');\n",
       "if (notebookContainer) {{\n",
       "    x.observe(notebookContainer, {childList: true});\n",
       "}}\n",
       "\n",
       "// Listen for the clearing of the current output cell\n",
       "var outputEl = gd.closest('.output');\n",
       "if (outputEl) {{\n",
       "    x.observe(outputEl, {childList: true});\n",
       "}}\n",
       "\n",
       "                        })                };                });            </script>        </div>"
      ]
     },
     "metadata": {},
     "output_type": "display_data"
    }
   ],
   "source": [
    "fig = px.line(platform_plot)\n",
    "fig"
   ]
  },
  {
   "cell_type": "code",
   "execution_count": 267,
   "metadata": {},
   "outputs": [],
   "source": [
    "platform_plot = ps4_plot.to_frame(name='ps4').join(switch_plot.to_frame(name='switch')).join(xbox_plot.to_frame(name='xbox')).join(pc_plot.to_frame(name='pc'))"
   ]
  },
  {
   "cell_type": "code",
   "execution_count": 162,
   "metadata": {},
   "outputs": [],
   "source": [
    "ps4_df = scored_texts_analytics[scored_texts_analytics['platform'].str.contains(\"PS4\")]"
   ]
  },
  {
   "cell_type": "code",
   "execution_count": 256,
   "metadata": {},
   "outputs": [],
   "source": [
    "ps4_plot = ps4_df[['score','stars_mean']].mean()"
   ]
  },
  {
   "cell_type": "code",
   "execution_count": 264,
   "metadata": {},
   "outputs": [],
   "source": [
    "xbox_df = scored_texts_analytics[scored_texts_analytics['platform'].str.contains(\"Xbox One\")]"
   ]
  },
  {
   "cell_type": "code",
   "execution_count": 265,
   "metadata": {},
   "outputs": [],
   "source": [
    "xbox_plot = xbox_df[['score','stars_mean']].mean()"
   ]
  },
  {
   "cell_type": "code",
   "execution_count": 164,
   "metadata": {},
   "outputs": [],
   "source": [
    "pc_df = scored_texts_analytics[scored_texts_analytics['platform'].str.contains(\"PC\")]"
   ]
  },
  {
   "cell_type": "code",
   "execution_count": 266,
   "metadata": {},
   "outputs": [],
   "source": [
    "pc_plot = pc_df[['score','stars_mean']].mean()"
   ]
  },
  {
   "cell_type": "code",
   "execution_count": 147,
   "metadata": {},
   "outputs": [
    {
     "data": {
      "text/plain": [
       "array(['NGE', 'Nintendo 3DS', 'PC PS4 Xbox One Switch', ...,\n",
       "       'PC VitaITA PS4 iPhone', ' iPhone, iPhone', 'PC Wii U Mac iPhone'],\n",
       "      dtype=object)"
      ]
     },
     "execution_count": 147,
     "metadata": {},
     "output_type": "execute_result"
    }
   ],
   "source": [
    "scored_texts_analytics['platform'].unique()"
   ]
  },
  {
   "cell_type": "code",
   "execution_count": 160,
   "metadata": {},
   "outputs": [
    {
     "data": {
      "text/html": [
       "<div>\n",
       "<style scoped>\n",
       "    .dataframe tbody tr th:only-of-type {\n",
       "        vertical-align: middle;\n",
       "    }\n",
       "\n",
       "    .dataframe tbody tr th {\n",
       "        vertical-align: top;\n",
       "    }\n",
       "\n",
       "    .dataframe thead th {\n",
       "        text-align: right;\n",
       "    }\n",
       "</style>\n",
       "<table border=\"1\" class=\"dataframe\">\n",
       "  <thead>\n",
       "    <tr style=\"text-align: right;\">\n",
       "      <th></th>\n",
       "      <th>site</th>\n",
       "      <th>author</th>\n",
       "      <th>game</th>\n",
       "      <th>score</th>\n",
       "      <th>score_adj</th>\n",
       "      <th>stars_mean</th>\n",
       "      <th>company</th>\n",
       "      <th>platform</th>\n",
       "      <th>genre</th>\n",
       "      <th>score_deviation</th>\n",
       "    </tr>\n",
       "  </thead>\n",
       "  <tbody>\n",
       "    <tr>\n",
       "      <th>0</th>\n",
       "      <td>meristation</td>\n",
       "      <td>Javier de Pascual</td>\n",
       "      <td>Metal Gear Solid Mobile</td>\n",
       "      <td>8.5</td>\n",
       "      <td>4.25</td>\n",
       "      <td>3.17</td>\n",
       "      <td>Konami</td>\n",
       "      <td>NGE</td>\n",
       "      <td>Acción, Tactical</td>\n",
       "      <td>-25.411765</td>\n",
       "    </tr>\n",
       "    <tr>\n",
       "      <th>1</th>\n",
       "      <td>meristation</td>\n",
       "      <td>Pablo González</td>\n",
       "      <td>THE DENPA MEN: They Came By Wave</td>\n",
       "      <td>7.2</td>\n",
       "      <td>3.60</td>\n",
       "      <td>4.00</td>\n",
       "      <td>None</td>\n",
       "      <td>Nintendo 3DS</td>\n",
       "      <td>RPG</td>\n",
       "      <td>11.111111</td>\n",
       "    </tr>\n",
       "    <tr>\n",
       "      <th>2</th>\n",
       "      <td>meristation</td>\n",
       "      <td>David Arroyo</td>\n",
       "      <td>Telling Lies</td>\n",
       "      <td>8.0</td>\n",
       "      <td>4.00</td>\n",
       "      <td>3.62</td>\n",
       "      <td>Annapurna Interactive</td>\n",
       "      <td>PC PS4 Xbox One Switch</td>\n",
       "      <td>Aventura</td>\n",
       "      <td>-9.500000</td>\n",
       "    </tr>\n",
       "    <tr>\n",
       "      <th>3</th>\n",
       "      <td>meristation</td>\n",
       "      <td>Salva Fernàndez</td>\n",
       "      <td>Titanfall: IMC Rising</td>\n",
       "      <td>7.0</td>\n",
       "      <td>3.50</td>\n",
       "      <td>3.40</td>\n",
       "      <td>None</td>\n",
       "      <td>PC 360 Xbox One</td>\n",
       "      <td>Acción, First Person Shooter</td>\n",
       "      <td>-2.857143</td>\n",
       "    </tr>\n",
       "    <tr>\n",
       "      <th>4</th>\n",
       "      <td>meristation</td>\n",
       "      <td>None</td>\n",
       "      <td>Moebius: Empire Rising</td>\n",
       "      <td>6.8</td>\n",
       "      <td>3.40</td>\n",
       "      <td>3.08</td>\n",
       "      <td>None</td>\n",
       "      <td>PC Mac iPhone iPad Android</td>\n",
       "      <td>Aventura Gráfica</td>\n",
       "      <td>-9.411765</td>\n",
       "    </tr>\n",
       "    <tr>\n",
       "      <th>...</th>\n",
       "      <td>...</td>\n",
       "      <td>...</td>\n",
       "      <td>...</td>\n",
       "      <td>...</td>\n",
       "      <td>...</td>\n",
       "      <td>...</td>\n",
       "      <td>...</td>\n",
       "      <td>...</td>\n",
       "      <td>...</td>\n",
       "      <td>...</td>\n",
       "    </tr>\n",
       "    <tr>\n",
       "      <th>15533</th>\n",
       "      <td>meristation</td>\n",
       "      <td>Pablo González</td>\n",
       "      <td>Eledees: The Adventures of Kai and Zero</td>\n",
       "      <td>7.5</td>\n",
       "      <td>3.75</td>\n",
       "      <td>3.57</td>\n",
       "      <td>None</td>\n",
       "      <td>DS</td>\n",
       "      <td>Puzzle</td>\n",
       "      <td>-4.800000</td>\n",
       "    </tr>\n",
       "    <tr>\n",
       "      <th>15534</th>\n",
       "      <td>Vandal</td>\n",
       "      <td>Sergio Martín</td>\n",
       "      <td>The Stretchers</td>\n",
       "      <td>7.7</td>\n",
       "      <td>3.85</td>\n",
       "      <td>3.25</td>\n",
       "      <td>Nintendo</td>\n",
       "      <td>Switch</td>\n",
       "      <td>Puzle</td>\n",
       "      <td>-15.584416</td>\n",
       "    </tr>\n",
       "    <tr>\n",
       "      <th>15535</th>\n",
       "      <td>3D Juegos</td>\n",
       "      <td>Jesús Bella</td>\n",
       "      <td>Deadly Creatures</td>\n",
       "      <td>8.0</td>\n",
       "      <td>4.00</td>\n",
       "      <td>3.50</td>\n",
       "      <td>None</td>\n",
       "      <td>Wii</td>\n",
       "      <td>None</td>\n",
       "      <td>-12.500000</td>\n",
       "    </tr>\n",
       "    <tr>\n",
       "      <th>15536</th>\n",
       "      <td>3D Juegos</td>\n",
       "      <td>Sergio Martín</td>\n",
       "      <td>Dragon Ball Z Ultimate Tenkaichi</td>\n",
       "      <td>7.0</td>\n",
       "      <td>3.50</td>\n",
       "      <td>4.00</td>\n",
       "      <td>None</td>\n",
       "      <td>PS3 360</td>\n",
       "      <td>None</td>\n",
       "      <td>14.285714</td>\n",
       "    </tr>\n",
       "    <tr>\n",
       "      <th>15537</th>\n",
       "      <td>3D Juegos</td>\n",
       "      <td>Jesús Bella</td>\n",
       "      <td>Infinite Undiscovery</td>\n",
       "      <td>6.9</td>\n",
       "      <td>3.45</td>\n",
       "      <td>3.20</td>\n",
       "      <td>None</td>\n",
       "      <td>360</td>\n",
       "      <td>None</td>\n",
       "      <td>-7.246377</td>\n",
       "    </tr>\n",
       "  </tbody>\n",
       "</table>\n",
       "<p>15538 rows × 10 columns</p>\n",
       "</div>"
      ],
      "text/plain": [
       "              site             author  \\\n",
       "0      meristation  Javier de Pascual   \n",
       "1      meristation     Pablo González   \n",
       "2      meristation       David Arroyo   \n",
       "3      meristation    Salva Fernàndez   \n",
       "4      meristation               None   \n",
       "...            ...                ...   \n",
       "15533  meristation     Pablo González   \n",
       "15534       Vandal      Sergio Martín   \n",
       "15535    3D Juegos        Jesús Bella   \n",
       "15536    3D Juegos      Sergio Martín   \n",
       "15537    3D Juegos        Jesús Bella   \n",
       "\n",
       "                                          game  score  score_adj  stars_mean  \\\n",
       "0                      Metal Gear Solid Mobile    8.5       4.25        3.17   \n",
       "1             THE DENPA MEN: They Came By Wave    7.2       3.60        4.00   \n",
       "2                                 Telling Lies    8.0       4.00        3.62   \n",
       "3                        Titanfall: IMC Rising    7.0       3.50        3.40   \n",
       "4                       Moebius: Empire Rising    6.8       3.40        3.08   \n",
       "...                                        ...    ...        ...         ...   \n",
       "15533  Eledees: The Adventures of Kai and Zero    7.5       3.75        3.57   \n",
       "15534                           The Stretchers    7.7       3.85        3.25   \n",
       "15535                         Deadly Creatures    8.0       4.00        3.50   \n",
       "15536         Dragon Ball Z Ultimate Tenkaichi    7.0       3.50        4.00   \n",
       "15537                     Infinite Undiscovery    6.9       3.45        3.20   \n",
       "\n",
       "                     company                    platform  \\\n",
       "0                     Konami                         NGE   \n",
       "1                       None                Nintendo 3DS   \n",
       "2      Annapurna Interactive      PC PS4 Xbox One Switch   \n",
       "3                       None             PC 360 Xbox One   \n",
       "4                       None  PC Mac iPhone iPad Android   \n",
       "...                      ...                         ...   \n",
       "15533                   None                          DS   \n",
       "15534               Nintendo                      Switch   \n",
       "15535                   None                         Wii   \n",
       "15536                   None                     PS3 360   \n",
       "15537                   None                         360   \n",
       "\n",
       "                                                  genre  score_deviation  \n",
       "0                  Acción, Tactical                           -25.411765  \n",
       "1                               RPG                            11.111111  \n",
       "2                          Aventura                            -9.500000  \n",
       "3      Acción, First Person Shooter                            -2.857143  \n",
       "4                  Aventura Gráfica                            -9.411765  \n",
       "...                                                 ...              ...  \n",
       "15533                        Puzzle                            -4.800000  \n",
       "15534                                             Puzle       -15.584416  \n",
       "15535                                              None       -12.500000  \n",
       "15536                                              None        14.285714  \n",
       "15537                                              None        -7.246377  \n",
       "\n",
       "[15538 rows x 10 columns]"
      ]
     },
     "execution_count": 160,
     "metadata": {},
     "output_type": "execute_result"
    }
   ],
   "source": [
    "scored_texts_analytics"
   ]
  },
  {
   "cell_type": "code",
   "execution_count": null,
   "metadata": {},
   "outputs": [],
   "source": []
  }
 ],
 "metadata": {
  "kernelspec": {
   "display_name": "Python [conda env:lab_env]",
   "language": "python",
   "name": "conda-env-lab_env-py"
  },
  "language_info": {
   "codemirror_mode": {
    "name": "ipython",
    "version": 3
   },
   "file_extension": ".py",
   "mimetype": "text/x-python",
   "name": "python",
   "nbconvert_exporter": "python",
   "pygments_lexer": "ipython3",
   "version": "3.7.3"
  }
 },
 "nbformat": 4,
 "nbformat_minor": 4
}
