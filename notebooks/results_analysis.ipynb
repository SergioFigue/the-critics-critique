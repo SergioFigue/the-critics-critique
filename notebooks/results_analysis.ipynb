{
 "cells": [
  {
   "cell_type": "markdown",
   "metadata": {},
   "source": [
    "# The Critics Critique Results Analysis"
   ]
  },
  {
   "cell_type": "markdown",
   "metadata": {},
   "source": [
    "## 0. import Libraries"
   ]
  },
  {
   "cell_type": "code",
   "execution_count": 35,
   "metadata": {},
   "outputs": [],
   "source": [
    "import pandas as pd\n",
    "import numpy as np\n",
    "import matplotlib.pyplot as plt\n",
    "import seaborn as sns"
   ]
  },
  {
   "cell_type": "markdown",
   "metadata": {},
   "source": [
    "## 1. import Data"
   ]
  },
  {
   "cell_type": "code",
   "execution_count": 19,
   "metadata": {},
   "outputs": [],
   "source": [
    "all_test = pd.read_csv('../data/all_test.csv')"
   ]
  },
  {
   "cell_type": "code",
   "execution_count": 21,
   "metadata": {},
   "outputs": [
    {
     "data": {
      "text/html": [
       "<div>\n",
       "<style scoped>\n",
       "    .dataframe tbody tr th:only-of-type {\n",
       "        vertical-align: middle;\n",
       "    }\n",
       "\n",
       "    .dataframe tbody tr th {\n",
       "        vertical-align: top;\n",
       "    }\n",
       "\n",
       "    .dataframe thead th {\n",
       "        text-align: right;\n",
       "    }\n",
       "</style>\n",
       "<table border=\"1\" class=\"dataframe\">\n",
       "  <thead>\n",
       "    <tr style=\"text-align: right;\">\n",
       "      <th></th>\n",
       "      <th>site</th>\n",
       "      <th>url_link</th>\n",
       "      <th>author</th>\n",
       "      <th>game</th>\n",
       "      <th>company</th>\n",
       "      <th>genre</th>\n",
       "      <th>platform</th>\n",
       "      <th>text</th>\n",
       "      <th>score</th>\n",
       "      <th>stars</th>\n",
       "      <th>stars_mean</th>\n",
       "      <th>score_label</th>\n",
       "    </tr>\n",
       "  </thead>\n",
       "  <tbody>\n",
       "    <tr>\n",
       "      <th>0</th>\n",
       "      <td>meristation</td>\n",
       "      <td>https://as.com/meristation/2008/12/22/analisis...</td>\n",
       "      <td>Javier de Pascual</td>\n",
       "      <td>Metal Gear Solid Mobile</td>\n",
       "      <td>Konami</td>\n",
       "      <td>Acción, Tactical</td>\n",
       "      <td>NGE</td>\n",
       "      <td>Por alguna extraña razón, cuando el jugón trad...</td>\n",
       "      <td>8.5</td>\n",
       "      <td>[[{'label': '3 stars', 'score': 0.435262888669...</td>\n",
       "      <td>3.60</td>\n",
       "      <td>'4 starts'</td>\n",
       "    </tr>\n",
       "    <tr>\n",
       "      <th>1</th>\n",
       "      <td>meristation</td>\n",
       "      <td>https://as.com/meristation/2012/12/19/analisis...</td>\n",
       "      <td>Pablo González</td>\n",
       "      <td>THE DENPA MEN: They Came By Wave</td>\n",
       "      <td>None</td>\n",
       "      <td>RPG</td>\n",
       "      <td>3DS</td>\n",
       "      <td>Nintendo 3DS ha apostado desde su primer día e...</td>\n",
       "      <td>7.2</td>\n",
       "      <td>[[{'label': '3 stars', 'score': 0.421717613935...</td>\n",
       "      <td>3.20</td>\n",
       "      <td>'4 starts'</td>\n",
       "    </tr>\n",
       "    <tr>\n",
       "      <th>2</th>\n",
       "      <td>meristation</td>\n",
       "      <td>https://as.com/meristation/2019/09/03/analisis...</td>\n",
       "      <td>David Arroyo</td>\n",
       "      <td>Telling Lies</td>\n",
       "      <td>Annapurna Interactive</td>\n",
       "      <td>Aventura</td>\n",
       "      <td>PC PS4 XBO NSW</td>\n",
       "      <td>Hablar de Telling Lies es un poco complicado. ...</td>\n",
       "      <td>8.0</td>\n",
       "      <td>[[{'label': '3 stars', 'score': 0.415306359529...</td>\n",
       "      <td>3.50</td>\n",
       "      <td>'4 starts'</td>\n",
       "    </tr>\n",
       "    <tr>\n",
       "      <th>3</th>\n",
       "      <td>meristation</td>\n",
       "      <td>https://as.com/meristation/2014/10/06/analisis...</td>\n",
       "      <td>Salva Fernàndez</td>\n",
       "      <td>Titanfall: IMC Rising</td>\n",
       "      <td>None</td>\n",
       "      <td>Acción, First Person Shooter</td>\n",
       "      <td>PC 360 XBO</td>\n",
       "      <td>Titanfall recibe el último contenido descargab...</td>\n",
       "      <td>7.0</td>\n",
       "      <td>[[{'label': '3 stars', 'score': 0.483339041471...</td>\n",
       "      <td>3.25</td>\n",
       "      <td>'4 starts'</td>\n",
       "    </tr>\n",
       "    <tr>\n",
       "      <th>4</th>\n",
       "      <td>meristation</td>\n",
       "      <td>https://as.com/meristation/2014/04/16/analisis...</td>\n",
       "      <td>None</td>\n",
       "      <td>Moebius: Empire Rising</td>\n",
       "      <td>None</td>\n",
       "      <td>Aventura Gráfica</td>\n",
       "      <td>PC OSX IPH IPD AND</td>\n",
       "      <td>“Aquellos que no pueden recordar el pasado, es...</td>\n",
       "      <td>6.8</td>\n",
       "      <td>[[{'label': '4 stars', 'score': 0.495593637228...</td>\n",
       "      <td>3.20</td>\n",
       "      <td>'3 starts'</td>\n",
       "    </tr>\n",
       "  </tbody>\n",
       "</table>\n",
       "</div>"
      ],
      "text/plain": [
       "          site                                           url_link  \\\n",
       "0  meristation  https://as.com/meristation/2008/12/22/analisis...   \n",
       "1  meristation  https://as.com/meristation/2012/12/19/analisis...   \n",
       "2  meristation  https://as.com/meristation/2019/09/03/analisis...   \n",
       "3  meristation  https://as.com/meristation/2014/10/06/analisis...   \n",
       "4  meristation  https://as.com/meristation/2014/04/16/analisis...   \n",
       "\n",
       "              author                              game                company  \\\n",
       "0  Javier de Pascual           Metal Gear Solid Mobile                 Konami   \n",
       "1     Pablo González  THE DENPA MEN: They Came By Wave                   None   \n",
       "2       David Arroyo                      Telling Lies  Annapurna Interactive   \n",
       "3    Salva Fernàndez             Titanfall: IMC Rising                   None   \n",
       "4               None            Moebius: Empire Rising                   None   \n",
       "\n",
       "                                              genre            platform  \\\n",
       "0              Acción, Tactical                                     NGE   \n",
       "1                           RPG                                     3DS   \n",
       "2                      Aventura                          PC PS4 XBO NSW   \n",
       "3  Acción, First Person Shooter                              PC 360 XBO   \n",
       "4              Aventura Gráfica                      PC OSX IPH IPD AND   \n",
       "\n",
       "                                                text  score  \\\n",
       "0  Por alguna extraña razón, cuando el jugón trad...    8.5   \n",
       "1  Nintendo 3DS ha apostado desde su primer día e...    7.2   \n",
       "2  Hablar de Telling Lies es un poco complicado. ...    8.0   \n",
       "3  Titanfall recibe el último contenido descargab...    7.0   \n",
       "4  “Aquellos que no pueden recordar el pasado, es...    6.8   \n",
       "\n",
       "                                               stars  stars_mean score_label  \n",
       "0  [[{'label': '3 stars', 'score': 0.435262888669...        3.60  '4 starts'  \n",
       "1  [[{'label': '3 stars', 'score': 0.421717613935...        3.20  '4 starts'  \n",
       "2  [[{'label': '3 stars', 'score': 0.415306359529...        3.50  '4 starts'  \n",
       "3  [[{'label': '3 stars', 'score': 0.483339041471...        3.25  '4 starts'  \n",
       "4  [[{'label': '4 stars', 'score': 0.495593637228...        3.20  '3 starts'  "
      ]
     },
     "execution_count": 21,
     "metadata": {},
     "output_type": "execute_result"
    }
   ],
   "source": [
    "all_test.head()"
   ]
  },
  {
   "cell_type": "code",
   "execution_count": 22,
   "metadata": {},
   "outputs": [],
   "source": [
    "def score_half(score):\n",
    "    return score / 2"
   ]
  },
  {
   "cell_type": "code",
   "execution_count": 23,
   "metadata": {},
   "outputs": [],
   "source": [
    "all_test['score_adj'] = all_test['score'].apply(lambda x: score_half(x))"
   ]
  },
  {
   "cell_type": "code",
   "execution_count": 24,
   "metadata": {},
   "outputs": [
    {
     "data": {
      "text/html": [
       "<div>\n",
       "<style scoped>\n",
       "    .dataframe tbody tr th:only-of-type {\n",
       "        vertical-align: middle;\n",
       "    }\n",
       "\n",
       "    .dataframe tbody tr th {\n",
       "        vertical-align: top;\n",
       "    }\n",
       "\n",
       "    .dataframe thead th {\n",
       "        text-align: right;\n",
       "    }\n",
       "</style>\n",
       "<table border=\"1\" class=\"dataframe\">\n",
       "  <thead>\n",
       "    <tr style=\"text-align: right;\">\n",
       "      <th></th>\n",
       "      <th>site</th>\n",
       "      <th>url_link</th>\n",
       "      <th>author</th>\n",
       "      <th>game</th>\n",
       "      <th>company</th>\n",
       "      <th>genre</th>\n",
       "      <th>platform</th>\n",
       "      <th>text</th>\n",
       "      <th>score</th>\n",
       "      <th>stars</th>\n",
       "      <th>stars_mean</th>\n",
       "      <th>score_label</th>\n",
       "      <th>score_adj</th>\n",
       "    </tr>\n",
       "  </thead>\n",
       "  <tbody>\n",
       "    <tr>\n",
       "      <th>0</th>\n",
       "      <td>meristation</td>\n",
       "      <td>https://as.com/meristation/2008/12/22/analisis...</td>\n",
       "      <td>Javier de Pascual</td>\n",
       "      <td>Metal Gear Solid Mobile</td>\n",
       "      <td>Konami</td>\n",
       "      <td>Acción, Tactical</td>\n",
       "      <td>NGE</td>\n",
       "      <td>Por alguna extraña razón, cuando el jugón trad...</td>\n",
       "      <td>8.5</td>\n",
       "      <td>[[{'label': '3 stars', 'score': 0.435262888669...</td>\n",
       "      <td>3.6</td>\n",
       "      <td>'4 starts'</td>\n",
       "      <td>4.25</td>\n",
       "    </tr>\n",
       "    <tr>\n",
       "      <th>1</th>\n",
       "      <td>meristation</td>\n",
       "      <td>https://as.com/meristation/2012/12/19/analisis...</td>\n",
       "      <td>Pablo González</td>\n",
       "      <td>THE DENPA MEN: They Came By Wave</td>\n",
       "      <td>None</td>\n",
       "      <td>RPG</td>\n",
       "      <td>3DS</td>\n",
       "      <td>Nintendo 3DS ha apostado desde su primer día e...</td>\n",
       "      <td>7.2</td>\n",
       "      <td>[[{'label': '3 stars', 'score': 0.421717613935...</td>\n",
       "      <td>3.2</td>\n",
       "      <td>'4 starts'</td>\n",
       "      <td>3.60</td>\n",
       "    </tr>\n",
       "    <tr>\n",
       "      <th>2</th>\n",
       "      <td>meristation</td>\n",
       "      <td>https://as.com/meristation/2019/09/03/analisis...</td>\n",
       "      <td>David Arroyo</td>\n",
       "      <td>Telling Lies</td>\n",
       "      <td>Annapurna Interactive</td>\n",
       "      <td>Aventura</td>\n",
       "      <td>PC PS4 XBO NSW</td>\n",
       "      <td>Hablar de Telling Lies es un poco complicado. ...</td>\n",
       "      <td>8.0</td>\n",
       "      <td>[[{'label': '3 stars', 'score': 0.415306359529...</td>\n",
       "      <td>3.5</td>\n",
       "      <td>'4 starts'</td>\n",
       "      <td>4.00</td>\n",
       "    </tr>\n",
       "  </tbody>\n",
       "</table>\n",
       "</div>"
      ],
      "text/plain": [
       "          site                                           url_link  \\\n",
       "0  meristation  https://as.com/meristation/2008/12/22/analisis...   \n",
       "1  meristation  https://as.com/meristation/2012/12/19/analisis...   \n",
       "2  meristation  https://as.com/meristation/2019/09/03/analisis...   \n",
       "\n",
       "              author                              game                company  \\\n",
       "0  Javier de Pascual           Metal Gear Solid Mobile                 Konami   \n",
       "1     Pablo González  THE DENPA MEN: They Came By Wave                   None   \n",
       "2       David Arroyo                      Telling Lies  Annapurna Interactive   \n",
       "\n",
       "                                  genre        platform  \\\n",
       "0  Acción, Tactical                                 NGE   \n",
       "1               RPG                                 3DS   \n",
       "2          Aventura                      PC PS4 XBO NSW   \n",
       "\n",
       "                                                text  score  \\\n",
       "0  Por alguna extraña razón, cuando el jugón trad...    8.5   \n",
       "1  Nintendo 3DS ha apostado desde su primer día e...    7.2   \n",
       "2  Hablar de Telling Lies es un poco complicado. ...    8.0   \n",
       "\n",
       "                                               stars  stars_mean score_label  \\\n",
       "0  [[{'label': '3 stars', 'score': 0.435262888669...         3.6  '4 starts'   \n",
       "1  [[{'label': '3 stars', 'score': 0.421717613935...         3.2  '4 starts'   \n",
       "2  [[{'label': '3 stars', 'score': 0.415306359529...         3.5  '4 starts'   \n",
       "\n",
       "   score_adj  \n",
       "0       4.25  \n",
       "1       3.60  \n",
       "2       4.00  "
      ]
     },
     "execution_count": 24,
     "metadata": {},
     "output_type": "execute_result"
    }
   ],
   "source": [
    "all_test.head(3)"
   ]
  },
  {
   "cell_type": "markdown",
   "metadata": {},
   "source": [
    "## 2. Data Analysis"
   ]
  },
  {
   "cell_type": "markdown",
   "metadata": {},
   "source": [
    "### 2.1 Score Deviation\n",
    "As the difference in percentage between adjusted score and computed score."
   ]
  },
  {
   "cell_type": "code",
   "execution_count": 25,
   "metadata": {},
   "outputs": [],
   "source": [
    "all_test_reduced = all_test[['site', 'author', 'game', 'score', 'score_adj', 'stars_mean', 'score_label']]"
   ]
  },
  {
   "cell_type": "code",
   "execution_count": 26,
   "metadata": {},
   "outputs": [
    {
     "data": {
      "text/html": [
       "<div>\n",
       "<style scoped>\n",
       "    .dataframe tbody tr th:only-of-type {\n",
       "        vertical-align: middle;\n",
       "    }\n",
       "\n",
       "    .dataframe tbody tr th {\n",
       "        vertical-align: top;\n",
       "    }\n",
       "\n",
       "    .dataframe thead th {\n",
       "        text-align: right;\n",
       "    }\n",
       "</style>\n",
       "<table border=\"1\" class=\"dataframe\">\n",
       "  <thead>\n",
       "    <tr style=\"text-align: right;\">\n",
       "      <th></th>\n",
       "      <th>site</th>\n",
       "      <th>author</th>\n",
       "      <th>game</th>\n",
       "      <th>score</th>\n",
       "      <th>score_adj</th>\n",
       "      <th>stars_mean</th>\n",
       "      <th>score_label</th>\n",
       "    </tr>\n",
       "  </thead>\n",
       "  <tbody>\n",
       "    <tr>\n",
       "      <th>0</th>\n",
       "      <td>meristation</td>\n",
       "      <td>Javier de Pascual</td>\n",
       "      <td>Metal Gear Solid Mobile</td>\n",
       "      <td>8.5</td>\n",
       "      <td>4.25</td>\n",
       "      <td>3.60</td>\n",
       "      <td>'4 starts'</td>\n",
       "    </tr>\n",
       "    <tr>\n",
       "      <th>1</th>\n",
       "      <td>meristation</td>\n",
       "      <td>Pablo González</td>\n",
       "      <td>THE DENPA MEN: They Came By Wave</td>\n",
       "      <td>7.2</td>\n",
       "      <td>3.60</td>\n",
       "      <td>3.20</td>\n",
       "      <td>'4 starts'</td>\n",
       "    </tr>\n",
       "    <tr>\n",
       "      <th>2</th>\n",
       "      <td>meristation</td>\n",
       "      <td>David Arroyo</td>\n",
       "      <td>Telling Lies</td>\n",
       "      <td>8.0</td>\n",
       "      <td>4.00</td>\n",
       "      <td>3.50</td>\n",
       "      <td>'4 starts'</td>\n",
       "    </tr>\n",
       "    <tr>\n",
       "      <th>3</th>\n",
       "      <td>meristation</td>\n",
       "      <td>Salva Fernàndez</td>\n",
       "      <td>Titanfall: IMC Rising</td>\n",
       "      <td>7.0</td>\n",
       "      <td>3.50</td>\n",
       "      <td>3.25</td>\n",
       "      <td>'4 starts'</td>\n",
       "    </tr>\n",
       "    <tr>\n",
       "      <th>4</th>\n",
       "      <td>meristation</td>\n",
       "      <td>None</td>\n",
       "      <td>Moebius: Empire Rising</td>\n",
       "      <td>6.8</td>\n",
       "      <td>3.40</td>\n",
       "      <td>3.20</td>\n",
       "      <td>'3 starts'</td>\n",
       "    </tr>\n",
       "  </tbody>\n",
       "</table>\n",
       "</div>"
      ],
      "text/plain": [
       "          site             author                              game  score  \\\n",
       "0  meristation  Javier de Pascual           Metal Gear Solid Mobile    8.5   \n",
       "1  meristation     Pablo González  THE DENPA MEN: They Came By Wave    7.2   \n",
       "2  meristation       David Arroyo                      Telling Lies    8.0   \n",
       "3  meristation    Salva Fernàndez             Titanfall: IMC Rising    7.0   \n",
       "4  meristation               None            Moebius: Empire Rising    6.8   \n",
       "\n",
       "   score_adj  stars_mean score_label  \n",
       "0       4.25        3.60  '4 starts'  \n",
       "1       3.60        3.20  '4 starts'  \n",
       "2       4.00        3.50  '4 starts'  \n",
       "3       3.50        3.25  '4 starts'  \n",
       "4       3.40        3.20  '3 starts'  "
      ]
     },
     "execution_count": 26,
     "metadata": {},
     "output_type": "execute_result"
    }
   ],
   "source": [
    "all_test_reduced.head()"
   ]
  },
  {
   "cell_type": "code",
   "execution_count": 27,
   "metadata": {},
   "outputs": [
    {
     "name": "stderr",
     "output_type": "stream",
     "text": [
      "/home/sergio/miniconda3/envs/lab_env/lib/python3.7/site-packages/ipykernel_launcher.py:1: SettingWithCopyWarning: \n",
      "A value is trying to be set on a copy of a slice from a DataFrame.\n",
      "Try using .loc[row_indexer,col_indexer] = value instead\n",
      "\n",
      "See the caveats in the documentation: https://pandas.pydata.org/pandas-docs/stable/user_guide/indexing.html#returning-a-view-versus-a-copy\n",
      "  \"\"\"Entry point for launching an IPython kernel.\n"
     ]
    }
   ],
   "source": [
    "all_test_reduced['score_deviation'] = (all_test_reduced['stars_mean'] - all_test_reduced['score_adj']) / all_test_reduced['score_adj'] * 100"
   ]
  },
  {
   "cell_type": "code",
   "execution_count": 29,
   "metadata": {},
   "outputs": [
    {
     "data": {
      "text/plain": [
       "site\n",
       "3D Juegos     -3.240488\n",
       "Gamereactor   -1.507370\n",
       "Vandal        -6.605534\n",
       "meristation   -6.395963\n",
       "revogamers     2.011905\n",
       "Name: score_deviation, dtype: float64"
      ]
     },
     "execution_count": 29,
     "metadata": {},
     "output_type": "execute_result"
    }
   ],
   "source": [
    "all_test_reduced.groupby('site')['score_deviation'].mean()"
   ]
  },
  {
   "cell_type": "markdown",
   "metadata": {},
   "source": [
    "### 2.2 Plot Score Deviation"
   ]
  },
  {
   "cell_type": "code",
   "execution_count": 118,
   "metadata": {},
   "outputs": [
    {
     "data": {
      "image/png": "[encoded data removed]",
      "text/plain": [
       "<Figure size 720x432 with 1 Axes>"
      ]
     },
     "metadata": {
      "needs_background": "light"
     },
     "output_type": "display_data"
    }
   ],
   "source": [
    "fig, ax = plt.subplots(figsize=(10,6))\n",
    "\n",
    "sns.despine(bottom=True, left=True)\n",
    "sns.pointplot(x=\"site\", y=\"score_deviation\", data=all_test_reduced, join=False, palette=\"dark\", markers=\"d\")\n",
    "\n",
    "sns.stripplot(x=\"site\", y=\"score_deviation\", hue=\"score\",\n",
    "              data=all_test_reduced, dodge=True, alpha=.5, zorder=0.5)\n",
    "\n",
    "handles, labels = ax.get_legend_handles_labels()\n",
    "ax.legend(handles[3:], labels[3:], title=\"Score Deviation(%) per site\", handletextpad=5, frameon=True,bbox_to_anchor=(1.05, 1), loc=2, borderaxespad=0.)\n",
    "plt.show()"
   ]
  },
  {
   "cell_type": "code",
   "execution_count": 108,
   "metadata": {},
   "outputs": [
    {
     "data": {
      "image/png": "[encoded data removed]",
      "text/plain": [
       "<Figure size 720x432 with 1 Axes>"
      ]
     },
     "metadata": {
      "needs_background": "light"
     },
     "output_type": "display_data"
    }
   ],
   "source": [
    "fig, ax = plt.subplots(figsize=(10,6))\n",
    "\n",
    "sns.despine(bottom=True, left=True)\n",
    "sns.stripplot(x=\"score\", y=\"score_deviation\", hue=\"site\",\n",
    "              data=all_test_reduced, dodge=True, alpha=.25, zorder=1)\n",
    "\n",
    "handles, labels = ax.get_legend_handles_labels()\n",
    "ax.legend(handles[3:], labels[3:], title=\"site\",\n",
    "          handletextpad=0, columnspacing=1,\n",
    "          loc=\"lower right\", ncol=3, frameon=True)\n",
    "plt.show()"
   ]
  },
  {
   "cell_type": "code",
   "execution_count": null,
   "metadata": {},
   "outputs": [],
   "source": []
  },
  {
   "cell_type": "code",
   "execution_count": null,
   "metadata": {},
   "outputs": [],
   "source": []
  },
  {
   "cell_type": "markdown",
   "metadata": {},
   "source": [
    "## 3. Streamlit Dashboard Code"
   ]
  },
  {
   "cell_type": "code",
   "execution_count": null,
   "metadata": {},
   "outputs": [],
   "source": [
    "import streamlit as st\n",
    "\n",
    "st.title('The Critics Critique App')\n",
    "st.header('Introduction')\n",
    "st.subheader('Steps')\n",
    "st.text('This is an example')\n",
    "st.latex('y = x²')\n",
    "st.code('if a == 1:\\n    print(a)', language='python')\n",
    "st.markdown(\"This is **text** with markdown\")"
   ]
  },
  {
   "cell_type": "code",
   "execution_count": null,
   "metadata": {},
   "outputs": [],
   "source": []
  },
  {
   "cell_type": "code",
   "execution_count": null,
   "metadata": {},
   "outputs": [],
   "source": []
  },
  {
   "cell_type": "code",
   "execution_count": null,
   "metadata": {},
   "outputs": [],
   "source": []
  }
 ],
 "metadata": {
  "kernelspec": {
   "display_name": "Python [conda env:lab_env]",
   "language": "python",
   "name": "conda-env-lab_env-py"
  },
  "language_info": {
   "codemirror_mode": {
    "name": "ipython",
    "version": 3
   },
   "file_extension": ".py",
   "mimetype": "text/x-python",
   "name": "python",
   "nbconvert_exporter": "python",
   "pygments_lexer": "ipython3",
   "version": "3.7.3"
  }
 },
 "nbformat": 4,
 "nbformat_minor": 4
}
