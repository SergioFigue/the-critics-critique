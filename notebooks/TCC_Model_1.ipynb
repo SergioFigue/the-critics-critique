{
 "cells": [
  {
   "cell_type": "markdown",
   "metadata": {},
   "source": [
    "# The Critics Critique ML model 1 "
   ]
  },
  {
   "cell_type": "markdown",
   "metadata": {},
   "source": [
    "## 0. import libraries"
   ]
  },
  {
   "cell_type": "code",
   "execution_count": 2,
   "metadata": {},
   "outputs": [],
   "source": [
    "import pandas as pd\n",
    "import numpy as np\n",
    "from transformers import pipeline\n",
    "import torch\n",
    "from transformers import AutoTokenizer, AutoModelForSequenceClassification"
   ]
  },
  {
   "cell_type": "markdown",
   "metadata": {},
   "source": [
    "## 1. import dataset"
   ]
  },
  {
   "cell_type": "code",
   "execution_count": 3,
   "metadata": {},
   "outputs": [],
   "source": [
    "gr_meri_revo = pd.read_csv('../data/gr_meri_revo_dataset_3550l.csv')"
   ]
  },
  {
   "cell_type": "markdown",
   "metadata": {},
   "source": [
    "## 2.1 Classifier with transformers plain and basid"
   ]
  },
  {
   "cell_type": "code",
   "execution_count": 56,
   "metadata": {},
   "outputs": [],
   "source": [
    "test_text = gr_meri_revo['text'][0][0:1500]\n"
   ]
  },
  {
   "cell_type": "code",
   "execution_count": 57,
   "metadata": {},
   "outputs": [],
   "source": [
    "test_text2 = gr_meri_revo['text'][0][1500:3000]"
   ]
  },
  {
   "cell_type": "code",
   "execution_count": 58,
   "metadata": {},
   "outputs": [],
   "source": [
    "test_text3 = gr_meri_revo['text'][0][3000:4500]"
   ]
  },
  {
   "cell_type": "code",
   "execution_count": 59,
   "metadata": {},
   "outputs": [],
   "source": [
    "test_text4 = gr_meri_revo['text'][0][4500:6000]"
   ]
  },
  {
   "cell_type": "code",
   "execution_count": 60,
   "metadata": {},
   "outputs": [],
   "source": [
    "#classifier = pipeline('sentiment-analysis')"
   ]
  },
  {
   "cell_type": "code",
   "execution_count": 3,
   "metadata": {},
   "outputs": [],
   "source": [
    "#classifier(test_text4)"
   ]
  },
  {
   "cell_type": "code",
   "execution_count": 3,
   "metadata": {},
   "outputs": [
    {
     "data": {
      "text/html": [
       "<div>\n",
       "<style scoped>\n",
       "    .dataframe tbody tr th:only-of-type {\n",
       "        vertical-align: middle;\n",
       "    }\n",
       "\n",
       "    .dataframe tbody tr th {\n",
       "        vertical-align: top;\n",
       "    }\n",
       "\n",
       "    .dataframe thead th {\n",
       "        text-align: right;\n",
       "    }\n",
       "</style>\n",
       "<table border=\"1\" class=\"dataframe\">\n",
       "  <thead>\n",
       "    <tr style=\"text-align: right;\">\n",
       "      <th></th>\n",
       "      <th>site</th>\n",
       "      <th>url_link</th>\n",
       "      <th>author</th>\n",
       "      <th>game</th>\n",
       "      <th>company</th>\n",
       "      <th>genre</th>\n",
       "      <th>platform</th>\n",
       "      <th>text</th>\n",
       "      <th>score</th>\n",
       "    </tr>\n",
       "  </thead>\n",
       "  <tbody>\n",
       "    <tr>\n",
       "      <th>0</th>\n",
       "      <td>revogamers</td>\n",
       "      <td>https://www.revogamers.net/analisis-w/mega-man...</td>\n",
       "      <td>Javier Aranda</td>\n",
       "      <td>Mega Man 11</td>\n",
       "      <td>None</td>\n",
       "      <td>None</td>\n",
       "      <td>Nintendo Switch</td>\n",
       "      <td>Mega Man está de nuevo de moda. El año pasado ...</td>\n",
       "      <td>7.5</td>\n",
       "    </tr>\n",
       "    <tr>\n",
       "      <th>1</th>\n",
       "      <td>revogamers</td>\n",
       "      <td>https://www.revogamers.net/analisis-w/azkend-2...</td>\n",
       "      <td>Pep H. Conca</td>\n",
       "      <td>Azkend 2: The World Beneath</td>\n",
       "      <td>None</td>\n",
       "      <td>None</td>\n",
       "      <td>eShop, Nintendo Switch</td>\n",
       "      <td>Tras el naufragio del barco de camino a Liverp...</td>\n",
       "      <td>7.5</td>\n",
       "    </tr>\n",
       "    <tr>\n",
       "      <th>2</th>\n",
       "      <td>Gamereactor</td>\n",
       "      <td>https://www.gamereactor.es/football-manager-20...</td>\n",
       "      <td>Johan Vahlström</td>\n",
       "      <td>Football Manager 2019</td>\n",
       "      <td>Sega</td>\n",
       "      <td>Estrategia</td>\n",
       "      <td>PC, Mac</td>\n",
       "      <td>Llevamos desde los 90 con estos simuladores de...</td>\n",
       "      <td>8.0</td>\n",
       "    </tr>\n",
       "    <tr>\n",
       "      <th>3</th>\n",
       "      <td>revogamers</td>\n",
       "      <td>https://www.revogamers.net/analisis-w/bayonett...</td>\n",
       "      <td>Christian Amor</td>\n",
       "      <td>Bayonetta 2</td>\n",
       "      <td>None</td>\n",
       "      <td>None</td>\n",
       "      <td>Nintendo Switch</td>\n",
       "      <td>Son muchas las frases que definen Bayonetta 2 ...</td>\n",
       "      <td>9.0</td>\n",
       "    </tr>\n",
       "    <tr>\n",
       "      <th>4</th>\n",
       "      <td>revogamers</td>\n",
       "      <td>https://www.revogamers.net/analisis-w/analisis...</td>\n",
       "      <td>Marcos Catalán</td>\n",
       "      <td>Mortal Kombat 11</td>\n",
       "      <td>NetherRealm</td>\n",
       "      <td>Lucha</td>\n",
       "      <td>Nintendo Switch</td>\n",
       "      <td>El DLC Aftermath de Mortal Kombat 11 (al análi...</td>\n",
       "      <td>7.0</td>\n",
       "    </tr>\n",
       "  </tbody>\n",
       "</table>\n",
       "</div>"
      ],
      "text/plain": [
       "          site                                           url_link  \\\n",
       "0   revogamers  https://www.revogamers.net/analisis-w/mega-man...   \n",
       "1   revogamers  https://www.revogamers.net/analisis-w/azkend-2...   \n",
       "2  Gamereactor  https://www.gamereactor.es/football-manager-20...   \n",
       "3   revogamers  https://www.revogamers.net/analisis-w/bayonett...   \n",
       "4   revogamers  https://www.revogamers.net/analisis-w/analisis...   \n",
       "\n",
       "            author                          game      company       genre  \\\n",
       "0    Javier Aranda                   Mega Man 11         None        None   \n",
       "1     Pep H. Conca   Azkend 2: The World Beneath         None        None   \n",
       "2  Johan Vahlström         Football Manager 2019         Sega  Estrategia   \n",
       "3   Christian Amor                   Bayonetta 2         None        None   \n",
       "4   Marcos Catalán              Mortal Kombat 11  NetherRealm       Lucha   \n",
       "\n",
       "                 platform                                               text  \\\n",
       "0         Nintendo Switch  Mega Man está de nuevo de moda. El año pasado ...   \n",
       "1  eShop, Nintendo Switch  Tras el naufragio del barco de camino a Liverp...   \n",
       "2                 PC, Mac  Llevamos desde los 90 con estos simuladores de...   \n",
       "3         Nintendo Switch  Son muchas las frases que definen Bayonetta 2 ...   \n",
       "4         Nintendo Switch  El DLC Aftermath de Mortal Kombat 11 (al análi...   \n",
       "\n",
       "   score  \n",
       "0    7.5  \n",
       "1    7.5  \n",
       "2    8.0  \n",
       "3    9.0  \n",
       "4    7.0  "
      ]
     },
     "execution_count": 3,
     "metadata": {},
     "output_type": "execute_result"
    }
   ],
   "source": [
    "gr_meri_revo.head()"
   ]
  },
  {
   "cell_type": "markdown",
   "metadata": {},
   "source": [
    "## 2.2 Classifier with Transformers nlptown/bert-base-multilingual-uncased-sentiment"
   ]
  },
  {
   "cell_type": "code",
   "execution_count": 64,
   "metadata": {},
   "outputs": [
    {
     "data": {
      "application/vnd.jupyter.widget-view+json": {
       "model_id": "0dd939dde37f4a41a37194f80824243f",
       "version_major": 2,
       "version_minor": 0
      },
      "text/plain": [
       "HBox(children=(HTML(value='Downloading'), FloatProgress(value=0.0, max=953.0), HTML(value='')))"
      ]
     },
     "metadata": {},
     "output_type": "display_data"
    },
    {
     "name": "stdout",
     "output_type": "stream",
     "text": [
      "\n"
     ]
    },
    {
     "data": {
      "application/vnd.jupyter.widget-view+json": {
       "model_id": "d32c88297b2440a99a70a6113a264f2c",
       "version_major": 2,
       "version_minor": 0
      },
      "text/plain": [
       "HBox(children=(HTML(value='Downloading'), FloatProgress(value=0.0, max=871891.0), HTML(value='')))"
      ]
     },
     "metadata": {},
     "output_type": "display_data"
    },
    {
     "name": "stdout",
     "output_type": "stream",
     "text": [
      "\n"
     ]
    },
    {
     "data": {
      "application/vnd.jupyter.widget-view+json": {
       "model_id": "07af538aa83f4169a25f90b88c42891b",
       "version_major": 2,
       "version_minor": 0
      },
      "text/plain": [
       "HBox(children=(HTML(value='Downloading'), FloatProgress(value=0.0, max=112.0), HTML(value='')))"
      ]
     },
     "metadata": {},
     "output_type": "display_data"
    },
    {
     "name": "stdout",
     "output_type": "stream",
     "text": [
      "\n"
     ]
    },
    {
     "data": {
      "application/vnd.jupyter.widget-view+json": {
       "model_id": "51616479e7f842df87ada3a767b88c83",
       "version_major": 2,
       "version_minor": 0
      },
      "text/plain": [
       "HBox(children=(HTML(value='Downloading'), FloatProgress(value=0.0, max=39.0), HTML(value='')))"
      ]
     },
     "metadata": {},
     "output_type": "display_data"
    },
    {
     "name": "stdout",
     "output_type": "stream",
     "text": [
      "\n"
     ]
    },
    {
     "data": {
      "application/vnd.jupyter.widget-view+json": {
       "model_id": "72160374d4234a45b21f0ef2b63985cf",
       "version_major": 2,
       "version_minor": 0
      },
      "text/plain": [
       "HBox(children=(HTML(value='Downloading'), FloatProgress(value=0.0, max=669491321.0), HTML(value='')))"
      ]
     },
     "metadata": {},
     "output_type": "display_data"
    },
    {
     "name": "stdout",
     "output_type": "stream",
     "text": [
      "\n"
     ]
    }
   ],
   "source": [
    "'''from transformers import AutoTokenizer, AutoModelForSequenceClassification\n",
    "\n",
    "tokenizer = AutoTokenizer.from_pretrained(\"nlptown/bert-base-multilingual-uncased-sentiment\")\n",
    "\n",
    "model = AutoModelForSequenceClassification.from_pretrained(\"nlptown/bert-base-multilingual-uncased-sentiment\")\n",
    "\n",
    "classifier = pipeline('sentiment-analysis', model=model, tokenizer=tokenizer)\n",
    "'''"
   ]
  },
  {
   "cell_type": "code",
   "execution_count": 76,
   "metadata": {},
   "outputs": [],
   "source": [
    "example_1 = gr_meri_revo['text'][0][-2000:]"
   ]
  },
  {
   "cell_type": "code",
   "execution_count": 77,
   "metadata": {},
   "outputs": [
    {
     "data": {
      "text/plain": [
       "[{'label': '4 stars', 'score': 0.5700036883354187}]"
      ]
     },
     "execution_count": 77,
     "metadata": {},
     "output_type": "execute_result"
    }
   ],
   "source": [
    "classifier(example_1)"
   ]
  },
  {
   "cell_type": "code",
   "execution_count": 80,
   "metadata": {},
   "outputs": [],
   "source": [
    "example_2 = gr_meri_revo['text'][0].rsplit('  ', 1)[1]"
   ]
  },
  {
   "cell_type": "code",
   "execution_count": 81,
   "metadata": {},
   "outputs": [
    {
     "data": {
      "text/plain": [
       "[{'label': '4 stars', 'score': 0.7100672125816345}]"
      ]
     },
     "execution_count": 81,
     "metadata": {},
     "output_type": "execute_result"
    }
   ],
   "source": [
    "classifier(example_2)"
   ]
  },
  {
   "cell_type": "code",
   "execution_count": 97,
   "metadata": {},
   "outputs": [
    {
     "data": {
      "text/html": [
       "<div>\n",
       "<style scoped>\n",
       "    .dataframe tbody tr th:only-of-type {\n",
       "        vertical-align: middle;\n",
       "    }\n",
       "\n",
       "    .dataframe tbody tr th {\n",
       "        vertical-align: top;\n",
       "    }\n",
       "\n",
       "    .dataframe thead th {\n",
       "        text-align: right;\n",
       "    }\n",
       "</style>\n",
       "<table border=\"1\" class=\"dataframe\">\n",
       "  <thead>\n",
       "    <tr style=\"text-align: right;\">\n",
       "      <th></th>\n",
       "      <th>site</th>\n",
       "      <th>url_link</th>\n",
       "      <th>author</th>\n",
       "      <th>game</th>\n",
       "      <th>company</th>\n",
       "      <th>genre</th>\n",
       "      <th>platform</th>\n",
       "      <th>text</th>\n",
       "      <th>score</th>\n",
       "    </tr>\n",
       "  </thead>\n",
       "  <tbody>\n",
       "    <tr>\n",
       "      <th>45</th>\n",
       "      <td>Gamereactor</td>\n",
       "      <td>https://www.gamereactor.es/animal-crossing-new...</td>\n",
       "      <td>Juan A. Fonseca</td>\n",
       "      <td>Animal Crossing: New Horizons</td>\n",
       "      <td>Nintendo</td>\n",
       "      <td>Simulación</td>\n",
       "      <td>Nintendo Switch</td>\n",
       "      <td>¿Qué te llevarías a una isla desierta? No, en ...</td>\n",
       "      <td>9.0</td>\n",
       "    </tr>\n",
       "  </tbody>\n",
       "</table>\n",
       "</div>"
      ],
      "text/plain": [
       "           site                                           url_link  \\\n",
       "45  Gamereactor  https://www.gamereactor.es/animal-crossing-new...   \n",
       "\n",
       "             author                           game   company       genre  \\\n",
       "45  Juan A. Fonseca  Animal Crossing: New Horizons  Nintendo  Simulación   \n",
       "\n",
       "            platform                                               text  score  \n",
       "45   Nintendo Switch  ¿Qué te llevarías a una isla desierta? No, en ...    9.0  "
      ]
     },
     "execution_count": 97,
     "metadata": {},
     "output_type": "execute_result"
    }
   ],
   "source": [
    "gr_meri_revo[45:46]"
   ]
  },
  {
   "cell_type": "code",
   "execution_count": 111,
   "metadata": {},
   "outputs": [
    {
     "data": {
      "text/plain": [
       "' isla. Algo sensacional para jugar en familia, aunque algo molesto si quieres algo totalmente independiente del resto. Esperaré a que llegue a las tiendas para poder invitar a conocidos a mi nuevo hogar, para visitar los suyos y para poder compartir todavía más. Porque, si hay algo que le sienta genial a Animal Crossing, sin duda es el componente multijugador. Logra hacer fácil lo difícil, porque es capaz de cobijar bajo un mismo paraguas a perfiles de jugadores diferentes. Tras la premisa de la isla desierta, el crafteo y el coleccionismo, se esconde un juego que encaja con aquellas personas que adoran pasar horas decorando, con los que son más de hablar con sus vecinos y ver las locuras o esos pequeños gestos que llevan a cabo a diario (cantar en la plaza, atrapar bichos, pescar, pasear, hacer ejercicios...) o, incluso, con quienes son más de recopilar materiales y especular con sus precios, o con esos preciados nabos. Hay sitio para todos. Y lo seguirá habiendo durante mucho tiempo, porque como decía antes, este es un juego sin fin, uno al que siempre volver incluso meses y meses más tarde. Todo para ver cómo van los vecinos, para crear un nuevo diseño de camiseta, para modificar el himno de tu isla o para ver cómo se celebran ciertas festividades (no olvidemos que esta saga fue la que hizo que los de Kioto descubrieran las doce uvas del fin de año español). Una evolución muy atada a las raíces, pero tocando los palos necesarios para ser todavía más interesante. Animal Crossing: New Horizons es la excusa perfecta para llevar siempre tu Switch contigo. Un juego que encandila desde el primer momento, que te atrapa de lleno, que te ofrece la oportunidad de disfrutar de una nueva vida en un micromundo diseñado a tu total antojo. Siempre tiene algo nuevo que ofrecer y siempre da motivos para volver a él. Respecto a la pregunta del principio, ahora sí que tengo clara la respuesta: si tuviera que elegir qué llevarme a una isla desierta, me llevaría este Animal Crossing.'"
      ]
     },
     "execution_count": 111,
     "metadata": {},
     "output_type": "execute_result"
    }
   ],
   "source": [
    "gr_meri_revo['text'][45][-2000:]"
   ]
  },
  {
   "cell_type": "code",
   "execution_count": 113,
   "metadata": {},
   "outputs": [],
   "source": [
    "example_3 = gr_meri_revo['text'][45]"
   ]
  },
  {
   "cell_type": "code",
   "execution_count": 158,
   "metadata": {},
   "outputs": [],
   "source": [
    "n = 2000\n",
    "\n",
    "text_splitted = [(example_3[i:i+n]) for i in range(0, len(example_3), n)]"
   ]
  },
  {
   "cell_type": "code",
   "execution_count": 159,
   "metadata": {},
   "outputs": [
    {
     "name": "stdout",
     "output_type": "stream",
     "text": [
      "[{'label': '3 stars', 'score': 0.3644101321697235}]\n",
      "[{'label': '4 stars', 'score': 0.5320139527320862}]\n",
      "[{'label': '3 stars', 'score': 0.4770553410053253}]\n",
      "[{'label': '4 stars', 'score': 0.6022696495056152}]\n",
      "[{'label': '4 stars', 'score': 0.6068933010101318}]\n",
      "[{'label': '3 stars', 'score': 0.5202471613883972}]\n"
     ]
    }
   ],
   "source": [
    "for text in text_splitted:\n",
    "    (classifier(text))"
   ]
  },
  {
   "cell_type": "code",
   "execution_count": 171,
   "metadata": {},
   "outputs": [],
   "source": []
  },
  {
   "cell_type": "code",
   "execution_count": 5,
   "metadata": {},
   "outputs": [
    {
     "data": {
      "text/plain": [
       "'from adaptnlp import EasySequenceClassifier\\n\\nclassifier = EasySequenceClassifier()\\n\\nsentences = classifier.tag_text(\\n    text=text_splitted,\\n    model_name_or_path=\"nlptown/bert-base-multilingual-uncased-sentiment\",\\n    padding=\\'longest\\',\\n    mini_batch_size=4\\n)\\n\\nprint(\"Tag Score Outputs:\\n\")\\nfor sentence in sentences:\\n    print(f\"Fragment {sentences.index(sentence)}: {sentence.labels}\")'"
      ]
     },
     "execution_count": 5,
     "metadata": {},
     "output_type": "execute_result"
    }
   ],
   "source": [
    "# This let us see prob for every batch 1-5\n",
    "\n",
    "'''from adaptnlp import EasySequenceClassifier\n",
    "\n",
    "classifier = EasySequenceClassifier()\n",
    "\n",
    "sentences = classifier.tag_text(\n",
    "    text=text_splitted,\n",
    "    model_name_or_path=\"nlptown/bert-base-multilingual-uncased-sentiment\",\n",
    "    padding='longest',\n",
    "    mini_batch_size=4\n",
    ")\n",
    "\n",
    "print(\"Tag Score Outputs:\\n\")\n",
    "for sentence in sentences:\n",
    "    print(f\"Fragment {sentences.index(sentence)}: {sentence.labels}\")'''"
   ]
  },
  {
   "cell_type": "markdown",
   "metadata": {},
   "source": [
    "## Sentiment function "
   ]
  },
  {
   "cell_type": "code",
   "execution_count": 230,
   "metadata": {},
   "outputs": [],
   "source": [
    "def sentiment_analysis_indep(df):\n",
    "    global_stars = []\n",
    "    \n",
    "    # Select model\n",
    "    nld_model = 'nlptown/bert-base-multilingual-uncased-sentiment'\n",
    "    tokenizer = AutoTokenizer.from_pretrained(nld_model)\n",
    "    model = AutoModelForSequenceClassification.from_pretrained(nld_model)\n",
    "\n",
    "    # Classifier\n",
    "    classifier = pipeline(\n",
    "        'sentiment-analysis', \n",
    "        model=model, \n",
    "        tokenizer=tokenizer\n",
    "    )\n",
    "    \n",
    "    # Adapt review lenght to max tokens\n",
    "    #for ind in df.index:\n",
    "        #print(gr_meri_revo['game'][ind])\n",
    "        n = 1900\n",
    "    #    review = gr_meri_revo['text'][ind]\n",
    "        review_splitted = [(review[i:i+n]) for i in range(0, len(review), n)]\n",
    "        #print(len(review_splitted))\n",
    "    \n",
    "    # Classifying \n",
    "        for text in review_splitted:\n",
    "            stars = (classifier(text))\n",
    "            global_stars.append(stars)\n",
    "\n",
    "    return global_stars\n",
    "    "
   ]
  },
  {
   "cell_type": "code",
   "execution_count": 4,
   "metadata": {},
   "outputs": [],
   "source": [
    "#sentiment_analysis_indep(gr_meri_revo[0:2])"
   ]
  },
  {
   "cell_type": "code",
   "execution_count": 6,
   "metadata": {},
   "outputs": [],
   "source": [
    "global_stars"
   ]
  },
  {
   "cell_type": "code",
   "execution_count": 7,
   "metadata": {},
   "outputs": [],
   "source": [
    "def sentiment_analysis_pandas(review):\n",
    "    global_stars = []\n",
    "    n = 2000\n",
    "    \n",
    "    # Select model\n",
    "    nld_model = 'nlptown/bert-base-multilingual-uncased-sentiment'\n",
    "    tokenizer = AutoTokenizer.from_pretrained(nld_model)\n",
    "    model = AutoModelForSequenceClassification.from_pretrained(nld_model)\n",
    "\n",
    "    # Classifier\n",
    "    classifier = pipeline(\n",
    "        'sentiment-analysis', \n",
    "        model=model, \n",
    "        tokenizer=tokenizer\n",
    "    )\n",
    "    \n",
    "    review_splitted = [(review[i:i+n]) for i in range(0, len(review), n)]    \n",
    "    \n",
    "    for text in review_splitted:\n",
    "        stars = (classifier(text))\n",
    "        global_stars.append(stars)\n",
    "\n",
    "    return global_stars\n"
   ]
  },
  {
   "cell_type": "code",
   "execution_count": 4,
   "metadata": {},
   "outputs": [],
   "source": [
    "#gr_meri_revo['stars'] = gr_meri_revo['text'].apply(lambda x: sentiment_analysis_panda(x))"
   ]
  },
  {
   "cell_type": "code",
   "execution_count": 8,
   "metadata": {},
   "outputs": [],
   "source": [
    "test_df = gr_meri_revo[:5]"
   ]
  },
  {
   "cell_type": "code",
   "execution_count": 9,
   "metadata": {},
   "outputs": [
    {
     "name": "stderr",
     "output_type": "stream",
     "text": [
      "/home/sergio/miniconda3/envs/lab_env/lib/python3.7/site-packages/ipykernel_launcher.py:1: SettingWithCopyWarning: \n",
      "A value is trying to be set on a copy of a slice from a DataFrame.\n",
      "Try using .loc[row_indexer,col_indexer] = value instead\n",
      "\n",
      "See the caveats in the documentation: https://pandas.pydata.org/pandas-docs/stable/user_guide/indexing.html#returning-a-view-versus-a-copy\n",
      "  \"\"\"Entry point for launching an IPython kernel.\n"
     ]
    }
   ],
   "source": [
    "test_df['stars'] = test_df['text'].apply(lambda x: sentiment_analysis_pandas(x))"
   ]
  },
  {
   "cell_type": "code",
   "execution_count": 11,
   "metadata": {},
   "outputs": [
    {
     "data": {
      "text/plain": [
       "[[{'label': '4 stars', 'score': 0.5440895557403564}],\n",
       " [{'label': '4 stars', 'score': 0.4775305390357971}],\n",
       " [{'label': '3 stars', 'score': 0.47388455271720886}],\n",
       " [{'label': '4 stars', 'score': 0.6702184081077576}]]"
      ]
     },
     "execution_count": 11,
     "metadata": {},
     "output_type": "execute_result"
    }
   ],
   "source": [
    "test_df['stars'][0]"
   ]
  },
  {
   "cell_type": "code",
   "execution_count": 148,
   "metadata": {},
   "outputs": [
    {
     "name": "stdout",
     "output_type": "stream",
     "text": [
      "[{'label': '4 stars', 'score': 0.5440895557403564}]\n"
     ]
    },
    {
     "ename": "TypeError",
     "evalue": "list indices must be integers or slices, not str",
     "output_type": "error",
     "traceback": [
      "\u001b[0;31m---------------------------------------------------------------------------\u001b[0m",
      "\u001b[0;31mTypeError\u001b[0m                                 Traceback (most recent call last)",
      "\u001b[0;32m<ipython-input-148-2efa65e79574>\u001b[0m in \u001b[0;36m<module>\u001b[0;34m\u001b[0m\n\u001b[1;32m      5\u001b[0m     \u001b[0;32mfor\u001b[0m \u001b[0mlabel\u001b[0m \u001b[0;32min\u001b[0m \u001b[0mresults\u001b[0m\u001b[0;34m:\u001b[0m\u001b[0;34m\u001b[0m\u001b[0;34m\u001b[0m\u001b[0m\n\u001b[1;32m      6\u001b[0m         \u001b[0mprint\u001b[0m\u001b[0;34m(\u001b[0m\u001b[0mlabel\u001b[0m\u001b[0;34m)\u001b[0m\u001b[0;34m\u001b[0m\u001b[0;34m\u001b[0m\u001b[0m\n\u001b[0;32m----> 7\u001b[0;31m         \u001b[0mpuctuation\u001b[0m \u001b[0;34m=\u001b[0m \u001b[0mlabel\u001b[0m\u001b[0;34m[\u001b[0m\u001b[0;34m'label'\u001b[0m\u001b[0;34m]\u001b[0m\u001b[0;34m[\u001b[0m\u001b[0;36m0\u001b[0m\u001b[0;34m]\u001b[0m\u001b[0;34m.\u001b[0m\u001b[0msplit\u001b[0m\u001b[0;34m(\u001b[0m\u001b[0;34m' '\u001b[0m\u001b[0;34m)\u001b[0m\u001b[0;34m[\u001b[0m\u001b[0;36m0\u001b[0m\u001b[0;34m]\u001b[0m\u001b[0;34m\u001b[0m\u001b[0;34m\u001b[0m\u001b[0m\n\u001b[0m\u001b[1;32m      8\u001b[0m         \u001b[0mprint\u001b[0m\u001b[0;34m(\u001b[0m\u001b[0mlista\u001b[0m\u001b[0;34m)\u001b[0m\u001b[0;34m\u001b[0m\u001b[0;34m\u001b[0m\u001b[0m\n\u001b[1;32m      9\u001b[0m         \u001b[0mpoints\u001b[0m\u001b[0;34m.\u001b[0m\u001b[0mappend\u001b[0m\u001b[0;34m(\u001b[0m\u001b[0mpunctuation\u001b[0m\u001b[0;34m)\u001b[0m\u001b[0;34m\u001b[0m\u001b[0;34m\u001b[0m\u001b[0m\n",
      "\u001b[0;31mTypeError\u001b[0m: list indices must be integers or slices, not str"
     ]
    }
   ],
   "source": [
    "for results in test_df['stars']:\n",
    "   \n",
    "    points = []\n",
    "    \n",
    "    for label in results:\n",
    "        print(label)\n",
    "        puctuation = label['label'][0].split(' ')[0]\n",
    "        print(lista)\n",
    "        points.append(punctuation)\n",
    "\n",
    "    score = round(np.mean(points), 2) * 2   \n",
    "    print(score)     \n",
    "        #punctuation = int(a['label'].split(' ')[0])\n",
    "        #print(puctuation)\n",
    "#        for a in label:\n",
    "            \n",
    "            #Mean of fragment scores x2 as Spanish score range is 1-10\n",
    "#            punctuation = int(a['label'].split(' ')[0])\n",
    "#            points.append(punctuation)  \n",
    "#            score = round(np.mean(points), 2) * 2\n",
    "\n",
    "    #print(score)    \n",
    "    "
   ]
  },
  {
   "cell_type": "markdown",
   "metadata": {},
   "source": [
    "### Sentiment Synthetic Score Function"
   ]
  },
  {
   "cell_type": "code",
   "execution_count": 13,
   "metadata": {},
   "outputs": [],
   "source": [
    "def stars_mean_to_score(review):\n",
    "    \n",
    "    points = []\n",
    "\n",
    "    for classifications in review:\n",
    "        for classification in classifications:\n",
    "\n",
    "            #Mean of fragment scores x2 as Spanish score range is 1-10\n",
    "            grade = int(classification['label'].split(' ')[0])\n",
    "            points.append(grade)  \n",
    "        score = round(np.mean(points), 2) * 2\n",
    "\n",
    "    return(score)   "
   ]
  },
  {
   "cell_type": "code",
   "execution_count": 14,
   "metadata": {},
   "outputs": [
    {
     "name": "stderr",
     "output_type": "stream",
     "text": [
      "/home/sergio/miniconda3/envs/lab_env/lib/python3.7/site-packages/ipykernel_launcher.py:1: SettingWithCopyWarning: \n",
      "A value is trying to be set on a copy of a slice from a DataFrame.\n",
      "Try using .loc[row_indexer,col_indexer] = value instead\n",
      "\n",
      "See the caveats in the documentation: https://pandas.pydata.org/pandas-docs/stable/user_guide/indexing.html#returning-a-view-versus-a-copy\n",
      "  \"\"\"Entry point for launching an IPython kernel.\n"
     ]
    }
   ],
   "source": [
    "test_df['stars_mean'] = test_df['stars'].apply(lambda x: stars_mean_to_score(x))"
   ]
  },
  {
   "cell_type": "code",
   "execution_count": 15,
   "metadata": {},
   "outputs": [
    {
     "data": {
      "text/html": [
       "<div>\n",
       "<style scoped>\n",
       "    .dataframe tbody tr th:only-of-type {\n",
       "        vertical-align: middle;\n",
       "    }\n",
       "\n",
       "    .dataframe tbody tr th {\n",
       "        vertical-align: top;\n",
       "    }\n",
       "\n",
       "    .dataframe thead th {\n",
       "        text-align: right;\n",
       "    }\n",
       "</style>\n",
       "<table border=\"1\" class=\"dataframe\">\n",
       "  <thead>\n",
       "    <tr style=\"text-align: right;\">\n",
       "      <th></th>\n",
       "      <th>site</th>\n",
       "      <th>url_link</th>\n",
       "      <th>author</th>\n",
       "      <th>game</th>\n",
       "      <th>company</th>\n",
       "      <th>genre</th>\n",
       "      <th>platform</th>\n",
       "      <th>text</th>\n",
       "      <th>score</th>\n",
       "      <th>stars</th>\n",
       "      <th>stars_mean</th>\n",
       "    </tr>\n",
       "  </thead>\n",
       "  <tbody>\n",
       "    <tr>\n",
       "      <th>0</th>\n",
       "      <td>revogamers</td>\n",
       "      <td>https://www.revogamers.net/analisis-w/mega-man...</td>\n",
       "      <td>Javier Aranda</td>\n",
       "      <td>Mega Man 11</td>\n",
       "      <td>None</td>\n",
       "      <td>None</td>\n",
       "      <td>Nintendo Switch</td>\n",
       "      <td>Mega Man está de nuevo de moda. El año pasado ...</td>\n",
       "      <td>7.5</td>\n",
       "      <td>[[{'label': '4 stars', 'score': 0.544089555740...</td>\n",
       "      <td>7.50</td>\n",
       "    </tr>\n",
       "    <tr>\n",
       "      <th>1</th>\n",
       "      <td>revogamers</td>\n",
       "      <td>https://www.revogamers.net/analisis-w/azkend-2...</td>\n",
       "      <td>Pep H. Conca</td>\n",
       "      <td>Azkend 2: The World Beneath</td>\n",
       "      <td>None</td>\n",
       "      <td>None</td>\n",
       "      <td>eShop, Nintendo Switch</td>\n",
       "      <td>Tras el naufragio del barco de camino a Liverp...</td>\n",
       "      <td>7.5</td>\n",
       "      <td>[[{'label': '4 stars', 'score': 0.691606879234...</td>\n",
       "      <td>8.00</td>\n",
       "    </tr>\n",
       "    <tr>\n",
       "      <th>2</th>\n",
       "      <td>Gamereactor</td>\n",
       "      <td>https://www.gamereactor.es/football-manager-20...</td>\n",
       "      <td>Johan Vahlström</td>\n",
       "      <td>Football Manager 2019</td>\n",
       "      <td>Sega</td>\n",
       "      <td>Estrategia</td>\n",
       "      <td>PC, Mac</td>\n",
       "      <td>Llevamos desde los 90 con estos simuladores de...</td>\n",
       "      <td>8.0</td>\n",
       "      <td>[[{'label': '4 stars', 'score': 0.372987985610...</td>\n",
       "      <td>7.00</td>\n",
       "    </tr>\n",
       "    <tr>\n",
       "      <th>3</th>\n",
       "      <td>revogamers</td>\n",
       "      <td>https://www.revogamers.net/analisis-w/bayonett...</td>\n",
       "      <td>Christian Amor</td>\n",
       "      <td>Bayonetta 2</td>\n",
       "      <td>None</td>\n",
       "      <td>None</td>\n",
       "      <td>Nintendo Switch</td>\n",
       "      <td>Son muchas las frases que definen Bayonetta 2 ...</td>\n",
       "      <td>9.0</td>\n",
       "      <td>[[{'label': '4 stars', 'score': 0.422737836837...</td>\n",
       "      <td>7.14</td>\n",
       "    </tr>\n",
       "    <tr>\n",
       "      <th>4</th>\n",
       "      <td>revogamers</td>\n",
       "      <td>https://www.revogamers.net/analisis-w/analisis...</td>\n",
       "      <td>Marcos Catalán</td>\n",
       "      <td>Mortal Kombat 11</td>\n",
       "      <td>NetherRealm</td>\n",
       "      <td>Lucha</td>\n",
       "      <td>Nintendo Switch</td>\n",
       "      <td>El DLC Aftermath de Mortal Kombat 11 (al análi...</td>\n",
       "      <td>7.0</td>\n",
       "      <td>[[{'label': '2 stars', 'score': 0.387944757938...</td>\n",
       "      <td>6.66</td>\n",
       "    </tr>\n",
       "  </tbody>\n",
       "</table>\n",
       "</div>"
      ],
      "text/plain": [
       "          site                                           url_link  \\\n",
       "0   revogamers  https://www.revogamers.net/analisis-w/mega-man...   \n",
       "1   revogamers  https://www.revogamers.net/analisis-w/azkend-2...   \n",
       "2  Gamereactor  https://www.gamereactor.es/football-manager-20...   \n",
       "3   revogamers  https://www.revogamers.net/analisis-w/bayonett...   \n",
       "4   revogamers  https://www.revogamers.net/analisis-w/analisis...   \n",
       "\n",
       "            author                          game      company       genre  \\\n",
       "0    Javier Aranda                   Mega Man 11         None        None   \n",
       "1     Pep H. Conca   Azkend 2: The World Beneath         None        None   \n",
       "2  Johan Vahlström         Football Manager 2019         Sega  Estrategia   \n",
       "3   Christian Amor                   Bayonetta 2         None        None   \n",
       "4   Marcos Catalán              Mortal Kombat 11  NetherRealm       Lucha   \n",
       "\n",
       "                 platform                                               text  \\\n",
       "0         Nintendo Switch  Mega Man está de nuevo de moda. El año pasado ...   \n",
       "1  eShop, Nintendo Switch  Tras el naufragio del barco de camino a Liverp...   \n",
       "2                 PC, Mac  Llevamos desde los 90 con estos simuladores de...   \n",
       "3         Nintendo Switch  Son muchas las frases que definen Bayonetta 2 ...   \n",
       "4         Nintendo Switch  El DLC Aftermath de Mortal Kombat 11 (al análi...   \n",
       "\n",
       "   score                                              stars  stars_mean  \n",
       "0    7.5  [[{'label': '4 stars', 'score': 0.544089555740...        7.50  \n",
       "1    7.5  [[{'label': '4 stars', 'score': 0.691606879234...        8.00  \n",
       "2    8.0  [[{'label': '4 stars', 'score': 0.372987985610...        7.00  \n",
       "3    9.0  [[{'label': '4 stars', 'score': 0.422737836837...        7.14  \n",
       "4    7.0  [[{'label': '2 stars', 'score': 0.387944757938...        6.66  "
      ]
     },
     "execution_count": 15,
     "metadata": {},
     "output_type": "execute_result"
    }
   ],
   "source": [
    "test_df"
   ]
  },
  {
   "cell_type": "code",
   "execution_count": null,
   "metadata": {},
   "outputs": [],
   "source": []
  }
 ],
 "metadata": {
  "kernelspec": {
   "display_name": "Python [conda env:lab_env]",
   "language": "python",
   "name": "conda-env-lab_env-py"
  },
  "language_info": {
   "codemirror_mode": {
    "name": "ipython",
    "version": 3
   },
   "file_extension": ".py",
   "mimetype": "text/x-python",
   "name": "python",
   "nbconvert_exporter": "python",
   "pygments_lexer": "ipython3",
   "version": "3.7.3"
  }
 },
 "nbformat": 4,
 "nbformat_minor": 4
}
