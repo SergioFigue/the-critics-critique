{
 "cells": [
  {
   "cell_type": "markdown",
   "metadata": {},
   "source": [
    "# The Critics Critique ML model 1 "
   ]
  },
  {
   "cell_type": "markdown",
   "metadata": {},
   "source": [
    "## 0. import libraries"
   ]
  },
  {
   "cell_type": "code",
   "execution_count": 4,
   "metadata": {},
   "outputs": [],
   "source": [
    "import pandas as pd\n",
    "import numpy as np\n",
    "from transformers import pipeline\n",
    "import torch\n",
    "from transformers import AutoTokenizer, AutoModelForSequenceClassification"
   ]
  },
  {
   "cell_type": "markdown",
   "metadata": {},
   "source": [
    "## 1. import dataset"
   ]
  },
  {
   "cell_type": "code",
   "execution_count": 5,
   "metadata": {},
   "outputs": [],
   "source": [
    "gr_meri_revo = pd.read_csv('../data/gr_meri_revo_dataset_3550l.csv')"
   ]
  },
  {
   "cell_type": "markdown",
   "metadata": {},
   "source": [
    "## 2.1 Classifier with transformers plain and basid"
   ]
  },
  {
   "cell_type": "code",
   "execution_count": 56,
   "metadata": {},
   "outputs": [],
   "source": [
    "test_text = gr_meri_revo['text'][0][0:1500]\n"
   ]
  },
  {
   "cell_type": "code",
   "execution_count": 57,
   "metadata": {},
   "outputs": [],
   "source": [
    "test_text2 = gr_meri_revo['text'][0][1500:3000]"
   ]
  },
  {
   "cell_type": "code",
   "execution_count": 58,
   "metadata": {},
   "outputs": [],
   "source": [
    "test_text3 = gr_meri_revo['text'][0][3000:4500]"
   ]
  },
  {
   "cell_type": "code",
   "execution_count": 59,
   "metadata": {},
   "outputs": [],
   "source": [
    "test_text4 = gr_meri_revo['text'][0][4500:6000]"
   ]
  },
  {
   "cell_type": "code",
   "execution_count": 60,
   "metadata": {},
   "outputs": [],
   "source": [
    "#classifier = pipeline('sentiment-analysis')"
   ]
  },
  {
   "cell_type": "code",
   "execution_count": 61,
   "metadata": {},
   "outputs": [
    {
     "ename": "NameError",
     "evalue": "name 'classifier' is not defined",
     "output_type": "error",
     "traceback": [
      "\u001b[0;31m---------------------------------------------------------------------------\u001b[0m",
      "\u001b[0;31mNameError\u001b[0m                                 Traceback (most recent call last)",
      "\u001b[0;32m<ipython-input-61-ad7cefdfa6c2>\u001b[0m in \u001b[0;36m<module>\u001b[0;34m\u001b[0m\n\u001b[0;32m----> 1\u001b[0;31m \u001b[0mclassifier\u001b[0m\u001b[0;34m(\u001b[0m\u001b[0mtest_text4\u001b[0m\u001b[0;34m)\u001b[0m\u001b[0;34m\u001b[0m\u001b[0;34m\u001b[0m\u001b[0m\n\u001b[0m",
      "\u001b[0;31mNameError\u001b[0m: name 'classifier' is not defined"
     ]
    }
   ],
   "source": [
    "classifier(test_text4)"
   ]
  },
  {
   "cell_type": "code",
   "execution_count": 62,
   "metadata": {},
   "outputs": [
    {
     "data": {
      "text/html": [
       "<div>\n",
       "<style scoped>\n",
       "    .dataframe tbody tr th:only-of-type {\n",
       "        vertical-align: middle;\n",
       "    }\n",
       "\n",
       "    .dataframe tbody tr th {\n",
       "        vertical-align: top;\n",
       "    }\n",
       "\n",
       "    .dataframe thead th {\n",
       "        text-align: right;\n",
       "    }\n",
       "</style>\n",
       "<table border=\"1\" class=\"dataframe\">\n",
       "  <thead>\n",
       "    <tr style=\"text-align: right;\">\n",
       "      <th></th>\n",
       "      <th>site</th>\n",
       "      <th>url_link</th>\n",
       "      <th>author</th>\n",
       "      <th>game</th>\n",
       "      <th>company</th>\n",
       "      <th>genre</th>\n",
       "      <th>platform</th>\n",
       "      <th>text</th>\n",
       "      <th>score</th>\n",
       "    </tr>\n",
       "  </thead>\n",
       "  <tbody>\n",
       "    <tr>\n",
       "      <th>0</th>\n",
       "      <td>revogamers</td>\n",
       "      <td>https://www.revogamers.net/analisis-w/mega-man...</td>\n",
       "      <td>Javier Aranda</td>\n",
       "      <td>Mega Man 11</td>\n",
       "      <td>None</td>\n",
       "      <td>None</td>\n",
       "      <td>Nintendo Switch</td>\n",
       "      <td>Mega Man está de nuevo de moda. El año pasado ...</td>\n",
       "      <td>7.5</td>\n",
       "    </tr>\n",
       "    <tr>\n",
       "      <th>1</th>\n",
       "      <td>revogamers</td>\n",
       "      <td>https://www.revogamers.net/analisis-w/azkend-2...</td>\n",
       "      <td>Pep H. Conca</td>\n",
       "      <td>Azkend 2: The World Beneath</td>\n",
       "      <td>None</td>\n",
       "      <td>None</td>\n",
       "      <td>eShop, Nintendo Switch</td>\n",
       "      <td>Tras el naufragio del barco de camino a Liverp...</td>\n",
       "      <td>7.5</td>\n",
       "    </tr>\n",
       "    <tr>\n",
       "      <th>2</th>\n",
       "      <td>Gamereactor</td>\n",
       "      <td>https://www.gamereactor.es/football-manager-20...</td>\n",
       "      <td>Johan Vahlström</td>\n",
       "      <td>Football Manager 2019</td>\n",
       "      <td>Sega</td>\n",
       "      <td>Estrategia</td>\n",
       "      <td>PC, Mac</td>\n",
       "      <td>Llevamos desde los 90 con estos simuladores de...</td>\n",
       "      <td>8.0</td>\n",
       "    </tr>\n",
       "    <tr>\n",
       "      <th>3</th>\n",
       "      <td>revogamers</td>\n",
       "      <td>https://www.revogamers.net/analisis-w/bayonett...</td>\n",
       "      <td>Christian Amor</td>\n",
       "      <td>Bayonetta 2</td>\n",
       "      <td>None</td>\n",
       "      <td>None</td>\n",
       "      <td>Nintendo Switch</td>\n",
       "      <td>Son muchas las frases que definen Bayonetta 2 ...</td>\n",
       "      <td>9.0</td>\n",
       "    </tr>\n",
       "    <tr>\n",
       "      <th>4</th>\n",
       "      <td>revogamers</td>\n",
       "      <td>https://www.revogamers.net/analisis-w/analisis...</td>\n",
       "      <td>Marcos Catalán</td>\n",
       "      <td>Mortal Kombat 11</td>\n",
       "      <td>NetherRealm</td>\n",
       "      <td>Lucha</td>\n",
       "      <td>Nintendo Switch</td>\n",
       "      <td>El DLC Aftermath de Mortal Kombat 11 (al análi...</td>\n",
       "      <td>7.0</td>\n",
       "    </tr>\n",
       "  </tbody>\n",
       "</table>\n",
       "</div>"
      ],
      "text/plain": [
       "          site                                           url_link  \\\n",
       "0   revogamers  https://www.revogamers.net/analisis-w/mega-man...   \n",
       "1   revogamers  https://www.revogamers.net/analisis-w/azkend-2...   \n",
       "2  Gamereactor  https://www.gamereactor.es/football-manager-20...   \n",
       "3   revogamers  https://www.revogamers.net/analisis-w/bayonett...   \n",
       "4   revogamers  https://www.revogamers.net/analisis-w/analisis...   \n",
       "\n",
       "            author                          game      company       genre  \\\n",
       "0    Javier Aranda                   Mega Man 11         None        None   \n",
       "1     Pep H. Conca   Azkend 2: The World Beneath         None        None   \n",
       "2  Johan Vahlström         Football Manager 2019         Sega  Estrategia   \n",
       "3   Christian Amor                   Bayonetta 2         None        None   \n",
       "4   Marcos Catalán              Mortal Kombat 11  NetherRealm       Lucha   \n",
       "\n",
       "                 platform                                               text  \\\n",
       "0         Nintendo Switch  Mega Man está de nuevo de moda. El año pasado ...   \n",
       "1  eShop, Nintendo Switch  Tras el naufragio del barco de camino a Liverp...   \n",
       "2                 PC, Mac  Llevamos desde los 90 con estos simuladores de...   \n",
       "3         Nintendo Switch  Son muchas las frases que definen Bayonetta 2 ...   \n",
       "4         Nintendo Switch  El DLC Aftermath de Mortal Kombat 11 (al análi...   \n",
       "\n",
       "   score  \n",
       "0    7.5  \n",
       "1    7.5  \n",
       "2    8.0  \n",
       "3    9.0  \n",
       "4    7.0  "
      ]
     },
     "execution_count": 62,
     "metadata": {},
     "output_type": "execute_result"
    }
   ],
   "source": [
    "gr_meri_revo.head()"
   ]
  },
  {
   "cell_type": "code",
   "execution_count": 63,
   "metadata": {},
   "outputs": [
    {
     "data": {
      "text/plain": [
       "6355"
      ]
     },
     "execution_count": 63,
     "metadata": {},
     "output_type": "execute_result"
    }
   ],
   "source": [
    "len(gr_meri_revo['text'][0])"
   ]
  },
  {
   "cell_type": "markdown",
   "metadata": {},
   "source": [
    "## 2.2 Classifier with Transformers nlptown/bert-base-multilingual-uncased-sentiment"
   ]
  },
  {
   "cell_type": "code",
   "execution_count": 64,
   "metadata": {},
   "outputs": [
    {
     "data": {
      "application/vnd.jupyter.widget-view+json": {
       "model_id": "0dd939dde37f4a41a37194f80824243f",
       "version_major": 2,
       "version_minor": 0
      },
      "text/plain": [
       "HBox(children=(HTML(value='Downloading'), FloatProgress(value=0.0, max=953.0), HTML(value='')))"
      ]
     },
     "metadata": {},
     "output_type": "display_data"
    },
    {
     "name": "stdout",
     "output_type": "stream",
     "text": [
      "\n"
     ]
    },
    {
     "data": {
      "application/vnd.jupyter.widget-view+json": {
       "model_id": "d32c88297b2440a99a70a6113a264f2c",
       "version_major": 2,
       "version_minor": 0
      },
      "text/plain": [
       "HBox(children=(HTML(value='Downloading'), FloatProgress(value=0.0, max=871891.0), HTML(value='')))"
      ]
     },
     "metadata": {},
     "output_type": "display_data"
    },
    {
     "name": "stdout",
     "output_type": "stream",
     "text": [
      "\n"
     ]
    },
    {
     "data": {
      "application/vnd.jupyter.widget-view+json": {
       "model_id": "07af538aa83f4169a25f90b88c42891b",
       "version_major": 2,
       "version_minor": 0
      },
      "text/plain": [
       "HBox(children=(HTML(value='Downloading'), FloatProgress(value=0.0, max=112.0), HTML(value='')))"
      ]
     },
     "metadata": {},
     "output_type": "display_data"
    },
    {
     "name": "stdout",
     "output_type": "stream",
     "text": [
      "\n"
     ]
    },
    {
     "data": {
      "application/vnd.jupyter.widget-view+json": {
       "model_id": "51616479e7f842df87ada3a767b88c83",
       "version_major": 2,
       "version_minor": 0
      },
      "text/plain": [
       "HBox(children=(HTML(value='Downloading'), FloatProgress(value=0.0, max=39.0), HTML(value='')))"
      ]
     },
     "metadata": {},
     "output_type": "display_data"
    },
    {
     "name": "stdout",
     "output_type": "stream",
     "text": [
      "\n"
     ]
    },
    {
     "data": {
      "application/vnd.jupyter.widget-view+json": {
       "model_id": "72160374d4234a45b21f0ef2b63985cf",
       "version_major": 2,
       "version_minor": 0
      },
      "text/plain": [
       "HBox(children=(HTML(value='Downloading'), FloatProgress(value=0.0, max=669491321.0), HTML(value='')))"
      ]
     },
     "metadata": {},
     "output_type": "display_data"
    },
    {
     "name": "stdout",
     "output_type": "stream",
     "text": [
      "\n"
     ]
    }
   ],
   "source": [
    "from transformers import AutoTokenizer, AutoModelForSequenceClassification\n",
    "\n",
    "tokenizer = AutoTokenizer.from_pretrained(\"nlptown/bert-base-multilingual-uncased-sentiment\")\n",
    "\n",
    "model = AutoModelForSequenceClassification.from_pretrained(\"nlptown/bert-base-multilingual-uncased-sentiment\")\n"
   ]
  },
  {
   "cell_type": "code",
   "execution_count": 192,
   "metadata": {},
   "outputs": [],
   "source": [
    "classifier = pipeline('sentiment-analysis', model=model, tokenizer=tokenizer)"
   ]
  },
  {
   "cell_type": "code",
   "execution_count": 76,
   "metadata": {},
   "outputs": [],
   "source": [
    "example_1 = gr_meri_revo['text'][0][-2000:]"
   ]
  },
  {
   "cell_type": "code",
   "execution_count": 77,
   "metadata": {},
   "outputs": [
    {
     "data": {
      "text/plain": [
       "[{'label': '4 stars', 'score': 0.5700036883354187}]"
      ]
     },
     "execution_count": 77,
     "metadata": {},
     "output_type": "execute_result"
    }
   ],
   "source": [
    "classifier(example_1)"
   ]
  },
  {
   "cell_type": "code",
   "execution_count": 80,
   "metadata": {},
   "outputs": [],
   "source": [
    "example_2 = gr_meri_revo['text'][0].rsplit('  ', 1)[1]"
   ]
  },
  {
   "cell_type": "code",
   "execution_count": 81,
   "metadata": {},
   "outputs": [
    {
     "data": {
      "text/plain": [
       "[{'label': '4 stars', 'score': 0.7100672125816345}]"
      ]
     },
     "execution_count": 81,
     "metadata": {},
     "output_type": "execute_result"
    }
   ],
   "source": [
    "classifier(example_2)"
   ]
  },
  {
   "cell_type": "code",
   "execution_count": 97,
   "metadata": {},
   "outputs": [
    {
     "data": {
      "text/html": [
       "<div>\n",
       "<style scoped>\n",
       "    .dataframe tbody tr th:only-of-type {\n",
       "        vertical-align: middle;\n",
       "    }\n",
       "\n",
       "    .dataframe tbody tr th {\n",
       "        vertical-align: top;\n",
       "    }\n",
       "\n",
       "    .dataframe thead th {\n",
       "        text-align: right;\n",
       "    }\n",
       "</style>\n",
       "<table border=\"1\" class=\"dataframe\">\n",
       "  <thead>\n",
       "    <tr style=\"text-align: right;\">\n",
       "      <th></th>\n",
       "      <th>site</th>\n",
       "      <th>url_link</th>\n",
       "      <th>author</th>\n",
       "      <th>game</th>\n",
       "      <th>company</th>\n",
       "      <th>genre</th>\n",
       "      <th>platform</th>\n",
       "      <th>text</th>\n",
       "      <th>score</th>\n",
       "    </tr>\n",
       "  </thead>\n",
       "  <tbody>\n",
       "    <tr>\n",
       "      <th>45</th>\n",
       "      <td>Gamereactor</td>\n",
       "      <td>https://www.gamereactor.es/animal-crossing-new...</td>\n",
       "      <td>Juan A. Fonseca</td>\n",
       "      <td>Animal Crossing: New Horizons</td>\n",
       "      <td>Nintendo</td>\n",
       "      <td>Simulación</td>\n",
       "      <td>Nintendo Switch</td>\n",
       "      <td>¿Qué te llevarías a una isla desierta? No, en ...</td>\n",
       "      <td>9.0</td>\n",
       "    </tr>\n",
       "  </tbody>\n",
       "</table>\n",
       "</div>"
      ],
      "text/plain": [
       "           site                                           url_link  \\\n",
       "45  Gamereactor  https://www.gamereactor.es/animal-crossing-new...   \n",
       "\n",
       "             author                           game   company       genre  \\\n",
       "45  Juan A. Fonseca  Animal Crossing: New Horizons  Nintendo  Simulación   \n",
       "\n",
       "            platform                                               text  score  \n",
       "45   Nintendo Switch  ¿Qué te llevarías a una isla desierta? No, en ...    9.0  "
      ]
     },
     "execution_count": 97,
     "metadata": {},
     "output_type": "execute_result"
    }
   ],
   "source": [
    "gr_meri_revo[45:46]"
   ]
  },
  {
   "cell_type": "code",
   "execution_count": 111,
   "metadata": {},
   "outputs": [
    {
     "data": {
      "text/plain": [
       "' isla. Algo sensacional para jugar en familia, aunque algo molesto si quieres algo totalmente independiente del resto. Esperaré a que llegue a las tiendas para poder invitar a conocidos a mi nuevo hogar, para visitar los suyos y para poder compartir todavía más. Porque, si hay algo que le sienta genial a Animal Crossing, sin duda es el componente multijugador. Logra hacer fácil lo difícil, porque es capaz de cobijar bajo un mismo paraguas a perfiles de jugadores diferentes. Tras la premisa de la isla desierta, el crafteo y el coleccionismo, se esconde un juego que encaja con aquellas personas que adoran pasar horas decorando, con los que son más de hablar con sus vecinos y ver las locuras o esos pequeños gestos que llevan a cabo a diario (cantar en la plaza, atrapar bichos, pescar, pasear, hacer ejercicios...) o, incluso, con quienes son más de recopilar materiales y especular con sus precios, o con esos preciados nabos. Hay sitio para todos. Y lo seguirá habiendo durante mucho tiempo, porque como decía antes, este es un juego sin fin, uno al que siempre volver incluso meses y meses más tarde. Todo para ver cómo van los vecinos, para crear un nuevo diseño de camiseta, para modificar el himno de tu isla o para ver cómo se celebran ciertas festividades (no olvidemos que esta saga fue la que hizo que los de Kioto descubrieran las doce uvas del fin de año español). Una evolución muy atada a las raíces, pero tocando los palos necesarios para ser todavía más interesante. Animal Crossing: New Horizons es la excusa perfecta para llevar siempre tu Switch contigo. Un juego que encandila desde el primer momento, que te atrapa de lleno, que te ofrece la oportunidad de disfrutar de una nueva vida en un micromundo diseñado a tu total antojo. Siempre tiene algo nuevo que ofrecer y siempre da motivos para volver a él. Respecto a la pregunta del principio, ahora sí que tengo clara la respuesta: si tuviera que elegir qué llevarme a una isla desierta, me llevaría este Animal Crossing.'"
      ]
     },
     "execution_count": 111,
     "metadata": {},
     "output_type": "execute_result"
    }
   ],
   "source": [
    "gr_meri_revo['text'][45][-2000:]"
   ]
  },
  {
   "cell_type": "code",
   "execution_count": 113,
   "metadata": {},
   "outputs": [],
   "source": [
    "example_3 = gr_meri_revo['text'][45]"
   ]
  },
  {
   "cell_type": "code",
   "execution_count": 158,
   "metadata": {},
   "outputs": [],
   "source": [
    "n = 2000\n",
    "\n",
    "text_splitted = [(example_3[i:i+n]) for i in range(0, len(example_3), n)]"
   ]
  },
  {
   "cell_type": "code",
   "execution_count": 159,
   "metadata": {},
   "outputs": [
    {
     "name": "stdout",
     "output_type": "stream",
     "text": [
      "[{'label': '3 stars', 'score': 0.3644101321697235}]\n",
      "[{'label': '4 stars', 'score': 0.5320139527320862}]\n",
      "[{'label': '3 stars', 'score': 0.4770553410053253}]\n",
      "[{'label': '4 stars', 'score': 0.6022696495056152}]\n",
      "[{'label': '4 stars', 'score': 0.6068933010101318}]\n",
      "[{'label': '3 stars', 'score': 0.5202471613883972}]\n"
     ]
    }
   ],
   "source": [
    "for text in text_splitted:\n",
    "    (classifier(text))"
   ]
  },
  {
   "cell_type": "code",
   "execution_count": 171,
   "metadata": {},
   "outputs": [],
   "source": []
  },
  {
   "cell_type": "code",
   "execution_count": 190,
   "metadata": {},
   "outputs": [
    {
     "name": "stdout",
     "output_type": "stream",
     "text": [
      "2020-10-10 13:36:23,133 loading file nlptown/bert-base-multilingual-uncased-sentiment\n"
     ]
    },
    {
     "name": "stderr",
     "output_type": "stream",
     "text": [
      "/home/sergio/miniconda3/envs/lab_env/lib/python3.7/site-packages/transformers/tokenization_utils_base.py:1773: FutureWarning: The `pad_to_max_length` argument is deprecated and will be removed in a future version, use `padding=True` or `padding='longest'` to pad to the longest sequence in the batch, or use `padding='max_length'` to pad to a max length. In this case, you can give a specific length with `max_length` (e.g. `max_length=45`) or leave max_length to None to pad to the maximal input size of the model (e.g. 512 for Bert).\n",
      "  FutureWarning,\n",
      "Predicting text: 100%|██████████| 2/2 [00:18<00:00,  9.42s/it]"
     ]
    },
    {
     "name": "stdout",
     "output_type": "stream",
     "text": [
      "Tag Score Outputs:\n",
      "\n",
      "Frament0:[1 star (0.0254), 2 stars (0.1789), 3 stars (0.3644), 4 stars (0.3454), 5 stars (0.0859)]\n",
      "Frament1:[1 star (0.0108), 2 stars (0.0702), 3 stars (0.2036), 4 stars (0.532), 5 stars (0.1834)]\n",
      "Frament2:[1 star (0.0159), 2 stars (0.1762), 3 stars (0.4771), 4 stars (0.304), 5 stars (0.0268)]\n",
      "Frament3:[1 star (0.0028), 2 stars (0.0305), 3 stars (0.3034), 4 stars (0.6023), 5 stars (0.061)]\n",
      "Frament4:[1 star (0.0042), 2 stars (0.0312), 3 stars (0.2476), 4 stars (0.6069), 5 stars (0.1102)]\n",
      "Frament5:[1 star (0.0106), 2 stars (0.1367), 3 stars (0.5202), 4 stars (0.2956), 5 stars (0.0369)]\n"
     ]
    },
    {
     "name": "stderr",
     "output_type": "stream",
     "text": [
      "\n"
     ]
    }
   ],
   "source": [
    "# This let us see prob for every batch 1-5\n",
    "\n",
    "from adaptnlp import EasySequenceClassifier\n",
    "\n",
    "classifier = EasySequenceClassifier()\n",
    "\n",
    "sentences = classifier.tag_text(\n",
    "    text=text_splitted,\n",
    "    model_name_or_path=\"nlptown/bert-base-multilingual-uncased-sentiment\",\n",
    "    padding='longest',\n",
    "    mini_batch_size=4\n",
    ")\n",
    "\n",
    "print(\"Tag Score Outputs:\\n\")\n",
    "for sentence in sentences:\n",
    "    print(f\"Fragment {sentences.index(sentence)}: {sentence.labels}\")"
   ]
  },
  {
   "cell_type": "markdown",
   "metadata": {},
   "source": [
    "## Sentiment function "
   ]
  },
  {
   "cell_type": "code",
   "execution_count": 230,
   "metadata": {},
   "outputs": [],
   "source": [
    "def sentiment_analysis(df):\n",
    "    global_stars = []\n",
    "    \n",
    "    # Select model\n",
    "    nld_model = 'nlptown/bert-base-multilingual-uncased-sentiment'\n",
    "    tokenizer = AutoTokenizer.from_pretrained(nld_model)\n",
    "    model = AutoModelForSequenceClassification.from_pretrained(nld_model)\n",
    "\n",
    "    # Classifier\n",
    "    classifier = pipeline(\n",
    "        'sentiment-analysis', \n",
    "        model=model, \n",
    "        tokenizer=tokenizer\n",
    "    )\n",
    "    \n",
    "    # Adapt review lenght to max tokens\n",
    "    #for ind in df.index:\n",
    "        #print(gr_meri_revo['game'][ind])\n",
    "        n = 2000\n",
    "    #    review = gr_meri_revo['text'][ind]\n",
    "        review_splitted = [(review[i:i+n]) for i in range(0, len(review), n)]\n",
    "        #print(len(review_splitted))\n",
    "    \n",
    "    # Classifying \n",
    "        for text in review_splitted:\n",
    "            stars = (classifier(text))\n",
    "            global_stars.append(stars)\n",
    "\n",
    "    return global_stars\n",
    "    "
   ]
  },
  {
   "cell_type": "code",
   "execution_count": 231,
   "metadata": {},
   "outputs": [
    {
     "name": "stdout",
     "output_type": "stream",
     "text": [
      " Mega Man 11\n",
      "4\n",
      " Azkend 2: The World Beneath\n",
      "2\n"
     ]
    },
    {
     "data": {
      "text/plain": [
       "[[{'label': '4 stars', 'score': 0.5440895557403564}],\n",
       " [{'label': '4 stars', 'score': 0.4775305390357971}],\n",
       " [{'label': '3 stars', 'score': 0.47388455271720886}],\n",
       " [{'label': '4 stars', 'score': 0.6702184081077576}],\n",
       " [{'label': '4 stars', 'score': 0.691606879234314}],\n",
       " [{'label': '4 stars', 'score': 0.6237949132919312}]]"
      ]
     },
     "execution_count": 231,
     "metadata": {},
     "output_type": "execute_result"
    }
   ],
   "source": [
    "sentiment_analysis(gr_meri_revo[0:2])"
   ]
  },
  {
   "cell_type": "code",
   "execution_count": 232,
   "metadata": {},
   "outputs": [
    {
     "ename": "NameError",
     "evalue": "name 'global_stars' is not defined",
     "output_type": "error",
     "traceback": [
      "\u001b[0;31m---------------------------------------------------------------------------\u001b[0m",
      "\u001b[0;31mNameError\u001b[0m                                 Traceback (most recent call last)",
      "\u001b[0;32m<ipython-input-232-2b190be02b05>\u001b[0m in \u001b[0;36m<module>\u001b[0;34m\u001b[0m\n\u001b[0;32m----> 1\u001b[0;31m \u001b[0mglobal_stars\u001b[0m\u001b[0;34m\u001b[0m\u001b[0;34m\u001b[0m\u001b[0m\n\u001b[0m",
      "\u001b[0;31mNameError\u001b[0m: name 'global_stars' is not defined"
     ]
    }
   ],
   "source": [
    "global_stars"
   ]
  },
  {
   "cell_type": "code",
   "execution_count": 242,
   "metadata": {},
   "outputs": [],
   "source": [
    "def sentiment_analysis_lambda(review):\n",
    "    global_stars = []\n",
    "    n = 2000\n",
    "    \n",
    "    # Select model\n",
    "    nld_model = 'nlptown/bert-base-multilingual-uncased-sentiment'\n",
    "    tokenizer = AutoTokenizer.from_pretrained(nld_model)\n",
    "    model = AutoModelForSequenceClassification.from_pretrained(nld_model)\n",
    "\n",
    "    # Classifier\n",
    "    classifier = pipeline(\n",
    "        'sentiment-analysis', \n",
    "        model=model, \n",
    "        tokenizer=tokenizer\n",
    "    )\n",
    "    \n",
    "    review_splitted = [(review[i:i+n]) for i in range(0, len(review), n)]    \n",
    "    \n",
    "    for text in review_splitted:\n",
    "        stars = (classifier(text))\n",
    "        global_stars.append(stars)\n",
    "\n",
    "    return global_stars\n",
    "        \n",
    "        "
   ]
  },
  {
   "cell_type": "code",
   "execution_count": 2,
   "metadata": {},
   "outputs": [
    {
     "ename": "NameError",
     "evalue": "name 'gr_meri_revo' is not defined",
     "output_type": "error",
     "traceback": [
      "\u001b[0;31m---------------------------------------------------------------------------\u001b[0m",
      "\u001b[0;31mNameError\u001b[0m                                 Traceback (most recent call last)",
      "\u001b[0;32m<ipython-input-2-63a83df3b240>\u001b[0m in \u001b[0;36m<module>\u001b[0;34m\u001b[0m\n\u001b[0;32m----> 1\u001b[0;31m \u001b[0mgr_meri_revo\u001b[0m\u001b[0;34m[\u001b[0m\u001b[0;34m'stars'\u001b[0m\u001b[0;34m]\u001b[0m \u001b[0;34m=\u001b[0m \u001b[0mgr_meri_revo\u001b[0m\u001b[0;34m[\u001b[0m\u001b[0;34m'text'\u001b[0m\u001b[0;34m]\u001b[0m\u001b[0;34m.\u001b[0m\u001b[0mapply\u001b[0m\u001b[0;34m(\u001b[0m\u001b[0;32mlambda\u001b[0m \u001b[0mx\u001b[0m\u001b[0;34m:\u001b[0m \u001b[0msentiment_analysis_lambda\u001b[0m\u001b[0;34m(\u001b[0m\u001b[0mx\u001b[0m\u001b[0;34m)\u001b[0m\u001b[0;34m)\u001b[0m\u001b[0;34m\u001b[0m\u001b[0;34m\u001b[0m\u001b[0m\n\u001b[0m",
      "\u001b[0;31mNameError\u001b[0m: name 'gr_meri_revo' is not defined"
     ]
    }
   ],
   "source": [
    "gr_meri_revo['stars'] = gr_meri_revo['text'].apply(lambda x: sentiment_analysis_lambda(x))"
   ]
  },
  {
   "cell_type": "code",
   "execution_count": 6,
   "metadata": {},
   "outputs": [
    {
     "data": {
      "text/html": [
       "<div>\n",
       "<style scoped>\n",
       "    .dataframe tbody tr th:only-of-type {\n",
       "        vertical-align: middle;\n",
       "    }\n",
       "\n",
       "    .dataframe tbody tr th {\n",
       "        vertical-align: top;\n",
       "    }\n",
       "\n",
       "    .dataframe thead th {\n",
       "        text-align: right;\n",
       "    }\n",
       "</style>\n",
       "<table border=\"1\" class=\"dataframe\">\n",
       "  <thead>\n",
       "    <tr style=\"text-align: right;\">\n",
       "      <th></th>\n",
       "      <th>site</th>\n",
       "      <th>url_link</th>\n",
       "      <th>author</th>\n",
       "      <th>game</th>\n",
       "      <th>company</th>\n",
       "      <th>genre</th>\n",
       "      <th>platform</th>\n",
       "      <th>text</th>\n",
       "      <th>score</th>\n",
       "    </tr>\n",
       "  </thead>\n",
       "  <tbody>\n",
       "    <tr>\n",
       "      <th>0</th>\n",
       "      <td>revogamers</td>\n",
       "      <td>https://www.revogamers.net/analisis-w/mega-man...</td>\n",
       "      <td>Javier Aranda</td>\n",
       "      <td>Mega Man 11</td>\n",
       "      <td>None</td>\n",
       "      <td>None</td>\n",
       "      <td>Nintendo Switch</td>\n",
       "      <td>Mega Man está de nuevo de moda. El año pasado ...</td>\n",
       "      <td>7.5</td>\n",
       "    </tr>\n",
       "    <tr>\n",
       "      <th>1</th>\n",
       "      <td>revogamers</td>\n",
       "      <td>https://www.revogamers.net/analisis-w/azkend-2...</td>\n",
       "      <td>Pep H. Conca</td>\n",
       "      <td>Azkend 2: The World Beneath</td>\n",
       "      <td>None</td>\n",
       "      <td>None</td>\n",
       "      <td>eShop, Nintendo Switch</td>\n",
       "      <td>Tras el naufragio del barco de camino a Liverp...</td>\n",
       "      <td>7.5</td>\n",
       "    </tr>\n",
       "    <tr>\n",
       "      <th>2</th>\n",
       "      <td>Gamereactor</td>\n",
       "      <td>https://www.gamereactor.es/football-manager-20...</td>\n",
       "      <td>Johan Vahlström</td>\n",
       "      <td>Football Manager 2019</td>\n",
       "      <td>Sega</td>\n",
       "      <td>Estrategia</td>\n",
       "      <td>PC, Mac</td>\n",
       "      <td>Llevamos desde los 90 con estos simuladores de...</td>\n",
       "      <td>8.0</td>\n",
       "    </tr>\n",
       "    <tr>\n",
       "      <th>3</th>\n",
       "      <td>revogamers</td>\n",
       "      <td>https://www.revogamers.net/analisis-w/bayonett...</td>\n",
       "      <td>Christian Amor</td>\n",
       "      <td>Bayonetta 2</td>\n",
       "      <td>None</td>\n",
       "      <td>None</td>\n",
       "      <td>Nintendo Switch</td>\n",
       "      <td>Son muchas las frases que definen Bayonetta 2 ...</td>\n",
       "      <td>9.0</td>\n",
       "    </tr>\n",
       "    <tr>\n",
       "      <th>4</th>\n",
       "      <td>revogamers</td>\n",
       "      <td>https://www.revogamers.net/analisis-w/analisis...</td>\n",
       "      <td>Marcos Catalán</td>\n",
       "      <td>Mortal Kombat 11</td>\n",
       "      <td>NetherRealm</td>\n",
       "      <td>Lucha</td>\n",
       "      <td>Nintendo Switch</td>\n",
       "      <td>El DLC Aftermath de Mortal Kombat 11 (al análi...</td>\n",
       "      <td>7.0</td>\n",
       "    </tr>\n",
       "    <tr>\n",
       "      <th>5</th>\n",
       "      <td>revogamers</td>\n",
       "      <td>https://www.revogamers.net/analisis-w/raging-j...</td>\n",
       "      <td>Javier Aranda</td>\n",
       "      <td>Raging Justice</td>\n",
       "      <td>None</td>\n",
       "      <td>None</td>\n",
       "      <td>Nintendo Switch</td>\n",
       "      <td>Raging Justice es un juego para nostálgicos de...</td>\n",
       "      <td>7.0</td>\n",
       "    </tr>\n",
       "    <tr>\n",
       "      <th>6</th>\n",
       "      <td>meristation</td>\n",
       "      <td>https://as.com/meristation/2018/12/05/analisis...</td>\n",
       "      <td>Salva Fernàndez\\nsalbaFR</td>\n",
       "      <td>Super Smash Bros. Ultimate</td>\n",
       "      <td>Nintendo</td>\n",
       "      <td>Acción</td>\n",
       "      <td>NSW</td>\n",
       "      <td>Nintendo completa su póquer de ases en Switch ...</td>\n",
       "      <td>9.0</td>\n",
       "    </tr>\n",
       "    <tr>\n",
       "      <th>7</th>\n",
       "      <td>meristation</td>\n",
       "      <td>https://as.com/meristation/2017/07/23/analisis...</td>\n",
       "      <td>Aarón Rodríguez</td>\n",
       "      <td>Accel World vs. Sword Art Online</td>\n",
       "      <td>None</td>\n",
       "      <td>Acción, RPG</td>\n",
       "      <td>PS4 PSV</td>\n",
       "      <td>“Sword Art Online” se ha convertido en una ser...</td>\n",
       "      <td>8.0</td>\n",
       "    </tr>\n",
       "    <tr>\n",
       "      <th>8</th>\n",
       "      <td>Gamereactor</td>\n",
       "      <td>https://www.gamereactor.es/starcraft-ii-nova-c...</td>\n",
       "      <td>Rasmus Lund-Hansen</td>\n",
       "      <td>Starcraft II: Nova Covert Ops Mission Pack 1</td>\n",
       "      <td>Blizzard Entertainment</td>\n",
       "      <td>Estrategia</td>\n",
       "      <td>Mac, PC</td>\n",
       "      <td>Hace años que Blizzard anunció Starcraft: Ghos...</td>\n",
       "      <td>8.0</td>\n",
       "    </tr>\n",
       "    <tr>\n",
       "      <th>9</th>\n",
       "      <td>revogamers</td>\n",
       "      <td>https://www.revogamers.net/analisis-w/analisis...</td>\n",
       "      <td>Javier Aranda</td>\n",
       "      <td>VA-11 Hall-A</td>\n",
       "      <td>Sukeban Games, Ysbryd Games</td>\n",
       "      <td>Novela visual, Simulación</td>\n",
       "      <td>Nintendo Switch</td>\n",
       "      <td>Las novelas visuales siempre han estado ahí, p...</td>\n",
       "      <td>7.5</td>\n",
       "    </tr>\n",
       "    <tr>\n",
       "      <th>10</th>\n",
       "      <td>Gamereactor</td>\n",
       "      <td>https://www.gamereactor.es/pro-evolution-socce...</td>\n",
       "      <td>Mike Holmes &amp; Sam Bishop</td>\n",
       "      <td>Pro Evolution Soccer 2017</td>\n",
       "      <td>Konami</td>\n",
       "      <td>Deportes</td>\n",
       "      <td>PS4, Xbox One, PC, Xbox 360, PS3, iOS, Android</td>\n",
       "      <td>Hace poco más o menos de un año Pro Evolution ...</td>\n",
       "      <td>9.0</td>\n",
       "    </tr>\n",
       "    <tr>\n",
       "      <th>11</th>\n",
       "      <td>meristation</td>\n",
       "      <td>https://as.com/meristation/2018/08/08/analisis...</td>\n",
       "      <td>Yago Lago</td>\n",
       "      <td>Unavowed</td>\n",
       "      <td>Wadjet Eye</td>\n",
       "      <td>Aventura, RPG</td>\n",
       "      <td>PC</td>\n",
       "      <td>Gilbert. Pocas veces en la historia del medio ...</td>\n",
       "      <td>8.0</td>\n",
       "    </tr>\n",
       "    <tr>\n",
       "      <th>12</th>\n",
       "      <td>revogamers</td>\n",
       "      <td>https://www.revogamers.net/analisis-w/my-broth...</td>\n",
       "      <td>Manuel Luis Mena</td>\n",
       "      <td>My Brother Rabbit</td>\n",
       "      <td>None</td>\n",
       "      <td>None</td>\n",
       "      <td>Nintendo Switch</td>\n",
       "      <td>No se muy bien que es lo que tiene My Brother ...</td>\n",
       "      <td>8.5</td>\n",
       "    </tr>\n",
       "    <tr>\n",
       "      <th>13</th>\n",
       "      <td>revogamers</td>\n",
       "      <td>https://www.revogamers.net/analisis-w/analisis...</td>\n",
       "      <td>Javier Aranda</td>\n",
       "      <td>Darkestville Castle</td>\n",
       "      <td>BUKA Entertainment</td>\n",
       "      <td>Aventura Gráfica</td>\n",
       "      <td>Nintendo Switch</td>\n",
       "      <td>Nintendo Switch y las aventuras gráficas se ll...</td>\n",
       "      <td>7.0</td>\n",
       "    </tr>\n",
       "    <tr>\n",
       "      <th>14</th>\n",
       "      <td>revogamers</td>\n",
       "      <td>https://www.revogamers.net/analisis-w/analisis...</td>\n",
       "      <td>Marcos Catalán</td>\n",
       "      <td>Inertial Drift</td>\n",
       "      <td>Level 91 Entertainment</td>\n",
       "      <td>Arcade, Carreras, Otros</td>\n",
       "      <td>Nintendo Switch</td>\n",
       "      <td>Amantes del drifting, estamos de enhorabuena. ...</td>\n",
       "      <td>7.5</td>\n",
       "    </tr>\n",
       "    <tr>\n",
       "      <th>15</th>\n",
       "      <td>revogamers</td>\n",
       "      <td>https://www.revogamers.net/analisis-w/analisis...</td>\n",
       "      <td>Javier Aranda</td>\n",
       "      <td>Godly Corp</td>\n",
       "      <td>Ultimate Games</td>\n",
       "      <td>Acción, Simulación</td>\n",
       "      <td>Nintendo Switch</td>\n",
       "      <td>Octodad, Surgeon Simulator y Goat Simulator so...</td>\n",
       "      <td>3.5</td>\n",
       "    </tr>\n",
       "    <tr>\n",
       "      <th>16</th>\n",
       "      <td>meristation</td>\n",
       "      <td>https://as.com/meristation/2017/10/05/analisis...</td>\n",
       "      <td>Carlos Forcada</td>\n",
       "      <td>La Tierra Media: Sombras de Guerra</td>\n",
       "      <td>None</td>\n",
       "      <td>Acción, Aventura</td>\n",
       "      <td>XBO PC PS4</td>\n",
       "      <td>Tolkien contaba, sobre los anillos de poder, q...</td>\n",
       "      <td>8.6</td>\n",
       "    </tr>\n",
       "    <tr>\n",
       "      <th>17</th>\n",
       "      <td>meristation</td>\n",
       "      <td>https://as.com/meristation/2019/11/24/analisis...</td>\n",
       "      <td>Cesar Otero</td>\n",
       "      <td>Ghostbusters: The Video Game Remastered</td>\n",
       "      <td>Mad Dog Games</td>\n",
       "      <td>Acción, Aventura</td>\n",
       "      <td>PC PS4 XBO NSW</td>\n",
       "      <td>“Perros y gatos cohabitando…¡LA HISTERIA DE LA...</td>\n",
       "      <td>7.5</td>\n",
       "    </tr>\n",
       "    <tr>\n",
       "      <th>18</th>\n",
       "      <td>meristation</td>\n",
       "      <td>https://as.com/meristation/2020/03/13/analisis...</td>\n",
       "      <td>Ricardo Fernández\\nRicardoFAndres</td>\n",
       "      <td>Mega Man Zero/ZX Legacy Collection</td>\n",
       "      <td>Capcom</td>\n",
       "      <td>Plataformas, Acción</td>\n",
       "      <td>PS4 XBO PC NSW</td>\n",
       "      <td>Capcom sigue en sus trece con aquello de traer...</td>\n",
       "      <td>7.0</td>\n",
       "    </tr>\n",
       "    <tr>\n",
       "      <th>19</th>\n",
       "      <td>meristation</td>\n",
       "      <td>https://as.com/meristation/2017/04/17/analisis...</td>\n",
       "      <td>Pablo González</td>\n",
       "      <td>Kingdom Hearts HD 1.5 + 2.5 ReMIX</td>\n",
       "      <td>Square Enix</td>\n",
       "      <td>Acción, RPG</td>\n",
       "      <td>PS4 XBO</td>\n",
       "      <td>Dependiendo del medio artístico al que nos ref...</td>\n",
       "      <td>8.5</td>\n",
       "    </tr>\n",
       "    <tr>\n",
       "      <th>20</th>\n",
       "      <td>Gamereactor</td>\n",
       "      <td>https://www.gamereactor.es/spiritfarer-analisi...</td>\n",
       "      <td>Stefan Briesenick</td>\n",
       "      <td>Spiritfarer</td>\n",
       "      <td>None</td>\n",
       "      <td>Aventura</td>\n",
       "      <td>Xbox One, PC, Nintendo Switch, PS4, Stadia</td>\n",
       "      <td>Tres Jotun y Sundered, Thunder Lotus llega par...</td>\n",
       "      <td>7.0</td>\n",
       "    </tr>\n",
       "    <tr>\n",
       "      <th>21</th>\n",
       "      <td>meristation</td>\n",
       "      <td>https://as.com/meristation/2018/03/05/analisis...</td>\n",
       "      <td>Carlos Forcada</td>\n",
       "      <td>Pawarumi</td>\n",
       "      <td>Manufacture 43</td>\n",
       "      <td>Acción, Shoot'em up</td>\n",
       "      <td>PC</td>\n",
       "      <td>Pocos géneros de siempre cuentan con un metale...</td>\n",
       "      <td>8.0</td>\n",
       "    </tr>\n",
       "    <tr>\n",
       "      <th>22</th>\n",
       "      <td>meristation</td>\n",
       "      <td>https://as.com/meristation/2018/01/23/analisis...</td>\n",
       "      <td>Laura Luna</td>\n",
       "      <td>Lost Sphear</td>\n",
       "      <td>Square Enix</td>\n",
       "      <td>RPG, Turn Based</td>\n",
       "      <td>NSW PC PS4</td>\n",
       "      <td>En una era en la que el JRPG vive un nuevo des...</td>\n",
       "      <td>8.0</td>\n",
       "    </tr>\n",
       "    <tr>\n",
       "      <th>23</th>\n",
       "      <td>Gamereactor</td>\n",
       "      <td>https://www.gamereactor.es/the-elder-scrolls-o...</td>\n",
       "      <td>Kieran Harris</td>\n",
       "      <td>The Elder Scrolls Online: Elsweyr</td>\n",
       "      <td>Bethesda Softworks</td>\n",
       "      <td>MMORPG</td>\n",
       "      <td>Mac, PC, PS4, Xbox One</td>\n",
       "      <td>Las fronteras de The Elder Scrolls Online vuel...</td>\n",
       "      <td>7.0</td>\n",
       "    </tr>\n",
       "    <tr>\n",
       "      <th>24</th>\n",
       "      <td>revogamers</td>\n",
       "      <td>https://www.revogamers.net/analisis-w/shantae-...</td>\n",
       "      <td>Cristina Calero</td>\n",
       "      <td>Shantae and the Pirate's Curse</td>\n",
       "      <td>None</td>\n",
       "      <td>None</td>\n",
       "      <td>eShop, Nintendo 3DS, Nintendo Switch, Wii U</td>\n",
       "      <td>La tercera aventura de la saga Shantae, Shanta...</td>\n",
       "      <td>7.5</td>\n",
       "    </tr>\n",
       "  </tbody>\n",
       "</table>\n",
       "</div>"
      ],
      "text/plain": [
       "           site                                           url_link  \\\n",
       "0    revogamers  https://www.revogamers.net/analisis-w/mega-man...   \n",
       "1    revogamers  https://www.revogamers.net/analisis-w/azkend-2...   \n",
       "2   Gamereactor  https://www.gamereactor.es/football-manager-20...   \n",
       "3    revogamers  https://www.revogamers.net/analisis-w/bayonett...   \n",
       "4    revogamers  https://www.revogamers.net/analisis-w/analisis...   \n",
       "5    revogamers  https://www.revogamers.net/analisis-w/raging-j...   \n",
       "6   meristation  https://as.com/meristation/2018/12/05/analisis...   \n",
       "7   meristation  https://as.com/meristation/2017/07/23/analisis...   \n",
       "8   Gamereactor  https://www.gamereactor.es/starcraft-ii-nova-c...   \n",
       "9    revogamers  https://www.revogamers.net/analisis-w/analisis...   \n",
       "10  Gamereactor  https://www.gamereactor.es/pro-evolution-socce...   \n",
       "11  meristation  https://as.com/meristation/2018/08/08/analisis...   \n",
       "12   revogamers  https://www.revogamers.net/analisis-w/my-broth...   \n",
       "13   revogamers  https://www.revogamers.net/analisis-w/analisis...   \n",
       "14   revogamers  https://www.revogamers.net/analisis-w/analisis...   \n",
       "15   revogamers  https://www.revogamers.net/analisis-w/analisis...   \n",
       "16  meristation  https://as.com/meristation/2017/10/05/analisis...   \n",
       "17  meristation  https://as.com/meristation/2019/11/24/analisis...   \n",
       "18  meristation  https://as.com/meristation/2020/03/13/analisis...   \n",
       "19  meristation  https://as.com/meristation/2017/04/17/analisis...   \n",
       "20  Gamereactor  https://www.gamereactor.es/spiritfarer-analisi...   \n",
       "21  meristation  https://as.com/meristation/2018/03/05/analisis...   \n",
       "22  meristation  https://as.com/meristation/2018/01/23/analisis...   \n",
       "23  Gamereactor  https://www.gamereactor.es/the-elder-scrolls-o...   \n",
       "24   revogamers  https://www.revogamers.net/analisis-w/shantae-...   \n",
       "\n",
       "                               author  \\\n",
       "0                       Javier Aranda   \n",
       "1                        Pep H. Conca   \n",
       "2                     Johan Vahlström   \n",
       "3                      Christian Amor   \n",
       "4                      Marcos Catalán   \n",
       "5                       Javier Aranda   \n",
       "6            Salva Fernàndez\\nsalbaFR   \n",
       "7                     Aarón Rodríguez   \n",
       "8                  Rasmus Lund-Hansen   \n",
       "9                       Javier Aranda   \n",
       "10           Mike Holmes & Sam Bishop   \n",
       "11                          Yago Lago   \n",
       "12                   Manuel Luis Mena   \n",
       "13                      Javier Aranda   \n",
       "14                     Marcos Catalán   \n",
       "15                      Javier Aranda   \n",
       "16                     Carlos Forcada   \n",
       "17                        Cesar Otero   \n",
       "18  Ricardo Fernández\\nRicardoFAndres   \n",
       "19                     Pablo González   \n",
       "20                  Stefan Briesenick   \n",
       "21                     Carlos Forcada   \n",
       "22                         Laura Luna   \n",
       "23                      Kieran Harris   \n",
       "24                    Cristina Calero   \n",
       "\n",
       "                                            game                      company  \\\n",
       "0                                    Mega Man 11                         None   \n",
       "1                    Azkend 2: The World Beneath                         None   \n",
       "2                          Football Manager 2019                         Sega   \n",
       "3                                    Bayonetta 2                         None   \n",
       "4                               Mortal Kombat 11                  NetherRealm   \n",
       "5                                 Raging Justice                         None   \n",
       "6                     Super Smash Bros. Ultimate                     Nintendo   \n",
       "7               Accel World vs. Sword Art Online                         None   \n",
       "8   Starcraft II: Nova Covert Ops Mission Pack 1       Blizzard Entertainment   \n",
       "9                                   VA-11 Hall-A  Sukeban Games, Ysbryd Games   \n",
       "10                     Pro Evolution Soccer 2017                       Konami   \n",
       "11                                      Unavowed                   Wadjet Eye   \n",
       "12                             My Brother Rabbit                         None   \n",
       "13                           Darkestville Castle           BUKA Entertainment   \n",
       "14                                Inertial Drift       Level 91 Entertainment   \n",
       "15                                    Godly Corp               Ultimate Games   \n",
       "16            La Tierra Media: Sombras de Guerra                         None   \n",
       "17       Ghostbusters: The Video Game Remastered                Mad Dog Games   \n",
       "18            Mega Man Zero/ZX Legacy Collection                       Capcom   \n",
       "19             Kingdom Hearts HD 1.5 + 2.5 ReMIX                  Square Enix   \n",
       "20                                   Spiritfarer                         None   \n",
       "21                                      Pawarumi               Manufacture 43   \n",
       "22                                   Lost Sphear                  Square Enix   \n",
       "23             The Elder Scrolls Online: Elsweyr           Bethesda Softworks   \n",
       "24                Shantae and the Pirate's Curse                         None   \n",
       "\n",
       "                                      genre  \\\n",
       "0                                      None   \n",
       "1                                      None   \n",
       "2                                Estrategia   \n",
       "3                                      None   \n",
       "4                                     Lucha   \n",
       "5                                      None   \n",
       "6                Acción                       \n",
       "7           Acción, RPG                       \n",
       "8                                Estrategia   \n",
       "9                 Novela visual, Simulación   \n",
       "10                                 Deportes   \n",
       "11        Aventura, RPG                       \n",
       "12                                     None   \n",
       "13                         Aventura Gráfica   \n",
       "14                  Arcade, Carreras, Otros   \n",
       "15                       Acción, Simulación   \n",
       "16     Acción, Aventura                       \n",
       "17     Acción, Aventura                       \n",
       "18  Plataformas, Acción                       \n",
       "19          Acción, RPG                       \n",
       "20                                 Aventura   \n",
       "21  Acción, Shoot'em up                       \n",
       "22      RPG, Turn Based                       \n",
       "23                                   MMORPG   \n",
       "24                                     None   \n",
       "\n",
       "                                           platform  \\\n",
       "0                                   Nintendo Switch   \n",
       "1                            eShop, Nintendo Switch   \n",
       "2                                           PC, Mac   \n",
       "3                                   Nintendo Switch   \n",
       "4                                   Nintendo Switch   \n",
       "5                                   Nintendo Switch   \n",
       "6                                               NSW   \n",
       "7                                           PS4 PSV   \n",
       "8                                           Mac, PC   \n",
       "9                                   Nintendo Switch   \n",
       "10   PS4, Xbox One, PC, Xbox 360, PS3, iOS, Android   \n",
       "11                                               PC   \n",
       "12                                  Nintendo Switch   \n",
       "13                                  Nintendo Switch   \n",
       "14                                  Nintendo Switch   \n",
       "15                                  Nintendo Switch   \n",
       "16                                       XBO PC PS4   \n",
       "17                                   PC PS4 XBO NSW   \n",
       "18                                   PS4 XBO PC NSW   \n",
       "19                                          PS4 XBO   \n",
       "20       Xbox One, PC, Nintendo Switch, PS4, Stadia   \n",
       "21                                               PC   \n",
       "22                                       NSW PC PS4   \n",
       "23                           Mac, PC, PS4, Xbox One   \n",
       "24      eShop, Nintendo 3DS, Nintendo Switch, Wii U   \n",
       "\n",
       "                                                 text  score  \n",
       "0   Mega Man está de nuevo de moda. El año pasado ...    7.5  \n",
       "1   Tras el naufragio del barco de camino a Liverp...    7.5  \n",
       "2   Llevamos desde los 90 con estos simuladores de...    8.0  \n",
       "3   Son muchas las frases que definen Bayonetta 2 ...    9.0  \n",
       "4   El DLC Aftermath de Mortal Kombat 11 (al análi...    7.0  \n",
       "5   Raging Justice es un juego para nostálgicos de...    7.0  \n",
       "6   Nintendo completa su póquer de ases en Switch ...    9.0  \n",
       "7   “Sword Art Online” se ha convertido en una ser...    8.0  \n",
       "8   Hace años que Blizzard anunció Starcraft: Ghos...    8.0  \n",
       "9   Las novelas visuales siempre han estado ahí, p...    7.5  \n",
       "10  Hace poco más o menos de un año Pro Evolution ...    9.0  \n",
       "11  Gilbert. Pocas veces en la historia del medio ...    8.0  \n",
       "12  No se muy bien que es lo que tiene My Brother ...    8.5  \n",
       "13  Nintendo Switch y las aventuras gráficas se ll...    7.0  \n",
       "14  Amantes del drifting, estamos de enhorabuena. ...    7.5  \n",
       "15  Octodad, Surgeon Simulator y Goat Simulator so...    3.5  \n",
       "16  Tolkien contaba, sobre los anillos de poder, q...    8.6  \n",
       "17  “Perros y gatos cohabitando…¡LA HISTERIA DE LA...    7.5  \n",
       "18  Capcom sigue en sus trece con aquello de traer...    7.0  \n",
       "19  Dependiendo del medio artístico al que nos ref...    8.5  \n",
       "20  Tres Jotun y Sundered, Thunder Lotus llega par...    7.0  \n",
       "21  Pocos géneros de siempre cuentan con un metale...    8.0  \n",
       "22  En una era en la que el JRPG vive un nuevo des...    8.0  \n",
       "23  Las fronteras de The Elder Scrolls Online vuel...    7.0  \n",
       "24  La tercera aventura de la saga Shantae, Shanta...    7.5  "
      ]
     },
     "execution_count": 6,
     "metadata": {},
     "output_type": "execute_result"
    }
   ],
   "source": [
    "gr_meri_revo.head(25)"
   ]
  },
  {
   "cell_type": "code",
   "execution_count": null,
   "metadata": {},
   "outputs": [],
   "source": []
  }
 ],
 "metadata": {
  "kernelspec": {
   "display_name": "Python [conda env:lab_env]",
   "language": "python",
   "name": "conda-env-lab_env-py"
  },
  "language_info": {
   "codemirror_mode": {
    "name": "ipython",
    "version": 3
   },
   "file_extension": ".py",
   "mimetype": "text/x-python",
   "name": "python",
   "nbconvert_exporter": "python",
   "pygments_lexer": "ipython3",
   "version": "3.7.3"
  }
 },
 "nbformat": 4,
 "nbformat_minor": 4
}
