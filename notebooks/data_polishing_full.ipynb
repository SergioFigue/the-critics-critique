{
 "cells": [
  {
   "cell_type": "markdown",
   "metadata": {},
   "source": [
    "<div style=\"float:right; padding-top: 15px; padding-right: 15px\">\n",
    "    <div>\n",
    "        <a href=\"https://whiteboxml.com\">\n",
    "            <img src=\"https://whiteboxml.com/static/img/logo/black_bg_white.svg\" width=\"250\">\n",
    "        </a>\n",
    "    </div>\n",
    "</div>"
   ]
  },
  {
   "cell_type": "markdown",
   "metadata": {},
   "source": [
    "# Data Polishing 3 webs"
   ]
  },
  {
   "cell_type": "markdown",
   "metadata": {},
   "source": [
    "## 0. python imports"
   ]
  },
  {
   "cell_type": "code",
   "execution_count": 1,
   "metadata": {},
   "outputs": [],
   "source": [
    "import warnings\n",
    "\n",
    "import matplotlib.pyplot as plt\n",
    "import numpy as np\n",
    "import pandas as pd\n",
    "import spacy\n",
    "\n",
    "from hdbscan import HDBSCAN\n",
    "from spacy.lang.es.stop_words import STOP_WORDS\n",
    "from spacy.lang.es import Spanish\n",
    "from sklearn.feature_extraction.text import TfidfVectorizer\n",
    "from sklearn.metrics.pairwise import cosine_similarity\n",
    "from sklearn.utils import shuffle\n",
    "from umap import UMAP\n",
    "\n",
    "with warnings.catch_warnings():\n",
    "    warnings.simplefilter('ignore')"
   ]
  },
  {
   "cell_type": "markdown",
   "metadata": {},
   "source": [
    "## 1. data loading, merging and cleaning by site"
   ]
  },
  {
   "cell_type": "markdown",
   "metadata": {},
   "source": [
    "### Gamereactor"
   ]
  },
  {
   "cell_type": "code",
   "execution_count": 2,
   "metadata": {},
   "outputs": [],
   "source": [
    "gamereactor_df1 = pd.read_csv('../data/gamereactor_100l.csv')"
   ]
  },
  {
   "cell_type": "code",
   "execution_count": 3,
   "metadata": {},
   "outputs": [],
   "source": [
    "gamereactor_df2 = pd.read_csv('../data/gamereactor_100_500l.csv')"
   ]
  },
  {
   "cell_type": "code",
   "execution_count": 4,
   "metadata": {},
   "outputs": [],
   "source": [
    "gamereactor_df3 = pd.read_csv('../data/gamereactor_500_1249l.csv')"
   ]
  },
  {
   "cell_type": "code",
   "execution_count": 5,
   "metadata": {},
   "outputs": [],
   "source": [
    "gamereactor_df4 = pd.read_csv('../data/gamereactor_1250_last.csv')"
   ]
  },
  {
   "cell_type": "code",
   "execution_count": 6,
   "metadata": {},
   "outputs": [],
   "source": [
    "gamereactor_data = [gamereactor_df1, gamereactor_df2, gamereactor_df3, gamereactor_df4]\n",
    "gamereactor_df = pd.concat(gamereactor_data)"
   ]
  },
  {
   "cell_type": "code",
   "execution_count": 7,
   "metadata": {},
   "outputs": [
    {
     "name": "stdout",
     "output_type": "stream",
     "text": [
      "<class 'pandas.core.frame.DataFrame'>\n",
      "Int64Index: 2260 entries, 0 to 1012\n",
      "Data columns (total 9 columns):\n",
      " #   Column    Non-Null Count  Dtype  \n",
      "---  ------    --------------  -----  \n",
      " 0   site      2260 non-null   object \n",
      " 1   url_link  2260 non-null   object \n",
      " 2   author    2260 non-null   object \n",
      " 3   game      2260 non-null   object \n",
      " 4   company   2260 non-null   object \n",
      " 5   genre     2260 non-null   object \n",
      " 6   platform  2260 non-null   object \n",
      " 7   text      2260 non-null   object \n",
      " 8   score     2260 non-null   float64\n",
      "dtypes: float64(1), object(8)\n",
      "memory usage: 176.6+ KB\n"
     ]
    }
   ],
   "source": [
    "gamereactor_df.info()"
   ]
  },
  {
   "cell_type": "code",
   "execution_count": 8,
   "metadata": {},
   "outputs": [
    {
     "data": {
      "text/html": [
       "<div>\n",
       "<style scoped>\n",
       "    .dataframe tbody tr th:only-of-type {\n",
       "        vertical-align: middle;\n",
       "    }\n",
       "\n",
       "    .dataframe tbody tr th {\n",
       "        vertical-align: top;\n",
       "    }\n",
       "\n",
       "    .dataframe thead th {\n",
       "        text-align: right;\n",
       "    }\n",
       "</style>\n",
       "<table border=\"1\" class=\"dataframe\">\n",
       "  <thead>\n",
       "    <tr style=\"text-align: right;\">\n",
       "      <th></th>\n",
       "      <th>score</th>\n",
       "    </tr>\n",
       "  </thead>\n",
       "  <tbody>\n",
       "    <tr>\n",
       "      <th>count</th>\n",
       "      <td>2260.000000</td>\n",
       "    </tr>\n",
       "    <tr>\n",
       "      <th>mean</th>\n",
       "      <td>7.430088</td>\n",
       "    </tr>\n",
       "    <tr>\n",
       "      <th>std</th>\n",
       "      <td>1.348512</td>\n",
       "    </tr>\n",
       "    <tr>\n",
       "      <th>min</th>\n",
       "      <td>1.000000</td>\n",
       "    </tr>\n",
       "    <tr>\n",
       "      <th>25%</th>\n",
       "      <td>7.000000</td>\n",
       "    </tr>\n",
       "    <tr>\n",
       "      <th>50%</th>\n",
       "      <td>8.000000</td>\n",
       "    </tr>\n",
       "    <tr>\n",
       "      <th>75%</th>\n",
       "      <td>8.000000</td>\n",
       "    </tr>\n",
       "    <tr>\n",
       "      <th>max</th>\n",
       "      <td>10.000000</td>\n",
       "    </tr>\n",
       "  </tbody>\n",
       "</table>\n",
       "</div>"
      ],
      "text/plain": [
       "             score\n",
       "count  2260.000000\n",
       "mean      7.430088\n",
       "std       1.348512\n",
       "min       1.000000\n",
       "25%       7.000000\n",
       "50%       8.000000\n",
       "75%       8.000000\n",
       "max      10.000000"
      ]
     },
     "execution_count": 8,
     "metadata": {},
     "output_type": "execute_result"
    }
   ],
   "source": [
    "gamereactor_df.describe()"
   ]
  },
  {
   "cell_type": "code",
   "execution_count": 9,
   "metadata": {},
   "outputs": [],
   "source": [
    "gamereactor_df = gamereactor_df.reset_index(drop=True)"
   ]
  },
  {
   "cell_type": "code",
   "execution_count": 10,
   "metadata": {},
   "outputs": [
    {
     "data": {
      "text/plain": [
       "False    2260\n",
       "dtype: int64"
      ]
     },
     "execution_count": 10,
     "metadata": {},
     "output_type": "execute_result"
    }
   ],
   "source": [
    "# Duplicates\n",
    "\n",
    "gamereactor_df.duplicated().value_counts()# - False 2260"
   ]
  },
  {
   "cell_type": "code",
   "execution_count": 12,
   "metadata": {},
   "outputs": [],
   "source": [
    "#gamereactor_df.to_csv('../data/gamereactor_all.csv', index=False)"
   ]
  },
  {
   "cell_type": "code",
   "execution_count": 8,
   "metadata": {},
   "outputs": [],
   "source": [
    "# Testing empties per column\n",
    "\n",
    "# (gamereactor_df['game'] == 'None').value_counts() - False 1247\n",
    "# (gamereactor_df['site'] == 'None').value_counts() - False 1247\n",
    "# (gamereactor_df['author'] == 'None').value_counts() - False 1247\n",
    "# (gamereactor_df['url_link'] == 'None').value_counts() - False 1247\n",
    "# (gamereactor_df['company'] == 'None').value_counts() - False 1122 / True 125\n",
    "# (gamereactor_df['genre'] == 'None').value_counts() - False 1233 / True 14\n",
    "# (gamereactor_df['platform'] == 'None').value_counts() - False 1230 / True 17\n",
    "# (gamereactor_df['score'] == 'None').value_counts() - False 1247\n"
   ]
  },
  {
   "cell_type": "code",
   "execution_count": 23,
   "metadata": {},
   "outputs": [
    {
     "data": {
      "text/html": [
       "<div>\n",
       "<style scoped>\n",
       "    .dataframe tbody tr th:only-of-type {\n",
       "        vertical-align: middle;\n",
       "    }\n",
       "\n",
       "    .dataframe tbody tr th {\n",
       "        vertical-align: top;\n",
       "    }\n",
       "\n",
       "    .dataframe thead th {\n",
       "        text-align: right;\n",
       "    }\n",
       "</style>\n",
       "<table border=\"1\" class=\"dataframe\">\n",
       "  <thead>\n",
       "    <tr style=\"text-align: right;\">\n",
       "      <th></th>\n",
       "      <th>site</th>\n",
       "      <th>url_link</th>\n",
       "      <th>author</th>\n",
       "      <th>game</th>\n",
       "      <th>company</th>\n",
       "      <th>genre</th>\n",
       "      <th>platform</th>\n",
       "      <th>text</th>\n",
       "      <th>score</th>\n",
       "    </tr>\n",
       "  </thead>\n",
       "  <tbody>\n",
       "    <tr>\n",
       "      <th>0</th>\n",
       "      <td>Gamereactor</td>\n",
       "      <td>https://www.gamereactor.es/squad-analisis/?sid...</td>\n",
       "      <td>Mike Holmes</td>\n",
       "      <td>Squad</td>\n",
       "      <td>None</td>\n",
       "      <td>Acción</td>\n",
       "      <td>PC</td>\n",
       "      <td>Anda que no ha llovido desde que jugamos Squad...</td>\n",
       "      <td>8.0</td>\n",
       "    </tr>\n",
       "    <tr>\n",
       "      <th>1</th>\n",
       "      <td>Gamereactor</td>\n",
       "      <td>https://www.gamereactor.es/super-mario-bros-35...</td>\n",
       "      <td>Sergio Figueroa</td>\n",
       "      <td>Super Mario Bros. 35 - Battle Royale</td>\n",
       "      <td>Nintendo</td>\n",
       "      <td>Plataformas</td>\n",
       "      <td>Nintendo Switch</td>\n",
       "      <td>No se habían olvidado de él, lo que pasaba es ...</td>\n",
       "      <td>7.0</td>\n",
       "    </tr>\n",
       "    <tr>\n",
       "      <th>2</th>\n",
       "      <td>Gamereactor</td>\n",
       "      <td>https://www.gamereactor.es/crash-bandicoot-4-i...</td>\n",
       "      <td>Eirik Hyldbakk Furu</td>\n",
       "      <td>Crash Bandicoot 4: It's About Time</td>\n",
       "      <td>Activision</td>\n",
       "      <td>Plataformas</td>\n",
       "      <td>PS4, Xbox One</td>\n",
       "      <td>Aunque creo que Ford se pasó un poco con la ca...</td>\n",
       "      <td>8.0</td>\n",
       "    </tr>\n",
       "  </tbody>\n",
       "</table>\n",
       "</div>"
      ],
      "text/plain": [
       "          site                                           url_link  \\\n",
       "0  Gamereactor  https://www.gamereactor.es/squad-analisis/?sid...   \n",
       "1  Gamereactor  https://www.gamereactor.es/super-mario-bros-35...   \n",
       "2  Gamereactor  https://www.gamereactor.es/crash-bandicoot-4-i...   \n",
       "\n",
       "                author                                  game     company  \\\n",
       "0          Mike Holmes                                 Squad        None   \n",
       "1      Sergio Figueroa  Super Mario Bros. 35 - Battle Royale    Nintendo   \n",
       "2  Eirik Hyldbakk Furu    Crash Bandicoot 4: It's About Time  Activision   \n",
       "\n",
       "         genre          platform  \\\n",
       "0       Acción                PC   \n",
       "1  Plataformas   Nintendo Switch   \n",
       "2  Plataformas     PS4, Xbox One   \n",
       "\n",
       "                                                text  score  \n",
       "0  Anda que no ha llovido desde que jugamos Squad...    8.0  \n",
       "1  No se habían olvidado de él, lo que pasaba es ...    7.0  \n",
       "2  Aunque creo que Ford se pasó un poco con la ca...    8.0  "
      ]
     },
     "execution_count": 23,
     "metadata": {},
     "output_type": "execute_result"
    }
   ],
   "source": [
    "gamereactor_df.head(3)"
   ]
  },
  {
   "cell_type": "markdown",
   "metadata": {},
   "source": [
    "*Observations:*\n",
    "- Many Company nones (10%)\n",
    "- Few Genre and Platform nones (1%/2%)"
   ]
  },
  {
   "cell_type": "markdown",
   "metadata": {},
   "source": [
    "### Meristation"
   ]
  },
  {
   "cell_type": "code",
   "execution_count": 15,
   "metadata": {},
   "outputs": [],
   "source": [
    "meristation_df1 = pd.read_csv('../data/meristation_50p.csv')"
   ]
  },
  {
   "cell_type": "code",
   "execution_count": 16,
   "metadata": {},
   "outputs": [],
   "source": [
    "meristation_df2 = pd.read_csv('../data/meristation_51_150p.csv')"
   ]
  },
  {
   "cell_type": "code",
   "execution_count": 17,
   "metadata": {},
   "outputs": [],
   "source": [
    "meristation_data = [meristation_df1, meristation_df2]\n",
    "meristation_df = pd.concat(meristation_data)"
   ]
  },
  {
   "cell_type": "code",
   "execution_count": 18,
   "metadata": {},
   "outputs": [
    {
     "name": "stdout",
     "output_type": "stream",
     "text": [
      "<class 'pandas.core.frame.DataFrame'>\n",
      "Int64Index: 4427 entries, 0 to 2985\n",
      "Data columns (total 9 columns):\n",
      " #   Column    Non-Null Count  Dtype  \n",
      "---  ------    --------------  -----  \n",
      " 0   site      4427 non-null   object \n",
      " 1   url_link  4427 non-null   object \n",
      " 2   author    4424 non-null   object \n",
      " 3   game      4427 non-null   object \n",
      " 4   company   4427 non-null   object \n",
      " 5   genre     4427 non-null   object \n",
      " 6   platform  4427 non-null   object \n",
      " 7   text      4427 non-null   object \n",
      " 8   score     4427 non-null   float64\n",
      "dtypes: float64(1), object(8)\n",
      "memory usage: 345.9+ KB\n"
     ]
    }
   ],
   "source": [
    "meristation_df.info()"
   ]
  },
  {
   "cell_type": "code",
   "execution_count": 19,
   "metadata": {},
   "outputs": [
    {
     "data": {
      "text/html": [
       "<div>\n",
       "<style scoped>\n",
       "    .dataframe tbody tr th:only-of-type {\n",
       "        vertical-align: middle;\n",
       "    }\n",
       "\n",
       "    .dataframe tbody tr th {\n",
       "        vertical-align: top;\n",
       "    }\n",
       "\n",
       "    .dataframe thead th {\n",
       "        text-align: right;\n",
       "    }\n",
       "</style>\n",
       "<table border=\"1\" class=\"dataframe\">\n",
       "  <thead>\n",
       "    <tr style=\"text-align: right;\">\n",
       "      <th></th>\n",
       "      <th>score</th>\n",
       "    </tr>\n",
       "  </thead>\n",
       "  <tbody>\n",
       "    <tr>\n",
       "      <th>count</th>\n",
       "      <td>4427.000000</td>\n",
       "    </tr>\n",
       "    <tr>\n",
       "      <th>mean</th>\n",
       "      <td>7.446307</td>\n",
       "    </tr>\n",
       "    <tr>\n",
       "      <th>std</th>\n",
       "      <td>1.234652</td>\n",
       "    </tr>\n",
       "    <tr>\n",
       "      <th>min</th>\n",
       "      <td>0.500000</td>\n",
       "    </tr>\n",
       "    <tr>\n",
       "      <th>25%</th>\n",
       "      <td>7.000000</td>\n",
       "    </tr>\n",
       "    <tr>\n",
       "      <th>50%</th>\n",
       "      <td>7.500000</td>\n",
       "    </tr>\n",
       "    <tr>\n",
       "      <th>75%</th>\n",
       "      <td>8.300000</td>\n",
       "    </tr>\n",
       "    <tr>\n",
       "      <th>max</th>\n",
       "      <td>10.000000</td>\n",
       "    </tr>\n",
       "  </tbody>\n",
       "</table>\n",
       "</div>"
      ],
      "text/plain": [
       "             score\n",
       "count  4427.000000\n",
       "mean      7.446307\n",
       "std       1.234652\n",
       "min       0.500000\n",
       "25%       7.000000\n",
       "50%       7.500000\n",
       "75%       8.300000\n",
       "max      10.000000"
      ]
     },
     "execution_count": 19,
     "metadata": {},
     "output_type": "execute_result"
    }
   ],
   "source": [
    "meristation_df.describe()"
   ]
  },
  {
   "cell_type": "code",
   "execution_count": 20,
   "metadata": {},
   "outputs": [
    {
     "data": {
      "text/plain": [
       "False    4427\n",
       "dtype: int64"
      ]
     },
     "execution_count": 20,
     "metadata": {},
     "output_type": "execute_result"
    }
   ],
   "source": [
    "# Duplicates\n",
    "\n",
    "meristation_df.duplicated().value_counts()# - False 4427"
   ]
  },
  {
   "cell_type": "code",
   "execution_count": 21,
   "metadata": {},
   "outputs": [],
   "source": [
    "meristation_df.to_csv('../data/meristation_all.csv', index=False)"
   ]
  },
  {
   "cell_type": "code",
   "execution_count": 39,
   "metadata": {},
   "outputs": [],
   "source": [
    "# Testing empties per column\n",
    "\n",
    "# (meristation_df['game'] == 'None').value_counts()# - False 1441\n",
    "# (meristation_df['site'] == 'None').value_counts()# - False 1441\n",
    "# (meristation_df['author'] == 'None').value_counts()# - False 1308 / True 133\n",
    "# (meristation_df['url_link'] == 'None').value_counts()# - False 1441\n",
    "# (meristation_df['company'] == 'None').value_counts()# - False 1278 / True 163\n",
    "# (meristation_df['genre'] == 'None').value_counts()# - False 1429 / True 12\n",
    "# (meristation_df['platform'] == 'None').value_counts()# - False 1441\n",
    "# (meristation_df['score'] == 'None').value_counts()# - False 1441"
   ]
  },
  {
   "cell_type": "code",
   "execution_count": 22,
   "metadata": {},
   "outputs": [
    {
     "data": {
      "text/html": [
       "<div>\n",
       "<style scoped>\n",
       "    .dataframe tbody tr th:only-of-type {\n",
       "        vertical-align: middle;\n",
       "    }\n",
       "\n",
       "    .dataframe tbody tr th {\n",
       "        vertical-align: top;\n",
       "    }\n",
       "\n",
       "    .dataframe thead th {\n",
       "        text-align: right;\n",
       "    }\n",
       "</style>\n",
       "<table border=\"1\" class=\"dataframe\">\n",
       "  <thead>\n",
       "    <tr style=\"text-align: right;\">\n",
       "      <th></th>\n",
       "      <th>site</th>\n",
       "      <th>url_link</th>\n",
       "      <th>author</th>\n",
       "      <th>game</th>\n",
       "      <th>company</th>\n",
       "      <th>genre</th>\n",
       "      <th>platform</th>\n",
       "      <th>text</th>\n",
       "      <th>score</th>\n",
       "    </tr>\n",
       "  </thead>\n",
       "  <tbody>\n",
       "    <tr>\n",
       "      <th>0</th>\n",
       "      <td>meristation</td>\n",
       "      <td>https://as.com/meristation/2020/10/05/analisis...</td>\n",
       "      <td>Carlos Forcada</td>\n",
       "      <td>OkunoKA Madness</td>\n",
       "      <td>Ignition Entertainment</td>\n",
       "      <td>Plataformas</td>\n",
       "      <td>XBO NSW PS4 PC</td>\n",
       "      <td>\\n\\n Aunque parece que están ahí casi siempre,...</td>\n",
       "      <td>7.4</td>\n",
       "    </tr>\n",
       "    <tr>\n",
       "      <th>1</th>\n",
       "      <td>meristation</td>\n",
       "      <td>https://as.com/meristation/2020/10/03/analisis...</td>\n",
       "      <td>Cristian Ciuraneta</td>\n",
       "      <td>art of rally</td>\n",
       "      <td>Funselektor</td>\n",
       "      <td>Conducción</td>\n",
       "      <td>PC</td>\n",
       "      <td>Los fans de los videojuegos de carreras están ...</td>\n",
       "      <td>7.5</td>\n",
       "    </tr>\n",
       "    <tr>\n",
       "      <th>2</th>\n",
       "      <td>meristation</td>\n",
       "      <td>https://as.com/meristation/2020/10/01/analisis...</td>\n",
       "      <td>Sergio C. González\\nSergio5Glez</td>\n",
       "      <td>Crash Bandicoot 4: It's About Time</td>\n",
       "      <td>Activision</td>\n",
       "      <td>Plataformas</td>\n",
       "      <td>PS4 XBO</td>\n",
       "      <td>\\n\\n Crash Bandicoot N. Sane Trilogy fue toda ...</td>\n",
       "      <td>8.3</td>\n",
       "    </tr>\n",
       "  </tbody>\n",
       "</table>\n",
       "</div>"
      ],
      "text/plain": [
       "          site                                           url_link  \\\n",
       "0  meristation  https://as.com/meristation/2020/10/05/analisis...   \n",
       "1  meristation  https://as.com/meristation/2020/10/03/analisis...   \n",
       "2  meristation  https://as.com/meristation/2020/10/01/analisis...   \n",
       "\n",
       "                            author                                game  \\\n",
       "0                   Carlos Forcada                     OkunoKA Madness   \n",
       "1               Cristian Ciuraneta                        art of rally   \n",
       "2  Sergio C. González\\nSergio5Glez  Crash Bandicoot 4: It's About Time   \n",
       "\n",
       "                  company                            genre        platform  \\\n",
       "0  Ignition Entertainment  Plataformas                      XBO NSW PS4 PC   \n",
       "1             Funselektor   Conducción                                  PC   \n",
       "2              Activision  Plataformas                             PS4 XBO   \n",
       "\n",
       "                                                text  score  \n",
       "0  \\n\\n Aunque parece que están ahí casi siempre,...    7.4  \n",
       "1  Los fans de los videojuegos de carreras están ...    7.5  \n",
       "2  \\n\\n Crash Bandicoot N. Sane Trilogy fue toda ...    8.3  "
      ]
     },
     "execution_count": 22,
     "metadata": {},
     "output_type": "execute_result"
    }
   ],
   "source": [
    "meristation_df.head(3)"
   ]
  },
  {
   "cell_type": "markdown",
   "metadata": {},
   "source": [
    "*Observations:*\n",
    "- Many Author and Company nones (10%)\n",
    "- Few Genre (1%)\n",
    "- Platform names poor labeling"
   ]
  },
  {
   "cell_type": "markdown",
   "metadata": {},
   "source": [
    "### Revogamers"
   ]
  },
  {
   "cell_type": "code",
   "execution_count": 24,
   "metadata": {},
   "outputs": [],
   "source": [
    "revogamers_df1 = pd.read_csv('../data/revogamers_100l.csv')"
   ]
  },
  {
   "cell_type": "code",
   "execution_count": 25,
   "metadata": {},
   "outputs": [],
   "source": [
    "revogamers_df2 = pd.read_csv('../data/revogamers_100_500l.csv')"
   ]
  },
  {
   "cell_type": "code",
   "execution_count": 26,
   "metadata": {},
   "outputs": [],
   "source": [
    "revogamers_df3 = pd.read_csv('../data/revogamers_500_999l.csv')"
   ]
  },
  {
   "cell_type": "code",
   "execution_count": 27,
   "metadata": {},
   "outputs": [],
   "source": [
    "revogamers_df4 = pd.read_csv('../data/revogamers_1000_1257l.csv')"
   ]
  },
  {
   "cell_type": "code",
   "execution_count": 28,
   "metadata": {},
   "outputs": [],
   "source": [
    "revogamers_data = [revogamers_df1, revogamers_df2, revogamers_df3, revogamers_df4]\n",
    "revogamers_df = pd.concat(revogamers_data)"
   ]
  },
  {
   "cell_type": "code",
   "execution_count": 29,
   "metadata": {},
   "outputs": [
    {
     "name": "stdout",
     "output_type": "stream",
     "text": [
      "<class 'pandas.core.frame.DataFrame'>\n",
      "Int64Index: 1120 entries, 0 to 256\n",
      "Data columns (total 9 columns):\n",
      " #   Column    Non-Null Count  Dtype  \n",
      "---  ------    --------------  -----  \n",
      " 0   site      1120 non-null   object \n",
      " 1   url_link  1120 non-null   object \n",
      " 2   author    1120 non-null   object \n",
      " 3   game      1120 non-null   object \n",
      " 4   company   1120 non-null   object \n",
      " 5   genre     1120 non-null   object \n",
      " 6   platform  1120 non-null   object \n",
      " 7   text      1119 non-null   object \n",
      " 8   score     1120 non-null   float64\n",
      "dtypes: float64(1), object(8)\n",
      "memory usage: 87.5+ KB\n"
     ]
    }
   ],
   "source": [
    "revogamers_df.info()"
   ]
  },
  {
   "cell_type": "code",
   "execution_count": 30,
   "metadata": {},
   "outputs": [
    {
     "data": {
      "text/html": [
       "<div>\n",
       "<style scoped>\n",
       "    .dataframe tbody tr th:only-of-type {\n",
       "        vertical-align: middle;\n",
       "    }\n",
       "\n",
       "    .dataframe tbody tr th {\n",
       "        vertical-align: top;\n",
       "    }\n",
       "\n",
       "    .dataframe thead th {\n",
       "        text-align: right;\n",
       "    }\n",
       "</style>\n",
       "<table border=\"1\" class=\"dataframe\">\n",
       "  <thead>\n",
       "    <tr style=\"text-align: right;\">\n",
       "      <th></th>\n",
       "      <th>score</th>\n",
       "    </tr>\n",
       "  </thead>\n",
       "  <tbody>\n",
       "    <tr>\n",
       "      <th>count</th>\n",
       "      <td>1120.000000</td>\n",
       "    </tr>\n",
       "    <tr>\n",
       "      <th>mean</th>\n",
       "      <td>7.197321</td>\n",
       "    </tr>\n",
       "    <tr>\n",
       "      <th>std</th>\n",
       "      <td>1.277898</td>\n",
       "    </tr>\n",
       "    <tr>\n",
       "      <th>min</th>\n",
       "      <td>0.000000</td>\n",
       "    </tr>\n",
       "    <tr>\n",
       "      <th>25%</th>\n",
       "      <td>6.500000</td>\n",
       "    </tr>\n",
       "    <tr>\n",
       "      <th>50%</th>\n",
       "      <td>7.500000</td>\n",
       "    </tr>\n",
       "    <tr>\n",
       "      <th>75%</th>\n",
       "      <td>8.000000</td>\n",
       "    </tr>\n",
       "    <tr>\n",
       "      <th>max</th>\n",
       "      <td>10.000000</td>\n",
       "    </tr>\n",
       "  </tbody>\n",
       "</table>\n",
       "</div>"
      ],
      "text/plain": [
       "             score\n",
       "count  1120.000000\n",
       "mean      7.197321\n",
       "std       1.277898\n",
       "min       0.000000\n",
       "25%       6.500000\n",
       "50%       7.500000\n",
       "75%       8.000000\n",
       "max      10.000000"
      ]
     },
     "execution_count": 30,
     "metadata": {},
     "output_type": "execute_result"
    }
   ],
   "source": [
    "revogamers_df.describe()"
   ]
  },
  {
   "cell_type": "code",
   "execution_count": 31,
   "metadata": {},
   "outputs": [],
   "source": [
    "revogamers_df = revogamers_df.reset_index(drop=True)"
   ]
  },
  {
   "cell_type": "code",
   "execution_count": 32,
   "metadata": {},
   "outputs": [
    {
     "data": {
      "text/plain": [
       "False    1120\n",
       "dtype: int64"
      ]
     },
     "execution_count": 32,
     "metadata": {},
     "output_type": "execute_result"
    }
   ],
   "source": [
    "# Duplicates\n",
    "\n",
    "revogamers_df.duplicated().value_counts()# - False 1120"
   ]
  },
  {
   "cell_type": "code",
   "execution_count": 48,
   "metadata": {},
   "outputs": [],
   "source": [
    "#revogamers_df.to_csv('../data/revogamers_all.csv', index=False)"
   ]
  },
  {
   "cell_type": "code",
   "execution_count": 59,
   "metadata": {},
   "outputs": [],
   "source": [
    "# Testing empties per column\n",
    "\n",
    "# (revogamers_df['game'] == 'None').value_counts()# - False 863\n",
    "# (revogamers_df['site'] == 'None').value_counts()# - False 863\n",
    "# (revogamers_df['author'] == 'None').value_counts()# - False 863\n",
    "# (revogamers_df['url_link'] == 'None').value_counts()# - False 863\n",
    "# (revogamers_df['company'] == 'None').value_counts()# - False 402 / True 461\n",
    "# (revogamers_df['genre'] == 'None').value_counts()# - False 406 / True 457\n",
    "# (revogamers_df['platform'] == 'None').value_counts()# - False 863\n",
    "# (revogamers_df['score'] == 'None').value_counts()# - False 863\n"
   ]
  },
  {
   "cell_type": "code",
   "execution_count": 33,
   "metadata": {},
   "outputs": [
    {
     "data": {
      "text/html": [
       "<div>\n",
       "<style scoped>\n",
       "    .dataframe tbody tr th:only-of-type {\n",
       "        vertical-align: middle;\n",
       "    }\n",
       "\n",
       "    .dataframe tbody tr th {\n",
       "        vertical-align: top;\n",
       "    }\n",
       "\n",
       "    .dataframe thead th {\n",
       "        text-align: right;\n",
       "    }\n",
       "</style>\n",
       "<table border=\"1\" class=\"dataframe\">\n",
       "  <thead>\n",
       "    <tr style=\"text-align: right;\">\n",
       "      <th></th>\n",
       "      <th>site</th>\n",
       "      <th>url_link</th>\n",
       "      <th>author</th>\n",
       "      <th>game</th>\n",
       "      <th>company</th>\n",
       "      <th>genre</th>\n",
       "      <th>platform</th>\n",
       "      <th>text</th>\n",
       "      <th>score</th>\n",
       "    </tr>\n",
       "  </thead>\n",
       "  <tbody>\n",
       "    <tr>\n",
       "      <th>0</th>\n",
       "      <td>revogamers</td>\n",
       "      <td>https://www.revogamers.net/analisis-w/analisis...</td>\n",
       "      <td>Carlos Firás</td>\n",
       "      <td>Going Under</td>\n",
       "      <td>None</td>\n",
       "      <td>None</td>\n",
       "      <td>Nintendo Switch</td>\n",
       "      <td>Llega a nuestras Nintendo Switch un juego que ...</td>\n",
       "      <td>8.0</td>\n",
       "    </tr>\n",
       "    <tr>\n",
       "      <th>1</th>\n",
       "      <td>revogamers</td>\n",
       "      <td>https://www.revogamers.net/analisis-w/analisis...</td>\n",
       "      <td>Javier Aranda</td>\n",
       "      <td>Kirby Fighters 2</td>\n",
       "      <td>HAL Laboratory</td>\n",
       "      <td>Lucha</td>\n",
       "      <td>Nintendo Switch</td>\n",
       "      <td>Kirby ha demostrado en más de una ocasión que ...</td>\n",
       "      <td>7.5</td>\n",
       "    </tr>\n",
       "    <tr>\n",
       "      <th>2</th>\n",
       "      <td>revogamers</td>\n",
       "      <td>https://www.revogamers.net/analisis-w/analisis...</td>\n",
       "      <td>Carlos Firás</td>\n",
       "      <td>Lost Ember</td>\n",
       "      <td>None</td>\n",
       "      <td>None</td>\n",
       "      <td>Nintendo Switch</td>\n",
       "      <td>Llega a nuestras Nintendo Switch un juego que ...</td>\n",
       "      <td>7.5</td>\n",
       "    </tr>\n",
       "  </tbody>\n",
       "</table>\n",
       "</div>"
      ],
      "text/plain": [
       "         site                                           url_link  \\\n",
       "0  revogamers  https://www.revogamers.net/analisis-w/analisis...   \n",
       "1  revogamers  https://www.revogamers.net/analisis-w/analisis...   \n",
       "2  revogamers  https://www.revogamers.net/analisis-w/analisis...   \n",
       "\n",
       "          author               game         company  genre         platform  \\\n",
       "0   Carlos Firás        Going Under            None   None  Nintendo Switch   \n",
       "1  Javier Aranda   Kirby Fighters 2  HAL Laboratory  Lucha  Nintendo Switch   \n",
       "2   Carlos Firás         Lost Ember            None   None  Nintendo Switch   \n",
       "\n",
       "                                                text  score  \n",
       "0  Llega a nuestras Nintendo Switch un juego que ...    8.0  \n",
       "1  Kirby ha demostrado en más de una ocasión que ...    7.5  \n",
       "2  Llega a nuestras Nintendo Switch un juego que ...    7.5  "
      ]
     },
     "execution_count": 33,
     "metadata": {},
     "output_type": "execute_result"
    }
   ],
   "source": [
    "revogamers_df.head(3)"
   ]
  },
  {
   "cell_type": "markdown",
   "metadata": {},
   "source": [
    "*Observations:*\n",
    "- Too much Genre and Company nones (+50%)\n",
    "- One null text"
   ]
  },
  {
   "cell_type": "markdown",
   "metadata": {},
   "source": [
    "### Vandal"
   ]
  },
  {
   "cell_type": "code",
   "execution_count": 35,
   "metadata": {},
   "outputs": [],
   "source": [
    "vandal_df1 = pd.read_csv('../data/vandal_2225l.csv')"
   ]
  },
  {
   "cell_type": "code",
   "execution_count": 36,
   "metadata": {},
   "outputs": [],
   "source": [
    "vandal_df2 = pd.read_csv('../data/vandal_2225_4482l.csv')"
   ]
  },
  {
   "cell_type": "code",
   "execution_count": 37,
   "metadata": {},
   "outputs": [],
   "source": [
    "vandal_data = [vandal_df1, vandal_df2]\n",
    "vandal_df = pd.concat(vandal_data)"
   ]
  },
  {
   "cell_type": "code",
   "execution_count": 39,
   "metadata": {},
   "outputs": [
    {
     "name": "stdout",
     "output_type": "stream",
     "text": [
      "<class 'pandas.core.frame.DataFrame'>\n",
      "Int64Index: 4471 entries, 0 to 2256\n",
      "Data columns (total 9 columns):\n",
      " #   Column    Non-Null Count  Dtype  \n",
      "---  ------    --------------  -----  \n",
      " 0   site      4471 non-null   object \n",
      " 1   url_link  4471 non-null   object \n",
      " 2   author    4471 non-null   object \n",
      " 3   game      4471 non-null   object \n",
      " 4   company   4453 non-null   object \n",
      " 5   genre     4469 non-null   object \n",
      " 6   platform  4471 non-null   object \n",
      " 7   text      4435 non-null   object \n",
      " 8   score     4471 non-null   float64\n",
      "dtypes: float64(1), object(8)\n",
      "memory usage: 349.3+ KB\n"
     ]
    }
   ],
   "source": [
    "vandal_df.info()"
   ]
  },
  {
   "cell_type": "code",
   "execution_count": 40,
   "metadata": {},
   "outputs": [
    {
     "data": {
      "text/html": [
       "<div>\n",
       "<style scoped>\n",
       "    .dataframe tbody tr th:only-of-type {\n",
       "        vertical-align: middle;\n",
       "    }\n",
       "\n",
       "    .dataframe tbody tr th {\n",
       "        vertical-align: top;\n",
       "    }\n",
       "\n",
       "    .dataframe thead th {\n",
       "        text-align: right;\n",
       "    }\n",
       "</style>\n",
       "<table border=\"1\" class=\"dataframe\">\n",
       "  <thead>\n",
       "    <tr style=\"text-align: right;\">\n",
       "      <th></th>\n",
       "      <th>score</th>\n",
       "    </tr>\n",
       "  </thead>\n",
       "  <tbody>\n",
       "    <tr>\n",
       "      <th>count</th>\n",
       "      <td>4471.000000</td>\n",
       "    </tr>\n",
       "    <tr>\n",
       "      <th>mean</th>\n",
       "      <td>7.611877</td>\n",
       "    </tr>\n",
       "    <tr>\n",
       "      <th>std</th>\n",
       "      <td>1.137457</td>\n",
       "    </tr>\n",
       "    <tr>\n",
       "      <th>min</th>\n",
       "      <td>1.000000</td>\n",
       "    </tr>\n",
       "    <tr>\n",
       "      <th>25%</th>\n",
       "      <td>7.000000</td>\n",
       "    </tr>\n",
       "    <tr>\n",
       "      <th>50%</th>\n",
       "      <td>7.800000</td>\n",
       "    </tr>\n",
       "    <tr>\n",
       "      <th>75%</th>\n",
       "      <td>8.500000</td>\n",
       "    </tr>\n",
       "    <tr>\n",
       "      <th>max</th>\n",
       "      <td>10.000000</td>\n",
       "    </tr>\n",
       "  </tbody>\n",
       "</table>\n",
       "</div>"
      ],
      "text/plain": [
       "             score\n",
       "count  4471.000000\n",
       "mean      7.611877\n",
       "std       1.137457\n",
       "min       1.000000\n",
       "25%       7.000000\n",
       "50%       7.800000\n",
       "75%       8.500000\n",
       "max      10.000000"
      ]
     },
     "execution_count": 40,
     "metadata": {},
     "output_type": "execute_result"
    }
   ],
   "source": [
    "vandal_df.describe()"
   ]
  },
  {
   "cell_type": "code",
   "execution_count": 41,
   "metadata": {},
   "outputs": [],
   "source": [
    "vandal_df = vandal_df.reset_index(drop=True)"
   ]
  },
  {
   "cell_type": "code",
   "execution_count": 46,
   "metadata": {},
   "outputs": [],
   "source": [
    "# Duplicates\n",
    "\n",
    "#vandal_df.duplicated().value_counts()# - False 4356 (more that 100 duplicates, proceed to drop)\n",
    "\n",
    "#vandal_df.drop_duplicates(inplace=True)\n",
    "\n",
    "#len(vandal_df) - 4356"
   ]
  },
  {
   "cell_type": "code",
   "execution_count": 49,
   "metadata": {},
   "outputs": [],
   "source": [
    "#vandal_df.to_csv('../data/vandal_all.csv', index=False)"
   ]
  },
  {
   "cell_type": "code",
   "execution_count": null,
   "metadata": {},
   "outputs": [],
   "source": [
    "'''# Testing empties per column\n",
    "\n",
    "# (revogamers_df['game'] == 'None').value_counts()# - False 863\n",
    "# (revogamers_df['site'] == 'None').value_counts()# - False 863\n",
    "# (revogamers_df['author'] == 'None').value_counts()# - False 863\n",
    "# (revogamers_df['url_link'] == 'None').value_counts()# - False 863\n",
    "# (revogamers_df['company'] == 'None').value_counts()# - False 402 / True 461\n",
    "# (revogamers_df['genre'] == 'None').value_counts()# - False 406 / True 457\n",
    "# (revogamers_df['platform'] == 'None').value_counts()# - False 863\n",
    "# (revogamers_df['score'] == 'None').value_counts()# - False 863'''"
   ]
  },
  {
   "cell_type": "code",
   "execution_count": 47,
   "metadata": {},
   "outputs": [
    {
     "data": {
      "text/html": [
       "<div>\n",
       "<style scoped>\n",
       "    .dataframe tbody tr th:only-of-type {\n",
       "        vertical-align: middle;\n",
       "    }\n",
       "\n",
       "    .dataframe tbody tr th {\n",
       "        vertical-align: top;\n",
       "    }\n",
       "\n",
       "    .dataframe thead th {\n",
       "        text-align: right;\n",
       "    }\n",
       "</style>\n",
       "<table border=\"1\" class=\"dataframe\">\n",
       "  <thead>\n",
       "    <tr style=\"text-align: right;\">\n",
       "      <th></th>\n",
       "      <th>site</th>\n",
       "      <th>url_link</th>\n",
       "      <th>author</th>\n",
       "      <th>game</th>\n",
       "      <th>company</th>\n",
       "      <th>genre</th>\n",
       "      <th>platform</th>\n",
       "      <th>text</th>\n",
       "      <th>score</th>\n",
       "    </tr>\n",
       "  </thead>\n",
       "  <tbody>\n",
       "    <tr>\n",
       "      <th>0</th>\n",
       "      <td>Vandal</td>\n",
       "      <td>https://vandal.elespanol.com/analisis/ps4/budg...</td>\n",
       "      <td>Juan Rubio</td>\n",
       "      <td>Budget Cuts - Análisis</td>\n",
       "      <td>Neat Corporation</td>\n",
       "      <td>Acción Realidad Virtual</td>\n",
       "      <td>PS4 PC</td>\n",
       "      <td>Sabemos que empezamos a sonar como un disco ra...</td>\n",
       "      <td>8.0</td>\n",
       "    </tr>\n",
       "    <tr>\n",
       "      <th>1</th>\n",
       "      <td>Vandal</td>\n",
       "      <td>https://vandal.elespanol.com/analisis/pc/the-s...</td>\n",
       "      <td>Manu Delgado</td>\n",
       "      <td>The Survivalists - Análisis</td>\n",
       "      <td>Team17 Digital Ltd</td>\n",
       "      <td>Construcción Supervivencia</td>\n",
       "      <td>PC Xbox One Switch PS4</td>\n",
       "      <td>Desde su lanzamiento en 2015 la franquicia The...</td>\n",
       "      <td>8.0</td>\n",
       "    </tr>\n",
       "    <tr>\n",
       "      <th>2</th>\n",
       "      <td>Vandal</td>\n",
       "      <td>https://vandal.elespanol.com/analisis/switch/p...</td>\n",
       "      <td>Sergio Martín</td>\n",
       "      <td>Prinny 1 2: Exploded and Reloaded - Análisis</td>\n",
       "      <td>NIS America</td>\n",
       "      <td>Hack and Slash Plataformas 2D</td>\n",
       "      <td>Switch</td>\n",
       "      <td>NIS es una de esas compañías que entre sus num...</td>\n",
       "      <td>8.2</td>\n",
       "    </tr>\n",
       "  </tbody>\n",
       "</table>\n",
       "</div>"
      ],
      "text/plain": [
       "     site                                           url_link         author  \\\n",
       "0  Vandal  https://vandal.elespanol.com/analisis/ps4/budg...     Juan Rubio   \n",
       "1  Vandal  https://vandal.elespanol.com/analisis/pc/the-s...   Manu Delgado   \n",
       "2  Vandal  https://vandal.elespanol.com/analisis/switch/p...  Sergio Martín   \n",
       "\n",
       "                                           game             company  \\\n",
       "0                        Budget Cuts - Análisis    Neat Corporation   \n",
       "1                   The Survivalists - Análisis  Team17 Digital Ltd   \n",
       "2  Prinny 1 2: Exploded and Reloaded - Análisis         NIS America   \n",
       "\n",
       "                           genre                platform  \\\n",
       "0        Acción Realidad Virtual                  PS4 PC   \n",
       "1     Construcción Supervivencia  PC Xbox One Switch PS4   \n",
       "2  Hack and Slash Plataformas 2D                  Switch   \n",
       "\n",
       "                                                text  score  \n",
       "0  Sabemos que empezamos a sonar como un disco ra...    8.0  \n",
       "1  Desde su lanzamiento en 2015 la franquicia The...    8.0  \n",
       "2  NIS es una de esas compañías que entre sus num...    8.2  "
      ]
     },
     "execution_count": 47,
     "metadata": {},
     "output_type": "execute_result"
    }
   ],
   "source": [
    "vandal_df.head(3)"
   ]
  },
  {
   "cell_type": "markdown",
   "metadata": {},
   "source": [
    "### 3DJuegos"
   ]
  },
  {
   "cell_type": "code",
   "execution_count": 50,
   "metadata": {},
   "outputs": [],
   "source": [
    "tdjuegos_df1 = pd.read_csv('../data/tdjuegos_200l.csv')"
   ]
  },
  {
   "cell_type": "code",
   "execution_count": 51,
   "metadata": {},
   "outputs": [],
   "source": [
    "tdjuegos_df2 = pd.read_csv('../data/tdjuegos_200_1400l.csv')"
   ]
  },
  {
   "cell_type": "code",
   "execution_count": 55,
   "metadata": {},
   "outputs": [],
   "source": [
    "tdjuegos_df3 = pd.read_csv('../data/tdjuegos_1400_3000l.csv')"
   ]
  },
  {
   "cell_type": "code",
   "execution_count": 56,
   "metadata": {},
   "outputs": [],
   "source": [
    "tdjuegos_df4 = pd.read_csv('../data/tdjuegos_3000_4470l.csv')"
   ]
  },
  {
   "cell_type": "code",
   "execution_count": 57,
   "metadata": {},
   "outputs": [],
   "source": [
    "tdjuegos_data = [tdjuegos_df1, tdjuegos_df2, tdjuegos_df3, tdjuegos_df4]\n",
    "tdjuegos_df = pd.concat(tdjuegos_data)"
   ]
  },
  {
   "cell_type": "code",
   "execution_count": 58,
   "metadata": {},
   "outputs": [
    {
     "name": "stdout",
     "output_type": "stream",
     "text": [
      "<class 'pandas.core.frame.DataFrame'>\n",
      "Int64Index: 4464 entries, 0 to 1469\n",
      "Data columns (total 9 columns):\n",
      " #   Column    Non-Null Count  Dtype  \n",
      "---  ------    --------------  -----  \n",
      " 0   site      4464 non-null   object \n",
      " 1   url_link  4464 non-null   object \n",
      " 2   author    4464 non-null   object \n",
      " 3   game      4464 non-null   object \n",
      " 4   company   4464 non-null   object \n",
      " 5   genre     4464 non-null   object \n",
      " 6   platform  4464 non-null   object \n",
      " 7   text      4464 non-null   object \n",
      " 8   score     4464 non-null   float64\n",
      "dtypes: float64(1), object(8)\n",
      "memory usage: 348.8+ KB\n"
     ]
    }
   ],
   "source": [
    "tdjuegos_df.info()"
   ]
  },
  {
   "cell_type": "code",
   "execution_count": 59,
   "metadata": {},
   "outputs": [
    {
     "data": {
      "text/html": [
       "<div>\n",
       "<style scoped>\n",
       "    .dataframe tbody tr th:only-of-type {\n",
       "        vertical-align: middle;\n",
       "    }\n",
       "\n",
       "    .dataframe tbody tr th {\n",
       "        vertical-align: top;\n",
       "    }\n",
       "\n",
       "    .dataframe thead th {\n",
       "        text-align: right;\n",
       "    }\n",
       "</style>\n",
       "<table border=\"1\" class=\"dataframe\">\n",
       "  <thead>\n",
       "    <tr style=\"text-align: right;\">\n",
       "      <th></th>\n",
       "      <th>score</th>\n",
       "    </tr>\n",
       "  </thead>\n",
       "  <tbody>\n",
       "    <tr>\n",
       "      <th>count</th>\n",
       "      <td>4464.000000</td>\n",
       "    </tr>\n",
       "    <tr>\n",
       "      <th>mean</th>\n",
       "      <td>7.688015</td>\n",
       "    </tr>\n",
       "    <tr>\n",
       "      <th>std</th>\n",
       "      <td>1.070927</td>\n",
       "    </tr>\n",
       "    <tr>\n",
       "      <th>min</th>\n",
       "      <td>2.000000</td>\n",
       "    </tr>\n",
       "    <tr>\n",
       "      <th>25%</th>\n",
       "      <td>7.000000</td>\n",
       "    </tr>\n",
       "    <tr>\n",
       "      <th>50%</th>\n",
       "      <td>8.000000</td>\n",
       "    </tr>\n",
       "    <tr>\n",
       "      <th>75%</th>\n",
       "      <td>8.500000</td>\n",
       "    </tr>\n",
       "    <tr>\n",
       "      <th>max</th>\n",
       "      <td>10.000000</td>\n",
       "    </tr>\n",
       "  </tbody>\n",
       "</table>\n",
       "</div>"
      ],
      "text/plain": [
       "             score\n",
       "count  4464.000000\n",
       "mean      7.688015\n",
       "std       1.070927\n",
       "min       2.000000\n",
       "25%       7.000000\n",
       "50%       8.000000\n",
       "75%       8.500000\n",
       "max      10.000000"
      ]
     },
     "execution_count": 59,
     "metadata": {},
     "output_type": "execute_result"
    }
   ],
   "source": [
    "tdjuegos_df.describe()"
   ]
  },
  {
   "cell_type": "code",
   "execution_count": 60,
   "metadata": {},
   "outputs": [],
   "source": [
    "tdjuegos_df = tdjuegos_df.reset_index(drop=True)"
   ]
  },
  {
   "cell_type": "code",
   "execution_count": 66,
   "metadata": {},
   "outputs": [
    {
     "data": {
      "text/plain": [
       "3447"
      ]
     },
     "execution_count": 66,
     "metadata": {},
     "output_type": "execute_result"
    }
   ],
   "source": [
    "# Duplicates\n",
    "\n",
    "#tdjuegos_df.duplicated().value_counts()# - False 4463 (1 duplicate, proceed to drop. There are more comparing game)\n",
    "\n",
    "#tdjuegos_df.drop_duplicates(subset=['game'], inplace=True)\n",
    "\n",
    "#len(tdjuegos_df)# - 3447"
   ]
  },
  {
   "cell_type": "code",
   "execution_count": 67,
   "metadata": {},
   "outputs": [],
   "source": [
    "tdjuegos_df.to_csv('../data/tdjuegos_all.csv', index=False)"
   ]
  },
  {
   "cell_type": "code",
   "execution_count": null,
   "metadata": {},
   "outputs": [],
   "source": [
    "'''# Testing empties per column\n",
    "\n",
    "# (revogamers_df['game'] == 'None').value_counts()# - False 863\n",
    "# (revogamers_df['site'] == 'None').value_counts()# - False 863\n",
    "# (revogamers_df['author'] == 'None').value_counts()# - False 863\n",
    "# (revogamers_df['url_link'] == 'None').value_counts()# - False 863\n",
    "# (revogamers_df['company'] == 'None').value_counts()# - False 402 / True 461\n",
    "# (revogamers_df['genre'] == 'None').value_counts()# - False 406 / True 457\n",
    "# (revogamers_df['platform'] == 'None').value_counts()# - False 863\n",
    "# (revogamers_df['score'] == 'None').value_counts()# - False 863'''"
   ]
  },
  {
   "cell_type": "code",
   "execution_count": 68,
   "metadata": {},
   "outputs": [
    {
     "data": {
      "text/html": [
       "<div>\n",
       "<style scoped>\n",
       "    .dataframe tbody tr th:only-of-type {\n",
       "        vertical-align: middle;\n",
       "    }\n",
       "\n",
       "    .dataframe tbody tr th {\n",
       "        vertical-align: top;\n",
       "    }\n",
       "\n",
       "    .dataframe thead th {\n",
       "        text-align: right;\n",
       "    }\n",
       "</style>\n",
       "<table border=\"1\" class=\"dataframe\">\n",
       "  <thead>\n",
       "    <tr style=\"text-align: right;\">\n",
       "      <th></th>\n",
       "      <th>site</th>\n",
       "      <th>url_link</th>\n",
       "      <th>author</th>\n",
       "      <th>game</th>\n",
       "      <th>company</th>\n",
       "      <th>genre</th>\n",
       "      <th>platform</th>\n",
       "      <th>text</th>\n",
       "      <th>score</th>\n",
       "    </tr>\n",
       "  </thead>\n",
       "  <tbody>\n",
       "    <tr>\n",
       "      <th>0</th>\n",
       "      <td>3D Juegos</td>\n",
       "      <td>https://www.3djuegos.com/juegos/analisis/33227...</td>\n",
       "      <td>Adrián Suárez</td>\n",
       "      <td>Final Fantasy Crystal Chronicles Remastered Ed...</td>\n",
       "      <td>None</td>\n",
       "      <td>None</td>\n",
       "      <td>PS4 Switch Android iOS</td>\n",
       "      <td>Final Fantasy Crystal Chronicles Remastered Ed...</td>\n",
       "      <td>5.0</td>\n",
       "    </tr>\n",
       "    <tr>\n",
       "      <th>1</th>\n",
       "      <td>3D Juegos</td>\n",
       "      <td>https://www.3djuegos.com/juegos/analisis/36026...</td>\n",
       "      <td>Toni Piedrabuena</td>\n",
       "      <td>Captain Tsubasa: Rise of New Champions - Análisis</td>\n",
       "      <td>None</td>\n",
       "      <td>None</td>\n",
       "      <td>PC PS4 Switch</td>\n",
       "      <td>La obra de Yoichi Takahashi regresa al mundo d...</td>\n",
       "      <td>7.0</td>\n",
       "    </tr>\n",
       "    <tr>\n",
       "      <th>2</th>\n",
       "      <td>3D Juegos</td>\n",
       "      <td>https://www.3djuegos.com/juegos/analisis/22492...</td>\n",
       "      <td>Alberto Pastor</td>\n",
       "      <td>Wasteland 3 - Análisis</td>\n",
       "      <td>None</td>\n",
       "      <td>None</td>\n",
       "      <td>PC PS4 XOne Mac Linux</td>\n",
       "      <td>En un mundo asolado por la guerra nuclear, rod...</td>\n",
       "      <td>9.0</td>\n",
       "    </tr>\n",
       "  </tbody>\n",
       "</table>\n",
       "</div>"
      ],
      "text/plain": [
       "        site                                           url_link  \\\n",
       "0  3D Juegos  https://www.3djuegos.com/juegos/analisis/33227...   \n",
       "1  3D Juegos  https://www.3djuegos.com/juegos/analisis/36026...   \n",
       "2  3D Juegos  https://www.3djuegos.com/juegos/analisis/22492...   \n",
       "\n",
       "             author                                               game  \\\n",
       "0     Adrián Suárez  Final Fantasy Crystal Chronicles Remastered Ed...   \n",
       "1  Toni Piedrabuena  Captain Tsubasa: Rise of New Champions - Análisis   \n",
       "2    Alberto Pastor                             Wasteland 3 - Análisis   \n",
       "\n",
       "  company genre                platform  \\\n",
       "0    None  None  PS4 Switch Android iOS   \n",
       "1    None  None           PC PS4 Switch   \n",
       "2    None  None   PC PS4 XOne Mac Linux   \n",
       "\n",
       "                                                text  score  \n",
       "0  Final Fantasy Crystal Chronicles Remastered Ed...    5.0  \n",
       "1  La obra de Yoichi Takahashi regresa al mundo d...    7.0  \n",
       "2  En un mundo asolado por la guerra nuclear, rod...    9.0  "
      ]
     },
     "execution_count": 68,
     "metadata": {},
     "output_type": "execute_result"
    }
   ],
   "source": [
    "tdjuegos_df.head(3)"
   ]
  },
  {
   "cell_type": "code",
   "execution_count": null,
   "metadata": {},
   "outputs": [],
   "source": []
  },
  {
   "cell_type": "markdown",
   "metadata": {},
   "source": [
    "## 2. Full data merge"
   ]
  },
  {
   "cell_type": "code",
   "execution_count": 69,
   "metadata": {},
   "outputs": [],
   "source": [
    "sites_dataframes = [gamereactor_df, meristation_df, revogamers_df, vandal_df, tdjuegos_df]\n",
    "\n",
    "all_sites = pd.concat(sites_dataframes)"
   ]
  },
  {
   "cell_type": "code",
   "execution_count": 70,
   "metadata": {},
   "outputs": [
    {
     "name": "stdout",
     "output_type": "stream",
     "text": [
      "<class 'pandas.core.frame.DataFrame'>\n",
      "Int64Index: 15610 entries, 0 to 4463\n",
      "Data columns (total 9 columns):\n",
      " #   Column    Non-Null Count  Dtype  \n",
      "---  ------    --------------  -----  \n",
      " 0   site      15610 non-null  object \n",
      " 1   url_link  15610 non-null  object \n",
      " 2   author    15607 non-null  object \n",
      " 3   game      15610 non-null  object \n",
      " 4   company   15593 non-null  object \n",
      " 5   genre     15608 non-null  object \n",
      " 6   platform  15610 non-null  object \n",
      " 7   text      15573 non-null  object \n",
      " 8   score     15610 non-null  float64\n",
      "dtypes: float64(1), object(8)\n",
      "memory usage: 1.2+ MB\n"
     ]
    }
   ],
   "source": [
    "all_sites.info()"
   ]
  },
  {
   "cell_type": "markdown",
   "metadata": {},
   "source": [
    "gr_meri_revo.describe()"
   ]
  },
  {
   "cell_type": "code",
   "execution_count": 71,
   "metadata": {},
   "outputs": [],
   "source": [
    "all_sites.dropna(inplace=True)"
   ]
  },
  {
   "cell_type": "code",
   "execution_count": 73,
   "metadata": {},
   "outputs": [
    {
     "name": "stdout",
     "output_type": "stream",
     "text": [
      "<class 'pandas.core.frame.DataFrame'>\n",
      "Int64Index: 15551 entries, 0 to 4463\n",
      "Data columns (total 9 columns):\n",
      " #   Column    Non-Null Count  Dtype  \n",
      "---  ------    --------------  -----  \n",
      " 0   site      15551 non-null  object \n",
      " 1   url_link  15551 non-null  object \n",
      " 2   author    15551 non-null  object \n",
      " 3   game      15551 non-null  object \n",
      " 4   company   15551 non-null  object \n",
      " 5   genre     15551 non-null  object \n",
      " 6   platform  15551 non-null  object \n",
      " 7   text      15551 non-null  object \n",
      " 8   score     15551 non-null  float64\n",
      "dtypes: float64(1), object(8)\n",
      "memory usage: 1.2+ MB\n"
     ]
    }
   ],
   "source": [
    "all_sites.info()"
   ]
  },
  {
   "cell_type": "code",
   "execution_count": 78,
   "metadata": {},
   "outputs": [],
   "source": [
    "gr_meri_revo = shuffle(gr_meri_revo)\n",
    "gr_meri_revo.reset_index(drop=True, inplace=True)"
   ]
  },
  {
   "cell_type": "code",
   "execution_count": 89,
   "metadata": {},
   "outputs": [
    {
     "data": {
      "text/plain": [
       "site           3\n",
       "url_link    3550\n",
       "author       273\n",
       "game        2932\n",
       "company      795\n",
       "genre        282\n",
       "platform     463\n",
       "text        3546\n",
       "score         50\n",
       "dtype: int64"
      ]
     },
     "execution_count": 89,
     "metadata": {},
     "output_type": "execute_result"
    }
   ],
   "source": [
    "#Testing uniques\n",
    "\n",
    "gr_meri_revo.nunique()"
   ]
  },
  {
   "cell_type": "code",
   "execution_count": null,
   "metadata": {},
   "outputs": [],
   "source": []
  },
  {
   "cell_type": "markdown",
   "metadata": {},
   "source": [
    "## 3. Data Standarize "
   ]
  },
  {
   "cell_type": "code",
   "execution_count": null,
   "metadata": {},
   "outputs": [],
   "source": []
  },
  {
   "cell_type": "code",
   "execution_count": null,
   "metadata": {},
   "outputs": [],
   "source": []
  },
  {
   "cell_type": "markdown",
   "metadata": {},
   "source": [
    "## 4. Data export"
   ]
  },
  {
   "cell_type": "code",
   "execution_count": 90,
   "metadata": {},
   "outputs": [],
   "source": [
    "gr_meri_revo.to_csv('../data/gr_meri_revo_dataset_3550l.csv', index=False)"
   ]
  },
  {
   "cell_type": "code",
   "execution_count": null,
   "metadata": {},
   "outputs": [],
   "source": []
  },
  {
   "cell_type": "code",
   "execution_count": null,
   "metadata": {},
   "outputs": [],
   "source": []
  },
  {
   "cell_type": "code",
   "execution_count": null,
   "metadata": {},
   "outputs": [],
   "source": []
  },
  {
   "cell_type": "code",
   "execution_count": null,
   "metadata": {},
   "outputs": [],
   "source": []
  },
  {
   "cell_type": "code",
   "execution_count": null,
   "metadata": {},
   "outputs": [],
   "source": []
  },
  {
   "cell_type": "markdown",
   "metadata": {},
   "source": [
    "<div style=\"padding-top: 25px; float: right\">\n",
    "    <div>    \n",
    "        <i>&nbsp;&nbsp;© Copyright by</i>\n",
    "    </div>\n",
    "    <div>\n",
    "        <a href=\"https://whiteboxml.com\">\n",
    "            <img src=\"https://whiteboxml.com/static/img/logo/black_bg_white.svg\" width=\"125\">\n",
    "        </a>\n",
    "    </div>\n",
    "</div>"
   ]
  }
 ],
 "metadata": {
  "kernelspec": {
   "display_name": "Python [conda env:lab_env]",
   "language": "python",
   "name": "conda-env-lab_env-py"
  },
  "language_info": {
   "codemirror_mode": {
    "name": "ipython",
    "version": 3
   },
   "file_extension": ".py",
   "mimetype": "text/x-python",
   "name": "python",
   "nbconvert_exporter": "python",
   "pygments_lexer": "ipython3",
   "version": "3.7.3"
  }
 },
 "nbformat": 4,
 "nbformat_minor": 4
}
