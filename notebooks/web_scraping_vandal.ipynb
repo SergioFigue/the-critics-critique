{
 "cells": [
  {
   "cell_type": "markdown",
   "metadata": {},
   "source": [
    "# Scraping Vandal"
   ]
  },
  {
   "cell_type": "code",
   "execution_count": 1,
   "metadata": {},
   "outputs": [],
   "source": [
    "import requests\n",
    "from bs4 import BeautifulSoup\n",
    "import time\n",
    "import pandas as pd\n",
    "import numpy as np\n",
    "import newspaper\n",
    "from newspaper import Article\n",
    "from newspaper import Source\n",
    "from newspaper import fulltext"
   ]
  },
  {
   "cell_type": "markdown",
   "metadata": {},
   "source": [
    "## Scraping Articles Site "
   ]
  },
  {
   "cell_type": "code",
   "execution_count": 4,
   "metadata": {},
   "outputs": [
    {
     "data": {
      "text/plain": [
       "b'<!DOCTYPE html><html lang=\"es\"><head>\\n<!--[if lt I'"
      ]
     },
     "execution_count": 4,
     "metadata": {},
     "output_type": "execute_result"
    }
   ],
   "source": [
    "review_url = 'https://vandal.elespanol.com/analisis/videojuegos/inicio/0'\n",
    "html = requests.get(review_url).content\n",
    "html[:50]"
   ]
  },
  {
   "cell_type": "code",
   "execution_count": 5,
   "metadata": {},
   "outputs": [],
   "source": [
    "soup = BeautifulSoup(html, 'lxml')\n",
    "articles = soup.find_all('div', {'class': 'caja300 afterclearer'})"
   ]
  },
  {
   "cell_type": "code",
   "execution_count": 7,
   "metadata": {},
   "outputs": [
    {
     "data": {
      "text/plain": [
       "['Budget Cuts - Análisis',\n",
       " 'The Survivalists - Análisis',\n",
       " 'Prinny 1 2: Exploded and Reloaded - Análisis',\n",
       " 'Genshin Impact - Análisis',\n",
       " 'FIFA 21 - Análisis']"
      ]
     },
     "execution_count": 7,
     "metadata": {},
     "output_type": "execute_result"
    }
   ],
   "source": [
    "#Extraer títulos\n",
    "\n",
    "'''for a in articles:\n",
    "    if a.find('a') == None:\n",
    "        pass\n",
    "    else:\n",
    "        titles.append(a.find('a')['title'])'''\n",
    "\n",
    "titles = [a.find('a')['title'] for a in articles]\n",
    "\n",
    "titles[0:5]"
   ]
  },
  {
   "cell_type": "code",
   "execution_count": 8,
   "metadata": {},
   "outputs": [
    {
     "data": {
      "text/plain": [
       "['https://vandal.elespanol.com/analisis/ps4/budget-cuts/90876',\n",
       " 'https://vandal.elespanol.com/analisis/pc/the-survivalists/80200',\n",
       " 'https://vandal.elespanol.com/analisis/switch/prinny-1-2-exploded-and-reloaded/82812',\n",
       " 'https://vandal.elespanol.com/analisis/ps4/genshin-impact/75962']"
      ]
     },
     "execution_count": 8,
     "metadata": {},
     "output_type": "execute_result"
    }
   ],
   "source": [
    "#Extraer links\n",
    "\n",
    "links = [a.find('a')['href'] for a in articles]\n",
    "    \n",
    "links[0:4]"
   ]
  },
  {
   "cell_type": "markdown",
   "metadata": {},
   "source": [
    "## Page parsing and link retrieving function for Vandal"
   ]
  },
  {
   "cell_type": "code",
   "execution_count": 37,
   "metadata": {},
   "outputs": [],
   "source": [
    "def vandal_link_retrieve(num_pages):\n",
    "    \n",
    "    links = []\n",
    "    titles = []\n",
    "    \n",
    "    # pages parser\n",
    "    for i in range(num_pages):\n",
    "        url = f\"https://vandal.elespanol.com/analisis/videojuegos/inicio/{i*45}\"\n",
    "\n",
    "        # building soup    \n",
    "        html = requests.get(url).content\n",
    "        soup = BeautifulSoup(html, 'lxml')\n",
    "        articles = soup.find_all('div', {'class': 'caja300 afterclearer'})\n",
    "        \n",
    "        # links & game titles retrieve\n",
    "        for a in articles:\n",
    "            links.append(a.find('a')['href']) \n",
    "            titles.append(a.find('a')['title'])\n",
    "    \n",
    "    #Deleting non review links\n",
    "#    for link in links:\n",
    "#        if 'analisis' not in link:\n",
    "#            links.remove(link)\n",
    "                \n",
    "    return links, titles\n"
   ]
  },
  {
   "cell_type": "code",
   "execution_count": 38,
   "metadata": {},
   "outputs": [],
   "source": [
    "num_pages = 100\n",
    "\n",
    "links, titles = vandal_link_retrieve(num_pages)"
   ]
  },
  {
   "cell_type": "code",
   "execution_count": 39,
   "metadata": {},
   "outputs": [
    {
     "data": {
      "text/plain": [
       "4500"
      ]
     },
     "execution_count": 39,
     "metadata": {},
     "output_type": "execute_result"
    }
   ],
   "source": [
    "len(links)"
   ]
  },
  {
   "cell_type": "markdown",
   "metadata": {},
   "source": [
    "## Scraping Single Review"
   ]
  },
  {
   "cell_type": "code",
   "execution_count": 2,
   "metadata": {},
   "outputs": [
    {
     "data": {
      "text/plain": [
       "b'<!DOCTYPE html><html lang=\"es\"><head>\\n<!--[if lt I'"
      ]
     },
     "execution_count": 2,
     "metadata": {},
     "output_type": "execute_result"
    }
   ],
   "source": [
    "review_url = 'https://vandal.elespanol.com/analisis/ps4/genshin-impact/75962#p-73'\n",
    "review_html = requests.get(review_url).content\n",
    "review_html[:50]"
   ]
  },
  {
   "cell_type": "code",
   "execution_count": 3,
   "metadata": {},
   "outputs": [],
   "source": [
    "soup = BeautifulSoup(review_html, 'lxml')"
   ]
  },
  {
   "cell_type": "code",
   "execution_count": 4,
   "metadata": {},
   "outputs": [],
   "source": [
    "p_tags = soup.find('div', {'class': 'textart'}).find_all('p')"
   ]
  },
  {
   "cell_type": "code",
   "execution_count": 5,
   "metadata": {},
   "outputs": [],
   "source": [
    "# Text\n",
    "review = [tag.text for tag in p_tags]\n",
    "review = ' '.join(review).strip()"
   ]
  },
  {
   "cell_type": "code",
   "execution_count": 6,
   "metadata": {},
   "outputs": [
    {
     "data": {
      "text/plain": [
       "'Ramón Varela'"
      ]
     },
     "execution_count": 6,
     "metadata": {},
     "output_type": "execute_result"
    }
   ],
   "source": [
    "# Author\n",
    "author = soup.find('span', {'class': 'reviewer'}).text\n",
    "author"
   ]
  },
  {
   "cell_type": "code",
   "execution_count": 33,
   "metadata": {},
   "outputs": [],
   "source": [
    "#Platform\n",
    "\n",
    "def vandal_platform(soup):\n",
    "    \n",
    "    platform_soup = soup.find('td', {'class': 'tablaplataformas'})\n",
    "    platform = [img[\"alt\"] for img in platform_soup.select(\"img[alt]\")]        \n",
    "    platform = ' '.join(platform)\n",
    "            \n",
    "    return platform"
   ]
  },
  {
   "cell_type": "code",
   "execution_count": 34,
   "metadata": {},
   "outputs": [
    {
     "data": {
      "text/plain": [
       "'PS4 PC iPhone Android Switch'"
      ]
     },
     "execution_count": 34,
     "metadata": {},
     "output_type": "execute_result"
    }
   ],
   "source": [
    "vandal_platform(soup)"
   ]
  },
  {
   "cell_type": "code",
   "execution_count": 41,
   "metadata": {},
   "outputs": [],
   "source": [
    "# Genre\n",
    "\n",
    "def vandal_genre(soup):\n",
    "    \n",
    "    genre_soup = soup.find('div', {'class': 'mt1 tcenter t11'}).find_all('a')\n",
    "    genre = [gs.text for gs in genre_soup]\n",
    "    genre = ' '.join(genre)\n",
    "\n",
    "    return genre"
   ]
  },
  {
   "cell_type": "code",
   "execution_count": 45,
   "metadata": {},
   "outputs": [],
   "source": [
    "#Company\n",
    "\n",
    "def vandal_company(soup):\n",
    "\n",
    "    infobox = soup.find('ul', {'class': 'mt03 ulficha'})\n",
    "    for box in infobox:\n",
    "        if 'Producción: ' in box.contents: \n",
    "            company = box.find('a').text\n",
    "\n",
    "            return company"
   ]
  },
  {
   "cell_type": "code",
   "execution_count": null,
   "metadata": {},
   "outputs": [],
   "source": []
  },
  {
   "cell_type": "code",
   "execution_count": 10,
   "metadata": {},
   "outputs": [
    {
     "data": {
      "text/plain": [
       "float"
      ]
     },
     "execution_count": 10,
     "metadata": {},
     "output_type": "execute_result"
    }
   ],
   "source": [
    "#Score\n",
    "\n",
    "score = soup.find('div', {'class': 'fichajuego mt03 tleft'}).text\n",
    "score = float(score)\n",
    "type(score)"
   ]
  },
  {
   "cell_type": "markdown",
   "metadata": {},
   "source": [
    "## Create columns"
   ]
  },
  {
   "cell_type": "code",
   "execution_count": 50,
   "metadata": {},
   "outputs": [],
   "source": [
    "\n",
    "def vandal_dict(links, titles):\n",
    "    reviews_dict = {}\n",
    "    i = 0\n",
    "\n",
    "    for link, title in zip(links, titles):\n",
    "        try:\n",
    "            \n",
    "            #Request content and wait\n",
    "            review_html = requests.get(link).content\n",
    "\n",
    "            #Avoid get banned and timeout\n",
    "            time.sleep(1)\n",
    "\n",
    "            #Make a Soup and a Newspacer build\n",
    "            soup = BeautifulSoup(review_html, 'lxml')\n",
    "\n",
    "            #Author - From Scraping\n",
    "            author = soup.find('span', {'class': 'reviewer'}).text\n",
    "\n",
    "            #Company - From Scraping \n",
    "            company = vandal_company(soup)\n",
    "            \n",
    "            #Genre - From Scraping\n",
    "            genre = vandal_genre(soup)\n",
    "            \n",
    "            #Platform - From Scraping\n",
    "            platform = vandal_platform(soup)\n",
    "\n",
    "            #Text & Cleaning - From Scraping\n",
    "            p_tags = soup.find('div', {'class': 'textart'}).find_all('p')\n",
    "            review = [tag.text for tag in p_tags]\n",
    "            review = ' '.join(review).strip()\n",
    "\n",
    "            #Score & Clean & Transform - From Scraping\n",
    "            score = soup.find('div', {'class': 'fichajuego mt03 tleft'}).text\n",
    "            score = float(score)\n",
    "            \n",
    "            #Add to a dict\n",
    "            reviews_dict[i] = {'site': 'Vandal',\n",
    "                               'url_link': link,\n",
    "                               'author': author,\n",
    "                               'game': title,\n",
    "                               'company': company,\n",
    "                               'genre': genre,\n",
    "                               'platform': platform,\n",
    "                               'text': review,\n",
    "                               'score': score}\n",
    "        \n",
    "        except (ValueError, AttributeError) as e:\n",
    "            print('error', i)\n",
    "            pass\n",
    "        \n",
    "        i = i+1\n",
    "        if i % 25 == 0:\n",
    "            print(i, ': ', link)\n",
    "\n",
    "    return reviews_dict"
   ]
  },
  {
   "cell_type": "code",
   "execution_count": 51,
   "metadata": {},
   "outputs": [
    {
     "name": "stdout",
     "output_type": "stream",
     "text": [
      "25 :  https://vandal.elespanol.com/analisis/ps4/efootball-pes-2021-season-update/87843\n",
      "50 :  https://vandal.elespanol.com/analisis/pc/wasteland-3/42461\n",
      "75 :  https://vandal.elespanol.com/analisis/pc/skater-xl/68625\n",
      "100 :  https://vandal.elespanol.com/analisis/switch/story-of-seasons-friends-of-mineral-town/75081\n",
      "125 :  https://vandal.elespanol.com/analisis/xbone/stellaris-console-edition/64531\n",
      "150 :  https://vandal.elespanol.com/analisis/ps4/gorn/85496\n",
      "175 :  https://vandal.elespanol.com/analisis/ps4/daymare-1998/68843\n",
      "200 :  https://vandal.elespanol.com/analisis/ps4/resident-evil-3-remake/80190\n",
      "225 :  https://vandal.elespanol.com/analisis/pc/hayfever/79193\n",
      "250 :  https://vandal.elespanol.com/analisis/switch/kunai/81251\n",
      "275 :  https://vandal.elespanol.com/analisis/xbone/weakless/76231\n",
      "error 278\n",
      "300 :  https://vandal.elespanol.com/analisis/pc/bug-fables/74021\n",
      "325 :  https://vandal.elespanol.com/analisis/switch/pokemon-espada-y-escudo/61486\n",
      "350 :  https://vandal.elespanol.com/analisis/pc/manifold-garden/41030\n",
      "error 359\n",
      "375 :  https://vandal.elespanol.com/analisis/ps4/trine-4-the-nightmare-prince/66997\n",
      "400 :  https://vandal.elespanol.com/analisis/pc/daymare-1998/42026\n",
      "425 :  https://vandal.elespanol.com/analisis/xbone/blair-witch/74271\n",
      "450 :  https://vandal.elespanol.com/analisis/switch/friday-the-13th-the-game-ultimate-slasher-edition/71097\n",
      "475 :  https://vandal.elespanol.com/analisis/ps4/attack-on-titan-2-final-battle/71386\n",
      "500 :  https://vandal.elespanol.com/analisis/ps4/the-elder-scrolls-online-elsweyr/69658\n",
      "525 :  https://vandal.elespanol.com/analisis/ps4/observation/66602\n",
      "550 :  https://vandal.elespanol.com/analisis/pc/venture-kid/60061\n",
      "575 :  https://vandal.elespanol.com/analisis/ps4/vaporum/71228\n",
      "600 :  https://vandal.elespanol.com/analisis/ps4/left-alive/52426\n",
      "625 :  https://vandal.elespanol.com/analisis/pc/astroneer/34126\n",
      "650 :  https://vandal.elespanol.com/analisis/pc/feudal-alloy/52770\n",
      "675 :  https://vandal.elespanol.com/analisis/ps4/borderlands-2-vr/66583\n",
      "700 :  https://vandal.elespanol.com/analisis/switch/toki/59510\n",
      "725 :  https://vandal.elespanol.com/analisis/ps4/deracine/61971\n",
      "750 :  https://vandal.elespanol.com/analisis/ps4/little-dragons-cafe/57859\n",
      "775 :  https://vandal.elespanol.com/analisis/ps4/capcom-beat-em-up-bundle/65553\n",
      "800 :  https://vandal.elespanol.com/analisis/ps4/dragon-quest-xi-echoes-of-an-elusive-age/32450\n",
      "825 :  https://vandal.elespanol.com/analisis/ps4/mega-man-x-legacy-collection/55231\n",
      "850 :  https://vandal.elespanol.com/analisis/ps4/lego-los-increibles/58932\n",
      "error 859\n",
      "875 :  https://vandal.elespanol.com/analisis/ps4/tennis-world-tour/48526\n",
      "900 :  https://vandal.elespanol.com/analisis/pc/total-war-saga-thrones-of-britannia/54632\n",
      "925 :  https://vandal.elespanol.com/analisis/iphone/fortnite-battle-royale/58495\n",
      "950 :  https://vandal.elespanol.com/analisis/ps4/qube-2/23378\n",
      "975 :  https://vandal.elespanol.com/analisis/xbone/past-cure/49961\n",
      "1000 :  https://vandal.elespanol.com/analisis/switch/dragon-quest-builders/52343\n",
      "1025 :  https://vandal.elespanol.com/analisis/ps4/tiny-metal/48467\n",
      "1050 :  https://vandal.elespanol.com/analisis/pc/a-hat-in-time/21671\n",
      "1075 :  https://vandal.elespanol.com/analisis/ps4/saber-es-poder/52135\n",
      "1100 :  https://vandal.elespanol.com/analisis/ps4/spintires-mudrunner/51420\n",
      "1125 :  https://vandal.elespanol.com/analisis/pc/fightn-rage/52142\n",
      "error 1131\n",
      "1150 :  https://vandal.elespanol.com/analisis/ps4/ruiner/46352\n",
      "1175 :  https://vandal.elespanol.com/analisis/ps4/dead-alliance/48648\n",
      "1200 :  https://vandal.elespanol.com/analisis/ps4/white-day-a-labyrinth-named-school/34347\n",
      "1225 :  https://vandal.elespanol.com/analisis/ps4/pyre/38437\n",
      "1250 :  https://vandal.elespanol.com/analisis/pc/the-elder-scrolls-online-morrowind/45791\n",
      "1275 :  https://vandal.elespanol.com/analisis/pc/perception/31264\n",
      "error 1298\n",
      "1300 :  https://vandal.elespanol.com/analisis/ps4/portal-knights/45546\n",
      "1325 :  https://vandal.elespanol.com/analisis/ps4/what-remains-of-edith-finch/27391\n",
      "1350 :  https://vandal.elespanol.com/analisis/psvita/a-rose-in-the-twilight-psn/35525\n",
      "1375 :  https://vandal.elespanol.com/analisis/pc/turok-2-seeds-of-evil/42775\n",
      "1400 :  https://vandal.elespanol.com/analisis/ps4/night-in-the-woods/29171\n",
      "1425 :  https://vandal.elespanol.com/analisis/pc/alwas-awakening/44282\n",
      "1450 :  https://vandal.elespanol.com/analisis/ps4/gravity-rush-2/33477\n",
      "1475 :  https://vandal.elespanol.com/analisis/pc/rad-rodgers-world-one/41882\n",
      "1500 :  https://vandal.elespanol.com/analisis/ps4/assassins-creed-the-ezio-collection/42052\n",
      "1525 :  https://vandal.elespanol.com/analisis/pc/ohsir-the-insult-simulator/41209\n",
      "1550 :  https://vandal.elespanol.com/analisis/ps4/thumper/31502\n",
      "1575 :  https://vandal.elespanol.com/analisis/pc/seraph/37934\n",
      "1600 :  https://vandal.elespanol.com/analisis/ps4/alone-with-you/25928\n",
      "1625 :  https://vandal.elespanol.com/analisis/ps4/madden-nfl-17/39097\n",
      "1650 :  https://vandal.elespanol.com/analisis/ps4/riptide-gp-renegade/37956\n",
      "1675 :  https://vandal.elespanol.com/analisis/ps4/heartslash/35753\n",
      "1700 :  https://vandal.elespanol.com/analisis/ps4/minecraft-story-mode-episode-6-a-portal-to-mystery/39484\n",
      "1725 :  https://vandal.elespanol.com/analisis/pc/total-war-warhammer/28452\n",
      "1750 :  https://vandal.elespanol.com/analisis/pc/pharaonic/35875\n",
      "1775 :  https://vandal.elespanol.com/analisis/pc/moon-hunters/26233\n",
      "1800 :  https://vandal.elespanol.com/analisis/pc/samorost-3/14253\n",
      "1825 :  https://vandal.elespanol.com/analisis/ps4/ea-sports-ufc-2/34454\n",
      "1850 :  https://vandal.elespanol.com/analisis/pc/disgaea-pc/34557\n",
      "1875 :  https://vandal.elespanol.com/analisis/pc/homeworld-deserts-of-kharak/35122\n",
      "1900 :  https://vandal.elespanol.com/analisis/psvita/the-legend-of-heroes-trails-of-cold-steel/20255\n",
      "error 1904\n",
      "1925 :  https://vandal.elespanol.com/analisis/ps4/guns-up/24896\n",
      "error 1925\n",
      "1950 :  https://vandal.elespanol.com/analisis/pc/mordheim-city-of-the-damned/23866\n",
      "1975 :  https://vandal.elespanol.com/analisis/ps4/minecraft-story-mode-episode-two-assembly-required-/34301\n",
      "2000 :  https://vandal.elespanol.com/analisis/ps4/blazblue-chrono-phantasma-extend/27651\n",
      "2025 :  https://vandal.elespanol.com/analisis/pc/the-escapists-the-walking-dead/32100\n",
      "2050 :  https://vandal.elespanol.com/analisis/ps4/fifa-16/30768\n",
      "2075 :  https://vandal.elespanol.com/analisis/ps4/disney-infinity-30-play-without-limits/30756\n",
      "2100 :  https://vandal.elespanol.com/analisis/pc/trine-3-the-artifacts-of-power/29811\n",
      "2125 :  https://vandal.elespanol.com/analisis/ps4/submerged/26536\n",
      "error 2142\n",
      "error 2148\n",
      "2150 :  https://vandal.elespanol.com/analisis/ps4/red-goddess-inner-world/24545\n",
      "2175 :  https://vandal.elespanol.com/analisis/psvita/ar-nosurge-ode-to-an-unborn-star-plus-psn/25296\n",
      "error 2186\n",
      "error 2195\n",
      "2200 :  https://vandal.elespanol.com/analisis/ps4/skulls-of-the-shogun-boneafide-edition/24239\n",
      "2225 :  https://vandal.elespanol.com/analisis/pc/carmageddon-reincarnation/14462\n"
     ]
    }
   ],
   "source": [
    "result_vandal = vandal_dict(links[:2225], titles[:2225])"
   ]
  },
  {
   "cell_type": "code",
   "execution_count": 52,
   "metadata": {},
   "outputs": [
    {
     "data": {
      "text/plain": [
       "{'site': 'Vandal',\n",
       " 'url_link': 'https://vandal.elespanol.com/analisis/ps4/just-dance-2018/49136',\n",
       " 'author': 'Sara Borondo',\n",
       " 'game': 'Just Dance 2018 - Análisis',\n",
       " 'company': 'Ubisoft',\n",
       " 'genre': 'Bailar Musical',\n",
       " 'platform': 'PS4 Xbox One Xbox 360 PS3 Switch Wii U Wii',\n",
       " 'text': 'Sacar durante ocho años una entrega anual de un videojuego es agotador, como bien saben los productores de algunas de las grandes sagas de la última década. Just Dance lleva saliendo desde 2009 y siempre logra ocupar puestos altos en las listas de ventas anuales. Aquel primer año el juego salió para Wii con cuatro pelucas para dejar claro su carácter fiestero y se alzó como el juego sorpresa de las navidades; tres millones de personas lo compraron y en España -pese a salir a la venta en noviembre- se convirtió en el quinto juego de Ubisoft más vendido aquel año. Desde entonces no se ha apeado de la lista de los 20 más vendidos cada año y se ha mantenido fiel a Wii. Pocos juegos se permiten tal cantidad de versiones: por segundo año consecutivo el juego sale en las tres plataformas de sobremesa de Nintendo además de en PS4, PS3, Xbox One y Xbox 360. Además, llega con novedades bastante importantes que habrá que ver cómo acogen los aficionados. Just Dance siempre ha tenido como objetivo principal la diversión en las reuniones sociales, llegar y empezar a pasarlo bien con los amigos, cuantos más, mejor. Pero también ha tenido una vertiente más orientada a aprender pasos de baile y cierta sensación de progresión que, por ejemplo, el año pasado se plasmó en una especie de modo historia. La edición de 2017 llegaba a ser demasiado compleja con modos que tenían ligeras variaciones y opciones diseminadas por el menú sin estar conectadas entre sí. Este año Ubisoft Paris ha optado por todo lo contrario: interfaces lo más sencillas posible y limitación extrema en los modos de juego. Con esto ha conseguido que sea mucho más fácil manejarse por el juego y las mismas opciones sirvan para practicar como bailarín en tu casa o para pasar un rato con los amigos. Just Dance 2018 recoge algunas opciones acertadas del juego del año pasado y recompensa a quienes lo tuvieran ya que recupera el nivel de jugador que tuviéramos en la dancer card del año pasado y lo usa como punto de partida para el juego actual. Entre esas opciones que se mantienen-y, en este caso, se potencian- están los puntos mojo. Cuando bailas una canción, subes de nivel o cumples alguno de los tres objetivos diarios consigues puntos mojo que después puedes introducir en una máquina dispensadora de bolas que contienen distintos desbloqueables: pegatinas de fondo, avatares, nuevas canciones, coreografías especiales… Inicialmente hay una buena cantidad de canciones para elegir, así que no molesta ir sacando bolas para conseguir más opciones y sí es un buen incentivo. Respondiendo a ese interés de simplificar la navegación por el juego y que esté todo claro, en el menú principal sólo puedes acceder a la dance card y a los tres modos: Kids, Just Dance y World Dance Floor. El primero, la novedad más importante, está dedicado a los niños. Es verdad que en los juegos anteriores los niños podían bailar casi cualquier tema, pero no todos eran indicados para los más pequeños mientras que ahora los padres pueden tranquilamente dejarles jugar en este modo sabiendo que está todo pensado para niños de entre 3 y 6 años. Ubisoft se lo ha tomado tan en serio que han participado en el desarrollo una experta en coreografías infantiles y una artista conceptual para niños que han preparado bailes pensados para las capacidades psicomotoras de los críos más pequeños. Los escenarios presentan mundos llenos defantasía y con motivos infantiles, los avatares están relacionados con el tema de la canción, y las estrellas se consiguen más fácilmente para animar a los niños, con lo que los críos se sienten más motivados y entienden sin problemas cómo se juega. Este modo tiene ocho temas infantiles, que incluyen \"How far I\\'ll go\" de la película de Disney \"Vaiana\", \"Itsy Bitsy Teenie Weenie\" de The Sunlight Shakers o la versión de \"Footloose\" de Top Culture. En el modo Just Dance se aglomeran todas las opciones del juego: puedes elegir sólo temas latinos, coreografías fáciles y divertidas, establecer tu propia lista de temas, Dance Lab… En el juego de este año hay unas  45 canciones nuevas, entre ellas \"24K Magic\" de Bruno Mars, \"Bubble Pop\" de Hyuna o \"John Wayne\" de Lady Gaga. Y no faltan temas a los que el estudio les ha dado un toque de humor, como la versión de la obertura de \"Carmen\" de Bizet. Sí nos ha dado la sensación de que hay menos temas antiguos que otros años, y la mayoría son versiones, aunque el hecho de que incluya \"Another One bites the Dust\" de Queen compensa. De algunos de estos temas hay, como hemos dicho, varias coreografías. Por ejemplo, del omnipresente \"Despacito\" de Luis Fonsy & Daddy Yankee tiene la versión normal y otra extrema, e incluso hay alguna rareza como el baile alternativo de  \"Chantaje\" de Shakira FT. Maluma en el metro con los bailarines sentados. Este año también se incluye la opción de bailar para gastar calorías, pero se incluye dentro del modo Just Dance. Puedes activar el conteo de calorías cuando quieras e ir eligiendo temas, o usar una lista pensada para trabajar bien el corazón. Está bien integrado dentro del modo, y no se pierde claridad a la hora de moverse por el juego ni te sientes perdido en ningún momento En World Dance Floor está el juego online, en el que primero competimos contra otros jugadores de forma simultánea para conseguir los mejores puestos en un torneo de ocho canciones y después todos juntos se enfrentan a un jefe final al que hay que derrotar, claro, consiguiendo estrellas con el baile. Es una fórmula sencilla y algo rara para un juego musical, pero lo cierto es que funciona bien y que ha estaba en la serie. En PS4, que es la versión que hemos probado, hay tres formas de controlar Just Dance 2018: con el teléfono móvil (para hasta seis jugadores), con la cámara de la consola -que tiene los problemas habituales de detección con el dispositivo, no hemos mejorado en estos años- o con mandos Move (en estos dos últimos casos, para hasta cuatro jugadores). Hemos probado los tres y el más divertido y sencillo es el de los teléfonos móviles, aunque requiere descargarse la app Just Dance Controller, pero depués es muy cómodo moverse por el juego sin tener que usar el mando. Ubisoft acertó hace unos años cuando optó por usar los móviles para el juego, ya que todo el mundo lleva uno y es un sistema tan fiable como requiere una reunión social. Just Dance 2018 es fiel al estilo visual de la serie; con vídeos de bailarines reales a los que se aplican varios efectos y escenarios dibujados con motivos coloristas,más llamativo que bueno. En las canciones para niños están especialmente cuidados, con algunos elementos que parecen interactuar con los bailarines. Los temas elegidos este año son variados y hay éxitos incuestionables que debían estar pero da la sensación de que el catálogo cojea un poco en temas clásicos y versiones originales, teniendo en cuenta que se trata de la serie de baile más exitosa de estos años. Además, al no tener casi modos de juego se apoya demasiado en Unlimited, el catálogo de todas las canciones que han salido en el juego los últimos años. Cierto es que al comprar el juego dispones de tres meses gratis, pero luego hay que pagar suscripción y tiene ya demasiado peso. El año pasado Just Dance renovó su liderazgo entre los juegos musicales ocupando el puesto 14 en la lsita de los más vendidos en todas las plataformas, y lo hizo en Wii, una consola que tiene ya más de diez años y con la que nadie más cuenta. La serie está entrando en un periodo decisivo en el que hay que ver si la versión de Switch, con contenido especial, consigue tomar el relevo y mantiene a los bailarines de neón en las listas de más vendidos o si estamos llegando al final de una etapa. Hemos realizado este análisis en su versión de PS4 con un código proporcionado por Ubisoft.',\n",
       " 'score': 7.5}"
      ]
     },
     "execution_count": 52,
     "metadata": {},
     "output_type": "execute_result"
    }
   ],
   "source": [
    "result_vandal[1111]"
   ]
  },
  {
   "cell_type": "markdown",
   "metadata": {},
   "source": [
    "### Create DataFrame"
   ]
  },
  {
   "cell_type": "code",
   "execution_count": 53,
   "metadata": {},
   "outputs": [
    {
     "data": {
      "text/html": [
       "<div>\n",
       "<style scoped>\n",
       "    .dataframe tbody tr th:only-of-type {\n",
       "        vertical-align: middle;\n",
       "    }\n",
       "\n",
       "    .dataframe tbody tr th {\n",
       "        vertical-align: top;\n",
       "    }\n",
       "\n",
       "    .dataframe thead th {\n",
       "        text-align: right;\n",
       "    }\n",
       "</style>\n",
       "<table border=\"1\" class=\"dataframe\">\n",
       "  <thead>\n",
       "    <tr style=\"text-align: right;\">\n",
       "      <th></th>\n",
       "      <th>site</th>\n",
       "      <th>url_link</th>\n",
       "      <th>author</th>\n",
       "      <th>game</th>\n",
       "      <th>company</th>\n",
       "      <th>genre</th>\n",
       "      <th>platform</th>\n",
       "      <th>text</th>\n",
       "      <th>score</th>\n",
       "    </tr>\n",
       "  </thead>\n",
       "  <tbody>\n",
       "    <tr>\n",
       "      <th>0</th>\n",
       "      <td>Vandal</td>\n",
       "      <td>https://vandal.elespanol.com/analisis/ps4/budg...</td>\n",
       "      <td>Juan Rubio</td>\n",
       "      <td>Budget Cuts - Análisis</td>\n",
       "      <td>Neat Corporation</td>\n",
       "      <td>Acción Realidad Virtual</td>\n",
       "      <td>PS4 PC</td>\n",
       "      <td>Sabemos que empezamos a sonar como un disco ra...</td>\n",
       "      <td>8.0</td>\n",
       "    </tr>\n",
       "    <tr>\n",
       "      <th>1</th>\n",
       "      <td>Vandal</td>\n",
       "      <td>https://vandal.elespanol.com/analisis/pc/the-s...</td>\n",
       "      <td>Manu Delgado</td>\n",
       "      <td>The Survivalists - Análisis</td>\n",
       "      <td>Team17 Digital Ltd</td>\n",
       "      <td>Construcción Supervivencia</td>\n",
       "      <td>PC Xbox One Switch PS4</td>\n",
       "      <td>Desde su lanzamiento en 2015 la franquicia The...</td>\n",
       "      <td>8.0</td>\n",
       "    </tr>\n",
       "    <tr>\n",
       "      <th>2</th>\n",
       "      <td>Vandal</td>\n",
       "      <td>https://vandal.elespanol.com/analisis/switch/p...</td>\n",
       "      <td>Sergio Martín</td>\n",
       "      <td>Prinny 1 2: Exploded and Reloaded - Análisis</td>\n",
       "      <td>NIS America</td>\n",
       "      <td>Hack and Slash Plataformas 2D</td>\n",
       "      <td>Switch</td>\n",
       "      <td>NIS es una de esas compañías que entre sus num...</td>\n",
       "      <td>8.2</td>\n",
       "    </tr>\n",
       "    <tr>\n",
       "      <th>3</th>\n",
       "      <td>Vandal</td>\n",
       "      <td>https://vandal.elespanol.com/analisis/ps4/gens...</td>\n",
       "      <td>Ramón Varela</td>\n",
       "      <td>Genshin Impact - Análisis</td>\n",
       "      <td>Mihoyo</td>\n",
       "      <td>JRPG Rol</td>\n",
       "      <td>PS4 PC iPhone Android Switch</td>\n",
       "      <td>Probablemente el día que las desarrolladoras c...</td>\n",
       "      <td>8.2</td>\n",
       "    </tr>\n",
       "    <tr>\n",
       "      <th>4</th>\n",
       "      <td>Vandal</td>\n",
       "      <td>https://vandal.elespanol.com/analisis/ps4/fifa...</td>\n",
       "      <td>Saúl González</td>\n",
       "      <td>FIFA 21 - Análisis</td>\n",
       "      <td>Electronic Arts</td>\n",
       "      <td>Deportes Fútbol</td>\n",
       "      <td>PS4 Xbox One PC Switch Xbox Series X PS5</td>\n",
       "      <td>Un año más tenemos con nosotros, fiel a su cit...</td>\n",
       "      <td>8.5</td>\n",
       "    </tr>\n",
       "    <tr>\n",
       "      <th>...</th>\n",
       "      <td>...</td>\n",
       "      <td>...</td>\n",
       "      <td>...</td>\n",
       "      <td>...</td>\n",
       "      <td>...</td>\n",
       "      <td>...</td>\n",
       "      <td>...</td>\n",
       "      <td>...</td>\n",
       "      <td>...</td>\n",
       "    </tr>\n",
       "    <tr>\n",
       "      <th>2220</th>\n",
       "      <td>Vandal</td>\n",
       "      <td>https://vandal.elespanol.com/analisis/wiiu/spl...</td>\n",
       "      <td>Carlos Leiva</td>\n",
       "      <td>Splatoon - Análisis</td>\n",
       "      <td>Nintendo</td>\n",
       "      <td>Shooter en tercera persona Shooter multijugador</td>\n",
       "      <td>Wii U</td>\n",
       "      <td>Si hay alguien que todavía dude de la capacida...</td>\n",
       "      <td>8.5</td>\n",
       "    </tr>\n",
       "    <tr>\n",
       "      <th>2221</th>\n",
       "      <td>Vandal</td>\n",
       "      <td>https://vandal.elespanol.com/analisis/ps4/game...</td>\n",
       "      <td>Carlos Leiva</td>\n",
       "      <td>Game of Thrones: A Telltale Games Series - Epi...</td>\n",
       "      <td>Telltale Games</td>\n",
       "      <td>Aventura Gráfica Aventura narrativa</td>\n",
       "      <td>PS4 PC PS3 Xbox One Xbox 360</td>\n",
       "      <td>Esta semana los aficionados a Juego de Tronos ...</td>\n",
       "      <td>7.0</td>\n",
       "    </tr>\n",
       "    <tr>\n",
       "      <th>2222</th>\n",
       "      <td>Vandal</td>\n",
       "      <td>https://vandal.elespanol.com/analisis/pc/magne...</td>\n",
       "      <td>Ramón Varela</td>\n",
       "      <td>Magnetic: Cage Closed - Análisis</td>\n",
       "      <td>Gambitious</td>\n",
       "      <td>Plataformas de puzles</td>\n",
       "      <td>PC Xbox One PS4</td>\n",
       "      <td>Nos gustaría hablar de Magnetic: Cage Closed s...</td>\n",
       "      <td>7.0</td>\n",
       "    </tr>\n",
       "    <tr>\n",
       "      <th>2223</th>\n",
       "      <td>Vandal</td>\n",
       "      <td>https://vandal.elespanol.com/analisis/3ds/3d-t...</td>\n",
       "      <td>Ramón Nafria</td>\n",
       "      <td>3D Thunder Blade eShop - Análisis</td>\n",
       "      <td>Sega</td>\n",
       "      <td>Shoot'em up Shooter</td>\n",
       "      <td>Nintendo 3DS</td>\n",
       "      <td>Naoki Horii (M2) y Yosuke Okunari (SEGA) tiene...</td>\n",
       "      <td>7.5</td>\n",
       "    </tr>\n",
       "    <tr>\n",
       "      <th>2224</th>\n",
       "      <td>Vandal</td>\n",
       "      <td>https://vandal.elespanol.com/analisis/pc/carma...</td>\n",
       "      <td>Juan Rubio</td>\n",
       "      <td>Carmageddon: Reincarnation - Análisis</td>\n",
       "      <td>Stainless Games</td>\n",
       "      <td>Combate en vehículos Velocidad</td>\n",
       "      <td>PC</td>\n",
       "      <td>Lo haya jugado o no, todo el mundo conoce el C...</td>\n",
       "      <td>6.6</td>\n",
       "    </tr>\n",
       "  </tbody>\n",
       "</table>\n",
       "<p>2214 rows × 9 columns</p>\n",
       "</div>"
      ],
      "text/plain": [
       "        site                                           url_link  \\\n",
       "0     Vandal  https://vandal.elespanol.com/analisis/ps4/budg...   \n",
       "1     Vandal  https://vandal.elespanol.com/analisis/pc/the-s...   \n",
       "2     Vandal  https://vandal.elespanol.com/analisis/switch/p...   \n",
       "3     Vandal  https://vandal.elespanol.com/analisis/ps4/gens...   \n",
       "4     Vandal  https://vandal.elespanol.com/analisis/ps4/fifa...   \n",
       "...      ...                                                ...   \n",
       "2220  Vandal  https://vandal.elespanol.com/analisis/wiiu/spl...   \n",
       "2221  Vandal  https://vandal.elespanol.com/analisis/ps4/game...   \n",
       "2222  Vandal  https://vandal.elespanol.com/analisis/pc/magne...   \n",
       "2223  Vandal  https://vandal.elespanol.com/analisis/3ds/3d-t...   \n",
       "2224  Vandal  https://vandal.elespanol.com/analisis/pc/carma...   \n",
       "\n",
       "             author                                               game  \\\n",
       "0        Juan Rubio                             Budget Cuts - Análisis   \n",
       "1      Manu Delgado                        The Survivalists - Análisis   \n",
       "2     Sergio Martín       Prinny 1 2: Exploded and Reloaded - Análisis   \n",
       "3      Ramón Varela                          Genshin Impact - Análisis   \n",
       "4     Saúl González                                 FIFA 21 - Análisis   \n",
       "...             ...                                                ...   \n",
       "2220   Carlos Leiva                                Splatoon - Análisis   \n",
       "2221   Carlos Leiva  Game of Thrones: A Telltale Games Series - Epi...   \n",
       "2222   Ramón Varela                   Magnetic: Cage Closed - Análisis   \n",
       "2223   Ramón Nafria                  3D Thunder Blade eShop - Análisis   \n",
       "2224     Juan Rubio              Carmageddon: Reincarnation - Análisis   \n",
       "\n",
       "                 company                                            genre  \\\n",
       "0       Neat Corporation                          Acción Realidad Virtual   \n",
       "1     Team17 Digital Ltd                       Construcción Supervivencia   \n",
       "2            NIS America                    Hack and Slash Plataformas 2D   \n",
       "3                 Mihoyo                                         JRPG Rol   \n",
       "4        Electronic Arts                                  Deportes Fútbol   \n",
       "...                  ...                                              ...   \n",
       "2220            Nintendo  Shooter en tercera persona Shooter multijugador   \n",
       "2221      Telltale Games              Aventura Gráfica Aventura narrativa   \n",
       "2222          Gambitious                            Plataformas de puzles   \n",
       "2223                Sega                              Shoot'em up Shooter   \n",
       "2224     Stainless Games                   Combate en vehículos Velocidad   \n",
       "\n",
       "                                      platform  \\\n",
       "0                                       PS4 PC   \n",
       "1                       PC Xbox One Switch PS4   \n",
       "2                                       Switch   \n",
       "3                 PS4 PC iPhone Android Switch   \n",
       "4     PS4 Xbox One PC Switch Xbox Series X PS5   \n",
       "...                                        ...   \n",
       "2220                                     Wii U   \n",
       "2221              PS4 PC PS3 Xbox One Xbox 360   \n",
       "2222                           PC Xbox One PS4   \n",
       "2223                              Nintendo 3DS   \n",
       "2224                                        PC   \n",
       "\n",
       "                                                   text  score  \n",
       "0     Sabemos que empezamos a sonar como un disco ra...    8.0  \n",
       "1     Desde su lanzamiento en 2015 la franquicia The...    8.0  \n",
       "2     NIS es una de esas compañías que entre sus num...    8.2  \n",
       "3     Probablemente el día que las desarrolladoras c...    8.2  \n",
       "4     Un año más tenemos con nosotros, fiel a su cit...    8.5  \n",
       "...                                                 ...    ...  \n",
       "2220  Si hay alguien que todavía dude de la capacida...    8.5  \n",
       "2221  Esta semana los aficionados a Juego de Tronos ...    7.0  \n",
       "2222  Nos gustaría hablar de Magnetic: Cage Closed s...    7.0  \n",
       "2223  Naoki Horii (M2) y Yosuke Okunari (SEGA) tiene...    7.5  \n",
       "2224  Lo haya jugado o no, todo el mundo conoce el C...    6.6  \n",
       "\n",
       "[2214 rows x 9 columns]"
      ]
     },
     "execution_count": 53,
     "metadata": {},
     "output_type": "execute_result"
    }
   ],
   "source": [
    "vandal = pd.DataFrame.from_dict(result_vandal, orient='index')\n",
    "\n",
    "vandal"
   ]
  },
  {
   "cell_type": "code",
   "execution_count": 54,
   "metadata": {},
   "outputs": [],
   "source": [
    "#vandal.to_csv('../data/vandal_2225l.csv', index=False)"
   ]
  },
  {
   "cell_type": "code",
   "execution_count": 55,
   "metadata": {},
   "outputs": [
    {
     "data": {
      "text/plain": [
       "2214"
      ]
     },
     "execution_count": 55,
     "metadata": {},
     "output_type": "execute_result"
    }
   ],
   "source": [
    "len(vandal)"
   ]
  },
  {
   "cell_type": "code",
   "execution_count": null,
   "metadata": {},
   "outputs": [],
   "source": []
  }
 ],
 "metadata": {
  "kernelspec": {
   "display_name": "Python [conda env:lab_env]",
   "language": "python",
   "name": "conda-env-lab_env-py"
  },
  "language_info": {
   "codemirror_mode": {
    "name": "ipython",
    "version": 3
   },
   "file_extension": ".py",
   "mimetype": "text/x-python",
   "name": "python",
   "nbconvert_exporter": "python",
   "pygments_lexer": "ipython3",
   "version": "3.7.3"
  }
 },
 "nbformat": 4,
 "nbformat_minor": 4
}
