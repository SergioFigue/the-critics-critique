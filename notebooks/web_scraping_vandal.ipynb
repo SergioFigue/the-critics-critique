{
 "cells": [
  {
   "cell_type": "markdown",
   "metadata": {},
   "source": [
    "# Scraping Vandal"
   ]
  },
  {
   "cell_type": "code",
   "execution_count": 1,
   "metadata": {},
   "outputs": [],
   "source": [
    "import requests\n",
    "from bs4 import BeautifulSoup\n",
    "import time\n",
    "import pandas as pd\n",
    "import numpy as np\n",
    "import newspaper\n",
    "from newspaper import Article\n",
    "from newspaper import Source\n",
    "from newspaper import fulltext"
   ]
  },
  {
   "cell_type": "markdown",
   "metadata": {},
   "source": [
    "## Scraping Articles Site "
   ]
  },
  {
   "cell_type": "code",
   "execution_count": 4,
   "metadata": {},
   "outputs": [
    {
     "data": {
      "text/plain": [
       "b'<!DOCTYPE html><html lang=\"es\"><head>\\n<!--[if lt I'"
      ]
     },
     "execution_count": 4,
     "metadata": {},
     "output_type": "execute_result"
    }
   ],
   "source": [
    "review_url = 'https://vandal.elespanol.com/analisis/videojuegos/inicio/0'\n",
    "html = requests.get(review_url).content\n",
    "html[:50]"
   ]
  },
  {
   "cell_type": "code",
   "execution_count": 5,
   "metadata": {},
   "outputs": [],
   "source": [
    "soup = BeautifulSoup(html, 'lxml')\n",
    "articles = soup.find_all('div', {'class': 'caja300 afterclearer'})"
   ]
  },
  {
   "cell_type": "code",
   "execution_count": 7,
   "metadata": {},
   "outputs": [
    {
     "data": {
      "text/plain": [
       "['Budget Cuts - Análisis',\n",
       " 'The Survivalists - Análisis',\n",
       " 'Prinny 1 2: Exploded and Reloaded - Análisis',\n",
       " 'Genshin Impact - Análisis',\n",
       " 'FIFA 21 - Análisis']"
      ]
     },
     "execution_count": 7,
     "metadata": {},
     "output_type": "execute_result"
    }
   ],
   "source": [
    "#Extraer títulos\n",
    "\n",
    "'''for a in articles:\n",
    "    if a.find('a') == None:\n",
    "        pass\n",
    "    else:\n",
    "        titles.append(a.find('a')['title'])'''\n",
    "\n",
    "titles = [a.find('a')['title'] for a in articles]\n",
    "\n",
    "titles[0:5]"
   ]
  },
  {
   "cell_type": "code",
   "execution_count": 8,
   "metadata": {},
   "outputs": [
    {
     "data": {
      "text/plain": [
       "['https://vandal.elespanol.com/analisis/ps4/budget-cuts/90876',\n",
       " 'https://vandal.elespanol.com/analisis/pc/the-survivalists/80200',\n",
       " 'https://vandal.elespanol.com/analisis/switch/prinny-1-2-exploded-and-reloaded/82812',\n",
       " 'https://vandal.elespanol.com/analisis/ps4/genshin-impact/75962']"
      ]
     },
     "execution_count": 8,
     "metadata": {},
     "output_type": "execute_result"
    }
   ],
   "source": [
    "#Extraer links\n",
    "\n",
    "links = [a.find('a')['href'] for a in articles]\n",
    "    \n",
    "links[0:4]"
   ]
  },
  {
   "cell_type": "markdown",
   "metadata": {},
   "source": [
    "## Page parsing and link retrieving function for Vandal"
   ]
  },
  {
   "cell_type": "code",
   "execution_count": 2,
   "metadata": {},
   "outputs": [],
   "source": [
    "def vandal_link_retrieve(num_pages):\n",
    "    \n",
    "    links = []\n",
    "    titles = []\n",
    "    \n",
    "    # pages parser\n",
    "    for i in range(num_pages):\n",
    "        url = f\"https://vandal.elespanol.com/analisis/videojuegos/inicio/{i*45}\"\n",
    "\n",
    "        # building soup    \n",
    "        html = requests.get(url).content\n",
    "        soup = BeautifulSoup(html, 'lxml')\n",
    "        articles = soup.find_all('div', {'class': 'caja300 afterclearer'})\n",
    "        \n",
    "        # links & game titles retrieve\n",
    "        for a in articles:\n",
    "            links.append(a.find('a')['href']) \n",
    "            titles.append(a.find('a')['title'])\n",
    "    \n",
    "    #Deleting non review links\n",
    "#    for link in links:\n",
    "#        if 'analisis' not in link:\n",
    "#            links.remove(link)\n",
    "                \n",
    "    return links, titles\n"
   ]
  },
  {
   "cell_type": "code",
   "execution_count": 3,
   "metadata": {},
   "outputs": [],
   "source": [
    "num_pages = 100\n",
    "\n",
    "links, titles = vandal_link_retrieve(num_pages)"
   ]
  },
  {
   "cell_type": "code",
   "execution_count": 4,
   "metadata": {},
   "outputs": [
    {
     "data": {
      "text/plain": [
       "4500"
      ]
     },
     "execution_count": 4,
     "metadata": {},
     "output_type": "execute_result"
    }
   ],
   "source": [
    "len(links)"
   ]
  },
  {
   "cell_type": "markdown",
   "metadata": {},
   "source": [
    "## Scraping Single Review"
   ]
  },
  {
   "cell_type": "code",
   "execution_count": 2,
   "metadata": {},
   "outputs": [
    {
     "data": {
      "text/plain": [
       "b'<!DOCTYPE html><html lang=\"es\"><head>\\n<!--[if lt I'"
      ]
     },
     "execution_count": 2,
     "metadata": {},
     "output_type": "execute_result"
    }
   ],
   "source": [
    "review_url = 'https://vandal.elespanol.com/analisis/ps4/genshin-impact/75962#p-73'\n",
    "review_html = requests.get(review_url).content\n",
    "review_html[:50]"
   ]
  },
  {
   "cell_type": "code",
   "execution_count": 3,
   "metadata": {},
   "outputs": [],
   "source": [
    "soup = BeautifulSoup(review_html, 'lxml')"
   ]
  },
  {
   "cell_type": "code",
   "execution_count": 4,
   "metadata": {},
   "outputs": [],
   "source": [
    "p_tags = soup.find('div', {'class': 'textart'}).find_all('p')"
   ]
  },
  {
   "cell_type": "code",
   "execution_count": 5,
   "metadata": {},
   "outputs": [],
   "source": [
    "# Text\n",
    "review = [tag.text for tag in p_tags]\n",
    "review = ' '.join(review).strip()"
   ]
  },
  {
   "cell_type": "code",
   "execution_count": 6,
   "metadata": {},
   "outputs": [
    {
     "data": {
      "text/plain": [
       "'Ramón Varela'"
      ]
     },
     "execution_count": 6,
     "metadata": {},
     "output_type": "execute_result"
    }
   ],
   "source": [
    "# Author\n",
    "author = soup.find('span', {'class': 'reviewer'}).text\n",
    "author"
   ]
  },
  {
   "cell_type": "code",
   "execution_count": 5,
   "metadata": {},
   "outputs": [],
   "source": [
    "#Platform\n",
    "\n",
    "def vandal_platform(soup):\n",
    "    \n",
    "    platform_soup = soup.find('td', {'class': 'tablaplataformas'})\n",
    "    platform = [img[\"alt\"] for img in platform_soup.select(\"img[alt]\")]        \n",
    "    platform = ' '.join(platform)\n",
    "            \n",
    "    return platform"
   ]
  },
  {
   "cell_type": "code",
   "execution_count": 34,
   "metadata": {},
   "outputs": [
    {
     "data": {
      "text/plain": [
       "'PS4 PC iPhone Android Switch'"
      ]
     },
     "execution_count": 34,
     "metadata": {},
     "output_type": "execute_result"
    }
   ],
   "source": [
    "vandal_platform(soup)"
   ]
  },
  {
   "cell_type": "code",
   "execution_count": 6,
   "metadata": {},
   "outputs": [],
   "source": [
    "# Genre\n",
    "\n",
    "def vandal_genre(soup):\n",
    "    \n",
    "    genre_soup = soup.find('div', {'class': 'mt1 tcenter t11'}).find_all('a')\n",
    "    genre = [gs.text for gs in genre_soup]\n",
    "    genre = ' '.join(genre)\n",
    "\n",
    "    return genre"
   ]
  },
  {
   "cell_type": "code",
   "execution_count": 7,
   "metadata": {},
   "outputs": [],
   "source": [
    "#Company\n",
    "\n",
    "def vandal_company(soup):\n",
    "\n",
    "    infobox = soup.find('ul', {'class': 'mt03 ulficha'})\n",
    "    for box in infobox:\n",
    "        if 'Producción: ' in box.contents: \n",
    "            company = box.find('a').text\n",
    "\n",
    "            return company"
   ]
  },
  {
   "cell_type": "code",
   "execution_count": 10,
   "metadata": {},
   "outputs": [
    {
     "data": {
      "text/plain": [
       "float"
      ]
     },
     "execution_count": 10,
     "metadata": {},
     "output_type": "execute_result"
    }
   ],
   "source": [
    "#Score\n",
    "\n",
    "score = soup.find('div', {'class': 'fichajuego mt03 tleft'}).text\n",
    "score = float(score)\n",
    "type(score)"
   ]
  },
  {
   "cell_type": "markdown",
   "metadata": {},
   "source": [
    "## Create columns"
   ]
  },
  {
   "cell_type": "code",
   "execution_count": 8,
   "metadata": {},
   "outputs": [],
   "source": [
    "\n",
    "def vandal_dict(links, titles):\n",
    "    reviews_dict = {}\n",
    "    i = 0\n",
    "\n",
    "    for link, title in zip(links, titles):\n",
    "        try:\n",
    "            \n",
    "            #Request content and wait\n",
    "            review_html = requests.get(link).content\n",
    "\n",
    "            #Avoid get banned and timeout\n",
    "            time.sleep(1)\n",
    "\n",
    "            #Make a Soup and a Newspacer build\n",
    "            soup = BeautifulSoup(review_html, 'lxml')\n",
    "\n",
    "            #Author - From Scraping\n",
    "            author = soup.find('span', {'class': 'reviewer'}).text\n",
    "\n",
    "            #Company - From Scraping \n",
    "            company = vandal_company(soup)\n",
    "            \n",
    "            #Genre - From Scraping\n",
    "            genre = vandal_genre(soup)\n",
    "            \n",
    "            #Platform - From Scraping\n",
    "            platform = vandal_platform(soup)\n",
    "\n",
    "            #Text & Cleaning - From Scraping\n",
    "            p_tags = soup.find('div', {'class': 'textart'}).find_all('p')\n",
    "            review = [tag.text for tag in p_tags]\n",
    "            review = ' '.join(review).strip()\n",
    "\n",
    "            #Score & Clean & Transform - From Scraping\n",
    "            score = soup.find('div', {'class': 'fichajuego mt03 tleft'}).text\n",
    "            score = float(score)\n",
    "            \n",
    "            #Add to a dict\n",
    "            reviews_dict[i] = {'site': 'Vandal',\n",
    "                               'url_link': link,\n",
    "                               'author': author,\n",
    "                               'game': title,\n",
    "                               'company': company,\n",
    "                               'genre': genre,\n",
    "                               'platform': platform,\n",
    "                               'text': review,\n",
    "                               'score': score}\n",
    "        \n",
    "        except (ValueError, AttributeError) as e:\n",
    "            print('error', i)\n",
    "            pass\n",
    "        \n",
    "        i = i+1\n",
    "        if i % 25 == 0:\n",
    "            print(i, ': ', link)\n",
    "\n",
    "    return reviews_dict"
   ]
  },
  {
   "cell_type": "code",
   "execution_count": 9,
   "metadata": {},
   "outputs": [
    {
     "name": "stdout",
     "output_type": "stream",
     "text": [
      "25 :  https://vandal.elespanol.com/analisis/ps4/wolfenstein-the-old-blood/29880\n",
      "50 :  https://vandal.elespanol.com/analisis/ps4/assassins-creed-chronicles-china/26186\n",
      "75 :  https://vandal.elespanol.com/analisis/ps4/rack-n-ruin/28481\n",
      "100 :  https://vandal.elespanol.com/analisis/ps3/tokyo-twilight-ghost-hunters/25622\n",
      "125 :  https://vandal.elespanol.com/analisis/pc/camera-obscura/29494\n",
      "150 :  https://vandal.elespanol.com/analisis/3ds/the-legend-of-zelda-majoras-mask-3d/26601\n",
      "175 :  https://vandal.elespanol.com/analisis/iphone/framed/27046\n",
      "error 175\n",
      "200 :  https://vandal.elespanol.com/analisis/ps4/lara-croft-and-the-temple-of-osiris/24740\n",
      "225 :  https://vandal.elespanol.com/analisis/pc/the-sun-and-moon/26662\n",
      "250 :  https://vandal.elespanol.com/analisis/xbone/halo-the-master-chief-collection/24726\n",
      "275 :  https://vandal.elespanol.com/analisis/pc/sid-meiers-civilization-beyond-earth/24016\n",
      "300 :  https://vandal.elespanol.com/analisis/ps4/driveclub/20530\n",
      "error 312\n",
      "325 :  https://vandal.elespanol.com/analisis/ps3/naruto-shippuden-ultimate-ninja-storm-revolution/22877\n",
      "350 :  https://vandal.elespanol.com/analisis/iphone/assassins-creed-memories/25319\n",
      "375 :  https://vandal.elespanol.com/analisis/wiiu/super-toy-cars-eshop/23334\n",
      "400 :  https://vandal.elespanol.com/analisis/pc/abyss-odyssey/23633\n",
      "425 :  https://vandal.elespanol.com/analisis/android/duelo-de-caballeros/24710\n",
      "450 :  https://vandal.elespanol.com/analisis/psvita/hyperdimension-neptunia-producing-perfection/20655\n",
      "475 :  https://vandal.elespanol.com/analisis/3ds/conception-ii-children-of-the-seven-stars-eshop/22836\n",
      "500 :  https://vandal.elespanol.com/analisis/3ds/mario-golf-world-tour/20489\n",
      "525 :  https://vandal.elespanol.com/analisis/pc/platformines/23809\n",
      "error 540\n",
      "550 :  https://vandal.elespanol.com/analisis/ps4/dynasty-warriors-8-xtreme-legends/22279\n",
      "575 :  https://vandal.elespanol.com/analisis/xbone/titanfall/21276\n",
      "600 :  https://vandal.elespanol.com/analisis/3ds/adventure-time-hey-ice-king-whyd-you-steal-our-garbage-eshop/15961\n",
      "625 :  https://vandal.elespanol.com/analisis/psvita/dustforce-psn/22192\n",
      "650 :  https://vandal.elespanol.com/analisis/3ds/mario-party-island-tour/20960\n",
      "675 :  https://vandal.elespanol.com/analisis/ps3/minecraft-psn/22008\n",
      "700 :  https://vandal.elespanol.com/analisis/pc/master-reboot/22613\n",
      "725 :  https://vandal.elespanol.com/analisis/xbone/killer-instinct-xbla/21298\n",
      "750 :  https://vandal.elespanol.com/analisis/android/rayman-fiesta-run/22302\n",
      "775 :  https://vandal.elespanol.com/analisis/ps3/hatsune-miku-project-diva-f-psn/16030\n",
      "800 :  https://vandal.elespanol.com/analisis/iphone/lost-echo/21751\n",
      "825 :  https://vandal.elespanol.com/analisis/psvita/atelier-meruru-the-apprentice-of-arland-psn/20287\n",
      "850 :  https://vandal.elespanol.com/analisis/iphone/smash-bandits/22053\n",
      "error 871\n",
      "875 :  https://vandal.elespanol.com/analisis/iphone/world-of-aircraft/21754\n",
      "900 :  https://vandal.elespanol.com/analisis/ps3/narco-terror-psn/21142\n",
      "925 :  https://vandal.elespanol.com/analisis/iphone/deus-ex-the-fall/21266\n",
      "950 :  https://vandal.elespanol.com/analisis/ps3/time-and-eternity/15514\n",
      "975 :  https://vandal.elespanol.com/analisis/psvita/quell-memento-psn/21223\n",
      "1000 :  https://vandal.elespanol.com/analisis/pc/eyes/21108\n",
      "1025 :  https://vandal.elespanol.com/analisis/x360/history-legends-of-war/20437\n",
      "1050 :  https://vandal.elespanol.com/analisis/iphone/gemini-rue/20571\n",
      "1075 :  https://vandal.elespanol.com/analisis/ps3/army-of-two-the-devils-cartel/16487\n",
      "error 1087\n",
      "1100 :  https://vandal.elespanol.com/analisis/iphone/the-silent-age/20697\n",
      "1125 :  https://vandal.elespanol.com/analisis/psvita/ragnarok-odyssey/15010\n",
      "1150 :  https://vandal.elespanol.com/analisis/pc/the-bridge/20463\n",
      "error 1157\n",
      "1175 :  https://vandal.elespanol.com/analisis/3ds/picross-e2-eshop/20202\n",
      "1200 :  https://vandal.elespanol.com/analisis/3ds/fractured-soul-eshop/20219\n",
      "error 1215\n",
      "error 1216\n",
      "error 1221\n",
      "error 1222\n",
      "1225 :  https://vandal.elespanol.com/analisis/3ds/the-denpa-men-they-came-by-wave-eshop/16869\n",
      "1250 :  https://vandal.elespanol.com/analisis/3ds/paper-mario-sticker-star/12772\n",
      "1275 :  https://vandal.elespanol.com/analisis/wiiu/sonic-allstars-racing-transformed/16556\n",
      "1300 :  https://vandal.elespanol.com/analisis/android/angry-birds-star-wars/20052\n",
      "error 1303\n",
      "1325 :  https://vandal.elespanol.com/analisis/ps3/medal-of-honor-warfighter/14018\n",
      "1350 :  https://vandal.elespanol.com/analisis/pc/secret-files-3/15199\n",
      "1375 :  https://vandal.elespanol.com/analisis/wii/inazuma-eleven-strikers/8891\n",
      "1400 :  https://vandal.elespanol.com/analisis/wii/madagascar-3-el-videojuego/15733\n",
      "1425 :  https://vandal.elespanol.com/analisis/android/retro-athletics/16520\n",
      "1450 :  https://vandal.elespanol.com/analisis/ps3/tony-hawks-pro-skater-hd-psn/15383\n",
      "1475 :  https://vandal.elespanol.com/analisis/psvita/pulzar/16031\n",
      "1500 :  https://vandal.elespanol.com/analisis/ps3/lollipop-chainsaw/14785\n",
      "error 1502\n",
      "error 1517\n",
      "1525 :  https://vandal.elespanol.com/analisis/pc/tera/10110\n",
      "1550 :  https://vandal.elespanol.com/analisis/x360/pinball-arcade-xbla/15866\n",
      "1575 :  https://vandal.elespanol.com/analisis/ps3/devil-may-cry-hd-collection/15166\n",
      "error 1575\n",
      "1600 :  https://vandal.elespanol.com/analisis/3ds/kid-icarus-uprising/12732\n",
      "1625 :  https://vandal.elespanol.com/analisis/ps3/binary-domain/13634\n",
      "1650 :  https://vandal.elespanol.com/analisis/psvita/reality-fighters/13921\n",
      "1675 :  https://vandal.elespanol.com/analisis/iphone/batman-arkham-city-lockdown/15380\n",
      "1700 :  https://vandal.elespanol.com/analisis/nds/cooking-mama-world-aventuras-en-el-campo/14756\n",
      "1725 :  https://vandal.elespanol.com/analisis/wii/the-kore-gang/8920\n",
      "1750 :  https://vandal.elespanol.com/analisis/wii/mario-sonic-en-los-juegos-olimpicos-london-2012/14297\n",
      "1775 :  https://vandal.elespanol.com/analisis/x360/rayman-origins/12728\n",
      "1800 :  https://vandal.elespanol.com/analisis/x360/guardian-heroes-xbla/14335\n",
      "1825 :  https://vandal.elespanol.com/analisis/ps3/nba-jam-on-fire-edition-psn/14238\n",
      "1850 :  https://vandal.elespanol.com/analisis/iphone/xtreme-wheels/15061\n",
      "error 1860\n",
      "1875 :  https://vandal.elespanol.com/analisis/ps3/god-of-war-collection-volume-ii/14382\n",
      "1900 :  https://vandal.elespanol.com/analisis/x360/bastion-xbla/14122\n",
      "1925 :  https://vandal.elespanol.com/analisis/x360/lucha-fury-xbla/14670\n",
      "1950 :  https://vandal.elespanol.com/analisis/x360/red-faction-armageddon/11993\n",
      "1975 :  https://vandal.elespanol.com/analisis/pc/darkspore/12950\n",
      "2000 :  https://vandal.elespanol.com/analisis/3ds/rayman-3d/13869\n",
      "2025 :  https://vandal.elespanol.com/analisis/psp/patapon-3/12814\n",
      "2050 :  https://vandal.elespanol.com/analisis/wii/lilt-line-wiiw/13746\n",
      "error 2053\n",
      "error 2060\n",
      "2075 :  https://vandal.elespanol.com/analisis/ps3/fight-night-champion/12947\n",
      "2100 :  https://vandal.elespanol.com/analisis/pc/breach/12272\n",
      "2125 :  https://vandal.elespanol.com/analisis/nds/tron-evolution/13357\n",
      "2150 :  https://vandal.elespanol.com/analisis/x360/dance-paradise/13260\n",
      "error 2168\n",
      "2175 :  https://vandal.elespanol.com/analisis/wii/raving-rabbids-regreso-al-pasado/12248\n",
      "2200 :  https://vandal.elespanol.com/analisis/x360/kinectimals/12682\n",
      "2225 :  https://vandal.elespanol.com/analisis/pc/blood-bowl-legendary-edition/13369\n",
      "2250 :  https://vandal.elespanol.com/analisis/ps3/vanquish/11957\n",
      "2275 :  https://vandal.elespanol.com/analisis/x360/serious-sam-hd-the-second-encounter-xbla/11743\n"
     ]
    }
   ],
   "source": [
    "result_vandal = vandal_dict(links[2225:], titles[2225:])"
   ]
  },
  {
   "cell_type": "code",
   "execution_count": 10,
   "metadata": {},
   "outputs": [
    {
     "data": {
      "text/plain": [
       "{'site': 'Vandal',\n",
       " 'url_link': 'https://vandal.elespanol.com/analisis/pc/simcity/15648',\n",
       " 'author': 'Jorge Cano',\n",
       " 'game': 'SimCity - Análisis',\n",
       " 'company': 'EA Maxis',\n",
       " 'genre': 'Construir ciudades Estrategia',\n",
       " 'platform': 'PC Wii',\n",
       " 'text': 'Han pasado 24 años desde que se lanzara el primer SimCity, un clásico con letras mayúsculas dentro de la historia de los videojuegos. En unos tiempos en los que están de moda los reinicios, remakes y reinterpretaciones de los clásicos, la vuelta de este simulador de construcción de ciudades era más que necesaria, diez años después de SimCity 4. Hemos escrito muchas impresiones sobre él en los últimos meses, todas muy entusiastas, el juego pintaba fenomenal, y su apuesta de base por el multijugador, con ciudades interconectadas que tienen que compartir recursos, nos parecía más que interesante. Sabíamos que exigiría conexión permanente a internet, algo que preveíamos iba a causar cierta polémica, lo que no imaginábamos era que esta característica se fuera a volver en su contra, al menos en los primeros días, y empañar o estropear el excelente trabajo realizado por Maxis. Exigir conexión permanente a internet en títulos que no son MMO, no es algo nuevo, ya el año pasado Blizzard se atrevió a implementarlo con el esperado Diablo III, generando no poca polémica. El nuevo y ambicioso proyecto de Activision y Bungie, Destiny, supimos hace poco que requerirá conexión permanente, e intuimos e imaginamos que cada día más y más juegos se irán apuntado al carro, y dentro de quizás, cinco o diez años, nos parecerá lo más normal del mundo. Vemos cómo la industria del videojuego de manera imparable se encamina a esto, que muchos títulos requieran conexión permanente a internet para ser jugados, ya sea por su propuesta jugable, que hace un especial hincapié en la experiencia multijugador, o simplemente por motivos de protección y DRM, para evitar la piratería.  Esto de manera comprensible molesta mucho a los jugadores, la sensación de que \"pagan justos por pecadores\", una situación muy injusta, ya que para evitar que un producto se piratee, los usuarios legales tienen que lidiar con no pocas molestias. Ya el inmenso lanzamiento de Diablo III, con más cuatro millones de usuarios intentando jugar en sus primeras horas, tuvo muchas complicaciones, subsanadas con el paso de los días. Electronic Arts debería haber estado preparada, estaban avisados, sabía lo que podía pasar, y los primeros días a la venta de SimCity, desde el pasado jueves 7 hasta el lunes 11, han sido un completo desastre, especialmente en Estados Unidos. No sabemos si ha sido por falta de previsión y pocos servidores disponibles, si por problemas técnicos inesperados e imposibles de predecir, el caso es que los jugadores que habían pagado por SimCity no podían jugar con él, era casi imposible acceder a la experiencia, aunque quisieras jugar solo sin disfrutar del multijugador, se producían interrupciones, cortes, perdidas de partidas, entre otras grandes molestias, y esto es algo intolerable en un producto de esta magnitud, publicado por una compañía referente dentro de la industria. Nosotros, por circunstancias de agenda, no nos hemos podido poner manos a la obra con el análisis hasta este pasado lunes, aunque ya habíamos tenido muchos contactos previos con el juego, en diversas ferias, eventos y pruebas con la beta. Casualmente ha sido este lunes cuando la mayoría de complicaciones  técnicas ya se han solventado, y no hemos tenido apenas problemas para poder jugarlo desde este pasado lunes 11 hasta hoy.  Por tanto parece que los problemas más graves ya se han solventado, y con el paso de los días la experiencia será completa y totalmente funcional, aunque el nombre del juego ya ha quedado manchado para siempre, no hay más que mirar las notas de otros medios -especialmente los americanos- y ver los palos que se ha llevado. Algo que nos parece comprensible a la par que un tanto injusto, porque el trabajo realizado por Maxis es simplemente genial, con sus pros y contras como todos los juegos, que intentaremos desgranar con justicia en el siguiente texto. Seguro que tanto EA, como otras compañías aprenden de lo ocurrido –o deberían-, ya sea para no seguir incluyendo injustos DRM, no exigir conexión permanente en los modos para un jugador, o por no pecar de falta de previsión y quedarse cortos a la hora de abrir servidores. A partir de ahora vamos a hablar de lo que verdaderamente nos importa, el juego, y de la experiencia que te vas a encontrar si decides comprártelo hoy mismo.',\n",
       " 'score': 8.6}"
      ]
     },
     "execution_count": 10,
     "metadata": {},
     "output_type": "execute_result"
    }
   ],
   "source": [
    "result_vandal[1111]"
   ]
  },
  {
   "cell_type": "markdown",
   "metadata": {},
   "source": [
    "### Create DataFrame"
   ]
  },
  {
   "cell_type": "code",
   "execution_count": 11,
   "metadata": {},
   "outputs": [
    {
     "data": {
      "text/html": [
       "<div>\n",
       "<style scoped>\n",
       "    .dataframe tbody tr th:only-of-type {\n",
       "        vertical-align: middle;\n",
       "    }\n",
       "\n",
       "    .dataframe tbody tr th {\n",
       "        vertical-align: top;\n",
       "    }\n",
       "\n",
       "    .dataframe thead th {\n",
       "        text-align: right;\n",
       "    }\n",
       "</style>\n",
       "<table border=\"1\" class=\"dataframe\">\n",
       "  <thead>\n",
       "    <tr style=\"text-align: right;\">\n",
       "      <th></th>\n",
       "      <th>site</th>\n",
       "      <th>url_link</th>\n",
       "      <th>author</th>\n",
       "      <th>game</th>\n",
       "      <th>company</th>\n",
       "      <th>genre</th>\n",
       "      <th>platform</th>\n",
       "      <th>text</th>\n",
       "      <th>score</th>\n",
       "    </tr>\n",
       "  </thead>\n",
       "  <tbody>\n",
       "    <tr>\n",
       "      <th>0</th>\n",
       "      <td>Vandal</td>\n",
       "      <td>https://vandal.elespanol.com/analisis/pc/sunse...</td>\n",
       "      <td>Ramón Nafria</td>\n",
       "      <td>Sunset - Análisis</td>\n",
       "      <td>Tale of Tales</td>\n",
       "      <td>Aventura</td>\n",
       "      <td>PC</td>\n",
       "      <td>En el exitoso Kickstarter de Sunset (casi 68.0...</td>\n",
       "      <td>8.0</td>\n",
       "    </tr>\n",
       "    <tr>\n",
       "      <th>1</th>\n",
       "      <td>Vandal</td>\n",
       "      <td>https://vandal.elespanol.com/analisis/wiiu/swo...</td>\n",
       "      <td>Carlos Leiva</td>\n",
       "      <td>Swords &amp; Soldiers II eShop - Análisis</td>\n",
       "      <td>Ronimo Games</td>\n",
       "      <td>Estrategia en tiempo real Plataformas 2D</td>\n",
       "      <td>Wii U</td>\n",
       "      <td>La estrategia no es un género que tenga demasi...</td>\n",
       "      <td>7.5</td>\n",
       "    </tr>\n",
       "    <tr>\n",
       "      <th>2</th>\n",
       "      <td>Vandal</td>\n",
       "      <td>https://vandal.elespanol.com/analisis/pc/uncan...</td>\n",
       "      <td>Juan Rubio</td>\n",
       "      <td>Uncanny Valley - Análisis</td>\n",
       "      <td>Cowardly Creations</td>\n",
       "      <td>Aventura de acción Survival Horror Terror</td>\n",
       "      <td>PC PS4 PSVITA Xbox One Switch</td>\n",
       "      <td>El género del terror parece haber apostado por...</td>\n",
       "      <td>6.4</td>\n",
       "    </tr>\n",
       "    <tr>\n",
       "      <th>3</th>\n",
       "      <td>Vandal</td>\n",
       "      <td>https://vandal.elespanol.com/analisis/ps4/life...</td>\n",
       "      <td>Juan Rubio</td>\n",
       "      <td>Life is Strange - Episode 3 - Análisis</td>\n",
       "      <td>Square Enix</td>\n",
       "      <td>Aventura narrativa</td>\n",
       "      <td>PS4 PC Xbox One Xbox 360 PS3</td>\n",
       "      <td>Muchos de los que escribimos sobre videojuegos...</td>\n",
       "      <td>8.0</td>\n",
       "    </tr>\n",
       "    <tr>\n",
       "      <th>4</th>\n",
       "      <td>Vandal</td>\n",
       "      <td>https://vandal.elespanol.com/analisis/pc/spark...</td>\n",
       "      <td>Ramón Varela</td>\n",
       "      <td>Sparkle 3 Genesis - Análisis</td>\n",
       "      <td>Forever Entertainment</td>\n",
       "      <td>Acción</td>\n",
       "      <td>PC Switch</td>\n",
       "      <td>En 2006 el estudio thatgamecompany debutó con ...</td>\n",
       "      <td>6.5</td>\n",
       "    </tr>\n",
       "    <tr>\n",
       "      <th>...</th>\n",
       "      <td>...</td>\n",
       "      <td>...</td>\n",
       "      <td>...</td>\n",
       "      <td>...</td>\n",
       "      <td>...</td>\n",
       "      <td>...</td>\n",
       "      <td>...</td>\n",
       "      <td>...</td>\n",
       "      <td>...</td>\n",
       "    </tr>\n",
       "    <tr>\n",
       "      <th>2270</th>\n",
       "      <td>Vandal</td>\n",
       "      <td>https://vandal.elespanol.com/analisis/psp/phan...</td>\n",
       "      <td>Ramón Varela</td>\n",
       "      <td>Phantasy Star Portable 2 - Análisis</td>\n",
       "      <td>Sega</td>\n",
       "      <td>JRPG Rol</td>\n",
       "      <td>PSP</td>\n",
       "      <td>Sega ha vuelto a apostar por PSP para llevar s...</td>\n",
       "      <td>7.8</td>\n",
       "    </tr>\n",
       "    <tr>\n",
       "      <th>2271</th>\n",
       "      <td>Vandal</td>\n",
       "      <td>https://vandal.elespanol.com/analisis/ps3/tumb...</td>\n",
       "      <td>Víctor Moyano</td>\n",
       "      <td>Tumble - Análisis</td>\n",
       "      <td>Sony</td>\n",
       "      <td>PlayStation Move Puzle</td>\n",
       "      <td>PS3</td>\n",
       "      <td>Playstation Move ya está entre nosotros. El es...</td>\n",
       "      <td>7.0</td>\n",
       "    </tr>\n",
       "    <tr>\n",
       "      <th>2272</th>\n",
       "      <td>Vandal</td>\n",
       "      <td>https://vandal.elespanol.com/analisis/wii/trac...</td>\n",
       "      <td>Macarena Mey</td>\n",
       "      <td>TrackMania Wii - Análisis</td>\n",
       "      <td>Focus Home</td>\n",
       "      <td>Carreras arcade Velocidad</td>\n",
       "      <td>Wii</td>\n",
       "      <td>Aunque lo habitual cuando pensamos en un géner...</td>\n",
       "      <td>8.5</td>\n",
       "    </tr>\n",
       "    <tr>\n",
       "      <th>2273</th>\n",
       "      <td>Vandal</td>\n",
       "      <td>https://vandal.elespanol.com/analisis/pc/alien...</td>\n",
       "      <td>Jorge Cano</td>\n",
       "      <td>Alien Breed 2: Assault - Análisis</td>\n",
       "      <td>Team17</td>\n",
       "      <td>Shooter en tercera persona</td>\n",
       "      <td>PC Xbox 360 PS3</td>\n",
       "      <td>Hace unos diez meses se lanzaba Alien Breed: E...</td>\n",
       "      <td>6.0</td>\n",
       "    </tr>\n",
       "    <tr>\n",
       "      <th>2274</th>\n",
       "      <td>Vandal</td>\n",
       "      <td>https://vandal.elespanol.com/analisis/x360/ser...</td>\n",
       "      <td>Jorge Cano</td>\n",
       "      <td>Serious Sam HD: The Second Encounter XBLA - An...</td>\n",
       "      <td>Majesco</td>\n",
       "      <td>Shooter en primera persona</td>\n",
       "      <td>Xbox 360 PC</td>\n",
       "      <td>En 2001 sorprendía a todos un juego de acción ...</td>\n",
       "      <td>7.0</td>\n",
       "    </tr>\n",
       "  </tbody>\n",
       "</table>\n",
       "<p>2257 rows × 9 columns</p>\n",
       "</div>"
      ],
      "text/plain": [
       "        site                                           url_link  \\\n",
       "0     Vandal  https://vandal.elespanol.com/analisis/pc/sunse...   \n",
       "1     Vandal  https://vandal.elespanol.com/analisis/wiiu/swo...   \n",
       "2     Vandal  https://vandal.elespanol.com/analisis/pc/uncan...   \n",
       "3     Vandal  https://vandal.elespanol.com/analisis/ps4/life...   \n",
       "4     Vandal  https://vandal.elespanol.com/analisis/pc/spark...   \n",
       "...      ...                                                ...   \n",
       "2270  Vandal  https://vandal.elespanol.com/analisis/psp/phan...   \n",
       "2271  Vandal  https://vandal.elespanol.com/analisis/ps3/tumb...   \n",
       "2272  Vandal  https://vandal.elespanol.com/analisis/wii/trac...   \n",
       "2273  Vandal  https://vandal.elespanol.com/analisis/pc/alien...   \n",
       "2274  Vandal  https://vandal.elespanol.com/analisis/x360/ser...   \n",
       "\n",
       "             author                                               game  \\\n",
       "0      Ramón Nafria                                  Sunset - Análisis   \n",
       "1      Carlos Leiva              Swords & Soldiers II eShop - Análisis   \n",
       "2        Juan Rubio                          Uncanny Valley - Análisis   \n",
       "3        Juan Rubio             Life is Strange - Episode 3 - Análisis   \n",
       "4      Ramón Varela                       Sparkle 3 Genesis - Análisis   \n",
       "...             ...                                                ...   \n",
       "2270   Ramón Varela                Phantasy Star Portable 2 - Análisis   \n",
       "2271  Víctor Moyano                                  Tumble - Análisis   \n",
       "2272   Macarena Mey                          TrackMania Wii - Análisis   \n",
       "2273     Jorge Cano                  Alien Breed 2: Assault - Análisis   \n",
       "2274     Jorge Cano  Serious Sam HD: The Second Encounter XBLA - An...   \n",
       "\n",
       "                    company                                      genre  \\\n",
       "0             Tale of Tales                                   Aventura   \n",
       "1              Ronimo Games   Estrategia en tiempo real Plataformas 2D   \n",
       "2        Cowardly Creations  Aventura de acción Survival Horror Terror   \n",
       "3               Square Enix                         Aventura narrativa   \n",
       "4     Forever Entertainment                                     Acción   \n",
       "...                     ...                                        ...   \n",
       "2270                   Sega                                   JRPG Rol   \n",
       "2271                   Sony                     PlayStation Move Puzle   \n",
       "2272             Focus Home                  Carreras arcade Velocidad   \n",
       "2273                 Team17                 Shooter en tercera persona   \n",
       "2274                Majesco                 Shooter en primera persona   \n",
       "\n",
       "                           platform  \\\n",
       "0                                PC   \n",
       "1                             Wii U   \n",
       "2     PC PS4 PSVITA Xbox One Switch   \n",
       "3      PS4 PC Xbox One Xbox 360 PS3   \n",
       "4                         PC Switch   \n",
       "...                             ...   \n",
       "2270                            PSP   \n",
       "2271                            PS3   \n",
       "2272                            Wii   \n",
       "2273                PC Xbox 360 PS3   \n",
       "2274                    Xbox 360 PC   \n",
       "\n",
       "                                                   text  score  \n",
       "0     En el exitoso Kickstarter de Sunset (casi 68.0...    8.0  \n",
       "1     La estrategia no es un género que tenga demasi...    7.5  \n",
       "2     El género del terror parece haber apostado por...    6.4  \n",
       "3     Muchos de los que escribimos sobre videojuegos...    8.0  \n",
       "4     En 2006 el estudio thatgamecompany debutó con ...    6.5  \n",
       "...                                                 ...    ...  \n",
       "2270  Sega ha vuelto a apostar por PSP para llevar s...    7.8  \n",
       "2271  Playstation Move ya está entre nosotros. El es...    7.0  \n",
       "2272  Aunque lo habitual cuando pensamos en un géner...    8.5  \n",
       "2273  Hace unos diez meses se lanzaba Alien Breed: E...    6.0  \n",
       "2274  En 2001 sorprendía a todos un juego de acción ...    7.0  \n",
       "\n",
       "[2257 rows x 9 columns]"
      ]
     },
     "execution_count": 11,
     "metadata": {},
     "output_type": "execute_result"
    }
   ],
   "source": [
    "vandal = pd.DataFrame.from_dict(result_vandal, orient='index')\n",
    "\n",
    "vandal"
   ]
  },
  {
   "cell_type": "code",
   "execution_count": 13,
   "metadata": {},
   "outputs": [],
   "source": [
    "#vandal.to_csv('../data/vandal_2225_4482l.csv', index=False)"
   ]
  },
  {
   "cell_type": "code",
   "execution_count": 12,
   "metadata": {},
   "outputs": [
    {
     "data": {
      "text/plain": [
       "2257"
      ]
     },
     "execution_count": 12,
     "metadata": {},
     "output_type": "execute_result"
    }
   ],
   "source": [
    "len(vandal)"
   ]
  },
  {
   "cell_type": "code",
   "execution_count": null,
   "metadata": {},
   "outputs": [],
   "source": []
  }
 ],
 "metadata": {
  "kernelspec": {
   "display_name": "Python [conda env:lab_env]",
   "language": "python",
   "name": "conda-env-lab_env-py"
  },
  "language_info": {
   "codemirror_mode": {
    "name": "ipython",
    "version": 3
   },
   "file_extension": ".py",
   "mimetype": "text/x-python",
   "name": "python",
   "nbconvert_exporter": "python",
   "pygments_lexer": "ipython3",
   "version": "3.7.3"
  }
 },
 "nbformat": 4,
 "nbformat_minor": 4
}
