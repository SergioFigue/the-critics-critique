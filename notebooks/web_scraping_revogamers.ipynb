{
 "cells": [
  {
   "cell_type": "markdown",
   "metadata": {},
   "source": [
    "# Scraping REVOGAMERS"
   ]
  },
  {
   "cell_type": "code",
   "execution_count": 1,
   "metadata": {},
   "outputs": [],
   "source": [
    "import requests\n",
    "from bs4 import BeautifulSoup\n",
    "import time\n",
    "import pandas as pd\n",
    "import numpy as np\n",
    "import newspaper\n",
    "from newspaper import Article\n",
    "from newspaper import Source\n",
    "from newspaper import fulltext"
   ]
  },
  {
   "cell_type": "markdown",
   "metadata": {},
   "source": [
    "## Scraping Articles Site "
   ]
  },
  {
   "cell_type": "code",
   "execution_count": 2,
   "metadata": {},
   "outputs": [
    {
     "data": {
      "text/plain": [
       "b'<!DOCTYPE html><html lang=\"es\"><head><meta charset'"
      ]
     },
     "execution_count": 2,
     "metadata": {},
     "output_type": "execute_result"
    }
   ],
   "source": [
    "review_url = 'https://www.revogamers.net/analisis-w/'\n",
    "html = requests.get(review_url).content\n",
    "html[:50]"
   ]
  },
  {
   "cell_type": "code",
   "execution_count": 3,
   "metadata": {},
   "outputs": [],
   "source": [
    "soup = BeautifulSoup(html, 'lxml')\n",
    "articles = soup.find_all('h2')"
   ]
  },
  {
   "cell_type": "code",
   "execution_count": 4,
   "metadata": {},
   "outputs": [
    {
     "data": {
      "text/plain": [
       "['Análisis de Going Under',\n",
       " 'Análisis de Kirby Fighters 2',\n",
       " 'Análisis de Lost Ember',\n",
       " 'Análisis de Deleveled',\n",
       " 'Análisis de RogueCube',\n",
       " 'Análisis de The Eternal Castle [REMASTERED]',\n",
       " 'Análisis de RollerCoaster Tycoon 3',\n",
       " 'Análisis de NBA 2K21',\n",
       " 'Análisis de MX vs ATV All Out',\n",
       " 'Análisis de MO:Astray',\n",
       " 'Análisis de Mini Motor Racing X',\n",
       " 'Análisis de Clash Force',\n",
       " 'Análisis de Nexomon: Extinction',\n",
       " 'Análisis de Super Mario 3D All Stars',\n",
       " 'Análisis de Adventures of Pip',\n",
       " 'Análisis de JUMP FORCE - Deluxe Edition',\n",
       " 'Análisis de Ary and the Secret of Seasons',\n",
       " 'Análisis de Minoria',\n",
       " 'Análisis de Windbound',\n",
       " 'Análisis de RPG Maker MV',\n",
       " 'Golf Zero']"
      ]
     },
     "execution_count": 4,
     "metadata": {},
     "output_type": "execute_result"
    }
   ],
   "source": [
    "#Extraer títulos\n",
    "\n",
    "titles = []\n",
    "\n",
    "for a in articles:\n",
    "    titles.append(a.find('a')['title'])\n",
    "    \n",
    "titles"
   ]
  },
  {
   "cell_type": "code",
   "execution_count": 5,
   "metadata": {},
   "outputs": [
    {
     "name": "stdout",
     "output_type": "stream",
     "text": [
      "['https://www.revogamers.net/analisis-w/analisis-de-going-under-56448/', 'https://www.revogamers.net/analisis-w/analisis-de-kirby-fighters-2-56351/', 'https://www.revogamers.net/analisis-w/analisis-de-lost-ember-55953/', 'https://www.revogamers.net/analisis-w/analisis-de-deleveled-56312/', 'https://www.revogamers.net/analisis-w/analisis-de-roguecube-55049/', 'https://www.revogamers.net/analisis-w/analisis-de-the-eternal-castle-remastered-56099/', 'https://www.revogamers.net/analisis-w/analisis-de-rollercoaster-tycoon-3-55891/', 'https://www.revogamers.net/analisis-w/analisis-de-nba-2k21-55893/', 'https://www.revogamers.net/analisis-w/analisis-de-mx-vs-atv-all-out-56009/', 'https://www.revogamers.net/analisis-w/analisis-de-moastray-54977/', 'https://www.revogamers.net/analisis-w/analisis-de-mini-motor-racing-55871/', 'https://www.revogamers.net/analisis-w/analisis-de-clash-force-55047/', 'https://www.revogamers.net/analisis-w/analisis-de-nexomonextinction-55740/', 'https://www.revogamers.net/analisis-w/analisis-de-super-mario-3d-all-stars-55036/', 'https://www.revogamers.net/analisis-w/analisis-de-adventures-of-pip-54962/', 'https://www.revogamers.net/analisis-w/analisis-de-jump-force-deluxe-edition-55261/', 'https://www.revogamers.net/analisis-w/analisis-de-ary-and-the-secret-of-seasons-55346/', 'https://www.revogamers.net/analisis-w/analisis-de-minoria-54971/', 'https://www.revogamers.net/analisis-w/analisis-de-windbound-55062/', 'https://www.revogamers.net/analisis-w/analisis-de-rpg-maker-mv-55171/']\n"
     ]
    }
   ],
   "source": [
    "#Extraer links\n",
    "\n",
    "links = []\n",
    "\n",
    "for a in articles:\n",
    "    links.append(a.find('a')['href'])\n",
    "\n",
    "for link in links:\n",
    "    if 'analisis' not in link:\n",
    "        links.remove(link)\n",
    "\n",
    "print(links)\n"
   ]
  },
  {
   "cell_type": "markdown",
   "metadata": {},
   "source": [
    "## Page parsing and link retrieving function for Revogamers"
   ]
  },
  {
   "cell_type": "code",
   "execution_count": 6,
   "metadata": {},
   "outputs": [],
   "source": [
    "def revogamers_link_retrieve(num_pages):\n",
    "    links = []\n",
    "    \n",
    "    # pages parser\n",
    "    for i in range(num_pages):\n",
    "        url = f'https://www.revogamers.net/analisis-w/page/{i+1}'\n",
    "        #print(url)\n",
    "\n",
    "        # building soup    \n",
    "        html = requests.get(url).content\n",
    "        soup = BeautifulSoup(html, 'lxml')\n",
    "        articles = soup.find_all('h2')\n",
    "\n",
    "        # links retrieve\n",
    "        for a in articles:\n",
    "            links.append(a.find('a')['href'])\n",
    "        \n",
    "        #print(links)\n",
    "    \n",
    "    #Deleting non review links\n",
    "    for link in links:\n",
    "        if 'analisis' not in link:\n",
    "            links.remove(link)\n",
    "                \n",
    "    return links\n"
   ]
  },
  {
   "cell_type": "code",
   "execution_count": 7,
   "metadata": {},
   "outputs": [
    {
     "name": "stdout",
     "output_type": "stream",
     "text": [
      "1000\n",
      "['https://www.revogamers.net/analisis-w/analisis-de-going-under-56448/', 'https://www.revogamers.net/analisis-w/analisis-de-kirby-fighters-2-56351/', 'https://www.revogamers.net/analisis-w/analisis-de-lost-ember-55953/', 'https://www.revogamers.net/analisis-w/analisis-de-deleveled-56312/', 'https://www.revogamers.net/analisis-w/analisis-de-roguecube-55049/', 'https://www.revogamers.net/analisis-w/analisis-de-the-eternal-castle-remastered-56099/', 'https://www.revogamers.net/analisis-w/analisis-de-rollercoaster-tycoon-3-55891/', 'https://www.revogamers.net/analisis-w/analisis-de-nba-2k21-55893/', 'https://www.revogamers.net/analisis-w/analisis-de-mx-vs-atv-all-out-56009/', 'https://www.revogamers.net/analisis-w/analisis-de-moastray-54977/', 'https://www.revogamers.net/analisis-w/analisis-de-mini-motor-racing-55871/', 'https://www.revogamers.net/analisis-w/analisis-de-clash-force-55047/', 'https://www.revogamers.net/analisis-w/analisis-de-nexomonextinction-55740/', 'https://www.revogamers.net/analisis-w/analisis-de-super-mario-3d-all-stars-55036/', 'https://www.revogamers.net/analisis-w/analisis-de-adventures-of-pip-54962/', 'https://www.revogamers.net/analisis-w/analisis-de-jump-force-deluxe-edition-55261/', 'https://www.revogamers.net/analisis-w/analisis-de-ary-and-the-secret-of-seasons-55346/', 'https://www.revogamers.net/analisis-w/analisis-de-minoria-54971/', 'https://www.revogamers.net/analisis-w/analisis-de-windbound-55062/', 'https://www.revogamers.net/analisis-w/analisis-de-rpg-maker-mv-55171/', 'https://www.revogamers.net/analisis-w/analisis-pga-tour-2k21-55161/', 'https://www.revogamers.net/analisis-w/analisis-captain-tsubasa-rise-of-new-champions-55134/', 'https://www.revogamers.net/analisis-w/analisis-de-minecraft-dungeons-hero-edition-54935/', 'https://www.revogamers.net/analisis-w/analisis-de-inertial-drift-55093/', 'https://www.revogamers.net/analisis-w/analisis-de-evergate-55000/', 'https://www.revogamers.net/analisis-w/analisis-de-struggling-54896/', 'https://www.revogamers.net/analisis-w/analisis-de-manifold-garden-54780/', 'https://www.revogamers.net/analisis-w/analisis-de-peaky-blinders-mastermind-54845/', 'https://www.revogamers.net/analisis-w/analisis-de-jenny-leclue-detectivu-54638/', 'https://www.revogamers.net/analisis-w/analisis-de-short-hike-54658/', 'https://www.revogamers.net/analisis-w/analisis-de-bite-the-bullet-54633/', 'https://www.revogamers.net/analisis-w/analisis-de-metamorphosis-54745/', 'https://www.revogamers.net/analisis-w/analisis-de-no-straight-roads-54711/', 'https://www.revogamers.net/analisis-w/analisis-de-paper-mariothe-origami-king-54681/', 'https://www.revogamers.net/analisis-w/analisis-de-darkestville-castle-54363/', 'https://www.revogamers.net/analisis-w/analisis-de-helheim-hassle-54600/', 'https://www.revogamers.net/analisis-w/analisis-de-cruel-bands-career-54357/', 'https://www.revogamers.net/analisis-w/analisis-de-the-ambassadorfractured-timelines-54360/', 'https://www.revogamers.net/analisis-w/analisis-de-aeolis-tournament-54354/', 'https://www.revogamers.net/analisis-w/analisis-de-distraint-2-54252/', 'https://www.revogamers.net/analisis-w/analisis-rock-of-ages-iii-54455/', 'https://www.revogamers.net/analisis-w/analisis-de-skully-54315/', 'https://www.revogamers.net/analisis-w/analisis-de-fairy-tail-54293/', 'https://www.revogamers.net/analisis-w/analisis-de-carrion-54084/', 'https://www.revogamers.net/analisis-w/analisis-de-creaks-53984/', 'https://www.revogamers.net/analisis-w/analisis-de-void-trrlm-void-terrarium-53908/', 'https://www.revogamers.net/analisis-w/analisis-de-rez-plz-54126/', 'https://www.revogamers.net/analisis-w/analisis-de-funtime-53914/', 'https://www.revogamers.net/analisis-w/analisis-de-rainswept-53757/', 'https://www.revogamers.net/analisis-w/analisis-de-darius-cozmic-collection-arcade-console-54023/', 'https://www.revogamers.net/analisis-w/analisis-de-warhammer-40000-mechanicus-53878/', 'https://www.revogamers.net/analisis-w/analisis-de-urban-trial-tricky-54012/', 'https://www.revogamers.net/analisis-w/analisis-de-neversong-53872/', 'https://www.revogamers.net/analisis-w/analisis-de-radio-squid-53751/', 'https://www.revogamers.net/analisis-w/analisis-de-never-breakup-53746/', 'https://www.revogamers.net/analisis-w/analisis-de-eldenpath-of-the-forgotten-53739/', 'https://www.revogamers.net/analisis-w/analisis-de-outbuddies-dx-53552/', 'https://www.revogamers.net/analisis-w/analisis-de-ruiner-53785/', 'https://www.revogamers.net/analisis-w/analisis-de-spacejacked-53563/', 'https://www.revogamers.net/analisis-w/analisis-de-ultracore-53662/', 'https://www.revogamers.net/analisis-w/analisis-de-crosscode-53646/', 'https://www.revogamers.net/analisis-w/analisis-de-the-coma-2vicious-sisters-53622/', 'https://www.revogamers.net/analisis-w/analisis-deadly-premonition-2-blessing-in-disguise-53696/', 'https://www.revogamers.net/analisis-w/analisis-de-biped-53557/', 'https://www.revogamers.net/analisis-w/analisis-de-colt-canyon-53560/', 'https://www.revogamers.net/analisis-w/analisis-de-inflictionextended-cut-53548/', 'https://www.revogamers.net/analisis-w/analisis-de-catherine-full-body-53592/', 'https://www.revogamers.net/analisis-w/analisis-de-ancestors-legacy-53474/', 'https://www.revogamers.net/analisis-w/analisis-de-the-legend-of-heroestrails-of-cold-steel-iii-53210/', 'https://www.revogamers.net/analisis-w/analisis-spongebob-squarepants-battle-for-bikini-bottom-rehydrated-53433/', 'https://www.revogamers.net/analisis-w/analisis-de-summer-in-mara-53327/', 'https://www.revogamers.net/analisis-w/analisis-de-super-soccer-blast-53308/', 'https://www.revogamers.net/analisis-w/analisis-de-rigid-force-redux-53297/', 'https://www.revogamers.net/analisis-w/analisis-de-railway-empire-53303/', 'https://www.revogamers.net/analisis-w/analisis-de-skelattack-53290/', 'https://www.revogamers.net/analisis-w/analisis-de-thy-sword-53294/', 'https://www.revogamers.net/analisis-w/analisis-mortal-kombat-11-aftermath-53140/', 'https://www.revogamers.net/analisis-w/analisis-xcom-2-53066/', 'https://www.revogamers.net/analisis-w/the-outer-worlds-analisis-52997/', 'https://www.revogamers.net/analisis-w/analisis-de-super-toy-cars-2-53115/', 'https://www.revogamers.net/analisis-w/analisis-de-little-misfortune-52919/', 'https://www.revogamers.net/analisis-w/analisis-minecraft-dungeons-52834/', 'https://www.revogamers.net/analisis-w/analisis-de-bioshockthe-collection-52677/', 'https://www.revogamers.net/analisis-w/analisis-de-fly-punch-boom-52934/', 'https://www.revogamers.net/analisis-w/analisis-de-shantae-and-the-seven-sirens-52955/', 'https://www.revogamers.net/analisis-w/analisis-de-borderlands-legendary-collection-52747/', 'https://www.revogamers.net/analisis-w/analisis-de-the-elder-scrolls-blades-52890/', 'https://www.revogamers.net/analisis-w/analisis-de-51-worldwide-games-52844/', 'https://www.revogamers.net/analisis-w/analisis-de-bug-fablesretono-eterno-52675/', 'https://www.revogamers.net/analisis-w/analisis-de-reed-2-52676/', 'https://www.revogamers.net/analisis-w/analisis-de-xenoblade-chronicles-definitive-edition-52776/', 'https://www.revogamers.net/analisis-w/analisis-random-heroes-gold-edition-52313/', 'https://www.revogamers.net/analisis-w/analisis-de-super-mega-baseball-3-52487/', 'https://www.revogamers.net/analisis-w/analisis-de-indivisible-52483/', 'https://www.revogamers.net/analisis-w/analisis-de-hatsune-miku-project-diva-mega-mix-52480/', 'https://www.revogamers.net/analisis-w/analisis-what-the-golf-52496/', 'https://www.revogamers.net/analisis-w/analisis-de-ion-fury-52505/', 'https://www.revogamers.net/analisis-w/analisis-de-the-persistence-52058/', 'https://www.revogamers.net/analisis-w/analisis-de-naruto-shippudenultimate-ninja-storm-4-road-to-boruto-52247/', 'https://www.revogamers.net/analisis-w/analisis-de-guard-duty-52094/', 'https://www.revogamers.net/analisis-w/streets-of-rage-4-analisis-52157/', 'https://www.revogamers.net/analisis-w/analisis-de-infinite-beyond-the-mind-52089/', 'https://www.revogamers.net/analisis-w/analisis-de-spirit-of-the-north-52155/', 'https://www.revogamers.net/analisis-w/analisis-de-theme-park-simulator-51950/', 'https://www.revogamers.net/analisis-w/analisis-de-trials-of-mana-51809/', 'https://www.revogamers.net/analisis-w/analisis-de-fold-apart-51657/', 'https://www.revogamers.net/analisis-w/analisis-de-tharsis-51522/', 'https://www.revogamers.net/analisis-w/analisis-totally-reliable-delivery-service-51676/', 'https://www.revogamers.net/analisis-w/analisis-de-duck-souls-51378/', 'https://www.revogamers.net/analisis-w/analisis-doom-64-51536/', 'https://www.revogamers.net/analisis-w/analisis-de-super-destronautland-wars-51417/', 'https://www.revogamers.net/analisis-w/analisis-de-wenjia-51010/', 'https://www.revogamers.net/analisis-w/analisis-de-syrup-and-the-ultimate-sweet-50755/', 'https://www.revogamers.net/analisis-w/analisis-ganbare-super-strikers-51302/', 'https://www.revogamers.net/analisis-w/analisis-de-curious-expedition-51375/', 'https://www.revogamers.net/analisis-w/analisis-de-shinsekai-into-the-depths-51480/', 'https://www.revogamers.net/analisis-w/analisis-de-good-job-51313/', 'https://www.revogamers.net/analisis-w/analisis-de-cat-girl-without-salad-51355/', 'https://www.revogamers.net/analisis-w/analisis-de-panzer-dragoon-remake-51403/', 'https://www.revogamers.net/analisis-w/analisis-de-exit-the-gungeon-51132/', 'https://www.revogamers.net/analisis-w/analisis-one-piece-pirate-warriors-4-51223/', 'https://www.revogamers.net/analisis-w/analisis-de-la-mulana-1-2-51133/', 'https://www.revogamers.net/analisis-w/analisis-my-hero-ones-justice-2-50908/', 'https://www.revogamers.net/analisis-w/analisis-de-the-complex-51195/', 'https://www.revogamers.net/analisis-w/analisis-de-stela-51169/', 'https://www.revogamers.net/analisis-w/analisis-de-dead-or-school-50758/', 'https://www.revogamers.net/analisis-w/analisis-langrisser-ii-50952/', 'https://www.revogamers.net/analisis-w/analisis-de-reed-remastered-50453/', 'https://www.revogamers.net/analisis-w/analisis-de-underhero-50898/', 'https://www.revogamers.net/analisis-w/analisis-foxyland-2-50835/', 'https://www.revogamers.net/analisis-w/analisis-saints-row-iv-re-elected-50883/', 'https://www.revogamers.net/analisis-w/analisis-de-kemono-heroes-50447/', 'https://www.revogamers.net/analisis-w/analisis-de-mega-man-zero-zx-legacy-collection-2-50642/', 'https://www.revogamers.net/analisis-w/analisis-de-zero-zero-zero-zero-50449/', 'https://www.revogamers.net/analisis-w/analisis-de-bloodroots-50625/', 'https://www.revogamers.net/analisis-w/analisis-de-animal-crossing-new-horizons-50643/', 'https://www.revogamers.net/analisis-w/analisis-de-devil-may-cry-3-special-edition-50176/', 'https://www.revogamers.net/analisis-w/analisis-de-edgar-bokbok-in-boulzac-50125/', 'https://www.revogamers.net/analisis-w/analisis-de-metrolast-light-redux-50388/', 'https://www.revogamers.net/analisis-w/analisis-de-milos-quest-49649/', 'https://www.revogamers.net/analisis-w/analisis-de-soul-axiom-rebooted-50467/', 'https://www.revogamers.net/analisis-w/analisis-de-under-night-in-birth-50237/', 'https://www.revogamers.net/analisis-w/analisis-pokemon-mundo-misterioso-dx-50007/', 'https://www.revogamers.net/analisis-w/analisis-fire-emblem-three-houses-boca-del-lobo-49704/', 'https://www.revogamers.net/analisis-w/analisis-de-metro-2033-redux-50265/', 'https://www.revogamers.net/analisis-w/analisis-de-bridge-constructor-ultimate-edition-50020/', 'https://www.revogamers.net/analisis-w/analisis-de-vitamin-connection-50105/', 'https://www.revogamers.net/analisis-w/analisis-de-samurai-shodown-50017/', 'https://www.revogamers.net/analisis-w/analisis-de-darksiders-genesis-50023/', 'https://www.revogamers.net/analisis-w/analisis-de-two-point-hospital-49643/', 'https://www.revogamers.net/analisis-w/analisis-psikyo-shooting-stars-bravo-49918/', 'https://www.revogamers.net/analisis-w/analisis-de-warriors-orochi-4-ultimate-49637/', 'https://www.revogamers.net/analisis-w/analisis-de-kunai-49691/', 'https://www.revogamers.net/analisis-w/analisis-de-snack-worldde-mazmorra-mazmorraedicion-oro-49394/', 'https://www.revogamers.net/analisis-w/analisis-de-psikyo-shooting-stars-alpha-49527/', 'https://www.revogamers.net/analisis-w/analisis-de-self-49263/', 'https://www.revogamers.net/analisis-w/analisis-de-knights-and-bikes-49257/', 'https://www.revogamers.net/analisis-w/analisis-monster-energy-supercross-the-official-videogame-3-49377/', 'https://www.revogamers.net/analisis-w/analisis-de-lumini-49258/', 'https://www.revogamers.net/analisis-w/analisis-de-the-wonderful-101-wii-u-49294/', 'https://www.revogamers.net/noticias-w/general/analisis-de-ash-of-godsredemption-49137/', 'https://www.revogamers.net/analisis-w/merece-pena-fighter-pass-de-super-smash-brosultimate-49138/', 'https://www.revogamers.net/analisis-w/analisis-de-atelier-shalliealchemists-of-the-dusk-sea-dx-48774/', 'https://www.revogamers.net/analisis-w/analisis-de-willy-jetmanastromonkeys-revenge-48876/', 'https://www.revogamers.net/analisis-w/analisis-de-speaking-simulator-49056/', 'https://www.revogamers.net/analisis-w/analisis-de-atelier-escha-logyalchemists-of-the-dusk-sky-dx-48935/', 'https://www.revogamers.net/analisis-w/analisis-de-to-the-moon-48770/', 'https://www.revogamers.net/analisis-w/analisis-ao-tennis-2-48605/', 'https://www.revogamers.net/analisis-w/analisis-de-super-crush-ko-48428/', 'https://www.revogamers.net/analisis-w/analisis-de-tokyo-mirage-sessions-fe-encore-48470/', 'https://www.revogamers.net/analisis-w/analisis-de-atelier-ayeshathe-alchemist-of-dusk-dx-48433/', 'https://www.revogamers.net/analisis-w/analisis-de-delta-squad-48288/', 'https://www.revogamers.net/analisis-w/analisis-de-football-manager-2020-touch-48266/', 'https://www.revogamers.net/analisis-w/analisis-de-foxyland-48235/', 'https://www.revogamers.net/analisis-w/analisis-saga-scarlet-grace-ambitions-48029/', 'https://www.revogamers.net/analisis-w/analisis-de-shovel-knightking-of-cards-48089/', 'https://www.revogamers.net/analisis-w/brain-training-del-drkawashima-nintendo-switch-2-48052/', 'https://www.revogamers.net/analisis-w/hablemos-de-stay-con-galeria-unboxing-47931/', 'https://www.revogamers.net/analisis-w/analisis-de-shovel-knight-showdown-48046/', 'https://www.revogamers.net/analisis-w/analisis-de-deep-space-rush-47954/', 'https://www.revogamers.net/analisis-w/analisis-dead-end-job-47904/', 'https://www.revogamers.net/analisis-w/analisis-de-assassins-creed-the-rebel-collection-47881/', 'https://www.revogamers.net/analisis-w/analisis-superepic-entertainment-war-47794/', 'https://www.revogamers.net/analisis-w/analisis-de-monster-jam-steel-titans-47669/', 'https://www.revogamers.net/analisis-w/analisis-decay-of-logos-47632/', 'https://www.revogamers.net/analisis-w/analisis-de-simulacra-47150/', 'https://www.revogamers.net/analisis-w/analisis-wrc-8-fia-world-rally-championship-47605/', 'https://www.revogamers.net/analisis-w/analisis-alien-isolation-47389/', 'https://www.revogamers.net/analisis-w/analisis-de-farming-simulator-20-47199/', 'https://www.revogamers.net/analisis-w/analisis-de-zumba-burn-it-up-47196/', 'https://www.revogamers.net/analisis-w/analisis-de-earthnight-47421/', 'https://www.revogamers.net/analisis-w/analisis-de-sparklite-47324/', 'https://www.revogamers.net/analisis-w/analisis-de-bee-simulator-47366/', 'https://www.revogamers.net/analisis-w/analisis-de-new-super-luckys-tale-47259/', 'https://www.revogamers.net/analisis-w/analisis-de-electronic-super-joy-47193/', 'https://www.revogamers.net/analisis-w/analisis-de-overridemech-city-brawl-aesuper-charged-mega-edition-47187/', 'https://www.revogamers.net/analisis-w/analisis-de-mars-power-industries-47009/', 'https://www.revogamers.net/analisis-w/analisis-the-stretchers-46919/', 'https://www.revogamers.net/analisis-w/analisis-de-incredible-mandy-47118/', 'https://www.revogamers.net/analisis-w/analisis-baobabs-mausoleum-ep-3-pato-muertoburg-47091/', 'https://www.revogamers.net/analisis-w/analisis-just-dance-2020-47021/', 'https://www.revogamers.net/analisis-w/analisis-de-cat-quest-ii-46956/', 'https://www.revogamers.net/analisis-w/analisis-de-aeternoblade-ii-46723/', 'https://www.revogamers.net/analisis-w/analisis-de-disney-tsum-tsum-festival-46816/', 'https://www.revogamers.net/analisis-w/analisis-de-anthill-46812/', 'https://www.revogamers.net/analisis-w/analisis-pokemon-espada-escudo-46849/', 'https://www.revogamers.net/analisis-w/analisis-de-reventure-46726/', 'https://www.revogamers.net/analisis-w/analisis-dark-devotion-46764/', 'https://www.revogamers.net/analisis-w/analisis-de-lets-sing-12-46623/', 'https://www.revogamers.net/analisis-w/analisis-mario-sonic-juegos-olimpicos-de-tokyo-2020-46642/', 'https://www.revogamers.net/analisis-w/analisis-de-misterioso-viaje-de-laytonkatrielle-conspiracion-de-millonarios-deluxe-edition-46582/', 'https://www.revogamers.net/analisis-w/analisis-vampyr-46420/', 'https://www.revogamers.net/analisis-w/analisis-super-monkey-ball-banana-blitz-hd-46613/', 'https://www.revogamers.net/analisis-w/atelier-ryzaever-darkness-and-the-secret-hideout-2-46553/', 'https://www.revogamers.net/analisis-w/analisis-de-digimon-story-cyber-sleuthcomplete-edition-46454/', 'https://www.revogamers.net/analisis-w/analisis-de-tangle-tower-46047/', 'https://www.revogamers.net/analisis-w/analisis-de-distraint-deluxe-edition-46163/', 'https://www.revogamers.net/analisis-w/analisis-de-call-of-chtulhu-46308/', 'https://www.revogamers.net/analisis-w/analisis-de-destiny-connecttick-tock-travelers-46182/', 'https://www.revogamers.net/analisis-w/analisis-de-corpse-partyblood-drive-45688/', 'https://www.revogamers.net/analisis-w/analisis-horizon-chase-turbo-46338/', 'https://www.revogamers.net/analisis-w/analisis-de-luigis-mansion-3-46286/', 'https://www.revogamers.net/analisis-w/analisis-de-freedom-finger-46207/', 'https://www.revogamers.net/analisis-w/analisis-de-rabi-ribi-45673/', 'https://www.revogamers.net/analisis-w/analisis-de-doraemon-story-of-seasons-46083/', 'https://www.revogamers.net/analisis-w/analisis-disgaea-4-complete-45991/', 'https://www.revogamers.net/analisis-w/analisis-de-trine-4the-nightmare-prince-46061/', 'https://www.revogamers.net/analisis-w/analisis-de-yu-nogirl-who-chants-love-at-the-bound-of-this-world-46036/', 'https://www.revogamers.net/analisis-w/analisis-de-button-button-up-45453/', 'https://www.revogamers.net/analisis-w/analisis-de-overwatch-legendary-edition-45880/', 'https://www.revogamers.net/analisis-w/analisis-de-rebel-cops-45438/', 'https://www.revogamers.net/analisis-w/analisis-de-little-town-hero-45668/', 'https://www.revogamers.net/analisis-w/analisis-de-fightn-rage-45380/', 'https://www.revogamers.net/analisis-w/analisis-de-80-days-45264/', 'https://www.revogamers.net/analisis-w/analisis-ring-fit-adventure-45885/', 'https://www.revogamers.net/analisis-w/analisis-contra-rogue-corps-45854/', 'https://www.revogamers.net/analisis-w/analisis-de-yooka-laylee-and-the-impossible-lair-45645/', 'https://www.revogamers.net/analisis-w/analisis-de-paper-dolls-original-45229/', 'https://www.revogamers.net/analisis-w/analisis-de-the-witcher-3wild-hunt-45520/', 'https://www.revogamers.net/analisis-w/the-alliance-alive-hd-remastered-2-45609/', 'https://www.revogamers.net/analisis-w/analisis-sniper-elite-iii-ultimate-edition-45567/', 'https://www.revogamers.net/analisis-w/analisis-de-untitled-goose-game-45226/', 'https://www.revogamers.net/analisis-w/mega-drive-mini-resena-45442/', 'https://www.revogamers.net/analisis-w/analisis-de-candleman-44936/', 'https://www.revogamers.net/analisis-w/analisis-de-vambracecold-soul-45220/', 'https://www.revogamers.net/analisis-w/analisis-lego-jurassic-world-45404/', 'https://www.revogamers.net/analisis-w/analisis-de-the-legend-of-the-skyfish-44952/', 'https://www.revogamers.net/analisis-w/analisis-de-dead-by-daylight-45218/', 'https://www.revogamers.net/analisis-w/analisis-de-mr-blaster-45042/', 'https://www.revogamers.net/analisis-w/analisis-deadly-premonition-origins-45290/', 'https://www.revogamers.net/analisis-w/analisis-de-ori-and-the-blind-forest-definitive-edition-44988/', 'https://www.revogamers.net/analisis-w/analisis-de-darksiders-iideathinitive-edition-45120/', 'https://www.revogamers.net/analisis-w/analisis-amnesia-collection-44763/', 'https://www.revogamers.net/analisis-w/analisis-de-omen-exitio-plague-44946/', 'https://www.revogamers.net/analisis-w/analisis-de-the-ninja-saviors-44930/', 'https://www.revogamers.net/analisis-w/analisis-de-the-sinking-city-45107/', 'https://www.revogamers.net/analisis-w/analisis-de-ni-no-kuni-44887/', 'https://www.revogamers.net/analisis-w/analisis-de-dragon-quest-xi-s-44725/', 'https://www.revogamers.net/analisis-w/analisis-de-star-wars-pinball-44924/', 'https://www.revogamers.net/analisis-w/analisis-de-himno-44856/', 'https://www.revogamers.net/analisis-w/analisis-de-gravity-duck-44536/', 'https://www.revogamers.net/analisis-w/analisis-de-the-legend-of-zeldalinks-awakening-44666/', 'https://www.revogamers.net/analisis-w/analisis-de-heave-ho-44541/', 'https://www.revogamers.net/analisis-w/analisis-de-hoggy2-43864/', 'https://www.revogamers.net/analisis-w/analisis-de-remotheredtormented-fathers-44752/', 'https://www.revogamers.net/analisis-w/analisis-de-mekabolt-44268/', 'https://www.revogamers.net/analisis-w/analisis-de-final-fantasy-viii-remastered-44300/', 'https://www.revogamers.net/analisis-w/analisis-de-sagebrush-43852/', 'https://www.revogamers.net/analisis-w/analisis-de-torchlight-ii-44660/', 'https://www.revogamers.net/analisis-w/analisis-de-ellen-43618/', 'https://www.revogamers.net/analisis-w/analisis-de-river-city-girls-44167/', 'https://www.revogamers.net/analisis-w/analisis-daemon-x-machina-44617/', 'https://www.revogamers.net/analisis-w/analisis-rad-44503/', 'https://www.revogamers.net/analisis-w/analisis-de-tap-skaters-43859/', 'https://www.revogamers.net/analisis-w/analisis-blasphemous-44161/', 'https://www.revogamers.net/analisis-w/analisis-de-creature-in-the-well-44475/', 'https://www.revogamers.net/analisis-w/analisis-de-yu-gi-ohlegacy-of-the-duelist-44101/', 'https://www.revogamers.net/analisis-w/analisis-de-snooker-19-44377/', 'https://www.revogamers.net/analisis-w/analisis-de-grave-keeper-44187/', 'https://www.revogamers.net/analisis-w/analisis-de-superhot-43955/', 'https://www.revogamers.net/analisis-w/analisis-super-mega-baseball-2-ultimate-edition-44149/', 'https://www.revogamers.net/analisis-w/analisis-de-pix-the-cat-43606/', 'https://www.revogamers.net/analisis-w/analisis-de-doughlings-invasion-43775/', 'https://www.revogamers.net/analisis-w/analisis-de-bear-with-methe-complete-collection-43936/', 'https://www.revogamers.net/analisis-w/analisis-de-mochi-mochi-boy-43612/', 'https://www.revogamers.net/analisis-w/analisis-de-sword-art-onlinefatal-bullet-complete-edition-43832/', 'https://www.revogamers.net/analisis-w/analisis-de-astral-chain-43867/', 'https://www.revogamers.net/analisis-w/analisis-de-doom-ii-clasico-43629/', 'https://www.revogamers.net/analisis-w/analisis-de-oninaki-43660/', 'https://www.revogamers.net/analisis-w/analisis-de-terrorhythm-trrt-43794/', 'https://www.revogamers.net/analisis-w/analisis-de-doom-1993-43624/', 'https://www.revogamers.net/analisis-w/analisis-de-woodle-tree-2-deluxe-43118/', 'https://www.revogamers.net/analisis-w/analisis-de-trine-3the-artifacts-of-power-43643/', 'https://www.revogamers.net/analisis-w/analisis-de-bloodstained-ritual-of-the-night-43556/', 'https://www.revogamers.net/analisis-w/analisis-mutant-year-zero-road-to-eden-deluxe-edition-43165/', 'https://www.revogamers.net/analisis-w/analisis-de-gunpowder-on-the-teetharcarde-43040/', 'https://www.revogamers.net/analisis-w/analisis-de-paradox-soul-43121/', 'https://www.revogamers.net/analisis-w/analisis-de-doom-3-43382/', 'https://www.revogamers.net/analisis-w/analisis-de-soloislands-of-the-heart-43316/', 'https://www.revogamers.net/analisis-w/analisis-pillars-of-eternity-edicion-completa-43230/', 'https://www.revogamers.net/analisis-w/analisis-de-fantasy-strike-43115/', 'https://www.revogamers.net/analisis-w/analisis-de-warlocks-tower-42429/', 'https://www.revogamers.net/analisis-w/analisis-zombie-driver-immortal-edition-43335/', 'https://www.revogamers.net/analisis-w/analisis-de-bouncy-bullets-42970/', 'https://www.revogamers.net/analisis-w/analisis-de-wolfenstein-youngblood-43246/', 'https://www.revogamers.net/analisis-w/analisis-de-hamsterdam-43103/', 'https://www.revogamers.net/analisis-w/analisis-de-mighty-switch-forcecollection-43106/', 'https://www.revogamers.net/analisis-w/analisis-de-attack-of-the-tank-toys-43021/', 'https://www.revogamers.net/analisis-w/analisis-de-pawarumi-42996/', 'https://www.revogamers.net/analisis-w/analisis-de-redeemerenhanced-edition-42997/', 'https://www.revogamers.net/analisis-w/analisis-de-lost-orbitterminal-velocity-42993/', 'https://www.revogamers.net/analisis-w/analisis-de-songbird-symphony-42919/', 'https://www.revogamers.net/analisis-w/analisis-fire-emblem-three-houses-42407/', 'https://www.revogamers.net/analisis-w/analisis-de-blazing-chrome-42603/', 'https://www.revogamers.net/analisis-w/analisis-de-solseraph-42423/', 'https://www.revogamers.net/analisis-w/analisis-de-motogp-19-42813/', 'https://www.revogamers.net/analisis-w/analisis-de-citizens-of-space-42784/', 'https://www.revogamers.net/analisis-w/analisis-cybarian-42540/', 'https://www.revogamers.net/analisis-w/analisis-de-god-eater-3-42221/', 'https://www.revogamers.net/analisis-w/analisis-de-q-yo-blaster-42621/', 'https://www.revogamers.net/analisis-w/analisis-de-marvel-ultimate-alliance-3the-black-order-42360/', 'https://www.revogamers.net/analisis-w/analisis-de-etherborn-42377/', 'https://www.revogamers.net/analisis-w/analisis-de-sega-ages-virtua-racing-42450/', 'https://www.revogamers.net/analisis-w/analisis-de-aot2-final-battle-42224/', 'https://www.revogamers.net/analisis-w/analisis-de-secret-files-2-42364/', 'https://www.revogamers.net/analisis-w/analisis-de-red-faction-guerrilla-re-mars-tered-42276/', 'https://www.revogamers.net/analisis-w/analisis-de-senran-kagura-peach-ball-42387/', 'https://www.revogamers.net/analisis-w/analisis-de-professor-lupo-and-his-horrible-pets-42299/', 'https://www.revogamers.net/analisis-w/analisis-de-nelly-cootalot-the-fowl-fleet-41797/', 'https://www.revogamers.net/analisis-w/analisis-dragon-quest-builders-2-42105/', 'https://www.revogamers.net/analisis-w/analisis-irony-curtain-41872/', 'https://www.revogamers.net/analisis-w/analisis-de-super-neptunia-rpg-41631/', 'https://www.revogamers.net/analisis-w/analisis-de-wonder-boy-in-monster-land-sega-ages-41803/', 'https://www.revogamers.net/analisis-w/analisis-de-battle-worlds-kronos-41403/', 'https://www.revogamers.net/analisis-w/analisis-de-mainlining-41800/', 'https://www.revogamers.net/analisis-w/analisis-de-contra-anniversary-collection-41976/', 'https://www.revogamers.net/analisis-w/analisis-de-devious-dungeon-2-41926/', 'https://www.revogamers.net/analisis-w/analisis-de-the-last-remnant-remastered-41832/', 'https://www.revogamers.net/analisis-w/analisis-de-super-skelemania-41628/', 'https://www.revogamers.net/analisis-w/analisis-baobabs-mausoleum-1313-barnabas-dead-end-drive-41659/', 'https://www.revogamers.net/analisis-w/analisis-de-phantom-doctrine-41649/', 'https://www.revogamers.net/analisis-w/analisis-de-super-mario-maker-2-41461/', 'https://www.revogamers.net/analisis-w/analisis-de-leisure-suit-larrywet-dreams-dont-dry-41477/', 'https://www.revogamers.net/analisis-w/analisis-de-crash-team-racing-nitro-fueled-41576/', 'https://www.revogamers.net/analisis-w/analisis-de-collection-of-mana-41537/', 'https://www.revogamers.net/analisis-w/analisis-de-my-friend-pedro-41458/', 'https://www.revogamers.net/analisis-w/analisis-de-super-tennis-blast-41392/', 'https://www.revogamers.net/analisis-w/analisis-de-gato-roboto-41414/', 'https://www.revogamers.net/analisis-w/analisis-de-pixark-41362/', 'https://www.revogamers.net/analisis-w/analisis-de-hue-40707/', 'https://www.revogamers.net/analisis-w/analisis-de-back-in-1995-41298/', 'https://www.revogamers.net/analisis-w/analisis-de-guilty-gear-20th-anniversary-pack-41344/', 'https://www.revogamers.net/analisis-w/analisis-de-my-big-sister-41139/', 'https://www.revogamers.net/analisis-w/analisis-cadence-of-hyrule-41216/', 'https://www.revogamers.net/analisis-w/analisis-de-chime-sharp-40719/', 'https://www.revogamers.net/analisis-w/analisis-de-kotodamathe-7-mysteries-of-fujisawa-40194/', 'https://www.revogamers.net/analisis-w/analisis-de-super-cane-magic-zero-40716/', 'https://www.revogamers.net/analisis-w/analisis-de-brotherstale-of-two-sons-40627/', 'https://www.revogamers.net/analisis-w/analisis-de-darkwood-40859/', 'https://www.revogamers.net/analisis-w/analisis-de-persona-q2new-cinema-labyrinth-40610/', 'https://www.revogamers.net/analisis-w/analisis-de-aterlier-luluathe-scion-of-arland-40656/', 'https://www.revogamers.net/analisis-w/analisis-de-bird-game-40192/', 'https://www.revogamers.net/analisis-w/analisis-de-the-last-door-40189/', 'https://www.revogamers.net/analisis-w/analisis-de-resident-evil-hd-remastered-40332/', 'https://www.revogamers.net/analisis-w/analisis-de-rock-of-ages-ii-bigger-boulder-40563/', 'https://www.revogamers.net/analisis-w/analisis-de-assasins-creed-iii-remastered-40325/', 'https://www.revogamers.net/analisis-w/analisis-de-crystal-crisis-40179/', 'https://www.revogamers.net/analisis-w/analisis-de-resident-evil-0-40251/', 'https://www.revogamers.net/analisis-w/analisis-de-team-sonic-racing-40377/', 'https://www.revogamers.net/analisis-w/analisis-de-thief-simulator-40176/', 'https://www.revogamers.net/analisis-w/analisis-de-resident-evil-4-39861/', 'https://www.revogamers.net/analisis-w/analisis-de-blades-of-time-40173/', 'https://www.revogamers.net/analisis-w/analisis-de-puyo-puyo-champions-40120/', 'https://www.revogamers.net/analisis-w/analisis-de-castlevania-anniversary-collection-40001/', 'https://www.revogamers.net/analisis-w/analisis-redout-39845/', 'https://www.revogamers.net/analisis-w/analisis-de-saints-rowthe-third-the-full-package-40024/', 'https://www.revogamers.net/analisis-w/analisis-de-strike-suit-zero-directors-cut-39910/', 'https://www.revogamers.net/analisis-w/analisis-de-venture-kid-39743/', 'https://www.revogamers.net/analisis-w/analisis-de-zeroptian-invasion-39740/', 'https://www.revogamers.net/analisis-w/analisis-shakedown-hawaii-39574/', 'https://www.revogamers.net/analisis-w/analisis-de-our-world-is-ended-39774/', 'https://www.revogamers.net/analisis-w/analisis-de-iron-snout-39337/', 'https://www.revogamers.net/analisis-w/analisis-de-arcade-classics-anniversary-collection-39334/', 'https://www.revogamers.net/analisis-w/analisis-de-theatre-tales-39331/', 'https://www.revogamers.net/analisis-w/analisis-de-final-fantasy-xii-the-zodiac-age-39330/', 'https://www.revogamers.net/analisis-w/analisis-de-super-weekend-mode-39327/', 'https://www.revogamers.net/analisis-w/analisis-mortal-kombat-11-39505/', 'https://www.revogamers.net/analisis-w/analisis-de-masqueradasongs-and-shadows-39364/', 'https://www.revogamers.net/analisis-w/analisis-de-table-top-racing-38832/', 'https://www.revogamers.net/analisis-w/analisis-giga-wrecker-alt-39386/', 'https://www.revogamers.net/analisis-w/analisis-de-the-swords-of-ditto-39277/', 'https://www.revogamers.net/analisis-w/analisis-snow-battle-princess-sayuki-39231/', 'https://www.revogamers.net/analisis-w/analisis-de-va-11-hall-a-38835/', 'https://www.revogamers.net/analisis-w/analisis-de-final-fantasy-x-2-hd-remaster-38789/', 'https://www.revogamers.net/analisis-w/analisis-dragons-dogma-39038/', 'https://www.revogamers.net/analisis-w/analisis-de-warparty-38506/', 'https://www.revogamers.net/analisis-w/analisis-de-godly-corp-38532/', 'https://www.revogamers.net/analisis-w/analisis-de-boxboy-boxgirl-38884/', 'https://www.revogamers.net/analisis-w/analisis-de-lost-kings-lullaby-38971/', 'https://www.revogamers.net/analisis-w/analisis-kickers-league-38814/', 'https://www.revogamers.net/analisis-w/analisis-de-path-to-mnemosyne-38799/', 'https://www.revogamers.net/analisis-w/analisis-de-steamworld-questhand-of-gilgamech-38786/', 'https://www.revogamers.net/analisis-w/analisis-de-bow-to-bloodlast-captain-standing-38860/', 'https://www.revogamers.net/analisis-w/analisis-de-katana-zero-38503/', 'https://www.revogamers.net/analisis-w/analisis-de-youtubers-life-omg-edition-38500/', 'https://www.revogamers.net/analisis-w/analisis-de-metagal-38535/', 'https://www.revogamers.net/analisis-w/analisis-de-cuphead-38367/', 'https://www.revogamers.net/analisis-w/analisis-de-peasant-knight-38497/', 'https://www.revogamers.net/analisis-w/analisis-de-the-friends-of-ringo-ishikawa-38558/', 'https://www.revogamers.net/analisis-w/analisis-de-devil-engine-38494/', 'https://www.revogamers.net/analisis-w/analisis-de-truberbrook-2-37882/', 'https://www.revogamers.net/analisis-w/analisis-de-phoenix-wrightace-attorney-trilogy-38518/', 'https://www.revogamers.net/analisis-w/analisis-de-final-fantasy-vii-37875/', 'https://www.revogamers.net/analisis-w/analisis-de-mechstermination-force-37878/', 'https://www.revogamers.net/analisis-w/analisis-de-hob-the-definitive-edition-38368/', 'https://www.revogamers.net/analisis-w/analisis-de-blaster-master-zero-2-38200/', 'https://www.revogamers.net/analisis-w/analisis-de-xenon-racer-38322/', 'https://www.revogamers.net/analisis-w/analisis-de-the-princess-guide-38289/', 'https://www.revogamers.net/analisis-w/analisis-de-sega-ages-alex-kidd-in-miracle-world-38267/', 'https://www.revogamers.net/analisis-w/analisis-de-chocobos-mystery-dungeonevery-buddy-38099/', 'https://www.revogamers.net/analisis-w/analisis-de-nelke-the-legendary-alchemists-37871/', 'https://www.revogamers.net/analisis-w/analisis-de-braveland-trilogy-37918/', 'https://www.revogamers.net/analisis-w/analisis-de-croixleur-sigma-37575/', 'https://www.revogamers.net/analisis-w/analisis-unravel-two-37667/', 'https://www.revogamers.net/analisis-w/analisis-de-darksiderswarmastered-edition-37959/', 'https://www.revogamers.net/analisis-w/analisis-de-degrees-of-separation-37903/', 'https://www.revogamers.net/analisis-w/analisis-de-little-shopping-37250/', 'https://www.revogamers.net/analisis-w/dungeons-aliens-2-37578/', 'https://www.revogamers.net/analisis-w/analisis-yoshis-crafted-world-37524/', 'https://www.revogamers.net/analisis-w/analisis-de-claybook-37251/', 'https://www.revogamers.net/analisis-w/analisis-de-the-red-strings-club-37277/', 'https://www.revogamers.net/analisis-w/analisis-de-baba-is-you-37163/', 'https://www.revogamers.net/analisis-w/analisis-de-rico-37260/', 'https://www.revogamers.net/analisis-w/casi-llegamos-plataformas-2-37166/', 'https://www.revogamers.net/analisis-w/analisis-fate-extella-link-37310/', 'https://www.revogamers.net/analisis-w/analisis-de-ape-out-37176/', 'https://www.revogamers.net/analisis-w/swords-soldiers-ii-shawarmageddon-36486/', 'https://www.revogamers.net/analisis-w/analisis-de-daggerhood-37208/', 'https://www.revogamers.net/analisis-w/odallus-36143/', 'https://www.revogamers.net/analisis-w/analisis-de-nice-slice-37104/', 'https://www.revogamers.net/analisis-w/analisis-de-access-denied-37089/', 'https://www.revogamers.net/analisis-w/analisis-de-trials-rising-36344/', 'https://www.revogamers.net/analisis-w/analisis-de-onikenunstoppable-edition-37003/', 'https://www.revogamers.net/analisis-w/analisis-de-the-caligula-effectoverdose-36945/', 'https://www.revogamers.net/analisis-w/analisis-de-steinsgate-elite-36887/', 'https://www.revogamers.net/analisis-w/rad-rodgers-radical-edition-36436/', 'https://www.revogamers.net/analisis-w/analisis-remilore-36491/', 'https://www.revogamers.net/analisis-w/analisis-x-morph-defense-36062/', 'https://www.revogamers.net/analisis-w/analisis-de-pet-care-guess-the-word-36796/', 'https://www.revogamers.net/analisis-w/yume-nikki-36018/', 'https://www.revogamers.net/analisis-w/analisis-de-trine-2complete-story-36543/', 'https://www.revogamers.net/analisis-w/evoland-legendary-edition-2-35659/', 'https://www.revogamers.net/analisis-w/mas-kirby-reino-de-hilos-36588/', 'https://www.revogamers.net/analisis-w/analisis-de-dragon-marked-for-death-36373/', 'https://www.revogamers.net/analisis-w/analisis-de-pumped-bmx-pro-36586/', 'https://www.revogamers.net/analisis-w/avenger-bird-2-35256/', 'https://www.revogamers.net/analisis-w/analisis-de-toejam-earlback-in-the-groove-35525/', 'https://www.revogamers.net/analisis-w/analisis-de-the-kings-bird-36013/', 'https://www.revogamers.net/analisis-w/analisis-de-heroes-trials-36198/', 'https://www.revogamers.net/analisis-w/analisis-dethe-shrouded-isle-36273/', 'https://www.revogamers.net/analisis-w/final-fantasy-ix-2-36016/', 'https://www.revogamers.net/analisis-w/hyperide-2-35259/', 'https://www.revogamers.net/analisis-w/analisis-de-observer-35985/', 'https://www.revogamers.net/analisis-w/analisis-de-tangledeep-36079/', 'https://www.revogamers.net/analisis-w/piczle-colors-2-35577/', 'https://www.revogamers.net/analisis-w/analisis-when-ski-lifts-go-worng-36156/', 'https://www.revogamers.net/analisis-w/analisis-de-swords-soldiers-36038/', 'https://www.revogamers.net/analisis-w/stunt-kite-party-2-35266/', 'https://www.revogamers.net/analisis-w/glass-masquerade-2-35262/', 'https://www.revogamers.net/analisis-w/city-of-brass-2-35253/', 'https://www.revogamers.net/analisis-w/analisis-de-out-of-the-box-35925/', 'https://www.revogamers.net/analisis-w/analisis-de-fishing-universe-simulator-35901/', 'https://www.revogamers.net/analisis-w/my-memory-of-us-35479/', 'https://www.revogamers.net/analisis-w/analisis-de-aragami-shadow-edition-35678/', 'https://www.revogamers.net/analisis-w/analisis-de-olliolli-switch-stance-35126/', 'https://www.revogamers.net/analisis-w/analisis-de-the-liar-princess-and-the-blind-prince-35405/', 'https://www.revogamers.net/analisis-w/analisis-de-unruly-heroes-35518/', 'https://www.revogamers.net/analisis-w/analisis-de-blazblue-centralfiction-special-edition-35422/', 'https://www.revogamers.net/analisis-w/bad-dream-coma-2-35009/', 'https://www.revogamers.net/analisis-w/book-of-unwritten-tales-2-34970/', 'https://www.revogamers.net/analisis-w/analisis-de-etrian-odyssey-nexus-35174/', 'https://www.revogamers.net/analisis-w/downwell-2-34996/', 'https://www.revogamers.net/analisis-w/ihugu-2-34976/', 'https://www.revogamers.net/analisis-w/analisis-de-bleep-bloop-34954/', 'https://www.revogamers.net/analisis-w/analisis-the-raven-remastered-34910/', 'https://www.revogamers.net/analisis-w/futuregrind-2-34678/', 'https://www.revogamers.net/analisis-w/analisis-de-jackquestthe-tale-of-the-sword-34499/', 'https://www.revogamers.net/noticias-w/nintendo-switch/analisis-de-legrand-legracy-34922/', 'https://www.revogamers.net/analisis-w/at-sundown-shots-in-the-dark-34670/', 'https://www.revogamers.net/analisis-w/pikuniku-2-34668/', 'https://www.revogamers.net/analisis-w/analisis-sphinx-maldita-momia-34891/', 'https://www.revogamers.net/analisis-w/fairy-fencer-f-advent-dark-force-34674/', 'https://www.revogamers.net/analisis-w/mario-luigi-bowser-34428/', 'https://www.revogamers.net/analisis-w/clock-simulator-34484/', 'https://www.revogamers.net/analisis-w/analisis-de-maldita-castilla-ex-34469/', 'https://www.revogamers.net/analisis-w/pang-adventures-34473/', 'https://www.revogamers.net/analisis-w/momodora-reverie-34468/', 'https://www.revogamers.net/analisis-w/forgotton-anne-34462/', 'https://www.revogamers.net/analisis-w/super-volley-blast-34455/', 'https://www.revogamers.net/analisis-w/analisis-de-clouds-sheep-2-34447/', 'https://www.revogamers.net/analisis-w/hopiko-34197/', 'https://www.revogamers.net/analisis-w/analisis-travis-strikes-again-no-more-heroes-34298/', 'https://www.revogamers.net/analisis-w/analisis-de-yiikpostmodern-rpg-33850/', 'https://www.revogamers.net/analisis-w/analisis-de-onimushawarlords-34232/', 'https://www.revogamers.net/noticias-w/general/analisis-de-mages-of-mystralia-33938/', 'https://www.revogamers.net/analisis-w/analisis-de-atari-flashback-classics-34178/', 'https://www.revogamers.net/analisis-w/analisis-de-sheltered-33999/', 'https://www.revogamers.net/analisis-w/analisis-de-double-cross-33405/', 'https://www.revogamers.net/analisis-w/analisis-the-adventure-pals-33812/', 'https://www.revogamers.net/analisis-w/analisis-de-new-super-mario-brosdeluxe-34092/', 'https://www.revogamers.net/analisis-w/analisis-de-tales-of-vesperiadefinitive-edition-33848/', 'https://www.revogamers.net/analisis-w/analisis-de-nippon-marathon-33682/', 'https://www.revogamers.net/analisis-w/analisis-de-cabelas-the-hunt-championship-edition-34019/', 'https://www.revogamers.net/analisis-w/analisis-de-battle-princess-madelyn-32676/', 'https://www.revogamers.net/analisis-w/analisis-de-jcb-pioneermars-33948/', 'https://www.revogamers.net/analisis-w/instant-tennis-33656/', 'https://www.revogamers.net/analisis-w/rain-world-33878/', 'https://www.revogamers.net/analisis-w/analisis-de-crimson-keep-33649/', 'https://www.revogamers.net/analisis-w/katamari-damacy-reroll-33786/', 'https://www.revogamers.net/analisis-w/shadow-of-loot-box-33427/', 'https://www.revogamers.net/analisis-w/analisis-de-v-rally-4-33699/', 'https://www.revogamers.net/analisis-w/fitness-boxing-33641/', 'https://www.revogamers.net/analisis-w/hyperide-vr-33433/', 'https://www.revogamers.net/analisis-w/analisis-bass-pro-shops-the-strike-championship-edition-33562/', 'https://www.revogamers.net/analisis-w/analisis-de-asterix-obelix-xxl-2-33506/', 'https://www.revogamers.net/analisis-w/razed-33430/', 'https://www.revogamers.net/analisis-w/analisis-de-kingdom-two-crowns-33153/', 'https://www.revogamers.net/analisis-w/analisis-de-ark-33424/', 'https://www.revogamers.net/analisis-w/analisis-de-hunters-legacypurrfect-edition-33469/', 'https://www.revogamers.net/analisis-w/sunderedeldritch-edition-33389/', 'https://www.revogamers.net/analisis-w/analisis-de-omensightdefinitive-edition-33328/', 'https://www.revogamers.net/analisis-w/gensokyodefenders-32625/', 'https://www.revogamers.net/analisis-w/analisis-de-football-manager-2019-touch-33203/', 'https://www.revogamers.net/analisis-w/analisis-monster-boy-reino-maldito-33037/', 'https://www.revogamers.net/analisis-w/analisis-de-everspace-33088/', 'https://www.revogamers.net/analisis-w/analisis-abzu-33100/', 'https://www.revogamers.net/analisis-w/analisis-spintires-mudrunner-american-wilds-33064/', 'https://www.revogamers.net/analisis-w/gris-32619/', 'https://www.revogamers.net/analisis-w/analisis-de-mother-russia-bleeds-32694/', 'https://www.revogamers.net/analisis-w/party-hard-32622/', 'https://www.revogamers.net/analisis-w/analisis-de-am-the-hero-32418/', 'https://www.revogamers.net/analisis-w/analisis-de-guacamelee-2-32643/', 'https://www.revogamers.net/analisis-w/reanalisis-deemo-nintendo-switch-32633/', 'https://www.revogamers.net/analisis-w/super-smash-bros-ultimate-31814/', 'https://www.revogamers.net/analisis-w/analisis-de-storm-boy-32056/', 'https://www.revogamers.net/analisis-w/analisis-de-sega-megadrive-classic-32244/', 'https://www.revogamers.net/analisis-w/analisis-de-yo-kai-watch-3-32223/', 'https://www.revogamers.net/analisis-w/analisis-de-a-gummys-life-eshop-switch-32368/', 'https://www.revogamers.net/analisis-w/analisis-de-nairi-31802/', 'https://www.revogamers.net/analisis-w/analisis-de-nickelodeon-kart-racers-32115/', 'https://www.revogamers.net/analisis-w/analisis-de-townsmen-31810/', 'https://www.revogamers.net/analisis-w/analisis-de-full-metal-furies-31927/', 'https://www.revogamers.net/analisis-w/analisis-de-swap-this-31807/', 'https://www.revogamers.net/analisis-w/analisis-de-sports-party-32005/', 'https://www.revogamers.net/analisis-w/analisis-de-super-hydorah-31631/', 'https://www.revogamers.net/analisis-w/world-of-final-fantasy-31493/', 'https://www.revogamers.net/analisis-w/analisis-de-the-bug-butcher-31784/', 'https://www.revogamers.net/analisis-w/analisis-de-astebreed-31773/', 'https://www.revogamers.net/analisis-w/the-shapeshifting-detective-31496/', 'https://www.revogamers.net/analisis-w/analisis-de-rage-in-peace-31504/', 'https://www.revogamers.net/analisis-w/ms-splosion-man-31502/', 'https://www.revogamers.net/analisis-w/battle-group-2-31499/', 'https://www.revogamers.net/analisis-w/analisis-valiant-hearts-the-great-war-31354/', 'https://www.revogamers.net/analisis-w/analisis-de-trine-enchanted-edition-31231/', 'https://www.revogamers.net/analisis-w/analisis-the-walking-vegetables-radical-edition-30994/', 'https://www.revogamers.net/analisis-w/chicken-range-2-31522/', 'https://www.revogamers.net/analisis-w/analisis-de-pilot-sports-31403/', 'https://www.revogamers.net/analisis-w/project-highrise-31328/', 'https://www.revogamers.net/analisis-w/miniguiacomo-iniciales-de-kanto-31384/', 'https://www.revogamers.net/analisis-w/analisis-de-pokaball-plus-31369/', 'https://www.revogamers.net/analisis-w/hasbro-game-night-27589/', 'https://www.revogamers.net/analisis-w/analisis-de-taiko-no-tatsujindrum-n-fun-31045/', 'https://www.revogamers.net/analisis-w/analisis-pokemonlets-go-31078/', 'https://www.revogamers.net/analisis-w/moonlighter-31162/', 'https://www.revogamers.net/analisis-w/analisis-de-windjammers-28883/', 'https://www.revogamers.net/analisis-w/lets-sing-11-31012/', 'https://www.revogamers.net/analisis-w/analisis-de-yomawarithe-long-night-collection-31072/', 'https://www.revogamers.net/analisis-w/analisis-de-tied-together-27592/', 'https://www.revogamers.net/analisis-w/mechanika-27586/', 'https://www.revogamers.net/analisis-w/analisis-de-rogue-legacy-30714/', 'https://www.revogamers.net/analisis-w/analisis-de-lego-dc-super-villanos-30823/', 'https://www.revogamers.net/analisis-w/analisis-de-deru-the-art-of-cooperation-27583/', 'https://www.revogamers.net/analisis-w/will-wonderful-world-2-27580/', 'https://www.revogamers.net/analisis-w/analisis-de-just-dance-2019-28878/', 'https://www.revogamers.net/analisis-w/analisis-de-my-heros-one-justice-28885/', 'https://www.revogamers.net/analisis-w/analisis-de-diablo-iiieternal-collection-28934/', 'https://www.revogamers.net/analisis-w/analisis-gal-metal-eshop-switch-28301/', 'https://www.revogamers.net/analisis-w/valkyria-chronicles-27118/', 'https://www.revogamers.net/analisis-w/vertical-drop-heroes-hd-27011/', 'https://www.revogamers.net/analisis-w/valthirian-arc-26644/', 'https://www.revogamers.net/analisis-w/transistor-27002/', 'https://www.revogamers.net/analisis-w/joggernauts-26633/', 'https://www.revogamers.net/analisis-w/save-me-mr-takotasukete-tako-san-27290/', 'https://www.revogamers.net/analisis-w/7-billion-humans-26631/', 'https://www.revogamers.net/analisis-w/warriors-orochi-4-26622/', 'https://www.revogamers.net/analisis-w/guacamelee-stce-26256/', 'https://www.revogamers.net/analisis-w/little-dragons-cafe-27042/', 'https://www.revogamers.net/analisis-w/analisisi-this-police-ii-eshop-switch-27021/', 'https://www.revogamers.net/analisis-w/analisis-the-room-26740/', 'https://www.revogamers.net/analisis-w/magicat-26074/', 'https://www.revogamers.net/analisis-w/analisis-jack-jill-eshop-switch-26967/', 'https://www.revogamers.net/analisis-w/eternum-ex-26075/', 'https://www.revogamers.net/analisis-w/mark-of-the-ninjaremastered-26580/', 'https://www.revogamers.net/analisis-w/rise-shine-26327/', 'https://www.revogamers.net/analisis-w/super-hyperactive-ninja-26596/', 'https://www.revogamers.net/analisis-w/giana-sisterstwisted-dreamsowltimate-edition-26473/', 'https://www.revogamers.net/analisis-w/the-spectrum-retreat-26492/', 'https://www.revogamers.net/analisis-w/dark-soulsremastered-26336/', 'https://www.revogamers.net/analisis-w/namco-museum-pac-26254/', 'https://www.revogamers.net/analisis-w/luigis-mansion-26434/', 'https://www.revogamers.net/analisis-w/child-of-light-ue-26111/', 'https://www.revogamers.net/analisis-w/time-carnage-26036/', 'https://www.revogamers.net/analisis-w/sinnersacrifice-for-redemption-26303/', 'https://www.revogamers.net/analisis-w/tobythe-secret-mine-2-26309/', 'https://www.revogamers.net/analisis-w/analisisi-starlink-battle-for-atlas-26357/', 'https://www.revogamers.net/analisis-w/the-world-ends-with-youfinal-remix-26290/', 'https://www.revogamers.net/analisis-w/my-brother-rabbit-26094/', 'https://www.revogamers.net/analisis-w/tricky-towers-26179/', 'https://www.revogamers.net/analisis-w/scribblenauts-mega-pack-25746/', 'https://www.revogamers.net/analisis-w/in-between-25872/', 'https://www.revogamers.net/analisis-w/stay-26207/', 'https://www.revogamers.net/analisis-w/south-parkvara-de-26099/', 'https://www.revogamers.net/analisis-w/hover-analisis-eshop-switch-26055/', 'https://www.revogamers.net/analisis-w/fullblast-25559/', 'https://www.revogamers.net/analisis-w/debris-infinity-25845/', 'https://www.revogamers.net/analisis-w/dragon-ball-fighterz-25747/', 'https://www.revogamers.net/analisis-w/labyrithn-of-refrain-25749/', 'https://www.revogamers.net/analisis-w/super-mario-party-25736/', 'https://www.revogamers.net/analisis-w/capcom-beatem-up-bundle-25778/', 'https://www.revogamers.net/analisis-w/fifa-19-25790/', 'https://www.revogamers.net/analisis-w/disgaea-1-complete-25809/', 'https://www.revogamers.net/analisis-w/mega-man-11-25748/', 'https://www.revogamers.net/analisis-w/wasteland-2directors-cut-25788/', 'https://www.revogamers.net/analisis-w/ninjinclash-of-carrots-25726/', 'https://www.revogamers.net/analisis-w/broforce-25546/', 'https://www.revogamers.net/analisis-w/towerfall-25333/', 'https://www.revogamers.net/analisis-w/wandersong-25331/', 'https://www.revogamers.net/analisis-w/nba-2k19-25494/', 'https://www.revogamers.net/analisis-w/dustan-elysian-tail-25576/', 'https://www.revogamers.net/analisis-w/spectrum-25329/', 'https://www.revogamers.net/analisis-w/god-wars-the-complete-legend-25501/', 'https://www.revogamers.net/analisis-w/velocity-2x-25321/', 'https://www.revogamers.net/analisis-w/valkyria-chronicles-4-25529/', 'https://www.revogamers.net/analisis-w/azure-reflections-24873/', 'https://www.revogamers.net/analisis-w/shikhondosoul-eater-25338/', 'https://www.revogamers.net/analisis-w/xenoblade-chronicles-2torna-the-golden-country-25358/', 'https://www.revogamers.net/analisis-w/broken-sword-5-maldicion-de-serpiente-25276/', 'https://www.revogamers.net/analisis-w/the-gardens-between-24723/', 'https://www.revogamers.net/analisis-w/moonfall-ultimate-24985/', 'https://www.revogamers.net/analisis-w/nefarious-25319/', 'https://www.revogamers.net/analisis-w/detective-gallo-25119/', 'https://www.revogamers.net/analisis-w/mini-metro-24942/', 'https://www.revogamers.net/analisis-w/surgeon-simulator-cpr-25176/', 'https://www.revogamers.net/analisis-w/de-blob-2-25072/', 'https://www.revogamers.net/analisis-w/undertale-25193/', 'https://www.revogamers.net/analisis-w/fall-of-lightdarkest-edition-25049/', 'https://www.revogamers.net/analisis-w/morphies-law-25210/', 'https://www.revogamers.net/analisis-w/senran-kagura-reflexions-25169/', 'https://www.revogamers.net/analisis-w/chiki-chiki-boxy-racers-25142/', 'https://www.revogamers.net/analisis-w/planet-alpha-25074/', 'https://www.revogamers.net/analisis-w/shio-24871/', 'https://www.revogamers.net/analisis-w/bastion-25011/', 'https://www.revogamers.net/analisis-w/kero-blaster-24846/', 'https://www.revogamers.net/analisis-w/hyper-light-drifter-24869/', 'https://www.revogamers.net/analisis-w/polygod-24940/', 'https://www.revogamers.net/analisis-w/yo-kai-watch-blasters-24821/', 'https://www.revogamers.net/analisis-w/crush-your-enemies-24232/', 'https://www.revogamers.net/analisis-w/blade-strangers-24807/', 'https://www.revogamers.net/analisis-w/state-of-mind-24711/', 'https://www.revogamers.net/analisis-w/freedom-planet-24109/', 'https://www.revogamers.net/analisis-w/inner-world-2-24482/', 'https://www.revogamers.net/analisis-w/2064-rom-24392/', 'https://www.revogamers.net/analisis-w/the-messenger-24622/', 'https://www.revogamers.net/analisis-w/dead-cells-24537/', 'https://www.revogamers.net/analisis-w/analisis-monster-hunter-generations-ultimate-24653/', 'https://www.revogamers.net/analisis-w/not-a-hero-24573/', 'https://www.revogamers.net/analisis-w/salt-sanctuary-24394/', 'https://www.revogamers.net/analisis-w/analisis-eshop-switch-manual-samuel-24504/', 'https://www.revogamers.net/analisis-w/tetras-escape-24143/', 'https://www.revogamers.net/analisis-w/the-inner-world-24253/', 'https://www.revogamers.net/analisis-w/flipping-death-23964/', 'https://www.revogamers.net/analisis-w/minit-24097/', 'https://www.revogamers.net/analisis-w/road-to-ballhalla-24393/', 'https://www.revogamers.net/analisis-w/hello-neighbor-24291/', 'https://www.revogamers.net/analisis-w/analisis-eshop-ultra-space-battle-brawl-24241/', 'https://www.revogamers.net/analisis-w/another-world-24112/', 'https://www.revogamers.net/analisis-w/iconoclasts-23867/', 'https://www.revogamers.net/analisis-w/crossing-souls-23905/', 'https://www.revogamers.net/analisis-w/epic-loon-24188/', 'https://www.revogamers.net/analisis-w/piczle-lines-dx-500-puzles-mas-23413/', 'https://www.revogamers.net/analisis-w/hora-de-aventuraspiratas-del-enchiridion-24053/', 'https://www.revogamers.net/analisis-w/titan-quest-23735/', 'https://www.revogamers.net/analisis-w/pool-panic-23865/', 'https://www.revogamers.net/analisis-w/banner-saga-3-23866/', 'https://www.revogamers.net/analisis-w/code-of-princess-ex-23977/', 'https://www.revogamers.net/analisis-w/super-destronaut-dx-23386/', 'https://www.revogamers.net/analisis-w/okami-hd-23839/', 'https://www.revogamers.net/analisis-w/megaman-legacy-collection-2-23490/', 'https://www.revogamers.net/analisis-w/megaman-legacy-collection-23483/', 'https://www.revogamers.net/analisis-w/flat-heroes-23864/', 'https://www.revogamers.net/analisis-w/overcooked-2-23789/', 'https://www.revogamers.net/analisis-w/warioware-gold-23776/', 'https://www.revogamers.net/analisis-w/touhou-genso-wanderer-reloaded-23541/', 'https://www.revogamers.net/analisis-w/mushroom-wars-2-23451/', 'https://www.revogamers.net/analisis-w/assault-gunners-hd-edition-23167/', 'https://www.revogamers.net/analisis-w/candle-23461/', 'https://www.revogamers.net/analisis-w/analisis-motogp-18-nintendo-switch-23095/', 'https://www.revogamers.net/analisis-w/analisis-mugsters-eshop-switch-23426/', 'https://www.revogamers.net/analisis-w/the-mooseman-23206/', 'https://www.revogamers.net/analisis-w/analisis-ghost-1-0-eshop-switch-23149/', 'https://www.revogamers.net/analisis-w/lumines-remastered-23412/', 'https://www.revogamers.net/analisis-w/analisis-go-vacation-switch-23375/', 'https://www.revogamers.net/analisis-w/holy-potatoes-weapon-23159/', 'https://www.revogamers.net/analisis-w/limbo-22629/', 'https://www.revogamers.net/analisis-w/semblance-23178/', 'https://www.revogamers.net/analisis-w/de-blob-23151/', 'https://www.revogamers.net/analisis-w/squids-odyssey-22627/', 'https://www.revogamers.net/analisis-w/all-star-fruit-racing-22719/', 'https://www.revogamers.net/analisis-w/harvest-moonlight-of-hope-22850/', 'https://www.revogamers.net/analisis-w/sonic-mania-plus-23014/', 'https://www.revogamers.net/analisis-w/the-wardrobe-22900/', 'https://www.revogamers.net/analisis-w/waking-violet-22625/', 'https://www.revogamers.net/analisis-w/shining-resonance-refrain-22858/', 'https://www.revogamers.net/analisis-w/analisis-eshop-switch-pato-box-22763/', 'https://www.revogamers.net/analisis-w/ys-viii-lacrimosa-of-dana-22856/', 'https://www.revogamers.net/analisis-w/inside-22618/', 'https://www.revogamers.net/analisis-w/musynx-22646/', 'https://www.revogamers.net/analisis-w/octopath-traveler-22649/', 'https://www.revogamers.net/analisis-w/angels-of-death-22612/', 'https://www.revogamers.net/analisis-w/captain-toadtreasure-tracker-22675/', 'https://www.revogamers.net/analisis-w/captain-toadtreasure-tracker-2-22692/', 'https://www.revogamers.net/analisis-w/runbow-deluxe-22610/', 'https://www.revogamers.net/analisis-w/flashback-25-aniversario-22547/', 'https://www.revogamers.net/analisis-w/the-banner-saga-2-22642/', 'https://www.revogamers.net/analisis-w/muddledash-22607/', 'https://www.revogamers.net/analisis-w/dream-alone-22516/', 'https://www.revogamers.net/analisis-w/iro-hero-22085/', 'https://www.revogamers.net/analisis-w/anima-arcane-edition-22382/', 'https://www.revogamers.net/analisis-w/crash-bandiccot-nsane-trilogy-22431/', 'https://www.revogamers.net/analisis-w/shaq-fulegend-reborn-22330/', 'https://www.revogamers.net/analisis-w/analisis-wolfenstein-ii-new-colossus-22476/', 'https://www.revogamers.net/analisis-w/hollow-knight-22041/', 'https://www.revogamers.net/analisis-w/beekyr-reloaded-22363/', 'https://www.revogamers.net/analisis-w/blazblue-cross-tag-battle-22374/', 'https://www.revogamers.net/analisis-w/paladns-22265/', 'https://www.revogamers.net/analisis-w/figment-22123/', 'https://www.revogamers.net/analisis-w/the-lost-child-22133/', 'https://www.revogamers.net/analisis-w/analisis-eshop-switch-just-shapes-beats-22157/', 'https://www.revogamers.net/analisis-w/yesterday-origins-21923/', 'https://www.revogamers.net/analisis-w/henry-the-hamster-handler-21980/', 'https://www.revogamers.net/analisis-w/cast-of-the-seven-godsends-22074/', 'https://www.revogamers.net/analisis-w/pode-21971/', 'https://www.revogamers.net/analisis-w/west-of-loathing-21959/', 'https://www.revogamers.net/analisis-w/analisis-mario-tennis-aces-switch-22035/', 'https://www.revogamers.net/analisis-w/atomine-21934/', 'https://www.revogamers.net/analisis-w/mega-man-legacy-collection-2-20929/', 'https://www.revogamers.net/analisis-w/mega-man-legacy-collection-21952/', 'https://www.revogamers.net/analisis-w/soccer-slammers-21977/', 'https://www.revogamers.net/analisis-w/icey-20939/', 'https://www.revogamers.net/analisis-w/shape-of-the-world-21928/', 'https://www.revogamers.net/analisis-w/happy-birthdays-21712/', 'https://www.revogamers.net/analisis-w/the-banner-saga-21529/', 'https://www.revogamers.net/analisis-w/fallen-legionrise-to-glory-21511/', 'https://www.revogamers.net/analisis-w/legend-of-kay-anniversary-edition-21486/', 'https://www.revogamers.net/analisis-w/yokus-island-express-21711/', 'https://www.revogamers.net/analisis-w/analisisi-eshop-switch-punch-club-21455/', 'https://www.revogamers.net/analisis-w/inksplosion-20696/', 'https://www.revogamers.net/analisis-w/legendary-eleven-21230/', 'https://www.revogamers.net/analisis-w/fairune-collection-20689/', 'https://www.revogamers.net/analisis-w/sushi-striker-way-sushido-20777/', 'https://www.revogamers.net/analisis-w/analisis-switch-baobabs-mausoleum-ep-1-21275/', 'https://www.revogamers.net/analisis-w/fox-forest-21221/', 'https://www.revogamers.net/analisis-w/n-20924/', 'https://www.revogamers.net/analisis-w/street-fighter-30th-anniversary-collection-21245/', 'https://www.revogamers.net/analisis-w/hello-kitty-kruisers-20682/', 'https://www.revogamers.net/analisis-w/the-fall-20987/', 'https://www.revogamers.net/analisis-w/little-nightmares-complete-edition-21020/', 'https://www.revogamers.net/analisis-w/battle-chasersnightwar-20907/', 'https://www.revogamers.net/analisis-w/smoke-and-sacrifice-21079/', 'https://www.revogamers.net/analisis-w/suicide-guy-analisis-eshop-switch-20797/', 'https://www.revogamers.net/analisis-w/analisis-one-piece-pirate-warrios-3deluxe-edition-20946/', 'https://www.revogamers.net/analisis-w/yonderthe-cloud-catcher-chronicles-20948/', 'https://www.revogamers.net/analisis-w/ikaruga-20676/', 'https://www.revogamers.net/analisis-w/dont-diemr-robot-dx-20903/', 'https://www.revogamers.net/analisis-w/steamworld-dig-2-13073/', 'https://www.revogamers.net/analisis-w/dillon-breakers-20666/', 'https://www.revogamers.net/analisis-w/splitter-critters-20669/', 'https://www.revogamers.net/analisis-w/late-shift-20495/', 'https://www.revogamers.net/analisis-w/garage-20772/', 'https://www.revogamers.net/analisis-w/shin-megami-tenseistrange-journey-redux-20596/', 'https://www.revogamers.net/analisis-w/saturday-morning-rpg-20297/', 'https://www.revogamers.net/analisis-w/runner3-20634/', 'https://www.revogamers.net/analisis-w/raging-justice-20314/', 'https://www.revogamers.net/analisis-w/hyrule-warriorsdefinitive-edition-20578/', 'https://www.revogamers.net/analisis-w/goetia-20499/', 'https://www.revogamers.net/analisis-w/light-fall-20505/', 'https://www.revogamers.net/analisis-w/death-road-to-canada-20059/', 'https://www.revogamers.net/analisis-w/nihilumbra-20459/', 'https://www.revogamers.net/analisis-w/analisis-ninja-striker-20470/', 'https://www.revogamers.net/analisis-w/immortal-redneck-20046/', 'https://www.revogamers.net/analisis-w/super-chariot-20307/', 'https://www.revogamers.net/analisis-w/another-lost-phonelauras-story-20328/', 'https://www.revogamers.net/analisis-w/shantae-half-genie-hero-ultimate-edition-20285/', 'https://www.revogamers.net/analisis-w/naruto-unst-20166/', 'https://www.revogamers.net/analisis-w/shelter-generations-20223/', 'https://www.revogamers.net/analisis-w/football-manager-touch-2018-20140/', 'https://www.revogamers.net/analisis-w/manticore-20113/', 'https://www.revogamers.net/analisis-w/donkey-kong-country-tropical-freeze-20030/', 'https://www.revogamers.net/analisis-w/jotunvalhalla-edition-20135/', 'https://www.revogamers.net/analisis-w/agatha-knife-19793/', 'https://www.revogamers.net/analisis-w/devious-dungeon-20009/', 'https://www.revogamers.net/analisis-w/lode-runner-legacy-19743/', 'https://www.revogamers.net/analisis-w/analisis-south-park-retaguardia-peligro-19993/', 'https://www.revogamers.net/analisis-w/super-daryl-deluxe-19984/', 'https://www.revogamers.net/analisis-w/animated-jigsawsbeautiful-japanese-scenery-19751/', 'https://www.revogamers.net/analisis-w/opusrocket-of-whispers-19812/', 'https://www.revogamers.net/analisis-w/penny-punching-princess-19778/', 'https://www.revogamers.net/analisis-w/coffin-dodgers-19210/', 'https://www.revogamers.net/analisis-w/outlast-2-19815/', 'https://www.revogamers.net/analisis-w/toki-tori-19749/', 'https://www.revogamers.net/analisis-w/analisis-eshop-switch-alteric-19546/', 'https://www.revogamers.net/analisis-w/atelier-lydie-suelle-19365/', 'https://www.revogamers.net/analisis-w/analisis-gal-gun-2-19696/', 'https://www.revogamers.net/analisis-w/tesla-vs-lovecraft-19450/', 'https://www.revogamers.net/analisis-w/bingo-for-nintendo-switch-19321/', 'https://www.revogamers.net/analisis-w/bombslinger-19508/', 'https://www.revogamers.net/analisis-w/the-bunker-19531/', 'https://www.revogamers.net/analisis-w/twin-robotsultimate-edition-19286/', 'https://www.revogamers.net/analisis-w/slayaway-camp-19208/', 'https://www.revogamers.net/analisis-w/shantae-and-the-pirates-curse-19238/', 'https://www.revogamers.net/analisis-w/the-long-reach-19101/', 'https://www.revogamers.net/analisis-w/kona-19399/', 'https://www.revogamers.net/analisis-w/disc-jam-analisis-19439/', 'https://www.revogamers.net/analisis-w/earthlock-19367/', 'https://www.revogamers.net/analisis-w/analisis-monster-energy-supercross-switch-19247/', 'https://www.revogamers.net/analisis-w/detective-pikachu-19400/', 'https://www.revogamers.net/analisis-w/midnight-deluxe-19310/', 'https://www.revogamers.net/analisis-w/the-alliance-alive-19363/', 'https://www.revogamers.net/analisis-w/last-day-of-june-19206/', 'https://www.revogamers.net/analisis-w/shadow-bug-19204/', 'https://www.revogamers.net/analisis-w/aot2-titan-19202/', 'https://www.revogamers.net/analisis-w/paper-wars-cannon-fodder-devastated-19148/', 'https://www.revogamers.net/analisis-w/world-conqueror-19121/', 'https://www.revogamers.net/analisis-w/analisis-neonwall-19018/', 'https://www.revogamers.net/analisis-w/flinthook-19070/', 'https://www.revogamers.net/analisis-w/soldam-19163/', 'https://www.revogamers.net/analisis-w/steredenn-18469/', 'https://www.revogamers.net/analisis-w/the-final-station-18410/', 'https://www.revogamers.net/analisis-w/scribblenautsshowdown-18976/', 'https://www.revogamers.net/analisis-w/space-dave-18748/', 'https://www.revogamers.net/analisis-w/owlboy-19001/', 'https://www.revogamers.net/analisis-w/normal-lost-phone-18560/', 'https://www.revogamers.net/analisis-w/outlastbundle-of-terror-18953/', 'https://www.revogamers.net/analisis-w/payday-2-18770/', 'https://www.revogamers.net/analisis-w/hole-new-world-18466/', 'https://www.revogamers.net/analisis-w/kirby-star-allies-18887/', 'https://www.revogamers.net/analisis-w/bleed-2-18453/', 'https://www.revogamers.net/analisis-w/hollow-18369/', 'https://www.revogamers.net/analisis-w/detention-18668/', 'https://www.revogamers.net/analisis-w/30-in-1-game-collection-18455/', 'https://www.revogamers.net/analisis-w/toki-tori-2-18367/', 'https://www.revogamers.net/analisis-w/superola-and-the-lost-burguers-18436/', 'https://www.revogamers.net/analisis-w/super-toy-cars-18198/', 'https://www.revogamers.net/analisis-w/torquelphysics-modified-edition-18541/', 'https://www.revogamers.net/analisis-w/bridge-constructor-portal-18521/', 'https://www.revogamers.net/analisis-w/the-longest-five-minutes-18490/', 'https://www.revogamers.net/analisis-w/fear-effect-sedna-18407/', 'https://www.revogamers.net/analisis-w/analisis-joe-devers-lone-wolf-18484/', 'https://www.revogamers.net/analisis-w/radiant-historiaperfect-chronology-18234/', 'https://www.revogamers.net/analisis-w/xeodrifter-18183/', 'https://www.revogamers.net/analisis-w/mercenaries-saga-chronicles-18196/', 'https://www.revogamers.net/analisis-w/mulaka-18210/', 'https://www.revogamers.net/analisis-w/old-mans-journey-18102/', 'https://www.revogamers.net/analisis-w/layers-of-fear-18182/', 'https://www.revogamers.net/analisis-w/pac-man-ce-2-plus-18127/', 'https://www.revogamers.net/analisis-w/atomikrungunjumpgun-17972/', 'https://www.revogamers.net/analisis-w/typoman-18029/', 'https://www.revogamers.net/analisis-w/night-in-the-woods-18044/', 'https://www.revogamers.net/analisis-w/aeternoblade-17450/', 'https://www.revogamers.net/analisis-w/pokemon-edicion-cristal-18011/', 'https://www.revogamers.net/analisis-w/dandara-17917/', 'https://www.revogamers.net/analisis-w/the-fall-part-2unbound-17905/', 'https://www.revogamers.net/analisis-w/shiftlings-enhanced-edition-17516/', 'https://www.revogamers.net/analisis-w/bayonetta-17690/', 'https://www.revogamers.net/analisis-w/bayonetta-2-17623/', 'https://www.revogamers.net/analisis-w/steamworld-dig-17756/', 'https://www.revogamers.net/analisis-w/lost-sphear-17716/', 'https://www.revogamers.net/analisis-w/dustoff-heli-rescue-2-17482/', 'https://www.revogamers.net/analisis-w/earth-wars-17504/', 'https://www.revogamers.net/analisis-w/dragon-quest-builders-17255/', 'https://www.revogamers.net/analisis-w/baseball-riot-17502/', 'https://www.revogamers.net/analisis-w/super-one-more-jump-17277/', 'https://www.revogamers.net/analisis-w/nightmare-boy-17240/', 'https://www.revogamers.net/analisis-w/celeste-17278/', 'https://www.revogamers.net/analisis-w/3d-mini-golf-17144/', 'https://www.revogamers.net/analisis-w/the-escapists-2-17352/', 'https://www.revogamers.net/analisis-w/aces-of-the-luftwaffe-squadron-17294/', 'https://www.revogamers.net/analisis-w/island-flight-simulator-17142/', 'https://www.revogamers.net/analisis-w/azkend-2the-world-beneath-16991/', 'https://www.revogamers.net/analisis-w/darkest-dungeon-17259/', 'https://www.revogamers.net/analisis-w/crawl-17128/', 'https://www.revogamers.net/analisis-w/tachyon-project-17091/', 'https://www.revogamers.net/analisis-w/sparkle-unleashed-17127/', 'https://www.revogamers.net/analisis-w/uurnog-uurnlimited-17126/', 'https://www.revogamers.net/analisis-w/grand-prix-rock-n-racing-2-16799/', 'https://www.revogamers.net/analisis-w/analisis-never-stop-sneakin-17087/', 'https://www.revogamers.net/analisis-w/vesta-16921/', 'https://www.revogamers.net/analisis-w/super-meat-boy-16694/', 'https://www.revogamers.net/analisis-w/black-the-fall-16555/', 'https://www.revogamers.net/analisis-w/stikboldla-aventura-del-balon-prisionerodeluxe-16827/', 'https://www.revogamers.net/analisis-w/rxnraijin-16784/', 'https://www.revogamers.net/analisis-w/world-to-the-west-16851/', 'https://www.revogamers.net/analisis-w/yooka-laylee-16775/', 'https://www.revogamers.net/analisis-w/furi-16658/', 'https://www.revogamers.net/analisis-w/hammerwatch-16587/', 'https://www.revogamers.net/analisis-w/one-more-dungeon-16499/', 'https://www.revogamers.net/analisis-w/floor-kids-16446/', 'https://www.revogamers.net/analisis-w/enter-the-gungeon-16492/', 'https://www.revogamers.net/analisis-w/mom-hid-my-game-16374/', 'https://www.revogamers.net/analisis-w/romancing-saga-2-16258/', 'https://www.revogamers.net/analisis-w/shantaefriends-to-the-end-16493/', 'https://www.revogamers.net/analisis-w/woddle-tree-adventures-16307/', 'https://www.revogamers.net/analisis-w/transcripted-16460/', 'https://www.revogamers.net/analisis-w/the-deer-god-16296/', 'https://www.revogamers.net/analisis-w/bleed-15984/', 'https://www.revogamers.net/analisis-w/coma-recut-16289/', 'https://www.revogamers.net/analisis-w/mutant-mudds-collection-16164/', 'https://www.revogamers.net/analisis-w/steamworld-heist-ultimate-edition-16237/', 'https://www.revogamers.net/analisis-w/the-end-is-nigh-16264/', 'https://www.revogamers.net/analisis-w/brawlout-16318/', 'https://www.revogamers.net/analisis-w/plantera-dx-16270/', 'https://www.revogamers.net/analisis-w/the-next-penelope-16210/', 'https://www.revogamers.net/analisis-w/syberia-2-16223/', 'https://www.revogamers.net/analisis-w/tennis-in-the-face-15975/', 'https://www.revogamers.net/analisis-w/blossom-tales-16067/', 'https://www.revogamers.net/analisis-w/analisis-mario-party-top-100-16129/', 'https://www.revogamers.net/analisis-w/max-curse-16071/', 'https://www.revogamers.net/analisis-w/nine-parchments-16097/', 'https://www.revogamers.net/analisis-w/crimsonland-15532/', 'https://www.revogamers.net/analisis-w/unepic-16039/', 'https://www.revogamers.net/analisis-w/spellspire-15965/', 'https://www.revogamers.net/analisis-w/portal-knights-15997/', 'https://www.revogamers.net/analisis-w/superbeat-xonic-ex-16009/', 'https://www.revogamers.net/analisis-w/star-ghost-analisis-15534/', 'https://www.revogamers.net/analisis-w/caveman-warriors-15760/', 'https://www.revogamers.net/analisis-w/the-sexy-brutale-15785/', 'https://www.revogamers.net/analisis-w/gingerbeyond-the-crystal-15649/', 'https://www.revogamers.net/analisis-w/worms-w-m-d-15169/', 'https://www.revogamers.net/analisis-w/maria-the-witch-15367/', 'https://www.revogamers.net/analisis-w/sitck-it-to-the-man-analisis-15494/', 'https://www.revogamers.net/analisis-w/nintendo-presentanew-style-boutique-3-estilismo-celebrities-15737/', 'https://www.revogamers.net/analisis-w/red-game-15767/', 'https://www.revogamers.net/analisis-w/green-game-15766/', 'https://www.revogamers.net/analisis-w/cartoon-networkbattle-crashers-2-15152/', 'https://www.revogamers.net/analisis-w/cat-quest-15537/', 'https://www.revogamers.net/analisis-w/snipperclips-plus-aeaa-recortar-compaaaa-15003/', 'https://www.revogamers.net/analisis-w/xenoraid-15462/', 'https://www.revogamers.net/analisis-w/humanfall-flat-15495/', 'https://www.revogamers.net/analisis-w/serial-cleaner-analisis-15473/', 'https://www.revogamers.net/analisis-w/rock-n-racing-dx-analisis-14733/', 'https://www.revogamers.net/analisis-w/mxgp3-15314/', 'https://www.revogamers.net/analisis-w/dead-synchronicity-analisis-15174/', 'https://www.revogamers.net/analisis-w/octodad-analisis-14736/', 'https://www.revogamers.net/analisis-w/monopoly-14345/', 'https://www.revogamers.net/analisis-w/ittle-dew-2-15487/', 'https://www.revogamers.net/analisis-w/teslagrad-15176/', 'https://www.revogamers.net/analisis-w/riveultimate-edition-15379/', 'https://www.revogamers.net/analisis-w/elliot-quest-2-15339/', 'https://www.revogamers.net/analisis-w/apollo-justice-analisis-15145/', 'https://www.revogamers.net/analisis-w/time-recoil-14926/', 'https://www.revogamers.net/analisis-w/rocket-league-15023/', 'https://www.revogamers.net/analisis-w/xenoblade-chronicles-2-15124/', 'https://www.revogamers.net/analisis-w/animal-crossingpocket-camp-15067/', 'https://www.revogamers.net/analisis-w/king-oddball-14043/', 'https://www.revogamers.net/analisis-w/wheels-of-aurelia-14806/', 'https://www.revogamers.net/analisis-w/squareboy-vs-bulliesarena-edition-14904/', 'https://www.revogamers.net/analisis-w/lets-sing-10-14873/', 'https://www.revogamers.net/analisis-w/resident-evilrevelations-2-15252/', 'https://www.revogamers.net/analisis-w/resident-evilrevelations-15188/', 'https://www.revogamers.net/analisis-w/lumo-15104/', 'https://www.revogamers.net/analisis-w/super-ping-pong-trick-shot-14522/', 'https://www.revogamers.net/analisis-w/morphite-14813/', 'https://www.revogamers.net/analisis-w/arcade-archives-mario-bros-14580/', 'https://www.revogamers.net/analisis-w/jydge-14918/', 'https://www.revogamers.net/analisis-w/moon-hunters-14355/', 'https://www.revogamers.net/analisis-w/analisis-violett-eshop-switch-14985/', 'https://www.revogamers.net/analisis-w/vvvvvv-analisis-14725/', 'https://www.revogamers.net/analisis-w/analisis-gear-club-unlimited-14927/', 'https://www.revogamers.net/analisis-w/sonic-forces-14683/', 'https://www.revogamers.net/analisis-w/la-noire-analisis-14742/', 'https://www.revogamers.net/analisis-w/rogue-trooper-redux-13877/', 'https://www.revogamers.net/analisis-w/volgarr-the-viking-14777/', 'https://www.revogamers.net/analisis-w/neon-chrome-14334/', 'https://www.revogamers.net/analisis-w/splasher-13846/', 'https://www.revogamers.net/analisis-w/the-elder-scrolls-vskyrim-14589/', 'https://www.revogamers.net/analisis-w/tiny-barbarian-dxanalisis-14313/', 'https://www.revogamers.net/analisis-w/lego-ninjago-pelicula-videojuego-13829/', 'https://www.revogamers.net/analisis-w/pokemon-ultra-sol-luna-14363/', 'https://www.revogamers.net/analisis-w/kirby-battle-royale-14221/', 'https://www.revogamers.net/analisis-w/rime-14340/']\n"
     ]
    }
   ],
   "source": [
    "num_pages = 50\n",
    "\n",
    "links = revogamers_link_retrieve(num_pages)\n",
    "\n",
    "print(len(links))\n",
    "print(links[:5])"
   ]
  },
  {
   "cell_type": "markdown",
   "metadata": {},
   "source": [
    "## Scraping Single Review"
   ]
  },
  {
   "cell_type": "code",
   "execution_count": null,
   "metadata": {},
   "outputs": [],
   "source": []
  },
  {
   "cell_type": "code",
   "execution_count": 68,
   "metadata": {},
   "outputs": [
    {
     "data": {
      "text/plain": [
       "b'<!DOCTYPE html><html lang=\"es\"><head><meta charset'"
      ]
     },
     "execution_count": 68,
     "metadata": {},
     "output_type": "execute_result"
    }
   ],
   "source": [
    "review_url = 'https://www.revogamers.net/analisis-w/analisis-de-deleveled-56312/'\n",
    "review_html = requests.get(review_url).content\n",
    "review_html[:50]"
   ]
  },
  {
   "cell_type": "code",
   "execution_count": 69,
   "metadata": {},
   "outputs": [],
   "source": [
    "soup = BeautifulSoup(review_html, 'lxml')"
   ]
  },
  {
   "cell_type": "code",
   "execution_count": 70,
   "metadata": {},
   "outputs": [],
   "source": [
    "#Text + cleaning\n",
    "article = soup.find('div', {'class': 'gp-entry-content'}).find_all('p')"
   ]
  },
  {
   "cell_type": "code",
   "execution_count": 71,
   "metadata": {},
   "outputs": [],
   "source": [
    "review = [tag.text for tag in article]\n",
    "review = ' '.join(review)"
   ]
  },
  {
   "cell_type": "code",
   "execution_count": 72,
   "metadata": {},
   "outputs": [
    {
     "data": {
      "text/plain": [
       "'Deleveled es un juego de puzles distribuido por The Quantum Astrophysicists Guild, que hace un uso ingenioso de recursos muy sencillos. Con una estética tan retro como moderna, cada nivel es un reto para nuestro ingenio.  Como habréis observado, el nombre Deleveled es un palíndromo. Es decir, da igual que lo leas de izquierda a derecha que de derecha a izquierda, siempre será igual. Es como si esa V central partiera en dos el nombre y actuara como espejo. Lo mismo sucede dentro de cada nivel. El escenario está dividido por una línea horizontal y nosotros tomamos el control de dos cubos, cada uno a un lado de la línea. Se mueven de forma simultánea con nuestra palanca. Cuando tocan la línea central, si caían de cierta altura, rebotan sobre la misma, como si los dos cubos se repelieran. Eso sí, si llegan a tocarse de forma literal, se desintegran. De esta forma, los cubos han de avanzar hasta la línea de meta (que es otro cubo). Conforme avanzamos, los niveles se van llenando de obstáculos que tenemos que sortear. Empezamos teniendo que saltar bloques, después hay que evitar pinchos o caídas al vacío, más adelante tenemos que bloquear uno de los cubos para hacer que no estén exactamente a la misma altura y finalmente tendremos que activar interruptores con cada cubo, pulsando el botón A, con la condición de que solo se pueden activar si están los dos cubos en un interruptor. Si nos quedamos bloqueados, podemos desintegrar de forma manual los cubos y volver al principio. Esta acción cuenta como una muerte y en cada nivel tenemos un número limitado de muertes si queremos conseguir la estrella que nos permita acceder a los niveles secretos. Ya os digo que no es nada fácil en según qué niveles hacerlos sin fallar un par de veces (suficientes para ver desaparecer nuestras opciones de conseguir la estrella). Con estas sencillas mecánicas y un diseño de niveles admirable se consiguen maravillas. Los puzles son muy variados y la dificultad escala de forma progresiva pero inexorable. Un verdadero reto para los amantes de los puzles. No lo es tanto para los no tan avezados en el género, ya que como suele ocurrir con este tipo de juegos, por muy ingeniosa que sea la mecánica principal, suelen envejecer rápido si su único atractivo es el propio puzle. Y es precisamente este el caso de Deleveled. A nivel visual es muy sencillo, simulando un aspecto retro acompañado por la música, pero con unos diseños minimalistas y, realmente, bastante modernos. Por eso decía antes que la estética es tan retro como moderna. Conforme avanzamos de mundo, cambia el color de los elementos. Los niveles están agrupados por mundos, como en un juego de móviles de hace unos años (bien podría haberlo sido). Como veis, Deleveled es en realidad una apuesta muy sencilla y no hay mucho más que decir de él. Es divertido, sobre todo si te gustan los puzles, pero precisamente por ser un juego de puzles también su jugabilidad corre el riesgo de envejecer muy rápido. Todo depende de cuánto te gusten este tipo de juegos, pero la apuesta de Deleveled es sin duda bastante buena. '"
      ]
     },
     "execution_count": 72,
     "metadata": {},
     "output_type": "execute_result"
    }
   ],
   "source": [
    "review"
   ]
  },
  {
   "cell_type": "code",
   "execution_count": 73,
   "metadata": {},
   "outputs": [
    {
     "data": {
      "text/plain": [
       "'Arturo Albero'"
      ]
     },
     "execution_count": 73,
     "metadata": {},
     "output_type": "execute_result"
    }
   ],
   "source": [
    "# Author\n",
    "\n",
    "author = soup.find('span', {'class': 'gp-post-meta gp-meta-author'}).find('a').text\n",
    "author"
   ]
  },
  {
   "cell_type": "code",
   "execution_count": 74,
   "metadata": {},
   "outputs": [
    {
     "data": {
      "text/plain": [
       "' Deleveled'"
      ]
     },
     "execution_count": 74,
     "metadata": {},
     "output_type": "execute_result"
    }
   ],
   "source": [
    "# Game\n",
    "\n",
    "game = soup.find('h3', {'class': 'gp-rating-box-title'}).text\n",
    "game"
   ]
  },
  {
   "cell_type": "code",
   "execution_count": 75,
   "metadata": {},
   "outputs": [
    {
     "ename": "ValueError",
     "evalue": "not enough values to unpack (expected 3, got 2)",
     "output_type": "error",
     "traceback": [
      "\u001b[0;31m---------------------------------------------------------------------------\u001b[0m",
      "\u001b[0;31mValueError\u001b[0m                                Traceback (most recent call last)",
      "\u001b[0;32m<ipython-input-75-a5b97996b019>\u001b[0m in \u001b[0;36m<module>\u001b[0;34m\u001b[0m\n\u001b[1;32m      3\u001b[0m \u001b[0mcompany\u001b[0m \u001b[0;34m=\u001b[0m \u001b[0msoup\u001b[0m\u001b[0;34m.\u001b[0m\u001b[0mfind_all\u001b[0m\u001b[0;34m(\u001b[0m\u001b[0;34m'span'\u001b[0m\u001b[0;34m,\u001b[0m \u001b[0;34m{\u001b[0m\u001b[0;34m'class'\u001b[0m\u001b[0;34m:\u001b[0m \u001b[0;34m'gp-hub-field-list'\u001b[0m\u001b[0;34m}\u001b[0m\u001b[0;34m)\u001b[0m\u001b[0;34m\u001b[0m\u001b[0;34m\u001b[0m\u001b[0m\n\u001b[1;32m      4\u001b[0m \u001b[0;34m\u001b[0m\u001b[0m\n\u001b[0;32m----> 5\u001b[0;31m \u001b[0mgenre\u001b[0m\u001b[0;34m,\u001b[0m \u001b[0mcompany\u001b[0m\u001b[0;34m,\u001b[0m \u001b[0mplatform\u001b[0m \u001b[0;34m=\u001b[0m \u001b[0;34m[\u001b[0m\u001b[0mtag\u001b[0m\u001b[0;34m.\u001b[0m\u001b[0mtext\u001b[0m \u001b[0;32mfor\u001b[0m \u001b[0mtag\u001b[0m \u001b[0;32min\u001b[0m \u001b[0mcompany\u001b[0m\u001b[0;34m]\u001b[0m\u001b[0;34m\u001b[0m\u001b[0;34m\u001b[0m\u001b[0m\n\u001b[0m\u001b[1;32m      6\u001b[0m \u001b[0;34m\u001b[0m\u001b[0m\n\u001b[1;32m      7\u001b[0m \u001b[0mprint\u001b[0m\u001b[0;34m(\u001b[0m\u001b[0mgenre\u001b[0m\u001b[0;34m,\u001b[0m \u001b[0mcompany\u001b[0m\u001b[0;34m,\u001b[0m \u001b[0mplatform\u001b[0m \u001b[0;34m)\u001b[0m\u001b[0;34m\u001b[0m\u001b[0;34m\u001b[0m\u001b[0m\n",
      "\u001b[0;31mValueError\u001b[0m: not enough values to unpack (expected 3, got 2)"
     ]
    }
   ],
   "source": [
    "# Genre, Company and Platform\n",
    "\n",
    "company = soup.find_all('span', {'class': 'gp-hub-field-list'})\n",
    "\n",
    "genre, company, platform = [tag.text for tag in company]\n",
    "\n",
    "print(genre, company, platform )"
   ]
  },
  {
   "cell_type": "code",
   "execution_count": 76,
   "metadata": {},
   "outputs": [
    {
     "name": "stdout",
     "output_type": "stream",
     "text": [
      "['Genero:', 'Desarrolladora:']\n"
     ]
    }
   ],
   "source": [
    "bes=[]\n",
    "group = soup.find_all('div', {'class': 'gp-hub-field'})\n",
    "for a in group:\n",
    "    bes.append(a.find('span', {'class': 'gp-hub-field-name'}).text)\n",
    "\n",
    "print(bes)"
   ]
  },
  {
   "cell_type": "code",
   "execution_count": 77,
   "metadata": {},
   "outputs": [
    {
     "name": "stdout",
     "output_type": "stream",
     "text": [
      "Acción, Estrategia, Plataformas, Puzle The Quantum Astrophysicists Guild Nintendo Switch\n"
     ]
    }
   ],
   "source": [
    "\n",
    "for span in group:\n",
    "    if 'Genero:' in span.find('span', {'class': 'gp-hub-field-name'}).text:\n",
    "        genre = span.find('span', {'class': 'gp-hub-field-list'}).text\n",
    "        \n",
    "    if 'Desarrolladora:' in span.find('span', {'class': 'gp-hub-field-name'}).text:\n",
    "        company = span.find('span', {'class': 'gp-hub-field-list'}).text\n",
    "        \n",
    "    if 'Sistema:' in span.find('span', {'class': 'gp-hub-field-name'}).text:\n",
    "        platform = span.find('span', {'class': 'gp-hub-field-list'}).text\n",
    "        \n",
    "print(genre, company, platform )   "
   ]
  },
  {
   "cell_type": "code",
   "execution_count": 78,
   "metadata": {},
   "outputs": [],
   "source": [
    "# Score\n",
    "\n",
    "score = soup.find('div', {'class': 'gp-rating-score'}).text.strip()\n",
    "score = float(score)"
   ]
  },
  {
   "cell_type": "code",
   "execution_count": 79,
   "metadata": {},
   "outputs": [
    {
     "data": {
      "text/plain": [
       "6.5"
      ]
     },
     "execution_count": 79,
     "metadata": {},
     "output_type": "execute_result"
    }
   ],
   "source": [
    "score"
   ]
  },
  {
   "cell_type": "markdown",
   "metadata": {},
   "source": [
    "## Create columns"
   ]
  },
  {
   "cell_type": "code",
   "execution_count": 82,
   "metadata": {},
   "outputs": [],
   "source": [
    "\n",
    "def revogamers_dict(links):\n",
    "    reviews_dict = {}\n",
    "    i = 0\n",
    "\n",
    "    for link in links:\n",
    "        \n",
    "        try:\n",
    "\n",
    "            #Request content and wait\n",
    "            review_html = requests.get(link).content\n",
    "\n",
    "            #Avoid get banned and timeout\n",
    "            time.sleep(3)\n",
    "\n",
    "            #Make a Soup and a Newspacer build\n",
    "            soup = BeautifulSoup(review_html, 'lxml')\n",
    "            #paper = newspaper.build(link) - Unnecesary\n",
    "\n",
    "            #Site name - From Newspaper - Unnecesary\n",
    "            #site = paper.brand\n",
    "\n",
    "            #URL - From Newspaper - Unnecesary\n",
    "            #url_link = paper.url\n",
    "\n",
    "            #Author - From Scraping\n",
    "            author = soup.find('span', {'class': 'gp-post-meta gp-meta-author'}).find('a').text\n",
    "\n",
    "            #Game - From Scraping\n",
    "            game = soup.find('h3', {'class': 'gp-rating-box-title'}).text\n",
    "\n",
    "            #Company, Genre & Platform - From Scraping\n",
    "\n",
    "            genre = 'None'\n",
    "            company = 'None'\n",
    "            platform = 'Nintendo Switch'\n",
    "\n",
    "            elems = soup.find_all('span', {'class': 'gp-hub-field-list'})\n",
    "            if len(elems) == 3:\n",
    "                genre, company, platform = [elem.text for elem in elems]\n",
    "            \n",
    "            elif len(elems) != 3:\n",
    "                div = soup.find_all('div', {'class': 'gp-hub-field'})\n",
    "                \n",
    "                for span in div:\n",
    "                    \n",
    "                    if 'Genero:' in span.find('span', {'class': 'gp-hub-field-name'}).text:\n",
    "                        genre = span.find('span', {'class': 'gp-hub-field-list'}).text\n",
    "\n",
    "                    if 'Desarrolladora:' in span.find('span', {'class': 'gp-hub-field-name'}).text:\n",
    "                        company = span.find('span', {'class': 'gp-hub-field-list'}).text\n",
    "\n",
    "                    if 'Sistema:' in span.find('span', {'class': 'gp-hub-field-name'}).text:\n",
    "                        platform = span.find('span', {'class': 'gp-hub-field-list'}).text\n",
    "\n",
    "            #Text & Cleaning - From Scraping\n",
    "            article = soup.find('div', {'class': 'gp-entry-content'}).find_all('p')\n",
    "            review = [tag.text for tag in article]\n",
    "            review = ' '.join(review)\n",
    "\n",
    "            #Score & Clean & Transform - From Scraping\n",
    "            score = soup.find('div', {'class': 'gp-rating-score'}).text.strip()\n",
    "            score = float(score)\n",
    "\n",
    "            #Add to a dict\n",
    "            reviews_dict[i] = {'site': 'revogamers',\n",
    "                               'url_link': link,\n",
    "                               'author': author,\n",
    "                               'game': game,\n",
    "                               'company': company,\n",
    "                               'genre': genre,\n",
    "                               'platform': platform,\n",
    "                               'text': review,\n",
    "                               'score': score}\n",
    "        \n",
    "        except AttributeError:\n",
    "            pass\n",
    "        \n",
    "        i = i+1\n",
    "        if i % 25 == 0:\n",
    "            print(i, ': ', link)\n",
    "            \n",
    "    return reviews_dict"
   ]
  },
  {
   "cell_type": "code",
   "execution_count": 83,
   "metadata": {},
   "outputs": [
    {
     "name": "stdout",
     "output_type": "stream",
     "text": [
      "Genero:\n",
      "Genero:\n"
     ]
    }
   ],
   "source": [
    "result_revo_test = revogamers_dict(links[:10])\n"
   ]
  },
  {
   "cell_type": "markdown",
   "metadata": {},
   "source": [
    "### Create DataFrame"
   ]
  },
  {
   "cell_type": "code",
   "execution_count": 84,
   "metadata": {},
   "outputs": [
    {
     "data": {
      "text/html": [
       "<div>\n",
       "<style scoped>\n",
       "    .dataframe tbody tr th:only-of-type {\n",
       "        vertical-align: middle;\n",
       "    }\n",
       "\n",
       "    .dataframe tbody tr th {\n",
       "        vertical-align: top;\n",
       "    }\n",
       "\n",
       "    .dataframe thead th {\n",
       "        text-align: right;\n",
       "    }\n",
       "</style>\n",
       "<table border=\"1\" class=\"dataframe\">\n",
       "  <thead>\n",
       "    <tr style=\"text-align: right;\">\n",
       "      <th></th>\n",
       "      <th>site</th>\n",
       "      <th>url_link</th>\n",
       "      <th>author</th>\n",
       "      <th>game</th>\n",
       "      <th>company</th>\n",
       "      <th>genre</th>\n",
       "      <th>platform</th>\n",
       "      <th>text</th>\n",
       "      <th>score</th>\n",
       "    </tr>\n",
       "  </thead>\n",
       "  <tbody>\n",
       "    <tr>\n",
       "      <th>0</th>\n",
       "      <td>revogamers</td>\n",
       "      <td>https://www.revogamers.net/analisis-w/analisis...</td>\n",
       "      <td>Carlos Firás</td>\n",
       "      <td>Going Under</td>\n",
       "      <td>None</td>\n",
       "      <td>None</td>\n",
       "      <td>Nintendo Switch</td>\n",
       "      <td>Llega a nuestras Nintendo Switch un juego que ...</td>\n",
       "      <td>8.0</td>\n",
       "    </tr>\n",
       "    <tr>\n",
       "      <th>1</th>\n",
       "      <td>revogamers</td>\n",
       "      <td>https://www.revogamers.net/analisis-w/analisis...</td>\n",
       "      <td>Javier Aranda</td>\n",
       "      <td>Kirby Fighters 2</td>\n",
       "      <td>HAL Laboratory</td>\n",
       "      <td>Lucha</td>\n",
       "      <td>Nintendo Switch</td>\n",
       "      <td>Kirby ha demostrado en más de una ocasión que ...</td>\n",
       "      <td>7.5</td>\n",
       "    </tr>\n",
       "    <tr>\n",
       "      <th>2</th>\n",
       "      <td>revogamers</td>\n",
       "      <td>https://www.revogamers.net/analisis-w/analisis...</td>\n",
       "      <td>Carlos Firás</td>\n",
       "      <td>Lost Ember</td>\n",
       "      <td>None</td>\n",
       "      <td>None</td>\n",
       "      <td>Nintendo Switch</td>\n",
       "      <td>Llega a nuestras Nintendo Switch un juego que ...</td>\n",
       "      <td>7.5</td>\n",
       "    </tr>\n",
       "    <tr>\n",
       "      <th>3</th>\n",
       "      <td>revogamers</td>\n",
       "      <td>https://www.revogamers.net/analisis-w/analisis...</td>\n",
       "      <td>Arturo Albero</td>\n",
       "      <td>Deleveled</td>\n",
       "      <td>The Quantum Astrophysicists Guild</td>\n",
       "      <td>Acción, Estrategia, Plataformas, Puzle</td>\n",
       "      <td>Nintendo Switch</td>\n",
       "      <td>Deleveled es un juego de puzles distribuido po...</td>\n",
       "      <td>6.5</td>\n",
       "    </tr>\n",
       "    <tr>\n",
       "      <th>4</th>\n",
       "      <td>revogamers</td>\n",
       "      <td>https://www.revogamers.net/analisis-w/analisis...</td>\n",
       "      <td>Javier Aranda</td>\n",
       "      <td>RogueCube</td>\n",
       "      <td>Ratalaika Games</td>\n",
       "      <td>Acción, Arcade</td>\n",
       "      <td>Nintendo Switch</td>\n",
       "      <td>Se hace ya raro no ver una semana sin un estre...</td>\n",
       "      <td>6.0</td>\n",
       "    </tr>\n",
       "    <tr>\n",
       "      <th>5</th>\n",
       "      <td>revogamers</td>\n",
       "      <td>https://www.revogamers.net/analisis-w/analisis...</td>\n",
       "      <td>Carlos Firás</td>\n",
       "      <td>The Eternal Castle [REMASTERED]</td>\n",
       "      <td>None</td>\n",
       "      <td>Aventura</td>\n",
       "      <td>Nintendo Switch</td>\n",
       "      <td>Llega a nuestras Nintendo Switch un título que...</td>\n",
       "      <td>8.0</td>\n",
       "    </tr>\n",
       "    <tr>\n",
       "      <th>6</th>\n",
       "      <td>revogamers</td>\n",
       "      <td>https://www.revogamers.net/analisis-w/analisis...</td>\n",
       "      <td>Javier Aranda</td>\n",
       "      <td>RollerCoaster Tycoon 3 Complete Edition</td>\n",
       "      <td>Frontier</td>\n",
       "      <td>Simulación</td>\n",
       "      <td>Nintendo Switch</td>\n",
       "      <td>Uno de los simuladores más emblemáticos de hac...</td>\n",
       "      <td>8.0</td>\n",
       "    </tr>\n",
       "    <tr>\n",
       "      <th>7</th>\n",
       "      <td>revogamers</td>\n",
       "      <td>https://www.revogamers.net/analisis-w/analisis...</td>\n",
       "      <td>Javier Aranda</td>\n",
       "      <td>NBA 2K21</td>\n",
       "      <td>Take-Two Interactive</td>\n",
       "      <td>Deportes, Simulación</td>\n",
       "      <td>Nintendo Switch</td>\n",
       "      <td>Los títulos deportivos no paran de llegar a la...</td>\n",
       "      <td>7.0</td>\n",
       "    </tr>\n",
       "    <tr>\n",
       "      <th>8</th>\n",
       "      <td>revogamers</td>\n",
       "      <td>https://www.revogamers.net/analisis-w/analisis...</td>\n",
       "      <td>Marcos Catalán</td>\n",
       "      <td>Análisis de MX vs ATV All Out</td>\n",
       "      <td>None</td>\n",
       "      <td>None</td>\n",
       "      <td>Nintendo Switch</td>\n",
       "      <td>La saga MX vs ATV no es nueva y nos ha dejado ...</td>\n",
       "      <td>4.5</td>\n",
       "    </tr>\n",
       "    <tr>\n",
       "      <th>9</th>\n",
       "      <td>revogamers</td>\n",
       "      <td>https://www.revogamers.net/analisis-w/analisis...</td>\n",
       "      <td>Javier Aranda</td>\n",
       "      <td>Análisis de MO:Astray</td>\n",
       "      <td>None</td>\n",
       "      <td>None</td>\n",
       "      <td>Nintendo Switch</td>\n",
       "      <td>Rayark es ya una experta en Nintendo Switch. H...</td>\n",
       "      <td>8.5</td>\n",
       "    </tr>\n",
       "  </tbody>\n",
       "</table>\n",
       "</div>"
      ],
      "text/plain": [
       "         site                                           url_link  \\\n",
       "0  revogamers  https://www.revogamers.net/analisis-w/analisis...   \n",
       "1  revogamers  https://www.revogamers.net/analisis-w/analisis...   \n",
       "2  revogamers  https://www.revogamers.net/analisis-w/analisis...   \n",
       "3  revogamers  https://www.revogamers.net/analisis-w/analisis...   \n",
       "4  revogamers  https://www.revogamers.net/analisis-w/analisis...   \n",
       "5  revogamers  https://www.revogamers.net/analisis-w/analisis...   \n",
       "6  revogamers  https://www.revogamers.net/analisis-w/analisis...   \n",
       "7  revogamers  https://www.revogamers.net/analisis-w/analisis...   \n",
       "8  revogamers  https://www.revogamers.net/analisis-w/analisis...   \n",
       "9  revogamers  https://www.revogamers.net/analisis-w/analisis...   \n",
       "\n",
       "           author                                      game  \\\n",
       "0    Carlos Firás                               Going Under   \n",
       "1   Javier Aranda                          Kirby Fighters 2   \n",
       "2    Carlos Firás                                Lost Ember   \n",
       "3   Arturo Albero                                 Deleveled   \n",
       "4   Javier Aranda                                 RogueCube   \n",
       "5    Carlos Firás           The Eternal Castle [REMASTERED]   \n",
       "6   Javier Aranda   RollerCoaster Tycoon 3 Complete Edition   \n",
       "7   Javier Aranda                                  NBA 2K21   \n",
       "8  Marcos Catalán             Análisis de MX vs ATV All Out   \n",
       "9   Javier Aranda                     Análisis de MO:Astray   \n",
       "\n",
       "                             company                                   genre  \\\n",
       "0                               None                                    None   \n",
       "1                     HAL Laboratory                                   Lucha   \n",
       "2                               None                                    None   \n",
       "3  The Quantum Astrophysicists Guild  Acción, Estrategia, Plataformas, Puzle   \n",
       "4                    Ratalaika Games                          Acción, Arcade   \n",
       "5                               None                                Aventura   \n",
       "6                           Frontier                              Simulación   \n",
       "7               Take-Two Interactive                    Deportes, Simulación   \n",
       "8                               None                                    None   \n",
       "9                               None                                    None   \n",
       "\n",
       "          platform                                               text  score  \n",
       "0  Nintendo Switch  Llega a nuestras Nintendo Switch un juego que ...    8.0  \n",
       "1  Nintendo Switch  Kirby ha demostrado en más de una ocasión que ...    7.5  \n",
       "2  Nintendo Switch  Llega a nuestras Nintendo Switch un juego que ...    7.5  \n",
       "3  Nintendo Switch  Deleveled es un juego de puzles distribuido po...    6.5  \n",
       "4  Nintendo Switch  Se hace ya raro no ver una semana sin un estre...    6.0  \n",
       "5  Nintendo Switch  Llega a nuestras Nintendo Switch un título que...    8.0  \n",
       "6  Nintendo Switch  Uno de los simuladores más emblemáticos de hac...    8.0  \n",
       "7  Nintendo Switch  Los títulos deportivos no paran de llegar a la...    7.0  \n",
       "8  Nintendo Switch  La saga MX vs ATV no es nueva y nos ha dejado ...    4.5  \n",
       "9  Nintendo Switch  Rayark es ya una experta en Nintendo Switch. H...    8.5  "
      ]
     },
     "execution_count": 84,
     "metadata": {},
     "output_type": "execute_result"
    }
   ],
   "source": [
    "revogamers = pd.DataFrame.from_dict(result_revo_test, orient='index')\n",
    "\n",
    "revogamers"
   ]
  },
  {
   "cell_type": "code",
   "execution_count": 37,
   "metadata": {},
   "outputs": [],
   "source": [
    "#revogamers.to_csv('../data/revogamers_100l.csv', index=False)"
   ]
  },
  {
   "cell_type": "code",
   "execution_count": 33,
   "metadata": {},
   "outputs": [
    {
     "data": {
      "text/plain": [
       "82"
      ]
     },
     "execution_count": 33,
     "metadata": {},
     "output_type": "execute_result"
    }
   ],
   "source": [
    "len(result_revo_test)"
   ]
  },
  {
   "cell_type": "code",
   "execution_count": null,
   "metadata": {},
   "outputs": [],
   "source": []
  }
 ],
 "metadata": {
  "kernelspec": {
   "display_name": "Python [conda env:lab_env]",
   "language": "python",
   "name": "conda-env-lab_env-py"
  },
  "language_info": {
   "codemirror_mode": {
    "name": "ipython",
    "version": 3
   },
   "file_extension": ".py",
   "mimetype": "text/x-python",
   "name": "python",
   "nbconvert_exporter": "python",
   "pygments_lexer": "ipython3",
   "version": "3.7.3"
  }
 },
 "nbformat": 4,
 "nbformat_minor": 4
}
