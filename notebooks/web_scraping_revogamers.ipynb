{
 "cells": [
  {
   "cell_type": "markdown",
   "metadata": {},
   "source": [
    "# Scraping REVOGAMERS"
   ]
  },
  {
   "cell_type": "code",
   "execution_count": 1,
   "metadata": {},
   "outputs": [],
   "source": [
    "import requests\n",
    "from bs4 import BeautifulSoup\n",
    "import time\n",
    "import pandas as pd\n",
    "import numpy as np\n",
    "import newspaper\n",
    "from newspaper import Article\n",
    "from newspaper import Source\n",
    "from newspaper import fulltext"
   ]
  },
  {
   "cell_type": "markdown",
   "metadata": {},
   "source": [
    "## Scraping Articles Site "
   ]
  },
  {
   "cell_type": "code",
   "execution_count": 2,
   "metadata": {},
   "outputs": [
    {
     "data": {
      "text/plain": [
       "b'<!DOCTYPE html><html lang=\"es\"><head><meta charset'"
      ]
     },
     "execution_count": 2,
     "metadata": {},
     "output_type": "execute_result"
    }
   ],
   "source": [
    "review_url = 'https://www.revogamers.net/analisis-w/'\n",
    "html = requests.get(review_url).content\n",
    "html[:50]"
   ]
  },
  {
   "cell_type": "code",
   "execution_count": 3,
   "metadata": {},
   "outputs": [],
   "source": [
    "soup = BeautifulSoup(html, 'lxml')\n",
    "articles = soup.find_all('h2')"
   ]
  },
  {
   "cell_type": "code",
   "execution_count": 4,
   "metadata": {},
   "outputs": [
    {
     "data": {
      "text/plain": [
       "['Análisis de Kirby Fighters 2',\n",
       " 'Análisis de Lost Ember',\n",
       " 'Análisis de Deleveled',\n",
       " 'Análisis de RogueCube',\n",
       " 'Análisis de The Eternal Castle [REMASTERED]',\n",
       " 'Análisis de RollerCoaster Tycoon 3',\n",
       " 'Análisis de NBA 2K21',\n",
       " 'Análisis de MX vs ATV All Out',\n",
       " 'Análisis de MO:Astray',\n",
       " 'Análisis de Mini Motor Racing X',\n",
       " 'Análisis de Clash Force',\n",
       " 'Análisis de Nexomon: Extinction',\n",
       " 'Análisis de Super Mario 3D All Stars',\n",
       " 'Análisis de Adventures of Pip',\n",
       " 'Análisis de JUMP FORCE - Deluxe Edition',\n",
       " 'Análisis de Ary and the Secret of Seasons',\n",
       " 'Análisis de Minoria',\n",
       " 'Análisis de Windbound',\n",
       " 'Análisis de RPG Maker MV',\n",
       " 'Análisis de PGA TOUR 2K21',\n",
       " 'Ghost of a Tale llega el 8 de octubre']"
      ]
     },
     "execution_count": 4,
     "metadata": {},
     "output_type": "execute_result"
    }
   ],
   "source": [
    "#Extraer títulos\n",
    "\n",
    "titles = []\n",
    "\n",
    "for a in articles:\n",
    "    titles.append(a.find('a')['title'])\n",
    "    \n",
    "titles"
   ]
  },
  {
   "cell_type": "code",
   "execution_count": 5,
   "metadata": {},
   "outputs": [
    {
     "name": "stdout",
     "output_type": "stream",
     "text": [
      "['https://www.revogamers.net/analisis-w/analisis-de-kirby-fighters-2-56351/', 'https://www.revogamers.net/analisis-w/analisis-de-lost-ember-55953/', 'https://www.revogamers.net/analisis-w/analisis-de-deleveled-56312/', 'https://www.revogamers.net/analisis-w/analisis-de-roguecube-55049/', 'https://www.revogamers.net/analisis-w/analisis-de-the-eternal-castle-remastered-56099/', 'https://www.revogamers.net/analisis-w/analisis-de-rollercoaster-tycoon-3-55891/', 'https://www.revogamers.net/analisis-w/analisis-de-nba-2k21-55893/', 'https://www.revogamers.net/analisis-w/analisis-de-mx-vs-atv-all-out-56009/', 'https://www.revogamers.net/analisis-w/analisis-de-moastray-54977/', 'https://www.revogamers.net/analisis-w/analisis-de-mini-motor-racing-55871/', 'https://www.revogamers.net/analisis-w/analisis-de-clash-force-55047/', 'https://www.revogamers.net/analisis-w/analisis-de-nexomonextinction-55740/', 'https://www.revogamers.net/analisis-w/analisis-de-super-mario-3d-all-stars-55036/', 'https://www.revogamers.net/analisis-w/analisis-de-adventures-of-pip-54962/', 'https://www.revogamers.net/analisis-w/analisis-de-jump-force-deluxe-edition-55261/', 'https://www.revogamers.net/analisis-w/analisis-de-ary-and-the-secret-of-seasons-55346/', 'https://www.revogamers.net/analisis-w/analisis-de-minoria-54971/', 'https://www.revogamers.net/analisis-w/analisis-de-windbound-55062/', 'https://www.revogamers.net/analisis-w/analisis-de-rpg-maker-mv-55171/', 'https://www.revogamers.net/analisis-w/analisis-pga-tour-2k21-55161/']\n"
     ]
    }
   ],
   "source": [
    "#Extraer links\n",
    "\n",
    "links = []\n",
    "\n",
    "for a in articles:\n",
    "    links.append(a.find('a')['href'])\n",
    "\n",
    "for link in links:\n",
    "    if 'analisis' not in link:\n",
    "        links.remove(link)\n",
    "\n",
    "print(links)\n"
   ]
  },
  {
   "cell_type": "markdown",
   "metadata": {},
   "source": [
    "## Page parsing and link retrieving function for Revogamers"
   ]
  },
  {
   "cell_type": "code",
   "execution_count": 6,
   "metadata": {},
   "outputs": [],
   "source": [
    "def revogamers_link_retrieve(num_pages):\n",
    "    links = []\n",
    "    \n",
    "    # pages parser\n",
    "    for i in range(num_pages):\n",
    "        url = f'https://www.revogamers.net/analisis-w/page/{i+1}'\n",
    "        #print(url)\n",
    "\n",
    "        # building soup    \n",
    "        html = requests.get(url).content\n",
    "        soup = BeautifulSoup(html, 'lxml')\n",
    "        articles = soup.find_all('h2')\n",
    "\n",
    "        # links retrieve\n",
    "        for a in articles:\n",
    "            links.append(a.find('a')['href'])\n",
    "        \n",
    "        #print(links)\n",
    "    \n",
    "    #Deleting non review links\n",
    "    for link in links:\n",
    "        if 'analisis' not in link:\n",
    "            links.remove(link)\n",
    "                \n",
    "    return links\n"
   ]
  },
  {
   "cell_type": "code",
   "execution_count": 7,
   "metadata": {},
   "outputs": [
    {
     "name": "stdout",
     "output_type": "stream",
     "text": [
      "['https://www.revogamers.net/analisis-w/analisis-de-kirby-fighters-2-56351/', 'https://www.revogamers.net/analisis-w/analisis-de-lost-ember-55953/', 'https://www.revogamers.net/analisis-w/analisis-de-deleveled-56312/', 'https://www.revogamers.net/analisis-w/analisis-de-roguecube-55049/', 'https://www.revogamers.net/analisis-w/analisis-de-the-eternal-castle-remastered-56099/', 'https://www.revogamers.net/analisis-w/analisis-de-rollercoaster-tycoon-3-55891/', 'https://www.revogamers.net/analisis-w/analisis-de-nba-2k21-55893/', 'https://www.revogamers.net/analisis-w/analisis-de-mx-vs-atv-all-out-56009/', 'https://www.revogamers.net/analisis-w/analisis-de-moastray-54977/', 'https://www.revogamers.net/analisis-w/analisis-de-mini-motor-racing-55871/', 'https://www.revogamers.net/analisis-w/analisis-de-clash-force-55047/', 'https://www.revogamers.net/analisis-w/analisis-de-nexomonextinction-55740/', 'https://www.revogamers.net/analisis-w/analisis-de-super-mario-3d-all-stars-55036/', 'https://www.revogamers.net/analisis-w/analisis-de-adventures-of-pip-54962/', 'https://www.revogamers.net/analisis-w/analisis-de-jump-force-deluxe-edition-55261/', 'https://www.revogamers.net/analisis-w/analisis-de-ary-and-the-secret-of-seasons-55346/', 'https://www.revogamers.net/analisis-w/analisis-de-minoria-54971/', 'https://www.revogamers.net/analisis-w/analisis-de-windbound-55062/', 'https://www.revogamers.net/analisis-w/analisis-de-rpg-maker-mv-55171/', 'https://www.revogamers.net/analisis-w/analisis-pga-tour-2k21-55161/', 'https://www.revogamers.net/noticias-w/nintendo-switch/ghost-of-a-tale-llega-8-octubre-56418/']\n",
      "['https://www.revogamers.net/analisis-w/analisis-de-kirby-fighters-2-56351/', 'https://www.revogamers.net/analisis-w/analisis-de-lost-ember-55953/', 'https://www.revogamers.net/analisis-w/analisis-de-deleveled-56312/', 'https://www.revogamers.net/analisis-w/analisis-de-roguecube-55049/', 'https://www.revogamers.net/analisis-w/analisis-de-the-eternal-castle-remastered-56099/', 'https://www.revogamers.net/analisis-w/analisis-de-rollercoaster-tycoon-3-55891/', 'https://www.revogamers.net/analisis-w/analisis-de-nba-2k21-55893/', 'https://www.revogamers.net/analisis-w/analisis-de-mx-vs-atv-all-out-56009/', 'https://www.revogamers.net/analisis-w/analisis-de-moastray-54977/', 'https://www.revogamers.net/analisis-w/analisis-de-mini-motor-racing-55871/', 'https://www.revogamers.net/analisis-w/analisis-de-clash-force-55047/', 'https://www.revogamers.net/analisis-w/analisis-de-nexomonextinction-55740/', 'https://www.revogamers.net/analisis-w/analisis-de-super-mario-3d-all-stars-55036/', 'https://www.revogamers.net/analisis-w/analisis-de-adventures-of-pip-54962/', 'https://www.revogamers.net/analisis-w/analisis-de-jump-force-deluxe-edition-55261/', 'https://www.revogamers.net/analisis-w/analisis-de-ary-and-the-secret-of-seasons-55346/', 'https://www.revogamers.net/analisis-w/analisis-de-minoria-54971/', 'https://www.revogamers.net/analisis-w/analisis-de-windbound-55062/', 'https://www.revogamers.net/analisis-w/analisis-de-rpg-maker-mv-55171/', 'https://www.revogamers.net/analisis-w/analisis-pga-tour-2k21-55161/', 'https://www.revogamers.net/noticias-w/nintendo-switch/ghost-of-a-tale-llega-8-octubre-56418/', 'https://www.revogamers.net/analisis-w/analisis-captain-tsubasa-rise-of-new-champions-55134/', 'https://www.revogamers.net/analisis-w/analisis-de-minecraft-dungeons-hero-edition-54935/', 'https://www.revogamers.net/analisis-w/analisis-de-inertial-drift-55093/', 'https://www.revogamers.net/analisis-w/analisis-de-evergate-55000/', 'https://www.revogamers.net/analisis-w/analisis-de-struggling-54896/', 'https://www.revogamers.net/analisis-w/analisis-de-manifold-garden-54780/', 'https://www.revogamers.net/analisis-w/analisis-de-peaky-blinders-mastermind-54845/', 'https://www.revogamers.net/analisis-w/analisis-de-jenny-leclue-detectivu-54638/', 'https://www.revogamers.net/analisis-w/analisis-de-short-hike-54658/', 'https://www.revogamers.net/analisis-w/analisis-de-bite-the-bullet-54633/', 'https://www.revogamers.net/analisis-w/analisis-de-metamorphosis-54745/', 'https://www.revogamers.net/analisis-w/analisis-de-no-straight-roads-54711/', 'https://www.revogamers.net/analisis-w/analisis-de-paper-mariothe-origami-king-54681/', 'https://www.revogamers.net/analisis-w/analisis-de-darkestville-castle-54363/', 'https://www.revogamers.net/analisis-w/analisis-de-helheim-hassle-54600/', 'https://www.revogamers.net/analisis-w/analisis-de-cruel-bands-career-54357/', 'https://www.revogamers.net/analisis-w/analisis-de-the-ambassadorfractured-timelines-54360/', 'https://www.revogamers.net/analisis-w/analisis-de-aeolis-tournament-54354/', 'https://www.revogamers.net/analisis-w/analisis-de-distraint-2-54252/', 'https://www.revogamers.net/analisis-w/analisis-rock-of-ages-iii-54455/', 'https://www.revogamers.net/noticias-w/nintendo-switch/ghost-of-a-tale-llega-8-octubre-56418/']\n",
      "['https://www.revogamers.net/analisis-w/analisis-de-kirby-fighters-2-56351/', 'https://www.revogamers.net/analisis-w/analisis-de-lost-ember-55953/', 'https://www.revogamers.net/analisis-w/analisis-de-deleveled-56312/', 'https://www.revogamers.net/analisis-w/analisis-de-roguecube-55049/', 'https://www.revogamers.net/analisis-w/analisis-de-the-eternal-castle-remastered-56099/', 'https://www.revogamers.net/analisis-w/analisis-de-rollercoaster-tycoon-3-55891/', 'https://www.revogamers.net/analisis-w/analisis-de-nba-2k21-55893/', 'https://www.revogamers.net/analisis-w/analisis-de-mx-vs-atv-all-out-56009/', 'https://www.revogamers.net/analisis-w/analisis-de-moastray-54977/', 'https://www.revogamers.net/analisis-w/analisis-de-mini-motor-racing-55871/', 'https://www.revogamers.net/analisis-w/analisis-de-clash-force-55047/', 'https://www.revogamers.net/analisis-w/analisis-de-nexomonextinction-55740/', 'https://www.revogamers.net/analisis-w/analisis-de-super-mario-3d-all-stars-55036/', 'https://www.revogamers.net/analisis-w/analisis-de-adventures-of-pip-54962/', 'https://www.revogamers.net/analisis-w/analisis-de-jump-force-deluxe-edition-55261/', 'https://www.revogamers.net/analisis-w/analisis-de-ary-and-the-secret-of-seasons-55346/', 'https://www.revogamers.net/analisis-w/analisis-de-minoria-54971/', 'https://www.revogamers.net/analisis-w/analisis-de-windbound-55062/', 'https://www.revogamers.net/analisis-w/analisis-de-rpg-maker-mv-55171/', 'https://www.revogamers.net/analisis-w/analisis-pga-tour-2k21-55161/', 'https://www.revogamers.net/analisis-w/analisis-captain-tsubasa-rise-of-new-champions-55134/', 'https://www.revogamers.net/analisis-w/analisis-de-minecraft-dungeons-hero-edition-54935/', 'https://www.revogamers.net/analisis-w/analisis-de-inertial-drift-55093/', 'https://www.revogamers.net/analisis-w/analisis-de-evergate-55000/', 'https://www.revogamers.net/analisis-w/analisis-de-struggling-54896/', 'https://www.revogamers.net/analisis-w/analisis-de-manifold-garden-54780/', 'https://www.revogamers.net/analisis-w/analisis-de-peaky-blinders-mastermind-54845/', 'https://www.revogamers.net/analisis-w/analisis-de-jenny-leclue-detectivu-54638/', 'https://www.revogamers.net/analisis-w/analisis-de-short-hike-54658/', 'https://www.revogamers.net/analisis-w/analisis-de-bite-the-bullet-54633/', 'https://www.revogamers.net/analisis-w/analisis-de-metamorphosis-54745/', 'https://www.revogamers.net/analisis-w/analisis-de-no-straight-roads-54711/', 'https://www.revogamers.net/analisis-w/analisis-de-paper-mariothe-origami-king-54681/', 'https://www.revogamers.net/analisis-w/analisis-de-darkestville-castle-54363/', 'https://www.revogamers.net/analisis-w/analisis-de-helheim-hassle-54600/', 'https://www.revogamers.net/analisis-w/analisis-de-cruel-bands-career-54357/', 'https://www.revogamers.net/analisis-w/analisis-de-the-ambassadorfractured-timelines-54360/', 'https://www.revogamers.net/analisis-w/analisis-de-aeolis-tournament-54354/', 'https://www.revogamers.net/analisis-w/analisis-de-distraint-2-54252/', 'https://www.revogamers.net/analisis-w/analisis-rock-of-ages-iii-54455/']\n"
     ]
    }
   ],
   "source": [
    "num_pages = 2\n",
    "\n",
    "links = revogamers_link_retrieve(num_pages)\n",
    "\n",
    "print(links)"
   ]
  },
  {
   "cell_type": "markdown",
   "metadata": {},
   "source": [
    "## Scraping Single Review"
   ]
  },
  {
   "cell_type": "code",
   "execution_count": null,
   "metadata": {},
   "outputs": [],
   "source": []
  },
  {
   "cell_type": "code",
   "execution_count": 19,
   "metadata": {},
   "outputs": [
    {
     "data": {
      "text/plain": [
       "b'<!DOCTYPE html><html lang=\"es\"><head><meta charset'"
      ]
     },
     "execution_count": 19,
     "metadata": {},
     "output_type": "execute_result"
    }
   ],
   "source": [
    "review_url = 'https://www.revogamers.net/analisis-w/analisis-rock-of-ages-iii-54455/'\n",
    "review_html = requests.get(review_url).content\n",
    "review_html[:50]"
   ]
  },
  {
   "cell_type": "code",
   "execution_count": 20,
   "metadata": {},
   "outputs": [],
   "source": [
    "soup = BeautifulSoup(review_html, 'lxml')"
   ]
  },
  {
   "cell_type": "code",
   "execution_count": 21,
   "metadata": {},
   "outputs": [],
   "source": [
    "#Text + cleaning\n",
    "article = soup.find('div', {'class': 'gp-entry-content'}).find_all('p')"
   ]
  },
  {
   "cell_type": "code",
   "execution_count": 22,
   "metadata": {},
   "outputs": [],
   "source": [
    "review = [tag.text for tag in article]\n",
    "review = ' '.join(review)"
   ]
  },
  {
   "cell_type": "code",
   "execution_count": 23,
   "metadata": {},
   "outputs": [
    {
     "data": {
      "text/plain": [
       "'Poco más de un año después de que su divertida segunda parte echara a rodar en Nintendo Switch le ha llegado el turno a este Rock of Ages III: Make & Break, un título que sigue siendo tan divertido como su predecesor aunque mucho menos impactante e imaginativo. Por suerte, el contar con un editor de escenarios y modos alargará su vida todo lo que gustemos.  Después de ver imágenes o incluso el vídeo, muchos aún os estaréis preguntando de qué va la saga. Rock of Ages, ya toda una trilogía, son una serie de tower defense divididos básicamente en dos secciones. En la primera de ellas habremos de colocar a lo largo de un sinuoso recorrido diferentes obstáculos para que una bola de piedra gigante no atraviese las puertas de nuestro castillo, y en la segunda nosotros seremos esa misma bola, solo que dirigidos contra nuestro enemigo, quien también intentará no ser aplastado. Hay más modos, como contrarreloj o carreras de obstáculos, pero la gracia del juego es precisamente su modo principal y sobre todo cómo este está contado. Rock of Ages II, así como su primera parte, mostraban unas escenas no sabemos si de cuadro del medievo o de títulos de entrada y salida de una película de los Monty Python, lo que acompañaba a una historia plagada de figuras históricas y de humor. Rock of Ages III: Make & Break hace algo parecido pero se adentra más en los clásicos, con Odiseo en primer lugar y siguiendo con Julio César, Moctezuma, el Monstruo Espagueti Volador (¡sí!) y tantos otros una ruta que nos llevará por barco adelante y atrás en el tiempo; todo lo que no podía hacer el globo aerostático manejado por Homer Simpson. Sin embargo, el estilo artístico ha cambiado sustancialmente, no mucho, pero lo suficiente como para que echemos de menos el colorido y el humor de los anteriores títulos. Eso sí, ahora se siente todo más propio, más dinámico, incluso se han añadido algunos elementos 3D en los escenarios, pero no acaban de encajar. Puede que el problema sea también el uso del Unreal Engine, ya que es un motor tan versátil que no hace falta apenas optimizarlo para que corra en Switch, a costa de bajar parámetros hasta que la cosa funciona, claro está. Así veremos, por ejemplo, aparecer elementos de repente, especialmente en las vistas más alejadas, aunque no llega a ser algo que entorpezca en nada la jugabilidad. Rock of Ages III: Make & Break es tan divertido como su predecesor, hasta puede que un poco más al haber introducido algo tan pequeño como sustancial como es el no parar de recolectar dinero llovido del cielo en plena partida además de seguir picando en minas, pero el problema es precisamente que casi todo lo demás es igual. Torretas y toda clase de obstáculos así como sus principales modos son lo mismo que ya habíamos visto antes, y dos veces.\\xa0 Sin embargo, es cierto que ahora sus desarrolladores han puesto más hincapié en que haya cierta variedad en su modo historia (Destrozar), partiendo cada punto temporal en asalto (el tower defense como tal), contrarreloj, carrera de obstáculos y demás pruebas, por lo que siempre estaremos haciendo algo, aunque el núcleo sea rodar, algo que haremos con más estilo que nunca gracias a los nuevos diseños de las piedras entre los que podremos alternar, unas rocas que, por otra parte, han perdido bastante protagonismo en la narración. Y si nos cansamos de ver a héroes y villanos clásicos pelear, siempre podremos hacer algo más productivo y crear nuestros propios niveles, los cuales podremos usar en varios de sus modos y por supuesto compartirlos con la comunidad online, o probarlos a 4 jugadores en sus diferentes modos locales. Así, serán innumerables los nuevos desafíos que nos esperarán, ya que además el editor es tan sencillo como completo y no tardaremos en crear pistas a nuestro total gusto. Es, sin duda, la mayor mejora de una tercera entrega que va perdiendo frescura pero que para los recién llegados será toda una sorpresa, aunque su humor también se haya venido un poco a menos.'"
      ]
     },
     "execution_count": 23,
     "metadata": {},
     "output_type": "execute_result"
    }
   ],
   "source": [
    "review"
   ]
  },
  {
   "cell_type": "code",
   "execution_count": 24,
   "metadata": {},
   "outputs": [
    {
     "data": {
      "text/plain": [
       "'Marcos Catalán'"
      ]
     },
     "execution_count": 24,
     "metadata": {},
     "output_type": "execute_result"
    }
   ],
   "source": [
    "# Author\n",
    "\n",
    "author = soup.find('span', {'class': 'gp-post-meta gp-meta-author'}).find('a').text\n",
    "author"
   ]
  },
  {
   "cell_type": "code",
   "execution_count": 25,
   "metadata": {},
   "outputs": [
    {
     "data": {
      "text/plain": [
       "' Rock of Ages 3: Make & Break'"
      ]
     },
     "execution_count": 25,
     "metadata": {},
     "output_type": "execute_result"
    }
   ],
   "source": [
    "# Game\n",
    "\n",
    "game = soup.find('h3', {'class': 'gp-rating-box-title'}).text\n",
    "game"
   ]
  },
  {
   "cell_type": "code",
   "execution_count": 154,
   "metadata": {},
   "outputs": [
    {
     "name": "stdout",
     "output_type": "stream",
     "text": [
      "Acción, Carreras, Estrategia ACE Team Software Nintendo Switch\n"
     ]
    }
   ],
   "source": [
    "# Genre, Company and Platform\n",
    "\n",
    "company = soup.find_all('span', {'class': 'gp-hub-field-list'})\n",
    "\n",
    "genre, company, platform = [tag.text for tag in company]\n"
   ]
  },
  {
   "cell_type": "code",
   "execution_count": 98,
   "metadata": {},
   "outputs": [
    {
     "name": "stdout",
     "output_type": "stream",
     "text": [
      "['Genero:', 'Desarrolladora:', 'Sistema:', 'Genero:', 'Desarrolladora:', 'Sistema:']\n"
     ]
    }
   ],
   "source": [
    "group = soup.find_all('div', {'class': 'gp-hub-field'})\n",
    "for a in group:\n",
    "    bes.append(a.find('span', {'class': 'gp-hub-field-name'}).text)\n",
    "\n",
    "print(bes)"
   ]
  },
  {
   "cell_type": "code",
   "execution_count": 95,
   "metadata": {},
   "outputs": [
    {
     "data": {
      "text/plain": [
       "'Nintendo Switch'"
      ]
     },
     "execution_count": 95,
     "metadata": {},
     "output_type": "execute_result"
    }
   ],
   "source": [
    "\n",
    "for span in group:\n",
    "    if 'Genero:' in span.find('span', {'class': 'gp-hub-field-name'}).text:\n",
    "        genero = span.find('span', {'class': 'gp-hub-field-list'}).text\n",
    "        \n",
    "    if 'Desarrolladora:' in span.find('span', {'class': 'gp-hub-field-name'}).text:\n",
    "        estudio = span.find('span', {'class': 'gp-hub-field-list'}).text\n",
    "        \n",
    "    if 'Sistema:' in span.find('span', {'class': 'gp-hub-field-name'}).text:\n",
    "        plataforma = span.find('span', {'class': 'gp-hub-field-list'}).text\n",
    "        \n",
    "    "
   ]
  },
  {
   "cell_type": "code",
   "execution_count": 145,
   "metadata": {},
   "outputs": [],
   "source": [
    "# Score\n",
    "\n",
    "score = soup.find('div', {'class': 'gp-rating-score'}).text.strip()\n",
    "score = float(score)"
   ]
  },
  {
   "cell_type": "code",
   "execution_count": 146,
   "metadata": {},
   "outputs": [
    {
     "data": {
      "text/plain": [
       "7.5"
      ]
     },
     "execution_count": 146,
     "metadata": {},
     "output_type": "execute_result"
    }
   ],
   "source": [
    "score"
   ]
  },
  {
   "cell_type": "markdown",
   "metadata": {},
   "source": [
    "## Create columns"
   ]
  },
  {
   "cell_type": "code",
   "execution_count": 96,
   "metadata": {},
   "outputs": [],
   "source": [
    "\n",
    "def revogamers_dict(links):\n",
    "    reviews_dict = {}\n",
    "    i = 0\n",
    "\n",
    "    for link in links:\n",
    "\n",
    "        #Request content and wait\n",
    "        review_html = requests.get(link).content\n",
    "        \n",
    "        #Avoid get banned and timeout\n",
    "        time.sleep(5)\n",
    "\n",
    "        #Make a Soup and a Newspacer build\n",
    "        soup = BeautifulSoup(review_html, 'lxml')\n",
    "        paper = newspaper.build(link)\n",
    "\n",
    "        #Site name - From Newspaper\n",
    "        site = paper.brand\n",
    "\n",
    "        #URL - From Newspaper\n",
    "        url_link = paper.url\n",
    "\n",
    "        #Author - From Scraping\n",
    "        author = soup.find('span', {'class': 'gp-post-meta gp-meta-author'}).find('a').text\n",
    "\n",
    "        #Game - From Scraping\n",
    "        game = soup.find('h3', {'class': 'gp-rating-box-title'}).text\n",
    "        \n",
    "        #Company, Genre & Platform - From Scraping\n",
    "        \n",
    "        genre = 'None'\n",
    "        company = 'None'\n",
    "        platform = 'Nintendo Switch'\n",
    "        \n",
    "        elems = soup.find_all('span', {'class': 'gp-hub-field-list'})\n",
    "        if len(elems) == 3:\n",
    "            genre, company, platform = [elem.text for elem in elems]\n",
    "        else:\n",
    "            for elem in elems:\n",
    "                if 'Genero:' in span.find('span', {'class': 'gp-hub-field-name'}).text:\n",
    "                    genre = span.find('span', {'class': 'gp-hub-field-list'}).text\n",
    "\n",
    "                if 'Desarrolladora:' in span.find('span', {'class': 'gp-hub-field-name'}).text:\n",
    "                    company = span.find('span', {'class': 'gp-hub-field-list'}).text\n",
    "\n",
    "                if 'Sistema:' in span.find('span', {'class': 'gp-hub-field-name'}).text:\n",
    "                    platform = span.find('span', {'class': 'gp-hub-field-list'}).text\n",
    "                    \n",
    "        \n",
    "\n",
    "        #Text & Cleaning - From Scraping\n",
    "        article = soup.find('div', {'class': 'gp-entry-content'}).find_all('p')\n",
    "        review = [tag.text for tag in article]\n",
    "        review = ' '.join(review)\n",
    "\n",
    "        #Score & Clean & Transform - From Scraping\n",
    "        score = soup.find('div', {'class': 'gp-rating-score'}).text.strip()\n",
    "        score = float(score)\n",
    "\n",
    "        #Add to a dict\n",
    "        reviews_dict[i] = {'site': site,\n",
    "                           'url_link': url_link,\n",
    "                           'author': author,\n",
    "                           'game': game,\n",
    "                           'company': company,\n",
    "                           'genre': genre,\n",
    "                           'platform': platform,\n",
    "                           'text': review,\n",
    "                           'score': score}\n",
    "        \n",
    "        i = i+1\n",
    "\n",
    "    return reviews_dict"
   ]
  },
  {
   "cell_type": "code",
   "execution_count": 97,
   "metadata": {},
   "outputs": [
    {
     "name": "stdout",
     "output_type": "stream",
     "text": [
      "{0: {'site': 'revogamers', 'url_link': 'https://www.revogamers.net/analisis-w/analisis-de-kirby-fighters-2-56351/', 'author': 'Javier Aranda', 'game': ' Kirby Fighters 2', 'company': 'HAL Laboratory', 'genre': 'Lucha', 'platform': 'Nintendo Switch', 'text': 'Kirby ha demostrado en más de una ocasión que sus modos de juego adicionales a las historias de sus títulos son capaces de convertirse en lanzamientos por sí mismos. Lo hemos visto en 3DS y también en Switch. Ahora llega Kirby Fighters 2, con los gráficos de Kirby Star Allies y muchas novedades respecto a su precuela.  En Kirby siempre ha habido muchos combates, por lo que no es de extrañar que este «Smash Bros» con la jugabilidad propia de la saga de la bola redonda volviese a aparecer en algún momento. Al igual que todos sus títulos, tiene una dificultad muy accesible para todo tipo de jugadores, aunque también tiene extras algo más complejos que, sin llegar a ser una pesadilla, suben el nivel de reto considerablemente. Lo principal que tenemos aquí son combates de hasta cuatro jugadores (todos contra todos o por parejas) en la misma consola, en juego local o en línea. Este último es algo más lento para encontrar jugadores que el visto en el free to play de Kirby, pero todos los combates que hemos jugado transcurren a buen ritmo y, gracias a que una vez que morimos reaparecemos como fantasmas, nunca hay grandes períodos de tiempo en los que solo miramos como ocurre en otros títulos del género. Pero sabe también ofrecer diversión para una o dos personas con un «modo historia» en el que tenemos que recorrer,\\xa0acompañados de Waddle Dee, varias plantas de una torre con ciertas limitaciones de vida y con varias mejoras entre las que podemos elegir tras acabar cada combate. Sirve principalmente com otoma de contacto para ir subiendo niveles de jugador, algo que nos va desbloqueando nuevos poderes de Kirby, apariencias, mejoras para desbloquear y algún extra más. Si nos sabe a poco, podemos también ir al modo En Solitario, en el que tenemos que hacer frente a varios enemigos seguidos a modo de supervivencia sin ayuda de ningún compañero humano o de CPU.  Jugar a este título es muy fácil, y si se conoce la saga es inmediato. Aquí Kirby no consigue habilidades al absorber enemigos, sino que, al igual que ocurre en los modos «Arena» de sus juegos, podemos elegir una habilidad para tenerla equipada de serie y con ella hacer frente a todo lo que nos viene. Todos\\xa0 los movimientos y ataques se realizan con combinaciones sencillas del stick y los botones B y A, aunque también disponemos de un escudo con los botones superiores y de un «agarre» con la boca (novedad interesante) pulsando Y. El mecanismo jugable es extremadamente sencillo, por lo que los más acérrimos a los juegos de lucha bien complejos con muchos combos y velocidad de combate no van a encontrar aquí un aliado. Es más, este título tiene como público principal a los seguidores de la saga, o bien a aquellos que busquen una experiencia Smash más relajada o de iniciación. El juego da para muchas horas, siempre y cuando hagamos uso del multijugador, ya que, a no ser que seamos amantes de desbloquear todo y completar el juego con todos los poderes, las experiencias para un jugador se pueden quedar cortas. A nivel gráfico y sonoro, estamos ante todo lo que hemos visto ya en Kirby para Switch, y puede que incluso algo mejor en algunas animaciones (y con el disfraz de lucha libre como novedad). No es un estilo muy puntero, pero sí resultón, colorido y cercano. Además, es también una especie de homenaje a la saga, pues existen un montón de escenarios y melodías clásicos de la franquicia, que rebosan felicidad – y acción – por todas partes.  Kirby Fighters 2 es más que una secuela continuista. Es un producto mucho más completo, que sabe satisfacer mejor al jugador en solitario y también a la comunidad online. Puede que si no se es fan de la franquicia o un jugador novato sepa a poco, pero para el resto es una mina de contenido a desbloquear y muchas horas de combates. Quizás muchos hubieramos preferido que este título fuese un modo dentro de un nuevo título principal de la serie, pero mientras este llega es un aperitivo interesante.', 'score': 7.5}, 1: {'site': 'revogamers', 'url_link': 'https://www.revogamers.net/analisis-w/analisis-de-lost-ember-55953/', 'author': 'Carlos Firás', 'game': ' Lost Ember', 'company': 'None', 'genre': 'None', 'platform': 'Nintendo Switch', 'text': 'Llega a nuestras Nintendo Switch un juego que te invita a formar parte de la naturaleza como nunca antes se había hecho. Eso es lo que nos propone Lost Ember, transformarnos en animales y recorrer los mejores paisajes naturales, conocer los secretos que en ellos se esconden. Volar, nadar, brincar y aullar. ¿Te atreves a conocer a tu animal interior?  Lost Ember es un juego de exploración en el que utilizamos las cualidades de los animales para abrirnos paso por el entorno. En el juego encarnamos a Loba, una loba que a su vez es la encarnación de una Yanrana, habitante de una antigua sociedad enorme que vivió tiempos mejores. En Lost Ember recorremos enormes paisajes preciosistas en busca de conocer la verdad sobre el misterioso ocaso de esta civilización. De esta forma, comienza un viaje hacia lo desconocido, en donde no solo conocemos lo sucedido en esta sociedad, sino que también nos conoceremos a nosotros mismos. Todo a través de enormes paisajes en donde la más pura naturaleza a tomado el control. Esto nos garantiza verdaderas estampas que van a tardar en ser borradas de nuestra memoria.  Loba, como portadora espiritual que es, tiene la habilidad de poseer cualquier animal que se encuentre a nuestro alrededor. Esto nos sirve para abrirnos paso frente a los obstáculos que nos vamos a encontrar en nuestra búsqueda de la verdad, \\xa0siendo esta la principal mecánica jugable de Lost Ember. Contamos con la posibilidad de poseer una amplia variedad de animales como aves para cruzar precipicios, peces para avanzar por ríos, topos para cruzar por debajo de altas fortificaciones, hasta cabras montesas para escalar por montañas. Incluso podemos poseer animales que tienen nula importancia para poder avanzar en la historia, solo por el placer de verles relacionarse con el entorno. Lo que también nos va a valer para conocer nuevas especies, ¿alguna vez os habíais imagino controlar un wombat? Nuestra loba correrá por los bellos escenarios en los que nuestras acciones y lo natural se vuelven uno con secuencias jugables espléndidamente coreografiadas. Básicamente lo que hacemos en Lost Ember es avanzar y contemplar. Es una experiencia minimalista en cuanto jugabilidad. En donde la capacidad de transmitir mediante el movimiento y el diseño artístico toma el protagonismo.  Artísticamente Lost Ember es una de las cosas más bellas que te puedes echar a la cara. Su diseño artístico, la creación de entornos y los majestuosos escenarios naturales entran por los ojos y llegan hasta el alma. Sonoramente también es precioso y nos deja una hermosa banda sonora para el recuerdo. Lástima que técnicamente no acompañe ya que el juego sale en Switch con varios problemas, los cuales no tienen pinta que se vayan a solventar, puesto que son los mismos que están presentes en las versiones de otros sistemas salidos a la venta allá por el 2019. Problemas como bajadas de la tasa de imágenes, congelaciones, personajes atrapados en escenarios o texturas que cargan frente a nosotros o que directamente no cargan. Otro punto negativo puede ser su duración, especialmente porque el juego cuesta 30 euros de entrada, por lo que las poco más de tres horas que podemos tardar en conocer la historia pueden saber a muy poco. Pero vale la pena perderse para explorar los escenarios y encontrar el centenar de secretos que tiene el juego escondido para nosotros.  Lost Ember es un juego que recomendamos probar. Puede ser calificado, a nuestro parecer injustamente, como un walking simulator. Pero lo cierto es que el título se siente más bien como una experiencia sensitiva. Se lleva una penalización por los problemas técnicos, pero estos no nos van a impedir experimentar sensaciones que no vas a encontrar en ninguna otra obra.', 'score': 7.5}, 2: {'site': 'revogamers', 'url_link': 'https://www.revogamers.net/analisis-w/analisis-de-deleveled-56312/', 'author': 'Arturo Albero', 'game': ' Deleveled', 'company': 'None', 'genre': 'None', 'platform': 'Nintendo Switch', 'text': 'Deleveled es un juego de puzles distribuido por The Quantum Astrophysicists Guild, que hace un uso ingenioso de recursos muy sencillos. Con una estética tan retro como moderna, cada nivel es un reto para nuestro ingenio.  Como habréis observado, el nombre Deleveled es un palíndromo. Es decir, da igual que lo leas de izquierda a derecha que de derecha a izquierda, siempre será igual. Es como si esa V central partiera en dos el nombre y actuara como espejo. Lo mismo sucede dentro de cada nivel. El escenario está dividido por una línea horizontal y nosotros tomamos el control de dos cubos, cada uno a un lado de la línea. Se mueven de forma simultánea con nuestra palanca. Cuando tocan la línea central, si caían de cierta altura, rebotan sobre la misma, como si los dos cubos se repelieran. Eso sí, si llegan a tocarse de forma literal, se desintegran. De esta forma, los cubos han de avanzar hasta la línea de meta (que es otro cubo). Conforme avanzamos, los niveles se van llenando de obstáculos que tenemos que sortear. Empezamos teniendo que saltar bloques, después hay que evitar pinchos o caídas al vacío, más adelante tenemos que bloquear uno de los cubos para hacer que no estén exactamente a la misma altura y finalmente tendremos que activar interruptores con cada cubo, pulsando el botón A, con la condición de que solo se pueden activar si están los dos cubos en un interruptor. Si nos quedamos bloqueados, podemos desintegrar de forma manual los cubos y volver al principio. Esta acción cuenta como una muerte y en cada nivel tenemos un número limitado de muertes si queremos conseguir la estrella que nos permita acceder a los niveles secretos. Ya os digo que no es nada fácil en según qué niveles hacerlos sin fallar un par de veces (suficientes para ver desaparecer nuestras opciones de conseguir la estrella). Con estas sencillas mecánicas y un diseño de niveles admirable se consiguen maravillas. Los puzles son muy variados y la dificultad escala de forma progresiva pero inexorable. Un verdadero reto para los amantes de los puzles. No lo es tanto para los no tan avezados en el género, ya que como suele ocurrir con este tipo de juegos, por muy ingeniosa que sea la mecánica principal, suelen envejecer rápido si su único atractivo es el propio puzle. Y es precisamente este el caso de Deleveled. A nivel visual es muy sencillo, simulando un aspecto retro acompañado por la música, pero con unos diseños minimalistas y, realmente, bastante modernos. Por eso decía antes que la estética es tan retro como moderna. Conforme avanzamos de mundo, cambia el color de los elementos. Los niveles están agrupados por mundos, como en un juego de móviles de hace unos años (bien podría haberlo sido). Como veis, Deleveled es en realidad una apuesta muy sencilla y no hay mucho más que decir de él. Es divertido, sobre todo si te gustan los puzles, pero precisamente por ser un juego de puzles también su jugabilidad corre el riesgo de envejecer muy rápido. Todo depende de cuánto te gusten este tipo de juegos, pero la apuesta de Deleveled es sin duda bastante buena. ', 'score': 6.5}, 3: {'site': 'revogamers', 'url_link': 'https://www.revogamers.net/analisis-w/analisis-de-roguecube-55049/', 'author': 'Javier Aranda', 'game': ' RogueCube', 'company': 'Ratalaika Games', 'genre': 'Acción, Arcade', 'platform': 'Nintendo Switch', 'text': 'Se hace ya raro no ver una semana sin un estreno de un indie que llegue a consolas de la mano de Ratalaika Games. El estudio español ha traído una gran cantidad (y lo que le queda) de títulos a la híbrida de Nintendo, y uno de los últimos en aterrizar en ella ha sido RogueCube, un título de acción pixel para matar el tiempo cuando nos apetezca.  La propuesta de este título es la de muchos otros de los últimos años, usar un stick para moverse y otro para apuntar. El objetivo es combatir en arenas creadas procedimentalmente contra otros cubos en varios niveles para conseguir vértices para salir victorioso. En general es algo corto, pero se hace rejugable si la propuesta nos atrapa. Disponemos además de varios personajes seleccionables para jugar, y cada uno de ellos cuenta con características que lo hacen especial, como el daño que hace o la cantidad de munición que puede cargar. Además pueden usarse dos armas diferentes y cambiar entre ellas con un botón, algo necesario según el momento y la munición que tengamos.  El concepto general por tanto de este juego es muy similar al de los modos multijugador de los juegos de disparos en primera persona, en los que combatimos contra otros oponentes en arenas cerradas con un objetivo en mente. Por ello, pese a que hay «un modo historia» del que disfrutar en solitario, lo ideal es jugar con gente, puesto que es lo que hace que realmente cada partida sea única y tenga sentido el concepto del título a largo plazo. A nivel artístico estamos ante una propuesta muy sencilla, pero efectiva. Sabe distinguir muy bien todos los elementos que hay en pantalla, aunauqe también es cierto que los escenarios, quizás por su propia concepción procedimental, se sienten muy iguales entre sí.  RogueCube es un título para partidas rápidas entre amigos, cuando se busca un filler con el que empezar o acabar la noche de vicio, o bien cuando solo se dispone de unos pocos minutos para jugar. En solitario ofrece una pequeña campaña, pero su verdadero valor está en el multijugador. \\xa0', 'score': 6.0}, 4: {'site': 'revogamers', 'url_link': 'https://www.revogamers.net/analisis-w/analisis-de-the-eternal-castle-remastered-56099/', 'author': 'Carlos Firás', 'game': ' The Eternal Castle [REMASTERED]', 'company': 'None', 'genre': 'None', 'platform': 'Nintendo Switch', 'text': 'Llega a nuestras Nintendo Switch un título que nos va a transportar al pasado. Hablamos de The Eternal Castle [REMASTERED], creado a partir de recuerdos de uno de sus desarrolladores sobre un juego que jugaba mucho de pequeño, del cual no recuerda su nombre pero que sin duda una marca que le acompaña toda la vida. Un sentimiento que muchos compartimos en cierta manera. De ese sentimiento nace The Eternal Castle [REMASTERED].  The Eternal Castle [REMASTERED] es un juego de plataformas y acción de desplazamiento lateral que imita a grandes clásicos tanto en lo jugable como en lo artístico. Y decimos que imita porque realmente no es una remasterización de ningún juego que haya existido anteriormente, como nos quiere hacer creer el título. Se trata de un homenaje a esos clásicos como Prince of Persia o Flashback. Un homenaje, todo hay que decirlo, de muy buen gusto, que sabe captar la esencia y aportar las mejoras que da la tecnología y la sabiduría actual. The Eternal Castle [REMASTERED] se divide en cinco niveles que, salvo el primero y el último, podemos jugar en el orden que prefiramos. En ellos corremos, saltamos plataformas, nos movemos a gachas, combatimos con puños y patadas, o utilizando las armas que nos encontramos en los escenarios. Esta jugabilidad, pausada, se siente muy añeja, gracias a la demora de respuesta de los comandos y en el continuo ensayo y error al que nos somete el título.  Es un juego complicado en cierta medida, puesto que no nos dicen en ningún momento qué es lo que tenemos que hacer o cómo, sino que lo averiguamos por la manera en que se insinúa a través de las imágenes en pantalla. Lo que no siempre es posible, ya que su peculiar apartado artístico muchas veces camufla los elementos del escenario complicando su visibilidad. Por otra parte, The Eternal Castle [REMASTERED] se delata a sí mismo como un juego moderno por varias de sus cualidades. La primera y más llamativa de todas son sus animaciones. El juego se mueve de maravilla, imposible en otros tiempo, incluso demasiado bien para lo que solemos ver en la actualidad. También está la inteligencia artificial de los enemigos, que responden a nuestros movimientos e incluso se compenetran cuando se juntan. Pero sin duda lo que más nos ha llamado la atención en The Eternal Castle [REMASTERED] en su capacidad para sorprender y hacernos vivir nuevas situaciones una detrás de otra. No existen dos pantallas iguales. Siempre encontramos nuevos ambientes, nuevos peligros, nuevos puzles. Realmente se siente una aventura única de principio a fin.  The Eternal Castle [REMASTERED] hace uso solamente de cuatro colores para componer su arte. Con esto se consigue una más que lograda apariencia retro, además de dotar al título de una personalidad peculiar, que puede que no sea del agrado de todo el mundo. Los escenarios están llenos de detalle y vida, pero, aunque forme parte de su identidad, el peculiar apartado artístico no siempre permite visualizar con claridad lo que hay en pantalla. En lo sonoro también recoge ese aire retro, semi electrónico semi punk, en el que predominan los efectos de sonido, dejando lo melódico para los momentos más memorables. En cuanto a la duración se nos puede hacer más o menos largo (o corto) dependiendo de nuestra pericia, pero con unas 3 o 4 horas tendremos suficiente para poder superar esta aventura.  The Eternal Castle [REMASTERED] tiene el mérito de haber creado bajo esa atmósfera tan retro algo que se siente genuino y único. Es obvio que no es un juego que entre por los ojos para muchos y os llegue a echar a atrás. Pero dentro de él se encuentra una auténtica aventura que no para de dejarnos momentos ricos en variedad e imaginación. Un ejercicio de nostalgia con resultado positivo.', 'score': 8.0}}\n"
     ]
    }
   ],
   "source": [
    "result = revogamers_dict(links[0:5])\n",
    "print(result)"
   ]
  },
  {
   "cell_type": "code",
   "execution_count": 104,
   "metadata": {},
   "outputs": [
    {
     "data": {
      "text/plain": [
       "{'site': 'revogamers',\n",
       " 'url_link': 'https://www.revogamers.net/analisis-w/analisis-de-the-eternal-castle-remastered-56099/',\n",
       " 'author': 'Carlos Firás',\n",
       " 'game': ' The Eternal Castle [REMASTERED]',\n",
       " 'company': 'None',\n",
       " 'genre': 'None',\n",
       " 'platform': 'Nintendo Switch',\n",
       " 'text': 'Llega a nuestras Nintendo Switch un título que nos va a transportar al pasado. Hablamos de The Eternal Castle [REMASTERED], creado a partir de recuerdos de uno de sus desarrolladores sobre un juego que jugaba mucho de pequeño, del cual no recuerda su nombre pero que sin duda una marca que le acompaña toda la vida. Un sentimiento que muchos compartimos en cierta manera. De ese sentimiento nace The Eternal Castle [REMASTERED].  The Eternal Castle [REMASTERED] es un juego de plataformas y acción de desplazamiento lateral que imita a grandes clásicos tanto en lo jugable como en lo artístico. Y decimos que imita porque realmente no es una remasterización de ningún juego que haya existido anteriormente, como nos quiere hacer creer el título. Se trata de un homenaje a esos clásicos como Prince of Persia o Flashback. Un homenaje, todo hay que decirlo, de muy buen gusto, que sabe captar la esencia y aportar las mejoras que da la tecnología y la sabiduría actual. The Eternal Castle [REMASTERED] se divide en cinco niveles que, salvo el primero y el último, podemos jugar en el orden que prefiramos. En ellos corremos, saltamos plataformas, nos movemos a gachas, combatimos con puños y patadas, o utilizando las armas que nos encontramos en los escenarios. Esta jugabilidad, pausada, se siente muy añeja, gracias a la demora de respuesta de los comandos y en el continuo ensayo y error al que nos somete el título.  Es un juego complicado en cierta medida, puesto que no nos dicen en ningún momento qué es lo que tenemos que hacer o cómo, sino que lo averiguamos por la manera en que se insinúa a través de las imágenes en pantalla. Lo que no siempre es posible, ya que su peculiar apartado artístico muchas veces camufla los elementos del escenario complicando su visibilidad. Por otra parte, The Eternal Castle [REMASTERED] se delata a sí mismo como un juego moderno por varias de sus cualidades. La primera y más llamativa de todas son sus animaciones. El juego se mueve de maravilla, imposible en otros tiempo, incluso demasiado bien para lo que solemos ver en la actualidad. También está la inteligencia artificial de los enemigos, que responden a nuestros movimientos e incluso se compenetran cuando se juntan. Pero sin duda lo que más nos ha llamado la atención en The Eternal Castle [REMASTERED] en su capacidad para sorprender y hacernos vivir nuevas situaciones una detrás de otra. No existen dos pantallas iguales. Siempre encontramos nuevos ambientes, nuevos peligros, nuevos puzles. Realmente se siente una aventura única de principio a fin.  The Eternal Castle [REMASTERED] hace uso solamente de cuatro colores para componer su arte. Con esto se consigue una más que lograda apariencia retro, además de dotar al título de una personalidad peculiar, que puede que no sea del agrado de todo el mundo. Los escenarios están llenos de detalle y vida, pero, aunque forme parte de su identidad, el peculiar apartado artístico no siempre permite visualizar con claridad lo que hay en pantalla. En lo sonoro también recoge ese aire retro, semi electrónico semi punk, en el que predominan los efectos de sonido, dejando lo melódico para los momentos más memorables. En cuanto a la duración se nos puede hacer más o menos largo (o corto) dependiendo de nuestra pericia, pero con unas 3 o 4 horas tendremos suficiente para poder superar esta aventura.  The Eternal Castle [REMASTERED] tiene el mérito de haber creado bajo esa atmósfera tan retro algo que se siente genuino y único. Es obvio que no es un juego que entre por los ojos para muchos y os llegue a echar a atrás. Pero dentro de él se encuentra una auténtica aventura que no para de dejarnos momentos ricos en variedad e imaginación. Un ejercicio de nostalgia con resultado positivo.',\n",
       " 'score': 8.0}"
      ]
     },
     "execution_count": 104,
     "metadata": {},
     "output_type": "execute_result"
    }
   ],
   "source": [
    "result[4]"
   ]
  },
  {
   "cell_type": "markdown",
   "metadata": {},
   "source": [
    "### Create DataFrame"
   ]
  },
  {
   "cell_type": "code",
   "execution_count": 33,
   "metadata": {},
   "outputs": [
    {
     "data": {
      "text/html": [
       "<div>\n",
       "<style scoped>\n",
       "    .dataframe tbody tr th:only-of-type {\n",
       "        vertical-align: middle;\n",
       "    }\n",
       "\n",
       "    .dataframe tbody tr th {\n",
       "        vertical-align: top;\n",
       "    }\n",
       "\n",
       "    .dataframe thead th {\n",
       "        text-align: right;\n",
       "    }\n",
       "</style>\n",
       "<table border=\"1\" class=\"dataframe\">\n",
       "  <thead>\n",
       "    <tr style=\"text-align: right;\">\n",
       "      <th></th>\n",
       "      <th>title</th>\n",
       "      <th>author</th>\n",
       "      <th>review</th>\n",
       "      <th>url</th>\n",
       "    </tr>\n",
       "  </thead>\n",
       "  <tbody>\n",
       "    <tr>\n",
       "      <th>0</th>\n",
       "      <td>Análisis Bounty Battle; el título de lucha de ...</td>\n",
       "      <td>NaN</td>\n",
       "      <td>Después del anuncio de su retraso indefinido e...</td>\n",
       "      <td>https://as.com/meristation/2020/09/22/analisis...</td>\n",
       "    </tr>\n",
       "    <tr>\n",
       "      <th>1</th>\n",
       "      <td>eFootball PES 2021, análisis. Rueda el balón, ...</td>\n",
       "      <td>NaN</td>\n",
       "      <td>La temporada futbolística acabó de manera atíp...</td>\n",
       "      <td>https://as.com/meristation/2020/09/22/analisis...</td>\n",
       "    </tr>\n",
       "    <tr>\n",
       "      <th>2</th>\n",
       "      <td>Milky Way Prince: The Vampire Prince, análisis...</td>\n",
       "      <td>NaN</td>\n",
       "      <td>El amor es uno de los temas universales que pe...</td>\n",
       "      <td>https://as.com/meristation/2020/09/21/analisis...</td>\n",
       "    </tr>\n",
       "    <tr>\n",
       "      <th>3</th>\n",
       "      <td>Spinch, análisis PC y Switch: Una experiencia ...</td>\n",
       "      <td>NaN</td>\n",
       "      <td>No hay duda de que el género de las plataforma...</td>\n",
       "      <td>https://as.com/meristation/2020/09/20/analisis...</td>\n",
       "    </tr>\n",
       "    <tr>\n",
       "      <th>4</th>\n",
       "      <td>Spelunky 2, análisis: el videojuego más hardco...</td>\n",
       "      <td>NaN</td>\n",
       "      <td>Mucho ha llovido desde el lanzamiento de Spelu...</td>\n",
       "      <td>https://as.com/meristation/2020/09/19/analisis...</td>\n",
       "    </tr>\n",
       "  </tbody>\n",
       "</table>\n",
       "</div>"
      ],
      "text/plain": [
       "                                               title  author  \\\n",
       "0  Análisis Bounty Battle; el título de lucha de ...     NaN   \n",
       "1  eFootball PES 2021, análisis. Rueda el balón, ...     NaN   \n",
       "2  Milky Way Prince: The Vampire Prince, análisis...     NaN   \n",
       "3  Spinch, análisis PC y Switch: Una experiencia ...     NaN   \n",
       "4  Spelunky 2, análisis: el videojuego más hardco...     NaN   \n",
       "\n",
       "                                              review  \\\n",
       "0  Después del anuncio de su retraso indefinido e...   \n",
       "1  La temporada futbolística acabó de manera atíp...   \n",
       "2  El amor es uno de los temas universales que pe...   \n",
       "3  No hay duda de que el género de las plataforma...   \n",
       "4  Mucho ha llovido desde el lanzamiento de Spelu...   \n",
       "\n",
       "                                                 url  \n",
       "0  https://as.com/meristation/2020/09/22/analisis...  \n",
       "1  https://as.com/meristation/2020/09/22/analisis...  \n",
       "2  https://as.com/meristation/2020/09/21/analisis...  \n",
       "3  https://as.com/meristation/2020/09/20/analisis...  \n",
       "4  https://as.com/meristation/2020/09/19/analisis...  "
      ]
     },
     "execution_count": 33,
     "metadata": {},
     "output_type": "execute_result"
    }
   ],
   "source": [
    "revogamers = pd.DataFrame({'title': titles, \n",
    "                           'author': np.nan, \n",
    "                           'review': reviews_col, \n",
    "                           'url': links \n",
    "                           })\n",
    "\n",
    "revogamesr.head()"
   ]
  },
  {
   "cell_type": "code",
   "execution_count": 34,
   "metadata": {},
   "outputs": [],
   "source": [
    "#meristation.to_csv('../data/meristation_data.csv', index=False)"
   ]
  },
  {
   "cell_type": "code",
   "execution_count": null,
   "metadata": {},
   "outputs": [],
   "source": []
  }
 ],
 "metadata": {
  "kernelspec": {
   "display_name": "Python [conda env:lab_env]",
   "language": "python",
   "name": "conda-env-lab_env-py"
  },
  "language_info": {
   "codemirror_mode": {
    "name": "ipython",
    "version": 3
   },
   "file_extension": ".py",
   "mimetype": "text/x-python",
   "name": "python",
   "nbconvert_exporter": "python",
   "pygments_lexer": "ipython3",
   "version": "3.7.3"
  }
 },
 "nbformat": 4,
 "nbformat_minor": 4
}
