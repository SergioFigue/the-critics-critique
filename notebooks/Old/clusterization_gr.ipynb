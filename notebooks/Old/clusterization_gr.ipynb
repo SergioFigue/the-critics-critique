{
 "cells": [
  {
   "cell_type": "markdown",
   "metadata": {},
   "source": [
    "<div style=\"float:right; padding-top: 15px; padding-right: 15px\">\n",
    "    <div>\n",
    "        <a href=\"https://whiteboxml.com\">\n",
    "            <img src=\"https://whiteboxml.com/static/img/logo/black_bg_white.svg\" width=\"250\">\n",
    "        </a>\n",
    "    </div>\n",
    "</div>"
   ]
  },
  {
   "cell_type": "markdown",
   "metadata": {},
   "source": [
    "# NLP Gamereactor clustering"
   ]
  },
  {
   "cell_type": "markdown",
   "metadata": {},
   "source": [
    "## 0. python imports"
   ]
  },
  {
   "cell_type": "code",
   "execution_count": 35,
   "metadata": {},
   "outputs": [],
   "source": [
    "import warnings\n",
    "\n",
    "import matplotlib.pyplot as plt\n",
    "import numpy as np\n",
    "import pandas as pd\n",
    "import spacy\n",
    "\n",
    "from hdbscan import HDBSCAN\n",
    "from spacy.lang.es.stop_words import STOP_WORDS\n",
    "from spacy.lang.es import Spanish\n",
    "from sklearn.feature_extraction.text import TfidfVectorizer\n",
    "from sklearn.metrics.pairwise import cosine_similarity\n",
    "from umap import UMAP\n",
    "\n",
    "with warnings.catch_warnings():\n",
    "    warnings.simplefilter('ignore')"
   ]
  },
  {
   "cell_type": "markdown",
   "metadata": {},
   "source": [
    "## 1. data loading"
   ]
  },
  {
   "cell_type": "markdown",
   "metadata": {},
   "source": [
    "list of titles of best 100 films ever made..."
   ]
  },
  {
   "cell_type": "code",
   "execution_count": 36,
   "metadata": {},
   "outputs": [
    {
     "data": {
      "text/html": [
       "<div>\n",
       "<style scoped>\n",
       "    .dataframe tbody tr th:only-of-type {\n",
       "        vertical-align: middle;\n",
       "    }\n",
       "\n",
       "    .dataframe tbody tr th {\n",
       "        vertical-align: top;\n",
       "    }\n",
       "\n",
       "    .dataframe thead th {\n",
       "        text-align: right;\n",
       "    }\n",
       "</style>\n",
       "<table border=\"1\" class=\"dataframe\">\n",
       "  <thead>\n",
       "    <tr style=\"text-align: right;\">\n",
       "      <th></th>\n",
       "      <th>title</th>\n",
       "      <th>author</th>\n",
       "      <th>review</th>\n",
       "      <th>url</th>\n",
       "    </tr>\n",
       "  </thead>\n",
       "  <tbody>\n",
       "    <tr>\n",
       "      <th>0</th>\n",
       "      <td>Kingdoms of Amalur: Re-Reckoning</td>\n",
       "      <td>Roy Woodhouse</td>\n",
       "      <td>Sé que no todo el mundo lo recibió igual de bi...</td>\n",
       "      <td>https://www.gamereactor.es/kingdoms-of-amalur-...</td>\n",
       "    </tr>\n",
       "    <tr>\n",
       "      <th>1</th>\n",
       "      <td>Tennis World Tour 2 - Iguales</td>\n",
       "      <td>Daniel Andersen</td>\n",
       "      <td>Habían pasado muchos años sin que los fans de ...</td>\n",
       "      <td>https://www.gamereactor.es/tennis-world-tour-2...</td>\n",
       "    </tr>\n",
       "    <tr>\n",
       "      <th>2</th>\n",
       "      <td>Hades</td>\n",
       "      <td>Ricardo C. Esteves</td>\n",
       "      <td>El periplo por un limbo llamado acceso anticip...</td>\n",
       "      <td>https://www.gamereactor.es/hades-analisis/?sid...</td>\n",
       "    </tr>\n",
       "  </tbody>\n",
       "</table>\n",
       "</div>"
      ],
      "text/plain": [
       "                              title              author  \\\n",
       "0  Kingdoms of Amalur: Re-Reckoning       Roy Woodhouse   \n",
       "1     Tennis World Tour 2 - Iguales     Daniel Andersen   \n",
       "2                             Hades  Ricardo C. Esteves   \n",
       "\n",
       "                                              review  \\\n",
       "0  Sé que no todo el mundo lo recibió igual de bi...   \n",
       "1  Habían pasado muchos años sin que los fans de ...   \n",
       "2  El periplo por un limbo llamado acceso anticip...   \n",
       "\n",
       "                                                 url  \n",
       "0  https://www.gamereactor.es/kingdoms-of-amalur-...  \n",
       "1  https://www.gamereactor.es/tennis-world-tour-2...  \n",
       "2  https://www.gamereactor.es/hades-analisis/?sid...  "
      ]
     },
     "execution_count": 36,
     "metadata": {},
     "output_type": "execute_result"
    }
   ],
   "source": [
    "gamereactor_df = pd.read_csv('../data/gamereactor_data.csv')\n",
    "\n",
    "gamereactor_df[:3]"
   ]
  },
  {
   "cell_type": "code",
   "execution_count": 37,
   "metadata": {},
   "outputs": [
    {
     "data": {
      "text/plain": [
       "title     object\n",
       "author    object\n",
       "review    object\n",
       "url       object\n",
       "dtype: object"
      ]
     },
     "execution_count": 37,
     "metadata": {},
     "output_type": "execute_result"
    }
   ],
   "source": [
    "gamereactor_df.dtypes"
   ]
  },
  {
   "cell_type": "code",
   "execution_count": 38,
   "metadata": {},
   "outputs": [],
   "source": [
    "synopses = gamereactor_df['review']"
   ]
  },
  {
   "cell_type": "code",
   "execution_count": 39,
   "metadata": {},
   "outputs": [
    {
     "data": {
      "text/plain": [
       "0    Sé que no todo el mundo lo recibió igual de bi...\n",
       "Name: review, dtype: object"
      ]
     },
     "execution_count": 39,
     "metadata": {},
     "output_type": "execute_result"
    }
   ],
   "source": [
    "#synopses = open('data/synopses_list.txt').read().split('\\n BREAKS HERE')[0:100]\n",
    "\n",
    "synopses[:1]"
   ]
  },
  {
   "cell_type": "markdown",
   "metadata": {},
   "source": [
    "## 2. data processing"
   ]
  },
  {
   "cell_type": "code",
   "execution_count": 14,
   "metadata": {},
   "outputs": [
    {
     "ename": "SyntaxError",
     "evalue": "unexpected EOF while parsing (<ipython-input-14-b3332ca839b8>, line 7)",
     "output_type": "error",
     "traceback": [
      "\u001b[0;36m  File \u001b[0;32m\"<ipython-input-14-b3332ca839b8>\"\u001b[0;36m, line \u001b[0;32m7\u001b[0m\n\u001b[0;31m    #    print(token.text)\u001b[0m\n\u001b[0m                          ^\u001b[0m\n\u001b[0;31mSyntaxError\u001b[0m\u001b[0;31m:\u001b[0m unexpected EOF while parsing\n"
     ]
    }
   ],
   "source": [
    "nlp = spacy.load(\"es_core_news_md\")\n",
    "\n",
    "# do something with the model, e.g. tokenize the text\n",
    "#doc = nlp(synopses[0])\n",
    "#for token in doc:\n",
    "#    print(token.text)"
   ]
  },
  {
   "cell_type": "code",
   "execution_count": 78,
   "metadata": {},
   "outputs": [],
   "source": [
    "parser = spacy.load(\"es_core_news_md\")\n",
    "parser.Defaults.stop_words.add(\"y\")"
   ]
  },
  {
   "cell_type": "code",
   "execution_count": 79,
   "metadata": {},
   "outputs": [],
   "source": [
    "import re\n",
    "\n",
    "def spacy_tokenizer(sentence):\n",
    "\n",
    "    tokens = parser(sentence)\n",
    "    \n",
    "    filtered_tokens = []\n",
    "    for word in tokens:\n",
    "        lemma = word.lemma_.lower().strip()\n",
    "        \n",
    "        if lemma not in STOP_WORDS and re.search('^[a-zA-Z]+$', lemma):\n",
    "            filtered_tokens.append(lemma)\n",
    "\n",
    "    return filtered_tokens"
   ]
  },
  {
   "cell_type": "code",
   "execution_count": 80,
   "metadata": {},
   "outputs": [
    {
     "data": {
      "text/plain": [
       "['mundo',\n",
       " 'recibir',\n",
       " 'kingdom',\n",
       " 'of',\n",
       " 'amalur',\n",
       " 'reckoning',\n",
       " 'unir',\n",
       " 'juego',\n",
       " 'favorito',\n",
       " 'quedar',\n",
       " 'grabar',\n",
       " 'historia',\n",
       " 'combatir',\n",
       " 'capaz',\n",
       " 'crear']"
      ]
     },
     "execution_count": 80,
     "metadata": {},
     "output_type": "execute_result"
    }
   ],
   "source": [
    "spacy_tokenizer(synopses[0])[:15]"
   ]
  },
  {
   "cell_type": "markdown",
   "metadata": {},
   "source": [
    "## 3. term-frequency matrix"
   ]
  },
  {
   "cell_type": "code",
   "execution_count": 81,
   "metadata": {},
   "outputs": [
    {
     "data": {
      "text/plain": [
       "(50, 349)"
      ]
     },
     "execution_count": 81,
     "metadata": {},
     "output_type": "execute_result"
    }
   ],
   "source": [
    "tfidf_vectorizer = TfidfVectorizer(min_df=0.15, tokenizer=spacy_tokenizer)\n",
    "tfidf_matrix = tfidf_vectorizer.fit_transform(synopses)\n",
    "tfidf_matrix.shape"
   ]
  },
  {
   "cell_type": "code",
   "execution_count": 82,
   "metadata": {},
   "outputs": [
    {
     "data": {
      "text/plain": [
       "matrix([[0.39938922, 0.        , 0.        , ..., 0.        , 0.12604065,\n",
       "         0.        ],\n",
       "        [0.54803109, 0.        , 0.05227749, ..., 0.        , 0.        ,\n",
       "         0.        ],\n",
       "        [0.53196869, 0.        , 0.        , ..., 0.        , 0.        ,\n",
       "         0.        ],\n",
       "        ...,\n",
       "        [0.41281854, 0.        , 0.05414663, ..., 0.        , 0.        ,\n",
       "         0.        ],\n",
       "        [0.4550415 , 0.        , 0.        , ..., 0.        , 0.        ,\n",
       "         0.        ],\n",
       "        [0.42580184, 0.        , 0.        , ..., 0.        , 0.        ,\n",
       "         0.06181671]])"
      ]
     },
     "execution_count": 82,
     "metadata": {},
     "output_type": "execute_result"
    }
   ],
   "source": [
    "tfidf_matrix.todense()"
   ]
  },
  {
   "cell_type": "code",
   "execution_count": 83,
   "metadata": {},
   "outputs": [
    {
     "data": {
      "text/plain": [
       "['a',\n",
       " 'abandonar',\n",
       " 'abrir',\n",
       " 'acabar',\n",
       " 'accionar',\n",
       " 'activar',\n",
       " 'afectar',\n",
       " 'agradecer',\n",
       " 'alcanzar',\n",
       " 'alguien',\n",
       " 'alto',\n",
       " 'amplio',\n",
       " 'aparecer',\n",
       " 'aplicar',\n",
       " 'aportar']"
      ]
     },
     "execution_count": 83,
     "metadata": {},
     "output_type": "execute_result"
    }
   ],
   "source": [
    "terms = tfidf_vectorizer.get_feature_names()\n",
    "\n",
    "terms[:15]"
   ]
  },
  {
   "cell_type": "code",
   "execution_count": 84,
   "metadata": {},
   "outputs": [
    {
     "data": {
      "text/plain": [
       "array([[-2.22044605e-16,  5.22195133e-01,  5.23317066e-01, ...,\n",
       "         5.44837996e-01,  6.06647945e-01,  5.40193510e-01],\n",
       "       [ 5.22195133e-01,  0.00000000e+00,  4.99372624e-01, ...,\n",
       "         5.70286351e-01,  6.06067121e-01,  5.15247077e-01],\n",
       "       [ 5.23317066e-01,  4.99372624e-01, -2.22044605e-16, ...,\n",
       "         5.15854690e-01,  4.90254002e-01,  4.40572118e-01],\n",
       "       ...,\n",
       "       [ 5.44837996e-01,  5.70286351e-01,  5.15854690e-01, ...,\n",
       "         2.22044605e-16,  5.58237974e-01,  5.50465012e-01],\n",
       "       [ 6.06647945e-01,  6.06067121e-01,  4.90254002e-01, ...,\n",
       "         5.58237974e-01, -2.22044605e-16,  5.30376556e-01],\n",
       "       [ 5.40193510e-01,  5.15247077e-01,  4.40572118e-01, ...,\n",
       "         5.50465012e-01,  5.30376556e-01, -2.22044605e-16]])"
      ]
     },
     "execution_count": 84,
     "metadata": {},
     "output_type": "execute_result"
    }
   ],
   "source": [
    "dist = 1 - cosine_similarity(tfidf_matrix)\n",
    "\n",
    "dist"
   ]
  },
  {
   "cell_type": "markdown",
   "metadata": {},
   "source": [
    "## 4. text clustering"
   ]
  },
  {
   "cell_type": "code",
   "execution_count": 85,
   "metadata": {},
   "outputs": [],
   "source": [
    "umap = UMAP(n_neighbors=3, random_state=42)\n",
    "embedding = umap.fit_transform(dist)"
   ]
  },
  {
   "cell_type": "code",
   "execution_count": 86,
   "metadata": {},
   "outputs": [
    {
     "data": {
      "text/plain": [
       "array([[12.13423 , 10.38244 ],\n",
       "       [14.868991, 12.2892  ],\n",
       "       [15.344301,  8.105722],\n",
       "       [15.253515,  6.922889],\n",
       "       [14.800527, 12.203214]], dtype=float32)"
      ]
     },
     "execution_count": 86,
     "metadata": {},
     "output_type": "execute_result"
    }
   ],
   "source": [
    "embedding[:5,:]"
   ]
  },
  {
   "cell_type": "code",
   "execution_count": 87,
   "metadata": {},
   "outputs": [
    {
     "data": {
      "image/png": "[encoded data removed]",
      "text/plain": [
       "<Figure size 432x288 with 1 Axes>"
      ]
     },
     "metadata": {
      "needs_background": "light"
     },
     "output_type": "display_data"
    }
   ],
   "source": [
    "plt.scatter(embedding[:,0], embedding[:,1]);"
   ]
  },
  {
   "cell_type": "markdown",
   "metadata": {},
   "source": [
    "### Con HDBSCAN"
   ]
  },
  {
   "cell_type": "code",
   "execution_count": 88,
   "metadata": {},
   "outputs": [
    {
     "data": {
      "text/plain": [
       "array([-1,  0,  1])"
      ]
     },
     "execution_count": 88,
     "metadata": {},
     "output_type": "execute_result"
    }
   ],
   "source": [
    "hdbscan = HDBSCAN(min_cluster_size=7)\n",
    "clustering = hdbscan.fit_predict(embedding)\n",
    "np.unique(clustering)"
   ]
  },
  {
   "cell_type": "code",
   "execution_count": 89,
   "metadata": {},
   "outputs": [
    {
     "data": {
      "image/png": "[encoded data removed]",
      "text/plain": [
       "<Figure size 432x288 with 1 Axes>"
      ]
     },
     "metadata": {
      "needs_background": "light"
     },
     "output_type": "display_data"
    }
   ],
   "source": [
    "plt.scatter(embedding[:,0], embedding[:,1], c=clustering);"
   ]
  },
  {
   "cell_type": "code",
   "execution_count": 90,
   "metadata": {},
   "outputs": [],
   "source": [
    "games = pd.DataFrame({'cluster': clustering, 'title': gamereactor_df['title'], 'synopsis': synopses})"
   ]
  },
  {
   "cell_type": "code",
   "execution_count": 91,
   "metadata": {},
   "outputs": [
    {
     "data": {
      "text/html": [
       "<div>\n",
       "<style scoped>\n",
       "    .dataframe tbody tr th:only-of-type {\n",
       "        vertical-align: middle;\n",
       "    }\n",
       "\n",
       "    .dataframe tbody tr th {\n",
       "        vertical-align: top;\n",
       "    }\n",
       "\n",
       "    .dataframe thead th {\n",
       "        text-align: right;\n",
       "    }\n",
       "</style>\n",
       "<table border=\"1\" class=\"dataframe\">\n",
       "  <thead>\n",
       "    <tr style=\"text-align: right;\">\n",
       "      <th></th>\n",
       "      <th>cluster</th>\n",
       "      <th>title</th>\n",
       "      <th>synopsis</th>\n",
       "    </tr>\n",
       "  </thead>\n",
       "  <tbody>\n",
       "    <tr>\n",
       "      <th>0</th>\n",
       "      <td>0</td>\n",
       "      <td>Kingdoms of Amalur: Re-Reckoning</td>\n",
       "      <td>Sé que no todo el mundo lo recibió igual de bi...</td>\n",
       "    </tr>\n",
       "    <tr>\n",
       "      <th>1</th>\n",
       "      <td>-1</td>\n",
       "      <td>Tennis World Tour 2 - Iguales</td>\n",
       "      <td>Habían pasado muchos años sin que los fans de ...</td>\n",
       "    </tr>\n",
       "    <tr>\n",
       "      <th>2</th>\n",
       "      <td>0</td>\n",
       "      <td>Hades</td>\n",
       "      <td>El periplo por un limbo llamado acceso anticip...</td>\n",
       "    </tr>\n",
       "    <tr>\n",
       "      <th>3</th>\n",
       "      <td>-1</td>\n",
       "      <td>Necronator: Dead Wrong</td>\n",
       "      <td>Hace unos meses le eché un vistazo a un RTS có...</td>\n",
       "    </tr>\n",
       "    <tr>\n",
       "      <th>4</th>\n",
       "      <td>-1</td>\n",
       "      <td>Los Sims 4 Star Wars: Viaje a Batuu</td>\n",
       "      <td>Los Sims y Star Wars por fin se unen. Un sueño...</td>\n",
       "    </tr>\n",
       "    <tr>\n",
       "      <th>5</th>\n",
       "      <td>0</td>\n",
       "      <td>Spelunky 2 - Hasta la muerte</td>\n",
       "      <td>A parte de un juegos de Bungie con los que me ...</td>\n",
       "    </tr>\n",
       "    <tr>\n",
       "      <th>6</th>\n",
       "      <td>1</td>\n",
       "      <td>Crysis Remastered</td>\n",
       "      <td>Crysis cayó como un bombazo hace 13 años. El e...</td>\n",
       "    </tr>\n",
       "    <tr>\n",
       "      <th>7</th>\n",
       "      <td>1</td>\n",
       "      <td>Super Mario 3D All-Stars</td>\n",
       "      <td>Felicidades, Super Mario. Por tus 35 años de s...</td>\n",
       "    </tr>\n",
       "  </tbody>\n",
       "</table>\n",
       "</div>"
      ],
      "text/plain": [
       "   cluster                                title  \\\n",
       "0        0     Kingdoms of Amalur: Re-Reckoning   \n",
       "1       -1        Tennis World Tour 2 - Iguales   \n",
       "2        0                                Hades   \n",
       "3       -1               Necronator: Dead Wrong   \n",
       "4       -1  Los Sims 4 Star Wars: Viaje a Batuu   \n",
       "5        0         Spelunky 2 - Hasta la muerte   \n",
       "6        1                    Crysis Remastered   \n",
       "7        1             Super Mario 3D All-Stars   \n",
       "\n",
       "                                            synopsis  \n",
       "0  Sé que no todo el mundo lo recibió igual de bi...  \n",
       "1  Habían pasado muchos años sin que los fans de ...  \n",
       "2  El periplo por un limbo llamado acceso anticip...  \n",
       "3  Hace unos meses le eché un vistazo a un RTS có...  \n",
       "4  Los Sims y Star Wars por fin se unen. Un sueño...  \n",
       "5  A parte de un juegos de Bungie con los que me ...  \n",
       "6  Crysis cayó como un bombazo hace 13 años. El e...  \n",
       "7  Felicidades, Super Mario. Por tus 35 años de s...  "
      ]
     },
     "execution_count": 91,
     "metadata": {},
     "output_type": "execute_result"
    }
   ],
   "source": [
    "games.head(8)"
   ]
  },
  {
   "cell_type": "code",
   "execution_count": 92,
   "metadata": {},
   "outputs": [
    {
     "data": {
      "text/html": [
       "<div>\n",
       "<style scoped>\n",
       "    .dataframe tbody tr th:only-of-type {\n",
       "        vertical-align: middle;\n",
       "    }\n",
       "\n",
       "    .dataframe tbody tr th {\n",
       "        vertical-align: top;\n",
       "    }\n",
       "\n",
       "    .dataframe thead th {\n",
       "        text-align: right;\n",
       "    }\n",
       "</style>\n",
       "<table border=\"1\" class=\"dataframe\">\n",
       "  <thead>\n",
       "    <tr style=\"text-align: right;\">\n",
       "      <th></th>\n",
       "      <th>a</th>\n",
       "      <th>abandonar</th>\n",
       "      <th>abrir</th>\n",
       "      <th>acabar</th>\n",
       "      <th>accionar</th>\n",
       "      <th>activar</th>\n",
       "      <th>afectar</th>\n",
       "      <th>agradecer</th>\n",
       "      <th>alcanzar</th>\n",
       "      <th>alguien</th>\n",
       "      <th>...</th>\n",
       "      <th>viajar</th>\n",
       "      <th>vida</th>\n",
       "      <th>videojuego</th>\n",
       "      <th>viejo</th>\n",
       "      <th>visual</th>\n",
       "      <th>vivir</th>\n",
       "      <th>volver</th>\n",
       "      <th>voz</th>\n",
       "      <th>xbox</th>\n",
       "      <th>zona</th>\n",
       "    </tr>\n",
       "  </thead>\n",
       "  <tbody>\n",
       "    <tr>\n",
       "      <th>0</th>\n",
       "      <td>0.399389</td>\n",
       "      <td>0.0</td>\n",
       "      <td>0.000000</td>\n",
       "      <td>0.041657</td>\n",
       "      <td>0.000000</td>\n",
       "      <td>0.072811</td>\n",
       "      <td>0.0</td>\n",
       "      <td>0.0</td>\n",
       "      <td>0.000000</td>\n",
       "      <td>0.0</td>\n",
       "      <td>...</td>\n",
       "      <td>0.000000</td>\n",
       "      <td>0.136827</td>\n",
       "      <td>0.0</td>\n",
       "      <td>0.06302</td>\n",
       "      <td>0.000000</td>\n",
       "      <td>0.000000</td>\n",
       "      <td>0.038217</td>\n",
       "      <td>0.0</td>\n",
       "      <td>0.126041</td>\n",
       "      <td>0.000000</td>\n",
       "    </tr>\n",
       "    <tr>\n",
       "      <th>1</th>\n",
       "      <td>0.548031</td>\n",
       "      <td>0.0</td>\n",
       "      <td>0.052277</td>\n",
       "      <td>0.000000</td>\n",
       "      <td>0.000000</td>\n",
       "      <td>0.000000</td>\n",
       "      <td>0.0</td>\n",
       "      <td>0.0</td>\n",
       "      <td>0.065496</td>\n",
       "      <td>0.0</td>\n",
       "      <td>...</td>\n",
       "      <td>0.000000</td>\n",
       "      <td>0.000000</td>\n",
       "      <td>0.0</td>\n",
       "      <td>0.00000</td>\n",
       "      <td>0.000000</td>\n",
       "      <td>0.048229</td>\n",
       "      <td>0.000000</td>\n",
       "      <td>0.0</td>\n",
       "      <td>0.000000</td>\n",
       "      <td>0.000000</td>\n",
       "    </tr>\n",
       "    <tr>\n",
       "      <th>2</th>\n",
       "      <td>0.531969</td>\n",
       "      <td>0.0</td>\n",
       "      <td>0.000000</td>\n",
       "      <td>0.000000</td>\n",
       "      <td>0.066124</td>\n",
       "      <td>0.000000</td>\n",
       "      <td>0.0</td>\n",
       "      <td>0.0</td>\n",
       "      <td>0.063576</td>\n",
       "      <td>0.0</td>\n",
       "      <td>...</td>\n",
       "      <td>0.000000</td>\n",
       "      <td>0.041420</td>\n",
       "      <td>0.0</td>\n",
       "      <td>0.00000</td>\n",
       "      <td>0.101491</td>\n",
       "      <td>0.046816</td>\n",
       "      <td>0.069413</td>\n",
       "      <td>0.0</td>\n",
       "      <td>0.000000</td>\n",
       "      <td>0.000000</td>\n",
       "    </tr>\n",
       "    <tr>\n",
       "      <th>3</th>\n",
       "      <td>0.560077</td>\n",
       "      <td>0.0</td>\n",
       "      <td>0.000000</td>\n",
       "      <td>0.000000</td>\n",
       "      <td>0.000000</td>\n",
       "      <td>0.000000</td>\n",
       "      <td>0.0</td>\n",
       "      <td>0.0</td>\n",
       "      <td>0.000000</td>\n",
       "      <td>0.0</td>\n",
       "      <td>...</td>\n",
       "      <td>0.000000</td>\n",
       "      <td>0.000000</td>\n",
       "      <td>0.0</td>\n",
       "      <td>0.00000</td>\n",
       "      <td>0.000000</td>\n",
       "      <td>0.000000</td>\n",
       "      <td>0.000000</td>\n",
       "      <td>0.0</td>\n",
       "      <td>0.000000</td>\n",
       "      <td>0.000000</td>\n",
       "    </tr>\n",
       "    <tr>\n",
       "      <th>4</th>\n",
       "      <td>0.599720</td>\n",
       "      <td>0.0</td>\n",
       "      <td>0.048407</td>\n",
       "      <td>0.036088</td>\n",
       "      <td>0.063077</td>\n",
       "      <td>0.000000</td>\n",
       "      <td>0.0</td>\n",
       "      <td>0.0</td>\n",
       "      <td>0.000000</td>\n",
       "      <td>0.0</td>\n",
       "      <td>...</td>\n",
       "      <td>0.303232</td>\n",
       "      <td>0.039511</td>\n",
       "      <td>0.0</td>\n",
       "      <td>0.00000</td>\n",
       "      <td>0.000000</td>\n",
       "      <td>0.044658</td>\n",
       "      <td>0.033107</td>\n",
       "      <td>0.0</td>\n",
       "      <td>0.000000</td>\n",
       "      <td>0.087066</td>\n",
       "    </tr>\n",
       "  </tbody>\n",
       "</table>\n",
       "<p>5 rows × 349 columns</p>\n",
       "</div>"
      ],
      "text/plain": [
       "          a  abandonar     abrir    acabar  accionar   activar  afectar  \\\n",
       "0  0.399389        0.0  0.000000  0.041657  0.000000  0.072811      0.0   \n",
       "1  0.548031        0.0  0.052277  0.000000  0.000000  0.000000      0.0   \n",
       "2  0.531969        0.0  0.000000  0.000000  0.066124  0.000000      0.0   \n",
       "3  0.560077        0.0  0.000000  0.000000  0.000000  0.000000      0.0   \n",
       "4  0.599720        0.0  0.048407  0.036088  0.063077  0.000000      0.0   \n",
       "\n",
       "   agradecer  alcanzar  alguien  ...    viajar      vida  videojuego    viejo  \\\n",
       "0        0.0  0.000000      0.0  ...  0.000000  0.136827         0.0  0.06302   \n",
       "1        0.0  0.065496      0.0  ...  0.000000  0.000000         0.0  0.00000   \n",
       "2        0.0  0.063576      0.0  ...  0.000000  0.041420         0.0  0.00000   \n",
       "3        0.0  0.000000      0.0  ...  0.000000  0.000000         0.0  0.00000   \n",
       "4        0.0  0.000000      0.0  ...  0.303232  0.039511         0.0  0.00000   \n",
       "\n",
       "     visual     vivir    volver  voz      xbox      zona  \n",
       "0  0.000000  0.000000  0.038217  0.0  0.126041  0.000000  \n",
       "1  0.000000  0.048229  0.000000  0.0  0.000000  0.000000  \n",
       "2  0.101491  0.046816  0.069413  0.0  0.000000  0.000000  \n",
       "3  0.000000  0.000000  0.000000  0.0  0.000000  0.000000  \n",
       "4  0.000000  0.044658  0.033107  0.0  0.000000  0.087066  \n",
       "\n",
       "[5 rows x 349 columns]"
      ]
     },
     "execution_count": 92,
     "metadata": {},
     "output_type": "execute_result"
    }
   ],
   "source": [
    "tfidf_df = pd.DataFrame(tfidf_matrix.toarray(), columns=terms)\n",
    "tfidf_df.head()"
   ]
  },
  {
   "cell_type": "code",
   "execution_count": 93,
   "metadata": {},
   "outputs": [
    {
     "data": {
      "text/html": [
       "<div>\n",
       "<style scoped>\n",
       "    .dataframe tbody tr th:only-of-type {\n",
       "        vertical-align: middle;\n",
       "    }\n",
       "\n",
       "    .dataframe tbody tr th {\n",
       "        vertical-align: top;\n",
       "    }\n",
       "\n",
       "    .dataframe thead th {\n",
       "        text-align: right;\n",
       "    }\n",
       "</style>\n",
       "<table border=\"1\" class=\"dataframe\">\n",
       "  <thead>\n",
       "    <tr style=\"text-align: right;\">\n",
       "      <th></th>\n",
       "      <th>a</th>\n",
       "      <th>abandonar</th>\n",
       "      <th>abrir</th>\n",
       "      <th>acabar</th>\n",
       "      <th>accionar</th>\n",
       "      <th>activar</th>\n",
       "      <th>afectar</th>\n",
       "      <th>agradecer</th>\n",
       "      <th>alcanzar</th>\n",
       "      <th>alguien</th>\n",
       "      <th>...</th>\n",
       "      <th>viajar</th>\n",
       "      <th>vida</th>\n",
       "      <th>videojuego</th>\n",
       "      <th>viejo</th>\n",
       "      <th>visual</th>\n",
       "      <th>vivir</th>\n",
       "      <th>volver</th>\n",
       "      <th>voz</th>\n",
       "      <th>xbox</th>\n",
       "      <th>zona</th>\n",
       "    </tr>\n",
       "  </thead>\n",
       "  <tbody>\n",
       "    <tr>\n",
       "      <th>0</th>\n",
       "      <td>0.399389</td>\n",
       "      <td>0.000000</td>\n",
       "      <td>0.000000</td>\n",
       "      <td>0.041657</td>\n",
       "      <td>0.000000</td>\n",
       "      <td>0.072811</td>\n",
       "      <td>0.000000</td>\n",
       "      <td>0.000000</td>\n",
       "      <td>0.000000</td>\n",
       "      <td>0.000000</td>\n",
       "      <td>...</td>\n",
       "      <td>0.000000</td>\n",
       "      <td>0.136827</td>\n",
       "      <td>0.000000</td>\n",
       "      <td>0.063020</td>\n",
       "      <td>0.000000</td>\n",
       "      <td>0.000000</td>\n",
       "      <td>0.038217</td>\n",
       "      <td>0.000000</td>\n",
       "      <td>0.126041</td>\n",
       "      <td>0.000000</td>\n",
       "    </tr>\n",
       "    <tr>\n",
       "      <th>2</th>\n",
       "      <td>0.531969</td>\n",
       "      <td>0.000000</td>\n",
       "      <td>0.000000</td>\n",
       "      <td>0.000000</td>\n",
       "      <td>0.066124</td>\n",
       "      <td>0.000000</td>\n",
       "      <td>0.000000</td>\n",
       "      <td>0.000000</td>\n",
       "      <td>0.063576</td>\n",
       "      <td>0.000000</td>\n",
       "      <td>...</td>\n",
       "      <td>0.000000</td>\n",
       "      <td>0.041420</td>\n",
       "      <td>0.000000</td>\n",
       "      <td>0.000000</td>\n",
       "      <td>0.101491</td>\n",
       "      <td>0.046816</td>\n",
       "      <td>0.069413</td>\n",
       "      <td>0.000000</td>\n",
       "      <td>0.000000</td>\n",
       "      <td>0.000000</td>\n",
       "    </tr>\n",
       "    <tr>\n",
       "      <th>5</th>\n",
       "      <td>0.550032</td>\n",
       "      <td>0.000000</td>\n",
       "      <td>0.048096</td>\n",
       "      <td>0.071712</td>\n",
       "      <td>0.000000</td>\n",
       "      <td>0.000000</td>\n",
       "      <td>0.000000</td>\n",
       "      <td>0.000000</td>\n",
       "      <td>0.000000</td>\n",
       "      <td>0.062672</td>\n",
       "      <td>...</td>\n",
       "      <td>0.000000</td>\n",
       "      <td>0.157030</td>\n",
       "      <td>0.000000</td>\n",
       "      <td>0.054244</td>\n",
       "      <td>0.000000</td>\n",
       "      <td>0.000000</td>\n",
       "      <td>0.032895</td>\n",
       "      <td>0.000000</td>\n",
       "      <td>0.000000</td>\n",
       "      <td>0.000000</td>\n",
       "    </tr>\n",
       "    <tr>\n",
       "      <th>10</th>\n",
       "      <td>0.464508</td>\n",
       "      <td>0.079390</td>\n",
       "      <td>0.000000</td>\n",
       "      <td>0.000000</td>\n",
       "      <td>0.000000</td>\n",
       "      <td>0.000000</td>\n",
       "      <td>0.000000</td>\n",
       "      <td>0.000000</td>\n",
       "      <td>0.000000</td>\n",
       "      <td>0.000000</td>\n",
       "      <td>...</td>\n",
       "      <td>0.000000</td>\n",
       "      <td>0.000000</td>\n",
       "      <td>0.057697</td>\n",
       "      <td>0.068715</td>\n",
       "      <td>0.000000</td>\n",
       "      <td>0.056208</td>\n",
       "      <td>0.000000</td>\n",
       "      <td>0.000000</td>\n",
       "      <td>0.068715</td>\n",
       "      <td>0.000000</td>\n",
       "    </tr>\n",
       "    <tr>\n",
       "      <th>13</th>\n",
       "      <td>0.555339</td>\n",
       "      <td>0.060745</td>\n",
       "      <td>0.000000</td>\n",
       "      <td>0.034754</td>\n",
       "      <td>0.000000</td>\n",
       "      <td>0.000000</td>\n",
       "      <td>0.000000</td>\n",
       "      <td>0.121490</td>\n",
       "      <td>0.000000</td>\n",
       "      <td>0.000000</td>\n",
       "      <td>...</td>\n",
       "      <td>0.000000</td>\n",
       "      <td>0.076101</td>\n",
       "      <td>0.044147</td>\n",
       "      <td>0.000000</td>\n",
       "      <td>0.046618</td>\n",
       "      <td>0.000000</td>\n",
       "      <td>0.063767</td>\n",
       "      <td>0.056288</td>\n",
       "      <td>0.052577</td>\n",
       "      <td>0.041924</td>\n",
       "    </tr>\n",
       "    <tr>\n",
       "      <th>17</th>\n",
       "      <td>0.602229</td>\n",
       "      <td>0.049905</td>\n",
       "      <td>0.000000</td>\n",
       "      <td>0.028552</td>\n",
       "      <td>0.000000</td>\n",
       "      <td>0.000000</td>\n",
       "      <td>0.000000</td>\n",
       "      <td>0.000000</td>\n",
       "      <td>0.000000</td>\n",
       "      <td>0.099809</td>\n",
       "      <td>...</td>\n",
       "      <td>0.143946</td>\n",
       "      <td>0.093781</td>\n",
       "      <td>0.000000</td>\n",
       "      <td>0.000000</td>\n",
       "      <td>0.038298</td>\n",
       "      <td>0.035332</td>\n",
       "      <td>0.026194</td>\n",
       "      <td>0.000000</td>\n",
       "      <td>0.000000</td>\n",
       "      <td>0.034442</td>\n",
       "    </tr>\n",
       "    <tr>\n",
       "      <th>22</th>\n",
       "      <td>0.426569</td>\n",
       "      <td>0.000000</td>\n",
       "      <td>0.089520</td>\n",
       "      <td>0.066738</td>\n",
       "      <td>0.058325</td>\n",
       "      <td>0.000000</td>\n",
       "      <td>0.000000</td>\n",
       "      <td>0.000000</td>\n",
       "      <td>0.000000</td>\n",
       "      <td>0.000000</td>\n",
       "      <td>...</td>\n",
       "      <td>0.000000</td>\n",
       "      <td>0.073069</td>\n",
       "      <td>0.000000</td>\n",
       "      <td>0.000000</td>\n",
       "      <td>0.000000</td>\n",
       "      <td>0.000000</td>\n",
       "      <td>0.000000</td>\n",
       "      <td>0.000000</td>\n",
       "      <td>0.000000</td>\n",
       "      <td>0.000000</td>\n",
       "    </tr>\n",
       "    <tr>\n",
       "      <th>24</th>\n",
       "      <td>0.594779</td>\n",
       "      <td>0.000000</td>\n",
       "      <td>0.034673</td>\n",
       "      <td>0.000000</td>\n",
       "      <td>0.000000</td>\n",
       "      <td>0.000000</td>\n",
       "      <td>0.045180</td>\n",
       "      <td>0.000000</td>\n",
       "      <td>0.000000</td>\n",
       "      <td>0.090360</td>\n",
       "      <td>...</td>\n",
       "      <td>0.260636</td>\n",
       "      <td>0.113203</td>\n",
       "      <td>0.000000</td>\n",
       "      <td>0.000000</td>\n",
       "      <td>0.034673</td>\n",
       "      <td>0.031987</td>\n",
       "      <td>0.023714</td>\n",
       "      <td>0.000000</td>\n",
       "      <td>0.000000</td>\n",
       "      <td>0.000000</td>\n",
       "    </tr>\n",
       "    <tr>\n",
       "      <th>26</th>\n",
       "      <td>0.467368</td>\n",
       "      <td>0.000000</td>\n",
       "      <td>0.000000</td>\n",
       "      <td>0.139278</td>\n",
       "      <td>0.000000</td>\n",
       "      <td>0.000000</td>\n",
       "      <td>0.000000</td>\n",
       "      <td>0.000000</td>\n",
       "      <td>0.000000</td>\n",
       "      <td>0.000000</td>\n",
       "      <td>...</td>\n",
       "      <td>0.000000</td>\n",
       "      <td>0.000000</td>\n",
       "      <td>0.000000</td>\n",
       "      <td>0.052676</td>\n",
       "      <td>0.000000</td>\n",
       "      <td>0.000000</td>\n",
       "      <td>0.031944</td>\n",
       "      <td>0.056394</td>\n",
       "      <td>0.000000</td>\n",
       "      <td>0.042003</td>\n",
       "    </tr>\n",
       "    <tr>\n",
       "      <th>29</th>\n",
       "      <td>0.366499</td>\n",
       "      <td>0.000000</td>\n",
       "      <td>0.000000</td>\n",
       "      <td>0.076453</td>\n",
       "      <td>0.000000</td>\n",
       "      <td>0.066815</td>\n",
       "      <td>0.000000</td>\n",
       "      <td>0.066815</td>\n",
       "      <td>0.000000</td>\n",
       "      <td>0.000000</td>\n",
       "      <td>...</td>\n",
       "      <td>0.192723</td>\n",
       "      <td>0.000000</td>\n",
       "      <td>0.000000</td>\n",
       "      <td>0.000000</td>\n",
       "      <td>0.000000</td>\n",
       "      <td>0.000000</td>\n",
       "      <td>0.000000</td>\n",
       "      <td>0.000000</td>\n",
       "      <td>0.000000</td>\n",
       "      <td>0.000000</td>\n",
       "    </tr>\n",
       "    <tr>\n",
       "      <th>34</th>\n",
       "      <td>0.580924</td>\n",
       "      <td>0.000000</td>\n",
       "      <td>0.243827</td>\n",
       "      <td>0.036355</td>\n",
       "      <td>0.000000</td>\n",
       "      <td>0.000000</td>\n",
       "      <td>0.000000</td>\n",
       "      <td>0.000000</td>\n",
       "      <td>0.061096</td>\n",
       "      <td>0.000000</td>\n",
       "      <td>...</td>\n",
       "      <td>0.000000</td>\n",
       "      <td>0.000000</td>\n",
       "      <td>0.000000</td>\n",
       "      <td>0.000000</td>\n",
       "      <td>0.000000</td>\n",
       "      <td>0.000000</td>\n",
       "      <td>0.166762</td>\n",
       "      <td>0.058881</td>\n",
       "      <td>0.000000</td>\n",
       "      <td>0.000000</td>\n",
       "    </tr>\n",
       "    <tr>\n",
       "      <th>38</th>\n",
       "      <td>0.515693</td>\n",
       "      <td>0.000000</td>\n",
       "      <td>0.000000</td>\n",
       "      <td>0.087223</td>\n",
       "      <td>0.038114</td>\n",
       "      <td>0.000000</td>\n",
       "      <td>0.076228</td>\n",
       "      <td>0.000000</td>\n",
       "      <td>0.036645</td>\n",
       "      <td>0.000000</td>\n",
       "      <td>...</td>\n",
       "      <td>0.000000</td>\n",
       "      <td>0.047749</td>\n",
       "      <td>0.000000</td>\n",
       "      <td>0.000000</td>\n",
       "      <td>0.000000</td>\n",
       "      <td>0.000000</td>\n",
       "      <td>0.040010</td>\n",
       "      <td>0.000000</td>\n",
       "      <td>0.000000</td>\n",
       "      <td>0.026305</td>\n",
       "    </tr>\n",
       "    <tr>\n",
       "      <th>45</th>\n",
       "      <td>0.459518</td>\n",
       "      <td>0.000000</td>\n",
       "      <td>0.000000</td>\n",
       "      <td>0.000000</td>\n",
       "      <td>0.000000</td>\n",
       "      <td>0.000000</td>\n",
       "      <td>0.000000</td>\n",
       "      <td>0.000000</td>\n",
       "      <td>0.000000</td>\n",
       "      <td>0.000000</td>\n",
       "      <td>...</td>\n",
       "      <td>0.000000</td>\n",
       "      <td>0.041428</td>\n",
       "      <td>0.048065</td>\n",
       "      <td>0.000000</td>\n",
       "      <td>0.000000</td>\n",
       "      <td>0.000000</td>\n",
       "      <td>0.069427</td>\n",
       "      <td>0.061284</td>\n",
       "      <td>0.000000</td>\n",
       "      <td>0.000000</td>\n",
       "    </tr>\n",
       "    <tr>\n",
       "      <th>46</th>\n",
       "      <td>0.694379</td>\n",
       "      <td>0.000000</td>\n",
       "      <td>0.000000</td>\n",
       "      <td>0.000000</td>\n",
       "      <td>0.000000</td>\n",
       "      <td>0.052746</td>\n",
       "      <td>0.000000</td>\n",
       "      <td>0.000000</td>\n",
       "      <td>0.050714</td>\n",
       "      <td>0.000000</td>\n",
       "      <td>...</td>\n",
       "      <td>0.000000</td>\n",
       "      <td>0.000000</td>\n",
       "      <td>0.076667</td>\n",
       "      <td>0.000000</td>\n",
       "      <td>0.000000</td>\n",
       "      <td>0.000000</td>\n",
       "      <td>0.027685</td>\n",
       "      <td>0.000000</td>\n",
       "      <td>0.000000</td>\n",
       "      <td>0.000000</td>\n",
       "    </tr>\n",
       "    <tr>\n",
       "      <th>47</th>\n",
       "      <td>0.412819</td>\n",
       "      <td>0.000000</td>\n",
       "      <td>0.054147</td>\n",
       "      <td>0.040367</td>\n",
       "      <td>0.000000</td>\n",
       "      <td>0.000000</td>\n",
       "      <td>0.000000</td>\n",
       "      <td>0.070556</td>\n",
       "      <td>0.000000</td>\n",
       "      <td>0.000000</td>\n",
       "      <td>...</td>\n",
       "      <td>0.000000</td>\n",
       "      <td>0.000000</td>\n",
       "      <td>0.000000</td>\n",
       "      <td>0.000000</td>\n",
       "      <td>0.054147</td>\n",
       "      <td>0.000000</td>\n",
       "      <td>0.000000</td>\n",
       "      <td>0.000000</td>\n",
       "      <td>0.000000</td>\n",
       "      <td>0.000000</td>\n",
       "    </tr>\n",
       "    <tr>\n",
       "      <th>48</th>\n",
       "      <td>0.455041</td>\n",
       "      <td>0.000000</td>\n",
       "      <td>0.000000</td>\n",
       "      <td>0.000000</td>\n",
       "      <td>0.069131</td>\n",
       "      <td>0.000000</td>\n",
       "      <td>0.000000</td>\n",
       "      <td>0.000000</td>\n",
       "      <td>0.000000</td>\n",
       "      <td>0.069131</td>\n",
       "      <td>...</td>\n",
       "      <td>0.000000</td>\n",
       "      <td>0.043304</td>\n",
       "      <td>0.000000</td>\n",
       "      <td>0.000000</td>\n",
       "      <td>0.159159</td>\n",
       "      <td>0.048945</td>\n",
       "      <td>0.000000</td>\n",
       "      <td>0.000000</td>\n",
       "      <td>0.000000</td>\n",
       "      <td>0.000000</td>\n",
       "    </tr>\n",
       "  </tbody>\n",
       "</table>\n",
       "<p>16 rows × 349 columns</p>\n",
       "</div>"
      ],
      "text/plain": [
       "           a  abandonar     abrir    acabar  accionar   activar   afectar  \\\n",
       "0   0.399389   0.000000  0.000000  0.041657  0.000000  0.072811  0.000000   \n",
       "2   0.531969   0.000000  0.000000  0.000000  0.066124  0.000000  0.000000   \n",
       "5   0.550032   0.000000  0.048096  0.071712  0.000000  0.000000  0.000000   \n",
       "10  0.464508   0.079390  0.000000  0.000000  0.000000  0.000000  0.000000   \n",
       "13  0.555339   0.060745  0.000000  0.034754  0.000000  0.000000  0.000000   \n",
       "17  0.602229   0.049905  0.000000  0.028552  0.000000  0.000000  0.000000   \n",
       "22  0.426569   0.000000  0.089520  0.066738  0.058325  0.000000  0.000000   \n",
       "24  0.594779   0.000000  0.034673  0.000000  0.000000  0.000000  0.045180   \n",
       "26  0.467368   0.000000  0.000000  0.139278  0.000000  0.000000  0.000000   \n",
       "29  0.366499   0.000000  0.000000  0.076453  0.000000  0.066815  0.000000   \n",
       "34  0.580924   0.000000  0.243827  0.036355  0.000000  0.000000  0.000000   \n",
       "38  0.515693   0.000000  0.000000  0.087223  0.038114  0.000000  0.076228   \n",
       "45  0.459518   0.000000  0.000000  0.000000  0.000000  0.000000  0.000000   \n",
       "46  0.694379   0.000000  0.000000  0.000000  0.000000  0.052746  0.000000   \n",
       "47  0.412819   0.000000  0.054147  0.040367  0.000000  0.000000  0.000000   \n",
       "48  0.455041   0.000000  0.000000  0.000000  0.069131  0.000000  0.000000   \n",
       "\n",
       "    agradecer  alcanzar   alguien  ...    viajar      vida  videojuego  \\\n",
       "0    0.000000  0.000000  0.000000  ...  0.000000  0.136827    0.000000   \n",
       "2    0.000000  0.063576  0.000000  ...  0.000000  0.041420    0.000000   \n",
       "5    0.000000  0.000000  0.062672  ...  0.000000  0.157030    0.000000   \n",
       "10   0.000000  0.000000  0.000000  ...  0.000000  0.000000    0.057697   \n",
       "13   0.121490  0.000000  0.000000  ...  0.000000  0.076101    0.044147   \n",
       "17   0.000000  0.000000  0.099809  ...  0.143946  0.093781    0.000000   \n",
       "22   0.000000  0.000000  0.000000  ...  0.000000  0.073069    0.000000   \n",
       "24   0.000000  0.000000  0.090360  ...  0.260636  0.113203    0.000000   \n",
       "26   0.000000  0.000000  0.000000  ...  0.000000  0.000000    0.000000   \n",
       "29   0.066815  0.000000  0.000000  ...  0.192723  0.000000    0.000000   \n",
       "34   0.000000  0.061096  0.000000  ...  0.000000  0.000000    0.000000   \n",
       "38   0.000000  0.036645  0.000000  ...  0.000000  0.047749    0.000000   \n",
       "45   0.000000  0.000000  0.000000  ...  0.000000  0.041428    0.048065   \n",
       "46   0.000000  0.050714  0.000000  ...  0.000000  0.000000    0.076667   \n",
       "47   0.070556  0.000000  0.000000  ...  0.000000  0.000000    0.000000   \n",
       "48   0.000000  0.000000  0.069131  ...  0.000000  0.043304    0.000000   \n",
       "\n",
       "       viejo    visual     vivir    volver       voz      xbox      zona  \n",
       "0   0.063020  0.000000  0.000000  0.038217  0.000000  0.126041  0.000000  \n",
       "2   0.000000  0.101491  0.046816  0.069413  0.000000  0.000000  0.000000  \n",
       "5   0.054244  0.000000  0.000000  0.032895  0.000000  0.000000  0.000000  \n",
       "10  0.068715  0.000000  0.056208  0.000000  0.000000  0.068715  0.000000  \n",
       "13  0.000000  0.046618  0.000000  0.063767  0.056288  0.052577  0.041924  \n",
       "17  0.000000  0.038298  0.035332  0.026194  0.000000  0.000000  0.034442  \n",
       "22  0.000000  0.000000  0.000000  0.000000  0.000000  0.000000  0.000000  \n",
       "24  0.000000  0.034673  0.031987  0.023714  0.000000  0.000000  0.000000  \n",
       "26  0.052676  0.000000  0.000000  0.031944  0.056394  0.000000  0.042003  \n",
       "29  0.000000  0.000000  0.000000  0.000000  0.000000  0.000000  0.000000  \n",
       "34  0.000000  0.000000  0.000000  0.166762  0.058881  0.000000  0.000000  \n",
       "38  0.000000  0.000000  0.000000  0.040010  0.000000  0.000000  0.026305  \n",
       "45  0.000000  0.000000  0.000000  0.069427  0.061284  0.000000  0.000000  \n",
       "46  0.000000  0.000000  0.000000  0.027685  0.000000  0.000000  0.000000  \n",
       "47  0.000000  0.054147  0.000000  0.000000  0.000000  0.000000  0.000000  \n",
       "48  0.000000  0.159159  0.048945  0.000000  0.000000  0.000000  0.000000  \n",
       "\n",
       "[16 rows x 349 columns]"
      ]
     },
     "execution_count": 93,
     "metadata": {},
     "output_type": "execute_result"
    }
   ],
   "source": [
    "def get_df_from_cluster(cluster):\n",
    "    return tfidf_df[clustering==cluster]\n",
    "\n",
    "get_df_from_cluster(0)"
   ]
  },
  {
   "cell_type": "code",
   "execution_count": 94,
   "metadata": {},
   "outputs": [
    {
     "data": {
      "text/plain": [
       "a        8.077056\n",
       "parir    3.356007\n",
       "comer    2.106116\n",
       "jugar    2.095982\n",
       "o        1.602285\n",
       "dtype: float64"
      ]
     },
     "execution_count": 94,
     "metadata": {},
     "output_type": "execute_result"
    }
   ],
   "source": [
    "top_words_cluster = get_df_from_cluster(0).T.sum(axis=1).sort_values(ascending=False)\n",
    "top_words_cluster.head()"
   ]
  },
  {
   "cell_type": "code",
   "execution_count": 95,
   "metadata": {},
   "outputs": [
    {
     "data": {
      "text/plain": [
       "0                      Kingdoms of Amalur: Re-Reckoning\n",
       "2                                                 Hades\n",
       "5                          Spelunky 2 - Hasta la muerte\n",
       "10            Pathfinder: Kingmaker para PS4 y Xbox One\n",
       "13                         Tell Me Why - Juego Completo\n",
       "17                                           Struggling\n",
       "22                 Iron Harvest - La guerra nunca acaba\n",
       "24                                          Spiritfarer\n",
       "26                                          Wasteland 3\n",
       "29               Remnant: From the Ashes - Subject 2923\n",
       "34             Peaky Blinders: Mastermind - La precuela\n",
       "38                                 Total War Saga: Troy\n",
       "45                                           Fairy Tail\n",
       "46                         Carrion - Asquerosa venganza\n",
       "47    Rock of Ages 3: Make & Break - A pedradas con ...\n",
       "48                                            Mutazione\n",
       "Name: title, dtype: object"
      ]
     },
     "execution_count": 95,
     "metadata": {},
     "output_type": "execute_result"
    }
   ],
   "source": [
    "games[games['cluster'] == 0].title"
   ]
  },
  {
   "cell_type": "markdown",
   "metadata": {},
   "source": [
    "### Con DBSCAN"
   ]
  },
  {
   "cell_type": "code",
   "execution_count": 104,
   "metadata": {},
   "outputs": [
    {
     "data": {
      "text/plain": [
       "DBSCAN(algorithm='auto', eps=1, leaf_size=30, metric='euclidean',\n",
       "       metric_params=None, min_samples=5, n_jobs=None, p=None)"
      ]
     },
     "execution_count": 104,
     "metadata": {},
     "output_type": "execute_result"
    }
   ],
   "source": [
    "from sklearn.cluster import DBSCAN\n",
    "\n",
    "dbscan_c = DBSCAN(eps=1,\n",
    "                  min_samples=5).fit(embedding)\n",
    "\n",
    "dbscan_c"
   ]
  },
  {
   "cell_type": "code",
   "execution_count": 116,
   "metadata": {},
   "outputs": [
    {
     "data": {
      "image/png": "[encoded data removed]",
      "text/plain": [
       "<Figure size 432x288 with 2 Axes>"
      ]
     },
     "metadata": {
      "needs_background": "light"
     },
     "output_type": "display_data"
    }
   ],
   "source": [
    "plt.scatter(embedding[:, 0], embedding[:, 1], c=dbscan_c.labels_, cmap='Spectral', s=5)\n",
    "plt.gca().set_aspect('equal', 'datalim')\n",
    "plt.colorbar(boundaries=np.arange(len(np.unique(dbscan_c.labels_)) + 1) - 0.5).set_ticks(np.arange(len(np.unique(dbscan_c.labels_))))\n",
    "plt.title('DBSCAN over Gamereactor Dataset', fontsize=18);"
   ]
  },
  {
   "cell_type": "code",
   "execution_count": 113,
   "metadata": {},
   "outputs": [],
   "source": [
    "games = pd.DataFrame({'cluster': dbscan_c.labels_, 'title': gamereactor_df['title'], 'synopsis': synopses})"
   ]
  },
  {
   "cell_type": "code",
   "execution_count": 115,
   "metadata": {},
   "outputs": [
    {
     "data": {
      "text/html": [
       "<div>\n",
       "<style scoped>\n",
       "    .dataframe tbody tr th:only-of-type {\n",
       "        vertical-align: middle;\n",
       "    }\n",
       "\n",
       "    .dataframe tbody tr th {\n",
       "        vertical-align: top;\n",
       "    }\n",
       "\n",
       "    .dataframe thead th {\n",
       "        text-align: right;\n",
       "    }\n",
       "</style>\n",
       "<table border=\"1\" class=\"dataframe\">\n",
       "  <thead>\n",
       "    <tr style=\"text-align: right;\">\n",
       "      <th></th>\n",
       "      <th>cluster</th>\n",
       "      <th>title</th>\n",
       "      <th>synopsis</th>\n",
       "    </tr>\n",
       "  </thead>\n",
       "  <tbody>\n",
       "    <tr>\n",
       "      <th>0</th>\n",
       "      <td>0</td>\n",
       "      <td>Kingdoms of Amalur: Re-Reckoning</td>\n",
       "      <td>Sé que no todo el mundo lo recibió igual de bi...</td>\n",
       "    </tr>\n",
       "    <tr>\n",
       "      <th>1</th>\n",
       "      <td>0</td>\n",
       "      <td>Tennis World Tour 2 - Iguales</td>\n",
       "      <td>Habían pasado muchos años sin que los fans de ...</td>\n",
       "    </tr>\n",
       "    <tr>\n",
       "      <th>2</th>\n",
       "      <td>0</td>\n",
       "      <td>Hades</td>\n",
       "      <td>El periplo por un limbo llamado acceso anticip...</td>\n",
       "    </tr>\n",
       "    <tr>\n",
       "      <th>3</th>\n",
       "      <td>-1</td>\n",
       "      <td>Necronator: Dead Wrong</td>\n",
       "      <td>Hace unos meses le eché un vistazo a un RTS có...</td>\n",
       "    </tr>\n",
       "    <tr>\n",
       "      <th>4</th>\n",
       "      <td>0</td>\n",
       "      <td>Los Sims 4 Star Wars: Viaje a Batuu</td>\n",
       "      <td>Los Sims y Star Wars por fin se unen. Un sueño...</td>\n",
       "    </tr>\n",
       "    <tr>\n",
       "      <th>5</th>\n",
       "      <td>0</td>\n",
       "      <td>Spelunky 2 - Hasta la muerte</td>\n",
       "      <td>A parte de un juegos de Bungie con los que me ...</td>\n",
       "    </tr>\n",
       "    <tr>\n",
       "      <th>6</th>\n",
       "      <td>1</td>\n",
       "      <td>Crysis Remastered</td>\n",
       "      <td>Crysis cayó como un bombazo hace 13 años. El e...</td>\n",
       "    </tr>\n",
       "    <tr>\n",
       "      <th>7</th>\n",
       "      <td>1</td>\n",
       "      <td>Super Mario 3D All-Stars</td>\n",
       "      <td>Felicidades, Super Mario. Por tus 35 años de s...</td>\n",
       "    </tr>\n",
       "    <tr>\n",
       "      <th>8</th>\n",
       "      <td>0</td>\n",
       "      <td>13 Sentinels: Aegis Rim</td>\n",
       "      <td>13 Sentinels: Aegis Rim cuenta una historia co...</td>\n",
       "    </tr>\n",
       "    <tr>\n",
       "      <th>9</th>\n",
       "      <td>1</td>\n",
       "      <td>eFootball PES 2021- Season Update</td>\n",
       "      <td>Septiembre siempre es un mes señalado para los...</td>\n",
       "    </tr>\n",
       "    <tr>\n",
       "      <th>10</th>\n",
       "      <td>-1</td>\n",
       "      <td>Pathfinder: Kingmaker para PS4 y Xbox One</td>\n",
       "      <td>A simple vista, Pathfinder: Kingmaker parece u...</td>\n",
       "    </tr>\n",
       "    <tr>\n",
       "      <th>11</th>\n",
       "      <td>0</td>\n",
       "      <td>Samurai Jack: Battle Through Time</td>\n",
       "      <td>Samurai Jack es un personaje de dibujos que pr...</td>\n",
       "    </tr>\n",
       "  </tbody>\n",
       "</table>\n",
       "</div>"
      ],
      "text/plain": [
       "    cluster                                      title  \\\n",
       "0         0           Kingdoms of Amalur: Re-Reckoning   \n",
       "1         0              Tennis World Tour 2 - Iguales   \n",
       "2         0                                      Hades   \n",
       "3        -1                     Necronator: Dead Wrong   \n",
       "4         0        Los Sims 4 Star Wars: Viaje a Batuu   \n",
       "5         0               Spelunky 2 - Hasta la muerte   \n",
       "6         1                          Crysis Remastered   \n",
       "7         1                   Super Mario 3D All-Stars   \n",
       "8         0                    13 Sentinels: Aegis Rim   \n",
       "9         1          eFootball PES 2021- Season Update   \n",
       "10       -1  Pathfinder: Kingmaker para PS4 y Xbox One   \n",
       "11        0          Samurai Jack: Battle Through Time   \n",
       "\n",
       "                                             synopsis  \n",
       "0   Sé que no todo el mundo lo recibió igual de bi...  \n",
       "1   Habían pasado muchos años sin que los fans de ...  \n",
       "2   El periplo por un limbo llamado acceso anticip...  \n",
       "3   Hace unos meses le eché un vistazo a un RTS có...  \n",
       "4   Los Sims y Star Wars por fin se unen. Un sueño...  \n",
       "5   A parte de un juegos de Bungie con los que me ...  \n",
       "6   Crysis cayó como un bombazo hace 13 años. El e...  \n",
       "7   Felicidades, Super Mario. Por tus 35 años de s...  \n",
       "8   13 Sentinels: Aegis Rim cuenta una historia co...  \n",
       "9   Septiembre siempre es un mes señalado para los...  \n",
       "10  A simple vista, Pathfinder: Kingmaker parece u...  \n",
       "11  Samurai Jack es un personaje de dibujos que pr...  "
      ]
     },
     "execution_count": 115,
     "metadata": {},
     "output_type": "execute_result"
    }
   ],
   "source": [
    "games.head(12)"
   ]
  },
  {
   "cell_type": "code",
   "execution_count": 121,
   "metadata": {},
   "outputs": [
    {
     "data": {
      "text/plain": [
       "3                        Necronator: Dead Wrong\n",
       "10    Pathfinder: Kingmaker para PS4 y Xbox One\n",
       "25       Captain Tsubasa: Rise of New Champions\n",
       "27                           RimWorld - Royalty\n",
       "28                               Project Cars 3\n",
       "32                                PGA Tour 2K21\n",
       "41                 Fall Guys: Ultimate Knockout\n",
       "44       Beyond Blue - Un videojuego documental\n",
       "Name: title, dtype: object"
      ]
     },
     "execution_count": 121,
     "metadata": {},
     "output_type": "execute_result"
    }
   ],
   "source": [
    "games[games['cluster'] == -1].title"
   ]
  },
  {
   "cell_type": "markdown",
   "metadata": {},
   "source": [
    "<div style=\"padding-top: 25px; float: right\">\n",
    "    <div>    \n",
    "        <i>&nbsp;&nbsp;© Copyright by</i>\n",
    "    </div>\n",
    "    <div>\n",
    "        <a href=\"https://whiteboxml.com\">\n",
    "            <img src=\"https://whiteboxml.com/static/img/logo/black_bg_white.svg\" width=\"125\">\n",
    "        </a>\n",
    "    </div>\n",
    "</div>"
   ]
  }
 ],
 "metadata": {
  "kernelspec": {
   "display_name": "Python [conda env:lab_env]",
   "language": "python",
   "name": "conda-env-lab_env-py"
  },
  "language_info": {
   "codemirror_mode": {
    "name": "ipython",
    "version": 3
   },
   "file_extension": ".py",
   "mimetype": "text/x-python",
   "name": "python",
   "nbconvert_exporter": "python",
   "pygments_lexer": "ipython3",
   "version": "3.7.3"
  }
 },
 "nbformat": 4,
 "nbformat_minor": 4
}
