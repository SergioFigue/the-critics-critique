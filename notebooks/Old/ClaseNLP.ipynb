{
 "cells": [
  {
   "cell_type": "markdown",
   "metadata": {},
   "source": [
    "<div style=\"float:right; padding-top: 15px; padding-right: 15px\">\n",
    "    <div>\n",
    "        <a href=\"https://whiteboxml.com\">\n",
    "            <img src=\"https://whiteboxml.com/static/img/logo/black_bg_white.svg\" width=\"250\">\n",
    "        </a>\n",
    "    </div>\n",
    "</div>"
   ]
  },
  {
   "cell_type": "markdown",
   "metadata": {},
   "source": [
    "# natural language processing basics"
   ]
  },
  {
   "cell_type": "markdown",
   "metadata": {},
   "source": [
    "## 0. python imports"
   ]
  },
  {
   "cell_type": "code",
   "execution_count": 1,
   "metadata": {},
   "outputs": [],
   "source": [
    "import warnings\n",
    "\n",
    "import matplotlib.pyplot as plt\n",
    "import numpy as np\n",
    "import pandas as pd\n",
    "import spacy\n",
    "\n",
    "from hdbscan import HDBSCAN\n",
    "from spacy.lang.en.stop_words import STOP_WORDS\n",
    "from spacy.lang.en import English\n",
    "from sklearn.feature_extraction.text import TfidfVectorizer\n",
    "from sklearn.metrics.pairwise import cosine_similarity\n",
    "from umap import UMAP\n",
    "\n",
    "with warnings.catch_warnings():\n",
    "    warnings.simplefilter('ignore')"
   ]
  },
  {
   "cell_type": "markdown",
   "metadata": {},
   "source": [
    "## 1. data loading"
   ]
  },
  {
   "cell_type": "markdown",
   "metadata": {},
   "source": [
    "list of titles of best 100 films ever made..."
   ]
  },
  {
   "cell_type": "code",
   "execution_count": 4,
   "metadata": {},
   "outputs": [
    {
     "data": {
      "text/plain": [
       "['The Godfather',\n",
       " 'The Shawshank Redemption',\n",
       " \"Schindler's List\",\n",
       " 'Raging Bull',\n",
       " 'Casablanca',\n",
       " \"One Flew Over the Cuckoo's Nest\",\n",
       " 'Gone with the Wind',\n",
       " 'Citizen Kane',\n",
       " 'The Wizard of Oz',\n",
       " 'Titanic',\n",
       " 'Lawrence of Arabia',\n",
       " 'The Godfather: Part II',\n",
       " 'Psycho',\n",
       " 'Sunset Blvd.',\n",
       " 'Vertigo']"
      ]
     },
     "execution_count": 4,
     "metadata": {},
     "output_type": "execute_result"
    }
   ],
   "source": [
    "'''.read para leer todo el texto / split('\\n')[0:100] Que lo separe por retorno de carro y retire el último porque es un espacio en blanco'''\n",
    "\n",
    "titles = open('data/title_list.txt').read().split('\\n')[0:100]\n",
    "\n",
    "titles[:15]"
   ]
  },
  {
   "cell_type": "code",
   "execution_count": 5,
   "metadata": {},
   "outputs": [
    {
     "data": {
      "text/plain": [
       "[' Plot  [edit]  [  [  edit  edit  ]  ]  \\n  On the day of his only daughter\\'s wedding, Vito Corleone hears requests in his role as the Godfather, the Don of a New York crime family. Vito\\'s youngest son, Michael, in a Marine Corps uniform, introduces his girlfriend, Kay Adams, to his family at the sprawling reception. Vito\\'s godson Johnny Fontane, a popular singer, pleads for help in securing a coveted movie role, so Vito dispatches his consigliere, Tom Hagen, to Los Angeles to influence the abrasive studio head, Jack Woltz. Woltz is unmoved until the morning he wakes up in bed with the severed head of his prized stallion.  On the day of his only daughter\\'s wedding,   Vito Corleone  Vito Corleone   hears requests in his role as the Godfather, the   Don  Don   of a New York crime family. Vito\\'s youngest son,   Michael  Michael  , in a   Marine Corps  Marine Corps   uniform, introduces his girlfriend,   Kay Adams  Kay Adams  , to his family at the sprawling reception. Vito\\'s godson   Johnny Fontane  Johnny Fontane  , a popular singer, pleads for help in securing a coveted movie role, so Vito dispatches his   consigliere  consigliere  ,   Tom Hagen  Tom Hagen  , to Los Angeles to influence the abrasive studio head,   Jack Woltz  Jack Woltz  . Woltz is unmoved until the morning he wakes up in bed with the severed head of his prized   stallion  stallion  .  \\n  Shortly before Christmas 1945, drug baron Virgil \"The Turk\" Sollozzo, backed by the Corleones\\' rivals, the Tattaglias, asks Vito for investment in the emerging drug trade and protection through his political connections. Vito disapproves of drug dealers, so he sends his enforcer, Luca Brasi, to spy on them. The family then receives two fish wrapped in Brasi\\'s vest, imparting that he \"sleeps with the fishes\". An assassination attempt by Sollozzo\\'s men lands Vito in the hospital, so his eldest son, Sonny, takes command. Sollozzo kidnaps Hagen to pressure Sonny to accept his deal. Michael thwarts a second assassination attempt on his father at the hospital; his jaw is broken by Police Captain McCluskey, who is also Sollozzo\\'s bodyguard. Sonny retaliates for the attacks on his father by having Tattaglia\\'s son killed. Michael comes up with a plan to hit Sollozzo and McCluskey: on the pretext of settling the dispute, Michael accepts their offer to meet in a Bronx restaurant and, retrieving a planted handgun, murders them.  Shortly before Christmas 1945, drug baron   Virgil \"The Turk\" Sollozzo  Virgil \"The Turk\" Sollozzo  , backed by the Corleones\\' rivals, the Tattaglias, asks Vito for investment in the emerging drug trade and protection through his political connections. Vito disapproves of drug dealers, so he sends his enforcer,   Luca Brasi  Luca Brasi  , to spy on them. The family then receives two fish wrapped in Brasi\\'s vest, imparting that he \"sleeps with the fishes\". An assassination attempt by Sollozzo\\'s men lands Vito in the hospital, so his eldest son,   Sonny  Sonny  , takes command. Sollozzo kidnaps Hagen to pressure Sonny to accept his deal. Michael thwarts a second assassination attempt on his father at the hospital; his jaw is broken by Police Captain McCluskey, who is also Sollozzo\\'s bodyguard. Sonny retaliates for the attacks on his father by having Tattaglia\\'s son killed. Michael comes up with a plan to hit Sollozzo and McCluskey: on the pretext of settling the dispute, Michael accepts their offer to meet in a Bronx restaurant and, retrieving a planted handgun, murders them.  \\n  Despite a clampdown from the authorities, the Five Families erupt in open warfare and the brothers fear for their safety. Michael takes refuge in Sicily, and Fredo Corleone is sheltered by associate Moe Greene in Las Vegas. Sonny attacks his brother-in-law Carlo on the street for abusing his sister Connie and threatens to kill him if he abuses her again. When it happens again, Sonny speeds for her home but assassins ambush him at a highway toll booth and riddle him with submachine gun fire. Michael\\'s time abroad has led to marriage to Apollonia Vitelli. Their euphoria is shattered when a car bomb intended for him takes her life.  Despite a clampdown from the authorities, the   Five Families  Five Families   erupt in open warfare and the brothers fear for their safety. Michael takes refuge in Sicily, and   Fredo Corleone  Fredo Corleone   is sheltered by associate   Moe Greene  Moe Greene   in   Las Vegas  Las Vegas  . Sonny attacks his brother-in-law   Carlo  Carlo   on the street for abusing his sister Connie and threatens to kill him if he abuses her again. When it happens again, Sonny speeds for her home but assassins ambush him at a highway toll booth and riddle him with submachine gun fire. Michael\\'s time abroad has led to marriage to Apollonia Vitelli. Their euphoria is shattered when a car bomb intended for him takes her life.  \\n  Devastated by Sonny\\'s death, Vito decides to end the feuds. Realising that the Tattaglias were under orders of the now dominant Don Emilio Barzini, he promises, before the heads of the Five Families, to withdraw his opposition to their heroin business and forgo revenge for his son\\'s murder. His safety guaranteed, Michael returns home to a father saddened by his involvement in the family business and marries Kay the next year.  Devastated by Sonny\\'s death, Vito decides to end the feuds. Realising that the Tattaglias were under orders of the now dominant Don   Emilio Barzini  Emilio Barzini  , he promises, before the heads of the Five Families, to withdraw his opposition to their heroin business and forgo revenge for his son\\'s murder. His safety guaranteed, Michael returns home to a father saddened by his involvement in the family business and marries Kay the next year.  \\n  With his father at the end of his career and his surviving brother too weak, Michael takes the reins of the family, promising Kay that he will make the business legitimate within five years. To that end, he insists Hagen relocate to Las Vegas and relinquish his role to Vito because Tom is not a \"wartime consigliere\"; the older man agrees Tom should \"have no part in what will happen\" in the coming battles with rival families. When Michael travels to Las Vegas to buy out Greene\\'s stake in the family\\'s casinos, Greene derides the Corleones as a fading power. To add injury to insult, Michael sees Fredo falling under Greene\\'s sway.  With his father at the end of his career and his surviving brother too weak, Michael takes the reins of the family, promising Kay that he will make the business legitimate within five years. To that end, he insists Hagen relocate to Las Vegas and relinquish his role to Vito because Tom is not a \"wartime consigliere\"; the older man agrees Tom should \"have no part in what will happen\" in the coming battles with rival families. When Michael travels to Las Vegas to buy out Greene\\'s stake in the family\\'s casinos, Greene derides the Corleones as a fading power. To add injury to insult, Michael sees Fredo falling under Greene\\'s sway.  \\n  Vito collapses and dies in his garden while playing with Michael\\'s son, Anthony. At the funeral, Salvatore Tessio arranges a meeting between Michael and Don Barzini, signalling his treachery as Vito had warned. The meeting is set for the same day as the christening of Connie\\'s son, to whom Michael will stand as godfather. As the christening proceeds, Corleone assassins, acting on Michael\\'s orders, murder the other New York dons and Moe Greene. Tessio is told that Michael is aware of his betrayal and taken off to his death. After Carlo is questioned by Michael on his involvement in setting up Sonny\\'s murder and confesses he was contacted by Barzini, Peter Clemenza kills him with a wire garrote. Michael is confronted by Connie, who accuses him of having her husband killed. He denies killing Carlo when questioned by Kay, an answer she accepts. As Kay watches warily, Michael receives his capos, who address him as the new Don Corleone.  Vito collapses and dies in his garden while playing with Michael\\'s son,   Anthony  Anthony  . At the funeral,   Salvatore Tessio  Salvatore Tessio   arranges a meeting between Michael and Don Barzini, signalling his treachery as Vito had warned. The meeting is set for the same day as the christening of Connie\\'s son, to whom Michael will stand as godfather. As the christening proceeds, Corleone assassins, acting on Michael\\'s orders, murder the other New York dons and Moe Greene. Tessio is told that Michael is aware of his betrayal and taken off to his death. After Carlo is questioned by Michael on his involvement in setting up Sonny\\'s murder and confesses he was contacted by Barzini,   Peter Clemenza  Peter Clemenza   kills him with a wire   garrote  garrote  . Michael is confronted by Connie, who accuses him of having her husband killed. He denies killing Carlo when questioned by Kay, an answer she accepts. As Kay watches warily, Michael receives his   capos  capos  , who address him as the new Don Corleone.  \\n ']"
      ]
     },
     "execution_count": 5,
     "metadata": {},
     "output_type": "execute_result"
    }
   ],
   "source": [
    "synopses = open('data/synopses_list.txt').read().split('\\n BREAKS HERE')[0:100]\n",
    "\n",
    "synopses[:1]"
   ]
  },
  {
   "cell_type": "markdown",
   "metadata": {},
   "source": [
    "## 2. data processing"
   ]
  },
  {
   "cell_type": "code",
   "execution_count": 6,
   "metadata": {},
   "outputs": [],
   "source": [
    "'''El parser está importado arriba de SpaCy. Ya se podría aplicar a un elemento directamente este parser y te devolvería un elemento que, aunque parezca el texto, ya no es un string sino un spycy.tokens'''\n",
    "\n",
    "parser = English()"
   ]
  },
  {
   "cell_type": "code",
   "execution_count": 14,
   "metadata": {},
   "outputs": [
    {
     "data": {
      "text/plain": [
       "'podemos ya llamar a cualquier token y te lo saca ya partido pero en formato token de spacy. Si quieres un string para operar con él hay que aplicar el método .lemma_'"
      ]
     },
     "execution_count": 14,
     "metadata": {},
     "output_type": "execute_result"
    }
   ],
   "source": [
    "'''podemos ya llamar a cualquier token y te lo saca ya partido pero en formato token de spacy. Si quieres un string para operar con él hay que aplicar el método .lemma_'''\n",
    "\n",
    "#for word in parser(synopses[0]):\n",
    "    #print(word.lemma_)"
   ]
  },
  {
   "cell_type": "code",
   "execution_count": 15,
   "metadata": {},
   "outputs": [],
   "source": [
    "'''Aunque el parser ya haga, nosotros vamos a procesar más. Definimos nuestro documento, tokens, \n",
    "después lo filtramos y por último convertimos en miníscula todas las palabras para homogeneizar el texto, \n",
    "luego vamos a hacer una lista de stop words (importada) + miramos con regex si está en la lista de palabras que queremos conseguida con lemma\n",
    "Si cumple todo, lo mete en filtered_tokens, que ya es nuestra lista de palabras deseadas'''\n",
    "\n",
    "import re\n",
    "\n",
    "def spacy_tokenizer(sentence):\n",
    "\n",
    "    tokens = parser(sentence)\n",
    "    \n",
    "    filtered_tokens = []\n",
    "    for word in tokens:\n",
    "        lemma = word.lemma_.lower().strip()\n",
    "        \n",
    "        if lemma not in STOP_WORDS and re.search('^[a-zA-Z]+$', lemma):\n",
    "            filtered_tokens.append(lemma)\n",
    "\n",
    "    return filtered_tokens"
   ]
  },
  {
   "cell_type": "code",
   "execution_count": 16,
   "metadata": {},
   "outputs": [
    {
     "data": {
      "text/plain": [
       "['plot',\n",
       " 'edit',\n",
       " 'edit',\n",
       " 'edit',\n",
       " 'day',\n",
       " 'daughter',\n",
       " 'wedding',\n",
       " 'vito',\n",
       " 'corleone',\n",
       " 'hears',\n",
       " 'requests',\n",
       " 'role',\n",
       " 'godfather',\n",
       " 'don',\n",
       " 'new']"
      ]
     },
     "execution_count": 16,
     "metadata": {},
     "output_type": "execute_result"
    }
   ],
   "source": [
    "spacy_tokenizer(synopses[0])[:15]"
   ]
  },
  {
   "cell_type": "markdown",
   "metadata": {},
   "source": [
    "## 3. term-frequency matrix"
   ]
  },
  {
   "cell_type": "code",
   "execution_count": 18,
   "metadata": {},
   "outputs": [
    {
     "data": {
      "text/plain": [
       "(100, 254)"
      ]
     },
     "execution_count": 18,
     "metadata": {},
     "output_type": "execute_result"
    }
   ],
   "source": [
    "'''\n",
    "Esta clase, que es como un scaler o transforer de Scikit-learn, lo que hay que hacer es instanciarlo, con una frecuencia mínima en porcentaje para que no coja todo y un tokenizador, el que ya hemos construido)\n",
    "Al hacer al fit_transform conseguimos nuestra sinopsis el elemento matriz sparce, así que para visualizarla hay que hacer el todense.\n",
    "Así ya se ve la matriz de frecuencias corregida.\n",
    "Tiene 100 filas, una por cada sinopsis, y 254 columnas, que son las que han quedado tras ir haciendo las tokenizaciones y filtrar por frecuencia.\n",
    "'''\n",
    "\n",
    "tfidf_vectorizer = TfidfVectorizer(min_df=0.15, tokenizer=spacy_tokenizer)\n",
    "tfidf_matrix = tfidf_vectorizer.fit_transform(synopses)\n",
    "tfidf_matrix.shape"
   ]
  },
  {
   "cell_type": "code",
   "execution_count": 19,
   "metadata": {},
   "outputs": [
    {
     "data": {
      "text/plain": [
       "matrix([[0.        , 0.0646389 , 0.        , ..., 0.06287008, 0.15909979,\n",
       "         0.        ],\n",
       "        [0.        , 0.        , 0.        , ..., 0.13310761, 0.        ,\n",
       "         0.        ],\n",
       "        [0.        , 0.07322815, 0.        , ..., 0.        , 0.        ,\n",
       "         0.        ],\n",
       "        ...,\n",
       "        [0.        , 0.12629406, 0.        , ..., 0.        , 0.        ,\n",
       "         0.05978447],\n",
       "        [0.10964721, 0.08232723, 0.        , ..., 0.        , 0.        ,\n",
       "         0.        ],\n",
       "        [0.        , 0.        , 0.        , ..., 0.12432828, 0.        ,\n",
       "         0.12101952]])"
      ]
     },
     "execution_count": 19,
     "metadata": {},
     "output_type": "execute_result"
    }
   ],
   "source": [
    "tfidf_matrix.todense()"
   ]
  },
  {
   "cell_type": "code",
   "execution_count": 20,
   "metadata": {},
   "outputs": [
    {
     "data": {
      "text/plain": [
       "['able',\n",
       " 'agrees',\n",
       " 'air',\n",
       " 'american',\n",
       " 'apartment',\n",
       " 'army',\n",
       " 'arrive',\n",
       " 'arrives',\n",
       " 'asks',\n",
       " 'attack',\n",
       " 'attempt',\n",
       " 'attempts',\n",
       " 'attention',\n",
       " 'away',\n",
       " 'battle']"
      ]
     },
     "execution_count": 20,
     "metadata": {},
     "output_type": "execute_result"
    }
   ],
   "source": [
    "'''Cion get_features_names vemos cuáles han sido las features que nos han quedado'''\n",
    "\n",
    "terms = tfidf_vectorizer.get_feature_names()\n",
    "\n",
    "terms[:15]"
   ]
  },
  {
   "cell_type": "code",
   "execution_count": 23,
   "metadata": {},
   "outputs": [
    {
     "data": {
      "text/html": [
       "<div>\n",
       "<style scoped>\n",
       "    .dataframe tbody tr th:only-of-type {\n",
       "        vertical-align: middle;\n",
       "    }\n",
       "\n",
       "    .dataframe tbody tr th {\n",
       "        vertical-align: top;\n",
       "    }\n",
       "\n",
       "    .dataframe thead th {\n",
       "        text-align: right;\n",
       "    }\n",
       "</style>\n",
       "<table border=\"1\" class=\"dataframe\">\n",
       "  <thead>\n",
       "    <tr style=\"text-align: right;\">\n",
       "      <th></th>\n",
       "      <th>able</th>\n",
       "      <th>agrees</th>\n",
       "      <th>air</th>\n",
       "      <th>american</th>\n",
       "      <th>apartment</th>\n",
       "      <th>army</th>\n",
       "      <th>arrive</th>\n",
       "      <th>arrives</th>\n",
       "      <th>asks</th>\n",
       "      <th>attack</th>\n",
       "      <th>...</th>\n",
       "      <th>window</th>\n",
       "      <th>woman</th>\n",
       "      <th>work</th>\n",
       "      <th>working</th>\n",
       "      <th>world</th>\n",
       "      <th>wounded</th>\n",
       "      <th>year</th>\n",
       "      <th>years</th>\n",
       "      <th>york</th>\n",
       "      <th>young</th>\n",
       "    </tr>\n",
       "  </thead>\n",
       "  <tbody>\n",
       "    <tr>\n",
       "      <th>0</th>\n",
       "      <td>0.0</td>\n",
       "      <td>0.064639</td>\n",
       "      <td>0.000000</td>\n",
       "      <td>0.000000</td>\n",
       "      <td>0.0</td>\n",
       "      <td>0.000000</td>\n",
       "      <td>0.000000</td>\n",
       "      <td>0.000000</td>\n",
       "      <td>0.053967</td>\n",
       "      <td>0.0</td>\n",
       "      <td>...</td>\n",
       "      <td>0.0</td>\n",
       "      <td>0.0</td>\n",
       "      <td>0.000000</td>\n",
       "      <td>0.000000</td>\n",
       "      <td>0.000000</td>\n",
       "      <td>0.0</td>\n",
       "      <td>0.07811</td>\n",
       "      <td>0.062870</td>\n",
       "      <td>0.159100</td>\n",
       "      <td>0.0</td>\n",
       "    </tr>\n",
       "    <tr>\n",
       "      <th>1</th>\n",
       "      <td>0.0</td>\n",
       "      <td>0.000000</td>\n",
       "      <td>0.000000</td>\n",
       "      <td>0.000000</td>\n",
       "      <td>0.0</td>\n",
       "      <td>0.000000</td>\n",
       "      <td>0.074787</td>\n",
       "      <td>0.000000</td>\n",
       "      <td>0.000000</td>\n",
       "      <td>0.0</td>\n",
       "      <td>...</td>\n",
       "      <td>0.0</td>\n",
       "      <td>0.0</td>\n",
       "      <td>0.000000</td>\n",
       "      <td>0.091133</td>\n",
       "      <td>0.073637</td>\n",
       "      <td>0.0</td>\n",
       "      <td>0.00000</td>\n",
       "      <td>0.133108</td>\n",
       "      <td>0.000000</td>\n",
       "      <td>0.0</td>\n",
       "    </tr>\n",
       "    <tr>\n",
       "      <th>2</th>\n",
       "      <td>0.0</td>\n",
       "      <td>0.073228</td>\n",
       "      <td>0.000000</td>\n",
       "      <td>0.000000</td>\n",
       "      <td>0.0</td>\n",
       "      <td>0.121965</td>\n",
       "      <td>0.000000</td>\n",
       "      <td>0.146456</td>\n",
       "      <td>0.061139</td>\n",
       "      <td>0.0</td>\n",
       "      <td>...</td>\n",
       "      <td>0.0</td>\n",
       "      <td>0.0</td>\n",
       "      <td>0.000000</td>\n",
       "      <td>0.000000</td>\n",
       "      <td>0.197012</td>\n",
       "      <td>0.0</td>\n",
       "      <td>0.00000</td>\n",
       "      <td>0.000000</td>\n",
       "      <td>0.000000</td>\n",
       "      <td>0.0</td>\n",
       "    </tr>\n",
       "    <tr>\n",
       "      <th>3</th>\n",
       "      <td>0.0</td>\n",
       "      <td>0.000000</td>\n",
       "      <td>0.069901</td>\n",
       "      <td>0.089895</td>\n",
       "      <td>0.0</td>\n",
       "      <td>0.085550</td>\n",
       "      <td>0.000000</td>\n",
       "      <td>0.000000</td>\n",
       "      <td>0.128654</td>\n",
       "      <td>0.0</td>\n",
       "      <td>...</td>\n",
       "      <td>0.0</td>\n",
       "      <td>0.0</td>\n",
       "      <td>0.000000</td>\n",
       "      <td>0.000000</td>\n",
       "      <td>0.000000</td>\n",
       "      <td>0.0</td>\n",
       "      <td>0.06207</td>\n",
       "      <td>0.000000</td>\n",
       "      <td>0.189641</td>\n",
       "      <td>0.0</td>\n",
       "    </tr>\n",
       "    <tr>\n",
       "      <th>4</th>\n",
       "      <td>0.0</td>\n",
       "      <td>0.069514</td>\n",
       "      <td>0.000000</td>\n",
       "      <td>0.081106</td>\n",
       "      <td>0.0</td>\n",
       "      <td>0.077186</td>\n",
       "      <td>0.075976</td>\n",
       "      <td>0.000000</td>\n",
       "      <td>0.000000</td>\n",
       "      <td>0.0</td>\n",
       "      <td>...</td>\n",
       "      <td>0.0</td>\n",
       "      <td>0.0</td>\n",
       "      <td>0.079747</td>\n",
       "      <td>0.000000</td>\n",
       "      <td>0.000000</td>\n",
       "      <td>0.0</td>\n",
       "      <td>0.00000</td>\n",
       "      <td>0.000000</td>\n",
       "      <td>0.000000</td>\n",
       "      <td>0.0</td>\n",
       "    </tr>\n",
       "  </tbody>\n",
       "</table>\n",
       "<p>5 rows × 254 columns</p>\n",
       "</div>"
      ],
      "text/plain": [
       "   able    agrees       air  american  apartment      army    arrive  \\\n",
       "0   0.0  0.064639  0.000000  0.000000        0.0  0.000000  0.000000   \n",
       "1   0.0  0.000000  0.000000  0.000000        0.0  0.000000  0.074787   \n",
       "2   0.0  0.073228  0.000000  0.000000        0.0  0.121965  0.000000   \n",
       "3   0.0  0.000000  0.069901  0.089895        0.0  0.085550  0.000000   \n",
       "4   0.0  0.069514  0.000000  0.081106        0.0  0.077186  0.075976   \n",
       "\n",
       "    arrives      asks  attack  ...  window  woman      work   working  \\\n",
       "0  0.000000  0.053967     0.0  ...     0.0    0.0  0.000000  0.000000   \n",
       "1  0.000000  0.000000     0.0  ...     0.0    0.0  0.000000  0.091133   \n",
       "2  0.146456  0.061139     0.0  ...     0.0    0.0  0.000000  0.000000   \n",
       "3  0.000000  0.128654     0.0  ...     0.0    0.0  0.000000  0.000000   \n",
       "4  0.000000  0.000000     0.0  ...     0.0    0.0  0.079747  0.000000   \n",
       "\n",
       "      world  wounded     year     years      york  young  \n",
       "0  0.000000      0.0  0.07811  0.062870  0.159100    0.0  \n",
       "1  0.073637      0.0  0.00000  0.133108  0.000000    0.0  \n",
       "2  0.197012      0.0  0.00000  0.000000  0.000000    0.0  \n",
       "3  0.000000      0.0  0.06207  0.000000  0.189641    0.0  \n",
       "4  0.000000      0.0  0.00000  0.000000  0.000000    0.0  \n",
       "\n",
       "[5 rows x 254 columns]"
      ]
     },
     "execution_count": 23,
     "metadata": {},
     "output_type": "execute_result"
    }
   ],
   "source": [
    "'''Y hasta podríamos converirlo en un dataframe de pandas'''\n",
    "\n",
    "import pandas as np\n",
    "pd.DataFrame(columns=tfidf_vectorizer.get_feature_names(), data=tfidf_matrix.todense()).head()"
   ]
  },
  {
   "cell_type": "code",
   "execution_count": 38,
   "metadata": {},
   "outputs": [
    {
     "data": {
      "text/plain": [
       "array([[-2.22044605e-16,  8.71403386e-01,  8.82700207e-01, ...,\n",
       "         7.56453457e-01,  8.81292056e-01,  8.72030953e-01],\n",
       "       [ 8.71403386e-01, -2.22044605e-16,  7.72031866e-01, ...,\n",
       "         8.09164566e-01,  8.36998279e-01,  8.92111515e-01],\n",
       "       [ 8.82700207e-01,  7.72031866e-01, -2.22044605e-16, ...,\n",
       "         8.09233859e-01,  8.53123482e-01,  7.58211878e-01],\n",
       "       ...,\n",
       "       [ 7.56453457e-01,  8.09164566e-01,  8.09233859e-01, ...,\n",
       "         2.22044605e-16,  7.04903724e-01,  9.23311908e-01],\n",
       "       [ 8.81292056e-01,  8.36998279e-01,  8.53123482e-01, ...,\n",
       "         7.04903724e-01, -2.22044605e-16,  8.79640027e-01],\n",
       "       [ 8.72030953e-01,  8.92111515e-01,  7.58211878e-01, ...,\n",
       "         9.23311908e-01,  8.79640027e-01, -2.22044605e-16]])"
      ]
     },
     "execution_count": 38,
     "metadata": {},
     "output_type": "execute_result"
    }
   ],
   "source": [
    "'''La instancia del cosen nos la saltamos'''\n",
    "\n",
    "dist = 1 - cosine_similarity(tfidf_matrix)\n",
    "\n",
    "dist"
   ]
  },
  {
   "cell_type": "markdown",
   "metadata": {},
   "source": [
    "## 4. text clustering"
   ]
  },
  {
   "cell_type": "code",
   "execution_count": 28,
   "metadata": {},
   "outputs": [],
   "source": [
    "'''\n",
    "Lo que hace es recibir un dataset enorme (de 254 dimensiones por lo que sea) y convertirlo en dos dimensiones. Es un tipo de embedding que proyecta/aglutina la información\n",
    "'''\n",
    "\n",
    "umap = UMAP(n_neighbors=5, random_state=42)\n",
    "embedding = umap.fit_transform(tfidf_matrix)"
   ]
  },
  {
   "cell_type": "code",
   "execution_count": 29,
   "metadata": {},
   "outputs": [
    {
     "data": {
      "text/plain": [
       "array([[ 8.731821, 13.041575],\n",
       "       [10.765717, 13.001307],\n",
       "       [ 7.620284, 11.836438],\n",
       "       [ 8.507062, 13.541501],\n",
       "       [ 7.93227 ,  9.995104]], dtype=float32)"
      ]
     },
     "execution_count": 29,
     "metadata": {},
     "output_type": "execute_result"
    }
   ],
   "source": [
    "embedding[:5,:]"
   ]
  },
  {
   "cell_type": "code",
   "execution_count": 30,
   "metadata": {},
   "outputs": [
    {
     "data": {
      "image/png": "[encoded data removed]",
      "text/plain": [
       "<Figure size 432x288 with 1 Axes>"
      ]
     },
     "metadata": {
      "needs_background": "light"
     },
     "output_type": "display_data"
    }
   ],
   "source": [
    "'''Le pasas las dos columnas y te las pintas. Así parece que no hay un patrón claro, así que es mejor hacer el embedding con la matriz de dinstancia que hay entre las pelis (el paso de instancia del coseno)'''\n",
    "plt.scatter(embedding[:,0], embedding[:,1]);"
   ]
  },
  {
   "cell_type": "code",
   "execution_count": null,
   "metadata": {},
   "outputs": [],
   "source": [
    "from sklearn.metrics.pairwise import cosine_similarity"
   ]
  },
  {
   "cell_type": "code",
   "execution_count": 34,
   "metadata": {},
   "outputs": [
    {
     "data": {
      "text/plain": [
       "array([[1.        , 0.12859661, 0.11729979, ..., 0.24354654, 0.11870794,\n",
       "        0.12796905],\n",
       "       [0.12859661, 1.        , 0.22796813, ..., 0.19083543, 0.16300172,\n",
       "        0.10788849],\n",
       "       [0.11729979, 0.22796813, 1.        , ..., 0.19076614, 0.14687652,\n",
       "        0.24178812],\n",
       "       ...,\n",
       "       [0.24354654, 0.19083543, 0.19076614, ..., 1.        , 0.29509628,\n",
       "        0.07668809],\n",
       "       [0.11870794, 0.16300172, 0.14687652, ..., 0.29509628, 1.        ,\n",
       "        0.12035997],\n",
       "       [0.12796905, 0.10788849, 0.24178812, ..., 0.07668809, 0.12035997,\n",
       "        1.        ]])"
      ]
     },
     "execution_count": 34,
     "metadata": {},
     "output_type": "execute_result"
    }
   ],
   "source": [
    "'''Uno es que se parecen mucho las sinopsis y cero es que no se parecen nada. Si le das las vuelta con el 1- consigues esa matriz de distancia. Y entonces le haces el embedding a esta en vez de a todo el dataset.'''\n",
    "cosine_similarity(tfidf_matrix)"
   ]
  },
  {
   "cell_type": "code",
   "execution_count": 40,
   "metadata": {},
   "outputs": [],
   "source": [
    "embedding = umap.fit_transform(dist)"
   ]
  },
  {
   "cell_type": "code",
   "execution_count": 41,
   "metadata": {},
   "outputs": [
    {
     "data": {
      "text/plain": [
       "array([[ 0.8808166,  7.2704816],\n",
       "       [ 3.7856798,  4.743576 ],\n",
       "       [-0.3553034,  3.6196856],\n",
       "       [ 3.3003893,  6.1176476],\n",
       "       [ 5.2534943,  3.9119418]], dtype=float32)"
      ]
     },
     "execution_count": 41,
     "metadata": {},
     "output_type": "execute_result"
    }
   ],
   "source": [
    "embedding[:5,:]"
   ]
  },
  {
   "cell_type": "code",
   "execution_count": 42,
   "metadata": {},
   "outputs": [
    {
     "data": {
      "image/png": "[encoded data removed]",
      "text/plain": [
       "<Figure size 432x288 with 1 Axes>"
      ]
     },
     "metadata": {
      "needs_background": "light"
     },
     "output_type": "display_data"
    }
   ],
   "source": [
    "'''Se nota la diferencia en la representación al pasar la matriz frente a la anterior'''\n",
    "plt.scatter(embedding[:,0], embedding[:,1]);"
   ]
  },
  {
   "cell_type": "code",
   "execution_count": null,
   "metadata": {},
   "outputs": [],
   "source": [
    "##Otra técnica de clasterización, HDBSCAN. Otro algortimo no supervisado que va a buscar y encontrar clusteres en tus datos y los agrupa, pero sin etiqueta, claro, es de cluster"
   ]
  },
  {
   "cell_type": "code",
   "execution_count": 44,
   "metadata": {},
   "outputs": [
    {
     "data": {
      "text/plain": [
       "array([ 2,  3,  0,  4, -1,  5,  1])"
      ]
     },
     "execution_count": 44,
     "metadata": {},
     "output_type": "execute_result"
    }
   ],
   "source": [
    "'''\n",
    "Ya tenemos el embedding, que son un par de columnas. Empezamos:\n",
    "Me defino un cluster y le decimos que los meta en cinco clusters mínimo, aunque puede que saque alguno más por los que no puede clasificar (los -1)\n",
    "Después se le pasa a embedding el clustering con fit_predict\n",
    "Y al final vemos con unique cuántas categorías ha hecho. También podemos ver la clasificación completa\n",
    "'''\n",
    "\n",
    "hdbscan = HDBSCAN(min_cluster_size=5)\n",
    "clustering = hdbscan.fit_predict(embedding)\n",
    "np.unique(clustering)"
   ]
  },
  {
   "cell_type": "code",
   "execution_count": 45,
   "metadata": {},
   "outputs": [
    {
     "data": {
      "image/png": "[encoded data removed]",
      "text/plain": [
       "<Figure size 432x288 with 1 Axes>"
      ]
     },
     "metadata": {
      "needs_background": "light"
     },
     "output_type": "display_data"
    }
   ],
   "source": [
    "plt.scatter(embedding[:,0], embedding[:,1], c=clustering);"
   ]
  },
  {
   "cell_type": "code",
   "execution_count": 46,
   "metadata": {},
   "outputs": [],
   "source": [
    "'''Ahora que ya hemos clusterizado, podemos rearmar un dataset enel que tenemos el título, la sinopsis y el claster al que pertenecen'''\n",
    "films = pd.DataFrame({'cluster': clustering, 'title': titles, 'synopsis': synopses})"
   ]
  },
  {
   "cell_type": "code",
   "execution_count": 48,
   "metadata": {},
   "outputs": [
    {
     "data": {
      "text/html": [
       "<div>\n",
       "<style scoped>\n",
       "    .dataframe tbody tr th:only-of-type {\n",
       "        vertical-align: middle;\n",
       "    }\n",
       "\n",
       "    .dataframe tbody tr th {\n",
       "        vertical-align: top;\n",
       "    }\n",
       "\n",
       "    .dataframe thead th {\n",
       "        text-align: right;\n",
       "    }\n",
       "</style>\n",
       "<table border=\"1\" class=\"dataframe\">\n",
       "  <thead>\n",
       "    <tr style=\"text-align: right;\">\n",
       "      <th></th>\n",
       "      <th>cluster</th>\n",
       "      <th>title</th>\n",
       "      <th>synopsis</th>\n",
       "    </tr>\n",
       "  </thead>\n",
       "  <tbody>\n",
       "    <tr>\n",
       "      <th>0</th>\n",
       "      <td>2</td>\n",
       "      <td>The Godfather</td>\n",
       "      <td>Plot  [edit]  [  [  edit  edit  ]  ]  \\n  On ...</td>\n",
       "    </tr>\n",
       "    <tr>\n",
       "      <th>1</th>\n",
       "      <td>3</td>\n",
       "      <td>The Shawshank Redemption</td>\n",
       "      <td>Plot  [edit]  [  [  edit  edit  ]  ]  \\n  In ...</td>\n",
       "    </tr>\n",
       "    <tr>\n",
       "      <th>2</th>\n",
       "      <td>0</td>\n",
       "      <td>Schindler's List</td>\n",
       "      <td>Plot  [edit]  [  [  edit  edit  ]  ]  \\n  In ...</td>\n",
       "    </tr>\n",
       "    <tr>\n",
       "      <th>3</th>\n",
       "      <td>4</td>\n",
       "      <td>Raging Bull</td>\n",
       "      <td>Plot  [edit]  [  [  edit  edit  ]  ]  \\n  In ...</td>\n",
       "    </tr>\n",
       "    <tr>\n",
       "      <th>4</th>\n",
       "      <td>3</td>\n",
       "      <td>Casablanca</td>\n",
       "      <td>Plot  [edit]  [  [  edit  edit  ]  ]  \\n  It ...</td>\n",
       "    </tr>\n",
       "  </tbody>\n",
       "</table>\n",
       "</div>"
      ],
      "text/plain": [
       "   cluster                     title  \\\n",
       "0        2             The Godfather   \n",
       "1        3  The Shawshank Redemption   \n",
       "2        0          Schindler's List   \n",
       "3        4               Raging Bull   \n",
       "4        3                Casablanca   \n",
       "\n",
       "                                            synopsis  \n",
       "0   Plot  [edit]  [  [  edit  edit  ]  ]  \\n  On ...  \n",
       "1   Plot  [edit]  [  [  edit  edit  ]  ]  \\n  In ...  \n",
       "2   Plot  [edit]  [  [  edit  edit  ]  ]  \\n  In ...  \n",
       "3   Plot  [edit]  [  [  edit  edit  ]  ]  \\n  In ...  \n",
       "4   Plot  [edit]  [  [  edit  edit  ]  ]  \\n  It ...  "
      ]
     },
     "execution_count": 48,
     "metadata": {},
     "output_type": "execute_result"
    }
   ],
   "source": [
    "films.head()"
   ]
  },
  {
   "cell_type": "code",
   "execution_count": 49,
   "metadata": {},
   "outputs": [
    {
     "data": {
      "text/plain": [
       "2                       Schindler's List\n",
       "37                            Unforgiven\n",
       "49                                  Jaws\n",
       "52    Butch Cassidy and the Sundance Kid\n",
       "53      The Treasure of the Sierra Madre\n",
       "56                             High Noon\n",
       "Name: title, dtype: object"
      ]
     },
     "execution_count": 49,
     "metadata": {},
     "output_type": "execute_result"
    }
   ],
   "source": [
    "'''Jugamos un poco con ello y nos sacamos el top del cluster numero 0'''\n",
    "\n",
    "films[films['cluster'] == 0].title"
   ]
  },
  {
   "cell_type": "code",
   "execution_count": 52,
   "metadata": {},
   "outputs": [
    {
     "data": {
      "text/html": [
       "<div>\n",
       "<style scoped>\n",
       "    .dataframe tbody tr th:only-of-type {\n",
       "        vertical-align: middle;\n",
       "    }\n",
       "\n",
       "    .dataframe tbody tr th {\n",
       "        vertical-align: top;\n",
       "    }\n",
       "\n",
       "    .dataframe thead th {\n",
       "        text-align: right;\n",
       "    }\n",
       "</style>\n",
       "<table border=\"1\" class=\"dataframe\">\n",
       "  <thead>\n",
       "    <tr style=\"text-align: right;\">\n",
       "      <th></th>\n",
       "      <th>able</th>\n",
       "      <th>agrees</th>\n",
       "      <th>air</th>\n",
       "      <th>american</th>\n",
       "      <th>apartment</th>\n",
       "      <th>army</th>\n",
       "      <th>arrive</th>\n",
       "      <th>arrives</th>\n",
       "      <th>asks</th>\n",
       "      <th>attack</th>\n",
       "      <th>...</th>\n",
       "      <th>window</th>\n",
       "      <th>woman</th>\n",
       "      <th>work</th>\n",
       "      <th>working</th>\n",
       "      <th>world</th>\n",
       "      <th>wounded</th>\n",
       "      <th>year</th>\n",
       "      <th>years</th>\n",
       "      <th>york</th>\n",
       "      <th>young</th>\n",
       "    </tr>\n",
       "  </thead>\n",
       "  <tbody>\n",
       "    <tr>\n",
       "      <th>0</th>\n",
       "      <td>0.0</td>\n",
       "      <td>0.064639</td>\n",
       "      <td>0.000000</td>\n",
       "      <td>0.000000</td>\n",
       "      <td>0.0</td>\n",
       "      <td>0.000000</td>\n",
       "      <td>0.000000</td>\n",
       "      <td>0.000000</td>\n",
       "      <td>0.053967</td>\n",
       "      <td>0.0</td>\n",
       "      <td>...</td>\n",
       "      <td>0.0</td>\n",
       "      <td>0.0</td>\n",
       "      <td>0.000000</td>\n",
       "      <td>0.000000</td>\n",
       "      <td>0.000000</td>\n",
       "      <td>0.0</td>\n",
       "      <td>0.07811</td>\n",
       "      <td>0.062870</td>\n",
       "      <td>0.159100</td>\n",
       "      <td>0.0</td>\n",
       "    </tr>\n",
       "    <tr>\n",
       "      <th>1</th>\n",
       "      <td>0.0</td>\n",
       "      <td>0.000000</td>\n",
       "      <td>0.000000</td>\n",
       "      <td>0.000000</td>\n",
       "      <td>0.0</td>\n",
       "      <td>0.000000</td>\n",
       "      <td>0.074787</td>\n",
       "      <td>0.000000</td>\n",
       "      <td>0.000000</td>\n",
       "      <td>0.0</td>\n",
       "      <td>...</td>\n",
       "      <td>0.0</td>\n",
       "      <td>0.0</td>\n",
       "      <td>0.000000</td>\n",
       "      <td>0.091133</td>\n",
       "      <td>0.073637</td>\n",
       "      <td>0.0</td>\n",
       "      <td>0.00000</td>\n",
       "      <td>0.133108</td>\n",
       "      <td>0.000000</td>\n",
       "      <td>0.0</td>\n",
       "    </tr>\n",
       "    <tr>\n",
       "      <th>2</th>\n",
       "      <td>0.0</td>\n",
       "      <td>0.073228</td>\n",
       "      <td>0.000000</td>\n",
       "      <td>0.000000</td>\n",
       "      <td>0.0</td>\n",
       "      <td>0.121965</td>\n",
       "      <td>0.000000</td>\n",
       "      <td>0.146456</td>\n",
       "      <td>0.061139</td>\n",
       "      <td>0.0</td>\n",
       "      <td>...</td>\n",
       "      <td>0.0</td>\n",
       "      <td>0.0</td>\n",
       "      <td>0.000000</td>\n",
       "      <td>0.000000</td>\n",
       "      <td>0.197012</td>\n",
       "      <td>0.0</td>\n",
       "      <td>0.00000</td>\n",
       "      <td>0.000000</td>\n",
       "      <td>0.000000</td>\n",
       "      <td>0.0</td>\n",
       "    </tr>\n",
       "    <tr>\n",
       "      <th>3</th>\n",
       "      <td>0.0</td>\n",
       "      <td>0.000000</td>\n",
       "      <td>0.069901</td>\n",
       "      <td>0.089895</td>\n",
       "      <td>0.0</td>\n",
       "      <td>0.085550</td>\n",
       "      <td>0.000000</td>\n",
       "      <td>0.000000</td>\n",
       "      <td>0.128654</td>\n",
       "      <td>0.0</td>\n",
       "      <td>...</td>\n",
       "      <td>0.0</td>\n",
       "      <td>0.0</td>\n",
       "      <td>0.000000</td>\n",
       "      <td>0.000000</td>\n",
       "      <td>0.000000</td>\n",
       "      <td>0.0</td>\n",
       "      <td>0.06207</td>\n",
       "      <td>0.000000</td>\n",
       "      <td>0.189641</td>\n",
       "      <td>0.0</td>\n",
       "    </tr>\n",
       "    <tr>\n",
       "      <th>4</th>\n",
       "      <td>0.0</td>\n",
       "      <td>0.069514</td>\n",
       "      <td>0.000000</td>\n",
       "      <td>0.081106</td>\n",
       "      <td>0.0</td>\n",
       "      <td>0.077186</td>\n",
       "      <td>0.075976</td>\n",
       "      <td>0.000000</td>\n",
       "      <td>0.000000</td>\n",
       "      <td>0.0</td>\n",
       "      <td>...</td>\n",
       "      <td>0.0</td>\n",
       "      <td>0.0</td>\n",
       "      <td>0.079747</td>\n",
       "      <td>0.000000</td>\n",
       "      <td>0.000000</td>\n",
       "      <td>0.0</td>\n",
       "      <td>0.00000</td>\n",
       "      <td>0.000000</td>\n",
       "      <td>0.000000</td>\n",
       "      <td>0.0</td>\n",
       "    </tr>\n",
       "  </tbody>\n",
       "</table>\n",
       "<p>5 rows × 254 columns</p>\n",
       "</div>"
      ],
      "text/plain": [
       "   able    agrees       air  american  apartment      army    arrive  \\\n",
       "0   0.0  0.064639  0.000000  0.000000        0.0  0.000000  0.000000   \n",
       "1   0.0  0.000000  0.000000  0.000000        0.0  0.000000  0.074787   \n",
       "2   0.0  0.073228  0.000000  0.000000        0.0  0.121965  0.000000   \n",
       "3   0.0  0.000000  0.069901  0.089895        0.0  0.085550  0.000000   \n",
       "4   0.0  0.069514  0.000000  0.081106        0.0  0.077186  0.075976   \n",
       "\n",
       "    arrives      asks  attack  ...  window  woman      work   working  \\\n",
       "0  0.000000  0.053967     0.0  ...     0.0    0.0  0.000000  0.000000   \n",
       "1  0.000000  0.000000     0.0  ...     0.0    0.0  0.000000  0.091133   \n",
       "2  0.146456  0.061139     0.0  ...     0.0    0.0  0.000000  0.000000   \n",
       "3  0.000000  0.128654     0.0  ...     0.0    0.0  0.000000  0.000000   \n",
       "4  0.000000  0.000000     0.0  ...     0.0    0.0  0.079747  0.000000   \n",
       "\n",
       "      world  wounded     year     years      york  young  \n",
       "0  0.000000      0.0  0.07811  0.062870  0.159100    0.0  \n",
       "1  0.073637      0.0  0.00000  0.133108  0.000000    0.0  \n",
       "2  0.197012      0.0  0.00000  0.000000  0.000000    0.0  \n",
       "3  0.000000      0.0  0.06207  0.000000  0.189641    0.0  \n",
       "4  0.000000      0.0  0.00000  0.000000  0.000000    0.0  \n",
       "\n",
       "[5 rows x 254 columns]"
      ]
     },
     "execution_count": 52,
     "metadata": {},
     "output_type": "execute_result"
    }
   ],
   "source": [
    "'''Por otra parte, podemos empezar a operar con las palabras que hemos tokenizado'''\n",
    "\n",
    "tfidf_df = pd.DataFrame(tfidf_matrix.toarray(), columns=terms)\n",
    "tfidf_df.head()"
   ]
  },
  {
   "cell_type": "code",
   "execution_count": 53,
   "metadata": {},
   "outputs": [
    {
     "data": {
      "text/html": [
       "<div>\n",
       "<style scoped>\n",
       "    .dataframe tbody tr th:only-of-type {\n",
       "        vertical-align: middle;\n",
       "    }\n",
       "\n",
       "    .dataframe tbody tr th {\n",
       "        vertical-align: top;\n",
       "    }\n",
       "\n",
       "    .dataframe thead th {\n",
       "        text-align: right;\n",
       "    }\n",
       "</style>\n",
       "<table border=\"1\" class=\"dataframe\">\n",
       "  <thead>\n",
       "    <tr style=\"text-align: right;\">\n",
       "      <th></th>\n",
       "      <th>able</th>\n",
       "      <th>agrees</th>\n",
       "      <th>air</th>\n",
       "      <th>american</th>\n",
       "      <th>apartment</th>\n",
       "      <th>army</th>\n",
       "      <th>arrive</th>\n",
       "      <th>arrives</th>\n",
       "      <th>asks</th>\n",
       "      <th>attack</th>\n",
       "      <th>...</th>\n",
       "      <th>window</th>\n",
       "      <th>woman</th>\n",
       "      <th>work</th>\n",
       "      <th>working</th>\n",
       "      <th>world</th>\n",
       "      <th>wounded</th>\n",
       "      <th>year</th>\n",
       "      <th>years</th>\n",
       "      <th>york</th>\n",
       "      <th>young</th>\n",
       "    </tr>\n",
       "  </thead>\n",
       "  <tbody>\n",
       "    <tr>\n",
       "      <th>2</th>\n",
       "      <td>0.0</td>\n",
       "      <td>0.073228</td>\n",
       "      <td>0.0</td>\n",
       "      <td>0.000000</td>\n",
       "      <td>0.0</td>\n",
       "      <td>0.121965</td>\n",
       "      <td>0.000000</td>\n",
       "      <td>0.146456</td>\n",
       "      <td>0.061139</td>\n",
       "      <td>0.000000</td>\n",
       "      <td>...</td>\n",
       "      <td>0.00000</td>\n",
       "      <td>0.000000</td>\n",
       "      <td>0.0</td>\n",
       "      <td>0.0</td>\n",
       "      <td>0.197012</td>\n",
       "      <td>0.000000</td>\n",
       "      <td>0.0</td>\n",
       "      <td>0.0</td>\n",
       "      <td>0.0</td>\n",
       "      <td>0.000000</td>\n",
       "    </tr>\n",
       "    <tr>\n",
       "      <th>37</th>\n",
       "      <td>0.0</td>\n",
       "      <td>0.000000</td>\n",
       "      <td>0.0</td>\n",
       "      <td>0.000000</td>\n",
       "      <td>0.0</td>\n",
       "      <td>0.000000</td>\n",
       "      <td>0.102334</td>\n",
       "      <td>0.093631</td>\n",
       "      <td>0.000000</td>\n",
       "      <td>0.000000</td>\n",
       "      <td>...</td>\n",
       "      <td>0.06371</td>\n",
       "      <td>0.000000</td>\n",
       "      <td>0.0</td>\n",
       "      <td>0.0</td>\n",
       "      <td>0.000000</td>\n",
       "      <td>0.119717</td>\n",
       "      <td>0.0</td>\n",
       "      <td>0.0</td>\n",
       "      <td>0.0</td>\n",
       "      <td>0.044323</td>\n",
       "    </tr>\n",
       "    <tr>\n",
       "      <th>49</th>\n",
       "      <td>0.0</td>\n",
       "      <td>0.000000</td>\n",
       "      <td>0.0</td>\n",
       "      <td>0.000000</td>\n",
       "      <td>0.0</td>\n",
       "      <td>0.000000</td>\n",
       "      <td>0.098682</td>\n",
       "      <td>0.000000</td>\n",
       "      <td>0.075383</td>\n",
       "      <td>0.218212</td>\n",
       "      <td>...</td>\n",
       "      <td>0.00000</td>\n",
       "      <td>0.097165</td>\n",
       "      <td>0.0</td>\n",
       "      <td>0.0</td>\n",
       "      <td>0.000000</td>\n",
       "      <td>0.000000</td>\n",
       "      <td>0.0</td>\n",
       "      <td>0.0</td>\n",
       "      <td>0.0</td>\n",
       "      <td>0.085481</td>\n",
       "    </tr>\n",
       "    <tr>\n",
       "      <th>52</th>\n",
       "      <td>0.0</td>\n",
       "      <td>0.000000</td>\n",
       "      <td>0.0</td>\n",
       "      <td>0.000000</td>\n",
       "      <td>0.0</td>\n",
       "      <td>0.000000</td>\n",
       "      <td>0.080869</td>\n",
       "      <td>0.073991</td>\n",
       "      <td>0.000000</td>\n",
       "      <td>0.000000</td>\n",
       "      <td>...</td>\n",
       "      <td>0.00000</td>\n",
       "      <td>0.000000</td>\n",
       "      <td>0.0</td>\n",
       "      <td>0.0</td>\n",
       "      <td>0.000000</td>\n",
       "      <td>0.094605</td>\n",
       "      <td>0.0</td>\n",
       "      <td>0.0</td>\n",
       "      <td>0.0</td>\n",
       "      <td>0.000000</td>\n",
       "    </tr>\n",
       "    <tr>\n",
       "      <th>53</th>\n",
       "      <td>0.0</td>\n",
       "      <td>0.000000</td>\n",
       "      <td>0.0</td>\n",
       "      <td>0.120766</td>\n",
       "      <td>0.0</td>\n",
       "      <td>0.000000</td>\n",
       "      <td>0.113127</td>\n",
       "      <td>0.000000</td>\n",
       "      <td>0.000000</td>\n",
       "      <td>0.125078</td>\n",
       "      <td>...</td>\n",
       "      <td>0.00000</td>\n",
       "      <td>0.000000</td>\n",
       "      <td>0.0</td>\n",
       "      <td>0.0</td>\n",
       "      <td>0.000000</td>\n",
       "      <td>0.132343</td>\n",
       "      <td>0.0</td>\n",
       "      <td>0.0</td>\n",
       "      <td>0.0</td>\n",
       "      <td>0.000000</td>\n",
       "    </tr>\n",
       "    <tr>\n",
       "      <th>56</th>\n",
       "      <td>0.0</td>\n",
       "      <td>0.077975</td>\n",
       "      <td>0.0</td>\n",
       "      <td>0.000000</td>\n",
       "      <td>0.0</td>\n",
       "      <td>0.000000</td>\n",
       "      <td>0.085223</td>\n",
       "      <td>0.000000</td>\n",
       "      <td>0.000000</td>\n",
       "      <td>0.000000</td>\n",
       "      <td>...</td>\n",
       "      <td>0.00000</td>\n",
       "      <td>0.000000</td>\n",
       "      <td>0.0</td>\n",
       "      <td>0.0</td>\n",
       "      <td>0.000000</td>\n",
       "      <td>0.099698</td>\n",
       "      <td>0.0</td>\n",
       "      <td>0.0</td>\n",
       "      <td>0.0</td>\n",
       "      <td>0.000000</td>\n",
       "    </tr>\n",
       "  </tbody>\n",
       "</table>\n",
       "<p>6 rows × 254 columns</p>\n",
       "</div>"
      ],
      "text/plain": [
       "    able    agrees  air  american  apartment      army    arrive   arrives  \\\n",
       "2    0.0  0.073228  0.0  0.000000        0.0  0.121965  0.000000  0.146456   \n",
       "37   0.0  0.000000  0.0  0.000000        0.0  0.000000  0.102334  0.093631   \n",
       "49   0.0  0.000000  0.0  0.000000        0.0  0.000000  0.098682  0.000000   \n",
       "52   0.0  0.000000  0.0  0.000000        0.0  0.000000  0.080869  0.073991   \n",
       "53   0.0  0.000000  0.0  0.120766        0.0  0.000000  0.113127  0.000000   \n",
       "56   0.0  0.077975  0.0  0.000000        0.0  0.000000  0.085223  0.000000   \n",
       "\n",
       "        asks    attack  ...   window     woman  work  working     world  \\\n",
       "2   0.061139  0.000000  ...  0.00000  0.000000   0.0      0.0  0.197012   \n",
       "37  0.000000  0.000000  ...  0.06371  0.000000   0.0      0.0  0.000000   \n",
       "49  0.075383  0.218212  ...  0.00000  0.097165   0.0      0.0  0.000000   \n",
       "52  0.000000  0.000000  ...  0.00000  0.000000   0.0      0.0  0.000000   \n",
       "53  0.000000  0.125078  ...  0.00000  0.000000   0.0      0.0  0.000000   \n",
       "56  0.000000  0.000000  ...  0.00000  0.000000   0.0      0.0  0.000000   \n",
       "\n",
       "     wounded  year  years  york     young  \n",
       "2   0.000000   0.0    0.0   0.0  0.000000  \n",
       "37  0.119717   0.0    0.0   0.0  0.044323  \n",
       "49  0.000000   0.0    0.0   0.0  0.085481  \n",
       "52  0.094605   0.0    0.0   0.0  0.000000  \n",
       "53  0.132343   0.0    0.0   0.0  0.000000  \n",
       "56  0.099698   0.0    0.0   0.0  0.000000  \n",
       "\n",
       "[6 rows x 254 columns]"
      ]
     },
     "execution_count": 53,
     "metadata": {},
     "output_type": "execute_result"
    }
   ],
   "source": [
    "def get_df_from_cluster(cluster):\n",
    "    return tfidf_df[clustering==cluster]\n",
    "\n",
    "get_df_from_cluster(0)"
   ]
  },
  {
   "cell_type": "code",
   "execution_count": 54,
   "metadata": {},
   "outputs": [
    {
     "data": {
      "text/plain": [
       "town      1.631175\n",
       "little    1.024875\n",
       "killed    0.885063\n",
       "train     0.793345\n",
       "kill      0.765340\n",
       "dtype: float64"
      ]
     },
     "execution_count": 54,
     "metadata": {},
     "output_type": "execute_result"
    }
   ],
   "source": [
    "'''Estas son las palabras top de lsa películas del claster 0,porque ha agrupado parece ser las que son de tipo bélico'''\n",
    "\n",
    "top_words_cluster = get_df_from_cluster(0).T.sum(axis=1).sort_values(ascending=False)\n",
    "top_words_cluster.head()"
   ]
  },
  {
   "cell_type": "code",
   "execution_count": 55,
   "metadata": {},
   "outputs": [
    {
     "data": {
      "text/plain": [
       "2                       Schindler's List\n",
       "37                            Unforgiven\n",
       "49                                  Jaws\n",
       "52    Butch Cassidy and the Sundance Kid\n",
       "53      The Treasure of the Sierra Madre\n",
       "56                             High Noon\n",
       "Name: title, dtype: object"
      ]
     },
     "execution_count": 55,
     "metadata": {},
     "output_type": "execute_result"
    }
   ],
   "source": [
    "films[films['cluster'] == 0].title"
   ]
  },
  {
   "cell_type": "code",
   "execution_count": 56,
   "metadata": {},
   "outputs": [
    {
     "data": {
      "text/plain": [
       "army        2.281390\n",
       "general     2.264080\n",
       "battle      2.033972\n",
       "soldiers    1.965095\n",
       "war         1.865975\n",
       "dtype: float64"
      ]
     },
     "execution_count": 56,
     "metadata": {},
     "output_type": "execute_result"
    }
   ],
   "source": [
    "'''Podmeos ver el claster 1 a ver qué trae'''\n",
    "top_words_cluster = get_df_from_cluster(1).T.sum(axis=1).sort_values(ascending=False)\n",
    "top_words_cluster.head()"
   ]
  },
  {
   "cell_type": "code",
   "execution_count": 57,
   "metadata": {},
   "outputs": [
    {
     "data": {
      "text/plain": [
       "10                                   Lawrence of Arabia\n",
       "19                                            Star Wars\n",
       "24                         The Bridge on the River Kwai\n",
       "29    Dr. Strangelove or: How I Learned to Stop Worr...\n",
       "31                                       Apocalypse Now\n",
       "33        The Lord of the Rings: The Return of the King\n",
       "34                                            Gladiator\n",
       "36                                  Saving Private Ryan\n",
       "48                                               Patton\n",
       "50                                           Braveheart\n",
       "55                                              Platoon\n",
       "57                                   Dances with Wolves\n",
       "62                       All Quiet on the Western Front\n",
       "79                                                Shane\n",
       "88                                           Stagecoach\n",
       "Name: title, dtype: object"
      ]
     },
     "execution_count": 57,
     "metadata": {},
     "output_type": "execute_result"
    }
   ],
   "source": [
    "films[films['cluster'] == 1].title"
   ]
  },
  {
   "cell_type": "code",
   "execution_count": null,
   "metadata": {},
   "outputs": [],
   "source": [
    "'''Debería cambiar cada vez que lo corres teniendo en cuenta que hemos puesto el random state en el UMAP, pero al menos sí tendrían que ser resultados parecidos. O se puede fijar'''"
   ]
  },
  {
   "cell_type": "markdown",
   "metadata": {},
   "source": [
    "<div style=\"padding-top: 25px; float: right\">\n",
    "    <div>    \n",
    "        <i>&nbsp;&nbsp;© Copyright by</i>\n",
    "    </div>\n",
    "    <div>\n",
    "        <a href=\"https://whiteboxml.com\">\n",
    "            <img src=\"https://whiteboxml.com/static/img/logo/black_bg_white.svg\" width=\"125\">\n",
    "        </a>\n",
    "    </div>\n",
    "</div>"
   ]
  }
 ],
 "metadata": {
  "kernelspec": {
   "display_name": "Python [conda env:lab_env]",
   "language": "python",
   "name": "conda-env-lab_env-py"
  },
  "language_info": {
   "codemirror_mode": {
    "name": "ipython",
    "version": 3
   },
   "file_extension": ".py",
   "mimetype": "text/x-python",
   "name": "python",
   "nbconvert_exporter": "python",
   "pygments_lexer": "ipython3",
   "version": "3.7.3"
  }
 },
 "nbformat": 4,
 "nbformat_minor": 4
}
