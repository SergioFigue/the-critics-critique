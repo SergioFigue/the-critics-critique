{
 "cells": [
  {
   "cell_type": "code",
   "execution_count": 30,
   "metadata": {},
   "outputs": [],
   "source": [
    "from newspaper import Article\n",
    "from newspaper import Source\n",
    "from newspaper import fulltext\n",
    "import requests\n"
   ]
  },
  {
   "cell_type": "markdown",
   "metadata": {},
   "source": [
    "## NEWSPAPER TEST WITH GAMEREACTOR"
   ]
  },
  {
   "cell_type": "code",
   "execution_count": 52,
   "metadata": {},
   "outputs": [],
   "source": [
    "url = 'https://www.gamereactor.es/super-mario-bros-35-battle-royale/'\n",
    "article = Article(url)"
   ]
  },
  {
   "cell_type": "code",
   "execution_count": 12,
   "metadata": {},
   "outputs": [],
   "source": [
    "article.download()"
   ]
  },
  {
   "cell_type": "code",
   "execution_count": 13,
   "metadata": {},
   "outputs": [],
   "source": [
    "article.parse()"
   ]
  },
  {
   "cell_type": "code",
   "execution_count": 14,
   "metadata": {},
   "outputs": [
    {
     "data": {
      "text/plain": [
       "['Sergio Figueroa', 'Análisis. Autor', 'Noticia. Autor']"
      ]
     },
     "execution_count": 14,
     "metadata": {},
     "output_type": "execute_result"
    }
   ],
   "source": [
    "article.authors"
   ]
  },
  {
   "cell_type": "code",
   "execution_count": 29,
   "metadata": {},
   "outputs": [
    {
     "data": {
      "text/plain": [
       "'Super Mario Bros. 35'"
      ]
     },
     "execution_count": 29,
     "metadata": {},
     "output_type": "execute_result"
    }
   ],
   "source": [
    "article.title"
   ]
  },
  {
   "cell_type": "code",
   "execution_count": 53,
   "metadata": {},
   "outputs": [
    {
     "data": {
      "text/plain": [
       "'https://www.gamereactor.es/super-mario-bros-35-battle-royale/'"
      ]
     },
     "execution_count": 53,
     "metadata": {},
     "output_type": "execute_result"
    }
   ],
   "source": [
    "article.url"
   ]
  },
  {
   "cell_type": "code",
   "execution_count": 15,
   "metadata": {},
   "outputs": [
    {
     "data": {
      "text/plain": [
       "'Estás viendo Publicidad\\n\\nNo se habían olvidado de él, lo que pasaba es que era una fiesta sorpresa. El 35º cumpleaños de Super Mario Bros. comenzó con aquel Direct repleto de anuncios que miraban el pasado y se sigue celebrando con el paso de las semanas, lanzamiento a lanzamiento. Tras el calmado Super Mario 3D All-Stars, toca ponerse las pilas con el eléctrico Super Mario Bros. 35. Un clásico cuyo gameplay no pasa de moda es capaz de dar aún más de sí con unos retoques de lo más modernos, los del battle royale.\\n\\nEs el regalo de Nintendo para sus fans, o más bien para sus clientes, pues solo se puede acceder a él \"gratis\" si se está pagando la suscripción a Nintendo Switch Online. Nace como nació Tetris 99, del que lo hereda absolutamente todo. Y supuestamente va a morir el 31 de marzo de 2021, aunque eso ya se verá cuando llegue la fecha. Porque tiene potencial para quedarse y quién sabe si para venderse por separado con un poco de engorde.\\n\\nLo que ofrece en estos momentos es un único modo de juego con un poco de aderezo. En Super Mario Bros. 35 lo único que hay que hacer es correr para adelante superando las pantallas de siempre del juego de NES. La diferencia es que, a la vez, hay otras 34 personas más haciendo lo mismo, y aunque unos y otros no se ven mutuamente reflejados en la pantalla del vecino, sus acciones sí. Es una carrera contrarreloj por la supervivencia, pues solo puede quedar vivo uno, como buen battle royale.\\n\\nComo siempre, hay tres formas de morir: por los enemigos, por los precipicios o por el tiempo. Aquí es donde entra en acción la rivalidad, pues los enemigos que mates se los mandas directamente a otro jugador. Como en Tetris 99, a cualquiera de forma aleatoria, a uno escogido por criterios (al que te ataca o al que menos tiempo tenga) o al que te caiga peor si lo seleccionas a mano. Esa decisión es uno de los pilares de la estrategia avanzada, pues afecta mucho a la intensidad de tu partida, pero también se puede obviar y ganar sin hacerla caso.\\n\\nPodría parecer que en un plataformas como este es casi imposible encontrar una forma de competir que no sea a velocidad, pero Arika ha encontrado la forma como lo hizo con Tetris. El estudio ha hecho encaje de bolillos con los factores tiempo y enemigos para que salga algo distinto, y se nota que han estado midiendo al milímetro los efectos y sus consecuencias, nivelándolo muchísimo. Cada enemigo muerto no solo pasa a la pantalla del rival para incordiar, sino que también suma segundos a tu reloj, por lo que es imprescindible ir masacrando. Pero, además, los combos dan más tiempo, por lo que una técnica como matar a bolazos de fuego que es útil al principio deja de serlo después, cuando quedan menos rivales y los segundos dejan de ser tal cosa y bajan mucho más rápido.\\n\\nA Super Mario Bros. 35 hay que jugar como siempre, pero con más agresividad. No puedes pararte demasiado a medir un salto o coger algo porque ese tiempo luego se puede echar en falta. Pero, a la vez, hay que ir siempre bien equipado con una seta o una flor para no ser tan vulnerable. Ahí entran en escena las monedas. Además de los bloques interrogación o secretos de cada pantalla, que son exactamente tal y como en el juego original (antes de que te echen bichos extra, que aparecen sombreados para indicar que originalmente no estaban ahí), puedes sacarte uno extra de la manga por cada 20 monedas. Mi estrategia, con la que llevo un 50% de victorias, es ir cogiendo muchas monedas y agotando el bloque en cuanto pierdo la flor para ver si me sale otra o una estrella con la que avanzar y recargar de nuevo la caja, pues 20 monedas no son nada.\\n\\nEstás viendo Publicidad\\n\\nAl principio, las partidas son muy normalitas, pues tener unos cuantos goombas o tortugas de más no afecta demasiado a un jugador experto. Pero cuando queda poca gente empiezan a aparecer hermanos martillo, calamares y Bowser donde no los esperas y eso va animando más la partida. ¿Con cuidado y sacrificando tiempo o a lo loco? Así van muriendo los mejores. El sistema de control es el de siempre, así que se vuelve a echar en falta la cruceta, pero con los botones basta y siempre son mejores que el stick, que es la opción B.\\n\\nPoco más, porque este es el único modo de juego, aunque esté partido en dos. Además del modo principal, hay un modo Batalla Especial en el que solo cambia cómo se ordenan las pantallas; es para eventos temporales. Y, por otra parte, hay un ranking online de coleccionistas de monedas en el que se ven auténticas barbaridades que dicen mucho de lo duros que han sido algunos duelos. Porque la partida, si está muy igualada entre dos o tres personas, se puede ir lejos. También hay un modo práctica en el que puedes escoger cualquier pantalla para probarla (si la has desbloqueado), así que, en esencia, también tienes Super Mario Bros. de NES a tu alcance.\\n\\nTan sencillo y a la vez tan entretenido. Super Mario Bros. 35 es el juego de siempre con un poco más de picante. Justo lo que necesitaba para volver a estar al día, pues como lo pruebes te va a picar bien y se va a convertir en un pasatiempos recurrente durante estos meses. Y encima es un \"regalo\". Felicidades Mario, así hay que envejecer.'"
      ]
     },
     "execution_count": 15,
     "metadata": {},
     "output_type": "execute_result"
    }
   ],
   "source": [
    "article.text"
   ]
  },
  {
   "cell_type": "code",
   "execution_count": 3,
   "metadata": {},
   "outputs": [
    {
     "data": {
      "text/plain": [
       "\"import newspaper\\n\\ngamereactor_paper = newspaper.build('https://www.gamereactor.es/analisis/')\\n\\nfor article in gamereactor_paper.articles:\\n     print(article.url)\\n    \\nprint('-------------------')\\n\\nfor category in gamereactor_paper.category_urls():\\n     print(category)\""
      ]
     },
     "execution_count": 3,
     "metadata": {},
     "output_type": "execute_result"
    }
   ],
   "source": [
    "#Extracting build do not work properly. Too many links.\n",
    "\n",
    "gamereactor_paper = newspaper.build('https://www.gamereactor.es/analisis/', memoize_articles=False)\n",
    "\n",
    "for article in gamereactor_paper.articles:\n",
    "     print(article.url)\n",
    "    \n",
    "print('-------------------')\n",
    "\n",
    "for category in gamereactor_paper.category_urls():\n",
    "     print(category)\n",
    "        \n",
    "print('-------------------')\n",
    " \n",
    "for feed_url in gamereactor_paper.feed_urls():\n",
    "     print(feed_url)\n",
    "     \n"
   ]
  },
  {
   "cell_type": "code",
   "execution_count": 19,
   "metadata": {},
   "outputs": [],
   "source": [
    "gr_paper = Source('http://gamereactor.es')"
   ]
  },
  {
   "cell_type": "code",
   "execution_count": 21,
   "metadata": {},
   "outputs": [
    {
     "name": "stdout",
     "output_type": "stream",
     "text": [
      "2299\n"
     ]
    }
   ],
   "source": [
    "gr_paper.build()\n",
    "print(gr_paper.size())"
   ]
  },
  {
   "cell_type": "code",
   "execution_count": 48,
   "metadata": {},
   "outputs": [
    {
     "data": {
      "text/plain": [
       "'gamereactor'"
      ]
     },
     "execution_count": 48,
     "metadata": {},
     "output_type": "execute_result"
    }
   ],
   "source": [
    "gamereactor_paper.brand"
   ]
  },
  {
   "cell_type": "code",
   "execution_count": 22,
   "metadata": {},
   "outputs": [],
   "source": [
    "#gr_paper.download()\n",
    "#gr_paper.parse()"
   ]
  },
  {
   "cell_type": "code",
   "execution_count": 6,
   "metadata": {},
   "outputs": [],
   "source": [
    "html = requests.get('https://www.gamereactor.es/super-mario-bros-35-battle-royale/').text\n",
    "text = fulltext(html)"
   ]
  },
  {
   "cell_type": "code",
   "execution_count": 7,
   "metadata": {},
   "outputs": [
    {
     "data": {
      "text/plain": [
       "'Estás viendo Publicidad\\n\\nNo se habían olvidado de él, lo que pasaba es que era una fiesta sorpresa. El 35º cumpleaños de Super Mario Bros. comenzó con aquel Direct repleto de anuncios que miraban el pasado y se sigue celebrando con el paso de las semanas, lanzamiento a lanzamiento. Tras el calmado Super Mario 3D All-Stars, toca ponerse las pilas con el eléctrico Super Mario Bros. 35. Un clásico cuyo gameplay no pasa de moda es capaz de dar aún más de sí con unos retoques de lo más modernos, los del battle royale.\\n\\nEs el regalo de Nintendo para sus fans, o más bien para sus clientes, pues solo se puede acceder a él \"gratis\" si se está pagando la suscripción a Nintendo Switch Online. Nace como nació Tetris 99, del que lo hereda absolutamente todo. Y supuestamente va a morir el 31 de marzo de 2021, aunque eso ya se verá cuando llegue la fecha. Porque tiene potencial para quedarse y quién sabe si para venderse por separado con un poco de engorde.\\n\\nLo que ofrece en estos momentos es un único modo de juego con un poco de aderezo. En Super Mario Bros. 35 lo único que hay que hacer es correr para adelante superando las pantallas de siempre del juego de NES. La diferencia es que, a la vez, hay otras 34 personas más haciendo lo mismo, y aunque unos y otros no se ven mutuamente reflejados en la pantalla del vecino, sus acciones sí. Es una carrera contrarreloj por la supervivencia, pues solo puede quedar vivo uno, como buen battle royale.\\n\\nComo siempre, hay tres formas de morir: por los enemigos, por los precipicios o por el tiempo. Aquí es donde entra en acción la rivalidad, pues los enemigos que mates se los mandas directamente a otro jugador. Como en Tetris 99, a cualquiera de forma aleatoria, a uno escogido por criterios (al que te ataca o al que menos tiempo tenga) o al que te caiga peor si lo seleccionas a mano. Esa decisión es uno de los pilares de la estrategia avanzada, pues afecta mucho a la intensidad de tu partida, pero también se puede obviar y ganar sin hacerla caso.\\n\\nPodría parecer que en un plataformas como este es casi imposible encontrar una forma de competir que no sea a velocidad, pero Arika ha encontrado la forma como lo hizo con Tetris. El estudio ha hecho encaje de bolillos con los factores tiempo y enemigos para que salga algo distinto, y se nota que han estado midiendo al milímetro los efectos y sus consecuencias, nivelándolo muchísimo. Cada enemigo muerto no solo pasa a la pantalla del rival para incordiar, sino que también suma segundos a tu reloj, por lo que es imprescindible ir masacrando. Pero, además, los combos dan más tiempo, por lo que una técnica como matar a bolazos de fuego que es útil al principio deja de serlo después, cuando quedan menos rivales y los segundos dejan de ser tal cosa y bajan mucho más rápido.\\n\\nA Super Mario Bros. 35 hay que jugar como siempre, pero con más agresividad. No puedes pararte demasiado a medir un salto o coger algo porque ese tiempo luego se puede echar en falta. Pero, a la vez, hay que ir siempre bien equipado con una seta o una flor para no ser tan vulnerable. Ahí entran en escena las monedas. Además de los bloques interrogación o secretos de cada pantalla, que son exactamente tal y como en el juego original (antes de que te echen bichos extra, que aparecen sombreados para indicar que originalmente no estaban ahí), puedes sacarte uno extra de la manga por cada 20 monedas. Mi estrategia, con la que llevo un 50% de victorias, es ir cogiendo muchas monedas y agotando el bloque en cuanto pierdo la flor para ver si me sale otra o una estrella con la que avanzar y recargar de nuevo la caja, pues 20 monedas no son nada.\\n\\nEstás viendo Publicidad\\n\\nAl principio, las partidas son muy normalitas, pues tener unos cuantos goombas o tortugas de más no afecta demasiado a un jugador experto. Pero cuando queda poca gente empiezan a aparecer hermanos martillo, calamares y Bowser donde no los esperas y eso va animando más la partida. ¿Con cuidado y sacrificando tiempo o a lo loco? Así van muriendo los mejores. El sistema de control es el de siempre, así que se vuelve a echar en falta la cruceta, pero con los botones basta y siempre son mejores que el stick, que es la opción B.\\n\\nPoco más, porque este es el único modo de juego, aunque esté partido en dos. Además del modo principal, hay un modo Batalla Especial en el que solo cambia cómo se ordenan las pantallas; es para eventos temporales. Y, por otra parte, hay un ranking online de coleccionistas de monedas en el que se ven auténticas barbaridades que dicen mucho de lo duros que han sido algunos duelos. Porque la partida, si está muy igualada entre dos o tres personas, se puede ir lejos. También hay un modo práctica en el que puedes escoger cualquier pantalla para probarla (si la has desbloqueado), así que, en esencia, también tienes Super Mario Bros. de NES a tu alcance.\\n\\nTan sencillo y a la vez tan entretenido. Super Mario Bros. 35 es el juego de siempre con un poco más de picante. Justo lo que necesitaba para volver a estar al día, pues como lo pruebes te va a picar bien y se va a convertir en un pasatiempos recurrente durante estos meses. Y encima es un \"regalo\". Felicidades Mario, así hay que envejecer.'"
      ]
     },
     "execution_count": 7,
     "metadata": {},
     "output_type": "execute_result"
    }
   ],
   "source": [
    "text"
   ]
  },
  {
   "cell_type": "code",
   "execution_count": null,
   "metadata": {},
   "outputs": [],
   "source": []
  },
  {
   "cell_type": "markdown",
   "metadata": {},
   "source": [
    "## NEWSPAPER TEST WITH MERISTATION"
   ]
  },
  {
   "cell_type": "code",
   "execution_count": null,
   "metadata": {},
   "outputs": [],
   "source": []
  },
  {
   "cell_type": "code",
   "execution_count": 54,
   "metadata": {},
   "outputs": [],
   "source": [
    "url = 'https://as.com/meristation/2020/10/03/analisis/1601701228_240717.html'\n",
    "article = Article(url)"
   ]
  },
  {
   "cell_type": "code",
   "execution_count": 55,
   "metadata": {},
   "outputs": [],
   "source": [
    "article.download()"
   ]
  },
  {
   "cell_type": "code",
   "execution_count": 56,
   "metadata": {},
   "outputs": [],
   "source": [
    "article.parse()"
   ]
  },
  {
   "cell_type": "code",
   "execution_count": 57,
   "metadata": {},
   "outputs": [
    {
     "data": {
      "text/plain": [
       "[]"
      ]
     },
     "execution_count": 57,
     "metadata": {},
     "output_type": "execute_result"
    }
   ],
   "source": [
    "article.authors"
   ]
  },
  {
   "cell_type": "code",
   "execution_count": 58,
   "metadata": {},
   "outputs": [
    {
     "data": {
      "text/plain": [
       "'art of rally, análisis'"
      ]
     },
     "execution_count": 58,
     "metadata": {},
     "output_type": "execute_result"
    }
   ],
   "source": [
    "article.title"
   ]
  },
  {
   "cell_type": "code",
   "execution_count": 59,
   "metadata": {},
   "outputs": [
    {
     "data": {
      "text/plain": [
       "'https://as.com/meristation/2020/10/03/analisis/1601701228_240717.html'"
      ]
     },
     "execution_count": 59,
     "metadata": {},
     "output_type": "execute_result"
    }
   ],
   "source": [
    "article.url"
   ]
  },
  {
   "cell_type": "code",
   "execution_count": 63,
   "metadata": {},
   "outputs": [],
   "source": [
    "#This method let us include in the article class elements not accesible by Newspaper3K \n",
    "#and create an 8 elements dict ready to transform in dataframe\n",
    "#article.additional_data = {'nota': scrap, 'author': scrap...}"
   ]
  },
  {
   "cell_type": "code",
   "execution_count": 60,
   "metadata": {},
   "outputs": [
    {
     "data": {
      "text/plain": [
       "'Los fans de los videojuegos de carreras están disfrutando de un verano de lo más movidito; y es que además de las recientes entregas anuales de sagas como WRC o F1, la tercera parte de Project Cars y los arcade Trackmania Remake, Inertial Drift o Hotshot Racing, ahora debemos sumar a la ecuación un título muy esperado por los fans de los rallys con art of rally, una curiosa y original propuesta a medio camino entre la simulación más exigente y los arcade de siempre que pretende hacernos revivir la época dorada de tan popular categoría de automovilismo, desde sus inicios en la década de los 60 hasta la explosión del famoso Grupo B de los 80, un recorrido histórico a cago de los canadienses Funselektor, creadores del celebrado y no menos original Absolute Drift. Veamos qué ofrece art of rally tanto para los más puristas del volante como para los interesados en propuestas frescas rebosantes de personalidad, título que ya se encuentra disponible en Steam y GOG; lo analizamos.\\n\\nUn viaje a través de la época dorada de los rallys\\n\\nLa premisa de art of rally es tan personal como su propia propuesta, como decimos, a medio camino entre la simulación y el arcade. ¿Y qué tipo de jugabilidad puede ofrecer un título de estas características? Para empezar, el control resulta exigente, con varios aspectos que podemos configurar a nivel de mecánica y de experiencia de usuario; por otro lado, su carácter desenfadado y minimalista se deja notar tanto en su personalidad y puesta en escena como en las particularidades de una cámara aérea, casi cenital, que nos ofrece una amplia perspectiva de los diferentes tramos. Todo ello da como resultado una explosiva mezcla tanto de sensaciones como de experiencia al volante, reuniendo aspectos de ambas vertientes del género de la conducción y que logra convencer tras unas partidas de adaptación. Y es que ya desde un inicio y con la configuración más accesible, art of rally representa todo un desafío; aunque siempre hay margen para ir un paso más allá a nivel de dificultad.\\n\\nPero volvamos a la línea de salida; art of rally nos sumerge en un apasionante viaje por la historia de la disciplina profesional de los rallys a modo de homenaje a través de una personalidad muy marcada. Tanto es así, que ya desde un principio deja clara su apuesta estética low poly a través de modelados sencillos y una paleta de colores muy viva, junto a una banda sonora retro-electrónica con temas pegadizos; y también algo machacones tras varias horas. Como curiosidad, al empezar nuestro viaje a través de las primeras décadas de las competiciones de rallys se nos invita a rendir culto a una deidad; y de un modo onírico, se nos ofrecerá un breve repaso a la historia de dicha competición. En este sentido, un punto a favor de Funselektor por imprimir su propio estilo y hacer de su nuevo videojuego de carreras una experiencia amena y agradable.\\n\\nart of rally propone al jugador varios modos de juego, siendo el modo carrera el más completo e interesante, aunque todo ello sin dejar de lado otras opciones como el modo libre, el modo contrarreloj, los deafíos en línea -diarios y semanales- o el desbloqueo de nuevos coches, apariencias y pinturas personalizadas. Cada partida tiene su correspondiente premio, siempre y cuando lo hagamos suficientemente bien. Y aquí entra en juego el verdadero protagonista del título: la experiencia de conducción. Y es que art of rally ofrece muchas de las características que todo aficionado a los simuladores de coches demandaría a un videojuego, desde un alto nivel de exigencia a diferentes aspectos configurables de la mecánica de los coches. El juego de Funselektor se antoja exigente para los no iniciados, aunque ofrece el suficiente margen de aprendizaje para empezar a dominar sus diferentes entresijos tras unas pocas partidas.\\n\\nTal y como sugiere el leitmotiv del juego, el principal reto del jugador es dominar todos y cada uno de los coches de rallys que vayamos desbloqueando, todo para lograr mejores tiempos y recibir vehículos más potentes y refinados, de nuevo, para marcar mejores tiempos y ascender hasta el primer puesto de las distintas temporadas. Y es que cada vehículo presenta sus propias características en aspectos como velocidad, aceleración, agarre, tracción, marchas largas o cortas, etc. Es aquí cuando debemos bajar las revoluciones y prestar atención al gran trabajo de diseño por parte de Funselektor a nivel de representación de las diferentes categorías (años 60, 70 y 80 y Grupo B, S y A) con modelos no licenciados pero que cualquier aficionado al automovilismo identificará sin mucho esfuerzo. Tanto es así, que no faltará ninguno de los grandes clásicos de las cuatro ruedas como los diferentes coches de carreras de BMW, Renault, Peugeot, Alpine, Mini, Lancia o Audi, entre muchos otros, completando una lista de más de 50 vehículos.\\n\\nPor otro lado, los diferentes tramos (hasta 60 etapas repartidas por localizaciones como Finlandia, Cerdeña, Noruega, Japón y Alemania) ofrecen toda clase de retos, desde horquillas endiabladas a cambios de rasante, pasando por largas rectas o carreteras estrechas a través de las más variadas superficies como asfalto, grava, barro o nieve, entre otras. Y como no podía ser de otra manera, cada configuración de tramo afecta al tipo de conducción.\\n\\nFunselektor pretende que cada carrera se convierta en todo un desafío para el jugador; y vaya si lo consiguen. Dominar los diferentes coches (ya sean de tracción delantera, trasera o total con los más variados niveles de potencia) se convierte en un reto continuo, en el que hay que aprender a dosificar muy bien tanto el acelerador como el freno, además del freno de mano, controlando los cambios de rasante o los derrapes más peligrosos, todo para no acabar dando bandazos o perdiendo valiosos segundos entre árboles o rocas, o en el peor de los casos, dando vueltas de campana; cada restauración del vehículos en pista nos sumará 5 segundos al crono, con lo que conviene ser muy cuidadosos. Por ello, es de vital importancia adecuar la configuración del coche a nuestro estilo de conducción o habilidad al volante; por suerte, el título nos permite tocar aspectos mecánicos como el autoblocante o los frenos ABS, además de seleccionar el cambio manual o automático, entre otras opciones.\\n\\nNo obstante, y tras varias horas y campeonatos completados, empezamos a sentir cierta sensación de déjà vu; y es que a pesar de que la variedad de escenarios es notable -así como sus paisajes propios y ambientaciones, climatología aparte-, los recorridos en sí pecan de reiterativos, ofreciendo poca variedad entre los diferentes campeonatos. Por otro lado, e incluso con el nivel de dificultad estándar, no sufriremos mucho para colocarnos en primera posición debido a unos tiempos de los rivales excesivamente conservadores, siempre y cuando mantengamos un nivel aceptable de pilotaje, claro está.\\n\\nMás allá del modo campaña, el modo libre ofrece la opción de disfrutar de la conducción sin la presión del cronómetro, además de practicar a lo largo y ancho de pequeños mundos abiertos en los que movernos libremente; también se ofrecen otros alicientes como coleccionables en forma de cintas de cassette o las letras R-A-L-L-Y, junto a un completo y atractivo modo foto. Aunque uno de los aspectos más llamativos de art of rally no es otro que su apartado visual, de corte minimalista y apostando por gráficos low poly, tanto en los modelados de los coches como del resto de elementos, como vegetación, edificios e incluso público. En este sentido, ofrece sensaciones relajantes que contrastan con el frenetismo de una conducción al máximo nivel, siempre y cuando queramos exprimir todas sus posibilidades a nivel de jugabilidad.\\n\\nLa iluminación general aporta ese toque preciosista, dejando estampas especialmente llamativas a pesar de su marcada sencillez; no obstante, también encontramos errores como un popping muy visible en determinadas circunstancias, sombras mejorables y algunos modelados algo descuidados, incluyendo tramos de carretera que no terminan de “encajar”. A nivel de interfaz es igualmente parco, con el velocímetro digital junto a la marcha y las revoluciones situados en la parte central inferior de la pantalla, con una barra de progreso de tramo en el lado izquierdo y el cronómetro en la parte superior derecha; eso es todo. También es posible elegir entre varias cámaras, con ligeras variaciones en altura.\\n\\nCONCLUSIÓN Los enamorados de la velocidad en general y los rallys en particular tienen con art of rally una propuesta fresca y visualmente rompedora, con un especial cuidado por rendir homenaje a la historia de dicha disciplina automovilística a través de una campaña amena y desafiante, siempre y cuando compitamos contra la IA más avanzada, ya que no tardaremos mucho en tomar las medidas a su propuesta y lograr los mejores tiempos sin demasiada dificultad. Si bien es cierto que su efectiva mezcla entre simulación y arcade ofrece buenas sensaciones, no tardaremos en lamentar cierta monotonía en su propuesta de juego, dejando todo el protagonismo al desbloqueo de coches y su dominio avanzado al volante. En definitiva, un título divertido con cierto nivel de profundidad y una puesta en escena prácticamente única en su género.\\n\\nLO MEJOR Presentación audiovisual atractiva\\n\\nJugabilidad desafiante y satisfactoria\\n\\nTodo un homenaje a la historia de los rallys LO PEOR Cierta sensación de monotonía\\n\\nAlgunos fallos gráficos que desmejoran el conjunto\\n\\nDificultad poco equilibrada'"
      ]
     },
     "execution_count": 60,
     "metadata": {},
     "output_type": "execute_result"
    }
   ],
   "source": [
    "article.text"
   ]
  },
  {
   "cell_type": "code",
   "execution_count": 110,
   "metadata": {},
   "outputs": [],
   "source": [
    "article.clean_top_node"
   ]
  },
  {
   "cell_type": "code",
   "execution_count": 46,
   "metadata": {},
   "outputs": [
    {
     "name": "stdout",
     "output_type": "stream",
     "text": [
      "https://as.com/meristation/2020/10/02/noticias/1601634510_176153.html\n",
      "https://as.com/meristation/2020/10/02/noticias/1601592199_218548.html\n",
      "https://as.com/meristation/2020/10/02/noticias/1601627060_232580.html\n",
      "https://as.com/meristation/2020/10/02/noticias/1601611487_427554.html\n",
      "https://as.com/meristation/2020/10/02/noticias/1601650348_308958.html\n",
      "https://as.com/meristation/2020/10/01/guia_pagina/1601536744_464883.html\n",
      "https://as.com/meristation/2020/09/24/noticias/1600966573_066654.html\n",
      "https://as.com/meristation/2019/01/16/trucos/1547655206_592305.html\n",
      "https://as.com/meristation/2019/10/18/trucos/1571396834_804917.html\n",
      "https://as.com/meristation/2020/06/09/noticias/1591684966_633048.html\n",
      "https://as.com/meristation/2020/09/24/noticias/1600944546_512016.html\n",
      "https://as.com/meristation/2020/08/05/noticias/1596628760_117123.html\n",
      "https://as.com/meristation/2020/07/16/noticias/1594896223_035037.html\n",
      "https://as.com/meristation/2020/03/16/noticias/1584345449_097351.html\n",
      "https://as.com/meristation/2020/06/07/noticias/1591511654_875379.html\n",
      "https://as.com/meristation/2020/05/15/reportajes/1589531434_653473.html\n",
      "https://as.com/meristation/2019/11/18/trucos/1574079348_118792.html\n",
      "https://as.com/meristation/2020/04/01/noticias/1585753022_143400.html\n",
      "https://as.com/meristation/2020/02/24/guias/1582555510_088371.html\n",
      "https://as.com/meristation/2019/12/19/noticias/1576748977_381724.html\n",
      "-------------------\n",
      "http://www.meristation.as.com\n",
      "-------------------\n"
     ]
    }
   ],
   "source": [
    "meri_paper = newspaper.build('http://www.meristation.as.com', memoize_articles=False)\n",
    "\n",
    "for article in meri_paper.articles:\n",
    "     print(article.url)\n",
    "    \n",
    "print('-------------------')\n",
    "\n",
    "for category in meri_paper.category_urls():\n",
    "     print(category)\n",
    "\n",
    "print('-------------------') \n",
    "        \n",
    "for feed_url in meri_paper.feed_urls():\n",
    "     print(feed_url)\n"
   ]
  },
  {
   "cell_type": "code",
   "execution_count": 49,
   "metadata": {},
   "outputs": [
    {
     "data": {
      "text/plain": [
       "'as'"
      ]
     },
     "execution_count": 49,
     "metadata": {},
     "output_type": "execute_result"
    }
   ],
   "source": [
    "meri_paper.brand"
   ]
  },
  {
   "cell_type": "markdown",
   "metadata": {},
   "source": [
    "### REVOGAMERS"
   ]
  },
  {
   "cell_type": "code",
   "execution_count": 84,
   "metadata": {},
   "outputs": [],
   "source": [
    "url = 'https://www.revogamers.net/analisis-w/analisis-de-kirby-fighters-2-56351/'\n",
    "article = Article(url)"
   ]
  },
  {
   "cell_type": "code",
   "execution_count": 85,
   "metadata": {},
   "outputs": [],
   "source": [
    "article.download()"
   ]
  },
  {
   "cell_type": "code",
   "execution_count": 86,
   "metadata": {},
   "outputs": [],
   "source": [
    "article.parse()"
   ]
  },
  {
   "cell_type": "code",
   "execution_count": 87,
   "metadata": {},
   "outputs": [
    {
     "data": {
      "text/plain": [
       "['Javier Aranda',\n",
       " 'Escrito Por',\n",
       " 'Pikmin De Nacimiento Y Strawhard De Corazón',\n",
       " 'Colecciono Monedas Dk Por Diversión.']"
      ]
     },
     "execution_count": 87,
     "metadata": {},
     "output_type": "execute_result"
    }
   ],
   "source": [
    "article.authors\n"
   ]
  },
  {
   "cell_type": "code",
   "execution_count": 88,
   "metadata": {},
   "outputs": [
    {
     "data": {
      "text/plain": [
       "'Análisis de Kirby Fighters 2'"
      ]
     },
     "execution_count": 88,
     "metadata": {},
     "output_type": "execute_result"
    }
   ],
   "source": [
    "article.title"
   ]
  },
  {
   "cell_type": "code",
   "execution_count": 69,
   "metadata": {},
   "outputs": [
    {
     "data": {
      "text/plain": [
       "'Kirby ha demostrado en más de una ocasión que sus modos de juego adicionales a las historias de sus títulos son capaces de convertirse en lanzamientos por sí mismos. Lo hemos visto en 3DS y también en Switch. Ahora llega Kirby Fighters 2, con los gráficos de Kirby Star Allies y muchas novedades respecto a su precuela.\\n\\nKirby, amigos y más Kirby\\n\\nEn Kirby siempre ha habido muchos combates, por lo que no es de extrañar que este «Smash Bros» con la jugabilidad propia de la saga de la bola redonda volviese a aparecer en algún momento. Al igual que todos sus títulos, tiene una dificultad muy accesible para todo tipo de jugadores, aunque también tiene extras algo más complejos que, sin llegar a ser una pesadilla, suben el nivel de reto considerablemente.\\n\\nLo principal que tenemos aquí son combates de hasta cuatro jugadores (todos contra todos o por parejas) en la misma consola, en juego local o en línea. Este último es algo más lento para encontrar jugadores que el visto en el free to play de Kirby, pero todos los combates que hemos jugado transcurren a buen ritmo y, gracias a que una vez que morimos reaparecemos como fantasmas, nunca hay grandes períodos de tiempo en los que solo miramos como ocurre en otros títulos del género.\\n\\nPero sabe también ofrecer diversión para una o dos personas con un «modo historia» en el que tenemos que recorrer, acompañados de Waddle Dee, varias plantas de una torre con ciertas limitaciones de vida y con varias mejoras entre las que podemos elegir tras acabar cada combate. Sirve principalmente com otoma de contacto para ir subiendo niveles de jugador, algo que nos va desbloqueando nuevos poderes de Kirby, apariencias, mejoras para desbloquear y algún extra más. Si nos sabe a poco, podemos también ir al modo En Solitario, en el que tenemos que hacer frente a varios enemigos seguidos a modo de supervivencia sin ayuda de ningún compañero humano o de CPU.\\n\\nKirby Fighters 2, con gente mejor\\n\\nJugar a este título es muy fácil, y si se conoce la saga es inmediato. Aquí Kirby no consigue habilidades al absorber enemigos, sino que, al igual que ocurre en los modos «Arena» de sus juegos, podemos elegir una habilidad para tenerla equipada de serie y con ella hacer frente a todo lo que nos viene. Todos los movimientos y ataques se realizan con combinaciones sencillas del stick y los botones B y A, aunque también disponemos de un escudo con los botones superiores y de un «agarre» con la boca (novedad interesante) pulsando Y.\\n\\nEl mecanismo jugable es extremadamente sencillo, por lo que los más acérrimos a los juegos de lucha bien complejos con muchos combos y velocidad de combate no van a encontrar aquí un aliado. Es más, este título tiene como público principal a los seguidores de la saga, o bien a aquellos que busquen una experiencia Smash más relajada o de iniciación. El juego da para muchas horas, siempre y cuando hagamos uso del multijugador, ya que, a no ser que seamos amantes de desbloquear todo y completar el juego con todos los poderes, las experiencias para un jugador se pueden quedar cortas.\\n\\nA nivel gráfico y sonoro, estamos ante todo lo que hemos visto ya en Kirby para Switch, y puede que incluso algo mejor en algunas animaciones (y con el disfraz de lucha libre como novedad). No es un estilo muy puntero, pero sí resultón, colorido y cercano. Además, es también una especie de homenaje a la saga, pues existen un montón de escenarios y melodías clásicos de la franquicia, que rebosan felicidad – y acción – por todas partes.\\n\\nKirby Fighters 2 es más que una secuela continuista. Es un producto mucho más completo, que sabe satisfacer mejor al jugador en solitario y también a la comunidad online. Puede que si no se es fan de la franquicia o un jugador novato sepa a poco, pero para el resto es una mina de contenido a desbloquear y muchas horas de combates. Quizás muchos hubieramos preferido que este título fuese un modo dentro de un nuevo título principal de la serie, pero mientras este llega es un aperitivo interesante.'"
      ]
     },
     "execution_count": 69,
     "metadata": {},
     "output_type": "execute_result"
    }
   ],
   "source": [
    "article.text"
   ]
  },
  {
   "cell_type": "code",
   "execution_count": 89,
   "metadata": {},
   "outputs": [
    {
     "data": {
      "text/plain": [
       "'https://www.revogamers.net/analisis-w/analisis-de-kirby-fighters-2-56351/'"
      ]
     },
     "execution_count": 89,
     "metadata": {},
     "output_type": "execute_result"
    }
   ],
   "source": [
    "article.url"
   ]
  },
  {
   "cell_type": "code",
   "execution_count": 72,
   "metadata": {},
   "outputs": [
    {
     "name": "stdout",
     "output_type": "stream",
     "text": [
      "https://www.revogamers.net/analisis-w/analisis-de-kirby-fighters-2-56351/\n",
      "https://www.revogamers.net/destacados/ediciones-fisicas-limitadas-nintendo-switch-finales-2020-56405/\n",
      "https://www.revogamers.net/articulos-w/35-anos-super-mario-gaizka-iruretagoyena-56190/\n",
      "https://www.revogamers.net/articulos-w/5-momentos-recordar-super-mario-galaxy-55593/\n",
      "https://www.revogamers.net/noticias-w/nintendo-switch/ghost-of-a-tale-llega-8-octubre-56418/\n",
      "https://www.revogamers.net/noticias-w/nintendo-switch/este-video-explica-que-son-pikmin-56412/\n",
      "https://www.revogamers.net/noticias-w/nintendo-switch/trailer-general-mario-kart-live-mensaje-creadores-56391/\n",
      "https://www.revogamers.net/noticias-w/nintendo-switch/overcooked-2-celebra-luna-cosecha-descargable-gratuito-56367/\n",
      "https://www.revogamers.net/noticias-w/nintendo-switch/minecraft-proximo-luchador-super-smash-bros-ultimate-56363/\n",
      "https://www.revogamers.net/noticias-w/nintendo-switch/super-mario-bros-35-disponible-nso-56352/\n",
      "https://www.revogamers.net/noticias-w/nintendo-switch/super-smash-bros-ultimate-torneo-ligero-56340/\n",
      "https://www.revogamers.net/noticias-w/eshop/torchlight-iii-retrasa-llegada-nintendo-switch-56337/\n",
      "https://www.revogamers.net/noticias-w/nintendo-switch/manana-proximo-luchador-de-super-smash-bros-ultimate-56331/\n",
      "https://www.revogamers.net/articulos-w/5-momentos-recordar-super-mario-64-55717/\n",
      "https://www.revogamers.net/articulos-w/hablemos-de-steamworld-collection-con-galeria-unboxing-54480/\n",
      "https://www.revogamers.net/noticias-w/nintendo-switch/ghost-of-a-tale-llega-8-octubre-56418/#respond\n",
      "https://www.revogamers.net/noticias-w/nintendo-switch/este-video-explica-que-son-pikmin-56412/#respond\n",
      "https://www.revogamers.net/noticias-w/nintendo-switch/trailer-general-mario-kart-live-mensaje-creadores-56391/#respond\n",
      "https://www.revogamers.net/noticias-w/nintendo-switch/e32019-eshop-switch-3ds-rebajas-41096/\n",
      "https://www.revogamers.net/noticias-w/nintendo-switch/e32019-eshop-switch-3ds-rebajas-41096/#respond\n",
      "https://www.revogamers.net/noticias-w/nintendo-3ds/nuevo-video-lanzamiento-persona-q2-40407/\n",
      "https://www.revogamers.net/noticias-w/nintendo-3ds/nuevo-video-lanzamiento-persona-q2-40407/#respond\n",
      "https://www.revogamers.net/noticias-w/nintendo-3ds/video-personajes-regresan-persona-q2-39253/\n",
      "https://www.revogamers.net/noticias-w/nintendo-3ds/video-personajes-regresan-persona-q2-39253/#respond\n",
      "https://www.revogamers.net/noticias-w/eshop/torchlight-iii-retrasa-llegada-nintendo-switch-56337/#respond\n",
      "https://www.revogamers.net/noticias-w/eshop/ghostrunner-lanza-27-octubre-nintendo-switch-56040/\n",
      "https://www.revogamers.net/noticias-w/eshop/ghostrunner-lanza-27-octubre-nintendo-switch-56040/#respond\n",
      "https://www.revogamers.net/noticias-w/eshop/probar-9-monkeys-of-shaolin-nintendo-switch-55984/\n",
      "https://www.revogamers.net/noticias-w/eshop/probar-9-monkeys-of-shaolin-nintendo-switch-55984/#respond\n",
      "https://www.revogamers.net/analisis-w/analisis-de-kirby-fighters-2-56351/#respond\n",
      "https://www.revogamers.net/articulos-w/35-anos-super-mario-gaizka-iruretagoyena-56190/#respond\n",
      "https://www.revogamers.net/articulos-w/5-momentos-recordar-super-mario-galaxy-55593/#respond\n",
      "https://www.revogamers.net/noticias-w/moviles/rey-boo-llega-doctor-dr-mario-world-56285/\n",
      "https://www.revogamers.net/noticias-w/moviles/rey-boo-llega-doctor-dr-mario-world-56285/#respond\n",
      "https://www.revogamers.net/noticias-w/moviles/mario-kart-tourprepara-visitar-angeles-55941/\n",
      "https://www.revogamers.net/noticias-w/moviles/mario-kart-tourprepara-visitar-angeles-55941/#respond\n",
      "https://www.revogamers.net/noticias-w/moviles/dr-mario-world-dr-blooper-pezueso-54783/\n",
      "https://www.revogamers.net/noticias-w/moviles/dr-mario-world-dr-blooper-pezueso-54783/#respond\n",
      "-------------------\n",
      "http://www.revogamers.net\n",
      "https://www.revogamers.net\n",
      "-------------------\n"
     ]
    }
   ],
   "source": [
    "revo_paper = newspaper.build('http://www.revogamers.net/', memoize_articles=False)\n",
    "\n",
    "for article in revo_paper.articles:\n",
    "     print(article.url)\n",
    "    \n",
    "print('-------------------')\n",
    "\n",
    "for category in revo_paper.category_urls():\n",
    "     print(category)\n",
    "\n",
    "print('-------------------') \n",
    "        \n",
    "for feed_url in revo_paper.feed_urls():\n",
    "     print(feed_url)\n"
   ]
  },
  {
   "cell_type": "code",
   "execution_count": 71,
   "metadata": {},
   "outputs": [
    {
     "data": {
      "text/plain": [
       "'revogamers'"
      ]
     },
     "execution_count": 71,
     "metadata": {},
     "output_type": "execute_result"
    }
   ],
   "source": [
    "revo_paper.brand"
   ]
  },
  {
   "cell_type": "code",
   "execution_count": 109,
   "metadata": {},
   "outputs": [
    {
     "data": {
      "text/plain": [
       "'http://www.revogamers.net/analisis-w/'"
      ]
     },
     "execution_count": 109,
     "metadata": {},
     "output_type": "execute_result"
    }
   ],
   "source": [
    "revo_paper.url"
   ]
  },
  {
   "cell_type": "markdown",
   "metadata": {},
   "source": [
    "### 3D JUEGOS"
   ]
  },
  {
   "cell_type": "code",
   "execution_count": null,
   "metadata": {},
   "outputs": [],
   "source": []
  },
  {
   "cell_type": "code",
   "execution_count": 76,
   "metadata": {},
   "outputs": [],
   "source": [
    "url = 'https://www.3djuegos.com/juegos/analisis/36317/0/star-wars-squadrons/'\n",
    "article = Article(url)"
   ]
  },
  {
   "cell_type": "code",
   "execution_count": 77,
   "metadata": {},
   "outputs": [],
   "source": [
    "article.download()"
   ]
  },
  {
   "cell_type": "code",
   "execution_count": 78,
   "metadata": {},
   "outputs": [],
   "source": [
    "article.parse()"
   ]
  },
  {
   "cell_type": "code",
   "execution_count": 79,
   "metadata": {},
   "outputs": [
    {
     "data": {
      "text/plain": [
       "['Alberto Pastor']"
      ]
     },
     "execution_count": 79,
     "metadata": {},
     "output_type": "execute_result"
    }
   ],
   "source": [
    "article.authors\n"
   ]
  },
  {
   "cell_type": "code",
   "execution_count": 80,
   "metadata": {},
   "outputs": [
    {
     "data": {
      "text/plain": [
       "'Análisis de Star Wars Squadrons para Xbox One'"
      ]
     },
     "execution_count": 80,
     "metadata": {},
     "output_type": "execute_result"
    }
   ],
   "source": [
    "article.title"
   ]
  },
  {
   "cell_type": "code",
   "execution_count": 83,
   "metadata": {},
   "outputs": [
    {
     "data": {
      "text/plain": [
       "'https://www.3djuegos.com/juegos/analisis/36317/0/star-wars-squadrons/'"
      ]
     },
     "execution_count": 83,
     "metadata": {},
     "output_type": "execute_result"
    }
   ],
   "source": [
    "article.url"
   ]
  },
  {
   "cell_type": "code",
   "execution_count": 81,
   "metadata": {},
   "outputs": [
    {
     "data": {
      "text/plain": [
       "'Conviértete en un auténtico piloto y disfrutar de emocionantes batallas espaciales en el universo Star Wars con este gran juego de acción que se inspira en grandes clásicos de la Guerra de las Galaxias como el mítico X-Wing. Con una apuesta por el multijugador, pero sin dejar de lado su campaña en solitario, en el análisis de Star Wars Squadrons te damos unas cuantas razones para ilusionarse con este videojuego.\\n\\nVuelas directo a un gigantesco crucero estelar del Imperio Galáctico sabiendo que es una locura, que la muerte aguarda, pero el héroe -o loco- que llevas dentro te empuja a seguir adelante. Es tu última oportunidad, ¡ahora o nunca!, así que a los mandos de un destartalado X-Wing a punto de saltar por los aires diriges toda la energía de la nave a los escudos, concentrando su poder al frente. \"Algo es algo\", piensas mientras alcanzas la máxima velocidad. Hay explosiones por doquier; cada vez cuesta más esquivar los turbo láseres imperiales y por mucho que dispares, los escudos del enemigo le protegen de la destrucción. Así que vuelas rápido, con un fuerte impulso de los motores hasta pegarte al casco del crucero, ¡aquí los escudos no le sirven! Diriges tu mirada a un punto estratégico de la nave. Si lo destruyes, causarás un daño terrible, así que pasas al ataque. Concentras toda la energía en las armas mientras tu panel de mando expulsa humo, chispas y hasta fuego. No importa, aún puedes hacerlo; es lo único en lo que piensas. Y disparas. Le sigue una gran explosión. ¡Los escudos han caído! Y ahora toca escapar. Y dar gracias también a que en 2020, con Star Wars Squadrons, podamos revivir esta clase de emociones tiempo ha caídas en el olvidos. Pero este era precisamente el deseo de EA Motive.\\n\\nSu director creativo reconocía en una entrevista que el proyecto Squadrons nació de una noche de cervezas con varios amigos, fans del universo Star Wars, que \"echaban de menos los juegos de naves de los 90\". Ojalá más juergas así. Inspirándose en clásicos como los míticos X-Wing y X-Wing vs. TIE Fighter, pero también obras míticas como Freespace, el equipo capitaneado por Ian Frazier ha sabido recrear las sensaciones y la emocionante acción de antaño con un apartado audiovisual de película. Y el resultado es espectacular. Me gustaría insistir más en ello porque incluso fans acérrimos de La Guerra de las Galaxias como un servidor considerábamos este nuevo juego de Electronic Arts como una propuesta menor; otro multijugador más que nadie había pedido. Qué equivocado estaba. Hay batallas online, ¡y son muy divertidas!, pero Star Wars Squadrons también presenta una potente campaña para un solo jugador que ya de por sí justifica el salto a esta experiencia de combate espacial. Ya lo avisaron sus creadores. La campaña es mucho más que un simple tutorial para el multijugador; tiene historia, una que se sigue con interés, y un buen diseño de misiones que nos harán vivir situaciones propias de las películas.\\n\\nPor todo ello, como verás en este análisis de Star Wars Squadrons, EA Motive ha firmado un gran trabajo que aún con sus asperezas, merece la pena probar; especialmente por las sensaciones que transmite a los mandos de los X-Wing, TIE Fighter, Y-Wing, bombarderos TIE/sa y otras naves icónicas de La Guerra de las Galaxias.\\n\\nLa guerra desde la cabina de una nave\\n\\nSi tienes la fortuna de jugar con realidad virtual, la experiencia es increíbleDe Star Wars Squadrons llama la atención su apuesta por la vista en primera persona, desde la cabina de las naves, pero también ese cierto \"realismo\" que define su pilotaje. No es un simulador, pero tampoco un arcade. Y aunque a veces navegar entre dos aguas es un problema, EA Motive ha logrado crear una experiencia de vuelo de lo más auténtica, realmente divertida, que no hace sino ahondar en uno de los grandes lemas que ha servido para dar vida a Squadrons: \"este es un juego de habilidad\". Es algo que su director nos repitió en varias ocasiones y es también algo que poco tardaréis en descubrir, tanto en su campaña para un solo jugador como, especialmente, en las batallas online, donde la destreza lo es todo. No las armas especiales o misiles que hayas equipado; tú y solo tú a los mandos de un Ala-X o un caza TIE. No necesitas más.\\n\\nHay algo épico en esta forma de entender la acción; algo que te hará rememorar muchos de los grandes momentos de la saga cinematográfica, ya sea esquivando misiles en el último instante, sobreviviendo a ellos contra todo pronóstico con un inteligente uso de los escudos, o aniquilando a todo un escuadrón enemigo en cuestión de segundos. Pilotar las naves de Star Wars Squadrons es una experiencia gratificante en la que cuanto más profundizas, más disfrutas, pues descubres nuevas formas de sorprender a los rivales; de maximizar el potencial destructivo y defensivo de tus máquinas de guerra. Cada una de ellas transmite sensaciones diferentes: su peso, la maniobrabilidad, resistencia, velocidad máxima o fuerza de ataque. Hay muchos factores que influyen en el pilotaje, pero lo que sin duda más he disfrutado ha sido la propia gestión de la energía, de los sistemas de la nave.\\n\\nLas naves imperiales no tienen escudos, pero a cambio pueden aumentar aún más el poder de sus armas y la energía de los motores.\\n\\nOs lo contaba antes. En mitad de la lucha puedes dirigir toda la energía a fortalecer los escudos, potenciar las armas para provocar más daño durante más tiempo, o darle un impulso extra a los motores para ganar velocidad. Y aunque así de primeras puede parecer una tontería, su importancia es capital en las batallas. En realidad es lo que hace que sean tan épicas y divertidas, tan frenéticas y a la vez estratégicas, pues debes tomar decisiones en cuestión de segundos reaccionando, casi sin tiempo, a disparos procedentes de todas las direcciones; enfrentándote a rivales con contramedidas capaces de evitar tus misiles, o armas únicas con las que pueden incluso inutilizar tu nave durante unos instantes. Suficientes para que un piloto astuto te mande al otro barrio.\\n\\nNo es un simulador, tampoco un arcade, pero Star Wars Squadrons coge elementos de ambos géneros y los combina con gran acierto, creando un combate exigente pero a la vez espectacular y caótico. Y todo ello desde la perspectiva de un piloto, dentro de la nave, lo que contribuye a hacer de esta una experiencia aún más apasionante, hasta cierto punto tensa, pues nada hay peor -en el buen sentido- que saber que un enemigo te está dando caza, y no tener forma de verlo más allá que a través de los aparejos de nuestra cabina. La inmersión es total, y la sensación de estar realmente pilotando un X-Wing, un TIE Fighter, un A-Wing o la nave que prefieras es increíble. Más si tienes la fortuna de jugar con realidad virtual en PlayStation 4 y PC, y estar dentro de ese genial universo de ciencia ficción. Para mi desgracia, por ahora he de conformarme con las opiniones de otros compañeros, que ya cantan alabanzas en torno a esta opción.\\n\\nUna campaña a la altura de las expectativas\\n\\nEs una pena que no haya más naves entre las que elegirCreo que la mayoría de aficionados reaccionamos de igual forma ante el anuncio de Star Wars Squadrons. \"¿Multijugador? Adiós a una buena campaña\". Afortunadamente, es todo lo contrario. Tras la batalla de Endor, la Nueva República y el Imperio siguen su lucha por toda la galaxia, y en este contexto, EA Motive nos da la oportunidad de vivir esta guerra desde la perspectiva de los Rebeldes, en el Escuadrón Vanguardia, y la del Imperio como uno de los pilotos del Escuadrón Titán. ¿Lo mejor? Que la historia, sin ser trascendental, se sigue con gran interés gracias a unos personajes bien definidos, con su propio trasfondo, y un conflicto global que no se siente como la típica excusa para enfrentarnos aquí y allá por cualquier bobada. La Nueva República tiene un plan, el Imperio tiene un objetivo, y el modo en el que ambos se cruzan resulta por momentos muy satisfactorio.\\n\\nPuede que las primeras misiones os resulten algo simplonas, lo son, pero poco a poco la acción de Star Wars Squadrons se vuelve más y más apasionante al enfrentarte a retos que van más allá de masacrar cazas a diestro y siniestro. A veces toca proteger un objetivo concreto, enfrentarse a naves capitales contra las que no vale un ataque directo, luchar mientras esquivamos obstáculos tales como un rayo tractor capaz de inutilizar la nave al mínimo contacto, o hasta batallas en las que debes abatir enemigos con precisión pues un mal disparo puede hacer saltar por los aires todo cuanto nos rodea. Aunque no alcanzan la espectacularidad y variedad de situaciones que proponían otros clásicos de Star Wars como el mítico Rogue Squadron 2 de GameCube, las misiones son francamente divertidas y por momentos también, bastante desafiantes, lo que hará que se te pasen volando las cerca de 8 horas que dura la campaña.\\n\\nHay misiones que nos obligan a usar cierto tipo de naves, como las de apoyo con capacidad para generar escudos, imprescindibles para defender posiciones estratégicas; pero luego hay otras que te permiten saltar a la batalla con cualquiera de los cuatro cazas disponibles para cada facción, pudiendo personalizar su arsenal para adaptarlo más si cabe a tus gustos. Es más. Durante algunas misiones puedes dirigirte a tu nave insignia para cambiar el caza, pues a veces la acción varía tanto que lo que antes valía puede no ser ya tan útil. Y me encanta, claro, aunque no todo es perfecto. De entrada, es una pena que no haya más naves entre las que elegir, aunque siento que esto viene legado por la apuesta por un multijugador bien equilibrado. Y por supuesto habría sido genial luchar sobre superficies planetarias, pero en Squadrons, toda la acción tiene lugar siempre en el espacio. En este sentido, el juego peca de ser algo escueto en contenidos.\\n\\nTambién me han faltado más momentos de película durante la campaña, de esos que te hacen vivir con emoción cada instante de la partida, pues aunque los hay, creados por ti mismo cuando esquivas la muerte o la provocas de forma espectacular, habría sido genial tener más situaciones como el combate en las trincheras de la Estrella de la Muerte, en los que al margen de disparar, pilotar con destreza fuera esencial para alcanzar la victoria. Hay momentos así… pero no terminan de sacar provecho al pilotaje de las naves.\\n\\nUn escuadrón invencible\\n\\nSuperar una misión de la campaña puede ser fácil pero, ¿lo harás en pocos minutos? ¿Sin morir? ¿Con todas las secundarias? Eso ya es un reto, ¡y muy divertido!\\n\\n¿Completaste la campaña? Aún tienes ganas de más acción. El multijugador te espera, y aquí verás en todo su esplendor las grandes virtudes de Star Wars Squadrons en lo que se refiere al manejo de los cazas. Para luchar cara a cara contra otros jugadores tienes las Refriegas, donde disfrutarás de tensas batallas 5 vs 5 en las que tu habilidad a los mandos es clave para sobrevivir. Lo decía antes. No importan tanto las armas o secundarias que lleves equipadas; la diferencia entre la vida y la muerte la marca el pilotaje.\\n\\nAsí es difícil no pasarlo en grande luchando contra otros jugadores, pues todo lo bueno que resaltaba del control de las naves se ve aquí expuesto con mayor claridad, sintiéndote más si cabe como un auténtico piloto. La lucha es exigente pero cuanto más juegas, más quieres mejorar para ser capaz de derrotar a cualquiera que se cruce en tu camino, y creo que es uno de los grandes triunfos del trabajo de EA Motive ¿Cansado de pelear en estas pequeñas escaramuzas? La Batalla de Flotas se impone como la alternativa más épica y colosal de Star Wars Squadrons, pues aquí no solo luchas en una batalla 5 vs 5; entre medias hay decenas de cazas y cruceros controlados por la inteligencia artificial, así que realmente estás en un combate multitudinario capaz de brindar momentos increíbles. El objetivo aquí es destruir la nave capital del bando contrario, pero para lograrlo, antes hay que derribar sus cruceros de batalla, y alguna que otra fragata que de forma regular hará acto de presencia.\\n\\nDominar el control de la velocidad es esencial para sobrevivir a los desafíos más duros, pudiendo ejecutar maniobras que mostrarán quiénes son los mejores pilotos.\\n\\nAl derribar cazas enemigos bajará la moral de la facción contraria, hasta el punto de obligarles a retroceder, momento que debemos aprovechar para atacar la nave capital. No es tan fácil, claro, porque antes debemos echar abajo los escudos, pudiendo destrozar torretas y otros sistemas que convierten a estas naves en auténticas máquinas de matar. Así pues, Batalla de Flotas es un constante tira y afloja que nos va a hacer disfrutar de grandes momentos propios del universo Star Wars que tanto nos gustan, siendo muy recomendable contar con el apoyo de amigos para coordinar mejor los ataques. Uno puede actuar como apoyo, dando munición, aportando escudos a los aliados, mientras otro piloto en un bombardero va a por las naves insignia y el resto le cubre. Lo mejor es que hay crossplay total, por lo que jugadores de PS4, Xbox One y PC pueden competir entre sí sin ningún problema. Lo que me sorprende, para mal, es que no haya partidas privadas en el sentido de elegir con qué 10 jugadores disfrutas de su acción. Puedes ir en equipo con cinco amigos, sí, pero nada más.\\n\\nDado que esta es una experiencia volcada en el multijugador, siempre da miedo pensar en las microtransacciones y demás, pero el equipo de EA Motive insiste en que este es un juego propio \"de la vieja escuela. Lo compras y ya lo tienes todo. Ya está. No te vamos a pedir nada\". ¿Significa esto que no habrá nuevos contenidos en el futuro? Por ahora su director creativo asegura que no tienen planes para nuevos modos de juego, mapas, naves y demás extras, aunque imagino que en caso de triunfar, no tardaremos en verlos en acción. Y sería genial, claro, porque aquí tenemos uno de esos juegos de Star Wars de calidad que tanto ansiábamos. Y si lo tuyo son las naves, mejor que mejor. Para alargar su vida cuenta además con montones de objetos cosméticos que consigues exclusivamente con la moneda del juego, que se obtiene al superar batallas y cumplir con retos diarios. Puedes personalizar el exterior de las naves con una gran variedad de colores y diseños, así como decorar el interior con algunos ítems muy graciosos.\\n\\nBatalla de Flotas es un constante tira y afloja que te hace vivir esos grandes momentos que adoras de Star WarsEs un gustazo poder ver las naves con todo lujo de detalles. En realidad, es un gustazo disfrutar de la acción de Star Wars Squadrons, pues gráficamente se ha realizado un trabajo excepcional. El interior de las cabinas está recreado con todo lujo de detalles y, como decía, si juegas con realidad virtual, la sensación de estar ahí dentro es alucinante. Los escenarios en los que combates no son muy originales, pero hay unos cuantos que sí resultan espectaculares; sin olvidar todos esos efectos de luces, explosiones y turbo láseres por aquí y por allá, creando estampas dignas de una película. Se nota la pasión con la que EA Motive ha dado vida a un videojuego que también en lo sonoro es puro espectáculo, no ya solo por la banda sonora, que tiene un protagonismo bestial en la acción, sino especialmente por todos esos sutiles efectos de sonido que ayudan a meterte todavía más en la acción. Si es que hasta se ha recreado el sonido de los restos de otras naves colisionando contra tu cabina, que por supuesto, verás iluminarse con los fogonazos de los disparos, o cubrirse de humo si has sufrido demasiados daños.\\n\\nAntes de cada misión podemos charlar con los pilotos en el hangar, lo que poco a poco nos ayudará a empatizar más con ellos.\\n\\nTanto se han cuidado los detalles que hasta podemos ver al piloto interactuar con sus paneles de mando, activando ciertos sistemas, para que la inmersión sea total. Y si tienes la suerte de contar con un joystick... ya te puedes imaginar lo genial que puede ser pilotar un caza de Star Wars. El colofón a este espectáculo audiovisual llega con un gran doblaje al español. Así que pocas pegas se le pueden poner a esta experiencia de combate espacial. La campaña es divertida y variada, aunque algunas de sus batallas pueden tornarse algo repetitivas, y el multijugador te hará disfrutar una barbaridad a los mandos de -no muchos- cazas icónicos de La Guerra de las Galaxias. Con algunos modos de juego extra y más naves el resultado final habría sido extraordinario, pero tras tantos años rogando por un nuevo juego de naves de Star Wars, hay motivos de sobra para estar muy contentos con el trabajo de EA Motive. Como apunte final, sí os diría que si solo vais a jugar la campaña, aún siendo recomendable, pierde atractivo, pues el multijugador es una parte esencial para sacar el máximo provecho a la acción de Squadrons.'"
      ]
     },
     "execution_count": 81,
     "metadata": {},
     "output_type": "execute_result"
    }
   ],
   "source": [
    "article.text"
   ]
  },
  {
   "cell_type": "code",
   "execution_count": null,
   "metadata": {},
   "outputs": [],
   "source": []
  },
  {
   "cell_type": "code",
   "execution_count": 74,
   "metadata": {},
   "outputs": [
    {
     "name": "stdout",
     "output_type": "stream",
     "text": [
      "https://www.3djuegos.com/juegos/articulos/2040/0/se-lanzo-10-anos-antes-de-que-yo-naciera-pero-ultima-4-ha-sido-mi-mayor-reto-como-jugador/\n",
      "https://www.3djuegos.com/juegos/articulos/2052/0/las-9-consolas-con-los-mejores-videojuegos-de-lanzamiento-vaya-catalogos/\n",
      "https://www.3djuegos.com/juegos/articulos/2057/0/de-7-euros-de-spectrum-a-80-de-ps5-como-han-evolucionado-los-precios-de-los-videojuegos/\n",
      "https://www.3djuegos.com/noticias-ver/208271/la-temporada-2-de-fall-guys-ya-tiene-fecha-de-estreno-y-su/\n",
      "https://www.3djuegos.com/noticias-ver/208265/5-juegos-para-jugar-o-descargar-gratis-el-fin-de-semana-con/\n",
      "https://www.3djuegos.com/noticias-ver/208259/playstation-se-ha-equivocado-de-verdad-con-ps5-digital/\n",
      "https://www.3djuegos.com/noticias-ver/208254/recien-iniciado-en-genshin-impact-estos-8-consejos-te/\n",
      "https://www.3djuegos.com/noticias-ver/208257/que-consola-de-nueva-generacion-comprar-los-lectores-de/\n",
      "https://www.3djuegos.com/noticias-ver/208289/la-nvidia-geforce-rtx-3070-retrasa-su-fecha-de-lanzamiento/\n",
      "https://www.3djuegos.com/foros/tema/52559238/0/la-nvidia-geforce-rtx-3070-retrasa-su-fecha-de-lanzamiento-para-lidiar-con-la-falta-de-stock/#usu_votos_1\n",
      "https://www.3djuegos.com/noticias-ver/208291/xbox-series-x-y-s-permitiran-desinstalar-partes-de-un/\n",
      "https://www.3djuegos.com/foros/tema/52559466/0/xbox-series-x-y-s-permitiran-desinstalar-partes-de-un-videojuego-que-no-nos-interesen-para-ahorrar-espacio/#usu_votos_1\n",
      "https://www.3djuegos.com/noticias-ver/208287/la-realidad-virtual-estuvo-presente-desde-el-inicio-del/\n",
      "https://www.3djuegos.com/foros/tema/52558690/0/la-realidad-virtual-estuvo-presente-desde-el-inicio-del-desarrollo-de-star-wars-squadrons/#usu_votos_1\n",
      "https://www.3djuegos.com/foros/tema/52545290/0/las-9-consolas-con-los-mejores-videojuegos-de-lanzamiento-vaya-catalogos/#usu_votos_1\n",
      "https://www.3djuegos.com/noticias-ver/208288/nintendo-cree-que-el-joy-con-drift-no-es-un-problema-real/\n",
      "https://www.3djuegos.com/foros/tema/52559209/0/nintendo-cree-que-el-joy-con-drift-no-es-un-problema-real-segun-los-abogados-de-los-demandantes/#usu_votos_1\n",
      "https://www.3djuegos.com/noticias-ver/208286/bungie-desmiente-de-nuevo-una-posible-adquisicion-por-parte/\n",
      "https://www.3djuegos.com/foros/tema/52558261/0/bungie-desmiente-de-nuevo-una-posible-adquisicion-por-parte-de-microsoft/#usu_votos_1\n",
      "https://www.3djuegos.com/noticias-ver/208285/wasteland-3-mejora-considerablemente-sus-tiempos-de-carga/\n",
      "https://www.3djuegos.com/foros/tema/52558085/0/wasteland-3-mejora-considerablemente-sus-tiempos-de-carga-con-su-nueva-actualizacion-y-adjunta-comparativa/#usu_votos_1\n",
      "https://www.3djuegos.com/noticias-ver/208284/ea-motive-reitera-no-hay-planes-de-ofrecer-dlc-para-star/\n",
      "https://www.3djuegos.com/foros/tema/52557925/0/ea-motive-reitera-no-hay-planes-de-ofrecer-dlc-para-star-wars-squadrons/#usu_votos_1\n",
      "https://www.3djuegos.com/noticias-ver/208283/ya-puedes-jugar-gratis-a-rogue-company-en-pc-y-consolas-hi/\n",
      "https://www.3djuegos.com/foros/tema/52557919/0/ya-puedes-jugar-gratis-a-rogue-company-en-pc-y-consolas-hi-rez-arranca-la-beta-abierta/#usu_votos_1\n",
      "https://www.3djuegos.com/noticias-ver/208282/terror-y-mucha-angustia-en-el-trailer-de-la-historia-de/\n",
      "https://www.3djuegos.com/foros/tema/52557823/0/terror-y-mucha-angustia-en-el-trailer-de-la-historia-de-remothered-broken-porcelain/#usu_votos_1\n",
      "https://www.3djuegos.com/noticias-ver/208281/silent-hill-4-se-une-a-los-juegos-de-konami-que-se/\n",
      "https://www.3djuegos.com/foros/tema/52557684/0/silent-hill-4-se-une-a-los-juegos-de-konami-que-se-incorporan-al-catalogo-de-gog/#usu_votos_1\n",
      "https://www.3djuegos.com/noticias-ver/208280/los-creadores-de-until-dawn-y-dark-pictures-estan/\n",
      "https://www.3djuegos.com/foros/tema/52557582/0/los-creadores-de-until-dawn-y-dark-pictures-estan-trabajando-en-un-juego-con-combates-en-tiempo-real/#usu_votos_1\n",
      "https://www.3djuegos.com/noticias-ver/208279/stray-juego-en-el-que-encarnaremos-a-un-gato-en-un-ambiente/\n",
      "https://www.3djuegos.com/foros/tema/52557346/0/stray-juego-en-el-que-encarnaremos-a-un-gato-en-un-ambiente-futurista-muestra-nuevos-detalles/#usu_votos_1\n",
      "https://www.3djuegos.com/noticias-ver/208277/ya-sabemos-cuando-se-mostrara-ps5-fisicamente-por-primera/\n",
      "https://www.3djuegos.com/foros/tema/52557216/0/ya-sabemos-cuando-se-mostrara-ps5-fisicamente-por-primera-vez/#usu_votos_1\n",
      "https://www.3djuegos.com/31796f51718/video/nuevo-trailer-9-monkeys-of-shaolin-lanza-hoy-version-prologo-steam\n",
      "https://www.3djuegos.com/foros/tema/52557326/0/nuevo-trailer-de-9-monkeys-of-shaolin-que-lanza-hoy-su-version-prologo-en-steam/#usu_votos_1\n",
      "https://www.3djuegos.com/noticias-ver/208276/asi-eran-los-prototipos-iniciales-de-los-coches/\n",
      "https://www.3djuegos.com/foros/tema/52557037/0/asi-eran-los-prototipos-iniciales-de-los-coches-radiocontrol-de-mario-kart-live-home-circuit/#usu_votos_1\n",
      "https://www.3djuegos.com/noticias-ver/208275/pull-bear-y-blizzard-se-unen-en-una-coleccion-de-ropa-de/\n",
      "https://www.3djuegos.com/foros/tema/52556978/0/pull-bear-y-blizzard-se-unen-en-una-coleccion-de-ropa-de-overwatch-y-world-of-warcraft/#usu_votos_1\n",
      "https://www.3djuegos.com/37502f51716/video/trailer-lanzamiento-mario-kart-live-home-circuit-id-calentando-motores\n",
      "https://www.3djuegos.com/foros/tema/52557097/0/trailer-de-lanzamiento-de-mario-kart-live-home-circuit-id-calentando-motores/#usu_votos_1\n",
      "https://www.3djuegos.com/noticias-ver/208272/a-la-espera-de-pokemon-snap-tal-vez-esta-camara-de-fotos-de/\n",
      "https://www.3djuegos.com/foros/tema/52556735/0/a-la-espera-de-pokemon-snap-tal-vez-esta-camara-de-fotos-de-pikachu-te-alegre-el-dia/#usu_votos_1\n",
      "https://www.3djuegos.com/noticias-ver/208273/baldurs-gate-3-presenta-las-clases-y-razas-que-estaran/\n",
      "https://www.3djuegos.com/foros/tema/52556813/0/baldurs-gate-3-presenta-las-clases-y-razas-que-estaran-disponible-en-el-estreno-de-su-acceso-anticipado/#usu_votos_1\n",
      "https://www.3djuegos.com/noticias-ver/208270/flight-simulator-vende-un-millon-de-juegos-todo-un-exito/\n",
      "https://www.3djuegos.com/foros/tema/52556528/0/flight-simulator-vende-un-millon-de-juegos-todo-un-exito-para-los-autores-de-a-plague-tale/#usu_votos_1\n",
      "https://www.3djuegos.com/foros/tema/52556627/0/la-temporada-2-de-fall-guys-ya-tiene-fecha-de-estreno-y-su-llegada-es-inminente/#usu_votos_1\n",
      "https://www.3djuegos.com/noticias-ver/208269/171-es-un-gta-ambientado-en-brasil-con-lanzamiento/\n",
      "https://www.3djuegos.com/foros/tema/52556425/0/171-es-un-gta-ambientado-en-brasil-con-lanzamiento-confirmado-en-pc-xbox-series-one-ps4-y-switch/#usu_votos_1\n",
      "https://www.3djuegos.com/noticias-ver/208267/the-falconeer-juego-de-lanzamiento-de-xbox-series-x-y-s/\n",
      "https://www.3djuegos.com/foros/tema/52556183/0/the-falconeer-juego-de-lanzamiento-de-xbox-series-x-y-s-echa-a-volar-con-un-nuevo-trailer-gameplay/#usu_votos_1\n",
      "https://www.3djuegos.com/foros/tema/52555742/0/5-juegos-para-jugar-o-descargar-gratis-el-fin-de-semana-con-tres-yakuza-como-protagonistas/#usu_votos_1\n",
      "https://www.3djuegos.com/noticias-ver/208266/el-nuevo-chromecast-con-google-tv-no-sera-compatible-con/\n",
      "https://www.3djuegos.com/foros/tema/52555971/0/el-nuevo-chromecast-con-google-tv-no-sera-compatible-con-stadia-hasta-la-primera-mitad-de-2021/#usu_votos_1\n",
      "https://www.3djuegos.com/noticias-ver/208264/ubisoft-lo-reconoce-hyper-scape-no-ha-alcanzado-sus/\n",
      "https://www.3djuegos.com/foros/tema/52555668/0/ubisoft-lo-reconoce-hyper-scape-no-ha-alcanzado-sus-expectativas-y-prometen-mejorarlo/#usu_votos_1\n",
      "https://www.3djuegos.com/noticias-ver/208262/minecraft-en-super-smash-bros-ultimate-una-relacion-que/\n",
      "https://www.3djuegos.com/foros/tema/52555407/0/minecraft-en-super-smash-bros-ultimate-una-relacion-que-empezo-a-fraguarse-hace-cinco-anos/#usu_votos_1\n",
      "https://www.3djuegos.com/noticias-ver/208261/fifa-21-echa-el-balon-a-rodar-con-su-trailer-de-lanzamiento/\n",
      "https://www.3djuegos.com/foros/tema/52555232/0/fifa-21-echa-el-balon-a-rodar-con-su-trailer-de-lanzamiento-y-ya-se-puede-jugar-en-ea-play/#usu_votos_1\n",
      "https://www.3djuegos.com/noticias-ver/208236/super-smash-bros-ultimate-presenta-a-sus-luchadores-mas/\n",
      "https://www.3djuegos.com/noticias-ver/208224/persecuciones-tiroteos-mucha-accion-y-keanu-reeves-asi-es/\n",
      "https://www.3djuegos.com/juegos/articulos/2026/0/de-verdad-abandonamos-los-jugadores-mas-videojuegos-ahora-que-antes/\n",
      "https://www.3djuegos.com/juegos/articulos/2042/0/los-10-juegos-mas-importantes-de-ps5-y-xbox-series-cuales-seran-juegos-de-lanzamiento-y-cuales-no/\n",
      "https://www.3djuegos.com/juegos/articulos/2041/0/nuestros-auriculares-inalambricos-favoritos-para-videojuegos/\n",
      "https://www.3djuegos.com/juegos/articulos/2043/0/fiel-a-su-trabajo-con-quentin-tarantino-asi-se-creo-la-impactante-musica-de-wasteland-3/\n",
      "https://www.3djuegos.com/juegos/articulos/2044/0/mtg-arena-de-zendikar-a-la-eternidad-un-documental-de-magic-the-gathering/\n",
      "https://www.3djuegos.com/juegos/articulos/2039/0/preguntas-a-3djuegos-proximo-juego-de-naughty-dog-roms-en-juegos-comerciales-retrocompatibilidad-en-ps5/\n",
      "https://www.3djuegos.com/noticias-ver/208048/silenciosa-y-eficiente-xbox-series-x-comparte-nuevos/\n",
      "https://www.3djuegos.com/noticias-ver/208225/xiaomi-lanzara-un-televisor-de-82-4k-y-120-hz-que-parece/\n",
      "https://www.3djuegos.com/noticias-ver/208080/si-tienes-juegos-de-xbox-one-en-un-disco-duro-externo/\n",
      "https://www.3djuegos.com/noticias-ver/207755/nvidia-cierra-una-compra-historica-40-mil-millones-de/\n",
      "https://www.3djuegos.com/noticias-ver/207793/la-marca-de-perifericos-razer-expuso-por-error-los-datos/\n",
      "https://www.3djuegos.com/juegos/analisis/32082/0/serious-sam-4/\n",
      "https://www.3djuegos.com/noticias-ver/192118/guia-de-sekiro-shadows-die-twice-trucos-consejos-y-secretos/\n",
      "https://www.3djuegos.com/noticias-ver/190352/guia-de-apex-legends-trucos-consejos-y-secretos-del-battle/\n",
      "https://www.3djuegos.com/noticias-ver/179710/guia-fortnite-trucos-consejos-y-secretos/\n",
      "https://www.3djuegos.com/noticias-ver/187467/guia-de-red-dead-redemption-2-trucos-consejos-y-secretos/\n",
      "https://www.3djuegos.com/30279/age-of-empires-iii-definitive-edition/\n",
      "https://www.3djuegos.com/foro-de/121981/0/pokemon-espada-pokemon-escudo/\n",
      "https://www.3djuegos.com/foro-de/115595/0/the-last-of-us-parte-ii/\n",
      "https://www.3djuegos.com/foros/tema/52548978/0/que-te-hizo-perder-una-amistad/\n",
      "https://www.3djuegos.com/foros/tema/52553664/0/estas-a-favor-o-en-contra-de-la-tauromaquia/\n",
      "https://www.3djuegos.com/foros/tema/52553715/0/estas-a-favor-o-en-contra-de-la-manipulacion-genetica/\n",
      "https://www.3djuegos.com/foros/tema/52546709/0/a-que-jugador-de-la-1-temporada-vais-a-elegir-encuesta/\n",
      "https://www.3djuegos.com/foros/tema/52553027/0/y-ahora-que-hago-5-partidos-5-victorias/\n",
      "https://www.3djuegos.com/foros/tema/52546098/0/pongamos-equipo-y-estimemos-un-precio/\n",
      "https://www.3djuegos.com/foros/tema/52559075/0/review-de-mi-equipo-por-si-le-sirve-a-alguien/\n",
      "https://www.3djuegos.com/foros/tema/52546312/0/hacemos-grupo-para-el-genshin-impact/\n",
      "-------------------\n",
      "https://www.3djuegos.com/index.php\n",
      "https://www.3djuegos.com/\n",
      "https://www.3djuegos.com\n",
      "https://www.3djuegos.com/foros\n",
      "-------------------\n"
     ]
    }
   ],
   "source": [
    "TDjuegos_paper = newspaper.build('https://www.3djuegos.com/', memoize_articles=False)\n",
    "\n",
    "for article in TDjuegos_paper.articles:\n",
    "     print(article.url)\n",
    "    \n",
    "print('-------------------')\n",
    "\n",
    "for category in TDjuegos_paper.category_urls():\n",
    "     print(category)\n",
    "\n",
    "print('-------------------') \n",
    "        \n",
    "for feed_url in TDjuegos_paper.feed_urls():\n",
    "     print(feed_url)\n"
   ]
  },
  {
   "cell_type": "code",
   "execution_count": 75,
   "metadata": {},
   "outputs": [
    {
     "data": {
      "text/plain": [
       "'3djuegos'"
      ]
     },
     "execution_count": 75,
     "metadata": {},
     "output_type": "execute_result"
    }
   ],
   "source": [
    "TDjuegos_paper.brand"
   ]
  },
  {
   "cell_type": "markdown",
   "metadata": {},
   "source": [
    "### VANDAL"
   ]
  },
  {
   "cell_type": "code",
   "execution_count": 102,
   "metadata": {},
   "outputs": [],
   "source": [
    "url = 'https://vandal.elespanol.com/analisis/ps4/crash-bandicoot-4-its-about-time/86915'\n",
    "article = Article(url)"
   ]
  },
  {
   "cell_type": "code",
   "execution_count": 103,
   "metadata": {},
   "outputs": [],
   "source": [
    "article.download()"
   ]
  },
  {
   "cell_type": "code",
   "execution_count": 104,
   "metadata": {},
   "outputs": [],
   "source": [
    "article.parse()"
   ]
  },
  {
   "cell_type": "code",
   "execution_count": 105,
   "metadata": {},
   "outputs": [
    {
     "data": {
      "text/plain": [
       "[]"
      ]
     },
     "execution_count": 105,
     "metadata": {},
     "output_type": "execute_result"
    }
   ],
   "source": [
    "article.authors\n"
   ]
  },
  {
   "cell_type": "code",
   "execution_count": 106,
   "metadata": {},
   "outputs": [
    {
     "data": {
      "text/plain": [
       "\"Análisis Crash Bandicoot 4: It's About Time, ¡qué de tiempo! (PS4, Xbox One)\""
      ]
     },
     "execution_count": 106,
     "metadata": {},
     "output_type": "execute_result"
    }
   ],
   "source": [
    "article.title"
   ]
  },
  {
   "cell_type": "code",
   "execution_count": 107,
   "metadata": {},
   "outputs": [
    {
     "data": {
      "text/plain": [
       "'https://vandal.elespanol.com/analisis/ps4/crash-bandicoot-4-its-about-time/86915'"
      ]
     },
     "execution_count": 107,
     "metadata": {},
     "output_type": "execute_result"
    }
   ],
   "source": [
    "article.url"
   ]
  },
  {
   "cell_type": "code",
   "execution_count": 108,
   "metadata": {},
   "outputs": [
    {
     "data": {
      "text/plain": [
       "\"Activision parece haber descubierto que si le da a sus sagas más quemadas un descanso y hace buenas entregas nuevas, aunque sean remakes, venden como churros. Quién lo habría imaginado. Después de comprobar esto por partida cuádruple con los remakes de la trilogía original de Crash Bandicoot, la de Spyro, Crash Team Racing y, más recientemente, los dos primeros Tony Hawk's, vuelve a intentarlo con un juego nuevo: Crash Bandicoot 4: It's About Time.\\n\\nVideoanálisis\\n\\n¡Crash, qué de tiempo!\\n\\nCrash Bandicoot 4: It's About Time es un juego de plataformas que retoma la saga donde la dejaron los primeros juegos. Esto quiere decir correr hacia el fondo, correr hacia la cámara, secuencias de desarrollo lateral, secuencias sobre vehículos... Vamos, un Crash Bandicoot de toda la vida. La diferencia llega de la mano de nuevas máscaras que nos dan poderes, como alternar entre dos realidades, ralentizar el tiempo o poder realizar un espiral especial. Las máscaras sólo pueden usarse en las secciones diseñadas para ello, por lo que los niveles se aseguran de ofrecer siempre un desafío a medida.\\n\\n‘Crash 4’ es precioso, y por momentos parece una ilustración en movimiento.\\n\\nLa otra novedad es poder jugar como ciertos personajes de la saga. Hay varios, y aunque seguramente los sepáis si habéis estado siguiendo las noticias, no os vamos a contar todos porque algunos tienen que ver con la historia del juego y preferimos no destriparlo. Cada personaje tiene unas habilidades diferentes y sólo pueden usarse en unas fases determinadas. Por ejemplo, Tawna puede usar un garfio para moverse por el escenario y puede saltar de pared en pared, y Dingodile puede aspirar objetos y saltar como Yoshi, planeando en el aire y dando un saltito final.\\n\\nPUBLICIDAD\\n\\nHay una serie de pruebas especiales diseñadas para ofrecer un desafío diferente.\\n\\nEn general, el diseño de niveles nos ha gustado. Hay algunos brillantes, como el carnaval que juega con la música y el ritmo para el plataformeo, y otros menos inspirados. Los jefes, por ejemplo, nos han parecido muy, muy pobres. Además, las fases con los personajes secundarios nos han dejado sensaciones enfrentadas. Por una parte, aportan variedad y son entretenidas, pero por otra parte nos parecen un poco peores que las fases principales, y quizás habríamos preferido ver niveles más experimentales con la jugabilidad tradicional.\\n\\nPor ejemplo, hay unas cintas de vídeo que podemos recoger si llegamos hasta ellas sin morir, que desbloquean fases especiales en las que descubrimos los experimentos que realizó Cortex con Crash. Son desafíos especiales, cortitos, pero que creemos que funcionan bien, y nos habría gustado ver más maneras de exprimir el núcleo jugable de la saga o incluso las nuevas máscaras. Eso sí, que quede claro que las fases con los personajes secundarios funcionan, y entendemos lo que han querido hacer con ellas.\\n\\nComo si de Sonic se tratase, los amigos y enemigos de Crash se suman al elenco jugable.\\n\\nTiempo para completarlo todo\\n\\nEl juego de Toys for Bob viene cargadito de contenido. No sólo tiene una inmensa cantidad de fases, tanto primarias como secundarias, sino que además tiene mil y un alicientes para rejugarlas, como los trajes que vamos desbloqueando. Cada fase principal tiene varios desafíos (romper todas las cajas, terminarla sin morir menos de tantas veces...) y, aparte, tiene la contrarreloj y un nuevo bloque de desafíos en modo espejo. Por supuesto, tenemos que encontrar las gemas ocultas para desbloquear ciertos caminos en ciertas fases y poder acceder a todas las cajas, e incluso aprendernos las mejores rutas para cada contrarreloj.\\n\\nLas máscaras nos dan poderes especiales necesarios para completar las fases.\\n\\nTambién tenemos dos modos multijugador, uno cooperativo y uno competitivo. Son muy sencillos, y simplemente elegimos cuándo pasar el mando, ya sea para progresar en las fases normales o para competir por conseguir la mejor puntuación. No son nada del otro mundo, pero son entretenidos y agradecemos su implementación. También tenemos un modo de dificultad clásico y uno fácil, que nos lleva siempre al último punto de control si perdemos todas las vidas. Incluso en el modo clásico, completar el juego es relativamente fácil (lo hemos terminado con más de 60 vidas acumulada), aunque cuando intentemos conseguir el 100% la cosa cambia y se vuelve muchísimo más complicado. En definitiva, es un juego muy, muy completo, que va a requerir muchísimas horas, paciencia y habilidad para conseguirlo absolutamente todo.\\n\\nToys for Bob ha introducido una buena cantidad de entornos, muy variados entre sí.\\n\\nAdaptado a los nuevo tiempos\\n\\nAudiovisualmente, Crash Bandicoot 4: It's About Time nos ha gustado muchísimo. Obviamente, teníamos miedo de ver un cambio artístico con el historial de la saga pero creemos que han acertado de lleno. Nos parece que respeta los diseños de la saga y, a su vez, aprovecha el hardware de las consolas actuales para ofrecernos un juego precioso y que, además, se mueve que da gusto. En PlayStation 4 Pro, donde lo hemos analizado, funciona a 60 imágenes por segundo siempre estables e, imaginamos, a 1440p.\\n\\n¿Os hemos dicho ya lo bonito que es?\\n\\nEn lo sonoro tenemos una selección fantástica de melodías, que nos ofrecen tanto composiciones nuevas como reimaginaciones de temas clásicos, y que encajan como un guante. Nos llega también doblado al castellano, algo que siempre se agradece, y que nos ayuda a seguir una historia simploncilla pero entretenida, contada con mucho sentido del humor.\\n\\n¡Ya era hora!\\n\\nActivision y Toys for Bob han hecho un gran trabajo a la hora de recuperar una saga tan mítica. No es fácil coger algo que era divertido hace 20 años y adaptarlo a los tiempos que corren, pero creemos que han sabido encontrar el equilibrio entre lo nuevo y lo clásico, e incluso nos atreveríamos a decir que nos gustaría que hubiesen experimentado un poco más con el diseño de niveles, ya que cuando lo hacen el juego gana enteros. Tiene cosas que no nos terminan de convencer, pero creemos que ninguna es lo suficientemente grave como para empañar el conjunto. Crash Bandicoot 4: It's About Time es un juego divertido, bonito y muy completo, que recomendamos a los fans del marsupial y que, sobre todo, creemos que se merece ese 4.\\n\\nHemos realizado este análisis en PS4 Pro con un código de descarga proporcionado por Activision.\""
      ]
     },
     "execution_count": 108,
     "metadata": {},
     "output_type": "execute_result"
    }
   ],
   "source": [
    "article.text"
   ]
  },
  {
   "cell_type": "code",
   "execution_count": 101,
   "metadata": {},
   "outputs": [
    {
     "data": {
      "text/plain": [
       "\"\\nvandal_paper = newspaper.build('https://vandal.elespanol.com/', memoize_articles=False)\\n\\nfor article in vandal_paper.articles:\\n     print(article.url)\\n    \\nprint('-------------------')\\n\\nfor category in vandal_paper.category_urls():\\n     print(category)\\n\\nprint('-------------------') \\n        \\nfor feed_url in vandal_paper.feed_urls():\\n     print(feed_url)\""
      ]
     },
     "execution_count": 101,
     "metadata": {},
     "output_type": "execute_result"
    }
   ],
   "source": [
    "#Needed for .brand. Nothing else.\n",
    "'''\n",
    "vandal_paper = newspaper.build('https://vandal.elespanol.com/', memoize_articles=False)\n",
    "\n",
    "for article in vandal_paper.articles:\n",
    "     print(article.url)\n",
    "    \n",
    "print('-------------------')\n",
    "\n",
    "for category in vandal_paper.category_urls():\n",
    "     print(category)\n",
    "\n",
    "print('-------------------') \n",
    "        \n",
    "for feed_url in vandal_paper.feed_urls():\n",
    "     print(feed_url)'''\n"
   ]
  },
  {
   "cell_type": "code",
   "execution_count": 100,
   "metadata": {},
   "outputs": [
    {
     "data": {
      "text/plain": [
       "'elespanol'"
      ]
     },
     "execution_count": 100,
     "metadata": {},
     "output_type": "execute_result"
    }
   ],
   "source": [
    "vandal_paper.brand"
   ]
  },
  {
   "cell_type": "code",
   "execution_count": null,
   "metadata": {},
   "outputs": [],
   "source": []
  }
 ],
 "metadata": {
  "kernelspec": {
   "display_name": "Python [conda env:lab_env]",
   "language": "python",
   "name": "conda-env-lab_env-py"
  },
  "language_info": {
   "codemirror_mode": {
    "name": "ipython",
    "version": 3
   },
   "file_extension": ".py",
   "mimetype": "text/x-python",
   "name": "python",
   "nbconvert_exporter": "python",
   "pygments_lexer": "ipython3",
   "version": "3.7.3"
  }
 },
 "nbformat": 4,
 "nbformat_minor": 4
}
