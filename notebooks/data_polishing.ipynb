{
 "cells": [
  {
   "cell_type": "markdown",
   "metadata": {},
   "source": [
    "<div style=\"float:right; padding-top: 15px; padding-right: 15px\">\n",
    "    <div>\n",
    "        <a href=\"https://whiteboxml.com\">\n",
    "            <img src=\"https://whiteboxml.com/static/img/logo/black_bg_white.svg\" width=\"250\">\n",
    "        </a>\n",
    "    </div>\n",
    "</div>"
   ]
  },
  {
   "cell_type": "markdown",
   "metadata": {},
   "source": [
    "# Data Polishing 3 webs"
   ]
  },
  {
   "cell_type": "markdown",
   "metadata": {},
   "source": [
    "## 0. python imports"
   ]
  },
  {
   "cell_type": "code",
   "execution_count": 1,
   "metadata": {},
   "outputs": [],
   "source": [
    "import warnings\n",
    "\n",
    "import matplotlib.pyplot as plt\n",
    "import numpy as np\n",
    "import pandas as pd\n",
    "import spacy\n",
    "\n",
    "from hdbscan import HDBSCAN\n",
    "from spacy.lang.es.stop_words import STOP_WORDS\n",
    "from spacy.lang.es import Spanish\n",
    "from sklearn.feature_extraction.text import TfidfVectorizer\n",
    "from sklearn.metrics.pairwise import cosine_similarity\n",
    "from sklearn.utils import shuffle\n",
    "from umap import UMAP\n",
    "\n",
    "with warnings.catch_warnings():\n",
    "    warnings.simplefilter('ignore')"
   ]
  },
  {
   "cell_type": "markdown",
   "metadata": {},
   "source": [
    "## 1. data loading, merging and cleaning by site"
   ]
  },
  {
   "cell_type": "markdown",
   "metadata": {},
   "source": [
    "### Gamereactor"
   ]
  },
  {
   "cell_type": "code",
   "execution_count": 2,
   "metadata": {},
   "outputs": [],
   "source": [
    "gamereactor_df1 = pd.read_csv('../data/gamereactor_100l.csv')"
   ]
  },
  {
   "cell_type": "code",
   "execution_count": 3,
   "metadata": {},
   "outputs": [],
   "source": [
    "gamereactor_df2 = pd.read_csv('../data/gamereactor_100_500l.csv')"
   ]
  },
  {
   "cell_type": "code",
   "execution_count": 4,
   "metadata": {},
   "outputs": [],
   "source": [
    "gamereactor_df3 = pd.read_csv('../data/gamereactor_500_1249l.csv')"
   ]
  },
  {
   "cell_type": "code",
   "execution_count": 5,
   "metadata": {},
   "outputs": [],
   "source": [
    "gamereactor_data = [gamereactor_df1, gamereactor_df2, gamereactor_df3]\n",
    "gamereactor_df = pd.concat(gamereactor_data)"
   ]
  },
  {
   "cell_type": "code",
   "execution_count": 6,
   "metadata": {},
   "outputs": [
    {
     "name": "stdout",
     "output_type": "stream",
     "text": [
      "<class 'pandas.core.frame.DataFrame'>\n",
      "Int64Index: 1247 entries, 0 to 748\n",
      "Data columns (total 9 columns):\n",
      "site        1247 non-null object\n",
      "url_link    1247 non-null object\n",
      "author      1247 non-null object\n",
      "game        1247 non-null object\n",
      "company     1247 non-null object\n",
      "genre       1247 non-null object\n",
      "platform    1247 non-null object\n",
      "text        1247 non-null object\n",
      "score       1247 non-null float64\n",
      "dtypes: float64(1), object(8)\n",
      "memory usage: 97.4+ KB\n"
     ]
    }
   ],
   "source": [
    "gamereactor_df.info()"
   ]
  },
  {
   "cell_type": "code",
   "execution_count": 7,
   "metadata": {},
   "outputs": [
    {
     "data": {
      "text/html": [
       "<div>\n",
       "<style scoped>\n",
       "    .dataframe tbody tr th:only-of-type {\n",
       "        vertical-align: middle;\n",
       "    }\n",
       "\n",
       "    .dataframe tbody tr th {\n",
       "        vertical-align: top;\n",
       "    }\n",
       "\n",
       "    .dataframe thead th {\n",
       "        text-align: right;\n",
       "    }\n",
       "</style>\n",
       "<table border=\"1\" class=\"dataframe\">\n",
       "  <thead>\n",
       "    <tr style=\"text-align: right;\">\n",
       "      <th></th>\n",
       "      <th>score</th>\n",
       "    </tr>\n",
       "  </thead>\n",
       "  <tbody>\n",
       "    <tr>\n",
       "      <th>count</th>\n",
       "      <td>1247.000000</td>\n",
       "    </tr>\n",
       "    <tr>\n",
       "      <th>mean</th>\n",
       "      <td>7.461107</td>\n",
       "    </tr>\n",
       "    <tr>\n",
       "      <th>std</th>\n",
       "      <td>1.296329</td>\n",
       "    </tr>\n",
       "    <tr>\n",
       "      <th>min</th>\n",
       "      <td>2.000000</td>\n",
       "    </tr>\n",
       "    <tr>\n",
       "      <th>25%</th>\n",
       "      <td>7.000000</td>\n",
       "    </tr>\n",
       "    <tr>\n",
       "      <th>50%</th>\n",
       "      <td>8.000000</td>\n",
       "    </tr>\n",
       "    <tr>\n",
       "      <th>75%</th>\n",
       "      <td>8.000000</td>\n",
       "    </tr>\n",
       "    <tr>\n",
       "      <th>max</th>\n",
       "      <td>10.000000</td>\n",
       "    </tr>\n",
       "  </tbody>\n",
       "</table>\n",
       "</div>"
      ],
      "text/plain": [
       "             score\n",
       "count  1247.000000\n",
       "mean      7.461107\n",
       "std       1.296329\n",
       "min       2.000000\n",
       "25%       7.000000\n",
       "50%       8.000000\n",
       "75%       8.000000\n",
       "max      10.000000"
      ]
     },
     "execution_count": 7,
     "metadata": {},
     "output_type": "execute_result"
    }
   ],
   "source": [
    "gamereactor_df.describe()"
   ]
  },
  {
   "cell_type": "code",
   "execution_count": 10,
   "metadata": {},
   "outputs": [],
   "source": [
    "gamereactor_df = gamereactor_df.reset_index(drop=True)"
   ]
  },
  {
   "cell_type": "code",
   "execution_count": 20,
   "metadata": {},
   "outputs": [
    {
     "data": {
      "text/plain": [
       "False    1247\n",
       "dtype: int64"
      ]
     },
     "execution_count": 20,
     "metadata": {},
     "output_type": "execute_result"
    }
   ],
   "source": [
    "# Duplicates\n",
    "\n",
    "# gamereactor_df.duplicated().value_counts() - False    1247"
   ]
  },
  {
   "cell_type": "code",
   "execution_count": 8,
   "metadata": {},
   "outputs": [],
   "source": [
    "# Testing empties per column\n",
    "\n",
    "# (gamereactor_df['game'] == 'None').value_counts() - False 1247\n",
    "# (gamereactor_df['site'] == 'None').value_counts() - False 1247\n",
    "# (gamereactor_df['author'] == 'None').value_counts() - False 1247\n",
    "# (gamereactor_df['url_link'] == 'None').value_counts() - False 1247\n",
    "# (gamereactor_df['company'] == 'None').value_counts() - False 1122 / True 125\n",
    "# (gamereactor_df['genre'] == 'None').value_counts() - False 1233 / True 14\n",
    "# (gamereactor_df['platform'] == 'None').value_counts() - False 1230 / True 17\n",
    "# (gamereactor_df['score'] == 'None').value_counts() - False 1247\n"
   ]
  },
  {
   "cell_type": "code",
   "execution_count": 45,
   "metadata": {},
   "outputs": [
    {
     "data": {
      "text/html": [
       "<div>\n",
       "<style scoped>\n",
       "    .dataframe tbody tr th:only-of-type {\n",
       "        vertical-align: middle;\n",
       "    }\n",
       "\n",
       "    .dataframe tbody tr th {\n",
       "        vertical-align: top;\n",
       "    }\n",
       "\n",
       "    .dataframe thead th {\n",
       "        text-align: right;\n",
       "    }\n",
       "</style>\n",
       "<table border=\"1\" class=\"dataframe\">\n",
       "  <thead>\n",
       "    <tr style=\"text-align: right;\">\n",
       "      <th></th>\n",
       "      <th>site</th>\n",
       "      <th>url_link</th>\n",
       "      <th>author</th>\n",
       "      <th>game</th>\n",
       "      <th>company</th>\n",
       "      <th>genre</th>\n",
       "      <th>platform</th>\n",
       "      <th>text</th>\n",
       "      <th>score</th>\n",
       "    </tr>\n",
       "  </thead>\n",
       "  <tbody>\n",
       "    <tr>\n",
       "      <th>0</th>\n",
       "      <td>Gamereactor</td>\n",
       "      <td>https://www.gamereactor.es/squad-analisis/?sid...</td>\n",
       "      <td>Mike Holmes</td>\n",
       "      <td>Squad</td>\n",
       "      <td>None</td>\n",
       "      <td>Acción</td>\n",
       "      <td>PC</td>\n",
       "      <td>Anda que no ha llovido desde que jugamos Squad...</td>\n",
       "      <td>8.0</td>\n",
       "    </tr>\n",
       "    <tr>\n",
       "      <th>1</th>\n",
       "      <td>Gamereactor</td>\n",
       "      <td>https://www.gamereactor.es/super-mario-bros-35...</td>\n",
       "      <td>Sergio Figueroa</td>\n",
       "      <td>Super Mario Bros. 35 - Battle Royale</td>\n",
       "      <td>Nintendo</td>\n",
       "      <td>Plataformas</td>\n",
       "      <td>Nintendo Switch</td>\n",
       "      <td>No se habían olvidado de él, lo que pasaba es ...</td>\n",
       "      <td>7.0</td>\n",
       "    </tr>\n",
       "    <tr>\n",
       "      <th>2</th>\n",
       "      <td>Gamereactor</td>\n",
       "      <td>https://www.gamereactor.es/crash-bandicoot-4-i...</td>\n",
       "      <td>Eirik Hyldbakk Furu</td>\n",
       "      <td>Crash Bandicoot 4: It's About Time</td>\n",
       "      <td>Activision</td>\n",
       "      <td>Plataformas</td>\n",
       "      <td>PS4, Xbox One</td>\n",
       "      <td>Aunque creo que Ford se pasó un poco con la ca...</td>\n",
       "      <td>8.0</td>\n",
       "    </tr>\n",
       "    <tr>\n",
       "      <th>3</th>\n",
       "      <td>Gamereactor</td>\n",
       "      <td>https://www.gamereactor.es/star-wars-squadrons...</td>\n",
       "      <td>Mike Holmes</td>\n",
       "      <td>Star Wars: Squadrons</td>\n",
       "      <td>Electronic Arts</td>\n",
       "      <td>Acción</td>\n",
       "      <td>PC, PS4, Xbox One</td>\n",
       "      <td>Squadrons es una nueva esperanza de EA para sa...</td>\n",
       "      <td>7.0</td>\n",
       "    </tr>\n",
       "    <tr>\n",
       "      <th>4</th>\n",
       "      <td>Gamereactor</td>\n",
       "      <td>https://www.gamereactor.es/art-of-rally-analis...</td>\n",
       "      <td>Petter Hegevall</td>\n",
       "      <td>Art of Rally</td>\n",
       "      <td>Funselektor Labs Inc</td>\n",
       "      <td>Carreras</td>\n",
       "      <td>PC</td>\n",
       "      <td>Este estilo tan estilo con el que Art of Rally...</td>\n",
       "      <td>7.0</td>\n",
       "    </tr>\n",
       "    <tr>\n",
       "      <th>5</th>\n",
       "      <td>Gamereactor</td>\n",
       "      <td>https://www.gamereactor.es/kirby-fighters-2-an...</td>\n",
       "      <td>Alberto Garrido</td>\n",
       "      <td>Kirby Fighters 2</td>\n",
       "      <td>Nintendo</td>\n",
       "      <td>Acción</td>\n",
       "      <td>Nintendo Switch</td>\n",
       "      <td>Se filtró su lanzamiento unas horas antes de s...</td>\n",
       "      <td>6.0</td>\n",
       "    </tr>\n",
       "    <tr>\n",
       "      <th>6</th>\n",
       "      <td>Gamereactor</td>\n",
       "      <td>https://www.gamereactor.es/serious-sam-4-plane...</td>\n",
       "      <td>Kieran Harris</td>\n",
       "      <td>Serious Sam 4: Planet Badass</td>\n",
       "      <td>Devolver Digital</td>\n",
       "      <td>Acción</td>\n",
       "      <td>PC, Stadia</td>\n",
       "      <td>La explosiva y ridículamente exagerada serie d...</td>\n",
       "      <td>4.0</td>\n",
       "    </tr>\n",
       "    <tr>\n",
       "      <th>7</th>\n",
       "      <td>Gamereactor</td>\n",
       "      <td>https://www.gamereactor.es/niche-analisis/?sid...</td>\n",
       "      <td>Clover Harker</td>\n",
       "      <td>Niche</td>\n",
       "      <td>None</td>\n",
       "      <td>Simulación</td>\n",
       "      <td>Android, iOS, Linux, Mac, PC</td>\n",
       "      <td>Allá por 2016, probamos suerte con Niche (cuan...</td>\n",
       "      <td>9.0</td>\n",
       "    </tr>\n",
       "    <tr>\n",
       "      <th>8</th>\n",
       "      <td>Gamereactor</td>\n",
       "      <td>https://www.gamereactor.es/port-royale-4-anali...</td>\n",
       "      <td>Marco Vrolijk</td>\n",
       "      <td>Port Royale 4</td>\n",
       "      <td>Kalypso Media</td>\n",
       "      <td>Estrategia</td>\n",
       "      <td>PC</td>\n",
       "      <td>Como amante de los juegos en los que toca leva...</td>\n",
       "      <td>7.0</td>\n",
       "    </tr>\n",
       "    <tr>\n",
       "      <th>9</th>\n",
       "      <td>Gamereactor</td>\n",
       "      <td>https://www.gamereactor.es/the-outer-worlds-pe...</td>\n",
       "      <td>Roy Woodhouse</td>\n",
       "      <td>The Outer Worlds: Peligro en Gorgona</td>\n",
       "      <td>Private Division</td>\n",
       "      <td>Acción</td>\n",
       "      <td>Nintendo Switch, PC, PS4, Xbox One</td>\n",
       "      <td>Como os pasó a muchos en 2019 y a otros tantos...</td>\n",
       "      <td>7.0</td>\n",
       "    </tr>\n",
       "  </tbody>\n",
       "</table>\n",
       "</div>"
      ],
      "text/plain": [
       "          site                                           url_link  \\\n",
       "0  Gamereactor  https://www.gamereactor.es/squad-analisis/?sid...   \n",
       "1  Gamereactor  https://www.gamereactor.es/super-mario-bros-35...   \n",
       "2  Gamereactor  https://www.gamereactor.es/crash-bandicoot-4-i...   \n",
       "3  Gamereactor  https://www.gamereactor.es/star-wars-squadrons...   \n",
       "4  Gamereactor  https://www.gamereactor.es/art-of-rally-analis...   \n",
       "5  Gamereactor  https://www.gamereactor.es/kirby-fighters-2-an...   \n",
       "6  Gamereactor  https://www.gamereactor.es/serious-sam-4-plane...   \n",
       "7  Gamereactor  https://www.gamereactor.es/niche-analisis/?sid...   \n",
       "8  Gamereactor  https://www.gamereactor.es/port-royale-4-anali...   \n",
       "9  Gamereactor  https://www.gamereactor.es/the-outer-worlds-pe...   \n",
       "\n",
       "                author                                  game  \\\n",
       "0          Mike Holmes                                 Squad   \n",
       "1      Sergio Figueroa  Super Mario Bros. 35 - Battle Royale   \n",
       "2  Eirik Hyldbakk Furu    Crash Bandicoot 4: It's About Time   \n",
       "3          Mike Holmes                  Star Wars: Squadrons   \n",
       "4      Petter Hegevall                          Art of Rally   \n",
       "5      Alberto Garrido                      Kirby Fighters 2   \n",
       "6        Kieran Harris          Serious Sam 4: Planet Badass   \n",
       "7        Clover Harker                                 Niche   \n",
       "8        Marco Vrolijk                         Port Royale 4   \n",
       "9        Roy Woodhouse  The Outer Worlds: Peligro en Gorgona   \n",
       "\n",
       "                company        genre                             platform  \\\n",
       "0                  None       Acción                                   PC   \n",
       "1              Nintendo  Plataformas                      Nintendo Switch   \n",
       "2            Activision  Plataformas                        PS4, Xbox One   \n",
       "3       Electronic Arts       Acción                    PC, PS4, Xbox One   \n",
       "4  Funselektor Labs Inc     Carreras                                   PC   \n",
       "5              Nintendo       Acción                      Nintendo Switch   \n",
       "6      Devolver Digital       Acción                           PC, Stadia   \n",
       "7                  None   Simulación         Android, iOS, Linux, Mac, PC   \n",
       "8         Kalypso Media   Estrategia                                   PC   \n",
       "9      Private Division       Acción   Nintendo Switch, PC, PS4, Xbox One   \n",
       "\n",
       "                                                text  score  \n",
       "0  Anda que no ha llovido desde que jugamos Squad...    8.0  \n",
       "1  No se habían olvidado de él, lo que pasaba es ...    7.0  \n",
       "2  Aunque creo que Ford se pasó un poco con la ca...    8.0  \n",
       "3  Squadrons es una nueva esperanza de EA para sa...    7.0  \n",
       "4  Este estilo tan estilo con el que Art of Rally...    7.0  \n",
       "5  Se filtró su lanzamiento unas horas antes de s...    6.0  \n",
       "6  La explosiva y ridículamente exagerada serie d...    4.0  \n",
       "7  Allá por 2016, probamos suerte con Niche (cuan...    9.0  \n",
       "8  Como amante de los juegos en los que toca leva...    7.0  \n",
       "9  Como os pasó a muchos en 2019 y a otros tantos...    7.0  "
      ]
     },
     "execution_count": 45,
     "metadata": {},
     "output_type": "execute_result"
    }
   ],
   "source": [
    "gamereactor_df.head(10)"
   ]
  },
  {
   "cell_type": "markdown",
   "metadata": {},
   "source": [
    "*Observations:*\n",
    "- Many Company nones (10%)\n",
    "- Few Genre and Platform nones (1%/2%)"
   ]
  },
  {
   "cell_type": "markdown",
   "metadata": {},
   "source": [
    "### Meristation"
   ]
  },
  {
   "cell_type": "code",
   "execution_count": 22,
   "metadata": {},
   "outputs": [
    {
     "data": {
      "text/html": [
       "<div>\n",
       "<style scoped>\n",
       "    .dataframe tbody tr th:only-of-type {\n",
       "        vertical-align: middle;\n",
       "    }\n",
       "\n",
       "    .dataframe tbody tr th {\n",
       "        vertical-align: top;\n",
       "    }\n",
       "\n",
       "    .dataframe thead th {\n",
       "        text-align: right;\n",
       "    }\n",
       "</style>\n",
       "<table border=\"1\" class=\"dataframe\">\n",
       "  <thead>\n",
       "    <tr style=\"text-align: right;\">\n",
       "      <th></th>\n",
       "      <th>site</th>\n",
       "      <th>url_link</th>\n",
       "      <th>author</th>\n",
       "      <th>game</th>\n",
       "      <th>company</th>\n",
       "      <th>genre</th>\n",
       "      <th>platform</th>\n",
       "      <th>text</th>\n",
       "      <th>score</th>\n",
       "    </tr>\n",
       "  </thead>\n",
       "  <tbody>\n",
       "    <tr>\n",
       "      <th>0</th>\n",
       "      <td>meristation</td>\n",
       "      <td>https://as.com/meristation/2020/10/05/analisis...</td>\n",
       "      <td>Carlos Forcada</td>\n",
       "      <td>OkunoKA Madness</td>\n",
       "      <td>Ignition Entertainment</td>\n",
       "      <td>Plataformas</td>\n",
       "      <td>XBO NSW PS4 PC</td>\n",
       "      <td>\\n\\n Aunque parece que están ahí casi siempre,...</td>\n",
       "      <td>7.4</td>\n",
       "    </tr>\n",
       "    <tr>\n",
       "      <th>1</th>\n",
       "      <td>meristation</td>\n",
       "      <td>https://as.com/meristation/2020/10/03/analisis...</td>\n",
       "      <td>Cristian Ciuraneta</td>\n",
       "      <td>art of rally</td>\n",
       "      <td>Funselektor</td>\n",
       "      <td>Conducción</td>\n",
       "      <td>PC</td>\n",
       "      <td>Los fans de los videojuegos de carreras están ...</td>\n",
       "      <td>7.5</td>\n",
       "    </tr>\n",
       "    <tr>\n",
       "      <th>2</th>\n",
       "      <td>meristation</td>\n",
       "      <td>https://as.com/meristation/2020/10/01/analisis...</td>\n",
       "      <td>Sergio C. González\\nSergio5Glez</td>\n",
       "      <td>Crash Bandicoot 4: It's About Time</td>\n",
       "      <td>Activision</td>\n",
       "      <td>Plataformas</td>\n",
       "      <td>PS4 XBO</td>\n",
       "      <td>\\n\\n Crash Bandicoot N. Sane Trilogy fue toda ...</td>\n",
       "      <td>8.3</td>\n",
       "    </tr>\n",
       "  </tbody>\n",
       "</table>\n",
       "</div>"
      ],
      "text/plain": [
       "          site                                           url_link  \\\n",
       "0  meristation  https://as.com/meristation/2020/10/05/analisis...   \n",
       "1  meristation  https://as.com/meristation/2020/10/03/analisis...   \n",
       "2  meristation  https://as.com/meristation/2020/10/01/analisis...   \n",
       "\n",
       "                            author                                game  \\\n",
       "0                   Carlos Forcada                     OkunoKA Madness   \n",
       "1               Cristian Ciuraneta                        art of rally   \n",
       "2  Sergio C. González\\nSergio5Glez  Crash Bandicoot 4: It's About Time   \n",
       "\n",
       "                  company                            genre        platform  \\\n",
       "0  Ignition Entertainment  Plataformas                      XBO NSW PS4 PC   \n",
       "1             Funselektor   Conducción                                  PC   \n",
       "2              Activision  Plataformas                             PS4 XBO   \n",
       "\n",
       "                                                text  score  \n",
       "0  \\n\\n Aunque parece que están ahí casi siempre,...    7.4  \n",
       "1  Los fans de los videojuegos de carreras están ...    7.5  \n",
       "2  \\n\\n Crash Bandicoot N. Sane Trilogy fue toda ...    8.3  "
      ]
     },
     "execution_count": 22,
     "metadata": {},
     "output_type": "execute_result"
    }
   ],
   "source": [
    "meristation_df = pd.read_csv('../data/meristation_50p.csv')"
   ]
  },
  {
   "cell_type": "code",
   "execution_count": 24,
   "metadata": {},
   "outputs": [
    {
     "name": "stdout",
     "output_type": "stream",
     "text": [
      "<class 'pandas.core.frame.DataFrame'>\n",
      "RangeIndex: 1441 entries, 0 to 1440\n",
      "Data columns (total 9 columns):\n",
      "site        1441 non-null object\n",
      "url_link    1441 non-null object\n",
      "author      1441 non-null object\n",
      "game        1441 non-null object\n",
      "company     1441 non-null object\n",
      "genre       1441 non-null object\n",
      "platform    1441 non-null object\n",
      "text        1441 non-null object\n",
      "score       1441 non-null float64\n",
      "dtypes: float64(1), object(8)\n",
      "memory usage: 101.4+ KB\n"
     ]
    }
   ],
   "source": [
    "meristation_df.info()"
   ]
  },
  {
   "cell_type": "code",
   "execution_count": 26,
   "metadata": {},
   "outputs": [
    {
     "data": {
      "text/html": [
       "<div>\n",
       "<style scoped>\n",
       "    .dataframe tbody tr th:only-of-type {\n",
       "        vertical-align: middle;\n",
       "    }\n",
       "\n",
       "    .dataframe tbody tr th {\n",
       "        vertical-align: top;\n",
       "    }\n",
       "\n",
       "    .dataframe thead th {\n",
       "        text-align: right;\n",
       "    }\n",
       "</style>\n",
       "<table border=\"1\" class=\"dataframe\">\n",
       "  <thead>\n",
       "    <tr style=\"text-align: right;\">\n",
       "      <th></th>\n",
       "      <th>score</th>\n",
       "    </tr>\n",
       "  </thead>\n",
       "  <tbody>\n",
       "    <tr>\n",
       "      <th>count</th>\n",
       "      <td>1441.000000</td>\n",
       "    </tr>\n",
       "    <tr>\n",
       "      <th>mean</th>\n",
       "      <td>7.552117</td>\n",
       "    </tr>\n",
       "    <tr>\n",
       "      <th>std</th>\n",
       "      <td>1.186901</td>\n",
       "    </tr>\n",
       "    <tr>\n",
       "      <th>min</th>\n",
       "      <td>1.000000</td>\n",
       "    </tr>\n",
       "    <tr>\n",
       "      <th>25%</th>\n",
       "      <td>7.000000</td>\n",
       "    </tr>\n",
       "    <tr>\n",
       "      <th>50%</th>\n",
       "      <td>7.700000</td>\n",
       "    </tr>\n",
       "    <tr>\n",
       "      <th>75%</th>\n",
       "      <td>8.500000</td>\n",
       "    </tr>\n",
       "    <tr>\n",
       "      <th>max</th>\n",
       "      <td>10.000000</td>\n",
       "    </tr>\n",
       "  </tbody>\n",
       "</table>\n",
       "</div>"
      ],
      "text/plain": [
       "             score\n",
       "count  1441.000000\n",
       "mean      7.552117\n",
       "std       1.186901\n",
       "min       1.000000\n",
       "25%       7.000000\n",
       "50%       7.700000\n",
       "75%       8.500000\n",
       "max      10.000000"
      ]
     },
     "execution_count": 26,
     "metadata": {},
     "output_type": "execute_result"
    }
   ],
   "source": [
    "meristation_df.describe()"
   ]
  },
  {
   "cell_type": "code",
   "execution_count": 29,
   "metadata": {},
   "outputs": [
    {
     "data": {
      "text/plain": [
       "False    1441\n",
       "dtype: int64"
      ]
     },
     "execution_count": 29,
     "metadata": {},
     "output_type": "execute_result"
    }
   ],
   "source": [
    "# Duplicates\n",
    "\n",
    "#meristation_df.duplicated().value_counts()# - False 1441"
   ]
  },
  {
   "cell_type": "code",
   "execution_count": 39,
   "metadata": {},
   "outputs": [],
   "source": [
    "# Testing empties per column\n",
    "\n",
    "# (meristation_df['game'] == 'None').value_counts()# - False 1441\n",
    "# (meristation_df['site'] == 'None').value_counts()# - False 1441\n",
    "# (meristation_df['author'] == 'None').value_counts()# - False 1308 / True 133\n",
    "# (meristation_df['url_link'] == 'None').value_counts()# - False 1441\n",
    "# (meristation_df['company'] == 'None').value_counts()# - False 1278 / True 163\n",
    "# (meristation_df['genre'] == 'None').value_counts()# - False 1429 / True 12\n",
    "# (meristation_df['platform'] == 'None').value_counts()# - False 1441\n",
    "# (meristation_df['score'] == 'None').value_counts()# - False 1441"
   ]
  },
  {
   "cell_type": "code",
   "execution_count": 44,
   "metadata": {},
   "outputs": [
    {
     "data": {
      "text/html": [
       "<div>\n",
       "<style scoped>\n",
       "    .dataframe tbody tr th:only-of-type {\n",
       "        vertical-align: middle;\n",
       "    }\n",
       "\n",
       "    .dataframe tbody tr th {\n",
       "        vertical-align: top;\n",
       "    }\n",
       "\n",
       "    .dataframe thead th {\n",
       "        text-align: right;\n",
       "    }\n",
       "</style>\n",
       "<table border=\"1\" class=\"dataframe\">\n",
       "  <thead>\n",
       "    <tr style=\"text-align: right;\">\n",
       "      <th></th>\n",
       "      <th>site</th>\n",
       "      <th>url_link</th>\n",
       "      <th>author</th>\n",
       "      <th>game</th>\n",
       "      <th>company</th>\n",
       "      <th>genre</th>\n",
       "      <th>platform</th>\n",
       "      <th>text</th>\n",
       "      <th>score</th>\n",
       "    </tr>\n",
       "  </thead>\n",
       "  <tbody>\n",
       "    <tr>\n",
       "      <th>0</th>\n",
       "      <td>meristation</td>\n",
       "      <td>https://as.com/meristation/2020/10/05/analisis...</td>\n",
       "      <td>Carlos Forcada</td>\n",
       "      <td>OkunoKA Madness</td>\n",
       "      <td>Ignition Entertainment</td>\n",
       "      <td>Plataformas</td>\n",
       "      <td>XBO NSW PS4 PC</td>\n",
       "      <td>\\n\\n Aunque parece que están ahí casi siempre,...</td>\n",
       "      <td>7.4</td>\n",
       "    </tr>\n",
       "    <tr>\n",
       "      <th>1</th>\n",
       "      <td>meristation</td>\n",
       "      <td>https://as.com/meristation/2020/10/03/analisis...</td>\n",
       "      <td>Cristian Ciuraneta</td>\n",
       "      <td>art of rally</td>\n",
       "      <td>Funselektor</td>\n",
       "      <td>Conducción</td>\n",
       "      <td>PC</td>\n",
       "      <td>Los fans de los videojuegos de carreras están ...</td>\n",
       "      <td>7.5</td>\n",
       "    </tr>\n",
       "    <tr>\n",
       "      <th>2</th>\n",
       "      <td>meristation</td>\n",
       "      <td>https://as.com/meristation/2020/10/01/analisis...</td>\n",
       "      <td>Sergio C. González\\nSergio5Glez</td>\n",
       "      <td>Crash Bandicoot 4: It's About Time</td>\n",
       "      <td>Activision</td>\n",
       "      <td>Plataformas</td>\n",
       "      <td>PS4 XBO</td>\n",
       "      <td>\\n\\n Crash Bandicoot N. Sane Trilogy fue toda ...</td>\n",
       "      <td>8.3</td>\n",
       "    </tr>\n",
       "    <tr>\n",
       "      <th>3</th>\n",
       "      <td>meristation</td>\n",
       "      <td>https://as.com/meristation/2020/09/30/analisis...</td>\n",
       "      <td>David Arroyo</td>\n",
       "      <td>WWE 2K Battlegrounds</td>\n",
       "      <td>2K Games</td>\n",
       "      <td>Acción</td>\n",
       "      <td>NSW STD PS4 XBO PC</td>\n",
       "      <td>Superar una ruptura lleva tiempo. Nunca es fác...</td>\n",
       "      <td>5.7</td>\n",
       "    </tr>\n",
       "    <tr>\n",
       "      <th>4</th>\n",
       "      <td>meristation</td>\n",
       "      <td>https://as.com/meristation/2020/09/29/analisis...</td>\n",
       "      <td>César Otero</td>\n",
       "      <td>Maid of Sker</td>\n",
       "      <td>Wales Interactive</td>\n",
       "      <td>Aventura</td>\n",
       "      <td>PC NSW PS4 XBO</td>\n",
       "      <td>\"Un consejo, señor, no se acerque nunca al lag...</td>\n",
       "      <td>6.8</td>\n",
       "    </tr>\n",
       "    <tr>\n",
       "      <th>5</th>\n",
       "      <td>meristation</td>\n",
       "      <td>https://as.com/meristation/2020/09/29/analisis...</td>\n",
       "      <td>Azucena Ruíz</td>\n",
       "      <td>Pathfinder: Kingmaker</td>\n",
       "      <td>Deep Silver</td>\n",
       "      <td>RPG, Acción</td>\n",
       "      <td>PC PS4 XBO</td>\n",
       "      <td>Pathfinder: Kingmaker empezó, como muchos jueg...</td>\n",
       "      <td>7.5</td>\n",
       "    </tr>\n",
       "    <tr>\n",
       "      <th>6</th>\n",
       "      <td>meristation</td>\n",
       "      <td>https://as.com/meristation/2020/09/28/analisis...</td>\n",
       "      <td>Francisco J. Brenlla\\nfranchuzas</td>\n",
       "      <td>The Outer Worlds: Peril on Gorgon</td>\n",
       "      <td>Private Division</td>\n",
       "      <td>Acción, RPG</td>\n",
       "      <td>PC PS4 XBO</td>\n",
       "      <td>El anuncio de que Tim Cain y Leonard Boyarsky ...</td>\n",
       "      <td>7.5</td>\n",
       "    </tr>\n",
       "    <tr>\n",
       "      <th>7</th>\n",
       "      <td>meristation</td>\n",
       "      <td>https://as.com/meristation/2020/09/26/analisis...</td>\n",
       "      <td>Nacho Requena\\nnachomol</td>\n",
       "      <td>Commandos 2 &amp; Praetorians HD Remaster Double Pack</td>\n",
       "      <td>Kalypso Media</td>\n",
       "      <td>Estrategia, Tiempo real</td>\n",
       "      <td>PC PS4 XBO</td>\n",
       "      <td>Hubo un tiempo en el que todo lo que tocaba o ...</td>\n",
       "      <td>7.0</td>\n",
       "    </tr>\n",
       "    <tr>\n",
       "      <th>8</th>\n",
       "      <td>meristation</td>\n",
       "      <td>https://as.com/meristation/2020/09/26/analisis...</td>\n",
       "      <td>Marta Oller\\nmartaaax00</td>\n",
       "      <td>Here Be Dragons</td>\n",
       "      <td>Red Zero Games</td>\n",
       "      <td>Estrategia, Por turnos</td>\n",
       "      <td>NSW PC IPH IPD AND</td>\n",
       "      <td>Como bien citaba el poeta José Espronceda lo d...</td>\n",
       "      <td>6.5</td>\n",
       "    </tr>\n",
       "    <tr>\n",
       "      <th>9</th>\n",
       "      <td>meristation</td>\n",
       "      <td>https://as.com/meristation/2020/09/25/analisis...</td>\n",
       "      <td>Jose Luis López de Garayo</td>\n",
       "      <td>Hades</td>\n",
       "      <td>Supergiant Games</td>\n",
       "      <td>Aventura, Acción</td>\n",
       "      <td>PC NSW</td>\n",
       "      <td>Supergiant Games sigue un patrón muy claro. Di...</td>\n",
       "      <td>9.3</td>\n",
       "    </tr>\n",
       "  </tbody>\n",
       "</table>\n",
       "</div>"
      ],
      "text/plain": [
       "          site                                           url_link  \\\n",
       "0  meristation  https://as.com/meristation/2020/10/05/analisis...   \n",
       "1  meristation  https://as.com/meristation/2020/10/03/analisis...   \n",
       "2  meristation  https://as.com/meristation/2020/10/01/analisis...   \n",
       "3  meristation  https://as.com/meristation/2020/09/30/analisis...   \n",
       "4  meristation  https://as.com/meristation/2020/09/29/analisis...   \n",
       "5  meristation  https://as.com/meristation/2020/09/29/analisis...   \n",
       "6  meristation  https://as.com/meristation/2020/09/28/analisis...   \n",
       "7  meristation  https://as.com/meristation/2020/09/26/analisis...   \n",
       "8  meristation  https://as.com/meristation/2020/09/26/analisis...   \n",
       "9  meristation  https://as.com/meristation/2020/09/25/analisis...   \n",
       "\n",
       "                             author  \\\n",
       "0                    Carlos Forcada   \n",
       "1                Cristian Ciuraneta   \n",
       "2   Sergio C. González\\nSergio5Glez   \n",
       "3                      David Arroyo   \n",
       "4                       César Otero   \n",
       "5                      Azucena Ruíz   \n",
       "6  Francisco J. Brenlla\\nfranchuzas   \n",
       "7           Nacho Requena\\nnachomol   \n",
       "8           Marta Oller\\nmartaaax00   \n",
       "9         Jose Luis López de Garayo   \n",
       "\n",
       "                                                game                 company  \\\n",
       "0                                    OkunoKA Madness  Ignition Entertainment   \n",
       "1                                       art of rally             Funselektor   \n",
       "2                 Crash Bandicoot 4: It's About Time              Activision   \n",
       "3                               WWE 2K Battlegrounds                2K Games   \n",
       "4                                       Maid of Sker       Wales Interactive   \n",
       "5                              Pathfinder: Kingmaker             Deep Silver   \n",
       "6                  The Outer Worlds: Peril on Gorgon        Private Division   \n",
       "7  Commandos 2 & Praetorians HD Remaster Double Pack           Kalypso Media   \n",
       "8                                    Here Be Dragons          Red Zero Games   \n",
       "9                                              Hades        Supergiant Games   \n",
       "\n",
       "                                         genre            platform  \\\n",
       "0              Plataformas                          XBO NSW PS4 PC   \n",
       "1               Conducción                                      PC   \n",
       "2              Plataformas                                 PS4 XBO   \n",
       "3                   Acción                      NSW STD PS4 XBO PC   \n",
       "4                 Aventura                          PC NSW PS4 XBO   \n",
       "5              RPG, Acción                              PC PS4 XBO   \n",
       "6              Acción, RPG                              PC PS4 XBO   \n",
       "7  Estrategia, Tiempo real                              PC PS4 XBO   \n",
       "8   Estrategia, Por turnos                      NSW PC IPH IPD AND   \n",
       "9         Aventura, Acción                                  PC NSW   \n",
       "\n",
       "                                                text  score  \n",
       "0  \\n\\n Aunque parece que están ahí casi siempre,...    7.4  \n",
       "1  Los fans de los videojuegos de carreras están ...    7.5  \n",
       "2  \\n\\n Crash Bandicoot N. Sane Trilogy fue toda ...    8.3  \n",
       "3  Superar una ruptura lleva tiempo. Nunca es fác...    5.7  \n",
       "4  \"Un consejo, señor, no se acerque nunca al lag...    6.8  \n",
       "5  Pathfinder: Kingmaker empezó, como muchos jueg...    7.5  \n",
       "6  El anuncio de que Tim Cain y Leonard Boyarsky ...    7.5  \n",
       "7  Hubo un tiempo en el que todo lo que tocaba o ...    7.0  \n",
       "8  Como bien citaba el poeta José Espronceda lo d...    6.5  \n",
       "9  Supergiant Games sigue un patrón muy claro. Di...    9.3  "
      ]
     },
     "execution_count": 44,
     "metadata": {},
     "output_type": "execute_result"
    }
   ],
   "source": [
    "meristation_df.head(10)"
   ]
  },
  {
   "cell_type": "markdown",
   "metadata": {},
   "source": [
    "*Observations:*\n",
    "- Many Author and Company nones (10%)\n",
    "- Few Genre (1%)\n",
    "- Platform names poor labeling"
   ]
  },
  {
   "cell_type": "markdown",
   "metadata": {},
   "source": [
    "### Revogamers"
   ]
  },
  {
   "cell_type": "code",
   "execution_count": 40,
   "metadata": {},
   "outputs": [],
   "source": [
    "revogamers_df1 = pd.read_csv('../data/revogamers_100l.csv')"
   ]
  },
  {
   "cell_type": "code",
   "execution_count": 41,
   "metadata": {},
   "outputs": [],
   "source": [
    "revogamers_df2 = pd.read_csv('../data/revogamers_100_500l.csv')"
   ]
  },
  {
   "cell_type": "code",
   "execution_count": 42,
   "metadata": {},
   "outputs": [],
   "source": [
    "revogamers_df3 = pd.read_csv('../data/revogamers_500_999l.csv')"
   ]
  },
  {
   "cell_type": "code",
   "execution_count": 43,
   "metadata": {},
   "outputs": [],
   "source": [
    "revogamers_data = [revogamers_df1, revogamers_df2, revogamers_df3]\n",
    "revogamers_df = pd.concat(revogamers_data)"
   ]
  },
  {
   "cell_type": "code",
   "execution_count": 47,
   "metadata": {},
   "outputs": [
    {
     "name": "stdout",
     "output_type": "stream",
     "text": [
      "<class 'pandas.core.frame.DataFrame'>\n",
      "Int64Index: 863 entries, 0 to 394\n",
      "Data columns (total 9 columns):\n",
      "site        863 non-null object\n",
      "url_link    863 non-null object\n",
      "author      863 non-null object\n",
      "game        863 non-null object\n",
      "company     863 non-null object\n",
      "genre       863 non-null object\n",
      "platform    863 non-null object\n",
      "text        862 non-null object\n",
      "score       863 non-null float64\n",
      "dtypes: float64(1), object(8)\n",
      "memory usage: 67.4+ KB\n"
     ]
    }
   ],
   "source": [
    "revogamers_df.info()"
   ]
  },
  {
   "cell_type": "code",
   "execution_count": 48,
   "metadata": {},
   "outputs": [
    {
     "data": {
      "text/html": [
       "<div>\n",
       "<style scoped>\n",
       "    .dataframe tbody tr th:only-of-type {\n",
       "        vertical-align: middle;\n",
       "    }\n",
       "\n",
       "    .dataframe tbody tr th {\n",
       "        vertical-align: top;\n",
       "    }\n",
       "\n",
       "    .dataframe thead th {\n",
       "        text-align: right;\n",
       "    }\n",
       "</style>\n",
       "<table border=\"1\" class=\"dataframe\">\n",
       "  <thead>\n",
       "    <tr style=\"text-align: right;\">\n",
       "      <th></th>\n",
       "      <th>score</th>\n",
       "    </tr>\n",
       "  </thead>\n",
       "  <tbody>\n",
       "    <tr>\n",
       "      <th>count</th>\n",
       "      <td>863.000000</td>\n",
       "    </tr>\n",
       "    <tr>\n",
       "      <th>mean</th>\n",
       "      <td>7.164311</td>\n",
       "    </tr>\n",
       "    <tr>\n",
       "      <th>std</th>\n",
       "      <td>1.257691</td>\n",
       "    </tr>\n",
       "    <tr>\n",
       "      <th>min</th>\n",
       "      <td>0.000000</td>\n",
       "    </tr>\n",
       "    <tr>\n",
       "      <th>25%</th>\n",
       "      <td>6.500000</td>\n",
       "    </tr>\n",
       "    <tr>\n",
       "      <th>50%</th>\n",
       "      <td>7.500000</td>\n",
       "    </tr>\n",
       "    <tr>\n",
       "      <th>75%</th>\n",
       "      <td>8.000000</td>\n",
       "    </tr>\n",
       "    <tr>\n",
       "      <th>max</th>\n",
       "      <td>10.000000</td>\n",
       "    </tr>\n",
       "  </tbody>\n",
       "</table>\n",
       "</div>"
      ],
      "text/plain": [
       "            score\n",
       "count  863.000000\n",
       "mean     7.164311\n",
       "std      1.257691\n",
       "min      0.000000\n",
       "25%      6.500000\n",
       "50%      7.500000\n",
       "75%      8.000000\n",
       "max     10.000000"
      ]
     },
     "execution_count": 48,
     "metadata": {},
     "output_type": "execute_result"
    }
   ],
   "source": [
    "revogamers_df.describe()"
   ]
  },
  {
   "cell_type": "code",
   "execution_count": 49,
   "metadata": {},
   "outputs": [],
   "source": [
    "revogamers_df = revogamers_df.reset_index(drop=True)"
   ]
  },
  {
   "cell_type": "code",
   "execution_count": 50,
   "metadata": {},
   "outputs": [
    {
     "data": {
      "text/plain": [
       "False    863\n",
       "dtype: int64"
      ]
     },
     "execution_count": 50,
     "metadata": {},
     "output_type": "execute_result"
    }
   ],
   "source": [
    "# Duplicates\n",
    "\n",
    "#revogamers_df.duplicated().value_counts() - False 863"
   ]
  },
  {
   "cell_type": "code",
   "execution_count": 59,
   "metadata": {},
   "outputs": [],
   "source": [
    "# Testing empties per column\n",
    "\n",
    "# (revogamers_df['game'] == 'None').value_counts()# - False 863\n",
    "# (revogamers_df['site'] == 'None').value_counts()# - False 863\n",
    "# (revogamers_df['author'] == 'None').value_counts()# - False 863\n",
    "# (revogamers_df['url_link'] == 'None').value_counts()# - False 863\n",
    "# (revogamers_df['company'] == 'None').value_counts()# - False 402 / True 461\n",
    "# (revogamers_df['genre'] == 'None').value_counts()# - False 406 / True 457\n",
    "# (revogamers_df['platform'] == 'None').value_counts()# - False 863\n",
    "# (revogamers_df['score'] == 'None').value_counts()# - False 863\n"
   ]
  },
  {
   "cell_type": "code",
   "execution_count": 61,
   "metadata": {},
   "outputs": [
    {
     "data": {
      "text/html": [
       "<div>\n",
       "<style scoped>\n",
       "    .dataframe tbody tr th:only-of-type {\n",
       "        vertical-align: middle;\n",
       "    }\n",
       "\n",
       "    .dataframe tbody tr th {\n",
       "        vertical-align: top;\n",
       "    }\n",
       "\n",
       "    .dataframe thead th {\n",
       "        text-align: right;\n",
       "    }\n",
       "</style>\n",
       "<table border=\"1\" class=\"dataframe\">\n",
       "  <thead>\n",
       "    <tr style=\"text-align: right;\">\n",
       "      <th></th>\n",
       "      <th>site</th>\n",
       "      <th>url_link</th>\n",
       "      <th>author</th>\n",
       "      <th>game</th>\n",
       "      <th>company</th>\n",
       "      <th>genre</th>\n",
       "      <th>platform</th>\n",
       "      <th>text</th>\n",
       "      <th>score</th>\n",
       "    </tr>\n",
       "  </thead>\n",
       "  <tbody>\n",
       "    <tr>\n",
       "      <th>0</th>\n",
       "      <td>revogamers</td>\n",
       "      <td>https://www.revogamers.net/analisis-w/analisis...</td>\n",
       "      <td>Carlos Firás</td>\n",
       "      <td>Going Under</td>\n",
       "      <td>None</td>\n",
       "      <td>None</td>\n",
       "      <td>Nintendo Switch</td>\n",
       "      <td>Llega a nuestras Nintendo Switch un juego que ...</td>\n",
       "      <td>8.0</td>\n",
       "    </tr>\n",
       "    <tr>\n",
       "      <th>1</th>\n",
       "      <td>revogamers</td>\n",
       "      <td>https://www.revogamers.net/analisis-w/analisis...</td>\n",
       "      <td>Javier Aranda</td>\n",
       "      <td>Kirby Fighters 2</td>\n",
       "      <td>HAL Laboratory</td>\n",
       "      <td>Lucha</td>\n",
       "      <td>Nintendo Switch</td>\n",
       "      <td>Kirby ha demostrado en más de una ocasión que ...</td>\n",
       "      <td>7.5</td>\n",
       "    </tr>\n",
       "    <tr>\n",
       "      <th>2</th>\n",
       "      <td>revogamers</td>\n",
       "      <td>https://www.revogamers.net/analisis-w/analisis...</td>\n",
       "      <td>Carlos Firás</td>\n",
       "      <td>Lost Ember</td>\n",
       "      <td>None</td>\n",
       "      <td>None</td>\n",
       "      <td>Nintendo Switch</td>\n",
       "      <td>Llega a nuestras Nintendo Switch un juego que ...</td>\n",
       "      <td>7.5</td>\n",
       "    </tr>\n",
       "    <tr>\n",
       "      <th>3</th>\n",
       "      <td>revogamers</td>\n",
       "      <td>https://www.revogamers.net/analisis-w/analisis...</td>\n",
       "      <td>Javier Aranda</td>\n",
       "      <td>RogueCube</td>\n",
       "      <td>Ratalaika Games</td>\n",
       "      <td>Acción, Arcade</td>\n",
       "      <td>Nintendo Switch</td>\n",
       "      <td>Se hace ya raro no ver una semana sin un estre...</td>\n",
       "      <td>6.0</td>\n",
       "    </tr>\n",
       "    <tr>\n",
       "      <th>4</th>\n",
       "      <td>revogamers</td>\n",
       "      <td>https://www.revogamers.net/analisis-w/analisis...</td>\n",
       "      <td>Javier Aranda</td>\n",
       "      <td>RollerCoaster Tycoon 3 Complete Edition</td>\n",
       "      <td>Frontier</td>\n",
       "      <td>Simulación</td>\n",
       "      <td>Nintendo Switch</td>\n",
       "      <td>Uno de los simuladores más emblemáticos de hac...</td>\n",
       "      <td>8.0</td>\n",
       "    </tr>\n",
       "    <tr>\n",
       "      <th>5</th>\n",
       "      <td>revogamers</td>\n",
       "      <td>https://www.revogamers.net/analisis-w/analisis...</td>\n",
       "      <td>Javier Aranda</td>\n",
       "      <td>NBA 2K21</td>\n",
       "      <td>Take-Two Interactive</td>\n",
       "      <td>Deportes, Simulación</td>\n",
       "      <td>Nintendo Switch</td>\n",
       "      <td>Los títulos deportivos no paran de llegar a la...</td>\n",
       "      <td>7.0</td>\n",
       "    </tr>\n",
       "    <tr>\n",
       "      <th>6</th>\n",
       "      <td>revogamers</td>\n",
       "      <td>https://www.revogamers.net/analisis-w/analisis...</td>\n",
       "      <td>Marcos Catalán</td>\n",
       "      <td>Análisis de MX vs ATV All Out</td>\n",
       "      <td>None</td>\n",
       "      <td>None</td>\n",
       "      <td>Nintendo Switch</td>\n",
       "      <td>La saga MX vs ATV no es nueva y nos ha dejado ...</td>\n",
       "      <td>4.5</td>\n",
       "    </tr>\n",
       "    <tr>\n",
       "      <th>7</th>\n",
       "      <td>revogamers</td>\n",
       "      <td>https://www.revogamers.net/analisis-w/analisis...</td>\n",
       "      <td>Javier Aranda</td>\n",
       "      <td>Análisis de MO:Astray</td>\n",
       "      <td>None</td>\n",
       "      <td>None</td>\n",
       "      <td>Nintendo Switch</td>\n",
       "      <td>Rayark es ya una experta en Nintendo Switch. H...</td>\n",
       "      <td>8.5</td>\n",
       "    </tr>\n",
       "    <tr>\n",
       "      <th>8</th>\n",
       "      <td>revogamers</td>\n",
       "      <td>https://www.revogamers.net/analisis-w/analisis...</td>\n",
       "      <td>Carlos Firás</td>\n",
       "      <td>Análisis de Mini Motor Racing X</td>\n",
       "      <td>None</td>\n",
       "      <td>None</td>\n",
       "      <td>Nintendo Switch</td>\n",
       "      <td>Los amantes de la velocidad arcade están de en...</td>\n",
       "      <td>7.0</td>\n",
       "    </tr>\n",
       "    <tr>\n",
       "      <th>9</th>\n",
       "      <td>revogamers</td>\n",
       "      <td>https://www.revogamers.net/analisis-w/analisis...</td>\n",
       "      <td>Javier Aranda</td>\n",
       "      <td>Clash Force</td>\n",
       "      <td>Ratalaika Games</td>\n",
       "      <td>Acción, Plataformas</td>\n",
       "      <td>Nintendo Switch</td>\n",
       "      <td>Battletoads, Street Sharks, Tortugas Ninja … h...</td>\n",
       "      <td>5.5</td>\n",
       "    </tr>\n",
       "  </tbody>\n",
       "</table>\n",
       "</div>"
      ],
      "text/plain": [
       "         site                                           url_link  \\\n",
       "0  revogamers  https://www.revogamers.net/analisis-w/analisis...   \n",
       "1  revogamers  https://www.revogamers.net/analisis-w/analisis...   \n",
       "2  revogamers  https://www.revogamers.net/analisis-w/analisis...   \n",
       "3  revogamers  https://www.revogamers.net/analisis-w/analisis...   \n",
       "4  revogamers  https://www.revogamers.net/analisis-w/analisis...   \n",
       "5  revogamers  https://www.revogamers.net/analisis-w/analisis...   \n",
       "6  revogamers  https://www.revogamers.net/analisis-w/analisis...   \n",
       "7  revogamers  https://www.revogamers.net/analisis-w/analisis...   \n",
       "8  revogamers  https://www.revogamers.net/analisis-w/analisis...   \n",
       "9  revogamers  https://www.revogamers.net/analisis-w/analisis...   \n",
       "\n",
       "           author                                      game  \\\n",
       "0    Carlos Firás                               Going Under   \n",
       "1   Javier Aranda                          Kirby Fighters 2   \n",
       "2    Carlos Firás                                Lost Ember   \n",
       "3   Javier Aranda                                 RogueCube   \n",
       "4   Javier Aranda   RollerCoaster Tycoon 3 Complete Edition   \n",
       "5   Javier Aranda                                  NBA 2K21   \n",
       "6  Marcos Catalán             Análisis de MX vs ATV All Out   \n",
       "7   Javier Aranda                     Análisis de MO:Astray   \n",
       "8    Carlos Firás           Análisis de Mini Motor Racing X   \n",
       "9   Javier Aranda                               Clash Force   \n",
       "\n",
       "                company                 genre         platform  \\\n",
       "0                  None                  None  Nintendo Switch   \n",
       "1        HAL Laboratory                 Lucha  Nintendo Switch   \n",
       "2                  None                  None  Nintendo Switch   \n",
       "3       Ratalaika Games        Acción, Arcade  Nintendo Switch   \n",
       "4              Frontier            Simulación  Nintendo Switch   \n",
       "5  Take-Two Interactive  Deportes, Simulación  Nintendo Switch   \n",
       "6                  None                  None  Nintendo Switch   \n",
       "7                  None                  None  Nintendo Switch   \n",
       "8                  None                  None  Nintendo Switch   \n",
       "9       Ratalaika Games   Acción, Plataformas  Nintendo Switch   \n",
       "\n",
       "                                                text  score  \n",
       "0  Llega a nuestras Nintendo Switch un juego que ...    8.0  \n",
       "1  Kirby ha demostrado en más de una ocasión que ...    7.5  \n",
       "2  Llega a nuestras Nintendo Switch un juego que ...    7.5  \n",
       "3  Se hace ya raro no ver una semana sin un estre...    6.0  \n",
       "4  Uno de los simuladores más emblemáticos de hac...    8.0  \n",
       "5  Los títulos deportivos no paran de llegar a la...    7.0  \n",
       "6  La saga MX vs ATV no es nueva y nos ha dejado ...    4.5  \n",
       "7  Rayark es ya una experta en Nintendo Switch. H...    8.5  \n",
       "8  Los amantes de la velocidad arcade están de en...    7.0  \n",
       "9  Battletoads, Street Sharks, Tortugas Ninja … h...    5.5  "
      ]
     },
     "execution_count": 61,
     "metadata": {},
     "output_type": "execute_result"
    }
   ],
   "source": [
    "revogamers_df.head(10)"
   ]
  },
  {
   "cell_type": "markdown",
   "metadata": {},
   "source": [
    "*Observations:*\n",
    "- Too much Genre and Company nones (+50%)\n",
    "- One null text"
   ]
  },
  {
   "cell_type": "markdown",
   "metadata": {},
   "source": [
    "## 2. Full data merge"
   ]
  },
  {
   "cell_type": "code",
   "execution_count": 70,
   "metadata": {},
   "outputs": [],
   "source": [
    "sites_dataframes = [gamereactor_df, meristation_df, revogamers_df]\n",
    "\n",
    "gr_meri_revo = pd.concat(sites_dataframes)"
   ]
  },
  {
   "cell_type": "code",
   "execution_count": 71,
   "metadata": {},
   "outputs": [
    {
     "name": "stdout",
     "output_type": "stream",
     "text": [
      "<class 'pandas.core.frame.DataFrame'>\n",
      "Int64Index: 3551 entries, 0 to 862\n",
      "Data columns (total 9 columns):\n",
      "site        3551 non-null object\n",
      "url_link    3551 non-null object\n",
      "author      3551 non-null object\n",
      "game        3551 non-null object\n",
      "company     3551 non-null object\n",
      "genre       3551 non-null object\n",
      "platform    3551 non-null object\n",
      "text        3550 non-null object\n",
      "score       3551 non-null float64\n",
      "dtypes: float64(1), object(8)\n",
      "memory usage: 277.4+ KB\n"
     ]
    }
   ],
   "source": [
    "gr_meri_revo.info()"
   ]
  },
  {
   "cell_type": "markdown",
   "metadata": {},
   "source": [
    "gr_meri_revo.describe()"
   ]
  },
  {
   "cell_type": "code",
   "execution_count": 74,
   "metadata": {},
   "outputs": [],
   "source": [
    "gr_meri_revo.dropna(inplace=True)"
   ]
  },
  {
   "cell_type": "code",
   "execution_count": 76,
   "metadata": {},
   "outputs": [
    {
     "name": "stdout",
     "output_type": "stream",
     "text": [
      "<class 'pandas.core.frame.DataFrame'>\n",
      "Int64Index: 3550 entries, 0 to 862\n",
      "Data columns (total 9 columns):\n",
      "site        3550 non-null object\n",
      "url_link    3550 non-null object\n",
      "author      3550 non-null object\n",
      "game        3550 non-null object\n",
      "company     3550 non-null object\n",
      "genre       3550 non-null object\n",
      "platform    3550 non-null object\n",
      "text        3550 non-null object\n",
      "score       3550 non-null float64\n",
      "dtypes: float64(1), object(8)\n",
      "memory usage: 277.3+ KB\n"
     ]
    }
   ],
   "source": [
    "gr_meri_revo.info()"
   ]
  },
  {
   "cell_type": "code",
   "execution_count": 78,
   "metadata": {},
   "outputs": [],
   "source": [
    "gr_meri_revo = shuffle(gr_meri_revo)\n",
    "gr_meri_revo.reset_index(drop=True, inplace=True)"
   ]
  },
  {
   "cell_type": "code",
   "execution_count": 89,
   "metadata": {},
   "outputs": [
    {
     "data": {
      "text/plain": [
       "site           3\n",
       "url_link    3550\n",
       "author       273\n",
       "game        2932\n",
       "company      795\n",
       "genre        282\n",
       "platform     463\n",
       "text        3546\n",
       "score         50\n",
       "dtype: int64"
      ]
     },
     "execution_count": 89,
     "metadata": {},
     "output_type": "execute_result"
    }
   ],
   "source": [
    "#Testing uniques\n",
    "\n",
    "gr_meri_revo.nunique()"
   ]
  },
  {
   "cell_type": "code",
   "execution_count": null,
   "metadata": {},
   "outputs": [],
   "source": []
  },
  {
   "cell_type": "markdown",
   "metadata": {},
   "source": [
    "## 3. Data Standarize "
   ]
  },
  {
   "cell_type": "code",
   "execution_count": null,
   "metadata": {},
   "outputs": [],
   "source": []
  },
  {
   "cell_type": "code",
   "execution_count": null,
   "metadata": {},
   "outputs": [],
   "source": []
  },
  {
   "cell_type": "markdown",
   "metadata": {},
   "source": [
    "## 4. Data export"
   ]
  },
  {
   "cell_type": "code",
   "execution_count": 90,
   "metadata": {},
   "outputs": [],
   "source": [
    "gr_meri_revo.to_csv('../data/gr_meri_revo_dataset_3550l.csv', index=False)"
   ]
  },
  {
   "cell_type": "code",
   "execution_count": null,
   "metadata": {},
   "outputs": [],
   "source": []
  },
  {
   "cell_type": "code",
   "execution_count": null,
   "metadata": {},
   "outputs": [],
   "source": []
  },
  {
   "cell_type": "code",
   "execution_count": null,
   "metadata": {},
   "outputs": [],
   "source": []
  },
  {
   "cell_type": "code",
   "execution_count": null,
   "metadata": {},
   "outputs": [],
   "source": []
  },
  {
   "cell_type": "code",
   "execution_count": null,
   "metadata": {},
   "outputs": [],
   "source": []
  },
  {
   "cell_type": "markdown",
   "metadata": {},
   "source": [
    "<div style=\"padding-top: 25px; float: right\">\n",
    "    <div>    \n",
    "        <i>&nbsp;&nbsp;© Copyright by</i>\n",
    "    </div>\n",
    "    <div>\n",
    "        <a href=\"https://whiteboxml.com\">\n",
    "            <img src=\"https://whiteboxml.com/static/img/logo/black_bg_white.svg\" width=\"125\">\n",
    "        </a>\n",
    "    </div>\n",
    "</div>"
   ]
  }
 ],
 "metadata": {
  "kernelspec": {
   "display_name": "Python [conda env:lab_env]",
   "language": "python",
   "name": "conda-env-lab_env-py"
  },
  "language_info": {
   "codemirror_mode": {
    "name": "ipython",
    "version": 3
   },
   "file_extension": ".py",
   "mimetype": "text/x-python",
   "name": "python",
   "nbconvert_exporter": "python",
   "pygments_lexer": "ipython3",
   "version": "3.7.3"
  }
 },
 "nbformat": 4,
 "nbformat_minor": 4
}
