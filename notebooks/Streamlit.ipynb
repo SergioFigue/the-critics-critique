{
 "cells": [
  {
   "cell_type": "markdown",
   "metadata": {},
   "source": [
    "# Streamlit Dashboard Example Code"
   ]
  },
  {
   "cell_type": "code",
   "execution_count": null,
   "metadata": {},
   "outputs": [],
   "source": [
    "import streamlit as st\n",
    "\n",
    "st.title('The Critics Critique App')\n",
    "st.header('Introduction')\n",
    "st.subheader('Steps')\n",
    "st.text('This is an example')\n",
    "st.latex('y = x²')\n",
    "st.code('if a == 1:\\n    print(a)', language='python')\n",
    "st.markdown(\"This is **text** with markdown\")"
   ]
  },
  {
   "cell_type": "markdown",
   "metadata": {},
   "source": [
    "0. Import libraries"
   ]
  },
  {
   "cell_type": "code",
   "execution_count": 1,
   "metadata": {},
   "outputs": [],
   "source": [
    "import pandas as pd\n",
    "import numpy as np\n",
    "import requests\n",
    "from bs4 import BeautifulSoup\n",
    "from transformers import pipeline\n",
    "from transformers import AutoTokenizer, AutoModelForSequenceClassification"
   ]
  },
  {
   "cell_type": "markdown",
   "metadata": {},
   "source": [
    "## 1. Revogamers Button"
   ]
  },
  {
   "cell_type": "code",
   "execution_count": 26,
   "metadata": {},
   "outputs": [],
   "source": [
    "def revogamers_link_retrieve():\n",
    "       \n",
    "    url = f'https://www.revogamers.net/analisis-w/page/2'\n",
    "    html = requests.get(url).content\n",
    "    soup = BeautifulSoup(html, 'lxml')\n",
    "    article = soup.find('h2')\n",
    "\n",
    "    link = article.find('a')['href']\n",
    "    title = article.find('a')['title']\n",
    "                \n",
    "    return link, title"
   ]
  },
  {
   "cell_type": "code",
   "execution_count": 27,
   "metadata": {},
   "outputs": [],
   "source": [
    "link, title = revogamers_link_retrieve()"
   ]
  },
  {
   "cell_type": "code",
   "execution_count": 28,
   "metadata": {},
   "outputs": [
    {
     "name": "stdout",
     "output_type": "stream",
     "text": [
      "https://www.revogamers.net/analisis-w/analisis-de-deleveled-56312/ Análisis de Deleveled\n"
     ]
    }
   ],
   "source": [
    "print(link, title)"
   ]
  },
  {
   "cell_type": "code",
   "execution_count": 29,
   "metadata": {},
   "outputs": [],
   "source": [
    "def revogamers_streamlit_test(link, title):\n",
    "    reviews_dict = {}\n",
    "\n",
    "    review_html = requests.get(link).content\n",
    "    soup = BeautifulSoup(review_html, 'lxml')\n",
    "\n",
    "    author = soup.find('span', {'class': 'gp-post-meta gp-meta-author'}).find('a').text\n",
    "\n",
    "    article = soup.find('div', {'class': 'gp-entry-content'}).find_all('p')\n",
    "    review = [tag.text for tag in article]\n",
    "    review = ' '.join(review)\n",
    "\n",
    "    score = soup.find('div', {'class': 'gp-rating-score'}).text.strip()\n",
    "    score = float(score)\n",
    "    score_adj = score / 2\n",
    "\n",
    "    return author, review, score, score_adj"
   ]
  },
  {
   "cell_type": "code",
   "execution_count": 31,
   "metadata": {},
   "outputs": [],
   "source": [
    "author, review, score, score_adj = revogamers_streamlit_test(link, title)"
   ]
  },
  {
   "cell_type": "code",
   "execution_count": 35,
   "metadata": {},
   "outputs": [
    {
     "data": {
      "text/plain": [
       "3.25"
      ]
     },
     "execution_count": 35,
     "metadata": {},
     "output_type": "execute_result"
    }
   ],
   "source": [
    "score_adj"
   ]
  },
  {
   "cell_type": "code",
   "execution_count": 8,
   "metadata": {},
   "outputs": [],
   "source": [
    "nlp_model = 'nlptown/bert-base-multilingual-uncased-sentiment'\n",
    "tokenizer = AutoTokenizer.from_pretrained(nlp_model)\n",
    "model = AutoModelForSequenceClassification.from_pretrained(nlp_model)\n",
    "classifier = pipeline(\n",
    "        'sentiment-analysis', \n",
    "        model=model, \n",
    "        tokenizer=tokenizer)"
   ]
  },
  {
   "cell_type": "code",
   "execution_count": 22,
   "metadata": {},
   "outputs": [],
   "source": [
    "def sentiment_analysis_bert_base_multilingual_uncased(review):\n",
    "    n = 1500\n",
    "    points = []\n",
    "    \n",
    "    review_splitted = [(review[i:i + n]) for i in range(0, len(review), n)]\n",
    "    global_stars = (classifier(review_splitted))\n",
    "\n",
    "    for classification in global_stars:\n",
    "        grade = int(classification['label'].split(' ')[0])\n",
    "        points.append(grade)\n",
    "    stars_mean = round(np.mean(points), 2)\n",
    "\n",
    "    return stars_mean"
   ]
  },
  {
   "cell_type": "code",
   "execution_count": 36,
   "metadata": {},
   "outputs": [],
   "source": [
    "stars_mean = sentiment_analysis_bert_base_multilingual_uncased(review)"
   ]
  },
  {
   "cell_type": "code",
   "execution_count": 37,
   "metadata": {},
   "outputs": [
    {
     "name": "stdout",
     "output_type": "stream",
     "text": [
      "3.67\n"
     ]
    }
   ],
   "source": [
    "print(stars_mean)"
   ]
  },
  {
   "cell_type": "markdown",
   "metadata": {},
   "source": [
    "## Gamereactor Button"
   ]
  },
  {
   "cell_type": "code",
   "execution_count": null,
   "metadata": {},
   "outputs": [],
   "source": []
  },
  {
   "cell_type": "code",
   "execution_count": 62,
   "metadata": {},
   "outputs": [],
   "source": [
    "def gamereactor_link_retrieve():\n",
    "    url = f'https://www.gamereactor.es/analisis/'\n",
    "    html = requests.get(url).content\n",
    "    soup = BeautifulSoup(html, 'lxml')\n",
    "    article = soup.find('section', {'id':'textlist'}).find('article')\n",
    "    \n",
    "    func_link = f\"https://www.gamereactor.es{article.find('a')['href']}\"\n",
    "    func_title = article.find('h3').text\n",
    "        \n",
    "    return func_link, func_title"
   ]
  },
  {
   "cell_type": "code",
   "execution_count": 63,
   "metadata": {},
   "outputs": [],
   "source": [
    "link, title = gamereactor_link_retrieve()"
   ]
  },
  {
   "cell_type": "code",
   "execution_count": 64,
   "metadata": {},
   "outputs": [
    {
     "data": {
      "text/plain": [
       "('https://www.gamereactor.es/transformers-battlegrounds-analisis/?sid=c5d748deb38723e983a2c81805830ca8#comments',\n",
       " 'Transformers: Battlegrounds')"
      ]
     },
     "execution_count": 64,
     "metadata": {},
     "output_type": "execute_result"
    }
   ],
   "source": [
    "link, title"
   ]
  },
  {
   "cell_type": "code",
   "execution_count": null,
   "metadata": {},
   "outputs": [],
   "source": [
    "def gamereactor_streamlit_sentiment_analysis(func_link)\n",
    "\n",
    "    review_html = requests.get(func_link).content\n",
    "    soup = BeautifulSoup(review_html, 'lxml')\n",
    "    \n",
    "    func_author = soup.find('li', {'class': 'publishAuthor bullet'}).text\n",
    "    \n",
    "    article = soup.find('div', {'class': 'breadtext'}).find('div')\n",
    "    p_tags = article.find_all('p')\n",
    "    func_review = [tag.text for tag in p_tags]\n",
    "    func_review = ' '.join(func_review)\n",
    "    \n",
    "    func_score = soup.find('div', {'class': 'bigScoreWrapper'}).find('img')['alt']\n",
    "    func_score = float(score)\n",
    "    func_score_adj = func_score / 2\n",
    "\n",
    "    return func_author, func_score, func_score_adj\n",
    "\n",
    "    if st.button(\"Gameractor\"):\n",
    "        link, title = gamereactor_link_retrieve()\n",
    "        author, score, score_adj, func_review = revogamers_streamlit_sentiment_analysis(link)\n",
    "        stars_mean = split_and_classification(func_review)\n",
    "        st.write(title)\n",
    "        st.write(author,\"'s score is\", score)\n",
    "        st.write(\"Model's stars score is\", stars_mean)\n"
   ]
  },
  {
   "cell_type": "markdown",
   "metadata": {},
   "source": [
    "## 3. 3D Juegos"
   ]
  },
  {
   "cell_type": "code",
   "execution_count": 71,
   "metadata": {},
   "outputs": [],
   "source": [
    "def tdjuegos_link_retrieve():\n",
    "        url = f\"https://www.3djuegos.com/novedades/analisis/juegos/0f0f0f0/fecha/\"\n",
    "\n",
    "        html = requests.get(url).content\n",
    "        soup = BeautifulSoup(html, 'lxml')\n",
    "        article = soup.find('h2')\n",
    "\n",
    "        func_link = article.find('a')['href']\n",
    "        func_title = article.find('a')['title']\n",
    "    \n",
    "        return func_link, func_title"
   ]
  },
  {
   "cell_type": "code",
   "execution_count": 72,
   "metadata": {},
   "outputs": [
    {
     "data": {
      "text/plain": [
       "('https://www.3djuegos.com/juegos/analisis/33014/0/torchlight-3/',\n",
       " 'Torchlight 3 - Análisis')"
      ]
     },
     "execution_count": 72,
     "metadata": {},
     "output_type": "execute_result"
    }
   ],
   "source": [
    "tdjuegos_link_retrieve()"
   ]
  },
  {
   "cell_type": "code",
   "execution_count": null,
   "metadata": {},
   "outputs": [],
   "source": [
    "def tdjuegos_dict(func_link):\n",
    "\n",
    "    review_html = requests.get(link).content\n",
    "    soup = BeautifulSoup(review_html, 'lxml')\n",
    "\n",
    "    func_author = soup.find('a', {'class': 'c7 n'}).text\n",
    "\n",
    "    p_tags = p_tags = soup.find('div', {'class': 'lh27 url_lineas article_body0 mar_temp_0'}).find_all('p')\n",
    "    review = [tag.text for tag in p_tags]\n",
    "    func_review = ' '.join(review)\n",
    "\n",
    "    try:\n",
    "        score = soup.find('div', {'class': 'nota_ana_3 fftext b nota_interior2'}).text\n",
    "        score = score.replace(',','.')\n",
    "              \n",
    "    except AttributeError:\n",
    "        pass\n",
    "            \n",
    "    func_score = float(score)\n",
    "    func_score_adj = func_score / 2        \n",
    "\n",
    "    return func_author, func_score, func_score_adj, func_review"
   ]
  },
  {
   "cell_type": "markdown",
   "metadata": {},
   "source": [
    "## 4. meristation"
   ]
  },
  {
   "cell_type": "code",
   "execution_count": 98,
   "metadata": {},
   "outputs": [],
   "source": [
    "def meristation_link_retrieve():\n",
    "    url = f'https://as.com/meristation/analisis/'\n",
    "    html = requests.get(url).content\n",
    "    soup = BeautifulSoup(html, 'lxml')\n",
    "    articles = soup.find_all('h2')\n",
    "\n",
    "    for a in articles:\n",
    "        if a.find('a') == None:\n",
    "            pass\n",
    "        else:\n",
    "            func_link = a.find('a')['href']\n",
    "                \n",
    "    return func_link"
   ]
  },
  {
   "cell_type": "code",
   "execution_count": 99,
   "metadata": {},
   "outputs": [
    {
     "data": {
      "text/plain": [
       "'https://as.com/meristation/2020/09/11/analisis/1599814324_095879.html'"
      ]
     },
     "execution_count": 99,
     "metadata": {},
     "output_type": "execute_result"
    }
   ],
   "source": [
    "meristation_link_retrieve()"
   ]
  },
  {
   "cell_type": "code",
   "execution_count": null,
   "metadata": {},
   "outputs": [],
   "source": [
    "def meristation_dict(links):\n",
    "\n",
    "        review_html = requests.get(link).content\n",
    "        soup = BeautifulSoup(review_html, 'lxml')\n",
    "\n",
    "        title = soup.find('div', {'class': 'ga-h-tl'}).text.strip('\\n')\n",
    "\n",
    "        func_author = 'None'\n",
    "\n",
    "        try:\n",
    "            author = soup.find('p', {'class': 'art-aut-wr'}).find('a').text.strip('\\n')\n",
    "        except AttributeError:\n",
    "            pass\n",
    "        try:\n",
    "            author = soup.find('li', {'class': 'art-aut-wr'}).text.strip('\\n')\n",
    "        except AttributeError:\n",
    "            pass\n",
    "\n",
    "        p_tags = soup.find('div', {'class': 'art-body'}).find_all('p')\n",
    "        review = [tag.text for tag in p_tags]\n",
    "        func_review = ' '.join(review)\n",
    "\n",
    "        try:\n",
    "            score = soup.find('span', {'class': 'rv-sc sc-h'}).text\n",
    "        except AttributeError:\n",
    "            pass\n",
    "        try:\n",
    "            score = soup.find('span', {'class': 'rv-sc sc-m'}).text\n",
    "        except AttributeError:\n",
    "            pass\n",
    "        try:\n",
    "            score = soup.find('span', {'class': 'rv-sc sc-l'}).text\n",
    "        except AttributeError:\n",
    "            pass\n",
    "\n",
    "        func_score = float(score)\n",
    "        func_score_adj = func_score / 2   \n",
    "\n",
    "    return title, func_author, func_score, func_score_adj, func_review"
   ]
  },
  {
   "cell_type": "markdown",
   "metadata": {},
   "source": [
    "## 5. Vandal"
   ]
  },
  {
   "cell_type": "code",
   "execution_count": 104,
   "metadata": {},
   "outputs": [],
   "source": [
    "def vandal_link_retrieve():\n",
    "    url = f\"https://vandal.elespanol.com/analisis/videojuegos\"\n",
    "    html = requests.get(url).content\n",
    "    soup = BeautifulSoup(html, 'lxml')\n",
    "    article = soup.find('div', {'class': 'caja300 afterclearer'})\n",
    "    func_link = article.find('a')['href'] \n",
    "    func_title = article.find('a')['title']\n",
    "                \n",
    "    return func_link, func_title"
   ]
  },
  {
   "cell_type": "code",
   "execution_count": 105,
   "metadata": {},
   "outputs": [
    {
     "data": {
      "text/plain": [
       "('https://vandal.elespanol.com/analisis/pc/scourgebringer/71107',\n",
       " 'ScourgeBringer - Análisis')"
      ]
     },
     "execution_count": 105,
     "metadata": {},
     "output_type": "execute_result"
    }
   ],
   "source": [
    "vandal_link_retrieve()"
   ]
  },
  {
   "cell_type": "code",
   "execution_count": null,
   "metadata": {},
   "outputs": [],
   "source": [
    "def vandal_dict(links, titles):\n",
    "\n",
    "    review_html = requests.get(link).content\n",
    "    soup = BeautifulSoup(review_html, 'lxml')\n",
    "\n",
    "    func_author = soup.find('span', {'class': 'reviewer'}).text\n",
    "\n",
    "    p_tags = soup.find('div', {'class': 'textart'}).find_all('p')\n",
    "    review = [tag.text for tag in p_tags]\n",
    "    func_review = ' '.join(review).strip()\n",
    "\n",
    "    score = soup.find('div', {'class': 'fichajuego mt03 tleft'}).text\n",
    "    func_score = float(score)\n",
    "    func_score_adj = func_score / 2   \n",
    "\n",
    "    return func_author, func_score, func_score_adj, func_review"
   ]
  },
  {
   "cell_type": "code",
   "execution_count": null,
   "metadata": {},
   "outputs": [],
   "source": []
  },
  {
   "cell_type": "code",
   "execution_count": null,
   "metadata": {},
   "outputs": [],
   "source": []
  }
 ],
 "metadata": {
  "kernelspec": {
   "display_name": "Python [conda env:lab_env]",
   "language": "python",
   "name": "conda-env-lab_env-py"
  },
  "language_info": {
   "codemirror_mode": {
    "name": "ipython",
    "version": 3
   },
   "file_extension": ".py",
   "mimetype": "text/x-python",
   "name": "python",
   "nbconvert_exporter": "python",
   "pygments_lexer": "ipython3",
   "version": "3.7.3"
  }
 },
 "nbformat": 4,
 "nbformat_minor": 4
}
