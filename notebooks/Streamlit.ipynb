{
 "cells": [
  {
   "cell_type": "markdown",
   "metadata": {},
   "source": [
    "# Streamlit Dashboard Example Code"
   ]
  },
  {
   "cell_type": "code",
   "execution_count": null,
   "metadata": {},
   "outputs": [],
   "source": [
    "import streamlit as st\n",
    "\n",
    "st.title('The Critics Critique App')\n",
    "st.header('Introduction')\n",
    "st.subheader('Steps')\n",
    "st.text('This is an example')\n",
    "st.latex('y = x²')\n",
    "st.code('if a == 1:\\n    print(a)', language='python')\n",
    "st.markdown(\"This is **text** with markdown\")"
   ]
  },
  {
   "cell_type": "markdown",
   "metadata": {},
   "source": [
    "0. Import libraries"
   ]
  },
  {
   "cell_type": "code",
   "execution_count": 1,
   "metadata": {},
   "outputs": [],
   "source": [
    "import pandas as pd\n",
    "import numpy as np\n",
    "import requests\n",
    "from bs4 import BeautifulSoup\n",
    "from transformers import pipeline\n",
    "from transformers import AutoTokenizer, AutoModelForSequenceClassification"
   ]
  },
  {
   "cell_type": "markdown",
   "metadata": {},
   "source": [
    "## 1. From URL Request to DataFrame"
   ]
  },
  {
   "cell_type": "code",
   "execution_count": 2,
   "metadata": {},
   "outputs": [],
   "source": [
    "def revogamers_link_retrieve():\n",
    "       \n",
    "    url = f'https://www.revogamers.net/analisis-w/page/1'\n",
    "    html = requests.get(url).content\n",
    "    soup = BeautifulSoup(html, 'lxml')\n",
    "    article = soup.find('h2')\n",
    "\n",
    "    link = article.find('a')['href']\n",
    "    title = article.find('a')['title']\n",
    "                \n",
    "    return link, title"
   ]
  },
  {
   "cell_type": "code",
   "execution_count": 3,
   "metadata": {},
   "outputs": [],
   "source": [
    "link, title = revogamers_link_retrieve()"
   ]
  },
  {
   "cell_type": "code",
   "execution_count": 4,
   "metadata": {},
   "outputs": [
    {
     "name": "stdout",
     "output_type": "stream",
     "text": [
      "https://www.revogamers.net/analisis-w/analisis-de-jet-set-knights-56745/ Análisis de Jet Set Knights\n"
     ]
    }
   ],
   "source": [
    "print(link, title)"
   ]
  },
  {
   "cell_type": "code",
   "execution_count": 5,
   "metadata": {},
   "outputs": [],
   "source": [
    "def revogamers_streamlit_test(link, title):\n",
    "    reviews_dict = {}\n",
    "\n",
    "    review_html = requests.get(link).content\n",
    "    soup = BeautifulSoup(review_html, 'lxml')\n",
    "\n",
    "    author = soup.find('span', {'class': 'gp-post-meta gp-meta-author'}).find('a').text\n",
    "\n",
    "    article = soup.find('div', {'class': 'gp-entry-content'}).find_all('p')\n",
    "    review = [tag.text for tag in article]\n",
    "    review = ' '.join(review)\n",
    "\n",
    "    score = soup.find('div', {'class': 'gp-rating-score'}).text.strip()\n",
    "    score = float(score)\n",
    "    score_adj = score / 2\n",
    "\n",
    "    return author, review, score, score_adj"
   ]
  },
  {
   "cell_type": "code",
   "execution_count": 6,
   "metadata": {},
   "outputs": [],
   "source": [
    "example, review = revogamers_streamlit_test(link, title)"
   ]
  },
  {
   "cell_type": "code",
   "execution_count": 7,
   "metadata": {},
   "outputs": [
    {
     "data": {
      "text/plain": [
       "'Jet Set Knights nos pone en la piel de uno de los cuatro caballeros disponibles para proteger a la princesa de los monstruos que se la quieren llevar. En esencia, es un Tower Defense en el que nuestro movmiento y acciones tienen repercusión y no solo hemos de gestionar la posición de objetos.  El juego se presenta a través de escenarios de tipo arena en los que la princesa se coloca en un lugar, y hemos de defenderla como sea posible. Cada uno de los personajes que podemos manejar tiene una habilidad particular, por lo que es imortante escoger el que se adapte más a nuestro estilo. Una vez que hemos «avanzado» hasta cierto punto, el nivel finaliza, no sin antes enfrentarnos a un jefe. Los controles son sencillos y lo principal, más allá de nuestra habilidad, es entender bien los elementos del escenario y saber el orden en el que hay que derrotar enemigos para evitar que lleguen a su destino. Además, hay poderes que nos dan mejoras temporales y también hay que saber cuándo y cómo usarlos.  Como hemos dicho al inicio, estamos ante un Tower Defense, por lo que también hay que construir muros de defensa para la princesa o bien torretas para liquidarenemigos más rápido. El equilibrio entre este elemento y nuestra manera de jugar son la clave del éxito. Además, si disponemos de compañía, peude jugarse en cooperativo también, algo que aumenta considerablemtne el grado de diversión. A nivel estético, encontramos un estilo píxel que funciona, pero que puede resultar similar a otros que ya hemos visto. De hecho puede que veamos a algún enemigo que nos resulte familiar… Por otro lado, la música sabe hacerse disfrutar y es un más que buen acompañamiento a la acción. A nivel de rendimiento todo va bien, algo que tampoco sorprende por el nivel técnico del título, pero que siempre conviene señalar.  Jet Set Knights es un juego bueno, especialmente en compañía. Está pensado para sesiones no muy largas, y quizás su mayor problema es la falta de elementos diferenciadores que lo hagan destacar, pues si no es un género que nos apasione puede hacerse repetitivo más pronto que tarde. \\xa0'"
      ]
     },
     "execution_count": 7,
     "metadata": {},
     "output_type": "execute_result"
    }
   ],
   "source": [
    "review"
   ]
  },
  {
   "cell_type": "code",
   "execution_count": 8,
   "metadata": {},
   "outputs": [],
   "source": [
    "nlp_model = 'nlptown/bert-base-multilingual-uncased-sentiment'\n",
    "tokenizer = AutoTokenizer.from_pretrained(nlp_model)\n",
    "model = AutoModelForSequenceClassification.from_pretrained(nlp_model)\n",
    "classifier = pipeline(\n",
    "        'sentiment-analysis', \n",
    "        model=model, \n",
    "        tokenizer=tokenizer)"
   ]
  },
  {
   "cell_type": "code",
   "execution_count": 22,
   "metadata": {},
   "outputs": [],
   "source": [
    "def sentiment_analysis_bert_base_multilingual_uncased(review):\n",
    "    n = 1500\n",
    "    points = []\n",
    "    \n",
    "    review_splitted = [(review[i:i + n]) for i in range(0, len(review), n)]\n",
    "    global_stars = (classifier(review_splitted))\n",
    "\n",
    "    for classification in global_stars:\n",
    "        grade = int(classification['label'].split(' ')[0])\n",
    "        points.append(grade)\n",
    "    stars_mean = round(np.mean(points), 2)\n",
    "\n",
    "    return stars_mean"
   ]
  },
  {
   "cell_type": "code",
   "execution_count": 23,
   "metadata": {},
   "outputs": [],
   "source": [
    "stars_mean = sentiment_analysis_bert_base_multilingual_uncased(review)"
   ]
  },
  {
   "cell_type": "code",
   "execution_count": 25,
   "metadata": {},
   "outputs": [
    {
     "name": "stdout",
     "output_type": "stream",
     "text": [
      "4.0\n"
     ]
    }
   ],
   "source": [
    "print(stars_mean)"
   ]
  },
  {
   "cell_type": "code",
   "execution_count": null,
   "metadata": {},
   "outputs": [],
   "source": []
  },
  {
   "cell_type": "code",
   "execution_count": null,
   "metadata": {},
   "outputs": [],
   "source": []
  }
 ],
 "metadata": {
  "kernelspec": {
   "display_name": "Python [conda env:lab_env]",
   "language": "python",
   "name": "conda-env-lab_env-py"
  },
  "language_info": {
   "codemirror_mode": {
    "name": "ipython",
    "version": 3
   },
   "file_extension": ".py",
   "mimetype": "text/x-python",
   "name": "python",
   "nbconvert_exporter": "python",
   "pygments_lexer": "ipython3",
   "version": "3.7.3"
  }
 },
 "nbformat": 4,
 "nbformat_minor": 4
}
