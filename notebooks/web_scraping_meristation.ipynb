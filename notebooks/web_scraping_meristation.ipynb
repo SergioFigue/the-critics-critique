{
 "cells": [
  {
   "cell_type": "markdown",
   "metadata": {},
   "source": [
    "# Scraping MERISTATION"
   ]
  },
  {
   "cell_type": "code",
   "execution_count": 5,
   "metadata": {},
   "outputs": [],
   "source": [
    "import requests\n",
    "from bs4 import BeautifulSoup\n",
    "import time\n",
    "import pandas as pd\n",
    "import numpy as np"
   ]
  },
  {
   "cell_type": "code",
   "execution_count": 2,
   "metadata": {},
   "outputs": [
    {
     "data": {
      "text/plain": [
       "b'<!DOCTYPE html>\\n<html lang=\"es\">\\n<head>\\n<meta char'"
      ]
     },
     "execution_count": 2,
     "metadata": {},
     "output_type": "execute_result"
    }
   ],
   "source": [
    "review_url = 'https://as.com/meristation/2020/09/19/analisis/1600499631_945194.html'\n",
    "review_html = requests.get(review_url).content\n",
    "review_html[:50]"
   ]
  },
  {
   "cell_type": "code",
   "execution_count": 3,
   "metadata": {},
   "outputs": [],
   "source": [
    "soup = BeautifulSoup(review_html, 'lxml')"
   ]
  },
  {
   "cell_type": "code",
   "execution_count": 7,
   "metadata": {},
   "outputs": [],
   "source": [
    "p_tags = soup.find('div', {'class': 'art-body'}).find_all('p')"
   ]
  },
  {
   "cell_type": "code",
   "execution_count": 8,
   "metadata": {},
   "outputs": [],
   "source": [
    "review = [tag.text for tag in p_tags]\n",
    "review = '-'.join(review)"
   ]
  },
  {
   "cell_type": "code",
   "execution_count": 9,
   "metadata": {},
   "outputs": [
    {
     "data": {
      "text/plain": [
       "'Mucho ha llovido desde el lanzamiento de Spelunky HD, en 2012 (aquí podéis leer el análisis redactado en su momento por nuestro compañero Salva Fernández). Pero más ha llovido aún desde el lanzamiento del Spelunky original, allá por 2008. Una docena de años después, en septiembre de 2020, nos llega Spelunky 2, título a priori exclusivo en consolas de PlayStation 4, cuya versión está disponible un par de semanas antes que en PC. Antes de nada, queremos deciros que el titular no es, en absoluto, clickbait. Quien escribe estas líneas ha visto y ha jugado mucho, y también ha echado muchas horas a Spelunky en Xbox 360, consiguiendo todos sus logros. Y esta segunda parte coge la fórmula original y la retuerce de tal forma que el resultado es el videojuego más difícil no solo de todo 2020, sino de toda la década. Ahí es nada.-\"Más, y, además, mejor\". Con esta frase tan escueta podríamos resumir, en líneas generales, lo que nos ha parecido Spelunky 2. Este título coge todo lo que hizo grande a su precedesor, y, refinando la fórmula aún más si cabe, la lleva a un nuevo nivel.-Metámonos en materia. Spelunky 2 es, como el original, un videojuego que mezcla varios géneros; en esencia es un roguelike (generación aleatoria de niveles y posicionamiento de objetos, peligros y enemigos, muerte permanente) pero con la presentación y el sistema de juego de plataformas en 2D. Los escenarios, compuestos por módulos, y generados siempre al azar, siguen una serie de reglas, siendo la principal de todas ellas que es posible llegar desde el comienzo de un nivel hasta su final siguiendo un camino «lógico», sin necesidad de abrirnos paso destruyendo el escenario.-De nuevo, Spelunky 2 va de esto último que comentamos; nos adentramos en zonas repletas de peligros, en las que el objetivo es siempre llegar hasta la salida del nivel, situada varios pisos por debajo de donde comenzamos cada escenario. La gracia del juego está, precisamente, en que, dada la aleatoriedad intrínseca al género, nunca habrá dos partidas iguales, por lo que su rejugabilidad es prácticamente ilimitada. Si morimos, y creedme, lo haremos muy a menudo, toca volver a empezar la aventura desde el principio.-El juego en sí es \"corto\" (de hecho, hay un trofeo por hacer un speedrun y completar el juego en menos de diez minutos), como Spelunky, aunque con un matiz muy importante: cada vida es un experimento. ¿No sabemos qué hace ese enemigo o trampa nueva? Lo más probable es que nos mate, y aprendamos por las malas, mediante mucho ensayo y más error aún.-Lo que más nos ha sorprendido para bien en esta secuela son varios de los añadidos nuevos, como unas físicas de fluidos mejoradas (el comportamiento de la lava sumado a la destrucción del escenario es algo digno de ver), así como un pathfinding (la capacidad de los personajes de encontrar el camino hacia su objetivo) diabólicamente preciso de ciertos personajes manejados por la IA, como los temibles tenderos cuando los cabreamos, los esbirros que podemos reclutar para que nos ayuden en la aventura, o los enemigos controlados por la máquina en los modos multijugador competitivos. También destacamos la inclusión de una segunda cara a los niveles; hay puertas por las que podemos pasar para ir a la «parte trasera» del escenario, lo cual prácticamente hace que la extensión de los mismos sea el doble que antes. Por último, pero no menos importante, las monturas son otra novedad de peso: ahora podemos cabalgar a lomos de animales que encontremos y que son tan variopintos como pavos, ajolotes o perros infernales, cada uno de ellos con sus propias habilidades que nos facilitarán un poco la exploración.-A grandes rasgos, como decimos, es más y mejor. Hay muchas más zonas, objetos, personajes y enemigos que en el anterior. Además, con respecto a las nuevas áreas, otra de las novedades de Spelunky 2 es la posibilidad de escoger qué ruta queremos tomar. Durante el desarrollo normal de la aventura hay un par de bifurcaciones que determinarán qué zonas visitamos, cada una de ellas, efectivamente, con sus propios enemigos, objetos, e incluso secretos.-A nivel artístico y visual, Spelunky 2 sigue siendo uno de los videojuegos más bonitos de ver que hay actualmente. A este respecto sigue siendo continuista en comparación con el anterior título de la saga, pero no hay nada que objetar porque su estética es única. Como en el original: se ha sabido captar muy bien el aire pulp que pretende plasmar la ambientación del juego: somos un explorador que se adentra en un templo repleto de peligros y criaturas de mitologías variopintas e incluso alienígenas. Los efectos visuales tales como fuego, explosiones y la iluminación en general son realmente buenos.-Lo mejor de todo esto es que, dentro de su contexto y limitaciones, el mundo creado por Spelunky 2 tiene una sensación muy pura de ser muy «orgánico» y tener vida propia. Las criaturas que pueblan los escenarios se dedican a sus quehaceres hasta que detectan a algún jugador (o sus esbirros), y entonces se lía. Y cuando hay acción de todo tipo en pantalla, el rendimiento no se resiente lo más mínimo. 60 FPS estables en todo momento en la versión de PS4, que es la plataforma en la que hemos realizado este análisis.-La música y los efectos sonoros ambientan la acción a la perfección. La banda sonora, además de ser buena y variada, es dinámica, otra novedad con respecto al original. Seguramente nos demos cuenta de esto en el nivel 1-4, en cuya entrada nuestro personaje advierte \"Oyes el son de los tambores...\" y, cuando llegamos al minijefe de la zona, efectivamente, los instrumentos del tema que suena han dado paso por completo a un estribillo únicamente de tambores. Los efectos sonoros, por su parte, son realmente buenos, algo completamente imprescindible en un título de estas características; cada criatura y trampa emite el suyo propio, de modo que ayuda muchísimo a que no muramos (tanto).-El control de Spelunky 2 es absolutamente perfecto. Esto es algo necesario, ya que, tal y como sucede en títulos como Super Meat Boy, cada vez que morimos, tenemos la sensación de que ha sido culpa nuestra por no estar lo suficientemente pendientes al escenario y a los peligros del mismo, y no porque el control nos haya dejado vendidos. A este respecto, los únicos lapsus o muertes accidentales que puede haber «debido al control» son precisamente aquellas en las que hemos recogido algún objeto que modifica el comportamiento de nuestro personaje, como los guantes de escalada, que por defecto hacen que nos quedemos pegados a las paredes, o el teletransportador, con el que seguramente acabemos muriendo porque nos hemos teletransportado dentro de una pared.-Spelunky 2 es un videojuego que parece haber sido diseñado para estresar al máximo al jugador. A la dificultad endiablada del juego propiamente dicho, debemos sumar que no podemos tardar más de la cuenta en completar los niveles —esto también pasaba en el anterior—; si tardamos demasiado, un fantasmón aparecerá para darnos caza y, si nos toca, nos matará al instante. Como tal, efectivamente, es un videojuego de nicho, no recomendado para todos los públicos.-A la aventura normal, que es el plato fuerte del juego, debemos sumarle un modo cooperativo para cuatro jugadores tanto en el mismo sistema como en línea; el original no disponía de esta última opción. Es un añadido muy interesante porque Spelunky y Spelunky 2 pueden presumir de pertenecer al club de \"videojuegos con los que perder amigos\". Eso sí, por motivos obvios, recomendamos que, si se juega al modo cooperativo de Spelunky 2, se opte por hacerlo en un mismo sistema. El online funciona bien, pero el propio concepto del juego hace que, con que haya el más mínimo retardo entre las conexiones de los jugadores, la partida esté condenada al fracaso. Spelunky 2 exige perfección y un esfuerzo titánico para ser completado.-Además del cooperativo, Spelunky 2 incluye un modo Arena que, eso sí, es solo local. Hasta cuatro jugadores pueden repartirse estopa entre sí en un buen puñado de distintos mapas con muchas opciones para personalizar las partidas, entre las que se incluyen la posibilidad de rellenar las ranuras de jugadores vacías con oponentes controlados por la IA. Es una opción muy interesante tanto para refinar nuestras habilidades, como para zanjar las rencillas que seguramente se generen mientras jugamos al modo cooperativo.-Con respecto a la duración del juego, nos ceñimos a lo que dijimos más arriba: es un juego pensado para echarle horas, horas, y más horas. Spelunky 2 requiere que aprendamos y dominemos todas y cada una de sus mecánicas de juego, además del comportamiento de elementos tales como trampas y enemigos. Y cuando pensemos que tenemos cogido al toro por los cuernos, nos llegará alguna muerte absurda por, por ejemplo, una reacción en cadena de bombas mal calculada, o un golpe inocuo de un enemigo pero que nos hace caer al vacío y morir empalados en pinchos. A la hora de escribir este análisis hemos tenido la decencia de completar el juego al menos una vez, y de rellenar el diario (objetos, enemigos, áreas visitadas...) en más de un 50%.-Sabemos que Spelunky 2 es más grande a nivel cualitativo y cuantitativo que su predecesor, y el tiempo estimado para desbloquear todo en el anterior es de unas 100 horas, por lo que deducid vosotros mismos el tiempo que podéis dedicar a —intentar— llevar a cabo la misma proeza en esta secuela.-Nota del autor: esta reseña ha podido ser escrita gracias a un código de descarga del juego en PlayStation 4 proporcionado por Mossmouth, desarrolladores del juego. Todas las capturas que acompañan al texto han sido tomadas por nosotros mismos.-LO MEJOR-LO PEOR-CONCLUSIÓN-Spelunky 2 es un videojuego endiabladamente difícil, que no os engañe su estética «infantil». Tras esta fachada aniñada se oculta una auténtica joya indie que sabe recompensar a los jugadores con la suficiente paciencia y habilidad como para soportar las penurias que nos ofrece. Es una secuela muy redonda y todo un portento en lo que a programación y diseño de niveles se refiere. Algunos errores menores lo alejan de la absoluta excelencia, aunque sigue siendo un título sobresaliente.-Excelente-Un título referente en su género, que destaca por encima de sus competidores y que disfrutarás de principio a fin, seguramente varias veces. Un juego destinado a convertirse en clásico con el paso de los años.                        '"
      ]
     },
     "execution_count": 9,
     "metadata": {},
     "output_type": "execute_result"
    }
   ],
   "source": [
    "review"
   ]
  },
  {
   "cell_type": "markdown",
   "metadata": {},
   "source": [
    "# Scraping Análisis"
   ]
  },
  {
   "cell_type": "code",
   "execution_count": 12,
   "metadata": {},
   "outputs": [
    {
     "data": {
      "text/plain": [
       "b'<!DOCTYPE html>\\n<html lang=\"es\">\\n<head>\\n<meta char'"
      ]
     },
     "execution_count": 12,
     "metadata": {},
     "output_type": "execute_result"
    }
   ],
   "source": [
    "review_url = 'https://as.com/meristation/analisis/'\n",
    "html = requests.get(review_url).content\n",
    "html[:50]"
   ]
  },
  {
   "cell_type": "code",
   "execution_count": 13,
   "metadata": {},
   "outputs": [],
   "source": [
    "soup = BeautifulSoup(html, 'lxml')\n",
    "articles = soup.find_all('h2')"
   ]
  },
  {
   "cell_type": "code",
   "execution_count": 16,
   "metadata": {},
   "outputs": [
    {
     "data": {
      "text/plain": [
       "['Análisis Bounty Battle; el título de lucha de los héroes indie',\n",
       " 'eFootball PES 2021, análisis. Rueda el balón, pero poco más',\n",
       " 'Milky Way Prince: The Vampire Prince, análisis. Amor tóxico',\n",
       " 'Spinch, análisis PC y Switch: Una experiencia sensorial',\n",
       " 'Spelunky 2, análisis: el videojuego más hardcore de la década',\n",
       " 'WRC 9, análisis Xbox One',\n",
       " 'Inertial Drift, análisis',\n",
       " 'Super Mario 3D All-Star, análisis',\n",
       " 'GeForce RTX 3080, Análisis de una tarjeta gráfica de nueva generación',\n",
       " '13 Sentinels: Aegis Rim, análisis. Una historia de otro nivel',\n",
       " 'Vader Immortal: A Star Wars VR Series, análisis. Cuando te falla el sable de luz',\n",
       " 'Ary and the Secret of Seasons, análisis Switch',\n",
       " 'MX vs. ATV All Out, análisis. Hay que aprender a pasar página',\n",
       " 'West of Dead, análisis',\n",
       " 'NBA 2K21, análisis',\n",
       " 'Windbound: Brave The Storm, análisis',\n",
       " \"New Super Lucky's Tale, análisis\",\n",
       " 'Railway Empire Complete Collection, análisis PC',\n",
       " 'Nexomon Extinction, Análisis. Una alternativa real para Pokémon',\n",
       " 'Relicta, análisis. Un juego magnético',\n",
       " \"Marvel's Avengers, análisis. ¿El juego de superhéroes deseado?\",\n",
       " 'Tony Hawk’s Pro Skater 1+2, Análisis. El regreso soñado a 20 años de legado',\n",
       " 'Fight Crab, análisis Steam',\n",
       " 'Crysis Remastered, análisis Switch',\n",
       " 'Fast & Furious: Crossroads, Ni Fu(rious) ni Fa(st)',\n",
       " 'Final Fantasy Crystal Chronicles Remastered Edition, análisis Switch',\n",
       " 'Madden NFL 21, análisis',\n",
       " 'Mobile Suit Gundam Extreme VS. Maxi Boost On, análisis. El juego más completo de la franquicia',\n",
       " 'Spiritfarer, análisis',\n",
       " 'Crusader Kings 3, análisis. Gloria o tragedia para la realeza',\n",
       " 'Motorola Edge Plus, Análisis del smartphone diseñado para gamers',\n",
       " 'Wasteland 3, análisis. inXile da el salto de calidad que buscaba',\n",
       " 'Tell Me Why, análisis. Realismo mágico e intriga',\n",
       " 'Captain Tsubasa: Rise of New Champions, análisis del juego de Campeones',\n",
       " 'A Total War Saga: Troy, análisis',\n",
       " 'Project Cars 3, análisis PS4',\n",
       " 'Inmost, análisis Switch',\n",
       " 'PGA TOUR 2K21, Análisis. Putt al hoyo',\n",
       " 'A Short Hike, Análisis. Un viaje con los ojos abiertos',\n",
       " 'Mortal Shell, análisis',\n",
       " 'Battletoads, análisis: \"¡HEMOS VUELTO!\"',\n",
       " 'EA Sports UFC 4, análisis',\n",
       " 'Microsoft Flight Simulator, análisis. La plataforma de aviación de la década',\n",
       " 'Predator Triton 900, Análisis de una portátil que lo tiene todo',\n",
       " 'Turtle Beach Sealth 600 Gen 2, Análisis']"
      ]
     },
     "execution_count": 16,
     "metadata": {},
     "output_type": "execute_result"
    }
   ],
   "source": [
    "#Extraer títulos\n",
    "\n",
    "titles = []\n",
    "\n",
    "for a in articles:\n",
    "    if a.find('a') == None:\n",
    "        pass\n",
    "    else:\n",
    "        titles.append(a.find('a')['title'])\n",
    "    \n",
    "titles"
   ]
  },
  {
   "cell_type": "code",
   "execution_count": 17,
   "metadata": {},
   "outputs": [
    {
     "data": {
      "text/plain": [
       "['https://as.com/meristation/2020/09/22/analisis/1600764887_024298.html',\n",
       " 'https://as.com/meristation/2020/09/22/analisis/1600760878_562894.html',\n",
       " 'https://as.com/meristation/2020/09/21/analisis/1600675002_511518.html',\n",
       " 'https://as.com/meristation/2020/09/20/analisis/1600588999_099915.html',\n",
       " 'https://as.com/meristation/2020/09/19/analisis/1600499631_945194.html',\n",
       " 'https://as.com/meristation/2020/09/18/analisis/1600418364_262891.html',\n",
       " 'https://as.com/meristation/2020/09/18/analisis/1600418263_422657.html',\n",
       " 'https://as.com/meristation/2020/09/16/analisis/1600261344_550903.html',\n",
       " 'https://as.com/meristation/2020/09/16/mexico/1600234167_066181.html',\n",
       " 'https://as.com/meristation/2020/09/15/analisis/1600181818_035725.html',\n",
       " 'https://as.com/meristation/2020/09/15/analisis/1600166091_128370.html',\n",
       " 'https://as.com/meristation/2020/09/14/analisis/1600097234_505564.html',\n",
       " 'https://as.com/meristation/2020/09/13/analisis/1599985057_505947.html',\n",
       " 'https://as.com/meristation/2020/09/12/analisis/1599897766_790983.html',\n",
       " 'https://as.com/meristation/2020/09/11/analisis/1599814324_095879.html',\n",
       " 'https://as.com/meristation/2020/09/10/analisis/1599724094_607227.html',\n",
       " 'https://as.com/meristation/2020/09/10/analisis/1599724275_427325.html',\n",
       " 'https://as.com/meristation/2020/09/09/analisis/1599637913_679351.html',\n",
       " 'https://as.com/meristation/2020/09/09/analisis/1599637698_672305.html',\n",
       " 'https://as.com/meristation/2020/09/08/analisis/1599556131_644982.html',\n",
       " 'https://as.com/meristation/2020/09/07/analisis/1599458440_516263.html',\n",
       " 'https://as.com/meristation/2020/09/06/analisis/1599376563_915838.html',\n",
       " 'https://as.com/meristation/2020/09/05/analisis/1599292060_269470.html',\n",
       " 'https://as.com/meristation/2020/09/05/analisis/1599291809_925523.html',\n",
       " 'https://as.com/meristation/2020/09/04/analisis/1599204574_572988.html',\n",
       " 'https://as.com/meristation/2020/09/03/analisis/1599120279_546077.html',\n",
       " 'https://as.com/meristation/2020/09/03/analisis/1599120000_620699.html',\n",
       " 'https://as.com/meristation/2020/09/02/analisis/1599025124_778584.html',\n",
       " 'https://as.com/meristation/2020/09/01/analisis/1598941653_372913.html',\n",
       " 'https://as.com/meristation/2020/09/01/analisis/1598941607_877896.html',\n",
       " 'https://as.com/meristation/2020/08/30/mexico/1598745608_422603.html',\n",
       " 'https://as.com/meristation/2020/08/29/analisis/1598687447_244448.html',\n",
       " 'https://as.com/meristation/2020/08/28/analisis/1598597583_068647.html',\n",
       " 'https://as.com/meristation/2020/08/28/analisis/1598596235_814741.html',\n",
       " 'https://as.com/meristation/2020/08/27/analisis/1598516233_684674.html',\n",
       " 'https://as.com/meristation/2020/08/26/analisis/1598429985_300930.html',\n",
       " 'https://as.com/meristation/2020/08/25/analisis/1598337401_928685.html',\n",
       " 'https://as.com/meristation/2020/08/24/analisis/1598267064_780682.html',\n",
       " 'https://as.com/meristation/2020/08/23/analisis/1598171552_285145.html',\n",
       " 'https://as.com/meristation/2020/08/22/analisis/1598084195_940842.html',\n",
       " 'https://as.com/meristation/2020/08/20/analisis/1597876541_135980.html',\n",
       " 'https://as.com/meristation/2020/08/17/analisis/1597653157_596989.html',\n",
       " 'https://as.com/meristation/2020/08/17/analisis/1597647644_953144.html',\n",
       " 'https://as.com/meristation/2020/08/16/mexico/1597535530_720114.html',\n",
       " 'https://as.com/meristation/2020/08/13/mexico/1597301737_154655.html']"
      ]
     },
     "execution_count": 17,
     "metadata": {},
     "output_type": "execute_result"
    }
   ],
   "source": [
    "#Extraer links\n",
    "\n",
    "links = []\n",
    "\n",
    "for a in articles:\n",
    "    if a.find('a') == None:\n",
    "        pass\n",
    "    else:\n",
    "        links.append(a.find('a')['href'])\n",
    "    \n",
    "links"
   ]
  },
  {
   "cell_type": "code",
   "execution_count": 30,
   "metadata": {},
   "outputs": [
    {
     "data": {
      "text/plain": [
       "45"
      ]
     },
     "execution_count": 30,
     "metadata": {},
     "output_type": "execute_result"
    }
   ],
   "source": [
    "len(reviews_col)"
   ]
  },
  {
   "cell_type": "markdown",
   "metadata": {},
   "source": [
    "### SCRAPING REVIEWS"
   ]
  },
  {
   "cell_type": "code",
   "execution_count": 21,
   "metadata": {},
   "outputs": [],
   "source": [
    "reviews_col = []\n",
    "\n",
    "for link in links:\n",
    "    \n",
    "    #Request content and wait\n",
    "    review_url = link\n",
    "    review_html = requests.get(review_url).content\n",
    "    time.sleep(3)\n",
    "    \n",
    "    #Extract text\n",
    "    soup = BeautifulSoup(review_html, 'lxml')\n",
    "    articles = soup.find_all('h2')\n",
    "    p_tags = soup.find('div', {'class': 'art-body'}).find_all('p')\n",
    "    \n",
    "    #Clean text\n",
    "    review = [tag.text for tag in p_tags]\n",
    "    review = '-'.join(review)\n",
    "    \n",
    "    #Add to a list\n",
    "    reviews_col.append(review)"
   ]
  },
  {
   "cell_type": "markdown",
   "metadata": {},
   "source": [
    "### Create DataFrame"
   ]
  },
  {
   "cell_type": "code",
   "execution_count": 33,
   "metadata": {},
   "outputs": [
    {
     "data": {
      "text/html": [
       "<div>\n",
       "<style scoped>\n",
       "    .dataframe tbody tr th:only-of-type {\n",
       "        vertical-align: middle;\n",
       "    }\n",
       "\n",
       "    .dataframe tbody tr th {\n",
       "        vertical-align: top;\n",
       "    }\n",
       "\n",
       "    .dataframe thead th {\n",
       "        text-align: right;\n",
       "    }\n",
       "</style>\n",
       "<table border=\"1\" class=\"dataframe\">\n",
       "  <thead>\n",
       "    <tr style=\"text-align: right;\">\n",
       "      <th></th>\n",
       "      <th>title</th>\n",
       "      <th>author</th>\n",
       "      <th>review</th>\n",
       "      <th>url</th>\n",
       "    </tr>\n",
       "  </thead>\n",
       "  <tbody>\n",
       "    <tr>\n",
       "      <th>0</th>\n",
       "      <td>Análisis Bounty Battle; el título de lucha de ...</td>\n",
       "      <td>NaN</td>\n",
       "      <td>Después del anuncio de su retraso indefinido e...</td>\n",
       "      <td>https://as.com/meristation/2020/09/22/analisis...</td>\n",
       "    </tr>\n",
       "    <tr>\n",
       "      <th>1</th>\n",
       "      <td>eFootball PES 2021, análisis. Rueda el balón, ...</td>\n",
       "      <td>NaN</td>\n",
       "      <td>La temporada futbolística acabó de manera atíp...</td>\n",
       "      <td>https://as.com/meristation/2020/09/22/analisis...</td>\n",
       "    </tr>\n",
       "    <tr>\n",
       "      <th>2</th>\n",
       "      <td>Milky Way Prince: The Vampire Prince, análisis...</td>\n",
       "      <td>NaN</td>\n",
       "      <td>El amor es uno de los temas universales que pe...</td>\n",
       "      <td>https://as.com/meristation/2020/09/21/analisis...</td>\n",
       "    </tr>\n",
       "    <tr>\n",
       "      <th>3</th>\n",
       "      <td>Spinch, análisis PC y Switch: Una experiencia ...</td>\n",
       "      <td>NaN</td>\n",
       "      <td>No hay duda de que el género de las plataforma...</td>\n",
       "      <td>https://as.com/meristation/2020/09/20/analisis...</td>\n",
       "    </tr>\n",
       "    <tr>\n",
       "      <th>4</th>\n",
       "      <td>Spelunky 2, análisis: el videojuego más hardco...</td>\n",
       "      <td>NaN</td>\n",
       "      <td>Mucho ha llovido desde el lanzamiento de Spelu...</td>\n",
       "      <td>https://as.com/meristation/2020/09/19/analisis...</td>\n",
       "    </tr>\n",
       "  </tbody>\n",
       "</table>\n",
       "</div>"
      ],
      "text/plain": [
       "                                               title  author  \\\n",
       "0  Análisis Bounty Battle; el título de lucha de ...     NaN   \n",
       "1  eFootball PES 2021, análisis. Rueda el balón, ...     NaN   \n",
       "2  Milky Way Prince: The Vampire Prince, análisis...     NaN   \n",
       "3  Spinch, análisis PC y Switch: Una experiencia ...     NaN   \n",
       "4  Spelunky 2, análisis: el videojuego más hardco...     NaN   \n",
       "\n",
       "                                              review  \\\n",
       "0  Después del anuncio de su retraso indefinido e...   \n",
       "1  La temporada futbolística acabó de manera atíp...   \n",
       "2  El amor es uno de los temas universales que pe...   \n",
       "3  No hay duda de que el género de las plataforma...   \n",
       "4  Mucho ha llovido desde el lanzamiento de Spelu...   \n",
       "\n",
       "                                                 url  \n",
       "0  https://as.com/meristation/2020/09/22/analisis...  \n",
       "1  https://as.com/meristation/2020/09/22/analisis...  \n",
       "2  https://as.com/meristation/2020/09/21/analisis...  \n",
       "3  https://as.com/meristation/2020/09/20/analisis...  \n",
       "4  https://as.com/meristation/2020/09/19/analisis...  "
      ]
     },
     "execution_count": 33,
     "metadata": {},
     "output_type": "execute_result"
    }
   ],
   "source": [
    "meristation = pd.DataFrame({'title': titles, \n",
    "                           'author': np.nan, \n",
    "                           'review': reviews_col, \n",
    "                           'url': links \n",
    "                           })\n",
    "\n",
    "meristation.head()"
   ]
  },
  {
   "cell_type": "code",
   "execution_count": 34,
   "metadata": {},
   "outputs": [],
   "source": [
    "#meristation.to_csv('../data/meristation_data.csv', index=False)"
   ]
  },
  {
   "cell_type": "markdown",
   "metadata": {},
   "source": [
    "## Page parsing and link retrieving function for Meristation"
   ]
  },
  {
   "cell_type": "code",
   "execution_count": 7,
   "metadata": {},
   "outputs": [],
   "source": [
    "def meristation_link_retrieve(num_pages):\n",
    "    links = []\n",
    "    \n",
    "    # pages parser\n",
    "    for i in range(num_pages):\n",
    "        url = f'https://as.com/meristation/analisis/{331-i}'\n",
    "        print(url)\n",
    "\n",
    "        # building soup    \n",
    "        html = requests.get(url).content\n",
    "        soup = BeautifulSoup(html, 'lxml')\n",
    "        articles = soup.find_all('h2')\n",
    "\n",
    "        # links retrieve\n",
    "        for a in articles:\n",
    "            if a.find('a') == None:\n",
    "                pass\n",
    "            else:\n",
    "                links.append(a.find('a')['href'])\n",
    "        \n",
    "        print(links)\n",
    "    \n",
    "    #Deleting non review links\n",
    "    for link in links:\n",
    "        if 'analisis' not in link:\n",
    "            links.remove(link)\n",
    "                \n",
    "    return links\n"
   ]
  },
  {
   "cell_type": "code",
   "execution_count": 8,
   "metadata": {},
   "outputs": [
    {
     "name": "stdout",
     "output_type": "stream",
     "text": [
      "https://as.com/meristation/analisis/331\n",
      "['https://as.com/meristation/2020/10/03/analisis/1601701228_240717.html', 'https://as.com/meristation/2020/10/01/analisis/1601557244_384472.html', 'https://as.com/meristation/2020/09/30/analisis/1601454855_979194.html', 'https://as.com/meristation/2020/09/29/mexico/1601416248_335912.html', 'https://as.com/meristation/2020/09/29/analisis/1601370434_254241.html', 'https://as.com/meristation/2020/09/29/analisis/1601367548_437006.html', 'https://as.com/meristation/2020/09/28/analisis/1601283612_640735.html', 'https://as.com/meristation/2020/09/26/analisis/1601118163_185827.html', 'https://as.com/meristation/2020/09/26/analisis/1601109660_140327.html', 'https://as.com/meristation/2020/09/25/analisis/1601038731_079093.html', 'https://as.com/meristation/2020/09/25/analisis/1601019685_445862.html', 'https://as.com/meristation/2020/09/24/analisis/1600959846_926566.html', 'https://as.com/meristation/2020/09/23/analisis/1600848195_838475.html', 'https://as.com/meristation/2020/09/22/analisis/1600764887_024298.html', 'https://as.com/meristation/2020/09/22/analisis/1600760878_562894.html', 'https://as.com/meristation/2020/09/21/analisis/1600675002_511518.html', 'https://as.com/meristation/2020/09/20/analisis/1600588999_099915.html', 'https://as.com/meristation/2020/09/19/analisis/1600499631_945194.html', 'https://as.com/meristation/2020/09/18/analisis/1600418364_262891.html', 'https://as.com/meristation/2020/09/18/analisis/1600418263_422657.html', 'https://as.com/meristation/2020/09/16/analisis/1600261344_550903.html', 'https://as.com/meristation/2020/09/16/mexico/1600234167_066181.html', 'https://as.com/meristation/2020/09/15/analisis/1600181818_035725.html', 'https://as.com/meristation/2020/09/15/analisis/1600166091_128370.html', 'https://as.com/meristation/2020/09/14/analisis/1600097234_505564.html', 'https://as.com/meristation/2020/09/13/analisis/1599985057_505947.html', 'https://as.com/meristation/2020/09/12/analisis/1599897766_790983.html', 'https://as.com/meristation/2020/09/11/analisis/1599814324_095879.html']\n",
      "https://as.com/meristation/analisis/330\n",
      "['https://as.com/meristation/2020/10/03/analisis/1601701228_240717.html', 'https://as.com/meristation/2020/10/01/analisis/1601557244_384472.html', 'https://as.com/meristation/2020/09/30/analisis/1601454855_979194.html', 'https://as.com/meristation/2020/09/29/mexico/1601416248_335912.html', 'https://as.com/meristation/2020/09/29/analisis/1601370434_254241.html', 'https://as.com/meristation/2020/09/29/analisis/1601367548_437006.html', 'https://as.com/meristation/2020/09/28/analisis/1601283612_640735.html', 'https://as.com/meristation/2020/09/26/analisis/1601118163_185827.html', 'https://as.com/meristation/2020/09/26/analisis/1601109660_140327.html', 'https://as.com/meristation/2020/09/25/analisis/1601038731_079093.html', 'https://as.com/meristation/2020/09/25/analisis/1601019685_445862.html', 'https://as.com/meristation/2020/09/24/analisis/1600959846_926566.html', 'https://as.com/meristation/2020/09/23/analisis/1600848195_838475.html', 'https://as.com/meristation/2020/09/22/analisis/1600764887_024298.html', 'https://as.com/meristation/2020/09/22/analisis/1600760878_562894.html', 'https://as.com/meristation/2020/09/21/analisis/1600675002_511518.html', 'https://as.com/meristation/2020/09/20/analisis/1600588999_099915.html', 'https://as.com/meristation/2020/09/19/analisis/1600499631_945194.html', 'https://as.com/meristation/2020/09/18/analisis/1600418364_262891.html', 'https://as.com/meristation/2020/09/18/analisis/1600418263_422657.html', 'https://as.com/meristation/2020/09/16/analisis/1600261344_550903.html', 'https://as.com/meristation/2020/09/16/mexico/1600234167_066181.html', 'https://as.com/meristation/2020/09/15/analisis/1600181818_035725.html', 'https://as.com/meristation/2020/09/15/analisis/1600166091_128370.html', 'https://as.com/meristation/2020/09/14/analisis/1600097234_505564.html', 'https://as.com/meristation/2020/09/13/analisis/1599985057_505947.html', 'https://as.com/meristation/2020/09/12/analisis/1599897766_790983.html', 'https://as.com/meristation/2020/09/11/analisis/1599814324_095879.html', 'https://as.com/meristation/2020/09/10/analisis/1599724094_607227.html', 'https://as.com/meristation/2020/09/10/analisis/1599724275_427325.html', 'https://as.com/meristation/2020/09/09/analisis/1599637913_679351.html', 'https://as.com/meristation/2020/09/09/analisis/1599637698_672305.html', 'https://as.com/meristation/2020/09/08/analisis/1599556131_644982.html', 'https://as.com/meristation/2020/09/07/analisis/1599458440_516263.html', 'https://as.com/meristation/2020/09/06/analisis/1599376563_915838.html', 'https://as.com/meristation/2020/09/05/analisis/1599292060_269470.html', 'https://as.com/meristation/2020/09/05/analisis/1599291809_925523.html', 'https://as.com/meristation/2020/09/04/analisis/1599204574_572988.html', 'https://as.com/meristation/2020/09/03/analisis/1599120279_546077.html', 'https://as.com/meristation/2020/09/03/analisis/1599120000_620699.html', 'https://as.com/meristation/2020/09/02/analisis/1599025124_778584.html', 'https://as.com/meristation/2020/09/01/analisis/1598941653_372913.html', 'https://as.com/meristation/2020/09/01/analisis/1598941607_877896.html', 'https://as.com/meristation/2020/08/30/mexico/1598745608_422603.html', 'https://as.com/meristation/2020/08/29/analisis/1598687447_244448.html', 'https://as.com/meristation/2020/08/28/analisis/1598597583_068647.html', 'https://as.com/meristation/2020/08/28/analisis/1598596235_814741.html', 'https://as.com/meristation/2020/08/27/analisis/1598516233_684674.html', 'https://as.com/meristation/2020/08/26/analisis/1598429985_300930.html', 'https://as.com/meristation/2020/08/25/analisis/1598337401_928685.html', 'https://as.com/meristation/2020/08/24/analisis/1598267064_780682.html', 'https://as.com/meristation/2020/08/23/analisis/1598171552_285145.html', 'https://as.com/meristation/2020/08/22/analisis/1598084195_940842.html', 'https://as.com/meristation/2020/08/20/analisis/1597876541_135980.html', 'https://as.com/meristation/2020/08/17/analisis/1597653157_596989.html', 'https://as.com/meristation/2020/08/17/analisis/1597647644_953144.html', 'https://as.com/meristation/2020/08/16/mexico/1597535530_720114.html', 'https://as.com/meristation/2020/08/13/mexico/1597301737_154655.html']\n",
      "https://as.com/meristation/analisis/329\n",
      "['https://as.com/meristation/2020/10/03/analisis/1601701228_240717.html', 'https://as.com/meristation/2020/10/01/analisis/1601557244_384472.html', 'https://as.com/meristation/2020/09/30/analisis/1601454855_979194.html', 'https://as.com/meristation/2020/09/29/mexico/1601416248_335912.html', 'https://as.com/meristation/2020/09/29/analisis/1601370434_254241.html', 'https://as.com/meristation/2020/09/29/analisis/1601367548_437006.html', 'https://as.com/meristation/2020/09/28/analisis/1601283612_640735.html', 'https://as.com/meristation/2020/09/26/analisis/1601118163_185827.html', 'https://as.com/meristation/2020/09/26/analisis/1601109660_140327.html', 'https://as.com/meristation/2020/09/25/analisis/1601038731_079093.html', 'https://as.com/meristation/2020/09/25/analisis/1601019685_445862.html', 'https://as.com/meristation/2020/09/24/analisis/1600959846_926566.html', 'https://as.com/meristation/2020/09/23/analisis/1600848195_838475.html', 'https://as.com/meristation/2020/09/22/analisis/1600764887_024298.html', 'https://as.com/meristation/2020/09/22/analisis/1600760878_562894.html', 'https://as.com/meristation/2020/09/21/analisis/1600675002_511518.html', 'https://as.com/meristation/2020/09/20/analisis/1600588999_099915.html', 'https://as.com/meristation/2020/09/19/analisis/1600499631_945194.html', 'https://as.com/meristation/2020/09/18/analisis/1600418364_262891.html', 'https://as.com/meristation/2020/09/18/analisis/1600418263_422657.html', 'https://as.com/meristation/2020/09/16/analisis/1600261344_550903.html', 'https://as.com/meristation/2020/09/16/mexico/1600234167_066181.html', 'https://as.com/meristation/2020/09/15/analisis/1600181818_035725.html', 'https://as.com/meristation/2020/09/15/analisis/1600166091_128370.html', 'https://as.com/meristation/2020/09/14/analisis/1600097234_505564.html', 'https://as.com/meristation/2020/09/13/analisis/1599985057_505947.html', 'https://as.com/meristation/2020/09/12/analisis/1599897766_790983.html', 'https://as.com/meristation/2020/09/11/analisis/1599814324_095879.html', 'https://as.com/meristation/2020/09/10/analisis/1599724094_607227.html', 'https://as.com/meristation/2020/09/10/analisis/1599724275_427325.html', 'https://as.com/meristation/2020/09/09/analisis/1599637913_679351.html', 'https://as.com/meristation/2020/09/09/analisis/1599637698_672305.html', 'https://as.com/meristation/2020/09/08/analisis/1599556131_644982.html', 'https://as.com/meristation/2020/09/07/analisis/1599458440_516263.html', 'https://as.com/meristation/2020/09/06/analisis/1599376563_915838.html', 'https://as.com/meristation/2020/09/05/analisis/1599292060_269470.html', 'https://as.com/meristation/2020/09/05/analisis/1599291809_925523.html', 'https://as.com/meristation/2020/09/04/analisis/1599204574_572988.html', 'https://as.com/meristation/2020/09/03/analisis/1599120279_546077.html', 'https://as.com/meristation/2020/09/03/analisis/1599120000_620699.html', 'https://as.com/meristation/2020/09/02/analisis/1599025124_778584.html', 'https://as.com/meristation/2020/09/01/analisis/1598941653_372913.html', 'https://as.com/meristation/2020/09/01/analisis/1598941607_877896.html', 'https://as.com/meristation/2020/08/30/mexico/1598745608_422603.html', 'https://as.com/meristation/2020/08/29/analisis/1598687447_244448.html', 'https://as.com/meristation/2020/08/28/analisis/1598597583_068647.html', 'https://as.com/meristation/2020/08/28/analisis/1598596235_814741.html', 'https://as.com/meristation/2020/08/27/analisis/1598516233_684674.html', 'https://as.com/meristation/2020/08/26/analisis/1598429985_300930.html', 'https://as.com/meristation/2020/08/25/analisis/1598337401_928685.html', 'https://as.com/meristation/2020/08/24/analisis/1598267064_780682.html', 'https://as.com/meristation/2020/08/23/analisis/1598171552_285145.html', 'https://as.com/meristation/2020/08/22/analisis/1598084195_940842.html', 'https://as.com/meristation/2020/08/20/analisis/1597876541_135980.html', 'https://as.com/meristation/2020/08/17/analisis/1597653157_596989.html', 'https://as.com/meristation/2020/08/17/analisis/1597647644_953144.html', 'https://as.com/meristation/2020/08/16/mexico/1597535530_720114.html', 'https://as.com/meristation/2020/08/13/mexico/1597301737_154655.html', 'https://as.com/meristation/2020/08/13/analisis/1597305541_190288.html', 'https://as.com/meristation/2020/08/12/analisis/1597219006_138222.html', 'https://as.com/meristation/2020/08/11/analisis/1597133417_197223.html', 'https://as.com/meristation/2020/08/09/analisis/1597004485_039494.html', 'https://as.com/meristation/2020/08/09/analisis/1596961258_674431.html', 'https://as.com/meristation/2020/08/08/analisis/1596874851_748895.html', 'https://as.com/meristation/2020/08/06/analisis/1596722220_968180.html', 'https://as.com/meristation/2020/08/06/analisis/1596702180_820849.html', 'https://as.com/meristation/2020/08/05/analisis/1596617154_117301.html', 'https://as.com/meristation/2020/08/04/analisis/1596528369_345764.html', 'https://as.com/meristation/2020/08/03/analisis/1596447160_156678.html', 'https://as.com/meristation/2020/08/01/analisis/1596271144_030545.html', 'https://as.com/meristation/2020/07/31/analisis/1596192699_474332.html', 'https://as.com/meristation/2020/07/28/analisis/1595924252_177060.html', 'https://as.com/meristation/2020/07/27/mexico/1595881044_406171.html', 'https://as.com/meristation/2020/07/27/analisis/1595837490_447627.html', 'https://as.com/meristation/2020/07/25/analisis/1595662851_697761.html', 'https://as.com/meristation/2020/07/23/analisis/1595493375_384233.html', 'https://as.com/meristation/2020/07/21/analisis/1595320009_748014.html', 'https://as.com/meristation/2020/07/20/analisis/1595233440_040761.html', 'https://as.com/meristation/2020/07/17/analisis/1594966538_257377.html', 'https://as.com/meristation/2020/07/16/analisis/1594893642_362867.html', 'https://as.com/meristation/2020/07/15/analisis/1594818038_701412.html', 'https://as.com/meristation/2020/07/14/analisis/1594735229_036419.html', 'https://as.com/meristation/2020/07/14/analisis/1594714075_946076.html', 'https://as.com/meristation/2020/07/13/analisis/1594649031_213330.html', 'https://as.com/meristation/2020/07/11/analisis/1594450715_338502.html', 'https://as.com/meristation/2020/07/09/analisis/1594276870_233978.html', 'https://as.com/meristation/2020/07/08/analisis/1594206135_991374.html', 'https://as.com/meristation/2020/07/08/analisis/1594195001_247531.html']\n",
      "['https://as.com/meristation/2020/10/03/analisis/1601701228_240717.html', 'https://as.com/meristation/2020/10/01/analisis/1601557244_384472.html', 'https://as.com/meristation/2020/09/30/analisis/1601454855_979194.html', 'https://as.com/meristation/2020/09/29/analisis/1601370434_254241.html', 'https://as.com/meristation/2020/09/29/analisis/1601367548_437006.html', 'https://as.com/meristation/2020/09/28/analisis/1601283612_640735.html', 'https://as.com/meristation/2020/09/26/analisis/1601118163_185827.html', 'https://as.com/meristation/2020/09/26/analisis/1601109660_140327.html', 'https://as.com/meristation/2020/09/25/analisis/1601038731_079093.html', 'https://as.com/meristation/2020/09/25/analisis/1601019685_445862.html', 'https://as.com/meristation/2020/09/24/analisis/1600959846_926566.html', 'https://as.com/meristation/2020/09/23/analisis/1600848195_838475.html', 'https://as.com/meristation/2020/09/22/analisis/1600764887_024298.html', 'https://as.com/meristation/2020/09/22/analisis/1600760878_562894.html', 'https://as.com/meristation/2020/09/21/analisis/1600675002_511518.html', 'https://as.com/meristation/2020/09/20/analisis/1600588999_099915.html', 'https://as.com/meristation/2020/09/19/analisis/1600499631_945194.html', 'https://as.com/meristation/2020/09/18/analisis/1600418364_262891.html', 'https://as.com/meristation/2020/09/18/analisis/1600418263_422657.html', 'https://as.com/meristation/2020/09/16/analisis/1600261344_550903.html', 'https://as.com/meristation/2020/09/15/analisis/1600181818_035725.html', 'https://as.com/meristation/2020/09/15/analisis/1600166091_128370.html', 'https://as.com/meristation/2020/09/14/analisis/1600097234_505564.html', 'https://as.com/meristation/2020/09/13/analisis/1599985057_505947.html', 'https://as.com/meristation/2020/09/12/analisis/1599897766_790983.html', 'https://as.com/meristation/2020/09/11/analisis/1599814324_095879.html', 'https://as.com/meristation/2020/09/10/analisis/1599724094_607227.html', 'https://as.com/meristation/2020/09/10/analisis/1599724275_427325.html', 'https://as.com/meristation/2020/09/09/analisis/1599637913_679351.html', 'https://as.com/meristation/2020/09/09/analisis/1599637698_672305.html', 'https://as.com/meristation/2020/09/08/analisis/1599556131_644982.html', 'https://as.com/meristation/2020/09/07/analisis/1599458440_516263.html', 'https://as.com/meristation/2020/09/06/analisis/1599376563_915838.html', 'https://as.com/meristation/2020/09/05/analisis/1599292060_269470.html', 'https://as.com/meristation/2020/09/05/analisis/1599291809_925523.html', 'https://as.com/meristation/2020/09/04/analisis/1599204574_572988.html', 'https://as.com/meristation/2020/09/03/analisis/1599120279_546077.html', 'https://as.com/meristation/2020/09/03/analisis/1599120000_620699.html', 'https://as.com/meristation/2020/09/02/analisis/1599025124_778584.html', 'https://as.com/meristation/2020/09/01/analisis/1598941653_372913.html', 'https://as.com/meristation/2020/09/01/analisis/1598941607_877896.html', 'https://as.com/meristation/2020/08/29/analisis/1598687447_244448.html', 'https://as.com/meristation/2020/08/28/analisis/1598597583_068647.html', 'https://as.com/meristation/2020/08/28/analisis/1598596235_814741.html', 'https://as.com/meristation/2020/08/27/analisis/1598516233_684674.html', 'https://as.com/meristation/2020/08/26/analisis/1598429985_300930.html', 'https://as.com/meristation/2020/08/25/analisis/1598337401_928685.html', 'https://as.com/meristation/2020/08/24/analisis/1598267064_780682.html', 'https://as.com/meristation/2020/08/23/analisis/1598171552_285145.html', 'https://as.com/meristation/2020/08/22/analisis/1598084195_940842.html', 'https://as.com/meristation/2020/08/20/analisis/1597876541_135980.html', 'https://as.com/meristation/2020/08/17/analisis/1597653157_596989.html', 'https://as.com/meristation/2020/08/17/analisis/1597647644_953144.html', 'https://as.com/meristation/2020/08/13/mexico/1597301737_154655.html', 'https://as.com/meristation/2020/08/13/analisis/1597305541_190288.html', 'https://as.com/meristation/2020/08/12/analisis/1597219006_138222.html', 'https://as.com/meristation/2020/08/11/analisis/1597133417_197223.html', 'https://as.com/meristation/2020/08/09/analisis/1597004485_039494.html', 'https://as.com/meristation/2020/08/09/analisis/1596961258_674431.html', 'https://as.com/meristation/2020/08/08/analisis/1596874851_748895.html', 'https://as.com/meristation/2020/08/06/analisis/1596722220_968180.html', 'https://as.com/meristation/2020/08/06/analisis/1596702180_820849.html', 'https://as.com/meristation/2020/08/05/analisis/1596617154_117301.html', 'https://as.com/meristation/2020/08/04/analisis/1596528369_345764.html', 'https://as.com/meristation/2020/08/03/analisis/1596447160_156678.html', 'https://as.com/meristation/2020/08/01/analisis/1596271144_030545.html', 'https://as.com/meristation/2020/07/31/analisis/1596192699_474332.html', 'https://as.com/meristation/2020/07/28/analisis/1595924252_177060.html', 'https://as.com/meristation/2020/07/27/analisis/1595837490_447627.html', 'https://as.com/meristation/2020/07/25/analisis/1595662851_697761.html', 'https://as.com/meristation/2020/07/23/analisis/1595493375_384233.html', 'https://as.com/meristation/2020/07/21/analisis/1595320009_748014.html', 'https://as.com/meristation/2020/07/20/analisis/1595233440_040761.html', 'https://as.com/meristation/2020/07/17/analisis/1594966538_257377.html', 'https://as.com/meristation/2020/07/16/analisis/1594893642_362867.html', 'https://as.com/meristation/2020/07/15/analisis/1594818038_701412.html', 'https://as.com/meristation/2020/07/14/analisis/1594735229_036419.html', 'https://as.com/meristation/2020/07/14/analisis/1594714075_946076.html', 'https://as.com/meristation/2020/07/13/analisis/1594649031_213330.html', 'https://as.com/meristation/2020/07/11/analisis/1594450715_338502.html', 'https://as.com/meristation/2020/07/09/analisis/1594276870_233978.html', 'https://as.com/meristation/2020/07/08/analisis/1594206135_991374.html', 'https://as.com/meristation/2020/07/08/analisis/1594195001_247531.html']\n"
     ]
    }
   ],
   "source": [
    "num_pages = 3\n",
    "\n",
    "links = meristation_link_retrieve(num_pages)\n",
    "\n",
    "print(links)"
   ]
  },
  {
   "cell_type": "code",
   "execution_count": null,
   "metadata": {},
   "outputs": [],
   "source": []
  }
 ],
 "metadata": {
  "kernelspec": {
   "display_name": "Python [conda env:lab_env]",
   "language": "python",
   "name": "conda-env-lab_env-py"
  },
  "language_info": {
   "codemirror_mode": {
    "name": "ipython",
    "version": 3
   },
   "file_extension": ".py",
   "mimetype": "text/x-python",
   "name": "python",
   "nbconvert_exporter": "python",
   "pygments_lexer": "ipython3",
   "version": "3.7.3"
  }
 },
 "nbformat": 4,
 "nbformat_minor": 4
}
