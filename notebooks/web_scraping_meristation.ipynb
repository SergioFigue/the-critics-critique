{
 "cells": [
  {
   "cell_type": "markdown",
   "metadata": {},
   "source": [
    "# Scraping MERISTATION"
   ]
  },
  {
   "cell_type": "code",
   "execution_count": 16,
   "metadata": {},
   "outputs": [],
   "source": [
    "import requests\n",
    "from bs4 import BeautifulSoup\n",
    "import time\n",
    "import pandas as pd\n",
    "import numpy as np\n",
    "import newspaper\n",
    "from newspaper import Article\n",
    "from newspaper import Source\n",
    "from newspaper import fulltext"
   ]
  },
  {
   "cell_type": "markdown",
   "metadata": {},
   "source": [
    "## Scraping Articles Site "
   ]
  },
  {
   "cell_type": "code",
   "execution_count": 18,
   "metadata": {},
   "outputs": [
    {
     "data": {
      "text/plain": [
       "b'<!DOCTYPE html>\\n<html lang=\"es\">\\n<head>\\n<meta char'"
      ]
     },
     "execution_count": 18,
     "metadata": {},
     "output_type": "execute_result"
    }
   ],
   "source": [
    "review_url = 'https://as.com/meristation/analisis/'\n",
    "html = requests.get(review_url).content\n",
    "html[:50]"
   ]
  },
  {
   "cell_type": "code",
   "execution_count": 19,
   "metadata": {},
   "outputs": [],
   "source": [
    "soup = BeautifulSoup(html, 'lxml')\n",
    "articles = soup.find_all('h2')"
   ]
  },
  {
   "cell_type": "code",
   "execution_count": 20,
   "metadata": {},
   "outputs": [
    {
     "data": {
      "text/plain": [
       "['art of rally, análisis',\n",
       " 'Crash Bandicoot 4, Análisis. Celebración plataformera',\n",
       " 'WWE 2K Battlegrounds, análisis. La lucha libre nos vuelve a romper el corazón',\n",
       " 'Turtle Beach Stealth 700 Gen 2, Análisis',\n",
       " 'Maid of Sker, análisis: el fan victoriano de Resident Evil VII']"
      ]
     },
     "execution_count": 20,
     "metadata": {},
     "output_type": "execute_result"
    }
   ],
   "source": [
    "#Extraer títulos\n",
    "\n",
    "titles = []\n",
    "\n",
    "for a in articles:\n",
    "    if a.find('a') == None:\n",
    "        pass\n",
    "    else:\n",
    "        titles.append(a.find('a')['title'])\n",
    "    \n",
    "titles[0:5]"
   ]
  },
  {
   "cell_type": "code",
   "execution_count": 21,
   "metadata": {},
   "outputs": [
    {
     "data": {
      "text/plain": [
       "['https://as.com/meristation/2020/10/03/analisis/1601701228_240717.html',\n",
       " 'https://as.com/meristation/2020/10/01/analisis/1601557244_384472.html',\n",
       " 'https://as.com/meristation/2020/09/30/analisis/1601454855_979194.html',\n",
       " 'https://as.com/meristation/2020/09/29/mexico/1601416248_335912.html',\n",
       " 'https://as.com/meristation/2020/09/29/analisis/1601370434_254241.html',\n",
       " 'https://as.com/meristation/2020/09/29/analisis/1601367548_437006.html']"
      ]
     },
     "execution_count": 21,
     "metadata": {},
     "output_type": "execute_result"
    }
   ],
   "source": [
    "#Extraer links\n",
    "\n",
    "links = []\n",
    "\n",
    "for a in articles:\n",
    "    if a.find('a') == None:\n",
    "        pass\n",
    "    else:\n",
    "        links.append(a.find('a')['href'])\n",
    "    \n",
    "links[0:6]"
   ]
  },
  {
   "cell_type": "markdown",
   "metadata": {},
   "source": [
    "## Page parsing and link retrieving function for Meristation"
   ]
  },
  {
   "cell_type": "code",
   "execution_count": 22,
   "metadata": {},
   "outputs": [],
   "source": [
    "def meristation_link_retrieve(num_pages):\n",
    "    links = []\n",
    "    \n",
    "    # pages parser\n",
    "    for i in range(num_pages):\n",
    "        url = f'https://as.com/meristation/analisis/{331-i}'\n",
    "        #print(url)\n",
    "\n",
    "        # building soup    \n",
    "        html = requests.get(url).content\n",
    "        soup = BeautifulSoup(html, 'lxml')\n",
    "        articles = soup.find_all('h2')\n",
    "\n",
    "        # links retrieve\n",
    "        for a in articles:\n",
    "            if a.find('a') == None:\n",
    "                pass\n",
    "            else:\n",
    "                links.append(a.find('a')['href'])\n",
    "        \n",
    "    #print(links)\n",
    "    \n",
    "    #Deleting non review links\n",
    "    for link in links:\n",
    "        if 'analisis' not in link:\n",
    "            links.remove(link)\n",
    "                \n",
    "    return links\n"
   ]
  },
  {
   "cell_type": "code",
   "execution_count": 23,
   "metadata": {},
   "outputs": [
    {
     "name": "stdout",
     "output_type": "stream",
     "text": [
      "['https://as.com/meristation/2020/10/03/analisis/1601701228_240717.html', 'https://as.com/meristation/2020/10/01/analisis/1601557244_384472.html', 'https://as.com/meristation/2020/09/30/analisis/1601454855_979194.html', 'https://as.com/meristation/2020/09/29/analisis/1601370434_254241.html', 'https://as.com/meristation/2020/09/29/analisis/1601367548_437006.html', 'https://as.com/meristation/2020/09/28/analisis/1601283612_640735.html', 'https://as.com/meristation/2020/09/26/analisis/1601118163_185827.html', 'https://as.com/meristation/2020/09/26/analisis/1601109660_140327.html', 'https://as.com/meristation/2020/09/25/analisis/1601038731_079093.html', 'https://as.com/meristation/2020/09/25/analisis/1601019685_445862.html', 'https://as.com/meristation/2020/09/24/analisis/1600959846_926566.html', 'https://as.com/meristation/2020/09/23/analisis/1600848195_838475.html', 'https://as.com/meristation/2020/09/22/analisis/1600764887_024298.html', 'https://as.com/meristation/2020/09/22/analisis/1600760878_562894.html', 'https://as.com/meristation/2020/09/21/analisis/1600675002_511518.html', 'https://as.com/meristation/2020/09/20/analisis/1600588999_099915.html', 'https://as.com/meristation/2020/09/19/analisis/1600499631_945194.html', 'https://as.com/meristation/2020/09/18/analisis/1600418364_262891.html', 'https://as.com/meristation/2020/09/18/analisis/1600418263_422657.html', 'https://as.com/meristation/2020/09/16/analisis/1600261344_550903.html', 'https://as.com/meristation/2020/09/15/analisis/1600181818_035725.html', 'https://as.com/meristation/2020/09/15/analisis/1600166091_128370.html', 'https://as.com/meristation/2020/09/14/analisis/1600097234_505564.html', 'https://as.com/meristation/2020/09/13/analisis/1599985057_505947.html', 'https://as.com/meristation/2020/09/12/analisis/1599897766_790983.html', 'https://as.com/meristation/2020/09/11/analisis/1599814324_095879.html', 'https://as.com/meristation/2020/09/10/analisis/1599724094_607227.html', 'https://as.com/meristation/2020/09/10/analisis/1599724275_427325.html', 'https://as.com/meristation/2020/09/09/analisis/1599637913_679351.html', 'https://as.com/meristation/2020/09/09/analisis/1599637698_672305.html', 'https://as.com/meristation/2020/09/08/analisis/1599556131_644982.html', 'https://as.com/meristation/2020/09/07/analisis/1599458440_516263.html', 'https://as.com/meristation/2020/09/06/analisis/1599376563_915838.html', 'https://as.com/meristation/2020/09/05/analisis/1599292060_269470.html', 'https://as.com/meristation/2020/09/05/analisis/1599291809_925523.html', 'https://as.com/meristation/2020/09/04/analisis/1599204574_572988.html', 'https://as.com/meristation/2020/09/03/analisis/1599120279_546077.html', 'https://as.com/meristation/2020/09/03/analisis/1599120000_620699.html', 'https://as.com/meristation/2020/09/02/analisis/1599025124_778584.html', 'https://as.com/meristation/2020/09/01/analisis/1598941653_372913.html', 'https://as.com/meristation/2020/09/01/analisis/1598941607_877896.html', 'https://as.com/meristation/2020/08/29/analisis/1598687447_244448.html', 'https://as.com/meristation/2020/08/28/analisis/1598597583_068647.html', 'https://as.com/meristation/2020/08/28/analisis/1598596235_814741.html', 'https://as.com/meristation/2020/08/27/analisis/1598516233_684674.html', 'https://as.com/meristation/2020/08/26/analisis/1598429985_300930.html', 'https://as.com/meristation/2020/08/25/analisis/1598337401_928685.html', 'https://as.com/meristation/2020/08/24/analisis/1598267064_780682.html', 'https://as.com/meristation/2020/08/23/analisis/1598171552_285145.html', 'https://as.com/meristation/2020/08/22/analisis/1598084195_940842.html', 'https://as.com/meristation/2020/08/20/analisis/1597876541_135980.html', 'https://as.com/meristation/2020/08/17/analisis/1597653157_596989.html', 'https://as.com/meristation/2020/08/17/analisis/1597647644_953144.html', 'https://as.com/meristation/2020/08/13/mexico/1597301737_154655.html']\n"
     ]
    }
   ],
   "source": [
    "num_pages = 2\n",
    "\n",
    "links = meristation_link_retrieve(num_pages)\n",
    "\n",
    "print(links)"
   ]
  },
  {
   "cell_type": "markdown",
   "metadata": {},
   "source": [
    "## Scraping Single Review"
   ]
  },
  {
   "cell_type": "code",
   "execution_count": 212,
   "metadata": {},
   "outputs": [
    {
     "data": {
      "text/plain": [
       "b'<!DOCTYPE html>\\n<html lang=\"es\">\\n<head>\\n<meta char'"
      ]
     },
     "execution_count": 212,
     "metadata": {},
     "output_type": "execute_result"
    }
   ],
   "source": [
    "review_url = 'https://as.com/meristation/2020/09/29/analisis/1601370434_254241.html'\n",
    "review_html = requests.get(review_url).content\n",
    "review_html[:50]"
   ]
  },
  {
   "cell_type": "code",
   "execution_count": 213,
   "metadata": {},
   "outputs": [],
   "source": [
    "soup = BeautifulSoup(review_html, 'lxml')"
   ]
  },
  {
   "cell_type": "code",
   "execution_count": 214,
   "metadata": {},
   "outputs": [],
   "source": [
    "p_tags = soup.find('div', {'class': 'art-body'}).find_all('p')"
   ]
  },
  {
   "cell_type": "code",
   "execution_count": 215,
   "metadata": {},
   "outputs": [],
   "source": [
    "review = [tag.text for tag in p_tags]\n",
    "review = ' '.join(review)"
   ]
  },
  {
   "cell_type": "code",
   "execution_count": 216,
   "metadata": {},
   "outputs": [
    {
     "data": {
      "text/plain": [
       "'\"Un consejo, señor, no se acerque nunca al lago... Y sobre todo, tápese los oídos si oye cantar la voz bajo el agua...\", El fantasma de la ópera\" (1910), Gastón Leroux En un videojuego, lo mismo que en una película, poco importa si es grande o pequeño, si lo han hecho un estudio de 100 personas con 80 millones de presupuesto, o 5 con apenas unas decenas de miles. Lo que cuenta es su eficacia, su capacidad para lograr el fin último que su género busca. Maid of Sker logra eso en su estupenda primera parte, pero lo arruina en su segunda, en un juego con 2 mitades diferenciadas por sus mecánicas. Pero incluso tal como está, su historia merece ser descubierta. Tras un Don’t Knock Twice que ciertamente componía una gran atmósfera, el estudio Wales Interactive regresa este año con Maia of Sker, un título con el que buscan solventar los fallos del anterior al tiempo que contarnos una estupenda historia de horror cósmico - marítimo. El punto de partida es directo: Estás en el siglo XIX, en un a'"
      ]
     },
     "execution_count": 216,
     "metadata": {},
     "output_type": "execute_result"
    }
   ],
   "source": [
    "review[0:1000]"
   ]
  },
  {
   "cell_type": "code",
   "execution_count": 218,
   "metadata": {},
   "outputs": [
    {
     "data": {
      "text/plain": [
       "'César Otero'"
      ]
     },
     "execution_count": 218,
     "metadata": {},
     "output_type": "execute_result"
    }
   ],
   "source": [
    "author = soup.find('li', {'class': 'art-aut-wr'}).text.strip('\\n')\n",
    "author"
   ]
  },
  {
   "cell_type": "code",
   "execution_count": 219,
   "metadata": {},
   "outputs": [],
   "source": [
    "# Author\n",
    "def meri_author():\n",
    "    author = 'None'\n",
    "    \n",
    "    try:\n",
    "        author = soup.find('p', {'class': 'art-aut-wr'}).find('a').text\n",
    "\n",
    "    except AttributeError:\n",
    "        pass\n",
    "    \n",
    "    try:\n",
    "        author = soup.find('li', {'class': 'art-aut-wr'}).text.strip('\\n')\n",
    "\n",
    "    except AttributeError:\n",
    "        pass\n",
    "\n",
    "    return author"
   ]
  },
  {
   "cell_type": "code",
   "execution_count": 191,
   "metadata": {},
   "outputs": [
    {
     "data": {
      "text/plain": [
       "'WWE 2K Battlegrounds'"
      ]
     },
     "execution_count": 191,
     "metadata": {},
     "output_type": "execute_result"
    }
   ],
   "source": [
    "# Game\n",
    "\n",
    "'''News_article = Article(review_url)\n",
    "News_article.download()\n",
    "News_article.parse()\n",
    "News_article.title'''\n",
    "\n",
    "game = soup.find('div', {'class': 'ga-h-tl'}).text\n",
    "game"
   ]
  },
  {
   "cell_type": "code",
   "execution_count": 192,
   "metadata": {},
   "outputs": [
    {
     "name": "stdout",
     "output_type": "stream",
     "text": [
      "\n",
      "NSW\n",
      " \n",
      "STD\n",
      " \n",
      "PS4\n",
      " \n",
      "XBO\n",
      " \n",
      "PC\n",
      " \n",
      "Acción                     \n",
      "2K Games\n",
      "\n"
     ]
    }
   ],
   "source": [
    "# Genre, Company and Platform\n",
    "\n",
    "infobox = soup.find('ul', {'class': 'li-inl'}).contents\n",
    "for box in infobox:  \n",
    "        \n",
    "    if (type(box.find('span')) == int) or (box.find('span') == None):\n",
    "        pass\n",
    "    else:\n",
    "        #print(box.find('span').text)\n",
    " \n",
    "        if 'Plataforma' in box.find('span').text:\n",
    "            group = box.find_all('a', {'class': 'rv-inline'})\n",
    "            platform = [plat.contents[0] for plat in group]\n",
    "            platform = ' '.join(platform)\n",
    "            \n",
    "        if 'Género' in box.find('span').text:\n",
    "            genre = box.find('span', {'class': 'val'}).text\n",
    "            \n",
    "        if 'Editor' in box.find('span').text:\n",
    "            company = box.find('span', {'class': 'val'}).text\n",
    "\n",
    "print(platform, genre, company)"
   ]
  },
  {
   "cell_type": "code",
   "execution_count": 204,
   "metadata": {},
   "outputs": [
    {
     "name": "stdout",
     "output_type": "stream",
     "text": [
      "5.7\n"
     ]
    }
   ],
   "source": [
    "# Score\n",
    "\n",
    "def meri_score():\n",
    "    #Initialize with most common score\n",
    "    score = 7\n",
    "\n",
    "    #3 different paths for score in Meristation\n",
    "    try:\n",
    "        score = soup.find('span', {'class': 'rv-sc sc-h'}).text\n",
    "\n",
    "    except AttributeError:\n",
    "        pass\n",
    "\n",
    "    try:\n",
    "        score = soup.find('span', {'class': 'rv-sc sc-m'}).text\n",
    "\n",
    "    except AttributeError:\n",
    "        pass\n",
    "\n",
    "    try:\n",
    "        score = soup.find('span', {'class': 'rv-sc sc-l'}).text\n",
    "\n",
    "    except AttributeError:\n",
    "        pass\n",
    "   \n",
    "    return score"
   ]
  },
  {
   "cell_type": "markdown",
   "metadata": {},
   "source": [
    "## Create columns"
   ]
  },
  {
   "cell_type": "code",
   "execution_count": 223,
   "metadata": {},
   "outputs": [],
   "source": [
    "\n",
    "def meristation_dict(links):\n",
    "    reviews_dict = {}\n",
    "    i = 0\n",
    "\n",
    "    for link in links:\n",
    "        print(link)\n",
    "\n",
    "        #Request content and wait\n",
    "        review_html = requests.get(link).content\n",
    "        \n",
    "        #Avoid get banned and timeout\n",
    "        time.sleep(1)\n",
    "\n",
    "        #Make a Soup and a Newspacer build\n",
    "        soup = BeautifulSoup(review_html, 'lxml')\n",
    "        paper = newspaper.build(link)\n",
    "\n",
    "        #Site name - From Newspaper\n",
    "        site = paper.brand\n",
    "\n",
    "        #URL - From Newspaper\n",
    "        url_link = paper.url\n",
    "        \n",
    "        #Game - From Scraping\n",
    "        game = soup.find('div', {'class': 'ga-h-tl'}).text\n",
    "        print(game)\n",
    "\n",
    "        #Author - From Scraping\n",
    "        author = meri_author() \n",
    "        \n",
    "        #Company, Genre & Platform - From Scraping\n",
    "        genre = 'None'\n",
    "        company = 'None'\n",
    "        platform = 'None'\n",
    "        \n",
    "        infobox = soup.find('ul', {'class': 'li-inl'}).contents\n",
    "        for box in infobox:  \n",
    "\n",
    "            if (type(box.find('span')) == int) or (box.find('span') == None):\n",
    "                pass\n",
    "            else:\n",
    "                #print(box.find('span').text)\n",
    "\n",
    "                if 'Plataforma' in box.find('span').text:\n",
    "                    group = box.find_all('a', {'class': 'rv-inline'})\n",
    "                    platform = [plat.contents[0] for plat in group]\n",
    "                    platform = ' '.join(platform).strip('\\n')\n",
    "\n",
    "                if 'Género' in box.find('span').text:\n",
    "                    genre = box.find('span', {'class': 'val'}).text.strip('\\n')\n",
    "\n",
    "                if 'Editor' in box.find('span').text:\n",
    "                    company = box.find('span', {'class': 'val'}).text.strip('\\n')\n",
    "\n",
    "        #Text & Cleaning - From Scraping\n",
    "        p_tags = soup.find('div', {'class': 'art-body'}).find_all('p')\n",
    "        review = [tag.text for tag in p_tags]\n",
    "        review = ' '.join(review)\n",
    "\n",
    "        #Score & Clean & Transform - From Scraping\n",
    "        score = meri_score()\n",
    "        score = float(score)\n",
    "\n",
    "        #Add to a dict\n",
    "        reviews_dict[i] = {'site': site,\n",
    "                           'url_link': url_link,\n",
    "                           'author': author,\n",
    "                           'game': game,\n",
    "                           'company': company,\n",
    "                           'genre': genre,\n",
    "                           'platform': platform,\n",
    "                           'text': review,\n",
    "                           'score': score}\n",
    "        \n",
    "        i = i+1\n",
    "\n",
    "    return reviews_dict"
   ]
  },
  {
   "cell_type": "code",
   "execution_count": 224,
   "metadata": {},
   "outputs": [
    {
     "name": "stdout",
     "output_type": "stream",
     "text": [
      "https://as.com/meristation/2020/10/03/analisis/1601701228_240717.html\n",
      "art of rally\n",
      "https://as.com/meristation/2020/10/01/analisis/1601557244_384472.html\n",
      "Crash Bandicoot 4: It's About Time\n",
      "https://as.com/meristation/2020/09/30/analisis/1601454855_979194.html\n",
      "WWE 2K Battlegrounds\n",
      "https://as.com/meristation/2020/09/29/analisis/1601370434_254241.html\n",
      "Maid of Sker\n",
      "https://as.com/meristation/2020/09/29/analisis/1601367548_437006.html\n",
      "Pathfinder: Kingmaker\n",
      "{0: {'site': 'as', 'url_link': 'https://as.com/meristation/2020/10/03/analisis/1601701228_240717.html', 'author': 'César Otero', 'game': 'art of rally', 'company': 'Funselektor', 'genre': 'Conducción                    ', 'platform': 'PC', 'text': 'Los fans de los videojuegos de carreras están disfrutando de un verano de lo más movidito; y es que además de las recientes entregas anuales de sagas como WRC o F1, la tercera parte de Project Cars y los arcade Trackmania Remake, Inertial Drift o Hotshot Racing, ahora debemos sumar a la ecuación un título muy esperado por los fans de los rallys con art of rally, una curiosa y original propuesta a medio camino entre la simulación más exigente y los arcade de siempre que pretende hacernos revivir la época dorada de tan popular categoría de automovilismo, desde sus inicios en la década de los 60 hasta la explosión del famoso Grupo B de los 80, un recorrido histórico a cago de los canadienses Funselektor, creadores del celebrado y no menos original Absolute Drift. Veamos qué ofrece art of rally tanto para los más puristas del volante como para los interesados en propuestas frescas rebosantes de personalidad, título que ya se encuentra disponible en Steam y GOG; lo analizamos. La premisa de art of rally es tan personal como su propia propuesta, como decimos, a medio camino entre la simulación y el arcade. ¿Y qué tipo de jugabilidad puede ofrecer un título de estas características? Para empezar, el control resulta exigente, con varios aspectos que podemos configurar a nivel de mecánica y de experiencia de usuario; por otro lado, su carácter desenfadado y minimalista se deja notar tanto en su personalidad y puesta en escena como en las particularidades de una cámara aérea, casi cenital, que nos ofrece una amplia perspectiva de los diferentes tramos. Todo ello da como resultado una explosiva mezcla tanto de sensaciones como de experiencia al volante, reuniendo aspectos de ambas vertientes del género de la conducción y que logra convencer tras unas partidas de adaptación. Y es que ya desde un inicio y con la configuración más accesible, art of rally representa todo un desafío; aunque siempre hay margen para ir un paso más allá a nivel de dificultad. \\n\\n Pero volvamos a la línea de salida; art of rally nos sumerge en un apasionante viaje por la historia de la disciplina profesional de los rallys a modo de homenaje a través de una personalidad muy marcada. Tanto es así, que ya desde un principio deja clara su apuesta estética low poly a través de modelados sencillos y una paleta de colores muy viva, junto a una banda sonora retro-electrónica con temas pegadizos; y también algo machacones tras varias horas. Como curiosidad, al empezar nuestro viaje a través de las primeras décadas de las competiciones de rallys se nos invita a rendir culto a una deidad; y de un modo onírico, se nos ofrecerá un breve repaso a la historia de dicha competición. En este sentido, un punto a favor de Funselektor por imprimir su propio estilo y hacer de su nuevo videojuego de carreras una experiencia amena y agradable. art of rally propone al jugador varios modos de juego, siendo el modo carrera el más completo e interesante, aunque todo ello sin dejar de lado otras opciones como el modo libre, el modo contrarreloj, los deafíos en línea -diarios y semanales- o el desbloqueo de nuevos coches, apariencias y pinturas personalizadas. Cada partida tiene su correspondiente premio, siempre y cuando lo hagamos suficientemente bien. Y aquí entra en juego el verdadero protagonista del título: la experiencia de conducción. Y es que art of rally ofrece muchas de las características que todo aficionado a los simuladores de coches demandaría a un videojuego, desde un alto nivel de exigencia a diferentes aspectos configurables de la mecánica de los coches. El juego de Funselektor se antoja exigente para los no iniciados, aunque ofrece el suficiente margen de aprendizaje para empezar a dominar sus diferentes entresijos tras unas pocas partidas. Tal y como sugiere el leitmotiv del juego, el principal reto del jugador es dominar todos y cada uno de los coches de rallys que vayamos desbloqueando, todo para lograr mejores tiempos y recibir vehículos más potentes y refinados, de nuevo, para marcar mejores tiempos y ascender hasta el primer puesto de las distintas temporadas. Y es que cada vehículo presenta sus propias características en aspectos como velocidad, aceleración, agarre, tracción, marchas largas o cortas, etc. Es aquí cuando debemos bajar las revoluciones y prestar atención al gran trabajo de diseño por parte de Funselektor a nivel de representación de las diferentes categorías (años 60, 70 y 80 y Grupo B, S y A) con modelos no licenciados pero que cualquier aficionado al automovilismo identificará sin mucho esfuerzo. Tanto es así, que no faltará ninguno de los grandes clásicos de las cuatro ruedas como los diferentes coches de carreras de BMW, Renault, Peugeot, Alpine, Mini, Lancia o Audi, entre muchos otros, completando una lista de más de 50 vehículos. Por otro lado, los diferentes tramos (hasta 60 etapas repartidas por localizaciones como Finlandia, Cerdeña, Noruega, Japón y Alemania) ofrecen toda clase de retos, desde horquillas endiabladas a cambios de rasante, pasando por largas rectas o carreteras estrechas a través de las más variadas superficies como asfalto, grava, barro o nieve, entre otras. Y como no podía ser de otra manera, cada configuración de tramo afecta al tipo de conducción. Funselektor pretende que cada carrera se convierta en todo un desafío para el jugador; y vaya si lo consiguen. Dominar los diferentes coches (ya sean de tracción delantera, trasera o total con los más variados niveles de potencia) se convierte en un reto continuo, en el que hay que aprender a dosificar muy bien tanto el acelerador como el freno, además del freno de mano, controlando los cambios de rasante o los derrapes más peligrosos, todo para no acabar dando bandazos o perdiendo valiosos segundos entre árboles o rocas, o en el peor de los casos, dando vueltas de campana; cada restauración del vehículos en pista nos sumará 5 segundos al crono, con lo que conviene ser muy cuidadosos. Por ello, es de vital importancia adecuar la configuración del coche a nuestro estilo de conducción o habilidad al volante; por suerte, el título nos permite tocar aspectos mecánicos como el autoblocante o los frenos ABS, además de seleccionar el cambio manual o automático, entre otras opciones. No obstante, y tras varias horas y campeonatos completados, empezamos a sentir cierta sensación de déjà vu; y es que a pesar de que la variedad de escenarios es notable -así como sus paisajes propios y ambientaciones, climatología aparte-, los recorridos en sí pecan de reiterativos, ofreciendo poca variedad entre los diferentes campeonatos. Por otro lado, e incluso con el nivel de dificultad estándar, no sufriremos mucho para colocarnos en primera posición debido a unos tiempos de los rivales excesivamente conservadores, siempre y cuando mantengamos un nivel aceptable de pilotaje, claro está. Más allá del modo campaña, el modo libre ofrece la opción de disfrutar de la conducción sin la presión del cronómetro, además de practicar a lo largo y ancho de pequeños mundos abiertos en los que movernos libremente; también se ofrecen otros alicientes como coleccionables en forma de cintas de cassette o las letras R-A-L-L-Y, junto a un completo y atractivo modo foto. Aunque uno de los aspectos más llamativos de art of rally no es otro que su apartado visual, de corte minimalista y apostando por gráficos low poly, tanto en los modelados de los coches como del resto de elementos, como vegetación, edificios e incluso público. En este sentido, ofrece sensaciones relajantes que contrastan con el frenetismo de una conducción al máximo nivel, siempre y cuando queramos exprimir todas sus posibilidades a nivel de jugabilidad. La iluminación general aporta ese toque preciosista, dejando estampas especialmente llamativas a pesar de su marcada sencillez; no obstante, también encontramos errores como un popping muy visible en determinadas circunstancias, sombras mejorables y algunos modelados algo descuidados, incluyendo tramos de carretera que no terminan de “encajar”. A nivel de interfaz es igualmente parco, con el velocímetro digital junto a la marcha y las revoluciones situados en la parte central inferior de la pantalla, con una barra de progreso de tramo en el lado izquierdo y el cronómetro en la parte superior derecha; eso es todo. También es posible elegir entre varias cámaras, con ligeras variaciones en altura. CONCLUSIÓN Los enamorados de la velocidad en general y los rallys en particular tienen con art of rally una propuesta fresca y visualmente rompedora, con un especial cuidado por rendir homenaje a la historia de dicha disciplina automovilística a través de una campaña amena y desafiante, siempre y cuando compitamos contra la IA más avanzada, ya que no tardaremos mucho en tomar las medidas a su propuesta y lograr los mejores tiempos sin demasiada dificultad. Si bien es cierto que su efectiva mezcla entre simulación y arcade ofrece buenas sensaciones, no tardaremos en lamentar cierta monotonía en su propuesta de juego, dejando todo el protagonismo al desbloqueo de coches y su dominio avanzado al volante. En definitiva, un título divertido con cierto nivel de profundidad y una puesta en escena prácticamente única en su género. LO MEJOR LO PEOR Bueno Cumple con las expectativas de lo que es un buen juego, tiene calidad y no presenta fallos graves, aunque le faltan elementos que podrían haberlo llevado a cotas más altas.                        ', 'score': 6.8}, 1: {'site': 'as', 'url_link': 'https://as.com/meristation/2020/10/01/analisis/1601557244_384472.html', 'author': 'César Otero', 'game': \"Crash Bandicoot 4: It's About Time\", 'company': 'Activision', 'genre': 'Plataformas                    ', 'platform': 'PS4\\n \\nXBO', 'text': \"\\n\\n Crash Bandicoot N. Sane Trilogy fue toda una declaración de intenciones. Activision, en su propósito por arremeter en un algo desamparado género de plataformas en tres dimensiones, lanzó un globo sonda en 2017 capaz de vender más de diez millones de unidades. Seguido del marsupial tuvimos al dragón morado, luego nos subimos sobre ruedas y… aquí estamos, ante un regreso que podemos calificar como legítimamente demandado. No era una empresa fácil enfrentarse a Crash Bandicoot en 2020 y ponerle un cuatro con su nombre; eso también es una declaración de intenciones. Ahora, tras completar un título una recta final marca de la casa, podemos decir con calma que Crash Bandicoot 4: It’s About Time es lo que estábamos esperando. Y eso es algo que debemos celebrar. Porque Toys for Bob ha capturado la esencia: este videojuego se siente Crash Bandicoot. Cualquier aficionado a la trilogía original, bien haya crecido con las iteraciones originales de PlayStation o con la remasterización de 2017 que tan bien recreó Vicarious Visions, sabrá que esta licencia tiene una manera muy particular de entender el género de los plataformas. Saltos, tiempo, cadencia, inercia… Pequeños detalles que se graban en nuestro cerebro como si de montar en bici se tratase. El estudio estadounidense aprueba con nota en una de las dos tareas principales, la jugabilidad. El control es exquisito cuando manejamos a Crash o Coco; el problema es que este cuarto episodio numerado ha decidido arriesgar en algunos aspectos al introducir nuevos ítems —las Máscaras Cuánticas, de las que hablaremos más adelante— y personajes seleccionables. Digamos que no todo termina de funcionar, y es una lástima, porque empaña el excelente trabajo que se hace con las fases más tradicionales. Altos y bajos. Claroscuros que impiden que el título hoy protagonista tenga una calificación sobresaliente. Vais a permitirnos hacer una pequeña mención a Skylanders. Es inevitable no hacer un poco de retrospectiva con el grupo de profesionales que se han encargado de dar color y forma a Crash Bandicoot 4: It's About Time. Durante cinco años trabajaron con la licencia Skylanders, heredera de las aventuras modernas para los más pequeños de la casa de y pecursora de lo que terminaría siendo la Activision actual en este segmento. Se nota que había ideas que querían aprovechar de nuevo. Por ello, algunos niveles se abren más de lo habitual y la irrupción de personajes como Neo Cortex y Dingodile apuesta más por la interacción con el escenario que cuando utilizamos a Crash y Coco, una experiencia tradicional con todas las letras. Es esta última la que brilla de verdad. Ahora bien, ¿dónde estamos y de dónde venimos en el universo de nuestro héroe? A grandes rasgos, nos encontramos justo donde lo dejamos al final de Crash Bandicoot 3, pero Neo Cortex y el Dr. N. Tropy han escapado de la prisión interdimensional dejando en el camino un agujero en el universo. Vamos, que está todo patas arriba. Su plan es conquistar todas las dimensiones, por lo que Crash y Coco son los encargados de pararles los pies. Veinte años no pasan en balde, sin embargo, y hemos de decir que el menor de los problemas es el apartado artístico elegido por Toys for Bob. Ni los tráileres ni capturas de pantalla hacen justicia a lo bien que se ve el título en pantalla, lo natural que luce la paleta de colores y lo fidedignos que son los movimientos. En cuanto llevas dos minutos a los mandos sientes que la esencia sigue intacta, que los movimientos en el aire mientras saltas se mantienen y que, por encima de todo, hay niveles con una dificultad endiablada, sin margen para el error. Un título que no perdona. En este sentido, Crash Bandicoot 4: It's About Time se parece más al título original de la trilogía que a ningún otro, pero su diseño de niveles toma elementos de los tres; especialmente del tercero, especialmente por la dificultad, menos agresiva salvo en la recta final. Sería un error que os arruinásemos sorpresas a ese respecto, así que nos limitaremos a decir que la larga treintena de niveles principales, que quedan divididos en dimensiones —que hacen las veces de mundos— hacen confluir lo añejo con lo nuevo. De hecho, la herencia de otras licencias plataformeras es muy respetuosa y la hace suya. Lianas; monturas; ríos con cajas que apenas ceden un segundo antes de hundirse; monstruos que aparecen de la nave para devorarnos; persecuciones… Y guiños, muchos guiños que demuestran que este estudio quiere y respeta al personaje. Era fundamental, porque si no este experimento no hubiese tenido sentido. Las primeras horas son bastante llevaderas. Al principio de la partida podemos elegir dos modos de dificultad —que podemos cambiar en cualquier momento—: con vidas o sin vidas. En el primero, si nos quedamos sin vidas tenemos que volver a empezar desde el principio, como en la trilogía original, mientras que el segundo respeta los puntos de control y simplemente nos recuerda el número de muertes a través de un desalentador icono capaz de comprometer la confianza en nosotros mismos… Todo es muy divertido. La curva de dificultad está bien medida, aunque salvo los dos últimos mundos es seguramente el juego más fácil de los cuatro. Los efectos de sonido, las animaciones del entorno y la estructura de los niveles, con trayectos en ocasiones sorprendentemente largos y variados. Este título no se ha hecho a la ligera y se nota que ha existido un minucioso estudio de ensayo-error para que no haya una sola dimensión descompensada. Es una lástima, por ello, que la incorporación de Dingodile, Tawna y Neo Cortex no esté a la altura de la pareja. Tienen momentos de lucidez, pero no terminan de encajar en la ecuación de la manera que esperábamos. Tawna es la más interesante, casi con total seguridad, porque su aprovechamiento del género de plataformas es el más inteligente al basar su precisión en la verticalidad de los saltos. En ocasiones, deberemos calcular el lanzamiento de su gancho cuando estemos en el punto más alto de un salto, y la verdad es que es muy satisfactorio; por no hablar de sus patadas, cuya animación es igualmente satisfactoria. La otra cara de la moneda está con Dingodile, un intento regular de replicar la Succionaentes de Luigi’s Mansion que, en la práctica, termina usándose para absorber dinamita y acabar con elementos que nos estorban. Bastante descafeinado. Y Neo Cortex es una montaña rusa. Algunos niveles pasan muy desapercibidos y no se siente especialmente aprovechados el uso de su pistola, una solución para atacar desde la distancia. Es solo en el penúltimo mundo cuando se aprovecha su dash aéreo, un quebradero de cabeza para caer justo donde tenemos que hacerlo. Sin entrar en destripes argumentales, los cinco se verán obligados a colaborar de forma conjunta para resolver el conflicto y, por desgracia, el tono de su narración es excesivamente infantil, con un humor más propio de un videojuego para niños que la tónica más gamberra y adolescente de antaño. Una decisión que seguramente obedezca a decisiones comerciales, pero que choca en la práctica con la elevada dificultad de la aventura. Con todo, Crash Bandicoot 4: It's About Time presenta altibajos. Si bien la mayoría de niveles sobresale por su buena puesta en escena —algunas de las fases son de lo mejor que hemos visto no solo en esta serie sino en el género de estos últimos años—, hay tramos que podríamos denominar valle donde, en realidad, no se aporta mucho a la experiencia. La necesidad de presentar a los otros personajes interrumpe el flujo de los niveles convencionales. Por suerte, estamos ante un proyecto muy generoso en contenido, con muchas horas por delante si queremos exprimirlo todo. Desde niveles que replican enfrentamientos clásicos originales a capítulos concretos para conocer de cerca y exprimir las posibilidades de Dingodile, Tawna y Neo Cortex. Es ahí donde seguramente brillen más, en su propio espacio, y no en la aventura principal. Había dos maneras para destacar en una nueva iteración canónica de Crash Bandicoot: con nuevas mecánicas jugables o con un diseño de fases capaz de superar lo visto hace veinte años. Toys for Bob ha hecho un poco de ambas. Las leyes de la física están para desafiarlas, así que encontraremos un total de cuatro Máscaras Cuánticas —que vamos incorporando progresivamente a los niveles— basadas en alterar el espacio y el tiempo a con poderes. Kupuna-Wa (Máscara del Tiempo), permite ralentizar el paso del tiempo para superar obstáculos con precisión; Ika Ika (Máscara de la Gravedad), para caminar cabeza abajo; Akano, que convierte a Crash en peonza para dar grandes saltos y superar barreras de luz como si fuera materia oscura; y Lani-Loli, la máscara para activar y desactivar objetos del entorno. Elementos que, en la práctica, recuerdan a fases vistas en otras sagas populares del género, pero sin ser una imitación directa. Las que mejor se aprovechan son la de la gravedad y la alteración física de los objetos, porque realmente te hacen partícipe de los errores. A pesar de lo superficial de algunos de sus niveles, es en los últimos dos mundos donde todo confluye y cobra sentido al introducirse casi al mismo tiempo el conjunto de Máscaras Cuánticas al completo. No solo son fases difíciles, sino que están diseñadas de manera muy inteligente. En lo que respecta a los jefes finales, la mayoría aprovechan el uso de alguna de estas máscaras, pero nos hubiese gustado un número más elevado en la aventura principal y con algo más de desafío: son un trámite, poco inspirados. Digamos que la principal prioridad de Toys for Bob ha sido satisfacer la demanda de grandes niveles; por encima de los jefes finales, que se quedan simplemente en un resultado notable. Hemos dicho que hay mucho contenido en Crash Bandicoot 4: It’s About Time y es literal. Sin ánimo de romper la sorpresa a nadie, existe un modo invertido (N. Verted Mode) que, como podemos imaginar, nos invita a recorrer los niveles invertidos con la particularidad de no cambiar solo la perspectiva, sino que cambia todo: la velocidad del juego, el color y el estilo. Una idea que aplaudimos, muy, muy original. Puede llegar a ser graciosamente frustrante, pero he ahí la gracia: nuestro subconsciente es el mayor enemigo. Este modo, dicho sea de paso, se ha desarrollado en colaboración con Beenox, que ya hicieron el pasado año Crash Team Racing Nitro-Fueled. A esto debemos sumar el modo contrarreloj con puntuaciones en línea, ideal para los piques con desconocidos. Finalmente, recompensas estéticas por doquier marca de la casa: hay decenas de skins. Cada cuál más extravagante. Para desbloquearlas deberemos completar los niveles superando pequeños retos; en la mayoría de casos se rige a un número de muertes determinadas para completar un nivel. Si superamos esa cifra, no la desbloquearemos en ese intento. El modo multijugador local es un añadido interesante, pero que realmente tampoco aporta demasiado. Esta vertiente cuenta con opciones cooperativas y competitivas (Bandicoot Battle). Del primero no podemos decir mucho: permite pasar el mando a otro jugador para que nos ayude a completar las fases. El verdadero interés reside en el competitivo, que divide su propuesta en Checkpoint Race (carreras donde gana el que consiga más puntos de control) y Crate Combo (carreras donde se premia la mayor cantidad de puntos rompiendo cajas). No podemos terminar este análisis sin hablar del apartado audiovisual. La música, a decir verdad, no destaca en demasía. Si bien hay arreglos reconocibles con los temas principales de la saga de base, no hay melodías demasiado pegadizas ni hacen que la experiencia mejore. Es seguramente en los efectos sonoros donde más destaca, en lo ambiental. También en lo estético, con modelados de personajes que pueden gustar más o menos —a nosotros nos ha convencido totalmente—, pero que en diseño de escenarios no podemos sino quitarnos el sombrero. En la versión analizada hay algunos problemas de rendimiento, sobre todo en algunas fases finales que presentan más elementos en pantalla de lo habitual. Nada grave, pero seguramente pueda corregirse a base de parches. Pequeño tirón de orejas para algunos tiempos de carga. Hemos analizado Crash Bandicoot 4: It’s About Time en una consola PS4 Pro a través de un código de descarga suministrado por Activision. CONCLUSIÓN Crash Bandicoot 4: It’s About Time es un título que tenemos que celebrar. Era muy complicado tomar el relevo de tres videojuegos que forman parte de la historia del género de las plataformas y salir airosos en el primer intento. Toys for Bob ha conseguido capturar la esencia y dotar a este proyecto de su propia idiosincrasia; desde la estética a la incorporación de las Máscaras Cuánticas. Es una obra genuina, ambiciosa, que peca de valentía, pues es en sus intentos donde se hallan la mayoría de sus tropiezos. Un más que buen punto de partida para construir, quién sabe, una nueva trilogía moderna que siga dando motivos para confiar en los saltos imposibles y la dificultad endiablada. Nos habíamos desacostumbrado este tipo de desafíos y, de nuevo, el marsupial ha llegado para recordarnos que esa época tiene todavía algo que decir en esta competida industria. Notable, con mimbres para ser excelente; totalmente recomendado para cualquier fan del género y el personaje. Larga vida a Crash. LO MEJOR LO PEOR Muy bueno Juego de notable acabado que disfrutaremos y recordaremos. Una buena compra, muy recomendable para amantes del género. Está bien cuidado a todos los niveles.                        \", 'score': 6.8}, 2: {'site': 'as', 'url_link': 'https://as.com/meristation/2020/09/30/analisis/1601454855_979194.html', 'author': 'César Otero', 'game': 'WWE 2K Battlegrounds', 'company': '2K Games', 'genre': 'Acción                    ', 'platform': 'NSW\\n \\nSTD\\n \\nPS4\\n \\nXBO\\n \\nPC', 'text': \"Superar una ruptura lleva tiempo. Nunca es fácil. Y si llevas casi veinte años con tu pareja, pues imagínate. Que se lo digan si no a 2K Games, que en 2019 puso fin a su relación con Yuke's, la desarrolladora japonesa que venía encargándose de los juegos de la WWE desde aquel mítico WWF SmackDown! del año 2000. No sabemos quién rompió con quién, ni tampoco los motivos, pero sí conocemos sus consecuencias. Porque todos hemos tenido alguna ruptura tras la que hemos fingido estar bien delante de nuestros amigos. Hemos hecho como si no pasara nada y nos hemos lanzado a llenar el vacío de nuestro corazón con otras personas. El que inventó la dichosa frasecita de que “hay más peces en el mar” debería estar entre rejas. Cuando aceptamos que sí, que en realidad pasa algo, estamos tristes y necesitamos tiempo, a menudo ya hemos dejado varios cadáveres por el camino. Para entonces ya hemos hecho daño a terceros y nos hemos sumergido en un par de relaciones insulsas que nadie terminaba de entender. Y eso es justamente por lo que está pasando 2K Games. \\n\\n El año pasado, la compañía sacó WWE 2K20 como si no hubiera sucedido nada. Como si aún estuviera con Yuke's, o como si creyera que cualquier otro estudio podía sentarse a los mandos de la serie, hacer una entrega en menos de un año y obtener un resultado parecido al habitual. Cuando 2K Games aceptó sus verdaderos sentimientos ya era tarde. Los consumidores nos habíamos comido un título mediocre como él solo, con más bugs de los que somos capaces de contar y fenómenos paranormales a su alrededor, como el extraño caso de un apartado gráfico que iba hacia atrás como los cangrejos y se veía peor que el de la entrega de 2018. Aquello era digno de Cuarto Milenio. La conclusión de nuestro análisis fue clara, “la fórmula se ha agotado”, y las valoraciones de los usuarios en Metacritic hablan por sí solas. O más que hablan, suman, y suman un 1.5 de nota media. La situación encima tuvo su intríngulis, porque la desarrolladora que 2K eligió para sustituir a Yuke's era la principal colaboradora de ésta, Visual Concepts, quien venía ayudando en los juegos de la licencia desde WWE 2K14. Para más de uno, 2K Games le puso los cuernos a Yuke's con su mejor amiga. Aquella primera fase del duelo pasó. Hubo disculpas por la calidad del juego y hasta se improvisó un programa de reembolsos. Entonces 2K Games empezó a echar de menos a Yuke's. Dejó de recordar que los títulos de ésta se habían estancado y que nunca terminaron de alcanzar el nivel de otras franquicias deportivas. Olvidó que Visual Concepts es la principal artífice de la saga NBA 2K y que uno de los motivos de su elección era subir el nivel de los juegos de wrestling y equiparar ambas licencias. En la memoria de 2K solo había espacio para los buenos momentos. Para esos mínimos de calidad más que aceptables y esos notables entre los que siempre se movía la WWE en las valoraciones de prensa y público. La desarrolladora creyó que nunca más volvería a encontrar el amor y canceló WWE 2K21. Pero esta segunda fase de depresión y autodestrucción también quedó atrás. La compañía entró así en la tercera, la cual puede adoptar muchas formas distintas y depende de cada persona. Unos se apuntan al gimnasio y otros a yoga, cursos de baile o cocina. El caso es que en ella todos quieren reinventarse, redescubrirse, probar cosas nuevas y hacer aquello que siempre tuvieron en mente, pero para lo que nunca sacaron tiempo. Desean demostrar que han cambiado, que son mejores y que la otra persona se lo pierde. Pero está todo tan forzado, tan impostado y su objetivo final es tan triste (que la otra persona se entere de su transformación y se arrepienta), que a menudo lo que en realidad se hace es el ridículo. Para 2K Games esta tercera fase ha tomado la forma de WWE 2K Battlegrounds, un juego radicalmente distinto al de los últimos años. Una prueba, un experimento. Un título que grita con tanta fuerza sobre su transformación que hasta parece sospechoso. Adiós a los gráficos realistas y hola a los muñecos y escenarios de aspecto cartoon. Los combos y la ambición de ser un simulador ceden paso a un enfoque mucho más arcade y tremendamente simplón, pero que por ejemplo permite locuras como manejar cabras por radiocontrol y alimentar con nuestros rivales a los cocodrilos de un pantano. Se acabó ese modo carrera en la línea de FIFA y NBA 2K, nada de secuencias entre bambalinas y por supuesto ni hablar de tener que afrontar situaciones realistas, como conversaciones con la prensa y sesiones de fotos. Ahora el modo campaña es un cómic en el que manejamos a nuevos y desconocidos luchadores con pintas de superhéroe. Con ellos lo único que hacemos es luchar, luchar y luchar. Volvernos de piedra, rodear nuestros puños de fuego y lanzar rayos como si fuésemos Zeus. La propuesta es tan diferente que uno no puede evitar echar un vistazo a quién la firma esta vez. Se trata de Saber Interactive, en cuyo catálogo encontramos la mejor analogía posible: NBA Playgrounds. Aquel fue a NBA 2K lo mismo que Battlegrounds es a WWE 2K. Un hijo rebelde, un hermano pequeño atractivo y peligroso que tiene empapelada su habitación con pósteres de WWE Legends, juego al que también recuerda y evoca. De esa obsesión por demostrar que lo has superado y que eres una persona completamente nueva se pueden rescatar algunas cosas. Al fin y al cabo salir a correr, apuntarse a clases de pintura o empezar un huerto en la azotea también tiene sus ventajas. En busca de una nueva identidad, WWE 2K Battlegrounds está lleno de novedades, pero muchos de sus cambios eran necesarios y le han sentado bien a la marca. Quizás el precio reducido sea el más evidente, pues el juego sale de lanzamiento a 40€. Después vendría ese simpático look cartoon, que nos presenta a los luchadores como figuras de acción y los rodea de escenarios muy variados y coloridos. El Unreal Engine envuelve a los personajes con toda clase de efectos y por momentos hasta parecen transformarse en saiyans, con auras de colores eléctricos flotando a su alrededor. Le sienta de maravilla. En tercer lugar mencionaríamos su nueva jugabilidad, mucho más sencilla y desenfadada. La diferencia entre una mano experta y una recién llegada se ha recortado enormemente. Cualquiera puede hacer un movimiento especial y al poco de subirnos al ring ya estaremos dando guerra. Realizar agarres, contraataques y poner en marcha las habilidades es tan fácil como pulsar un botón o girar levemente el joystick derecho. En ese sentido es un juego muy agradecido en cooperativo local. Cualquier invitado a nuestra casa pillará los conceptos en cuestión de minutos y aceptará el desafío encantado. Es accesible e intuitivo. Pero sin duda lo más destacado es su conversión a hipérbole con patas. El juego es la exageración de algo ya de por sí exagerado como es la lucha libre. Lleva cada rasgo al extremo y roza la parodia, pero es gracias a ello que resulta fresco y divertido. Tras unas cuantas partidas, a nadie le extrañará que nos subamos a un helicóptero, nos vayamos volando del escenario y ejecutemos un ataque aéreo desde el cielo. Tampoco que metamos la mano debajo de la lona y saquemos una Harley Davison con la que golpear a nuestro rival. Y por supuesto, el pan de cada día serán los enfrentamientos en los que, en lugar de un maletín con dinero en el centro del escenario, estemos rodeados de una valla electrificada de la que cuelgan fardos de billetes que debemos recolectar. Es normal que el cuadrilátero se rompa y venga abajo, que aparezcan animales en mitad del la batalla y que podamos usar barriles explosivos como arma. Así son las cosas en WWE 2K Battlegrounds. Los movimientos y las normas se retuercen y exageran. Randy Orton nunca saltó tan alto, André el Gigante nunca pegó tan fuerte y el Enterrador nunca estuvo tan cerca de abollar el ring con la cabeza de sus adversarios. \\n\\n El gran peligro de esta “fase tres” posterior a una ruptura es que todo parece positivo, pero no lo es. Porque te apuntas al gimnasio, es cierto, pero por la noche te metes un bol de helado de chocolate y lloras viendo un nuevo maratón de películas románticas. Te montas un huerto urbano, sí, pero te olvidas de él a los dos días y los tomates se ahogan con la primera lluvia. Vas a clase de pintura, correcto, pero solo a la sesión de muestra, la gratuita, la que no te obliga a pagar por los pinceles. Después cambias el óleo por el bar y la cerveza. Parece que lo estás superando, pero no. Tropiezas una y otra vez. A WWE 2K Battlegrounds le pasa igual. Sale a precio reducido, pero viendo que está a rebosar de micropagos y que tiene mucho menos contenido que las anteriores entregas, la reducción se antoja pequeña. Tiene menos modos, luchadores y opciones que de costumbre y su formato recuerda al de algunos free to play. Cuenta con un atinadísimo aspecto cartoon, pero admitámoslo, es mucho menos exigente y por eso no entendemos que ni aún así se haya conseguido una tasa de imágenes por segundo estable. Hay tirones, petardea y no siempre va fluido. Por no hablar de los continuos fallos en el sistema de colisiones, la nula inteligencia artificial y “los teletransportes mágicos” que protagonizan los personajes para colocarse en el sitio adecuado cuando ejecutamos un movimiento especial. Los recortes incluso se han llevado por delante los combates con más de 4 personas (antes los había de 5, 6 y 8). Bueno, se han llevado eso y la expresividad y correcta recreación de algunos miembros de plantel, sobre todo femeninos. Con la jugabilidad sucede parecido. Es más accesible e intuitiva, pero al cabo de unas horas se le ven las costuras. Carece de cualquier tipo de profundidad y acaba siendo un machacabotones. Más que un juego de lucha parece un brawler. Uno de ritmo más bien tirando a lento y bastante tosco en animaciones. Para un par de partidas cuando los amigos vienen a casa está muy bien, cumple, pero online y en solitario no aguanta el tipo. Casi todos los personajes son idénticos. Apenas se diferencian en fuerza y velocidad, rasgos que se intuyen en base a su altura. Los más altos cogen objetos pesados que los otros no pueden y los más bajitos saltan más. Punto. No existen muchas más diferencias a pesar de que tienen distinta valoración y se dividen en varias categorías (superstar, campaña, altos vuelos, técnico, especialista, camorrista y poderoso). Según pasan las horas vemos que todas sus novedades y mejoras tienen trampa. El más claro y doloroso de sus espejismos reside en el menú del juego. De primeras impresiona y parece tener modos para aburrir, pero si lo comparamos con anteriores es fácil sonrojar a WWE 2K Battlegrounds. Y no solo en número, sino también en cuanto a calidad de los mismos. Su modo historia, por ejemplo, se nos vendía como una de las grandes bazas del título y en el fondo es poco más que un tutorial. Vamos probando todos los tipos de combate, los distintos escenarios y los nuevos luchadores que 2K se ha inventado específicamente para esta entrega. La dificultad va subiendo poco a poco y entre pelea y pelea podemos leer varias páginas de cómic a través de las cuales se nos narra la historia. Una historia anecdótica, olvidable y un tanto ridícula. Consta de 120 eventos, que parecen muchos, pero ese número es otra trampa, pues a veces un evento es solo la lectura de un cómic y los hay que consisten únicamente en darnos una recompensa. Nosotros los hemos completado todos en apenas un par de tardes. No pasará de las tres, cuatro horas. Está a años luz del extinto modo “Mi Carrera”. Sus protagonistas se han hecho para que juguemos con todos los tipos de personaje (hombres; mujeres; altos, resistentes y fuertes; pequeños, saltarines y rápidos). Entendemos la decisión, pero habiendo tan pocas diferencias, carece de sentido y le resta toda la gracia al editor de personajes. Porque seguimos contando con la opción de crear a nuestro propio heredero al cinturón, pero éste solo sirve para jugar al modo “Desafío de Battleground” que consiste en combate tras combate contra la IA para ir subiéndole las estadísticas. No hay historia ni contexto, tampoco variedad. Es repetitivo, aburrido y luego encima no lo podemos usar online, así que pierde la gracia. Esto último se repite con el editor de escenarios, con el añadido de que además en su caso solo podemos crear un máximo de tres canchas. Por lo demás, nada de repetir los eventos históricos de la WWE, nada de un modo campaña específico de la WWE femenina y nada de torres de desafíos centradas en cada tipo de partida. Hemos pasado de alrededor de 50 armas a solo cuatro o cinco de ellas (y perdiendo su respectivo editor por el camino). De igual manera, y como decíamos, nos hemos quedado sin modos para 5, 6 u 8 luchadores al mismo tiempo. También sin las partidas con hándicap. No se pueden juntar géneros, no existen modos Extreme Rules, ni Ladder, ni Table, ni TLC, ni Fall Counts Anywhere, ni tantos y tantos otros que había en el pasado. La cifra de luchadores ronda los 70, y teniendo en cuenta que muchos son poco más que skins, no entendemos cómo no se ha alcanzado la de años pasados, muy por encima del centenar de ellos. Incluso las voces de los comentaristas (en inglés sin subtitular) repiten cada dos por tres los mismos comentarios, tal y como pasa en los menús con las pocas canciones que hay, más machaconas que la banda sonora de una tienda de ropa. Si uno saca la lupa el recorte es demencial. Es como aquel capítulo de Como conocía a vuestra madre (serie a evitar tras una ruptura) en el que su protagonista se niega a ir a los restaurantes en los que podría coincidir con su pareja... y acaba no pudiendo ir a ninguno de Nueva York. En 2K Battlegrounds sucede lo mismo. Vale que no quieras heredar nada de tu etapa cerrada. Vale que no quieras coincidir y que busques algo nuevo y propio, pero si eso supone perder tantístimo contenido, variedad y profundidad, pues lo mismo es como para pensárselo dos veces. Habrá quien crea que no es justo comparar este spin off arcade con la saga principal, con los WWE 2K, pero es que Battlegrounds no aguanta la comparativa ni siquiera con los juegos de su estilo, como NBA Playgrounds 2 y WWE All Stars. \\n\\n Pero la mayor contradicción reside probablemente en el enfoque de su propuesta. Si WWE 2K Battlegrounds es un party game que brilla con amigos y cuando jugamos partidas cortas y muy dilatadas en el tiempo, ¿por qué los luchadores más famosos (los que querrán usar nuestras visitas) están bloqueados de primeras? ¿Por qué hay que farmear en solitario para desbloquearlos? Bueno, es eso o pagar Golden Bucks, que es la moneda que hay dentro del propio juego. Un nuevo eufemismo para decir micropago. Carece de sentido insistir en el singleplayer cuando es el apartado más pobre. Siendo la IA tan justita y las partidas tan simples y repetitivas, el título tendría que apostarlo todo al multijugador, no solo local sino también online... ¡pero sin embargo Battlegrounds carece de matchmaking en muchas de sus secciones! Si queremos disfrutar del multijugador en un tipo de partida en concreto tendremos que hacerlo o de manera local o con alguien de nuestra lista de amigos a través de invitación. El matchmaking solo está disponible para un modo llamado “torneos”, que son partidas con las normas predefinidas y que van rotando y cambiando cada día. Es una pena porque la mayor parte de las veces los torneos son solo de partidas 1 vs 1. Son poco vistosos, cansinos y a menudo desigualados. En vez de realzar el caos y la exageración de su propuesta nos mete en escenarios cerrados, sin elementos externos y para combatir a “nivel profesional”, que es lo mismo que spamear lanzamientos una y otra vez hasta cargar el superpoder. Además el online ha eliminado los rangos de prestigio, las placas laterales y la opción de usar a nuestras creaciones y luchar contra otras. Es decir que no hay ningún tipo de sensación de progresión. Solo hay una hoja de estadísticas que marca cuantos torneos ganamos. No existen demasiados motivos para engancharse, por más que se nos haya prometido añadir más de 60 nuevos luchadores vía DLC en el futuro. ¿Por qué convertir esto en un juego - servicio y no dejarlo en una cana al aire y centrar todos los esfuerzos en la entrega del año que viene? Diríamos que no entendemos la razón de muchas de estas decisiones, pero en el fondo sí que lo hacemos. Porque, como decíamos al principio, superar una ruptura lleva tiempo. Nunca es fácil. Y si llevas casi veinte años con tu pareja, pues imagínate. La WWE está aprendiendo a vivir sin Yuke’s y al principio puede ser difícil, lo sabemos. Pero estos palos de ciego son necesarios. Aún con nuestras innumerables reservas, nos alegramos de tener a 2K Battlegrounds entre nosotros. Mejor eso que dejar la licencia en un cajón bajo llave y olvidarse de ella. Además, el único modo de ir de la cima de una montaña a otra cima cercana es pasar por el valle que las separa. Bajar y volver a subir. El título de hoy está más pulido que WWE 2K20, resultando más entretenido y hasta disfrutable en su justa medida. Es decir que ya vamos hacia arriba. El juego puede haber servido para ganar tiempo hasta WWE 2K22 y matar el mono de lucha libre entre sus fans más acérrimos. Y si 2K Games toma nota, también puede sacar de aquí una saga secundaria la mar de interesante. Un WWE 2K Jam. Cualquiera de las opciones es positiva. Así que el único consejo que podemos darle para terminar de pasar página es que siga adelante. Que siga intentándolo. CONCLUSIÓN Más que una opción real dentro del género, WWE 2K Battlegrounds parece un intento de salir al paso y tener algo, lo que sea, para ofrecer este año a los fans de la lucha libre. Es como si después de su ruptura con Yuke’s, 2K Games no supiera muy bien qué hacer con la franquicia y anduviera probando cuanto se le ocurre. El resultado de esas pruebas y experimentos es una entrega menor, con recortes abrumadores en cuanto al contenido y la calidad del mismo (ese modo historia y su matchmaking no pueden ser más decepcionantes). Al final queda un brawler demasiado simplón y repetitivo al que se le ven todas las costuras tras un par de horas. Solo funciona como party game para cuando tenemos visita porque es accesible, fácil y al menos de primeras, divertido. Sin embargo, en vez de estar enfocado así, como un party game, el título está lleno de políticas que le van a la contra y ensucian esa idea, véase el caso de los micropagos. 2K ha hecho hallazgos interesantes, como los gráficos de aspecto cartoon y los nuevos y exageradísimos disparates que ahora pueden ocurrir en combate, pero debería haberlos potenciado más y acompañado mejor. Tal cual está, la experiencia acaba siendo la de un machabotones insulso y solo recomendable para los fans de la licencia. LO MEJOR LO PEOR Mejorable Puede tener elementos aceptables y entretener, pero en general es una experiencia que no dejará huella.                        \", 'score': 6.8}, 3: {'site': 'as', 'url_link': 'https://as.com/meristation/2020/09/29/analisis/1601370434_254241.html', 'author': 'César Otero', 'game': 'Maid of Sker', 'company': 'Wales Interactive', 'genre': 'Aventura                    ', 'platform': 'PC\\n \\nNSW\\n \\nPS4\\n \\nXBO', 'text': '\"Un consejo, señor, no se acerque nunca al lago... Y sobre todo, tápese los oídos si oye cantar la voz bajo el agua...\", El fantasma de la ópera\" (1910), Gastón Leroux En un videojuego, lo mismo que en una película, poco importa si es grande o pequeño, si lo han hecho un estudio de 100 personas con 80 millones de presupuesto, o 5 con apenas unas decenas de miles. Lo que cuenta es su eficacia, su capacidad para lograr el fin último que su género busca. Maid of Sker logra eso en su estupenda primera parte, pero lo arruina en su segunda, en un juego con 2 mitades diferenciadas por sus mecánicas. Pero incluso tal como está, su historia merece ser descubierta. Tras un Don’t Knock Twice que ciertamente componía una gran atmósfera, el estudio Wales Interactive regresa este año con Maia of Sker, un título con el que buscan solventar los fallos del anterior al tiempo que contarnos una estupenda historia de horror cósmico - marítimo. El punto de partida es directo: Estás en el siglo XIX, en un ambiente puramente victoriano de la vieja Inglaterra, viajando en tren a un destino ‘perdido’, enterrado en un bosque y cerca de la costa. Vas al Hotel - Balneario de Sker, un lugar antaño popular y destino favorito para relajarse pero que poco a poco fue cayendo en el olvido… Su dueño quiere reabrirlo y recuperar la grandeza de antes, la fama, todo. Y para ello desea usar a su hija, Elisabeth Williams, como la gran atracción, pues la hija tiene la misma voz hipnótica de su madre. Pero Elisabeth se ha dado cuenta que algo horrible sucede en el corazón de Sker, y avisa a su amado, Thomas Evans, para que la rescate y acaben juntos con el horror que allí habita. Y aquí nos paramos, porque aquí comienza el juego. Y nos paramos porque su trama merece la pena descubrirse por sí misma, sobre todo si eres fan de los autores clásicos como Poe, Lovecraft y demás, ya que la historia de Maid of Sker juega primero la carta del mundo fantasmal de Poe, para adentrarse de repente en el terror cósmico de Lovecraft cuando averiguas lo que sucede en el hotel de Sker, siempre a través del clásico uso narrativo de documentos, notas y, como debe ser en la época, grabaciones en gramófonos. Con una duración de no más de 4 horas si vas a saco, y 5 (casi 6) si quieres buscar todos los coleccionables, Maid of Sker acierta de lleno en una primera mitad en la que la mayoría del gameplay se basa en el estilo Walking Simulator + puzzles. Al principio, todo es andar, descubrir zonas del mapa, buscar puntos de guardado, ítems para desbloquear las habitaciones y vislumbrar a los enemigos. Esta parte nos ha encantado porque sus creadores juegan bien con el género, y saber cómo crear una tensión que se corta con el cuchillo: no sabemos quién acecha en la oscuridad, quién hace crujir las maderas en el piso de arriba, quién cierra las puertas de golpe. La tensión en esa penumbra iluminada es alta, y 2-3 sustos repentinos cumplen con su cometido de ‘jumpscares’ efectivos. Lo malo viene después, cuando ya sabemos el ‘plot twist’ de la historia, cuando salimos incluso fuera del hotel, porque las zonas nuevas y las que recorrimos antes están de repente llenas de enemigos. Aquí el walking simulator deja paso a un ‘Stealth Horror’ que bebe de títulos como Resident Evil VII, del clásico Amnesia, etc, y ya nos obliga a (no) hacer frente a una plétora de enemigos que pierden toda la condición de aterradores. El terror se convierte en infiltración, pero mal ejecutada. Algunos puntos de guardado están muy mal distribuidos, porque es absurdo el tener que repetir lo que te ha llevado 30-40 minutos hacer yendo con todo el cuidado otra vez -e incluso una tercera-, porque el estudio no ha puesto un punto de guardado donde debería, obligándote a repetir una sección sin que sea culpa tuya. Es aquí cuando la atmósfera de terror victoriano se deshace: Wales decide que tengas que estar lidiando con entes porque sí, y en vez de plantear una especie de juego del gato y el ratón, prefiere llenar las estancias de enemigos para ralentizar tu avance, provocando un grave desequilibrio jugable. Jugablemente aprendemos algunas mecánicas nuevas para sortear a los enemigos, como la estupenda mecánica de aguantar la respiración y otras como usar un aparato que paraliza a las criaturas temporalmente. La primera, aprendida de títulos como Until Dawn, se usa muy bien no sólo de cara a los enemigos, sino para no llamarlos de lejos cuando pasamos por delante de una hoguera o una sección llena de polvo que hace toser al protagonista. La segunda es una bendición, o lo sería si tuviese usos infinitos, pero Wales prefiere que tengas que buscar la munición también. Si ya la exploración se vuelve tediosa, encima tener que buscar también munición para aturdir es la guinda, porque ya que te dedicas a poner varios enemigos de forma injusta sólo para aumentar la dificultad, al menos déjanos aturdirles cuantas veces necesitemos para que ya el frustrante avance no se vuelva más tedioso aún. \\n\\n Visualmente, Maid of Sker denota su humilde desarrollo, porque las texturas no son precisamente tochas y se nota la carga repentina de elementos en las zonas más grandes. A cambio exhibe una fotografía en su primera parte preciosa, una cuidada iluminación tanto de día como en su parte nocturna, y un diseño artístico de primera que logra darle al hotel de Sker su propia personalidad, algo que no es fácil. El conjunto es hermoso de ver, pero el diseño de enemigos falla porque esa idea de ‘hombres del saco’ no aterra en absoluto. En lo sonoro, es la parte del león: Tenemos voces con un exquisito acento inglés y todo localizado a textos en español, pero latinoamericano y no castellano de España hay que aclarar. La BSO de Gareth Lumb es una hermosura, mezclando pianos y voces etéreas en algunos cortes, y apostando por otros de tensión y atmósfera con percusión y cuerdas frotadas sin caer en el mero uso de música ambiental. Y aunque los efectos de sonido caen en el ‘jumpscare’ a veces, esas pisadas lejanas y la madera crujiendo son estupendas. CONCLUSIÓN Nos gusta muchísimo la historia, nos encanta la primera parte y ese terror- tensión de qué saldrá a la vuelta de la esquina, pero el cambio de tercio a la infiltración no está tan bien ejecutado como el Walking simulator victoriano con puzzles. Es esta mecánica central la que arruina el conjunto y se carga la atmósfera, incluso a pesar de lo corto que es el juego. Maid of Sker es para incondicionales del terror victoriano, de los juegos de miedo, pero es también un título que tenía un buen potencial que no sale a la luz. LO MEJOR LO PEOR Correcto No es lo último ni lo más original, tampoco cuenta con la mejor ejecución, pero puede divertir si te gusta el género. Bien, pero mejorable.                        ', 'score': 6.8}, 4: {'site': 'as', 'url_link': 'https://as.com/meristation/2020/09/29/analisis/1601367548_437006.html', 'author': 'César Otero', 'game': 'Pathfinder: Kingmaker', 'company': 'Deep Silver', 'genre': 'RPG, Acción                    ', 'platform': 'PC\\n \\nPS4\\n \\nXBO', 'text': 'Pathfinder: Kingmaker empezó, como muchos juegos indies actuales, en Kickstarter donde consiguieron casi doblar su objetivo de financiación. En 2016 comenzaba el desarrollo de la versión de PC, con la idea de ser un sucesor espiritual de Baldur’s gate y Neverwinter Nights, la cual vería la luz en 2018. Dos años y muchas mejoras más tarde, nos llega la versión de consolas que es motivo de este análisis. Comenzamos el juego eligiendo un escenario, Main Story, la historia principal; Varnholds lot, que se sitúa en un momento en medio de la campaña principal y es paralela a la historia principal; y Beneath the Stolen Lands, una quest que podemos jugar directamente desde este menú o esperar a recibirla en la historia principal. En Pathfinder: Kingmaker tenemos que explorar el territorio de Stolen Lands, una región que ha sido conquistada y reconquistada durante cientos de años, multitud de reinos se han forjado y han caído en estas tierras y ahora nos toca a nosotros construir nuestro imperio enfrentándonos a las amenazas externas y aún peor, a los traidores de la corte. Este título juega mucho con la diplomacia, las intrigas y los intereses políticos, hay que tener cuidado con nuestros encuentros y nuestras respuestas a la hora de interactuar con otros personajes, cada uno de ellos, tanto los npc’s que nos encontramos a lo largo de la aventura, como nuestros acompañantes, tienen un alineamiento, esto es, cómo se comportan en base a la legalidad y la moralidad. A saber, hay nueve alineamientos: legal bueno, neutral bueno, caótico bueno, legal neutral, neutral, caótico neutral, legal malvado, neutral malvado, caótico malvado. Dependiendo de cómo adaptemos nuestra brújula moral a la de nuestros compañeros estos nos serán fieles u optarán por dejar nuestro grupo, o directamente, no seguirnos. Nuestra alineación la elegiremos al crear nuestro personaje, o al elegir uno de los predefinidos. La creación del personaje es muy parecida a una partida de rol en papel, decidiremos la raza, la clase, el género, el alineamiento, aunque algunas clases, como Paladin, te vienen con el alineamiento obligado, en este caso, legal bueno. Además, elegiremos algunas habilidades y asignaremos puntos a algunas características para adecuar al personaje a nuestro estilo de juego. El juego nos da multitud de opciones de personalización, incluso en la dificultad del juego, donde podemos jugar con varios parámetros como la opción de revivir a los aliados después de un enfrentamiento en el que han sido derrotados. Aunque algunos estados, como death’s door, nos obligarán a ir a un lugar seguro a descansar para poder continuar la aventura. Pathfinder: The Kingmaker es un rpg con perspectiva isométrica en el que tenemos dos opciones para avanzar, usando los joysticks para movernos o usando un puntero para señalar la dirección en la que se deben mover nuestros personajes, como lo haríamos en pc con un ratón. En este sentido, dependerá del momento y de nuestra estrategia, pero a nosotros nos ha resultado más fácil, por ejemplo, emboscar a los enemigos con el puntero que con el movimiento por joystick. También nos ofrece dos modos de batalla, en tiempo real con pausa y por turnos. En cualquier momento del combate podremos cambiar de una a otra fácilmente, la combinación de ambos nos puede ser muy útil, sobre todo si no tenemos mucha experiencia en juegos de rol, de tenerla encontraremos más cercana la experiencia del combate por turnos al juego de rol de mesa, que el de acción con pausa. En ambos casos nos enfrentaremos a un sistema de tiradas enfrentadas, esto es, cada oponente hace una tirada, suma los modificadores, si los hubiera, y el resultado decide si el ataque impacta o no. El título es bastante complejo y quizás, a los que no estén familiarizados con este tipo de títulos, aspectos como la estrategia del combate por turnos y todas sus variables a tener en cuenta, el árbol de habilidades y las características que debemos potenciar al subir de nivel para obtener un resultado óptimo de cada personaje en relación a su raza, a su clase y a su rol dentro del grupo, pueden llegar a abrumar un poco al jugador novato. Otro aspecto a tener en cuenta son los ítems que encontramos a lo largo de nuestro periplo, algunos nos serán muy útiles para equipar a nuestros personajes, pero el peso del inventario afectará a la movilidad de nuestro grupo, así que es recomendable vender lo que nos sobre a la primera oportunidad que se nos presente. Pathfinder: Kingmaker nos da la opción de gestionar el reino de manera automática o hacerlo nosotros mismos, hemos de construir, hacer acuerdos con otras ciudades, realizar misiones, asignar consejeros… Deberemos defender nuestro reino con todas nuestras fuerzas ya que, si este cae, perderemos la partida. En Pathfinder a parte de explorar, enfrentarnos a poderosos enemigos y gestionar el reino, hay multitud de momentos narrativos en los que debemos elegir la mejor opción o el mejor diálogo para salir airosos de la situación. Esto se complica si tenemos en cuenta que el juego no está en castellano, al menos, no de manera oficial, ya que en pc existen mods que sí permiten jugar en castellano, un punto que puede inclinar la balanza a adquirirlo en pc en lugar de en consolas. Por lo demás no hay una diferencia decisiva que haga más placentera la experiencia de juego de una versión con respecto a la otra. Pathfinder: Kingmaker cuenta con una historia original, basada en el mundo que ya conocemos los jugadores de la versión de mesa, a pesar de que no contamos con la libertad que nos proporciona el rol en papel, el título logra adaptar de manera bastante acertada la ambientación de Pathfinder. Hay que tener en cuenta que la historia avanza independientemente de lo que haga el jugador, es decir, ciertos eventos tienen una temporalidad en la que debemos realizarlos y, de no hacerlos a tiempo, enfrentaremos una serie de consecuencias. En el apartado sonoro encontramos música que nos acompaña casi en todo momento y el sonido ambiente cambia, dependiendo del momento del día y la localización, logrando crear una atmósfera adecuada en cada situación. En el apartado visual cabe destacar las preciosas ilustraciones tanto de los personajes, como las que aparecen en el libro en los momentos de narración, sin embargo, éstas no se corresponden con el aspecto de los personajes que personalizamos. Pathfinder: Kingmaker es un buen juego de rol para aquellos que les gusta el género y tienen alguna experiencia con éste, sin embargo, como hemos apuntado anteriormente, puede llegar a ser un poco complejo para los jugadores noveles. Hemos encontrado algunos fallos, pequeños bugs, por ejemplo, a la hora de ir por el mapa se ha quedado en un punto fijo sin darnos opcion a movernos, esto nos ha obligado salir de la aplicación y volver a entrar, o en algunos combates también se han quedado bloqueados, pero se han arreglado sólo con abrir el menú, quedando la batalla tal y como la dejamos. LO MEJOR LO PEOR Bueno Cumple con las expectativas de lo que es un buen juego, tiene calidad y no presenta fallos graves, aunque le faltan elementos que podrían haberlo llevado a cotas más altas.                        ', 'score': 6.8}}\n"
     ]
    }
   ],
   "source": [
    "result = meristation_dict(links[0:5])\n",
    "print(result)"
   ]
  },
  {
   "cell_type": "code",
   "execution_count": 225,
   "metadata": {},
   "outputs": [
    {
     "data": {
      "text/plain": [
       "{'site': 'as',\n",
       " 'url_link': 'https://as.com/meristation/2020/10/03/analisis/1601701228_240717.html',\n",
       " 'author': 'César Otero',\n",
       " 'game': 'art of rally',\n",
       " 'company': 'Funselektor',\n",
       " 'genre': 'Conducción                    ',\n",
       " 'platform': 'PC',\n",
       " 'text': 'Los fans de los videojuegos de carreras están disfrutando de un verano de lo más movidito; y es que además de las recientes entregas anuales de sagas como WRC o F1, la tercera parte de Project Cars y los arcade Trackmania Remake, Inertial Drift o Hotshot Racing, ahora debemos sumar a la ecuación un título muy esperado por los fans de los rallys con art of rally, una curiosa y original propuesta a medio camino entre la simulación más exigente y los arcade de siempre que pretende hacernos revivir la época dorada de tan popular categoría de automovilismo, desde sus inicios en la década de los 60 hasta la explosión del famoso Grupo B de los 80, un recorrido histórico a cago de los canadienses Funselektor, creadores del celebrado y no menos original Absolute Drift. Veamos qué ofrece art of rally tanto para los más puristas del volante como para los interesados en propuestas frescas rebosantes de personalidad, título que ya se encuentra disponible en Steam y GOG; lo analizamos. La premisa de art of rally es tan personal como su propia propuesta, como decimos, a medio camino entre la simulación y el arcade. ¿Y qué tipo de jugabilidad puede ofrecer un título de estas características? Para empezar, el control resulta exigente, con varios aspectos que podemos configurar a nivel de mecánica y de experiencia de usuario; por otro lado, su carácter desenfadado y minimalista se deja notar tanto en su personalidad y puesta en escena como en las particularidades de una cámara aérea, casi cenital, que nos ofrece una amplia perspectiva de los diferentes tramos. Todo ello da como resultado una explosiva mezcla tanto de sensaciones como de experiencia al volante, reuniendo aspectos de ambas vertientes del género de la conducción y que logra convencer tras unas partidas de adaptación. Y es que ya desde un inicio y con la configuración más accesible, art of rally representa todo un desafío; aunque siempre hay margen para ir un paso más allá a nivel de dificultad. \\n\\n Pero volvamos a la línea de salida; art of rally nos sumerge en un apasionante viaje por la historia de la disciplina profesional de los rallys a modo de homenaje a través de una personalidad muy marcada. Tanto es así, que ya desde un principio deja clara su apuesta estética low poly a través de modelados sencillos y una paleta de colores muy viva, junto a una banda sonora retro-electrónica con temas pegadizos; y también algo machacones tras varias horas. Como curiosidad, al empezar nuestro viaje a través de las primeras décadas de las competiciones de rallys se nos invita a rendir culto a una deidad; y de un modo onírico, se nos ofrecerá un breve repaso a la historia de dicha competición. En este sentido, un punto a favor de Funselektor por imprimir su propio estilo y hacer de su nuevo videojuego de carreras una experiencia amena y agradable. art of rally propone al jugador varios modos de juego, siendo el modo carrera el más completo e interesante, aunque todo ello sin dejar de lado otras opciones como el modo libre, el modo contrarreloj, los deafíos en línea -diarios y semanales- o el desbloqueo de nuevos coches, apariencias y pinturas personalizadas. Cada partida tiene su correspondiente premio, siempre y cuando lo hagamos suficientemente bien. Y aquí entra en juego el verdadero protagonista del título: la experiencia de conducción. Y es que art of rally ofrece muchas de las características que todo aficionado a los simuladores de coches demandaría a un videojuego, desde un alto nivel de exigencia a diferentes aspectos configurables de la mecánica de los coches. El juego de Funselektor se antoja exigente para los no iniciados, aunque ofrece el suficiente margen de aprendizaje para empezar a dominar sus diferentes entresijos tras unas pocas partidas. Tal y como sugiere el leitmotiv del juego, el principal reto del jugador es dominar todos y cada uno de los coches de rallys que vayamos desbloqueando, todo para lograr mejores tiempos y recibir vehículos más potentes y refinados, de nuevo, para marcar mejores tiempos y ascender hasta el primer puesto de las distintas temporadas. Y es que cada vehículo presenta sus propias características en aspectos como velocidad, aceleración, agarre, tracción, marchas largas o cortas, etc. Es aquí cuando debemos bajar las revoluciones y prestar atención al gran trabajo de diseño por parte de Funselektor a nivel de representación de las diferentes categorías (años 60, 70 y 80 y Grupo B, S y A) con modelos no licenciados pero que cualquier aficionado al automovilismo identificará sin mucho esfuerzo. Tanto es así, que no faltará ninguno de los grandes clásicos de las cuatro ruedas como los diferentes coches de carreras de BMW, Renault, Peugeot, Alpine, Mini, Lancia o Audi, entre muchos otros, completando una lista de más de 50 vehículos. Por otro lado, los diferentes tramos (hasta 60 etapas repartidas por localizaciones como Finlandia, Cerdeña, Noruega, Japón y Alemania) ofrecen toda clase de retos, desde horquillas endiabladas a cambios de rasante, pasando por largas rectas o carreteras estrechas a través de las más variadas superficies como asfalto, grava, barro o nieve, entre otras. Y como no podía ser de otra manera, cada configuración de tramo afecta al tipo de conducción. Funselektor pretende que cada carrera se convierta en todo un desafío para el jugador; y vaya si lo consiguen. Dominar los diferentes coches (ya sean de tracción delantera, trasera o total con los más variados niveles de potencia) se convierte en un reto continuo, en el que hay que aprender a dosificar muy bien tanto el acelerador como el freno, además del freno de mano, controlando los cambios de rasante o los derrapes más peligrosos, todo para no acabar dando bandazos o perdiendo valiosos segundos entre árboles o rocas, o en el peor de los casos, dando vueltas de campana; cada restauración del vehículos en pista nos sumará 5 segundos al crono, con lo que conviene ser muy cuidadosos. Por ello, es de vital importancia adecuar la configuración del coche a nuestro estilo de conducción o habilidad al volante; por suerte, el título nos permite tocar aspectos mecánicos como el autoblocante o los frenos ABS, además de seleccionar el cambio manual o automático, entre otras opciones. No obstante, y tras varias horas y campeonatos completados, empezamos a sentir cierta sensación de déjà vu; y es que a pesar de que la variedad de escenarios es notable -así como sus paisajes propios y ambientaciones, climatología aparte-, los recorridos en sí pecan de reiterativos, ofreciendo poca variedad entre los diferentes campeonatos. Por otro lado, e incluso con el nivel de dificultad estándar, no sufriremos mucho para colocarnos en primera posición debido a unos tiempos de los rivales excesivamente conservadores, siempre y cuando mantengamos un nivel aceptable de pilotaje, claro está. Más allá del modo campaña, el modo libre ofrece la opción de disfrutar de la conducción sin la presión del cronómetro, además de practicar a lo largo y ancho de pequeños mundos abiertos en los que movernos libremente; también se ofrecen otros alicientes como coleccionables en forma de cintas de cassette o las letras R-A-L-L-Y, junto a un completo y atractivo modo foto. Aunque uno de los aspectos más llamativos de art of rally no es otro que su apartado visual, de corte minimalista y apostando por gráficos low poly, tanto en los modelados de los coches como del resto de elementos, como vegetación, edificios e incluso público. En este sentido, ofrece sensaciones relajantes que contrastan con el frenetismo de una conducción al máximo nivel, siempre y cuando queramos exprimir todas sus posibilidades a nivel de jugabilidad. La iluminación general aporta ese toque preciosista, dejando estampas especialmente llamativas a pesar de su marcada sencillez; no obstante, también encontramos errores como un popping muy visible en determinadas circunstancias, sombras mejorables y algunos modelados algo descuidados, incluyendo tramos de carretera que no terminan de “encajar”. A nivel de interfaz es igualmente parco, con el velocímetro digital junto a la marcha y las revoluciones situados en la parte central inferior de la pantalla, con una barra de progreso de tramo en el lado izquierdo y el cronómetro en la parte superior derecha; eso es todo. También es posible elegir entre varias cámaras, con ligeras variaciones en altura. CONCLUSIÓN Los enamorados de la velocidad en general y los rallys en particular tienen con art of rally una propuesta fresca y visualmente rompedora, con un especial cuidado por rendir homenaje a la historia de dicha disciplina automovilística a través de una campaña amena y desafiante, siempre y cuando compitamos contra la IA más avanzada, ya que no tardaremos mucho en tomar las medidas a su propuesta y lograr los mejores tiempos sin demasiada dificultad. Si bien es cierto que su efectiva mezcla entre simulación y arcade ofrece buenas sensaciones, no tardaremos en lamentar cierta monotonía en su propuesta de juego, dejando todo el protagonismo al desbloqueo de coches y su dominio avanzado al volante. En definitiva, un título divertido con cierto nivel de profundidad y una puesta en escena prácticamente única en su género. LO MEJOR LO PEOR Bueno Cumple con las expectativas de lo que es un buen juego, tiene calidad y no presenta fallos graves, aunque le faltan elementos que podrían haberlo llevado a cotas más altas.                        ',\n",
       " 'score': 6.8}"
      ]
     },
     "execution_count": 225,
     "metadata": {},
     "output_type": "execute_result"
    }
   ],
   "source": [
    "result[0]"
   ]
  },
  {
   "cell_type": "code",
   "execution_count": null,
   "metadata": {},
   "outputs": [],
   "source": []
  },
  {
   "cell_type": "code",
   "execution_count": null,
   "metadata": {},
   "outputs": [],
   "source": []
  },
  {
   "cell_type": "markdown",
   "metadata": {},
   "source": [
    "### SCRAPING REVIEWS"
   ]
  },
  {
   "cell_type": "markdown",
   "metadata": {},
   "source": [
    "### Create DataFrame"
   ]
  },
  {
   "cell_type": "code",
   "execution_count": 33,
   "metadata": {},
   "outputs": [
    {
     "data": {
      "text/html": [
       "<div>\n",
       "<style scoped>\n",
       "    .dataframe tbody tr th:only-of-type {\n",
       "        vertical-align: middle;\n",
       "    }\n",
       "\n",
       "    .dataframe tbody tr th {\n",
       "        vertical-align: top;\n",
       "    }\n",
       "\n",
       "    .dataframe thead th {\n",
       "        text-align: right;\n",
       "    }\n",
       "</style>\n",
       "<table border=\"1\" class=\"dataframe\">\n",
       "  <thead>\n",
       "    <tr style=\"text-align: right;\">\n",
       "      <th></th>\n",
       "      <th>title</th>\n",
       "      <th>author</th>\n",
       "      <th>review</th>\n",
       "      <th>url</th>\n",
       "    </tr>\n",
       "  </thead>\n",
       "  <tbody>\n",
       "    <tr>\n",
       "      <th>0</th>\n",
       "      <td>Análisis Bounty Battle; el título de lucha de ...</td>\n",
       "      <td>NaN</td>\n",
       "      <td>Después del anuncio de su retraso indefinido e...</td>\n",
       "      <td>https://as.com/meristation/2020/09/22/analisis...</td>\n",
       "    </tr>\n",
       "    <tr>\n",
       "      <th>1</th>\n",
       "      <td>eFootball PES 2021, análisis. Rueda el balón, ...</td>\n",
       "      <td>NaN</td>\n",
       "      <td>La temporada futbolística acabó de manera atíp...</td>\n",
       "      <td>https://as.com/meristation/2020/09/22/analisis...</td>\n",
       "    </tr>\n",
       "    <tr>\n",
       "      <th>2</th>\n",
       "      <td>Milky Way Prince: The Vampire Prince, análisis...</td>\n",
       "      <td>NaN</td>\n",
       "      <td>El amor es uno de los temas universales que pe...</td>\n",
       "      <td>https://as.com/meristation/2020/09/21/analisis...</td>\n",
       "    </tr>\n",
       "    <tr>\n",
       "      <th>3</th>\n",
       "      <td>Spinch, análisis PC y Switch: Una experiencia ...</td>\n",
       "      <td>NaN</td>\n",
       "      <td>No hay duda de que el género de las plataforma...</td>\n",
       "      <td>https://as.com/meristation/2020/09/20/analisis...</td>\n",
       "    </tr>\n",
       "    <tr>\n",
       "      <th>4</th>\n",
       "      <td>Spelunky 2, análisis: el videojuego más hardco...</td>\n",
       "      <td>NaN</td>\n",
       "      <td>Mucho ha llovido desde el lanzamiento de Spelu...</td>\n",
       "      <td>https://as.com/meristation/2020/09/19/analisis...</td>\n",
       "    </tr>\n",
       "  </tbody>\n",
       "</table>\n",
       "</div>"
      ],
      "text/plain": [
       "                                               title  author  \\\n",
       "0  Análisis Bounty Battle; el título de lucha de ...     NaN   \n",
       "1  eFootball PES 2021, análisis. Rueda el balón, ...     NaN   \n",
       "2  Milky Way Prince: The Vampire Prince, análisis...     NaN   \n",
       "3  Spinch, análisis PC y Switch: Una experiencia ...     NaN   \n",
       "4  Spelunky 2, análisis: el videojuego más hardco...     NaN   \n",
       "\n",
       "                                              review  \\\n",
       "0  Después del anuncio de su retraso indefinido e...   \n",
       "1  La temporada futbolística acabó de manera atíp...   \n",
       "2  El amor es uno de los temas universales que pe...   \n",
       "3  No hay duda de que el género de las plataforma...   \n",
       "4  Mucho ha llovido desde el lanzamiento de Spelu...   \n",
       "\n",
       "                                                 url  \n",
       "0  https://as.com/meristation/2020/09/22/analisis...  \n",
       "1  https://as.com/meristation/2020/09/22/analisis...  \n",
       "2  https://as.com/meristation/2020/09/21/analisis...  \n",
       "3  https://as.com/meristation/2020/09/20/analisis...  \n",
       "4  https://as.com/meristation/2020/09/19/analisis...  "
      ]
     },
     "execution_count": 33,
     "metadata": {},
     "output_type": "execute_result"
    }
   ],
   "source": [
    "meristation = pd.DataFrame({'title': titles, \n",
    "                           'author': np.nan, \n",
    "                           'review': reviews_col, \n",
    "                           'url': links \n",
    "                           })\n",
    "\n",
    "meristation.head()"
   ]
  },
  {
   "cell_type": "code",
   "execution_count": 34,
   "metadata": {},
   "outputs": [],
   "source": [
    "#meristation.to_csv('../data/meristation_data.csv', index=False)"
   ]
  },
  {
   "cell_type": "code",
   "execution_count": null,
   "metadata": {},
   "outputs": [],
   "source": []
  }
 ],
 "metadata": {
  "kernelspec": {
   "display_name": "Python [conda env:lab_env]",
   "language": "python",
   "name": "conda-env-lab_env-py"
  },
  "language_info": {
   "codemirror_mode": {
    "name": "ipython",
    "version": 3
   },
   "file_extension": ".py",
   "mimetype": "text/x-python",
   "name": "python",
   "nbconvert_exporter": "python",
   "pygments_lexer": "ipython3",
   "version": "3.7.3"
  }
 },
 "nbformat": 4,
 "nbformat_minor": 4
}
