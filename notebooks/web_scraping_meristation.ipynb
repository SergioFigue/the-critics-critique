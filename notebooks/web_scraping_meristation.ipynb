{
 "cells": [
  {
   "cell_type": "markdown",
   "metadata": {},
   "source": [
    "# Scraping MERISTATION"
   ]
  },
  {
   "cell_type": "code",
   "execution_count": 1,
   "metadata": {},
   "outputs": [],
   "source": [
    "import requests\n",
    "from bs4 import BeautifulSoup\n",
    "import time\n",
    "import pandas as pd\n",
    "import numpy as np\n",
    "import newspaper\n",
    "from newspaper import Article\n",
    "from newspaper import Source\n",
    "from newspaper import fulltext"
   ]
  },
  {
   "cell_type": "markdown",
   "metadata": {},
   "source": [
    "## Scraping Articles Site "
   ]
  },
  {
   "cell_type": "code",
   "execution_count": 2,
   "metadata": {},
   "outputs": [
    {
     "data": {
      "text/plain": [
       "b'<!DOCTYPE html>\\n<html lang=\"es\">\\n<head>\\n<meta char'"
      ]
     },
     "execution_count": 2,
     "metadata": {},
     "output_type": "execute_result"
    }
   ],
   "source": [
    "review_url = 'https://as.com/meristation/analisis/'\n",
    "html = requests.get(review_url).content\n",
    "html[:50]"
   ]
  },
  {
   "cell_type": "code",
   "execution_count": 3,
   "metadata": {},
   "outputs": [],
   "source": [
    "soup = BeautifulSoup(html, 'lxml')\n",
    "articles = soup.find_all('h2')"
   ]
  },
  {
   "cell_type": "code",
   "execution_count": 4,
   "metadata": {},
   "outputs": [
    {
     "data": {
      "text/plain": [
       "['OkunoKA Madness, análisis',\n",
       " 'art of rally, análisis',\n",
       " 'Crash Bandicoot 4, Análisis. Celebración plataformera',\n",
       " 'WWE 2K Battlegrounds, análisis. La lucha libre nos vuelve a romper el corazón',\n",
       " 'Turtle Beach Stealth 700 Gen 2, Análisis']"
      ]
     },
     "execution_count": 4,
     "metadata": {},
     "output_type": "execute_result"
    }
   ],
   "source": [
    "#Extraer títulos\n",
    "\n",
    "titles = []\n",
    "\n",
    "for a in articles:\n",
    "    if a.find('a') == None:\n",
    "        pass\n",
    "    else:\n",
    "        titles.append(a.find('a')['title'])\n",
    "    \n",
    "titles[0:5]"
   ]
  },
  {
   "cell_type": "code",
   "execution_count": 5,
   "metadata": {},
   "outputs": [
    {
     "data": {
      "text/plain": [
       "['https://as.com/meristation/2020/10/05/analisis/1601886314_918896.html',\n",
       " 'https://as.com/meristation/2020/10/03/analisis/1601701228_240717.html',\n",
       " 'https://as.com/meristation/2020/10/01/analisis/1601557244_384472.html',\n",
       " 'https://as.com/meristation/2020/09/30/analisis/1601454855_979194.html',\n",
       " 'https://as.com/meristation/2020/09/29/mexico/1601416248_335912.html',\n",
       " 'https://as.com/meristation/2020/09/29/analisis/1601370434_254241.html']"
      ]
     },
     "execution_count": 5,
     "metadata": {},
     "output_type": "execute_result"
    }
   ],
   "source": [
    "#Extraer links\n",
    "\n",
    "links = []\n",
    "\n",
    "for a in articles:\n",
    "    if a.find('a') == None:\n",
    "        pass\n",
    "    else:\n",
    "        links.append(a.find('a')['href'])\n",
    "    \n",
    "links[0:6]"
   ]
  },
  {
   "cell_type": "markdown",
   "metadata": {},
   "source": [
    "## Page parsing and link retrieving function for Meristation"
   ]
  },
  {
   "cell_type": "code",
   "execution_count": 6,
   "metadata": {},
   "outputs": [],
   "source": [
    "def meristation_link_retrieve(num_pages):\n",
    "    links = []\n",
    "    \n",
    "    # pages parser\n",
    "    for i in range(num_pages):\n",
    "        url = f'https://as.com/meristation/analisis/{281-i}'\n",
    "        #print(url)\n",
    "\n",
    "        # building soup    \n",
    "        html = requests.get(url).content\n",
    "        soup = BeautifulSoup(html, 'lxml')\n",
    "        articles = soup.find_all('h2')\n",
    "\n",
    "        # links retrieve\n",
    "        for a in articles:\n",
    "            if a.find('a') == None:\n",
    "                pass\n",
    "            else:\n",
    "                links.append(a.find('a')['href'])\n",
    "        \n",
    "    #print(links)\n",
    "    \n",
    "    #Deleting non review links\n",
    "    for link in links:\n",
    "        if 'analisis' not in link:\n",
    "            links.remove(link)\n",
    "                \n",
    "    return links\n"
   ]
  },
  {
   "cell_type": "code",
   "execution_count": 7,
   "metadata": {},
   "outputs": [
    {
     "name": "stdout",
     "output_type": "stream",
     "text": [
      "3000\n",
      "['https://as.com/meristation/2016/06/22/analisis/1466583840_156341.html', 'https://as.com/meristation/2016/06/21/analisis/1466521200_156273.html', 'https://as.com/meristation/2016/06/21/analisis/1466517180_155958.html', 'https://as.com/meristation/2016/06/20/analisis/1466424780_156286.html', 'https://as.com/meristation/2016/06/12/analisis/1465766220_156029.html']\n"
     ]
    }
   ],
   "source": [
    "num_pages = 100\n",
    "\n",
    "links = meristation_link_retrieve(num_pages)\n",
    "\n",
    "print(len(links))\n",
    "print(links[:5])"
   ]
  },
  {
   "cell_type": "markdown",
   "metadata": {},
   "source": [
    "## Scraping Single Review"
   ]
  },
  {
   "cell_type": "code",
   "execution_count": 63,
   "metadata": {},
   "outputs": [
    {
     "data": {
      "text/plain": [
       "b'<!DOCTYPE html>\\n<html lang=\"es\">\\n<head>\\n<meta char'"
      ]
     },
     "execution_count": 63,
     "metadata": {},
     "output_type": "execute_result"
    }
   ],
   "source": [
    "review_url = 'https://as.com/meristation/2020/09/29/analisis/1601370434_254241.html'\n",
    "review_html = requests.get(review_url).content\n",
    "review_html[:50]"
   ]
  },
  {
   "cell_type": "code",
   "execution_count": 73,
   "metadata": {},
   "outputs": [],
   "source": [
    "soup = BeautifulSoup(review_html, 'lxml')"
   ]
  },
  {
   "cell_type": "code",
   "execution_count": 74,
   "metadata": {},
   "outputs": [],
   "source": [
    "p_tags = soup.find('div', {'class': 'art-body'}).find_all('p')"
   ]
  },
  {
   "cell_type": "code",
   "execution_count": 75,
   "metadata": {},
   "outputs": [],
   "source": [
    "review = [tag.text for tag in p_tags]\n",
    "review = ' '.join(review)"
   ]
  },
  {
   "cell_type": "code",
   "execution_count": 76,
   "metadata": {},
   "outputs": [
    {
     "data": {
      "text/plain": [
       "'\"Un consejo, señor, no se acerque nunca al lago... Y sobre todo, tápese los oídos si oye cantar la voz bajo el agua...\", El fantasma de la ópera\" (1910), Gastón Leroux En un videojuego, lo mismo que en una película, poco importa si es grande o pequeño, si lo han hecho un estudio de 100 personas con 80 millones de presupuesto, o 5 con apenas unas decenas de miles. Lo que cuenta es su eficacia, su capacidad para lograr el fin último que su género busca. Maid of Sker logra eso en su estupenda primera parte, pero lo arruina en su segunda, en un juego con 2 mitades diferenciadas por sus mecánicas. Pero incluso tal como está, su historia merece ser descubierta. Tras un Don’t Knock Twice que ciertamente componía una gran atmósfera, el estudio Wales Interactive regresa este año con Maia of Sker, un título con el que buscan solventar los fallos del anterior al tiempo que contarnos una estupenda historia de horror cósmico - marítimo. El punto de partida es directo: Estás en el siglo XIX, en un a'"
      ]
     },
     "execution_count": 76,
     "metadata": {},
     "output_type": "execute_result"
    }
   ],
   "source": [
    "review[0:1000]"
   ]
  },
  {
   "cell_type": "code",
   "execution_count": 77,
   "metadata": {},
   "outputs": [
    {
     "data": {
      "text/plain": [
       "'César Otero'"
      ]
     },
     "execution_count": 77,
     "metadata": {},
     "output_type": "execute_result"
    }
   ],
   "source": [
    "author = soup.find('li', {'class': 'art-aut-wr'}).text.strip('\\n')\n",
    "author"
   ]
  },
  {
   "cell_type": "code",
   "execution_count": 82,
   "metadata": {},
   "outputs": [],
   "source": [
    "# Author\n",
    "def meri_author():\n",
    "    author = 'None'\n",
    "    \n",
    "    try:\n",
    "        author = soup.find('p', {'class': 'art-aut-wr'}).find('a').text.strip('\\n')\n",
    "\n",
    "    except AttributeError:\n",
    "        pass\n",
    "    \n",
    "    try:\n",
    "        author = soup.find('li', {'class': 'art-aut-wr'}).text.strip('\\n')\n",
    "\n",
    "    except AttributeError:\n",
    "        pass\n",
    "\n",
    "    return author"
   ]
  },
  {
   "cell_type": "code",
   "execution_count": 83,
   "metadata": {},
   "outputs": [
    {
     "data": {
      "text/plain": [
       "'César Otero'"
      ]
     },
     "execution_count": 83,
     "metadata": {},
     "output_type": "execute_result"
    }
   ],
   "source": [
    "meri_author()"
   ]
  },
  {
   "cell_type": "code",
   "execution_count": 84,
   "metadata": {},
   "outputs": [
    {
     "data": {
      "text/plain": [
       "'Maid of Sker'"
      ]
     },
     "execution_count": 84,
     "metadata": {},
     "output_type": "execute_result"
    }
   ],
   "source": [
    "# Game\n",
    "\n",
    "game = soup.find('div', {'class': 'ga-h-tl'}).text\n",
    "game"
   ]
  },
  {
   "cell_type": "code",
   "execution_count": 85,
   "metadata": {},
   "outputs": [
    {
     "name": "stdout",
     "output_type": "stream",
     "text": [
      "PC NSW PS4 XBO \n",
      "Aventura                     \n",
      "Wales Interactive\n",
      "\n"
     ]
    }
   ],
   "source": [
    "# Genre, Company and Platform\n",
    "\n",
    "infobox = soup.find('ul', {'class': 'li-inl'}).contents\n",
    "for box in infobox:  \n",
    "        \n",
    "    if (type(box.find('span')) == int) or (box.find('span') == None):\n",
    "        pass\n",
    "    else:\n",
    "        #print(box.find('span').text)\n",
    " \n",
    "        if 'Plataforma' in box.find('span').text:\n",
    "            group = box.find_all('a', {'class': 'rv-inline'})\n",
    "            platform = [plat.contents[0].strip('\\n') for plat in group]\n",
    "            platform = ' '.join(platform)\n",
    "            \n",
    "        if 'Género' in box.find('span').text:\n",
    "            genre = box.find('span', {'class': 'val'}).text\n",
    "            \n",
    "        if 'Editor' in box.find('span').text:\n",
    "            company = box.find('span', {'class': 'val'}).text\n",
    "\n",
    "print(platform, genre, company)"
   ]
  },
  {
   "cell_type": "code",
   "execution_count": 94,
   "metadata": {},
   "outputs": [],
   "source": [
    "# Score\n",
    "\n",
    "def meri_score():\n",
    "    #Initialize with most common score\n",
    "    score = ''\n",
    "\n",
    "    #3 different paths for score in Meristation\n",
    "    try:\n",
    "        score = soup.find('span', {'class': 'rv-sc sc-h'}).text\n",
    "\n",
    "    except AttributeError:\n",
    "        pass\n",
    "\n",
    "    try:\n",
    "        score = soup.find('span', {'class': 'rv-sc sc-m'}).text\n",
    "\n",
    "    except AttributeError:\n",
    "        pass\n",
    "\n",
    "    try:\n",
    "        score = soup.find('span', {'class': 'rv-sc sc-l'}).text\n",
    "\n",
    "    except AttributeError:\n",
    "        pass\n",
    "   \n",
    "    return score"
   ]
  },
  {
   "cell_type": "code",
   "execution_count": 95,
   "metadata": {},
   "outputs": [
    {
     "data": {
      "text/plain": [
       "'6.8'"
      ]
     },
     "execution_count": 95,
     "metadata": {},
     "output_type": "execute_result"
    }
   ],
   "source": [
    "meri_score()"
   ]
  },
  {
   "cell_type": "markdown",
   "metadata": {},
   "source": [
    "## Create columns"
   ]
  },
  {
   "cell_type": "code",
   "execution_count": 8,
   "metadata": {},
   "outputs": [],
   "source": [
    "\n",
    "def meristation_dict(links):\n",
    "    reviews_dict = {}\n",
    "    i = 0\n",
    "\n",
    "    for link in links:\n",
    "        try:\n",
    "            \n",
    "            #Request content and wait\n",
    "            review_html = requests.get(link).content\n",
    "\n",
    "            #Avoid get banned and timeout\n",
    "            time.sleep(1)\n",
    "\n",
    "            #Make a Soup and a Newspacer build\n",
    "            soup = BeautifulSoup(review_html, 'lxml')\n",
    "            #paper = newspaper.build(link) - Unnecesary\n",
    "\n",
    "            #Site name - From Newspaper - Unnecesary\n",
    "            #site = paper.brand\n",
    "\n",
    "            #URL - From Newspaper - Unnecesary\n",
    "            #url_link = paper.url\n",
    "\n",
    "            #Game - From Scraping\n",
    "            game = soup.find('div', {'class': 'ga-h-tl'}).text.strip('\\n')\n",
    "\n",
    "            #Author - From Scraping\n",
    "            author = 'None'\n",
    "    \n",
    "            try:\n",
    "                author = soup.find('p', {'class': 'art-aut-wr'}).find('a').text.strip('\\n')\n",
    "\n",
    "            except AttributeError:\n",
    "                pass\n",
    "\n",
    "            try:\n",
    "                author = soup.find('li', {'class': 'art-aut-wr'}).text.strip('\\n')\n",
    "\n",
    "            except AttributeError:\n",
    "                pass\n",
    "\n",
    "            #Company, Genre & Platform - From Scraping\n",
    "            genre = 'None'\n",
    "            company = 'None'\n",
    "            platform = 'None'\n",
    "\n",
    "            infobox = soup.find('ul', {'class': 'li-inl'}).contents\n",
    "            for box in infobox:  \n",
    "\n",
    "                if (type(box.find('span')) == int) or (box.find('span') == None):\n",
    "                    pass\n",
    "                else:\n",
    "                    #print(box.find('span').text)\n",
    "\n",
    "                    if 'Plataforma' in box.find('span').text:\n",
    "                        group = box.find_all('a', {'class': 'rv-inline'})\n",
    "                        platform = [plat.contents[0].strip('\\n') for plat in group]\n",
    "                        platform = ' '.join(platform).strip('\\n')\n",
    "\n",
    "                    if 'Género' in box.find('span').text:\n",
    "                        genre = box.find('span', {'class': 'val'}).text.strip('\\n')\n",
    "\n",
    "                    if 'Editor' in box.find('span').text:\n",
    "                        company = box.find('span', {'class': 'val'}).text.strip('\\n')\n",
    "\n",
    "            #Text & Cleaning - From Scraping\n",
    "            p_tags = soup.find('div', {'class': 'art-body'}).find_all('p')\n",
    "            review = [tag.text for tag in p_tags]\n",
    "            review = ' '.join(review)\n",
    "\n",
    "            #Score & Clean & Transform - From Scraping\n",
    "            score = 7\n",
    "\n",
    "            #3 different paths for score in Meristation\n",
    "            try:\n",
    "                score = soup.find('span', {'class': 'rv-sc sc-h'}).text\n",
    "\n",
    "            except AttributeError:\n",
    "                pass\n",
    "\n",
    "            try:\n",
    "                score = soup.find('span', {'class': 'rv-sc sc-m'}).text\n",
    "\n",
    "            except AttributeError:\n",
    "                pass\n",
    "\n",
    "            try:\n",
    "                score = soup.find('span', {'class': 'rv-sc sc-l'}).text\n",
    "\n",
    "            except AttributeError:\n",
    "                pass\n",
    "\n",
    "            score = float(score)\n",
    "\n",
    "            #Add to a dict\n",
    "            reviews_dict[i] = {'site': 'meristation',\n",
    "                               'url_link': link,\n",
    "                               'author': author,\n",
    "                               'game': game,\n",
    "                               'company': company,\n",
    "                               'genre': genre,\n",
    "                               'platform': platform,\n",
    "                               'text': review,\n",
    "                               'score': score}\n",
    "        \n",
    "        except AttributeError:\n",
    "            pass\n",
    "        \n",
    "        i = i+1\n",
    "        if i % 25 == 0:\n",
    "            print(i, ': ', link)\n",
    "\n",
    "    return reviews_dict"
   ]
  },
  {
   "cell_type": "code",
   "execution_count": 9,
   "metadata": {},
   "outputs": [
    {
     "name": "stdout",
     "output_type": "stream",
     "text": [
      "25 :  https://as.com/meristation/2016/04/26/analisis/1461657960_154988.html\n",
      "50 :  https://as.com/meristation/2016/03/18/analisis/1458284400_154088.html\n",
      "75 :  https://as.com/meristation/2016/02/12/analisis/1455269760_153184.html\n",
      "100 :  https://as.com/meristation/2015/12/02/analisis/1449053460_151404.html\n",
      "125 :  https://as.com/meristation/2015/10/30/analisis/1446188400_150266.html\n",
      "150 :  https://as.com/meristation/2015/09/29/analisis/1443531600_149210.html\n",
      "175 :  https://as.com/meristation/2015/08/26/analisis/1440597600_148419.html\n",
      "200 :  https://as.com/meristation/2015/07/18/analisis/1437170400_147229.html\n",
      "225 :  https://as.com/meristation/2015/06/05/analisis/1433527200_145768.html\n",
      "250 :  https://as.com/meristation/2015/04/15/analisis/1429082340_144176.html\n",
      "275 :  https://as.com/meristation/2015/03/17/analisis/1426579200_143109.html\n",
      "300 :  https://as.com/meristation/2015/02/24/analisis/1424790000_142283.html\n",
      "325 :  https://as.com/meristation/2015/02/02/analisis/1422860400_141307.html\n",
      "350 :  https://as.com/meristation/2014/12/17/analisis/1418836620_139928.html\n",
      "375 :  https://as.com/meristation/2014/11/19/analisis/1416391020_138742.html\n",
      "400 :  https://as.com/meristation/2014/11/01/analisis/1414835520_139947.html\n",
      "425 :  https://as.com/meristation/2014/10/08/analisis/1412755200_136921.html\n",
      "450 :  https://as.com/meristation/2014/09/04/analisis/1409853540_135653.html\n",
      "475 :  https://as.com/meristation/2014/08/01/analisis/1406876400_134454.html\n",
      "500 :  https://as.com/meristation/2014/06/26/analisis/1403776800_133278.html\n",
      "525 :  https://as.com/meristation/2014/05/18/analisis/1400400000_131678.html\n",
      "550 :  https://as.com/meristation/2014/04/18/analisis/1397840400_130591.html\n",
      "575 :  https://as.com/meristation/2014/04/01/analisis/1396364400_129974.html\n",
      "600 :  https://as.com/meristation/2014/03/08/analisis/1394269200_097985.html\n",
      "625 :  https://as.com/meristation/2014/02/14/analisis/1392357600_127948.html\n",
      "650 :  https://as.com/meristation/2014/01/12/analisis/1389510000_126782.html\n",
      "675 :  https://as.com/meristation/2013/11/21/analisis/1385031600_125119.html\n",
      "700 :  https://as.com/meristation/2013/11/08/analisis/1383919200_124639.html\n",
      "725 :  https://as.com/meristation/2013/10/22/analisis/1382421600_123987.html\n",
      "750 :  https://as.com/meristation/2013/09/27/analisis/1380261600_122790.html\n",
      "775 :  https://as.com/meristation/2013/09/01/analisis/1378015200_121676.html\n",
      "800 :  https://as.com/meristation/2013/08/12/analisis/1376258400_120725.html\n",
      "825 :  https://as.com/meristation/2013/07/06/analisis/1373090400_119453.html\n",
      "850 :  https://as.com/meristation/2013/06/01/analisis/1370066400_117666.html\n",
      "875 :  https://as.com/meristation/2013/04/22/analisis/1366614000_116075.html\n",
      "900 :  https://as.com/meristation/2013/03/30/analisis/1364626800_116162.html\n",
      "925 :  https://as.com/meristation/2013/03/16/analisis/1363417200_115453.html\n",
      "950 :  https://as.com/meristation/2013/02/22/analisis/1361516400_114736.html\n",
      "975 :  https://as.com/meristation/2013/01/28/analisis/1359356400_114127.html\n",
      "1000 :  https://as.com/meristation/2013/01/09/analisis/1357714800_113020.html\n",
      "1025 :  https://as.com/meristation/2012/12/13/analisis/1355392800_111276.html\n",
      "1050 :  https://as.com/meristation/2012/11/30/analisis/1354266000_110752.html\n",
      "1075 :  https://as.com/meristation/2012/11/19/analisis/1353344400_110392.html\n",
      "1100 :  https://as.com/meristation/2012/11/08/analisis/1352365200_109914.html\n",
      "1125 :  https://as.com/meristation/2012/10/23/analisis/1351008000_109368.html\n",
      "1150 :  https://as.com/meristation/2012/10/09/analisis/1349787600_108823.html\n",
      "1175 :  https://as.com/meristation/2012/09/24/analisis/1348466400_108556.html\n",
      "1200 :  https://as.com/meristation/2012/09/04/analisis/1346738400_108340.html\n",
      "1225 :  https://as.com/meristation/2012/08/07/analisis/1344319500_106536.html\n",
      "1250 :  https://as.com/meristation/2012/07/05/analisis/1341468000_105285.html\n",
      "1275 :  https://as.com/meristation/2012/06/25/analisis/1340576040_104895.html\n",
      "1300 :  https://as.com/meristation/2012/05/24/analisis/1337850000_103250.html\n",
      "1325 :  https://as.com/meristation/2012/05/05/analisis/1336197600_102882.html\n",
      "1350 :  https://as.com/meristation/2012/04/13/analisis/1334311380_102113.html\n",
      "1375 :  https://as.com/meristation/2012/03/20/analisis/1332271500_101214.html\n",
      "1400 :  https://as.com/meristation/2012/03/05/analisis/1330934400_100492.html\n",
      "1425 :  https://as.com/meristation/2012/02/22/analisis/1329865200_098286.html\n",
      "1450 :  https://as.com/meristation/2012/02/01/analisis/1328079600_100166.html\n",
      "1475 :  https://as.com/meristation/2012/01/23/analisis/1327302000_098309.html\n",
      "1500 :  https://as.com/meristation/2011/12/01/analisis/1322745960_097971.html\n",
      "1525 :  https://as.com/meristation/2011/11/29/analisis/1322550000_019793.html\n",
      "1550 :  https://as.com/meristation/2011/11/14/analisis/1321254000_019781.html\n",
      "1575 :  https://as.com/meristation/2011/10/28/analisis/1319781600_019751.html\n",
      "1600 :  https://as.com/meristation/2011/10/05/analisis/1317794400_019724.html\n",
      "1625 :  https://as.com/meristation/2011/09/06/analisis/1315288800_019703.html\n",
      "1650 :  https://as.com/meristation/2011/07/15/analisis/1310709660_019678.html\n",
      "1675 :  https://as.com/meristation/2011/05/28/analisis/1306562460_019657.html\n",
      "1700 :  https://as.com/meristation/2011/04/21/analisis/1303372800_019628.html\n",
      "1725 :  https://as.com/meristation/2011/03/25/analisis/1301074320_019634.html\n",
      "1750 :  https://as.com/meristation/2011/03/15/analisis/1300172400_019580.html\n",
      "1775 :  https://as.com/meristation/2011/02/20/analisis/1298185200_019562.html\n",
      "1800 :  https://as.com/meristation/2011/01/07/analisis/1294431660_019531.html\n",
      "1825 :  https://as.com/meristation/2010/11/26/analisis/1290754800_019498.html\n",
      "1850 :  https://as.com/meristation/2010/11/11/analisis/1289458800_019471.html\n",
      "1875 :  https://as.com/meristation/2010/10/29/analisis/1288332240_019451.html\n",
      "1900 :  https://as.com/meristation/2010/10/15/analisis/1287122400_019431.html\n",
      "1925 :  https://as.com/meristation/2010/09/25/analisis/1285394580_019412.html\n",
      "1950 :  https://as.com/meristation/2010/09/01/analisis/1283364000_019389.html\n",
      "1975 :  https://as.com/meristation/2010/07/11/analisis/1278828000_019367.html\n",
      "2000 :  https://as.com/meristation/2010/06/03/analisis/1275544980_019340.html\n",
      "2025 :  https://as.com/meristation/2010/05/03/analisis/1272866640_019317.html\n",
      "2050 :  https://as.com/meristation/2010/04/12/analisis/1271052000_019310.html\n",
      "2075 :  https://as.com/meristation/2010/03/17/analisis/1268809320_019275.html\n",
      "2100 :  https://as.com/meristation/2010/03/01/analisis/1267426800_019250.html\n",
      "2125 :  https://as.com/meristation/2010/02/09/analisis/1265698800_019225.html\n",
      "2150 :  https://as.com/meristation/2009/12/31/analisis/1262266260_019188.html\n",
      "2175 :  https://as.com/meristation/2009/11/23/analisis/1258959600_019166.html\n",
      "2200 :  https://as.com/meristation/2009/11/09/analisis/1257750420_019143.html\n",
      "2225 :  https://as.com/meristation/2009/10/28/analisis/1256749200_019114.html\n",
      "2250 :  https://as.com/meristation/2009/10/16/analisis/1255672980_019091.html\n",
      "2275 :  https://as.com/meristation/2009/10/05/analisis/1254718800_019073.html\n",
      "2300 :  https://as.com/meristation/2009/09/20/analisis/1253426460_019041.html\n",
      "2325 :  https://as.com/meristation/2009/09/03/analisis/1251957600_019028.html\n",
      "2350 :  https://as.com/meristation/2009/07/21/analisis/1248156300_018993.html\n",
      "2375 :  https://as.com/meristation/2009/06/28/analisis/1246168800_018974.html\n",
      "2400 :  https://as.com/meristation/2009/06/12/analisis/1244786520_018947.html\n",
      "2425 :  https://as.com/meristation/2009/05/20/analisis/1242799440_018920.html\n",
      "2450 :  https://as.com/meristation/2009/04/23/analisis/1240466040_018897.html\n",
      "2475 :  https://as.com/meristation/2009/03/26/analisis/1238050920_018865.html\n",
      "2500 :  https://as.com/meristation/2009/03/19/analisis/1237446180_018845.html\n",
      "2525 :  https://as.com/meristation/2009/03/04/analisis/1236165900_018819.html\n",
      "2550 :  https://as.com/meristation/2009/02/18/analisis/1234940700_018794.html\n",
      "2575 :  https://as.com/meristation/2009/02/03/analisis/1233644580_018772.html\n",
      "2600 :  https://as.com/meristation/2008/12/18/analisis/1229583600_018740.html\n",
      "2625 :  https://as.com/meristation/2008/12/01/analisis/1228114800_018717.html\n",
      "2650 :  https://as.com/meristation/2008/11/19/analisis/1227078300_018686.html\n",
      "2675 :  https://as.com/meristation/2008/11/11/analisis/1226386800_018654.html\n",
      "2700 :  https://as.com/meristation/2008/11/03/analisis/1225695720_018632.html\n",
      "2725 :  https://as.com/meristation/2008/10/24/analisis/1224828000_018591.html\n",
      "2750 :  https://as.com/meristation/2008/10/13/analisis/1223848800_018574.html\n",
      "2775 :  https://as.com/meristation/2008/09/26/analisis/1222408800_018587.html\n",
      "2800 :  https://as.com/meristation/2008/09/15/analisis/1221458520_018534.html\n",
      "2825 :  https://as.com/meristation/2008/09/01/analisis/1220249100_018522.html\n",
      "2850 :  https://as.com/meristation/2008/07/24/analisis/1216879200_018489.html\n",
      "2875 :  https://as.com/meristation/2008/06/27/analisis/1214546520_018467.html\n",
      "2900 :  https://as.com/meristation/2008/06/13/analisis/1213336800_018481.html\n",
      "2925 :  https://as.com/meristation/2008/05/23/analisis/1211522400_018416.html\n",
      "2950 :  https://as.com/meristation/2008/04/29/analisis/1209420300_018588.html\n",
      "2975 :  https://as.com/meristation/2008/04/10/analisis/1207807320_018374.html\n",
      "3000 :  https://as.com/meristation/2008/03/23/analisis/1206255600_018352.html\n"
     ]
    }
   ],
   "source": [
    "#result_meri = meristation_dict(links)\n"
   ]
  },
  {
   "cell_type": "code",
   "execution_count": 11,
   "metadata": {},
   "outputs": [
    {
     "name": "stdout",
     "output_type": "stream",
     "text": [
      "{'site': 'meristation', 'url_link': 'https://as.com/meristation/2008/07/23/analisis/1216792800_018610.html', 'author': 'Salva Fernàndez', 'game': 'Arkanoid DS', 'company': 'Square Enix', 'genre': 'Acción, Arcade                    ', 'platform': 'DS', 'text': \"Hace unos 22 años, Taito creó uno de los juegos insignia del mundo de los videojuegos: Arkanoid.\\xa0 El desarrollo era bastante sencillo. Una plataforma controlada por el jugador debía hacer rebotar una pelota con dos funciones: evitar que ésta saliera del mapeado e intentar vaciar el nivel de bloques molestos.  Tan sencillo como adictivo, Arkanoid basaba su tremenda jugabilidad en el diseño de niveles,\\xa0 su dificultad, y la astucia a la hora de decidir que potenciadores se utilizaban en cada momento.\\n\\nAhora, acabando ya el 2008, sale la enésima revisión de uno de los juegos más manidos en las recreativas de la mano de Square Enix. Nintendo DS recibe la última adaptación de este clásico con más de 130 fases en el modo clásico y otras opciones destinadas a alargar la vida del juego: un modo misión, donde se deben cumplir requisitos especiales para terminar las fases, un modo versus con otro amigo o con la cpu y la posibilidad de conectarse vía Wi-Fi para buscar retos por todo el mundo.    Arkanoid DS mantiene intactas todas y cada una de las virtudes que le hicieron triunfar en los años ochenta. Mediante el control con la cruceta o usando el stylus encima de la 'nave', el jugador mueve de un lado para otro la plataforma para rebotar la bola hacia los bloques que se encuentran en la pantalla superior de la portátil y que deben ser eliminados en su totalidad. El reto del juego se encuentra en las variantes que ofrece cada fase. Los bloques básicos se rompen con un golpeo. Luego están otros como los que se mueven por el escenario, los que necesitan de más de un impacto con la esfera para romperse o los que son invencibles y se encuentran metidos en el mapeado básicamente para molestar y complicar el asunto.  Las opciones del jugador no se limitan a intentar dar de la mejor manera posible a la esfera y evitar que esta salga del escenario, ya que algunos bloques destruidos ofrecerán potenciadores que pueden ser de mucha utilidad. Respetando el concepto clásico del juego, estos van desde aumentos de tamaño de la plataforma, o su antagónico que lo acorta, hasta la posibilidad de armar la plataforma con una arma para disparar, la opción de jugar con más de una esfera o darle poder suficiente a la bola para que atraviese los bloques -en un caso normal sale rebotada- ente otras. Esto dará cierto toque estratégico al juego pensando si el potenciador que cae del cielo se deja pasar, se cambia por el que ya se tiene o toca jugarse el tipo pillando la cápsula en cuestión cuando la bola está a punto de caer en el otro lado de la pantalla.  Una de las principales novedades que se presentaron con la llegada de este nuevo juego era la inclusión de un periférico que, instalado en la ranura de GBA, hacía las funciones de 'stick' y le daba un toque arcade a la experiencia. Lamentablemente, en Europa este periférico no ha aterrizado, y se ha quedado en una simple opción para los jugadores nipones. El principal modo de juego es el clásico. Éste se divide en niveles de cinco fases cada uno. En total, hay más de 130 fases divididas por mundos. Para jugarlas todas será necesario terminar varias veces este modo, ya que los caminos que elijamos excluyen mundos que pueden escogerse en otras partidas. Cada nivel que avancemos es un poco más complicado que el anterior, aunque la dificultad, por muchos motivos explicados más adelante, no será un problema para seguir adelante.  El modo misión será el reto a batir. Una vez desbloqueadas las fases en el modo principal, en éste se podrán jugar con unas normas específicas que complican más su superación. Desde acabar con bloques de un color determinado con un número limitado de lanzamientos hasta terminar una fase con un tiempo límite, le da otro enfoque a las fases ya disputadas donde la habilidad, y cómo no, la suerte estarán presentes para salir con éxito del reto. Cada mapa superado nos dará monedas de oro que se podrán canjear por fondos de pantalla, marcos y nuevos diseño de nave y bloques. Esto, que no afecta a la jugabilidad en sí, nos permite cambiar el aspecto insulso de los bloques a otros diseños más divertidos, como unos aliens que homenajean al clásico Space Invaders.   Por último, el modo versus completa el abanico de posibilidades. Se puede hacer ante la CPU, ésta tiene 8 niveles de dificultad, o contra hasta cuatro amigos, una opción que necesita solo de un juego para poderse usar. Por último, esta versión de Square Enix ofrece la posibilidad de jugar con todo el mundo vía Wi Fi. Este modo es bastante sencillo: se trata de terminar la fase antes que la de tu rival. Se han añadido potenciadores que añaden bloques a los mapas rivales.   Hay pequeñas diferencias entre este juego y su homónimo original que cambian un poco el objetivo principal. El toque arcade y la dificultad de Arkanoid se han visto reducidos en esta versión para DS. Hay diversos motivos para ello. El primero se encuentra en el diseño de las fases. La doble pantalla provoca que la fase sea demasiado alargada. Se dejan demasiados espacios vacíos, sobre todo en la parte táctil donde no hay bloques ni impedimentos, entre la plataforma y la zona de acción, por lo que salvo en momentos puntuales donde la bola va a gran velocidad, no supone un problema devolver siempre la esfera a los bloques. A esto se le añade una barrera protectora debajo de la nave que evita que la bola salga de la pantalla, con el consiguiente fracaso. Esta franja se puede adaptar para que desaparezca después de 1, 2 o más impactos de la esfera, pero por defecto viene con tres golpeos, por lo que es muy difícil morir en una fase.   Conclusión  Arkanoid es un juego de sencilla ejecución que mantiene intactos todos los factores que le hicieron triunfar en su día. Con muchas fases para disfrutar y un buen multijugador, se trata de esas opciones sencillas pero adictivas si se tiene claro el tipo de juego del que se trata. Una mayor dificultad con más variedad de fases, mayor aprovechamiento de las dos pantallas\\xa0 y modos de juego más distintos entre sí (el modo misión acaba por parecerse demasiado al principal) son sus principales pegas. Los que busquen un reto totalmente arcade con horas de práctica para superar ciertas fases no se encontrarán satisfechos con esta revisión de Arkanoid, mucho más accesible para todos los públicos. Correcto No es lo último ni lo más original, tampoco cuenta con la mejor ejecución, pero puede divertir si te gusta el género. Bien, pero mejorable.                \", 'score': 6.5}\n"
     ]
    }
   ],
   "source": [
    "print(result_meri[2850])"
   ]
  },
  {
   "cell_type": "markdown",
   "metadata": {},
   "source": [
    "### Create DataFrame"
   ]
  },
  {
   "cell_type": "code",
   "execution_count": 12,
   "metadata": {},
   "outputs": [
    {
     "data": {
      "text/html": [
       "<div>\n",
       "<style scoped>\n",
       "    .dataframe tbody tr th:only-of-type {\n",
       "        vertical-align: middle;\n",
       "    }\n",
       "\n",
       "    .dataframe tbody tr th {\n",
       "        vertical-align: top;\n",
       "    }\n",
       "\n",
       "    .dataframe thead th {\n",
       "        text-align: right;\n",
       "    }\n",
       "</style>\n",
       "<table border=\"1\" class=\"dataframe\">\n",
       "  <thead>\n",
       "    <tr style=\"text-align: right;\">\n",
       "      <th></th>\n",
       "      <th>site</th>\n",
       "      <th>url_link</th>\n",
       "      <th>author</th>\n",
       "      <th>game</th>\n",
       "      <th>company</th>\n",
       "      <th>genre</th>\n",
       "      <th>platform</th>\n",
       "      <th>text</th>\n",
       "      <th>score</th>\n",
       "    </tr>\n",
       "  </thead>\n",
       "  <tbody>\n",
       "    <tr>\n",
       "      <th>0</th>\n",
       "      <td>meristation</td>\n",
       "      <td>https://as.com/meristation/2016/06/22/analisis...</td>\n",
       "      <td>None</td>\n",
       "      <td>Mario y Sonic en los Juegos Olímpicos: Río 2016</td>\n",
       "      <td>None</td>\n",
       "      <td>Deportes</td>\n",
       "      <td>WiiU 3DS</td>\n",
       "      <td>Para una generación que crecimos metiendo mone...</td>\n",
       "      <td>7.5</td>\n",
       "    </tr>\n",
       "    <tr>\n",
       "      <th>1</th>\n",
       "      <td>meristation</td>\n",
       "      <td>https://as.com/meristation/2016/06/21/analisis...</td>\n",
       "      <td>Fran García</td>\n",
       "      <td>Deadlight: Director's Cut</td>\n",
       "      <td>None</td>\n",
       "      <td>Acción, Aventura, Plataformas, Survival Horror...</td>\n",
       "      <td>XBO PC PS4</td>\n",
       "      <td>Habitualmente los videojuegos en los que el zo...</td>\n",
       "      <td>8.0</td>\n",
       "    </tr>\n",
       "    <tr>\n",
       "      <th>2</th>\n",
       "      <td>meristation</td>\n",
       "      <td>https://as.com/meristation/2016/06/21/analisis...</td>\n",
       "      <td>Francisco Alberto Serrano</td>\n",
       "      <td>The Banner Saga 2</td>\n",
       "      <td>None</td>\n",
       "      <td>Strategy, RPG, Turn Based, Tactical           ...</td>\n",
       "      <td>PS4 PC OSX XBO</td>\n",
       "      <td>Banner Saga fue uno de los grandes triunfos na...</td>\n",
       "      <td>8.5</td>\n",
       "    </tr>\n",
       "    <tr>\n",
       "      <th>3</th>\n",
       "      <td>meristation</td>\n",
       "      <td>https://as.com/meristation/2016/06/20/analisis...</td>\n",
       "      <td>Salva Fernàndez</td>\n",
       "      <td>Mighty No. 9</td>\n",
       "      <td>None</td>\n",
       "      <td>Acción, Plataformas</td>\n",
       "      <td>XBO 360 PC PS4 PSV 3DS PS3 WiiU OSX</td>\n",
       "      <td>Mighty  no.9 apuntaba a ser uno de los grandes...</td>\n",
       "      <td>5.0</td>\n",
       "    </tr>\n",
       "    <tr>\n",
       "      <th>4</th>\n",
       "      <td>meristation</td>\n",
       "      <td>https://as.com/meristation/2016/06/12/analisis...</td>\n",
       "      <td>Joaquín Relaño</td>\n",
       "      <td>Guilty Gear Xrd -REVELATOR-</td>\n",
       "      <td>Arc System Works</td>\n",
       "      <td>Acción</td>\n",
       "      <td>PS3 PS4 PC</td>\n",
       "      <td>Capcom sigue pidiendo perdón por el desastre q...</td>\n",
       "      <td>9.5</td>\n",
       "    </tr>\n",
       "    <tr>\n",
       "      <th>...</th>\n",
       "      <td>...</td>\n",
       "      <td>...</td>\n",
       "      <td>...</td>\n",
       "      <td>...</td>\n",
       "      <td>...</td>\n",
       "      <td>...</td>\n",
       "      <td>...</td>\n",
       "      <td>...</td>\n",
       "      <td>...</td>\n",
       "    </tr>\n",
       "    <tr>\n",
       "      <th>2995</th>\n",
       "      <td>meristation</td>\n",
       "      <td>https://as.com/meristation/2008/03/26/analisis...</td>\n",
       "      <td>Pablo González</td>\n",
       "      <td>Warriors Orochi</td>\n",
       "      <td>None</td>\n",
       "      <td>Acción</td>\n",
       "      <td>360 PC</td>\n",
       "      <td>Koei supo mover ficha cuando decidió que no po...</td>\n",
       "      <td>7.0</td>\n",
       "    </tr>\n",
       "    <tr>\n",
       "      <th>2996</th>\n",
       "      <td>meristation</td>\n",
       "      <td>https://as.com/meristation/2008/03/26/analisis...</td>\n",
       "      <td>Ramón Méndez</td>\n",
       "      <td>El Universo en Guerra: Asalto a la Tierra</td>\n",
       "      <td>SEGA</td>\n",
       "      <td>Strategy, Real-Time</td>\n",
       "      <td>PC 360</td>\n",
       "      <td>A pesar de que, históricamente, la estrategia ...</td>\n",
       "      <td>8.0</td>\n",
       "    </tr>\n",
       "    <tr>\n",
       "      <th>2997</th>\n",
       "      <td>meristation</td>\n",
       "      <td>https://as.com/meristation/2008/03/24/analisis...</td>\n",
       "      <td>None</td>\n",
       "      <td>Bomberman Land Touch 2</td>\n",
       "      <td>None</td>\n",
       "      <td>Acción, Arcade</td>\n",
       "      <td>DS</td>\n",
       "      <td>Cuando tenemos delante un juego con un dos al ...</td>\n",
       "      <td>6.0</td>\n",
       "    </tr>\n",
       "    <tr>\n",
       "      <th>2998</th>\n",
       "      <td>meristation</td>\n",
       "      <td>https://as.com/meristation/2008/03/24/analisis...</td>\n",
       "      <td>Javi Andrés</td>\n",
       "      <td>Harvest Moon Magical Melody</td>\n",
       "      <td>None</td>\n",
       "      <td>RPG</td>\n",
       "      <td>Wii</td>\n",
       "      <td>Abrimos la caja, metemos el juego y nos prepa...</td>\n",
       "      <td>7.0</td>\n",
       "    </tr>\n",
       "    <tr>\n",
       "      <th>2999</th>\n",
       "      <td>meristation</td>\n",
       "      <td>https://as.com/meristation/2008/03/23/analisis...</td>\n",
       "      <td>Javi Andrés</td>\n",
       "      <td>Destroy All Humans! Big Willy Unleashed</td>\n",
       "      <td>None</td>\n",
       "      <td>Acción, Aventura</td>\n",
       "      <td>Wii</td>\n",
       "      <td>Tras varios títulos a sus espaldas, la saga De...</td>\n",
       "      <td>7.0</td>\n",
       "    </tr>\n",
       "  </tbody>\n",
       "</table>\n",
       "<p>2986 rows × 9 columns</p>\n",
       "</div>"
      ],
      "text/plain": [
       "             site                                           url_link  \\\n",
       "0     meristation  https://as.com/meristation/2016/06/22/analisis...   \n",
       "1     meristation  https://as.com/meristation/2016/06/21/analisis...   \n",
       "2     meristation  https://as.com/meristation/2016/06/21/analisis...   \n",
       "3     meristation  https://as.com/meristation/2016/06/20/analisis...   \n",
       "4     meristation  https://as.com/meristation/2016/06/12/analisis...   \n",
       "...           ...                                                ...   \n",
       "2995  meristation  https://as.com/meristation/2008/03/26/analisis...   \n",
       "2996  meristation  https://as.com/meristation/2008/03/26/analisis...   \n",
       "2997  meristation  https://as.com/meristation/2008/03/24/analisis...   \n",
       "2998  meristation  https://as.com/meristation/2008/03/24/analisis...   \n",
       "2999  meristation  https://as.com/meristation/2008/03/23/analisis...   \n",
       "\n",
       "                         author  \\\n",
       "0                          None   \n",
       "1                   Fran García   \n",
       "2     Francisco Alberto Serrano   \n",
       "3               Salva Fernàndez   \n",
       "4                Joaquín Relaño   \n",
       "...                         ...   \n",
       "2995             Pablo González   \n",
       "2996               Ramón Méndez   \n",
       "2997                       None   \n",
       "2998                Javi Andrés   \n",
       "2999                Javi Andrés   \n",
       "\n",
       "                                                 game           company  \\\n",
       "0     Mario y Sonic en los Juegos Olímpicos: Río 2016              None   \n",
       "1                           Deadlight: Director's Cut              None   \n",
       "2                                   The Banner Saga 2              None   \n",
       "3                                        Mighty No. 9              None   \n",
       "4                         Guilty Gear Xrd -REVELATOR-  Arc System Works   \n",
       "...                                               ...               ...   \n",
       "2995                                  Warriors Orochi              None   \n",
       "2996        El Universo en Guerra: Asalto a la Tierra              SEGA   \n",
       "2997                           Bomberman Land Touch 2              None   \n",
       "2998                      Harvest Moon Magical Melody              None   \n",
       "2999          Destroy All Humans! Big Willy Unleashed              None   \n",
       "\n",
       "                                                  genre  \\\n",
       "0                          Deportes                       \n",
       "1     Acción, Aventura, Plataformas, Survival Horror...   \n",
       "2     Strategy, RPG, Turn Based, Tactical           ...   \n",
       "3               Acción, Plataformas                       \n",
       "4                            Acción                       \n",
       "...                                                 ...   \n",
       "2995                         Acción                       \n",
       "2996            Strategy, Real-Time                       \n",
       "2997                 Acción, Arcade                       \n",
       "2998                            RPG                       \n",
       "2999               Acción, Aventura                       \n",
       "\n",
       "                                 platform  \\\n",
       "0                                WiiU 3DS   \n",
       "1                              XBO PC PS4   \n",
       "2                          PS4 PC OSX XBO   \n",
       "3     XBO 360 PC PS4 PSV 3DS PS3 WiiU OSX   \n",
       "4                              PS3 PS4 PC   \n",
       "...                                   ...   \n",
       "2995                               360 PC   \n",
       "2996                               PC 360   \n",
       "2997                                   DS   \n",
       "2998                                  Wii   \n",
       "2999                                  Wii   \n",
       "\n",
       "                                                   text  score  \n",
       "0     Para una generación que crecimos metiendo mone...    7.5  \n",
       "1     Habitualmente los videojuegos en los que el zo...    8.0  \n",
       "2     Banner Saga fue uno de los grandes triunfos na...    8.5  \n",
       "3     Mighty  no.9 apuntaba a ser uno de los grandes...    5.0  \n",
       "4     Capcom sigue pidiendo perdón por el desastre q...    9.5  \n",
       "...                                                 ...    ...  \n",
       "2995  Koei supo mover ficha cuando decidió que no po...    7.0  \n",
       "2996  A pesar de que, históricamente, la estrategia ...    8.0  \n",
       "2997  Cuando tenemos delante un juego con un dos al ...    6.0  \n",
       "2998   Abrimos la caja, metemos el juego y nos prepa...    7.0  \n",
       "2999  Tras varios títulos a sus espaldas, la saga De...    7.0  \n",
       "\n",
       "[2986 rows x 9 columns]"
      ]
     },
     "execution_count": 12,
     "metadata": {},
     "output_type": "execute_result"
    }
   ],
   "source": [
    "meristation = pd.DataFrame.from_dict(result_meri, orient='index')\n",
    "\n",
    "meristation"
   ]
  },
  {
   "cell_type": "code",
   "execution_count": 13,
   "metadata": {},
   "outputs": [],
   "source": [
    "#meristation.to_csv('../data/meristation_51_150p.csv', index=False)"
   ]
  },
  {
   "cell_type": "code",
   "execution_count": 14,
   "metadata": {},
   "outputs": [
    {
     "data": {
      "text/plain": [
       "2986"
      ]
     },
     "execution_count": 14,
     "metadata": {},
     "output_type": "execute_result"
    }
   ],
   "source": [
    "len(result_meri)"
   ]
  },
  {
   "cell_type": "code",
   "execution_count": null,
   "metadata": {},
   "outputs": [],
   "source": []
  }
 ],
 "metadata": {
  "kernelspec": {
   "display_name": "Python [conda env:lab_env]",
   "language": "python",
   "name": "conda-env-lab_env-py"
  },
  "language_info": {
   "codemirror_mode": {
    "name": "ipython",
    "version": 3
   },
   "file_extension": ".py",
   "mimetype": "text/x-python",
   "name": "python",
   "nbconvert_exporter": "python",
   "pygments_lexer": "ipython3",
   "version": "3.7.3"
  }
 },
 "nbformat": 4,
 "nbformat_minor": 4
}
