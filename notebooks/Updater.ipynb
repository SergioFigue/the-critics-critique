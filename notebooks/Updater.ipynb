{
 "cells": [
  {
   "cell_type": "markdown",
   "metadata": {},
   "source": [
    "# Dataframe updater with new articles (sketch)"
   ]
  },
  {
   "cell_type": "markdown",
   "metadata": {},
   "source": [
    "## Vandal updater"
   ]
  },
  {
   "cell_type": "code",
   "execution_count": null,
   "metadata": {},
   "outputs": [],
   "source": [
    "def latest_links(data):\n",
    "    # data via parser\n",
    "    all_sites = pd.read_csv(data)\n",
    "    filtered_df = all_sites[all_sites['site'] == 'Vandal'].head(30)\n",
    "    return filtered_df['url_link'].tolist()"
   ]
  },
  {
   "cell_type": "code",
   "execution_count": null,
   "metadata": {},
   "outputs": [],
   "source": [
    "#Links retriever v2 - break to skip duplicates\n",
    "\n",
    "def vandal_link_retrieve(num_pages):\n",
    "    \n",
    "    links = []\n",
    "    titles = []\n",
    "    old_links = latest_links()\n",
    "    \n",
    "    # pages parser\n",
    "    for i in range(num_pages):\n",
    "        url = f\"https://vandal.elespanol.com/analisis/videojuegos/inicio/{i*45}\"\n",
    "\n",
    "        # building soup    \n",
    "        html = requests.get(url).content\n",
    "        soup = BeautifulSoup(html, 'lxml')\n",
    "        articles = soup.find_all('div', {'class': 'caja300 afterclearer'})\n",
    "        \n",
    "        # links & game titles retrieve. New: checking if old to stop adding raws.\n",
    "        for a in articles:\n",
    "            link = a.find('a')['href']\n",
    "            \n",
    "            if link not in old_links:     \n",
    "                links.append(link) \n",
    "                titles.append(a.find('a')['title'])\n",
    "            else:\n",
    "                break\n",
    "                \n",
    "    return links, titles\n"
   ]
  },
  {
   "cell_type": "code",
   "execution_count": null,
   "metadata": {},
   "outputs": [],
   "source": [
    "def vandal_dataframe(links, titles):\n",
    "    result_vandal = vandal_dict(links, titles)\n",
    "    up_vandal_df = pd.DataFrame.from_dict(result_vandal, orient='index')\n",
    "    return up_vandal_df"
   ]
  },
  {
   "cell_type": "code",
   "execution_count": null,
   "metadata": {},
   "outputs": [],
   "source": []
  },
  {
   "cell_type": "code",
   "execution_count": null,
   "metadata": {},
   "outputs": [],
   "source": []
  },
  {
   "cell_type": "code",
   "execution_count": null,
   "metadata": {},
   "outputs": [],
   "source": [
    "all_sites = pd.read_csv(data)\n",
    "\n",
    "new_all = pd.concat([all_sites, up_vandal_df], ignore_index=True, sort=False)"
   ]
  }
 ],
 "metadata": {
  "kernelspec": {
   "display_name": "Python [conda env:lab_env]",
   "language": "python",
   "name": "conda-env-lab_env-py"
  },
  "language_info": {
   "codemirror_mode": {
    "name": "ipython",
    "version": 3
   },
   "file_extension": ".py",
   "mimetype": "text/x-python",
   "name": "python",
   "nbconvert_exporter": "python",
   "pygments_lexer": "ipython3",
   "version": "3.7.3"
  }
 },
 "nbformat": 4,
 "nbformat_minor": 4
}
