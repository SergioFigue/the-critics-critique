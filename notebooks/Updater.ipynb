{
 "cells": [
  {
   "cell_type": "markdown",
   "metadata": {},
   "source": [
    "# Dataframe updater with new articles (sketch)"
   ]
  },
  {
   "cell_type": "code",
   "execution_count": 3,
   "metadata": {},
   "outputs": [],
   "source": [
    "import requests\n",
    "from bs4 import BeautifulSoup\n",
    "import time\n",
    "import pandas as pd\n",
    "import numpy as np"
   ]
  },
  {
   "cell_type": "code",
   "execution_count": null,
   "metadata": {},
   "outputs": [],
   "source": [
    "all_sites = pd.read_csv(data)\n",
    "\n",
    "new_all = pd.concat([all_sites, up_vandal_df], ignore_index=True, sort=False)"
   ]
  },
  {
   "cell_type": "code",
   "execution_count": null,
   "metadata": {},
   "outputs": [],
   "source": []
  },
  {
   "cell_type": "markdown",
   "metadata": {},
   "source": [
    "## Vandal updater"
   ]
  },
  {
   "cell_type": "code",
   "execution_count": 15,
   "metadata": {},
   "outputs": [],
   "source": [
    "def vandal_latest_links(data):\n",
    "    # data via parser\n",
    "    all_sites = pd.read_csv(data)\n",
    "    filtered_df = all_sites[all_sites['site'] == 'Vandal'].head(30)\n",
    "    return filtered_df['url_link'].tolist()"
   ]
  },
  {
   "cell_type": "code",
   "execution_count": 20,
   "metadata": {},
   "outputs": [],
   "source": [
    "#Links retriever v2 - break to skip duplicates\n",
    "\n",
    "def vandal_link_retrieve(pages):\n",
    "    \n",
    "    links = []\n",
    "    titles = []\n",
    "    old_links = latest_links(data)\n",
    "    repeated = False  \n",
    "    \n",
    "    # pages parser\n",
    "    for i in range(pages):\n",
    "        if repeated == True:\n",
    "            break\n",
    "            \n",
    "        url = f\"https://vandal.elespanol.com/analisis/videojuegos/inicio/{i*45}\"\n",
    "\n",
    "        # building soup    \n",
    "        html = requests.get(url).content\n",
    "        soup = BeautifulSoup(html, 'lxml')\n",
    "        articles = soup.find_all('div', {'class': 'caja300 afterclearer'})\n",
    "        \n",
    "        # links & game titles retrieve. New: checking if old to stop adding raws.\n",
    "        for a in articles:\n",
    "            link = a.find('a')['href']\n",
    "            \n",
    "            if link not in old_links:     \n",
    "                links.append(link) \n",
    "                titles.append(a.find('a')['title'])\n",
    "            else:\n",
    "                print(f'{len(titles)} new games added.')\n",
    "                repeated = True\n",
    "                break\n",
    "                \n",
    "    return links, titles"
   ]
  },
  {
   "cell_type": "code",
   "execution_count": null,
   "metadata": {},
   "outputs": [],
   "source": [
    "'''\n",
    "Import in this stage:\n",
    "- vandal_platform(soup):\n",
    "- vandal_genre(soup)\n",
    "- vandal_company(soup)\n",
    "- vandal_dict(links, titles)\n",
    "'''"
   ]
  },
  {
   "cell_type": "code",
   "execution_count": 17,
   "metadata": {},
   "outputs": [],
   "source": [
    "def vandal_dataframe(links, titles):\n",
    "    result_vandal = vandal_dict(links, titles)\n",
    "    up_vandal_df = pd.DataFrame.from_dict(result_vandal, orient='index')\n",
    "    return up_vandal_df"
   ]
  },
  {
   "cell_type": "code",
   "execution_count": 22,
   "metadata": {},
   "outputs": [
    {
     "name": "stdout",
     "output_type": "stream",
     "text": [
      "24 new games added.\n"
     ]
    },
    {
     "data": {
      "text/plain": [
       "(['https://vandal.elespanol.com/analisis/iphone/world-of-demons/60074',\n",
       "  'https://vandal.elespanol.com/analisis/ps5/disco-elysium-the-final-cut/93992',\n",
       "  'https://vandal.elespanol.com/analisis/pc/before-your-eyes/81894',\n",
       "  'https://vandal.elespanol.com/analisis/pc/qomp/88395',\n",
       "  'https://vandal.elespanol.com/analisis/ps4/paradise-lost/97468',\n",
       "  'https://vandal.elespanol.com/analisis/pc/spacebase-startopia/76637',\n",
       "  'https://vandal.elespanol.com/analisis/pc/record-of-lodoss-wardeedlit-in-wonder-labyrinth/82317',\n",
       "  'https://vandal.elespanol.com/analisis/pc/lost-words-beyond-the-page/50885',\n",
       "  'https://vandal.elespanol.com/analisis/ps5/balan-wonderworld/88212',\n",
       "  'https://vandal.elespanol.com/analisis/pc/evil-genius-2-world-domination/4196',\n",
       "  'https://vandal.elespanol.com/analisis/pc/narita-boy/47106',\n",
       "  'https://vandal.elespanol.com/analisis/ps4/doom-3-vr-edition/97172',\n",
       "  'https://vandal.elespanol.com/analisis/pc/evil-inside/92122',\n",
       "  'https://vandal.elespanol.com/analisis/pc/genesis-noir/56811',\n",
       "  'https://vandal.elespanol.com/analisis/ps4/it-takes-two/86856',\n",
       "  'https://vandal.elespanol.com/analisis/pc/blind-drive/92861',\n",
       "  'https://vandal.elespanol.com/analisis/ps4/yupitergrad/96828',\n",
       "  'https://vandal.elespanol.com/analisis/switch/monster-hunter-rise/90551',\n",
       "  'https://vandal.elespanol.com/analisis/switch/story-of-seasons-pioneers-of-olive-town/92227',\n",
       "  'https://vandal.elespanol.com/analisis/switch/plants-vs-zombies-battle-for-neighborville/96489',\n",
       "  'https://vandal.elespanol.com/analisis/switch/stubbs-the-zombie-in-rebel-without-a-pulse/96501',\n",
       "  'https://vandal.elespanol.com/analisis/switch/kaze-and-the-wild-masks/89385',\n",
       "  'https://vandal.elespanol.com/analisis/pc/adios/83755',\n",
       "  'https://vandal.elespanol.com/analisis/pc/mundaun/61283'],\n",
       " ['World of Demons - Análisis',\n",
       "  'Disco Elysium - The Final Cut - Análisis',\n",
       "  'Before Your Eyes - Análisis',\n",
       "  'qomp - Análisis',\n",
       "  'Paradise Lost - Análisis',\n",
       "  'Spacebase Startopia - Análisis',\n",
       "  'Record of Lodoss War-Deedlit in Wonder Labyrinth- - Análisis',\n",
       "  'Lost Words: Beyond the Page - Análisis',\n",
       "  'Balan Wonderworld - Análisis',\n",
       "  'Evil Genius 2: World Domination - Análisis',\n",
       "  'Narita Boy - Análisis',\n",
       "  'Doom 3: VR Edition - Análisis',\n",
       "  'Evil Inside - Análisis',\n",
       "  'Genesis Noir - Análisis',\n",
       "  'It Takes Two - Análisis',\n",
       "  'Blind Drive - Análisis',\n",
       "  'Yupitergrad - Análisis',\n",
       "  'Monster Hunter Rise - Análisis',\n",
       "  'Story of Seasons: Pioneers of Olive Town - Análisis',\n",
       "  'Plants vs. Zombies: Battle for Neighborville - Análisis',\n",
       "  'Stubbs the Zombie in Rebel Without a Pulse - Análisis',\n",
       "  'Kaze and the Wild Masks - Análisis',\n",
       "  'Adios - Análisis',\n",
       "  'Mundaun - Análisis'])"
      ]
     },
     "execution_count": 22,
     "metadata": {},
     "output_type": "execute_result"
    }
   ],
   "source": [
    "#test\n",
    "data = f\"../data/test2_2021.csv\"\n",
    "pages = 2\n",
    "vandal_link_retrieve(pages)"
   ]
  },
  {
   "cell_type": "markdown",
   "metadata": {},
   "source": [
    "## Gamereactor updater"
   ]
  },
  {
   "cell_type": "code",
   "execution_count": 1,
   "metadata": {},
   "outputs": [],
   "source": [
    "def gamereactor_latest_games(data):\n",
    "    # data via parser\n",
    "    all_sites = pd.read_csv(data)\n",
    "    filtered_df = all_sites[all_sites['site'] == 'Gamereactor'].head(30)\n",
    "    return filtered_df['game'].tolist()"
   ]
  },
  {
   "cell_type": "code",
   "execution_count": 8,
   "metadata": {},
   "outputs": [],
   "source": [
    "def gamereactor_link_retrieve(pages):\n",
    "    links = []\n",
    "    titles = []\n",
    "    old_games = latest_games(data)\n",
    "    repeated = False  \n",
    "\n",
    "    # pages parser\n",
    "    for i in range(pages):\n",
    "        if repeated == True:\n",
    "            break\n",
    "\n",
    "        url = f'https://www.gamereactor.es/analisis/?page={i + 1}'\n",
    "\n",
    "        # building soup\n",
    "        html = requests.get(url).content\n",
    "        soup = BeautifulSoup(html, 'lxml')\n",
    "        articles = soup.find('section', {'id': 'textlist'}).find_all('article')\n",
    "\n",
    "        # links & game titles retrieve. New: checking if old to stop adding raws.\n",
    "        for article in articles:\n",
    "            game = article.find('h3').text\n",
    "\n",
    "            if game not in old_games:\n",
    "                links.append(f\"https://www.gamereactor.es{article.find_all('a')[1]['href']}\") \n",
    "                titles.append(game)\n",
    "            else:\n",
    "                print(f'{len(titles)} new games added.')\n",
    "                repeated = True\n",
    "                break\n",
    "\n",
    "    return links, titles"
   ]
  },
  {
   "cell_type": "code",
   "execution_count": null,
   "metadata": {},
   "outputs": [],
   "source": [
    "'''\n",
    "Import in this stage:\n",
    "- gamereactor_dict(links, titles)\n",
    "'''"
   ]
  },
  {
   "cell_type": "code",
   "execution_count": 12,
   "metadata": {},
   "outputs": [],
   "source": [
    "def gamereactor_dataframe(links, titles):\n",
    "    result_revo = gamereactor_dict(links, titles)\n",
    "    up_gamereactor_df = pd.DataFrame.from_dict(result_revo, orient='index')\n",
    "\n",
    "    return up_gamereactor_df"
   ]
  },
  {
   "cell_type": "code",
   "execution_count": 9,
   "metadata": {},
   "outputs": [
    {
     "name": "stdout",
     "output_type": "stream",
     "text": [
      "16 new games added.\n"
     ]
    }
   ],
   "source": [
    "#test\n",
    "data = f\"../data/test2_2021.csv\"\n",
    "pages = 1\n",
    "links, titles = gamereactor_link_retrieve(pages)"
   ]
  },
  {
   "cell_type": "code",
   "execution_count": null,
   "metadata": {},
   "outputs": [],
   "source": []
  },
  {
   "cell_type": "markdown",
   "metadata": {},
   "source": [
    "## Revogamers updater"
   ]
  },
  {
   "cell_type": "code",
   "execution_count": 38,
   "metadata": {},
   "outputs": [],
   "source": [
    "def revogamers_latest_links(data):\n",
    "    # data via parser\n",
    "    all_sites = pd.read_csv(data)\n",
    "    filtered_df = all_sites[all_sites['site'] == 'revogamers'].head(30)\n",
    "    return filtered_df['url_link'].tolist()"
   ]
  },
  {
   "cell_type": "code",
   "execution_count": 36,
   "metadata": {},
   "outputs": [],
   "source": [
    "#Links retriever v2 - break to skip duplicates\n",
    "\n",
    "def revogamers_link_retrieve(pages):\n",
    "    links = []\n",
    "    titles = []\n",
    "    old_links = revogamers_latest_links(data)\n",
    "    repeated = False  \n",
    "\n",
    "    # pages parser\n",
    "    for i in range(pages):\n",
    "        if repeated == True:\n",
    "            break\n",
    "            \n",
    "        url = f'https://www.revogamers.net/analisis-w/page/{i + 1}'\n",
    "\n",
    "        # building soup\n",
    "        html = requests.get(url).content\n",
    "        soup = BeautifulSoup(html, 'lxml')\n",
    "        articles = soup.find_all('h2')\n",
    "\n",
    "        # links retrieve\n",
    "        for a in articles:\n",
    "            link = a.find('a')['href']\n",
    "            \n",
    "            if link not in old_links:     \n",
    "                links.append(link) \n",
    "                titles.append(a.find('a')['title'])\n",
    "            else:\n",
    "                print(f'{len(titles)} new games added.')\n",
    "                repeated = True\n",
    "                break\n",
    "            \n",
    "    # Deleting non review links\n",
    "    for link in links:\n",
    "        if 'analisis' not in link:\n",
    "            links.remove(link)\n",
    "\n",
    "    return links, titles"
   ]
  },
  {
   "cell_type": "code",
   "execution_count": null,
   "metadata": {},
   "outputs": [],
   "source": [
    "'''\n",
    "Import in this stage:\n",
    "- revogamers_dict(links, titles)\n",
    "'''"
   ]
  },
  {
   "cell_type": "code",
   "execution_count": 23,
   "metadata": {},
   "outputs": [],
   "source": [
    "def revogamers_dataframe(links, titles):\n",
    "    result_revo = revogamers_dict(links, titles)\n",
    "    up_revogamers_df = pd.DataFrame.from_dict(result_revo, orient='index')\n",
    "    return up_revogamers_df"
   ]
  },
  {
   "cell_type": "code",
   "execution_count": 39,
   "metadata": {},
   "outputs": [
    {
     "name": "stdout",
     "output_type": "stream",
     "text": [
      "16 new games added.\n"
     ]
    }
   ],
   "source": [
    "#test\n",
    "data = f\"../data/test2_2021.csv\"\n",
    "pages = 2\n",
    "links, titles = revogamers_link_retrieve(pages)"
   ]
  },
  {
   "cell_type": "code",
   "execution_count": 40,
   "metadata": {},
   "outputs": [
    {
     "data": {
      "text/plain": [
       "['Análisis de Say No! More',\n",
       " 'Análisis de Plants vs. Zombies: La Batalla de Neighborville Edición Completa',\n",
       " 'Análisis de Balan Wonderworld',\n",
       " 'Análisis de Genesis Noir',\n",
       " 'Análisis de Cozy Grove',\n",
       " 'Análisis de Lost Words: Beyond the Page',\n",
       " 'Análisis de Overcooked! All You Can Eat',\n",
       " 'Análisis de NEOGEO POCKET COLOR SELECTION Vol.1',\n",
       " 'Análisis de Darq: Complete Edition',\n",
       " 'Análisis de Dreaming Sarah',\n",
       " 'Análisis de Stubbs the Zombie in Rebel Without a Pulse',\n",
       " 'Análisis de Monster Hunter Rise',\n",
       " 'Análisis de Thunderflash',\n",
       " 'Análisis de Crash Bandicoot 4: It’s About Time',\n",
       " 'Análisis de Harvest Moon: Un Mundo Único',\n",
       " 'Análisis de Cyanide & Happiness – Freakpocalypse']"
      ]
     },
     "execution_count": 40,
     "metadata": {},
     "output_type": "execute_result"
    }
   ],
   "source": [
    "titles"
   ]
  },
  {
   "cell_type": "code",
   "execution_count": 41,
   "metadata": {},
   "outputs": [
    {
     "data": {
      "text/plain": [
       "['https://www.revogamers.net/analisis-w/analisis-de-capcom-arcade-stadium-65689/',\n",
       " 'https://www.revogamers.net/analisis-w/analisis-de-bravely-default-ii-65434/',\n",
       " 'https://www.revogamers.net/analisis-w/analisis-de-little-nightmares-2-65238/',\n",
       " 'https://www.revogamers.net/analisis-w/analisis-de-steamroll-65468/',\n",
       " 'https://www.revogamers.net/analisis-w/analisis-kingdoms-of-amalur-re-reckoning-65899/',\n",
       " 'https://www.revogamers.net/analisis-w/analisis-de-a-trainall-aboardtourism-65805/',\n",
       " 'https://www.revogamers.net/analisis-w/analisis-de-deemo-reborn-65444/',\n",
       " 'https://www.revogamers.net/analisis-w/analisis-de-persona-5-strikers-65263/',\n",
       " 'https://www.revogamers.net/analisis-w/analisis-de-littlewood-65648/',\n",
       " 'https://www.revogamers.net/analisis-w/analisis-de-ghosts-n-goblins-resurrection-65451/',\n",
       " 'https://www.revogamers.net/analisis-w/analisis-de-mail-mole-65758/',\n",
       " 'https://www.revogamers.net/analisis-w/analisis-de-romance-of-the-three-kingdoms-xiv-65449/',\n",
       " 'https://www.revogamers.net/analisis-w/analisis-de-coleccion-arcade-de-blizzard-65751/',\n",
       " 'https://www.revogamers.net/analisis-w/analisis-kingdoms-of-amalur-re-reckoning-65899/',\n",
       " 'https://www.revogamers.net/analisis-w/analisis-de-gal-gun-returns-65772/',\n",
       " 'https://www.revogamers.net/analisis-w/analisis-de-heavens-vault-65303/',\n",
       " 'https://www.revogamers.net/analisis-w/analisis-de-gnosia-65641/',\n",
       " 'https://www.revogamers.net/analisis-w/analisis-de-astrologaster-65447/',\n",
       " 'https://www.revogamers.net/analisis-w/analisis-de-blue-fire-65123/',\n",
       " 'https://www.revogamers.net/analisis-w/analisis-de-sword-of-the-necromancer-65428/']"
      ]
     },
     "execution_count": 41,
     "metadata": {},
     "output_type": "execute_result"
    }
   ],
   "source": [
    "revogamers_latest_links(data)"
   ]
  },
  {
   "cell_type": "code",
   "execution_count": null,
   "metadata": {},
   "outputs": [],
   "source": []
  }
 ],
 "metadata": {
  "kernelspec": {
   "display_name": "Python [conda env:lab_env]",
   "language": "python",
   "name": "conda-env-lab_env-py"
  },
  "language_info": {
   "codemirror_mode": {
    "name": "ipython",
    "version": 3
   },
   "file_extension": ".py",
   "mimetype": "text/x-python",
   "name": "python",
   "nbconvert_exporter": "python",
   "pygments_lexer": "ipython3",
   "version": "3.7.3"
  }
 },
 "nbformat": 4,
 "nbformat_minor": 4
}
