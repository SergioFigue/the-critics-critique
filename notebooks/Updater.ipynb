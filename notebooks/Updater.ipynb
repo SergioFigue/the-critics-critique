{
 "cells": [
  {
   "cell_type": "markdown",
   "metadata": {},
   "source": [
    "# Dataframe updater with new articles (sketch)"
   ]
  },
  {
   "cell_type": "code",
   "execution_count": 1,
   "metadata": {},
   "outputs": [],
   "source": [
    "import requests\n",
    "from bs4 import BeautifulSoup\n",
    "import time\n",
    "import pandas as pd\n",
    "import numpy as np"
   ]
  },
  {
   "cell_type": "code",
   "execution_count": null,
   "metadata": {},
   "outputs": [],
   "source": [
    "all_sites = pd.read_csv(data)\n",
    "\n",
    "new_all = pd.concat([all_sites, up_vandal_df], ignore_index=True, sort=False)"
   ]
  },
  {
   "cell_type": "code",
   "execution_count": null,
   "metadata": {},
   "outputs": [],
   "source": []
  },
  {
   "cell_type": "markdown",
   "metadata": {},
   "source": [
    "## Vandal updater"
   ]
  },
  {
   "cell_type": "code",
   "execution_count": null,
   "metadata": {},
   "outputs": [],
   "source": [
    "def latest_links(data):\n",
    "    # data via parser\n",
    "    all_sites = pd.read_csv(data)\n",
    "    filtered_df = all_sites[all_sites['site'] == 'Vandal'].head(30)\n",
    "    return filtered_df['url_link'].tolist()"
   ]
  },
  {
   "cell_type": "code",
   "execution_count": null,
   "metadata": {},
   "outputs": [],
   "source": [
    "#Links retriever v2 - break to skip duplicates\n",
    "\n",
    "def vandal_link_retrieve(num_pages):\n",
    "    \n",
    "    links = []\n",
    "    titles = []\n",
    "    old_links = latest_links()\n",
    "    \n",
    "    # pages parser\n",
    "    for i in range(num_pages):\n",
    "        url = f\"https://vandal.elespanol.com/analisis/videojuegos/inicio/{i*45}\"\n",
    "\n",
    "        # building soup    \n",
    "        html = requests.get(url).content\n",
    "        soup = BeautifulSoup(html, 'lxml')\n",
    "        articles = soup.find_all('div', {'class': 'caja300 afterclearer'})\n",
    "        \n",
    "        # links & game titles retrieve. New: checking if old to stop adding raws.\n",
    "        for a in articles:\n",
    "            link = a.find('a')['href']\n",
    "            \n",
    "            if link not in old_links:     \n",
    "                links.append(link) \n",
    "                titles.append(a.find('a')['title'])\n",
    "            else:\n",
    "                break\n",
    "                \n",
    "    return links, titles\n"
   ]
  },
  {
   "cell_type": "code",
   "execution_count": null,
   "metadata": {},
   "outputs": [],
   "source": [
    "'''\n",
    "Import in this stage:\n",
    "- vandal_platform(soup):\n",
    "- vandal_genre(soup)\n",
    "- vandal_company(soup)\n",
    "- vandal_dict(links, titles)\n",
    "'''"
   ]
  },
  {
   "cell_type": "code",
   "execution_count": null,
   "metadata": {},
   "outputs": [],
   "source": [
    "def vandal_dataframe(links, titles):\n",
    "    result_vandal = vandal_dict(links, titles)\n",
    "    up_vandal_df = pd.DataFrame.from_dict(result_vandal, orient='index')\n",
    "    return up_vandal_df"
   ]
  },
  {
   "cell_type": "markdown",
   "metadata": {},
   "source": [
    "## Gamereactor updater"
   ]
  },
  {
   "cell_type": "code",
   "execution_count": 19,
   "metadata": {},
   "outputs": [],
   "source": [
    "def latest_links(data):\n",
    "    # data via parser\n",
    "    all_sites = pd.read_csv(data)\n",
    "    filtered_df = all_sites[all_sites['site'] == 'Gamereactor'].head(30)\n",
    "    return filtered_df['url_link'].tolist()"
   ]
  },
  {
   "cell_type": "code",
   "execution_count": 29,
   "metadata": {},
   "outputs": [],
   "source": [
    "def gamereactor_link_retrieve(num_pages):\n",
    "    links = []\n",
    "    titles = []\n",
    "    old_links = latest_links(data)\n",
    "\n",
    "    # pages parser\n",
    "    for i in range(num_pages):\n",
    "        url = f'https://www.gamereactor.es/analisis/?page={i + 1}'\n",
    "\n",
    "        # building soup\n",
    "        html = requests.get(url).content\n",
    "        soup = BeautifulSoup(html, 'lxml')\n",
    "        articles = soup.find('section', {'id': 'textlist'}).find_all('article')\n",
    "\n",
    "        # links & game titles retrieve. New: checking if old to stop adding raws.\n",
    "        for article in articles:\n",
    "            link = links.append(f\"https://www.gamereactor.es{article.find_all('a')[1]['href']}\")\n",
    "            \n",
    "            if link not in old_links:     \n",
    "                links.append(link) \n",
    "                titles.append(article.find('h3').text)\n",
    "            else:\n",
    "                break\n",
    "\n",
    "    return links, titles"
   ]
  },
  {
   "cell_type": "code",
   "execution_count": 4,
   "metadata": {},
   "outputs": [],
   "source": [
    "def gamereactor_dict(links, titles):\n",
    "    reviews_dict = {}\n",
    "    i = 0\n",
    "\n",
    "    for link, title in zip(links, titles):\n",
    "        try:\n",
    "            # Request content - Avoid get banned - Make a Soup\n",
    "            review_html = requests.get(link).content\n",
    "            time.sleep(1)\n",
    "            soup = BeautifulSoup(review_html, 'lxml')\n",
    "\n",
    "            # Author - From Scraping\n",
    "            author = soup.find('li', {'class': 'publishAuthor bullet'}).text\n",
    "\n",
    "            # Company, Genre & Platform - From Scraping\n",
    "            genre = 'None'\n",
    "            company = 'None'\n",
    "            platform = 'None'\n",
    "\n",
    "            infobox = soup.find_all('ul', {'class': 'infobox'})[0].contents\n",
    "            for box in infobox:\n",
    "\n",
    "                if 'Probado en:' in box.contents[0].text or 'Plataforma:' in box.contents[0].text:\n",
    "                    platform = box.contents[1]\n",
    "\n",
    "                if 'Género:' in box.contents[0].text:\n",
    "                    genre = box.find('a').text\n",
    "\n",
    "                if 'Editor:' in box.contents[0].text:\n",
    "                    company = box.find('a').text\n",
    "\n",
    "            # Text & Cleaning - From Scraping\n",
    "            article = soup.find('div', {'class': 'breadtext'}).find('div', {'id': 'page0'})\n",
    "            p_tags = article.find_all('p')\n",
    "            review = [tag.text for tag in p_tags]\n",
    "            review = ' '.join(review)\n",
    "\n",
    "            # Score & Clean & Transform - From Scraping\n",
    "            score = soup.find('div', {'class': 'bigScoreWrapper'}).find('img')['alt']\n",
    "            score = float(score)\n",
    "\n",
    "            # Add to a dict\n",
    "            reviews_dict[i] = {'site': 'Gamereactor',\n",
    "                               'url_link': link,\n",
    "                               'author': author,\n",
    "                               'game': title,\n",
    "                               'company': company,\n",
    "                               'genre': genre,\n",
    "                               'platform': platform,\n",
    "                               'text': review,\n",
    "                               'score': score}\n",
    "\n",
    "        except AttributeError:\n",
    "            pass\n",
    "\n",
    "        i = i + 1\n",
    "        if i % 25 == 0:\n",
    "            print(i, ':', link)\n",
    "\n",
    "    return reviews_dict\n",
    "\n"
   ]
  },
  {
   "cell_type": "code",
   "execution_count": 5,
   "metadata": {},
   "outputs": [],
   "source": [
    "def gamereactor_dataframe(links, titles):\n",
    "    result_revo = gamereactor_dict(links, titles)\n",
    "    up_gamereactor_df = pd.DataFrame.from_dict(result_revo, orient='index')\n",
    "\n",
    "    return up_gamereactor_df"
   ]
  },
  {
   "cell_type": "code",
   "execution_count": 30,
   "metadata": {},
   "outputs": [],
   "source": [
    "data = f\"../data/test2_2021.csv\"\n",
    "num_pages = 1\n",
    "links, titles = gamereactor_link_retrieve(num_pages)"
   ]
  },
  {
   "cell_type": "code",
   "execution_count": 16,
   "metadata": {},
   "outputs": [],
   "source": [
    "test_2021 = pd.read_csv(\"../data/test2_2021.csv\")"
   ]
  },
  {
   "cell_type": "code",
   "execution_count": 34,
   "metadata": {},
   "outputs": [
    {
     "data": {
      "text/plain": [
       "['https://www.gamereactor.es/main-assembly-pc/?sid=3d0782fb7b4cd2f6f5cc39b446d3adc6',\n",
       " 'https://www.gamereactor.es/dead-cells-fatal-falls-dlc/?sid=3d0782fb7b4cd2f6f5cc39b446d3adc6',\n",
       " 'https://www.gamereactor.es/age-of-empires-ii-definitive-edition-lords-of-the-west/?sid=3d0782fb7b4cd2f6f5cc39b446d3adc6',\n",
       " 'https://www.gamereactor.es/curse-of-the-dead-gods-analisis/?sid=3d0782fb7b4cd2f6f5cc39b446d3adc6',\n",
       " 'https://www.gamereactor.es/the-medium-xbox-series-x-pc/?sid=3d0782fb7b4cd2f6f5cc39b446d3adc6',\n",
       " 'https://www.gamereactor.es/blizzard-arcade-collection-pc-switch-ps4-xbox-one/?sid=3d0782fb7b4cd2f6f5cc39b446d3adc6',\n",
       " 'https://www.gamereactor.es/little-nightmares-2-ps4-ps5-switch-xbox-pc/?sid=3d0782fb7b4cd2f6f5cc39b446d3adc6',\n",
       " 'https://www.gamereactor.es/bravely-default-ii-analisis/?sid=3d0782fb7b4cd2f6f5cc39b446d3adc6',\n",
       " 'https://www.gamereactor.es/la-coleccion-de-nioh/?sid=3d0782fb7b4cd2f6f5cc39b446d3adc6',\n",
       " 'https://www.gamereactor.es/werewolf-the-apocalypse-earthblood-analisis/?sid=3d0782fb7b4cd2f6f5cc39b446d3adc6',\n",
       " 'https://www.gamereactor.es/medal-of-honor-above-and-beyond-analisis/?sid=3d0782fb7b4cd2f6f5cc39b446d3adc6',\n",
       " 'https://www.gamereactor.es/turrican-flashback-nintendo-switch-ps4/?sid=3d0782fb7b4cd2f6f5cc39b446d3adc6',\n",
       " 'https://www.gamereactor.es/control-ultimate-edition-ps5-xbox-series-x/?sid=3d0782fb7b4cd2f6f5cc39b446d3adc6',\n",
       " 'https://www.gamereactor.es/maquette-ps5-ps4-pc/?sid=3d0782fb7b4cd2f6f5cc39b446d3adc6',\n",
       " 'https://www.gamereactor.es/persona-5-strikers-analisis/?sid=3d0782fb7b4cd2f6f5cc39b446d3adc6',\n",
       " 'https://www.gamereactor.es/ghosts-n-goblins-resurrection-nintendo-switch/?sid=3d0782fb7b4cd2f6f5cc39b446d3adc6',\n",
       " 'https://www.gamereactor.es/atelier-ryza-2-lost-legends-the-secret-fairy-ps4-ps5-switch-pc/?sid=3d0782fb7b4cd2f6f5cc39b446d3adc6',\n",
       " 'https://www.gamereactor.es/scott-pilgrim-vs-the-world-the-game-complete-edition-ps4-switch-pc-xbox-one/?sid=3d0782fb7b4cd2f6f5cc39b446d3adc6',\n",
       " 'https://www.gamereactor.es/alba-una-aventura-mediterranea-nintendo-switch-pc-movil/?sid=3d0782fb7b4cd2f6f5cc39b446d3adc6',\n",
       " 'https://www.gamereactor.es/doom-eternal-nintendo-switch/?sid=3d0782fb7b4cd2f6f5cc39b446d3adc6',\n",
       " 'https://www.gamereactor.es/apex-legends-nintendo-switch/?sid=3d0782fb7b4cd2f6f5cc39b446d3adc6',\n",
       " 'https://www.gamereactor.es/override-2-super-mech-league-ps5-xbox-series-x-switch-pc/?sid=3d0782fb7b4cd2f6f5cc39b446d3adc6',\n",
       " 'https://www.gamereactor.es/the-climb-2-oculus-quest-2/?sid=3d0782fb7b4cd2f6f5cc39b446d3adc6',\n",
       " 'https://www.gamereactor.es/monster-energy-supercross-the-official-videogame-4-analisis/?sid=3d0782fb7b4cd2f6f5cc39b446d3adc6',\n",
       " 'https://www.gamereactor.es/fifa-21-ps5-y-xbox-series-x/?sid=3d0782fb7b4cd2f6f5cc39b446d3adc6',\n",
       " 'https://www.gamereactor.es/super-mario-3d-world-bowsers-fury-analisis/?sid=3d0782fb7b4cd2f6f5cc39b446d3adc6',\n",
       " 'https://www.gamereactor.es/cyber-shadow-analisis/?sid=3d0782fb7b4cd2f6f5cc39b446d3adc6',\n",
       " 'https://www.gamereactor.es/destruction-allstars-ps5/?sid=3d0782fb7b4cd2f6f5cc39b446d3adc6',\n",
       " 'https://www.gamereactor.es/gears-5-machacacolmenas/?sid=3d0782fb7b4cd2f6f5cc39b446d3adc6',\n",
       " 'https://www.gamereactor.es/blue-fire-nintendo-switch-pc/?sid=3d0782fb7b4cd2f6f5cc39b446d3adc6']"
      ]
     },
     "execution_count": 34,
     "metadata": {},
     "output_type": "execute_result"
    }
   ],
   "source": [
    "latest_links(data)"
   ]
  },
  {
   "cell_type": "code",
   "execution_count": 35,
   "metadata": {},
   "outputs": [
    {
     "data": {
      "text/plain": [
       "['https://www.gamereactor.es/doom-3-vr-edition-analisis/?sid=5d0a4f03c15720ba9766545160c11924',\n",
       " None,\n",
       " 'https://www.gamereactor.es/star-wars-republic-commando-analisis/?sid=5d0a4f03c15720ba9766545160c11924',\n",
       " None,\n",
       " 'https://www.gamereactor.es/crash-bandicoot-on-the-run-analisis/?sid=5d0a4f03c15720ba9766545160c11924',\n",
       " None,\n",
       " 'https://www.gamereactor.es/outriders-analisis/?sid=5d0a4f03c15720ba9766545160c11924',\n",
       " None,\n",
       " 'https://www.gamereactor.es/mundaun-analisis/?sid=5d0a4f03c15720ba9766545160c11924',\n",
       " None,\n",
       " 'https://www.gamereactor.es/immortals-fenyx-rising-mitos-del-reino-del-este/?sid=5d0a4f03c15720ba9766545160c11924',\n",
       " None,\n",
       " 'https://www.gamereactor.es/loop-hero-pc/?sid=5d0a4f03c15720ba9766545160c11924',\n",
       " None,\n",
       " 'https://www.gamereactor.es/jurassic-world-aftermath-oculus-quest/?sid=5d0a4f03c15720ba9766545160c11924',\n",
       " None,\n",
       " 'https://www.gamereactor.es/doom-eternal-the-ancient-gods-segunda-parte/?sid=5d0a4f03c15720ba9766545160c11924',\n",
       " None,\n",
       " 'https://www.gamereactor.es/evil-genius-2-world-domination-analisis/?sid=5d0a4f03c15720ba9766545160c11924',\n",
       " None,\n",
       " 'https://www.gamereactor.es/narita-boy-pc-nintendo-switch-ps4-xbox/?sid=5d0a4f03c15720ba9766545160c11924',\n",
       " None,\n",
       " 'https://www.gamereactor.es/it-takes-two-analisis/?sid=5d0a4f03c15720ba9766545160c11924',\n",
       " None,\n",
       " 'https://www.gamereactor.es/story-of-seasons-pioneers-of-olive-town-analisis/?sid=5d0a4f03c15720ba9766545160c11924',\n",
       " None,\n",
       " 'https://www.gamereactor.es/monster-hunter-rise-analisis/?sid=5d0a4f03c15720ba9766545160c11924',\n",
       " None,\n",
       " 'https://www.gamereactor.es/harvest-moon-un-mundo-unico-nintendo-switch/?sid=5d0a4f03c15720ba9766545160c11924',\n",
       " None,\n",
       " 'https://www.gamereactor.es/apex-legends-nintendo-switch/?sid=5d0a4f03c15720ba9766545160c11924',\n",
       " None,\n",
       " 'https://www.gamereactor.es/monster-energy-supercross-the-official-videogame-4-analisis/?sid=5d0a4f03c15720ba9766545160c11924',\n",
       " None,\n",
       " 'https://www.gamereactor.es/maquette-ps5-ps4-pc/?sid=5d0a4f03c15720ba9766545160c11924',\n",
       " None,\n",
       " 'https://www.gamereactor.es/taxi-chaos-nintendo-switch-ps4-pc-xbox-one/?sid=5d0a4f03c15720ba9766545160c11924',\n",
       " None,\n",
       " 'https://www.gamereactor.es/the-climb-2-oculus-quest-2/?sid=5d0a4f03c15720ba9766545160c11924',\n",
       " None,\n",
       " 'https://www.gamereactor.es/age-of-empires-ii-definitive-edition-lords-of-the-west/?sid=5d0a4f03c15720ba9766545160c11924',\n",
       " None,\n",
       " 'https://www.gamereactor.es/capcom-arcade-stadium-analisis/?sid=5d0a4f03c15720ba9766545160c11924',\n",
       " None,\n",
       " 'https://www.gamereactor.es/curse-of-the-dead-gods-analisis/?sid=5d0a4f03c15720ba9766545160c11924',\n",
       " None,\n",
       " 'https://www.gamereactor.es/blizzard-arcade-collection-pc-switch-ps4-xbox-one/?sid=5d0a4f03c15720ba9766545160c11924',\n",
       " None,\n",
       " 'https://www.gamereactor.es/bravely-default-ii-analisis/?sid=5d0a4f03c15720ba9766545160c11924',\n",
       " None,\n",
       " 'https://www.gamereactor.es/ghosts-n-goblins-resurrection-nintendo-switch/?sid=5d0a4f03c15720ba9766545160c11924',\n",
       " None,\n",
       " 'https://www.gamereactor.es/cyber-shadow-analisis/?sid=5d0a4f03c15720ba9766545160c11924',\n",
       " None,\n",
       " 'https://www.gamereactor.es/la-coleccion-de-nioh/?sid=5d0a4f03c15720ba9766545160c11924',\n",
       " None,\n",
       " 'https://www.gamereactor.es/super-mario-3d-world-bowsers-fury-analisis/?sid=5d0a4f03c15720ba9766545160c11924',\n",
       " None,\n",
       " 'https://www.gamereactor.es/persona-5-strikers-analisis/?sid=5d0a4f03c15720ba9766545160c11924',\n",
       " None,\n",
       " 'https://www.gamereactor.es/little-nightmares-2-ps4-ps5-switch-xbox-pc/?sid=5d0a4f03c15720ba9766545160c11924',\n",
       " None,\n",
       " 'https://www.gamereactor.es/turrican-flashback-nintendo-switch-ps4/?sid=5d0a4f03c15720ba9766545160c11924',\n",
       " None,\n",
       " 'https://www.gamereactor.es/blue-fire-nintendo-switch-pc/?sid=5d0a4f03c15720ba9766545160c11924',\n",
       " None,\n",
       " 'https://www.gamereactor.es/destruction-allstars-ps5/?sid=5d0a4f03c15720ba9766545160c11924',\n",
       " None,\n",
       " 'https://www.gamereactor.es/werewolf-the-apocalypse-earthblood-analisis/?sid=5d0a4f03c15720ba9766545160c11924',\n",
       " None,\n",
       " 'https://www.gamereactor.es/control-ultimate-edition-ps5-xbox-series-x/?sid=5d0a4f03c15720ba9766545160c11924',\n",
       " None,\n",
       " 'https://www.gamereactor.es/main-assembly-pc/?sid=5d0a4f03c15720ba9766545160c11924',\n",
       " None,\n",
       " 'https://www.gamereactor.es/the-medium-xbox-series-x-pc/?sid=5d0a4f03c15720ba9766545160c11924',\n",
       " None,\n",
       " 'https://www.gamereactor.es/dead-cells-fatal-falls-dlc/?sid=5d0a4f03c15720ba9766545160c11924',\n",
       " None,\n",
       " 'https://www.gamereactor.es/atelier-ryza-2-lost-legends-the-secret-fairy-ps4-ps5-switch-pc/?sid=5d0a4f03c15720ba9766545160c11924',\n",
       " None,\n",
       " 'https://www.gamereactor.es/helheim-hassle-ps4-pc-nintendo-switch-xbox-one/?sid=5d0a4f03c15720ba9766545160c11924',\n",
       " None,\n",
       " 'https://www.gamereactor.es/hitman-3-ps5-xbox-series-pc-switch-stadia/?sid=5d0a4f03c15720ba9766545160c11924',\n",
       " None,\n",
       " 'https://www.gamereactor.es/calico-nintendo-switch-pc-xbox-one/?sid=5d0a4f03c15720ba9766545160c11924',\n",
       " None,\n",
       " 'https://www.gamereactor.es/sarawak-nintendo-switch-pc-moviles/?sid=5d0a4f03c15720ba9766545160c11924',\n",
       " None,\n",
       " 'https://www.gamereactor.es/scott-pilgrim-vs-the-world-the-game-complete-edition-ps4-switch-pc-xbox-one/?sid=5d0a4f03c15720ba9766545160c11924',\n",
       " None,\n",
       " 'https://www.gamereactor.es/super-meat-boy-forever-analisis/?sid=5d0a4f03c15720ba9766545160c11924',\n",
       " None,\n",
       " 'https://www.gamereactor.es/override-2-super-mech-league-ps5-xbox-series-x-switch-pc/?sid=5d0a4f03c15720ba9766545160c11924',\n",
       " None,\n",
       " 'https://www.gamereactor.es/jurassic-world-evolution-nintendo-switch/?sid=5d0a4f03c15720ba9766545160c11924',\n",
       " None,\n",
       " 'https://www.gamereactor.es/call-of-the-sea-xbox-series-x-pc/?sid=5d0a4f03c15720ba9766545160c11924',\n",
       " None,\n",
       " 'https://www.gamereactor.es/monster-sanctuary-switch-ps4-xbox-one-pc/?sid=5d0a4f03c15720ba9766545160c11924',\n",
       " None]"
      ]
     },
     "execution_count": 35,
     "metadata": {},
     "output_type": "execute_result"
    }
   ],
   "source": [
    "links"
   ]
  },
  {
   "cell_type": "code",
   "execution_count": null,
   "metadata": {},
   "outputs": [],
   "source": []
  }
 ],
 "metadata": {
  "kernelspec": {
   "display_name": "Python [conda env:lab_env]",
   "language": "python",
   "name": "conda-env-lab_env-py"
  },
  "language_info": {
   "codemirror_mode": {
    "name": "ipython",
    "version": 3
   },
   "file_extension": ".py",
   "mimetype": "text/x-python",
   "name": "python",
   "nbconvert_exporter": "python",
   "pygments_lexer": "ipython3",
   "version": "3.7.3"
  }
 },
 "nbformat": 4,
 "nbformat_minor": 4
}
