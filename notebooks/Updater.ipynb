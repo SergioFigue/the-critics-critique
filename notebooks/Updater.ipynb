{
 "cells": [
  {
   "cell_type": "markdown",
   "metadata": {},
   "source": [
    "# Dataframe updater with new articles (sketch)"
   ]
  },
  {
   "cell_type": "code",
   "execution_count": 3,
   "metadata": {},
   "outputs": [],
   "source": [
    "import requests\n",
    "from bs4 import BeautifulSoup\n",
    "import time\n",
    "import pandas as pd\n",
    "import numpy as np"
   ]
  },
  {
   "cell_type": "code",
   "execution_count": null,
   "metadata": {},
   "outputs": [],
   "source": [
    "all_sites = pd.read_csv(data)\n",
    "\n",
    "new_all = pd.concat([all_sites, up_vandal_df], ignore_index=True, sort=False)"
   ]
  },
  {
   "cell_type": "code",
   "execution_count": null,
   "metadata": {},
   "outputs": [],
   "source": []
  },
  {
   "cell_type": "markdown",
   "metadata": {},
   "source": [
    "## Vandal updater"
   ]
  },
  {
   "cell_type": "code",
   "execution_count": 15,
   "metadata": {},
   "outputs": [],
   "source": [
    "def vandal_latest_links(data):\n",
    "    # data via parser\n",
    "    all_sites = pd.read_csv(data)\n",
    "    filtered_df = all_sites[all_sites['site'] == 'Vandal'].head(30)\n",
    "    return filtered_df['url_link'].tolist()"
   ]
  },
  {
   "cell_type": "code",
   "execution_count": 20,
   "metadata": {},
   "outputs": [],
   "source": [
    "#Links retriever v2 - break to skip duplicates\n",
    "\n",
    "def vandal_link_retrieve(pages):\n",
    "    \n",
    "    links = []\n",
    "    titles = []\n",
    "    old_links = latest_links(data)\n",
    "    repeated = False  \n",
    "    \n",
    "    # pages parser\n",
    "    for i in range(pages):\n",
    "        if repeated == True:\n",
    "            break\n",
    "            \n",
    "        url = f\"https://vandal.elespanol.com/analisis/videojuegos/inicio/{i*45}\"\n",
    "\n",
    "        # building soup    \n",
    "        html = requests.get(url).content\n",
    "        soup = BeautifulSoup(html, 'lxml')\n",
    "        articles = soup.find_all('div', {'class': 'caja300 afterclearer'})\n",
    "        \n",
    "        # links & game titles retrieve. New: checking if old to stop adding raws.\n",
    "        for a in articles:\n",
    "            link = a.find('a')['href']\n",
    "            \n",
    "            if link not in old_links:     \n",
    "                links.append(link) \n",
    "                titles.append(a.find('a')['title'])\n",
    "            else:\n",
    "                print(f'{len(titles)} new games added.')\n",
    "                repeated = True\n",
    "                break\n",
    "                \n",
    "    return links, titles"
   ]
  },
  {
   "cell_type": "code",
   "execution_count": null,
   "metadata": {},
   "outputs": [],
   "source": [
    "'''\n",
    "Import in this stage:\n",
    "- vandal_platform(soup):\n",
    "- vandal_genre(soup)\n",
    "- vandal_company(soup)\n",
    "- vandal_dict(links, titles)\n",
    "'''"
   ]
  },
  {
   "cell_type": "code",
   "execution_count": 17,
   "metadata": {},
   "outputs": [],
   "source": [
    "def vandal_dataframe(links, titles):\n",
    "    result_vandal = vandal_dict(links, titles)\n",
    "    up_vandal_df = pd.DataFrame.from_dict(result_vandal, orient='index')\n",
    "    return up_vandal_df"
   ]
  },
  {
   "cell_type": "code",
   "execution_count": 22,
   "metadata": {},
   "outputs": [
    {
     "name": "stdout",
     "output_type": "stream",
     "text": [
      "24 new games added.\n"
     ]
    },
    {
     "data": {
      "text/plain": [
       "(['https://vandal.elespanol.com/analisis/iphone/world-of-demons/60074',\n",
       "  'https://vandal.elespanol.com/analisis/ps5/disco-elysium-the-final-cut/93992',\n",
       "  'https://vandal.elespanol.com/analisis/pc/before-your-eyes/81894',\n",
       "  'https://vandal.elespanol.com/analisis/pc/qomp/88395',\n",
       "  'https://vandal.elespanol.com/analisis/ps4/paradise-lost/97468',\n",
       "  'https://vandal.elespanol.com/analisis/pc/spacebase-startopia/76637',\n",
       "  'https://vandal.elespanol.com/analisis/pc/record-of-lodoss-wardeedlit-in-wonder-labyrinth/82317',\n",
       "  'https://vandal.elespanol.com/analisis/pc/lost-words-beyond-the-page/50885',\n",
       "  'https://vandal.elespanol.com/analisis/ps5/balan-wonderworld/88212',\n",
       "  'https://vandal.elespanol.com/analisis/pc/evil-genius-2-world-domination/4196',\n",
       "  'https://vandal.elespanol.com/analisis/pc/narita-boy/47106',\n",
       "  'https://vandal.elespanol.com/analisis/ps4/doom-3-vr-edition/97172',\n",
       "  'https://vandal.elespanol.com/analisis/pc/evil-inside/92122',\n",
       "  'https://vandal.elespanol.com/analisis/pc/genesis-noir/56811',\n",
       "  'https://vandal.elespanol.com/analisis/ps4/it-takes-two/86856',\n",
       "  'https://vandal.elespanol.com/analisis/pc/blind-drive/92861',\n",
       "  'https://vandal.elespanol.com/analisis/ps4/yupitergrad/96828',\n",
       "  'https://vandal.elespanol.com/analisis/switch/monster-hunter-rise/90551',\n",
       "  'https://vandal.elespanol.com/analisis/switch/story-of-seasons-pioneers-of-olive-town/92227',\n",
       "  'https://vandal.elespanol.com/analisis/switch/plants-vs-zombies-battle-for-neighborville/96489',\n",
       "  'https://vandal.elespanol.com/analisis/switch/stubbs-the-zombie-in-rebel-without-a-pulse/96501',\n",
       "  'https://vandal.elespanol.com/analisis/switch/kaze-and-the-wild-masks/89385',\n",
       "  'https://vandal.elespanol.com/analisis/pc/adios/83755',\n",
       "  'https://vandal.elespanol.com/analisis/pc/mundaun/61283'],\n",
       " ['World of Demons - Análisis',\n",
       "  'Disco Elysium - The Final Cut - Análisis',\n",
       "  'Before Your Eyes - Análisis',\n",
       "  'qomp - Análisis',\n",
       "  'Paradise Lost - Análisis',\n",
       "  'Spacebase Startopia - Análisis',\n",
       "  'Record of Lodoss War-Deedlit in Wonder Labyrinth- - Análisis',\n",
       "  'Lost Words: Beyond the Page - Análisis',\n",
       "  'Balan Wonderworld - Análisis',\n",
       "  'Evil Genius 2: World Domination - Análisis',\n",
       "  'Narita Boy - Análisis',\n",
       "  'Doom 3: VR Edition - Análisis',\n",
       "  'Evil Inside - Análisis',\n",
       "  'Genesis Noir - Análisis',\n",
       "  'It Takes Two - Análisis',\n",
       "  'Blind Drive - Análisis',\n",
       "  'Yupitergrad - Análisis',\n",
       "  'Monster Hunter Rise - Análisis',\n",
       "  'Story of Seasons: Pioneers of Olive Town - Análisis',\n",
       "  'Plants vs. Zombies: Battle for Neighborville - Análisis',\n",
       "  'Stubbs the Zombie in Rebel Without a Pulse - Análisis',\n",
       "  'Kaze and the Wild Masks - Análisis',\n",
       "  'Adios - Análisis',\n",
       "  'Mundaun - Análisis'])"
      ]
     },
     "execution_count": 22,
     "metadata": {},
     "output_type": "execute_result"
    }
   ],
   "source": [
    "#test\n",
    "data = f\"../data/test2_2021.csv\"\n",
    "pages = 2\n",
    "vandal_link_retrieve(pages)"
   ]
  },
  {
   "cell_type": "markdown",
   "metadata": {},
   "source": [
    "## Gamereactor updater"
   ]
  },
  {
   "cell_type": "code",
   "execution_count": 1,
   "metadata": {},
   "outputs": [],
   "source": [
    "def gamereactor_latest_games(data):\n",
    "    # data via parser\n",
    "    all_sites = pd.read_csv(data)\n",
    "    filtered_df = all_sites[all_sites['site'] == 'Gamereactor'].head(30)\n",
    "    return filtered_df['game'].tolist()"
   ]
  },
  {
   "cell_type": "code",
   "execution_count": 8,
   "metadata": {},
   "outputs": [],
   "source": [
    "def gamereactor_link_retrieve(pages):\n",
    "    links = []\n",
    "    titles = []\n",
    "    old_games = latest_games(data)\n",
    "    repeated = False  \n",
    "\n",
    "    # pages parser\n",
    "    for i in range(pages):\n",
    "        if repeated == True:\n",
    "            break\n",
    "\n",
    "        url = f'https://www.gamereactor.es/analisis/?page={i + 1}'\n",
    "\n",
    "        # building soup\n",
    "        html = requests.get(url).content\n",
    "        soup = BeautifulSoup(html, 'lxml')\n",
    "        articles = soup.find('section', {'id': 'textlist'}).find_all('article')\n",
    "\n",
    "        # links & game titles retrieve. New: checking if old to stop adding raws.\n",
    "        for article in articles:\n",
    "            game = article.find('h3').text\n",
    "\n",
    "            if game not in old_games:\n",
    "                links.append(f\"https://www.gamereactor.es{article.find_all('a')[1]['href']}\") \n",
    "                titles.append(game)\n",
    "            else:\n",
    "                print(f'{len(titles)} new games added.')\n",
    "                repeated = True\n",
    "                break\n",
    "\n",
    "    return links, titles"
   ]
  },
  {
   "cell_type": "code",
   "execution_count": null,
   "metadata": {},
   "outputs": [],
   "source": [
    "'''\n",
    "Import in this stage:\n",
    "- gamereactor_dict(links, titles)\n",
    "'''"
   ]
  },
  {
   "cell_type": "code",
   "execution_count": 12,
   "metadata": {},
   "outputs": [],
   "source": [
    "def gamereactor_dataframe(links, titles):\n",
    "    result_revo = gamereactor_dict(links, titles)\n",
    "    up_gamereactor_df = pd.DataFrame.from_dict(result_revo, orient='index')\n",
    "\n",
    "    return up_gamereactor_df"
   ]
  },
  {
   "cell_type": "code",
   "execution_count": 9,
   "metadata": {},
   "outputs": [
    {
     "name": "stdout",
     "output_type": "stream",
     "text": [
      "16 new games added.\n"
     ]
    }
   ],
   "source": [
    "#test\n",
    "data = f\"../data/test2_2021.csv\"\n",
    "pages = 1\n",
    "links, titles = gamereactor_link_retrieve(pages)"
   ]
  },
  {
   "cell_type": "markdown",
   "metadata": {},
   "source": [
    "## Revogamers updater"
   ]
  },
  {
   "cell_type": "code",
   "execution_count": 38,
   "metadata": {},
   "outputs": [],
   "source": [
    "def revogamers_latest_links(data):\n",
    "    # data via parser\n",
    "    all_sites = pd.read_csv(data)\n",
    "    filtered_df = all_sites[all_sites['site'] == 'revogamers'].head(30)\n",
    "    return filtered_df['url_link'].tolist()"
   ]
  },
  {
   "cell_type": "code",
   "execution_count": 36,
   "metadata": {},
   "outputs": [],
   "source": [
    "#Links retriever v2 - break to skip duplicates\n",
    "\n",
    "def revogamers_link_retrieve(pages):\n",
    "    links = []\n",
    "    titles = []\n",
    "    old_links = revogamers_latest_links(data)\n",
    "    repeated = False  \n",
    "\n",
    "    # pages parser\n",
    "    for i in range(pages):\n",
    "        if repeated == True:\n",
    "            break\n",
    "            \n",
    "        url = f'https://www.revogamers.net/analisis-w/page/{i + 1}'\n",
    "\n",
    "        # building soup\n",
    "        html = requests.get(url).content\n",
    "        soup = BeautifulSoup(html, 'lxml')\n",
    "        articles = soup.find_all('h2')\n",
    "\n",
    "        # links retrieve\n",
    "        for a in articles:\n",
    "            link = a.find('a')['href']\n",
    "            \n",
    "            if link not in old_links:     \n",
    "                links.append(link) \n",
    "                titles.append(a.find('a')['title'])\n",
    "            else:\n",
    "                print(f'{len(titles)} new games added.')\n",
    "                repeated = True\n",
    "                break\n",
    "            \n",
    "    # Deleting non review links\n",
    "    for link in links:\n",
    "        if 'analisis' not in link:\n",
    "            links.remove(link)\n",
    "\n",
    "    return links, titles"
   ]
  },
  {
   "cell_type": "code",
   "execution_count": null,
   "metadata": {},
   "outputs": [],
   "source": [
    "'''\n",
    "Import in this stage:\n",
    "- revogamers_dict(links, titles)\n",
    "'''"
   ]
  },
  {
   "cell_type": "code",
   "execution_count": 23,
   "metadata": {},
   "outputs": [],
   "source": [
    "def revogamers_dataframe(links, titles):\n",
    "    result_revo = revogamers_dict(links, titles)\n",
    "    up_revogamers_df = pd.DataFrame.from_dict(result_revo, orient='index')\n",
    "    return up_revogamers_df"
   ]
  },
  {
   "cell_type": "code",
   "execution_count": 39,
   "metadata": {},
   "outputs": [
    {
     "name": "stdout",
     "output_type": "stream",
     "text": [
      "16 new games added.\n"
     ]
    }
   ],
   "source": [
    "#test\n",
    "data = f\"../data/test2_2021.csv\"\n",
    "pages = 2\n",
    "links, titles = revogamers_link_retrieve(pages)"
   ]
  },
  {
   "cell_type": "markdown",
   "metadata": {},
   "source": [
    "## meristation updater"
   ]
  },
  {
   "cell_type": "code",
   "execution_count": 43,
   "metadata": {},
   "outputs": [],
   "source": [
    "def meristation_latest_links(data):\n",
    "    # data via parser\n",
    "    all_sites = pd.read_csv(data)\n",
    "    filtered_df = all_sites[all_sites['site'] == 'meristation'].head(30)\n",
    "    return filtered_df['url_link'].tolist()"
   ]
  },
  {
   "cell_type": "code",
   "execution_count": 56,
   "metadata": {},
   "outputs": [],
   "source": [
    "def meristation_link_retrieve(pages):\n",
    "    links = []\n",
    "    old_links = meristation_latest_links(data)\n",
    "    repeated = False \n",
    "\n",
    "    # pages parser\n",
    "    for i in range(pages):\n",
    "        if repeated == True:\n",
    "            break\n",
    "\n",
    "        url = f'https://as.com/meristation/analisis/{337 - i}'\n",
    "\n",
    "        # building soup\n",
    "        html = requests.get(url).content\n",
    "        soup = BeautifulSoup(html, 'lxml')\n",
    "        articles = soup.find_all('h2')\n",
    "\n",
    "        # links & game titles retrieve. New: checking if old to stop adding raws.\n",
    "        for a in articles:\n",
    "                                  \n",
    "            if a.find('a') == None:\n",
    "                pass\n",
    "            else:\n",
    "                link = a.find('a')['href']\n",
    "                \n",
    "                if link not in old_links:\n",
    "                    links.append(link)\n",
    "                else:\n",
    "                    repeated = True\n",
    "                    break\n",
    "                \n",
    "    # Deleting non review links\n",
    "    for link in links:\n",
    "        if 'analisis' not in link:\n",
    "            links.remove(link)\n",
    "\n",
    "    print(links, f'{len(links)} new games added.')\n",
    "    return links"
   ]
  },
  {
   "cell_type": "code",
   "execution_count": 51,
   "metadata": {},
   "outputs": [
    {
     "data": {
      "text/plain": [
       "'\\nImport in this stage:\\n- meri_author(soup)\\n- meri_score(soup)\\n- meristation_dict(links)\\n'"
      ]
     },
     "execution_count": 51,
     "metadata": {},
     "output_type": "execute_result"
    }
   ],
   "source": [
    "'''\n",
    "Import in this stage:\n",
    "- meri_author(soup)\n",
    "- meri_score(soup)\n",
    "- meristation_dict(links)\n",
    "'''"
   ]
  },
  {
   "cell_type": "code",
   "execution_count": 52,
   "metadata": {},
   "outputs": [],
   "source": [
    "def meristation_dataframe(links):\n",
    "    result_meri = meristation_dict(links)\n",
    "    up_meristation_df = pd.DataFrame.from_dict(result_meri, orient='index')\n",
    "    return up_meristation_df"
   ]
  },
  {
   "cell_type": "code",
   "execution_count": 57,
   "metadata": {},
   "outputs": [
    {
     "name": "stdout",
     "output_type": "stream",
     "text": [
      "['https://as.com/meristation/2021/04/08/analisis/1617889421_063525.html', 'https://as.com/meristation/2021/04/07/analisis/1617809548_880093.html', 'https://as.com/meristation/2021/04/06/analisis/1617694738_423461.html', 'https://as.com/meristation/2021/04/05/analisis/1617623116_949416.html', 'https://as.com/meristation/2021/04/04/analisis/1617519009_342820.html', 'https://as.com/meristation/2021/04/02/analisis/1617351377_395107.html', 'https://as.com/meristation/2021/04/01/analisis/1617273286_559321.html', 'https://as.com/meristation/2021/04/01/analisis/1617261789_188289.html', 'https://as.com/meristation/2021/03/31/analisis/1617182479_101654.html', 'https://as.com/meristation/2021/03/31/analisis/1617174009_601566.html', 'https://as.com/meristation/2021/03/30/analisis/1617120558_078339.html', 'https://as.com/meristation/2021/03/30/analisis/1617120313_978999.html', 'https://as.com/meristation/2021/03/30/analisis/1617082693_230913.html', 'https://as.com/meristation/2021/03/29/analisis/1617019335_323181.html', 'https://as.com/meristation/2021/03/28/analisis/1616925148_441235.html', 'https://as.com/meristation/2021/03/26/analisis/1616755843_456218.html', 'https://as.com/meristation/2021/03/25/analisis/1616663792_769405.html', 'https://as.com/meristation/2021/03/24/analisis/1616592847_134791.html', 'https://as.com/meristation/2021/03/23/analisis/1616511763_967003.html', 'https://as.com/meristation/2021/03/23/analisis/1616490917_852590.html', 'https://as.com/meristation/2021/03/22/analisis/1616428757_875502.html', 'https://as.com/meristation/2021/03/21/analisis/1616315735_717865.html', 'https://as.com/meristation/2021/03/20/analisis/1616233743_723724.html', 'https://as.com/meristation/2021/03/18/analisis/1616057869_180831.html', 'https://as.com/meristation/2021/03/17/analisis/1615978812_904555.html', 'https://as.com/meristation/2021/03/14/analisis/1615709892_355731.html', 'https://as.com/meristation/2021/03/12/analisis/1615542310_329503.html', 'https://as.com/meristation/2021/03/11/analisis/1615454274_648313.html', 'https://as.com/meristation/2021/03/09/analisis/1615282401_848183.html', 'https://as.com/meristation/2021/03/08/analisis/1615214278_871284.html', 'https://as.com/meristation/2021/03/07/analisis/1615113288_865834.html', 'https://as.com/meristation/2021/03/06/analisis/1615015329_075803.html', 'https://as.com/meristation/2021/03/05/analisis/1614933337_700021.html', 'https://as.com/meristation/2021/03/03/analisis/1614764199_603321.html', 'https://as.com/meristation/2021/03/01/analisis/1614613778_520166.html', 'https://as.com/meristation/2021/02/25/analisis/1614261607_682452.html', 'https://as.com/meristation/2021/02/23/analisis/1614084335_480771.html', 'https://as.com/meristation/2021/02/23/analisis/1614072808_024573.html', 'https://as.com/meristation/2021/02/19/analisis/1613716368_600548.html', 'https://as.com/meristation/2021/02/18/analisis/1613648418_992582.html', 'https://as.com/meristation/2021/02/16/analisis/1613468055_559047.html', 'https://as.com/meristation/2021/02/15/analisis/1613392224_729889.html', 'https://as.com/meristation/2021/02/15/analisis/1613371687_546882.html', 'https://as.com/meristation/2021/02/13/analisis/1613216186_699266.html', 'https://as.com/meristation/2021/02/12/analisis/1613152146_211368.html', 'https://as.com/meristation/2021/04/08/analisis/1617889421_063525.html', 'https://as.com/meristation/2021/04/07/analisis/1617809548_880093.html', 'https://as.com/meristation/2021/04/06/analisis/1617694738_423461.html', 'https://as.com/meristation/2021/04/05/analisis/1617623116_949416.html', 'https://as.com/meristation/2021/04/04/analisis/1617519009_342820.html', 'https://as.com/meristation/2021/04/02/analisis/1617351377_395107.html', 'https://as.com/meristation/2021/04/01/analisis/1617273286_559321.html', 'https://as.com/meristation/2021/04/01/analisis/1617261789_188289.html', 'https://as.com/meristation/2021/03/31/analisis/1617182479_101654.html', 'https://as.com/meristation/2021/03/31/analisis/1617174009_601566.html', 'https://as.com/meristation/2021/03/30/analisis/1617120558_078339.html', 'https://as.com/meristation/2021/03/30/analisis/1617120313_978999.html', 'https://as.com/meristation/2021/03/30/analisis/1617082693_230913.html', 'https://as.com/meristation/2021/03/29/analisis/1617019335_323181.html', 'https://as.com/meristation/2021/03/28/analisis/1616925148_441235.html', 'https://as.com/meristation/2021/03/26/analisis/1616755843_456218.html', 'https://as.com/meristation/2021/03/25/analisis/1616663792_769405.html', 'https://as.com/meristation/2021/03/24/analisis/1616592847_134791.html', 'https://as.com/meristation/2021/03/23/analisis/1616511763_967003.html', 'https://as.com/meristation/2021/03/23/analisis/1616490917_852590.html', 'https://as.com/meristation/2021/03/22/analisis/1616428757_875502.html', 'https://as.com/meristation/2021/03/21/analisis/1616315735_717865.html', 'https://as.com/meristation/2021/03/20/analisis/1616233743_723724.html', 'https://as.com/meristation/2021/03/18/analisis/1616057869_180831.html', 'https://as.com/meristation/2021/03/17/analisis/1615978812_904555.html', 'https://as.com/meristation/2021/03/14/analisis/1615709892_355731.html', 'https://as.com/meristation/2021/03/12/analisis/1615542310_329503.html', 'https://as.com/meristation/2021/03/11/analisis/1615454274_648313.html', 'https://as.com/meristation/2021/03/09/analisis/1615282401_848183.html', 'https://as.com/meristation/2021/03/08/analisis/1615214278_871284.html', 'https://as.com/meristation/2021/03/07/analisis/1615113288_865834.html', 'https://as.com/meristation/2021/03/06/analisis/1615015329_075803.html', 'https://as.com/meristation/2021/03/05/analisis/1614933337_700021.html', 'https://as.com/meristation/2021/03/03/analisis/1614764199_603321.html', 'https://as.com/meristation/2021/03/01/analisis/1614613778_520166.html', 'https://as.com/meristation/2021/02/25/analisis/1614261607_682452.html', 'https://as.com/meristation/2021/02/23/analisis/1614084335_480771.html', 'https://as.com/meristation/2021/02/23/analisis/1614072808_024573.html', 'https://as.com/meristation/2021/02/19/analisis/1613716368_600548.html', 'https://as.com/meristation/2021/02/18/analisis/1613648418_992582.html', 'https://as.com/meristation/2021/02/16/analisis/1613468055_559047.html', 'https://as.com/meristation/2021/02/15/analisis/1613392224_729889.html', 'https://as.com/meristation/2021/02/15/analisis/1613371687_546882.html', 'https://as.com/meristation/2021/02/13/analisis/1613216186_699266.html', 'https://as.com/meristation/2021/02/12/analisis/1613152146_211368.html'] 90 new games added.\n"
     ]
    }
   ],
   "source": [
    "#test\n",
    "data = f\"../data/test2_2021.csv\"\n",
    "pages = 2\n",
    "links = meristation_link_retrieve(pages)"
   ]
  },
  {
   "cell_type": "code",
   "execution_count": 49,
   "metadata": {},
   "outputs": [
    {
     "data": {
      "text/plain": [
       "['https://as.com/meristation/2020/09/13/analisis/1599985057_505947.html',\n",
       " 'https://as.com/meristation/2020/09/19/analisis/1600499631_945194.html',\n",
       " 'https://as.com/meristation/2020/09/30/analisis/1601454855_979194.html',\n",
       " 'https://as.com/meristation/2020/09/26/analisis/1601109660_140327.html',\n",
       " 'https://as.com/meristation/2020/09/22/analisis/1600760878_562894.html',\n",
       " 'https://as.com/meristation/2020/10/03/analisis/1601701228_240717.html',\n",
       " 'https://as.com/meristation/2020/10/01/analisis/1601557244_384472.html',\n",
       " 'https://as.com/meristation/2020/09/18/analisis/1600418364_262891.html',\n",
       " 'https://as.com/meristation/2020/09/26/analisis/1601118163_185827.html',\n",
       " 'https://as.com/meristation/2020/09/20/analisis/1600588999_099915.html',\n",
       " 'https://as.com/meristation/2020/09/16/analisis/1600261344_550903.html',\n",
       " 'https://as.com/meristation/2020/09/11/analisis/1599814324_095879.html',\n",
       " 'https://as.com/meristation/2020/09/15/analisis/1600166091_128370.html',\n",
       " 'https://as.com/meristation/2020/09/22/analisis/1600764887_024298.html',\n",
       " 'https://as.com/meristation/2020/09/29/analisis/1601367548_437006.html',\n",
       " 'https://as.com/meristation/2020/09/25/analisis/1601019685_445862.html',\n",
       " 'https://as.com/meristation/2020/09/15/analisis/1600181818_035725.html',\n",
       " 'https://as.com/meristation/2020/09/24/analisis/1600959846_926566.html',\n",
       " 'https://as.com/meristation/2020/09/29/analisis/1601370434_254241.html',\n",
       " 'https://as.com/meristation/2020/09/21/analisis/1600675002_511518.html',\n",
       " 'https://as.com/meristation/2020/09/12/analisis/1599897766_790983.html',\n",
       " 'https://as.com/meristation/2020/09/18/analisis/1600418263_422657.html',\n",
       " 'https://as.com/meristation/2020/09/23/analisis/1600848195_838475.html',\n",
       " 'https://as.com/meristation/2020/09/28/analisis/1601283612_640735.html',\n",
       " 'https://as.com/meristation/2020/10/06/analisis/1601973790_626104.html',\n",
       " 'https://as.com/meristation/2020/09/25/analisis/1601038731_079093.html',\n",
       " 'https://as.com/meristation/2020/09/14/analisis/1600097234_505564.html',\n",
       " 'https://as.com/meristation/2020/10/05/analisis/1601886314_918896.html']"
      ]
     },
     "execution_count": 49,
     "metadata": {},
     "output_type": "execute_result"
    }
   ],
   "source": [
    "meristation_latest_links(data)"
   ]
  },
  {
   "cell_type": "code",
   "execution_count": null,
   "metadata": {},
   "outputs": [],
   "source": []
  }
 ],
 "metadata": {
  "kernelspec": {
   "display_name": "Python [conda env:lab_env]",
   "language": "python",
   "name": "conda-env-lab_env-py"
  },
  "language_info": {
   "codemirror_mode": {
    "name": "ipython",
    "version": 3
   },
   "file_extension": ".py",
   "mimetype": "text/x-python",
   "name": "python",
   "nbconvert_exporter": "python",
   "pygments_lexer": "ipython3",
   "version": "3.7.3"
  }
 },
 "nbformat": 4,
 "nbformat_minor": 4
}
