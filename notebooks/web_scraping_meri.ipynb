{
 "cells": [
  {
   "cell_type": "code",
   "execution_count": 1,
   "metadata": {},
   "outputs": [],
   "source": [
    "import requests\n",
    "from bs4 import BeautifulSoup\n"
   ]
  },
  {
   "cell_type": "code",
   "execution_count": 2,
   "metadata": {},
   "outputs": [
    {
     "data": {
      "text/plain": [
       "b'<!DOCTYPE html>\\n<html lang=\"es\">\\n<head>\\n<meta char'"
      ]
     },
     "execution_count": 2,
     "metadata": {},
     "output_type": "execute_result"
    }
   ],
   "source": [
    "review_url = 'https://as.com/meristation/2020/09/19/analisis/1600499631_945194.html'\n",
    "review_html = requests.get(review_url).content\n",
    "review_html[:50]"
   ]
  },
  {
   "cell_type": "code",
   "execution_count": 3,
   "metadata": {},
   "outputs": [],
   "source": [
    "soup = BeautifulSoup(review_html, 'lxml')\n",
    "article = soup.find_all('div', {'class':\"col-md-8 col-sm-12 col-xs-12\"})"
   ]
  },
  {
   "cell_type": "code",
   "execution_count": 18,
   "metadata": {},
   "outputs": [],
   "source": [
    "p_tags = article.find('div', {'class': 'art-body'}).find_all('p')"
   ]
  },
  {
   "cell_type": "code",
   "execution_count": 36,
   "metadata": {},
   "outputs": [],
   "source": [
    "review = [tag.text for tag in p_tags]\n",
    "review = '-'.join(review)\n"
   ]
  },
  {
   "cell_type": "code",
   "execution_count": 37,
   "metadata": {},
   "outputs": [
    {
     "data": {
      "text/plain": [
       "'Mucho ha llovido desde el lanzamiento de Spelunky HD, en 2012 (aquí podéis leer el análisis redactado en su momento por nuestro compañero Salva Fernández). Pero más ha llovido aún desde el lanzamiento del Spelunky original, allá por 2008. Una docena de años después, en septiembre de 2020, nos llega Spelunky 2, título a priori exclusivo en consolas de PlayStation 4, cuya versión está disponible un par de semanas antes que en PC. Antes de nada, queremos deciros que el titular no es, en absoluto, clickbait. Quien escribe estas líneas ha visto y ha jugado mucho, y también ha echado muchas horas a Spelunky en Xbox 360, consiguiendo todos sus logros. Y esta segunda parte coge la fórmula original y la retuerce de tal forma que el resultado es el videojuego más difícil no solo de todo 2020, sino de toda la década. Ahí es nada.-\"Más, y, además, mejor\". Con esta frase tan escueta podríamos resumir, en líneas generales, lo que nos ha parecido Spelunky 2. Este título coge todo lo que hizo grande a su precedesor, y, refinando la fórmula aún más si cabe, la lleva a un nuevo nivel.-Metámonos en materia. Spelunky 2 es, como el original, un videojuego que mezcla varios géneros; en esencia es un roguelike (generación aleatoria de niveles y posicionamiento de objetos, peligros y enemigos, muerte permanente) pero con la presentación y el sistema de juego de plataformas en 2D. Los escenarios, compuestos por módulos, y generados siempre al azar, siguen una serie de reglas, siendo la principal de todas ellas que es posible llegar desde el comienzo de un nivel hasta su final siguiendo un camino «lógico», sin necesidad de abrirnos paso destruyendo el escenario.-De nuevo, Spelunky 2 va de esto último que comentamos; nos adentramos en zonas repletas de peligros, en las que el objetivo es siempre llegar hasta la salida del nivel, situada varios pisos por debajo de donde comenzamos cada escenario. La gracia del juego está, precisamente, en que, dada la aleatoriedad intrínseca al género, nunca habrá dos partidas iguales, por lo que su rejugabilidad es prácticamente ilimitada. Si morimos, y creedme, lo haremos muy a menudo, toca volver a empezar la aventura desde el principio.-El juego en sí es \"corto\" (de hecho, hay un trofeo por hacer un speedrun y completar el juego en menos de diez minutos), como Spelunky, aunque con un matiz muy importante: cada vida es un experimento. ¿No sabemos qué hace ese enemigo o trampa nueva? Lo más probable es que nos mate, y aprendamos por las malas, mediante mucho ensayo y más error aún.-Lo que más nos ha sorprendido para bien en esta secuela son varios de los añadidos nuevos, como unas físicas de fluidos mejoradas (el comportamiento de la lava sumado a la destrucción del escenario es algo digno de ver), así como un pathfinding (la capacidad de los personajes de encontrar el camino hacia su objetivo) diabólicamente preciso de ciertos personajes manejados por la IA, como los temibles tenderos cuando los cabreamos, los esbirros que podemos reclutar para que nos ayuden en la aventura, o los enemigos controlados por la máquina en los modos multijugador competitivos. También destacamos la inclusión de una segunda cara a los niveles; hay puertas por las que podemos pasar para ir a la «parte trasera» del escenario, lo cual prácticamente hace que la extensión de los mismos sea el doble que antes. Por último, pero no menos importante, las monturas son otra novedad de peso: ahora podemos cabalgar a lomos de animales que encontremos y que son tan variopintos como pavos, ajolotes o perros infernales, cada uno de ellos con sus propias habilidades que nos facilitarán un poco la exploración.-A grandes rasgos, como decimos, es más y mejor. Hay muchas más zonas, objetos, personajes y enemigos que en el anterior. Además, con respecto a las nuevas áreas, otra de las novedades de Spelunky 2 es la posibilidad de escoger qué ruta queremos tomar. Durante el desarrollo normal de la aventura hay un par de bifurcaciones que determinarán qué zonas visitamos, cada una de ellas, efectivamente, con sus propios enemigos, objetos, e incluso secretos.-A nivel artístico y visual, Spelunky 2 sigue siendo uno de los videojuegos más bonitos de ver que hay actualmente. A este respecto sigue siendo continuista en comparación con el anterior título de la saga, pero no hay nada que objetar porque su estética es única. Como en el original: se ha sabido captar muy bien el aire pulp que pretende plasmar la ambientación del juego: somos un explorador que se adentra en un templo repleto de peligros y criaturas de mitologías variopintas e incluso alienígenas. Los efectos visuales tales como fuego, explosiones y la iluminación en general son realmente buenos.-Lo mejor de todo esto es que, dentro de su contexto y limitaciones, el mundo creado por Spelunky 2 tiene una sensación muy pura de ser muy «orgánico» y tener vida propia. Las criaturas que pueblan los escenarios se dedican a sus quehaceres hasta que detectan a algún jugador (o sus esbirros), y entonces se lía. Y cuando hay acción de todo tipo en pantalla, el rendimiento no se resiente lo más mínimo. 60 FPS estables en todo momento en la versión de PS4, que es la plataforma en la que hemos realizado este análisis.-La música y los efectos sonoros ambientan la acción a la perfección. La banda sonora, además de ser buena y variada, es dinámica, otra novedad con respecto al original. Seguramente nos demos cuenta de esto en el nivel 1-4, en cuya entrada nuestro personaje advierte \"Oyes el son de los tambores...\" y, cuando llegamos al minijefe de la zona, efectivamente, los instrumentos del tema que suena han dado paso por completo a un estribillo únicamente de tambores. Los efectos sonoros, por su parte, son realmente buenos, algo completamente imprescindible en un título de estas características; cada criatura y trampa emite el suyo propio, de modo que ayuda muchísimo a que no muramos (tanto).-El control de Spelunky 2 es absolutamente perfecto. Esto es algo necesario, ya que, tal y como sucede en títulos como Super Meat Boy, cada vez que morimos, tenemos la sensación de que ha sido culpa nuestra por no estar lo suficientemente pendientes al escenario y a los peligros del mismo, y no porque el control nos haya dejado vendidos. A este respecto, los únicos lapsus o muertes accidentales que puede haber «debido al control» son precisamente aquellas en las que hemos recogido algún objeto que modifica el comportamiento de nuestro personaje, como los guantes de escalada, que por defecto hacen que nos quedemos pegados a las paredes, o el teletransportador, con el que seguramente acabemos muriendo porque nos hemos teletransportado dentro de una pared.-Spelunky 2 es un videojuego que parece haber sido diseñado para estresar al máximo al jugador. A la dificultad endiablada del juego propiamente dicho, debemos sumar que no podemos tardar más de la cuenta en completar los niveles —esto también pasaba en el anterior—; si tardamos demasiado, un fantasmón aparecerá para darnos caza y, si nos toca, nos matará al instante. Como tal, efectivamente, es un videojuego de nicho, no recomendado para todos los públicos.-A la aventura normal, que es el plato fuerte del juego, debemos sumarle un modo cooperativo para cuatro jugadores tanto en el mismo sistema como en línea; el original no disponía de esta última opción. Es un añadido muy interesante porque Spelunky y Spelunky 2 pueden presumir de pertenecer al club de \"videojuegos con los que perder amigos\". Eso sí, por motivos obvios, recomendamos que, si se juega al modo cooperativo de Spelunky 2, se opte por hacerlo en un mismo sistema. El online funciona bien, pero el propio concepto del juego hace que, con que haya el más mínimo retardo entre las conexiones de los jugadores, la partida esté condenada al fracaso. Spelunky 2 exige perfección y un esfuerzo titánico para ser completado.-Además del cooperativo, Spelunky 2 incluye un modo Arena que, eso sí, es solo local. Hasta cuatro jugadores pueden repartirse estopa entre sí en un buen puñado de distintos mapas con muchas opciones para personalizar las partidas, entre las que se incluyen la posibilidad de rellenar las ranuras de jugadores vacías con oponentes controlados por la IA. Es una opción muy interesante tanto para refinar nuestras habilidades, como para zanjar las rencillas que seguramente se generen mientras jugamos al modo cooperativo.-Con respecto a la duración del juego, nos ceñimos a lo que dijimos más arriba: es un juego pensado para echarle horas, horas, y más horas. Spelunky 2 requiere que aprendamos y dominemos todas y cada una de sus mecánicas de juego, además del comportamiento de elementos tales como trampas y enemigos. Y cuando pensemos que tenemos cogido al toro por los cuernos, nos llegará alguna muerte absurda por, por ejemplo, una reacción en cadena de bombas mal calculada, o un golpe inocuo de un enemigo pero que nos hace caer al vacío y morir empalados en pinchos. A la hora de escribir este análisis hemos tenido la decencia de completar el juego al menos una vez, y de rellenar el diario (objetos, enemigos, áreas visitadas...) en más de un 50%.-Sabemos que Spelunky 2 es más grande a nivel cualitativo y cuantitativo que su predecesor, y el tiempo estimado para desbloquear todo en el anterior es de unas 100 horas, por lo que deducid vosotros mismos el tiempo que podéis dedicar a —intentar— llevar a cabo la misma proeza en esta secuela.-Nota del autor: esta reseña ha podido ser escrita gracias a un código de descarga del juego en PlayStation 4 proporcionado por Mossmouth, desarrolladores del juego. Todas las capturas que acompañan al texto han sido tomadas por nosotros mismos.-LO MEJOR-LO PEOR-CONCLUSIÓN-Spelunky 2 es un videojuego endiabladamente difícil, que no os engañe su estética «infantil». Tras esta fachada aniñada se oculta una auténtica joya indie que sabe recompensar a los jugadores con la suficiente paciencia y habilidad como para soportar las penurias que nos ofrece. Es una secuela muy redonda y todo un portento en lo que a programación y diseño de niveles se refiere. Algunos errores menores lo alejan de la absoluta excelencia, aunque sigue siendo un título sobresaliente.-Excelente-Un título referente en su género, que destaca por encima de sus competidores y que disfrutarás de principio a fin, seguramente varias veces. Un juego destinado a convertirse en clásico con el paso de los años.                        '"
      ]
     },
     "execution_count": 37,
     "metadata": {},
     "output_type": "execute_result"
    }
   ],
   "source": [
    "review"
   ]
  },
  {
   "cell_type": "code",
   "execution_count": null,
   "metadata": {},
   "outputs": [],
   "source": []
  }
 ],
 "metadata": {
  "kernelspec": {
   "display_name": "Python [conda env:lab_env]",
   "language": "python",
   "name": "conda-env-lab_env-py"
  },
  "language_info": {
   "codemirror_mode": {
    "name": "ipython",
    "version": 3
   },
   "file_extension": ".py",
   "mimetype": "text/x-python",
   "name": "python",
   "nbconvert_exporter": "python",
   "pygments_lexer": "ipython3",
   "version": "3.7.3"
  }
 },
 "nbformat": 4,
 "nbformat_minor": 4
}
