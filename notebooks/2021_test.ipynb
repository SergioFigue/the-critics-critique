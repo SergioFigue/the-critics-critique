{
 "cells": [
  {
   "cell_type": "code",
   "execution_count": 1,
   "metadata": {},
   "outputs": [],
   "source": [
    "import requests\n",
    "from bs4 import BeautifulSoup\n",
    "import time\n",
    "import pandas as pd\n",
    "import numpy as np\n",
    "import newspaper\n",
    "from newspaper import Article\n",
    "from newspaper import Source\n",
    "from newspaper import fulltext"
   ]
  },
  {
   "cell_type": "code",
   "execution_count": 2,
   "metadata": {},
   "outputs": [],
   "source": [
    "test2021 = pd.read_csv('../data/test2_2021.csv')"
   ]
  },
  {
   "cell_type": "code",
   "execution_count": 3,
   "metadata": {},
   "outputs": [
    {
     "data": {
      "text/html": [
       "<div>\n",
       "<style scoped>\n",
       "    .dataframe tbody tr th:only-of-type {\n",
       "        vertical-align: middle;\n",
       "    }\n",
       "\n",
       "    .dataframe tbody tr th {\n",
       "        vertical-align: top;\n",
       "    }\n",
       "\n",
       "    .dataframe thead th {\n",
       "        text-align: right;\n",
       "    }\n",
       "</style>\n",
       "<table border=\"1\" class=\"dataframe\">\n",
       "  <thead>\n",
       "    <tr style=\"text-align: right;\">\n",
       "      <th></th>\n",
       "      <th>site</th>\n",
       "      <th>url_link</th>\n",
       "      <th>author</th>\n",
       "      <th>game</th>\n",
       "      <th>company</th>\n",
       "      <th>genre</th>\n",
       "      <th>platform</th>\n",
       "      <th>text</th>\n",
       "      <th>score</th>\n",
       "    </tr>\n",
       "  </thead>\n",
       "  <tbody>\n",
       "    <tr>\n",
       "      <th>1</th>\n",
       "      <td>3D Juegos</td>\n",
       "      <td>https://www.3djuegos.com/juegos/analisis/37840...</td>\n",
       "      <td>Sergio Martín</td>\n",
       "      <td>Tropico 6 - Análisis</td>\n",
       "      <td>None</td>\n",
       "      <td>None</td>\n",
       "      <td>PC PS4 XOne Switch Mac Linux</td>\n",
       "      <td>Gobierna una isla paradisíaca vayas donde vaya...</td>\n",
       "      <td>7.0</td>\n",
       "    </tr>\n",
       "    <tr>\n",
       "      <th>8</th>\n",
       "      <td>3D Juegos</td>\n",
       "      <td>https://www.3djuegos.com/juegos/analisis/37142...</td>\n",
       "      <td>Carlos Gallego</td>\n",
       "      <td>Maquette - Análisis</td>\n",
       "      <td>None</td>\n",
       "      <td>None</td>\n",
       "      <td>PC PS4 PS5</td>\n",
       "      <td>Maquette apela a los sentimientos de quien sos...</td>\n",
       "      <td>7.0</td>\n",
       "    </tr>\n",
       "    <tr>\n",
       "      <th>35</th>\n",
       "      <td>3D Juegos</td>\n",
       "      <td>https://www.3djuegos.com/juegos/analisis/36709...</td>\n",
       "      <td>Carlos Gallego</td>\n",
       "      <td>Call of the Sea - Análisis</td>\n",
       "      <td>None</td>\n",
       "      <td>None</td>\n",
       "      <td>PC XSeries XOne</td>\n",
       "      <td>Call of the Sea se aleja de la visión oscurant...</td>\n",
       "      <td>7.0</td>\n",
       "    </tr>\n",
       "    <tr>\n",
       "      <th>42</th>\n",
       "      <td>3D Juegos</td>\n",
       "      <td>https://www.3djuegos.com/juegos/analisis/37571...</td>\n",
       "      <td>Alberto Pastor</td>\n",
       "      <td>Scott Pilgrim contra el Mundo: El Videojuego -...</td>\n",
       "      <td>None</td>\n",
       "      <td>None</td>\n",
       "      <td>PC PS4 XOne Switch PS3 X360 Stadia</td>\n",
       "      <td>Diez años después de su lanzamiento original y...</td>\n",
       "      <td>7.0</td>\n",
       "    </tr>\n",
       "    <tr>\n",
       "      <th>43</th>\n",
       "      <td>3D Juegos</td>\n",
       "      <td>https://www.3djuegos.com/juegos/analisis/26242...</td>\n",
       "      <td>Álvaro C. / Toni P.</td>\n",
       "      <td>Cyberpunk 2077 - Análisis</td>\n",
       "      <td>None</td>\n",
       "      <td>None</td>\n",
       "      <td>PC PS4 PS5 XSeries XOne Stadia</td>\n",
       "      <td>Esperado o no, Cyberpunk 2077 es un videojuego...</td>\n",
       "      <td>7.0</td>\n",
       "    </tr>\n",
       "  </tbody>\n",
       "</table>\n",
       "</div>"
      ],
      "text/plain": [
       "         site                                           url_link  \\\n",
       "1   3D Juegos  https://www.3djuegos.com/juegos/analisis/37840...   \n",
       "8   3D Juegos  https://www.3djuegos.com/juegos/analisis/37142...   \n",
       "35  3D Juegos  https://www.3djuegos.com/juegos/analisis/36709...   \n",
       "42  3D Juegos  https://www.3djuegos.com/juegos/analisis/37571...   \n",
       "43  3D Juegos  https://www.3djuegos.com/juegos/analisis/26242...   \n",
       "\n",
       "                 author                                               game  \\\n",
       "1         Sergio Martín                               Tropico 6 - Análisis   \n",
       "8        Carlos Gallego                                Maquette - Análisis   \n",
       "35       Carlos Gallego                         Call of the Sea - Análisis   \n",
       "42       Alberto Pastor  Scott Pilgrim contra el Mundo: El Videojuego -...   \n",
       "43  Álvaro C. / Toni P.                          Cyberpunk 2077 - Análisis   \n",
       "\n",
       "   company genre                            platform  \\\n",
       "1     None  None        PC PS4 XOne Switch Mac Linux   \n",
       "8     None  None                          PC PS4 PS5   \n",
       "35    None  None                     PC XSeries XOne   \n",
       "42    None  None  PC PS4 XOne Switch PS3 X360 Stadia   \n",
       "43    None  None      PC PS4 PS5 XSeries XOne Stadia   \n",
       "\n",
       "                                                 text  score  \n",
       "1   Gobierna una isla paradisíaca vayas donde vaya...    7.0  \n",
       "8   Maquette apela a los sentimientos de quien sos...    7.0  \n",
       "35  Call of the Sea se aleja de la visión oscurant...    7.0  \n",
       "42  Diez años después de su lanzamiento original y...    7.0  \n",
       "43  Esperado o no, Cyberpunk 2077 es un videojuego...    7.0  "
      ]
     },
     "execution_count": 3,
     "metadata": {},
     "output_type": "execute_result"
    }
   ],
   "source": [
    "# 16/03/2021 Error extracción text en Gamereactor\n",
    "\n",
    "test2021[test2021['site'] == '3D Juegos'].head()"
   ]
  },
  {
   "cell_type": "code",
   "execution_count": 48,
   "metadata": {},
   "outputs": [
    {
     "data": {
      "text/plain": [
       "b' <!DOCTYPE html>\\n<html lang=\"es\">\\n<head>\\n\\n\\n<script'"
      ]
     },
     "execution_count": 48,
     "metadata": {},
     "output_type": "execute_result"
    }
   ],
   "source": [
    "review_url = 'https://www.gamereactor.es/squad-analisis/'\n",
    "#review_url = 'https://www.gamereactor.es/star-wars-squadrons-analisis'\n",
    "review_html = requests.get(review_url).content\n",
    "review_html[:50]"
   ]
  },
  {
   "cell_type": "code",
   "execution_count": 49,
   "metadata": {},
   "outputs": [],
   "source": [
    "soup = BeautifulSoup(review_html, 'lxml')"
   ]
  },
  {
   "cell_type": "code",
   "execution_count": 50,
   "metadata": {},
   "outputs": [],
   "source": [
    "##Reparación 16/03/2021: se añae nuvo div, 'id: 'page0' en la extracción de article\n",
    "\n",
    "article = soup.find('div', {'class': 'breadtext'}).find('div', {'id': 'page0'})\n",
    "p_tags = article.find_all('p')\n",
    "review = [tag.text for tag in p_tags]\n",
    "review = ' '.join(review)"
   ]
  },
  {
   "cell_type": "code",
   "execution_count": 52,
   "metadata": {},
   "outputs": [
    {
     "data": {
      "text/plain": [
       "'Anda que no ha llovido desde que jugamos Squad por'"
      ]
     },
     "execution_count": 52,
     "metadata": {},
     "output_type": "execute_result"
    }
   ],
   "source": [
    "review[0:50]"
   ]
  },
  {
   "cell_type": "code",
   "execution_count": 53,
   "metadata": {},
   "outputs": [
    {
     "data": {
      "text/html": [
       "<div>\n",
       "<style scoped>\n",
       "    .dataframe tbody tr th:only-of-type {\n",
       "        vertical-align: middle;\n",
       "    }\n",
       "\n",
       "    .dataframe tbody tr th {\n",
       "        vertical-align: top;\n",
       "    }\n",
       "\n",
       "    .dataframe thead th {\n",
       "        text-align: right;\n",
       "    }\n",
       "</style>\n",
       "<table border=\"1\" class=\"dataframe\">\n",
       "  <thead>\n",
       "    <tr style=\"text-align: right;\">\n",
       "      <th></th>\n",
       "      <th>site</th>\n",
       "      <th>url_link</th>\n",
       "      <th>author</th>\n",
       "      <th>game</th>\n",
       "      <th>company</th>\n",
       "      <th>genre</th>\n",
       "      <th>platform</th>\n",
       "      <th>text</th>\n",
       "      <th>score</th>\n",
       "    </tr>\n",
       "  </thead>\n",
       "  <tbody>\n",
       "  </tbody>\n",
       "</table>\n",
       "</div>"
      ],
      "text/plain": [
       "Empty DataFrame\n",
       "Columns: [site, url_link, author, game, company, genre, platform, text, score]\n",
       "Index: []"
      ]
     },
     "execution_count": 53,
     "metadata": {},
     "output_type": "execute_result"
    }
   ],
   "source": [
    "# 16/03/2021 Error extracción todo en 3D Juegos\n",
    "\n",
    "test2021[test2021['site'] == '3D Juegos'].head()"
   ]
  },
  {
   "cell_type": "code",
   "execution_count": 58,
   "metadata": {},
   "outputs": [
    {
     "data": {
      "text/plain": [
       "b\"<!DOCTYPE html>\\n<html lang='es'>\\n<head>\\n<meta prop\""
      ]
     },
     "execution_count": 58,
     "metadata": {},
     "output_type": "execute_result"
    }
   ],
   "source": [
    "review_url = 'https://www.3djuegos.com/juegos/analisis/37141/0/maquette/'\n",
    "html = requests.get(review_url).content\n",
    "html[:50]"
   ]
  },
  {
   "cell_type": "code",
   "execution_count": 62,
   "metadata": {},
   "outputs": [],
   "source": [
    "soup = BeautifulSoup(html, 'lxml')\n",
    "p_tags = soup.find('div', {'class': 'lh27 url_lineas article_body0 mar_temp_0'}).find_all('p')\n"
   ]
  },
  {
   "cell_type": "code",
   "execution_count": 66,
   "metadata": {},
   "outputs": [
    {
     "data": {
      "text/plain": [
       "'Maquette apela a los sentimientos de quien sostien'"
      ]
     },
     "execution_count": 66,
     "metadata": {},
     "output_type": "execute_result"
    }
   ],
   "source": [
    "review = [tag.text for tag in p_tags]\n",
    "review = ' '.join(review)\n",
    "review[0:50]"
   ]
  },
  {
   "cell_type": "code",
   "execution_count": 65,
   "metadata": {},
   "outputs": [
    {
     "data": {
      "text/plain": [
       "'Carlos Gallego'"
      ]
     },
     "execution_count": 65,
     "metadata": {},
     "output_type": "execute_result"
    }
   ],
   "source": [
    "author = soup.find('a', {'class': 'c7 n'}).text\n",
    "author"
   ]
  },
  {
   "cell_type": "code",
   "execution_count": 68,
   "metadata": {},
   "outputs": [
    {
     "data": {
      "text/plain": [
       "'PC PS4 PS5'"
      ]
     },
     "execution_count": 68,
     "metadata": {},
     "output_type": "execute_result"
    }
   ],
   "source": [
    "tdjuegos_platform(soup)"
   ]
  },
  {
   "cell_type": "code",
   "execution_count": 69,
   "metadata": {},
   "outputs": [
    {
     "ename": "AttributeError",
     "evalue": "'NoneType' object has no attribute 'text'",
     "output_type": "error",
     "traceback": [
      "\u001b[0;31m---------------------------------------------------------------------------\u001b[0m",
      "\u001b[0;31mAttributeError\u001b[0m                            Traceback (most recent call last)",
      "\u001b[0;32m<ipython-input-69-84954bab332b>\u001b[0m in \u001b[0;36m<module>\u001b[0;34m\u001b[0m\n\u001b[0;32m----> 1\u001b[0;31m \u001b[0mscore\u001b[0m \u001b[0;34m=\u001b[0m \u001b[0msoup\u001b[0m\u001b[0;34m.\u001b[0m\u001b[0mfind\u001b[0m\u001b[0;34m(\u001b[0m\u001b[0;34m'div'\u001b[0m\u001b[0;34m,\u001b[0m \u001b[0;34m{\u001b[0m\u001b[0;34m'class'\u001b[0m\u001b[0;34m:\u001b[0m \u001b[0;34m'nota_ana_3 fftext b nota_interior2'\u001b[0m\u001b[0;34m}\u001b[0m\u001b[0;34m)\u001b[0m\u001b[0;34m.\u001b[0m\u001b[0mtext\u001b[0m\u001b[0;34m\u001b[0m\u001b[0;34m\u001b[0m\u001b[0m\n\u001b[0m\u001b[1;32m      2\u001b[0m \u001b[0mscore\u001b[0m \u001b[0;34m=\u001b[0m \u001b[0mscore\u001b[0m\u001b[0;34m.\u001b[0m\u001b[0mreplace\u001b[0m\u001b[0;34m(\u001b[0m\u001b[0;34m','\u001b[0m\u001b[0;34m,\u001b[0m\u001b[0;34m'.'\u001b[0m\u001b[0;34m)\u001b[0m\u001b[0;34m\u001b[0m\u001b[0;34m\u001b[0m\u001b[0m\n\u001b[1;32m      3\u001b[0m \u001b[0mscore\u001b[0m \u001b[0;34m=\u001b[0m \u001b[0mfloat\u001b[0m\u001b[0;34m(\u001b[0m\u001b[0mscore\u001b[0m\u001b[0;34m)\u001b[0m\u001b[0;34m\u001b[0m\u001b[0;34m\u001b[0m\u001b[0m\n",
      "\u001b[0;31mAttributeError\u001b[0m: 'NoneType' object has no attribute 'text'"
     ]
    }
   ],
   "source": [
    "# 16/03/2021 Error score: Desde el 15 de diciembre de 2020, 3D Juegos no utiliza notas.\n",
    "\n",
    "score = soup.find('div', {'class': 'nota_ana_3 fftext b nota_interior2'}).text\n",
    "score = score.replace(',','.')\n",
    "score = float(score)"
   ]
  },
  {
   "cell_type": "code",
   "execution_count": 70,
   "metadata": {},
   "outputs": [
    {
     "data": {
      "text/plain": [
       "b\"<!DOCTYPE html>\\n<html lang='es'>\\n<head>\\n<meta prop\""
      ]
     },
     "execution_count": 70,
     "metadata": {},
     "output_type": "execute_result"
    }
   ],
   "source": [
    "# 16/03/2021 Error links: 3D Juegos ha cambiado la url de su landing de análisis. Reparción\n",
    "\n",
    "''' Integrado en la función de links\n",
    "    for i in range(pages):\n",
    "        if i == 0:\n",
    "            url = f\"https://www.3djuegos.com/novedades/analisis/juegos/0f0f0f0/fecha/\"\n",
    "        else:\n",
    "            url = f\"https://www.3djuegos.com/novedades/analisis/juegos/{i}pf0f0f0/fecha/\"'''\n",
    "\n",
    "review_url = 'https://www.3djuegos.com/novedades/analisis/juegos/0f0f0f0/fecha/'\n",
    "html = requests.get(review_url).content\n",
    "html[:50]"
   ]
  },
  {
   "cell_type": "code",
   "execution_count": null,
   "metadata": {},
   "outputs": [],
   "source": []
  },
  {
   "cell_type": "code",
   "execution_count": 76,
   "metadata": {},
   "outputs": [],
   "source": [
    "def tdjuegos_link_retrieve(num_pages):\n",
    "    links = []\n",
    "    titles = []\n",
    "    \n",
    "    # pages parser\n",
    "    for i in range(num_pages):\n",
    "        url = f\"https://www.3djuegos.com/novedades/analisis/juegos/{i+100}pf0f0f0/fecha/\"\n",
    "\n",
    "        # building soup    \n",
    "        html = requests.get(url).content\n",
    "        soup = BeautifulSoup(html, 'lxml')\n",
    "        articles = soup.find_all('h2')\n",
    "\n",
    "        # links retrieve\n",
    "        for a in articles:\n",
    "            links.append(a.find('a')['href']) \n",
    "            titles.append(a.find('a')['title'])\n",
    "    \n",
    "    #Deleting non review links\n",
    "#    for link in links:\n",
    "#        if 'analisis' not in link:\n",
    "#            links.remove(link)\n",
    "                \n",
    "    return links, titles"
   ]
  },
  {
   "cell_type": "code",
   "execution_count": null,
   "metadata": {},
   "outputs": [],
   "source": []
  }
 ],
 "metadata": {
  "kernelspec": {
   "display_name": "Python [conda env:lab_env]",
   "language": "python",
   "name": "conda-env-lab_env-py"
  },
  "language_info": {
   "codemirror_mode": {
    "name": "ipython",
    "version": 3
   },
   "file_extension": ".py",
   "mimetype": "text/x-python",
   "name": "python",
   "nbconvert_exporter": "python",
   "pygments_lexer": "ipython3",
   "version": "3.7.3"
  }
 },
 "nbformat": 4,
 "nbformat_minor": 4
}
