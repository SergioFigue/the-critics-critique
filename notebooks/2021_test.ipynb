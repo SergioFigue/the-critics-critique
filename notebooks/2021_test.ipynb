{
 "cells": [
  {
   "cell_type": "code",
   "execution_count": 1,
   "metadata": {},
   "outputs": [],
   "source": [
    "import requests\n",
    "from bs4 import BeautifulSoup\n",
    "import time\n",
    "import pandas as pd\n",
    "import numpy as np\n",
    "import newspaper\n",
    "from newspaper import Article\n",
    "from newspaper import Source\n",
    "from newspaper import fulltext"
   ]
  },
  {
   "cell_type": "code",
   "execution_count": 2,
   "metadata": {},
   "outputs": [],
   "source": [
    "test2021 = pd.read_csv('../data/test2_2021.csv')"
   ]
  },
  {
   "cell_type": "code",
   "execution_count": 3,
   "metadata": {},
   "outputs": [
    {
     "data": {
      "text/html": [
       "<div>\n",
       "<style scoped>\n",
       "    .dataframe tbody tr th:only-of-type {\n",
       "        vertical-align: middle;\n",
       "    }\n",
       "\n",
       "    .dataframe tbody tr th {\n",
       "        vertical-align: top;\n",
       "    }\n",
       "\n",
       "    .dataframe thead th {\n",
       "        text-align: right;\n",
       "    }\n",
       "</style>\n",
       "<table border=\"1\" class=\"dataframe\">\n",
       "  <thead>\n",
       "    <tr style=\"text-align: right;\">\n",
       "      <th></th>\n",
       "      <th>site</th>\n",
       "      <th>url_link</th>\n",
       "      <th>author</th>\n",
       "      <th>game</th>\n",
       "      <th>company</th>\n",
       "      <th>genre</th>\n",
       "      <th>platform</th>\n",
       "      <th>text</th>\n",
       "      <th>score</th>\n",
       "    </tr>\n",
       "  </thead>\n",
       "  <tbody>\n",
       "    <tr>\n",
       "      <th>1</th>\n",
       "      <td>3D Juegos</td>\n",
       "      <td>https://www.3djuegos.com/juegos/analisis/37840...</td>\n",
       "      <td>Sergio Martín</td>\n",
       "      <td>Tropico 6 - Análisis</td>\n",
       "      <td>None</td>\n",
       "      <td>None</td>\n",
       "      <td>PC PS4 XOne Switch Mac Linux</td>\n",
       "      <td>Gobierna una isla paradisíaca vayas donde vaya...</td>\n",
       "      <td>7.0</td>\n",
       "    </tr>\n",
       "    <tr>\n",
       "      <th>8</th>\n",
       "      <td>3D Juegos</td>\n",
       "      <td>https://www.3djuegos.com/juegos/analisis/37142...</td>\n",
       "      <td>Carlos Gallego</td>\n",
       "      <td>Maquette - Análisis</td>\n",
       "      <td>None</td>\n",
       "      <td>None</td>\n",
       "      <td>PC PS4 PS5</td>\n",
       "      <td>Maquette apela a los sentimientos de quien sos...</td>\n",
       "      <td>7.0</td>\n",
       "    </tr>\n",
       "    <tr>\n",
       "      <th>35</th>\n",
       "      <td>3D Juegos</td>\n",
       "      <td>https://www.3djuegos.com/juegos/analisis/36709...</td>\n",
       "      <td>Carlos Gallego</td>\n",
       "      <td>Call of the Sea - Análisis</td>\n",
       "      <td>None</td>\n",
       "      <td>None</td>\n",
       "      <td>PC XSeries XOne</td>\n",
       "      <td>Call of the Sea se aleja de la visión oscurant...</td>\n",
       "      <td>7.0</td>\n",
       "    </tr>\n",
       "    <tr>\n",
       "      <th>42</th>\n",
       "      <td>3D Juegos</td>\n",
       "      <td>https://www.3djuegos.com/juegos/analisis/37571...</td>\n",
       "      <td>Alberto Pastor</td>\n",
       "      <td>Scott Pilgrim contra el Mundo: El Videojuego -...</td>\n",
       "      <td>None</td>\n",
       "      <td>None</td>\n",
       "      <td>PC PS4 XOne Switch PS3 X360 Stadia</td>\n",
       "      <td>Diez años después de su lanzamiento original y...</td>\n",
       "      <td>7.0</td>\n",
       "    </tr>\n",
       "    <tr>\n",
       "      <th>43</th>\n",
       "      <td>3D Juegos</td>\n",
       "      <td>https://www.3djuegos.com/juegos/analisis/26242...</td>\n",
       "      <td>Álvaro C. / Toni P.</td>\n",
       "      <td>Cyberpunk 2077 - Análisis</td>\n",
       "      <td>None</td>\n",
       "      <td>None</td>\n",
       "      <td>PC PS4 PS5 XSeries XOne Stadia</td>\n",
       "      <td>Esperado o no, Cyberpunk 2077 es un videojuego...</td>\n",
       "      <td>7.0</td>\n",
       "    </tr>\n",
       "  </tbody>\n",
       "</table>\n",
       "</div>"
      ],
      "text/plain": [
       "         site                                           url_link  \\\n",
       "1   3D Juegos  https://www.3djuegos.com/juegos/analisis/37840...   \n",
       "8   3D Juegos  https://www.3djuegos.com/juegos/analisis/37142...   \n",
       "35  3D Juegos  https://www.3djuegos.com/juegos/analisis/36709...   \n",
       "42  3D Juegos  https://www.3djuegos.com/juegos/analisis/37571...   \n",
       "43  3D Juegos  https://www.3djuegos.com/juegos/analisis/26242...   \n",
       "\n",
       "                 author                                               game  \\\n",
       "1         Sergio Martín                               Tropico 6 - Análisis   \n",
       "8        Carlos Gallego                                Maquette - Análisis   \n",
       "35       Carlos Gallego                         Call of the Sea - Análisis   \n",
       "42       Alberto Pastor  Scott Pilgrim contra el Mundo: El Videojuego -...   \n",
       "43  Álvaro C. / Toni P.                          Cyberpunk 2077 - Análisis   \n",
       "\n",
       "   company genre                            platform  \\\n",
       "1     None  None        PC PS4 XOne Switch Mac Linux   \n",
       "8     None  None                          PC PS4 PS5   \n",
       "35    None  None                     PC XSeries XOne   \n",
       "42    None  None  PC PS4 XOne Switch PS3 X360 Stadia   \n",
       "43    None  None      PC PS4 PS5 XSeries XOne Stadia   \n",
       "\n",
       "                                                 text  score  \n",
       "1   Gobierna una isla paradisíaca vayas donde vaya...    7.0  \n",
       "8   Maquette apela a los sentimientos de quien sos...    7.0  \n",
       "35  Call of the Sea se aleja de la visión oscurant...    7.0  \n",
       "42  Diez años después de su lanzamiento original y...    7.0  \n",
       "43  Esperado o no, Cyberpunk 2077 es un videojuego...    7.0  "
      ]
     },
     "execution_count": 3,
     "metadata": {},
     "output_type": "execute_result"
    }
   ],
   "source": [
    "# 16/03/2021 Error extracción text en Gamereactor\n",
    "\n",
    "test2021[test2021['site'] == '3D Juegos'].head()"
   ]
  },
  {
   "cell_type": "code",
   "execution_count": 48,
   "metadata": {},
   "outputs": [
    {
     "data": {
      "text/plain": [
       "b' <!DOCTYPE html>\\n<html lang=\"es\">\\n<head>\\n\\n\\n<script'"
      ]
     },
     "execution_count": 48,
     "metadata": {},
     "output_type": "execute_result"
    }
   ],
   "source": [
    "review_url = 'https://www.gamereactor.es/squad-analisis/'\n",
    "#review_url = 'https://www.gamereactor.es/star-wars-squadrons-analisis'\n",
    "review_html = requests.get(review_url).content\n",
    "review_html[:50]"
   ]
  },
  {
   "cell_type": "code",
   "execution_count": 49,
   "metadata": {},
   "outputs": [],
   "source": [
    "soup = BeautifulSoup(review_html, 'lxml')"
   ]
  },
  {
   "cell_type": "code",
   "execution_count": 50,
   "metadata": {},
   "outputs": [],
   "source": [
    "##Reparación 16/03/2021: se añae nuvo div, 'id: 'page0' en la extracción de article\n",
    "\n",
    "article = soup.find('div', {'class': 'breadtext'}).find('div', {'id': 'page0'})\n",
    "p_tags = article.find_all('p')\n",
    "review = [tag.text for tag in p_tags]\n",
    "review = ' '.join(review)"
   ]
  },
  {
   "cell_type": "code",
   "execution_count": 52,
   "metadata": {},
   "outputs": [
    {
     "data": {
      "text/plain": [
       "'Anda que no ha llovido desde que jugamos Squad por'"
      ]
     },
     "execution_count": 52,
     "metadata": {},
     "output_type": "execute_result"
    }
   ],
   "source": [
    "review[0:50]"
   ]
  },
  {
   "cell_type": "code",
   "execution_count": 53,
   "metadata": {},
   "outputs": [
    {
     "data": {
      "text/html": [
       "<div>\n",
       "<style scoped>\n",
       "    .dataframe tbody tr th:only-of-type {\n",
       "        vertical-align: middle;\n",
       "    }\n",
       "\n",
       "    .dataframe tbody tr th {\n",
       "        vertical-align: top;\n",
       "    }\n",
       "\n",
       "    .dataframe thead th {\n",
       "        text-align: right;\n",
       "    }\n",
       "</style>\n",
       "<table border=\"1\" class=\"dataframe\">\n",
       "  <thead>\n",
       "    <tr style=\"text-align: right;\">\n",
       "      <th></th>\n",
       "      <th>site</th>\n",
       "      <th>url_link</th>\n",
       "      <th>author</th>\n",
       "      <th>game</th>\n",
       "      <th>company</th>\n",
       "      <th>genre</th>\n",
       "      <th>platform</th>\n",
       "      <th>text</th>\n",
       "      <th>score</th>\n",
       "    </tr>\n",
       "  </thead>\n",
       "  <tbody>\n",
       "  </tbody>\n",
       "</table>\n",
       "</div>"
      ],
      "text/plain": [
       "Empty DataFrame\n",
       "Columns: [site, url_link, author, game, company, genre, platform, text, score]\n",
       "Index: []"
      ]
     },
     "execution_count": 53,
     "metadata": {},
     "output_type": "execute_result"
    }
   ],
   "source": [
    "# 16/03/2021 Error extracción todo en 3D Juegos\n",
    "\n",
    "test2021[test2021['site'] == '3D Juegos'].head()"
   ]
  },
  {
   "cell_type": "code",
   "execution_count": 58,
   "metadata": {},
   "outputs": [
    {
     "data": {
      "text/plain": [
       "b\"<!DOCTYPE html>\\n<html lang='es'>\\n<head>\\n<meta prop\""
      ]
     },
     "execution_count": 58,
     "metadata": {},
     "output_type": "execute_result"
    }
   ],
   "source": [
    "review_url = 'https://www.3djuegos.com/juegos/analisis/37141/0/maquette/'\n",
    "html = requests.get(review_url).content\n",
    "html[:50]"
   ]
  },
  {
   "cell_type": "code",
   "execution_count": 62,
   "metadata": {},
   "outputs": [],
   "source": [
    "soup = BeautifulSoup(html, 'lxml')\n",
    "p_tags = soup.find('div', {'class': 'lh27 url_lineas article_body0 mar_temp_0'}).find_all('p')\n"
   ]
  },
  {
   "cell_type": "code",
   "execution_count": 66,
   "metadata": {},
   "outputs": [
    {
     "data": {
      "text/plain": [
       "'Maquette apela a los sentimientos de quien sostien'"
      ]
     },
     "execution_count": 66,
     "metadata": {},
     "output_type": "execute_result"
    }
   ],
   "source": [
    "review = [tag.text for tag in p_tags]\n",
    "review = ' '.join(review)\n",
    "review[0:50]"
   ]
  },
  {
   "cell_type": "code",
   "execution_count": 65,
   "metadata": {},
   "outputs": [
    {
     "data": {
      "text/plain": [
       "'Carlos Gallego'"
      ]
     },
     "execution_count": 65,
     "metadata": {},
     "output_type": "execute_result"
    }
   ],
   "source": [
    "author = soup.find('a', {'class': 'c7 n'}).text\n",
    "author"
   ]
  },
  {
   "cell_type": "code",
   "execution_count": 68,
   "metadata": {},
   "outputs": [
    {
     "data": {
      "text/plain": [
       "'PC PS4 PS5'"
      ]
     },
     "execution_count": 68,
     "metadata": {},
     "output_type": "execute_result"
    }
   ],
   "source": [
    "tdjuegos_platform(soup)"
   ]
  },
  {
   "cell_type": "code",
   "execution_count": 69,
   "metadata": {},
   "outputs": [
    {
     "ename": "AttributeError",
     "evalue": "'NoneType' object has no attribute 'text'",
     "output_type": "error",
     "traceback": [
      "\u001b[0;31m---------------------------------------------------------------------------\u001b[0m",
      "\u001b[0;31mAttributeError\u001b[0m                            Traceback (most recent call last)",
      "\u001b[0;32m<ipython-input-69-84954bab332b>\u001b[0m in \u001b[0;36m<module>\u001b[0;34m\u001b[0m\n\u001b[0;32m----> 1\u001b[0;31m \u001b[0mscore\u001b[0m \u001b[0;34m=\u001b[0m \u001b[0msoup\u001b[0m\u001b[0;34m.\u001b[0m\u001b[0mfind\u001b[0m\u001b[0;34m(\u001b[0m\u001b[0;34m'div'\u001b[0m\u001b[0;34m,\u001b[0m \u001b[0;34m{\u001b[0m\u001b[0;34m'class'\u001b[0m\u001b[0;34m:\u001b[0m \u001b[0;34m'nota_ana_3 fftext b nota_interior2'\u001b[0m\u001b[0;34m}\u001b[0m\u001b[0;34m)\u001b[0m\u001b[0;34m.\u001b[0m\u001b[0mtext\u001b[0m\u001b[0;34m\u001b[0m\u001b[0;34m\u001b[0m\u001b[0m\n\u001b[0m\u001b[1;32m      2\u001b[0m \u001b[0mscore\u001b[0m \u001b[0;34m=\u001b[0m \u001b[0mscore\u001b[0m\u001b[0;34m.\u001b[0m\u001b[0mreplace\u001b[0m\u001b[0;34m(\u001b[0m\u001b[0;34m','\u001b[0m\u001b[0;34m,\u001b[0m\u001b[0;34m'.'\u001b[0m\u001b[0;34m)\u001b[0m\u001b[0;34m\u001b[0m\u001b[0;34m\u001b[0m\u001b[0m\n\u001b[1;32m      3\u001b[0m \u001b[0mscore\u001b[0m \u001b[0;34m=\u001b[0m \u001b[0mfloat\u001b[0m\u001b[0;34m(\u001b[0m\u001b[0mscore\u001b[0m\u001b[0;34m)\u001b[0m\u001b[0;34m\u001b[0m\u001b[0;34m\u001b[0m\u001b[0m\n",
      "\u001b[0;31mAttributeError\u001b[0m: 'NoneType' object has no attribute 'text'"
     ]
    }
   ],
   "source": [
    "# 16/03/2021 Error score: Desde el 15 de diciembre de 2020, 3D Juegos no utiliza notas.\n",
    "\n",
    "score = soup.find('div', {'class': 'nota_ana_3 fftext b nota_interior2'}).text\n",
    "score = score.replace(',','.')\n",
    "score = float(score)"
   ]
  },
  {
   "cell_type": "code",
   "execution_count": 70,
   "metadata": {},
   "outputs": [
    {
     "data": {
      "text/plain": [
       "b\"<!DOCTYPE html>\\n<html lang='es'>\\n<head>\\n<meta prop\""
      ]
     },
     "execution_count": 70,
     "metadata": {},
     "output_type": "execute_result"
    }
   ],
   "source": [
    "# 16/03/2021 Error links: 3D Juegos ha cambiado la url de su landing de análisis. Reparción\n",
    "\n",
    "''' Integrado en la función de links\n",
    "    for i in range(pages):\n",
    "        if i == 0:\n",
    "            url = f\"https://www.3djuegos.com/novedades/analisis/juegos/0f0f0f0/fecha/\"\n",
    "        else:\n",
    "            url = f\"https://www.3djuegos.com/novedades/analisis/juegos/{i}pf0f0f0/fecha/\"'''\n",
    "\n",
    "review_url = 'https://www.3djuegos.com/novedades/analisis/juegos/0f0f0f0/fecha/'\n",
    "html = requests.get(review_url).content\n",
    "html[:50]"
   ]
  },
  {
   "cell_type": "code",
   "execution_count": null,
   "metadata": {},
   "outputs": [],
   "source": []
  },
  {
   "cell_type": "code",
   "execution_count": 76,
   "metadata": {},
   "outputs": [],
   "source": [
    "def tdjuegos_link_retrieve(num_pages):\n",
    "    links = []\n",
    "    titles = []\n",
    "    \n",
    "    # pages parser\n",
    "    for i in range(num_pages):\n",
    "        url = f\"https://www.3djuegos.com/novedades/analisis/juegos/{i+100}pf0f0f0/fecha/\"\n",
    "\n",
    "        # building soup    \n",
    "        html = requests.get(url).content\n",
    "        soup = BeautifulSoup(html, 'lxml')\n",
    "        articles = soup.find_all('h2')\n",
    "\n",
    "        # links retrieve\n",
    "        for a in articles:\n",
    "            links.append(a.find('a')['href']) \n",
    "            titles.append(a.find('a')['title'])\n",
    "    \n",
    "    #Deleting non review links\n",
    "#    for link in links:\n",
    "#        if 'analisis' not in link:\n",
    "#            links.remove(link)\n",
    "                \n",
    "    return links, titles"
   ]
  },
  {
   "cell_type": "markdown",
   "metadata": {},
   "source": [
    "## Merge new and old scored texts"
   ]
  },
  {
   "cell_type": "code",
   "execution_count": 2,
   "metadata": {},
   "outputs": [],
   "source": [
    "new_scored_texts = pd.read_csv('../new_scored_texts.csv')"
   ]
  },
  {
   "cell_type": "code",
   "execution_count": 3,
   "metadata": {},
   "outputs": [],
   "source": [
    "scored_text_analy = pd.read_csv('../data/scored_texts_analytics.csv')"
   ]
  },
  {
   "cell_type": "code",
   "execution_count": 4,
   "metadata": {},
   "outputs": [],
   "source": [
    "updated_scored_texts = pd.concat([new_scored_texts, scored_text_analy], ignore_index=True, sort=False)"
   ]
  },
  {
   "cell_type": "code",
   "execution_count": 5,
   "metadata": {},
   "outputs": [
    {
     "data": {
      "text/plain": [
       "16068"
      ]
     },
     "execution_count": 5,
     "metadata": {},
     "output_type": "execute_result"
    }
   ],
   "source": [
    "len(updated_scored_texts)"
   ]
  },
  {
   "cell_type": "code",
   "execution_count": 6,
   "metadata": {},
   "outputs": [
    {
     "data": {
      "text/html": [
       "<div>\n",
       "<style scoped>\n",
       "    .dataframe tbody tr th:only-of-type {\n",
       "        vertical-align: middle;\n",
       "    }\n",
       "\n",
       "    .dataframe tbody tr th {\n",
       "        vertical-align: top;\n",
       "    }\n",
       "\n",
       "    .dataframe thead th {\n",
       "        text-align: right;\n",
       "    }\n",
       "</style>\n",
       "<table border=\"1\" class=\"dataframe\">\n",
       "  <thead>\n",
       "    <tr style=\"text-align: right;\">\n",
       "      <th></th>\n",
       "      <th>site</th>\n",
       "      <th>author</th>\n",
       "      <th>game</th>\n",
       "      <th>score</th>\n",
       "      <th>score_adj</th>\n",
       "      <th>stars_mean</th>\n",
       "      <th>company</th>\n",
       "      <th>platform</th>\n",
       "      <th>genre</th>\n",
       "      <th>score_deviation</th>\n",
       "    </tr>\n",
       "  </thead>\n",
       "  <tbody>\n",
       "    <tr>\n",
       "      <th>0</th>\n",
       "      <td>meristation</td>\n",
       "      <td>Rubén Vázquez</td>\n",
       "      <td>Peaky Blinders: Mastermind</td>\n",
       "      <td>5.7</td>\n",
       "      <td>2.85</td>\n",
       "      <td>3.00</td>\n",
       "      <td>Curve Digital</td>\n",
       "      <td>PC PS4 XBO NSW</td>\n",
       "      <td>Aventura, Puzle</td>\n",
       "      <td>5.263158</td>\n",
       "    </tr>\n",
       "    <tr>\n",
       "      <th>1</th>\n",
       "      <td>meristation</td>\n",
       "      <td>Alejandro Castillo - @acastillo117</td>\n",
       "      <td>Tony Hawk's Pro Skater 1+2</td>\n",
       "      <td>8.5</td>\n",
       "      <td>4.25</td>\n",
       "      <td>3.80</td>\n",
       "      <td>Activision</td>\n",
       "      <td>PC XBO PS4 PS5 XBS NSW</td>\n",
       "      <td>Deportes</td>\n",
       "      <td>-10.588235</td>\n",
       "    </tr>\n",
       "    <tr>\n",
       "      <th>2</th>\n",
       "      <td>Vandal</td>\n",
       "      <td>Jorge Cano</td>\n",
       "      <td>Observer: System Redux - Análisis</td>\n",
       "      <td>7.8</td>\n",
       "      <td>3.90</td>\n",
       "      <td>3.50</td>\n",
       "      <td>Bloober Team</td>\n",
       "      <td>Xbox Series X/S PC PS5</td>\n",
       "      <td>Aventura narrativa Terror</td>\n",
       "      <td>-10.256410</td>\n",
       "    </tr>\n",
       "    <tr>\n",
       "      <th>3</th>\n",
       "      <td>meristation</td>\n",
       "      <td>Rocío Torrejón\\nSeraPhiim_</td>\n",
       "      <td>Skul: The Hero Slayer</td>\n",
       "      <td>8.3</td>\n",
       "      <td>4.15</td>\n",
       "      <td>4.14</td>\n",
       "      <td>Neowiz</td>\n",
       "      <td>PC NSW</td>\n",
       "      <td>Plataformas, Acción</td>\n",
       "      <td>-0.240964</td>\n",
       "    </tr>\n",
       "    <tr>\n",
       "      <th>4</th>\n",
       "      <td>Gamereactor</td>\n",
       "      <td>Alberto Garrido</td>\n",
       "      <td>Baldur's Gate III - Análisis Early Access</td>\n",
       "      <td>8.0</td>\n",
       "      <td>4.00</td>\n",
       "      <td>3.60</td>\n",
       "      <td>None</td>\n",
       "      <td>PC, Stadia</td>\n",
       "      <td>RPG</td>\n",
       "      <td>-10.000000</td>\n",
       "    </tr>\n",
       "  </tbody>\n",
       "</table>\n",
       "</div>"
      ],
      "text/plain": [
       "          site                              author  \\\n",
       "0  meristation                       Rubén Vázquez   \n",
       "1  meristation  Alejandro Castillo - @acastillo117   \n",
       "2       Vandal                          Jorge Cano   \n",
       "3  meristation          Rocío Torrejón\\nSeraPhiim_   \n",
       "4  Gamereactor                     Alberto Garrido   \n",
       "\n",
       "                                        game  score  score_adj  stars_mean  \\\n",
       "0                 Peaky Blinders: Mastermind    5.7       2.85        3.00   \n",
       "1                 Tony Hawk's Pro Skater 1+2    8.5       4.25        3.80   \n",
       "2          Observer: System Redux - Análisis    7.8       3.90        3.50   \n",
       "3                      Skul: The Hero Slayer    8.3       4.15        4.14   \n",
       "4  Baldur's Gate III - Análisis Early Access    8.0       4.00        3.60   \n",
       "\n",
       "         company                platform  \\\n",
       "0  Curve Digital          PC PS4 XBO NSW   \n",
       "1     Activision  PC XBO PS4 PS5 XBS NSW   \n",
       "2   Bloober Team  Xbox Series X/S PC PS5   \n",
       "3         Neowiz                  PC NSW   \n",
       "4           None              PC, Stadia   \n",
       "\n",
       "                                     genre  score_deviation  \n",
       "0      Aventura, Puzle                             5.263158  \n",
       "1             Deportes                           -10.588235  \n",
       "2                Aventura narrativa Terror       -10.256410  \n",
       "3  Plataformas, Acción                            -0.240964  \n",
       "4                                      RPG       -10.000000  "
      ]
     },
     "execution_count": 6,
     "metadata": {},
     "output_type": "execute_result"
    }
   ],
   "source": [
    "updated_scored_texts.head()"
   ]
  },
  {
   "cell_type": "code",
   "execution_count": 9,
   "metadata": {},
   "outputs": [
    {
     "data": {
      "text/plain": [
       "16024"
      ]
     },
     "execution_count": 9,
     "metadata": {},
     "output_type": "execute_result"
    }
   ],
   "source": [
    "len(updated_scored_texts.drop_duplicates())"
   ]
  },
  {
   "cell_type": "code",
   "execution_count": 8,
   "metadata": {},
   "outputs": [
    {
     "data": {
      "text/html": [
       "<div>\n",
       "<style scoped>\n",
       "    .dataframe tbody tr th:only-of-type {\n",
       "        vertical-align: middle;\n",
       "    }\n",
       "\n",
       "    .dataframe tbody tr th {\n",
       "        vertical-align: top;\n",
       "    }\n",
       "\n",
       "    .dataframe thead th {\n",
       "        text-align: right;\n",
       "    }\n",
       "</style>\n",
       "<table border=\"1\" class=\"dataframe\">\n",
       "  <thead>\n",
       "    <tr style=\"text-align: right;\">\n",
       "      <th></th>\n",
       "      <th>site</th>\n",
       "      <th>author</th>\n",
       "      <th>game</th>\n",
       "      <th>score</th>\n",
       "      <th>score_adj</th>\n",
       "      <th>stars_mean</th>\n",
       "      <th>company</th>\n",
       "      <th>platform</th>\n",
       "      <th>genre</th>\n",
       "      <th>score_deviation</th>\n",
       "    </tr>\n",
       "  </thead>\n",
       "  <tbody>\n",
       "    <tr>\n",
       "      <th>63</th>\n",
       "      <td>revogamers</td>\n",
       "      <td>Marcos Catalán</td>\n",
       "      <td>Análisis de FEZ</td>\n",
       "      <td>9.0</td>\n",
       "      <td>4.50</td>\n",
       "      <td>3.67</td>\n",
       "      <td>Polytron</td>\n",
       "      <td>Nintendo Switch</td>\n",
       "      <td>Aventura, Otros, Plataformas, Puzle</td>\n",
       "      <td>-18.444444</td>\n",
       "    </tr>\n",
       "    <tr>\n",
       "      <th>85</th>\n",
       "      <td>revogamers</td>\n",
       "      <td>Marcos Catalán</td>\n",
       "      <td>Análisis de FEZ</td>\n",
       "      <td>9.0</td>\n",
       "      <td>4.50</td>\n",
       "      <td>3.67</td>\n",
       "      <td>Polytron</td>\n",
       "      <td>Nintendo Switch</td>\n",
       "      <td>Aventura, Otros, Plataformas, Puzle</td>\n",
       "      <td>-18.444444</td>\n",
       "    </tr>\n",
       "    <tr>\n",
       "      <th>139</th>\n",
       "      <td>revogamers</td>\n",
       "      <td>Marcos Catalán</td>\n",
       "      <td>Análisis de FEZ</td>\n",
       "      <td>9.0</td>\n",
       "      <td>4.50</td>\n",
       "      <td>3.67</td>\n",
       "      <td>Polytron</td>\n",
       "      <td>Nintendo Switch</td>\n",
       "      <td>Aventura, Otros, Plataformas, Puzle</td>\n",
       "      <td>-18.444444</td>\n",
       "    </tr>\n",
       "    <tr>\n",
       "      <th>198</th>\n",
       "      <td>revogamers</td>\n",
       "      <td>Marcos Catalán</td>\n",
       "      <td>Análisis de FEZ</td>\n",
       "      <td>9.0</td>\n",
       "      <td>4.50</td>\n",
       "      <td>3.67</td>\n",
       "      <td>Polytron</td>\n",
       "      <td>Nintendo Switch</td>\n",
       "      <td>Aventura, Otros, Plataformas, Puzle</td>\n",
       "      <td>-18.444444</td>\n",
       "    </tr>\n",
       "    <tr>\n",
       "      <th>383</th>\n",
       "      <td>revogamers</td>\n",
       "      <td>Marcos Catalán</td>\n",
       "      <td>Análisis de FEZ</td>\n",
       "      <td>9.0</td>\n",
       "      <td>4.50</td>\n",
       "      <td>3.67</td>\n",
       "      <td>Polytron</td>\n",
       "      <td>Nintendo Switch</td>\n",
       "      <td>Aventura, Otros, Plataformas, Puzle</td>\n",
       "      <td>-18.444444</td>\n",
       "    </tr>\n",
       "    <tr>\n",
       "      <th>...</th>\n",
       "      <td>...</td>\n",
       "      <td>...</td>\n",
       "      <td>...</td>\n",
       "      <td>...</td>\n",
       "      <td>...</td>\n",
       "      <td>...</td>\n",
       "      <td>...</td>\n",
       "      <td>...</td>\n",
       "      <td>...</td>\n",
       "      <td>...</td>\n",
       "    </tr>\n",
       "    <tr>\n",
       "      <th>14620</th>\n",
       "      <td>meristation</td>\n",
       "      <td>Salva Fernàndez</td>\n",
       "      <td>Titanfall</td>\n",
       "      <td>9.3</td>\n",
       "      <td>4.65</td>\n",
       "      <td>3.81</td>\n",
       "      <td>None</td>\n",
       "      <td>PC 360 Xbox One</td>\n",
       "      <td>Acción, First Person Shooter</td>\n",
       "      <td>-18.064516</td>\n",
       "    </tr>\n",
       "    <tr>\n",
       "      <th>7341</th>\n",
       "      <td>meristation</td>\n",
       "      <td>Salva Fernàndez</td>\n",
       "      <td>Ultimate Marvel vs. Capcom 3</td>\n",
       "      <td>7.0</td>\n",
       "      <td>3.50</td>\n",
       "      <td>3.33</td>\n",
       "      <td>None</td>\n",
       "      <td>PS3 360</td>\n",
       "      <td>Acción, Arcade</td>\n",
       "      <td>-4.857143</td>\n",
       "    </tr>\n",
       "    <tr>\n",
       "      <th>13961</th>\n",
       "      <td>meristation</td>\n",
       "      <td>Salva Fernàndez</td>\n",
       "      <td>Ultimate Marvel vs. Capcom 3</td>\n",
       "      <td>7.0</td>\n",
       "      <td>3.50</td>\n",
       "      <td>3.33</td>\n",
       "      <td>None</td>\n",
       "      <td>PS3 360</td>\n",
       "      <td>Acción, Arcade</td>\n",
       "      <td>-4.857143</td>\n",
       "    </tr>\n",
       "    <tr>\n",
       "      <th>11136</th>\n",
       "      <td>meristation</td>\n",
       "      <td>Will van Dijk</td>\n",
       "      <td>de Blob 2: The Underground</td>\n",
       "      <td>7.0</td>\n",
       "      <td>3.50</td>\n",
       "      <td>3.30</td>\n",
       "      <td>None</td>\n",
       "      <td>360 PS3 Wii</td>\n",
       "      <td>Acción, Aventura</td>\n",
       "      <td>-5.714286</td>\n",
       "    </tr>\n",
       "    <tr>\n",
       "      <th>7956</th>\n",
       "      <td>meristation</td>\n",
       "      <td>Will van Dijk</td>\n",
       "      <td>de Blob 2: The Underground</td>\n",
       "      <td>7.0</td>\n",
       "      <td>3.50</td>\n",
       "      <td>3.30</td>\n",
       "      <td>None</td>\n",
       "      <td>360 PS3 Wii</td>\n",
       "      <td>Acción, Aventura</td>\n",
       "      <td>-5.714286</td>\n",
       "    </tr>\n",
       "  </tbody>\n",
       "</table>\n",
       "<p>81 rows × 10 columns</p>\n",
       "</div>"
      ],
      "text/plain": [
       "              site           author                          game  score  \\\n",
       "63      revogamers   Marcos Catalán               Análisis de FEZ    9.0   \n",
       "85      revogamers   Marcos Catalán               Análisis de FEZ    9.0   \n",
       "139     revogamers   Marcos Catalán               Análisis de FEZ    9.0   \n",
       "198     revogamers   Marcos Catalán               Análisis de FEZ    9.0   \n",
       "383     revogamers   Marcos Catalán               Análisis de FEZ    9.0   \n",
       "...            ...              ...                           ...    ...   \n",
       "14620  meristation  Salva Fernàndez                     Titanfall    9.3   \n",
       "7341   meristation  Salva Fernàndez  Ultimate Marvel vs. Capcom 3    7.0   \n",
       "13961  meristation  Salva Fernàndez  Ultimate Marvel vs. Capcom 3    7.0   \n",
       "11136  meristation    Will van Dijk    de Blob 2: The Underground    7.0   \n",
       "7956   meristation    Will van Dijk    de Blob 2: The Underground    7.0   \n",
       "\n",
       "       score_adj  stars_mean   company         platform  \\\n",
       "63          4.50        3.67  Polytron  Nintendo Switch   \n",
       "85          4.50        3.67  Polytron  Nintendo Switch   \n",
       "139         4.50        3.67  Polytron  Nintendo Switch   \n",
       "198         4.50        3.67  Polytron  Nintendo Switch   \n",
       "383         4.50        3.67  Polytron  Nintendo Switch   \n",
       "...          ...         ...       ...              ...   \n",
       "14620       4.65        3.81      None  PC 360 Xbox One   \n",
       "7341        3.50        3.33      None          PS3 360   \n",
       "13961       3.50        3.33      None          PS3 360   \n",
       "11136       3.50        3.30      None      360 PS3 Wii   \n",
       "7956        3.50        3.30      None      360 PS3 Wii   \n",
       "\n",
       "                                                  genre  score_deviation  \n",
       "63                  Aventura, Otros, Plataformas, Puzle       -18.444444  \n",
       "85                  Aventura, Otros, Plataformas, Puzle       -18.444444  \n",
       "139                 Aventura, Otros, Plataformas, Puzle       -18.444444  \n",
       "198                 Aventura, Otros, Plataformas, Puzle       -18.444444  \n",
       "383                 Aventura, Otros, Plataformas, Puzle       -18.444444  \n",
       "...                                                 ...              ...  \n",
       "14620  Acción, First Person Shooter                           -18.064516  \n",
       "7341                 Acción, Arcade                            -4.857143  \n",
       "13961                Acción, Arcade                            -4.857143  \n",
       "11136              Acción, Aventura                            -5.714286  \n",
       "7956               Acción, Aventura                            -5.714286  \n",
       "\n",
       "[81 rows x 10 columns]"
      ]
     },
     "execution_count": 8,
     "metadata": {},
     "output_type": "execute_result"
    }
   ],
   "source": [
    "updated_scored_texts[updated_scored_texts.duplicated(keep=False)].sort_values(by=['game'])"
   ]
  },
  {
   "cell_type": "code",
   "execution_count": null,
   "metadata": {},
   "outputs": [],
   "source": []
  },
  {
   "cell_type": "code",
   "execution_count": 14,
   "metadata": {},
   "outputs": [],
   "source": [
    "#updated_scored_texts.drop_duplicates().to_csv('../updated_scored_texts.csv', index=False)"
   ]
  },
  {
   "cell_type": "code",
   "execution_count": null,
   "metadata": {},
   "outputs": [],
   "source": []
  },
  {
   "cell_type": "code",
   "execution_count": null,
   "metadata": {},
   "outputs": [],
   "source": []
  }
 ],
 "metadata": {
  "kernelspec": {
   "display_name": "Python [conda env:lab_env]",
   "language": "python",
   "name": "conda-env-lab_env-py"
  },
  "language_info": {
   "codemirror_mode": {
    "name": "ipython",
    "version": 3
   },
   "file_extension": ".py",
   "mimetype": "text/x-python",
   "name": "python",
   "nbconvert_exporter": "python",
   "pygments_lexer": "ipython3",
   "version": "3.7.10"
  }
 },
 "nbformat": 4,
 "nbformat_minor": 4
}
