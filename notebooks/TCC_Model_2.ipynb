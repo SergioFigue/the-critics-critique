{
 "cells": [
  {
   "cell_type": "markdown",
   "metadata": {},
   "source": [
    "# The Critics Critique ML model 1 "
   ]
  },
  {
   "cell_type": "markdown",
   "metadata": {},
   "source": [
    "## 0. import libraries"
   ]
  },
  {
   "cell_type": "code",
   "execution_count": 15,
   "metadata": {},
   "outputs": [],
   "source": [
    "import pandas as pd\n",
    "import numpy as np\n",
    "from transformers import pipeline\n",
    "import torch\n",
    "from transformers import AutoTokenizer, AutoModelForSequenceClassification\n",
    "from sklearn.model_selection import train_test_split"
   ]
  },
  {
   "cell_type": "markdown",
   "metadata": {},
   "source": [
    "## 1. import and slice dataset "
   ]
  },
  {
   "cell_type": "code",
   "execution_count": 5,
   "metadata": {},
   "outputs": [],
   "source": [
    "all_sites = pd.read_csv('../data/all_sites.csv')"
   ]
  },
  {
   "cell_type": "code",
   "execution_count": 6,
   "metadata": {},
   "outputs": [
    {
     "data": {
      "text/plain": [
       "15551"
      ]
     },
     "execution_count": 6,
     "metadata": {},
     "output_type": "execute_result"
    }
   ],
   "source": [
    "len(all_sites)"
   ]
  },
  {
   "cell_type": "code",
   "execution_count": 7,
   "metadata": {},
   "outputs": [],
   "source": [
    "all_test = all_sites[0:100]"
   ]
  },
  {
   "cell_type": "code",
   "execution_count": 8,
   "metadata": {},
   "outputs": [
    {
     "data": {
      "text/html": [
       "<div>\n",
       "<style scoped>\n",
       "    .dataframe tbody tr th:only-of-type {\n",
       "        vertical-align: middle;\n",
       "    }\n",
       "\n",
       "    .dataframe tbody tr th {\n",
       "        vertical-align: top;\n",
       "    }\n",
       "\n",
       "    .dataframe thead th {\n",
       "        text-align: right;\n",
       "    }\n",
       "</style>\n",
       "<table border=\"1\" class=\"dataframe\">\n",
       "  <thead>\n",
       "    <tr style=\"text-align: right;\">\n",
       "      <th></th>\n",
       "      <th>site</th>\n",
       "      <th>url_link</th>\n",
       "      <th>author</th>\n",
       "      <th>game</th>\n",
       "      <th>company</th>\n",
       "      <th>genre</th>\n",
       "      <th>platform</th>\n",
       "      <th>text</th>\n",
       "      <th>score</th>\n",
       "    </tr>\n",
       "  </thead>\n",
       "  <tbody>\n",
       "    <tr>\n",
       "      <th>0</th>\n",
       "      <td>meristation</td>\n",
       "      <td>https://as.com/meristation/2008/12/22/analisis...</td>\n",
       "      <td>Javier de Pascual</td>\n",
       "      <td>Metal Gear Solid Mobile</td>\n",
       "      <td>Konami</td>\n",
       "      <td>Acción, Tactical</td>\n",
       "      <td>NGE</td>\n",
       "      <td>Por alguna extraña razón, cuando el jugón trad...</td>\n",
       "      <td>8.5</td>\n",
       "    </tr>\n",
       "    <tr>\n",
       "      <th>1</th>\n",
       "      <td>meristation</td>\n",
       "      <td>https://as.com/meristation/2012/12/19/analisis...</td>\n",
       "      <td>Pablo González</td>\n",
       "      <td>THE DENPA MEN: They Came By Wave</td>\n",
       "      <td>None</td>\n",
       "      <td>RPG</td>\n",
       "      <td>3DS</td>\n",
       "      <td>Nintendo 3DS ha apostado desde su primer día e...</td>\n",
       "      <td>7.2</td>\n",
       "    </tr>\n",
       "    <tr>\n",
       "      <th>2</th>\n",
       "      <td>meristation</td>\n",
       "      <td>https://as.com/meristation/2019/09/03/analisis...</td>\n",
       "      <td>David Arroyo</td>\n",
       "      <td>Telling Lies</td>\n",
       "      <td>Annapurna Interactive</td>\n",
       "      <td>Aventura</td>\n",
       "      <td>PC PS4 XBO NSW</td>\n",
       "      <td>Hablar de Telling Lies es un poco complicado. ...</td>\n",
       "      <td>8.0</td>\n",
       "    </tr>\n",
       "  </tbody>\n",
       "</table>\n",
       "</div>"
      ],
      "text/plain": [
       "          site                                           url_link  \\\n",
       "0  meristation  https://as.com/meristation/2008/12/22/analisis...   \n",
       "1  meristation  https://as.com/meristation/2012/12/19/analisis...   \n",
       "2  meristation  https://as.com/meristation/2019/09/03/analisis...   \n",
       "\n",
       "              author                              game                company  \\\n",
       "0  Javier de Pascual           Metal Gear Solid Mobile                 Konami   \n",
       "1     Pablo González  THE DENPA MEN: They Came By Wave                   None   \n",
       "2       David Arroyo                      Telling Lies  Annapurna Interactive   \n",
       "\n",
       "                                  genre        platform  \\\n",
       "0  Acción, Tactical                                 NGE   \n",
       "1               RPG                                 3DS   \n",
       "2          Aventura                      PC PS4 XBO NSW   \n",
       "\n",
       "                                                text  score  \n",
       "0  Por alguna extraña razón, cuando el jugón trad...    8.5  \n",
       "1  Nintendo 3DS ha apostado desde su primer día e...    7.2  \n",
       "2  Hablar de Telling Lies es un poco complicado. ...    8.0  "
      ]
     },
     "execution_count": 8,
     "metadata": {},
     "output_type": "execute_result"
    }
   ],
   "source": [
    "all_test.head(3)"
   ]
  },
  {
   "cell_type": "markdown",
   "metadata": {},
   "source": [
    "## 2.2 Classifier with Transformers nlptown/bert-base-multilingual-uncased-sentiment"
   ]
  },
  {
   "cell_type": "code",
   "execution_count": 5,
   "metadata": {},
   "outputs": [
    {
     "data": {
      "text/plain": [
       "'from adaptnlp import EasySequenceClassifier\\n\\nclassifier = EasySequenceClassifier()\\n\\nsentences = classifier.tag_text(\\n    text=text_splitted,\\n    model_name_or_path=\"nlptown/bert-base-multilingual-uncased-sentiment\",\\n    padding=\\'longest\\',\\n    mini_batch_size=4\\n)\\n\\nprint(\"Tag Score Outputs:\\n\")\\nfor sentence in sentences:\\n    print(f\"Fragment {sentences.index(sentence)}: {sentence.labels}\")'"
      ]
     },
     "execution_count": 5,
     "metadata": {},
     "output_type": "execute_result"
    }
   ],
   "source": [
    "# This let us see prob for every batch 1-5\n",
    "\n",
    "'''from adaptnlp import EasySequenceClassifier\n",
    "\n",
    "classifier = EasySequenceClassifier()\n",
    "\n",
    "sentences = classifier.tag_text(\n",
    "    text=text_splitted,\n",
    "    model_name_or_path=\"nlptown/bert-base-multilingual-uncased-sentiment\",\n",
    "    padding='longest',\n",
    "    mini_batch_size=4\n",
    ")\n",
    "\n",
    "print(\"Tag Score Outputs:\\n\")\n",
    "for sentence in sentences:\n",
    "    print(f\"Fragment {sentences.index(sentence)}: {sentence.labels}\")'''"
   ]
  },
  {
   "cell_type": "markdown",
   "metadata": {},
   "source": [
    "### Sentiment proccesing function Bert base Multilingual Uncased "
   ]
  },
  {
   "cell_type": "code",
   "execution_count": 10,
   "metadata": {},
   "outputs": [],
   "source": [
    "def sentiment_analysis_ind(df):\n",
    "    global_stars = []\n",
    "    \n",
    "    # Select model\n",
    "    nlp_model = 'nlptown/bert-base-multilingual-uncased-sentiment'\n",
    "    tokenizer = AutoTokenizer.from_pretrained(nlp_model)\n",
    "    model = AutoModelForSequenceClassification.from_pretrained(nlp_model)\n",
    "\n",
    "    # Classifier\n",
    "    classifier = pipeline(\n",
    "        'sentiment-analysis', \n",
    "        model=model, \n",
    "        tokenizer=tokenizer\n",
    "    )\n",
    "    \n",
    "    # Adapt review lenght to max tokens\n",
    "    n = 1900\n",
    "    review_splitted = [(review[i:i+n]) for i in range(0, len(review), n)]\n",
    "    #print(len(review_splitted))\n",
    "    \n",
    "    # Classifying \n",
    "    for text in review_splitted:\n",
    "            stars = (classifier(text))\n",
    "            global_stars.append(stars)\n",
    "\n",
    "    return global_stars\n",
    "    "
   ]
  },
  {
   "cell_type": "code",
   "execution_count": 9,
   "metadata": {},
   "outputs": [],
   "source": [
    "def sentiment_analysis_bert_base_multilingual_uncased(review):\n",
    "    global_stars = []\n",
    "    n = 2000\n",
    "    \n",
    "    # Select model\n",
    "    nlp_model = 'nlptown/bert-base-multilingual-uncased-sentiment'\n",
    "    tokenizer = AutoTokenizer.from_pretrained(nlp_model)\n",
    "    model = AutoModelForSequenceClassification.from_pretrained(nlp_model)\n",
    "\n",
    "    # Classifier\n",
    "    classifier = pipeline(\n",
    "        'sentiment-analysis', \n",
    "        model=model, \n",
    "        tokenizer=tokenizer\n",
    "    )\n",
    "    \n",
    "    review_splitted = [(review[i:i+n]) for i in range(0, len(review), n)]    \n",
    "    \n",
    "    for text in review_splitted:\n",
    "        stars = (classifier(text))\n",
    "        global_stars.append(stars)\n",
    "\n",
    "    return global_stars\n"
   ]
  },
  {
   "cell_type": "code",
   "execution_count": 10,
   "metadata": {},
   "outputs": [],
   "source": [
    "all_test_small = all_test[:15]"
   ]
  },
  {
   "cell_type": "code",
   "execution_count": 11,
   "metadata": {},
   "outputs": [
    {
     "name": "stderr",
     "output_type": "stream",
     "text": [
      "/home/sergio/miniconda3/envs/lab_env/lib/python3.7/site-packages/ipykernel_launcher.py:1: SettingWithCopyWarning: \n",
      "A value is trying to be set on a copy of a slice from a DataFrame.\n",
      "Try using .loc[row_indexer,col_indexer] = value instead\n",
      "\n",
      "See the caveats in the documentation: https://pandas.pydata.org/pandas-docs/stable/user_guide/indexing.html#returning-a-view-versus-a-copy\n",
      "  \"\"\"Entry point for launching an IPython kernel.\n"
     ]
    }
   ],
   "source": [
    "all_test_small['stars'] = all_test_small['text'].apply(lambda x: sentiment_analysis_bert_base_multilingual_uncased(x))"
   ]
  },
  {
   "cell_type": "markdown",
   "metadata": {},
   "source": [
    "### Sentiment Synthetic Score Function"
   ]
  },
  {
   "cell_type": "code",
   "execution_count": 12,
   "metadata": {},
   "outputs": [],
   "source": [
    "def stars_mean_to_score(review):\n",
    "    \n",
    "    points = []\n",
    "\n",
    "    for classifications in review:\n",
    "        for classification in classifications:\n",
    "\n",
    "            #Mean of fragment\n",
    "            grade = int(classification['label'].split(' ')[0])\n",
    "            points.append(grade)  \n",
    "        score = round(np.mean(points), 2)\n",
    "\n",
    "    return(score)   "
   ]
  },
  {
   "cell_type": "code",
   "execution_count": 13,
   "metadata": {},
   "outputs": [
    {
     "name": "stderr",
     "output_type": "stream",
     "text": [
      "/home/sergio/miniconda3/envs/lab_env/lib/python3.7/site-packages/ipykernel_launcher.py:1: SettingWithCopyWarning: \n",
      "A value is trying to be set on a copy of a slice from a DataFrame.\n",
      "Try using .loc[row_indexer,col_indexer] = value instead\n",
      "\n",
      "See the caveats in the documentation: https://pandas.pydata.org/pandas-docs/stable/user_guide/indexing.html#returning-a-view-versus-a-copy\n",
      "  \"\"\"Entry point for launching an IPython kernel.\n"
     ]
    }
   ],
   "source": [
    "all_test_small['stars_mean'] = all_test_small['stars'].apply(lambda x: stars_mean_to_score(x))"
   ]
  },
  {
   "cell_type": "markdown",
   "metadata": {},
   "source": [
    "### Precission Score"
   ]
  },
  {
   "cell_type": "code",
   "execution_count": null,
   "metadata": {},
   "outputs": [],
   "source": [
    "'''from sklearn.metrics import accuracy_score, precision_recall_fscore_support\n",
    "\n",
    "def compute_metrics(pred):\n",
    "    labels = pred.label_ids\n",
    "    preds = pred.predictions.argmax(-1)\n",
    "    precision, recall, f1, _ = precision_recall_fscore_support(labels, preds, average='binary')\n",
    "    acc = accuracy_score(labels, preds)\n",
    "    return {\n",
    "        'accuracy': acc,\n",
    "        'f1': f1,\n",
    "        'precision': precision,\n",
    "        'recall': recall'''"
   ]
  },
  {
   "cell_type": "markdown",
   "metadata": {},
   "source": [
    "## 3 Fine Tuning BERT model classifier"
   ]
  },
  {
   "cell_type": "markdown",
   "metadata": {},
   "source": [
    "Train the entire architecture. Train some layers while freezing others, Freeze the entire architecture https://huggingface.co/transformers/training.html"
   ]
  },
  {
   "cell_type": "markdown",
   "metadata": {},
   "source": [
    "### 3.1 Get labels"
   ]
  },
  {
   "cell_type": "code",
   "execution_count": 14,
   "metadata": {},
   "outputs": [
    {
     "data": {
      "text/html": [
       "<div>\n",
       "<style scoped>\n",
       "    .dataframe tbody tr th:only-of-type {\n",
       "        vertical-align: middle;\n",
       "    }\n",
       "\n",
       "    .dataframe tbody tr th {\n",
       "        vertical-align: top;\n",
       "    }\n",
       "\n",
       "    .dataframe thead th {\n",
       "        text-align: right;\n",
       "    }\n",
       "</style>\n",
       "<table border=\"1\" class=\"dataframe\">\n",
       "  <thead>\n",
       "    <tr style=\"text-align: right;\">\n",
       "      <th></th>\n",
       "      <th>site</th>\n",
       "      <th>url_link</th>\n",
       "      <th>author</th>\n",
       "      <th>game</th>\n",
       "      <th>company</th>\n",
       "      <th>genre</th>\n",
       "      <th>platform</th>\n",
       "      <th>text</th>\n",
       "      <th>score</th>\n",
       "      <th>stars</th>\n",
       "      <th>stars_mean</th>\n",
       "    </tr>\n",
       "  </thead>\n",
       "  <tbody>\n",
       "    <tr>\n",
       "      <th>0</th>\n",
       "      <td>meristation</td>\n",
       "      <td>https://as.com/meristation/2008/12/22/analisis...</td>\n",
       "      <td>Javier de Pascual</td>\n",
       "      <td>Metal Gear Solid Mobile</td>\n",
       "      <td>Konami</td>\n",
       "      <td>Acción, Tactical</td>\n",
       "      <td>NGE</td>\n",
       "      <td>Por alguna extraña razón, cuando el jugón trad...</td>\n",
       "      <td>8.5</td>\n",
       "      <td>[[{'label': '3 stars', 'score': 0.435262888669...</td>\n",
       "      <td>3.60</td>\n",
       "    </tr>\n",
       "    <tr>\n",
       "      <th>1</th>\n",
       "      <td>meristation</td>\n",
       "      <td>https://as.com/meristation/2012/12/19/analisis...</td>\n",
       "      <td>Pablo González</td>\n",
       "      <td>THE DENPA MEN: They Came By Wave</td>\n",
       "      <td>None</td>\n",
       "      <td>RPG</td>\n",
       "      <td>3DS</td>\n",
       "      <td>Nintendo 3DS ha apostado desde su primer día e...</td>\n",
       "      <td>7.2</td>\n",
       "      <td>[[{'label': '3 stars', 'score': 0.421717613935...</td>\n",
       "      <td>3.20</td>\n",
       "    </tr>\n",
       "    <tr>\n",
       "      <th>2</th>\n",
       "      <td>meristation</td>\n",
       "      <td>https://as.com/meristation/2019/09/03/analisis...</td>\n",
       "      <td>David Arroyo</td>\n",
       "      <td>Telling Lies</td>\n",
       "      <td>Annapurna Interactive</td>\n",
       "      <td>Aventura</td>\n",
       "      <td>PC PS4 XBO NSW</td>\n",
       "      <td>Hablar de Telling Lies es un poco complicado. ...</td>\n",
       "      <td>8.0</td>\n",
       "      <td>[[{'label': '3 stars', 'score': 0.415306359529...</td>\n",
       "      <td>3.50</td>\n",
       "    </tr>\n",
       "    <tr>\n",
       "      <th>3</th>\n",
       "      <td>meristation</td>\n",
       "      <td>https://as.com/meristation/2014/10/06/analisis...</td>\n",
       "      <td>Salva Fernàndez</td>\n",
       "      <td>Titanfall: IMC Rising</td>\n",
       "      <td>None</td>\n",
       "      <td>Acción, First Person Shooter</td>\n",
       "      <td>PC 360 XBO</td>\n",
       "      <td>Titanfall recibe el último contenido descargab...</td>\n",
       "      <td>7.0</td>\n",
       "      <td>[[{'label': '3 stars', 'score': 0.483339041471...</td>\n",
       "      <td>3.25</td>\n",
       "    </tr>\n",
       "    <tr>\n",
       "      <th>4</th>\n",
       "      <td>meristation</td>\n",
       "      <td>https://as.com/meristation/2014/04/16/analisis...</td>\n",
       "      <td>None</td>\n",
       "      <td>Moebius: Empire Rising</td>\n",
       "      <td>None</td>\n",
       "      <td>Aventura Gráfica</td>\n",
       "      <td>PC OSX IPH IPD AND</td>\n",
       "      <td>“Aquellos que no pueden recordar el pasado, es...</td>\n",
       "      <td>6.8</td>\n",
       "      <td>[[{'label': '4 stars', 'score': 0.495593637228...</td>\n",
       "      <td>3.20</td>\n",
       "    </tr>\n",
       "  </tbody>\n",
       "</table>\n",
       "</div>"
      ],
      "text/plain": [
       "          site                                           url_link  \\\n",
       "0  meristation  https://as.com/meristation/2008/12/22/analisis...   \n",
       "1  meristation  https://as.com/meristation/2012/12/19/analisis...   \n",
       "2  meristation  https://as.com/meristation/2019/09/03/analisis...   \n",
       "3  meristation  https://as.com/meristation/2014/10/06/analisis...   \n",
       "4  meristation  https://as.com/meristation/2014/04/16/analisis...   \n",
       "\n",
       "              author                              game                company  \\\n",
       "0  Javier de Pascual           Metal Gear Solid Mobile                 Konami   \n",
       "1     Pablo González  THE DENPA MEN: They Came By Wave                   None   \n",
       "2       David Arroyo                      Telling Lies  Annapurna Interactive   \n",
       "3    Salva Fernàndez             Titanfall: IMC Rising                   None   \n",
       "4               None            Moebius: Empire Rising                   None   \n",
       "\n",
       "                                              genre            platform  \\\n",
       "0              Acción, Tactical                                     NGE   \n",
       "1                           RPG                                     3DS   \n",
       "2                      Aventura                          PC PS4 XBO NSW   \n",
       "3  Acción, First Person Shooter                              PC 360 XBO   \n",
       "4              Aventura Gráfica                      PC OSX IPH IPD AND   \n",
       "\n",
       "                                                text  score  \\\n",
       "0  Por alguna extraña razón, cuando el jugón trad...    8.5   \n",
       "1  Nintendo 3DS ha apostado desde su primer día e...    7.2   \n",
       "2  Hablar de Telling Lies es un poco complicado. ...    8.0   \n",
       "3  Titanfall recibe el último contenido descargab...    7.0   \n",
       "4  “Aquellos que no pueden recordar el pasado, es...    6.8   \n",
       "\n",
       "                                               stars  stars_mean  \n",
       "0  [[{'label': '3 stars', 'score': 0.435262888669...        3.60  \n",
       "1  [[{'label': '3 stars', 'score': 0.421717613935...        3.20  \n",
       "2  [[{'label': '3 stars', 'score': 0.415306359529...        3.50  \n",
       "3  [[{'label': '3 stars', 'score': 0.483339041471...        3.25  \n",
       "4  [[{'label': '4 stars', 'score': 0.495593637228...        3.20  "
      ]
     },
     "execution_count": 14,
     "metadata": {},
     "output_type": "execute_result"
    }
   ],
   "source": [
    "all_test_small.head()"
   ]
  },
  {
   "cell_type": "code",
   "execution_count": 54,
   "metadata": {},
   "outputs": [],
   "source": [
    "def score_labels(score):\n",
    "    scorelabel = f\"'{round(score / 2)} starts'\"\n",
    "    return scorelabel"
   ]
  },
  {
   "cell_type": "code",
   "execution_count": 55,
   "metadata": {},
   "outputs": [
    {
     "name": "stderr",
     "output_type": "stream",
     "text": [
      "/home/sergio/miniconda3/envs/lab_env/lib/python3.7/site-packages/ipykernel_launcher.py:1: SettingWithCopyWarning: \n",
      "A value is trying to be set on a copy of a slice from a DataFrame.\n",
      "Try using .loc[row_indexer,col_indexer] = value instead\n",
      "\n",
      "See the caveats in the documentation: https://pandas.pydata.org/pandas-docs/stable/user_guide/indexing.html#returning-a-view-versus-a-copy\n",
      "  \"\"\"Entry point for launching an IPython kernel.\n"
     ]
    }
   ],
   "source": [
    "all_test_small['score_label'] = all_test_small['score'].apply(lambda x: score_labels(x))"
   ]
  },
  {
   "cell_type": "code",
   "execution_count": 56,
   "metadata": {},
   "outputs": [
    {
     "data": {
      "text/html": [
       "<div>\n",
       "<style scoped>\n",
       "    .dataframe tbody tr th:only-of-type {\n",
       "        vertical-align: middle;\n",
       "    }\n",
       "\n",
       "    .dataframe tbody tr th {\n",
       "        vertical-align: top;\n",
       "    }\n",
       "\n",
       "    .dataframe thead th {\n",
       "        text-align: right;\n",
       "    }\n",
       "</style>\n",
       "<table border=\"1\" class=\"dataframe\">\n",
       "  <thead>\n",
       "    <tr style=\"text-align: right;\">\n",
       "      <th></th>\n",
       "      <th>site</th>\n",
       "      <th>url_link</th>\n",
       "      <th>author</th>\n",
       "      <th>game</th>\n",
       "      <th>company</th>\n",
       "      <th>genre</th>\n",
       "      <th>platform</th>\n",
       "      <th>text</th>\n",
       "      <th>score</th>\n",
       "      <th>stars</th>\n",
       "      <th>stars_mean</th>\n",
       "      <th>score_label</th>\n",
       "    </tr>\n",
       "  </thead>\n",
       "  <tbody>\n",
       "    <tr>\n",
       "      <th>0</th>\n",
       "      <td>meristation</td>\n",
       "      <td>https://as.com/meristation/2008/12/22/analisis...</td>\n",
       "      <td>Javier de Pascual</td>\n",
       "      <td>Metal Gear Solid Mobile</td>\n",
       "      <td>Konami</td>\n",
       "      <td>Acción, Tactical</td>\n",
       "      <td>NGE</td>\n",
       "      <td>Por alguna extraña razón, cuando el jugón trad...</td>\n",
       "      <td>8.5</td>\n",
       "      <td>[[{'label': '3 stars', 'score': 0.435262888669...</td>\n",
       "      <td>3.60</td>\n",
       "      <td>'4 starts'</td>\n",
       "    </tr>\n",
       "    <tr>\n",
       "      <th>1</th>\n",
       "      <td>meristation</td>\n",
       "      <td>https://as.com/meristation/2012/12/19/analisis...</td>\n",
       "      <td>Pablo González</td>\n",
       "      <td>THE DENPA MEN: They Came By Wave</td>\n",
       "      <td>None</td>\n",
       "      <td>RPG</td>\n",
       "      <td>3DS</td>\n",
       "      <td>Nintendo 3DS ha apostado desde su primer día e...</td>\n",
       "      <td>7.2</td>\n",
       "      <td>[[{'label': '3 stars', 'score': 0.421717613935...</td>\n",
       "      <td>3.20</td>\n",
       "      <td>'4 starts'</td>\n",
       "    </tr>\n",
       "    <tr>\n",
       "      <th>2</th>\n",
       "      <td>meristation</td>\n",
       "      <td>https://as.com/meristation/2019/09/03/analisis...</td>\n",
       "      <td>David Arroyo</td>\n",
       "      <td>Telling Lies</td>\n",
       "      <td>Annapurna Interactive</td>\n",
       "      <td>Aventura</td>\n",
       "      <td>PC PS4 XBO NSW</td>\n",
       "      <td>Hablar de Telling Lies es un poco complicado. ...</td>\n",
       "      <td>8.0</td>\n",
       "      <td>[[{'label': '3 stars', 'score': 0.415306359529...</td>\n",
       "      <td>3.50</td>\n",
       "      <td>'4 starts'</td>\n",
       "    </tr>\n",
       "    <tr>\n",
       "      <th>3</th>\n",
       "      <td>meristation</td>\n",
       "      <td>https://as.com/meristation/2014/10/06/analisis...</td>\n",
       "      <td>Salva Fernàndez</td>\n",
       "      <td>Titanfall: IMC Rising</td>\n",
       "      <td>None</td>\n",
       "      <td>Acción, First Person Shooter</td>\n",
       "      <td>PC 360 XBO</td>\n",
       "      <td>Titanfall recibe el último contenido descargab...</td>\n",
       "      <td>7.0</td>\n",
       "      <td>[[{'label': '3 stars', 'score': 0.483339041471...</td>\n",
       "      <td>3.25</td>\n",
       "      <td>'4 starts'</td>\n",
       "    </tr>\n",
       "    <tr>\n",
       "      <th>4</th>\n",
       "      <td>meristation</td>\n",
       "      <td>https://as.com/meristation/2014/04/16/analisis...</td>\n",
       "      <td>None</td>\n",
       "      <td>Moebius: Empire Rising</td>\n",
       "      <td>None</td>\n",
       "      <td>Aventura Gráfica</td>\n",
       "      <td>PC OSX IPH IPD AND</td>\n",
       "      <td>“Aquellos que no pueden recordar el pasado, es...</td>\n",
       "      <td>6.8</td>\n",
       "      <td>[[{'label': '4 stars', 'score': 0.495593637228...</td>\n",
       "      <td>3.20</td>\n",
       "      <td>'3 starts'</td>\n",
       "    </tr>\n",
       "    <tr>\n",
       "      <th>5</th>\n",
       "      <td>Vandal</td>\n",
       "      <td>https://vandal.elespanol.com/analisis/pc/waste...</td>\n",
       "      <td>Alberto González</td>\n",
       "      <td>Wasteland 2 - Análisis</td>\n",
       "      <td>inXile Entertainment</td>\n",
       "      <td>RPG Occidental Tactical RPG</td>\n",
       "      <td>PC Xbox One PS4 Switch</td>\n",
       "      <td>Hablar de Wasteland, es hablar de uno de los v...</td>\n",
       "      <td>8.5</td>\n",
       "      <td>[[{'label': '4 stars', 'score': 0.492015153169...</td>\n",
       "      <td>4.00</td>\n",
       "      <td>'4 starts'</td>\n",
       "    </tr>\n",
       "    <tr>\n",
       "      <th>6</th>\n",
       "      <td>revogamers</td>\n",
       "      <td>https://www.revogamers.net/analisis-w/analisis...</td>\n",
       "      <td>Carlos Firás</td>\n",
       "      <td>Manifold Garden</td>\n",
       "      <td>None</td>\n",
       "      <td>None</td>\n",
       "      <td>Nintendo Switch</td>\n",
       "      <td>En el último Nindies Direct se anunció, y se l...</td>\n",
       "      <td>7.0</td>\n",
       "      <td>[[{'label': '4 stars', 'score': 0.415507256984...</td>\n",
       "      <td>4.00</td>\n",
       "      <td>'4 starts'</td>\n",
       "    </tr>\n",
       "    <tr>\n",
       "      <th>7</th>\n",
       "      <td>Vandal</td>\n",
       "      <td>https://vandal.elespanol.com/analisis/ps4/devi...</td>\n",
       "      <td>Carlos Leiva</td>\n",
       "      <td>Devil May Cry 5 - Análisis</td>\n",
       "      <td>Capcom</td>\n",
       "      <td>Acción Hack and Slash</td>\n",
       "      <td>PS4 PC Xbox One Xbox Series X PS5</td>\n",
       "      <td>Si quieres conocer todos los secretos y los me...</td>\n",
       "      <td>9.0</td>\n",
       "      <td>[[{'label': '3 stars', 'score': 0.339096069335...</td>\n",
       "      <td>3.75</td>\n",
       "      <td>'4 starts'</td>\n",
       "    </tr>\n",
       "    <tr>\n",
       "      <th>8</th>\n",
       "      <td>Gamereactor</td>\n",
       "      <td>https://www.gamereactor.es/pirates-of-black-co...</td>\n",
       "      <td>Mika Sorvari</td>\n",
       "      <td>Pirates of Black Cove</td>\n",
       "      <td>Paradox Interactive</td>\n",
       "      <td>Estrategia</td>\n",
       "      <td>PC</td>\n",
       "      <td>En Pirates of Black Cove, el jugador puede nav...</td>\n",
       "      <td>8.0</td>\n",
       "      <td>[[{'label': '4 stars', 'score': 0.542094528675...</td>\n",
       "      <td>4.00</td>\n",
       "      <td>'4 starts'</td>\n",
       "    </tr>\n",
       "    <tr>\n",
       "      <th>9</th>\n",
       "      <td>meristation</td>\n",
       "      <td>https://as.com/meristation/2011/09/03/analisis...</td>\n",
       "      <td>Pablo González</td>\n",
       "      <td>Crimson Alliance</td>\n",
       "      <td>None</td>\n",
       "      <td>Acción, Aventura</td>\n",
       "      <td>360</td>\n",
       "      <td>Poco importa que un juego tenga grandes gráfic...</td>\n",
       "      <td>7.5</td>\n",
       "      <td>[[{'label': '2 stars', 'score': 0.345419675111...</td>\n",
       "      <td>3.57</td>\n",
       "      <td>'4 starts'</td>\n",
       "    </tr>\n",
       "    <tr>\n",
       "      <th>10</th>\n",
       "      <td>Vandal</td>\n",
       "      <td>https://vandal.elespanol.com/analisis/ps4/mega...</td>\n",
       "      <td>Carlos Leiva</td>\n",
       "      <td>Mega Man X Legacy Collection - Análisis</td>\n",
       "      <td>Capcom</td>\n",
       "      <td>Plataformas 2D Run and gun</td>\n",
       "      <td>PS4 PC Xbox One Switch</td>\n",
       "      <td>Pocas cosas hay que Capcom esté cuidando más a...</td>\n",
       "      <td>8.8</td>\n",
       "      <td>[[{'label': '3 stars', 'score': 0.493329465389...</td>\n",
       "      <td>3.88</td>\n",
       "      <td>'4 starts'</td>\n",
       "    </tr>\n",
       "    <tr>\n",
       "      <th>11</th>\n",
       "      <td>meristation</td>\n",
       "      <td>https://as.com/meristation/2016/03/18/analisis...</td>\n",
       "      <td>None</td>\n",
       "      <td>We Are The Dwarves</td>\n",
       "      <td>None</td>\n",
       "      <td>Acción, Aventura, Tactical</td>\n",
       "      <td>PC</td>\n",
       "      <td>Ese es el caso de We are the Dwarves!, un jueg...</td>\n",
       "      <td>7.0</td>\n",
       "      <td>[[{'label': '3 stars', 'score': 0.470475465059...</td>\n",
       "      <td>3.14</td>\n",
       "      <td>'4 starts'</td>\n",
       "    </tr>\n",
       "    <tr>\n",
       "      <th>12</th>\n",
       "      <td>meristation</td>\n",
       "      <td>https://as.com/meristation/2008/09/01/analisis...</td>\n",
       "      <td>Joaquín Relaño</td>\n",
       "      <td>Ratchet &amp; Clank: En busca del tesoro</td>\n",
       "      <td>None</td>\n",
       "      <td>Acción, Aventura</td>\n",
       "      <td>PS3</td>\n",
       "      <td>Es curioso comprobar cómo los profundos cambio...</td>\n",
       "      <td>7.0</td>\n",
       "      <td>[[{'label': '4 stars', 'score': 0.309142857789...</td>\n",
       "      <td>3.75</td>\n",
       "      <td>'4 starts'</td>\n",
       "    </tr>\n",
       "    <tr>\n",
       "      <th>13</th>\n",
       "      <td>3D Juegos</td>\n",
       "      <td>https://www.3djuegos.com/juegos/analisis/12815...</td>\n",
       "      <td>Alberto Pastor</td>\n",
       "      <td>Diablo III - Análisis</td>\n",
       "      <td>None</td>\n",
       "      <td>None</td>\n",
       "      <td>PC PS3 X360 Mac</td>\n",
       "      <td>Referente en PC desde hace casi dos décadas, l...</td>\n",
       "      <td>8.8</td>\n",
       "      <td>[[{'label': '4 stars', 'score': 0.555725336074...</td>\n",
       "      <td>4.00</td>\n",
       "      <td>'4 starts'</td>\n",
       "    </tr>\n",
       "    <tr>\n",
       "      <th>14</th>\n",
       "      <td>Vandal</td>\n",
       "      <td>https://vandal.elespanol.com/analisis/pc/tyran...</td>\n",
       "      <td>Carlos Leiva</td>\n",
       "      <td>Tyranny - Análisis</td>\n",
       "      <td>Paradox Interactive</td>\n",
       "      <td>RPG Occidental Rol</td>\n",
       "      <td>PC</td>\n",
       "      <td>¿Cuántas veces habremos salvado ya al mundo de...</td>\n",
       "      <td>8.0</td>\n",
       "      <td>[[{'label': '4 stars', 'score': 0.402889281511...</td>\n",
       "      <td>3.60</td>\n",
       "      <td>'4 starts'</td>\n",
       "    </tr>\n",
       "  </tbody>\n",
       "</table>\n",
       "</div>"
      ],
      "text/plain": [
       "           site                                           url_link  \\\n",
       "0   meristation  https://as.com/meristation/2008/12/22/analisis...   \n",
       "1   meristation  https://as.com/meristation/2012/12/19/analisis...   \n",
       "2   meristation  https://as.com/meristation/2019/09/03/analisis...   \n",
       "3   meristation  https://as.com/meristation/2014/10/06/analisis...   \n",
       "4   meristation  https://as.com/meristation/2014/04/16/analisis...   \n",
       "5        Vandal  https://vandal.elespanol.com/analisis/pc/waste...   \n",
       "6    revogamers  https://www.revogamers.net/analisis-w/analisis...   \n",
       "7        Vandal  https://vandal.elespanol.com/analisis/ps4/devi...   \n",
       "8   Gamereactor  https://www.gamereactor.es/pirates-of-black-co...   \n",
       "9   meristation  https://as.com/meristation/2011/09/03/analisis...   \n",
       "10       Vandal  https://vandal.elespanol.com/analisis/ps4/mega...   \n",
       "11  meristation  https://as.com/meristation/2016/03/18/analisis...   \n",
       "12  meristation  https://as.com/meristation/2008/09/01/analisis...   \n",
       "13    3D Juegos  https://www.3djuegos.com/juegos/analisis/12815...   \n",
       "14       Vandal  https://vandal.elespanol.com/analisis/pc/tyran...   \n",
       "\n",
       "               author                                     game  \\\n",
       "0   Javier de Pascual                  Metal Gear Solid Mobile   \n",
       "1      Pablo González         THE DENPA MEN: They Came By Wave   \n",
       "2        David Arroyo                             Telling Lies   \n",
       "3     Salva Fernàndez                    Titanfall: IMC Rising   \n",
       "4                None                   Moebius: Empire Rising   \n",
       "5    Alberto González                   Wasteland 2 - Análisis   \n",
       "6        Carlos Firás                          Manifold Garden   \n",
       "7        Carlos Leiva               Devil May Cry 5 - Análisis   \n",
       "8        Mika Sorvari                    Pirates of Black Cove   \n",
       "9      Pablo González                         Crimson Alliance   \n",
       "10       Carlos Leiva  Mega Man X Legacy Collection - Análisis   \n",
       "11               None                       We Are The Dwarves   \n",
       "12     Joaquín Relaño     Ratchet & Clank: En busca del tesoro   \n",
       "13     Alberto Pastor                    Diablo III - Análisis   \n",
       "14       Carlos Leiva                       Tyranny - Análisis   \n",
       "\n",
       "                  company                                             genre  \\\n",
       "0                  Konami              Acción, Tactical                       \n",
       "1                    None                           RPG                       \n",
       "2   Annapurna Interactive                      Aventura                       \n",
       "3                    None  Acción, First Person Shooter                       \n",
       "4                    None              Aventura Gráfica                       \n",
       "5    inXile Entertainment                       RPG Occidental Tactical RPG   \n",
       "6                    None                                              None   \n",
       "7                  Capcom                             Acción Hack and Slash   \n",
       "8     Paradox Interactive                                        Estrategia   \n",
       "9                    None              Acción, Aventura                       \n",
       "10                 Capcom                        Plataformas 2D Run and gun   \n",
       "11                   None    Acción, Aventura, Tactical                       \n",
       "12                   None              Acción, Aventura                       \n",
       "13                   None                                              None   \n",
       "14    Paradox Interactive                                RPG Occidental Rol   \n",
       "\n",
       "                             platform  \\\n",
       "0                                 NGE   \n",
       "1                                 3DS   \n",
       "2                      PC PS4 XBO NSW   \n",
       "3                          PC 360 XBO   \n",
       "4                  PC OSX IPH IPD AND   \n",
       "5              PC Xbox One PS4 Switch   \n",
       "6                     Nintendo Switch   \n",
       "7   PS4 PC Xbox One Xbox Series X PS5   \n",
       "8                                  PC   \n",
       "9                                 360   \n",
       "10             PS4 PC Xbox One Switch   \n",
       "11                                 PC   \n",
       "12                                PS3   \n",
       "13                    PC PS3 X360 Mac   \n",
       "14                                 PC   \n",
       "\n",
       "                                                 text  score  \\\n",
       "0   Por alguna extraña razón, cuando el jugón trad...    8.5   \n",
       "1   Nintendo 3DS ha apostado desde su primer día e...    7.2   \n",
       "2   Hablar de Telling Lies es un poco complicado. ...    8.0   \n",
       "3   Titanfall recibe el último contenido descargab...    7.0   \n",
       "4   “Aquellos que no pueden recordar el pasado, es...    6.8   \n",
       "5   Hablar de Wasteland, es hablar de uno de los v...    8.5   \n",
       "6   En el último Nindies Direct se anunció, y se l...    7.0   \n",
       "7   Si quieres conocer todos los secretos y los me...    9.0   \n",
       "8   En Pirates of Black Cove, el jugador puede nav...    8.0   \n",
       "9   Poco importa que un juego tenga grandes gráfic...    7.5   \n",
       "10  Pocas cosas hay que Capcom esté cuidando más a...    8.8   \n",
       "11  Ese es el caso de We are the Dwarves!, un jueg...    7.0   \n",
       "12  Es curioso comprobar cómo los profundos cambio...    7.0   \n",
       "13  Referente en PC desde hace casi dos décadas, l...    8.8   \n",
       "14  ¿Cuántas veces habremos salvado ya al mundo de...    8.0   \n",
       "\n",
       "                                                stars  stars_mean score_label  \n",
       "0   [[{'label': '3 stars', 'score': 0.435262888669...        3.60  '4 starts'  \n",
       "1   [[{'label': '3 stars', 'score': 0.421717613935...        3.20  '4 starts'  \n",
       "2   [[{'label': '3 stars', 'score': 0.415306359529...        3.50  '4 starts'  \n",
       "3   [[{'label': '3 stars', 'score': 0.483339041471...        3.25  '4 starts'  \n",
       "4   [[{'label': '4 stars', 'score': 0.495593637228...        3.20  '3 starts'  \n",
       "5   [[{'label': '4 stars', 'score': 0.492015153169...        4.00  '4 starts'  \n",
       "6   [[{'label': '4 stars', 'score': 0.415507256984...        4.00  '4 starts'  \n",
       "7   [[{'label': '3 stars', 'score': 0.339096069335...        3.75  '4 starts'  \n",
       "8   [[{'label': '4 stars', 'score': 0.542094528675...        4.00  '4 starts'  \n",
       "9   [[{'label': '2 stars', 'score': 0.345419675111...        3.57  '4 starts'  \n",
       "10  [[{'label': '3 stars', 'score': 0.493329465389...        3.88  '4 starts'  \n",
       "11  [[{'label': '3 stars', 'score': 0.470475465059...        3.14  '4 starts'  \n",
       "12  [[{'label': '4 stars', 'score': 0.309142857789...        3.75  '4 starts'  \n",
       "13  [[{'label': '4 stars', 'score': 0.555725336074...        4.00  '4 starts'  \n",
       "14  [[{'label': '4 stars', 'score': 0.402889281511...        3.60  '4 starts'  "
      ]
     },
     "execution_count": 56,
     "metadata": {},
     "output_type": "execute_result"
    }
   ],
   "source": [
    "all_test_small"
   ]
  },
  {
   "cell_type": "markdown",
   "metadata": {},
   "source": [
    "### 3.2 Split dataset"
   ]
  },
  {
   "cell_type": "code",
   "execution_count": 21,
   "metadata": {},
   "outputs": [],
   "source": [
    "#model.train()"
   ]
  },
  {
   "cell_type": "code",
   "execution_count": 27,
   "metadata": {},
   "outputs": [],
   "source": [
    "full_texts = all_test_small['text']"
   ]
  },
  {
   "cell_type": "code",
   "execution_count": 57,
   "metadata": {},
   "outputs": [],
   "source": [
    "full_labels = all_test_small['score_label']"
   ]
  },
  {
   "cell_type": "code",
   "execution_count": 58,
   "metadata": {},
   "outputs": [],
   "source": [
    "train_texts, val_texts, train_labels, val_labels = train_test_split(full_texts, full_labels, test_size=.2)"
   ]
  },
  {
   "cell_type": "code",
   "execution_count": 59,
   "metadata": {},
   "outputs": [],
   "source": [
    "val_texts = val_texts.astype(str).tolist()\n",
    "train_texts = train_texts.astype(str).tolist()"
   ]
  },
  {
   "cell_type": "code",
   "execution_count": 60,
   "metadata": {},
   "outputs": [],
   "source": [
    "tokenizer = AutoTokenizer.from_pretrained('nlptown/bert-base-multilingual-uncased-sentiment')"
   ]
  },
  {
   "cell_type": "code",
   "execution_count": 61,
   "metadata": {},
   "outputs": [],
   "source": [
    "train_encodings = tokenizer(train_texts, truncation=True, padding=True)\n",
    "val_encodings = tokenizer(val_texts, truncation=True, padding=True)"
   ]
  },
  {
   "cell_type": "code",
   "execution_count": 62,
   "metadata": {},
   "outputs": [],
   "source": [
    "class IMDbDataset(torch.utils.data.Dataset):\n",
    "    def __init__(self, encodings, labels):\n",
    "        self.encodings = encodings\n",
    "        self.labels = labels\n",
    "\n",
    "    def __getitem__(self, idx):\n",
    "        item = {key: torch.tensor(val[idx]) for key, val in self.encodings.items()}\n",
    "        item['labels'] = torch.tensor(self.labels[idx])\n",
    "        return item\n",
    "\n",
    "    def __len__(self):\n",
    "        return len(self.labels)\n",
    "\n",
    "train_dataset = IMDbDataset(train_encodings, train_labels)\n",
    "val_dataset = IMDbDataset(val_encodings, val_labels)"
   ]
  },
  {
   "cell_type": "code",
   "execution_count": 64,
   "metadata": {},
   "outputs": [],
   "source": [
    "from transformers import Trainer, TrainingArguments\n",
    "\n",
    "model = AutoModelForSequenceClassification.from_pretrained('nlptown/bert-base-multilingual-uncased-sentiment')\n",
    "\n",
    "training_args = TrainingArguments(\n",
    "    output_dir='./results',          # output directory\n",
    "    num_train_epochs=3,              # total # of training epochs\n",
    "    per_device_train_batch_size=16,  # batch size per device during training\n",
    "    per_device_eval_batch_size=64,   # batch size for evaluation\n",
    "    warmup_steps=500,                # number of warmup steps for learning rate scheduler\n",
    "    weight_decay=0.01,               # strength of weight decay\n",
    "    logging_dir='./logs',            # directory for storing logs\n",
    ")\n",
    "\n",
    "trainer = Trainer(\n",
    "    model=model,                         # the instantiated 🤗 Transformers model to be trained\n",
    "    args=training_args,                  # training arguments, defined above\n",
    "    train_dataset=train_dataset,         # training dataset\n",
    "    eval_dataset=val_dataset            # evaluation dataset\n",
    ")"
   ]
  },
  {
   "cell_type": "code",
   "execution_count": 65,
   "metadata": {},
   "outputs": [
    {
     "data": {
      "application/vnd.jupyter.widget-view+json": {
       "model_id": "f2f2b5fbb0fd4367a115cfaf6d4ee247",
       "version_major": 2,
       "version_minor": 0
      },
      "text/plain": [
       "HBox(children=(FloatProgress(value=0.0, description='Epoch', max=3.0, style=ProgressStyle(description_width='i…"
      ]
     },
     "metadata": {},
     "output_type": "display_data"
    },
    {
     "data": {
      "application/vnd.jupyter.widget-view+json": {
       "model_id": "f87b3f0d6a364b1ba7d25407cf9c33f6",
       "version_major": 2,
       "version_minor": 0
      },
      "text/plain": [
       "HBox(children=(FloatProgress(value=0.0, description='Iteration', max=1.0, style=ProgressStyle(description_widt…"
      ]
     },
     "metadata": {},
     "output_type": "display_data"
    },
    {
     "ename": "TypeError",
     "evalue": "new(): invalid data type 'str'",
     "output_type": "error",
     "traceback": [
      "\u001b[0;31m---------------------------------------------------------------------------\u001b[0m",
      "\u001b[0;31mTypeError\u001b[0m                                 Traceback (most recent call last)",
      "\u001b[0;32m<ipython-input-65-f0b3e127ee81>\u001b[0m in \u001b[0;36m<module>\u001b[0;34m\u001b[0m\n\u001b[0;32m----> 1\u001b[0;31m \u001b[0mtrainer\u001b[0m\u001b[0;34m.\u001b[0m\u001b[0mtrain\u001b[0m\u001b[0;34m(\u001b[0m\u001b[0;34m)\u001b[0m\u001b[0;34m\u001b[0m\u001b[0;34m\u001b[0m\u001b[0m\n\u001b[0m\u001b[1;32m      2\u001b[0m \u001b[0;31m#trainer.evaluate()\u001b[0m\u001b[0;34m\u001b[0m\u001b[0;34m\u001b[0m\u001b[0;34m\u001b[0m\u001b[0m\n",
      "\u001b[0;32m~/miniconda3/envs/lab_env/lib/python3.7/site-packages/transformers/trainer.py\u001b[0m in \u001b[0;36mtrain\u001b[0;34m(self, model_path, trial)\u001b[0m\n\u001b[1;32m    753\u001b[0m \u001b[0;34m\u001b[0m\u001b[0m\n\u001b[1;32m    754\u001b[0m             \u001b[0mepoch_pbar\u001b[0m \u001b[0;34m=\u001b[0m \u001b[0mtqdm\u001b[0m\u001b[0;34m(\u001b[0m\u001b[0mepoch_iterator\u001b[0m\u001b[0;34m,\u001b[0m \u001b[0mdesc\u001b[0m\u001b[0;34m=\u001b[0m\u001b[0;34m\"Iteration\"\u001b[0m\u001b[0;34m,\u001b[0m \u001b[0mdisable\u001b[0m\u001b[0;34m=\u001b[0m\u001b[0mdisable_tqdm\u001b[0m\u001b[0;34m)\u001b[0m\u001b[0;34m\u001b[0m\u001b[0;34m\u001b[0m\u001b[0m\n\u001b[0;32m--> 755\u001b[0;31m             \u001b[0;32mfor\u001b[0m \u001b[0mstep\u001b[0m\u001b[0;34m,\u001b[0m \u001b[0minputs\u001b[0m \u001b[0;32min\u001b[0m \u001b[0menumerate\u001b[0m\u001b[0;34m(\u001b[0m\u001b[0mepoch_iterator\u001b[0m\u001b[0;34m)\u001b[0m\u001b[0;34m:\u001b[0m\u001b[0;34m\u001b[0m\u001b[0;34m\u001b[0m\u001b[0m\n\u001b[0m\u001b[1;32m    756\u001b[0m \u001b[0;34m\u001b[0m\u001b[0m\n\u001b[1;32m    757\u001b[0m                 \u001b[0;31m# Skip past any already trained steps if resuming training\u001b[0m\u001b[0;34m\u001b[0m\u001b[0;34m\u001b[0m\u001b[0;34m\u001b[0m\u001b[0m\n",
      "\u001b[0;32m~/miniconda3/envs/lab_env/lib/python3.7/site-packages/torch/utils/data/dataloader.py\u001b[0m in \u001b[0;36m__next__\u001b[0;34m(self)\u001b[0m\n\u001b[1;32m    361\u001b[0m \u001b[0;34m\u001b[0m\u001b[0m\n\u001b[1;32m    362\u001b[0m     \u001b[0;32mdef\u001b[0m \u001b[0m__next__\u001b[0m\u001b[0;34m(\u001b[0m\u001b[0mself\u001b[0m\u001b[0;34m)\u001b[0m\u001b[0;34m:\u001b[0m\u001b[0;34m\u001b[0m\u001b[0;34m\u001b[0m\u001b[0m\n\u001b[0;32m--> 363\u001b[0;31m         \u001b[0mdata\u001b[0m \u001b[0;34m=\u001b[0m \u001b[0mself\u001b[0m\u001b[0;34m.\u001b[0m\u001b[0m_next_data\u001b[0m\u001b[0;34m(\u001b[0m\u001b[0;34m)\u001b[0m\u001b[0;34m\u001b[0m\u001b[0;34m\u001b[0m\u001b[0m\n\u001b[0m\u001b[1;32m    364\u001b[0m         \u001b[0mself\u001b[0m\u001b[0;34m.\u001b[0m\u001b[0m_num_yielded\u001b[0m \u001b[0;34m+=\u001b[0m \u001b[0;36m1\u001b[0m\u001b[0;34m\u001b[0m\u001b[0;34m\u001b[0m\u001b[0m\n\u001b[1;32m    365\u001b[0m         \u001b[0;32mif\u001b[0m \u001b[0mself\u001b[0m\u001b[0;34m.\u001b[0m\u001b[0m_dataset_kind\u001b[0m \u001b[0;34m==\u001b[0m \u001b[0m_DatasetKind\u001b[0m\u001b[0;34m.\u001b[0m\u001b[0mIterable\u001b[0m \u001b[0;32mand\u001b[0m\u001b[0;31m \u001b[0m\u001b[0;31m\\\u001b[0m\u001b[0;34m\u001b[0m\u001b[0;34m\u001b[0m\u001b[0m\n",
      "\u001b[0;32m~/miniconda3/envs/lab_env/lib/python3.7/site-packages/torch/utils/data/dataloader.py\u001b[0m in \u001b[0;36m_next_data\u001b[0;34m(self)\u001b[0m\n\u001b[1;32m    401\u001b[0m     \u001b[0;32mdef\u001b[0m \u001b[0m_next_data\u001b[0m\u001b[0;34m(\u001b[0m\u001b[0mself\u001b[0m\u001b[0;34m)\u001b[0m\u001b[0;34m:\u001b[0m\u001b[0;34m\u001b[0m\u001b[0;34m\u001b[0m\u001b[0m\n\u001b[1;32m    402\u001b[0m         \u001b[0mindex\u001b[0m \u001b[0;34m=\u001b[0m \u001b[0mself\u001b[0m\u001b[0;34m.\u001b[0m\u001b[0m_next_index\u001b[0m\u001b[0;34m(\u001b[0m\u001b[0;34m)\u001b[0m  \u001b[0;31m# may raise StopIteration\u001b[0m\u001b[0;34m\u001b[0m\u001b[0;34m\u001b[0m\u001b[0m\n\u001b[0;32m--> 403\u001b[0;31m         \u001b[0mdata\u001b[0m \u001b[0;34m=\u001b[0m \u001b[0mself\u001b[0m\u001b[0;34m.\u001b[0m\u001b[0m_dataset_fetcher\u001b[0m\u001b[0;34m.\u001b[0m\u001b[0mfetch\u001b[0m\u001b[0;34m(\u001b[0m\u001b[0mindex\u001b[0m\u001b[0;34m)\u001b[0m  \u001b[0;31m# may raise StopIteration\u001b[0m\u001b[0;34m\u001b[0m\u001b[0;34m\u001b[0m\u001b[0m\n\u001b[0m\u001b[1;32m    404\u001b[0m         \u001b[0;32mif\u001b[0m \u001b[0mself\u001b[0m\u001b[0;34m.\u001b[0m\u001b[0m_pin_memory\u001b[0m\u001b[0;34m:\u001b[0m\u001b[0;34m\u001b[0m\u001b[0;34m\u001b[0m\u001b[0m\n\u001b[1;32m    405\u001b[0m             \u001b[0mdata\u001b[0m \u001b[0;34m=\u001b[0m \u001b[0m_utils\u001b[0m\u001b[0;34m.\u001b[0m\u001b[0mpin_memory\u001b[0m\u001b[0;34m.\u001b[0m\u001b[0mpin_memory\u001b[0m\u001b[0;34m(\u001b[0m\u001b[0mdata\u001b[0m\u001b[0;34m)\u001b[0m\u001b[0;34m\u001b[0m\u001b[0;34m\u001b[0m\u001b[0m\n",
      "\u001b[0;32m~/miniconda3/envs/lab_env/lib/python3.7/site-packages/torch/utils/data/_utils/fetch.py\u001b[0m in \u001b[0;36mfetch\u001b[0;34m(self, possibly_batched_index)\u001b[0m\n\u001b[1;32m     42\u001b[0m     \u001b[0;32mdef\u001b[0m \u001b[0mfetch\u001b[0m\u001b[0;34m(\u001b[0m\u001b[0mself\u001b[0m\u001b[0;34m,\u001b[0m \u001b[0mpossibly_batched_index\u001b[0m\u001b[0;34m)\u001b[0m\u001b[0;34m:\u001b[0m\u001b[0;34m\u001b[0m\u001b[0;34m\u001b[0m\u001b[0m\n\u001b[1;32m     43\u001b[0m         \u001b[0;32mif\u001b[0m \u001b[0mself\u001b[0m\u001b[0;34m.\u001b[0m\u001b[0mauto_collation\u001b[0m\u001b[0;34m:\u001b[0m\u001b[0;34m\u001b[0m\u001b[0;34m\u001b[0m\u001b[0m\n\u001b[0;32m---> 44\u001b[0;31m             \u001b[0mdata\u001b[0m \u001b[0;34m=\u001b[0m \u001b[0;34m[\u001b[0m\u001b[0mself\u001b[0m\u001b[0;34m.\u001b[0m\u001b[0mdataset\u001b[0m\u001b[0;34m[\u001b[0m\u001b[0midx\u001b[0m\u001b[0;34m]\u001b[0m \u001b[0;32mfor\u001b[0m \u001b[0midx\u001b[0m \u001b[0;32min\u001b[0m \u001b[0mpossibly_batched_index\u001b[0m\u001b[0;34m]\u001b[0m\u001b[0;34m\u001b[0m\u001b[0;34m\u001b[0m\u001b[0m\n\u001b[0m\u001b[1;32m     45\u001b[0m         \u001b[0;32melse\u001b[0m\u001b[0;34m:\u001b[0m\u001b[0;34m\u001b[0m\u001b[0;34m\u001b[0m\u001b[0m\n\u001b[1;32m     46\u001b[0m             \u001b[0mdata\u001b[0m \u001b[0;34m=\u001b[0m \u001b[0mself\u001b[0m\u001b[0;34m.\u001b[0m\u001b[0mdataset\u001b[0m\u001b[0;34m[\u001b[0m\u001b[0mpossibly_batched_index\u001b[0m\u001b[0;34m]\u001b[0m\u001b[0;34m\u001b[0m\u001b[0;34m\u001b[0m\u001b[0m\n",
      "\u001b[0;32m~/miniconda3/envs/lab_env/lib/python3.7/site-packages/torch/utils/data/_utils/fetch.py\u001b[0m in \u001b[0;36m<listcomp>\u001b[0;34m(.0)\u001b[0m\n\u001b[1;32m     42\u001b[0m     \u001b[0;32mdef\u001b[0m \u001b[0mfetch\u001b[0m\u001b[0;34m(\u001b[0m\u001b[0mself\u001b[0m\u001b[0;34m,\u001b[0m \u001b[0mpossibly_batched_index\u001b[0m\u001b[0;34m)\u001b[0m\u001b[0;34m:\u001b[0m\u001b[0;34m\u001b[0m\u001b[0;34m\u001b[0m\u001b[0m\n\u001b[1;32m     43\u001b[0m         \u001b[0;32mif\u001b[0m \u001b[0mself\u001b[0m\u001b[0;34m.\u001b[0m\u001b[0mauto_collation\u001b[0m\u001b[0;34m:\u001b[0m\u001b[0;34m\u001b[0m\u001b[0;34m\u001b[0m\u001b[0m\n\u001b[0;32m---> 44\u001b[0;31m             \u001b[0mdata\u001b[0m \u001b[0;34m=\u001b[0m \u001b[0;34m[\u001b[0m\u001b[0mself\u001b[0m\u001b[0;34m.\u001b[0m\u001b[0mdataset\u001b[0m\u001b[0;34m[\u001b[0m\u001b[0midx\u001b[0m\u001b[0;34m]\u001b[0m \u001b[0;32mfor\u001b[0m \u001b[0midx\u001b[0m \u001b[0;32min\u001b[0m \u001b[0mpossibly_batched_index\u001b[0m\u001b[0;34m]\u001b[0m\u001b[0;34m\u001b[0m\u001b[0;34m\u001b[0m\u001b[0m\n\u001b[0m\u001b[1;32m     45\u001b[0m         \u001b[0;32melse\u001b[0m\u001b[0;34m:\u001b[0m\u001b[0;34m\u001b[0m\u001b[0;34m\u001b[0m\u001b[0m\n\u001b[1;32m     46\u001b[0m             \u001b[0mdata\u001b[0m \u001b[0;34m=\u001b[0m \u001b[0mself\u001b[0m\u001b[0;34m.\u001b[0m\u001b[0mdataset\u001b[0m\u001b[0;34m[\u001b[0m\u001b[0mpossibly_batched_index\u001b[0m\u001b[0;34m]\u001b[0m\u001b[0;34m\u001b[0m\u001b[0;34m\u001b[0m\u001b[0m\n",
      "\u001b[0;32m<ipython-input-62-154db2e6283d>\u001b[0m in \u001b[0;36m__getitem__\u001b[0;34m(self, idx)\u001b[0m\n\u001b[1;32m      6\u001b[0m     \u001b[0;32mdef\u001b[0m \u001b[0m__getitem__\u001b[0m\u001b[0;34m(\u001b[0m\u001b[0mself\u001b[0m\u001b[0;34m,\u001b[0m \u001b[0midx\u001b[0m\u001b[0;34m)\u001b[0m\u001b[0;34m:\u001b[0m\u001b[0;34m\u001b[0m\u001b[0;34m\u001b[0m\u001b[0m\n\u001b[1;32m      7\u001b[0m         \u001b[0mitem\u001b[0m \u001b[0;34m=\u001b[0m \u001b[0;34m{\u001b[0m\u001b[0mkey\u001b[0m\u001b[0;34m:\u001b[0m \u001b[0mtorch\u001b[0m\u001b[0;34m.\u001b[0m\u001b[0mtensor\u001b[0m\u001b[0;34m(\u001b[0m\u001b[0mval\u001b[0m\u001b[0;34m[\u001b[0m\u001b[0midx\u001b[0m\u001b[0;34m]\u001b[0m\u001b[0;34m)\u001b[0m \u001b[0;32mfor\u001b[0m \u001b[0mkey\u001b[0m\u001b[0;34m,\u001b[0m \u001b[0mval\u001b[0m \u001b[0;32min\u001b[0m \u001b[0mself\u001b[0m\u001b[0;34m.\u001b[0m\u001b[0mencodings\u001b[0m\u001b[0;34m.\u001b[0m\u001b[0mitems\u001b[0m\u001b[0;34m(\u001b[0m\u001b[0;34m)\u001b[0m\u001b[0;34m}\u001b[0m\u001b[0;34m\u001b[0m\u001b[0;34m\u001b[0m\u001b[0m\n\u001b[0;32m----> 8\u001b[0;31m         \u001b[0mitem\u001b[0m\u001b[0;34m[\u001b[0m\u001b[0;34m'labels'\u001b[0m\u001b[0;34m]\u001b[0m \u001b[0;34m=\u001b[0m \u001b[0mtorch\u001b[0m\u001b[0;34m.\u001b[0m\u001b[0mtensor\u001b[0m\u001b[0;34m(\u001b[0m\u001b[0mself\u001b[0m\u001b[0;34m.\u001b[0m\u001b[0mlabels\u001b[0m\u001b[0;34m[\u001b[0m\u001b[0midx\u001b[0m\u001b[0;34m]\u001b[0m\u001b[0;34m)\u001b[0m\u001b[0;34m\u001b[0m\u001b[0;34m\u001b[0m\u001b[0m\n\u001b[0m\u001b[1;32m      9\u001b[0m         \u001b[0;32mreturn\u001b[0m \u001b[0mitem\u001b[0m\u001b[0;34m\u001b[0m\u001b[0;34m\u001b[0m\u001b[0m\n\u001b[1;32m     10\u001b[0m \u001b[0;34m\u001b[0m\u001b[0m\n",
      "\u001b[0;31mTypeError\u001b[0m: new(): invalid data type 'str'"
     ]
    }
   ],
   "source": [
    "trainer.train()\n",
    "#trainer.evaluate()"
   ]
  },
  {
   "cell_type": "code",
   "execution_count": null,
   "metadata": {},
   "outputs": [],
   "source": []
  },
  {
   "cell_type": "code",
   "execution_count": null,
   "metadata": {},
   "outputs": [],
   "source": []
  },
  {
   "cell_type": "code",
   "execution_count": null,
   "metadata": {},
   "outputs": [],
   "source": []
  }
 ],
 "metadata": {
  "kernelspec": {
   "display_name": "Python [conda env:lab_env]",
   "language": "python",
   "name": "conda-env-lab_env-py"
  },
  "language_info": {
   "codemirror_mode": {
    "name": "ipython",
    "version": 3
   },
   "file_extension": ".py",
   "mimetype": "text/x-python",
   "name": "python",
   "nbconvert_exporter": "python",
   "pygments_lexer": "ipython3",
   "version": "3.7.3"
  }
 },
 "nbformat": 4,
 "nbformat_minor": 4
}
