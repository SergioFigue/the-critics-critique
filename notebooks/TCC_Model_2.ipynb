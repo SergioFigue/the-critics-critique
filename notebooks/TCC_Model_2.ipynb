{
 "cells": [
  {
   "cell_type": "markdown",
   "metadata": {},
   "source": [
    "# The Critics Critique ML model 1"
   ]
  },
  {
   "cell_type": "markdown",
   "metadata": {},
   "source": [
    "## 0. import libraries"
   ]
  },
  {
   "cell_type": "code",
   "execution_count": 1,
   "metadata": {},
   "outputs": [],
   "source": [
    "import pandas as pd\n",
    "import numpy as np\n",
    "from transformers import pipeline\n",
    "import torch\n",
    "from transformers import AutoTokenizer, AutoModelForSequenceClassification\n"
   ]
  },
  {
   "cell_type": "markdown",
   "metadata": {},
   "source": [
    "## 1. import and slice dataset "
   ]
  },
  {
   "cell_type": "code",
   "execution_count": 2,
   "metadata": {},
   "outputs": [],
   "source": [
    "all_sites = pd.read_csv('../data/all_sites.csv')"
   ]
  },
  {
   "cell_type": "code",
   "execution_count": 3,
   "metadata": {},
   "outputs": [
    {
     "data": {
      "text/plain": [
       "15551"
      ]
     },
     "execution_count": 3,
     "metadata": {},
     "output_type": "execute_result"
    }
   ],
   "source": [
    "len(all_sites)"
   ]
  },
  {
   "cell_type": "code",
   "execution_count": 4,
   "metadata": {},
   "outputs": [],
   "source": [
    "all_sites1 = all_sites[:3100]"
   ]
  },
  {
   "cell_type": "code",
   "execution_count": 5,
   "metadata": {},
   "outputs": [],
   "source": [
    "all_sites2 = all_sites[3100:6200]"
   ]
  },
  {
   "cell_type": "code",
   "execution_count": 6,
   "metadata": {},
   "outputs": [],
   "source": [
    "all_sites3 = all_sites[6200:9300]"
   ]
  },
  {
   "cell_type": "code",
   "execution_count": 7,
   "metadata": {},
   "outputs": [],
   "source": [
    "all_sites4 = all_sites[9300:1240]"
   ]
  },
  {
   "cell_type": "code",
   "execution_count": 8,
   "metadata": {},
   "outputs": [],
   "source": [
    "all_sites5 = all_sites[12400:]"
   ]
  },
  {
   "cell_type": "markdown",
   "metadata": {},
   "source": [
    "## 2.2 Classifier with Transformers nlptown/bert-base-multilingual-uncased-sentiment"
   ]
  },
  {
   "cell_type": "code",
   "execution_count": 5,
   "metadata": {},
   "outputs": [
    {
     "data": {
      "text/plain": [
       "'from adaptnlp import EasySequenceClassifier\\n\\nclassifier = EasySequenceClassifier()\\n\\nsentences = classifier.tag_text(\\n    text=text_splitted,\\n    model_name_or_path=\"nlptown/bert-base-multilingual-uncased-sentiment\",\\n    padding=\\'longest\\',\\n    mini_batch_size=4\\n)\\n\\nprint(\"Tag Score Outputs:\\n\")\\nfor sentence in sentences:\\n    print(f\"Fragment {sentences.index(sentence)}: {sentence.labels}\")'"
      ]
     },
     "execution_count": 5,
     "metadata": {},
     "output_type": "execute_result"
    }
   ],
   "source": [
    "# This let us see prob for every batch 1-5\n",
    "\n",
    "'''from adaptnlp import EasySequenceClassifier\n",
    "\n",
    "classifier = EasySequenceClassifier()\n",
    "\n",
    "sentences = classifier.tag_text(\n",
    "    text=text_splitted,\n",
    "    model_name_or_path=\"nlptown/bert-base-multilingual-uncased-sentiment\",\n",
    "    padding='longest',\n",
    "    mini_batch_size=4\n",
    ")\n",
    "\n",
    "print(\"Tag Score Outputs:\\n\")\n",
    "for sentence in sentences:\n",
    "    print(f\"Fragment {sentences.index(sentence)}: {sentence.labels}\")'''"
   ]
  },
  {
   "cell_type": "markdown",
   "metadata": {},
   "source": [
    "### Sentiment proccesing function Bert base Multilingual Uncased "
   ]
  },
  {
   "cell_type": "code",
   "execution_count": 5,
   "metadata": {},
   "outputs": [],
   "source": [
    "# Select model\n",
    "nlp_model = 'nlptown/bert-base-multilingual-uncased-sentiment'\n",
    "tokenizer = AutoTokenizer.from_pretrained(nlp_model)\n",
    "model = AutoModelForSequenceClassification.from_pretrained(nlp_model)\n",
    "\n",
    "# Classifier\n",
    "classifier = pipeline(\n",
    "        'sentiment-analysis', \n",
    "        model=model, \n",
    "        tokenizer=tokenizer)"
   ]
  },
  {
   "cell_type": "code",
   "execution_count": 9,
   "metadata": {},
   "outputs": [],
   "source": [
    "def sentiment_analysis_bert_base_multilingual_uncased(review):\n",
    "    global_stars = []\n",
    "    n = 1500\n",
    "    \n",
    "    review_splitted = [(review[i:i+n]) for i in range(0, len(review), n)]    \n",
    "    global_stars = (classifier(review_splitted))\n",
    "    \n",
    "    return global_stars\n"
   ]
  },
  {
   "cell_type": "code",
   "execution_count": 10,
   "metadata": {},
   "outputs": [],
   "source": [
    "def apply_sentiment_model(df):\n",
    "    try:\n",
    "        df['stars'] = df['text'].apply(lambda x: sentiment_analysis_bert_base_multilingual_uncased(x))\n",
    "        \n",
    "    except RuntimeError:\n",
    "        print(df['game'])\n",
    "        df['stars'] = df['text'].apply(lambda x: np.nan)\n",
    "    \n",
    "    finally:\n",
    "        df.to_csv('../data/labeled_texts1.csv', index=False)\n",
    "    \n",
    "    return df"
   ]
  },
  {
   "cell_type": "code",
   "execution_count": 11,
   "metadata": {},
   "outputs": [
    {
     "name": "stderr",
     "output_type": "stream",
     "text": [
      "/home/sergio/miniconda3/envs/lab_env/lib/python3.7/site-packages/ipykernel_launcher.py:3: SettingWithCopyWarning: \n",
      "A value is trying to be set on a copy of a slice from a DataFrame.\n",
      "Try using .loc[row_indexer,col_indexer] = value instead\n",
      "\n",
      "See the caveats in the documentation: https://pandas.pydata.org/pandas-docs/stable/user_guide/indexing.html#returning-a-view-versus-a-copy\n",
      "  This is separate from the ipykernel package so we can avoid doing imports until\n"
     ]
    },
    {
     "data": {
      "text/html": [
       "<div>\n",
       "<style scoped>\n",
       "    .dataframe tbody tr th:only-of-type {\n",
       "        vertical-align: middle;\n",
       "    }\n",
       "\n",
       "    .dataframe tbody tr th {\n",
       "        vertical-align: top;\n",
       "    }\n",
       "\n",
       "    .dataframe thead th {\n",
       "        text-align: right;\n",
       "    }\n",
       "</style>\n",
       "<table border=\"1\" class=\"dataframe\">\n",
       "  <thead>\n",
       "    <tr style=\"text-align: right;\">\n",
       "      <th></th>\n",
       "      <th>site</th>\n",
       "      <th>url_link</th>\n",
       "      <th>author</th>\n",
       "      <th>game</th>\n",
       "      <th>company</th>\n",
       "      <th>genre</th>\n",
       "      <th>platform</th>\n",
       "      <th>text</th>\n",
       "      <th>score</th>\n",
       "      <th>stars</th>\n",
       "    </tr>\n",
       "  </thead>\n",
       "  <tbody>\n",
       "    <tr>\n",
       "      <th>0</th>\n",
       "      <td>meristation</td>\n",
       "      <td>https://as.com/meristation/2008/12/22/analisis...</td>\n",
       "      <td>Javier de Pascual</td>\n",
       "      <td>Metal Gear Solid Mobile</td>\n",
       "      <td>Konami</td>\n",
       "      <td>Acción, Tactical</td>\n",
       "      <td>NGE</td>\n",
       "      <td>Por alguna extraña razón, cuando el jugón trad...</td>\n",
       "      <td>8.5</td>\n",
       "      <td>[{'label': '3 stars', 'score': 0.4069659113883...</td>\n",
       "    </tr>\n",
       "    <tr>\n",
       "      <th>1</th>\n",
       "      <td>meristation</td>\n",
       "      <td>https://as.com/meristation/2012/12/19/analisis...</td>\n",
       "      <td>Pablo González</td>\n",
       "      <td>THE DENPA MEN: They Came By Wave</td>\n",
       "      <td>None</td>\n",
       "      <td>RPG</td>\n",
       "      <td>3DS</td>\n",
       "      <td>Nintendo 3DS ha apostado desde su primer día e...</td>\n",
       "      <td>7.2</td>\n",
       "      <td>[{'label': '4 stars', 'score': 0.4059227108955...</td>\n",
       "    </tr>\n",
       "    <tr>\n",
       "      <th>2</th>\n",
       "      <td>meristation</td>\n",
       "      <td>https://as.com/meristation/2019/09/03/analisis...</td>\n",
       "      <td>David Arroyo</td>\n",
       "      <td>Telling Lies</td>\n",
       "      <td>Annapurna Interactive</td>\n",
       "      <td>Aventura</td>\n",
       "      <td>PC PS4 XBO NSW</td>\n",
       "      <td>Hablar de Telling Lies es un poco complicado. ...</td>\n",
       "      <td>8.0</td>\n",
       "      <td>[{'label': '3 stars', 'score': 0.4342378377914...</td>\n",
       "    </tr>\n",
       "    <tr>\n",
       "      <th>3</th>\n",
       "      <td>meristation</td>\n",
       "      <td>https://as.com/meristation/2014/10/06/analisis...</td>\n",
       "      <td>Salva Fernàndez</td>\n",
       "      <td>Titanfall: IMC Rising</td>\n",
       "      <td>None</td>\n",
       "      <td>Acción, First Person Shooter</td>\n",
       "      <td>PC 360 XBO</td>\n",
       "      <td>Titanfall recibe el último contenido descargab...</td>\n",
       "      <td>7.0</td>\n",
       "      <td>[{'label': '3 stars', 'score': 0.4690837860107...</td>\n",
       "    </tr>\n",
       "    <tr>\n",
       "      <th>4</th>\n",
       "      <td>meristation</td>\n",
       "      <td>https://as.com/meristation/2014/04/16/analisis...</td>\n",
       "      <td>None</td>\n",
       "      <td>Moebius: Empire Rising</td>\n",
       "      <td>None</td>\n",
       "      <td>Aventura Gráfica</td>\n",
       "      <td>PC OSX IPH IPD AND</td>\n",
       "      <td>“Aquellos que no pueden recordar el pasado, es...</td>\n",
       "      <td>6.8</td>\n",
       "      <td>[{'label': '4 stars', 'score': 0.4857680797576...</td>\n",
       "    </tr>\n",
       "    <tr>\n",
       "      <th>...</th>\n",
       "      <td>...</td>\n",
       "      <td>...</td>\n",
       "      <td>...</td>\n",
       "      <td>...</td>\n",
       "      <td>...</td>\n",
       "      <td>...</td>\n",
       "      <td>...</td>\n",
       "      <td>...</td>\n",
       "      <td>...</td>\n",
       "      <td>...</td>\n",
       "    </tr>\n",
       "    <tr>\n",
       "      <th>3095</th>\n",
       "      <td>3D Juegos</td>\n",
       "      <td>https://www.3djuegos.com/juegos/analisis/9035/...</td>\n",
       "      <td>Alberto Pastor</td>\n",
       "      <td>Animal Crossing: New Leaf - Análisis</td>\n",
       "      <td>None</td>\n",
       "      <td>None</td>\n",
       "      <td>3DS</td>\n",
       "      <td>Con una nueva filosofía de juego pero el mismo...</td>\n",
       "      <td>9.0</td>\n",
       "      <td>[{'label': '5 stars', 'score': 0.7128560543060...</td>\n",
       "    </tr>\n",
       "    <tr>\n",
       "      <th>3096</th>\n",
       "      <td>meristation</td>\n",
       "      <td>https://as.com/meristation/2012/01/23/analisis...</td>\n",
       "      <td>Cristian Ciuraneta</td>\n",
       "      <td>Unstoppable Gorg</td>\n",
       "      <td>Futuremark Games Studio</td>\n",
       "      <td>Strategy, Arcade</td>\n",
       "      <td>PC IPD</td>\n",
       "      <td>Los amantes de la ciencia ficción de mediados ...</td>\n",
       "      <td>7.5</td>\n",
       "      <td>[{'label': '3 stars', 'score': 0.4269151091575...</td>\n",
       "    </tr>\n",
       "    <tr>\n",
       "      <th>3097</th>\n",
       "      <td>3D Juegos</td>\n",
       "      <td>https://www.3djuegos.com/juegos/analisis/11454...</td>\n",
       "      <td>Sergio Martín</td>\n",
       "      <td>UFC Undisputed 3 - Análisis</td>\n",
       "      <td>None</td>\n",
       "      <td>None</td>\n",
       "      <td>PS3 X360</td>\n",
       "      <td>La saga de lucha extrema UFC (ahora Undisputed...</td>\n",
       "      <td>8.6</td>\n",
       "      <td>[{'label': '5 stars', 'score': 0.5908300280570...</td>\n",
       "    </tr>\n",
       "    <tr>\n",
       "      <th>3098</th>\n",
       "      <td>meristation</td>\n",
       "      <td>https://as.com/meristation/2018/06/07/analisis...</td>\n",
       "      <td>Sergio C. González</td>\n",
       "      <td>Sushi Striker: The Way of the Sushido</td>\n",
       "      <td>Nintendo</td>\n",
       "      <td>Acción, Puzzle</td>\n",
       "      <td>NSW 3DS</td>\n",
       "      <td>Nintendo no acostumbra a desperdiciar ideas. L...</td>\n",
       "      <td>7.0</td>\n",
       "      <td>[{'label': '2 stars', 'score': 0.4140197634696...</td>\n",
       "    </tr>\n",
       "    <tr>\n",
       "      <th>3099</th>\n",
       "      <td>Gamereactor</td>\n",
       "      <td>https://www.gamereactor.es/wwe-2k15-analisis/?...</td>\n",
       "      <td>Jonas Mäki</td>\n",
       "      <td>WWE 2K15</td>\n",
       "      <td>2K Games</td>\n",
       "      <td>Lucha</td>\n",
       "      <td>PS4, Xbox One, PS3, Xbox 360</td>\n",
       "      <td>En las últimas dos décadas hemos disfrutado de...</td>\n",
       "      <td>5.0</td>\n",
       "      <td>[{'label': '2 stars', 'score': 0.4082819819450...</td>\n",
       "    </tr>\n",
       "  </tbody>\n",
       "</table>\n",
       "<p>3100 rows × 10 columns</p>\n",
       "</div>"
      ],
      "text/plain": [
       "             site                                           url_link  \\\n",
       "0     meristation  https://as.com/meristation/2008/12/22/analisis...   \n",
       "1     meristation  https://as.com/meristation/2012/12/19/analisis...   \n",
       "2     meristation  https://as.com/meristation/2019/09/03/analisis...   \n",
       "3     meristation  https://as.com/meristation/2014/10/06/analisis...   \n",
       "4     meristation  https://as.com/meristation/2014/04/16/analisis...   \n",
       "...           ...                                                ...   \n",
       "3095    3D Juegos  https://www.3djuegos.com/juegos/analisis/9035/...   \n",
       "3096  meristation  https://as.com/meristation/2012/01/23/analisis...   \n",
       "3097    3D Juegos  https://www.3djuegos.com/juegos/analisis/11454...   \n",
       "3098  meristation  https://as.com/meristation/2018/06/07/analisis...   \n",
       "3099  Gamereactor  https://www.gamereactor.es/wwe-2k15-analisis/?...   \n",
       "\n",
       "                  author                                   game  \\\n",
       "0      Javier de Pascual                Metal Gear Solid Mobile   \n",
       "1         Pablo González       THE DENPA MEN: They Came By Wave   \n",
       "2           David Arroyo                           Telling Lies   \n",
       "3        Salva Fernàndez                  Titanfall: IMC Rising   \n",
       "4                   None                 Moebius: Empire Rising   \n",
       "...                  ...                                    ...   \n",
       "3095      Alberto Pastor   Animal Crossing: New Leaf - Análisis   \n",
       "3096  Cristian Ciuraneta                       Unstoppable Gorg   \n",
       "3097       Sergio Martín            UFC Undisputed 3 - Análisis   \n",
       "3098  Sergio C. González  Sushi Striker: The Way of the Sushido   \n",
       "3099          Jonas Mäki                               WWE 2K15   \n",
       "\n",
       "                      company  \\\n",
       "0                      Konami   \n",
       "1                        None   \n",
       "2       Annapurna Interactive   \n",
       "3                        None   \n",
       "4                        None   \n",
       "...                       ...   \n",
       "3095                     None   \n",
       "3096  Futuremark Games Studio   \n",
       "3097                     None   \n",
       "3098                 Nintendo   \n",
       "3099                 2K Games   \n",
       "\n",
       "                                                 genre  \\\n",
       "0                 Acción, Tactical                       \n",
       "1                              RPG                       \n",
       "2                         Aventura                       \n",
       "3     Acción, First Person Shooter                       \n",
       "4                 Aventura Gráfica                       \n",
       "...                                                ...   \n",
       "3095                                              None   \n",
       "3096              Strategy, Arcade                       \n",
       "3097                                              None   \n",
       "3098                Acción, Puzzle                       \n",
       "3099                                             Lucha   \n",
       "\n",
       "                           platform  \\\n",
       "0                               NGE   \n",
       "1                               3DS   \n",
       "2                    PC PS4 XBO NSW   \n",
       "3                        PC 360 XBO   \n",
       "4                PC OSX IPH IPD AND   \n",
       "...                             ...   \n",
       "3095                            3DS   \n",
       "3096                         PC IPD   \n",
       "3097                       PS3 X360   \n",
       "3098                        NSW 3DS   \n",
       "3099   PS4, Xbox One, PS3, Xbox 360   \n",
       "\n",
       "                                                   text  score  \\\n",
       "0     Por alguna extraña razón, cuando el jugón trad...    8.5   \n",
       "1     Nintendo 3DS ha apostado desde su primer día e...    7.2   \n",
       "2     Hablar de Telling Lies es un poco complicado. ...    8.0   \n",
       "3     Titanfall recibe el último contenido descargab...    7.0   \n",
       "4     “Aquellos que no pueden recordar el pasado, es...    6.8   \n",
       "...                                                 ...    ...   \n",
       "3095  Con una nueva filosofía de juego pero el mismo...    9.0   \n",
       "3096  Los amantes de la ciencia ficción de mediados ...    7.5   \n",
       "3097  La saga de lucha extrema UFC (ahora Undisputed...    8.6   \n",
       "3098  Nintendo no acostumbra a desperdiciar ideas. L...    7.0   \n",
       "3099  En las últimas dos décadas hemos disfrutado de...    5.0   \n",
       "\n",
       "                                                  stars  \n",
       "0     [{'label': '3 stars', 'score': 0.4069659113883...  \n",
       "1     [{'label': '4 stars', 'score': 0.4059227108955...  \n",
       "2     [{'label': '3 stars', 'score': 0.4342378377914...  \n",
       "3     [{'label': '3 stars', 'score': 0.4690837860107...  \n",
       "4     [{'label': '4 stars', 'score': 0.4857680797576...  \n",
       "...                                                 ...  \n",
       "3095  [{'label': '5 stars', 'score': 0.7128560543060...  \n",
       "3096  [{'label': '3 stars', 'score': 0.4269151091575...  \n",
       "3097  [{'label': '5 stars', 'score': 0.5908300280570...  \n",
       "3098  [{'label': '2 stars', 'score': 0.4140197634696...  \n",
       "3099  [{'label': '2 stars', 'score': 0.4082819819450...  \n",
       "\n",
       "[3100 rows x 10 columns]"
      ]
     },
     "execution_count": 11,
     "metadata": {},
     "output_type": "execute_result"
    }
   ],
   "source": [
    "apply_sentiment_model(all_sites1)"
   ]
  },
  {
   "cell_type": "code",
   "execution_count": 10,
   "metadata": {},
   "outputs": [],
   "source": [
    "'''def sentiment_analysis_ind(df):\n",
    "    global_stars = []\n",
    "    \n",
    "    # Select model\n",
    "    nlp_model = 'nlptown/bert-base-multilingual-uncased-sentiment'\n",
    "    tokenizer = AutoTokenizer.from_pretrained(nlp_model)\n",
    "    model = AutoModelForSequenceClassification.from_pretrained(nlp_model)\n",
    "\n",
    "    # Classifier\n",
    "    classifier = pipeline(\n",
    "        'sentiment-analysis', \n",
    "        model=model, \n",
    "        tokenizer=tokenizer\n",
    "    )\n",
    "    \n",
    "    # Adapt review lenght to max tokens\n",
    "    n = 1900\n",
    "    review_splitted = [(review[i:i+n]) for i in range(0, len(review), n)]\n",
    "    #print(len(review_splitted))\n",
    "    \n",
    "    # Classifying \n",
    "    for text in review_splitted:\n",
    "            stars = (classifier(text))\n",
    "            global_stars.append(stars)\n",
    "\n",
    "    return global_stars'''"
   ]
  },
  {
   "cell_type": "markdown",
   "metadata": {},
   "source": [
    "### Sentiment Synthetic Score Function"
   ]
  },
  {
   "cell_type": "code",
   "execution_count": 12,
   "metadata": {},
   "outputs": [],
   "source": [
    "def stars_mean_to_score(review):\n",
    "    \n",
    "    points = []\n",
    "\n",
    "    for classification in review:\n",
    "\n",
    "        #Mean of fragment\n",
    "        grade = int(classification['label'].split(' ')[0])\n",
    "        points.append(grade)  \n",
    "    score = round(np.mean(points), 2)\n",
    "\n",
    "    return(score)   "
   ]
  },
  {
   "cell_type": "code",
   "execution_count": 13,
   "metadata": {},
   "outputs": [
    {
     "name": "stderr",
     "output_type": "stream",
     "text": [
      "/home/sergio/miniconda3/envs/lab_env/lib/python3.7/site-packages/ipykernel_launcher.py:1: SettingWithCopyWarning: \n",
      "A value is trying to be set on a copy of a slice from a DataFrame.\n",
      "Try using .loc[row_indexer,col_indexer] = value instead\n",
      "\n",
      "See the caveats in the documentation: https://pandas.pydata.org/pandas-docs/stable/user_guide/indexing.html#returning-a-view-versus-a-copy\n",
      "  \"\"\"Entry point for launching an IPython kernel.\n"
     ]
    }
   ],
   "source": [
    "all_sites1['stars_mean'] = all_sites1['stars'].apply(lambda x: stars_mean_to_score(x))"
   ]
  },
  {
   "cell_type": "code",
   "execution_count": 16,
   "metadata": {},
   "outputs": [
    {
     "data": {
      "text/plain": [
       "3100"
      ]
     },
     "execution_count": 16,
     "metadata": {},
     "output_type": "execute_result"
    }
   ],
   "source": [
    "len(all_sites1)"
   ]
  },
  {
   "cell_type": "markdown",
   "metadata": {},
   "source": [
    "### Score to Stars Equivalence"
   ]
  },
  {
   "cell_type": "code",
   "execution_count": 17,
   "metadata": {},
   "outputs": [],
   "source": [
    "def score_labels(score):\n",
    "    '''Score converted to labels 1-5 and rounded'''\n",
    "    \n",
    "    scorelabel = f\"'{round(score / 2)} starts'\"\n",
    "    return scorelabel"
   ]
  },
  {
   "cell_type": "code",
   "execution_count": 18,
   "metadata": {},
   "outputs": [
    {
     "name": "stderr",
     "output_type": "stream",
     "text": [
      "/home/sergio/miniconda3/envs/lab_env/lib/python3.7/site-packages/ipykernel_launcher.py:1: SettingWithCopyWarning: \n",
      "A value is trying to be set on a copy of a slice from a DataFrame.\n",
      "Try using .loc[row_indexer,col_indexer] = value instead\n",
      "\n",
      "See the caveats in the documentation: https://pandas.pydata.org/pandas-docs/stable/user_guide/indexing.html#returning-a-view-versus-a-copy\n",
      "  \"\"\"Entry point for launching an IPython kernel.\n"
     ]
    }
   ],
   "source": [
    "all_sites1['score_label'] = all_sites1['score'].apply(lambda x: score_labels(x))"
   ]
  },
  {
   "cell_type": "markdown",
   "metadata": {},
   "source": [
    "### Score Adjusted"
   ]
  },
  {
   "cell_type": "code",
   "execution_count": 19,
   "metadata": {},
   "outputs": [],
   "source": [
    "def score_half(score):\n",
    "    '''Score reduced to compare with stars mean'''\n",
    "    return score / 2"
   ]
  },
  {
   "cell_type": "code",
   "execution_count": 20,
   "metadata": {},
   "outputs": [
    {
     "name": "stderr",
     "output_type": "stream",
     "text": [
      "/home/sergio/miniconda3/envs/lab_env/lib/python3.7/site-packages/ipykernel_launcher.py:1: SettingWithCopyWarning: \n",
      "A value is trying to be set on a copy of a slice from a DataFrame.\n",
      "Try using .loc[row_indexer,col_indexer] = value instead\n",
      "\n",
      "See the caveats in the documentation: https://pandas.pydata.org/pandas-docs/stable/user_guide/indexing.html#returning-a-view-versus-a-copy\n",
      "  \"\"\"Entry point for launching an IPython kernel.\n"
     ]
    }
   ],
   "source": [
    "all_sites1['score_adj'] = all_sites1['score'].apply(lambda x: score_half(x))"
   ]
  },
  {
   "cell_type": "markdown",
   "metadata": {},
   "source": [
    "### Export full dataframe"
   ]
  },
  {
   "cell_type": "code",
   "execution_count": 21,
   "metadata": {},
   "outputs": [],
   "source": [
    "all_sites1.to_csv('../data/scored_texts1.csv', index=False)"
   ]
  },
  {
   "cell_type": "code",
   "execution_count": 22,
   "metadata": {},
   "outputs": [
    {
     "data": {
      "text/html": [
       "<div>\n",
       "<style scoped>\n",
       "    .dataframe tbody tr th:only-of-type {\n",
       "        vertical-align: middle;\n",
       "    }\n",
       "\n",
       "    .dataframe tbody tr th {\n",
       "        vertical-align: top;\n",
       "    }\n",
       "\n",
       "    .dataframe thead th {\n",
       "        text-align: right;\n",
       "    }\n",
       "</style>\n",
       "<table border=\"1\" class=\"dataframe\">\n",
       "  <thead>\n",
       "    <tr style=\"text-align: right;\">\n",
       "      <th></th>\n",
       "      <th>site</th>\n",
       "      <th>url_link</th>\n",
       "      <th>author</th>\n",
       "      <th>game</th>\n",
       "      <th>company</th>\n",
       "      <th>genre</th>\n",
       "      <th>platform</th>\n",
       "      <th>text</th>\n",
       "      <th>score</th>\n",
       "      <th>stars</th>\n",
       "      <th>stars_mean</th>\n",
       "      <th>score_label</th>\n",
       "      <th>score_adj</th>\n",
       "    </tr>\n",
       "  </thead>\n",
       "  <tbody>\n",
       "    <tr>\n",
       "      <th>0</th>\n",
       "      <td>meristation</td>\n",
       "      <td>https://as.com/meristation/2008/12/22/analisis...</td>\n",
       "      <td>Javier de Pascual</td>\n",
       "      <td>Metal Gear Solid Mobile</td>\n",
       "      <td>Konami</td>\n",
       "      <td>Acción, Tactical</td>\n",
       "      <td>NGE</td>\n",
       "      <td>Por alguna extraña razón, cuando el jugón trad...</td>\n",
       "      <td>8.5</td>\n",
       "      <td>[{'label': '3 stars', 'score': 0.4069659113883...</td>\n",
       "      <td>3.17</td>\n",
       "      <td>'4 starts'</td>\n",
       "      <td>4.25</td>\n",
       "    </tr>\n",
       "    <tr>\n",
       "      <th>1</th>\n",
       "      <td>meristation</td>\n",
       "      <td>https://as.com/meristation/2012/12/19/analisis...</td>\n",
       "      <td>Pablo González</td>\n",
       "      <td>THE DENPA MEN: They Came By Wave</td>\n",
       "      <td>None</td>\n",
       "      <td>RPG</td>\n",
       "      <td>3DS</td>\n",
       "      <td>Nintendo 3DS ha apostado desde su primer día e...</td>\n",
       "      <td>7.2</td>\n",
       "      <td>[{'label': '4 stars', 'score': 0.4059227108955...</td>\n",
       "      <td>4.00</td>\n",
       "      <td>'4 starts'</td>\n",
       "      <td>3.60</td>\n",
       "    </tr>\n",
       "    <tr>\n",
       "      <th>2</th>\n",
       "      <td>meristation</td>\n",
       "      <td>https://as.com/meristation/2019/09/03/analisis...</td>\n",
       "      <td>David Arroyo</td>\n",
       "      <td>Telling Lies</td>\n",
       "      <td>Annapurna Interactive</td>\n",
       "      <td>Aventura</td>\n",
       "      <td>PC PS4 XBO NSW</td>\n",
       "      <td>Hablar de Telling Lies es un poco complicado. ...</td>\n",
       "      <td>8.0</td>\n",
       "      <td>[{'label': '3 stars', 'score': 0.4342378377914...</td>\n",
       "      <td>3.62</td>\n",
       "      <td>'4 starts'</td>\n",
       "      <td>4.00</td>\n",
       "    </tr>\n",
       "    <tr>\n",
       "      <th>3</th>\n",
       "      <td>meristation</td>\n",
       "      <td>https://as.com/meristation/2014/10/06/analisis...</td>\n",
       "      <td>Salva Fernàndez</td>\n",
       "      <td>Titanfall: IMC Rising</td>\n",
       "      <td>None</td>\n",
       "      <td>Acción, First Person Shooter</td>\n",
       "      <td>PC 360 XBO</td>\n",
       "      <td>Titanfall recibe el último contenido descargab...</td>\n",
       "      <td>7.0</td>\n",
       "      <td>[{'label': '3 stars', 'score': 0.4690837860107...</td>\n",
       "      <td>3.40</td>\n",
       "      <td>'4 starts'</td>\n",
       "      <td>3.50</td>\n",
       "    </tr>\n",
       "    <tr>\n",
       "      <th>4</th>\n",
       "      <td>meristation</td>\n",
       "      <td>https://as.com/meristation/2014/04/16/analisis...</td>\n",
       "      <td>None</td>\n",
       "      <td>Moebius: Empire Rising</td>\n",
       "      <td>None</td>\n",
       "      <td>Aventura Gráfica</td>\n",
       "      <td>PC OSX IPH IPD AND</td>\n",
       "      <td>“Aquellos que no pueden recordar el pasado, es...</td>\n",
       "      <td>6.8</td>\n",
       "      <td>[{'label': '4 stars', 'score': 0.4857680797576...</td>\n",
       "      <td>3.08</td>\n",
       "      <td>'3 starts'</td>\n",
       "      <td>3.40</td>\n",
       "    </tr>\n",
       "    <tr>\n",
       "      <th>...</th>\n",
       "      <td>...</td>\n",
       "      <td>...</td>\n",
       "      <td>...</td>\n",
       "      <td>...</td>\n",
       "      <td>...</td>\n",
       "      <td>...</td>\n",
       "      <td>...</td>\n",
       "      <td>...</td>\n",
       "      <td>...</td>\n",
       "      <td>...</td>\n",
       "      <td>...</td>\n",
       "      <td>...</td>\n",
       "      <td>...</td>\n",
       "    </tr>\n",
       "    <tr>\n",
       "      <th>3095</th>\n",
       "      <td>3D Juegos</td>\n",
       "      <td>https://www.3djuegos.com/juegos/analisis/9035/...</td>\n",
       "      <td>Alberto Pastor</td>\n",
       "      <td>Animal Crossing: New Leaf - Análisis</td>\n",
       "      <td>None</td>\n",
       "      <td>None</td>\n",
       "      <td>3DS</td>\n",
       "      <td>Con una nueva filosofía de juego pero el mismo...</td>\n",
       "      <td>9.0</td>\n",
       "      <td>[{'label': '5 stars', 'score': 0.7128560543060...</td>\n",
       "      <td>3.82</td>\n",
       "      <td>'4 starts'</td>\n",
       "      <td>4.50</td>\n",
       "    </tr>\n",
       "    <tr>\n",
       "      <th>3096</th>\n",
       "      <td>meristation</td>\n",
       "      <td>https://as.com/meristation/2012/01/23/analisis...</td>\n",
       "      <td>Cristian Ciuraneta</td>\n",
       "      <td>Unstoppable Gorg</td>\n",
       "      <td>Futuremark Games Studio</td>\n",
       "      <td>Strategy, Arcade</td>\n",
       "      <td>PC IPD</td>\n",
       "      <td>Los amantes de la ciencia ficción de mediados ...</td>\n",
       "      <td>7.5</td>\n",
       "      <td>[{'label': '3 stars', 'score': 0.4269151091575...</td>\n",
       "      <td>3.50</td>\n",
       "      <td>'4 starts'</td>\n",
       "      <td>3.75</td>\n",
       "    </tr>\n",
       "    <tr>\n",
       "      <th>3097</th>\n",
       "      <td>3D Juegos</td>\n",
       "      <td>https://www.3djuegos.com/juegos/analisis/11454...</td>\n",
       "      <td>Sergio Martín</td>\n",
       "      <td>UFC Undisputed 3 - Análisis</td>\n",
       "      <td>None</td>\n",
       "      <td>None</td>\n",
       "      <td>PS3 X360</td>\n",
       "      <td>La saga de lucha extrema UFC (ahora Undisputed...</td>\n",
       "      <td>8.6</td>\n",
       "      <td>[{'label': '5 stars', 'score': 0.5908300280570...</td>\n",
       "      <td>4.00</td>\n",
       "      <td>'4 starts'</td>\n",
       "      <td>4.30</td>\n",
       "    </tr>\n",
       "    <tr>\n",
       "      <th>3098</th>\n",
       "      <td>meristation</td>\n",
       "      <td>https://as.com/meristation/2018/06/07/analisis...</td>\n",
       "      <td>Sergio C. González</td>\n",
       "      <td>Sushi Striker: The Way of the Sushido</td>\n",
       "      <td>Nintendo</td>\n",
       "      <td>Acción, Puzzle</td>\n",
       "      <td>NSW 3DS</td>\n",
       "      <td>Nintendo no acostumbra a desperdiciar ideas. L...</td>\n",
       "      <td>7.0</td>\n",
       "      <td>[{'label': '2 stars', 'score': 0.4140197634696...</td>\n",
       "      <td>3.43</td>\n",
       "      <td>'4 starts'</td>\n",
       "      <td>3.50</td>\n",
       "    </tr>\n",
       "    <tr>\n",
       "      <th>3099</th>\n",
       "      <td>Gamereactor</td>\n",
       "      <td>https://www.gamereactor.es/wwe-2k15-analisis/?...</td>\n",
       "      <td>Jonas Mäki</td>\n",
       "      <td>WWE 2K15</td>\n",
       "      <td>2K Games</td>\n",
       "      <td>Lucha</td>\n",
       "      <td>PS4, Xbox One, PS3, Xbox 360</td>\n",
       "      <td>En las últimas dos décadas hemos disfrutado de...</td>\n",
       "      <td>5.0</td>\n",
       "      <td>[{'label': '2 stars', 'score': 0.4082819819450...</td>\n",
       "      <td>2.17</td>\n",
       "      <td>'2 starts'</td>\n",
       "      <td>2.50</td>\n",
       "    </tr>\n",
       "  </tbody>\n",
       "</table>\n",
       "<p>3100 rows × 13 columns</p>\n",
       "</div>"
      ],
      "text/plain": [
       "             site                                           url_link  \\\n",
       "0     meristation  https://as.com/meristation/2008/12/22/analisis...   \n",
       "1     meristation  https://as.com/meristation/2012/12/19/analisis...   \n",
       "2     meristation  https://as.com/meristation/2019/09/03/analisis...   \n",
       "3     meristation  https://as.com/meristation/2014/10/06/analisis...   \n",
       "4     meristation  https://as.com/meristation/2014/04/16/analisis...   \n",
       "...           ...                                                ...   \n",
       "3095    3D Juegos  https://www.3djuegos.com/juegos/analisis/9035/...   \n",
       "3096  meristation  https://as.com/meristation/2012/01/23/analisis...   \n",
       "3097    3D Juegos  https://www.3djuegos.com/juegos/analisis/11454...   \n",
       "3098  meristation  https://as.com/meristation/2018/06/07/analisis...   \n",
       "3099  Gamereactor  https://www.gamereactor.es/wwe-2k15-analisis/?...   \n",
       "\n",
       "                  author                                   game  \\\n",
       "0      Javier de Pascual                Metal Gear Solid Mobile   \n",
       "1         Pablo González       THE DENPA MEN: They Came By Wave   \n",
       "2           David Arroyo                           Telling Lies   \n",
       "3        Salva Fernàndez                  Titanfall: IMC Rising   \n",
       "4                   None                 Moebius: Empire Rising   \n",
       "...                  ...                                    ...   \n",
       "3095      Alberto Pastor   Animal Crossing: New Leaf - Análisis   \n",
       "3096  Cristian Ciuraneta                       Unstoppable Gorg   \n",
       "3097       Sergio Martín            UFC Undisputed 3 - Análisis   \n",
       "3098  Sergio C. González  Sushi Striker: The Way of the Sushido   \n",
       "3099          Jonas Mäki                               WWE 2K15   \n",
       "\n",
       "                      company  \\\n",
       "0                      Konami   \n",
       "1                        None   \n",
       "2       Annapurna Interactive   \n",
       "3                        None   \n",
       "4                        None   \n",
       "...                       ...   \n",
       "3095                     None   \n",
       "3096  Futuremark Games Studio   \n",
       "3097                     None   \n",
       "3098                 Nintendo   \n",
       "3099                 2K Games   \n",
       "\n",
       "                                                 genre  \\\n",
       "0                 Acción, Tactical                       \n",
       "1                              RPG                       \n",
       "2                         Aventura                       \n",
       "3     Acción, First Person Shooter                       \n",
       "4                 Aventura Gráfica                       \n",
       "...                                                ...   \n",
       "3095                                              None   \n",
       "3096              Strategy, Arcade                       \n",
       "3097                                              None   \n",
       "3098                Acción, Puzzle                       \n",
       "3099                                             Lucha   \n",
       "\n",
       "                           platform  \\\n",
       "0                               NGE   \n",
       "1                               3DS   \n",
       "2                    PC PS4 XBO NSW   \n",
       "3                        PC 360 XBO   \n",
       "4                PC OSX IPH IPD AND   \n",
       "...                             ...   \n",
       "3095                            3DS   \n",
       "3096                         PC IPD   \n",
       "3097                       PS3 X360   \n",
       "3098                        NSW 3DS   \n",
       "3099   PS4, Xbox One, PS3, Xbox 360   \n",
       "\n",
       "                                                   text  score  \\\n",
       "0     Por alguna extraña razón, cuando el jugón trad...    8.5   \n",
       "1     Nintendo 3DS ha apostado desde su primer día e...    7.2   \n",
       "2     Hablar de Telling Lies es un poco complicado. ...    8.0   \n",
       "3     Titanfall recibe el último contenido descargab...    7.0   \n",
       "4     “Aquellos que no pueden recordar el pasado, es...    6.8   \n",
       "...                                                 ...    ...   \n",
       "3095  Con una nueva filosofía de juego pero el mismo...    9.0   \n",
       "3096  Los amantes de la ciencia ficción de mediados ...    7.5   \n",
       "3097  La saga de lucha extrema UFC (ahora Undisputed...    8.6   \n",
       "3098  Nintendo no acostumbra a desperdiciar ideas. L...    7.0   \n",
       "3099  En las últimas dos décadas hemos disfrutado de...    5.0   \n",
       "\n",
       "                                                  stars  stars_mean  \\\n",
       "0     [{'label': '3 stars', 'score': 0.4069659113883...        3.17   \n",
       "1     [{'label': '4 stars', 'score': 0.4059227108955...        4.00   \n",
       "2     [{'label': '3 stars', 'score': 0.4342378377914...        3.62   \n",
       "3     [{'label': '3 stars', 'score': 0.4690837860107...        3.40   \n",
       "4     [{'label': '4 stars', 'score': 0.4857680797576...        3.08   \n",
       "...                                                 ...         ...   \n",
       "3095  [{'label': '5 stars', 'score': 0.7128560543060...        3.82   \n",
       "3096  [{'label': '3 stars', 'score': 0.4269151091575...        3.50   \n",
       "3097  [{'label': '5 stars', 'score': 0.5908300280570...        4.00   \n",
       "3098  [{'label': '2 stars', 'score': 0.4140197634696...        3.43   \n",
       "3099  [{'label': '2 stars', 'score': 0.4082819819450...        2.17   \n",
       "\n",
       "     score_label  score_adj  \n",
       "0     '4 starts'       4.25  \n",
       "1     '4 starts'       3.60  \n",
       "2     '4 starts'       4.00  \n",
       "3     '4 starts'       3.50  \n",
       "4     '3 starts'       3.40  \n",
       "...          ...        ...  \n",
       "3095  '4 starts'       4.50  \n",
       "3096  '4 starts'       3.75  \n",
       "3097  '4 starts'       4.30  \n",
       "3098  '4 starts'       3.50  \n",
       "3099  '2 starts'       2.50  \n",
       "\n",
       "[3100 rows x 13 columns]"
      ]
     },
     "execution_count": 22,
     "metadata": {},
     "output_type": "execute_result"
    }
   ],
   "source": [
    "all_sites1"
   ]
  },
  {
   "cell_type": "code",
   "execution_count": null,
   "metadata": {},
   "outputs": [],
   "source": []
  },
  {
   "cell_type": "code",
   "execution_count": null,
   "metadata": {},
   "outputs": [],
   "source": []
  },
  {
   "cell_type": "markdown",
   "metadata": {},
   "source": [
    "## 3 Fine Tuning BERT model classifier"
   ]
  },
  {
   "cell_type": "markdown",
   "metadata": {},
   "source": [
    "Train the entire architecture. Train some layers while freezing others, Freeze the entire architecture https://huggingface.co/transformers/training.html"
   ]
  },
  {
   "cell_type": "markdown",
   "metadata": {},
   "source": [
    "### 3.1 Get labels"
   ]
  },
  {
   "cell_type": "code",
   "execution_count": 99,
   "metadata": {},
   "outputs": [
    {
     "data": {
      "text/html": [
       "<div>\n",
       "<style scoped>\n",
       "    .dataframe tbody tr th:only-of-type {\n",
       "        vertical-align: middle;\n",
       "    }\n",
       "\n",
       "    .dataframe tbody tr th {\n",
       "        vertical-align: top;\n",
       "    }\n",
       "\n",
       "    .dataframe thead th {\n",
       "        text-align: right;\n",
       "    }\n",
       "</style>\n",
       "<table border=\"1\" class=\"dataframe\">\n",
       "  <thead>\n",
       "    <tr style=\"text-align: right;\">\n",
       "      <th></th>\n",
       "      <th>site</th>\n",
       "      <th>url_link</th>\n",
       "      <th>author</th>\n",
       "      <th>game</th>\n",
       "      <th>company</th>\n",
       "      <th>genre</th>\n",
       "      <th>platform</th>\n",
       "      <th>text</th>\n",
       "      <th>score</th>\n",
       "      <th>stars</th>\n",
       "      <th>stars_mean</th>\n",
       "      <th>score_label</th>\n",
       "    </tr>\n",
       "  </thead>\n",
       "  <tbody>\n",
       "    <tr>\n",
       "      <th>0</th>\n",
       "      <td>meristation</td>\n",
       "      <td>https://as.com/meristation/2008/12/22/analisis...</td>\n",
       "      <td>Javier de Pascual</td>\n",
       "      <td>Metal Gear Solid Mobile</td>\n",
       "      <td>Konami</td>\n",
       "      <td>Acción, Tactical</td>\n",
       "      <td>NGE</td>\n",
       "      <td>Por alguna extraña razón, cuando el jugón trad...</td>\n",
       "      <td>8.5</td>\n",
       "      <td>[[{'label': '3 stars', 'score': 0.435262888669...</td>\n",
       "      <td>3.60</td>\n",
       "      <td>'4 starts'</td>\n",
       "    </tr>\n",
       "    <tr>\n",
       "      <th>1</th>\n",
       "      <td>meristation</td>\n",
       "      <td>https://as.com/meristation/2012/12/19/analisis...</td>\n",
       "      <td>Pablo González</td>\n",
       "      <td>THE DENPA MEN: They Came By Wave</td>\n",
       "      <td>None</td>\n",
       "      <td>RPG</td>\n",
       "      <td>3DS</td>\n",
       "      <td>Nintendo 3DS ha apostado desde su primer día e...</td>\n",
       "      <td>7.2</td>\n",
       "      <td>[[{'label': '3 stars', 'score': 0.421717613935...</td>\n",
       "      <td>3.20</td>\n",
       "      <td>'4 starts'</td>\n",
       "    </tr>\n",
       "    <tr>\n",
       "      <th>2</th>\n",
       "      <td>meristation</td>\n",
       "      <td>https://as.com/meristation/2019/09/03/analisis...</td>\n",
       "      <td>David Arroyo</td>\n",
       "      <td>Telling Lies</td>\n",
       "      <td>Annapurna Interactive</td>\n",
       "      <td>Aventura</td>\n",
       "      <td>PC PS4 XBO NSW</td>\n",
       "      <td>Hablar de Telling Lies es un poco complicado. ...</td>\n",
       "      <td>8.0</td>\n",
       "      <td>[[{'label': '3 stars', 'score': 0.415306359529...</td>\n",
       "      <td>3.50</td>\n",
       "      <td>'4 starts'</td>\n",
       "    </tr>\n",
       "    <tr>\n",
       "      <th>3</th>\n",
       "      <td>meristation</td>\n",
       "      <td>https://as.com/meristation/2014/10/06/analisis...</td>\n",
       "      <td>Salva Fernàndez</td>\n",
       "      <td>Titanfall: IMC Rising</td>\n",
       "      <td>None</td>\n",
       "      <td>Acción, First Person Shooter</td>\n",
       "      <td>PC 360 XBO</td>\n",
       "      <td>Titanfall recibe el último contenido descargab...</td>\n",
       "      <td>7.0</td>\n",
       "      <td>[[{'label': '3 stars', 'score': 0.483339041471...</td>\n",
       "      <td>3.25</td>\n",
       "      <td>'4 starts'</td>\n",
       "    </tr>\n",
       "    <tr>\n",
       "      <th>4</th>\n",
       "      <td>meristation</td>\n",
       "      <td>https://as.com/meristation/2014/04/16/analisis...</td>\n",
       "      <td>None</td>\n",
       "      <td>Moebius: Empire Rising</td>\n",
       "      <td>None</td>\n",
       "      <td>Aventura Gráfica</td>\n",
       "      <td>PC OSX IPH IPD AND</td>\n",
       "      <td>“Aquellos que no pueden recordar el pasado, es...</td>\n",
       "      <td>6.8</td>\n",
       "      <td>[[{'label': '4 stars', 'score': 0.495593637228...</td>\n",
       "      <td>3.20</td>\n",
       "      <td>'3 starts'</td>\n",
       "    </tr>\n",
       "  </tbody>\n",
       "</table>\n",
       "</div>"
      ],
      "text/plain": [
       "          site                                           url_link  \\\n",
       "0  meristation  https://as.com/meristation/2008/12/22/analisis...   \n",
       "1  meristation  https://as.com/meristation/2012/12/19/analisis...   \n",
       "2  meristation  https://as.com/meristation/2019/09/03/analisis...   \n",
       "3  meristation  https://as.com/meristation/2014/10/06/analisis...   \n",
       "4  meristation  https://as.com/meristation/2014/04/16/analisis...   \n",
       "\n",
       "              author                              game                company  \\\n",
       "0  Javier de Pascual           Metal Gear Solid Mobile                 Konami   \n",
       "1     Pablo González  THE DENPA MEN: They Came By Wave                   None   \n",
       "2       David Arroyo                      Telling Lies  Annapurna Interactive   \n",
       "3    Salva Fernàndez             Titanfall: IMC Rising                   None   \n",
       "4               None            Moebius: Empire Rising                   None   \n",
       "\n",
       "                                              genre            platform  \\\n",
       "0              Acción, Tactical                                     NGE   \n",
       "1                           RPG                                     3DS   \n",
       "2                      Aventura                          PC PS4 XBO NSW   \n",
       "3  Acción, First Person Shooter                              PC 360 XBO   \n",
       "4              Aventura Gráfica                      PC OSX IPH IPD AND   \n",
       "\n",
       "                                                text  score  \\\n",
       "0  Por alguna extraña razón, cuando el jugón trad...    8.5   \n",
       "1  Nintendo 3DS ha apostado desde su primer día e...    7.2   \n",
       "2  Hablar de Telling Lies es un poco complicado. ...    8.0   \n",
       "3  Titanfall recibe el último contenido descargab...    7.0   \n",
       "4  “Aquellos que no pueden recordar el pasado, es...    6.8   \n",
       "\n",
       "                                               stars  stars_mean score_label  \n",
       "0  [[{'label': '3 stars', 'score': 0.435262888669...        3.60  '4 starts'  \n",
       "1  [[{'label': '3 stars', 'score': 0.421717613935...        3.20  '4 starts'  \n",
       "2  [[{'label': '3 stars', 'score': 0.415306359529...        3.50  '4 starts'  \n",
       "3  [[{'label': '3 stars', 'score': 0.483339041471...        3.25  '4 starts'  \n",
       "4  [[{'label': '4 stars', 'score': 0.495593637228...        3.20  '3 starts'  "
      ]
     },
     "execution_count": 99,
     "metadata": {},
     "output_type": "execute_result"
    }
   ],
   "source": [
    "all_test_small['stars_mean'] = all_test_small['stars'].apply(lambda x: stars_mean_to_score(x))"
   ]
  },
  {
   "cell_type": "markdown",
   "metadata": {},
   "source": [
    "### 3.2 With Trainer\n",
    "https://huggingface.co/transformers/custom_datasets.html"
   ]
  },
  {
   "cell_type": "code",
   "execution_count": 72,
   "metadata": {},
   "outputs": [],
   "source": [
    "#model.train()"
   ]
  },
  {
   "cell_type": "code",
   "execution_count": 91,
   "metadata": {},
   "outputs": [],
   "source": [
    "full_texts = all_test_small['text']"
   ]
  },
  {
   "cell_type": "code",
   "execution_count": 92,
   "metadata": {},
   "outputs": [],
   "source": [
    "full_labels = all_test_small['score_label']"
   ]
  },
  {
   "cell_type": "code",
   "execution_count": 93,
   "metadata": {},
   "outputs": [],
   "source": [
    "train_texts, val_texts, train_labels, val_labels = train_test_split(full_texts, full_labels, test_size=.2)"
   ]
  },
  {
   "cell_type": "code",
   "execution_count": 94,
   "metadata": {},
   "outputs": [],
   "source": [
    "val_texts = val_texts.astype(str).tolist()\n",
    "train_texts = train_texts.astype(str).tolist()"
   ]
  },
  {
   "cell_type": "code",
   "execution_count": 76,
   "metadata": {},
   "outputs": [],
   "source": [
    "tokenizer = AutoTokenizer.from_pretrained('nlptown/bert-base-multilingual-uncased-sentiment')"
   ]
  },
  {
   "cell_type": "code",
   "execution_count": 95,
   "metadata": {},
   "outputs": [],
   "source": [
    "train_encodings = tokenizer(train_texts, truncation=True, padding=True)\n",
    "val_encodings = tokenizer(val_texts, truncation=True, padding=True)"
   ]
  },
  {
   "cell_type": "code",
   "execution_count": 96,
   "metadata": {},
   "outputs": [],
   "source": [
    "class IMDbDataset(torch.utils.data.Dataset):\n",
    "    def __init__(self, encodings, labels):\n",
    "        self.encodings = encodings\n",
    "        self.labels = labels\n",
    "\n",
    "    def __getitem__(self, idx):\n",
    "        item = {key: torch.tensor(val[idx]) for key, val in self.encodings.items()}\n",
    "        item['labels'] = torch.tensor(self.labels[idx])\n",
    "        return item\n",
    "\n",
    "    def __len__(self):\n",
    "        return len(self.labels)\n",
    "\n",
    "train_dataset = IMDbDataset(train_encodings, train_labels)\n",
    "val_dataset = IMDbDataset(val_encodings, val_labels)"
   ]
  },
  {
   "cell_type": "code",
   "execution_count": 81,
   "metadata": {},
   "outputs": [],
   "source": [
    "from transformers import Trainer, TrainingArguments\n",
    "\n",
    "model = AutoModelForSequenceClassification.from_pretrained('nlptown/bert-base-multilingual-uncased-sentiment')\n",
    "\n",
    "training_args = TrainingArguments(\n",
    "    output_dir='./results',          # output directory\n",
    "    num_train_epochs=3,              # total # of training epochs\n",
    "    per_device_train_batch_size=16,  # batch size per device during training\n",
    "    per_device_eval_batch_size=64,   # batch size for evaluation\n",
    "    warmup_steps=500,                # number of warmup steps for learning rate scheduler\n",
    "    weight_decay=0.01,               # strength of weight decay\n",
    "    logging_dir='./logs',            # directory for storing logs\n",
    ")\n",
    "\n",
    "trainer = Trainer(\n",
    "    model=model,                         # the instantiated 🤗 Transformers model to be trained\n",
    "    args=training_args,                  # training arguments, defined above\n",
    "    train_dataset=train_dataset,         # training dataset\n",
    "    eval_dataset=val_dataset            # evaluation dataset\n",
    ")"
   ]
  },
  {
   "cell_type": "code",
   "execution_count": 82,
   "metadata": {},
   "outputs": [
    {
     "data": {
      "application/vnd.jupyter.widget-view+json": {
       "model_id": "98b0a91d0f7e4e438c175f1dff11c63a",
       "version_major": 2,
       "version_minor": 0
      },
      "text/plain": [
       "HBox(children=(FloatProgress(value=0.0, description='Epoch', max=3.0, style=ProgressStyle(description_width='i…"
      ]
     },
     "metadata": {},
     "output_type": "display_data"
    },
    {
     "data": {
      "application/vnd.jupyter.widget-view+json": {
       "model_id": "db613e487f564abc86c6a940d2111a14",
       "version_major": 2,
       "version_minor": 0
      },
      "text/plain": [
       "HBox(children=(FloatProgress(value=0.0, description='Iteration', max=1.0, style=ProgressStyle(description_widt…"
      ]
     },
     "metadata": {},
     "output_type": "display_data"
    },
    {
     "ename": "KeyError",
     "evalue": "11",
     "output_type": "error",
     "traceback": [
      "\u001b[0;31m---------------------------------------------------------------------------\u001b[0m",
      "\u001b[0;31mKeyError\u001b[0m                                  Traceback (most recent call last)",
      "\u001b[0;32m~/miniconda3/envs/lab_env/lib/python3.7/site-packages/pandas/core/indexes/base.py\u001b[0m in \u001b[0;36mget_loc\u001b[0;34m(self, key, method, tolerance)\u001b[0m\n\u001b[1;32m   2894\u001b[0m             \u001b[0;32mtry\u001b[0m\u001b[0;34m:\u001b[0m\u001b[0;34m\u001b[0m\u001b[0;34m\u001b[0m\u001b[0m\n\u001b[0;32m-> 2895\u001b[0;31m                 \u001b[0;32mreturn\u001b[0m \u001b[0mself\u001b[0m\u001b[0;34m.\u001b[0m\u001b[0m_engine\u001b[0m\u001b[0;34m.\u001b[0m\u001b[0mget_loc\u001b[0m\u001b[0;34m(\u001b[0m\u001b[0mcasted_key\u001b[0m\u001b[0;34m)\u001b[0m\u001b[0;34m\u001b[0m\u001b[0;34m\u001b[0m\u001b[0m\n\u001b[0m\u001b[1;32m   2896\u001b[0m             \u001b[0;32mexcept\u001b[0m \u001b[0mKeyError\u001b[0m \u001b[0;32mas\u001b[0m \u001b[0merr\u001b[0m\u001b[0;34m:\u001b[0m\u001b[0;34m\u001b[0m\u001b[0;34m\u001b[0m\u001b[0m\n",
      "\u001b[0;32mpandas/_libs/index.pyx\u001b[0m in \u001b[0;36mpandas._libs.index.IndexEngine.get_loc\u001b[0;34m()\u001b[0m\n",
      "\u001b[0;32mpandas/_libs/index.pyx\u001b[0m in \u001b[0;36mpandas._libs.index.IndexEngine.get_loc\u001b[0;34m()\u001b[0m\n",
      "\u001b[0;32mpandas/_libs/hashtable_class_helper.pxi\u001b[0m in \u001b[0;36mpandas._libs.hashtable.Int64HashTable.get_item\u001b[0;34m()\u001b[0m\n",
      "\u001b[0;32mpandas/_libs/hashtable_class_helper.pxi\u001b[0m in \u001b[0;36mpandas._libs.hashtable.Int64HashTable.get_item\u001b[0;34m()\u001b[0m\n",
      "\u001b[0;31mKeyError\u001b[0m: 11",
      "\nThe above exception was the direct cause of the following exception:\n",
      "\u001b[0;31mKeyError\u001b[0m                                  Traceback (most recent call last)",
      "\u001b[0;32m<ipython-input-82-f0b3e127ee81>\u001b[0m in \u001b[0;36m<module>\u001b[0;34m\u001b[0m\n\u001b[0;32m----> 1\u001b[0;31m \u001b[0mtrainer\u001b[0m\u001b[0;34m.\u001b[0m\u001b[0mtrain\u001b[0m\u001b[0;34m(\u001b[0m\u001b[0;34m)\u001b[0m\u001b[0;34m\u001b[0m\u001b[0;34m\u001b[0m\u001b[0m\n\u001b[0m\u001b[1;32m      2\u001b[0m \u001b[0;31m#trainer.evaluate()\u001b[0m\u001b[0;34m\u001b[0m\u001b[0;34m\u001b[0m\u001b[0;34m\u001b[0m\u001b[0m\n",
      "\u001b[0;32m~/miniconda3/envs/lab_env/lib/python3.7/site-packages/transformers/trainer.py\u001b[0m in \u001b[0;36mtrain\u001b[0;34m(self, model_path, trial)\u001b[0m\n\u001b[1;32m    753\u001b[0m \u001b[0;34m\u001b[0m\u001b[0m\n\u001b[1;32m    754\u001b[0m             \u001b[0mepoch_pbar\u001b[0m \u001b[0;34m=\u001b[0m \u001b[0mtqdm\u001b[0m\u001b[0;34m(\u001b[0m\u001b[0mepoch_iterator\u001b[0m\u001b[0;34m,\u001b[0m \u001b[0mdesc\u001b[0m\u001b[0;34m=\u001b[0m\u001b[0;34m\"Iteration\"\u001b[0m\u001b[0;34m,\u001b[0m \u001b[0mdisable\u001b[0m\u001b[0;34m=\u001b[0m\u001b[0mdisable_tqdm\u001b[0m\u001b[0;34m)\u001b[0m\u001b[0;34m\u001b[0m\u001b[0;34m\u001b[0m\u001b[0m\n\u001b[0;32m--> 755\u001b[0;31m             \u001b[0;32mfor\u001b[0m \u001b[0mstep\u001b[0m\u001b[0;34m,\u001b[0m \u001b[0minputs\u001b[0m \u001b[0;32min\u001b[0m \u001b[0menumerate\u001b[0m\u001b[0;34m(\u001b[0m\u001b[0mepoch_iterator\u001b[0m\u001b[0;34m)\u001b[0m\u001b[0;34m:\u001b[0m\u001b[0;34m\u001b[0m\u001b[0;34m\u001b[0m\u001b[0m\n\u001b[0m\u001b[1;32m    756\u001b[0m \u001b[0;34m\u001b[0m\u001b[0m\n\u001b[1;32m    757\u001b[0m                 \u001b[0;31m# Skip past any already trained steps if resuming training\u001b[0m\u001b[0;34m\u001b[0m\u001b[0;34m\u001b[0m\u001b[0;34m\u001b[0m\u001b[0m\n",
      "\u001b[0;32m~/miniconda3/envs/lab_env/lib/python3.7/site-packages/torch/utils/data/dataloader.py\u001b[0m in \u001b[0;36m__next__\u001b[0;34m(self)\u001b[0m\n\u001b[1;32m    361\u001b[0m \u001b[0;34m\u001b[0m\u001b[0m\n\u001b[1;32m    362\u001b[0m     \u001b[0;32mdef\u001b[0m \u001b[0m__next__\u001b[0m\u001b[0;34m(\u001b[0m\u001b[0mself\u001b[0m\u001b[0;34m)\u001b[0m\u001b[0;34m:\u001b[0m\u001b[0;34m\u001b[0m\u001b[0;34m\u001b[0m\u001b[0m\n\u001b[0;32m--> 363\u001b[0;31m         \u001b[0mdata\u001b[0m \u001b[0;34m=\u001b[0m \u001b[0mself\u001b[0m\u001b[0;34m.\u001b[0m\u001b[0m_next_data\u001b[0m\u001b[0;34m(\u001b[0m\u001b[0;34m)\u001b[0m\u001b[0;34m\u001b[0m\u001b[0;34m\u001b[0m\u001b[0m\n\u001b[0m\u001b[1;32m    364\u001b[0m         \u001b[0mself\u001b[0m\u001b[0;34m.\u001b[0m\u001b[0m_num_yielded\u001b[0m \u001b[0;34m+=\u001b[0m \u001b[0;36m1\u001b[0m\u001b[0;34m\u001b[0m\u001b[0;34m\u001b[0m\u001b[0m\n\u001b[1;32m    365\u001b[0m         \u001b[0;32mif\u001b[0m \u001b[0mself\u001b[0m\u001b[0;34m.\u001b[0m\u001b[0m_dataset_kind\u001b[0m \u001b[0;34m==\u001b[0m \u001b[0m_DatasetKind\u001b[0m\u001b[0;34m.\u001b[0m\u001b[0mIterable\u001b[0m \u001b[0;32mand\u001b[0m\u001b[0;31m \u001b[0m\u001b[0;31m\\\u001b[0m\u001b[0;34m\u001b[0m\u001b[0;34m\u001b[0m\u001b[0m\n",
      "\u001b[0;32m~/miniconda3/envs/lab_env/lib/python3.7/site-packages/torch/utils/data/dataloader.py\u001b[0m in \u001b[0;36m_next_data\u001b[0;34m(self)\u001b[0m\n\u001b[1;32m    401\u001b[0m     \u001b[0;32mdef\u001b[0m \u001b[0m_next_data\u001b[0m\u001b[0;34m(\u001b[0m\u001b[0mself\u001b[0m\u001b[0;34m)\u001b[0m\u001b[0;34m:\u001b[0m\u001b[0;34m\u001b[0m\u001b[0;34m\u001b[0m\u001b[0m\n\u001b[1;32m    402\u001b[0m         \u001b[0mindex\u001b[0m \u001b[0;34m=\u001b[0m \u001b[0mself\u001b[0m\u001b[0;34m.\u001b[0m\u001b[0m_next_index\u001b[0m\u001b[0;34m(\u001b[0m\u001b[0;34m)\u001b[0m  \u001b[0;31m# may raise StopIteration\u001b[0m\u001b[0;34m\u001b[0m\u001b[0;34m\u001b[0m\u001b[0m\n\u001b[0;32m--> 403\u001b[0;31m         \u001b[0mdata\u001b[0m \u001b[0;34m=\u001b[0m \u001b[0mself\u001b[0m\u001b[0;34m.\u001b[0m\u001b[0m_dataset_fetcher\u001b[0m\u001b[0;34m.\u001b[0m\u001b[0mfetch\u001b[0m\u001b[0;34m(\u001b[0m\u001b[0mindex\u001b[0m\u001b[0;34m)\u001b[0m  \u001b[0;31m# may raise StopIteration\u001b[0m\u001b[0;34m\u001b[0m\u001b[0;34m\u001b[0m\u001b[0m\n\u001b[0m\u001b[1;32m    404\u001b[0m         \u001b[0;32mif\u001b[0m \u001b[0mself\u001b[0m\u001b[0;34m.\u001b[0m\u001b[0m_pin_memory\u001b[0m\u001b[0;34m:\u001b[0m\u001b[0;34m\u001b[0m\u001b[0;34m\u001b[0m\u001b[0m\n\u001b[1;32m    405\u001b[0m             \u001b[0mdata\u001b[0m \u001b[0;34m=\u001b[0m \u001b[0m_utils\u001b[0m\u001b[0;34m.\u001b[0m\u001b[0mpin_memory\u001b[0m\u001b[0;34m.\u001b[0m\u001b[0mpin_memory\u001b[0m\u001b[0;34m(\u001b[0m\u001b[0mdata\u001b[0m\u001b[0;34m)\u001b[0m\u001b[0;34m\u001b[0m\u001b[0;34m\u001b[0m\u001b[0m\n",
      "\u001b[0;32m~/miniconda3/envs/lab_env/lib/python3.7/site-packages/torch/utils/data/_utils/fetch.py\u001b[0m in \u001b[0;36mfetch\u001b[0;34m(self, possibly_batched_index)\u001b[0m\n\u001b[1;32m     42\u001b[0m     \u001b[0;32mdef\u001b[0m \u001b[0mfetch\u001b[0m\u001b[0;34m(\u001b[0m\u001b[0mself\u001b[0m\u001b[0;34m,\u001b[0m \u001b[0mpossibly_batched_index\u001b[0m\u001b[0;34m)\u001b[0m\u001b[0;34m:\u001b[0m\u001b[0;34m\u001b[0m\u001b[0;34m\u001b[0m\u001b[0m\n\u001b[1;32m     43\u001b[0m         \u001b[0;32mif\u001b[0m \u001b[0mself\u001b[0m\u001b[0;34m.\u001b[0m\u001b[0mauto_collation\u001b[0m\u001b[0;34m:\u001b[0m\u001b[0;34m\u001b[0m\u001b[0;34m\u001b[0m\u001b[0m\n\u001b[0;32m---> 44\u001b[0;31m             \u001b[0mdata\u001b[0m \u001b[0;34m=\u001b[0m \u001b[0;34m[\u001b[0m\u001b[0mself\u001b[0m\u001b[0;34m.\u001b[0m\u001b[0mdataset\u001b[0m\u001b[0;34m[\u001b[0m\u001b[0midx\u001b[0m\u001b[0;34m]\u001b[0m \u001b[0;32mfor\u001b[0m \u001b[0midx\u001b[0m \u001b[0;32min\u001b[0m \u001b[0mpossibly_batched_index\u001b[0m\u001b[0;34m]\u001b[0m\u001b[0;34m\u001b[0m\u001b[0;34m\u001b[0m\u001b[0m\n\u001b[0m\u001b[1;32m     45\u001b[0m         \u001b[0;32melse\u001b[0m\u001b[0;34m:\u001b[0m\u001b[0;34m\u001b[0m\u001b[0;34m\u001b[0m\u001b[0m\n\u001b[1;32m     46\u001b[0m             \u001b[0mdata\u001b[0m \u001b[0;34m=\u001b[0m \u001b[0mself\u001b[0m\u001b[0;34m.\u001b[0m\u001b[0mdataset\u001b[0m\u001b[0;34m[\u001b[0m\u001b[0mpossibly_batched_index\u001b[0m\u001b[0;34m]\u001b[0m\u001b[0;34m\u001b[0m\u001b[0;34m\u001b[0m\u001b[0m\n",
      "\u001b[0;32m~/miniconda3/envs/lab_env/lib/python3.7/site-packages/torch/utils/data/_utils/fetch.py\u001b[0m in \u001b[0;36m<listcomp>\u001b[0;34m(.0)\u001b[0m\n\u001b[1;32m     42\u001b[0m     \u001b[0;32mdef\u001b[0m \u001b[0mfetch\u001b[0m\u001b[0;34m(\u001b[0m\u001b[0mself\u001b[0m\u001b[0;34m,\u001b[0m \u001b[0mpossibly_batched_index\u001b[0m\u001b[0;34m)\u001b[0m\u001b[0;34m:\u001b[0m\u001b[0;34m\u001b[0m\u001b[0;34m\u001b[0m\u001b[0m\n\u001b[1;32m     43\u001b[0m         \u001b[0;32mif\u001b[0m \u001b[0mself\u001b[0m\u001b[0;34m.\u001b[0m\u001b[0mauto_collation\u001b[0m\u001b[0;34m:\u001b[0m\u001b[0;34m\u001b[0m\u001b[0;34m\u001b[0m\u001b[0m\n\u001b[0;32m---> 44\u001b[0;31m             \u001b[0mdata\u001b[0m \u001b[0;34m=\u001b[0m \u001b[0;34m[\u001b[0m\u001b[0mself\u001b[0m\u001b[0;34m.\u001b[0m\u001b[0mdataset\u001b[0m\u001b[0;34m[\u001b[0m\u001b[0midx\u001b[0m\u001b[0;34m]\u001b[0m \u001b[0;32mfor\u001b[0m \u001b[0midx\u001b[0m \u001b[0;32min\u001b[0m \u001b[0mpossibly_batched_index\u001b[0m\u001b[0;34m]\u001b[0m\u001b[0;34m\u001b[0m\u001b[0;34m\u001b[0m\u001b[0m\n\u001b[0m\u001b[1;32m     45\u001b[0m         \u001b[0;32melse\u001b[0m\u001b[0;34m:\u001b[0m\u001b[0;34m\u001b[0m\u001b[0;34m\u001b[0m\u001b[0m\n\u001b[1;32m     46\u001b[0m             \u001b[0mdata\u001b[0m \u001b[0;34m=\u001b[0m \u001b[0mself\u001b[0m\u001b[0;34m.\u001b[0m\u001b[0mdataset\u001b[0m\u001b[0;34m[\u001b[0m\u001b[0mpossibly_batched_index\u001b[0m\u001b[0;34m]\u001b[0m\u001b[0;34m\u001b[0m\u001b[0;34m\u001b[0m\u001b[0m\n",
      "\u001b[0;32m<ipython-input-80-154db2e6283d>\u001b[0m in \u001b[0;36m__getitem__\u001b[0;34m(self, idx)\u001b[0m\n\u001b[1;32m      6\u001b[0m     \u001b[0;32mdef\u001b[0m \u001b[0m__getitem__\u001b[0m\u001b[0;34m(\u001b[0m\u001b[0mself\u001b[0m\u001b[0;34m,\u001b[0m \u001b[0midx\u001b[0m\u001b[0;34m)\u001b[0m\u001b[0;34m:\u001b[0m\u001b[0;34m\u001b[0m\u001b[0;34m\u001b[0m\u001b[0m\n\u001b[1;32m      7\u001b[0m         \u001b[0mitem\u001b[0m \u001b[0;34m=\u001b[0m \u001b[0;34m{\u001b[0m\u001b[0mkey\u001b[0m\u001b[0;34m:\u001b[0m \u001b[0mtorch\u001b[0m\u001b[0;34m.\u001b[0m\u001b[0mtensor\u001b[0m\u001b[0;34m(\u001b[0m\u001b[0mval\u001b[0m\u001b[0;34m[\u001b[0m\u001b[0midx\u001b[0m\u001b[0;34m]\u001b[0m\u001b[0;34m)\u001b[0m \u001b[0;32mfor\u001b[0m \u001b[0mkey\u001b[0m\u001b[0;34m,\u001b[0m \u001b[0mval\u001b[0m \u001b[0;32min\u001b[0m \u001b[0mself\u001b[0m\u001b[0;34m.\u001b[0m\u001b[0mencodings\u001b[0m\u001b[0;34m.\u001b[0m\u001b[0mitems\u001b[0m\u001b[0;34m(\u001b[0m\u001b[0;34m)\u001b[0m\u001b[0;34m}\u001b[0m\u001b[0;34m\u001b[0m\u001b[0;34m\u001b[0m\u001b[0m\n\u001b[0;32m----> 8\u001b[0;31m         \u001b[0mitem\u001b[0m\u001b[0;34m[\u001b[0m\u001b[0;34m'labels'\u001b[0m\u001b[0;34m]\u001b[0m \u001b[0;34m=\u001b[0m \u001b[0mtorch\u001b[0m\u001b[0;34m.\u001b[0m\u001b[0mtensor\u001b[0m\u001b[0;34m(\u001b[0m\u001b[0mself\u001b[0m\u001b[0;34m.\u001b[0m\u001b[0mlabels\u001b[0m\u001b[0;34m[\u001b[0m\u001b[0midx\u001b[0m\u001b[0;34m]\u001b[0m\u001b[0;34m)\u001b[0m\u001b[0;34m\u001b[0m\u001b[0;34m\u001b[0m\u001b[0m\n\u001b[0m\u001b[1;32m      9\u001b[0m         \u001b[0;32mreturn\u001b[0m \u001b[0mitem\u001b[0m\u001b[0;34m\u001b[0m\u001b[0;34m\u001b[0m\u001b[0m\n\u001b[1;32m     10\u001b[0m \u001b[0;34m\u001b[0m\u001b[0m\n",
      "\u001b[0;32m~/miniconda3/envs/lab_env/lib/python3.7/site-packages/pandas/core/series.py\u001b[0m in \u001b[0;36m__getitem__\u001b[0;34m(self, key)\u001b[0m\n\u001b[1;32m    880\u001b[0m \u001b[0;34m\u001b[0m\u001b[0m\n\u001b[1;32m    881\u001b[0m         \u001b[0;32melif\u001b[0m \u001b[0mkey_is_scalar\u001b[0m\u001b[0;34m:\u001b[0m\u001b[0;34m\u001b[0m\u001b[0;34m\u001b[0m\u001b[0m\n\u001b[0;32m--> 882\u001b[0;31m             \u001b[0;32mreturn\u001b[0m \u001b[0mself\u001b[0m\u001b[0;34m.\u001b[0m\u001b[0m_get_value\u001b[0m\u001b[0;34m(\u001b[0m\u001b[0mkey\u001b[0m\u001b[0;34m)\u001b[0m\u001b[0;34m\u001b[0m\u001b[0;34m\u001b[0m\u001b[0m\n\u001b[0m\u001b[1;32m    883\u001b[0m \u001b[0;34m\u001b[0m\u001b[0m\n\u001b[1;32m    884\u001b[0m         \u001b[0;32mif\u001b[0m \u001b[0mis_hashable\u001b[0m\u001b[0;34m(\u001b[0m\u001b[0mkey\u001b[0m\u001b[0;34m)\u001b[0m\u001b[0;34m:\u001b[0m\u001b[0;34m\u001b[0m\u001b[0;34m\u001b[0m\u001b[0m\n",
      "\u001b[0;32m~/miniconda3/envs/lab_env/lib/python3.7/site-packages/pandas/core/series.py\u001b[0m in \u001b[0;36m_get_value\u001b[0;34m(self, label, takeable)\u001b[0m\n\u001b[1;32m    987\u001b[0m \u001b[0;34m\u001b[0m\u001b[0m\n\u001b[1;32m    988\u001b[0m         \u001b[0;31m# Similar to Index.get_value, but we do not fall back to positional\u001b[0m\u001b[0;34m\u001b[0m\u001b[0;34m\u001b[0m\u001b[0;34m\u001b[0m\u001b[0m\n\u001b[0;32m--> 989\u001b[0;31m         \u001b[0mloc\u001b[0m \u001b[0;34m=\u001b[0m \u001b[0mself\u001b[0m\u001b[0;34m.\u001b[0m\u001b[0mindex\u001b[0m\u001b[0;34m.\u001b[0m\u001b[0mget_loc\u001b[0m\u001b[0;34m(\u001b[0m\u001b[0mlabel\u001b[0m\u001b[0;34m)\u001b[0m\u001b[0;34m\u001b[0m\u001b[0;34m\u001b[0m\u001b[0m\n\u001b[0m\u001b[1;32m    990\u001b[0m         \u001b[0;32mreturn\u001b[0m \u001b[0mself\u001b[0m\u001b[0;34m.\u001b[0m\u001b[0mindex\u001b[0m\u001b[0;34m.\u001b[0m\u001b[0m_get_values_for_loc\u001b[0m\u001b[0;34m(\u001b[0m\u001b[0mself\u001b[0m\u001b[0;34m,\u001b[0m \u001b[0mloc\u001b[0m\u001b[0;34m,\u001b[0m \u001b[0mlabel\u001b[0m\u001b[0;34m)\u001b[0m\u001b[0;34m\u001b[0m\u001b[0;34m\u001b[0m\u001b[0m\n\u001b[1;32m    991\u001b[0m \u001b[0;34m\u001b[0m\u001b[0m\n",
      "\u001b[0;32m~/miniconda3/envs/lab_env/lib/python3.7/site-packages/pandas/core/indexes/base.py\u001b[0m in \u001b[0;36mget_loc\u001b[0;34m(self, key, method, tolerance)\u001b[0m\n\u001b[1;32m   2895\u001b[0m                 \u001b[0;32mreturn\u001b[0m \u001b[0mself\u001b[0m\u001b[0;34m.\u001b[0m\u001b[0m_engine\u001b[0m\u001b[0;34m.\u001b[0m\u001b[0mget_loc\u001b[0m\u001b[0;34m(\u001b[0m\u001b[0mcasted_key\u001b[0m\u001b[0;34m)\u001b[0m\u001b[0;34m\u001b[0m\u001b[0;34m\u001b[0m\u001b[0m\n\u001b[1;32m   2896\u001b[0m             \u001b[0;32mexcept\u001b[0m \u001b[0mKeyError\u001b[0m \u001b[0;32mas\u001b[0m \u001b[0merr\u001b[0m\u001b[0;34m:\u001b[0m\u001b[0;34m\u001b[0m\u001b[0;34m\u001b[0m\u001b[0m\n\u001b[0;32m-> 2897\u001b[0;31m                 \u001b[0;32mraise\u001b[0m \u001b[0mKeyError\u001b[0m\u001b[0;34m(\u001b[0m\u001b[0mkey\u001b[0m\u001b[0;34m)\u001b[0m \u001b[0;32mfrom\u001b[0m \u001b[0merr\u001b[0m\u001b[0;34m\u001b[0m\u001b[0;34m\u001b[0m\u001b[0m\n\u001b[0m\u001b[1;32m   2898\u001b[0m \u001b[0;34m\u001b[0m\u001b[0m\n\u001b[1;32m   2899\u001b[0m         \u001b[0;32mif\u001b[0m \u001b[0mtolerance\u001b[0m \u001b[0;32mis\u001b[0m \u001b[0;32mnot\u001b[0m \u001b[0;32mNone\u001b[0m\u001b[0;34m:\u001b[0m\u001b[0;34m\u001b[0m\u001b[0;34m\u001b[0m\u001b[0m\n",
      "\u001b[0;31mKeyError\u001b[0m: 11"
     ]
    }
   ],
   "source": [
    "trainer.train()\n",
    "#trainer.evaluate()"
   ]
  },
  {
   "cell_type": "markdown",
   "metadata": {},
   "source": [
    "### 3.3 With Torch"
   ]
  },
  {
   "cell_type": "code",
   "execution_count": null,
   "metadata": {},
   "outputs": [],
   "source": []
  },
  {
   "cell_type": "code",
   "execution_count": 97,
   "metadata": {},
   "outputs": [
    {
     "ename": "TypeError",
     "evalue": "new(): invalid data type 'str'",
     "output_type": "error",
     "traceback": [
      "\u001b[0;31m---------------------------------------------------------------------------\u001b[0m",
      "\u001b[0;31mTypeError\u001b[0m                                 Traceback (most recent call last)",
      "\u001b[0;32m<ipython-input-97-95b18c0cf932>\u001b[0m in \u001b[0;36m<module>\u001b[0;34m\u001b[0m\n\u001b[1;32m     12\u001b[0m \u001b[0;34m\u001b[0m\u001b[0m\n\u001b[1;32m     13\u001b[0m \u001b[0;32mfor\u001b[0m \u001b[0mepoch\u001b[0m \u001b[0;32min\u001b[0m \u001b[0mrange\u001b[0m\u001b[0;34m(\u001b[0m\u001b[0;36m3\u001b[0m\u001b[0;34m)\u001b[0m\u001b[0;34m:\u001b[0m\u001b[0;34m\u001b[0m\u001b[0;34m\u001b[0m\u001b[0m\n\u001b[0;32m---> 14\u001b[0;31m     \u001b[0;32mfor\u001b[0m \u001b[0mbatch\u001b[0m \u001b[0;32min\u001b[0m \u001b[0mtrain_loader\u001b[0m\u001b[0;34m:\u001b[0m\u001b[0;34m\u001b[0m\u001b[0;34m\u001b[0m\u001b[0m\n\u001b[0m\u001b[1;32m     15\u001b[0m         \u001b[0moptim\u001b[0m\u001b[0;34m.\u001b[0m\u001b[0mzero_grad\u001b[0m\u001b[0;34m(\u001b[0m\u001b[0;34m)\u001b[0m\u001b[0;34m\u001b[0m\u001b[0;34m\u001b[0m\u001b[0m\n\u001b[1;32m     16\u001b[0m         \u001b[0minput_ids\u001b[0m \u001b[0;34m=\u001b[0m \u001b[0mbatch\u001b[0m\u001b[0;34m[\u001b[0m\u001b[0;34m'input_ids'\u001b[0m\u001b[0;34m]\u001b[0m\u001b[0;34m.\u001b[0m\u001b[0mto\u001b[0m\u001b[0;34m(\u001b[0m\u001b[0mdevice\u001b[0m\u001b[0;34m)\u001b[0m\u001b[0;34m\u001b[0m\u001b[0;34m\u001b[0m\u001b[0m\n",
      "\u001b[0;32m~/miniconda3/envs/lab_env/lib/python3.7/site-packages/torch/utils/data/dataloader.py\u001b[0m in \u001b[0;36m__next__\u001b[0;34m(self)\u001b[0m\n\u001b[1;32m    361\u001b[0m \u001b[0;34m\u001b[0m\u001b[0m\n\u001b[1;32m    362\u001b[0m     \u001b[0;32mdef\u001b[0m \u001b[0m__next__\u001b[0m\u001b[0;34m(\u001b[0m\u001b[0mself\u001b[0m\u001b[0;34m)\u001b[0m\u001b[0;34m:\u001b[0m\u001b[0;34m\u001b[0m\u001b[0;34m\u001b[0m\u001b[0m\n\u001b[0;32m--> 363\u001b[0;31m         \u001b[0mdata\u001b[0m \u001b[0;34m=\u001b[0m \u001b[0mself\u001b[0m\u001b[0;34m.\u001b[0m\u001b[0m_next_data\u001b[0m\u001b[0;34m(\u001b[0m\u001b[0;34m)\u001b[0m\u001b[0;34m\u001b[0m\u001b[0;34m\u001b[0m\u001b[0m\n\u001b[0m\u001b[1;32m    364\u001b[0m         \u001b[0mself\u001b[0m\u001b[0;34m.\u001b[0m\u001b[0m_num_yielded\u001b[0m \u001b[0;34m+=\u001b[0m \u001b[0;36m1\u001b[0m\u001b[0;34m\u001b[0m\u001b[0;34m\u001b[0m\u001b[0m\n\u001b[1;32m    365\u001b[0m         \u001b[0;32mif\u001b[0m \u001b[0mself\u001b[0m\u001b[0;34m.\u001b[0m\u001b[0m_dataset_kind\u001b[0m \u001b[0;34m==\u001b[0m \u001b[0m_DatasetKind\u001b[0m\u001b[0;34m.\u001b[0m\u001b[0mIterable\u001b[0m \u001b[0;32mand\u001b[0m\u001b[0;31m \u001b[0m\u001b[0;31m\\\u001b[0m\u001b[0;34m\u001b[0m\u001b[0;34m\u001b[0m\u001b[0m\n",
      "\u001b[0;32m~/miniconda3/envs/lab_env/lib/python3.7/site-packages/torch/utils/data/dataloader.py\u001b[0m in \u001b[0;36m_next_data\u001b[0;34m(self)\u001b[0m\n\u001b[1;32m    401\u001b[0m     \u001b[0;32mdef\u001b[0m \u001b[0m_next_data\u001b[0m\u001b[0;34m(\u001b[0m\u001b[0mself\u001b[0m\u001b[0;34m)\u001b[0m\u001b[0;34m:\u001b[0m\u001b[0;34m\u001b[0m\u001b[0;34m\u001b[0m\u001b[0m\n\u001b[1;32m    402\u001b[0m         \u001b[0mindex\u001b[0m \u001b[0;34m=\u001b[0m \u001b[0mself\u001b[0m\u001b[0;34m.\u001b[0m\u001b[0m_next_index\u001b[0m\u001b[0;34m(\u001b[0m\u001b[0;34m)\u001b[0m  \u001b[0;31m# may raise StopIteration\u001b[0m\u001b[0;34m\u001b[0m\u001b[0;34m\u001b[0m\u001b[0m\n\u001b[0;32m--> 403\u001b[0;31m         \u001b[0mdata\u001b[0m \u001b[0;34m=\u001b[0m \u001b[0mself\u001b[0m\u001b[0;34m.\u001b[0m\u001b[0m_dataset_fetcher\u001b[0m\u001b[0;34m.\u001b[0m\u001b[0mfetch\u001b[0m\u001b[0;34m(\u001b[0m\u001b[0mindex\u001b[0m\u001b[0;34m)\u001b[0m  \u001b[0;31m# may raise StopIteration\u001b[0m\u001b[0;34m\u001b[0m\u001b[0;34m\u001b[0m\u001b[0m\n\u001b[0m\u001b[1;32m    404\u001b[0m         \u001b[0;32mif\u001b[0m \u001b[0mself\u001b[0m\u001b[0;34m.\u001b[0m\u001b[0m_pin_memory\u001b[0m\u001b[0;34m:\u001b[0m\u001b[0;34m\u001b[0m\u001b[0;34m\u001b[0m\u001b[0m\n\u001b[1;32m    405\u001b[0m             \u001b[0mdata\u001b[0m \u001b[0;34m=\u001b[0m \u001b[0m_utils\u001b[0m\u001b[0;34m.\u001b[0m\u001b[0mpin_memory\u001b[0m\u001b[0;34m.\u001b[0m\u001b[0mpin_memory\u001b[0m\u001b[0;34m(\u001b[0m\u001b[0mdata\u001b[0m\u001b[0;34m)\u001b[0m\u001b[0;34m\u001b[0m\u001b[0;34m\u001b[0m\u001b[0m\n",
      "\u001b[0;32m~/miniconda3/envs/lab_env/lib/python3.7/site-packages/torch/utils/data/_utils/fetch.py\u001b[0m in \u001b[0;36mfetch\u001b[0;34m(self, possibly_batched_index)\u001b[0m\n\u001b[1;32m     42\u001b[0m     \u001b[0;32mdef\u001b[0m \u001b[0mfetch\u001b[0m\u001b[0;34m(\u001b[0m\u001b[0mself\u001b[0m\u001b[0;34m,\u001b[0m \u001b[0mpossibly_batched_index\u001b[0m\u001b[0;34m)\u001b[0m\u001b[0;34m:\u001b[0m\u001b[0;34m\u001b[0m\u001b[0;34m\u001b[0m\u001b[0m\n\u001b[1;32m     43\u001b[0m         \u001b[0;32mif\u001b[0m \u001b[0mself\u001b[0m\u001b[0;34m.\u001b[0m\u001b[0mauto_collation\u001b[0m\u001b[0;34m:\u001b[0m\u001b[0;34m\u001b[0m\u001b[0;34m\u001b[0m\u001b[0m\n\u001b[0;32m---> 44\u001b[0;31m             \u001b[0mdata\u001b[0m \u001b[0;34m=\u001b[0m \u001b[0;34m[\u001b[0m\u001b[0mself\u001b[0m\u001b[0;34m.\u001b[0m\u001b[0mdataset\u001b[0m\u001b[0;34m[\u001b[0m\u001b[0midx\u001b[0m\u001b[0;34m]\u001b[0m \u001b[0;32mfor\u001b[0m \u001b[0midx\u001b[0m \u001b[0;32min\u001b[0m \u001b[0mpossibly_batched_index\u001b[0m\u001b[0;34m]\u001b[0m\u001b[0;34m\u001b[0m\u001b[0;34m\u001b[0m\u001b[0m\n\u001b[0m\u001b[1;32m     45\u001b[0m         \u001b[0;32melse\u001b[0m\u001b[0;34m:\u001b[0m\u001b[0;34m\u001b[0m\u001b[0;34m\u001b[0m\u001b[0m\n\u001b[1;32m     46\u001b[0m             \u001b[0mdata\u001b[0m \u001b[0;34m=\u001b[0m \u001b[0mself\u001b[0m\u001b[0;34m.\u001b[0m\u001b[0mdataset\u001b[0m\u001b[0;34m[\u001b[0m\u001b[0mpossibly_batched_index\u001b[0m\u001b[0;34m]\u001b[0m\u001b[0;34m\u001b[0m\u001b[0;34m\u001b[0m\u001b[0m\n",
      "\u001b[0;32m~/miniconda3/envs/lab_env/lib/python3.7/site-packages/torch/utils/data/_utils/fetch.py\u001b[0m in \u001b[0;36m<listcomp>\u001b[0;34m(.0)\u001b[0m\n\u001b[1;32m     42\u001b[0m     \u001b[0;32mdef\u001b[0m \u001b[0mfetch\u001b[0m\u001b[0;34m(\u001b[0m\u001b[0mself\u001b[0m\u001b[0;34m,\u001b[0m \u001b[0mpossibly_batched_index\u001b[0m\u001b[0;34m)\u001b[0m\u001b[0;34m:\u001b[0m\u001b[0;34m\u001b[0m\u001b[0;34m\u001b[0m\u001b[0m\n\u001b[1;32m     43\u001b[0m         \u001b[0;32mif\u001b[0m \u001b[0mself\u001b[0m\u001b[0;34m.\u001b[0m\u001b[0mauto_collation\u001b[0m\u001b[0;34m:\u001b[0m\u001b[0;34m\u001b[0m\u001b[0;34m\u001b[0m\u001b[0m\n\u001b[0;32m---> 44\u001b[0;31m             \u001b[0mdata\u001b[0m \u001b[0;34m=\u001b[0m \u001b[0;34m[\u001b[0m\u001b[0mself\u001b[0m\u001b[0;34m.\u001b[0m\u001b[0mdataset\u001b[0m\u001b[0;34m[\u001b[0m\u001b[0midx\u001b[0m\u001b[0;34m]\u001b[0m \u001b[0;32mfor\u001b[0m \u001b[0midx\u001b[0m \u001b[0;32min\u001b[0m \u001b[0mpossibly_batched_index\u001b[0m\u001b[0;34m]\u001b[0m\u001b[0;34m\u001b[0m\u001b[0;34m\u001b[0m\u001b[0m\n\u001b[0m\u001b[1;32m     45\u001b[0m         \u001b[0;32melse\u001b[0m\u001b[0;34m:\u001b[0m\u001b[0;34m\u001b[0m\u001b[0;34m\u001b[0m\u001b[0m\n\u001b[1;32m     46\u001b[0m             \u001b[0mdata\u001b[0m \u001b[0;34m=\u001b[0m \u001b[0mself\u001b[0m\u001b[0;34m.\u001b[0m\u001b[0mdataset\u001b[0m\u001b[0;34m[\u001b[0m\u001b[0mpossibly_batched_index\u001b[0m\u001b[0;34m]\u001b[0m\u001b[0;34m\u001b[0m\u001b[0;34m\u001b[0m\u001b[0m\n",
      "\u001b[0;32m<ipython-input-96-154db2e6283d>\u001b[0m in \u001b[0;36m__getitem__\u001b[0;34m(self, idx)\u001b[0m\n\u001b[1;32m      6\u001b[0m     \u001b[0;32mdef\u001b[0m \u001b[0m__getitem__\u001b[0m\u001b[0;34m(\u001b[0m\u001b[0mself\u001b[0m\u001b[0;34m,\u001b[0m \u001b[0midx\u001b[0m\u001b[0;34m)\u001b[0m\u001b[0;34m:\u001b[0m\u001b[0;34m\u001b[0m\u001b[0;34m\u001b[0m\u001b[0m\n\u001b[1;32m      7\u001b[0m         \u001b[0mitem\u001b[0m \u001b[0;34m=\u001b[0m \u001b[0;34m{\u001b[0m\u001b[0mkey\u001b[0m\u001b[0;34m:\u001b[0m \u001b[0mtorch\u001b[0m\u001b[0;34m.\u001b[0m\u001b[0mtensor\u001b[0m\u001b[0;34m(\u001b[0m\u001b[0mval\u001b[0m\u001b[0;34m[\u001b[0m\u001b[0midx\u001b[0m\u001b[0;34m]\u001b[0m\u001b[0;34m)\u001b[0m \u001b[0;32mfor\u001b[0m \u001b[0mkey\u001b[0m\u001b[0;34m,\u001b[0m \u001b[0mval\u001b[0m \u001b[0;32min\u001b[0m \u001b[0mself\u001b[0m\u001b[0;34m.\u001b[0m\u001b[0mencodings\u001b[0m\u001b[0;34m.\u001b[0m\u001b[0mitems\u001b[0m\u001b[0;34m(\u001b[0m\u001b[0;34m)\u001b[0m\u001b[0;34m}\u001b[0m\u001b[0;34m\u001b[0m\u001b[0;34m\u001b[0m\u001b[0m\n\u001b[0;32m----> 8\u001b[0;31m         \u001b[0mitem\u001b[0m\u001b[0;34m[\u001b[0m\u001b[0;34m'labels'\u001b[0m\u001b[0;34m]\u001b[0m \u001b[0;34m=\u001b[0m \u001b[0mtorch\u001b[0m\u001b[0;34m.\u001b[0m\u001b[0mtensor\u001b[0m\u001b[0;34m(\u001b[0m\u001b[0mself\u001b[0m\u001b[0;34m.\u001b[0m\u001b[0mlabels\u001b[0m\u001b[0;34m[\u001b[0m\u001b[0midx\u001b[0m\u001b[0;34m]\u001b[0m\u001b[0;34m)\u001b[0m\u001b[0;34m\u001b[0m\u001b[0;34m\u001b[0m\u001b[0m\n\u001b[0m\u001b[1;32m      9\u001b[0m         \u001b[0;32mreturn\u001b[0m \u001b[0mitem\u001b[0m\u001b[0;34m\u001b[0m\u001b[0;34m\u001b[0m\u001b[0m\n\u001b[1;32m     10\u001b[0m \u001b[0;34m\u001b[0m\u001b[0m\n",
      "\u001b[0;31mTypeError\u001b[0m: new(): invalid data type 'str'"
     ]
    }
   ],
   "source": [
    "from torch.utils.data import DataLoader\n",
    "from transformers import DistilBertForSequenceClassification, AdamW\n",
    "\n",
    "device = torch.device('cuda') if torch.cuda.is_available() else torch.device('cpu')\n",
    "\n",
    "model.to(device)\n",
    "model.train()\n",
    "\n",
    "train_loader = DataLoader(train_dataset, batch_size=16, shuffle=True)\n",
    "\n",
    "optim = AdamW(model.parameters(), lr=5e-5)\n",
    "\n",
    "for epoch in range(3):\n",
    "    for batch in train_loader:\n",
    "        optim.zero_grad()\n",
    "        input_ids = batch['input_ids'].to(device)\n",
    "        attention_mask = batch['attention_mask'].to(device)\n",
    "        labels = batch['labels'].to(device)\n",
    "        outputs = model(input_ids, attention_mask=attention_mask, labels=labels)\n",
    "        loss = outputs[0]\n",
    "        loss.backward()\n",
    "        optim.step()\n",
    "\n",
    "model.eval()"
   ]
  },
  {
   "cell_type": "code",
   "execution_count": null,
   "metadata": {},
   "outputs": [],
   "source": []
  }
 ],
 "metadata": {
  "kernelspec": {
   "display_name": "Python [conda env:lab_env]",
   "language": "python",
   "name": "conda-env-lab_env-py"
  },
  "language_info": {
   "codemirror_mode": {
    "name": "ipython",
    "version": 3
   },
   "file_extension": ".py",
   "mimetype": "text/x-python",
   "name": "python",
   "nbconvert_exporter": "python",
   "pygments_lexer": "ipython3",
   "version": "3.7.3"
  }
 },
 "nbformat": 4,
 "nbformat_minor": 4
}
