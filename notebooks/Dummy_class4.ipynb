{
 "cells": [
  {
   "cell_type": "code",
   "execution_count": 1,
   "metadata": {},
   "outputs": [],
   "source": [
    "import pandas as pd\n",
    "import numpy as np\n",
    "from transformers import pipeline\n",
    "import torch\n",
    "from transformers import AutoTokenizer, AutoModelForSequenceClassification"
   ]
  },
  {
   "cell_type": "code",
   "execution_count": 2,
   "metadata": {},
   "outputs": [],
   "source": [
    "all_sites = pd.read_csv('../data/all_sites.csv')"
   ]
  },
  {
   "cell_type": "code",
   "execution_count": 7,
   "metadata": {},
   "outputs": [],
   "source": [
    "all_sites4 = all_sites[9300:12400]"
   ]
  },
  {
   "cell_type": "code",
   "execution_count": 4,
   "metadata": {},
   "outputs": [],
   "source": [
    "# Select model\n",
    "nlp_model = 'nlptown/bert-base-multilingual-uncased-sentiment'\n",
    "tokenizer = AutoTokenizer.from_pretrained(nlp_model)\n",
    "model = AutoModelForSequenceClassification.from_pretrained(nlp_model)\n",
    "\n",
    "# Classifier\n",
    "classifier = pipeline(\n",
    "        'sentiment-analysis', \n",
    "        model=model, \n",
    "        tokenizer=tokenizer)"
   ]
  },
  {
   "cell_type": "code",
   "execution_count": 5,
   "metadata": {},
   "outputs": [],
   "source": [
    "def sentiment_analysis_bert_base_multilingual_uncased(review):\n",
    "    global_stars = []\n",
    "    n = 1900\n",
    "    \n",
    "    review_splitted = [(review[i:i+n]) for i in range(0, len(review), n)]    \n",
    "    global_stars = (classifier(review_splitted))\n",
    "    \n",
    "    return global_stars\n"
   ]
  },
  {
   "cell_type": "code",
   "execution_count": 30,
   "metadata": {},
   "outputs": [],
   "source": [
    "def apply_sentiment_model(df):\n",
    "    try:\n",
    "        df['stars'] = df['text'].apply(lambda x: sentiment_analysis_bert_base_multilingual_uncased(x))\n",
    "        \n",
    "    except RuntimeError:\n",
    "        print(df['game'])\n",
    "        df['stars'] = df['text'].apply(lambda x: np.nan)\n",
    "        \n",
    "    return df"
   ]
  },
  {
   "cell_type": "code",
   "execution_count": 31,
   "metadata": {},
   "outputs": [
    {
     "name": "stderr",
     "output_type": "stream",
     "text": [
      "/home/sergio/miniconda3/envs/lab_env/lib/python3.7/site-packages/ipykernel_launcher.py:3: SettingWithCopyWarning: \n",
      "A value is trying to be set on a copy of a slice from a DataFrame.\n",
      "Try using .loc[row_indexer,col_indexer] = value instead\n",
      "\n",
      "See the caveats in the documentation: https://pandas.pydata.org/pandas-docs/stable/user_guide/indexing.html#returning-a-view-versus-a-copy\n",
      "  This is separate from the ipykernel package so we can avoid doing imports until\n"
     ]
    },
    {
     "data": {
      "text/html": [
       "<div>\n",
       "<style scoped>\n",
       "    .dataframe tbody tr th:only-of-type {\n",
       "        vertical-align: middle;\n",
       "    }\n",
       "\n",
       "    .dataframe tbody tr th {\n",
       "        vertical-align: top;\n",
       "    }\n",
       "\n",
       "    .dataframe thead th {\n",
       "        text-align: right;\n",
       "    }\n",
       "</style>\n",
       "<table border=\"1\" class=\"dataframe\">\n",
       "  <thead>\n",
       "    <tr style=\"text-align: right;\">\n",
       "      <th></th>\n",
       "      <th>site</th>\n",
       "      <th>url_link</th>\n",
       "      <th>author</th>\n",
       "      <th>game</th>\n",
       "      <th>company</th>\n",
       "      <th>genre</th>\n",
       "      <th>platform</th>\n",
       "      <th>text</th>\n",
       "      <th>score</th>\n",
       "      <th>stars</th>\n",
       "    </tr>\n",
       "  </thead>\n",
       "  <tbody>\n",
       "    <tr>\n",
       "      <th>0</th>\n",
       "      <td>meristation</td>\n",
       "      <td>https://as.com/meristation/2008/12/22/analisis...</td>\n",
       "      <td>Javier de Pascual</td>\n",
       "      <td>Metal Gear Solid Mobile</td>\n",
       "      <td>Konami</td>\n",
       "      <td>Acción, Tactical</td>\n",
       "      <td>NGE</td>\n",
       "      <td>Por alguna extraña razón, cuando el jugón trad...</td>\n",
       "      <td>8.5</td>\n",
       "      <td>[{'label': '3 stars', 'score': 0.4448424875736...</td>\n",
       "    </tr>\n",
       "    <tr>\n",
       "      <th>1</th>\n",
       "      <td>meristation</td>\n",
       "      <td>https://as.com/meristation/2012/12/19/analisis...</td>\n",
       "      <td>Pablo González</td>\n",
       "      <td>THE DENPA MEN: They Came By Wave</td>\n",
       "      <td>None</td>\n",
       "      <td>RPG</td>\n",
       "      <td>3DS</td>\n",
       "      <td>Nintendo 3DS ha apostado desde su primer día e...</td>\n",
       "      <td>7.2</td>\n",
       "      <td>[{'label': '3 stars', 'score': 0.4176394641399...</td>\n",
       "    </tr>\n",
       "    <tr>\n",
       "      <th>2</th>\n",
       "      <td>meristation</td>\n",
       "      <td>https://as.com/meristation/2019/09/03/analisis...</td>\n",
       "      <td>David Arroyo</td>\n",
       "      <td>Telling Lies</td>\n",
       "      <td>Annapurna Interactive</td>\n",
       "      <td>Aventura</td>\n",
       "      <td>PC PS4 XBO NSW</td>\n",
       "      <td>Hablar de Telling Lies es un poco complicado. ...</td>\n",
       "      <td>8.0</td>\n",
       "      <td>[{'label': '3 stars', 'score': 0.4085363745689...</td>\n",
       "    </tr>\n",
       "    <tr>\n",
       "      <th>3</th>\n",
       "      <td>meristation</td>\n",
       "      <td>https://as.com/meristation/2014/10/06/analisis...</td>\n",
       "      <td>Salva Fernàndez</td>\n",
       "      <td>Titanfall: IMC Rising</td>\n",
       "      <td>None</td>\n",
       "      <td>Acción, First Person Shooter</td>\n",
       "      <td>PC 360 XBO</td>\n",
       "      <td>Titanfall recibe el último contenido descargab...</td>\n",
       "      <td>7.0</td>\n",
       "      <td>[{'label': '3 stars', 'score': 0.4825307130813...</td>\n",
       "    </tr>\n",
       "    <tr>\n",
       "      <th>4</th>\n",
       "      <td>meristation</td>\n",
       "      <td>https://as.com/meristation/2014/04/16/analisis...</td>\n",
       "      <td>None</td>\n",
       "      <td>Moebius: Empire Rising</td>\n",
       "      <td>None</td>\n",
       "      <td>Aventura Gráfica</td>\n",
       "      <td>PC OSX IPH IPD AND</td>\n",
       "      <td>“Aquellos que no pueden recordar el pasado, es...</td>\n",
       "      <td>6.8</td>\n",
       "      <td>[{'label': '4 stars', 'score': 0.4670569002628...</td>\n",
       "    </tr>\n",
       "  </tbody>\n",
       "</table>\n",
       "</div>"
      ],
      "text/plain": [
       "          site                                           url_link  \\\n",
       "0  meristation  https://as.com/meristation/2008/12/22/analisis...   \n",
       "1  meristation  https://as.com/meristation/2012/12/19/analisis...   \n",
       "2  meristation  https://as.com/meristation/2019/09/03/analisis...   \n",
       "3  meristation  https://as.com/meristation/2014/10/06/analisis...   \n",
       "4  meristation  https://as.com/meristation/2014/04/16/analisis...   \n",
       "\n",
       "              author                              game                company  \\\n",
       "0  Javier de Pascual           Metal Gear Solid Mobile                 Konami   \n",
       "1     Pablo González  THE DENPA MEN: They Came By Wave                   None   \n",
       "2       David Arroyo                      Telling Lies  Annapurna Interactive   \n",
       "3    Salva Fernàndez             Titanfall: IMC Rising                   None   \n",
       "4               None            Moebius: Empire Rising                   None   \n",
       "\n",
       "                                              genre            platform  \\\n",
       "0              Acción, Tactical                                     NGE   \n",
       "1                           RPG                                     3DS   \n",
       "2                      Aventura                          PC PS4 XBO NSW   \n",
       "3  Acción, First Person Shooter                              PC 360 XBO   \n",
       "4              Aventura Gráfica                      PC OSX IPH IPD AND   \n",
       "\n",
       "                                                text  score  \\\n",
       "0  Por alguna extraña razón, cuando el jugón trad...    8.5   \n",
       "1  Nintendo 3DS ha apostado desde su primer día e...    7.2   \n",
       "2  Hablar de Telling Lies es un poco complicado. ...    8.0   \n",
       "3  Titanfall recibe el último contenido descargab...    7.0   \n",
       "4  “Aquellos que no pueden recordar el pasado, es...    6.8   \n",
       "\n",
       "                                               stars  \n",
       "0  [{'label': '3 stars', 'score': 0.4448424875736...  \n",
       "1  [{'label': '3 stars', 'score': 0.4176394641399...  \n",
       "2  [{'label': '3 stars', 'score': 0.4085363745689...  \n",
       "3  [{'label': '3 stars', 'score': 0.4825307130813...  \n",
       "4  [{'label': '4 stars', 'score': 0.4670569002628...  "
      ]
     },
     "execution_count": 31,
     "metadata": {},
     "output_type": "execute_result"
    }
   ],
   "source": [
    "apply_sentiment_model(all_sites4)"
   ]
  },
  {
   "cell_type": "code",
   "execution_count": null,
   "metadata": {},
   "outputs": [],
   "source": [
    "def stars_mean_to_score(review):\n",
    "    \n",
    "    points = []\n",
    "\n",
    "    for classification in review:\n",
    "\n",
    "        #Mean of fragment\n",
    "        grade = int(classification['label'].split(' ')[0])\n",
    "        points.append(grade)  \n",
    "    score = round(np.mean(points), 2)\n",
    "\n",
    "    return(score)   "
   ]
  },
  {
   "cell_type": "code",
   "execution_count": null,
   "metadata": {},
   "outputs": [],
   "source": [
    "all_sites4['stars_mean'] = all_sites4['stars'].apply(lambda x: stars_mean_to_score(x))"
   ]
  },
  {
   "cell_type": "code",
   "execution_count": null,
   "metadata": {},
   "outputs": [],
   "source": [
    "def score_labels(score):\n",
    "    scorelabel = f\"'{round(score / 2)} starts'\"\n",
    "    return scorelabel"
   ]
  },
  {
   "cell_type": "code",
   "execution_count": null,
   "metadata": {},
   "outputs": [],
   "source": [
    "all_sites4['score_label'] = all_sites4['score'].apply(lambda x: score_labels(x))"
   ]
  },
  {
   "cell_type": "code",
   "execution_count": null,
   "metadata": {},
   "outputs": [],
   "source": [
    "def score_half(score):\n",
    "    return score / 2"
   ]
  },
  {
   "cell_type": "code",
   "execution_count": null,
   "metadata": {},
   "outputs": [],
   "source": [
    "all_sites4['score_adj'] = all_sites4['score'].apply(lambda x: score_half(x))"
   ]
  },
  {
   "cell_type": "code",
   "execution_count": null,
   "metadata": {},
   "outputs": [],
   "source": [
    "all_sites4.to_csv('../data/scored_texts4.csv', index=False)"
   ]
  },
  {
   "cell_type": "code",
   "execution_count": null,
   "metadata": {},
   "outputs": [],
   "source": []
  },
  {
   "cell_type": "code",
   "execution_count": null,
   "metadata": {},
   "outputs": [],
   "source": []
  }
 ],
 "metadata": {
  "kernelspec": {
   "display_name": "Python [conda env:lab_env]",
   "language": "python",
   "name": "conda-env-lab_env-py"
  },
  "language_info": {
   "codemirror_mode": {
    "name": "ipython",
    "version": 3
   },
   "file_extension": ".py",
   "mimetype": "text/x-python",
   "name": "python",
   "nbconvert_exporter": "python",
   "pygments_lexer": "ipython3",
   "version": "3.7.3"
  }
 },
 "nbformat": 4,
 "nbformat_minor": 4
}
