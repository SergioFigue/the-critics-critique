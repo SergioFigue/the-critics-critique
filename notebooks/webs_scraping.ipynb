{
 "cells": [
  {
   "cell_type": "markdown",
   "metadata": {},
   "source": [
    "<div style=\"float:right; padding-top: 15px; padding-right: 15px\">\n",
    "    <div>\n",
    "        <a href=\"https://whiteboxml.com\">\n",
    "            <img src=\"https://whiteboxml.com/static/img/logo/black_bg_white.svg\" width=\"250\">\n",
    "        </a>\n",
    "    </div>\n",
    "</div>"
   ]
  },
  {
   "cell_type": "markdown",
   "metadata": {},
   "source": [
    "# Web Scraping"
   ]
  },
  {
   "cell_type": "markdown",
   "metadata": {},
   "source": [
    "## 1. Introduction"
   ]
  },
  {
   "cell_type": "markdown",
   "metadata": {},
   "source": [
    "Web scraping refers to the automatic extraction of information from a web page. This information is often a page's content, but it can also include information in the page's headers, links present on the page, or any other information embedded in the page's HTML. Because of this, scraping has become one of the most popular ways to extract data from the web. \n",
    "\n",
    "_\"With basic knowledge of HTML and the help of a few Python libraries, you can obtain information from just about any page on the Internet\"_"
   ]
  },
  {
   "cell_type": "markdown",
   "metadata": {},
   "source": [
    "## 2. Scraping a Simple Web Page"
   ]
  },
  {
   "cell_type": "code",
   "execution_count": 3,
   "metadata": {},
   "outputs": [
    {
     "data": {
      "text/plain": [
       "b' <!DOCTYPE html>\\n<html lang=\"es\">\\n<head>\\n\\n\\n<script>(function(w,d,s,l,i){w[l]=w[l]||[];w[l].push({\\'gtm.start\\':\\n\\tnew Date().getTime(),event:\\'gtm.js\\'});var f=d.getElementsByTagName(s)[0],\\n\\tj=d.createElement(s),dl=l!=\\'dataLayer\\'?\\'&l=\\'+l:\\'\\';j.async=true;j.src=\\n\\t\\'https://www.googletagmanager.com/gtm.js?id=\\'+i+dl;f.parentNode.insertBefore(j,f);\\n\\t})(window,document,\\'script\\',\\'dataLayer\\',\\'GTM-P9ZBFRD\\');</script>\\n\\n\\n<meta charset=\"utf-8\">\\n<meta name=\"viewport\" content=\"width=device-width, initial-scale=1.0,'"
      ]
     },
     "execution_count": 3,
     "metadata": {},
     "output_type": "execute_result"
    }
   ],
   "source": [
    "\n",
    "#Scraping del menú de análisis\n",
    "import requests\n",
    "\n",
    "url = 'https://www.gamereactor.es/analisis/?gameSystem[]=&genre[]=RPG&minscore=1&orderby=publishdate&textType=1&ipg=50'\n",
    "html = requests.get(url).content\n",
    "html[:500]"
   ]
  },
  {
   "cell_type": "markdown",
   "metadata": {},
   "source": [
    "### 2.1 Beautiful Soup"
   ]
  },
  {
   "cell_type": "code",
   "execution_count": 62,
   "metadata": {},
   "outputs": [],
   "source": [
    "from bs4 import BeautifulSoup\n",
    "\n",
    "# lxml is the parsing module\n",
    "soup = BeautifulSoup(html, 'lxml')\n",
    "article = soup.find_all('section', {'id':'textlist'})[0]\n"
   ]
  },
  {
   "cell_type": "code",
   "execution_count": 74,
   "metadata": {},
   "outputs": [],
   "source": [
    "urls = soup.find_all('article', {'class':'areview'})\n"
   ]
  },
  {
   "cell_type": "code",
   "execution_count": 85,
   "metadata": {},
   "outputs": [
    {
     "data": {
      "text/plain": [
       "<article class=\"areview\" style=\"\">\n",
       "<div class=\"commentsbox_rwd\">\n",
       "<div class=\"commentsbox share-count-image-textList\"><img alt=\"Interaciones\" class=\"imageInter\" src=\"/lay/interactions_icon/interactions_double.PNG\" style=\"\tfloat: left;\n",
       "\t\t\t\twidth: 38px;\n",
       "\t\t\t\theight: 20px;\n",
       "\t\t\t\tmargin-top: -3px;\n",
       "\t\t\t\tmargin-right: 2px;\"/><div class=\"label-count\">0</div>\n",
       "<a href=\"/pathfinder-kingmaker-para-ps4-y-xbox-one/?sid=0f2f862e61f71946f2f07ebdce16ec4f#comments\" rel=\"nofollow\"></a></div>\n",
       "</div>\n",
       "<a href=\"/pathfinder-kingmaker-para-ps4-y-xbox-one/?sid=0f2f862e61f71946f2f07ebdce16ec4f\"><img alt=\"Pathfinder: Kingmaker para PS4 y Xbox One\" class=\"lazy\" data-original=\"/media/09/pathfinder_2760913_145x107.jpg\" src=\"/lay/i.gif\" style=\"width:145px;height:107px;\"/><noscript>\n",
       "<img alt=\"Pathfinder: Kingmaker para PS4 y Xbox One\" src=\"/media/09/pathfinder_2760913_145x107.jpg\" style=\"width:145px;height:107px;\"/>\n",
       "</noscript><img alt=\"Score\" class=\"score\" src=\"/lay/redesign/score_c35_07.png\" style=\"margin-top:6px;\"/> <h3>Pathfinder: Kingmaker para PS4 y Xbox One</h3>\n",
       "</a>\n",
       "<div class=\"systems\">PS4</div>\n",
       "<p>Los jugadores de consola ya pueden montarse su propia aventura Pathfinder.</p>\n",
       "<div class=\"publishauthor\">\n",
       "Autor: <a class=\"username\" href=\"https://www.gamereactor.eu/equipo/RoyWoodhouse/\" rel=\"nofollow\">Roy Woodhouse</a> <time datetime=\"2020-09-14\">Publicado el 14 de septiembre 2020</time>\n",
       "</div>\n",
       "</article>"
      ]
     },
     "execution_count": 85,
     "metadata": {},
     "output_type": "execute_result"
    }
   ],
   "source": [
    "urls[0]"
   ]
  },
  {
   "cell_type": "code",
   "execution_count": 90,
   "metadata": {},
   "outputs": [
    {
     "data": {
      "text/plain": [
       "[<a href=\"/pathfinder-kingmaker-para-ps4-y-xbox-one/?sid=0f2f862e61f71946f2f07ebdce16ec4f#comments\" rel=\"nofollow\"></a>,\n",
       " <a href=\"/pathfinder-kingmaker-para-ps4-y-xbox-one/?sid=0f2f862e61f71946f2f07ebdce16ec4f\"><img alt=\"Pathfinder: Kingmaker para PS4 y Xbox One\" class=\"lazy\" data-original=\"/media/09/pathfinder_2760913_145x107.jpg\" src=\"/lay/i.gif\" style=\"width:145px;height:107px;\"/><noscript>\n",
       " <img alt=\"Pathfinder: Kingmaker para PS4 y Xbox One\" src=\"/media/09/pathfinder_2760913_145x107.jpg\" style=\"width:145px;height:107px;\"/>\n",
       " </noscript><img alt=\"Score\" class=\"score\" src=\"/lay/redesign/score_c35_07.png\" style=\"margin-top:6px;\"/> <h3>Pathfinder: Kingmaker para PS4 y Xbox One</h3>\n",
       " </a>,\n",
       " <h3>Pathfinder: Kingmaker para PS4 y Xbox One</h3>,\n",
       " <a class=\"username\" href=\"https://www.gamereactor.eu/equipo/RoyWoodhouse/\" rel=\"nofollow\">Roy Woodhouse</a>]"
      ]
     },
     "execution_count": 90,
     "metadata": {},
     "output_type": "execute_result"
    }
   ],
   "source": [
    "tags = urls[0].find_all(['h3', 'a'])\n",
    "tags"
   ]
  },
  {
   "cell_type": "code",
   "execution_count": 82,
   "metadata": {},
   "outputs": [
    {
     "ename": "AttributeError",
     "evalue": "ResultSet object has no attribute 'find_all'. You're probably treating a list of elements like a single element. Did you call find_all() when you meant to call find()?",
     "output_type": "error",
     "traceback": [
      "\u001b[0;31m---------------------------------------------------------------------------\u001b[0m",
      "\u001b[0;31mAttributeError\u001b[0m                            Traceback (most recent call last)",
      "\u001b[0;32m<ipython-input-82-ea78c97c2775>\u001b[0m in \u001b[0;36m<module>\u001b[0;34m\u001b[0m\n\u001b[0;32m----> 1\u001b[0;31m \u001b[0mrows\u001b[0m \u001b[0;34m=\u001b[0m \u001b[0murls\u001b[0m\u001b[0;34m.\u001b[0m\u001b[0mfind_all\u001b[0m\u001b[0;34m(\u001b[0m\u001b[0;34m[\u001b[0m\u001b[0;34m'a'\u001b[0m\u001b[0;34m,\u001b[0m \u001b[0;34m'h3'\u001b[0m\u001b[0;34m]\u001b[0m\u001b[0;34m,\u001b[0m \u001b[0;34m{\u001b[0m\u001b[0;34m'class'\u001b[0m\u001b[0;34m:\u001b[0m \u001b[0;34m[\u001b[0m\u001b[0;34m'username'\u001b[0m\u001b[0;34m]\u001b[0m\u001b[0;34m}\u001b[0m\u001b[0;34m)\u001b[0m\u001b[0;34m\u001b[0m\u001b[0;34m\u001b[0m\u001b[0m\n\u001b[0m\u001b[1;32m      2\u001b[0m \u001b[0;31m#{'class': ['storylink', 'sitestr', 'hnuser', 'score', 'age']})\u001b[0m\u001b[0;34m\u001b[0m\u001b[0;34m\u001b[0m\u001b[0;34m\u001b[0m\u001b[0m\n\u001b[1;32m      3\u001b[0m \u001b[0mrows_parsed\u001b[0m \u001b[0;34m=\u001b[0m \u001b[0;34m[\u001b[0m\u001b[0mrow\u001b[0m\u001b[0;34m.\u001b[0m\u001b[0mtext\u001b[0m \u001b[0;32mfor\u001b[0m \u001b[0mrow\u001b[0m \u001b[0;32min\u001b[0m \u001b[0mrows\u001b[0m\u001b[0;34m]\u001b[0m\u001b[0;34m\u001b[0m\u001b[0;34m\u001b[0m\u001b[0m\n\u001b[1;32m      4\u001b[0m \u001b[0;34m\u001b[0m\u001b[0m\n\u001b[1;32m      5\u001b[0m \u001b[0mrows_parsed\u001b[0m\u001b[0;34m\u001b[0m\u001b[0;34m\u001b[0m\u001b[0m\n",
      "\u001b[0;32m~/miniconda3/envs/lab_env/lib/python3.7/site-packages/bs4/element.py\u001b[0m in \u001b[0;36m__getattr__\u001b[0;34m(self, key)\u001b[0m\n\u001b[1;32m   2159\u001b[0m         \u001b[0;34m\"\"\"Raise a helpful exception to explain a common code fix.\"\"\"\u001b[0m\u001b[0;34m\u001b[0m\u001b[0;34m\u001b[0m\u001b[0m\n\u001b[1;32m   2160\u001b[0m         raise AttributeError(\n\u001b[0;32m-> 2161\u001b[0;31m             \u001b[0;34m\"ResultSet object has no attribute '%s'. You're probably treating a list of elements like a single element. Did you call find_all() when you meant to call find()?\"\u001b[0m \u001b[0;34m%\u001b[0m \u001b[0mkey\u001b[0m\u001b[0;34m\u001b[0m\u001b[0;34m\u001b[0m\u001b[0m\n\u001b[0m\u001b[1;32m   2162\u001b[0m         )\n",
      "\u001b[0;31mAttributeError\u001b[0m: ResultSet object has no attribute 'find_all'. You're probably treating a list of elements like a single element. Did you call find_all() when you meant to call find()?"
     ]
    }
   ],
   "source": [
    "rows = urls.find_all('a', {'class': ['username']})\n",
    "#{'class': ['storylink', 'sitestr', 'hnuser', 'score', 'age']})\n",
    "rows_parsed = [row.text for row in rows]\n",
    "\n",
    "rows_parsed"
   ]
  },
  {
   "cell_type": "code",
   "execution_count": 103,
   "metadata": {},
   "outputs": [],
   "source": [
    "#selección de tags enlace\n",
    "\n",
    "tags = article.find_all('a')\n",
    "link_parsed = []\n",
    "\n",
    "for tag in tags:\n",
    "    link = tag['href']\n",
    "#    author = tag.find_all('a', {'class': ['username']})\n",
    "    link_parsed.append(link)\n",
    "#    print(author)\n",
    "#   print(title)"
   ]
  },
  {
   "cell_type": "code",
   "execution_count": 126,
   "metadata": {},
   "outputs": [
    {
     "data": {
      "text/plain": [
       "'/pathfinder-kingmaker-para-ps4-y-xbox-one/?sid=0f2f862e61f71946f2f07ebdce16ec4f'"
      ]
     },
     "execution_count": 126,
     "metadata": {},
     "output_type": "execute_result"
    }
   ],
   "source": [
    "#refactorización en bloques de tres\n",
    "row_split = 3\n",
    "links_refactored = [link_parsed[x:x+row_split] for x in range(0, len(link_parsed), row_split)]\n",
    "links_refactored[0][1]"
   ]
  },
  {
   "cell_type": "code",
   "execution_count": 64,
   "metadata": {},
   "outputs": [
    {
     "data": {
      "text/plain": [
       "['Roy Woodhouse',\n",
       " 'Eirik Hyldbakk Furu',\n",
       " 'Roy Woodhouse',\n",
       " 'Kieran Harris',\n",
       " 'Roy Woodhouse',\n",
       " 'David Caballero',\n",
       " 'Stefan Briesenick',\n",
       " 'Juan A. Fonseca',\n",
       " 'Juan A. Fonseca',\n",
       " 'Jonas Mäki',\n",
       " 'Ben Lyons',\n",
       " 'Mike Holmes',\n",
       " 'Ingar Takanobu Hauge',\n",
       " 'Paweł Matyjewicz',\n",
       " 'Kieran Harris',\n",
       " 'Juan A. Fonseca',\n",
       " 'Roy Woodhouse',\n",
       " 'Stefan Briesenick',\n",
       " 'Juan A. Fonseca',\n",
       " 'Roy Woodhouse',\n",
       " 'Juan A. Fonseca',\n",
       " 'Juan A. Fonseca',\n",
       " 'Kieran Harris',\n",
       " 'Ben Lyons',\n",
       " 'Petter Lundberg',\n",
       " 'Juan A. Fonseca',\n",
       " 'Ben Lyons',\n",
       " 'Roy Woodhouse',\n",
       " 'Ingar Takanobu Hauge',\n",
       " 'Sergio Figueroa',\n",
       " 'Eirik Hyldbakk Furu',\n",
       " 'Anders Baad Mai',\n",
       " 'Juan A. Fonseca',\n",
       " 'Ben Lyons',\n",
       " 'Stefan Briesenick',\n",
       " 'Kieran Harris',\n",
       " 'Kieran Harris',\n",
       " 'Paweł Matyjewicz']"
      ]
     },
     "execution_count": 64,
     "metadata": {},
     "output_type": "execute_result"
    }
   ],
   "source": [
    "#Selección de autor\n",
    "rows = article.find_all('a', {'class': 'username'})\n",
    "#{'class': ['storylink', 'sitestr', 'hnuser', 'score', 'age']})\n",
    "rows_parsed = [row.text for row in rows]\n",
    "\n",
    "rows_parsed"
   ]
  },
  {
   "cell_type": "code",
   "execution_count": 115,
   "metadata": {},
   "outputs": [
    {
     "data": {
      "text/plain": [
       "'https://www.gamereactor.es/pathfinder-kingmaker-para-ps4-y-xbox-one/?sid=0f2f862e61f71946f2f07ebdce16ec4f'"
      ]
     },
     "execution_count": 115,
     "metadata": {},
     "output_type": "execute_result"
    }
   ],
   "source": [
    "f\"https://www.gamereactor.es{links_refactored[0][1]}\""
   ]
  },
  {
   "cell_type": "code",
   "execution_count": 173,
   "metadata": {},
   "outputs": [
    {
     "data": {
      "text/plain": [
       "['/pathfinder-kingmaker-para-ps4-y-xbox-one/?sid=0f2f862e61f71946f2f07ebdce16ec4f',\n",
       " '/marvels-avengers-analisis/?sid=0f2f862e61f71946f2f07ebdce16ec4f',\n",
       " '/wasteland-3-analisis/?sid=0f2f862e61f71946f2f07ebdce16ec4f']"
      ]
     },
     "execution_count": 173,
     "metadata": {},
     "output_type": "execute_result"
    }
   ],
   "source": [
    "links_list[:3]"
   ]
  },
  {
   "cell_type": "code",
   "execution_count": 195,
   "metadata": {},
   "outputs": [
    {
     "name": "stdout",
     "output_type": "stream",
     "text": [
      "/pathfinder-kingmaker-para-ps4-y-xbox-one/?sid=0f2f862e61f71946f2f07ebdce16ec4f\n",
      "/marvels-avengers-analisis/?sid=0f2f862e61f71946f2f07ebdce16ec4f\n",
      "/wasteland-3-analisis/?sid=0f2f862e61f71946f2f07ebdce16ec4f\n",
      "/mortal-shell-un-souls-endurecido/?sid=0f2f862e61f71946f2f07ebdce16ec4f#comments\n",
      "/fairy-tail-analisis/?sid=0f2f862e61f71946f2f07ebdce16ec4f#comments\n",
      "/paper-mario-the-origami-king-analisis/?sid=0f2f862e61f71946f2f07ebdce16ec4f#comments\n",
      "/persona-4-golden-para-pc/?sid=0f2f862e61f71946f2f07ebdce16ec4f#comments\n",
      "/pokemon-espada-y-escudo-isla-de-la-armadura/?sid=0f2f862e61f71946f2f07ebdce16ec4f#comments\n",
      "/the-outer-worlds-para-nintendo-switch/?sid=0f2f862e61f71946f2f07ebdce16ec4f#comments\n",
      "/xenoblade-chronicles-definitive-edition-analisis/?sid=0f2f862e61f71946f2f07ebdce16ec4f\n",
      "/minecraft-dungeons-analisis/?sid=0f2f862e61f71946f2f07ebdce16ec4f\n",
      "/maneater-el-gta-del-mar/?sid=0f2f862e61f71946f2f07ebdce16ec4f\n",
      "/mafia-ii-definitive-edition-analisis/?sid=0f2f862e61f71946f2f07ebdce16ec4f\n",
      "/sakura-wars-analisis/?sid=0f2f862e61f71946f2f07ebdce16ec4f\n",
      "/trials-of-mana-analisis/?sid=0f2f862e61f71946f2f07ebdce16ec4f\n",
      "/fallout-76-wastelanders/?sid=0f2f862e61f71946f2f07ebdce16ec4f\n",
      "/final-fantasy-vii-remake-analisis/?sid=0f2f862e61f71946f2f07ebdce16ec4f\n",
      "/dead-or-school/?sid=0f2f862e61f71946f2f07ebdce16ec4f\n",
      "/persona-5-royal-analisis/?sid=0f2f862e61f71946f2f07ebdce16ec4f\n",
      "/darksiders-genesis-analisis/?sid=0f2f862e61f71946f2f07ebdce16ec4f\n",
      "/equipo/Juan+A+Fonseca/?sid=0f2f862e61f71946f2f07ebdce16ec4f\n",
      "https://www.gamereactor.eu/equipo/RoyWoodhouse/\n",
      "/darksiders-genesis-analisis/?sid=0f2f862e61f71946f2f07ebdce16ec4f#comments\n",
      "/disco-elysium-analisis/?sid=0f2f862e61f71946f2f07ebdce16ec4f#comments\n",
      "/pokemon-espada-pokemon-escudo/?sid=0f2f862e61f71946f2f07ebdce16ec4f\n",
      "/little-town-hero-analisis/?sid=0f2f862e61f71946f2f07ebdce16ec4f\n",
      "/the-outer-worlds-analisis/?sid=0f2f862e61f71946f2f07ebdce16ec4f\n",
      "https://www.gamereactor.eu/equipo/Ben+Lyons/\n",
      "https://www.gamereactor.fi/equipo/Petter+Lundberg/\n",
      "/code-vein-analisis/?sid=0f2f862e61f71946f2f07ebdce16ec4f#comments\n",
      "/children-of-morta-analisis/?sid=0f2f862e61f71946f2f07ebdce16ec4f#comments\n",
      "/greedfall-analisis/?sid=0f2f862e61f71946f2f07ebdce16ec4f#comments\n",
      "/oninaki-analisis/?sid=0f2f862e61f71946f2f07ebdce16ec4f#comments\n",
      "/dandy-dungeon-legend-of-brave-yamada-analisis/?sid=0f2f862e61f71946f2f07ebdce16ec4f#comments\n",
      "/marvel-ultimate-alliance-3-the-black-order-analisis/?sid=0f2f862e61f71946f2f07ebdce16ec4f\n",
      "/assassins-creed-odyssey-dlc-el-juicio-de-la-atlantida/?sid=0f2f862e61f71946f2f07ebdce16ec4f\n",
      "/dauntless-analisis/?sid=0f2f862e61f71946f2f07ebdce16ec4f\n",
      "https://www.gamereactor.dk/equipo/AndersMai/\n",
      "/steamworld-quest-hand-of-gilgamech-analisis/?sid=0f2f862e61f71946f2f07ebdce16ec4f#comments\n",
      "/chocobos-mystery-dungeon-every-buddy-analisis/?sid=0f2f862e61f71946f2f07ebdce16ec4f#comments\n",
      "/the-division-2-analisis/?sid=0f2f862e61f71946f2f07ebdce16ec4f#comments\n",
      "/toejam-earl-back-in-the-groove-analisis/?sid=0f2f862e61f71946f2f07ebdce16ec4f\n",
      "https://www.gamereactor.de/equipo/Stefan+Briesenick/\n",
      "https://www.gamereactor.eu/equipo/Kieran+Harris/\n",
      "/my-time-at-portia-analisis/?sid=0f2f862e61f71946f2f07ebdce16ec4f#comments\n",
      "/tales-of-vesperia-definitive-edition-analisis/?sid=0f2f862e61f71946f2f07ebdce16ec4f#comments\n",
      "/analisis/?genre[]=RPG&sid=0f2f862e61f71946f2f07ebdce16ec4f\n",
      "/analisis/?genre[]=RPG&page=4&sid=0f2f862e61f71946f2f07ebdce16ec4f\n",
      "/analisis/?genre[]=RPG&page=7&sid=0f2f862e61f71946f2f07ebdce16ec4f\n",
      "/analisis/?genre[]=RPG&ipg=50&page=1&sid=0f2f862e61f71946f2f07ebdce16ec4f\n"
     ]
    }
   ],
   "source": [
    "#seleccion de enlaces necesarios\n",
    "links_list = []\n",
    "for game in links_refactored:\n",
    "    print(game[1])\n",
    "    links_list.append(game[1])"
   ]
  },
  {
   "cell_type": "code",
   "execution_count": 189,
   "metadata": {},
   "outputs": [],
   "source": [
    "'''import furl\n",
    "\n",
    "tests = 'http://www.gamereactor.es/archivo?sid=0f2f862e61f71946f2f07ebdce16ec4f'\n",
    "\n",
    "final_list = []\n",
    "\n",
    "for linkin in links_list:\n",
    "    new_link = 'https:www.gamereactor.es' + linkin\n",
    "    new_link = furl.furl(new_link).remove().url\n",
    "    final_list.append(new_link)\n",
    "'''    "
   ]
  },
  {
   "cell_type": "markdown",
   "metadata": {},
   "source": [
    "# SCRAPING REVIEWS"
   ]
  },
  {
   "cell_type": "code",
   "execution_count": 283,
   "metadata": {},
   "outputs": [
    {
     "data": {
      "text/plain": [
       "b' <!DOCTYPE html>\\n<html lang=\"es\">\\n<head>\\n\\n\\n<script'"
      ]
     },
     "execution_count": 283,
     "metadata": {},
     "output_type": "execute_result"
    }
   ],
   "source": [
    "\n",
    "#Scrape de un análisis\n",
    "review_url = 'https://www.gamereactor.es/pathfinder-kingmaker-para-ps4-y-xbox-one/?sid=0f2f862e61f71946f2f07ebdce16ec4f'\n",
    "review_html = requests.get(review_url).content\n",
    "review_html[:50]\n"
   ]
  },
  {
   "cell_type": "code",
   "execution_count": 286,
   "metadata": {},
   "outputs": [],
   "source": [
    "soup = BeautifulSoup(html, 'lxml')\n",
    "review = soup.find_all('div', {'id':'main'})"
   ]
  },
  {
   "cell_type": "code",
   "execution_count": 288,
   "metadata": {},
   "outputs": [
    {
     "ename": "AttributeError",
     "evalue": "ResultSet object has no attribute 'text'. You're probably treating a list of elements like a single element. Did you call find_all() when you meant to call find()?",
     "output_type": "error",
     "traceback": [
      "\u001b[0;31m---------------------------------------------------------------------------\u001b[0m",
      "\u001b[0;31mAttributeError\u001b[0m                            Traceback (most recent call last)",
      "\u001b[0;32m<ipython-input-288-d45a9260fafe>\u001b[0m in \u001b[0;36m<module>\u001b[0;34m\u001b[0m\n\u001b[0;32m----> 1\u001b[0;31m \u001b[0mreview\u001b[0m\u001b[0;34m.\u001b[0m\u001b[0mtext\u001b[0m\u001b[0;34m\u001b[0m\u001b[0;34m\u001b[0m\u001b[0m\n\u001b[0m",
      "\u001b[0;32m~/miniconda3/envs/lab_env/lib/python3.7/site-packages/bs4/element.py\u001b[0m in \u001b[0;36m__getattr__\u001b[0;34m(self, key)\u001b[0m\n\u001b[1;32m   2159\u001b[0m         \u001b[0;34m\"\"\"Raise a helpful exception to explain a common code fix.\"\"\"\u001b[0m\u001b[0;34m\u001b[0m\u001b[0;34m\u001b[0m\u001b[0m\n\u001b[1;32m   2160\u001b[0m         raise AttributeError(\n\u001b[0;32m-> 2161\u001b[0;31m             \u001b[0;34m\"ResultSet object has no attribute '%s'. You're probably treating a list of elements like a single element. Did you call find_all() when you meant to call find()?\"\u001b[0m \u001b[0;34m%\u001b[0m \u001b[0mkey\u001b[0m\u001b[0;34m\u001b[0m\u001b[0;34m\u001b[0m\u001b[0m\n\u001b[0m\u001b[1;32m   2162\u001b[0m         )\n",
      "\u001b[0;31mAttributeError\u001b[0m: ResultSet object has no attribute 'text'. You're probably treating a list of elements like a single element. Did you call find_all() when you meant to call find()?"
     ]
    }
   ],
   "source": [
    "review.text"
   ]
  },
  {
   "cell_type": "code",
   "execution_count": 231,
   "metadata": {},
   "outputs": [
    {
     "ename": "AttributeError",
     "evalue": "ResultSet object has no attribute 'find_all'. You're probably treating a list of elements like a single element. Did you call find_all() when you meant to call find()?",
     "output_type": "error",
     "traceback": [
      "\u001b[0;31m---------------------------------------------------------------------------\u001b[0m",
      "\u001b[0;31mAttributeError\u001b[0m                            Traceback (most recent call last)",
      "\u001b[0;32m<ipython-input-231-da7b66070feb>\u001b[0m in \u001b[0;36m<module>\u001b[0;34m\u001b[0m\n\u001b[0;32m----> 1\u001b[0;31m \u001b[0mrows\u001b[0m \u001b[0;34m=\u001b[0m \u001b[0mreview\u001b[0m\u001b[0;34m.\u001b[0m\u001b[0mfind_all\u001b[0m\u001b[0;34m(\u001b[0m\u001b[0;34m)\u001b[0m\u001b[0;34m\u001b[0m\u001b[0;34m\u001b[0m\u001b[0m\n\u001b[0m",
      "\u001b[0;32m~/miniconda3/envs/lab_env/lib/python3.7/site-packages/bs4/element.py\u001b[0m in \u001b[0;36m__getattr__\u001b[0;34m(self, key)\u001b[0m\n\u001b[1;32m   2159\u001b[0m         \u001b[0;34m\"\"\"Raise a helpful exception to explain a common code fix.\"\"\"\u001b[0m\u001b[0;34m\u001b[0m\u001b[0;34m\u001b[0m\u001b[0m\n\u001b[1;32m   2160\u001b[0m         raise AttributeError(\n\u001b[0;32m-> 2161\u001b[0;31m             \u001b[0;34m\"ResultSet object has no attribute '%s'. You're probably treating a list of elements like a single element. Did you call find_all() when you meant to call find()?\"\u001b[0m \u001b[0;34m%\u001b[0m \u001b[0mkey\u001b[0m\u001b[0;34m\u001b[0m\u001b[0;34m\u001b[0m\u001b[0m\n\u001b[0m\u001b[1;32m   2162\u001b[0m         )\n",
      "\u001b[0;31mAttributeError\u001b[0m: ResultSet object has no attribute 'find_all'. You're probably treating a list of elements like a single element. Did you call find_all() when you meant to call find()?"
     ]
    }
   ],
   "source": [
    "rows = review.find_all()"
   ]
  },
  {
   "cell_type": "code",
   "execution_count": 297,
   "metadata": {},
   "outputs": [],
   "source": [
    "for a in soup.find_all('div', {'id':'page0'}):\n",
    "    x = a.get('class')\n",
    "    print(x)"
   ]
  },
  {
   "cell_type": "markdown",
   "metadata": {},
   "source": [
    "# CREATE THE DATAFRAME"
   ]
  },
  {
   "cell_type": "code",
   "execution_count": 33,
   "metadata": {},
   "outputs": [
    {
     "data": {
      "text/html": [
       "<div>\n",
       "<style scoped>\n",
       "    .dataframe tbody tr th:only-of-type {\n",
       "        vertical-align: middle;\n",
       "    }\n",
       "\n",
       "    .dataframe tbody tr th {\n",
       "        vertical-align: top;\n",
       "    }\n",
       "\n",
       "    .dataframe thead th {\n",
       "        text-align: right;\n",
       "    }\n",
       "</style>\n",
       "<table border=\"1\" class=\"dataframe\">\n",
       "  <thead>\n",
       "    <tr style=\"text-align: right;\">\n",
       "      <th></th>\n",
       "      <th>title</th>\n",
       "      <th>publication</th>\n",
       "      <th>points</th>\n",
       "      <th>author</th>\n",
       "      <th>time_ago</th>\n",
       "    </tr>\n",
       "  </thead>\n",
       "  <tbody>\n",
       "    <tr>\n",
       "      <th>0</th>\n",
       "      <td>ai-jobs.net now with jobmarks for AI/ML/DS jobs</td>\n",
       "      <td>ai-jobs.net</td>\n",
       "      <td>\\n        2 points</td>\n",
       "      <td>pat</td>\n",
       "      <td>1 days ago</td>\n",
       "    </tr>\n",
       "    <tr>\n",
       "      <th>1</th>\n",
       "      <td>📚 The online courses you must take to be a bet...</td>\n",
       "      <td>medium.com</td>\n",
       "      <td>\\n        4 points</td>\n",
       "      <td>thegurus</td>\n",
       "      <td>3 days ago</td>\n",
       "    </tr>\n",
       "    <tr>\n",
       "      <th>2</th>\n",
       "      <td>How to build fair ML models?</td>\n",
       "      <td>medium.com</td>\n",
       "      <td>\\n        3 points</td>\n",
       "      <td>acingai</td>\n",
       "      <td>3 days ago</td>\n",
       "    </tr>\n",
       "    <tr>\n",
       "      <th>3</th>\n",
       "      <td>Join the NLP Summit for FREE</td>\n",
       "      <td>johnsnowlabs.com</td>\n",
       "      <td>\\n        6 points</td>\n",
       "      <td>dsselevate</td>\n",
       "      <td>10 days ago</td>\n",
       "    </tr>\n",
       "    <tr>\n",
       "      <th>4</th>\n",
       "      <td>Find remote work in Data Science</td>\n",
       "      <td>dsremote.work</td>\n",
       "      <td>\\n        7 points</td>\n",
       "      <td>pat</td>\n",
       "      <td>12 days ago</td>\n",
       "    </tr>\n",
       "  </tbody>\n",
       "</table>\n",
       "</div>"
      ],
      "text/plain": [
       "                                               title       publication  \\\n",
       "0    ai-jobs.net now with jobmarks for AI/ML/DS jobs       ai-jobs.net   \n",
       "1  📚 The online courses you must take to be a bet...        medium.com   \n",
       "2                       How to build fair ML models?        medium.com   \n",
       "3                       Join the NLP Summit for FREE  johnsnowlabs.com   \n",
       "4                   Find remote work in Data Science     dsremote.work   \n",
       "\n",
       "               points      author     time_ago  \n",
       "0  \\n        2 points         pat   1 days ago  \n",
       "1  \\n        4 points    thegurus   3 days ago  \n",
       "2  \\n        3 points     acingai   3 days ago  \n",
       "3  \\n        6 points  dsselevate  10 days ago  \n",
       "4  \\n        7 points         pat  12 days ago  "
      ]
     },
     "execution_count": 33,
     "metadata": {},
     "output_type": "execute_result"
    }
   ],
   "source": [
    "import pandas as pd\n",
    "\n",
    "df = pd.DataFrame(rows_refactored, columns=['title', 'publication', 'points', 'author', 'time_ago'])\n",
    "\n",
    "df.head()"
   ]
  },
  {
   "cell_type": "code",
   "execution_count": 34,
   "metadata": {},
   "outputs": [
    {
     "data": {
      "text/html": [
       "<div>\n",
       "<style scoped>\n",
       "    .dataframe tbody tr th:only-of-type {\n",
       "        vertical-align: middle;\n",
       "    }\n",
       "\n",
       "    .dataframe tbody tr th {\n",
       "        vertical-align: top;\n",
       "    }\n",
       "\n",
       "    .dataframe thead th {\n",
       "        text-align: right;\n",
       "    }\n",
       "</style>\n",
       "<table border=\"1\" class=\"dataframe\">\n",
       "  <thead>\n",
       "    <tr style=\"text-align: right;\">\n",
       "      <th></th>\n",
       "      <th>title</th>\n",
       "      <th>publication</th>\n",
       "      <th>points</th>\n",
       "      <th>author</th>\n",
       "      <th>time_ago</th>\n",
       "    </tr>\n",
       "  </thead>\n",
       "  <tbody>\n",
       "    <tr>\n",
       "      <th>0</th>\n",
       "      <td>ai-jobs.net now with jobmarks for AI/ML/DS jobs</td>\n",
       "      <td>ai-jobs.net</td>\n",
       "      <td>2</td>\n",
       "      <td>pat</td>\n",
       "      <td>1 days ago</td>\n",
       "    </tr>\n",
       "    <tr>\n",
       "      <th>1</th>\n",
       "      <td>📚 The online courses you must take to be a bet...</td>\n",
       "      <td>medium.com</td>\n",
       "      <td>4</td>\n",
       "      <td>thegurus</td>\n",
       "      <td>3 days ago</td>\n",
       "    </tr>\n",
       "    <tr>\n",
       "      <th>2</th>\n",
       "      <td>How to build fair ML models?</td>\n",
       "      <td>medium.com</td>\n",
       "      <td>3</td>\n",
       "      <td>acingai</td>\n",
       "      <td>3 days ago</td>\n",
       "    </tr>\n",
       "    <tr>\n",
       "      <th>3</th>\n",
       "      <td>Join the NLP Summit for FREE</td>\n",
       "      <td>johnsnowlabs.com</td>\n",
       "      <td>6</td>\n",
       "      <td>dsselevate</td>\n",
       "      <td>10 days ago</td>\n",
       "    </tr>\n",
       "    <tr>\n",
       "      <th>4</th>\n",
       "      <td>Find remote work in Data Science</td>\n",
       "      <td>dsremote.work</td>\n",
       "      <td>7</td>\n",
       "      <td>pat</td>\n",
       "      <td>12 days ago</td>\n",
       "    </tr>\n",
       "  </tbody>\n",
       "</table>\n",
       "</div>"
      ],
      "text/plain": [
       "                                               title       publication  \\\n",
       "0    ai-jobs.net now with jobmarks for AI/ML/DS jobs       ai-jobs.net   \n",
       "1  📚 The online courses you must take to be a bet...        medium.com   \n",
       "2                       How to build fair ML models?        medium.com   \n",
       "3                       Join the NLP Summit for FREE  johnsnowlabs.com   \n",
       "4                   Find remote work in Data Science     dsremote.work   \n",
       "\n",
       "   points      author     time_ago  \n",
       "0       2         pat   1 days ago  \n",
       "1       4    thegurus   3 days ago  \n",
       "2       3     acingai   3 days ago  \n",
       "3       6  dsselevate  10 days ago  \n",
       "4       7         pat  12 days ago  "
      ]
     },
     "execution_count": 34,
     "metadata": {},
     "output_type": "execute_result"
    }
   ],
   "source": [
    "import re\n",
    "\n",
    "# df['points'] = df['points'].str.replace(r'\\D', '').astype(int)\n",
    "df['points'] = df['points'].apply(lambda x: re.sub('\\D', '', x)).astype(int)\n",
    "\n",
    "df.head()"
   ]
  },
  {
   "cell_type": "code",
   "execution_count": 38,
   "metadata": {},
   "outputs": [
    {
     "data": {
      "text/plain": [
       "title          object\n",
       "publication    object\n",
       "points          int64\n",
       "author         object\n",
       "time_ago       object\n",
       "dtype: object"
      ]
     },
     "execution_count": 38,
     "metadata": {},
     "output_type": "execute_result"
    }
   ],
   "source": [
    "df.dtypes"
   ]
  },
  {
   "cell_type": "markdown",
   "metadata": {},
   "source": [
    "### 2.2 Pandas read_html"
   ]
  },
  {
   "cell_type": "code",
   "execution_count": 44,
   "metadata": {},
   "outputs": [
    {
     "data": {
      "text/plain": [
       "[                                                   0\n",
       " 0       DataTau  new |  ask |  show |  submit  login\n",
       " 1  1.  ai-jobs.net now with jobmarks for AI/ML/DS...\n",
       " 2  Made with ❤️ by The Gurus |  Support |  Contac...,\n",
       "     0                                      1      2\n",
       " 0 NaN  DataTau  new |  ask |  show |  submit  login,\n",
       "        0   1                                                  2\n",
       " 0    1.0 NaN  ai-jobs.net now with jobmarks for AI/ML/DS job...\n",
       " 1    NaN NaN            2 points by  pat  1 days ago |  discuss\n",
       " 2    NaN NaN                                                NaN\n",
       " 3    2.0 NaN  📚 The online courses you must take to be a bet...\n",
       " 4    NaN NaN       4 points by  thegurus  3 days ago |  discuss\n",
       " ..   ...  ..                                                ...\n",
       " 87  30.0 NaN  Sunbiz Forum Review; Register With #500 and Ea...\n",
       " 88   NaN NaN        1 point by  kennybbb  2 days ago |  discuss\n",
       " 89   NaN NaN                                                NaN\n",
       " 90   NaN NaN                                                NaN\n",
       " 91   NaN NaN                                               More\n",
       " \n",
       " [92 rows x 3 columns]]"
      ]
     },
     "execution_count": 44,
     "metadata": {},
     "output_type": "execute_result"
    }
   ],
   "source": [
    "pd.read_html(url)"
   ]
  },
  {
   "cell_type": "code",
   "execution_count": 46,
   "metadata": {},
   "outputs": [
    {
     "data": {
      "text/plain": [
       "list"
      ]
     },
     "execution_count": 46,
     "metadata": {},
     "output_type": "execute_result"
    }
   ],
   "source": [
    "type(pd.read_html(url))"
   ]
  },
  {
   "cell_type": "code",
   "execution_count": 47,
   "metadata": {},
   "outputs": [
    {
     "data": {
      "text/plain": [
       "3"
      ]
     },
     "execution_count": 47,
     "metadata": {},
     "output_type": "execute_result"
    }
   ],
   "source": [
    "len(pd.read_html(url))"
   ]
  },
  {
   "cell_type": "code",
   "execution_count": 48,
   "metadata": {},
   "outputs": [
    {
     "data": {
      "text/plain": [
       "pandas.core.frame.DataFrame"
      ]
     },
     "execution_count": 48,
     "metadata": {},
     "output_type": "execute_result"
    }
   ],
   "source": [
    "type(pd.read_html(url)[0])"
   ]
  },
  {
   "cell_type": "code",
   "execution_count": 49,
   "metadata": {},
   "outputs": [
    {
     "data": {
      "text/plain": [
       "[       0   1                                                  2\n",
       " 0    1.0 NaN  ai-jobs.net now with jobmarks for AI/ML/DS job...\n",
       " 1    NaN NaN            2 points by  pat  1 days ago |  discuss\n",
       " 2    NaN NaN                                                NaN\n",
       " 3    2.0 NaN  📚 The online courses you must take to be a bet...\n",
       " 4    NaN NaN       4 points by  thegurus  3 days ago |  discuss\n",
       " ..   ...  ..                                                ...\n",
       " 87  30.0 NaN  Sunbiz Forum Review; Register With #500 and Ea...\n",
       " 88   NaN NaN        1 point by  kennybbb  2 days ago |  discuss\n",
       " 89   NaN NaN                                                NaN\n",
       " 90   NaN NaN                                                NaN\n",
       " 91   NaN NaN                                               More\n",
       " \n",
       " [92 rows x 3 columns]]"
      ]
     },
     "execution_count": 49,
     "metadata": {},
     "output_type": "execute_result"
    }
   ],
   "source": [
    "pd.read_html(url, attrs={'class':'itemlist'})"
   ]
  },
  {
   "cell_type": "code",
   "execution_count": 50,
   "metadata": {},
   "outputs": [
    {
     "data": {
      "text/html": [
       "<div>\n",
       "<style scoped>\n",
       "    .dataframe tbody tr th:only-of-type {\n",
       "        vertical-align: middle;\n",
       "    }\n",
       "\n",
       "    .dataframe tbody tr th {\n",
       "        vertical-align: top;\n",
       "    }\n",
       "\n",
       "    .dataframe thead th {\n",
       "        text-align: right;\n",
       "    }\n",
       "</style>\n",
       "<table border=\"1\" class=\"dataframe\">\n",
       "  <thead>\n",
       "    <tr style=\"text-align: right;\">\n",
       "      <th></th>\n",
       "      <th>0</th>\n",
       "      <th>1</th>\n",
       "      <th>2</th>\n",
       "    </tr>\n",
       "  </thead>\n",
       "  <tbody>\n",
       "    <tr>\n",
       "      <th>0</th>\n",
       "      <td>1.0</td>\n",
       "      <td>NaN</td>\n",
       "      <td>ai-jobs.net now with jobmarks for AI/ML/DS job...</td>\n",
       "    </tr>\n",
       "    <tr>\n",
       "      <th>1</th>\n",
       "      <td>NaN</td>\n",
       "      <td>NaN</td>\n",
       "      <td>2 points by  pat  1 days ago |  discuss</td>\n",
       "    </tr>\n",
       "    <tr>\n",
       "      <th>2</th>\n",
       "      <td>NaN</td>\n",
       "      <td>NaN</td>\n",
       "      <td>NaN</td>\n",
       "    </tr>\n",
       "    <tr>\n",
       "      <th>3</th>\n",
       "      <td>2.0</td>\n",
       "      <td>NaN</td>\n",
       "      <td>📚 The online courses you must take to be a bet...</td>\n",
       "    </tr>\n",
       "    <tr>\n",
       "      <th>4</th>\n",
       "      <td>NaN</td>\n",
       "      <td>NaN</td>\n",
       "      <td>4 points by  thegurus  3 days ago |  discuss</td>\n",
       "    </tr>\n",
       "    <tr>\n",
       "      <th>...</th>\n",
       "      <td>...</td>\n",
       "      <td>...</td>\n",
       "      <td>...</td>\n",
       "    </tr>\n",
       "    <tr>\n",
       "      <th>87</th>\n",
       "      <td>30.0</td>\n",
       "      <td>NaN</td>\n",
       "      <td>Sunbiz Forum Review; Register With #500 and Ea...</td>\n",
       "    </tr>\n",
       "    <tr>\n",
       "      <th>88</th>\n",
       "      <td>NaN</td>\n",
       "      <td>NaN</td>\n",
       "      <td>1 point by  kennybbb  2 days ago |  discuss</td>\n",
       "    </tr>\n",
       "    <tr>\n",
       "      <th>89</th>\n",
       "      <td>NaN</td>\n",
       "      <td>NaN</td>\n",
       "      <td>NaN</td>\n",
       "    </tr>\n",
       "    <tr>\n",
       "      <th>90</th>\n",
       "      <td>NaN</td>\n",
       "      <td>NaN</td>\n",
       "      <td>NaN</td>\n",
       "    </tr>\n",
       "    <tr>\n",
       "      <th>91</th>\n",
       "      <td>NaN</td>\n",
       "      <td>NaN</td>\n",
       "      <td>More</td>\n",
       "    </tr>\n",
       "  </tbody>\n",
       "</table>\n",
       "<p>92 rows × 3 columns</p>\n",
       "</div>"
      ],
      "text/plain": [
       "       0   1                                                  2\n",
       "0    1.0 NaN  ai-jobs.net now with jobmarks for AI/ML/DS job...\n",
       "1    NaN NaN            2 points by  pat  1 days ago |  discuss\n",
       "2    NaN NaN                                                NaN\n",
       "3    2.0 NaN  📚 The online courses you must take to be a bet...\n",
       "4    NaN NaN       4 points by  thegurus  3 days ago |  discuss\n",
       "..   ...  ..                                                ...\n",
       "87  30.0 NaN  Sunbiz Forum Review; Register With #500 and Ea...\n",
       "88   NaN NaN        1 point by  kennybbb  2 days ago |  discuss\n",
       "89   NaN NaN                                                NaN\n",
       "90   NaN NaN                                                NaN\n",
       "91   NaN NaN                                               More\n",
       "\n",
       "[92 rows x 3 columns]"
      ]
     },
     "execution_count": 50,
     "metadata": {},
     "output_type": "execute_result"
    }
   ],
   "source": [
    "pd.read_html(url, attrs={'class':'itemlist'})[0]"
   ]
  },
  {
   "cell_type": "code",
   "execution_count": 54,
   "metadata": {},
   "outputs": [
    {
     "name": "stdout",
     "output_type": "stream",
     "text": [
      "page 1 parsed!\n",
      "page 2 parsed!\n",
      "page 3 parsed!\n",
      "page 4 parsed!\n",
      "page 5 parsed!\n",
      "page 6 parsed!\n",
      "page 7 parsed!\n",
      "page 8 parsed!\n",
      "page 9 parsed!\n",
      "page 10 parsed!\n"
     ]
    }
   ],
   "source": [
    "# for scraping the rest of DataTau\n",
    "\n",
    "num_pages = 10\n",
    "\n",
    "def function_to_parse_single_page(url):\n",
    "    pass\n",
    "\n",
    "\n",
    "for i in range(num_pages):\n",
    "    url = f'https://datatau.net/new/{i+1}'\n",
    "    \n",
    "    function_to_parse_single_page(url)\n",
    "    \n",
    "    print(f'page {i+1} parsed!')"
   ]
  },
  {
   "cell_type": "markdown",
   "metadata": {},
   "source": [
    "<div style=\"padding-top: 25px; float: right\">\n",
    "    <div>    \n",
    "        <i>&nbsp;&nbsp;© Copyright by</i>\n",
    "    </div>\n",
    "    <div>\n",
    "        <a href=\"https://whiteboxml.com\">\n",
    "            <img src=\"https://whiteboxml.com/static/img/logo/black_bg_white.svg\" width=\"125\">\n",
    "        </a>\n",
    "    </div>\n",
    "</div>"
   ]
  }
 ],
 "metadata": {
  "kernelspec": {
   "display_name": "Python [conda env:lab_env]",
   "language": "python",
   "name": "conda-env-lab_env-py"
  },
  "language_info": {
   "codemirror_mode": {
    "name": "ipython",
    "version": 3
   },
   "file_extension": ".py",
   "mimetype": "text/x-python",
   "name": "python",
   "nbconvert_exporter": "python",
   "pygments_lexer": "ipython3",
   "version": "3.7.3"
  }
 },
 "nbformat": 4,
 "nbformat_minor": 4
}
